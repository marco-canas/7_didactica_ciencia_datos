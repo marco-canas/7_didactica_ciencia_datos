{
 "cells": [
  {
   "cell_type": "code",
   "execution_count": 1,
   "metadata": {},
   "outputs": [
    {
     "name": "stdout",
     "output_type": "stream",
     "text": [
      "Carpeta creada: C:/Users/marco/Documentos/investigacion/didactica_ciencia_datos/1_curso_machine_learning/11_UnsupervisedLearningTechniques\\1\n",
      "Carpeta creada: C:/Users/marco/Documentos/investigacion/didactica_ciencia_datos/1_curso_machine_learning/11_UnsupervisedLearningTechniques\\2\n",
      "Carpeta creada: C:/Users/marco/Documentos/investigacion/didactica_ciencia_datos/1_curso_machine_learning/11_UnsupervisedLearningTechniques\\3\n",
      "Carpeta creada: C:/Users/marco/Documentos/investigacion/didactica_ciencia_datos/1_curso_machine_learning/11_UnsupervisedLearningTechniques\\4\n",
      "Carpeta creada: C:/Users/marco/Documentos/investigacion/didactica_ciencia_datos/1_curso_machine_learning/11_UnsupervisedLearningTechniques\\5\n",
      "Carpeta creada: C:/Users/marco/Documentos/investigacion/didactica_ciencia_datos/1_curso_machine_learning/11_UnsupervisedLearningTechniques\\6\n",
      "Carpeta creada: C:/Users/marco/Documentos/investigacion/didactica_ciencia_datos/1_curso_machine_learning/11_UnsupervisedLearningTechniques\\7\n",
      "Carpeta creada: C:/Users/marco/Documentos/investigacion/didactica_ciencia_datos/1_curso_machine_learning/11_UnsupervisedLearningTechniques\\8\n",
      "Carpeta creada: C:/Users/marco/Documentos/investigacion/didactica_ciencia_datos/1_curso_machine_learning/11_UnsupervisedLearningTechniques\\9\n",
      "Carpeta creada: C:/Users/marco/Documentos/investigacion/didactica_ciencia_datos/1_curso_machine_learning/11_UnsupervisedLearningTechniques\\10\n",
      "Carpeta creada: C:/Users/marco/Documentos/investigacion/didactica_ciencia_datos/1_curso_machine_learning/11_UnsupervisedLearningTechniques\\11\n",
      "Carpeta creada: C:/Users/marco/Documentos/investigacion/didactica_ciencia_datos/1_curso_machine_learning/11_UnsupervisedLearningTechniques\\12\n",
      "Carpeta creada: C:/Users/marco/Documentos/investigacion/didactica_ciencia_datos/1_curso_machine_learning/11_UnsupervisedLearningTechniques\\13\n",
      "Carpeta creada: C:/Users/marco/Documentos/investigacion/didactica_ciencia_datos/1_curso_machine_learning/11_UnsupervisedLearningTechniques\\14\n",
      "Carpeta creada: C:/Users/marco/Documentos/investigacion/didactica_ciencia_datos/1_curso_machine_learning/11_UnsupervisedLearningTechniques\\15\n",
      "Carpeta creada: C:/Users/marco/Documentos/investigacion/didactica_ciencia_datos/1_curso_machine_learning/11_UnsupervisedLearningTechniques\\16\n",
      "Carpeta creada: C:/Users/marco/Documentos/investigacion/didactica_ciencia_datos/1_curso_machine_learning/11_UnsupervisedLearningTechniques\\17\n",
      "Carpeta creada: C:/Users/marco/Documentos/investigacion/didactica_ciencia_datos/1_curso_machine_learning/11_UnsupervisedLearningTechniques\\18\n",
      "Carpeta creada: C:/Users/marco/Documentos/investigacion/didactica_ciencia_datos/1_curso_machine_learning/11_UnsupervisedLearningTechniques\\19\n",
      "Carpeta creada: C:/Users/marco/Documentos/investigacion/didactica_ciencia_datos/1_curso_machine_learning/11_UnsupervisedLearningTechniques\\20\n",
      "Carpeta creada: C:/Users/marco/Documentos/investigacion/didactica_ciencia_datos/1_curso_machine_learning/11_UnsupervisedLearningTechniques\\21\n",
      "Carpeta creada: C:/Users/marco/Documentos/investigacion/didactica_ciencia_datos/1_curso_machine_learning/11_UnsupervisedLearningTechniques\\22\n",
      "Carpeta creada: C:/Users/marco/Documentos/investigacion/didactica_ciencia_datos/1_curso_machine_learning/11_UnsupervisedLearningTechniques\\23\n",
      "Carpeta creada: C:/Users/marco/Documentos/investigacion/didactica_ciencia_datos/1_curso_machine_learning/11_UnsupervisedLearningTechniques\\24\n",
      "Carpeta creada: C:/Users/marco/Documentos/investigacion/didactica_ciencia_datos/1_curso_machine_learning/11_UnsupervisedLearningTechniques\\25\n",
      "Carpeta creada: C:/Users/marco/Documentos/investigacion/didactica_ciencia_datos/1_curso_machine_learning/11_UnsupervisedLearningTechniques\\26\n",
      "Carpeta creada: C:/Users/marco/Documentos/investigacion/didactica_ciencia_datos/1_curso_machine_learning/11_UnsupervisedLearningTechniques\\27\n",
      "Carpeta creada: C:/Users/marco/Documentos/investigacion/didactica_ciencia_datos/1_curso_machine_learning/11_UnsupervisedLearningTechniques\\28\n",
      "Carpeta creada: C:/Users/marco/Documentos/investigacion/didactica_ciencia_datos/1_curso_machine_learning/11_UnsupervisedLearningTechniques\\29\n",
      "Carpeta creada: C:/Users/marco/Documentos/investigacion/didactica_ciencia_datos/1_curso_machine_learning/11_UnsupervisedLearningTechniques\\30\n",
      "Carpeta creada: C:/Users/marco/Documentos/investigacion/didactica_ciencia_datos/1_curso_machine_learning/11_UnsupervisedLearningTechniques\\31\n",
      "Carpeta creada: C:/Users/marco/Documentos/investigacion/didactica_ciencia_datos/1_curso_machine_learning/11_UnsupervisedLearningTechniques\\32\n",
      "Carpeta creada: C:/Users/marco/Documentos/investigacion/didactica_ciencia_datos/1_curso_machine_learning/11_UnsupervisedLearningTechniques\\33\n",
      "Carpeta creada: C:/Users/marco/Documentos/investigacion/didactica_ciencia_datos/1_curso_machine_learning/11_UnsupervisedLearningTechniques\\34\n",
      "Carpeta creada: C:/Users/marco/Documentos/investigacion/didactica_ciencia_datos/1_curso_machine_learning/11_UnsupervisedLearningTechniques\\35\n",
      "Carpeta creada: C:/Users/marco/Documentos/investigacion/didactica_ciencia_datos/1_curso_machine_learning/11_UnsupervisedLearningTechniques\\36\n",
      "Carpeta creada: C:/Users/marco/Documentos/investigacion/didactica_ciencia_datos/1_curso_machine_learning/11_UnsupervisedLearningTechniques\\37\n",
      "Carpeta creada: C:/Users/marco/Documentos/investigacion/didactica_ciencia_datos/1_curso_machine_learning/11_UnsupervisedLearningTechniques\\38\n",
      "Carpeta creada: C:/Users/marco/Documentos/investigacion/didactica_ciencia_datos/1_curso_machine_learning/11_UnsupervisedLearningTechniques\\39\n",
      "Carpeta creada: C:/Users/marco/Documentos/investigacion/didactica_ciencia_datos/1_curso_machine_learning/11_UnsupervisedLearningTechniques\\40\n"
     ]
    }
   ],
   "source": [
    "import os\n",
    "\n",
    "# Ruta base donde se crearán las carpetas\n",
    "base_path = r\"C:/Users/marco/Documentos/investigacion/didactica_ciencia_datos/1_curso_machine_learning/11_UnsupervisedLearningTechniques\"\n",
    "\n",
    "# Crear las 40 carpetas numeradas\n",
    "for i in range(1, 41):\n",
    "    folder_name = str(i)  # Nombre de la carpeta (números del 1 al 40)\n",
    "    folder_path = os.path.join(base_path, folder_name)  # Combinar ruta base con el nombre de la carpeta\n",
    "    try:\n",
    "        os.makedirs(folder_path)  # Crear la carpeta\n",
    "        print(f\"Carpeta creada: {folder_path}\")\n",
    "    except FileExistsError:\n",
    "        print(f\"La carpeta ya existe: {folder_path}\")\n",
    "    except Exception as e:\n",
    "        print(f\"Error al crear la carpeta {folder_name}: {e}\")\n"
   ]
  },
  {
   "cell_type": "code",
   "execution_count": null,
   "metadata": {},
   "outputs": [],
   "source": []
  },
  {
   "cell_type": "code",
   "execution_count": null,
   "metadata": {},
   "outputs": [],
   "source": []
  }
 ],
 "metadata": {
  "kernelspec": {
   "display_name": "venv",
   "language": "python",
   "name": "python3"
  },
  "language_info": {
   "codemirror_mode": {
    "name": "ipython",
    "version": 3
   },
   "file_extension": ".py",
   "mimetype": "text/x-python",
   "name": "python",
   "nbconvert_exporter": "python",
   "pygments_lexer": "ipython3",
   "version": "3.12.6"
  }
 },
 "nbformat": 4,
 "nbformat_minor": 2
}
