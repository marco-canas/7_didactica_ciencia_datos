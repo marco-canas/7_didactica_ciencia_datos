{
 "cells": [
  {
   "cell_type": "markdown",
   "id": "dc06dec7",
   "metadata": {
    "slideshow": {
     "slide_type": "slide"
    }
   },
   "source": [
    "<table align=\"left\">\n",
    "  <td>\n",
    "    <a href=\"https://colab.research.google.com/github/marco-canas/didactica_ciencia_datos/blob/main/1_curso_machine_learning/1_evaluacion_oral_tarea_quiz_parcial.ipynb\" target=\"_parent\"><img src=\"https://colab.research.google.com/assets/colab-badge.svg\" alt=\"Open In Colab\"/></a>\n",
    "  </td>\n",
    "  <td>\n",
    "    <a target=\"_blank\" href=\"https://kaggle.com/kernels/welcome?src=https://github.com/marco-canas/didactica_ciencia_datos/blob/main/1_curso_machine_learning/1_evaluacion_oral_tarea_quiz_parcial.ipynb\"><img src=\"https://kaggle.com/static/images/open-in-kaggle.svg\" /></a>\n",
    "  </td>\n",
    "</table>"
   ]
  },
  {
   "cell_type": "markdown",
   "id": "e0c5b198",
   "metadata": {
    "slideshow": {
     "slide_type": "slide"
    }
   },
   "source": [
    "### [Video de apoyo a la lectura interactiva y experimental de este cuaderno]()"
   ]
  },
  {
   "cell_type": "markdown",
   "id": "41e82203",
   "metadata": {
    "slideshow": {
     "slide_type": "slide"
    }
   },
   "source": [
    "## [Vínculo al programa del curso:  ]()"
   ]
  },
  {
   "cell_type": "markdown",
   "id": "ca46c23b",
   "metadata": {
    "slideshow": {
     "slide_type": "slide"
    }
   },
   "source": [
    "# Modelo general de clase: [aula invertida](https://www3.gobiernodecanarias.org/medusa/ecoescuela/pedagotic/aprendizaje-invertido-flipped-classroom/)\n"
   ]
  },
  {
   "cell_type": "markdown",
   "id": "7f9be90f",
   "metadata": {
    "slideshow": {
     "slide_type": "slide"
    }
   },
   "source": [
    "# Fomento de la lectura literaria asociada a Ingeniería agropecuaria y licenciatura en Matemáticas y administración de empresas\n",
    "\n",
    "[Hábitos atómicos](https://github.com/marco-canas/habitos_atomicos/blob/main/13_como_dejar_de_postergar_usando_la_regla_de_los_dos_minutos/1_13_como_dejar_de_postergar_usando_la_regla_de_los_dos_minutos.ipynb)"
   ]
  },
  {
   "cell_type": "markdown",
   "id": "96775931",
   "metadata": {
    "slideshow": {
     "slide_type": "slide"
    }
   },
   "source": [
    "# Título de la clase: Realización evaluación oral, de Tareas en cuadernos Jupyter, Quiz o Parcial de selección múltiple o de preguntas cerradas.  \n",
    "\n"
   ]
  },
  {
   "cell_type": "markdown",
   "id": "afdd0617",
   "metadata": {},
   "source": [
    "### **Diseño de Evaluación para la Clase: \"La función `sns.pairplot()` de Seaborn y el análisis dinámico de sus parámetros con `ipywidgets`\"**\n",
    "\n",
    "#### **1. Evaluación: Quiz**\n",
    "\n",
    "**Propósito:** Evaluar el conocimiento básico de los estudiantes sobre los conceptos fundamentales de `sns.pairplot()` y su configuración.\n",
    "\n",
    "**Formato:**\n",
    "- 10 preguntas de opción múltiple.\n",
    "- Puntuación total: 10 puntos (1 punto por pregunta).\n",
    "\n",
    "**Ejemplo de preguntas:**\n",
    "1. ¿Qué parámetro de `sns.pairplot()` se utiliza para asignar colores a diferentes categorías en los datos?  \n",
    "   a) `diag_kind`  \n",
    "   b) `hue`  \n",
    "   c) `vars`  \n",
    "   d) `palette`  \n",
    "   **Respuesta correcta:** b) `hue`\n",
    "\n",
    "2. ¿Cuál de las siguientes opciones no es un valor válido para el parámetro `diag_kind` en `sns.pairplot()`?  \n",
    "   a) `kde`  \n",
    "   b) `scatter`  \n",
    "   c) `hist`  \n",
    "   d) Ninguna de las anteriores  \n",
    "   **Respuesta correcta:** b) `scatter`\n",
    "\n",
    "3. ¿Cuál es el propósito de usar `ipywidgets` en la visualización con `sns.pairplot()`?  \n",
    "   a) Mejorar el rendimiento computacional.  \n",
    "   b) Agregar interactividad a la visualización.  \n",
    "   c) Cambiar dinámicamente los parámetros sin modificar el código base.  \n",
    "   d) b y c.  \n",
    "   **Respuesta correcta:** d) b y c.\n",
    "\n",
    "---\n",
    "\n",
    "#### **2. Evaluación: Parcial**\n",
    "\n",
    "**Propósito:** Evaluar el entendimiento y la capacidad de los estudiantes para utilizar `sns.pairplot()` y personalizar sus parámetros en un entorno controlado.\n",
    "\n",
    "**Formato:** \n",
    "- Resolución de problemas en un cuaderno Jupyter.\n",
    "- Duración: 1 hora.\n",
    "- Puntuación total: 25 puntos.\n",
    "\n",
    "**Problemas:**\n",
    "1. **Ejercicio 1: Exploración básica (5 puntos)**  \n",
    "   Cargar el conjunto de datos Iris y generar un gráfico utilizando `sns.pairplot()` que muestre las relaciones entre todas las características, con colores basados en las categorías de `species`.\n",
    "\n",
    "2. **Ejercicio 2: Personalización avanzada (10 puntos)**  \n",
    "   Crear una función en Python que permita ajustar dinámicamente los parámetros `hue`, `diag_kind` y `palette` utilizando `ipywidgets`. Incluir ejemplos funcionales con gráficos.\n",
    "\n",
    "3. **Ejercicio 3: Análisis de resultados (10 puntos)**  \n",
    "   Usar un conjunto de datos proporcionado en el parcial para:\n",
    "   - Explorar relaciones entre 3 variables.\n",
    "   - Explicar las diferencias observadas al cambiar los valores de los parámetros `diag_kind` y `palette`.\n",
    "\n",
    "---\n",
    "\n",
    "#### **3. Evaluación: Proyectos**\n",
    "\n",
    "**Propósito:** Promover el aprendizaje basado en proyectos, donde los estudiantes integren conceptos, habilidades prácticas y herramientas en Python para explorar datos y comunicar resultados de forma efectiva.\n",
    "\n",
    "##### **Proyecto 1: Exploración visual y narrativa básica**\n",
    "- **Descripción:** \n",
    "  Explorar un conjunto de datos real, como el Titanic o uno obtenido de Kaggle, utilizando `sns.pairplot()`. \n",
    "- **Requisitos:**\n",
    "  1. Generar visualizaciones con `sns.pairplot()` que exploren al menos 4 relaciones clave entre variables.\n",
    "  2. Analizar cómo las configuraciones de los parámetros afectan las visualizaciones.\n",
    "  3. Crear un cuaderno Jupyter con una narrativa clara, exportándolo como HTML o PDF.\n",
    "- **Puntuación:** 20 puntos.\n",
    "- **Fecha de entrega:** Semana 2.\n",
    "\n",
    "##### **Proyecto 2: Interactividad y personalización**\n",
    "- **Descripción:** \n",
    "  Diseñar una aplicación interactiva utilizando `ipywidgets` para explorar visualizaciones dinámicas con `sns.pairplot()`.\n",
    "- **Requisitos:**\n",
    "  1. Implementar un conjunto de deslizadores y menús desplegables para personalizar al menos 4 parámetros (e.g., `vars`, `palette`, `diag_kind`, `hue`).\n",
    "  2. Explicar el impacto de cada parámetro en los gráficos generados.\n",
    "  3. Publicar el cuaderno en GitHub con una presentación explicativa en YouTube (duración: 5 minutos).\n",
    "- **Puntuación:** 30 puntos.\n",
    "- **Fecha de entrega:** Semana 4.\n",
    "\n",
    "##### **Proyecto 3: Informe completo y comunicación de resultados**\n",
    "- **Descripción:** \n",
    "  Elegir un conjunto de datos que represente un problema de interés (e.g., salud, economía, medio ambiente) y crear un informe visual que utilice `sns.pairplot()` para identificar patrones o anomalías.\n",
    "- **Requisitos:**\n",
    "  1. Realizar un análisis exploratorio completo utilizando gráficos personalizados.\n",
    "  2. Combinar `sns.pairplot()` con otras herramientas de Seaborn y Matplotlib.\n",
    "  3. Diseñar un video de 8-10 minutos que explique el análisis y publique los resultados en YouTube.\n",
    "  4. Entregar el cuaderno Jupyter con funciones bien documentadas y referencias claras.\n",
    "- **Puntuación:** 50 puntos.\n",
    "- **Fecha de entrega:** Semana 6.\n",
    "\n",
    "---\n",
    "\n",
    "#### **Criterios de evaluación para proyectos**\n",
    "1. **Correctitud técnica (40%):** Implementación adecuada de `sns.pairplot()` y sus parámetros.\n",
    "2. **Interactividad (20%):** Uso efectivo de `ipywidgets` para enriquecer la experiencia.\n",
    "3. **Narrativa (20%):** Claridad en la interpretación de resultados y en la comunicación de hallazgos.\n",
    "4. **Presentación (20%):** Calidad del cuaderno Jupyter, estructura, y gráficos; creatividad y claridad en los videos publicados. \n",
    "\n",
    "Este diseño asegura que los estudiantes practiquen habilidades técnicas, analíticas y comunicativas mientras exploran el potencial de visualización y análisis con Python."
   ]
  },
  {
   "cell_type": "code",
   "execution_count": null,
   "id": "f056121c",
   "metadata": {
    "vscode": {
     "languageId": "plaintext"
    }
   },
   "outputs": [],
   "source": []
  },
  {
   "cell_type": "markdown",
   "id": "fb9402bb",
   "metadata": {
    "slideshow": {
     "slide_type": "slide"
    }
   },
   "source": [
    "## Estrategias propuestas para la solución de las dificultades de aprendizaje detectadas"
   ]
  },
  {
   "cell_type": "markdown",
   "id": "2dd3bd5c",
   "metadata": {
    "slideshow": {
     "slide_type": "slide"
    }
   },
   "source": []
  },
  {
   "cell_type": "markdown",
   "id": "c6236d5d",
   "metadata": {},
   "source": [
    "# FODA del grupo y del profesor  \n",
    "\n",
    "* F: Fortalezas\n",
    "* O: Oportunidades\n",
    "* D: Dificultades\n",
    "* A: Amenazas."
   ]
  },
  {
   "cell_type": "markdown",
   "id": "b48f9542",
   "metadata": {},
   "source": [
    "## ¿Cómo se sintió en este espacio de enseñanza y aprendizaje?\n",
    "\n",
    "!Dios te bendiga¡"
   ]
  },
  {
   "cell_type": "markdown",
   "id": "10bce0d0",
   "metadata": {
    "slideshow": {
     "slide_type": "slide"
    }
   },
   "source": [
    "## Referentes "
   ]
  },
  {
   "cell_type": "markdown",
   "id": "d204c917",
   "metadata": {},
   "source": [
    "* [Grajales Vanegas, L. M., Restrepo Estrada, C. E., Restrepo Ochoa, S. I., & Ruíz De Villalba, F. (2015). Matemáticas I para las ciencias económicas.](https://github.com/marco-canas/fundamentos_de_la_aritmetica/blob/main/referentes/2_grajales_logica/grajales_lina_matemticas.pdf)\n",
    "  \n",
    "* Duval, R. (2004). Semiosis y pensamiento humano: registros semióticos y aprendizajes intelectuales. Universidad del Valle.\n",
    "\n",
    "* [Aylwin, C. U. (2011). Lógica, conjuntos y números. Universidad de los Andes, Consejo de Publicaciones, Colección: Ciencias Básicas, Serie: Matemáticas.](https://github.com/marco-canas/fundamentos_logica/blob/main/referentes/2_uzcategui/uscategui.pdf)\n",
    "  \n",
    "* [Chollet, F. (2021). Deep learning with Python. Simon and Schuster.](https://github.com/marco-canas/didactica_ciencia_datos/blob/main/2_referentes/chollet/Fran%C3%A7ois%20Chollet%20-%20Deep%20Learning%20with%20Python-Manning%20(2018).pdf)  \n",
    "  \n",
    "* [Watson, S., Stewart, J., & Redlin, L. (2009). Precálculo. Matemáticas para el cálculo.](https://github.com/marco-canas/calculo/blob/main/referents/1_precalculo_stewart/stewart_precalculo.pdf)  \n",
    "\n",
    "* [Purcell, E. J., Varberg, D., & Rigdon, S. E. (2007). Cálculo diferencial e integral. Pearson Educación.](https://github.com/marco-canas/calculo/blob/main/referents/purcell/purcell_calculo.pdf)\n",
    "\n",
    "  \n",
    "\n",
    "* [stewart cálculo](https://udeaeduco-my.sharepoint.com/:b:/g/personal/marco_canas_udea_edu_co/EZgXZjAp8QxPqOAim2hs6LcBNPLGjSHf-xwYnUVYkwa04w?e=RZdTCy)  \n",
    "\n",
    "* [larson](https://udeaeduco-my.sharepoint.com/:b:/g/personal/marco_canas_udea_edu_co/ES71ChFeO9ZDhW3TwC5Ijk8BjxUK3Pdqz_fjHxTTFAfIAg?e=VDEjfu)\n",
    "\n",
    "\n",
    "\n",
    "* [Recomendación de la UNESCO sobre ciencia abierta](https://unesdoc.unesco.org/ark:/48223/pf0000379949_spa)\n",
    "\n",
    "* [chatGPT](https://openai.com/blog/chatgpt)  \n",
    "\n",
    "* [Géron, A. (2017). Hands-on machine learning with scikit-learn and tensorflow: Concepts. Tools, and Techniques to build intelligent systems.](chrome-extension://efaidnbmnnnibpcajpcglclefindmkaj/http://14.139.161.31/OddSem-0822-1122/Hands-On_Machine_Learning_with_Scikit-Learn-Keras-and-TensorFlow-2nd-Edition-Aurelien-Geron.pdf)   \n"
   ]
  },
  {
   "cell_type": "markdown",
   "id": "6b9e56a8",
   "metadata": {
    "slideshow": {
     "slide_type": "slide"
    }
   },
   "source": [
    "### [Evaluamos al profesor Marco Cañas Aquí](https://forms.office.com/Pages/ResponsePage.aspx?id=IefhmYRxjkmK_7KtTlPBwkanXIs1i1FEujpsZgO6dXpUREJPV1kxUk1JV1ozTFJIQVNIQjY5WEY3US4u)"
   ]
  },
  {
   "cell_type": "markdown",
   "id": "071afa04",
   "metadata": {
    "slideshow": {
     "slide_type": "slide"
    }
   },
   "source": [
    "## [Evaluación luego de alcanzar estos objetivos de aprendizaje]()"
   ]
  },
  {
   "cell_type": "markdown",
   "id": "10f43536",
   "metadata": {
    "slideshow": {
     "slide_type": "slide"
    }
   },
   "source": [
    "### Continue su aprendizaje en la siguiente clase a través del siguiente [vínculo]()"
   ]
  },
  {
   "cell_type": "markdown",
   "id": "af751e30",
   "metadata": {
    "slideshow": {
     "slide_type": "slide"
    }
   },
   "source": [
    "# Conjeturas pedagógicas fruto de la aplicación del modelo de aprendizaje invertido y del enfoque hacia la ciencia de datos con python\n",
    "\n",
    "1. Todo cálculo o resultado debe ser interpretado en una línea markdown del cuaderno Jupyter, inmediatamente después de la enunciación del resultado y después de la presentación de una tabla o gráfico bidimensional, de tal menera que el estudiante explicite la comprensión verbal del resultado y las inferencias o estrategias que este resultado le sugieren.   "
   ]
  }
 ],
 "metadata": {
  "celltoolbar": "Slideshow",
  "kernelspec": {
   "display_name": "Python 3 (ipykernel)",
   "language": "python",
   "name": "python3"
  },
  "language_info": {
   "codemirror_mode": {
    "name": "ipython",
    "version": 3
   },
   "file_extension": ".py",
   "mimetype": "text/x-python",
   "name": "python",
   "nbconvert_exporter": "python",
   "pygments_lexer": "ipython3",
   "version": "3.10.12"
  },
  "rise": {
   "enable_chalkboard": true,
   "theme": "sky",
   "transition": "zoom"
  }
 },
 "nbformat": 4,
 "nbformat_minor": 5
}
