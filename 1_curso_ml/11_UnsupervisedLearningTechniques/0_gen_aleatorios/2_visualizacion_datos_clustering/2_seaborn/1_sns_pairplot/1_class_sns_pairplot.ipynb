{
 "cells": [
  {
   "cell_type": "markdown",
   "id": "dc06dec7",
   "metadata": {
    "slideshow": {
     "slide_type": "slide"
    }
   },
   "source": [
    "<table align=\"left\">\n",
    "  <td>\n",
    "    <a href=\"https://colab.research.google.com/github/ageron/handson-ml3/blob/main/tools_numpy.ipynb\" target=\"_parent\"><img src=\"https://colab.research.google.com/assets/colab-badge.svg\" alt=\"Open In Colab\"/></a>\n",
    "  </td>\n",
    "  <td>\n",
    "    <a target=\"_blank\" href=\"https://kaggle.com/kernels/welcome?src=https://github.com/ageron/handson-ml3/blob/main/tools_numpy.ipynb\"><img src=\"https://kaggle.com/static/images/open-in-kaggle.svg\" /></a>\n",
    "  </td>\n",
    "</table>"
   ]
  },
  {
   "cell_type": "markdown",
   "id": "e0c5b198",
   "metadata": {
    "slideshow": {
     "slide_type": "slide"
    }
   },
   "source": [
    "### [Video de apoyo a la lectura interactiva y experimental de este cuaderno]()"
   ]
  },
  {
   "cell_type": "markdown",
   "id": "41e82203",
   "metadata": {
    "slideshow": {
     "slide_type": "slide"
    }
   },
   "source": [
    "### [Vínculo al programa del curso:  ]()\n",
    "\n"
   ]
  },
  {
   "cell_type": "markdown",
   "id": "d7598d0a-d9b7-4ae0-b029-a0ed6ed1130b",
   "metadata": {},
   "source": [
    "\n",
    "# Principios de mi labor docente"
   ]
  },
  {
   "cell_type": "markdown",
   "id": "4f9d8cf9",
   "metadata": {
    "slideshow": {
     "slide_type": "slide"
    }
   },
   "source": [
    "## Modelo general de clase: [aula invertida](https://www3.gobiernodecanarias.org/medusa/ecoescuela/pedagotic/aprendizaje-invertido-flipped-classroom/)"
   ]
  },
  {
   "cell_type": "markdown",
   "id": "eb6ed03a",
   "metadata": {},
   "source": [
    "<img src = 'https://resources.maneuveringthemiddle.com/wp-content/uploads/2020/07/04212706/1-5.png' width = 200>  \n",
    "\n"
   ]
  },
  {
   "cell_type": "markdown",
   "id": "34319cce-a71b-4f64-aab8-b53e521efa40",
   "metadata": {},
   "source": [
    "# Metodología de enseñanza basada en problemas (ABP)\n"
   ]
  },
  {
   "cell_type": "markdown",
   "id": "c4f73d81",
   "metadata": {},
   "source": [
    "\n",
    "<img src = 'https://www.unir.net/wp-content/uploads/2020/07/aprendizaje-problemas2-1-1-1-1.jpeg' width = 200>"
   ]
  },
  {
   "cell_type": "markdown",
   "id": "841a985c-bd9b-4dd3-8e4c-893983980af2",
   "metadata": {},
   "source": [
    "# Desarrollo del pensamiento computacional con python y cuadernos Jupyter  orientado a la formación en ciencia de datos \n",
    "\n"
   ]
  },
  {
   "cell_type": "markdown",
   "id": "3d0eba94",
   "metadata": {},
   "source": [
    "\n",
    "<img src = 'https://i.ytimg.com/vi/mcG_wcR4e6M/maxresdefault.jpg' width = 200>"
   ]
  },
  {
   "cell_type": "markdown",
   "id": "65aa0404-f7ae-495e-864c-1aec01b4255e",
   "metadata": {},
   "source": [
    "# Principio de fomento a la ciencia abierta, enseñar en el acceso a los datos públicos y el uso de software de código abierto  \n"
   ]
  },
  {
   "cell_type": "markdown",
   "id": "18ae9b87",
   "metadata": {},
   "source": [
    "\n",
    "<img src = 'https://unesdoc.unesco.org/in/rest/Thumb/image?id=p%3A%3Ausmarcdef_0000379949_spa&author=UNESCO&title=Recomendaci%C3%B3n+de+la+UNESCO+sobre+la+Ciencia+Abierta&year=2021&publisher=UNESCO&TypeOfDocument=UnescoPhysicalDocument&mat=PGD&ct=true&size=512&isPhysical=1' width = 200>"
   ]
  },
  {
   "cell_type": "markdown",
   "id": "d9559f85",
   "metadata": {},
   "source": [
    "El enfoque STEAMS en educación preescolar, primaria y secundaria es una extensión del enfoque STEM (Ciencia, Tecnología, Ingeniería y Matemáticas) y su variante STEAM, que incorpora el Arte. "
   ]
  },
  {
   "cell_type": "markdown",
   "id": "72e1cfd2",
   "metadata": {},
   "source": [
    "El acrónimo STEAMS incluye:\n"
   ]
  },
  {
   "cell_type": "markdown",
   "id": "03182fd1",
   "metadata": {},
   "source": [
    "\n",
    "1. **Science (Ciencia):** Fomenta la curiosidad por el mundo natural y el desarrollo de habilidades científicas, como la observación, experimentación y análisis.\n"
   ]
  },
  {
   "cell_type": "markdown",
   "id": "1306d0fa",
   "metadata": {},
   "source": [
    "\n",
    "2. **Technology (Tecnología):** Integra herramientas tecnológicas para potenciar el aprendizaje y la resolución de problemas, promoviendo la alfabetización digital desde edades tempranas.\n"
   ]
  },
  {
   "cell_type": "markdown",
   "id": "3b1a53e8",
   "metadata": {},
   "source": [
    "\n",
    "3. **Engineering (Ingeniería):** Introduce el pensamiento lógico y la resolución de problemas estructurados, fomentando habilidades como el diseño y la construcción de soluciones.\n"
   ]
  },
  {
   "cell_type": "markdown",
   "id": "0196de87",
   "metadata": {},
   "source": [
    "\n",
    "4. **Arts (Arte):** Añade creatividad y pensamiento crítico, permitiendo a los estudiantes expresarse y explorar el aprendizaje a través de formas artísticas (plásticas, música, teatro).\n"
   ]
  },
  {
   "cell_type": "markdown",
   "id": "8bcc485a",
   "metadata": {},
   "source": [
    "\n",
    "5. **Mathematics (Matemáticas):** Refuerza las habilidades numéricas y el razonamiento lógico, fundamentales en la resolución de problemas y comprensión de conceptos abstractos.\n"
   ]
  },
  {
   "cell_type": "markdown",
   "id": "907935f4",
   "metadata": {},
   "source": [
    "\n",
    "6. **Social Sciences (Ciencias Sociales):** Incorpora la comprensión del entorno social, político, cultural y económico, promoviendo el desarrollo de la conciencia crítica sobre el mundo y su historia, además de habilidades de empatía y ciudadanía.\n"
   ]
  },
  {
   "cell_type": "markdown",
   "id": "39967d63",
   "metadata": {},
   "source": [
    "\n",
    "El enfoque STEAMS pretende desarrollar un aprendizaje **interdisciplinario** que integre estas áreas para fomentar un pensamiento más holístico y práctico. "
   ]
  },
  {
   "cell_type": "markdown",
   "id": "5145f077",
   "metadata": {},
   "source": [
    "Se busca que los estudiantes no solo aprendan conocimientos técnicos, sino también cómo aplicarlos creativa y críticamente en situaciones reales, promoviendo habilidades como el trabajo en equipo, la comunicación y la innovación. "
   ]
  },
  {
   "cell_type": "markdown",
   "id": "9d556584",
   "metadata": {},
   "source": [
    "En educación preescolar, primaria, secundaria y superior, se adapta a las diferentes etapas de desarrollo cognitivo y emocional de los estudiantes, promoviendo el aprendizaje activo y contextualizado.  \n"
   ]
  },
  {
   "cell_type": "markdown",
   "id": "0130ec1b",
   "metadata": {},
   "source": [
    "\n",
    "<img src = 'https://www.campuseducacion.com/blog/wp-content/uploads/2023/03/foto01-1.jpg' width = 200>"
   ]
  },
  {
   "cell_type": "markdown",
   "id": "9d15c10d-2c02-4158-9419-b1ed79b4c1ee",
   "metadata": {},
   "source": [
    "# Qué estamos haciendo por la internalización en esta clase y este curso  \n"
   ]
  },
  {
   "cell_type": "markdown",
   "id": "6e4feef2",
   "metadata": {},
   "source": [
    "Estas son mis acciones como docente de matemáticas en la Universidad de Antioquia con miras a la **internacionalización** de mi práctica docente y el desarrollo de competencias internacionales para mis estudiantes, ls cuales he estructurado con el siguiente enfoque:\n"
   ]
  },
  {
   "cell_type": "markdown",
   "id": "964d9de7-53ee-4255-9bcd-d8e6454f2993",
   "metadata": {},
   "source": [
    "### 1. **Visión Global en la Formación Académica**\n"
   ]
  },
  {
   "cell_type": "markdown",
   "id": "d9bdd3e2",
   "metadata": {},
   "source": [
    "   - **Competencias Internacionales**: Asegúrate de que el contenido de tus cursos fomente habilidades que sean reconocidas globalmente. Al educar a los estudiantes en **Python, LaTeX, Markdown y Jupyter Notebooks** y en la **introducción a la ciencia de datos y técnicas de Machine Learning**, estás proporcionando competencias altamente demandadas en los sectores tecnológicos y académicos a nivel internacional.\n"
   ]
  },
  {
   "cell_type": "markdown",
   "id": "39b55206",
   "metadata": {},
   "source": [
    "   - **Relevancia de los Contenidos**: Destaca cómo los temas que enseñas, como el **desarrollo del pensamiento computacional** y la **ciencia de datos**, están alineados con las necesidades globales actuales en diversas industrias, desde la tecnología hasta las ciencias naturales y sociales.\n"
   ]
  },
  {
   "cell_type": "markdown",
   "id": "a054599e",
   "metadata": {},
   "source": [
    "   - **Referencias a Estándares Internacionales**: Puedes vincular tu enseñanza a estándares internacionales de competencias en programación y ciencia de datos (por ejemplo, frameworks del **IEEE, ACM**, y estándares de la **data science** o la **computación en la nube**)."
   ]
  },
  {
   "cell_type": "markdown",
   "id": "0f1d110c-3142-48fe-9e7d-5fbd9e8bb931",
   "metadata": {},
   "source": [
    "### 2. **Innovación Pedagógica con Enfoque Internacional**\n"
   ]
  },
  {
   "cell_type": "markdown",
   "id": "fae6ae34",
   "metadata": {},
   "source": [
    "   - **Aula Invertida y ABP**: Presenta cómo tu enfoque de **aula invertida** y **aprendizaje basado en problemas (ABP)** permite a los estudiantes trabajar de manera autónoma y colaborativa, lo que los prepara para escenarios laborales internacionales que requieren autoaprendizaje y habilidades de resolución de problemas en equipo.\n"
   ]
  },
  {
   "cell_type": "markdown",
   "id": "c83062d9",
   "metadata": {},
   "source": [
    "   - **Uso de Jupyter Notebooks**: El uso de **Jupyter Notebooks** en tus clases no solo facilita la **integración de código, matemáticas y texto**, sino que también es una plataforma utilizada globalmente en ambientes académicos y profesionales, lo que hace a tus estudiantes más competitivos internacionalmente."
   ]
  },
  {
   "cell_type": "markdown",
   "id": "960d52b7-03cd-4eb3-965e-5cdfeb7d9f8e",
   "metadata": {},
   "source": [
    "### 3. **Tecnología y Herramientas de Uso Global**\n"
   ]
  },
  {
   "cell_type": "markdown",
   "id": "4be7269f",
   "metadata": {},
   "source": [
    "   - **Lenguaje Python**: Python es uno de los lenguajes de programación más usados a nivel mundial, tanto en la academia como en la industria. Al formar a tus estudiantes en Python para ciencia de datos y machine learning, los preparas para operar en entornos tecnológicos globales.\n"
   ]
  },
  {
   "cell_type": "markdown",
   "id": "102655af",
   "metadata": {},
   "source": [
    "   - **Herramientas de Ciencia Abierta**: Resalta cómo herramientas como **GitHub**, **Google Colab** y otras plataformas de código abierto están alineadas con el movimiento de **ciencia abierta**, el cual es internacionalmente reconocido y permite que los estudiantes colaboren y compartan proyectos a nivel global."
   ]
  },
  {
   "cell_type": "markdown",
   "id": "3b2ffa32-7a6f-4545-ba7b-c6a69f51109f",
   "metadata": {},
   "source": [
    "### 4. **Investigación y Publicaciones Internacionales**\n"
   ]
  },
  {
   "cell_type": "markdown",
   "id": "bdbf52a5",
   "metadata": {},
   "source": [
    "   - **Promoción de la Investigación**: Detalla cómo promueves que tus estudiantes participen en proyectos de **investigación aplicada**, con posibilidad de publicación en revistas internacionales. Esto contribuye a la reputación internacional de la Universidad de Antioquia.\n"
   ]
  },
  {
   "cell_type": "markdown",
   "id": "ea01fcbc",
   "metadata": {},
   "source": [
    "   - **Colaboraciones Internacionales**: Si has colaborado con investigadores de otras instituciones o universidades en el extranjero, menciona estos proyectos y cómo han enriquecido tu enseñanza y proporcionado a los estudiantes una visión más globalizada."
   ]
  },
  {
   "cell_type": "markdown",
   "id": "5d1e396e-aece-4bf7-9421-32fa7809eaf4",
   "metadata": {},
   "source": [
    "## 5. **Uso del Inglés para la Internacionalización**\n"
   ]
  },
  {
   "cell_type": "markdown",
   "id": "29cabf26",
   "metadata": {},
   "source": [
    "   - **Comunicación Científica en Inglés**: Fomentar el aprendizaje del inglés como lengua científica es clave para que tus estudiantes puedan acceder a publicaciones internacionales, conferencias, y material académico que no está disponible en español. Esto es esencial para que adquieran competencias que les permitan desempeñarse en cualquier contexto internacional.\n"
   ]
  },
  {
   "cell_type": "markdown",
   "id": "01915e8e",
   "metadata": {},
   "source": [
    "   - **Material Bilingüe**: Al generar material educativo en Python, LaTeX y Markdown, considera ofrecer algunos de estos recursos en inglés, para que los estudiantes se familiaricen con el vocabulario técnico y científico internacional."
   ]
  },
  {
   "cell_type": "markdown",
   "id": "c6a8c3b0-426a-4692-a384-3065aea81c9a",
   "metadata": {},
   "source": [
    "### 6. **Certificaciones y Estándares Internacionales**\n"
   ]
  },
  {
   "cell_type": "markdown",
   "id": "b1f41da5",
   "metadata": {},
   "source": [
    "   - **Participación en Certificaciones Internacionales**: Impulsa que los estudiantes busquen certificaciones internacionales en Python o ciencia de datos (como las ofrecidas por **Coursera, edX,** o **Google**). Estas certificaciones no solo validan sus competencias, sino que también incrementan el reconocimiento de la Universidad de Antioquia en el contexto internacional.\n"
   ]
  },
  {
   "cell_type": "markdown",
   "id": "7cc66317",
   "metadata": {},
   "source": [
    "   - **Alineación con Acreditaciones Internacionales**: Vincula tu trabajo docente con los estándares de acreditación y certificación que garantizan que la universidad siga siendo reconocida internacionalmente. Puedes vincularte con organizaciones internacionales que promuevan la excelencia en la educación y tecnología, como **ABET** para la acreditación en ingeniería y ciencias computacionales."
   ]
  },
  {
   "cell_type": "markdown",
   "id": "65d3d9e1-ea84-43e0-8197-a2a9c9e21594",
   "metadata": {},
   "source": [
    "### 7. **Proyectos Abiertos y Ciencia Reproducible**\n",
    "   - **GitHub y Open Science**: La utilización de **GitHub** para almacenar los proyectos y materiales de enseñanza en repositorios públicos permite que otros investigadores y educadores internacionales puedan revisar y replicar tu trabajo. Esto contribuye a la creación de una red de colaboración científica abierta.\n",
    "   - **Transparencia y Reproducibilidad**: La ciencia de datos y machine learning están profundamente ligados a la reproducibilidad. Asegura que tus estudiantes desarrollen prácticas de transparencia y documentación en la investigación, que son pilares en la comunidad científica global.\n"
   ]
  },
  {
   "cell_type": "markdown",
   "id": "215cb551",
   "metadata": {},
   "source": [
    "\n",
    "### 8. **Participación en Redes y Conferencias Internacionales**\n",
    "   - **Presentación en Conferencias Internacionales**: Destaca cómo tu participación en conferencias internacionales (como la **ASCOLFA** o eventos sobre educación en matemáticas) contribuye al prestigio de la universidad y permite que tus prácticas sean evaluadas y reconocidas a nivel global.\n"
   ]
  },
  {
   "cell_type": "markdown",
   "id": "cdf46e29",
   "metadata": {},
   "source": [
    "   - **Promoción de Estudiantes en Eventos Internacionales**: Impulsa la participación de tus estudiantes en competiciones internacionales de programación o hackathons, como los organizados por **Google**, **ACM** o **Kaggle**. Esto no solo desarrolla sus habilidades, sino que también visibiliza el talento de la Universidad de Antioquia a nivel global.\n",
    "\n",
    "---"
   ]
  },
  {
   "cell_type": "markdown",
   "id": "233294a4-1983-4641-a7ad-866825e02315",
   "metadata": {},
   "source": [
    "Con esta estrategia, presento mis acciones docentes en términos de competencias internacionales, innovación pedagógica, tecnología, investigación y participación en redes globales, asegurando que mi práctica esté alineada con los estándares internacionales y que tus estudiantes estén preparados para competir en contextos internacionales."
   ]
  },
  {
   "cell_type": "markdown",
   "id": "77da458b",
   "metadata": {},
   "source": [
    "### **Metodología de Enseñanza: Aprendizaje Basado en Problemas y Proyectos (ABPP)**\n"
   ]
  },
  {
   "cell_type": "markdown",
   "id": "c943d273",
   "metadata": {},
   "source": [
    "\n",
    "El **Aprendizaje Basado en Problemas y Proyectos (ABPP)** es una metodología educativa que integra los enfoques del **Aprendizaje Basado en Problemas (ABP)** y el **Aprendizaje Basado en Proyectos (PBL, por sus siglas en inglés)**. "
   ]
  },
  {
   "cell_type": "markdown",
   "id": "29602d5e",
   "metadata": {},
   "source": [
    "Es especialmente útil para la formación de futuros docentes, ingenieros y administradores, ya que combina el desarrollo de habilidades prácticas con el pensamiento crítico y reflexivo. A continuación, se presenta una descripción adaptada a la enseñanza de las matemáticas en educación infantil, Licenciatura en Matemáticas, Ingeniería Agropecuaria y Administración de Empresas:\n",
    "\n",
    "---\n"
   ]
  },
  {
   "cell_type": "markdown",
   "id": "0eeba3f5",
   "metadata": {},
   "source": [
    "\n",
    "### **1. Fundamentos del ABPP**\n",
    "El ABPP se basa en:\n",
    "- **Resolución de Problemas Reales:** Los estudiantes analizan y resuelven problemas auténticos relacionados con su área de formación, fomentando la aplicación práctica del conocimiento.\n",
    "- **Proyectos como Herramientas Integradoras:** Los proyectos permiten desarrollar habilidades interdisciplinarias y ofrecer soluciones concretas a los problemas planteados.\n",
    "- **Aprendizaje Activo:** Los estudiantes son responsables de su aprendizaje y participan activamente en el proceso de investigación, diseño y solución.\n",
    "\n",
    "---\n"
   ]
  },
  {
   "cell_type": "markdown",
   "id": "3728d010",
   "metadata": {},
   "source": [
    "\n",
    "### **2. Aplicación del ABPP en Áreas Específicas**\n",
    "\n",
    "#### **Educación Infantil (Licenciatura en Educación Infantil)**\n",
    "- **Enfoque:** Desarrollo del pensamiento matemático en la infancia desde contextos lúdicos, familiares y culturales.\n",
    "- **Problemas típicos:** \n",
    "  - ¿Cómo enseñar los números naturales mediante actividades prácticas y juegos?\n",
    "  - ¿Qué estrategias pueden emplearse para abordar el concepto de cantidad en edades tempranas?\n",
    "- **Proyectos:** Diseño de secuencias didácticas que usen Python, Jupyter Notebooks y materiales manipulativos para enseñar matemáticas de forma interactiva.\n",
    "- **Competencias desarrolladas:** \n",
    "  - Uso de herramientas tecnológicas para diseñar actividades educativas.\n",
    "  - Comprensión del desarrollo cognitivo infantil y su relación con las matemáticas.\n"
   ]
  },
  {
   "cell_type": "markdown",
   "id": "481f614a",
   "metadata": {},
   "source": [
    "\n",
    "#### **Licenciatura en Matemáticas**\n",
    "- **Enfoque:** Resolución de problemas matemáticos aplicados y profundización teórica en áreas como análisis matemático y modelado.\n",
    "- **Problemas típicos:**\n",
    "  - ¿Cómo se pueden resolver ecuaciones diferenciales aplicadas a modelos físicos o económicos?\n",
    "  - ¿Cómo modelar fenómenos naturales mediante funciones matemáticas?\n",
    "- **Proyectos:** \n",
    "  - Desarrollo de software educativo para explorar conceptos matemáticos.\n",
    "  - Aplicación de modelado matemático para resolver problemas reales en otras disciplinas.\n",
    "- **Competencias desarrolladas:**\n",
    "  - Dominio de la matemática teórica y aplicada.\n",
    "  - Uso de tecnología para la enseñanza y la investigación.\n"
   ]
  },
  {
   "cell_type": "markdown",
   "id": "83ab236f",
   "metadata": {},
   "source": [
    "\n",
    "#### **Ingeniería Agropecuaria**\n"
   ]
  },
  {
   "cell_type": "markdown",
   "id": "5f3c225f",
   "metadata": {},
   "source": [
    "- **Enfoque:** Modelado matemático y análisis de datos para mejorar la producción agrícola y la gestión de recursos.\n",
    "- **Problemas típicos:**\n",
    "  - ¿Cómo modelar el crecimiento de cultivos considerando variables climáticas?\n",
    "  - ¿Cómo optimizar el uso del agua en sistemas de riego mediante análisis matemático?\n",
    "- **Proyectos:** \n",
    "  - Desarrollo de modelos predictivos con Python y bibliotecas de aprendizaje automático.\n",
    "  - Implementación de proyectos que combinen matemáticas y ciencias de datos para resolver problemas agrícolas.\n",
    "- **Competencias desarrolladas:**\n",
    "  - Integración de matemáticas con tecnologías avanzadas.\n",
    "  - Resolución de problemas agropecuarios mediante análisis y modelado.\n"
   ]
  },
  {
   "cell_type": "markdown",
   "id": "c4519bb3",
   "metadata": {},
   "source": [
    "\n",
    "#### **Administración de Empresas**\n"
   ]
  },
  {
   "cell_type": "markdown",
   "id": "887a52d0",
   "metadata": {},
   "source": [
    "- **Enfoque:** Uso de las matemáticas y la ciencia de datos para la toma de decisiones estratégicas.\n",
    "- **Problemas típicos:**\n",
    "  - ¿Cómo identificar patrones de comportamiento del consumidor usando series de tiempo?\n",
    "  - ¿Qué estrategias matemáticas pueden optimizar la asignación de recursos en una empresa?\n",
    "- **Proyectos:** \n",
    "  - Implementación de modelos de análisis financiero y simulaciones.\n",
    "  - Desarrollo de dashboards interactivos para la gestión de datos empresariales.\n",
    "- **Competencias desarrolladas:**\n",
    "  - Habilidad para interpretar datos matemáticos en contextos de negocio.\n",
    "  - Capacidad para diseñar soluciones basadas en datos.\n",
    "\n",
    "---\n"
   ]
  },
  {
   "cell_type": "markdown",
   "id": "19be58d4",
   "metadata": {},
   "source": [
    "\n",
    "### **3. Beneficios del ABPP**\n"
   ]
  },
  {
   "cell_type": "markdown",
   "id": "10a7f514",
   "metadata": {},
   "source": [
    "- **Desarrollo de competencias clave:**\n",
    "  - Pensamiento crítico y creativo.\n",
    "  - Trabajo colaborativo.\n",
    "  - Comunicación efectiva.\n",
    "  - Uso de herramientas tecnológicas avanzadas.\n",
    "- **Adaptación al contexto laboral:** Los estudiantes aprenden a enfrentar desafíos del mundo real y a diseñar soluciones prácticas y aplicables.\n",
    "- **Flexibilidad e interdisciplinariedad:** La metodología se adapta a diversas áreas, fomentando el aprendizaje integrado.\n",
    "\n",
    "---\n"
   ]
  },
  {
   "cell_type": "markdown",
   "id": "e36034c3",
   "metadata": {},
   "source": [
    "\n",
    "### **4. Ejemplo General de Implementación**\n",
    "1. **Identificación del problema:** Se plantea un desafío concreto, como modelar el crecimiento poblacional de una comunidad rural (Ingeniería Agropecuaria) o diseñar una estrategia para enseñar fracciones a niños de 8 años (Educación Infantil).\n",
    "2. **Formación de equipos:** Los estudiantes trabajan en grupos, distribuyendo roles y tareas.\n",
    "3. **Investigación y diseño:** Los estudiantes investigan el problema, proponen soluciones y diseñan un proyecto.\n",
    "4. **Implementación:** Se desarrolla el proyecto, como una herramienta tecnológica o una propuesta pedagógica.\n",
    "5. **Evaluación:** Los estudiantes presentan sus resultados en un informe o una exposición, recibiendo retroalimentación de sus compañeros y docentes.\n",
    "\n",
    "---\n",
    "\n",
    "El ABPP es una metodología versátil que conecta el conocimiento teórico con la práctica, preparando a los estudiantes para los retos de sus profesiones en la enseñanza de la matemática, la ingeniería y la administración."
   ]
  },
  {
   "cell_type": "markdown",
   "id": "8d97dc80",
   "metadata": {
    "slideshow": {
     "slide_type": "slide"
    }
   },
   "source": [
    "## Fomento de la lectura literaria asociada a Ingeniería agropecuaria y licenciatura en Matemáticas\n",
    "\n",
    "[Aprender a obtener el sí sin ceder]()"
   ]
  },
  {
   "cell_type": "markdown",
   "id": "96775931",
   "metadata": {
    "slideshow": {
     "slide_type": "slide"
    }
   },
   "source": [
    "## Título de la clase: La función `seaborn.pairplot()` para la creación de matrices de visualizaciones bidimensionales.   \n",
    "\n"
   ]
  },
  {
   "cell_type": "markdown",
   "id": "540f0ec1",
   "metadata": {
    "slideshow": {
     "slide_type": "slide"
    }
   },
   "source": [
    "## Cuestionario para realizar labores de memorización, observación y síntesis de la información (Además de diagnóstico)  \n",
    "\n",
    "1. ¿Qué?\n",
    "2. ¿Cómo?\n",
    "3. ¿Dónde?\n",
    "4. ¿Cuándo?\n",
    "5. ¿Por qué? "
   ]
  },
  {
   "cell_type": "markdown",
   "id": "8e457ea2",
   "metadata": {},
   "source": [
    "# Definiciones y Resultados científicos a comprender y memorizar \n",
    "\n",
    "[Primera grabación en Vocaroo]()"
   ]
  },
  {
   "cell_type": "markdown",
   "id": "ca7261b1",
   "metadata": {
    "slideshow": {
     "slide_type": "slide"
    }
   },
   "source": [
    "## Establecimiento de prerrequisitos conceptuales para alcanzar el objetivo de aprendizaje trazado.   \n",
    "\n",
    "(Elabore una lista de preguntas al rededor de los conceptos que consideres necesarios para empezar la clase).  \n",
    "\n",
    "1. \n",
    "2. \n",
    "3. "
   ]
  },
  {
   "cell_type": "markdown",
   "id": "2298e976",
   "metadata": {
    "slideshow": {
     "slide_type": "slide"
    }
   },
   "source": [
    "# Para el diseño de la clase tenga en cuenta algunos problemas de aprendizaje"
   ]
  },
  {
   "cell_type": "markdown",
   "id": "523d3acf",
   "metadata": {
    "slideshow": {
     "slide_type": "slide"
    }
   },
   "source": []
  },
  {
   "cell_type": "markdown",
   "id": "8853d874",
   "metadata": {},
   "source": [
    "## El componente histórico y epistemológico"
   ]
  },
  {
   "cell_type": "markdown",
   "id": "e3ffa494",
   "metadata": {},
   "source": [
    "# Vocabulary   \n",
    "\n",
    "1. \n",
    "2.  \n",
    "3.  \n",
    "4.  \n",
    "5.  "
   ]
  },
  {
   "cell_type": "code",
   "execution_count": 4,
   "id": "6ff395c3",
   "metadata": {},
   "outputs": [],
   "source": [
    "# Traducción del inglés al español con python\n",
    "\n",
    "def traducir(texto):\n",
    "    from googletrans import Translator\n",
    "\n",
    "    translator = Translator() # instancia la clase \n",
    "\n",
    "    # Traducir al español\n",
    "    translation = translator.translate(texto, src='en', dest='es')\n",
    "    return translation.text"
   ]
  },
  {
   "cell_type": "code",
   "execution_count": null,
   "id": "b583f414-ac87-4912-8a86-b338234d83d7",
   "metadata": {},
   "outputs": [],
   "source": [
    "traducir('Hi')"
   ]
  },
  {
   "cell_type": "code",
   "execution_count": null,
   "id": "bc0addfe",
   "metadata": {},
   "outputs": [],
   "source": [
    "# mapa conceptual para cada clase  \n",
    "from graphviz import Digraph\n",
    "\n",
    "# Crear un nuevo grafo dirigido\n",
    "dot = Digraph()\n",
    "\n",
    "# Añadir nodos y relaciones al grafo\n",
    "main_concept = 'sns.pairplot()'\n",
    "dot.node('A', main_concept)\n",
    "dot.node('B', '')\n",
    "dot.node('C', '')\n",
    "dot.node('D', '')\n",
    "\n",
    "dot.edges(['AB'])\n",
    "\n",
    "\n",
    "# Guardar el grafo como un archivo de imagen\n",
    "dot.render(filename=main_concept, format='png', cleanup=True, \\\n",
    "           directory='C:/Users/marco/Documentos/investigacion/didactica_ciencia_datos/1_curso_machine_learning/11_UnsupervisedLearningTechniques/1/images/')\n",
    "\n",
    "dot.view()\n"
   ]
  },
  {
   "cell_type": "markdown",
   "id": "10e55ccf",
   "metadata": {},
   "source": [
    "# Estructura general para todas las clases\n",
    "\n",
    "Dame, por favor, un diseño de clase, con el enfoque: De aprendizaje basado en problemas y proyectos(ABPP) y sobre: \"La función sns.pairplot() y el significado y análisis de sus parámetros utilizando los deslizadores de ipywidgets\", siguiendo la estructura: \n",
    "1. Título de la clase \n",
    "2. Objetivo de aprendizaje\n",
    "3. Contenido de la clase\n",
    "4. Actividades de aprendizaje\n",
    "5. Tarea o actividades de ejercitación y fijación\n",
    "6. Diseño de actividad de retroalimentación.   \n",
    "\n",
    "Pero  que este diseño sea para que el estudiante pueda aprender experimentando en cuadernos Jupyter con funciones de usuario y animaciones y visualizaciones en python. "
   ]
  },
  {
   "cell_type": "markdown",
   "id": "239427f7",
   "metadata": {},
   "source": [
    "### **Diseño de Clase: \"La función `sns.pairplot()` de Seaborn y el análisis dinámico de sus parámetros con `ipywidgets`\"**\n"
   ]
  },
  {
   "cell_type": "markdown",
   "id": "7e82c6d4",
   "metadata": {},
   "source": [
    "\n",
    "#### **1. Título de la clase**\n",
    "**Explorando Relaciones en Datos con `sns.pairplot()` y Parámetros Interactivos en Python**\n",
    "\n",
    "---\n"
   ]
  },
  {
   "cell_type": "markdown",
   "id": "d775b829",
   "metadata": {},
   "source": [
    "\n",
    "#### **2. Objetivo de aprendizaje**\n",
    "Los estudiantes serán capaces de:\n",
    "- Comprender la función `sns.pairplot()` de la biblioteca Seaborn, analizando sus parámetros principales.\n",
    "- Utilizar `ipywidgets` para experimentar interactivamente con los parámetros de `sns.pairplot()`.\n",
    "- Interpretar gráficamente relaciones entre variables y diseñar visualizaciones personalizadas utilizando funciones de usuario.\n",
    "\n",
    "---\n"
   ]
  },
  {
   "cell_type": "markdown",
   "id": "c65be51c",
   "metadata": {},
   "source": [
    "\n",
    "#### **3. Contenido de la clase**\n",
    "1. **Introducción al análisis exploratorio de datos (EDA):**\n",
    "   - Importancia de los gráficos de dispersión para analizar relaciones.\n",
    "   - Función `sns.pairplot()` y su propósito en el EDA.\n",
    "2. **Descripción de los parámetros principales de `sns.pairplot()`:**\n",
    "   - `hue`: Agrupación basada en categorías.\n",
    "   - `vars`: Selección de variables para análisis.\n",
    "   - `palette`: Esquemas de colores.\n",
    "   - `diag_kind`: Tipos de gráficos en la diagonal (kde o histograma).\n",
    "3. **ipywidgets para la interacción:**\n",
    "   - Creación de deslizadores y menús desplegables para ajustar parámetros.\n",
    "   - Integración con funciones de usuario.\n",
    "4. **Visualización dinámica con Matplotlib, Seaborn e ipywidgets.**\n",
    "\n",
    "---\n"
   ]
  },
  {
   "cell_type": "markdown",
   "id": "0b1d4473",
   "metadata": {},
   "source": [
    "\n",
    "#### **4. Actividades de aprendizaje**\n",
    "1. **Exploración guiada:**\n",
    "   - Los estudiantes ejecutan un código base que genera un gráfico con `sns.pairplot()` y analizan los resultados.\n",
    "   - Discusión sobre las relaciones entre variables usando un conjunto de datos sencillo como Iris o Titanic.\n",
    "\n",
    "2. **Diseño de funciones interactivas:**\n",
    "   - Instrucción para crear una función que permita cambiar dinámicamente los parámetros de `sns.pairplot()` utilizando widgets.\n",
    "   - Ejemplo inicial:\n"
   ]
  },
  {
   "cell_type": "code",
   "execution_count": 1,
   "id": "729639e5",
   "metadata": {},
   "outputs": [
    {
     "data": {
      "application/vnd.jupyter.widget-view+json": {
       "model_id": "a5fca488b0884c58abe591684d57a4f5",
       "version_major": 2,
       "version_minor": 0
      },
      "text/plain": [
       "interactive(children=(Dropdown(description='hue', options=('species', None), value='species'), Dropdown(descri…"
      ]
     },
     "metadata": {},
     "output_type": "display_data"
    },
    {
     "data": {
      "text/plain": [
       "<function __main__.plot_pairplot(hue, diag_kind)>"
      ]
     },
     "execution_count": 1,
     "metadata": {},
     "output_type": "execute_result"
    }
   ],
   "source": [
    "import seaborn as sns\n",
    "import matplotlib.pyplot as plt\n",
    "from sklearn.datasets import load_iris\n",
    "import pandas as pd\n",
    "from ipywidgets import interact, Dropdown\n",
    "\n",
    "# Cargar datos\n",
    "iris = load_iris()\n",
    "data = pd.DataFrame(iris.data, columns=iris.feature_names)\n",
    "data['species'] = [iris.target_names[i] for i in iris.target]\n",
    "\n",
    "     # Función interactiva\n",
    "def plot_pairplot(hue, diag_kind):\n",
    "    sns.pairplot(data, hue=hue, diag_kind=diag_kind)\n",
    "    plt.show()\n",
    "\n",
    "# Widget interactivo\n",
    "interact(plot_pairplot, \n",
    "         hue=Dropdown(options=['species', None], value='species'),\n",
    "         diag_kind=Dropdown(options=['kde', 'hist'], value='kde'))\n",
    "\n"
   ]
  },
  {
   "cell_type": "markdown",
   "id": "c20f21a3",
   "metadata": {},
   "source": [
    "\n",
    "3. **Trabajo en equipo:**\n",
    "   - Dividir a los estudiantes en grupos pequeños para experimentar con diferentes conjuntos de datos, explorar relaciones y ajustar parámetros de `sns.pairplot()` usando funciones interactivas.\n",
    "\n",
    "---\n",
    "\n",
    "#### **5. Tarea o actividades de ejercitación y fijación**\n",
    "1. **Personalización del gráfico:**\n",
    "   - Diseñar una función interactiva que permita cambiar:\n",
    "     - La paleta de colores.\n",
    "     - Las variables incluidas en `vars`.\n",
    "     - El tamaño del gráfico.\n",
    "   - Subir el código con gráficos generados al repositorio del curso en GitHub.\n",
    "\n",
    "2. **Análisis de un conjunto de datos diferente:**\n",
    "   - Usar un conjunto de datos real (por ejemplo, el conjunto de datos Titanic o uno descargado de Kaggle).\n",
    "   - Crear un informe en un cuaderno Jupyter que:\n",
    "     - Explore las relaciones entre al menos 4 variables.\n",
    "     - Explique cómo cada parámetro afecta la visualización.\n",
    "     - Incluya visualizaciones dinámicas con `ipywidgets`.\n",
    "\n",
    "---\n"
   ]
  },
  {
   "cell_type": "markdown",
   "id": "91c1bbfa",
   "metadata": {},
   "source": [
    "\n",
    "#### **6. Diseño de actividad de retroalimentación**\n",
    "1. **Revisión entre pares:**\n",
    "   - Cada estudiante compartirá su cuaderno Jupyter con un compañero para recibir comentarios. Se evaluará:\n",
    "     - Correcta implementación de `sns.pairplot()`.\n",
    "     - Uso apropiado de widgets para la interacción.\n",
    "     - Claridad en la interpretación de los gráficos.\n",
    "   \n",
    "2. **Foro de discusión:**\n",
    "   - Los estudiantes debatirán en clase las siguientes preguntas:\n",
    "     - ¿Qué relaciones interesantes identificaron en los datos?\n",
    "     - ¿Qué configuraciones de parámetros fueron más útiles para su análisis?\n",
    "   \n",
    "3. **Actividad de cierre:**\n",
    "   - Los estudiantes crearán una presentación breve (5 minutos) en video, publicada en un canal de YouTube o compartida en clase, donde expliquen:\n",
    "     - El propósito de `sns.pairplot()` en su análisis.\n",
    "     - Los parámetros que exploraron dinámicamente y su impacto en los resultados.\n",
    "\n",
    "---\n"
   ]
  },
  {
   "cell_type": "markdown",
   "id": "d5e3b602",
   "metadata": {},
   "source": [
    "\n",
    "### **Resultado esperado**\n",
    "Los estudiantes aprenderán a utilizar herramientas de visualización avanzadas de forma interactiva, fomentando su autonomía y comprensión crítica de los datos. Además, desarrollarán habilidades prácticas en Python aplicadas al análisis de datos, reforzando su capacidad de comunicar hallazgos de manera efectiva."
   ]
  },
  {
   "cell_type": "markdown",
   "id": "ec048afb",
   "metadata": {},
   "source": [
    "# Implementación de la clase\n"
   ]
  },
  {
   "cell_type": "markdown",
   "id": "61bd45aa",
   "metadata": {},
   "source": [
    "\n",
    "### **Diseño de Clase: \"La función `sns.pairplot()` de Seaborn y el análisis dinámico de sus parámetros con `ipywidgets`\"**\n",
    "\n",
    "#### **1. Título de la clase**\n",
    "**Explorando Relaciones en Datos con `sns.pairplot()` y Parámetros Interactivos en Python**\n",
    "\n",
    "---\n"
   ]
  },
  {
   "cell_type": "markdown",
   "id": "9f5838e0",
   "metadata": {},
   "source": [
    "\n",
    "#### **2. Objetivo de aprendizaje**\n",
    "Los estudiantes serán capaces de:\n",
    "- Comprender la función `sns.pairplot()` de la biblioteca Seaborn, analizando sus parámetros principales.\n",
    "- Utilizar `ipywidgets` para experimentar interactivamente con los parámetros de `sns.pairplot()`.\n",
    "- Interpretar gráficamente relaciones entre variables y diseñar visualizaciones personalizadas utilizando funciones de usuario.\n",
    "\n",
    "---\n"
   ]
  },
  {
   "cell_type": "markdown",
   "id": "a5194d25",
   "metadata": {},
   "source": [
    "\n",
    "#### **3. Contenido de la clase**\n",
    "1. **Introducción al análisis exploratorio de datos (EDA):**\n",
    "   - Importancia de los gráficos de dispersión para analizar relaciones.\n",
    "   - Función `sns.pairplot()` y su propósito en el EDA.\n",
    "2. **Descripción de los parámetros principales de `sns.pairplot()`:**\n",
    "   - `hue`: Agrupación basada en categorías.\n",
    "   - `vars`: Selección de variables para análisis.\n",
    "   - `palette`: Esquemas de colores.\n",
    "   - `diag_kind`: Tipos de gráficos en la diagonal (kde o histograma).\n",
    "3. **ipywidgets para la interacción:**\n",
    "   - Creación de deslizadores y menús desplegables para ajustar parámetros.\n",
    "   - Integración con funciones de usuario.\n",
    "4. **Visualización dinámica con Matplotlib, Seaborn e ipywidgets.**\n",
    "\n",
    "---\n"
   ]
  },
  {
   "cell_type": "markdown",
   "id": "75d09103",
   "metadata": {},
   "source": [
    "### **Contenido de la Clase: \"La función `sns.pairplot()` de Seaborn y el análisis dinámico de sus parámetros con `ipywidgets`\"**\n",
    "\n",
    "#### **1. Introducción al análisis exploratorio de datos (EDA):**\n",
    "\n",
    "**Objetivo:** Comprender la importancia de los gráficos de dispersión en el análisis exploratorio y el propósito de la función `sns.pairplot()`.\n",
    "\n",
    "1. **Definición del EDA:**  \n",
    "   - Exploración inicial de datos para identificar patrones, relaciones y posibles anomalías.  \n",
    "   - Visualizaciones como herramienta para interpretar datos y guiar el modelado estadístico.\n",
    "\n",
    "2. **Gráficos de dispersión:**  \n",
    "   - Cómo revelan relaciones entre dos o más variables.  \n",
    "   - Casos de uso: Identificar correlaciones, patrones de agrupamiento y distribuciones.\n",
    "\n",
    "3. **Propósito de `sns.pairplot()`:**  \n",
    "   - Creación de gráficos de dispersión múltiples en una sola visualización para un conjunto de variables.  \n",
    "   - Ventajas: Fácil comparación de relaciones, detección de patrones por categorías.\n",
    "\n",
    "**Ejemplo práctico:**  \n",
    "Cargar el conjunto de datos Iris y generar un gráfico básico con:  \n",
    "```python\n",
    "import seaborn as sns\n",
    "import matplotlib.pyplot as plt\n",
    "from sklearn.datasets import load_iris\n",
    "import pandas as pd\n",
    "\n",
    "# Cargar datos\n",
    "iris = load_iris(as_frame=True)\n",
    "data = iris.frame\n",
    "data['species'] = iris.target_names[iris.target]\n",
    "\n",
    "# Gráfico inicial\n",
    "sns.pairplot(data, hue='species', diag_kind='kde', palette='Set2')\n",
    "plt.suptitle(\"Relaciones entre características del conjunto de datos Iris\", y=1.02)\n",
    "plt.show()\n",
    "```\n",
    "\n",
    "---\n",
    "\n",
    "#### **2. Descripción de los parámetros principales de `sns.pairplot()`:**\n",
    "\n",
    "**Objetivo:** Aprender a configurar y personalizar las visualizaciones usando los parámetros clave.\n",
    "\n",
    "1. **`hue`:**  \n",
    "   - Permite agrupar datos por categorías.  \n",
    "   - Ejemplo: Agrupación de especies en el conjunto Iris.\n",
    "   ```python\n",
    "   sns.pairplot(data, hue='species', diag_kind='hist', palette='muted')\n",
    "   ```\n",
    "\n",
    "2. **`vars`:**  \n",
    "   - Selecciona un subconjunto de variables para analizar.  \n",
    "   - Ejemplo: Comparar solo las variables `sepal_length` y `sepal_width`.\n",
    "   ```python\n",
    "   sns.pairplot(data, vars=['sepal length (cm)', 'sepal width (cm)'], hue='species')\n",
    "   ```\n",
    "\n",
    "3. **`palette`:**  \n",
    "   - Esquemas de colores para diferenciar grupos.  \n",
    "   - Opciones comunes: `Set2`, `muted`, `coolwarm`.\n",
    "   ```python\n",
    "   sns.pairplot(data, hue='species', palette='coolwarm')\n",
    "   ```\n",
    "\n",
    "4. **`diag_kind`:**  \n",
    "   - Define el tipo de gráfico en la diagonal (kde o histograma).  \n",
    "   ```python\n",
    "   sns.pairplot(data, hue='species', diag_kind='hist', palette='pastel')\n",
    "   ```\n",
    "\n",
    "---\n",
    "\n",
    "#### **3. ipywidgets para la interacción:**\n",
    "\n",
    "**Objetivo:** Introducir la interactividad en visualizaciones mediante widgets dinámicos.\n",
    "\n",
    "1. **Introducción a ipywidgets:**  \n",
    "   - Widgets: Herramientas interactivas para ajustar parámetros sin modificar el código.  \n",
    "   - Ejemplos: Deslizadores, menús desplegables y botones.\n",
    "\n",
    "2. **Creación de deslizadores y menús desplegables:**  \n",
    "   - Configuración básica de widgets para explorar `hue`, `palette` y `diag_kind`.\n",
    "   ```python\n",
    "   import ipywidgets as widgets\n",
    "   from IPython.display import display\n",
    "\n",
    "   # Widgets para parámetros\n",
    "   hue_selector = widgets.Dropdown(options=['species', None], description='Hue:')\n",
    "   palette_selector = widgets.Dropdown(options=['Set2', 'muted', 'coolwarm'], description='Palette:')\n",
    "   diag_selector = widgets.RadioButtons(options=['kde', 'hist'], description='Diag Kind:')\n",
    "\n",
    "   # Mostrar widgets\n",
    "   display(hue_selector, palette_selector, diag_selector)\n",
    "   ```\n",
    "\n",
    "3. **Integración con funciones de usuario:**  \n",
    "   - Crear funciones para generar gráficos dinámicos basados en los widgets.  \n",
    "   ```python\n",
    "   def update_plot(hue, palette, diag_kind):\n",
    "       sns.pairplot(data, hue=hue, palette=palette, diag_kind=diag_kind)\n",
    "       plt.show()\n",
    "\n",
    "   widgets.interactive(update_plot, hue=hue_selector, palette=palette_selector, diag_kind=diag_selector)\n",
    "   ```\n",
    "\n",
    "---\n",
    "\n",
    "#### **4. Visualización dinámica con Matplotlib, Seaborn e ipywidgets:**\n",
    "\n",
    "**Objetivo:** Combinar herramientas para enriquecer la experiencia interactiva del análisis.\n",
    "\n",
    "1. **Configuración avanzada:**  \n",
    "   - Integrar más parámetros como `vars` y `corner` para análisis personalizados.  \n",
    "   ```python\n",
    "   corner_selector = widgets.Checkbox(value=False, description='Corner:')\n",
    "   display(corner_selector)\n",
    "\n",
    "   def update_advanced_plot(hue, palette, diag_kind, corner):\n",
    "       sns.pairplot(data, hue=hue, palette=palette, diag_kind=diag_kind, corner=corner)\n",
    "       plt.show()\n",
    "\n",
    "   widgets.interactive(update_advanced_plot, hue=hue_selector, palette=palette_selector, diag_kind=diag_selector, corner=corner_selector)\n",
    "   ```\n",
    "\n",
    "2. **Animaciones y narrativas:**  \n",
    "   - Usar widgets para contar historias visuales, explorando diferentes configuraciones y destacando patrones clave.  \n",
    "   - Ejemplo: Animar cambios en `palette` o `diag_kind` para resaltar su impacto.\n",
    "\n",
    "3. **Ejercicio guiado:**  \n",
    "   - Configurar gráficos interactivos para explorar relaciones en diferentes subconjuntos de datos y explicar las diferencias observadas."
   ]
  },
  {
   "cell_type": "markdown",
   "id": "c091d2fd",
   "metadata": {},
   "source": [
    "\n",
    "#### **4. Actividades de aprendizaje**\n",
    "1. **Exploración guiada:**\n",
    "   - Los estudiantes ejecutan un código base que genera un gráfico con `sns.pairplot()` y analizan los resultados.\n",
    "   - Discusión sobre las relaciones entre variables usando un conjunto de datos sencillo como Iris o Titanic.\n",
    "\n",
    "2. **Diseño de funciones interactivas:**\n",
    "   - Instrucción para crear una función que permita cambiar dinámicamente los parámetros de `sns.pairplot()` utilizando widgets.\n",
    "   - Ejemplo inicial:\n"
   ]
  },
  {
   "cell_type": "code",
   "execution_count": 3,
   "id": "ff2cdf57",
   "metadata": {},
   "outputs": [
    {
     "data": {
      "application/vnd.jupyter.widget-view+json": {
       "model_id": "c2ed7e35c181461db0687f04c580c295",
       "version_major": 2,
       "version_minor": 0
      },
      "text/plain": [
       "interactive(children=(Dropdown(description='hue', options=('species', None), value='species'), Dropdown(descri…"
      ]
     },
     "metadata": {},
     "output_type": "display_data"
    },
    {
     "data": {
      "text/plain": [
       "<function __main__.plot_pairplot(hue, diag_kind)>"
      ]
     },
     "execution_count": 3,
     "metadata": {},
     "output_type": "execute_result"
    }
   ],
   "source": [
    "import seaborn as sns\n",
    "import matplotlib.pyplot as plt\n",
    "from sklearn.datasets import load_iris\n",
    "import pandas as pd\n",
    "from ipywidgets import interact, Dropdown\n",
    "\n",
    "# Cargar datos\n",
    "iris = load_iris()\n",
    "data = pd.DataFrame(iris.data, columns=iris.feature_names)\n",
    "data['species'] = [iris.target_names[i] for i in iris.target]\n",
    "\n",
    "# Función interactiva\n",
    "def plot_pairplot(hue, diag_kind):\n",
    "    sns.pairplot(data, hue=hue, diag_kind=diag_kind)\n",
    "    plt.savefig('hue_diag_kind.jpg')\n",
    "    plt.show()\n",
    "\n",
    "# Widget interactivo\n",
    "interact(plot_pairplot, \n",
    "         hue=Dropdown(options=['species', None], value='species'),\n",
    "         diag_kind=Dropdown(options=['kde', 'hist'], value='kde'))\n",
    "\n"
   ]
  },
  {
   "cell_type": "markdown",
   "id": "10a7cb2e",
   "metadata": {},
   "source": [
    "\n",
    "3. **Trabajo en equipo:**\n",
    "   - Dividir a los estudiantes en grupos pequeños para experimentar con diferentes conjuntos de datos, explorar relaciones y ajustar parámetros de `sns.pairplot()` usando funciones interactivas.\n",
    "\n",
    "---\n"
   ]
  },
  {
   "cell_type": "markdown",
   "id": "e1f41c1d",
   "metadata": {},
   "source": [
    "### Desarrollo de la Cuarta Parte: **Actividades de Aprendizaje**\n",
    "\n",
    "#### **Exploración Guiada**\n",
    "1. **Ejecución del Código Base:**  \n",
    "   Los estudiantes abren un cuaderno Jupyter provisto por el docente y ejecutan el siguiente código inicial:\n",
    "   ```python\n",
    "   import seaborn as sns\n",
    "   import matplotlib.pyplot as plt\n",
    "   from sklearn.datasets import load_iris\n",
    "   import pandas as pd\n",
    "\n",
    "   # Cargar datos\n",
    "   iris = load_iris()\n",
    "   data = pd.DataFrame(iris.data, columns=iris.feature_names)\n",
    "   data['species'] = [iris.target_names[i] for i in iris.target]\n",
    "\n",
    "   # Gráfico básico con sns.pairplot\n",
    "   sns.pairplot(data, hue='species', diag_kind='kde', palette='Set2')\n",
    "   plt.suptitle(\"Gráfico inicial con sns.pairplot()\", y=1.02)\n",
    "   plt.show()\n",
    "   ```\n",
    "\n",
    "   **Discusión en clase:**  \n",
    "   - ¿Qué relaciones pueden observar entre las características del conjunto Iris?  \n",
    "   - ¿Qué patrones destacan en cada categoría (`species`)?  \n",
    "   - ¿Cómo se comparan los histogramas en la diagonal con las distribuciones observadas?  \n",
    "\n",
    "2. **Extensión de la Exploración:**  \n",
    "   - Modificar el código para usar otros parámetros (`diag_kind='hist'`, `palette='coolwarm'`).  \n",
    "   - Reflexionar sobre cómo cambian las visualizaciones según los parámetros seleccionados.\n",
    "\n",
    "---\n",
    "\n",
    "#### **Diseño de Funciones Interactivas**\n",
    "1. **Creación Guiada de una Función Dinámica:**  \n",
    "   Los estudiantes construyen una función con el siguiente código base:  \n",
    "   ```python\n",
    "   from ipywidgets import interact, Dropdown\n",
    "\n",
    "   # Función para gráficos interactivos\n",
    "   def plot_pairplot(hue, diag_kind):\n",
    "       sns.pairplot(data, hue=hue, diag_kind=diag_kind)\n",
    "       plt.suptitle(\"Interacción con sns.pairplot()\", y=1.02)\n",
    "       plt.show()\n",
    "\n",
    "   # Creación de widgets\n",
    "   interact(plot_pairplot, \n",
    "            hue=Dropdown(options=['species', None], value='species', description='Hue:'),\n",
    "            diag_kind=Dropdown(options=['kde', 'hist'], value='kde', description='Diag Kind:'))\n",
    "   ```\n",
    "\n",
    "2. **Análisis Guiado:**  \n",
    "   - Los estudiantes manipulan los widgets para ajustar `hue` y `diag_kind` y observan los cambios.  \n",
    "   - Preguntas para guiar la reflexión:  \n",
    "     - ¿Qué ocurre si eliminamos la agrupación (`hue=None`)?  \n",
    "     - ¿Cuál es la diferencia entre usar `diag_kind='kde'` y `diag_kind='hist'`?  \n",
    "     - ¿Cómo cambia la claridad del gráfico con diferentes paletas (`palette`)?  \n",
    "\n",
    "---\n",
    "\n",
    "#### **Trabajo en Equipo**\n",
    "1. **Formación de Grupos:**  \n",
    "   Los estudiantes se dividen en grupos de 3 o 4 integrantes y se les asigna un conjunto de datos diferente para trabajar. Ejemplos:  \n",
    "   - **Conjunto Titanic:** Investigar relaciones entre características como edad, clase y sobrevivencia.  \n",
    "   - **Conjunto Wine Quality:** Analizar relaciones entre características químicas y calidad del vino.  \n",
    "\n",
    "   **Tarea del Grupo:**  \n",
    "   - Implementar un gráfico dinámico `sns.pairplot()` adaptado a su conjunto de datos.  \n",
    "   - Experimentar con los parámetros principales (`hue`, `vars`, `palette`, `diag_kind`).  \n",
    "   - Crear una función personalizada que permita ajustar dinámicamente al menos tres parámetros.\n",
    "\n",
    "2. **Entrega del Proyecto de Equipo:**  \n",
    "   - Crear un cuaderno Jupyter que incluya:  \n",
    "     - Código funcional con widgets interactivos.  \n",
    "     - Gráficos generados para responder preguntas específicas sobre las relaciones entre variables.  \n",
    "     - Una breve explicación escrita sobre sus hallazgos.  \n",
    "\n",
    "   **Ejemplo de Código Personalizado:**  \n",
    "   ```python\n",
    "   def custom_pairplot(hue, diag_kind, palette):\n",
    "       sns.pairplot(data, hue=hue, diag_kind=diag_kind, palette=palette)\n",
    "       plt.suptitle(f\"Parámetros: Hue={hue}, Diag={diag_kind}, Palette={palette}\", y=1.02)\n",
    "       plt.show()\n",
    "\n",
    "   interact(custom_pairplot, \n",
    "            hue=Dropdown(options=['species', None], value='species', description='Hue:'),\n",
    "            diag_kind=Dropdown(options=['kde', 'hist'], value='kde', description='Diag Kind:'),\n",
    "            palette=Dropdown(options=['Set2', 'muted', 'coolwarm'], value='Set2', description='Palette:'))\n",
    "   ```\n",
    "\n",
    "3. **Discusión Final:**  \n",
    "   Cada grupo presenta su trabajo al resto de la clase, explicando:  \n",
    "   - El proceso de configuración y ajuste de los parámetros.  \n",
    "   - Los patrones y relaciones observados en sus datos.  \n",
    "   - Las ventajas de usar widgets para facilitar la exploración de datos.  "
   ]
  },
  {
   "cell_type": "markdown",
   "id": "819071ad",
   "metadata": {},
   "source": [
    "\n",
    "#### **5. Tarea o actividades de ejercitación y fijación**\n",
    "1. **Personalización del gráfico:**\n",
    "   - Diseñar una función interactiva que permita cambiar:\n",
    "     - La paleta de colores.\n",
    "     - Las variables incluidas en `vars`.\n",
    "     - El tamaño del gráfico.\n",
    "   - Subir el código con gráficos generados al repositorio del curso en GitHub.\n",
    "\n",
    "2. **Análisis de un conjunto de datos diferente:**\n",
    "   - Usar un conjunto de datos real (por ejemplo, el conjunto de datos Titanic o uno descargado de Kaggle).\n",
    "   - Crear un informe en un cuaderno Jupyter que:\n",
    "     - Explore las relaciones entre al menos 4 variables.\n",
    "     - Explique cómo cada parámetro afecta la visualización.\n",
    "     - Incluya visualizaciones dinámicas con `ipywidgets`.\n",
    "\n",
    "---\n"
   ]
  },
  {
   "cell_type": "markdown",
   "id": "5f1ee231",
   "metadata": {},
   "source": [
    "### **Desarrollo de la Quinta Parte: Tarea o Actividades de Ejercitación y Fijación**\n",
    "\n",
    "#### **1. Personalización del Gráfico**\n",
    "**Objetivo:** Que los estudiantes consoliden sus conocimientos sobre los parámetros de `sns.pairplot()` experimentando con personalizaciones avanzadas y generando visualizaciones útiles.\n",
    "\n",
    "**Instrucciones:**  \n",
    "1. **Diseñar una función interactiva personalizada** que permita:  \n",
    "   - Cambiar la **paleta de colores** entre al menos tres opciones (por ejemplo, `'Set2'`, `'coolwarm'`, `'muted'`).  \n",
    "   - Seleccionar variables específicas a incluir en el gráfico mediante el parámetro `vars`.  \n",
    "   - Ajustar el **tamaño del gráfico** utilizando el parámetro `height` de `sns.pairplot()`.  \n",
    "\n",
    "   **Ejemplo inicial de código:**  \n",
    "   ```python\n",
    "   def custom_pairplot(hue, vars, palette, height):\n",
    "       sns.pairplot(data, hue=hue, vars=vars, palette=palette, height=height)\n",
    "       plt.suptitle(f\"Gráfico personalizado: Hue={hue}, Vars={vars}, Palette={palette}, Height={height}\", y=1.02)\n",
    "       plt.show()\n",
    "\n",
    "   interact(\n",
    "       custom_pairplot,\n",
    "       hue=Dropdown(options=['species', None], value='species', description='Hue:'),\n",
    "       vars=Dropdown(options=[\n",
    "           ['sepal length (cm)', 'sepal width (cm)'],\n",
    "           ['petal length (cm)', 'petal width (cm)'],\n",
    "           iris.feature_names\n",
    "       ], value=iris.feature_names, description='Vars:'),\n",
    "       palette=Dropdown(options=['Set2', 'coolwarm', 'muted'], value='Set2', description='Palette:'),\n",
    "       height=(1, 5, 0.5)\n",
    "   )\n",
    "   ```\n",
    "\n",
    "2. **Subir el código generado y gráficos al repositorio del curso en GitHub:**  \n",
    "   - Crear una carpeta llamada `pairplot_personalizado` en su repositorio.  \n",
    "   - Subir el cuaderno Jupyter con:  \n",
    "     - Código bien documentado.  \n",
    "     - Capturas de pantalla o exportaciones de los gráficos generados.  \n",
    "   - Escribir una breve descripción del objetivo de su función en el archivo `README.md`.\n",
    "\n",
    "---\n",
    "\n",
    "#### **2. Análisis de un Conjunto de Datos Diferente**\n",
    "**Objetivo:** Aplicar lo aprendido sobre `sns.pairplot()` y widgets a un conjunto de datos real para realizar un análisis exploratorio significativo.\n",
    "\n",
    "**Instrucciones:**  \n",
    "1. **Seleccionar un conjunto de datos real:**  \n",
    "   - Usar el conjunto de datos Titanic (disponible en `seaborn.load_dataset('titanic')`), o bien descargar uno desde **Kaggle** según sus intereses (por ejemplo, precios de casas, análisis financiero, etc.).  \n",
    "\n",
    "2. **Crear un informe en un cuaderno Jupyter:**  \n",
    "   - **Exploración de relaciones entre variables:**  \n",
    "     - Seleccionar al menos **cuatro variables** relevantes del conjunto de datos.  \n",
    "     - Justificar la elección de las variables en un párrafo introductorio.  \n",
    "   - **Configuración de visualizaciones dinámicas:**  \n",
    "     - Crear gráficos interactivos que permitan modificar parámetros como `hue`, `vars`, `diag_kind`, y `palette`.  \n",
    "   - **Análisis detallado de parámetros:**  \n",
    "     - Explicar cómo cada parámetro ajustado afecta la visualización.  \n",
    "     - Usar gráficos para respaldar las explicaciones.  \n",
    "   - **Ejemplo de estructura para el informe:**  \n",
    "     ```markdown\n",
    "     ## Informe: Exploración de Datos con sns.pairplot()\n",
    "     ### Introducción\n",
    "     Descripción breve del conjunto de datos seleccionado y las preguntas que se buscan responder.\n",
    "\n",
    "     ### Configuración del Gráfico\n",
    "     - Parámetros configurados: hue, vars, diag_kind, palette.\n",
    "     - Justificación de las elecciones realizadas.\n",
    "\n",
    "     ### Análisis\n",
    "     - Relaciones observadas entre variables.\n",
    "     - Impacto de los cambios de parámetros en la claridad y utilidad de las visualizaciones.\n",
    "\n",
    "     ### Conclusiones\n",
    "     Resumen de hallazgos y posibles pasos futuros para análisis más profundos.\n",
    "     ```\n",
    "\n",
    "3. **Entrega:**  \n",
    "   - Subir el cuaderno Jupyter completo al repositorio en GitHub en una carpeta titulada `analisis_datos_real`.  \n",
    "   - Publicar un video corto (3-5 minutos) en YouTube explicando los hallazgos principales, destacando el uso de widgets para generar gráficos interactivos.  \n",
    "   - Compartir los enlaces del repositorio y el video en el canal del curso o plataforma designada.  "
   ]
  },
  {
   "cell_type": "markdown",
   "id": "11710fc7",
   "metadata": {},
   "source": [
    "\n",
    "#### **6. Diseño de actividad de retroalimentación**\n",
    "1. **Revisión entre pares:**\n",
    "   - Cada estudiante compartirá su cuaderno Jupyter con un compañero para recibir comentarios. Se evaluará:\n",
    "     - Correcta implementación de `sns.pairplot()`.\n",
    "     - Uso apropiado de widgets para la interacción.\n",
    "     - Claridad en la interpretación de los gráficos.\n",
    "   \n",
    "2. **Foro de discusión:**\n",
    "   - Los estudiantes debatirán en clase las siguientes preguntas:\n",
    "     - ¿Qué relaciones interesantes identificaron en los datos?\n",
    "     - ¿Qué configuraciones de parámetros fueron más útiles para su análisis?\n",
    "   \n",
    "3. **Actividad de cierre:**\n",
    "   - Los estudiantes crearán una presentación breve (5 minutos) en video, publicada en un canal de YouTube o compartida en clase, donde expliquen:\n",
    "     - El propósito de `sns.pairplot()` en su análisis.\n",
    "     - Los parámetros que exploraron dinámicamente y su impacto en los resultados.\n",
    "\n",
    "---\n"
   ]
  },
  {
   "cell_type": "markdown",
   "id": "6ce990f5",
   "metadata": {},
   "source": [
    "### **Desarrollo de la Sexta Parte: Diseño de Actividad de Retroalimentación**\n",
    "\n",
    "#### **1. Revisión entre pares**  \n",
    "**Objetivo:** Fomentar la colaboración y el aprendizaje a través de la evaluación mutua, mejorando la calidad del trabajo presentado.  \n",
    "\n",
    "**Instrucciones:**  \n",
    "1. **Intercambio de cuadernos:**  \n",
    "   - Cada estudiante compartirá su cuaderno Jupyter con un compañero asignado. Esto se puede realizar a través de GitHub o una plataforma de intercambio de archivos.  \n",
    "\n",
    "2. **Criterios de evaluación:**  \n",
    "   - Correcta implementación de la función `sns.pairplot()`.  \n",
    "     - ¿Se utilizaron parámetros como `hue`, `vars`, `palette`, y `diag_kind` de forma adecuada?  \n",
    "   - Uso apropiado de widgets para interacción.  \n",
    "     - ¿La función permite modificar dinámicamente los parámetros con widgets?  \n",
    "     - ¿El código es funcional y accesible?  \n",
    "   - Claridad en la interpretación de los gráficos.  \n",
    "     - ¿Se describen adecuadamente las relaciones entre las variables?  \n",
    "     - ¿Se destaca cómo las configuraciones gráficas impactan el análisis?  \n",
    "\n",
    "3. **Entrega de comentarios:**  \n",
    "   - Cada estudiante redactará una lista breve de sugerencias (3-5 puntos) sobre cómo mejorar el trabajo de su compañero, destacando tanto aspectos positivos como oportunidades de mejora.  \n",
    "\n",
    "4. **Herramientas recomendadas:**  \n",
    "   - Utilizar Google Docs o GitHub Issues para compartir comentarios de manera estructurada.  \n",
    "\n",
    "---\n",
    "\n",
    "#### **2. Foro de discusión**  \n",
    "**Objetivo:** Generar un espacio de debate reflexivo para compartir aprendizajes y descubrimientos del análisis realizado.  \n",
    "\n",
    "**Instrucciones:**  \n",
    "1. **Preguntas orientadoras:**  \n",
    "   Durante la clase, se organizará una discusión abierta alrededor de las siguientes preguntas:  \n",
    "   - ¿Qué relaciones interesantes identificaron en los datos analizados?  \n",
    "   - ¿Qué configuraciones de parámetros (`sns.pairplot()`) fueron más útiles para revelar patrones en los datos?  \n",
    "   - ¿Cómo los gráficos interactivos mejoraron la comprensión de los datos?  \n",
    "   - ¿Qué desafíos encontraron al implementar widgets y cómo los resolvieron?  \n",
    "\n",
    "2. **Dinámica:**  \n",
    "   - Los estudiantes expondrán sus ideas en rondas breves (1-2 minutos por participante).  \n",
    "   - El instructor moderará, haciendo preguntas de seguimiento para profundizar en los puntos discutidos.  \n",
    "\n",
    "3. **Registro de ideas clave:**  \n",
    "   - Al final del foro, el instructor creará un resumen con las principales ideas discutidas y lo compartirá en el repositorio del curso.  \n",
    "\n",
    "---\n",
    "\n",
    "#### **3. Actividad de cierre**  \n",
    "**Objetivo:** Consolidar el aprendizaje mediante una presentación breve y reflexiva que combine análisis técnico y comunicación efectiva.  \n",
    "\n",
    "**Instrucciones:**  \n",
    "1. **Creación de un video:**  \n",
    "   Cada estudiante grabará una presentación breve (5 minutos máximo) en la que explique:  \n",
    "   - El propósito de `sns.pairplot()` y cómo lo usaron en su análisis.  \n",
    "   - Los parámetros que exploraron dinámicamente con widgets y cómo afectaron los resultados.  \n",
    "   - Los hallazgos clave de su análisis de datos.  \n",
    "\n",
    "2. **Herramientas sugeridas:**  \n",
    "   - Usar herramientas como OBS Studio, Loom, o Screencastify para grabar la presentación.  \n",
    "   - Incluir pantallas compartidas del cuaderno Jupyter mientras explican los gráficos.  \n",
    "\n",
    "3. **Publicación del video:**  \n",
    "   - Subir el video a YouTube (puede ser como video no listado si se requiere privacidad).  \n",
    "   - Compartir el enlace del video en el canal del curso o en el repositorio colaborativo.  \n",
    "\n",
    "4. **Evaluación:**  \n",
    "   - Los videos serán evaluados por el instructor con base en:  \n",
    "     - Claridad de la explicación.  \n",
    "     - Calidad técnica de los gráficos y widgets mostrados.  \n",
    "     - Profundidad del análisis realizado.  \n",
    "\n",
    "Esta actividad permitirá reforzar habilidades técnicas, de análisis y de comunicación, esenciales en el aprendizaje basado en proyectos."
   ]
  },
  {
   "cell_type": "markdown",
   "id": "ca3e4ffe",
   "metadata": {},
   "source": [
    "\n",
    "### **Resultado esperado**\n",
    "Los estudiantes aprenderán a utilizar herramientas de visualización avanzadas de forma interactiva, fomentando su autonomía y comprensión crítica de los datos. Además, desarrollarán habilidades prácticas en Python aplicadas al análisis de datos, reforzando su capacidad de comunicar hallazgos de manera efectiva."
   ]
  },
  {
   "cell_type": "code",
   "execution_count": null,
   "id": "cc539357",
   "metadata": {},
   "outputs": [],
   "source": []
  },
  {
   "cell_type": "markdown",
   "id": "8ba64aed",
   "metadata": {},
   "source": [
    "# Cursos que orienta el profesor Marco Julio Cañas Campillo en 2025  \n",
    "\n",
    "1. Práctica Pedagógica V para Licenciatura en Educación Infantil\n",
    "2. Fundamentos de Lógica para Licenciatura en Matemáticas \n",
    "3. Análisis Numérico para Licenciatura en Matemáticas. \n",
    "4. Cálculo Vectorial para Ingeniería Agropecuaria"
   ]
  },
  {
   "cell_type": "markdown",
   "id": "8d41fe58",
   "metadata": {
    "slideshow": {
     "slide_type": "slide"
    }
   },
   "source": [
    "# Horario de clases del profesor Marco\n",
    "\n",
    "* Lunes 8-12: Cálculo Vectorial\n",
    "* Martes 8-12 M: Análisis Numérico. \n",
    "* Miércoles 8 a 12 M: Fundamentos de la Lógica\n",
    "* Jueves 2 a 6 PM: Práctica V. \n",
    "* Viernes 8 - 12 M: Práctica V. \n",
    "* Sábados 8-12 Asesorías y espacio para retroalimentación y apoyo al trabajo independiente. "
   ]
  },
  {
   "cell_type": "markdown",
   "id": "ae114e14",
   "metadata": {
    "slideshow": {
     "slide_type": "slide"
    }
   },
   "source": [
    "# Horarios de monitoría y asesoría  \n",
    "\n",
    "Coordinador de los cursos de la Facultad de Educación para regiones:    \n",
    "\n",
    "Andrés Vélez: regioneducacion.fedu@udea.edu.co  \n",
    "Coordinador Regiones  \n",
    "Facultad de Educación  \n",
    "Universidad de Antioquia  "
   ]
  },
  {
   "cell_type": "markdown",
   "id": "b1db4b6c",
   "metadata": {
    "slideshow": {
     "slide_type": "slide"
    }
   },
   "source": [
    "## Monitor Manuel San Juan Serrano\n",
    "\n",
    "Contactar escribiendo al correo: manuel.serrano1@udea.edu.co"
   ]
  },
  {
   "cell_type": "markdown",
   "id": "39559692",
   "metadata": {
    "slideshow": {
     "slide_type": "slide"
    }
   },
   "source": [
    "Martes y jueves de 8 - 12  \n",
    "Miércoles 10 - 12 y de 2 a 4 PM  \n",
    "Sábado: 8 - 12"
   ]
  },
  {
   "cell_type": "markdown",
   "id": "10bce0d0",
   "metadata": {
    "slideshow": {
     "slide_type": "slide"
    }
   },
   "source": [
    "## Referentes "
   ]
  },
  {
   "cell_type": "markdown",
   "id": "1db3c468",
   "metadata": {
    "slideshow": {
     "slide_type": "slide"
    }
   },
   "source": [
    "* [Grajales Vanegas, L. M., Restrepo Estrada, C. E., Restrepo Ochoa, S. I., & Ruíz De Villalba, F. (2015). Matemáticas I para las ciencias económicas.](https://bibliotecadigital.udea.edu.co/handle/10495/3010)\n",
    "  \n",
    "* R. Duval y Semiosis y pensamiento humano, 2.ª ed. Cali, Colombia: Programa Editorial Universidad del Valle, 2017. [En línea]. Disponible en: https://programaeditorial.univalle.edu.co/gpd-semiosis-y-pensamiento-humano-9789587655278-63324cdb0f6b3.html\n",
    "\n",
    "* [Aylwin, C. U. (2011). Lógica, conjuntos y números. Universidad de los Andes, Consejo de Publicaciones, Colección: Ciencias Básicas, Serie: Matemáticas.](https://github.com/marco-canas/fundamentos_logica/blob/main/referentes/2_uzcategui/uscategui.pdf)\n",
    "  \n",
    "* [Chollet, F. (2021). Deep learning with Python. Simon and Schuster.](https://github.com/marco-canas/didactica_ciencia_datos/blob/main/2_referentes/chollet/Fran%C3%A7ois%20Chollet%20-%20Deep%20Learning%20with%20Python-Manning%20(2018).pdf)  \n",
    "  \n",
    "* [Watson, S., Stewart, J., & Redlin, L. (2009). Precálculo. Matemáticas para el cálculo.](https://github.com/marco-canas/calculo/blob/main/referents/1_precalculo_stewart/stewart_precalculo.pdf)  \n",
    "\n",
    "* [Purcell, E. J., Varberg, D., & Rigdon, S. E. (2007). Cálculo diferencial e integral. Pearson Educación.](https://github.com/marco-canas/calculo/blob/main/referents/purcell/purcell_calculo.pdf)\n",
    "\n",
    "  \n",
    "\n",
    "* [stewart cálculo](https://udeaeduco-my.sharepoint.com/:b:/g/personal/marco_canas_udea_edu_co/EZgXZjAp8QxPqOAim2hs6LcBNPLGjSHf-xwYnUVYkwa04w?e=RZdTCy)  \n",
    "\n",
    "* [larson](https://udeaeduco-my.sharepoint.com/:b:/g/personal/marco_canas_udea_edu_co/ES71ChFeO9ZDhW3TwC5Ijk8BjxUK3Pdqz_fjHxTTFAfIAg?e=VDEjfu)\n",
    "\n",
    "\n",
    "\n",
    "* [Recomendación de la UNESCO sobre ciencia abierta](https://unesdoc.unesco.org/ark:/48223/pf0000379949_spa)\n",
    "\n",
    "* [chatGPT](https://openai.com/blog/chatgpt)  \n",
    "\n",
    "* [Géron, A. (2017). Hands-on machine learning with scikit-learn and tensorflow: Concepts. Tools, and Techniques to build intelligent systems.](chrome-extension://efaidnbmnnnibpcajpcglclefindmkaj/http://14.139.161.31/OddSem-0822-1122/Hands-On_Machine_Learning_with_Scikit-Learn-Keras-and-TensorFlow-2nd-Edition-Aurelien-Geron.pdf)   \n"
   ]
  },
  {
   "cell_type": "markdown",
   "id": "df925560",
   "metadata": {},
   "source": [
    "\n",
    "* [McKinney, W. (2012). Python for data analysis: Data wrangling with Pandas, NumPy, and IPython. \" O'Reilly Media, Inc.\".](https://wesmckinney.com/book/) "
   ]
  },
  {
   "cell_type": "markdown",
   "id": "8e65d6f9",
   "metadata": {},
   "source": [
    "# Como estudiante, encuentro que...   \n",
    "\n",
    "F: Mis Fortalezas son:     \n",
    "O: Mis Oportunidades son:    \n",
    "D: Mis Debilidades son:    \n",
    "A: Lo que Amenazas mi aprendizaje es:  "
   ]
  },
  {
   "cell_type": "markdown",
   "id": "6b9e56a8",
   "metadata": {
    "slideshow": {
     "slide_type": "slide"
    }
   },
   "source": [
    "### [Evaluamos al profesor Marco Cañas Aquí](https://forms.office.com/Pages/ResponsePage.aspx?id=IefhmYRxjkmK_7KtTlPBwkanXIs1i1FEujpsZgO6dXpUREJPV1kxUk1JV1ozTFJIQVNIQjY5WEY3US4u)"
   ]
  },
  {
   "cell_type": "markdown",
   "id": "10f43536",
   "metadata": {
    "slideshow": {
     "slide_type": "slide"
    }
   },
   "source": [
    "### Continue su aprendizaje en la siguiente clase a través del siguiente [vínculo]()"
   ]
  },
  {
   "cell_type": "markdown",
   "id": "53cc9115",
   "metadata": {
    "slideshow": {
     "slide_type": "slide"
    }
   },
   "source": [
    "## Agradecimientos  \n",
    "\n",
    "Doy gracias a Dios por la vida de mi Hijo Joseph Cañas Osorio y la madurez que ha alcanzado. Este hijo me enorgullece y me hace falta abrazarlo cada día. \n",
    "\n",
    "Y a mi esposa Yasmira Emperatriz Barboza Mogollón por su apoyo, orientación y acompañamiento. "
   ]
  }
 ],
 "metadata": {
  "celltoolbar": "Slideshow",
  "kernelspec": {
   "display_name": "venv",
   "language": "python",
   "name": "python3"
  },
  "language_info": {
   "codemirror_mode": {
    "name": "ipython",
    "version": 3
   },
   "file_extension": ".py",
   "mimetype": "text/x-python",
   "name": "python",
   "nbconvert_exporter": "python",
   "pygments_lexer": "ipython3",
   "version": "3.12.6"
  },
  "rise": {
   "enable_chalkboard": true,
   "theme": "sky",
   "transition": "zoom"
  }
 },
 "nbformat": 4,
 "nbformat_minor": 5
}
