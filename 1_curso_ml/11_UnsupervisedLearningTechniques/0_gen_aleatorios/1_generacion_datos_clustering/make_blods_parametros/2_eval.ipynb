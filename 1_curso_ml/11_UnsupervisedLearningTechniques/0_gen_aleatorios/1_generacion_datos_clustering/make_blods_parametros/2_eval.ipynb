{
 "cells": [
  {
   "cell_type": "markdown",
   "id": "dc06dec7",
   "metadata": {
    "slideshow": {
     "slide_type": "slide"
    }
   },
   "source": [
    "<table align=\"left\">\n",
    "  <td>\n",
    "    <a href=\"https://colab.research.google.com/github/marco-canas/didactica_ciencia_datos/blob/main/1_curso_machine_learning/1_evaluacion_oral_tarea_quiz_parcial.ipynb\" target=\"_parent\"><img src=\"https://colab.research.google.com/assets/colab-badge.svg\" alt=\"Open In Colab\"/></a>\n",
    "  </td>\n",
    "  <td>\n",
    "    <a target=\"_blank\" href=\"https://kaggle.com/kernels/welcome?src=https://github.com/marco-canas/didactica_ciencia_datos/blob/main/1_curso_machine_learning/1_evaluacion_oral_tarea_quiz_parcial.ipynb\"><img src=\"https://kaggle.com/static/images/open-in-kaggle.svg\" /></a>\n",
    "  </td>\n",
    "</table>"
   ]
  },
  {
   "cell_type": "markdown",
   "id": "e0c5b198",
   "metadata": {
    "slideshow": {
     "slide_type": "slide"
    }
   },
   "source": [
    "### [Video de apoyo a la lectura interactiva y experimental de este cuaderno]()"
   ]
  },
  {
   "cell_type": "markdown",
   "id": "41e82203",
   "metadata": {
    "slideshow": {
     "slide_type": "slide"
    }
   },
   "source": [
    "## [Vínculo al programa del curso:  ]()"
   ]
  },
  {
   "cell_type": "markdown",
   "id": "ca46c23b",
   "metadata": {
    "slideshow": {
     "slide_type": "slide"
    }
   },
   "source": [
    "# Modelo general de clase: [aula invertida](https://www3.gobiernodecanarias.org/medusa/ecoescuela/pedagotic/aprendizaje-invertido-flipped-classroom/)\n"
   ]
  },
  {
   "cell_type": "markdown",
   "id": "7f9be90f",
   "metadata": {
    "slideshow": {
     "slide_type": "slide"
    }
   },
   "source": [
    "# Fomento de la lectura literaria asociada a Ingeniería agropecuaria y licenciatura en Matemáticas y administración de empresas\n",
    "\n",
    "[Hábitos atómicos](https://github.com/marco-canas/habitos_atomicos/blob/main/13_como_dejar_de_postergar_usando_la_regla_de_los_dos_minutos/1_13_como_dejar_de_postergar_usando_la_regla_de_los_dos_minutos.ipynb)"
   ]
  },
  {
   "cell_type": "markdown",
   "id": "96775931",
   "metadata": {
    "slideshow": {
     "slide_type": "slide"
    }
   },
   "source": [
    "# Título de la clase: Realización evaluación oral, de Tareas en cuadernos Jupyter, Quiz o Parcial de selección múltiple o de preguntas cerradas.  \n",
    "\n"
   ]
  },
  {
   "cell_type": "markdown",
   "id": "1d38dd4e",
   "metadata": {
    "slideshow": {
     "slide_type": "slide"
    }
   },
   "source": [
    "### Objetivo de aprendizaje (Enunciar, de manera corta sencilla y clara para todos los asistentes)\n",
    "\n",
    "* [Hipervínculo para el cuaderno de enseñanza]()\n",
    "1. Evaluar las tareas realizadas de manera manúscrita\n",
    "2. Evaluar las tareas realizadas en los cuadernos Jupyter. (Solo realizar la tercera parte de las tareas asignadas de manera manuscrita)\n",
    "3. Evaluar con un quiz escrito\n",
    "4. Evaluar con un parcial escrito.\n",
    "5. Evaluar la capacidad de describir un problema y su solución de manera oral. "
   ]
  },
  {
   "cell_type": "markdown",
   "id": "ca7261b1",
   "metadata": {
    "slideshow": {
     "slide_type": "slide"
    }
   },
   "source": [
    "## Establecimiento de prerrequisitos conceptuales para alcanzar el objetivo de aprendizaje trazado.   \n",
    "\n",
    "(Elabore una lista de preguntas al rededor de los conceptos que consideres necesarios para empezar la clase).  \n",
    "\n",
    "1. \n",
    "2. \n",
    "3. "
   ]
  },
  {
   "cell_type": "markdown",
   "id": "2298e976",
   "metadata": {
    "slideshow": {
     "slide_type": "slide"
    }
   },
   "source": [
    "# Para el diseño de la clase tenga en cuenta algunos problemas de aprendizaje"
   ]
  },
  {
   "cell_type": "markdown",
   "id": "2d46be3a",
   "metadata": {},
   "source": [
    "# Diseño de evaluación oral de si se alcanzaron los objetivos de aprendizaje planteados\n",
    "\n",
    "* Describa verbalmente el objetivo de aprendizaje y evidencie de forma oral si lo logró o no. "
   ]
  },
  {
   "cell_type": "markdown",
   "id": "4566108f",
   "metadata": {},
   "source": [
    "## Cuestionario para realizar labores de memorización, observación y síntesis de la información (Además de diagnóstico)\n",
    "\n",
    "1. ¿?\n",
    "2. ¿?\n",
    "3. ¿?\n",
    "4. ¿?\n",
    "5. ¿?"
   ]
  },
  {
   "cell_type": "markdown",
   "id": "7ee3abc5",
   "metadata": {},
   "source": [
    "# Vocabulary \n",
    "\n",
    "1. length: longitud\n",
    "2. width: ancho. \n",
    "\n",
    "[length, width](https://voca.ro/1of14ffdXnZI)"
   ]
  },
  {
   "cell_type": "code",
   "execution_count": 5,
   "id": "ad098f40",
   "metadata": {},
   "outputs": [],
   "source": [
    "# algoritmo para llamar a evaluación oral individual\n",
    "import pandas as pd\n",
    "import numpy as np\n",
    "\n",
    "# Cargar la lista de estudiantes desde la URL\n",
    "path = '/home/marco/Documentos/docencia/groups_list/calculo_vectorial.csv'\n",
    "estudiantes = pd.read_csv(path)\n",
    "estudiantes['Parcial'] = estudiantes['Parcial'].astype(float) \n",
    "\n",
    "# Convertir la columna 'Nombre' a una lista de Python\n",
    "lista_estudiantes = estudiantes['Nombre'].tolist()\n",
    "\n",
    "# Función para llamar a un estudiante aleatoriamente y registrar su nota de seguimiento\n",
    "def eval_oral():\n",
    "    if lista_estudiantes:\n",
    "        estudiante_aleatorio = np.random.choice(lista_estudiantes)\n",
    "        print(f\"Llamando a {estudiante_aleatorio}...\")\n",
    "        asistencia = input(f\"¿Se expresó bien y correco {estudiante_aleatorio}? (s/n): \").strip().lower()\n",
    "        \n",
    "        if asistencia == 's':\n",
    "            # Obtener el índice del estudiante en el DataFrame\n",
    "            indice = estudiantes[estudiantes['Nombre'] == estudiante_aleatorio].index[0]\n",
    "            # Incrementar su valor en la columna 'Parcial'\n",
    "            estudiantes.at[indice, 'Parcial'] += 0.1\n",
    "            print(f\"Actualizado: {estudiante_aleatorio} ahora tiene {estudiantes.at[indice, 'Parcial']} en la columna 'Parcial'.\")\n",
    "        \n",
    "        lista_estudiantes.remove(estudiante_aleatorio)\n",
    "    else:\n",
    "        print(\"Se han llamado a todos los estudiantes del grupo completo.\")\n",
    "\n",
    "# Guardar los cambios en el archivo CSV\n",
    "def guardar_cambios():\n",
    "    estudiantes.to_csv(path, index=False)\n",
    "    print(\"Cambios guardados en el archivo CSV.\")\n",
    "\n",
    "# Ejemplo de uso\n",
    "#while lista_estudiantes:\n",
    "#    eval_oral()\n",
    "#    guardar_cambios()\n",
    "\n",
    "\n"
   ]
  },
  {
   "cell_type": "markdown",
   "id": "cf101603",
   "metadata": {},
   "source": [
    "# Prompt para pedir el diseño de evaluación de acuerdo a la metodología de \"Enseñanza basada en proyectos\"  \n",
    "\n",
    "Dame, ahora, un diseño de evaluación para esta clase, que incluya un quiz, un parcial y tres proyectos para exponer su narrativa de desarrollo a través de cuadernos Jupyter Notebook y Videos publicados en YouTube"
   ]
  },
  {
   "cell_type": "markdown",
   "id": "42797498",
   "metadata": {},
   "source": [
    "### Diseño de Evaluación para la Clase:  \n",
    "**\"La función `sklearn.datasets.make_blobs()` y el análisis dinámico de sus parámetros con `ipywidgets` y `matplotlib`\"**\n"
   ]
  },
  {
   "cell_type": "markdown",
   "id": "8fa02291",
   "metadata": {},
   "source": [
    "\n",
    "---\n",
    "\n",
    "#### **1. Componentes de la evaluación**\n",
    "1. **Quiz (20%)**  \n",
    "   Evaluación formativa para comprobar la comprensión teórica y práctica de conceptos básicos.  \n",
    "\n",
    "2. **Parcial (30%)**  \n",
    "   Prueba práctica individual para aplicar los conocimientos adquiridos en un problema más complejo.  \n",
    "\n",
    "3. **Proyectos (50%)**  \n",
    "   Tres proyectos integradores que desarrollan y presentan una narrativa de aprendizaje a través de Jupyter Notebooks y videos en YouTube.  \n",
    "\n",
    "---\n"
   ]
  },
  {
   "cell_type": "markdown",
   "id": "01f5031e",
   "metadata": {},
   "source": [
    "\n",
    "#### **2. Detalle del Quiz (20%)**\n",
    "- **Formato**: Respuesta múltiple y ejercicios de codificación.  \n",
    "- **Duración**: 30 minutos.  \n",
    "- **Ejemplo de Preguntas**:  \n",
    "  1. ¿Qué parámetro en `make_blobs` determina el número de puntos de datos generados?  \n",
    "     a) `centers`  \n",
    "     b) `n_samples`  \n",
    "     c) `cluster_std`  \n",
    "     d) `random_state`  \n",
    "     **Respuesta correcta**: b) `n_samples`.  \n",
    "\n",
    "  2. Escribe un código para generar 300 puntos distribuidos en 4 clústeres con una desviación estándar de 1.5.  \n",
    "     **Respuesta esperada**:  \n",
    "     ```python\n",
    "     from sklearn.datasets import make_blobs\n",
    "     import matplotlib.pyplot as plt\n",
    "\n",
    "     X, y = make_blobs(n_samples=300, centers=4, cluster_std=1.5, random_state=42)\n",
    "     plt.scatter(X[:, 0], X[:, 1], c=y, cmap='viridis')\n",
    "     plt.show()\n",
    "     ```\n",
    "\n",
    "- **Evaluación**: Respuestas correctas y claridad en el código.  \n",
    "\n",
    "---\n",
    "\n",
    "#### **3. Parcial (30%)**\n",
    "- **Formato**: Trabajo práctico individual en un cuaderno Jupyter.  \n",
    "- **Duración**: 1.5 horas.  \n",
    "- **Instrucciones**:  \n",
    "  1. Generar datos sintéticos con configuraciones específicas de parámetros.  \n",
    "  2. Crear una función personalizada para explorar dinámicamente los datos generados.  \n",
    "  3. Implementar una animación que muestre cómo cambian los datos al modificar el parámetro `cluster_std`.  \n",
    "\n",
    "- **Criterios de evaluación**:  \n",
    "  - **(40%)** Correctitud del código y funcionamiento de las funciones.  \n",
    "  - **(30%)** Calidad de las visualizaciones y animaciones.  \n",
    "  - **(30%)** Comentarios y explicaciones claras en el cuaderno Jupyter.  \n"
   ]
  },
  {
   "cell_type": "markdown",
   "id": "7c2e7868",
   "metadata": {},
   "source": [
    "\n",
    "---\n",
    "\n",
    "#### **4. Proyectos (50%)**  \n",
    "##### **Proyecto 1 (15%): Exploración básica de `make_blobs`**\n",
    "- **Objetivo**: Comprender cómo los parámetros individuales afectan la generación de datos.  \n",
    "- **Tareas**:  \n",
    "  1. Crear un cuaderno Jupyter que explique el propósito de cada parámetro de `make_blobs`.  \n",
    "  2. Generar gráficos interactivos con `ipywidgets` que permitan explorar los efectos de los parámetros.  \n",
    "- **Entrega**:  \n",
    "  - Jupyter Notebook en GitHub.  \n",
    "  - Video explicativo (5 minutos) en YouTube.  \n",
    "- **Criterios de evaluación**:  \n",
    "  - **(50%)** Explicación de parámetros.  \n",
    "  - **(30%)** Interactividad de los widgets.  \n",
    "  - **(20%)** Narrativa del video.  \n",
    "\n",
    "##### **Proyecto 2 (15%): Función personalizada y análisis dinámico**\n",
    "- **Objetivo**: Diseñar una función avanzada que permita explorar combinaciones de parámetros.  \n",
    "- **Tareas**:  \n",
    "  1. Crear una función que genere datos y grafique clusters dinámicos.  \n",
    "  2. Explorar los efectos de múltiples parámetros (e.g., `centers`, `cluster_std`, `random_state`).  \n",
    "- **Entrega**:  \n",
    "  - Cuaderno Jupyter con visualizaciones.  \n",
    "  - Video tutorial (7 minutos) en YouTube explicando el desarrollo y uso de la función.  \n",
    "- **Criterios de evaluación**:  \n",
    "  - **(40%)** Calidad y funcionalidad de la función personalizada.  \n",
    "  - **(30%)** Visualizaciones claras y dinámicas.  \n",
    "  - **(30%)** Claridad del video.  \n",
    "\n",
    "##### **Proyecto 3 (20%): Animaciones y narrativa de aprendizaje**\n",
    "- **Objetivo**: Crear una narrativa que integre todos los conocimientos de la clase en un proyecto final.  \n",
    "- **Tareas**:  \n",
    "  1. Diseñar un cuaderno Jupyter que use animaciones para explorar dinámicamente los datos generados.  \n",
    "  2. Presentar un análisis reflexivo sobre las implicaciones de los parámetros en aplicaciones de Machine Learning.  \n",
    "- **Entrega**:  \n",
    "  - Cuaderno Jupyter con animaciones y explicaciones detalladas.  \n",
    "  - Video final (10 minutos) en YouTube mostrando el proyecto completo.  \n",
    "- **Criterios de evaluación**:  \n",
    "  - **(30%)** Innovación en las animaciones y análisis.  \n",
    "  - **(30%)** Narrativa coherente y reflexiva en el cuaderno.  \n",
    "  - **(40%)** Calidad y claridad del video explicativo.  \n",
    "\n",
    "---\n"
   ]
  },
  {
   "cell_type": "markdown",
   "id": "cab671d7",
   "metadata": {},
   "source": [
    "\n",
    "#### **5. Resumen de ponderaciones**\n",
    "| Componente            | Peso  |\n",
    "|------------------------|-------|\n",
    "| Quiz                  | 20%   |\n",
    "| Parcial               | 30%   |\n",
    "| Proyecto 1            | 15%   |\n",
    "| Proyecto 2            | 15%   |\n",
    "| Proyecto 3            | 20%   |\n",
    "| **Total**             | 100%  |  \n",
    "\n",
    "Este diseño de evaluación fomenta la integración de conocimientos, creatividad en la presentación, y el desarrollo de habilidades prácticas en programación y visualización."
   ]
  },
  {
   "cell_type": "markdown",
   "id": "fb9402bb",
   "metadata": {
    "slideshow": {
     "slide_type": "slide"
    }
   },
   "source": [
    "## Estrategias propuestas para la solución de las dificultades de aprendizaje detectadas"
   ]
  },
  {
   "cell_type": "markdown",
   "id": "2dd3bd5c",
   "metadata": {
    "slideshow": {
     "slide_type": "slide"
    }
   },
   "source": []
  },
  {
   "cell_type": "markdown",
   "id": "c6236d5d",
   "metadata": {},
   "source": [
    "# FODA del grupo y del profesor  \n",
    "\n",
    "* F: Fortalezas\n",
    "* O: Oportunidades\n",
    "* D: Dificultades\n",
    "* A: Amenazas."
   ]
  },
  {
   "cell_type": "markdown",
   "id": "b48f9542",
   "metadata": {},
   "source": [
    "## ¿Cómo se sintió en este espacio de enseñanza y aprendizaje?\n",
    "\n",
    "!Dios te bendiga¡"
   ]
  },
  {
   "cell_type": "markdown",
   "id": "10bce0d0",
   "metadata": {
    "slideshow": {
     "slide_type": "slide"
    }
   },
   "source": [
    "## Referentes "
   ]
  },
  {
   "cell_type": "markdown",
   "id": "d204c917",
   "metadata": {},
   "source": [
    "* [Grajales Vanegas, L. M., Restrepo Estrada, C. E., Restrepo Ochoa, S. I., & Ruíz De Villalba, F. (2015). Matemáticas I para las ciencias económicas.](https://github.com/marco-canas/fundamentos_de_la_aritmetica/blob/main/referentes/2_grajales_logica/grajales_lina_matemticas.pdf)\n",
    "  \n",
    "* Duval, R. (2004). Semiosis y pensamiento humano: registros semióticos y aprendizajes intelectuales. Universidad del Valle.\n",
    "\n",
    "* [Aylwin, C. U. (2011). Lógica, conjuntos y números. Universidad de los Andes, Consejo de Publicaciones, Colección: Ciencias Básicas, Serie: Matemáticas.](https://github.com/marco-canas/fundamentos_logica/blob/main/referentes/2_uzcategui/uscategui.pdf)\n",
    "  \n",
    "* [Chollet, F. (2021). Deep learning with Python. Simon and Schuster.](https://github.com/marco-canas/didactica_ciencia_datos/blob/main/2_referentes/chollet/Fran%C3%A7ois%20Chollet%20-%20Deep%20Learning%20with%20Python-Manning%20(2018).pdf)  \n",
    "  \n",
    "* [Watson, S., Stewart, J., & Redlin, L. (2009). Precálculo. Matemáticas para el cálculo.](https://github.com/marco-canas/calculo/blob/main/referents/1_precalculo_stewart/stewart_precalculo.pdf)  \n",
    "\n",
    "* [Purcell, E. J., Varberg, D., & Rigdon, S. E. (2007). Cálculo diferencial e integral. Pearson Educación.](https://github.com/marco-canas/calculo/blob/main/referents/purcell/purcell_calculo.pdf)\n",
    "\n",
    "  \n",
    "\n",
    "* [stewart cálculo](https://udeaeduco-my.sharepoint.com/:b:/g/personal/marco_canas_udea_edu_co/EZgXZjAp8QxPqOAim2hs6LcBNPLGjSHf-xwYnUVYkwa04w?e=RZdTCy)  \n",
    "\n",
    "* [larson](https://udeaeduco-my.sharepoint.com/:b:/g/personal/marco_canas_udea_edu_co/ES71ChFeO9ZDhW3TwC5Ijk8BjxUK3Pdqz_fjHxTTFAfIAg?e=VDEjfu)\n",
    "\n",
    "\n",
    "\n",
    "* [Recomendación de la UNESCO sobre ciencia abierta](https://unesdoc.unesco.org/ark:/48223/pf0000379949_spa)\n",
    "\n",
    "* [chatGPT](https://openai.com/blog/chatgpt)  \n",
    "\n",
    "* [Géron, A. (2017). Hands-on machine learning with scikit-learn and tensorflow: Concepts. Tools, and Techniques to build intelligent systems.](chrome-extension://efaidnbmnnnibpcajpcglclefindmkaj/http://14.139.161.31/OddSem-0822-1122/Hands-On_Machine_Learning_with_Scikit-Learn-Keras-and-TensorFlow-2nd-Edition-Aurelien-Geron.pdf)   \n"
   ]
  },
  {
   "cell_type": "markdown",
   "id": "6b9e56a8",
   "metadata": {
    "slideshow": {
     "slide_type": "slide"
    }
   },
   "source": [
    "### [Evaluamos al profesor Marco Cañas Aquí](https://forms.office.com/Pages/ResponsePage.aspx?id=IefhmYRxjkmK_7KtTlPBwkanXIs1i1FEujpsZgO6dXpUREJPV1kxUk1JV1ozTFJIQVNIQjY5WEY3US4u)"
   ]
  },
  {
   "cell_type": "markdown",
   "id": "071afa04",
   "metadata": {
    "slideshow": {
     "slide_type": "slide"
    }
   },
   "source": [
    "## [Evaluación luego de alcanzar estos objetivos de aprendizaje]()"
   ]
  },
  {
   "cell_type": "markdown",
   "id": "10f43536",
   "metadata": {
    "slideshow": {
     "slide_type": "slide"
    }
   },
   "source": [
    "### Continue su aprendizaje en la siguiente clase a través del siguiente [vínculo]()"
   ]
  },
  {
   "cell_type": "markdown",
   "id": "af751e30",
   "metadata": {
    "slideshow": {
     "slide_type": "slide"
    }
   },
   "source": [
    "# Conjeturas pedagógicas fruto de la aplicación del modelo de aprendizaje invertido y del enfoque hacia la ciencia de datos con python\n",
    "\n",
    "1. Todo cálculo o resultado debe ser interpretado en una línea markdown del cuaderno Jupyter, inmediatamente después de la enunciación del resultado y después de la presentación de una tabla o gráfico bidimensional, de tal menera que el estudiante explicite la comprensión verbal del resultado y las inferencias o estrategias que este resultado le sugieren.   "
   ]
  }
 ],
 "metadata": {
  "celltoolbar": "Slideshow",
  "kernelspec": {
   "display_name": "Python 3 (ipykernel)",
   "language": "python",
   "name": "python3"
  },
  "language_info": {
   "codemirror_mode": {
    "name": "ipython",
    "version": 3
   },
   "file_extension": ".py",
   "mimetype": "text/x-python",
   "name": "python",
   "nbconvert_exporter": "python",
   "pygments_lexer": "ipython3",
   "version": "3.10.12"
  },
  "rise": {
   "enable_chalkboard": true,
   "theme": "sky",
   "transition": "zoom"
  }
 },
 "nbformat": 4,
 "nbformat_minor": 5
}
