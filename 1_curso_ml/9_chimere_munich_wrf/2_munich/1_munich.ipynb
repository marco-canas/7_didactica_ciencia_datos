{
 "cells": [
  {
   "cell_type": "markdown",
   "id": "dc06dec7",
   "metadata": {
    "slideshow": {
     "slide_type": "slide"
    }
   },
   "source": [
    "<table align=\"left\">\n",
    "  <td>\n",
    "    <a href=\"https://colab.research.google.com/github/ageron/handson-ml3/blob/main/tools_numpy.ipynb\" target=\"_parent\"><img src=\"https://colab.research.google.com/assets/colab-badge.svg\" alt=\"Open In Colab\"/></a>\n",
    "  </td>\n",
    "  <td>\n",
    "    <a target=\"_blank\" href=\"https://kaggle.com/kernels/welcome?src=https://github.com/ageron/handson-ml3/blob/main/tools_numpy.ipynb\"><img src=\"https://kaggle.com/static/images/open-in-kaggle.svg\" /></a>\n",
    "  </td>\n",
    "</table>"
   ]
  },
  {
   "cell_type": "markdown",
   "id": "e0c5b198",
   "metadata": {
    "slideshow": {
     "slide_type": "slide"
    }
   },
   "source": [
    "### [Video de apoyo a la lectura interactiva y experimental de este cuaderno]()"
   ]
  },
  {
   "cell_type": "markdown",
   "id": "41e82203",
   "metadata": {
    "slideshow": {
     "slide_type": "slide"
    }
   },
   "source": [
    "### [Vínculo al programa del curso:  ]()\n",
    "\n"
   ]
  },
  {
   "cell_type": "markdown",
   "id": "d7598d0a-d9b7-4ae0-b029-a0ed6ed1130b",
   "metadata": {},
   "source": [
    "\n",
    "# Principios de mi labor docente"
   ]
  },
  {
   "cell_type": "markdown",
   "id": "4f9d8cf9",
   "metadata": {
    "slideshow": {
     "slide_type": "slide"
    }
   },
   "source": [
    "## Modelo general de clase: [aula invertida](https://www3.gobiernodecanarias.org/medusa/ecoescuela/pedagotic/aprendizaje-invertido-flipped-classroom/)"
   ]
  },
  {
   "cell_type": "markdown",
   "id": "eb6ed03a",
   "metadata": {},
   "source": [
    "<img src = 'https://resources.maneuveringthemiddle.com/wp-content/uploads/2020/07/04212706/1-5.png' width = 400>  \n",
    "\n"
   ]
  },
  {
   "cell_type": "markdown",
   "id": "34319cce-a71b-4f64-aab8-b53e521efa40",
   "metadata": {},
   "source": [
    "# Metodología de enseñanza basada en problemas (ABP)\n"
   ]
  },
  {
   "cell_type": "markdown",
   "id": "c4f73d81",
   "metadata": {},
   "source": [
    "\n",
    "<img src = 'https://www.unir.net/wp-content/uploads/2020/07/aprendizaje-problemas2-1-1-1-1.jpeg' width = 300>"
   ]
  },
  {
   "cell_type": "markdown",
   "id": "841a985c-bd9b-4dd3-8e4c-893983980af2",
   "metadata": {},
   "source": [
    "# Desarrollo del pensamiento computacional con python y cuadernos Jupyter  orientado a la formación en ciencia de datos \n",
    "\n"
   ]
  },
  {
   "cell_type": "markdown",
   "id": "3d0eba94",
   "metadata": {},
   "source": [
    "\n",
    "<img src = 'https://i.ytimg.com/vi/mcG_wcR4e6M/maxresdefault.jpg' width = 400>"
   ]
  },
  {
   "cell_type": "markdown",
   "id": "65aa0404-f7ae-495e-864c-1aec01b4255e",
   "metadata": {},
   "source": [
    "# Principio de fomento a la ciencia abierta, enseñar en el acceso a los datos públicos y el uso de software de código abierto  \n"
   ]
  },
  {
   "cell_type": "markdown",
   "id": "18ae9b87",
   "metadata": {},
   "source": [
    "\n",
    "<img src = 'https://unesdoc.unesco.org/in/rest/Thumb/image?id=p%3A%3Ausmarcdef_0000379949_spa&author=UNESCO&title=Recomendaci%C3%B3n+de+la+UNESCO+sobre+la+Ciencia+Abierta&year=2021&publisher=UNESCO&TypeOfDocument=UnescoPhysicalDocument&mat=PGD&ct=true&size=512&isPhysical=1' width = 200>"
   ]
  },
  {
   "cell_type": "markdown",
   "id": "d9559f85",
   "metadata": {},
   "source": [
    "El enfoque STEAMS en educación preescolar, primaria y secundaria es una extensión del enfoque STEM (Ciencia, Tecnología, Ingeniería y Matemáticas) y su variante STEAM, que incorpora el Arte. "
   ]
  },
  {
   "cell_type": "markdown",
   "id": "72e1cfd2",
   "metadata": {},
   "source": [
    "El acrónimo STEAMS incluye:\n"
   ]
  },
  {
   "cell_type": "markdown",
   "id": "03182fd1",
   "metadata": {},
   "source": [
    "\n",
    "1. **Science (Ciencia):** Fomenta la curiosidad por el mundo natural y el desarrollo de habilidades científicas, como la observación, experimentación y análisis.\n"
   ]
  },
  {
   "cell_type": "markdown",
   "id": "1306d0fa",
   "metadata": {},
   "source": [
    "\n",
    "2. **Technology (Tecnología):** Integra herramientas tecnológicas para potenciar el aprendizaje y la resolución de problemas, promoviendo la alfabetización digital desde edades tempranas.\n"
   ]
  },
  {
   "cell_type": "markdown",
   "id": "3b1a53e8",
   "metadata": {},
   "source": [
    "\n",
    "3. **Engineering (Ingeniería):** Introduce el pensamiento lógico y la resolución de problemas estructurados, fomentando habilidades como el diseño y la construcción de soluciones.\n"
   ]
  },
  {
   "cell_type": "markdown",
   "id": "0196de87",
   "metadata": {},
   "source": [
    "\n",
    "4. **Arts (Arte):** Añade creatividad y pensamiento crítico, permitiendo a los estudiantes expresarse y explorar el aprendizaje a través de formas artísticas (plásticas, música, teatro).\n"
   ]
  },
  {
   "cell_type": "markdown",
   "id": "8bcc485a",
   "metadata": {},
   "source": [
    "\n",
    "5. **Mathematics (Matemáticas):** Refuerza las habilidades numéricas y el razonamiento lógico, fundamentales en la resolución de problemas y comprensión de conceptos abstractos.\n"
   ]
  },
  {
   "cell_type": "markdown",
   "id": "907935f4",
   "metadata": {},
   "source": [
    "\n",
    "6. **Social Sciences (Ciencias Sociales):** Incorpora la comprensión del entorno social, político, cultural y económico, promoviendo el desarrollo de la conciencia crítica sobre el mundo y su historia, además de habilidades de empatía y ciudadanía.\n"
   ]
  },
  {
   "cell_type": "markdown",
   "id": "39967d63",
   "metadata": {},
   "source": [
    "\n",
    "El enfoque STEAMS pretende desarrollar un aprendizaje **interdisciplinario** que integre estas áreas para fomentar un pensamiento más holístico y práctico. "
   ]
  },
  {
   "cell_type": "markdown",
   "id": "5145f077",
   "metadata": {},
   "source": [
    "Se busca que los estudiantes no solo aprendan conocimientos técnicos, sino también cómo aplicarlos creativa y críticamente en situaciones reales, promoviendo habilidades como el trabajo en equipo, la comunicación y la innovación. "
   ]
  },
  {
   "cell_type": "markdown",
   "id": "9d556584",
   "metadata": {},
   "source": [
    "En educación preescolar, primaria, secundaria y superior, se adapta a las diferentes etapas de desarrollo cognitivo y emocional de los estudiantes, promoviendo el aprendizaje activo y contextualizado.  \n"
   ]
  },
  {
   "cell_type": "markdown",
   "id": "0130ec1b",
   "metadata": {},
   "source": [
    "\n",
    "<img src = 'https://www.campuseducacion.com/blog/wp-content/uploads/2023/03/foto01-1.jpg' width = 400>"
   ]
  },
  {
   "cell_type": "markdown",
   "id": "9d15c10d-2c02-4158-9419-b1ed79b4c1ee",
   "metadata": {},
   "source": [
    "# Qué estamos haciendo por la internalización en esta clase y este curso  \n"
   ]
  },
  {
   "cell_type": "markdown",
   "id": "6e4feef2",
   "metadata": {},
   "source": [
    "Estas son mis acciones como docente de matemáticas en la Universidad de Antioquia con miras a la **internacionalización** de mi práctica docente y el desarrollo de competencias internacionales para mis estudiantes, las cuales he estructurado con el siguiente enfoque:\n"
   ]
  },
  {
   "cell_type": "markdown",
   "id": "964d9de7-53ee-4255-9bcd-d8e6454f2993",
   "metadata": {},
   "source": [
    "### 1. **Visión Global en la Formación Académica**\n"
   ]
  },
  {
   "cell_type": "markdown",
   "id": "d9bdd3e2",
   "metadata": {},
   "source": [
    "   - **Competencias Internacionales**: Asegúrate de que el contenido de tus cursos fomente habilidades que sean reconocidas globalmente. Al educar a los estudiantes en **Python, LaTeX, Markdown y Jupyter Notebooks** y en la **introducción a la ciencia de datos y técnicas de Machine Learning**, estás proporcionando competencias altamente demandadas en los sectores tecnológicos y académicos a nivel internacional.\n"
   ]
  },
  {
   "cell_type": "markdown",
   "id": "39b55206",
   "metadata": {},
   "source": [
    "   - **Relevancia de los Contenidos**: Destaca cómo los temas que enseñas, como el **desarrollo del pensamiento computacional** y la **ciencia de datos**, están alineados con las necesidades globales actuales en diversas industrias, desde la tecnología hasta las ciencias naturales y sociales.\n"
   ]
  },
  {
   "cell_type": "markdown",
   "id": "a054599e",
   "metadata": {},
   "source": [
    "   - **Referencias a Estándares Internacionales**: Puedes vincular tu enseñanza a estándares internacionales de competencias en programación y ciencia de datos (por ejemplo, frameworks del **IEEE, ACM**, y estándares de la **data science** o la **computación en la nube**)."
   ]
  },
  {
   "cell_type": "markdown",
   "id": "0f1d110c-3142-48fe-9e7d-5fbd9e8bb931",
   "metadata": {},
   "source": [
    "### 2. **Innovación Pedagógica con Enfoque Internacional**\n"
   ]
  },
  {
   "cell_type": "markdown",
   "id": "fae6ae34",
   "metadata": {},
   "source": [
    "   - **Aula Invertida y ABP**: Presenta cómo tu enfoque de **aula invertida** y **aprendizaje basado en problemas (ABP)** permite a los estudiantes trabajar de manera autónoma y colaborativa, lo que los prepara para escenarios laborales internacionales que requieren autoaprendizaje y habilidades de resolución de problemas en equipo.\n"
   ]
  },
  {
   "cell_type": "markdown",
   "id": "c83062d9",
   "metadata": {},
   "source": [
    "   - **Uso de Jupyter Notebooks**: El uso de **Jupyter Notebooks** en tus clases no solo facilita la **integración de código, matemáticas y texto**, sino que también es una plataforma utilizada globalmente en ambientes académicos y profesionales, lo que hace a tus estudiantes más competitivos internacionalmente."
   ]
  },
  {
   "cell_type": "markdown",
   "id": "960d52b7-03cd-4eb3-965e-5cdfeb7d9f8e",
   "metadata": {},
   "source": [
    "### 3. **Tecnología y Herramientas de Uso Global**\n"
   ]
  },
  {
   "cell_type": "markdown",
   "id": "4be7269f",
   "metadata": {},
   "source": [
    "   - **Lenguaje Python**: Python es uno de los lenguajes de programación más usados a nivel mundial, tanto en la academia como en la industria. Al formar a tus estudiantes en Python para ciencia de datos y machine learning, los preparas para operar en entornos tecnológicos globales.\n"
   ]
  },
  {
   "cell_type": "markdown",
   "id": "102655af",
   "metadata": {},
   "source": [
    "   - **Herramientas de Ciencia Abierta**: Resalta cómo herramientas como **GitHub**, **Google Colab** y otras plataformas de código abierto están alineadas con el movimiento de **ciencia abierta**, el cual es internacionalmente reconocido y permite que los estudiantes colaboren y compartan proyectos a nivel global."
   ]
  },
  {
   "cell_type": "markdown",
   "id": "3b2ffa32-7a6f-4545-ba7b-c6a69f51109f",
   "metadata": {},
   "source": [
    "### 4. **Investigación y Publicaciones Internacionales**\n"
   ]
  },
  {
   "cell_type": "markdown",
   "id": "bdbf52a5",
   "metadata": {},
   "source": [
    "   - **Promoción de la Investigación**: Detalla cómo promueves que tus estudiantes participen en proyectos de **investigación aplicada**, con posibilidad de publicación en revistas internacionales. Esto contribuye a la reputación internacional de la Universidad de Antioquia.\n"
   ]
  },
  {
   "cell_type": "markdown",
   "id": "ea01fcbc",
   "metadata": {},
   "source": [
    "   - **Colaboraciones Internacionales**: Si has colaborado con investigadores de otras instituciones o universidades en el extranjero, menciona estos proyectos y cómo han enriquecido tu enseñanza y proporcionado a los estudiantes una visión más globalizada."
   ]
  },
  {
   "cell_type": "markdown",
   "id": "5d1e396e-aece-4bf7-9421-32fa7809eaf4",
   "metadata": {},
   "source": [
    "### 5. **Uso del Inglés para la Internacionalización**\n"
   ]
  },
  {
   "cell_type": "markdown",
   "id": "d5e6cb98",
   "metadata": {},
   "source": [
    "   - **Comunicación Científica en Inglés**: Fomentar el aprendizaje del inglés como lengua científica es clave para que tus estudiantes puedan acceder a publicaciones internacionales, conferencias, y material académico que no está disponible en español. Esto es esencial para que adquieran competencias que les permitan desempeñarse en cualquier contexto internacional.\n"
   ]
  },
  {
   "cell_type": "markdown",
   "id": "02eb4f2c",
   "metadata": {},
   "source": [
    "   - **Material Bilingüe**: Al generar material educativo en Python, LaTeX y Markdown, considera ofrecer algunos de estos recursos en inglés, para que los estudiantes se familiaricen con el vocabulario técnico y científico internacional."
   ]
  },
  {
   "cell_type": "markdown",
   "id": "c6a8c3b0-426a-4692-a384-3065aea81c9a",
   "metadata": {},
   "source": [
    "### 6. **Certificaciones y Estándares Internacionales**\n"
   ]
  },
  {
   "cell_type": "markdown",
   "id": "b1f41da5",
   "metadata": {},
   "source": [
    "   - **Participación en Certificaciones Internacionales**: Impulsa que los estudiantes busquen certificaciones internacionales en Python o ciencia de datos (como las ofrecidas por **Coursera, edX,** o **Google**). Estas certificaciones no solo validan sus competencias, sino que también incrementan el reconocimiento de la Universidad de Antioquia en el contexto internacional.\n"
   ]
  },
  {
   "cell_type": "markdown",
   "id": "7cc66317",
   "metadata": {},
   "source": [
    "   - **Alineación con Acreditaciones Internacionales**: Vincula tu trabajo docente con los estándares de acreditación y certificación que garantizan que la universidad siga siendo reconocida internacionalmente. Puedes vincularte con organizaciones internacionales que promuevan la excelencia en la educación y tecnología, como **ABET** para la acreditación en ingeniería y ciencias computacionales."
   ]
  },
  {
   "cell_type": "markdown",
   "id": "65d3d9e1-ea84-43e0-8197-a2a9c9e21594",
   "metadata": {},
   "source": [
    "### 7. **Proyectos Abiertos y Ciencia Reproducible**\n"
   ]
  },
  {
   "cell_type": "markdown",
   "id": "fe085f61",
   "metadata": {},
   "source": [
    "   - **GitHub y Open Science**: La utilización de **GitHub** para almacenar los proyectos y materiales de enseñanza en repositorios públicos permite que otros investigadores y educadores internacionales puedan revisar y replicar tu trabajo. Esto contribuye a la creación de una red de colaboración científica abierta.\n",
    "   - **Transparencia y Reproducibilidad**: La ciencia de datos y machine learning están profundamente ligados a la reproducibilidad. Asegura que tus estudiantes desarrollen prácticas de transparencia y documentación en la investigación, que son pilares en la comunidad científica global.\n"
   ]
  },
  {
   "cell_type": "markdown",
   "id": "215cb551",
   "metadata": {},
   "source": [
    "\n",
    "### 8. **Participación en Redes y Conferencias Internacionales**\n"
   ]
  },
  {
   "cell_type": "markdown",
   "id": "9e58e215",
   "metadata": {},
   "source": [
    "   - **Presentación en Conferencias Internacionales**: Destaca cómo tu participación en conferencias internacionales (como la **ASCOLFA** o eventos sobre educación en matemáticas) contribuye al prestigio de la universidad y permite que tus prácticas sean evaluadas y reconocidas a nivel global.\n"
   ]
  },
  {
   "cell_type": "markdown",
   "id": "cdf46e29",
   "metadata": {},
   "source": [
    "   - **Promoción de Estudiantes en Eventos Internacionales**: Impulsa la participación de tus estudiantes en competiciones internacionales de programación o hackathons, como los organizados por **Google**, **ACM** o **Kaggle**. Esto no solo desarrolla sus habilidades, sino que también visibiliza el talento de la Universidad de Antioquia a nivel global.\n",
    "\n",
    "---"
   ]
  },
  {
   "cell_type": "markdown",
   "id": "233294a4-1983-4641-a7ad-866825e02315",
   "metadata": {},
   "source": [
    "Con esta estrategia, presento mis acciones docentes en términos de competencias internacionales, innovación pedagógica, tecnología, investigación y participación en redes globales, asegurando que mi práctica esté alineada con los estándares internacionales y que tus estudiantes estén preparados para competir en contextos internacionales."
   ]
  },
  {
   "cell_type": "markdown",
   "id": "8d97dc80",
   "metadata": {
    "slideshow": {
     "slide_type": "slide"
    }
   },
   "source": [
    "## Fomento de la lectura literaria asociada a Ingeniería agropecuaria y licenciatura en Matemáticas\n",
    "\n",
    "[Aprender a obtener el sí sin ceder]()"
   ]
  },
  {
   "cell_type": "markdown",
   "id": "96775931",
   "metadata": {
    "slideshow": {
     "slide_type": "slide"
    }
   },
   "source": [
    "## Título de la clase: Introducción a Munich    \n",
    "\n",
    "[]()"
   ]
  },
  {
   "cell_type": "markdown",
   "id": "e23b528a",
   "metadata": {},
   "source": [
    "# Objetivo de aprendizaje  \n",
    "\n",
    "Instalar MUNICH y comenzar a utilizarlo con ejemplos sencillos usando datos del IDEAM. "
   ]
  },
  {
   "cell_type": "markdown",
   "id": "540f0ec1",
   "metadata": {
    "slideshow": {
     "slide_type": "slide"
    }
   },
   "source": [
    "## Cuestionario para realizar labores de memorización, observación y síntesis de la información (Además de diagnóstico)  \n",
    "\n",
    "Aquí tienes un cuestionario introductorio sobre MUNICH (Modelo Unificado para la Información de la Calidad del Aire y Meteorología) para el manejo de datos meteorológicos, junto con las respuestas: \n",
    "\n",
    "---\n"
   ]
  },
  {
   "cell_type": "markdown",
   "id": "7d864a02",
   "metadata": {},
   "source": [
    "\n",
    "### **Cuestionario sobre MUNICH para manejo de datos meteorológicos**\n",
    "\n",
    "#### **1. ¿Qué es MUNICH y para qué se utiliza?**  \n",
    "**Respuesta:**  \n",
    "MUNICH (Modelo Unificado para la Información de la Calidad del Aire y Meteorología) es una herramienta computacional utilizada para modelar y analizar la dispersión de contaminantes atmosféricos en entornos urbanos, tomando en cuenta datos meteorológicos y emisiones. Es útil para evaluar la calidad del aire y proponer estrategias de mitigación.\n",
    "\n",
    "---\n"
   ]
  },
  {
   "cell_type": "markdown",
   "id": "80954961",
   "metadata": {},
   "source": [
    "\n",
    "#### **2. ¿Cuáles son las principales fuentes de datos que se integran en MUNICH?**  \n",
    "**Respuesta:**  \n",
    "Las principales fuentes de datos incluyen:  \n",
    "1. **Datos meteorológicos:** Velocidad y dirección del viento, temperatura, presión, y humedad relativa.  \n",
    "2. **Inventarios de emisiones:** Información sobre fuentes de contaminantes, como transporte, industrias y actividades residenciales.  \n",
    "3. **Datos geográficos:** Mapas de calles, alturas de edificios y distribución de fuentes de emisión.\n",
    "\n",
    "---\n"
   ]
  },
  {
   "cell_type": "markdown",
   "id": "7b28f523",
   "metadata": {},
   "source": [
    "\n",
    "#### **3. ¿Qué tipo de contaminantes se pueden analizar con MUNICH?**  \n",
    "**Respuesta:**  \n",
    "MUNICH puede analizar contaminantes como el dióxido de nitrógeno (NO₂), monóxido de carbono (CO), partículas en suspensión (PM₁₀, PM₂.₅), ozono (O₃), y compuestos orgánicos volátiles (COVs).\n",
    "\n",
    "---\n"
   ]
  },
  {
   "cell_type": "markdown",
   "id": "5ed672f4",
   "metadata": {},
   "source": [
    "\n",
    "#### **4. ¿Qué formato de archivo suelen tener los datos meteorológicos que se integran en MUNICH?**  \n",
    "**Respuesta:**  \n",
    "Los datos meteorológicos suelen estar en formatos estandarizados como **NetCDF**, **CSV**, o **HDF5**, compatibles con herramientas científicas de análisis.\n",
    "\n",
    "---\n"
   ]
  },
  {
   "cell_type": "markdown",
   "id": "eab17571",
   "metadata": {},
   "source": [
    "\n",
    "#### **5. ¿Cuáles son los pasos básicos para preparar datos meteorológicos en MUNICH?**  \n",
    "**Respuesta:**  \n",
    "1. Recopilar datos meteorológicos de estaciones o modelos como WRF.  \n",
    "2. Convertir los datos al formato compatible (NetCDF o CSV).  \n",
    "3. Asegurarse de que los datos incluyen las variables necesarias (viento, temperatura, humedad, etc.).  \n",
    "4. Validar los datos mediante visualización y revisión de consistencia.  \n",
    "5. Integrar los datos en MUNICH para su modelado.\n",
    "\n",
    "---\n"
   ]
  },
  {
   "cell_type": "markdown",
   "id": "6b55863e",
   "metadata": {},
   "source": [
    "\n",
    "#### **6. ¿Qué herramientas de programación son compatibles con MUNICH para manejar datos?**  \n",
    "**Respuesta:**  \n",
    "MUNICH es compatible con lenguajes y bibliotecas como:  \n",
    "- **Python**: Bibliotecas como `numpy`, `pandas`, y `netCDF4`.  \n",
    "- **R**: Bibliotecas para análisis estadístico y manejo de datos meteorológicos.  \n",
    "- **Fortran**: Para el núcleo del modelo y simulaciones avanzadas.\n",
    "\n",
    "---\n"
   ]
  },
  {
   "cell_type": "markdown",
   "id": "3b528b02",
   "metadata": {},
   "source": [
    "\n",
    "#### **7. ¿Cómo se visualizan los resultados obtenidos con MUNICH?**  \n",
    "**Respuesta:**  \n",
    "Los resultados pueden visualizarse mediante:  \n",
    "- **Mapas de concentración**: Mostrando la distribución espacial de contaminantes.  \n",
    "- **Series temporales**: Para analizar la evolución de contaminantes en el tiempo.  \n",
    "- Herramientas como **Matplotlib** y **Plotly** en Python o **QGIS** para mapas.\n",
    "\n",
    "---\n"
   ]
  },
  {
   "cell_type": "markdown",
   "id": "d43d267a",
   "metadata": {},
   "source": [
    "\n",
    "#### **8. ¿Cuál es la importancia de incluir datos meteorológicos precisos en MUNICH?**  \n",
    "**Respuesta:**  \n",
    "Los datos meteorológicos precisos son fundamentales porque determinan la dispersión de los contaminantes. Variables como la velocidad del viento y la temperatura afectan directamente cómo y dónde se dispersan los contaminantes.\n",
    "\n",
    "---\n"
   ]
  },
  {
   "cell_type": "markdown",
   "id": "b63a00c7",
   "metadata": {},
   "source": [
    "\n",
    "#### **9. ¿Qué modelos meteorológicos se suelen utilizar junto con MUNICH?**  \n",
    "**Respuesta:**  \n",
    "Modelos como:  \n",
    "- **WRF (Weather Research and Forecasting Model)**  \n",
    "- **GFS (Global Forecast System)**  \n",
    "- **ECMWF (European Centre for Medium-Range Weather Forecasts)**  \n",
    "\n",
    "Estos proporcionan datos meteorológicos detallados para ser integrados en MUNICH.\n",
    "\n",
    "---\n"
   ]
  },
  {
   "cell_type": "markdown",
   "id": "23a17e09",
   "metadata": {},
   "source": [
    "\n",
    "#### **10. ¿Qué desafíos se pueden encontrar al usar MUNICH con datos meteorológicos?**  \n",
    "**Respuesta:**  \n",
    "Algunos desafíos incluyen:  \n",
    "1. Falta de resolución espacial o temporal en los datos meteorológicos.  \n",
    "2. Inconsistencias o datos faltantes.  \n",
    "3. Complejidad en la integración de datos de diferentes fuentes.  \n",
    "4. Necesidad de ajustes en el modelo para reflejar correctamente las condiciones locales.\n",
    "\n",
    "---\n"
   ]
  },
  {
   "cell_type": "markdown",
   "id": "9999a0e3",
   "metadata": {},
   "source": [
    "\n",
    "Este cuestionario proporciona una base sólida para evaluar el conocimiento inicial sobre MUNICH y su aplicación en el manejo de datos meteorológicos. Si necesitas más preguntas o materiales adicionales, avísame. "
   ]
  },
  {
   "cell_type": "markdown",
   "id": "8e457ea2",
   "metadata": {},
   "source": [
    "# Definiciones y Resultados científicos a comprender y memorizar \n",
    "\n",
    "Aquí tienes una lista de definiciones clave y resultados científicos relacionados con MUNICH que se deben comprender y memorizar para trabajar con esta herramienta:\n",
    "\n",
    "---\n",
    "\n",
    "### **Definiciones Clave**\n",
    "\n",
    "1. **MUNICH (Modelo Unificado para la Información de la Calidad del Aire y Meteorología):**  \n",
    "   Es un modelo computacional diseñado para simular y analizar la dispersión de contaminantes en entornos urbanos, utilizando datos meteorológicos y de emisiones.\n",
    "\n",
    "2. **Contaminante Atmosférico:**  \n",
    "   Sustancia presente en el aire que puede tener efectos adversos sobre la salud humana, los ecosistemas o el clima. Ejemplos: NO₂, CO, PM₂.₅.\n",
    "\n",
    "3. **Dominio de Simulación:**  \n",
    "   Área geográfica sobre la que se realizan los cálculos del modelo. Incluye información detallada de la topografía, red vial, y ubicación de fuentes de emisión.\n",
    "\n",
    "4. **Resolución Espacial y Temporal:**  \n",
    "   - **Resolución espacial:** Tamaño de las celdas o cuadrículas en las que se divide el área de estudio.  \n",
    "   - **Resolución temporal:** Intervalo de tiempo entre las salidas del modelo (horaria, diaria, etc.).\n",
    "\n",
    "5. **Inventario de Emisiones:**  \n",
    "   Base de datos que contiene información sobre las fuentes y cantidades de contaminantes emitidos en una región específica.\n",
    "\n",
    "6. **Parámetros Meteorológicos:**  \n",
    "   Conjunto de variables como velocidad y dirección del viento, temperatura, presión atmosférica y humedad relativa, que afectan la dispersión de contaminantes.\n",
    "\n",
    "7. **Modelo de Dispersión:**  \n",
    "   Representación matemática y computacional que predice cómo se transportan y dispersan los contaminantes en la atmósfera.\n",
    "\n",
    "8. **NetCDF (Network Common Data Form):**  \n",
    "   Formato de archivo utilizado para almacenar datos científicos multivariados, comúnmente empleados en meteorología y modelado ambiental.\n",
    "\n",
    "9. **Coeficiente de Dispersión:**  \n",
    "   Parámetro que describe cómo las concentraciones de contaminantes disminuyen con la distancia desde la fuente.\n",
    "\n",
    "10. **Velocidad de Depósito:**  \n",
    "    Tasa a la cual los contaminantes se eliminan de la atmósfera por procesos como sedimentación o absorción en superficies.\n",
    "\n",
    "---\n",
    "\n",
    "### **Resultados Científicos Importantes**\n",
    "\n",
    "1. **Ecuaciones de Transporte y Dispersión:**  \n",
    "   Las ecuaciones diferenciales parciales que describen el transporte, difusión, transformación química, y deposición de contaminantes en el aire son la base de MUNICH. Estas ecuaciones incluyen términos para:  \n",
    "   - Advección (transporte por el viento).  \n",
    "   - Difusión turbulenta.  \n",
    "   - Reacciones químicas.  \n",
    "   - Deposición seca y húmeda.\n",
    "\n",
    "2. **Relación entre Emisiones y Concentraciones:**  \n",
    "   El modelo traduce emisiones de contaminantes (como gases y partículas) en concentraciones espaciales y temporales en la atmósfera, basado en factores meteorológicos y geográficos.\n",
    "\n",
    "3. **Importancia de la Resolución del Modelo:**  \n",
    "   - Una alta resolución espacial y temporal mejora la precisión de las predicciones, pero aumenta el costo computacional.  \n",
    "   - Las simulaciones de baja resolución pueden subestimar o sobreestimar las concentraciones locales.\n"
   ]
  },
  {
   "cell_type": "markdown",
   "id": "fe7ed2b0",
   "metadata": {},
   "source": [
    "\n",
    "4. **Impacto de las Variables Meteorológicas:**  \n",
    "   - La dirección y velocidad del viento determinan el transporte principal de los contaminantes.  \n",
    "   - La estabilidad atmosférica (condiciones térmicas) afecta la dispersión vertical de los contaminantes.  \n",
    "   - La humedad y la lluvia contribuyen a la deposición húmeda, eliminando contaminantes de la atmósfera.\n"
   ]
  },
  {
   "cell_type": "markdown",
   "id": "32dbf4bb",
   "metadata": {},
   "source": [
    "\n",
    "5. **Validación del Modelo:**  \n",
    "   Los resultados del modelo se comparan con mediciones de estaciones de monitoreo de calidad del aire para verificar su precisión. Esto incluye métricas como el error cuadrático medio (RMSE) y el índice de concordancia.\n"
   ]
  },
  {
   "cell_type": "markdown",
   "id": "5029f4f8",
   "metadata": {},
   "source": [
    "\n",
    "6. **Uso de MUNICH para Políticas Ambientales:**  \n",
    "   - MUNICH puede evaluar el impacto de políticas de reducción de emisiones (como restricciones vehiculares o cambio de combustibles).  \n",
    "   - Ayuda a planificar estrategias para mejorar la calidad del aire en áreas urbanas densamente pobladas.\n",
    "\n",
    "7. **Efectos de los Contaminantes en la Salud Pública:**  \n",
    "   Estudios epidemiológicos vinculados a modelos como MUNICH han demostrado que altas concentraciones de contaminantes como PM₂.₅ y NO₂ están asociadas con enfermedades respiratorias y cardiovasculares.\n",
    "\n",
    "8. **Cálculo de Isopletas de Contaminación:**  \n",
    "   MUNICH genera mapas de isopletas (líneas de igual concentración) que visualizan las áreas más afectadas por contaminantes.\n"
   ]
  },
  {
   "cell_type": "markdown",
   "id": "ffb4a361",
   "metadata": {},
   "source": [
    "\n",
    "9. **Análisis de Escenarios:**  \n",
    "   Permite modelar diferentes escenarios de emisión (p. ej., antes y después de una intervención) para prever sus efectos sobre la calidad del aire.\n",
    "\n",
    "10. **Interacción de Factores Urbanos y Meteorológicos:**  \n",
    "    La configuración urbana, como la altura de los edificios y la densidad vial, combinada con factores meteorológicos, afecta significativamente la dispersión y acumulación de contaminantes.\n",
    "\n",
    "---\n",
    "\n",
    "Estas definiciones y resultados son esenciales para entender y aplicar MUNICH de manera efectiva en el análisis de datos meteorológicos y de calidad del aire. ¿Quieres que desarrolle materiales de apoyo para algunos de estos puntos? 😊\n",
    "\n",
    "[Primera grabación en Vocaroo]()"
   ]
  },
  {
   "cell_type": "markdown",
   "id": "ca7261b1",
   "metadata": {
    "slideshow": {
     "slide_type": "slide"
    }
   },
   "source": [
    "## Establecimiento de prerrequisitos conceptuales para alcanzar el objetivo de aprendizaje trazado.   \n",
    "\n",
    "\n",
    "Si el objetivo de aprendizaje es instalar MUNICH y comenzar a utilizarlo con ejemplos sencillos usando datos del IDEAM, los **prerrequisitos conceptuales** y las **sugerencias para alcanzarlos** son los siguientes:  \n",
    "\n",
    "---\n"
   ]
  },
  {
   "cell_type": "markdown",
   "id": "661f1b3e",
   "metadata": {},
   "source": [
    "\n",
    "### **Prerrequisitos Conceptuales y Sugerencias para Desarrollarlos**\n",
    "\n",
    "#### **1. Comprender qué es MUNICH y su propósito**  \n",
    "- **Prerrequisito:** Tener una noción clara sobre qué es MUNICH, cómo funciona y su relación con el análisis de calidad del aire y datos meteorológicos.  \n",
    "- **Sugerencia:**  \n",
    "  - Presentar una introducción breve con ejemplos visuales (diapositivas o videos) que expliquen su utilidad.  \n",
    "  - Discutir casos de éxito donde MUNICH haya sido empleado para resolver problemas ambientales.  \n",
    "\n",
    "---\n"
   ]
  },
  {
   "cell_type": "markdown",
   "id": "7196f0cd",
   "metadata": {},
   "source": [
    "\n",
    "#### **2. Familiaridad básica con el uso de la línea de comandos (CLI)**  \n",
    "- **Prerrequisito:** Conocer comandos básicos para instalar software, mover archivos, y configurar variables en una terminal (Linux o Windows).  \n",
    "- **Sugerencia:**  \n",
    "  - Proponer un ejercicio práctico previo donde los estudiantes ejecuten comandos básicos como `ls`, `cd`, `mkdir`, `pip install`, o `wget`.  \n",
    "  - Compartir una guía paso a paso de instalación para reforzar confianza en la terminal.\n",
    "\n",
    "---\n"
   ]
  },
  {
   "cell_type": "markdown",
   "id": "af279f64",
   "metadata": {},
   "source": [
    "\n",
    "#### **3. Entender el concepto de dependencias de software y entornos virtuales**  \n",
    "- **Prerrequisito:** Saber qué son las dependencias de software y por qué es importante usar entornos virtuales para evitar conflictos.  \n",
    "- **Sugerencia:**  \n",
    "  - Introducir Python virtual environments (`venv`) o Conda con un ejemplo práctico sencillo.  \n",
    "  - Explicar cómo listar e instalar dependencias usando un archivo como `requirements.txt`.\n",
    "\n",
    "---\n",
    "\n",
    "#### **4. Conocer los formatos de datos meteorológicos comunes (NetCDF, CSV)**  \n",
    "- **Prerrequisito:** Identificar cómo se estructuran los datos meteorológicos en estos formatos y su relación con variables como viento, temperatura y precipitación.  \n",
    "- **Sugerencia:**  \n",
    "  - Usar un dataset meteorológico del IDEAM en formato CSV o NetCDF y realizar un ejercicio práctico para visualizar los datos con Python (`pandas` o `xarray`).  \n",
    "  - Proporcionar guías visuales para identificar columnas importantes en datasets meteorológicos.\n",
    "\n",
    "---\n"
   ]
  },
  {
   "cell_type": "markdown",
   "id": "f11b0596",
   "metadata": {},
   "source": [
    "\n",
    "#### **5. Tener habilidades básicas de programación en Python**  \n",
    "- **Prerrequisito:** Ser capaz de leer, modificar y ejecutar scripts básicos en Python.  \n",
    "- **Sugerencia:**  \n",
    "  - Proporcionar scripts de ejemplo que ejecuten tareas simples como leer un archivo CSV o realizar operaciones básicas sobre datos meteorológicos.  \n",
    "  - Recomendar recursos de aprendizaje rápido, como tutoriales de Python para científicos de datos.\n",
    "\n",
    "---\n"
   ]
  },
  {
   "cell_type": "markdown",
   "id": "b33453ac",
   "metadata": {},
   "source": [
    "\n",
    "#### **6. Entender cómo obtener y preparar datos del IDEAM**  \n",
    "- **Prerrequisito:** Saber cómo descargar datos meteorológicos del IDEAM, interpretar las variables disponibles y preprocesarlas para usarlas en MUNICH.  \n",
    "- **Sugerencia:**  \n",
    "  - Diseñar un ejercicio práctico para buscar datos en el portal del IDEAM, descargarlos, y procesarlos usando Python.  \n",
    "  - Proporcionar una plantilla de código Python para limpiar y organizar los datos.\n",
    "\n",
    "---\n",
    "\n",
    "#### **7. Familiaridad básica con visualización de datos**  \n",
    "- **Prerrequisito:** Saber generar gráficos básicos para explorar y verificar datos meteorológicos.  \n",
    "- **Sugerencia:**  \n",
    "  - Utilizar librerías como `Matplotlib` o `Seaborn` para graficar variables meteorológicas (p. ej., temperatura vs. tiempo).  \n",
    "  - Proponer ejercicios donde los estudiantes creen gráficos que reflejen patrones meteorológicos básicos.\n",
    "\n",
    "---\n"
   ]
  },
  {
   "cell_type": "markdown",
   "id": "174c33bc",
   "metadata": {},
   "source": [
    "\n",
    "#### **8. Conocer el proceso general de instalación de software científico**  \n",
    "- **Prerrequisito:** Tener experiencia previa instalando software relacionado con ciencia de datos o simulación científica.  \n",
    "- **Sugerencia:**  \n",
    "  - Proveer un documento detallado que explique el proceso de instalación de MUNICH, paso a paso.  \n",
    "  - Guiar a los estudiantes en una instalación supervisada durante la clase.\n",
    "\n",
    "---\n",
    "\n",
    "#### **9. Entender el flujo básico de trabajo en MUNICH**  \n",
    "- **Prerrequisito:** Tener una idea general del flujo de trabajo: instalación, carga de datos, simulación y visualización de resultados.  \n",
    "- **Sugerencia:**  \n",
    "  - Presentar un diagrama de flujo del proceso de uso de MUNICH con ejemplos sencillos.  \n",
    "  - Proporcionar un caso práctico preconfigurado que los estudiantes puedan ejecutar para entender el flujo.\n",
    "\n",
    "---\n"
   ]
  },
  {
   "cell_type": "markdown",
   "id": "bdd15f6e",
   "metadata": {},
   "source": [
    "\n",
    "### **Secuencia Didáctica para Llenar los Prerrequisitos**\n",
    "\n",
    "1. **Introducción conceptual (15-20 minutos):**  \n",
    "   Explicar qué es MUNICH, su propósito, y casos de uso relevantes.  \n",
    "   - Herramienta: Presentación o video introductorio.\n",
    "\n",
    "2. **Preparación del entorno de trabajo (30 minutos):**  \n",
    "   - Demostrar cómo instalar un entorno virtual en Python.  \n",
    "   - Descargar e instalar MUNICH, resolviendo dependencias.  \n",
    "   - Herramienta: Terminal y guías paso a paso.\n",
    "\n",
    "3. **Ejercicios con datos meteorológicos (45 minutos):**  \n",
    "   - Descargar un dataset del IDEAM y explorar su estructura con Python.  \n",
    "   - Visualizar datos meteorológicos básicos con gráficos.  \n",
    "   - Herramienta: Jupyter Notebook o script en Python.\n",
    "\n",
    "4. **Primer ejercicio práctico en MUNICH (60 minutos):**  \n",
    "   - Cargar un caso preconfigurado en MUNICH con datos meteorológicos.  \n",
    "   - Ejecutar una simulación y analizar los resultados generados.  \n",
    "   - Herramienta: MUNICH y scripts proporcionados por el instructor.\n",
    "\n",
    "---\n"
   ]
  },
  {
   "cell_type": "markdown",
   "id": "ec350dae",
   "metadata": {},
   "source": [
    "\n",
    "¿Te gustaría ejemplos específicos de scripts o guías para alguno de estos pasos? "
   ]
  },
  {
   "cell_type": "markdown",
   "id": "2298e976",
   "metadata": {
    "slideshow": {
     "slide_type": "slide"
    }
   },
   "source": [
    "# Para el diseño de la clase tenga en cuenta algunos problemas de aprendizaje y algunas estrategias para superarlos "
   ]
  },
  {
   "cell_type": "markdown",
   "id": "523d3acf",
   "metadata": {
    "slideshow": {
     "slide_type": "slide"
    }
   },
   "source": [
    "### **Diseño de la Clase: Instalación y Uso Básico de MUNICH con Datos del IDEAM**  \n",
    "Para un diseño efectivo de esta clase, es crucial anticipar problemas de aprendizaje que los estudiantes puedan enfrentar y definir estrategias claras para superarlos. Aquí se detallan los principales problemas y soluciones:\n",
    "\n",
    "---\n",
    "\n",
    "### **1. Problema: Dificultades con la Instalación de MUNICH**  \n",
    "**Descripción:**  \n",
    "Los estudiantes pueden encontrar errores relacionados con la instalación de dependencias, compatibilidad del sistema operativo, o configuración del entorno.  \n",
    "\n",
    "**Estrategias:**  \n",
    "- **Guía Paso a Paso:** Proporcionar un tutorial detallado en formato PDF o video, con capturas de pantalla para cada paso.  \n",
    "- **Entorno Virtual Preconfigurado:** Compartir un entorno virtual (`venv` o Conda) ya configurado con las dependencias necesarias.  \n",
    "- **Soporte en Tiempo Real:** Dedicar tiempo durante la clase para resolver problemas de instalación en grupos pequeños.  \n",
    "\n",
    "---\n",
    "\n",
    "### **2. Problema: Falta de Familiaridad con la Línea de Comandos**  \n",
    "**Descripción:**  \n",
    "Algunos estudiantes pueden no estar cómodos utilizando la terminal o CLI (Command Line Interface).  \n",
    "\n",
    "**Estrategias:**  \n",
    "- **Mini-Taller Previo:** Realizar una sesión breve para practicar comandos básicos como `cd`, `mkdir`, y `pip install`.  \n",
    "- **Comandos Predefinidos:** Proveer un archivo de texto con los comandos que los estudiantes solo necesiten copiar y pegar.  \n",
    "- **Uso de Interfaces Gráficas:** Si es posible, recomendar herramientas gráficas complementarias como Anaconda Navigator.  \n",
    "\n",
    "---\n",
    "\n",
    "### **3. Problema: Desconocimiento de Formatos de Datos Meteorológicos (NetCDF y CSV)**  \n",
    "**Descripción:**  \n",
    "Los estudiantes pueden no entender cómo están estructurados los datos meteorológicos y cómo procesarlos.  \n",
    "\n",
    "**Estrategias:**  \n",
    "- **Ejemplo Real con Datos Simplificados:** Proporcionar un archivo CSV básico con datos meteorológicos preprocesados y explicar sus columnas.  \n",
    "- **Uso de Python:** Diseñar un script para abrir, explorar, y graficar un dataset simple.  \n",
    "- **Visualizaciones Intuitivas:** Crear gráficos iniciales que expliquen las variables clave (temperatura, precipitación, etc.).  \n",
    "\n",
    "---\n",
    "\n",
    "### **4. Problema: Limitada Experiencia en Python**  \n",
    "**Descripción:**  \n",
    "La falta de experiencia en Python puede dificultar la ejecución y modificación de scripts.  \n",
    "\n",
    "**Estrategias:**  \n",
    "- **Plantillas de Código:** Proveer scripts sencillos que los estudiantes puedan ejecutar directamente.  \n",
    "- **Tutorial Inicial:** Dedicar una parte de la clase a explicar cada línea del script.  \n",
    "- **Documentación Accesible:** Compartir enlaces a tutoriales básicos de Python para reforzar la autonomía.  \n",
    "\n",
    "---\n",
    "\n",
    "### **5. Problema: Falta de Comprensión sobre MUNICH y su Flujo de Trabajo**  \n",
    "**Descripción:**  \n",
    "Los estudiantes pueden sentirse abrumados al integrar MUNICH con datos meteorológicos reales por primera vez.  \n",
    "\n",
    "**Estrategias:**  \n",
    "- **Introducción con un Caso Sencillo:** Usar un ejemplo básico preconfigurado en MUNICH para demostrar su flujo de trabajo (carga de datos, simulación, análisis).  \n",
    "- **Diagramas de Flujo:** Explicar visualmente los pasos desde la instalación hasta la obtención de resultados.  \n",
    "- **Ejemplo Guiado:** Proponer un ejercicio con instrucciones claras y resultados esperados.  \n",
    "\n",
    "---\n",
    "\n",
    "### **6. Problema: Falta de Conexión con Datos Locales (IDEAM)**  \n",
    "**Descripción:**  \n",
    "Los estudiantes podrían no comprender cómo los datos del IDEAM se relacionan con el uso de MUNICH.  \n",
    "\n",
    "**Estrategias:**  \n",
    "- **Datos Contextualizados:** Usar un dataset relevante para su región, como temperaturas o precipitaciones locales.  \n",
    "- **Contexto Aplicado:** Explicar cómo los datos meteorológicos pueden utilizarse para resolver problemas ambientales en su área.  \n",
    "- **Ejercicios Prácticos:** Diseñar un problema en el que los estudiantes descarguen y preparen datos reales del IDEAM.  \n",
    "\n",
    "---\n",
    "\n",
    "### **7. Problema: Tiempo Limitado para Completar Tareas Complejas**  \n",
    "**Descripción:**  \n",
    "La instalación y ejecución de un caso en MUNICH puede consumir más tiempo del previsto.  \n",
    "\n",
    "**Estrategias:**  \n",
    "- **Preparación Previa:** Pedir a los estudiantes que instalen las herramientas y descarguen los datos antes de la clase.  \n",
    "- **Segmentación del Trabajo:** Dividir el flujo de trabajo en tareas pequeñas y manejables.  \n",
    "- **Tareas Asíncronas:** Dejar como tarea opcional explorar más funciones de MUNICH después de la clase.  \n",
    "\n",
    "---\n",
    "\n",
    "### **8. Problema: Dificultad para Visualizar Resultados de MUNICH**  \n",
    "**Descripción:**  \n",
    "Los estudiantes pueden tener problemas para interpretar los resultados generados por MUNICH.  \n",
    "\n",
    "**Estrategias:**  \n",
    "- **Ejemplo Visual:** Mostrar cómo se visualizan los resultados de simulaciones con gráficos generados en Python.  \n",
    "- **Explicación Detallada:** Dedicar tiempo a analizar y discutir los resultados obtenidos.  \n",
    "- **Complementos de Visualización:** Integrar herramientas como `Matplotlib`, `Seaborn` o `Plotly` para crear visualizaciones interactivas.  \n",
    "\n",
    "---\n"
   ]
  },
  {
   "cell_type": "markdown",
   "id": "8e1e0f59",
   "metadata": {},
   "source": [
    "\n",
    "### **Plan General de Clase con Estas Estrategias**\n",
    "\n",
    "1. **Introducción (15 minutos):**  \n",
    "   Explicación del objetivo de la clase y del rol de MUNICH en el análisis de datos meteorológicos.  \n",
    "\n",
    "2. **Preparación del Entorno (20 minutos):**  \n",
    "   Instalación de MUNICH y configuración del entorno virtual con soporte guiado.  \n",
    "\n",
    "3. **Manejo de Datos Meteorológicos (30 minutos):**  \n",
    "   Exploración y preprocesamiento de datos del IDEAM usando Python.  \n",
    "\n",
    "4. **Primer Ejemplo en MUNICH (40 minutos):**  \n",
    "   Cargar un caso preconfigurado, ejecutar una simulación y analizar los resultados con gráficos.  \n",
    "\n",
    "5. **Discusión y Reflexión (15 minutos):**  \n",
    "   Resolución de dudas, retroalimentación, y sugerencias para profundizar en el uso de MUNICH.  \n",
    "\n",
    "---\n"
   ]
  },
  {
   "cell_type": "markdown",
   "id": "af8dd77c",
   "metadata": {},
   "source": [
    "\n",
    "¿Te gustaría más detalles sobre algún problema o estrategia?"
   ]
  },
  {
   "cell_type": "markdown",
   "id": "8853d874",
   "metadata": {},
   "source": [
    "## El componente histórico y epistemológico"
   ]
  },
  {
   "cell_type": "markdown",
   "id": "1c4e71e4",
   "metadata": {},
   "source": [
    "### **Componentes Históricos y Epistemológicos para la Clase sobre MUNICH**  \n",
    "\n",
    "Incluir componentes históricos y epistemológicos en la clase permite a los estudiantes comprender el contexto del desarrollo de MUNICH y su relevancia en la ciencia de datos meteorológicos. A continuación, se presenta una lista de elementos clave:\n",
    "\n",
    "---\n",
    "\n",
    "### **1. Componentes Históricos**  \n",
    "\n",
    "#### **1.1. Evolución de la Modelización Meteorológica**  \n",
    "- **Siglo XIX - Primeros Modelos Matemáticos:**  \n",
    "  Vilhelm Bjerknes (1904) propuso la modelización de sistemas meteorológicos mediante ecuaciones diferenciales basadas en la física de fluidos.  \n",
    "- **Década de 1950 - Simulaciones Numéricas:**  \n",
    "  Se desarrollaron los primeros modelos computacionales de predicción del clima, utilizando computadoras como la ENIAC.  \n",
    "- **Década de 1990 - Auge de Modelos Avanzados:**  \n",
    "  La llegada de datos satelitales y sistemas de observación remota permitió modelos más complejos y precisos.\n",
    "\n",
    "#### **1.2. Historia de MUNICH (Multiscale Atmospheric Chemistry Model)**  \n",
    "- **Orígenes:**  \n",
    "  MUNICH fue desarrollado como una herramienta de simulación para comprender procesos atmosféricos urbanos y su impacto en la calidad del aire.  \n",
    "- **Impacto Científico:**  \n",
    "  Desde su creación, MUNICH ha sido utilizado para integrar datos meteorológicos y químicos en simulaciones urbanas, aportando resultados clave en la gestión de contaminación.  \n",
    "\n",
    "#### **1.3. Contexto Local y Datos del IDEAM**  \n",
    "- **Historia del IDEAM (Instituto de Hidrología, Meteorología y Estudios Ambientales de Colombia):**  \n",
    "  Fundado en 1954, el IDEAM ha evolucionado para recopilar datos climáticos, hidrológicos y atmosféricos esenciales para la planificación ambiental.  \n",
    "\n",
    "#### **1.4. Avances Tecnológicos Relacionados**  \n",
    "- El aumento del poder computacional y la accesibilidad de herramientas como Python y bibliotecas especializadas ha democratizado el uso de modelos como MUNICH.  \n",
    "- **Open Science Movement:**  \n",
    "  El desarrollo de plataformas como GitHub y la adopción de modelos abiertos como MUNICH reflejan un cambio hacia la ciencia abierta y colaborativa.  \n",
    "\n",
    "---\n",
    "\n",
    "### **2. Componentes Epistemológicos**  \n",
    "\n",
    "#### **2.1. Naturaleza de los Modelos Meteorológicos y su Validez**  \n",
    "- **¿Qué es un modelo?**  \n",
    "  Una representación simplificada de la realidad que intenta capturar los aspectos más relevantes de un sistema.  \n",
    "- **Limitaciones Epistemológicas:**  \n",
    "  Los modelos, como MUNICH, dependen de supuestos iniciales, calidad de datos y capacidad computacional.  \n",
    "\n",
    "#### **2.2. MUNICH y la Epistemología de la Ciencia de Datos**  \n",
    "- **Integración de Variables:**  \n",
    "  MUNICH combina datos meteorológicos (viento, temperatura, presión) y químicos (concentraciones de gases y partículas).  \n",
    "- **Epistemología Computacional:**  \n",
    "  La modelización a través de MUNICH refleja un enfoque donde el conocimiento surge de simulaciones computacionales, a diferencia de experimentos tradicionales.  \n",
    "\n",
    "#### **2.3. Datos como Representación de la Realidad**  \n",
    "- **Datos del IDEAM:**  \n",
    "  Los datos meteorológicos reflejan mediciones físicas del mundo, pero están sujetos a errores de muestreo, resolución temporal y espacial.  \n",
    "- **Preprocesamiento y Limpieza:**  \n",
    "  Antes de usarlos en MUNICH, los datos deben ser transformados en un formato adecuado para garantizar su utilidad.  \n",
    "\n",
    "#### **2.4. Razonamiento Multiescala en Ciencias Atmosféricas**  \n",
    "- **Concepto Multiescala:**  \n",
    "  MUNICH incorpora fenómenos desde escalas locales (microclima urbano) hasta regionales (movimientos atmosféricos amplios).  \n",
    "- **Relación entre Escalas:**  \n",
    "  Este enfoque permite a los usuarios comprender cómo los fenómenos a pequeña escala, como emisiones vehiculares, afectan dinámicas globales.  \n",
    "\n",
    "#### **2.5. Relación Ciencia-Tecnología-Sociedad (CTS):**  \n",
    "- **Impacto Ambiental:**  \n",
    "  Modelos como MUNICH ayudan a prever y mitigar efectos negativos de la contaminación.  \n",
    "- **Decisiones Informadas:**  \n",
    "  Herramientas científicas como MUNICH fortalecen políticas públicas relacionadas con la calidad del aire y la salud pública.  \n",
    "\n",
    "---\n"
   ]
  },
  {
   "cell_type": "markdown",
   "id": "5154a1c5",
   "metadata": {},
   "source": [
    "\n",
    "### **Cómo Integrar estos Componentes en la Clase**  \n",
    "\n",
    "1. **Introducción con Contexto Histórico (15 minutos):**  \n",
    "   - Explicar la evolución de los modelos meteorológicos.  \n",
    "   - Relatar la historia del IDEAM y su rol en Colombia.  \n",
    "\n",
    "2. **Debate Epistemológico (10 minutos):**  \n",
    "   - Reflexionar sobre las limitaciones y alcances de los modelos computacionales.  \n",
    "   - Analizar cómo los datos influyen en la validez de las simulaciones.  \n",
    "\n",
    "3. **Práctica Guiada con Datos Locales (40 minutos):**  \n",
    "   - Usar un dataset del IDEAM y aplicar MUNICH en un caso real, conectando la teoría con la práctica.  \n",
    "\n",
    "4. **Discusión CTS (10 minutos):**  \n",
    "   - Debatir el impacto de las simulaciones en la toma de decisiones ambientales.  \n",
    "\n",
    "---\n"
   ]
  },
  {
   "cell_type": "markdown",
   "id": "ec774ac4",
   "metadata": {},
   "source": [
    "\n",
    "¿Te gustaría que elaboremos un guion completo para la clase basado en estos componentes? "
   ]
  },
  {
   "cell_type": "code",
   "execution_count": 2,
   "id": "bc0addfe",
   "metadata": {},
   "outputs": [
    {
     "data": {
      "text/plain": [
       "'C:\\\\Users\\\\marco\\\\Documentos\\\\docencia\\\\Introducción a MUNICH.pdf'"
      ]
     },
     "execution_count": 2,
     "metadata": {},
     "output_type": "execute_result"
    }
   ],
   "source": [
    "# mapa conceptual para cada clase  \n",
    "from graphviz import Digraph\n",
    "\n",
    "# Crear un nuevo grafo dirigido\n",
    "dot = Digraph()\n",
    "\n",
    "# Añadir nodos y relaciones al grafo\n",
    "main_concept = 'Introducción a MUNICH'\n",
    "dot.node('A', main_concept)\n",
    "dot.node('B', '')\n",
    "dot.node('C', '')\n",
    "dot.node('D', '')\n",
    "\n",
    "dot.edges(['AB'])\n",
    "\n",
    "\n",
    "# Guardar el grafo como un archivo de imagen\n",
    "dot.render(filename=main_concept, format='png', cleanup=True, \\\n",
    "           directory='C:/Users/marco/Documentos/docencia/')\n",
    "\n",
    "dot.view()\n"
   ]
  },
  {
   "cell_type": "markdown",
   "id": "10e55ccf",
   "metadata": {},
   "source": [
    "# Estructura general para todas las clases\n",
    "\n",
    "Dame, por favor, un diseño de clase sobre:<<Tema de la clase>>, siguiendo la estructura: \n",
    "1. Título de la clase \n",
    "2. Objetivo de aprendizaje\n",
    "3. Contenido de la clase\n",
    "4. Actividades de aprendizaje\n",
    "5. Tarea o actividades de ejercitación y fijación\n",
    "6. Diseño de actividad de retroalimentación.   \n",
    "\n",
    "Pero  que este diseño sea para que el estudiante pueda aprender experimentando en cuadernos Jupyter con funciones de usuario y animaciones y visualizaciones en python. "
   ]
  },
  {
   "cell_type": "markdown",
   "id": "239427f7",
   "metadata": {},
   "source": [
    "Para instalar MUNICH (Model of Urban Network Information and Climate Hybrid) en tu computador con Windows utilizando la terminal de WSL (Windows Subsystem for Linux), sigue estos pasos:\n",
    "\n",
    "---\n"
   ]
  },
  {
   "cell_type": "markdown",
   "id": "50c87518",
   "metadata": {},
   "source": [
    "\n",
    "### 1. **Preparar el entorno de WSL**\n",
    "1. Asegúrate de que tienes WSL habilitado en tu sistema. Puedes verificarlo ejecutando:\n",
    "   ```bash\n",
    "   wsl --list --verbose\n",
    "   ```\n",
    "   Si no tienes WSL instalado, sigue [esta guía de Microsoft](https://learn.microsoft.com/en-us/windows/wsl/install).\n"
   ]
  },
  {
   "cell_type": "markdown",
   "id": "b5cd08b3",
   "metadata": {},
   "source": [
    "\n",
    "2. Abre tu terminal WSL y actualiza los paquetes del sistema:\n",
    "   ```bash\n",
    "   sudo apt update && sudo apt upgrade -y\n",
    "   ```\n"
   ]
  },
  {
   "cell_type": "markdown",
   "id": "273a4852",
   "metadata": {},
   "source": [
    "\n",
    "3. Instala dependencias básicas:\n",
    "   ```bash\n",
    "   sudo apt install build-essential gcc gfortran make cmake git -y\n",
    "   ```\n",
    "\n",
    "---\n"
   ]
  },
  {
   "cell_type": "markdown",
   "id": "e4e8f948",
   "metadata": {},
   "source": [
    "\n",
    "### 2. **Instalar dependencias específicas para MUNICH**\n",
    "MUNICH requiere algunas bibliotecas científicas y herramientas para compilar y ejecutar. Instala las siguientes:\n",
    "   ```bash\n",
    "   sudo apt install libnetcdf-dev libhdf5-dev libfftw3-dev libboost-all-dev -y\n",
    "   ```\n",
    "\n",
    "---\n"
   ]
  },
  {
   "cell_type": "markdown",
   "id": "a50499e9",
   "metadata": {},
   "source": [
    "\n",
    "### 3. **Descargar el código fuente de MUNICH**\n",
    "1. Clona el repositorio de MUNICH desde GitHub (reemplaza `<URL_DEL_REPOSITORIO>` con la URL real del repositorio):\n",
    "   ```bash\n",
    "   git clone <URL_DEL_REPOSITORIO>\n",
    "   cd munich\n",
    "   ```\n",
    "\n",
    "2. Revisa las instrucciones del archivo `README.md` o `INSTALL` incluido en el repositorio. Estos suelen contener detalles específicos de la instalación.\n",
    "\n",
    "---\n"
   ]
  },
  {
   "cell_type": "markdown",
   "id": "29268a10",
   "metadata": {},
   "source": [
    "\n",
    "### 4. **Configurar y compilar MUNICH**\n",
    "1. Configura el entorno de compilación:\n",
    "   ```bash\n",
    "   mkdir build\n",
    "   cd build\n",
    "   cmake ..\n",
    "   ```\n",
    "\n",
    "2. Compila el código fuente:\n",
    "   ```bash\n",
    "   make\n",
    "   ```\n",
    "\n",
    "3. Instala el software (si el paso anterior fue exitoso):\n",
    "   ```bash\n",
    "   sudo make install\n",
    "   ```\n",
    "\n",
    "---\n"
   ]
  },
  {
   "cell_type": "markdown",
   "id": "052c2e45",
   "metadata": {},
   "source": [
    "\n",
    "### 5. **Verificar la instalación**\n",
    "1. Comprueba si MUNICH se instaló correctamente ejecutando:\n",
    "   ```bash\n",
    "   munich --version\n",
    "   ```\n",
    "\n",
    "2. Si necesitas configurar variables de entorno, revisa la documentación y añade líneas similares a las siguientes al archivo `~/.bashrc`:\n",
    "   ```bash\n",
    "   export MUNICH_HOME=/ruta/a/munich\n",
    "   export PATH=$MUNICH_HOME/bin:$PATH\n",
    "   ```\n",
    "\n",
    "   Luego, aplica los cambios:\n",
    "   ```bash\n",
    "   source ~/.bashrc\n",
    "   ```\n",
    "\n",
    "---\n"
   ]
  },
  {
   "cell_type": "markdown",
   "id": "4a8fc6a9",
   "metadata": {},
   "source": [
    "\n",
    "### 6. **Ejecutar MUNICH**\n",
    "1. Navega a un directorio donde tengas datos de prueba y ejecuta MUNICH con un archivo de configuración, por ejemplo:\n",
    "   ```bash\n",
    "   munich input_file.in\n",
    "   ```\n",
    "\n",
    "2. Consulta la documentación para entender cómo configurar y utilizar MUNICH según tus necesidades.\n",
    "\n",
    "---\n",
    "\n",
    "Si tienes problemas específicos durante la instalación, dame detalles y puedo ayudarte a solucionarlos. "
   ]
  },
  {
   "cell_type": "code",
   "execution_count": null,
   "id": "96babb8c",
   "metadata": {},
   "outputs": [],
   "source": []
  },
  {
   "cell_type": "code",
   "execution_count": null,
   "id": "ca21032c",
   "metadata": {},
   "outputs": [],
   "source": []
  },
  {
   "cell_type": "code",
   "execution_count": null,
   "id": "7d745026",
   "metadata": {},
   "outputs": [],
   "source": []
  },
  {
   "cell_type": "code",
   "execution_count": null,
   "id": "6d5a925d",
   "metadata": {},
   "outputs": [],
   "source": []
  },
  {
   "cell_type": "code",
   "execution_count": null,
   "id": "ec048afb",
   "metadata": {},
   "outputs": [],
   "source": []
  },
  {
   "cell_type": "markdown",
   "id": "64ac8d32",
   "metadata": {},
   "source": [
    "# Ejemplo ilustrativo"
   ]
  },
  {
   "cell_type": "markdown",
   "id": "a3e5e6ab",
   "metadata": {},
   "source": [
    "# 10 ejercicios de entrenamiento o adquisición de habilidades obtenido a través de ChatGPT para una formación personalizada y centrada en la habilidad que se quiere lograr con la enseñanza del ejemplo anterior"
   ]
  },
  {
   "cell_type": "code",
   "execution_count": null,
   "id": "cc539357",
   "metadata": {},
   "outputs": [],
   "source": []
  },
  {
   "cell_type": "markdown",
   "id": "2f0141c3",
   "metadata": {},
   "source": [
    "## Tareas para realizar antes de la clase  \n",
    "\n",
    "1. Ver los videos respectivos []()\n",
    "2. Memorizar las definiciones []()\n",
    "3. Sintetizar o resumir la información en mapas conceptuales. []()\n",
    "4. Tareas para incentivar el uso de la calculadora Casio 991LA cw Para ingenieros, licenciados y administradores.  \n",
    "5. Leer los ejemplos resueltos y replicar la manera de hacerlos"
   ]
  },
  {
   "cell_type": "code",
   "execution_count": 1,
   "id": "83d849ab",
   "metadata": {},
   "outputs": [],
   "source": [
    "# Tarea 1 de lectura de ejemplos y completación de procedimientos\n",
    "# asignación de tarea para realizar antes de clase\n",
    "# Consiste en leer y completar un ejemplo de texto guía\n",
    "# Esta tarea es para realizar solo de manera manuscrita en su cuaderno de clase. \n",
    "# La otra opción de presentación es elaborada en cuadernos Jupyter (En este caso solo debe realizar la cuarta parte de los ejercicios asignados)\n",
    "# \n",
    "def asignador_de_tareas(nombre_tarea, ubicacion_tarea):\n",
    "    import pandas as pd\n",
    "    import numpy as np\n",
    "    import requests\n",
    "    np.random.seed(1213)  # establecer semilla aleatoria para hacer los resultados reproducibles\n",
    "\n",
    "    def asignar_tarea(nombre_tarea, grupo_estudiantes, nombre_texto_guia, pag_seccion, numero_ejemplos_seccion, numero_ejemplos_asignados):\n",
    "        students_path = \"/home/marco/Documentos/docencia/groups_list/\" + grupo_estudiantes + \".csv\"\n",
    "        examples = list(range(1, numero_ejemplos_de_la_seccion))  \n",
    "        students_data = pd.read_csv(students_path)\n",
    "        # Crear una lista para almacenar las asignaciones\n",
    "        assignments = []\n",
    "\n",
    "        # Asignar ejercicios aleatorios a cada estudiante\n",
    "        for index, student in students_data.iterrows():\n",
    "            # Seleccionar 5 ejercicios aleatorios sin repetición\n",
    "            random_exercises = np.sort(np.random.choice(examples, numero_de_ejemplos_asignados, \\\n",
    "                                                replace = False)+ 1)\n",
    "            assignments.append([students_data[\"Nombre\"][index], *random_exercises])  # Agregar asignación a la lista\n",
    "\n",
    "    # Crear un DataFrame con las asignaciones\n",
    "        columns = [\"Student\"] + [ \"Example\" + str(i+1) for i in range(numero_de_ejemplos_asignados)]\n",
    "        assignment_df = pd.DataFrame(assignments, columns=columns)\n",
    "\n",
    "    # Guardar el DataFrame en un archivo CSV\n",
    "        assignment_csv = nombre_tarea + \"_\" + nombre_texto_guia + \"_\"+ pagina_y_seccion + \".csv\"\n",
    "        assignment_df.to_csv(assignment_csv, index=False)\n",
    "\n",
    "        print(\"\"\"Tarea 1 de lectura de ejemplos y completación de procedimientos: \n",
    "     Si faltan los enunciados de los problemas, no se valora la tarea\n",
    "    Si faltan de la conclusión verbales, no se valora la tarea.\n",
    "    Esta tarea se valora solo si la presenta de manera manuscrita en su cuaderno de clase.  \n",
    "      \"\"\", assignment_csv)\n",
    "        return assignment_df"
   ]
  },
  {
   "cell_type": "markdown",
   "id": "740f3401",
   "metadata": {
    "slideshow": {
     "slide_type": "slide"
    }
   },
   "source": [
    "# Componente de manejo de calculadora Casio asociado al objetivo de aprendizaje de esta clase  \n",
    "\n",
    "## Pasos para lograr el objetivo de aprendizaje con la experimentación en la calculadora Casio 991LA cw  "
   ]
  },
  {
   "cell_type": "markdown",
   "id": "8d41fe58",
   "metadata": {
    "slideshow": {
     "slide_type": "slide"
    }
   },
   "source": [
    "# Horario de clases del profesor Marco\n",
    "\n",
    "* Lunes 8-12: Cálculo Vectorial\n",
    "* Martes 8-12 M: Fundamentos de Aritmética. \n",
    "* Miércoles 8 a 12 M: Fundamentos de la Lógica\n",
    "* Jueves 2 a 6 PM: Desarrollo del pensamiento matemático en la infancia. \n",
    "* Viernes 8 - 12 M: Desarrollo del pensamiento matemático en la infancia. \n",
    "* Sábados 8-12 Asesorías y espacio para retroalimentación y apoyo al trabajo independiente. "
   ]
  },
  {
   "cell_type": "markdown",
   "id": "ae114e14",
   "metadata": {
    "slideshow": {
     "slide_type": "slide"
    }
   },
   "source": [
    "# Horarios de monitoría y asesoría  \n",
    "\n",
    "Coordinador de los cursos de la Facultad de Educación para regiones:    \n",
    "\n",
    "Andrés Vélez: regioneducacion.fedu@udea.edu.co  \n",
    "Coordinador Regiones  \n",
    "Facultad de Educación  \n",
    "Universidad de Antioquia  "
   ]
  },
  {
   "cell_type": "markdown",
   "id": "b1db4b6c",
   "metadata": {
    "slideshow": {
     "slide_type": "slide"
    }
   },
   "source": [
    "## Monitor Manuel San Juan Serrano\n",
    "\n",
    "Contactar escribiendo al correo: manuel.serrano1@udea.edu.co"
   ]
  },
  {
   "cell_type": "markdown",
   "id": "39559692",
   "metadata": {
    "slideshow": {
     "slide_type": "slide"
    }
   },
   "source": [
    "Martes y jueves de 8 - 12  \n",
    "Miércoles 10 - 12 y de 2 a 4 PM  \n",
    "Sábado: 8 - 12"
   ]
  },
  {
   "cell_type": "markdown",
   "id": "10bce0d0",
   "metadata": {
    "slideshow": {
     "slide_type": "slide"
    }
   },
   "source": [
    "## Referentes "
   ]
  },
  {
   "cell_type": "markdown",
   "id": "1db3c468",
   "metadata": {
    "slideshow": {
     "slide_type": "slide"
    }
   },
   "source": [
    "* [Grajales Vanegas, L. M., Restrepo Estrada, C. E., Restrepo Ochoa, S. I., & Ruíz De Villalba, F. (2015). Matemáticas I para las ciencias económicas.](https://github.com/marco-canas/fundamentos_de_la_aritmetica/blob/main/referentes/2_grajales_logica/grajales_lina_matemticas.pdf)\n",
    "  \n",
    "* Duval, R. (2004). Semiosis y pensamiento humano: registros semióticos y aprendizajes intelectuales. Universidad del Valle.\n",
    "\n",
    "* [Aylwin, C. U. (2011). Lógica, conjuntos y números. Universidad de los Andes, Consejo de Publicaciones, Colección: Ciencias Básicas, Serie: Matemáticas.](https://github.com/marco-canas/fundamentos_logica/blob/main/referentes/2_uzcategui/uscategui.pdf)\n",
    "  \n",
    "* [Chollet, F. (2021). Deep learning with Python. Simon and Schuster.](https://github.com/marco-canas/didactica_ciencia_datos/blob/main/2_referentes/chollet/Fran%C3%A7ois%20Chollet%20-%20Deep%20Learning%20with%20Python-Manning%20(2018).pdf)  \n",
    "  \n",
    "* [Watson, S., Stewart, J., & Redlin, L. (2009). Precálculo. Matemáticas para el cálculo.](https://github.com/marco-canas/calculo/blob/main/referents/1_precalculo_stewart/stewart_precalculo.pdf)  \n",
    "\n",
    "* [Purcell, E. J., Varberg, D., & Rigdon, S. E. (2007). Cálculo diferencial e integral. Pearson Educación.](https://github.com/marco-canas/calculo/blob/main/referents/purcell/purcell_calculo.pdf)\n",
    "\n",
    "  \n",
    "\n",
    "* [stewart cálculo](https://udeaeduco-my.sharepoint.com/:b:/g/personal/marco_canas_udea_edu_co/EZgXZjAp8QxPqOAim2hs6LcBNPLGjSHf-xwYnUVYkwa04w?e=RZdTCy)  \n",
    "\n",
    "* [larson](https://udeaeduco-my.sharepoint.com/:b:/g/personal/marco_canas_udea_edu_co/ES71ChFeO9ZDhW3TwC5Ijk8BjxUK3Pdqz_fjHxTTFAfIAg?e=VDEjfu)\n",
    "\n",
    "\n",
    "\n",
    "* [Recomendación de la UNESCO sobre ciencia abierta](https://unesdoc.unesco.org/ark:/48223/pf0000379949_spa)\n",
    "\n",
    "* [chatGPT](https://openai.com/blog/chatgpt)  \n",
    "\n",
    "* [Géron, A. (2017). Hands-on machine learning with scikit-learn and tensorflow: Concepts. Tools, and Techniques to build intelligent systems.](https://github.com/marco-canas/didactica_ciencia_datos/blob/main/2_referentes/geron/Hands-On%20Machine%20Learning-3nd_Edition(2022).pdf)  \n"
   ]
  },
  {
   "cell_type": "markdown",
   "id": "df925560",
   "metadata": {},
   "source": [
    "\n",
    "* [McKinney, W. (2012). Python for data analysis: Data wrangling with Pandas, NumPy, and IPython. \" O'Reilly Media, Inc.\".](https://wesmckinney.com/book/) "
   ]
  },
  {
   "cell_type": "markdown",
   "id": "8e65d6f9",
   "metadata": {},
   "source": [
    "# Como estudiante, encuentro que...   \n",
    "\n",
    "F: Mis Fortalezas son:     \n",
    "O: Mis Oportunidades son:    \n",
    "D: Mis Debilidades son:    \n",
    "A: Lo que Amenazas mi aprendizaje es:  "
   ]
  },
  {
   "cell_type": "markdown",
   "id": "6b9e56a8",
   "metadata": {
    "slideshow": {
     "slide_type": "slide"
    }
   },
   "source": [
    "### [Evaluamos al profesor Marco Cañas Aquí](https://forms.office.com/Pages/ResponsePage.aspx?id=IefhmYRxjkmK_7KtTlPBwkanXIs1i1FEujpsZgO6dXpUREJPV1kxUk1JV1ozTFJIQVNIQjY5WEY3US4u)"
   ]
  },
  {
   "cell_type": "markdown",
   "id": "10f43536",
   "metadata": {
    "slideshow": {
     "slide_type": "slide"
    }
   },
   "source": [
    "### Continue su aprendizaje en la siguiente clase a través del siguiente [vínculo]()"
   ]
  },
  {
   "cell_type": "markdown",
   "id": "53cc9115",
   "metadata": {
    "slideshow": {
     "slide_type": "slide"
    }
   },
   "source": [
    "## Agradecimientos  \n",
    "\n",
    "Doy gracias a Dios por la vida de mi Hijo Joseph Cañas Osorio y la madurez que ha alcanzado. Este hijo me enorgullece y me hace falta abrazarlo cada día. \n",
    "\n",
    "Y a mi esposa Yasmira Emperatriz Barboza Mogollón por su apoyo, orientación y acompañamiento. "
   ]
  },
  {
   "cell_type": "markdown",
   "id": "88f7dbda",
   "metadata": {},
   "source": []
  }
 ],
 "metadata": {
  "celltoolbar": "Slideshow",
  "kernelspec": {
   "display_name": "venv",
   "language": "python",
   "name": "python3"
  },
  "language_info": {
   "codemirror_mode": {
    "name": "ipython",
    "version": 3
   },
   "file_extension": ".py",
   "mimetype": "text/x-python",
   "name": "python",
   "nbconvert_exporter": "python",
   "pygments_lexer": "ipython3",
   "version": "3.12.6"
  },
  "rise": {
   "enable_chalkboard": true,
   "theme": "sky",
   "transition": "zoom"
  }
 },
 "nbformat": 4,
 "nbformat_minor": 5
}
