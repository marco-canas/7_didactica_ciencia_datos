{
 "cells": [
  {
   "cell_type": "markdown",
   "id": "6cdecfee",
   "metadata": {},
   "source": [
    "  <td>\n",
    "    <a href=\"https://colab.research.google.com/github/marco-canas/innovaciones/blob/main/prop/unidad_didac/2_clasificacion/2_clasif_load_digits.ipynb\" target=\"_parent\"><img src=\"https://colab.research.google.com/assets/colab-badge.svg\" alt=\"Open In Colab\"/></a>\n",
    "  </td>"
   ]
  },
  {
   "cell_type": "markdown",
   "id": "2a01cde3",
   "metadata": {},
   "source": [
    "# Clasificación binaria usando el dataset load_digits"
   ]
  },
  {
   "cell_type": "markdown",
   "id": "2edfe537",
   "metadata": {},
   "source": [
    "### Objetivos\n",
    "\n",
    "* Mostrar que sklearn tiene conjuntos de datos y clasificadores muy interesantes que permiten practicar la clasificación binaria.\n",
    "* Mostrar que se pueden crear funciones en Python que permitan filtrar un conjunto de datos.\n",
    "* Graficar usando matplotlib, versiones de las instancias de load_digits con solo dos atributos.\n"
   ]
  },
  {
   "cell_type": "code",
   "execution_count": 1,
   "id": "61a20d2f",
   "metadata": {},
   "outputs": [],
   "source": [
    "import numpy as np\n",
    "import matplotlib.pyplot as plt\n",
    "from sklearn.datasets import load_digits\n",
    "from sklearn.linear_model import Perceptron"
   ]
  },
  {
   "cell_type": "markdown",
   "id": "30b27a50",
   "metadata": {},
   "source": [
    "[más sobre load_digits](https://scikit-learn.org/stable/modules/generated/sklearn.datasets.load_digits.html) "
   ]
  },
  {
   "cell_type": "markdown",
   "id": "826167ba",
   "metadata": {},
   "source": [
    "[más sobre Perceptron](https://scikit-learn.org/stable/modules/generated/sklearn.linear_model.Perceptron.html) "
   ]
  },
  {
   "cell_type": "code",
   "execution_count": 2,
   "id": "24d943bf",
   "metadata": {},
   "outputs": [],
   "source": [
    "def digits_dos_clases(i, j):\n",
    "    \"\"\"input: dos enteros: los dos dígitos a clasificar\n",
    "       output: X array 2D instancias solo de i y de j. y array 1D etiquetas\"\"\"\n",
    "    X, y = load_digits(return_X_y=True)\n",
    "    return np.vstack([X[y==i], X[y==j]]), np.hstack([y[y==i], y[y==j]])"
   ]
  },
  {
   "cell_type": "code",
   "execution_count": 3,
   "id": "b5095208",
   "metadata": {},
   "outputs": [],
   "source": [
    "def digits_2D_arriba_abajo(X):\n",
    "    \"\"\"input: array 2D de instancias X de shape (n, 64)\n",
    "       outpu: array 2D con solo dos atributos, shape de salida (n, 2)\"\"\"\n",
    "    primera_col = X[:, :32].sum(axis=1).reshape(-1, 1)\n",
    "    segunda_col = X[:, 32:].sum(axis=1).reshape(-1, 1)\n",
    "    return np.hstack([primera_col, segunda_col])"
   ]
  },
  {
   "cell_type": "code",
   "execution_count": 4,
   "id": "b52810ed",
   "metadata": {},
   "outputs": [],
   "source": [
    "def grafica_dos_clases(X, y, **kwargs):\n",
    "    \"\"\"grafica puntos en 2D diferenciando dos clases.\n",
    "       input: X, y: instancias, etiquetas\n",
    "       output: grafica sobre el sistema de ejes del momento\"\"\"\n",
    "    etiquetas = list(set(y))\n",
    "    label1, label2 = etiquetas[0], etiquetas[1]\n",
    "    ax = plt.gca()\n",
    "    ax.plot(X[:, 0][y==label1], X[:, 1][y==label1], 'bo', **kwargs)\n",
    "    ax.plot(X[:, 0][y==label2], X[:, 1][y==label2], 'go', **kwargs)"
   ]
  },
  {
   "cell_type": "code",
   "execution_count": 5,
   "id": "e7fdb1fc",
   "metadata": {},
   "outputs": [],
   "source": [
    "def dibujaLinea(w, a, b):\n",
    "    \"\"\"dibuja linea separadora sobre sistema de ejes del momento\n",
    "       input: w vector de pesos. a y b limites para el eje horizontal\"\"\"\n",
    "    \"\"\"a y b extremos del dominio\"\"\"\n",
    "    w0, w1, w2 = w[0], w[1], w[2]\n",
    "    ax = plt.gca()\n",
    "    ax.plot([a, b], [-w0 / w2 -(w1 / w2) * a, -w0 / w2 -(w1 / w2) * b])"
   ]
  },
  {
   "cell_type": "code",
   "execution_count": 6,
   "id": "314c095e",
   "metadata": {},
   "outputs": [
    {
     "name": "stdout",
     "output_type": "stream",
     "text": [
      "[ 1.000e+00  1.140e+03 -1.058e+03]\n"
     ]
    },
    {
     "data": {
      "image/png": "[encoded data removed]",
      "text/plain": [
       "<Figure size 432x288 with 1 Axes>"
      ]
     },
     "metadata": {},
     "output_type": "display_data"
    }
   ],
   "source": [
    "if __name__ == '__main__':\n",
    "\n",
    "\n",
    "    plt.style.use(\"dark_background\")\n",
    "    i, j = 8, 3\n",
    "    k, l = 6, 9\n",
    "    X_8_3, y_8_3 = digits_dos_clases(i, j)\n",
    "    X2D_8_3 = digits_2D_arriba_abajo(X_8_3)\n",
    "    X_6_9, y_6_9 = digits_dos_clases(k, l)\n",
    "    X2D_6_9 = digits_2D_arriba_abajo(X_6_9)\n",
    "\n",
    "    clf = Perceptron()\n",
    "    clf.fit(X2D_6_9, y_6_9)\n",
    "    w1, w2 = clf.coef_[0]\n",
    "    w0 = clf.intercept_[0]\n",
    "    w = np.array([w0, w1, w2])\n",
    "    print(w)\n",
    "    ########### 8 contra 3 ###########\n",
    "    # fig, ax = plt.subplots()\n",
    "    # ax.set_title('Clasificación de dígitos usando Perceptron')\n",
    "    # ax.legend([str(i), str(j)])\n",
    "    # grafica_dos_clases(X2D_8_3, y_8_3)\n",
    "    ########### 6 contra 9 ###########\n",
    "    fig, ax = plt.subplots()\n",
    "    ax.set_title('Clasificación de dígitos usando Perceptron')\n",
    "    grafica_dos_clases(X2D_6_9, y_6_9)\n",
    "    dibujaLinea(w, 50, 250)\n",
    "    ax.legend([str(k), str(l)])\n",
    "    plt.show()"
   ]
  },
  {
   "cell_type": "code",
   "execution_count": null,
   "id": "dfda1399",
   "metadata": {},
   "outputs": [],
   "source": []
  }
 ],
 "metadata": {
  "kernelspec": {
   "display_name": "Python 3",
   "language": "python",
   "name": "python3"
  },
  "language_info": {
   "codemirror_mode": {
    "name": "ipython",
    "version": 3
   },
   "file_extension": ".py",
   "mimetype": "text/x-python",
   "name": "python",
   "nbconvert_exporter": "python",
   "pygments_lexer": "ipython3",
   "version": "3.9.5"
  }
 },
 "nbformat": 4,
 "nbformat_minor": 5
}
