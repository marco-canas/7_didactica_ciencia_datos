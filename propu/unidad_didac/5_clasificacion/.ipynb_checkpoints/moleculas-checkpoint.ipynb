{
 "cells": [
  {
   "cell_type": "markdown",
   "id": "0d1cd760",
   "metadata": {},
   "source": []
  },
  {
   "cell_type": "markdown",
   "id": "b35cb2dc",
   "metadata": {},
   "source": [
    "# Reconocimiento de imagenes de tres moléculas específicas"
   ]
  },
  {
   "cell_type": "code",
   "execution_count": 2,
   "id": "d8426a8a",
   "metadata": {},
   "outputs": [],
   "source": [
    "import os \n",
    "import numpy as np \n",
    "from PIL import Image "
   ]
  },
  {
   "cell_type": "markdown",
   "id": "82c56654",
   "metadata": {},
   "source": [
    "## Lectura de imagenes "
   ]
  },
  {
   "cell_type": "code",
   "execution_count": 10,
   "id": "fd20d38c",
   "metadata": {},
   "outputs": [],
   "source": [
    "water_struct = 'C:/Users/Marco/Documents/GitHub/taca/propu/unidad_didac/5_clasificacion/dataset_moleculas/water'\n",
    "methane_struct = 'C:/Users/Marco/Documents/GitHub/taca/propu/unidad_didac/5_clasificacion/dataset_moleculas/methane'\n",
    "bezene_struct = 'C:/Users/Marco/Documents/GitHub/taca/propu/unidad_didac/5_clasificacion/dataset_moleculas/benzene' \n"
   ]
  },
  {
   "cell_type": "code",
   "execution_count": 15,
   "id": "82bf358a",
   "metadata": {},
   "outputs": [],
   "source": [
    "water_samples = os.listdir(water_struct) \n",
    "methane_samples = os.listdir(methane_struct) \n",
    "bezene_samples = os.listdir(bezene_struct) \n",
    "# listdir covierte en una lista de python al conjunto de archivos que encuentre en la carpeta"
   ]
  },
  {
   "cell_type": "code",
   "execution_count": 16,
   "id": "54e394e3",
   "metadata": {},
   "outputs": [
    {
     "data": {
      "text/plain": [
       "[]"
      ]
     },
     "execution_count": 16,
     "metadata": {},
     "output_type": "execute_result"
    }
   ],
   "source": [
    "water_samples"
   ]
  },
  {
   "cell_type": "markdown",
   "id": "8fbe44ea",
   "metadata": {},
   "source": [
    "## Crear la matriz de objetos X"
   ]
  },
  {
   "cell_type": "code",
   "execution_count": 14,
   "id": "858945a0",
   "metadata": {},
   "outputs": [],
   "source": [
    "def water_input():\n",
    "    x_water = np.zeros(97734)\n",
    "    for samples in water_samples:\n",
    "        water_images = water_struct + '/' + 'samples'\n",
    "        x_water = np.delete(x_water, (0), axis = 0) \n",
    "        image = Image.open(water_image)\n",
    "        image_array = np.asarray(image)\n",
    "        data_array = image_array.flatten()\n",
    "        x_water = np.vstack(x_water, data_array)\n",
    "    x_water = np.delete(x_water, (0), axis = 0)     \n",
    "    return x_water    "
   ]
  },
  {
   "cell_type": "code",
   "execution_count": 17,
   "id": "2c9704e0",
   "metadata": {},
   "outputs": [
    {
     "data": {
      "text/plain": [
       "array([0., 0., 0., ..., 0., 0., 0.])"
      ]
     },
     "execution_count": 17,
     "metadata": {},
     "output_type": "execute_result"
    }
   ],
   "source": [
    "water_input()"
   ]
  },
  {
   "cell_type": "code",
   "execution_count": null,
   "id": "fb26142c",
   "metadata": {},
   "outputs": [],
   "source": []
  },
  {
   "cell_type": "code",
   "execution_count": null,
   "id": "ed1c6dcf",
   "metadata": {},
   "outputs": [],
   "source": []
  },
  {
   "cell_type": "code",
   "execution_count": null,
   "id": "17204297",
   "metadata": {},
   "outputs": [],
   "source": []
  },
  {
   "cell_type": "code",
   "execution_count": null,
   "id": "b9ceb6d4",
   "metadata": {},
   "outputs": [],
   "source": []
  },
  {
   "cell_type": "code",
   "execution_count": null,
   "id": "ee254efd",
   "metadata": {},
   "outputs": [],
   "source": []
  }
 ],
 "metadata": {
  "kernelspec": {
   "display_name": "Python 3 (ipykernel)",
   "language": "python",
   "name": "python3"
  },
  "language_info": {
   "codemirror_mode": {
    "name": "ipython",
    "version": 3
   },
   "file_extension": ".py",
   "mimetype": "text/x-python",
   "name": "python",
   "nbconvert_exporter": "python",
   "pygments_lexer": "ipython3",
   "version": "3.9.12"
  }
 },
 "nbformat": 4,
 "nbformat_minor": 5
}
