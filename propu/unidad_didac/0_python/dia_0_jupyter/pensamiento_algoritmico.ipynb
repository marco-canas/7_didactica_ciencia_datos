{
 "cells": [
  {
   "cell_type": "markdown",
   "id": "01e83922",
   "metadata": {
    "slideshow": {
     "slide_type": "slide"
    }
   },
   "source": []
  },
  {
   "cell_type": "markdown",
   "id": "a56b47a8",
   "metadata": {},
   "source": [
    "# [Desarrollo del pensamiento algoritmico con Lightbot](https://www.youtube.com/watch?v=EpGeuVMQDWk)"
   ]
  },
  {
   "cell_type": "markdown",
   "id": "2148328d",
   "metadata": {
    "slideshow": {
     "slide_type": "slide"
    }
   },
   "source": [
    "Inicia aprendiendo a generar una secuencia para lograr que el bot pase por todos los cuadros azules y cambie su color a amarillo con el menor número de líneas de código. "
   ]
  },
  {
   "cell_type": "markdown",
   "id": "f283932b",
   "metadata": {
    "slideshow": {
     "slide_type": "slide"
    }
   },
   "source": [
    "<img src = 'https://play-lh.googleusercontent.com/LgAs9sfau0aKRq4IceyMBBT8FB_iHBAZ414WUcbsp0SD22sm4jMjek8Jaqz4nvth-A=w526-h296-rw'>"
   ]
  },
  {
   "cell_type": "markdown",
   "id": "390dd7ad",
   "metadata": {
    "slideshow": {
     "slide_type": "slide"
    }
   },
   "source": [
    "## Diseño de procedimientos "
   ]
  },
  {
   "cell_type": "markdown",
   "id": "7d913d5b",
   "metadata": {
    "slideshow": {
     "slide_type": "slide"
    }
   },
   "source": [
    "<img src = 'https://play-lh.googleusercontent.com/_2IxCL53Z_tC3sV61-zYlZZTVPH0Jee1grotX-VxDlPaV58PUW3YQnh5kSRYF1MHBw'> "
   ]
  },
  {
   "cell_type": "markdown",
   "id": "e4c0bd25",
   "metadata": {},
   "source": [
    "<img src = 'https://encrypted-tbn0.gstatic.com/images?q=tbn:ANd9GcT5Y0RdqxacQzhZtNwaidFv3018BSrd224YW30TrXjfl9fFR8ugKZ5jhhg4pFnMMW9cwaA&usqp=CAU'> "
   ]
  },
  {
   "cell_type": "code",
   "execution_count": null,
   "id": "fe69683e",
   "metadata": {},
   "outputs": [],
   "source": []
  },
  {
   "cell_type": "code",
   "execution_count": null,
   "id": "dab42357",
   "metadata": {},
   "outputs": [],
   "source": []
  },
  {
   "cell_type": "code",
   "execution_count": null,
   "id": "8a1dbd31",
   "metadata": {},
   "outputs": [],
   "source": []
  },
  {
   "cell_type": "markdown",
   "id": "7a5d2cc0",
   "metadata": {},
   "source": [
    "## Referentes  \n",
    "\n"
   ]
  },
  {
   "cell_type": "code",
   "execution_count": null,
   "id": "7b25af42",
   "metadata": {},
   "outputs": [],
   "source": []
  }
 ],
 "metadata": {
  "celltoolbar": "Slideshow",
  "kernelspec": {
   "display_name": "Python 3 (ipykernel)",
   "language": "python",
   "name": "python3"
  },
  "language_info": {
   "codemirror_mode": {
    "name": "ipython",
    "version": 3
   },
   "file_extension": ".py",
   "mimetype": "text/x-python",
   "name": "python",
   "nbconvert_exporter": "python",
   "pygments_lexer": "ipython3",
   "version": "3.9.12"
  }
 },
 "nbformat": 4,
 "nbformat_minor": 5
}
