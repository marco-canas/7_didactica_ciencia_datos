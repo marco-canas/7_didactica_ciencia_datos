{
 "cells": [
  {
   "cell_type": "code",
   "execution_count": 1,
   "metadata": {
    "_cell_guid": "b1076dfc-b9ad-4769-8c92-a6c4dae69d19",
    "_uuid": "8f2839f25d086af736a60e9eeb907d3b93b6e0e5",
    "execution": {
     "iopub.execute_input": "2021-08-25T05:16:39.794045Z",
     "iopub.status.busy": "2021-08-25T05:16:39.793630Z",
     "iopub.status.idle": "2021-08-25T05:16:39.803878Z",
     "shell.execute_reply": "2021-08-25T05:16:39.802725Z",
     "shell.execute_reply.started": "2021-08-25T05:16:39.794010Z"
    }
   },
   "outputs": [],
   "source": [
    "import numpy as np # linear algebra\n",
    "import pandas as pd # data processing CSV files"
   ]
  },
  {
   "cell_type": "code",
   "execution_count": 2,
   "metadata": {
    "execution": {
     "iopub.execute_input": "2021-08-25T05:16:39.811387Z",
     "iopub.status.busy": "2021-08-25T05:16:39.810770Z",
     "iopub.status.idle": "2021-08-25T05:16:41.725133Z",
     "shell.execute_reply": "2021-08-25T05:16:41.724118Z",
     "shell.execute_reply.started": "2021-08-25T05:16:39.811346Z"
    }
   },
   "outputs": [
    {
     "data": {
      "text/html": [
       "<div>\n",
       "<style scoped>\n",
       "    .dataframe tbody tr th:only-of-type {\n",
       "        vertical-align: middle;\n",
       "    }\n",
       "\n",
       "    .dataframe tbody tr th {\n",
       "        vertical-align: top;\n",
       "    }\n",
       "\n",
       "    .dataframe thead th {\n",
       "        text-align: right;\n",
       "    }\n",
       "</style>\n",
       "<table border=\"1\" class=\"dataframe\">\n",
       "  <thead>\n",
       "    <tr style=\"text-align: right;\">\n",
       "      <th></th>\n",
       "      <th>cat0</th>\n",
       "      <th>cat1</th>\n",
       "      <th>cat2</th>\n",
       "      <th>cat3</th>\n",
       "      <th>cat4</th>\n",
       "      <th>cat5</th>\n",
       "      <th>cat6</th>\n",
       "      <th>cat7</th>\n",
       "      <th>cat8</th>\n",
       "      <th>cat9</th>\n",
       "      <th>...</th>\n",
       "      <th>cont5</th>\n",
       "      <th>cont6</th>\n",
       "      <th>cont7</th>\n",
       "      <th>cont8</th>\n",
       "      <th>cont9</th>\n",
       "      <th>cont10</th>\n",
       "      <th>cont11</th>\n",
       "      <th>cont12</th>\n",
       "      <th>cont13</th>\n",
       "      <th>target</th>\n",
       "    </tr>\n",
       "    <tr>\n",
       "      <th>id</th>\n",
       "      <th></th>\n",
       "      <th></th>\n",
       "      <th></th>\n",
       "      <th></th>\n",
       "      <th></th>\n",
       "      <th></th>\n",
       "      <th></th>\n",
       "      <th></th>\n",
       "      <th></th>\n",
       "      <th></th>\n",
       "      <th></th>\n",
       "      <th></th>\n",
       "      <th></th>\n",
       "      <th></th>\n",
       "      <th></th>\n",
       "      <th></th>\n",
       "      <th></th>\n",
       "      <th></th>\n",
       "      <th></th>\n",
       "      <th></th>\n",
       "      <th></th>\n",
       "    </tr>\n",
       "  </thead>\n",
       "  <tbody>\n",
       "    <tr>\n",
       "      <td>1</td>\n",
       "      <td>B</td>\n",
       "      <td>B</td>\n",
       "      <td>B</td>\n",
       "      <td>C</td>\n",
       "      <td>B</td>\n",
       "      <td>B</td>\n",
       "      <td>A</td>\n",
       "      <td>E</td>\n",
       "      <td>C</td>\n",
       "      <td>N</td>\n",
       "      <td>...</td>\n",
       "      <td>0.400361</td>\n",
       "      <td>0.160266</td>\n",
       "      <td>0.310921</td>\n",
       "      <td>0.389470</td>\n",
       "      <td>0.267559</td>\n",
       "      <td>0.237281</td>\n",
       "      <td>0.377873</td>\n",
       "      <td>0.322401</td>\n",
       "      <td>0.869850</td>\n",
       "      <td>8.113634</td>\n",
       "    </tr>\n",
       "    <tr>\n",
       "      <td>2</td>\n",
       "      <td>B</td>\n",
       "      <td>B</td>\n",
       "      <td>A</td>\n",
       "      <td>A</td>\n",
       "      <td>B</td>\n",
       "      <td>D</td>\n",
       "      <td>A</td>\n",
       "      <td>F</td>\n",
       "      <td>A</td>\n",
       "      <td>O</td>\n",
       "      <td>...</td>\n",
       "      <td>0.533087</td>\n",
       "      <td>0.558922</td>\n",
       "      <td>0.516294</td>\n",
       "      <td>0.594928</td>\n",
       "      <td>0.341439</td>\n",
       "      <td>0.906013</td>\n",
       "      <td>0.921701</td>\n",
       "      <td>0.261975</td>\n",
       "      <td>0.465083</td>\n",
       "      <td>8.481233</td>\n",
       "    </tr>\n",
       "  </tbody>\n",
       "</table>\n",
       "<p>2 rows × 25 columns</p>\n",
       "</div>"
      ],
      "text/plain": [
       "   cat0 cat1 cat2 cat3 cat4 cat5 cat6 cat7 cat8 cat9  ...     cont5     cont6  \\\n",
       "id                                                    ...                       \n",
       "1     B    B    B    C    B    B    A    E    C    N  ...  0.400361  0.160266   \n",
       "2     B    B    A    A    B    D    A    F    A    O  ...  0.533087  0.558922   \n",
       "\n",
       "       cont7     cont8     cont9    cont10    cont11    cont12    cont13  \\\n",
       "id                                                                         \n",
       "1   0.310921  0.389470  0.267559  0.237281  0.377873  0.322401  0.869850   \n",
       "2   0.516294  0.594928  0.341439  0.906013  0.921701  0.261975  0.465083   \n",
       "\n",
       "      target  \n",
       "id            \n",
       "1   8.113634  \n",
       "2   8.481233  \n",
       "\n",
       "[2 rows x 25 columns]"
      ]
     },
     "execution_count": 2,
     "metadata": {},
     "output_type": "execute_result"
    }
   ],
   "source": [
    "train = pd.read_csv('train.csv', index_col = 0) \n",
    "train.head(2) "
   ]
  },
  {
   "cell_type": "code",
   "execution_count": 3,
   "metadata": {
    "execution": {
     "iopub.execute_input": "2021-08-25T05:16:41.727613Z",
     "iopub.status.busy": "2021-08-25T05:16:41.726961Z",
     "iopub.status.idle": "2021-08-25T05:16:42.782200Z",
     "shell.execute_reply": "2021-08-25T05:16:42.781244Z",
     "shell.execute_reply.started": "2021-08-25T05:16:41.727568Z"
    }
   },
   "outputs": [
    {
     "data": {
      "text/html": [
       "<div>\n",
       "<style scoped>\n",
       "    .dataframe tbody tr th:only-of-type {\n",
       "        vertical-align: middle;\n",
       "    }\n",
       "\n",
       "    .dataframe tbody tr th {\n",
       "        vertical-align: top;\n",
       "    }\n",
       "\n",
       "    .dataframe thead th {\n",
       "        text-align: right;\n",
       "    }\n",
       "</style>\n",
       "<table border=\"1\" class=\"dataframe\">\n",
       "  <thead>\n",
       "    <tr style=\"text-align: right;\">\n",
       "      <th></th>\n",
       "      <th>cat0</th>\n",
       "      <th>cat1</th>\n",
       "      <th>cat2</th>\n",
       "      <th>cat3</th>\n",
       "      <th>cat4</th>\n",
       "      <th>cat5</th>\n",
       "      <th>cat6</th>\n",
       "      <th>cat7</th>\n",
       "      <th>cat8</th>\n",
       "      <th>cat9</th>\n",
       "      <th>...</th>\n",
       "      <th>cont4</th>\n",
       "      <th>cont5</th>\n",
       "      <th>cont6</th>\n",
       "      <th>cont7</th>\n",
       "      <th>cont8</th>\n",
       "      <th>cont9</th>\n",
       "      <th>cont10</th>\n",
       "      <th>cont11</th>\n",
       "      <th>cont12</th>\n",
       "      <th>cont13</th>\n",
       "    </tr>\n",
       "    <tr>\n",
       "      <th>id</th>\n",
       "      <th></th>\n",
       "      <th></th>\n",
       "      <th></th>\n",
       "      <th></th>\n",
       "      <th></th>\n",
       "      <th></th>\n",
       "      <th></th>\n",
       "      <th></th>\n",
       "      <th></th>\n",
       "      <th></th>\n",
       "      <th></th>\n",
       "      <th></th>\n",
       "      <th></th>\n",
       "      <th></th>\n",
       "      <th></th>\n",
       "      <th></th>\n",
       "      <th></th>\n",
       "      <th></th>\n",
       "      <th></th>\n",
       "      <th></th>\n",
       "      <th></th>\n",
       "    </tr>\n",
       "  </thead>\n",
       "  <tbody>\n",
       "    <tr>\n",
       "      <td>0</td>\n",
       "      <td>B</td>\n",
       "      <td>B</td>\n",
       "      <td>B</td>\n",
       "      <td>C</td>\n",
       "      <td>B</td>\n",
       "      <td>B</td>\n",
       "      <td>A</td>\n",
       "      <td>E</td>\n",
       "      <td>E</td>\n",
       "      <td>I</td>\n",
       "      <td>...</td>\n",
       "      <td>0.476739</td>\n",
       "      <td>0.376350</td>\n",
       "      <td>0.337884</td>\n",
       "      <td>0.321832</td>\n",
       "      <td>0.445212</td>\n",
       "      <td>0.290258</td>\n",
       "      <td>0.244476</td>\n",
       "      <td>0.087914</td>\n",
       "      <td>0.301831</td>\n",
       "      <td>0.845702</td>\n",
       "    </tr>\n",
       "    <tr>\n",
       "      <td>5</td>\n",
       "      <td>A</td>\n",
       "      <td>B</td>\n",
       "      <td>A</td>\n",
       "      <td>C</td>\n",
       "      <td>B</td>\n",
       "      <td>C</td>\n",
       "      <td>A</td>\n",
       "      <td>E</td>\n",
       "      <td>C</td>\n",
       "      <td>H</td>\n",
       "      <td>...</td>\n",
       "      <td>0.285509</td>\n",
       "      <td>0.860046</td>\n",
       "      <td>0.798712</td>\n",
       "      <td>0.835961</td>\n",
       "      <td>0.391657</td>\n",
       "      <td>0.288276</td>\n",
       "      <td>0.549568</td>\n",
       "      <td>0.905097</td>\n",
       "      <td>0.850684</td>\n",
       "      <td>0.693940</td>\n",
       "    </tr>\n",
       "  </tbody>\n",
       "</table>\n",
       "<p>2 rows × 24 columns</p>\n",
       "</div>"
      ],
      "text/plain": [
       "   cat0 cat1 cat2 cat3 cat4 cat5 cat6 cat7 cat8 cat9  ...     cont4     cont5  \\\n",
       "id                                                    ...                       \n",
       "0     B    B    B    C    B    B    A    E    E    I  ...  0.476739  0.376350   \n",
       "5     A    B    A    C    B    C    A    E    C    H  ...  0.285509  0.860046   \n",
       "\n",
       "       cont6     cont7     cont8     cont9    cont10    cont11    cont12  \\\n",
       "id                                                                         \n",
       "0   0.337884  0.321832  0.445212  0.290258  0.244476  0.087914  0.301831   \n",
       "5   0.798712  0.835961  0.391657  0.288276  0.549568  0.905097  0.850684   \n",
       "\n",
       "      cont13  \n",
       "id            \n",
       "0   0.845702  \n",
       "5   0.693940  \n",
       "\n",
       "[2 rows x 24 columns]"
      ]
     },
     "execution_count": 3,
     "metadata": {},
     "output_type": "execute_result"
    }
   ],
   "source": [
    "test = pd.read_csv('test.csv', index_col = 0)\n",
    "test.head(2) "
   ]
  },
  {
   "cell_type": "code",
   "execution_count": 4,
   "metadata": {
    "execution": {
     "iopub.execute_input": "2021-08-25T05:16:42.784858Z",
     "iopub.status.busy": "2021-08-25T05:16:42.784517Z",
     "iopub.status.idle": "2021-08-25T05:16:43.103444Z",
     "shell.execute_reply": "2021-08-25T05:16:43.102414Z",
     "shell.execute_reply.started": "2021-08-25T05:16:42.784824Z"
    }
   },
   "outputs": [
    {
     "name": "stdout",
     "output_type": "stream",
     "text": [
      "<class 'pandas.core.frame.DataFrame'>\n",
      "Int64Index: 300000 entries, 1 to 499999\n",
      "Data columns (total 25 columns):\n",
      "cat0      300000 non-null object\n",
      "cat1      300000 non-null object\n",
      "cat2      300000 non-null object\n",
      "cat3      300000 non-null object\n",
      "cat4      300000 non-null object\n",
      "cat5      300000 non-null object\n",
      "cat6      300000 non-null object\n",
      "cat7      300000 non-null object\n",
      "cat8      300000 non-null object\n",
      "cat9      300000 non-null object\n",
      "cont0     300000 non-null float64\n",
      "cont1     300000 non-null float64\n",
      "cont2     300000 non-null float64\n",
      "cont3     300000 non-null float64\n",
      "cont4     300000 non-null float64\n",
      "cont5     300000 non-null float64\n",
      "cont6     300000 non-null float64\n",
      "cont7     300000 non-null float64\n",
      "cont8     300000 non-null float64\n",
      "cont9     300000 non-null float64\n",
      "cont10    300000 non-null float64\n",
      "cont11    300000 non-null float64\n",
      "cont12    300000 non-null float64\n",
      "cont13    300000 non-null float64\n",
      "target    300000 non-null float64\n",
      "dtypes: float64(15), object(10)\n",
      "memory usage: 59.5+ MB\n"
     ]
    }
   ],
   "source": [
    "train.info() "
   ]
  },
  {
   "cell_type": "code",
   "execution_count": 6,
   "metadata": {
    "execution": {
     "iopub.execute_input": "2021-08-25T05:16:43.105930Z",
     "iopub.status.busy": "2021-08-25T05:16:43.105341Z",
     "iopub.status.idle": "2021-08-25T05:16:43.182952Z",
     "shell.execute_reply": "2021-08-25T05:16:43.181910Z",
     "shell.execute_reply.started": "2021-08-25T05:16:43.105883Z"
    }
   },
   "outputs": [
    {
     "data": {
      "text/plain": [
       "id\n",
       "1    8.113634\n",
       "2    8.481233\n",
       "3    8.364351\n",
       "4    8.049253\n",
       "6    7.972260\n",
       "Name: target, dtype: float64"
      ]
     },
     "execution_count": 6,
     "metadata": {},
     "output_type": "execute_result"
    }
   ],
   "source": [
    "y = train['target']\n",
    "X = train.drop(['target'],axis = 1)\n",
    "y.head() "
   ]
  },
  {
   "cell_type": "code",
   "execution_count": 7,
   "metadata": {
    "execution": {
     "iopub.execute_input": "2021-08-25T05:16:43.185034Z",
     "iopub.status.busy": "2021-08-25T05:16:43.184435Z",
     "iopub.status.idle": "2021-08-25T05:16:43.319965Z",
     "shell.execute_reply": "2021-08-25T05:16:43.319273Z",
     "shell.execute_reply.started": "2021-08-25T05:16:43.184988Z"
    }
   },
   "outputs": [],
   "source": [
    "from sklearn.model_selection import train_test_split\n",
    "X_train_0,X_val_0,y_train_0,y_val_0 = train_test_split(X,y, random_state = 0)  "
   ]
  },
  {
   "cell_type": "markdown",
   "metadata": {},
   "source": [
    "## Tratamiento de los datos categóricos ordinales"
   ]
  },
  {
   "cell_type": "code",
   "execution_count": 8,
   "metadata": {
    "execution": {
     "iopub.execute_input": "2021-08-25T05:16:43.321866Z",
     "iopub.status.busy": "2021-08-25T05:16:43.321293Z",
     "iopub.status.idle": "2021-08-25T05:16:43.326825Z",
     "shell.execute_reply": "2021-08-25T05:16:43.325435Z",
     "shell.execute_reply.started": "2021-08-25T05:16:43.321822Z"
    }
   },
   "outputs": [],
   "source": [
    "from sklearn.preprocessing import OrdinalEncoder  "
   ]
  },
  {
   "cell_type": "code",
   "execution_count": 9,
   "metadata": {
    "execution": {
     "iopub.execute_input": "2021-08-25T05:16:43.328850Z",
     "iopub.status.busy": "2021-08-25T05:16:43.328450Z",
     "iopub.status.idle": "2021-08-25T05:16:43.343087Z",
     "shell.execute_reply": "2021-08-25T05:16:43.341795Z",
     "shell.execute_reply.started": "2021-08-25T05:16:43.328809Z"
    }
   },
   "outputs": [],
   "source": [
    "codificar = OrdinalEncoder() # instanciar la clase "
   ]
  },
  {
   "cell_type": "code",
   "execution_count": 10,
   "metadata": {
    "execution": {
     "iopub.execute_input": "2021-08-25T05:16:43.328850Z",
     "iopub.status.busy": "2021-08-25T05:16:43.328450Z",
     "iopub.status.idle": "2021-08-25T05:16:43.343087Z",
     "shell.execute_reply": "2021-08-25T05:16:43.341795Z",
     "shell.execute_reply.started": "2021-08-25T05:16:43.328809Z"
    }
   },
   "outputs": [
    {
     "data": {
      "text/plain": [
       "['cat0',\n",
       " 'cat1',\n",
       " 'cat2',\n",
       " 'cat3',\n",
       " 'cat4',\n",
       " 'cat5',\n",
       " 'cat6',\n",
       " 'cat7',\n",
       " 'cat8',\n",
       " 'cat9']"
      ]
     },
     "execution_count": 10,
     "metadata": {},
     "output_type": "execute_result"
    }
   ],
   "source": [
    "# List of categorical columns\n",
    "nombres_cols_cat = [col for col in X.columns if 'cat' in col]\n",
    "nombres_cols_cat"
   ]
  },
  {
   "cell_type": "code",
   "execution_count": 11,
   "metadata": {
    "execution": {
     "iopub.execute_input": "2021-08-25T05:16:43.347279Z",
     "iopub.status.busy": "2021-08-25T05:16:43.346817Z",
     "iopub.status.idle": "2021-08-25T05:16:43.406542Z",
     "shell.execute_reply": "2021-08-25T05:16:43.405510Z",
     "shell.execute_reply.started": "2021-08-25T05:16:43.347215Z"
    }
   },
   "outputs": [],
   "source": [
    "X_train = X_train_0.copy()\n",
    "X_val = X_val_0.copy()\n",
    "X_test = test.copy()  \n",
    "y_train = y_train_0.copy()\n",
    "y_val = y_val_0.copy() "
   ]
  },
  {
   "cell_type": "code",
   "execution_count": 12,
   "metadata": {
    "execution": {
     "iopub.execute_input": "2021-08-25T05:16:43.409480Z",
     "iopub.status.busy": "2021-08-25T05:16:43.408855Z",
     "iopub.status.idle": "2021-08-25T05:16:47.657656Z",
     "shell.execute_reply": "2021-08-25T05:16:47.656751Z",
     "shell.execute_reply.started": "2021-08-25T05:16:43.409440Z"
    }
   },
   "outputs": [],
   "source": [
    "X_train[nombres_cols_cat] = codificar.fit_transform(X_train[nombres_cols_cat])\n",
    "X_val[nombres_cols_cat] = codificar.fit_transform(X_val[nombres_cols_cat])\n",
    "X_test[nombres_cols_cat] = codificar.fit_transform(X_test[nombres_cols_cat])"
   ]
  },
  {
   "cell_type": "code",
   "execution_count": 13,
   "metadata": {},
   "outputs": [
    {
     "data": {
      "text/html": [
       "<div>\n",
       "<style scoped>\n",
       "    .dataframe tbody tr th:only-of-type {\n",
       "        vertical-align: middle;\n",
       "    }\n",
       "\n",
       "    .dataframe tbody tr th {\n",
       "        vertical-align: top;\n",
       "    }\n",
       "\n",
       "    .dataframe thead th {\n",
       "        text-align: right;\n",
       "    }\n",
       "</style>\n",
       "<table border=\"1\" class=\"dataframe\">\n",
       "  <thead>\n",
       "    <tr style=\"text-align: right;\">\n",
       "      <th></th>\n",
       "      <th>cat0</th>\n",
       "      <th>cat1</th>\n",
       "      <th>cat2</th>\n",
       "      <th>cat3</th>\n",
       "      <th>cat4</th>\n",
       "      <th>cat5</th>\n",
       "      <th>cat6</th>\n",
       "      <th>cat7</th>\n",
       "      <th>cat8</th>\n",
       "      <th>cat9</th>\n",
       "      <th>...</th>\n",
       "      <th>cont4</th>\n",
       "      <th>cont5</th>\n",
       "      <th>cont6</th>\n",
       "      <th>cont7</th>\n",
       "      <th>cont8</th>\n",
       "      <th>cont9</th>\n",
       "      <th>cont10</th>\n",
       "      <th>cont11</th>\n",
       "      <th>cont12</th>\n",
       "      <th>cont13</th>\n",
       "    </tr>\n",
       "    <tr>\n",
       "      <th>id</th>\n",
       "      <th></th>\n",
       "      <th></th>\n",
       "      <th></th>\n",
       "      <th></th>\n",
       "      <th></th>\n",
       "      <th></th>\n",
       "      <th></th>\n",
       "      <th></th>\n",
       "      <th></th>\n",
       "      <th></th>\n",
       "      <th></th>\n",
       "      <th></th>\n",
       "      <th></th>\n",
       "      <th></th>\n",
       "      <th></th>\n",
       "      <th></th>\n",
       "      <th></th>\n",
       "      <th></th>\n",
       "      <th></th>\n",
       "      <th></th>\n",
       "      <th></th>\n",
       "    </tr>\n",
       "  </thead>\n",
       "  <tbody>\n",
       "    <tr>\n",
       "      <td>412957</td>\n",
       "      <td>0.0</td>\n",
       "      <td>0.0</td>\n",
       "      <td>0.0</td>\n",
       "      <td>2.0</td>\n",
       "      <td>1.0</td>\n",
       "      <td>2.0</td>\n",
       "      <td>0.0</td>\n",
       "      <td>3.0</td>\n",
       "      <td>6.0</td>\n",
       "      <td>7.0</td>\n",
       "      <td>...</td>\n",
       "      <td>0.284988</td>\n",
       "      <td>0.777432</td>\n",
       "      <td>0.391158</td>\n",
       "      <td>0.575325</td>\n",
       "      <td>0.449008</td>\n",
       "      <td>0.808493</td>\n",
       "      <td>0.638874</td>\n",
       "      <td>0.620083</td>\n",
       "      <td>0.860327</td>\n",
       "      <td>0.796654</td>\n",
       "    </tr>\n",
       "    <tr>\n",
       "      <td>282449</td>\n",
       "      <td>0.0</td>\n",
       "      <td>0.0</td>\n",
       "      <td>0.0</td>\n",
       "      <td>2.0</td>\n",
       "      <td>1.0</td>\n",
       "      <td>1.0</td>\n",
       "      <td>0.0</td>\n",
       "      <td>4.0</td>\n",
       "      <td>4.0</td>\n",
       "      <td>8.0</td>\n",
       "      <td>...</td>\n",
       "      <td>0.979303</td>\n",
       "      <td>0.388542</td>\n",
       "      <td>0.392169</td>\n",
       "      <td>0.251943</td>\n",
       "      <td>0.257683</td>\n",
       "      <td>0.289205</td>\n",
       "      <td>0.753284</td>\n",
       "      <td>0.108515</td>\n",
       "      <td>0.223745</td>\n",
       "      <td>0.867225</td>\n",
       "    </tr>\n",
       "    <tr>\n",
       "      <td>164867</td>\n",
       "      <td>0.0</td>\n",
       "      <td>0.0</td>\n",
       "      <td>0.0</td>\n",
       "      <td>0.0</td>\n",
       "      <td>1.0</td>\n",
       "      <td>1.0</td>\n",
       "      <td>0.0</td>\n",
       "      <td>4.0</td>\n",
       "      <td>5.0</td>\n",
       "      <td>14.0</td>\n",
       "      <td>...</td>\n",
       "      <td>0.528495</td>\n",
       "      <td>0.877585</td>\n",
       "      <td>0.692778</td>\n",
       "      <td>0.394110</td>\n",
       "      <td>0.372842</td>\n",
       "      <td>0.603872</td>\n",
       "      <td>0.729337</td>\n",
       "      <td>0.572204</td>\n",
       "      <td>0.381617</td>\n",
       "      <td>0.528454</td>\n",
       "    </tr>\n",
       "    <tr>\n",
       "      <td>541</td>\n",
       "      <td>0.0</td>\n",
       "      <td>1.0</td>\n",
       "      <td>0.0</td>\n",
       "      <td>2.0</td>\n",
       "      <td>1.0</td>\n",
       "      <td>1.0</td>\n",
       "      <td>0.0</td>\n",
       "      <td>4.0</td>\n",
       "      <td>4.0</td>\n",
       "      <td>6.0</td>\n",
       "      <td>...</td>\n",
       "      <td>0.795973</td>\n",
       "      <td>0.254421</td>\n",
       "      <td>0.279979</td>\n",
       "      <td>0.244269</td>\n",
       "      <td>0.549558</td>\n",
       "      <td>0.318729</td>\n",
       "      <td>0.093974</td>\n",
       "      <td>0.428488</td>\n",
       "      <td>0.176486</td>\n",
       "      <td>0.250280</td>\n",
       "    </tr>\n",
       "    <tr>\n",
       "      <td>80790</td>\n",
       "      <td>1.0</td>\n",
       "      <td>1.0</td>\n",
       "      <td>0.0</td>\n",
       "      <td>2.0</td>\n",
       "      <td>1.0</td>\n",
       "      <td>3.0</td>\n",
       "      <td>0.0</td>\n",
       "      <td>4.0</td>\n",
       "      <td>0.0</td>\n",
       "      <td>8.0</td>\n",
       "      <td>...</td>\n",
       "      <td>0.809695</td>\n",
       "      <td>0.412479</td>\n",
       "      <td>0.345747</td>\n",
       "      <td>0.537579</td>\n",
       "      <td>1.023082</td>\n",
       "      <td>0.433388</td>\n",
       "      <td>0.814753</td>\n",
       "      <td>0.655539</td>\n",
       "      <td>0.923203</td>\n",
       "      <td>0.467355</td>\n",
       "    </tr>\n",
       "  </tbody>\n",
       "</table>\n",
       "<p>5 rows × 24 columns</p>\n",
       "</div>"
      ],
      "text/plain": [
       "        cat0  cat1  cat2  cat3  cat4  cat5  cat6  cat7  cat8  cat9  ...  \\\n",
       "id                                                                  ...   \n",
       "412957   0.0   0.0   0.0   2.0   1.0   2.0   0.0   3.0   6.0   7.0  ...   \n",
       "282449   0.0   0.0   0.0   2.0   1.0   1.0   0.0   4.0   4.0   8.0  ...   \n",
       "164867   0.0   0.0   0.0   0.0   1.0   1.0   0.0   4.0   5.0  14.0  ...   \n",
       "541      0.0   1.0   0.0   2.0   1.0   1.0   0.0   4.0   4.0   6.0  ...   \n",
       "80790    1.0   1.0   0.0   2.0   1.0   3.0   0.0   4.0   0.0   8.0  ...   \n",
       "\n",
       "           cont4     cont5     cont6     cont7     cont8     cont9    cont10  \\\n",
       "id                                                                             \n",
       "412957  0.284988  0.777432  0.391158  0.575325  0.449008  0.808493  0.638874   \n",
       "282449  0.979303  0.388542  0.392169  0.251943  0.257683  0.289205  0.753284   \n",
       "164867  0.528495  0.877585  0.692778  0.394110  0.372842  0.603872  0.729337   \n",
       "541     0.795973  0.254421  0.279979  0.244269  0.549558  0.318729  0.093974   \n",
       "80790   0.809695  0.412479  0.345747  0.537579  1.023082  0.433388  0.814753   \n",
       "\n",
       "          cont11    cont12    cont13  \n",
       "id                                    \n",
       "412957  0.620083  0.860327  0.796654  \n",
       "282449  0.108515  0.223745  0.867225  \n",
       "164867  0.572204  0.381617  0.528454  \n",
       "541     0.428488  0.176486  0.250280  \n",
       "80790   0.655539  0.923203  0.467355  \n",
       "\n",
       "[5 rows x 24 columns]"
      ]
     },
     "execution_count": 13,
     "metadata": {},
     "output_type": "execute_result"
    }
   ],
   "source": [
    "X_train.head() "
   ]
  },
  {
   "cell_type": "code",
   "execution_count": 14,
   "metadata": {
    "execution": {
     "iopub.execute_input": "2021-08-25T05:16:47.659959Z",
     "iopub.status.busy": "2021-08-25T05:16:47.659337Z",
     "iopub.status.idle": "2021-08-25T05:16:47.664684Z",
     "shell.execute_reply": "2021-08-25T05:16:47.663474Z",
     "shell.execute_reply.started": "2021-08-25T05:16:47.659913Z"
    }
   },
   "outputs": [],
   "source": [
    "from xgboost import XGBRegressor\n",
    "from sklearn.metrics import mean_absolute_error\n"
   ]
  },
  {
   "cell_type": "code",
   "execution_count": 15,
   "metadata": {
    "execution": {
     "iopub.execute_input": "2021-08-25T05:16:47.667072Z",
     "iopub.status.busy": "2021-08-25T05:16:47.666634Z",
     "iopub.status.idle": "2021-08-25T05:16:47.680464Z",
     "shell.execute_reply": "2021-08-25T05:16:47.679228Z",
     "shell.execute_reply.started": "2021-08-25T05:16:47.667031Z"
    }
   },
   "outputs": [],
   "source": [
    "def obtener_mae(num, X_train, X_val, y_train, y_val):\n",
    "    model = XGBRegressor(n_estimators = num, random_state = 0)\n",
    "    model.fit(X_train, y_train)\n",
    "    predict = model.predict(X_val)\n",
    "    mae = mean_absolute_error(y_val,predict)\n",
    "    return mae "
   ]
  },
  {
   "cell_type": "code",
   "execution_count": 17,
   "metadata": {
    "execution": {
     "iopub.execute_input": "2021-08-25T05:16:47.682750Z",
     "iopub.status.busy": "2021-08-25T05:16:47.682170Z"
    }
   },
   "outputs": [],
   "source": [
    "num_estimaciones = []\n",
    "mae_list = []\n",
    "for num in [10,50,100]:\n",
    "    my_mae = obtener_mae(num, X_train, X_val, y_train, y_val)\n",
    "    num_estimaciones.append(num) \n",
    "    mae_list.append(my_mae)"
   ]
  },
  {
   "cell_type": "code",
   "execution_count": 18,
   "metadata": {},
   "outputs": [],
   "source": [
    "    \n",
    "comparacion = np.array(list(zip(num_estimaciones, mae_list)))      "
   ]
  },
  {
   "cell_type": "code",
   "execution_count": 19,
   "metadata": {},
   "outputs": [
    {
     "data": {
      "text/plain": [
       "array([[ 10.        ,   0.59990277],\n",
       "       [ 50.        ,   0.57718767],\n",
       "       [100.        ,   0.57746085]])"
      ]
     },
     "execution_count": 19,
     "metadata": {},
     "output_type": "execute_result"
    }
   ],
   "source": [
    "comparacion "
   ]
  },
  {
   "cell_type": "code",
   "execution_count": null,
   "metadata": {},
   "outputs": [],
   "source": [
    "#menor_mae = min(comparacion[:,1])\n",
    "#indice_menor_mae = comparacion.index(menor_mae)\n",
    "#n_estimators_best = comparación[indice_menor_mae,1]"
   ]
  },
  {
   "cell_type": "code",
   "execution_count": 20,
   "metadata": {},
   "outputs": [],
   "source": [
    "model_best = XGBRegressor(n_estimators = 50, random_state = 0)\n",
    "model_best.fit(X_train,y_train)\n",
    "predict = model_best.predict(X_test)"
   ]
  },
  {
   "cell_type": "code",
   "execution_count": 21,
   "metadata": {},
   "outputs": [],
   "source": [
    "output = pd.DataFrame({'id':X_test.index, 'target': predict}) \n",
    "output.to_csv('my_submission_marco_canas_25.csv', index = False) "
   ]
  },
  {
   "cell_type": "code",
   "execution_count": 23,
   "metadata": {},
   "outputs": [
    {
     "data": {
      "text/html": [
       "<div>\n",
       "<style scoped>\n",
       "    .dataframe tbody tr th:only-of-type {\n",
       "        vertical-align: middle;\n",
       "    }\n",
       "\n",
       "    .dataframe tbody tr th {\n",
       "        vertical-align: top;\n",
       "    }\n",
       "\n",
       "    .dataframe thead th {\n",
       "        text-align: right;\n",
       "    }\n",
       "</style>\n",
       "<table border=\"1\" class=\"dataframe\">\n",
       "  <thead>\n",
       "    <tr style=\"text-align: right;\">\n",
       "      <th></th>\n",
       "      <th>target</th>\n",
       "    </tr>\n",
       "    <tr>\n",
       "      <th>id</th>\n",
       "      <th></th>\n",
       "    </tr>\n",
       "  </thead>\n",
       "  <tbody>\n",
       "    <tr>\n",
       "      <td>0</td>\n",
       "      <td>7.912571</td>\n",
       "    </tr>\n",
       "    <tr>\n",
       "      <td>5</td>\n",
       "      <td>8.294342</td>\n",
       "    </tr>\n",
       "    <tr>\n",
       "      <td>15</td>\n",
       "      <td>8.309871</td>\n",
       "    </tr>\n",
       "    <tr>\n",
       "      <td>16</td>\n",
       "      <td>8.384685</td>\n",
       "    </tr>\n",
       "    <tr>\n",
       "      <td>17</td>\n",
       "      <td>8.123418</td>\n",
       "    </tr>\n",
       "    <tr>\n",
       "      <td>...</td>\n",
       "      <td>...</td>\n",
       "    </tr>\n",
       "    <tr>\n",
       "      <td>499987</td>\n",
       "      <td>8.193858</td>\n",
       "    </tr>\n",
       "    <tr>\n",
       "      <td>499990</td>\n",
       "      <td>8.445131</td>\n",
       "    </tr>\n",
       "    <tr>\n",
       "      <td>499991</td>\n",
       "      <td>8.353048</td>\n",
       "    </tr>\n",
       "    <tr>\n",
       "      <td>499994</td>\n",
       "      <td>8.025500</td>\n",
       "    </tr>\n",
       "    <tr>\n",
       "      <td>499995</td>\n",
       "      <td>7.954370</td>\n",
       "    </tr>\n",
       "  </tbody>\n",
       "</table>\n",
       "<p>200000 rows × 1 columns</p>\n",
       "</div>"
      ],
      "text/plain": [
       "          target\n",
       "id              \n",
       "0       7.912571\n",
       "5       8.294342\n",
       "15      8.309871\n",
       "16      8.384685\n",
       "17      8.123418\n",
       "...          ...\n",
       "499987  8.193858\n",
       "499990  8.445131\n",
       "499991  8.353048\n",
       "499994  8.025500\n",
       "499995  7.954370\n",
       "\n",
       "[200000 rows x 1 columns]"
      ]
     },
     "execution_count": 23,
     "metadata": {},
     "output_type": "execute_result"
    }
   ],
   "source": [
    "pd.read_csv('my_submission_marco_canas_25.csv', index_col=0)  "
   ]
  },
  {
   "cell_type": "code",
   "execution_count": null,
   "metadata": {},
   "outputs": [],
   "source": []
  },
  {
   "cell_type": "code",
   "execution_count": null,
   "metadata": {},
   "outputs": [],
   "source": []
  },
  {
   "cell_type": "code",
   "execution_count": null,
   "metadata": {},
   "outputs": [],
   "source": []
  }
 ],
 "metadata": {
  "hide_input": false,
  "kernelspec": {
   "display_name": "Python 3",
   "language": "python",
   "name": "python3"
  },
  "language_info": {
   "codemirror_mode": {
    "name": "ipython",
    "version": 3
   },
   "file_extension": ".py",
   "mimetype": "text/x-python",
   "name": "python",
   "nbconvert_exporter": "python",
   "pygments_lexer": "ipython3",
   "version": "3.7.4"
  },
  "nbTranslate": {
   "displayLangs": [
    "*"
   ],
   "hotkey": "alt-t",
   "langInMainMenu": true,
   "sourceLang": "en",
   "targetLang": "es",
   "useGoogleTranslate": true
  }
 },
 "nbformat": 4,
 "nbformat_minor": 4
}
