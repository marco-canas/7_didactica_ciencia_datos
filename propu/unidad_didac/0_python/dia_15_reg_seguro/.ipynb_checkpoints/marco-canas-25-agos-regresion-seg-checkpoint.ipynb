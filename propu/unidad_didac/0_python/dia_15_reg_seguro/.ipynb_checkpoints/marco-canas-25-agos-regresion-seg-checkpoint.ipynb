{
 "cells": [
  {
   "cell_type": "code",
   "execution_count": null,
   "metadata": {
    "_cell_guid": "b1076dfc-b9ad-4769-8c92-a6c4dae69d19",
    "_uuid": "8f2839f25d086af736a60e9eeb907d3b93b6e0e5",
    "execution": {
     "iopub.execute_input": "2021-08-25T05:16:39.794045Z",
     "iopub.status.busy": "2021-08-25T05:16:39.793630Z",
     "iopub.status.idle": "2021-08-25T05:16:39.803878Z",
     "shell.execute_reply": "2021-08-25T05:16:39.802725Z",
     "shell.execute_reply.started": "2021-08-25T05:16:39.794010Z"
    }
   },
   "outputs": [],
   "source": [
    "import numpy as np # linear algebra\n",
    "import pandas as pd # data processing CSV files"
   ]
  },
  {
   "cell_type": "code",
   "execution_count": null,
   "metadata": {
    "execution": {
     "iopub.execute_input": "2021-08-25T05:16:39.811387Z",
     "iopub.status.busy": "2021-08-25T05:16:39.810770Z",
     "iopub.status.idle": "2021-08-25T05:16:41.725133Z",
     "shell.execute_reply": "2021-08-25T05:16:41.724118Z",
     "shell.execute_reply.started": "2021-08-25T05:16:39.811346Z"
    }
   },
   "outputs": [],
   "source": [
    "train = pd.read_csv('train.csv', index_col = 0) \n",
    "train.head() "
   ]
  },
  {
   "cell_type": "code",
   "execution_count": null,
   "metadata": {
    "execution": {
     "iopub.execute_input": "2021-08-25T05:16:41.727613Z",
     "iopub.status.busy": "2021-08-25T05:16:41.726961Z",
     "iopub.status.idle": "2021-08-25T05:16:42.782200Z",
     "shell.execute_reply": "2021-08-25T05:16:42.781244Z",
     "shell.execute_reply.started": "2021-08-25T05:16:41.727568Z"
    }
   },
   "outputs": [],
   "source": [
    "test = pd.read_csv('/kaggle/input/30-days-of-ml/test.csv', index_col = 0)\n",
    "test.head() "
   ]
  },
  {
   "cell_type": "code",
   "execution_count": null,
   "metadata": {
    "execution": {
     "iopub.execute_input": "2021-08-25T05:16:42.784858Z",
     "iopub.status.busy": "2021-08-25T05:16:42.784517Z",
     "iopub.status.idle": "2021-08-25T05:16:43.103444Z",
     "shell.execute_reply": "2021-08-25T05:16:43.102414Z",
     "shell.execute_reply.started": "2021-08-25T05:16:42.784824Z"
    }
   },
   "outputs": [],
   "source": [
    "train.info() "
   ]
  },
  {
   "cell_type": "code",
   "execution_count": null,
   "metadata": {
    "execution": {
     "iopub.execute_input": "2021-08-25T05:16:43.105930Z",
     "iopub.status.busy": "2021-08-25T05:16:43.105341Z",
     "iopub.status.idle": "2021-08-25T05:16:43.182952Z",
     "shell.execute_reply": "2021-08-25T05:16:43.181910Z",
     "shell.execute_reply.started": "2021-08-25T05:16:43.105883Z"
    }
   },
   "outputs": [],
   "source": [
    "y = train['target']\n",
    "X = train.drop(['target'],axis = 1)\n",
    "X.head() "
   ]
  },
  {
   "cell_type": "code",
   "execution_count": null,
   "metadata": {
    "execution": {
     "iopub.execute_input": "2021-08-25T05:16:43.185034Z",
     "iopub.status.busy": "2021-08-25T05:16:43.184435Z",
     "iopub.status.idle": "2021-08-25T05:16:43.319965Z",
     "shell.execute_reply": "2021-08-25T05:16:43.319273Z",
     "shell.execute_reply.started": "2021-08-25T05:16:43.184988Z"
    }
   },
   "outputs": [],
   "source": [
    "from sklearn.model_selection import train_test_split\n",
    "X_train_0,X_val_0,y_train_0,y_val_0 = train_test_split(X,y, random_state = 0)  "
   ]
  },
  {
   "cell_type": "markdown",
   "metadata": {},
   "source": [
    "## Tratamiento de los datos categóricos ordinales"
   ]
  },
  {
   "cell_type": "code",
   "execution_count": null,
   "metadata": {
    "execution": {
     "iopub.execute_input": "2021-08-25T05:16:43.321866Z",
     "iopub.status.busy": "2021-08-25T05:16:43.321293Z",
     "iopub.status.idle": "2021-08-25T05:16:43.326825Z",
     "shell.execute_reply": "2021-08-25T05:16:43.325435Z",
     "shell.execute_reply.started": "2021-08-25T05:16:43.321822Z"
    }
   },
   "outputs": [],
   "source": [
    "from sklearn.preprocessing import OrdinalEncoder  "
   ]
  },
  {
   "cell_type": "code",
   "execution_count": null,
   "metadata": {
    "execution": {
     "iopub.execute_input": "2021-08-25T05:16:43.328850Z",
     "iopub.status.busy": "2021-08-25T05:16:43.328450Z",
     "iopub.status.idle": "2021-08-25T05:16:43.343087Z",
     "shell.execute_reply": "2021-08-25T05:16:43.341795Z",
     "shell.execute_reply.started": "2021-08-25T05:16:43.328809Z"
    }
   },
   "outputs": [],
   "source": [
    "codificar = OrdinalEncoder()\n",
    "# List of categorical columns\n",
    "object_cols = [col for col in X.columns if 'cat' in col]\n",
    "object_cols "
   ]
  },
  {
   "cell_type": "code",
   "execution_count": null,
   "metadata": {
    "execution": {
     "iopub.execute_input": "2021-08-25T05:16:43.347279Z",
     "iopub.status.busy": "2021-08-25T05:16:43.346817Z",
     "iopub.status.idle": "2021-08-25T05:16:43.406542Z",
     "shell.execute_reply": "2021-08-25T05:16:43.405510Z",
     "shell.execute_reply.started": "2021-08-25T05:16:43.347215Z"
    }
   },
   "outputs": [],
   "source": [
    "X_train = X_train_0.copy()\n",
    "X_val = X_val_0.copy()\n",
    "X_test = test.copy()  \n",
    "y_train = y_train_0.copy()\n",
    "y_val = y_val_0.copy() "
   ]
  },
  {
   "cell_type": "code",
   "execution_count": null,
   "metadata": {
    "execution": {
     "iopub.execute_input": "2021-08-25T05:16:43.409480Z",
     "iopub.status.busy": "2021-08-25T05:16:43.408855Z",
     "iopub.status.idle": "2021-08-25T05:16:47.657656Z",
     "shell.execute_reply": "2021-08-25T05:16:47.656751Z",
     "shell.execute_reply.started": "2021-08-25T05:16:43.409440Z"
    }
   },
   "outputs": [],
   "source": [
    "X_train[object_cols] = codificar.fit_transform(X_train[object_cols])\n",
    "X_val[object_cols] = codificar.fit_transform(X_val[object_cols])\n",
    "X_test[object_cols] = codificar.fit_transform(X_test[object_cols])"
   ]
  },
  {
   "cell_type": "code",
   "execution_count": null,
   "metadata": {
    "execution": {
     "iopub.execute_input": "2021-08-25T05:16:47.659959Z",
     "iopub.status.busy": "2021-08-25T05:16:47.659337Z",
     "iopub.status.idle": "2021-08-25T05:16:47.664684Z",
     "shell.execute_reply": "2021-08-25T05:16:47.663474Z",
     "shell.execute_reply.started": "2021-08-25T05:16:47.659913Z"
    }
   },
   "outputs": [],
   "source": [
    "from xgboost import XGBRegressor\n",
    "from sklearn.metrics import mean_absolute_error\n"
   ]
  },
  {
   "cell_type": "code",
   "execution_count": null,
   "metadata": {
    "execution": {
     "iopub.execute_input": "2021-08-25T05:16:47.667072Z",
     "iopub.status.busy": "2021-08-25T05:16:47.666634Z",
     "iopub.status.idle": "2021-08-25T05:16:47.680464Z",
     "shell.execute_reply": "2021-08-25T05:16:47.679228Z",
     "shell.execute_reply.started": "2021-08-25T05:16:47.667031Z"
    }
   },
   "outputs": [],
   "source": [
    "def get_mae(num, X_train, X_val, y_train, y_val):\n",
    "    model = XGBRegressor(n_estimators = num, random_state = 0)\n",
    "    model.fit(X_train, y_train)\n",
    "    predict = model.predict(X_val)\n",
    "    mae = mean_absolute_error(y_val,predict)\n",
    "    return mae "
   ]
  },
  {
   "cell_type": "code",
   "execution_count": null,
   "metadata": {
    "execution": {
     "iopub.execute_input": "2021-08-25T05:16:47.682750Z",
     "iopub.status.busy": "2021-08-25T05:16:47.682170Z"
    }
   },
   "outputs": [],
   "source": [
    "num_estimaciones = []\n",
    "mae_list = []\n",
    "for num in [10,50,100,500]:\n",
    "    my_mae = get_mae(num, X_train, X_val, y_train, y_val)\n",
    "    num_estimaciones.append(num) \n",
    "    mae_list.append(my_mae)"
   ]
  },
  {
   "cell_type": "code",
   "execution_count": null,
   "metadata": {},
   "outputs": [],
   "source": [
    "    \n",
    "comparacion = np.array(list(zip(num_estimaciones, mae_list)))      "
   ]
  },
  {
   "cell_type": "code",
   "execution_count": null,
   "metadata": {},
   "outputs": [],
   "source": [
    "comparacion "
   ]
  },
  {
   "cell_type": "code",
   "execution_count": null,
   "metadata": {},
   "outputs": [],
   "source": [
    "#menor_mae = min(comparacion[:,1])\n",
    "#indice_menor_mae = comparacion.index(menor_mae)\n",
    "#n_estimators_best = comparación[indice_menor_mae,1]"
   ]
  },
  {
   "cell_type": "code",
   "execution_count": null,
   "metadata": {},
   "outputs": [],
   "source": [
    "model_best = XGBRegressor(n_estimators = 50, random_state = 0)\n",
    "model_best.fit(X_train,y_train)\n",
    "predict = model_best.predict(X_test)"
   ]
  },
  {
   "cell_type": "code",
   "execution_count": null,
   "metadata": {},
   "outputs": [],
   "source": [
    "output = pd.DataFrame({'id':X_test.index, 'Monto a pagar': predict}) \n",
    "output.to_csv('my_submission_marco_canas_25.csv', index = False) "
   ]
  },
  {
   "cell_type": "code",
   "execution_count": null,
   "metadata": {},
   "outputs": [],
   "source": [
    "pd.read_csv('my_submission_marco_canas_25.csv') "
   ]
  },
  {
   "cell_type": "code",
   "execution_count": null,
   "metadata": {},
   "outputs": [],
   "source": []
  },
  {
   "cell_type": "code",
   "execution_count": null,
   "metadata": {},
   "outputs": [],
   "source": []
  },
  {
   "cell_type": "code",
   "execution_count": null,
   "metadata": {},
   "outputs": [],
   "source": []
  }
 ],
 "metadata": {
  "hide_input": false,
  "kernelspec": {
   "display_name": "Python 3",
   "language": "python",
   "name": "python3"
  },
  "language_info": {
   "codemirror_mode": {
    "name": "ipython",
    "version": 3
   },
   "file_extension": ".py",
   "mimetype": "text/x-python",
   "name": "python",
   "nbconvert_exporter": "python",
   "pygments_lexer": "ipython3",
   "version": "3.7.4"
  },
  "nbTranslate": {
   "displayLangs": [
    "*"
   ],
   "hotkey": "alt-t",
   "langInMainMenu": true,
   "sourceLang": "en",
   "targetLang": "es",
   "useGoogleTranslate": true
  }
 },
 "nbformat": 4,
 "nbformat_minor": 4
}
