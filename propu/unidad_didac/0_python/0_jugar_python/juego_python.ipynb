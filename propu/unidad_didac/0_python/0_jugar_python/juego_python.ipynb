{
 "cells": [
  {
   "cell_type": "markdown",
   "id": "21016ea4",
   "metadata": {},
   "source": []
  },
  {
   "cell_type": "markdown",
   "id": "469cd5b0",
   "metadata": {},
   "source": [
    "# Aprenda Python Jugando"
   ]
  },
  {
   "cell_type": "code",
   "execution_count": null,
   "id": "d6d6d901",
   "metadata": {},
   "outputs": [],
   "source": [
    "import turtle "
   ]
  },
  {
   "cell_type": "code",
   "execution_count": null,
   "id": "6f94734f",
   "metadata": {},
   "outputs": [],
   "source": [
    "pluma = turtle.Turtle()"
   ]
  },
  {
   "cell_type": "code",
   "execution_count": null,
   "id": "a4178494",
   "metadata": {},
   "outputs": [],
   "source": []
  },
  {
   "cell_type": "code",
   "execution_count": null,
   "id": "f8e85e94",
   "metadata": {},
   "outputs": [],
   "source": []
  },
  {
   "cell_type": "code",
   "execution_count": null,
   "id": "0a5a8cfb",
   "metadata": {},
   "outputs": [],
   "source": []
  },
  {
   "cell_type": "code",
   "execution_count": null,
   "id": "c91dd827",
   "metadata": {},
   "outputs": [],
   "source": []
  },
  {
   "cell_type": "code",
   "execution_count": null,
   "id": "ab965b49",
   "metadata": {},
   "outputs": [],
   "source": [
    "score = 0"
   ]
  },
  {
   "cell_type": "code",
   "execution_count": null,
   "id": "5d0508ff",
   "metadata": {},
   "outputs": [],
   "source": [
    "high_score = 0"
   ]
  },
  {
   "cell_type": "code",
   "execution_count": null,
   "id": "27d05ce0",
   "metadata": {},
   "outputs": [],
   "source": [
    "#configuración de la ventana "
   ]
  },
  {
   "cell_type": "code",
   "execution_count": null,
   "id": "6272e4c1",
   "metadata": {},
   "outputs": [],
   "source": [
    "wn = turtle.Screen() "
   ]
  },
  {
   "cell_type": "code",
   "execution_count": null,
   "id": "29539121",
   "metadata": {},
   "outputs": [],
   "source": [
    "wn.title('Snake Game')"
   ]
  },
  {
   "cell_type": "code",
   "execution_count": null,
   "id": "1a56cc9a",
   "metadata": {},
   "outputs": [],
   "source": [
    "wn.bgcolor('black')"
   ]
  },
  {
   "cell_type": "code",
   "execution_count": null,
   "id": "3b46bc06",
   "metadata": {},
   "outputs": [],
   "source": [
    "wn.setup(width = 600, height = 600)"
   ]
  },
  {
   "cell_type": "code",
   "execution_count": null,
   "id": "1692b21b",
   "metadata": {},
   "outputs": [],
   "source": [
    "wn.tracer(0)"
   ]
  },
  {
   "cell_type": "code",
   "execution_count": null,
   "id": "a75f896f",
   "metadata": {},
   "outputs": [],
   "source": [
    "# Cabeza de la serpiente"
   ]
  },
  {
   "cell_type": "code",
   "execution_count": null,
   "id": "f38537b2",
   "metadata": {},
   "outputs": [],
   "source": [
    "cabeza = turtle.Turtle() "
   ]
  },
  {
   "cell_type": "code",
   "execution_count": null,
   "id": "42c116aa",
   "metadata": {},
   "outputs": [],
   "source": [
    "cabeza.speed(0)"
   ]
  },
  {
   "cell_type": "code",
   "execution_count": null,
   "id": "15a7b190",
   "metadata": {},
   "outputs": [],
   "source": []
  },
  {
   "cell_type": "code",
   "execution_count": null,
   "id": "7280e297",
   "metadata": {},
   "outputs": [],
   "source": []
  },
  {
   "cell_type": "code",
   "execution_count": null,
   "id": "07a4ae58",
   "metadata": {},
   "outputs": [],
   "source": []
  },
  {
   "cell_type": "markdown",
   "id": "9d594fb0",
   "metadata": {},
   "source": [
    "## Referencias\n",
    "\n",
    "* Aprender a programar un juego con python: https://www.youtube.com/watch?v=bW0o4g4cg1g"
   ]
  },
  {
   "cell_type": "code",
   "execution_count": null,
   "id": "a625da3c",
   "metadata": {},
   "outputs": [],
   "source": []
  }
 ],
 "metadata": {
  "kernelspec": {
   "display_name": "Python 3 (ipykernel)",
   "language": "python",
   "name": "python3"
  },
  "language_info": {
   "codemirror_mode": {
    "name": "ipython",
    "version": 3
   },
   "file_extension": ".py",
   "mimetype": "text/x-python",
   "name": "python",
   "nbconvert_exporter": "python",
   "pygments_lexer": "ipython3",
   "version": "3.9.12"
  }
 },
 "nbformat": 4,
 "nbformat_minor": 5
}
