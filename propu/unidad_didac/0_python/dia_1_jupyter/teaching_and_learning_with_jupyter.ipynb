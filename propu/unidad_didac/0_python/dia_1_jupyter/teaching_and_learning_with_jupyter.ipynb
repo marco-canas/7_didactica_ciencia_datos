{
 "cells": [
  {
   "cell_type": "markdown",
   "id": "27e7eecf",
   "metadata": {},
   "source": [
    "# [Enseñanza y aprendizaje con Jupyter](https://jupyter4edu.github.io/jupyter-edu-book/)"
   ]
  },
  {
   "cell_type": "markdown",
   "id": "a587c444",
   "metadata": {},
   "source": [
    "Lorena A. Barba, Lecia J. Barker, Douglas S. Blank, Jed Brown, Allen B. Downey, Timothy George, Lindsey J. Heagy, Kyle T. Mandli, Jason K. Moore, David Lippert, Kyle E. Niemeyer, Ryan R. Watkins, Richard H. West, Elizabeth Wickes, Carol Willing y Michael Zingale\n",
    "\n",
    "2019-12-06"
   ]
  },
  {
   "cell_type": "markdown",
   "id": "043012ac",
   "metadata": {},
   "source": [
    "## Capítulo 1 Introducción"
   ]
  },
  {
   "cell_type": "markdown",
   "id": "95038d49",
   "metadata": {},
   "source": [
    "Este manual es para cualquier educador que enseñe un tema que incluya análisis de datos o computación para apoyar el aprendizaje. No es solo para educadores que imparten cursos de ingeniería o ciencias, sino también de periodismo de datos, economía empresarial y cuantitativa, ciencias y políticas de decisión basadas en datos, ciencias cuantitativas de la salud y humanidades digitales. "
   ]
  },
  {
   "cell_type": "markdown",
   "id": "35e60ec7",
   "metadata": {},
   "source": [
    "Su objetivo es proporcionar un punto de entrada y una visión general de Jupyter en la educación. Ya sea que ya esté usando Jupyter para enseñar, haya encontrado materiales de aprendizaje basados en Jupyter que despertaron su curiosidad, o nunca haya oído hablar de Jupyter, el material de este libro abierto puede capacitarlo para usar esta tecnología en su enseñanza."
   ]
  },
  {
   "cell_type": "markdown",
   "id": "17a70048",
   "metadata": {},
   "source": [
    "Project Jupyter es una amplia colaboración que desarrolla herramientas de código abierto para computación interactiva y exploratoria. Las herramientas incluyen: más de 100 lenguajes informáticos (con un enfoque en Python), Jupyter Notebook, JupyterHub y un ecosistema de extensiones aportadas por una gran comunidad. El Jupyter Notebook ha explotado en popularidad desde finales de 2014, impulsado por su adopción como el entorno favorito para hacer ciencia de datos. También ha crecido como una plataforma para usar en el aula, para desarrollar materiales didácticos, para compartir lecciones y tutoriales, y para crear historias computacionales. Los cuadernos son documentos que contienen narraciones de texto con imágenes y matemáticas, combinados con código ejecutable (se admiten muchos idiomas) y la salida de ese código. Este matrimonio de contenido y código crea una nueva y poderosa forma de comunicación basada en datos. Los educadores de todo el mundo están adoptando Jupyter para la enseñanza."
   ]
  },
  {
   "cell_type": "markdown",
   "id": "e837809e",
   "metadata": {},
   "source": [
    "Los educadores que recién adoptan Jupyter pueden sentirse abrumados al tener que navegar por el ecosistema de herramientas y contenido. Podrían estudiar muchos ejemplos, o consumir una miríada de publicaciones de blog y videos de charlas para destilar los patrones de buenas prácticas y soluciones técnicas para servir mejor a sus estudiantes. Varios de los primeros usuarios, que tenían mucha experiencia para compartir, decidieron comenzar a recopilar este conocimiento y compartir documentación abierta sobre el uso de Jupyter para la enseñanza y el aprendizaje. El resultado es este libro abierto: un documento vivo que captura las experiencias de los miembros de la comunidad que usan Jupyter en la educación."
   ]
  },
  {
   "cell_type": "markdown",
   "id": "e11de3c6",
   "metadata": {},
   "source": [
    "El Jupyter Community Workshop en Washington, DC (noviembre de 2018) comenzó ese proceso, con un sprint de libros destinado a producir la primera versión de este manual. "
   ]
  },
  {
   "cell_type": "markdown",
   "id": "042bddf3",
   "metadata": {},
   "source": [
    "El libro escrito en colaboración consolida explicaciones y ejemplos que cubren temas clave, que incluyen: qué es Jupyter, cómo probar Jupyter, compartir cuadernos con los estudiantes, instalar localmente Jupyter, ofertas en la nube, encontrar cuadernos de ejemplo, escribir lecciones en Jupyter, hacer colecciones para un curso, exportar a otros formatos con nbconvert, escribir libros de texto con Jupyter, usar Binder y JupyterHub, hacer tareas y calificar automáticamente, hacer cursos en línea, enseñar con Jupyter en el aula, aprendizaje activo y pedagogías de aprendizaje invertido con Jupyter, y guiar a los estudiantes a crear su propio contenido en Jupyter. "
   ]
  },
  {
   "cell_type": "markdown",
   "id": "1bc36ec4",
   "metadata": {},
   "source": [
    "Este manual abierto crecerá para abarcar todo lo que necesita saber sobre Jupyter en la enseñanza y el aprendizaje.\n",
    "\n",
    "Si encuentras estos materiales útiles o inspiradores, danos un saludo en Twitter usando . ¡Esperamos que sí!#Jupyter4Edu"
   ]
  },
  {
   "cell_type": "markdown",
   "id": "825422da",
   "metadata": {},
   "source": [
    "## Reconocimientos"
   ]
  },
  {
   "cell_type": "markdown",
   "id": "898f71f9",
   "metadata": {},
   "source": [
    "El sprint del libro se llevó a cabo en la Universidad George Washington en Washington, DC, del 28 al 30 de noviembre de 2018, y fue organizado por Lorena A. Barba. La financiación para apoyar la logística y los viajes de todos los participantes fue posible gracias a una subvención de Bloomberg al Proyecto Jupyter, y administrada por NumFOCUS. El grupo fue auspiciado en una recepción patrocinada por Leidos. Los participantes viajaron de todo el país y ofrecieron voluntariamente su valioso tiempo y arduo trabajo para dar este trabajo a la comunidad de Jupyter, con un sentido sincero de gratitud a todos los contribuyentes a los proyectos de software que amamos y de los que dependemos. ¡Gracias!\n",
    "\n",
    "Repositorio de GitHub para este libro: https://github.com/jupyter4edu/jupyter-edu-book\n",
    "\n",
    "Contenido bajo una licencia Creative Commons Atribución CC-BY 4.0 Internacional."
   ]
  },
  {
   "cell_type": "markdown",
   "id": "d498b948",
   "metadata": {},
   "source": [
    "# Capítulo 2 Por qué usamos los cuadernos Jupyter"
   ]
  },
  {
   "cell_type": "markdown",
   "id": "66495ca1",
   "metadata": {},
   "source": [
    "## 2.1 ¿Por qué usamos Jupyter?"
   ]
  },
  {
   "cell_type": "markdown",
   "id": "f06a2970",
   "metadata": {},
   "source": [
    "Como maestros, somos responsables de muchas actividades, incluida la creación de lecciones, conferencias, cursos, tareas y entornos de apoyo; fomentar el compromiso y el rendimiento en el aula; ayudar a los estudiantes a aprender a pensar críticamente para que puedan convertirse en aprendices de por vida y solucionadores de problemas; hacer que el material sea relevante y significativo para los diversos intereses y antecedentes de los estudiantes; evaluar el aprendizaje de los estudiantes (incluida la calificación y la evaluación); alentar a los estudiantes a persistir con el trabajo emocional (retroalimentación, comunicación, etc.); y probar prácticas de enseñanza y aprendizaje que mejoren nuestra capacidad para hacer todas estas cosas."
   ]
  },
  {
   "cell_type": "markdown",
   "id": "22fc53df",
   "metadata": {},
   "source": [
    "En definitiva, diseñamos entornos y experiencias de aprendizaje."
   ]
  },
  {
   "cell_type": "markdown",
   "id": "b218e0a0",
   "metadata": {},
   "source": [
    "Utilizamos cuadernos jupyter para diseñar entornos de aprendizaje que ayuden a apoyar estas actividades. Creemos que la incorporación de cuadernos Jupyter en nuestra enseñanza nos ha permitido mejorar la comprensión de los estudiantes del contenido del curso, aumentar el compromiso de los estudiantes con el material y su participación en clase, y hacer que los conceptos sean más significativos y relevantes para los diversos intereses de los estudiantes. "
   ]
  },
  {
   "cell_type": "markdown",
   "id": "b38d8944",
   "metadata": {},
   "source": [
    "Representamos una variedad de disciplinas y tenemos muchos objetivos de instrucción diversos, todos los cuales han sido apoyados con cuadernos Jupyter. El objetivo de este manual es proporcionarle ideas para ayudarlo a abordar sus propios objetivos pedagógicos y de instrucción."
   ]
  },
  {
   "cell_type": "markdown",
   "id": "006f08b4",
   "metadata": {},
   "source": [
    "A través de una serie de anécdotas, ilustraremos cómo usted, como educador, puede usar los cuadernos de Jupyter para aumentar el 1) compromiso, 2) participación, 3) comprensión, 4) rendimiento y 5) preparación para su carrera de sus estudiantes. Estos son lugares de partida y estamos seguros de que también tomará estos ejemplos en direcciones nuevas y emocionantes."
   ]
  },
  {
   "cell_type": "markdown",
   "id": "cd4e5655",
   "metadata": {},
   "source": [
    "## 2.2 Pero primero, ¿qué es Jupyter Notebook?"
   ]
  },
  {
   "cell_type": "markdown",
   "id": "9c8d941e",
   "metadata": {},
   "source": [
    "Project Jupyter es tres cosas: una colección de estándares, una comunidad y un conjunto de herramientas de software. Jupyter Notebook, una parte de Jupyter, es un software que crea un cuaderno Jupyter. Un cuaderno de Jupyter es un documento que admite la mezcla de código ejecutable, ecuaciones, visualizaciones y texto narrativo. Específicamente, los cuadernos Jupyter permiten al usuario reunir datos, código y prosa, para contar una historia interactiva y computacional. Ya sea analizando un corpus de literatura estadounidense, creando música y arte, o ilustrando los conceptos de ingeniería detrás del procesamiento digital de señales, los cuadernos pueden combinar explicaciones que tradicionalmente se encuentran en los libros de texto con la interactividad de una aplicación."
   ]
  },
  {
   "cell_type": "markdown",
   "id": "68c3f7fb",
   "metadata": {},
   "source": [
    "<img src = 'https://jupyter4edu.github.io/jupyter-edu-book/images/Fig_notebook.png'> "
   ]
  },
  {
   "cell_type": "markdown",
   "id": "2d89436c",
   "metadata": {},
   "source": [
    "Un cuaderno de Jupyter, comenzando con una celda Markdown que contiene un título y una explicación (incluida una ecuación representada con LaTeX). Tres celdas de código producen la gráfica en línea final."
   ]
  },
  {
   "cell_type": "markdown",
   "id": "ed4daed2",
   "metadata": {},
   "source": [
    "Jupyter es una plataforma gratuita de código abierto que es un excelente entorno de aprendizaje para los estudiantes. Para los maestros, aumenta nuestra eficiencia y disminuye la carga cognitiva para que podamos involucrar a los estudiantes. Los cuadernos pueden ser útiles para lograr sus objetivos como profesor en numerosos entornos, desde laboratorios STEM o narrativas de humanidades, hasta conferencias en el podio o aulas invertidas. Utilizamos cuadernos Jupyter en clases pequeñas y para clases que tienen cientos de estudiantes. "
   ]
  },
  {
   "cell_type": "markdown",
   "id": "5ed3bc81",
   "metadata": {},
   "source": [
    "Los cuadernos Jupyter se pueden usar para enseñar parte de una conferencia o se pueden usar para enseñar un curso completo. Los cuadernos Jupyter nos permiten a nosotros y a nuestros estudiantes tener una conversación con un problema y vincularse a recursos, como audio, video, imágenes, visualizaciones, e incluso permiten a los estudiantes mezclarlos y remezclarlos. "
   ]
  },
  {
   "cell_type": "markdown",
   "id": "c42d52d8",
   "metadata": {},
   "source": [
    "Y, sin embargo, los estudiantes no necesitan instalar nada más allá de un navegador web moderno para usar este software gratuito."
   ]
  },
  {
   "cell_type": "code",
   "execution_count": null,
   "id": "a86c5083",
   "metadata": {},
   "outputs": [],
   "source": []
  }
 ],
 "metadata": {
  "kernelspec": {
   "display_name": "Python 3",
   "language": "python",
   "name": "python3"
  },
  "language_info": {
   "codemirror_mode": {
    "name": "ipython",
    "version": 3
   },
   "file_extension": ".py",
   "mimetype": "text/x-python",
   "name": "python",
   "nbconvert_exporter": "python",
   "pygments_lexer": "ipython3",
   "version": "3.8.8"
  },
  "latex_envs": {
   "LaTeX_envs_menu_present": true,
   "autoclose": false,
   "autocomplete": false,
   "bibliofile": "biblio.bib",
   "cite_by": "apalike",
   "current_citInitial": 1,
   "eqLabelWithNumbers": true,
   "eqNumInitial": 1,
   "hotkeys": {
    "equation": "Ctrl-E",
    "itemize": "Ctrl-I"
   },
   "labels_anchors": false,
   "latex_user_defs": false,
   "report_style_numbering": false,
   "user_envs_cfg": false
  }
 },
 "nbformat": 4,
 "nbformat_minor": 5
}
