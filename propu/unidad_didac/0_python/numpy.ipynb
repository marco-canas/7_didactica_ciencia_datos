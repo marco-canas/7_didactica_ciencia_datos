{
 "cells": [
  {
   "cell_type": "code",
   "execution_count": null,
   "id": "0323fdcc",
   "metadata": {},
   "outputs": [],
   "source": []
  },
  {
   "cell_type": "markdown",
   "id": "2757a1bf",
   "metadata": {},
   "source": [
    "# Numpy "
   ]
  },
  {
   "cell_type": "markdown",
   "id": "df3163c2",
   "metadata": {},
   "source": [
    "Numpy es una biblioteca matemática para python. "
   ]
  },
  {
   "cell_type": "markdown",
   "id": "01a133ec",
   "metadata": {},
   "source": [
    "Nos permite hacer computación de manera eficiente y efectiva. "
   ]
  },
  {
   "cell_type": "markdown",
   "id": "df8e4495",
   "metadata": {},
   "source": [
    "Es mejor que Python normal debido a sus increíbles capacidades."
   ]
  },
  {
   "cell_type": "markdown",
   "id": "739849f3",
   "metadata": {},
   "source": [
    "En este artículo, solo voy a presentarle los conceptos básicos de lo que se requiere principalmente para el aprendizaje automático y la ciencia de datos. "
   ]
  },
  {
   "cell_type": "markdown",
   "id": "e9a30d28",
   "metadata": {},
   "source": [
    "No voy a cubrir todo lo que es posible con numpy library. Esta es la primera parte de la serie de tutoriales numpy."
   ]
  },
  {
   "cell_type": "markdown",
   "id": "d985ce76",
   "metadata": {},
   "source": [
    "Lo primero que quiero presentarte es la forma en que lo importas."
   ]
  },
  {
   "cell_type": "code",
   "execution_count": 1,
   "id": "816e77a3",
   "metadata": {},
   "outputs": [],
   "source": [
    "import numpy as np"
   ]
  },
  {
   "cell_type": "markdown",
   "id": "002e47e3",
   "metadata": {},
   "source": [
    "Vamos a crear la matriz python y la matriz np."
   ]
  },
  {
   "cell_type": "code",
   "execution_count": 2,
   "id": "4e5de7be",
   "metadata": {},
   "outputs": [],
   "source": [
    "# python array\n",
    "a = [1,2,3,4,5,6,7,8,9]\n",
    "# numpy array\n",
    "A = np.array([1,2,3,4,5,6,7,8,9])"
   ]
  },
  {
   "cell_type": "markdown",
   "id": "198f9bf4",
   "metadata": {},
   "source": [
    "Si tuviera que imprimirlos, no vería mucha diferencia."
   ]
  },
  {
   "cell_type": "code",
   "execution_count": 3,
   "id": "5af66ba6",
   "metadata": {},
   "outputs": [
    {
     "name": "stdout",
     "output_type": "stream",
     "text": [
      "[1, 2, 3, 4, 5, 6, 7, 8, 9]\n",
      "[1 2 3 4 5 6 7 8 9]\n"
     ]
    }
   ],
   "source": [
    "print(a)\n",
    "print(A)"
   ]
  },
  {
   "cell_type": "markdown",
   "id": "67eb2854",
   "metadata": {},
   "source": [
    "De acuerdo, pero ¿por qué tengo que usar una matriz np en lugar de una matriz normal?\n",
    "La respuesta es que las matrices np son mejores en términos de computación más rápida y facilidad de manipulación."
   ]
  },
  {
   "cell_type": "markdown",
   "id": "c0953eb7",
   "metadata": {},
   "source": [
    "## np.arange()"
   ]
  },
  {
   "cell_type": "code",
   "execution_count": 4,
   "id": "72684247",
   "metadata": {},
   "outputs": [
    {
     "data": {
      "text/plain": [
       "array([0, 2, 4, 6, 8])"
      ]
     },
     "execution_count": 4,
     "metadata": {},
     "output_type": "execute_result"
    }
   ],
   "source": [
    "np.arange(0,10,2)"
   ]
  },
  {
   "cell_type": "markdown",
   "id": "4078ed5c",
   "metadata": {},
   "source": [
    "Lo que hace `arange([start],stop,[step])` es que organiza los números desde que comienzan hasta que se detienen, en pasos de paso. Esto es lo que significa para np.arange(0,10,2):\n",
    "devuelve una lista np a partir de 0 hasta 10, pero no incluyas 10 e incremente los números por 2 cada vez.\n",
    "Entonces, así es como obtenemos:"
   ]
  },
  {
   "cell_type": "markdown",
   "id": "3534421f",
   "metadata": {},
   "source": [
    "lo importante que recuerde aquí es que el número de parada no se incluirá en la lista."
   ]
  },
  {
   "cell_type": "markdown",
   "id": "232a25ad",
   "metadata": {},
   "source": [
    "otro ejemplo:"
   ]
  },
  {
   "cell_type": "code",
   "execution_count": 5,
   "id": "1dd8a814",
   "metadata": {},
   "outputs": [
    {
     "data": {
      "text/plain": [
       "array([ 2,  7, 12, 17, 22, 27])"
      ]
     },
     "execution_count": 5,
     "metadata": {},
     "output_type": "execute_result"
    }
   ],
   "source": [
    "np.arange(2,29,5)"
   ]
  },
  {
   "cell_type": "markdown",
   "id": "b0d2bb68",
   "metadata": {},
   "source": [
    "Antes de continuar, tendré que advertirle que esta \"matriz\" se llama indistintamente \"matriz\" o también \"vector\". Así que no te asustes cuando digo, por ejemplo, \"La forma de la matriz es 2 X 3\". Todo lo que significa es que la matriz se ve algo como esto:"
   ]
  },
  {
   "cell_type": "code",
   "execution_count": 7,
   "id": "39c42dd7",
   "metadata": {},
   "outputs": [
    {
     "data": {
      "text/plain": [
       "array([[ 2,  7, 12],\n",
       "       [17, 22, 27]])"
      ]
     },
     "execution_count": 7,
     "metadata": {},
     "output_type": "execute_result"
    }
   ],
   "source": [
    "np.array([[ 2,  7, 12,], \n",
    "      [17, 22, 27]])"
   ]
  },
  {
   "cell_type": "markdown",
   "id": "b5b00b48",
   "metadata": {},
   "source": [
    "Ahora, hablemos de la forma de una matriz np predeterminada.\n",
    "Shape es un atributo para la matriz np. Cuando una matriz predeterminada, digamos por ejemplo A se llama con forma, así es como se ve."
   ]
  },
  {
   "cell_type": "code",
   "execution_count": null,
   "id": "f1604762",
   "metadata": {},
   "outputs": [],
   "source": []
  },
  {
   "cell_type": "code",
   "execution_count": null,
   "id": "737db2f7",
   "metadata": {},
   "outputs": [],
   "source": []
  },
  {
   "cell_type": "code",
   "execution_count": null,
   "id": "d332bd1d",
   "metadata": {},
   "outputs": [],
   "source": []
  },
  {
   "cell_type": "code",
   "execution_count": null,
   "id": "6969b005",
   "metadata": {},
   "outputs": [],
   "source": []
  },
  {
   "cell_type": "code",
   "execution_count": null,
   "id": "78b1dfec",
   "metadata": {},
   "outputs": [],
   "source": []
  }
 ],
 "metadata": {
  "kernelspec": {
   "display_name": "Python 3",
   "language": "python",
   "name": "python3"
  },
  "language_info": {
   "codemirror_mode": {
    "name": "ipython",
    "version": 3
   },
   "file_extension": ".py",
   "mimetype": "text/x-python",
   "name": "python",
   "nbconvert_exporter": "python",
   "pygments_lexer": "ipython3",
   "version": "3.8.8"
  },
  "latex_envs": {
   "LaTeX_envs_menu_present": true,
   "autoclose": false,
   "autocomplete": false,
   "bibliofile": "biblio.bib",
   "cite_by": "apalike",
   "current_citInitial": 1,
   "eqLabelWithNumbers": true,
   "eqNumInitial": 1,
   "hotkeys": {
    "equation": "Ctrl-E",
    "itemize": "Ctrl-I"
   },
   "labels_anchors": false,
   "latex_user_defs": false,
   "report_style_numbering": false,
   "user_envs_cfg": false
  }
 },
 "nbformat": 4,
 "nbformat_minor": 5
}
