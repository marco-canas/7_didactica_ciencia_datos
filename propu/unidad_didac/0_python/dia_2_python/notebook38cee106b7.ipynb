{
 "cells": [
  {
   "cell_type": "markdown",
   "id": "69797eb7",
   "metadata": {
    "papermill": {
     "duration": 0.022653,
     "end_time": "2021-08-04T01:37:56.343113",
     "exception": false,
     "start_time": "2021-08-04T01:37:56.320460",
     "status": "completed"
    },
    "tags": []
   },
   "source": [
    "**This notebook is an exercise in the [Python](https://www.kaggle.com/learn/python) course.  You can reference the tutorial at [this link](https://www.kaggle.com/colinmorris/hello-python).**\n",
    "\n",
    "---\n"
   ]
  },
  {
   "cell_type": "markdown",
   "id": "e0276749",
   "metadata": {
    "papermill": {
     "duration": 0.021137,
     "end_time": "2021-08-04T01:37:56.386265",
     "exception": false,
     "start_time": "2021-08-04T01:37:56.365128",
     "status": "completed"
    },
    "tags": []
   },
   "source": [
    "Welcome to your first set of Python coding problems.  If this is your first time using Kaggle Notebooks, welcome! \n",
    "\n",
    "Notebooks are composed of blocks (called \"cells\") of text and code. Each of these is editable, though you'll mainly be editing the code cells to answer some questions.\n",
    "\n",
    "To get started, try running the code cell below (by pressing the ► button, or clicking on the cell and pressing ctrl+enter on your keyboard)."
   ]
  },
  {
   "cell_type": "code",
   "execution_count": 1,
   "id": "20c175ce",
   "metadata": {
    "execution": {
     "iopub.execute_input": "2021-08-04T01:37:56.452653Z",
     "iopub.status.busy": "2021-08-04T01:37:56.451285Z",
     "iopub.status.idle": "2021-08-04T01:37:56.458139Z",
     "shell.execute_reply": "2021-08-04T01:37:56.458917Z",
     "shell.execute_reply.started": "2021-08-04T01:14:25.551191Z"
    },
    "papermill": {
     "duration": 0.051607,
     "end_time": "2021-08-04T01:37:56.459340",
     "exception": false,
     "start_time": "2021-08-04T01:37:56.407733",
     "status": "completed"
    },
    "tags": []
   },
   "outputs": [
    {
     "name": "stdout",
     "output_type": "stream",
     "text": [
      "You've successfully run some Python code\n",
      "Congratulations!\n"
     ]
    }
   ],
   "source": [
    "print(\"You've successfully run some Python code\")\n",
    "print(\"Congratulations!\")"
   ]
  },
  {
   "cell_type": "code",
   "execution_count": null,
   "id": "39681ed2",
   "metadata": {
    "papermill": {
     "duration": 0.028686,
     "end_time": "2021-08-04T01:37:56.519062",
     "exception": false,
     "start_time": "2021-08-04T01:37:56.490376",
     "status": "completed"
    },
    "tags": []
   },
   "outputs": [],
   "source": []
  },
  {
   "cell_type": "code",
   "execution_count": null,
   "id": "3a919172",
   "metadata": {
    "papermill": {
     "duration": 0.029241,
     "end_time": "2021-08-04T01:37:56.575276",
     "exception": false,
     "start_time": "2021-08-04T01:37:56.546035",
     "status": "completed"
    },
    "tags": []
   },
   "outputs": [],
   "source": []
  },
  {
   "cell_type": "code",
   "execution_count": null,
   "id": "ae19da0e",
   "metadata": {
    "papermill": {
     "duration": 0.02652,
     "end_time": "2021-08-04T01:37:56.629670",
     "exception": false,
     "start_time": "2021-08-04T01:37:56.603150",
     "status": "completed"
    },
    "tags": []
   },
   "outputs": [],
   "source": []
  },
  {
   "cell_type": "markdown",
   "id": "fecad675",
   "metadata": {
    "papermill": {
     "duration": 0.026605,
     "end_time": "2021-08-04T01:37:56.683163",
     "exception": false,
     "start_time": "2021-08-04T01:37:56.656558",
     "status": "completed"
    },
    "tags": []
   },
   "source": [
    "Try adding another line of code in the cell above and re-running it. \n",
    "\n",
    "Now let's get a little fancier:  Add a new code cell by clicking on an existing code cell, hitting the escape key, and then hitting the `a` or `b` key.  The `a` key will add a cell above the current cell, and `b` adds a cell below.\n",
    "\n",
    "Great! Now you know how to use Notebooks.\n",
    "\n",
    "Each hands-on exercise starts by setting up our feedback and code checking mechanism. Run the code cell below to do that. Then you'll be ready to move on to question 0."
   ]
  },
  {
   "cell_type": "code",
   "execution_count": 2,
   "id": "ab822823",
   "metadata": {
    "_kg_hide-input": true,
    "_kg_hide-output": true,
    "execution": {
     "iopub.execute_input": "2021-08-04T01:37:56.740660Z",
     "iopub.status.busy": "2021-08-04T01:37:56.739883Z",
     "iopub.status.idle": "2021-08-04T01:37:56.909144Z",
     "shell.execute_reply": "2021-08-04T01:37:56.908427Z",
     "shell.execute_reply.started": "2021-08-04T01:14:32.686468Z"
    },
    "papermill": {
     "duration": 0.199216,
     "end_time": "2021-08-04T01:37:56.909325",
     "exception": false,
     "start_time": "2021-08-04T01:37:56.710109",
     "status": "completed"
    },
    "tags": []
   },
   "outputs": [
    {
     "name": "stdout",
     "output_type": "stream",
     "text": [
      "Setup complete! You're ready to start question 0.\n"
     ]
    }
   ],
   "source": [
    "from learntools.core import binder; binder.bind(globals())\n",
    "from learntools.python.ex1 import *\n",
    "print(\"Setup complete! You're ready to start question 0.\")"
   ]
  },
  {
   "cell_type": "markdown",
   "id": "7a91ab49",
   "metadata": {
    "papermill": {
     "duration": 0.022335,
     "end_time": "2021-08-04T01:37:56.954316",
     "exception": false,
     "start_time": "2021-08-04T01:37:56.931981",
     "status": "completed"
    },
    "tags": []
   },
   "source": [
    "# 0.\n",
    "\n",
    "*This is a silly question intended as an introduction to the format we use for hands-on exercises throughout all Kaggle courses.*\n",
    "\n",
    "**What is your favorite color? **\n",
    "\n",
    "To complete this question, create a variable called `color` in the cell below with an appropriate value. The function call `q0.check()` (which we've already provided in the cell below) will check your answer."
   ]
  },
  {
   "cell_type": "code",
   "execution_count": 3,
   "id": "c1d3669c",
   "metadata": {
    "execution": {
     "iopub.execute_input": "2021-08-04T01:37:57.009756Z",
     "iopub.status.busy": "2021-08-04T01:37:57.008824Z",
     "iopub.status.idle": "2021-08-04T01:37:57.015981Z",
     "shell.execute_reply": "2021-08-04T01:37:57.015336Z",
     "shell.execute_reply.started": "2021-08-04T01:15:12.759704Z"
    },
    "papermill": {
     "duration": 0.037804,
     "end_time": "2021-08-04T01:37:57.016159",
     "exception": false,
     "start_time": "2021-08-04T01:37:56.978355",
     "status": "completed"
    },
    "tags": []
   },
   "outputs": [
    {
     "data": {
      "application/javascript": [
       "parent.postMessage({\"jupyterEvent\": \"custom.exercise_interaction\", \"data\": {\"outcomeType\": 1, \"valueTowardsCompletion\": 0.25, \"interactionType\": 1, \"questionType\": 2, \"questionId\": \"0_ExerciseFormatTutorial\", \"learnToolsVersion\": \"0.3.4\", \"failureMessage\": \"\", \"exceptionClass\": \"\", \"trace\": \"\"}}, \"*\")"
      ],
      "text/plain": [
       "<IPython.core.display.Javascript object>"
      ]
     },
     "metadata": {},
     "output_type": "display_data"
    },
    {
     "data": {
      "text/markdown": [
       "<span style=\"color:#33cc33\">Correct:</span> What?! You got it right without needing a hint or anything? Drats. Well hey, you should still continue to the next step to get some practice asking for a hint and checking solutions. (Even though you obviously don't need any help here.)"
      ],
      "text/plain": [
       "Correct: What?! You got it right without needing a hint or anything? Drats. Well hey, you should still continue to the next step to get some practice asking for a hint and checking solutions. (Even though you obviously don't need any help here.)"
      ]
     },
     "metadata": {},
     "output_type": "display_data"
    }
   ],
   "source": [
    "# create a variable called color with an appropriate value on the line below\n",
    "# (Remember, strings in Python must be enclosed in 'single' or \"double\" quotes)\n",
    "____\n",
    "color = 'blue'\n",
    "# Check your answer\n",
    "q0.check()"
   ]
  },
  {
   "cell_type": "markdown",
   "id": "0e5f8112",
   "metadata": {
    "papermill": {
     "duration": 0.023219,
     "end_time": "2021-08-04T01:37:57.062987",
     "exception": false,
     "start_time": "2021-08-04T01:37:57.039768",
     "status": "completed"
    },
    "tags": []
   },
   "source": [
    "Didn't get the right answer? How do you not even know your own favorite color?!\n",
    "\n",
    "Delete the `#` in the line below to make one of the lines run. You can choose between getting a hint or the full answer by choosing which line to remove the `#` from. \n",
    "\n",
    "Removing the `#` is called uncommenting, because it changes that line from a \"comment\" which Python doesn't run to code, which Python does run."
   ]
  },
  {
   "cell_type": "code",
   "execution_count": 4,
   "id": "9e87f40c",
   "metadata": {
    "execution": {
     "iopub.execute_input": "2021-08-04T01:37:57.118031Z",
     "iopub.status.busy": "2021-08-04T01:37:57.117338Z",
     "iopub.status.idle": "2021-08-04T01:37:57.125606Z",
     "shell.execute_reply": "2021-08-04T01:37:57.126111Z",
     "shell.execute_reply.started": "2021-08-04T01:18:38.613407Z"
    },
    "papermill": {
     "duration": 0.039615,
     "end_time": "2021-08-04T01:37:57.126311",
     "exception": false,
     "start_time": "2021-08-04T01:37:57.086696",
     "status": "completed"
    },
    "tags": []
   },
   "outputs": [
    {
     "data": {
      "application/javascript": [
       "parent.postMessage({\"jupyterEvent\": \"custom.exercise_interaction\", \"data\": {\"interactionType\": 2, \"questionType\": 2, \"questionId\": \"0_ExerciseFormatTutorial\", \"learnToolsVersion\": \"0.3.4\", \"valueTowardsCompletion\": 0.0, \"failureMessage\": \"\", \"exceptionClass\": \"\", \"trace\": \"\", \"outcomeType\": 4}}, \"*\")"
      ],
      "text/plain": [
       "<IPython.core.display.Javascript object>"
      ]
     },
     "metadata": {},
     "output_type": "display_data"
    },
    {
     "data": {
      "text/markdown": [
       "<span style=\"color:#3366cc\">Hint:</span> Your favorite color rhymes with *glue*."
      ],
      "text/plain": [
       "Hint: Your favorite color rhymes with *glue*."
      ]
     },
     "metadata": {},
     "output_type": "display_data"
    },
    {
     "data": {
      "application/javascript": [
       "parent.postMessage({\"jupyterEvent\": \"custom.exercise_interaction\", \"data\": {\"interactionType\": 3, \"questionType\": 2, \"questionId\": \"0_ExerciseFormatTutorial\", \"learnToolsVersion\": \"0.3.4\", \"valueTowardsCompletion\": 0.0, \"failureMessage\": \"\", \"exceptionClass\": \"\", \"trace\": \"\", \"outcomeType\": 4}}, \"*\")"
      ],
      "text/plain": [
       "<IPython.core.display.Javascript object>"
      ]
     },
     "metadata": {},
     "output_type": "display_data"
    },
    {
     "data": {
      "text/markdown": [
       "<span style=\"color:#33cc99\">Solution:</span> \n",
       "```python\n",
       "color = \"blue\"\n",
       "```"
      ],
      "text/plain": [
       "Solution: \n",
       "```python\n",
       "color = \"blue\"\n",
       "```"
      ]
     },
     "metadata": {},
     "output_type": "display_data"
    }
   ],
   "source": [
    "q0.hint()\n",
    "q0.solution()"
   ]
  },
  {
   "cell_type": "markdown",
   "id": "6021a14b",
   "metadata": {
    "papermill": {
     "duration": 0.024894,
     "end_time": "2021-08-04T01:37:57.176518",
     "exception": false,
     "start_time": "2021-08-04T01:37:57.151624",
     "status": "completed"
    },
    "tags": []
   },
   "source": [
    "The upcoming questions work the same way. The only thing that will change are the question numbers. For the next question, you'll call `q1.check()`, `q1.hint()`, `q1.solution()`, for question 2, you'll call `q2.check()`, and so on."
   ]
  },
  {
   "cell_type": "markdown",
   "id": "d868afc4",
   "metadata": {
    "papermill": {
     "duration": 0.024711,
     "end_time": "2021-08-04T01:37:57.226415",
     "exception": false,
     "start_time": "2021-08-04T01:37:57.201704",
     "status": "completed"
    },
    "tags": []
   },
   "source": [
    "<hr/>\n",
    "\n",
    "# 1.\n",
    "\n",
    "Complete the code below. In case it's helpful, here is the table of available arithmetic operations:\n",
    "\n",
    "\n",
    "\n",
    "| Operator     | Name           | Description                                            |\n",
    "|--------------|----------------|--------------------------------------------------------|\n",
    "| ``a + b``    | Addition       | Sum of ``a`` and ``b``                                 |\n",
    "| ``a - b``    | Subtraction    | Difference of ``a`` and ``b``                          |\n",
    "| ``a * b``    | Multiplication | Product of ``a`` and ``b``                             |\n",
    "| ``a / b``    | True division  | Quotient of ``a`` and ``b``                            |\n",
    "| ``a // b``   | Floor division | Quotient of ``a`` and ``b``, removing fractional parts |\n",
    "| ``a % b``    | Modulus        | Integer remainder after division of ``a`` by ``b``     |\n",
    "| ``a ** b``   | Exponentiation | ``a`` raised to the power of ``b``                     |\n",
    "| ``-a``       | Negation       | The negative of ``a``                                  |\n",
    "\n",
    "<span style=\"display:none\"></span>\n"
   ]
  },
  {
   "cell_type": "code",
   "execution_count": 5,
   "id": "b419f720",
   "metadata": {
    "execution": {
     "iopub.execute_input": "2021-08-04T01:37:57.280163Z",
     "iopub.status.busy": "2021-08-04T01:37:57.279509Z",
     "iopub.status.idle": "2021-08-04T01:37:57.287144Z",
     "shell.execute_reply": "2021-08-04T01:37:57.287740Z",
     "shell.execute_reply.started": "2021-08-04T01:23:12.804453Z"
    },
    "papermill": {
     "duration": 0.036349,
     "end_time": "2021-08-04T01:37:57.287903",
     "exception": false,
     "start_time": "2021-08-04T01:37:57.251554",
     "status": "completed"
    },
    "tags": []
   },
   "outputs": [
    {
     "data": {
      "application/javascript": [
       "parent.postMessage({\"jupyterEvent\": \"custom.exercise_interaction\", \"data\": {\"outcomeType\": 1, \"valueTowardsCompletion\": 0.25, \"interactionType\": 1, \"questionType\": 1, \"questionId\": \"1_CircleArea\", \"learnToolsVersion\": \"0.3.4\", \"failureMessage\": \"\", \"exceptionClass\": \"\", \"trace\": \"\"}}, \"*\")"
      ],
      "text/plain": [
       "<IPython.core.display.Javascript object>"
      ]
     },
     "metadata": {},
     "output_type": "display_data"
    },
    {
     "data": {
      "text/markdown": [
       "<span style=\"color:#33cc33\">Correct</span>"
      ],
      "text/plain": [
       "Correct"
      ]
     },
     "metadata": {},
     "output_type": "display_data"
    }
   ],
   "source": [
    "pi = 3.14159 # approximate\n",
    "diameter = 3\n",
    "\n",
    "# Create a variable called 'radius' equal to half the diameter\n",
    "____\n",
    "radius = diameter/2\n",
    "\n",
    "# Create a variable called 'area', using the formula for the area of a circle: pi times the radius squared\n",
    "____\n",
    "area = pi*radius**2\n",
    "# Check your answer\n",
    "q1.check()"
   ]
  },
  {
   "cell_type": "code",
   "execution_count": 6,
   "id": "4c9b650f",
   "metadata": {
    "execution": {
     "iopub.execute_input": "2021-08-04T01:37:57.343617Z",
     "iopub.status.busy": "2021-08-04T01:37:57.342883Z",
     "iopub.status.idle": "2021-08-04T01:37:57.346392Z",
     "shell.execute_reply": "2021-08-04T01:37:57.346932Z"
    },
    "papermill": {
     "duration": 0.033264,
     "end_time": "2021-08-04T01:37:57.347123",
     "exception": false,
     "start_time": "2021-08-04T01:37:57.313859",
     "status": "completed"
    },
    "tags": []
   },
   "outputs": [],
   "source": [
    "# Uncomment and run the lines below if you need help.\n",
    "#q1.hint()\n",
    "#q1.solution()"
   ]
  },
  {
   "cell_type": "markdown",
   "id": "361ef18c",
   "metadata": {
    "papermill": {
     "duration": 0.026071,
     "end_time": "2021-08-04T01:37:57.399569",
     "exception": false,
     "start_time": "2021-08-04T01:37:57.373498",
     "status": "completed"
    },
    "tags": []
   },
   "source": [
    "<hr/>\n",
    "\n",
    "# 2.\n",
    "\n",
    "Add code to the following cell to swap variables `a` and `b` (so that `a` refers to the object previously referred to by `b` and vice versa)."
   ]
  },
  {
   "cell_type": "code",
   "execution_count": 7,
   "id": "446aa0e0",
   "metadata": {
    "execution": {
     "iopub.execute_input": "2021-08-04T01:37:57.455990Z",
     "iopub.status.busy": "2021-08-04T01:37:57.455344Z",
     "iopub.status.idle": "2021-08-04T01:37:57.463444Z",
     "shell.execute_reply": "2021-08-04T01:37:57.463953Z",
     "shell.execute_reply.started": "2021-08-04T01:24:42.097173Z"
    },
    "papermill": {
     "duration": 0.038121,
     "end_time": "2021-08-04T01:37:57.464157",
     "exception": false,
     "start_time": "2021-08-04T01:37:57.426036",
     "status": "completed"
    },
    "tags": []
   },
   "outputs": [
    {
     "data": {
      "application/javascript": [
       "parent.postMessage({\"jupyterEvent\": \"custom.exercise_interaction\", \"data\": {\"outcomeType\": 1, \"valueTowardsCompletion\": 0.25, \"interactionType\": 1, \"questionType\": 2, \"questionId\": \"2_VariableSwap\", \"learnToolsVersion\": \"0.3.4\", \"failureMessage\": \"\", \"exceptionClass\": \"\", \"trace\": \"\"}}, \"*\")"
      ],
      "text/plain": [
       "<IPython.core.display.Javascript object>"
      ]
     },
     "metadata": {},
     "output_type": "display_data"
    },
    {
     "data": {
      "text/markdown": [
       "<span style=\"color:#33cc33\">Correct:</span> \n",
       "\n",
       "The most straightforward solution is to use a third variable to temporarily store one of the old values. e.g.:\n",
       "\n",
       "    tmp = a\n",
       "    a = b\n",
       "    b = tmp\n",
       "\n",
       "If you've read lots of Python code, you might have seen the following trick to swap two variables in one line:\n",
       "\n",
       "    a, b = b, a\n",
       "\n",
       "We'll demystify this bit of Python magic later when we talk about *tuples*."
      ],
      "text/plain": [
       "Correct: \n",
       "\n",
       "The most straightforward solution is to use a third variable to temporarily store one of the old values. e.g.:\n",
       "\n",
       "    tmp = a\n",
       "    a = b\n",
       "    b = tmp\n",
       "\n",
       "If you've read lots of Python code, you might have seen the following trick to swap two variables in one line:\n",
       "\n",
       "    a, b = b, a\n",
       "\n",
       "We'll demystify this bit of Python magic later when we talk about *tuples*."
      ]
     },
     "metadata": {},
     "output_type": "display_data"
    }
   ],
   "source": [
    "########### Setup code - don't touch this part ######################\n",
    "# If you're curious, these are examples of lists. We'll talk about \n",
    "# them in depth a few lessons from now. For now, just know that they're\n",
    "# yet another type of Python object, like int or float.\n",
    "a = [1, 2, 3]\n",
    "b = [3, 2, 1]\n",
    "q2.store_original_ids()\n",
    "######################################################################\n",
    "\n",
    "# Your code goes here. Swap the values to which a and b refer.\n",
    "# If you get stuck, you can always uncomment one or both of the lines in\n",
    "# the next cell for a hint, or to peek at the solution.\n",
    "\n",
    "######################################################################\n",
    "a,b = b,a\n",
    "# Check your answer\n",
    "q2.check()"
   ]
  },
  {
   "cell_type": "code",
   "execution_count": 8,
   "id": "3eb83b28",
   "metadata": {
    "execution": {
     "iopub.execute_input": "2021-08-04T01:37:57.523501Z",
     "iopub.status.busy": "2021-08-04T01:37:57.522839Z",
     "iopub.status.idle": "2021-08-04T01:37:57.526946Z",
     "shell.execute_reply": "2021-08-04T01:37:57.527419Z"
    },
    "papermill": {
     "duration": 0.035182,
     "end_time": "2021-08-04T01:37:57.527594",
     "exception": false,
     "start_time": "2021-08-04T01:37:57.492412",
     "status": "completed"
    },
    "tags": []
   },
   "outputs": [],
   "source": [
    "#q2.hint()"
   ]
  },
  {
   "cell_type": "code",
   "execution_count": 9,
   "id": "06df1835",
   "metadata": {
    "execution": {
     "iopub.execute_input": "2021-08-04T01:37:57.585858Z",
     "iopub.status.busy": "2021-08-04T01:37:57.585240Z",
     "iopub.status.idle": "2021-08-04T01:37:57.589336Z",
     "shell.execute_reply": "2021-08-04T01:37:57.589917Z"
    },
    "papermill": {
     "duration": 0.035157,
     "end_time": "2021-08-04T01:37:57.590137",
     "exception": false,
     "start_time": "2021-08-04T01:37:57.554980",
     "status": "completed"
    },
    "tags": []
   },
   "outputs": [],
   "source": [
    "#q2.solution()"
   ]
  },
  {
   "cell_type": "markdown",
   "id": "8ab769c7",
   "metadata": {
    "papermill": {
     "duration": 0.027328,
     "end_time": "2021-08-04T01:37:57.646812",
     "exception": false,
     "start_time": "2021-08-04T01:37:57.619484",
     "status": "completed"
    },
    "tags": []
   },
   "source": [
    "<hr/>\n",
    "\n",
    "# 3a.\n",
    "\n",
    "Add parentheses to the following expression so that it evaluates to 1."
   ]
  },
  {
   "cell_type": "code",
   "execution_count": 10,
   "id": "c707783c",
   "metadata": {
    "execution": {
     "iopub.execute_input": "2021-08-04T01:37:57.707075Z",
     "iopub.status.busy": "2021-08-04T01:37:57.706016Z",
     "iopub.status.idle": "2021-08-04T01:37:57.711922Z",
     "shell.execute_reply": "2021-08-04T01:37:57.712384Z",
     "shell.execute_reply.started": "2021-08-04T01:25:49.199674Z"
    },
    "papermill": {
     "duration": 0.037619,
     "end_time": "2021-08-04T01:37:57.712595",
     "exception": false,
     "start_time": "2021-08-04T01:37:57.674976",
     "status": "completed"
    },
    "tags": []
   },
   "outputs": [
    {
     "data": {
      "text/plain": [
       "1"
      ]
     },
     "execution_count": 10,
     "metadata": {},
     "output_type": "execute_result"
    }
   ],
   "source": [
    "(5 - 3) // 2"
   ]
  },
  {
   "cell_type": "code",
   "execution_count": 11,
   "id": "842d43d9",
   "metadata": {
    "execution": {
     "iopub.execute_input": "2021-08-04T01:37:57.773391Z",
     "iopub.status.busy": "2021-08-04T01:37:57.772392Z",
     "iopub.status.idle": "2021-08-04T01:37:57.776043Z",
     "shell.execute_reply": "2021-08-04T01:37:57.776554Z"
    },
    "papermill": {
     "duration": 0.03597,
     "end_time": "2021-08-04T01:37:57.776747",
     "exception": false,
     "start_time": "2021-08-04T01:37:57.740777",
     "status": "completed"
    },
    "tags": []
   },
   "outputs": [],
   "source": [
    "#q3.a.hint()"
   ]
  },
  {
   "cell_type": "code",
   "execution_count": 12,
   "id": "576b2934",
   "metadata": {
    "execution": {
     "iopub.execute_input": "2021-08-04T01:37:57.838497Z",
     "iopub.status.busy": "2021-08-04T01:37:57.837488Z",
     "iopub.status.idle": "2021-08-04T01:37:57.845447Z",
     "shell.execute_reply": "2021-08-04T01:37:57.845948Z",
     "shell.execute_reply.started": "2021-08-04T01:26:00.180339Z"
    },
    "papermill": {
     "duration": 0.04058,
     "end_time": "2021-08-04T01:37:57.846178",
     "exception": false,
     "start_time": "2021-08-04T01:37:57.805598",
     "status": "completed"
    },
    "tags": []
   },
   "outputs": [
    {
     "data": {
      "application/javascript": [
       "parent.postMessage({\"jupyterEvent\": \"custom.exercise_interaction\", \"data\": {\"interactionType\": 3, \"questionType\": 4, \"questionId\": \"3.1_ArithmeticParensEasy\", \"learnToolsVersion\": \"0.3.4\", \"valueTowardsCompletion\": 0.0, \"failureMessage\": \"\", \"exceptionClass\": \"\", \"trace\": \"\", \"outcomeType\": 4}}, \"*\")"
      ],
      "text/plain": [
       "<IPython.core.display.Javascript object>"
      ]
     },
     "metadata": {},
     "output_type": "display_data"
    },
    {
     "data": {
      "text/markdown": [
       "<span style=\"color:#33cc99\">Solution:</span> \n",
       "```python\n",
       "(5 - 3) // 2\n",
       "```"
      ],
      "text/plain": [
       "Solution: \n",
       "```python\n",
       "(5 - 3) // 2\n",
       "```"
      ]
     },
     "metadata": {},
     "output_type": "display_data"
    }
   ],
   "source": [
    "# Check your answer (Run this code cell to receive credit!)\n",
    "q3.a.solution()"
   ]
  },
  {
   "cell_type": "markdown",
   "id": "d9d66ec8",
   "metadata": {
    "papermill": {
     "duration": 0.029245,
     "end_time": "2021-08-04T01:37:57.905900",
     "exception": false,
     "start_time": "2021-08-04T01:37:57.876655",
     "status": "completed"
    },
    "tags": []
   },
   "source": [
    "# 3b.  <span title=\"A bit spicy\" style=\"color: darkgreen \">🌶️</span>\n",
    "\n",
    "<small>Questions, like this one, marked a spicy pepper are a bit harder.</small>\n",
    "\n",
    "Add parentheses to the following expression so that it evaluates to 0."
   ]
  },
  {
   "cell_type": "code",
   "execution_count": 13,
   "id": "295579a5",
   "metadata": {
    "execution": {
     "iopub.execute_input": "2021-08-04T01:37:57.975431Z",
     "iopub.status.busy": "2021-08-04T01:37:57.974460Z",
     "iopub.status.idle": "2021-08-04T01:37:57.980144Z",
     "shell.execute_reply": "2021-08-04T01:37:57.980652Z",
     "shell.execute_reply.started": "2021-08-04T01:31:03.686313Z"
    },
    "papermill": {
     "duration": 0.045297,
     "end_time": "2021-08-04T01:37:57.980825",
     "exception": false,
     "start_time": "2021-08-04T01:37:57.935528",
     "status": "completed"
    },
    "tags": []
   },
   "outputs": [
    {
     "data": {
      "text/plain": [
       "0"
      ]
     },
     "execution_count": 13,
     "metadata": {},
     "output_type": "execute_result"
    }
   ],
   "source": [
    "8 - 3 * 2 - (1 + 1)"
   ]
  },
  {
   "cell_type": "code",
   "execution_count": 14,
   "id": "c146e9df",
   "metadata": {
    "execution": {
     "iopub.execute_input": "2021-08-04T01:37:58.043928Z",
     "iopub.status.busy": "2021-08-04T01:37:58.043251Z",
     "iopub.status.idle": "2021-08-04T01:37:58.046812Z",
     "shell.execute_reply": "2021-08-04T01:37:58.047314Z"
    },
    "papermill": {
     "duration": 0.037498,
     "end_time": "2021-08-04T01:37:58.047527",
     "exception": false,
     "start_time": "2021-08-04T01:37:58.010029",
     "status": "completed"
    },
    "tags": []
   },
   "outputs": [],
   "source": [
    "#q3.b.hint()"
   ]
  },
  {
   "cell_type": "code",
   "execution_count": 15,
   "id": "3fd3d060",
   "metadata": {
    "execution": {
     "iopub.execute_input": "2021-08-04T01:37:58.117105Z",
     "iopub.status.busy": "2021-08-04T01:37:58.116374Z",
     "iopub.status.idle": "2021-08-04T01:37:58.123591Z",
     "shell.execute_reply": "2021-08-04T01:37:58.122913Z",
     "shell.execute_reply.started": "2021-08-04T01:31:09.133917Z"
    },
    "papermill": {
     "duration": 0.043127,
     "end_time": "2021-08-04T01:37:58.123742",
     "exception": false,
     "start_time": "2021-08-04T01:37:58.080615",
     "status": "completed"
    },
    "tags": []
   },
   "outputs": [
    {
     "data": {
      "application/javascript": [
       "parent.postMessage({\"jupyterEvent\": \"custom.exercise_interaction\", \"data\": {\"interactionType\": 3, \"questionType\": 4, \"questionId\": \"3.2_ArithmeticParensHard\", \"learnToolsVersion\": \"0.3.4\", \"valueTowardsCompletion\": 0.0, \"failureMessage\": \"\", \"exceptionClass\": \"\", \"trace\": \"\", \"outcomeType\": 4}}, \"*\")"
      ],
      "text/plain": [
       "<IPython.core.display.Javascript object>"
      ]
     },
     "metadata": {},
     "output_type": "display_data"
    },
    {
     "data": {
      "text/markdown": [
       "<span style=\"color:#33cc99\">Solution:</span> `(8 - 3) * (2 - (1 + 1))` is one solution. There may be others."
      ],
      "text/plain": [
       "Solution: `(8 - 3) * (2 - (1 + 1))` is one solution. There may be others."
      ]
     },
     "metadata": {},
     "output_type": "display_data"
    }
   ],
   "source": [
    "# Check your answer (Run this code cell to receive credit!)\n",
    "q3.b.solution()"
   ]
  },
  {
   "cell_type": "markdown",
   "id": "a8bdf3b7",
   "metadata": {
    "papermill": {
     "duration": 0.030234,
     "end_time": "2021-08-04T01:37:58.184928",
     "exception": false,
     "start_time": "2021-08-04T01:37:58.154694",
     "status": "completed"
    },
    "tags": []
   },
   "source": [
    "<hr/>\n",
    "\n",
    "# 4. \n",
    "Alice, Bob and Carol have agreed to pool their Halloween candy and split it evenly among themselves.\n",
    "For the sake of their friendship, any candies left over will be smashed. For example, if they collectively\n",
    "bring home 91 candies, they'll take 30 each and smash 1.\n",
    "\n",
    "Write an arithmetic expression below to calculate how many candies they must smash for a given haul."
   ]
  },
  {
   "cell_type": "code",
   "execution_count": 16,
   "id": "b440c927",
   "metadata": {
    "execution": {
     "iopub.execute_input": "2021-08-04T01:37:58.253125Z",
     "iopub.status.busy": "2021-08-04T01:37:58.252418Z",
     "iopub.status.idle": "2021-08-04T01:37:58.259127Z",
     "shell.execute_reply": "2021-08-04T01:37:58.258559Z",
     "shell.execute_reply.started": "2021-08-04T01:36:05.382415Z"
    },
    "papermill": {
     "duration": 0.043754,
     "end_time": "2021-08-04T01:37:58.259297",
     "exception": false,
     "start_time": "2021-08-04T01:37:58.215543",
     "status": "completed"
    },
    "tags": []
   },
   "outputs": [
    {
     "data": {
      "application/javascript": [
       "parent.postMessage({\"jupyterEvent\": \"custom.exercise_interaction\", \"data\": {\"outcomeType\": 1, \"valueTowardsCompletion\": 0.25, \"interactionType\": 1, \"questionType\": 1, \"questionId\": \"4_CandySplitting\", \"learnToolsVersion\": \"0.3.4\", \"failureMessage\": \"\", \"exceptionClass\": \"\", \"trace\": \"\"}}, \"*\")"
      ],
      "text/plain": [
       "<IPython.core.display.Javascript object>"
      ]
     },
     "metadata": {},
     "output_type": "display_data"
    },
    {
     "data": {
      "text/markdown": [
       "<span style=\"color:#33cc33\">Correct</span>"
      ],
      "text/plain": [
       "Correct"
      ]
     },
     "metadata": {},
     "output_type": "display_data"
    }
   ],
   "source": [
    "# Variables representing the number of candies collected by alice, bob, and carol\n",
    "alice_candies = 121\n",
    "bob_candies = 77\n",
    "carol_candies = 109\n",
    "\n",
    "# Your code goes here! Replace the right-hand side of this assignment with an expression\n",
    "# involving alice_candies, bob_candies, and carol_candies\n",
    "to_smash = (alice_candies + bob_candies + carol_candies)%3\n",
    "\n",
    "# Check your answer\n",
    "q4.check()"
   ]
  },
  {
   "cell_type": "code",
   "execution_count": 17,
   "id": "de9ae2af",
   "metadata": {
    "execution": {
     "iopub.execute_input": "2021-08-04T01:37:58.328090Z",
     "iopub.status.busy": "2021-08-04T01:37:58.326983Z",
     "iopub.status.idle": "2021-08-04T01:37:58.331646Z",
     "shell.execute_reply": "2021-08-04T01:37:58.332220Z"
    },
    "papermill": {
     "duration": 0.040322,
     "end_time": "2021-08-04T01:37:58.332435",
     "exception": false,
     "start_time": "2021-08-04T01:37:58.292113",
     "status": "completed"
    },
    "tags": []
   },
   "outputs": [],
   "source": [
    "#q4.hint()\n",
    "#q4.solution()"
   ]
  },
  {
   "cell_type": "markdown",
   "id": "07c66e82",
   "metadata": {
    "papermill": {
     "duration": 0.031677,
     "end_time": "2021-08-04T01:37:58.396554",
     "exception": false,
     "start_time": "2021-08-04T01:37:58.364877",
     "status": "completed"
    },
    "tags": []
   },
   "source": [
    "# Keep Going\n",
    "\n",
    "Next up, you'll **[learn to write new functions and understand functions others write](https://www.kaggle.com/colinmorris/functions-and-getting-help)**. This will make you at least 10 times more productive as a Python programmer. "
   ]
  },
  {
   "cell_type": "markdown",
   "id": "f615051c",
   "metadata": {
    "papermill": {
     "duration": 0.031686,
     "end_time": "2021-08-04T01:37:58.460270",
     "exception": false,
     "start_time": "2021-08-04T01:37:58.428584",
     "status": "completed"
    },
    "tags": []
   },
   "source": [
    "---\n",
    "\n",
    "\n",
    "\n",
    "\n",
    "*Have questions or comments? Visit the [Learn Discussion forum](https://www.kaggle.com/learn-forum/161283) to chat with other Learners.*"
   ]
  }
 ],
 "metadata": {
  "kernelspec": {
   "display_name": "Python 3",
   "language": "python",
   "name": "python3"
  },
  "language_info": {
   "codemirror_mode": {
    "name": "ipython",
    "version": 3
   },
   "file_extension": ".py",
   "mimetype": "text/x-python",
   "name": "python",
   "nbconvert_exporter": "python",
   "pygments_lexer": "ipython3",
   "version": "3.7.10"
  },
  "papermill": {
   "default_parameters": {},
   "duration": 11.482842,
   "end_time": "2021-08-04T01:37:59.203966",
   "environment_variables": {},
   "exception": null,
   "input_path": "__notebook__.ipynb",
   "output_path": "__notebook__.ipynb",
   "parameters": {},
   "start_time": "2021-08-04T01:37:47.721124",
   "version": "2.3.3"
  }
 },
 "nbformat": 4,
 "nbformat_minor": 5
}
