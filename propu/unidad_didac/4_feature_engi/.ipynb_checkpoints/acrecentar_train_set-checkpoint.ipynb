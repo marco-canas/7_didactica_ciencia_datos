{
 "cells": [
  {
   "cell_type": "markdown",
   "id": "016f7e81",
   "metadata": {},
   "source": [
    "<table align=\"left\">\n",
    "  <td>\n",
    "    <a href=\"https://github.com/marco-canas/taca/blob/main/prop/unidad_didac/feature_engineering/acrecentar_train_set.ipynb\" target=\"_parent\"><img src=\"https://colab.research.google.com/assets/colab-badge.svg\" alt=\"Open In Colab\"/></a>\n",
    "  </td>\n",
    "\n",
    "</table>"
   ]
  },
  {
   "cell_type": "code",
   "execution_count": 1,
   "id": "bab10a4f",
   "metadata": {},
   "outputs": [],
   "source": [
    "import numpy as np\n",
    "import matplotlib.pyplot as plt\n",
    "from sklearn.datasets import load_digits\n",
    "from scipy.ndimage.interpolation import shift\n",
    "from sklearn.model_selection import train_test_split\n",
    "from sklearn.ensemble import RandomForestClassifier"
   ]
  },
  {
   "cell_type": "code",
   "execution_count": 2,
   "id": "e0e756c7",
   "metadata": {},
   "outputs": [],
   "source": [
    "digits = load_digits()\n",
    "X, y = digits.data, digits.target"
   ]
  },
  {
   "cell_type": "code",
   "execution_count": 3,
   "id": "8237fd73",
   "metadata": {},
   "outputs": [],
   "source": [
    "def digits_dos_clases(i, j):\n",
    "    \"\"\"input: dos enteros: los dos dígitos a clasificar\n",
    "       output: X array 2D instancias solo de i y de j. y array 1D etiquetas\"\"\"\n",
    "    return np.vstack([X[y==i], X[y==j]]), np.hstack([y[y==i], y[y==j]])"
   ]
  },
  {
   "cell_type": "code",
   "execution_count": 4,
   "id": "7f1cf304",
   "metadata": {},
   "outputs": [],
   "source": [
    "k, l = 5, 3\n",
    "X_simple, y_simple = digits_dos_clases(k, l)\n",
    "imags = X_simple.reshape(X_simple.shape[0], 8, 8)\n",
    "N = len(imags)\n",
    "imags_abajo = np.array([shift(imags[i], [1, 0], cval=0) for i in range(N)])\n",
    "imags_arriba = np.array([shift(imags[i], [-1, 0], cval=0) for i in range(N)])\n",
    "imags_der = np.array([shift(imags[i], [0, 1], cval=0) for i in range(N)])\n",
    "imags_izq = np.array([shift(imags[i], [0, -1], cval=0) for i in range(N)])\n",
    "X_big = np.vstack([imags, imags_abajo, imags_arriba, imags_der, imags_izq])\n",
    "y_big = np.hstack([y_simple, y_simple, y_simple, y_simple, y_simple])"
   ]
  },
  {
   "cell_type": "code",
   "execution_count": 5,
   "id": "f49e8f48",
   "metadata": {},
   "outputs": [],
   "source": [
    "X_simple_train, X_simple_test, y_simple_train, y_simple_test = train_test_split(X_simple, y_simple, test_size=0.1)\n",
    "X_big_train, X_big_test, y_big_train, y_big_test = train_test_split(X_big, y_big, test_size=0.1)\n"
   ]
  },
  {
   "cell_type": "code",
   "execution_count": 6,
   "id": "47841e09",
   "metadata": {},
   "outputs": [
    {
     "name": "stdout",
     "output_type": "stream",
     "text": [
      "score sin agregar desplazamientos:  1.0\n"
     ]
    }
   ],
   "source": [
    "\n",
    "forest_clf = RandomForestClassifier()\n",
    "forest_clf.fit(X_simple_train, y_simple_train)\n",
    "print('score sin agregar desplazamientos: ', forest_clf.score(X_simple_test, y_simple_test))\n"
   ]
  },
  {
   "cell_type": "code",
   "execution_count": 7,
   "id": "641813b8",
   "metadata": {},
   "outputs": [
    {
     "name": "stdout",
     "output_type": "stream",
     "text": [
      "score agregando desplazamientos:  0.9890710382513661\n"
     ]
    }
   ],
   "source": [
    "forest_clf_big = RandomForestClassifier()\n",
    "forest_clf_big.fit(X_big_train.reshape(-1, 64), y_big_train)\n",
    "print('score agregando desplazamientos: ', forest_clf_big.score(X_big_test.reshape(-1, 64), y_big_test))\n"
   ]
  },
  {
   "cell_type": "markdown",
   "id": "4c02f993",
   "metadata": {},
   "source": [
    "## [Video de apoyo](https://) "
   ]
  },
  {
   "cell_type": "markdown",
   "id": "eb9ff94c",
   "metadata": {},
   "source": [
    "## Referentes  \n",
    "\n",
    "* Géron, Aurélien, Hands-on machine learning with Scikit-Learn, Keras, and TensorFlow: Concepts, tools, and techniques to build intelligent systems, (2019), O'Reilly Media.    \n"
   ]
  },
  {
   "cell_type": "code",
   "execution_count": null,
   "id": "9b9ac353",
   "metadata": {},
   "outputs": [],
   "source": []
  }
 ],
 "metadata": {
  "kernelspec": {
   "display_name": "Python 3",
   "language": "python",
   "name": "python3"
  },
  "language_info": {
   "codemirror_mode": {
    "name": "ipython",
    "version": 3
   },
   "file_extension": ".py",
   "mimetype": "text/x-python",
   "name": "python",
   "nbconvert_exporter": "python",
   "pygments_lexer": "ipython3",
   "version": "3.9.5"
  }
 },
 "nbformat": 4,
 "nbformat_minor": 5
}
