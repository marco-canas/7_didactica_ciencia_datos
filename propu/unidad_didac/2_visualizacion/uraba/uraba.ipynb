{
 "cells": [
  {
   "cell_type": "markdown",
   "id": "ad701cee",
   "metadata": {
    "slideshow": {
     "slide_type": "slide"
    }
   },
   "source": [
    "<table align=\"left\">\n",
    "  <td>\n",
    "    <a href=\"https://colab.research.google.com/github/marco-canas/didactica_ciencia_datos/blob/main/referentes/geron/part_1/c_2/c_2.ipynb\" target=\"_parent\"><img src=\"https://colab.research.google.com/assets/colab-badge.svg\" alt=\"Open In Colab\"/></a>\n",
    "  </td>\n",
    "</table> "
   ]
  },
  {
   "cell_type": "markdown",
   "id": "e3803b66",
   "metadata": {
    "slideshow": {
     "slide_type": "slide"
    }
   },
   "source": [
    "# Contextualización de los estudiantes de Urabá "
   ]
  },
  {
   "cell_type": "markdown",
   "id": "35405a9a",
   "metadata": {
    "slideshow": {
     "slide_type": "slide"
    }
   },
   "source": [
    "# Terminar la constitución del modelo de regresión"
   ]
  },
  {
   "cell_type": "code",
   "execution_count": 2,
   "id": "55111e6d",
   "metadata": {
    "slideshow": {
     "slide_type": "slide"
    }
   },
   "outputs": [
    {
     "data": {
      "text/html": [
       "<div>\n",
       "<style scoped>\n",
       "    .dataframe tbody tr th:only-of-type {\n",
       "        vertical-align: middle;\n",
       "    }\n",
       "\n",
       "    .dataframe tbody tr th {\n",
       "        vertical-align: top;\n",
       "    }\n",
       "\n",
       "    .dataframe thead th {\n",
       "        text-align: right;\n",
       "    }\n",
       "</style>\n",
       "<table border=\"1\" class=\"dataframe\">\n",
       "  <thead>\n",
       "    <tr style=\"text-align: right;\">\n",
       "      <th></th>\n",
       "      <th>Cod_Div</th>\n",
       "      <th>Latitud</th>\n",
       "      <th>Longitud</th>\n",
       "      <th>Región</th>\n",
       "      <th>Departamento</th>\n",
       "      <th>Fecha</th>\n",
       "      <th>Hora</th>\n",
       "      <th>Temperatura</th>\n",
       "      <th>Velocidad del Viento</th>\n",
       "      <th>Dirección del Viento</th>\n",
       "      <th>Presión</th>\n",
       "      <th>Punto de Rocío</th>\n",
       "      <th>Cobertura total nubosa</th>\n",
       "      <th>Precipitación (mm/h)</th>\n",
       "      <th>Probabilidad de Tormenta</th>\n",
       "      <th>Humedad</th>\n",
       "      <th>Pronóstico</th>\n",
       "    </tr>\n",
       "  </thead>\n",
       "  <tbody>\n",
       "    <tr>\n",
       "      <th>0</th>\n",
       "      <td>5045000</td>\n",
       "      <td>7.883251</td>\n",
       "      <td>-76.625891</td>\n",
       "      <td>NaN</td>\n",
       "      <td>ANTIOQUIA</td>\n",
       "      <td>2022-07-29</td>\n",
       "      <td>12:00</td>\n",
       "      <td>29.0</td>\n",
       "      <td>2.4</td>\n",
       "      <td>357.7</td>\n",
       "      <td>1012.5</td>\n",
       "      <td>21.7</td>\n",
       "      <td>70.0</td>\n",
       "      <td>0.0</td>\n",
       "      <td>0.0</td>\n",
       "      <td>64.7</td>\n",
       "      <td>Parcialmente Nublado</td>\n",
       "    </tr>\n",
       "    <tr>\n",
       "      <th>1</th>\n",
       "      <td>5045000</td>\n",
       "      <td>7.883251</td>\n",
       "      <td>-76.625891</td>\n",
       "      <td>NaN</td>\n",
       "      <td>ANTIOQUIA</td>\n",
       "      <td>2022-07-29</td>\n",
       "      <td>13:00</td>\n",
       "      <td>29.7</td>\n",
       "      <td>2.7</td>\n",
       "      <td>357.3</td>\n",
       "      <td>1011.5</td>\n",
       "      <td>21.1</td>\n",
       "      <td>68.9</td>\n",
       "      <td>0.0</td>\n",
       "      <td>0.0</td>\n",
       "      <td>60.2</td>\n",
       "      <td>Parcialmente Nublado</td>\n",
       "    </tr>\n",
       "    <tr>\n",
       "      <th>2</th>\n",
       "      <td>5045000</td>\n",
       "      <td>7.883251</td>\n",
       "      <td>-76.625891</td>\n",
       "      <td>NaN</td>\n",
       "      <td>ANTIOQUIA</td>\n",
       "      <td>2022-07-29</td>\n",
       "      <td>14:00</td>\n",
       "      <td>30.2</td>\n",
       "      <td>2.9</td>\n",
       "      <td>343.9</td>\n",
       "      <td>1010.3</td>\n",
       "      <td>21.5</td>\n",
       "      <td>70.0</td>\n",
       "      <td>0.5</td>\n",
       "      <td>0.0</td>\n",
       "      <td>59.8</td>\n",
       "      <td>Parcialmente Nublado - Lluvia Fuerte</td>\n",
       "    </tr>\n",
       "    <tr>\n",
       "      <th>3</th>\n",
       "      <td>5045000</td>\n",
       "      <td>7.883251</td>\n",
       "      <td>-76.625891</td>\n",
       "      <td>NaN</td>\n",
       "      <td>ANTIOQUIA</td>\n",
       "      <td>2022-07-29</td>\n",
       "      <td>15:00</td>\n",
       "      <td>30.3</td>\n",
       "      <td>3.1</td>\n",
       "      <td>343.5</td>\n",
       "      <td>1009.6</td>\n",
       "      <td>23.0</td>\n",
       "      <td>80.0</td>\n",
       "      <td>1.0</td>\n",
       "      <td>0.0</td>\n",
       "      <td>65.0</td>\n",
       "      <td>Nublado - Lluvia</td>\n",
       "    </tr>\n",
       "    <tr>\n",
       "      <th>4</th>\n",
       "      <td>5045000</td>\n",
       "      <td>7.883251</td>\n",
       "      <td>-76.625891</td>\n",
       "      <td>NaN</td>\n",
       "      <td>ANTIOQUIA</td>\n",
       "      <td>2022-07-29</td>\n",
       "      <td>16:00</td>\n",
       "      <td>29.9</td>\n",
       "      <td>3.1</td>\n",
       "      <td>350.0</td>\n",
       "      <td>1008.6</td>\n",
       "      <td>23.8</td>\n",
       "      <td>80.0</td>\n",
       "      <td>1.5</td>\n",
       "      <td>0.0</td>\n",
       "      <td>69.5</td>\n",
       "      <td>Nublado - Lluvia</td>\n",
       "    </tr>\n",
       "    <tr>\n",
       "      <th>...</th>\n",
       "      <td>...</td>\n",
       "      <td>...</td>\n",
       "      <td>...</td>\n",
       "      <td>...</td>\n",
       "      <td>...</td>\n",
       "      <td>...</td>\n",
       "      <td>...</td>\n",
       "      <td>...</td>\n",
       "      <td>...</td>\n",
       "      <td>...</td>\n",
       "      <td>...</td>\n",
       "      <td>...</td>\n",
       "      <td>...</td>\n",
       "      <td>...</td>\n",
       "      <td>...</td>\n",
       "      <td>...</td>\n",
       "      <td>...</td>\n",
       "    </tr>\n",
       "    <tr>\n",
       "      <th>74</th>\n",
       "      <td>5045000</td>\n",
       "      <td>7.883251</td>\n",
       "      <td>-76.625891</td>\n",
       "      <td>NaN</td>\n",
       "      <td>ANTIOQUIA</td>\n",
       "      <td>2022-08-01</td>\n",
       "      <td>14:00</td>\n",
       "      <td>27.5</td>\n",
       "      <td>0.9</td>\n",
       "      <td>281.8</td>\n",
       "      <td>1009.2</td>\n",
       "      <td>21.4</td>\n",
       "      <td>80.0</td>\n",
       "      <td>0.0</td>\n",
       "      <td>0.0</td>\n",
       "      <td>69.6</td>\n",
       "      <td>Nublado</td>\n",
       "    </tr>\n",
       "    <tr>\n",
       "      <th>75</th>\n",
       "      <td>5045000</td>\n",
       "      <td>7.883251</td>\n",
       "      <td>-76.625891</td>\n",
       "      <td>NaN</td>\n",
       "      <td>ANTIOQUIA</td>\n",
       "      <td>2022-08-01</td>\n",
       "      <td>15:00</td>\n",
       "      <td>27.5</td>\n",
       "      <td>0.9</td>\n",
       "      <td>321.2</td>\n",
       "      <td>1008.6</td>\n",
       "      <td>21.7</td>\n",
       "      <td>90.0</td>\n",
       "      <td>0.0</td>\n",
       "      <td>0.0</td>\n",
       "      <td>70.9</td>\n",
       "      <td>Nublado</td>\n",
       "    </tr>\n",
       "    <tr>\n",
       "      <th>76</th>\n",
       "      <td>5045000</td>\n",
       "      <td>7.883251</td>\n",
       "      <td>-76.625891</td>\n",
       "      <td>NaN</td>\n",
       "      <td>ANTIOQUIA</td>\n",
       "      <td>2022-08-01</td>\n",
       "      <td>16:00</td>\n",
       "      <td>26.6</td>\n",
       "      <td>1.3</td>\n",
       "      <td>40.0</td>\n",
       "      <td>1008.0</td>\n",
       "      <td>24.0</td>\n",
       "      <td>90.0</td>\n",
       "      <td>0.0</td>\n",
       "      <td>0.0</td>\n",
       "      <td>85.5</td>\n",
       "      <td>Nublado</td>\n",
       "    </tr>\n",
       "    <tr>\n",
       "      <th>77</th>\n",
       "      <td>5045000</td>\n",
       "      <td>7.883251</td>\n",
       "      <td>-76.625891</td>\n",
       "      <td>NaN</td>\n",
       "      <td>ANTIOQUIA</td>\n",
       "      <td>2022-08-01</td>\n",
       "      <td>17:00</td>\n",
       "      <td>25.4</td>\n",
       "      <td>1.5</td>\n",
       "      <td>54.5</td>\n",
       "      <td>1008.4</td>\n",
       "      <td>23.6</td>\n",
       "      <td>90.0</td>\n",
       "      <td>0.0</td>\n",
       "      <td>0.0</td>\n",
       "      <td>89.9</td>\n",
       "      <td>Nublado</td>\n",
       "    </tr>\n",
       "    <tr>\n",
       "      <th>78</th>\n",
       "      <td>5045000</td>\n",
       "      <td>7.883251</td>\n",
       "      <td>-76.625891</td>\n",
       "      <td>NaN</td>\n",
       "      <td>ANTIOQUIA</td>\n",
       "      <td>2022-08-01</td>\n",
       "      <td>18:00</td>\n",
       "      <td>24.4</td>\n",
       "      <td>1.2</td>\n",
       "      <td>73.9</td>\n",
       "      <td>1009.1</td>\n",
       "      <td>22.9</td>\n",
       "      <td>90.4</td>\n",
       "      <td>0.0</td>\n",
       "      <td>0.0</td>\n",
       "      <td>91.4</td>\n",
       "      <td>Nublado</td>\n",
       "    </tr>\n",
       "  </tbody>\n",
       "</table>\n",
       "<p>79 rows × 17 columns</p>\n",
       "</div>"
      ],
      "text/plain": [
       "    Cod_Div   Latitud   Longitud  Región Departamento       Fecha   Hora  \\\n",
       "0   5045000  7.883251 -76.625891     NaN    ANTIOQUIA  2022-07-29  12:00   \n",
       "1   5045000  7.883251 -76.625891     NaN    ANTIOQUIA  2022-07-29  13:00   \n",
       "2   5045000  7.883251 -76.625891     NaN    ANTIOQUIA  2022-07-29  14:00   \n",
       "3   5045000  7.883251 -76.625891     NaN    ANTIOQUIA  2022-07-29  15:00   \n",
       "4   5045000  7.883251 -76.625891     NaN    ANTIOQUIA  2022-07-29  16:00   \n",
       "..      ...       ...        ...     ...          ...         ...    ...   \n",
       "74  5045000  7.883251 -76.625891     NaN    ANTIOQUIA  2022-08-01  14:00   \n",
       "75  5045000  7.883251 -76.625891     NaN    ANTIOQUIA  2022-08-01  15:00   \n",
       "76  5045000  7.883251 -76.625891     NaN    ANTIOQUIA  2022-08-01  16:00   \n",
       "77  5045000  7.883251 -76.625891     NaN    ANTIOQUIA  2022-08-01  17:00   \n",
       "78  5045000  7.883251 -76.625891     NaN    ANTIOQUIA  2022-08-01  18:00   \n",
       "\n",
       "    Temperatura  Velocidad del Viento  Dirección del Viento Presión  \\\n",
       "0          29.0                   2.4                 357.7  1012.5   \n",
       "1          29.7                   2.7                 357.3  1011.5   \n",
       "2          30.2                   2.9                 343.9  1010.3   \n",
       "3          30.3                   3.1                 343.5  1009.6   \n",
       "4          29.9                   3.1                 350.0  1008.6   \n",
       "..          ...                   ...                   ...     ...   \n",
       "74         27.5                   0.9                 281.8  1009.2   \n",
       "75         27.5                   0.9                 321.2  1008.6   \n",
       "76         26.6                   1.3                  40.0  1008.0   \n",
       "77         25.4                   1.5                  54.5  1008.4   \n",
       "78         24.4                   1.2                  73.9  1009.1   \n",
       "\n",
       "   Punto de Rocío  Cobertura total nubosa  Precipitación (mm/h)  \\\n",
       "0            21.7                    70.0                   0.0   \n",
       "1            21.1                    68.9                   0.0   \n",
       "2            21.5                    70.0                   0.5   \n",
       "3            23.0                    80.0                   1.0   \n",
       "4            23.8                    80.0                   1.5   \n",
       "..            ...                     ...                   ...   \n",
       "74           21.4                    80.0                   0.0   \n",
       "75           21.7                    90.0                   0.0   \n",
       "76           24.0                    90.0                   0.0   \n",
       "77           23.6                    90.0                   0.0   \n",
       "78           22.9                    90.4                   0.0   \n",
       "\n",
       "    Probabilidad de Tormenta Humedad                           Pronóstico   \n",
       "0                        0.0    64.7                  Parcialmente Nublado  \n",
       "1                        0.0    60.2                  Parcialmente Nublado  \n",
       "2                        0.0    59.8  Parcialmente Nublado - Lluvia Fuerte  \n",
       "3                        0.0    65.0                      Nublado - Lluvia  \n",
       "4                        0.0    69.5                      Nublado - Lluvia  \n",
       "..                       ...     ...                                   ...  \n",
       "74                       0.0    69.6                               Nublado  \n",
       "75                       0.0    70.9                               Nublado  \n",
       "76                       0.0    85.5                               Nublado  \n",
       "77                       0.0    89.9                               Nublado  \n",
       "78                       0.0    91.4                               Nublado  \n",
       "\n",
       "[79 rows x 17 columns]"
      ]
     },
     "execution_count": 2,
     "metadata": {},
     "output_type": "execute_result"
    }
   ],
   "source": [
    "import pandas as pd \n",
    "apartado = pd.read_csv('APARTADÓ.csv', encoding = 'latin-1')\n",
    "apartado # muestreme el DataFrame o la información global de manera bonita"
   ]
  },
  {
   "cell_type": "markdown",
   "id": "6aa92986",
   "metadata": {
    "slideshow": {
     "slide_type": "slide"
    }
   },
   "source": [
    "Regresión es construir un modelo para predecir valores de un atributo cuantitativo generalmente continuo. \n",
    "Los datos de edad pueden utiliuzarse para predecir el valor de estatura en las personas. "
   ]
  },
  {
   "cell_type": "code",
   "execution_count": 3,
   "id": "0557f36f",
   "metadata": {
    "slideshow": {
     "slide_type": "slide"
    }
   },
   "outputs": [
    {
     "data": {
      "text/plain": [
       "Index(['Cod_Div', 'Latitud', 'Longitud', 'Región', 'Departamento', 'Fecha',\n",
       "       'Hora', 'Temperatura', 'Velocidad del Viento', 'Dirección del Viento',\n",
       "       'Presión', 'Punto de Rocío', 'Cobertura total nubosa',\n",
       "       'Precipitación (mm/h)', 'Probabilidad de Tormenta', 'Humedad',\n",
       "       'Pronóstico '],\n",
       "      dtype='object')"
      ]
     },
     "execution_count": 3,
     "metadata": {},
     "output_type": "execute_result"
    }
   ],
   "source": [
    "apartado.keys() "
   ]
  },
  {
   "cell_type": "code",
   "execution_count": 7,
   "id": "462244a2",
   "metadata": {
    "slideshow": {
     "slide_type": "slide"
    }
   },
   "outputs": [
    {
     "data": {
      "text/plain": [
       "<AxesSubplot:ylabel='Frequency'>"
      ]
     },
     "execution_count": 7,
     "metadata": {},
     "output_type": "execute_result"
    },
    {
     "data": {
      "image/png": "[encoded data removed]",
      "text/plain": [
       "<Figure size 432x288 with 1 Axes>"
      ]
     },
     "metadata": {
      "needs_background": "light"
     },
     "output_type": "display_data"
    }
   ],
   "source": [
    "apartado['Precipitación (mm/h)'].plot(kind = 'hist', bins = 7) "
   ]
  },
  {
   "cell_type": "code",
   "execution_count": null,
   "id": "01b2838e",
   "metadata": {
    "slideshow": {
     "slide_type": "slide"
    }
   },
   "outputs": [],
   "source": []
  },
  {
   "cell_type": "code",
   "execution_count": null,
   "id": "79f844dc",
   "metadata": {},
   "outputs": [],
   "source": []
  },
  {
   "cell_type": "code",
   "execution_count": null,
   "id": "6bee0c8b",
   "metadata": {},
   "outputs": [],
   "source": []
  },
  {
   "cell_type": "code",
   "execution_count": null,
   "id": "0151fbaf",
   "metadata": {},
   "outputs": [],
   "source": []
  },
  {
   "cell_type": "code",
   "execution_count": null,
   "id": "5b1bea1e",
   "metadata": {},
   "outputs": [],
   "source": []
  },
  {
   "cell_type": "code",
   "execution_count": null,
   "id": "28e3be22",
   "metadata": {},
   "outputs": [],
   "source": []
  },
  {
   "cell_type": "code",
   "execution_count": null,
   "id": "e88b6e85",
   "metadata": {},
   "outputs": [],
   "source": []
  },
  {
   "cell_type": "code",
   "execution_count": null,
   "id": "a908fffd",
   "metadata": {},
   "outputs": [],
   "source": []
  },
  {
   "cell_type": "code",
   "execution_count": null,
   "id": "5f7eec3c",
   "metadata": {},
   "outputs": [],
   "source": []
  },
  {
   "cell_type": "code",
   "execution_count": null,
   "id": "00c7d9bd",
   "metadata": {},
   "outputs": [],
   "source": []
  },
  {
   "cell_type": "code",
   "execution_count": null,
   "id": "761d0bd0",
   "metadata": {},
   "outputs": [],
   "source": []
  }
 ],
 "metadata": {
  "celltoolbar": "Slideshow",
  "kernelspec": {
   "display_name": "Python 3 (ipykernel)",
   "language": "python",
   "name": "python3"
  },
  "language_info": {
   "codemirror_mode": {
    "name": "ipython",
    "version": 3
   },
   "file_extension": ".py",
   "mimetype": "text/x-python",
   "name": "python",
   "nbconvert_exporter": "python",
   "pygments_lexer": "ipython3",
   "version": "3.9.12"
  }
 },
 "nbformat": 4,
 "nbformat_minor": 5
}
