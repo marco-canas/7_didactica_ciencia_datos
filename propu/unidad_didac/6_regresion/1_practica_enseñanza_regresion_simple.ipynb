{
 "cells": [
  {
   "cell_type": "markdown",
   "metadata": {},
   "source": [
    "# Diseño inicial de unidad didáctica sobre regresión lineal ordinaria"
   ]
  },
  {
   "cell_type": "markdown",
   "metadata": {},
   "source": [
    "### Objetivos\n",
    "* Mostrar la potencialidad de Pandas para el procesamiento de un dataset. \n",
    "* Verificar que cuando se aumenta la cantidad de características se tiende a tener overfitting (Muller, página 50) y un bajo rendimiento en los datos de testeo. \n",
    "* Mostrar las representaciones geométricas de la regresión lineal para 1 y 2 características.\n",
    "* Mostrar que el aumento dimensional (aumento del número de características) mejora el ajuste sobre los datos de entrenamiento.  \n",
    "* Verificar que la dimensión del problema de regresión es un problema para la modelación. "
   ]
  },
  {
   "cell_type": "code",
   "execution_count": null,
   "metadata": {},
   "outputs": [],
   "source": []
  },
  {
   "cell_type": "code",
   "execution_count": 1,
   "metadata": {},
   "outputs": [],
   "source": [
    "import numpy as np \n",
    "import matplotlib.pyplot as plt \n",
    "import seaborn as sns \n",
    "import pandas as pd "
   ]
  },
  {
   "cell_type": "code",
   "execution_count": 2,
   "metadata": {},
   "outputs": [
    {
     "data": {
      "text/html": [
       "<div>\n",
       "<style scoped>\n",
       "    .dataframe tbody tr th:only-of-type {\n",
       "        vertical-align: middle;\n",
       "    }\n",
       "\n",
       "    .dataframe tbody tr th {\n",
       "        vertical-align: top;\n",
       "    }\n",
       "\n",
       "    .dataframe thead th {\n",
       "        text-align: right;\n",
       "    }\n",
       "</style>\n",
       "<table border=\"1\" class=\"dataframe\">\n",
       "  <thead>\n",
       "    <tr style=\"text-align: right;\">\n",
       "      <th></th>\n",
       "      <th>State</th>\n",
       "      <th>Total Cases</th>\n",
       "      <th>Total Deaths</th>\n",
       "      <th>Total Recovered</th>\n",
       "      <th>Active Cases</th>\n",
       "      <th>Total Cases/1 mil population</th>\n",
       "      <th>Death/1 mil population</th>\n",
       "      <th>Total Cases.1</th>\n",
       "      <th>Tests/1 mil population</th>\n",
       "      <th>Population</th>\n",
       "    </tr>\n",
       "  </thead>\n",
       "  <tbody>\n",
       "    <tr>\n",
       "      <td>0</td>\n",
       "      <td>California</td>\n",
       "      <td>3,803,789</td>\n",
       "      <td>63,190</td>\n",
       "      <td>2,065,555</td>\n",
       "      <td>1,675,044</td>\n",
       "      <td>96,269</td>\n",
       "      <td>1,599</td>\n",
       "      <td>67,789,152</td>\n",
       "      <td>1,715,650</td>\n",
       "      <td>39,512,223</td>\n",
       "    </tr>\n",
       "  </tbody>\n",
       "</table>\n",
       "</div>"
      ],
      "text/plain": [
       "        State Total Cases Total Deaths Total Recovered Active Cases  \\\n",
       "0  California   3,803,789       63,190       2,065,555    1,675,044   \n",
       "\n",
       "  Total Cases/1 mil population Death/1 mil population Total Cases.1  \\\n",
       "0                       96,269                  1,599    67,789,152   \n",
       "\n",
       "  Tests/1 mil population  Population  \n",
       "0              1,715,650  39,512,223  "
      ]
     },
     "execution_count": 2,
     "metadata": {},
     "output_type": "execute_result"
    }
   ],
   "source": [
    "df = pd.read_csv('USA_Covid_Data.csv') \n",
    "df.head(1)   "
   ]
  },
  {
   "cell_type": "code",
   "execution_count": 3,
   "metadata": {
    "scrolled": true
   },
   "outputs": [
    {
     "name": "stdout",
     "output_type": "stream",
     "text": [
      "<class 'pandas.core.frame.DataFrame'>\n",
      "RangeIndex: 50 entries, 0 to 49\n",
      "Data columns (total 10 columns):\n",
      "State                           50 non-null object\n",
      "Total Cases                     50 non-null object\n",
      "Total Deaths                    50 non-null object\n",
      "Total Recovered                 44 non-null object\n",
      "Active Cases                    44 non-null object\n",
      "Total Cases/1 mil population    50 non-null object\n",
      "Death/1 mil population          50 non-null object\n",
      "Total Cases.1                   50 non-null object\n",
      "Tests/1 mil population          50 non-null object\n",
      "Population                      50 non-null object\n",
      "dtypes: object(10)\n",
      "memory usage: 4.0+ KB\n"
     ]
    }
   ],
   "source": [
    "df.info() "
   ]
  },
  {
   "cell_type": "code",
   "execution_count": 24,
   "metadata": {},
   "outputs": [
    {
     "data": {
      "text/plain": [
       "(50, 6)"
      ]
     },
     "execution_count": 24,
     "metadata": {},
     "output_type": "execute_result"
    }
   ],
   "source": [
    "df.shape "
   ]
  },
  {
   "cell_type": "code",
   "execution_count": 4,
   "metadata": {
    "scrolled": true
   },
   "outputs": [
    {
     "data": {
      "text/plain": [
       "Index(['State', 'Total Cases', 'Total Deaths', 'Total Recovered',\n",
       "       'Active Cases', 'Total Cases/1 mil population',\n",
       "       'Death/1 mil population', 'Total Cases.1', 'Tests/1 mil population',\n",
       "       'Population'],\n",
       "      dtype='object')"
      ]
     },
     "execution_count": 4,
     "metadata": {},
     "output_type": "execute_result"
    }
   ],
   "source": [
    "df.keys() \n",
    "  "
   ]
  },
  {
   "cell_type": "code",
   "execution_count": 5,
   "metadata": {},
   "outputs": [],
   "source": [
    "df['Total Recovered'].replace({None:0}, inplace = True) \n",
    "df['Active Cases'].replace({None:0}, inplace = True) "
   ]
  },
  {
   "cell_type": "code",
   "execution_count": 6,
   "metadata": {},
   "outputs": [
    {
     "name": "stdout",
     "output_type": "stream",
     "text": [
      "<class 'pandas.core.frame.DataFrame'>\n",
      "RangeIndex: 50 entries, 0 to 49\n",
      "Data columns (total 10 columns):\n",
      "State                           50 non-null object\n",
      "Total Cases                     50 non-null object\n",
      "Total Deaths                    50 non-null object\n",
      "Total Recovered                 50 non-null object\n",
      "Active Cases                    50 non-null object\n",
      "Total Cases/1 mil population    50 non-null object\n",
      "Death/1 mil population          50 non-null object\n",
      "Total Cases.1                   50 non-null object\n",
      "Tests/1 mil population          50 non-null object\n",
      "Population                      50 non-null object\n",
      "dtypes: object(10)\n",
      "memory usage: 4.0+ KB\n"
     ]
    }
   ],
   "source": [
    "df.info() "
   ]
  },
  {
   "cell_type": "code",
   "execution_count": 7,
   "metadata": {},
   "outputs": [],
   "source": [
    "df.drop(['State','Total Cases/1 mil population', \n",
    "         'Death/1 mil population', 'Tests/1 mil population'], axis = 1, inplace = True)"
   ]
  },
  {
   "cell_type": "code",
   "execution_count": 8,
   "metadata": {},
   "outputs": [
    {
     "data": {
      "text/html": [
       "<div>\n",
       "<style scoped>\n",
       "    .dataframe tbody tr th:only-of-type {\n",
       "        vertical-align: middle;\n",
       "    }\n",
       "\n",
       "    .dataframe tbody tr th {\n",
       "        vertical-align: top;\n",
       "    }\n",
       "\n",
       "    .dataframe thead th {\n",
       "        text-align: right;\n",
       "    }\n",
       "</style>\n",
       "<table border=\"1\" class=\"dataframe\">\n",
       "  <thead>\n",
       "    <tr style=\"text-align: right;\">\n",
       "      <th></th>\n",
       "      <th>Total Cases</th>\n",
       "      <th>Total Deaths</th>\n",
       "      <th>Total Recovered</th>\n",
       "      <th>Active Cases</th>\n",
       "      <th>Total Cases.1</th>\n",
       "      <th>Population</th>\n",
       "    </tr>\n",
       "  </thead>\n",
       "  <tbody>\n",
       "    <tr>\n",
       "      <td>0</td>\n",
       "      <td>3803789</td>\n",
       "      <td>63190</td>\n",
       "      <td>2065555</td>\n",
       "      <td>1675044</td>\n",
       "      <td>67789152</td>\n",
       "      <td>39512223</td>\n",
       "    </tr>\n",
       "    <tr>\n",
       "      <td>1</td>\n",
       "      <td>2979334</td>\n",
       "      <td>52169</td>\n",
       "      <td>2871132</td>\n",
       "      <td>56033</td>\n",
       "      <td>31072035</td>\n",
       "      <td>28995881</td>\n",
       "    </tr>\n",
       "    <tr>\n",
       "      <td>2</td>\n",
       "      <td>2346153</td>\n",
       "      <td>37265</td>\n",
       "      <td>2009593</td>\n",
       "      <td>299295</td>\n",
       "      <td>30196902</td>\n",
       "      <td>21477737</td>\n",
       "    </tr>\n",
       "    <tr>\n",
       "      <td>3</td>\n",
       "      <td>2163931</td>\n",
       "      <td>53876</td>\n",
       "      <td>1822940</td>\n",
       "      <td>287115</td>\n",
       "      <td>57462737</td>\n",
       "      <td>19453561</td>\n",
       "    </tr>\n",
       "    <tr>\n",
       "      <td>4</td>\n",
       "      <td>1387760</td>\n",
       "      <td>25490</td>\n",
       "      <td>1332924</td>\n",
       "      <td>29346</td>\n",
       "      <td>25185883</td>\n",
       "      <td>12671821</td>\n",
       "    </tr>\n",
       "  </tbody>\n",
       "</table>\n",
       "</div>"
      ],
      "text/plain": [
       "  Total Cases Total Deaths Total Recovered Active Cases Total Cases.1  \\\n",
       "0     3803789        63190         2065555      1675044      67789152   \n",
       "1     2979334        52169         2871132        56033      31072035   \n",
       "2     2346153        37265         2009593       299295      30196902   \n",
       "3     2163931        53876         1822940       287115      57462737   \n",
       "4     1387760        25490         1332924        29346      25185883   \n",
       "\n",
       "  Population  \n",
       "0   39512223  \n",
       "1   28995881  \n",
       "2   21477737  \n",
       "3   19453561  \n",
       "4   12671821  "
      ]
     },
     "execution_count": 8,
     "metadata": {},
     "output_type": "execute_result"
    }
   ],
   "source": [
    "df.replace({',':''}, regex = True, inplace = True) \n",
    "df.head()"
   ]
  },
  {
   "cell_type": "code",
   "execution_count": 9,
   "metadata": {},
   "outputs": [
    {
     "name": "stdout",
     "output_type": "stream",
     "text": [
      "<class 'pandas.core.frame.DataFrame'>\n",
      "RangeIndex: 50 entries, 0 to 49\n",
      "Data columns (total 6 columns):\n",
      "Total Cases        50 non-null object\n",
      "Total Deaths       50 non-null object\n",
      "Total Recovered    50 non-null object\n",
      "Active Cases       50 non-null object\n",
      "Total Cases.1      50 non-null object\n",
      "Population         50 non-null object\n",
      "dtypes: object(6)\n",
      "memory usage: 2.5+ KB\n"
     ]
    }
   ],
   "source": [
    "df.info() "
   ]
  },
  {
   "cell_type": "code",
   "execution_count": 10,
   "metadata": {},
   "outputs": [],
   "source": [
    "for key in df.keys():\n",
    "    df[key] = df[key].astype('int64') "
   ]
  },
  {
   "cell_type": "code",
   "execution_count": 11,
   "metadata": {},
   "outputs": [
    {
     "name": "stdout",
     "output_type": "stream",
     "text": [
      "<class 'pandas.core.frame.DataFrame'>\n",
      "RangeIndex: 50 entries, 0 to 49\n",
      "Data columns (total 6 columns):\n",
      "Total Cases        50 non-null int64\n",
      "Total Deaths       50 non-null int64\n",
      "Total Recovered    50 non-null int64\n",
      "Active Cases       50 non-null int64\n",
      "Total Cases.1      50 non-null int64\n",
      "Population         50 non-null int64\n",
      "dtypes: int64(6)\n",
      "memory usage: 2.5 KB\n"
     ]
    }
   ],
   "source": [
    "df.info()  "
   ]
  },
  {
   "cell_type": "code",
   "execution_count": 12,
   "metadata": {},
   "outputs": [],
   "source": [
    "media_1 = df['Total Recovered'].values.sum()/44"
   ]
  },
  {
   "cell_type": "code",
   "execution_count": 13,
   "metadata": {},
   "outputs": [],
   "source": [
    "media_2 = df['Active Cases'].values.sum()/44"
   ]
  },
  {
   "cell_type": "code",
   "execution_count": 14,
   "metadata": {},
   "outputs": [
    {
     "data": {
      "text/html": [
       "<div>\n",
       "<style scoped>\n",
       "    .dataframe tbody tr th:only-of-type {\n",
       "        vertical-align: middle;\n",
       "    }\n",
       "\n",
       "    .dataframe tbody tr th {\n",
       "        vertical-align: top;\n",
       "    }\n",
       "\n",
       "    .dataframe thead th {\n",
       "        text-align: right;\n",
       "    }\n",
       "</style>\n",
       "<table border=\"1\" class=\"dataframe\">\n",
       "  <thead>\n",
       "    <tr style=\"text-align: right;\">\n",
       "      <th></th>\n",
       "      <th>Total Cases</th>\n",
       "      <th>Total Deaths</th>\n",
       "      <th>Total Recovered</th>\n",
       "      <th>Active Cases</th>\n",
       "      <th>Total Cases.1</th>\n",
       "      <th>Population</th>\n",
       "    </tr>\n",
       "  </thead>\n",
       "  <tbody>\n",
       "    <tr>\n",
       "      <td>count</td>\n",
       "      <td>5.000000e+01</td>\n",
       "      <td>50.000000</td>\n",
       "      <td>5.000000e+01</td>\n",
       "      <td>5.000000e+01</td>\n",
       "      <td>5.000000e+01</td>\n",
       "      <td>5.000000e+01</td>\n",
       "    </tr>\n",
       "    <tr>\n",
       "      <td>mean</td>\n",
       "      <td>6.670756e+05</td>\n",
       "      <td>11942.620000</td>\n",
       "      <td>5.181720e+05</td>\n",
       "      <td>9.704058e+04</td>\n",
       "      <td>9.770832e+06</td>\n",
       "      <td>6.550675e+06</td>\n",
       "    </tr>\n",
       "    <tr>\n",
       "      <td>std</td>\n",
       "      <td>7.515843e+05</td>\n",
       "      <td>14076.884542</td>\n",
       "      <td>6.264768e+05</td>\n",
       "      <td>2.616604e+05</td>\n",
       "      <td>1.312065e+07</td>\n",
       "      <td>7.389282e+06</td>\n",
       "    </tr>\n",
       "    <tr>\n",
       "      <td>min</td>\n",
       "      <td>2.433100e+04</td>\n",
       "      <td>256.000000</td>\n",
       "      <td>0.000000e+00</td>\n",
       "      <td>0.000000e+00</td>\n",
       "      <td>4.433020e+05</td>\n",
       "      <td>5.787590e+05</td>\n",
       "    </tr>\n",
       "    <tr>\n",
       "      <td>25%</td>\n",
       "      <td>1.963750e+05</td>\n",
       "      <td>2422.750000</td>\n",
       "      <td>7.184400e+04</td>\n",
       "      <td>1.241750e+03</td>\n",
       "      <td>2.800586e+06</td>\n",
       "      <td>1.827712e+06</td>\n",
       "    </tr>\n",
       "    <tr>\n",
       "      <td>50%</td>\n",
       "      <td>4.581045e+05</td>\n",
       "      <td>7339.500000</td>\n",
       "      <td>3.085180e+05</td>\n",
       "      <td>6.808000e+03</td>\n",
       "      <td>5.066902e+06</td>\n",
       "      <td>4.558234e+06</td>\n",
       "    </tr>\n",
       "    <tr>\n",
       "      <td>75%</td>\n",
       "      <td>8.361968e+05</td>\n",
       "      <td>13632.500000</td>\n",
       "      <td>8.185410e+05</td>\n",
       "      <td>5.353875e+04</td>\n",
       "      <td>1.065243e+07</td>\n",
       "      <td>7.530849e+06</td>\n",
       "    </tr>\n",
       "    <tr>\n",
       "      <td>max</td>\n",
       "      <td>3.803789e+06</td>\n",
       "      <td>63190.000000</td>\n",
       "      <td>2.871132e+06</td>\n",
       "      <td>1.675044e+06</td>\n",
       "      <td>6.778915e+07</td>\n",
       "      <td>3.951222e+07</td>\n",
       "    </tr>\n",
       "  </tbody>\n",
       "</table>\n",
       "</div>"
      ],
      "text/plain": [
       "        Total Cases  Total Deaths  Total Recovered  Active Cases  \\\n",
       "count  5.000000e+01     50.000000     5.000000e+01  5.000000e+01   \n",
       "mean   6.670756e+05  11942.620000     5.181720e+05  9.704058e+04   \n",
       "std    7.515843e+05  14076.884542     6.264768e+05  2.616604e+05   \n",
       "min    2.433100e+04    256.000000     0.000000e+00  0.000000e+00   \n",
       "25%    1.963750e+05   2422.750000     7.184400e+04  1.241750e+03   \n",
       "50%    4.581045e+05   7339.500000     3.085180e+05  6.808000e+03   \n",
       "75%    8.361968e+05  13632.500000     8.185410e+05  5.353875e+04   \n",
       "max    3.803789e+06  63190.000000     2.871132e+06  1.675044e+06   \n",
       "\n",
       "       Total Cases.1    Population  \n",
       "count   5.000000e+01  5.000000e+01  \n",
       "mean    9.770832e+06  6.550675e+06  \n",
       "std     1.312065e+07  7.389282e+06  \n",
       "min     4.433020e+05  5.787590e+05  \n",
       "25%     2.800586e+06  1.827712e+06  \n",
       "50%     5.066902e+06  4.558234e+06  \n",
       "75%     1.065243e+07  7.530849e+06  \n",
       "max     6.778915e+07  3.951222e+07  "
      ]
     },
     "execution_count": 14,
     "metadata": {},
     "output_type": "execute_result"
    }
   ],
   "source": [
    "df.describe() "
   ]
  },
  {
   "cell_type": "code",
   "execution_count": 15,
   "metadata": {},
   "outputs": [],
   "source": [
    "df['Total Recovered'].replace({0:media_1}, inplace = True) \n",
    "df['Active Cases'].replace({0:media_2}, inplace = True) "
   ]
  },
  {
   "cell_type": "code",
   "execution_count": 16,
   "metadata": {},
   "outputs": [
    {
     "data": {
      "text/html": [
       "<div>\n",
       "<style scoped>\n",
       "    .dataframe tbody tr th:only-of-type {\n",
       "        vertical-align: middle;\n",
       "    }\n",
       "\n",
       "    .dataframe tbody tr th {\n",
       "        vertical-align: top;\n",
       "    }\n",
       "\n",
       "    .dataframe thead th {\n",
       "        text-align: right;\n",
       "    }\n",
       "</style>\n",
       "<table border=\"1\" class=\"dataframe\">\n",
       "  <thead>\n",
       "    <tr style=\"text-align: right;\">\n",
       "      <th></th>\n",
       "      <th>Total Cases</th>\n",
       "      <th>Total Deaths</th>\n",
       "      <th>Total Recovered</th>\n",
       "      <th>Active Cases</th>\n",
       "      <th>Total Cases.1</th>\n",
       "      <th>Population</th>\n",
       "    </tr>\n",
       "  </thead>\n",
       "  <tbody>\n",
       "    <tr>\n",
       "      <td>count</td>\n",
       "      <td>5.000000e+01</td>\n",
       "      <td>50.000000</td>\n",
       "      <td>5.000000e+01</td>\n",
       "      <td>5.000000e+01</td>\n",
       "      <td>5.000000e+01</td>\n",
       "      <td>5.000000e+01</td>\n",
       "    </tr>\n",
       "    <tr>\n",
       "      <td>mean</td>\n",
       "      <td>6.670756e+05</td>\n",
       "      <td>11942.620000</td>\n",
       "      <td>5.888318e+05</td>\n",
       "      <td>1.102734e+05</td>\n",
       "      <td>9.770832e+06</td>\n",
       "      <td>6.550675e+06</td>\n",
       "    </tr>\n",
       "    <tr>\n",
       "      <td>std</td>\n",
       "      <td>7.515843e+05</td>\n",
       "      <td>14076.884542</td>\n",
       "      <td>5.959128e+05</td>\n",
       "      <td>2.591445e+05</td>\n",
       "      <td>1.312065e+07</td>\n",
       "      <td>7.389282e+06</td>\n",
       "    </tr>\n",
       "    <tr>\n",
       "      <td>min</td>\n",
       "      <td>2.433100e+04</td>\n",
       "      <td>256.000000</td>\n",
       "      <td>9.358000e+03</td>\n",
       "      <td>1.750000e+02</td>\n",
       "      <td>4.433020e+05</td>\n",
       "      <td>5.787590e+05</td>\n",
       "    </tr>\n",
       "    <tr>\n",
       "      <td>25%</td>\n",
       "      <td>1.963750e+05</td>\n",
       "      <td>2422.750000</td>\n",
       "      <td>1.309892e+05</td>\n",
       "      <td>2.811500e+03</td>\n",
       "      <td>2.800586e+06</td>\n",
       "      <td>1.827712e+06</td>\n",
       "    </tr>\n",
       "    <tr>\n",
       "      <td>50%</td>\n",
       "      <td>4.581045e+05</td>\n",
       "      <td>7339.500000</td>\n",
       "      <td>4.424095e+05</td>\n",
       "      <td>2.285850e+04</td>\n",
       "      <td>5.066902e+06</td>\n",
       "      <td>4.558234e+06</td>\n",
       "    </tr>\n",
       "    <tr>\n",
       "      <td>75%</td>\n",
       "      <td>8.361968e+05</td>\n",
       "      <td>13632.500000</td>\n",
       "      <td>8.185410e+05</td>\n",
       "      <td>1.102734e+05</td>\n",
       "      <td>1.065243e+07</td>\n",
       "      <td>7.530849e+06</td>\n",
       "    </tr>\n",
       "    <tr>\n",
       "      <td>max</td>\n",
       "      <td>3.803789e+06</td>\n",
       "      <td>63190.000000</td>\n",
       "      <td>2.871132e+06</td>\n",
       "      <td>1.675044e+06</td>\n",
       "      <td>6.778915e+07</td>\n",
       "      <td>3.951222e+07</td>\n",
       "    </tr>\n",
       "  </tbody>\n",
       "</table>\n",
       "</div>"
      ],
      "text/plain": [
       "        Total Cases  Total Deaths  Total Recovered  Active Cases  \\\n",
       "count  5.000000e+01     50.000000     5.000000e+01  5.000000e+01   \n",
       "mean   6.670756e+05  11942.620000     5.888318e+05  1.102734e+05   \n",
       "std    7.515843e+05  14076.884542     5.959128e+05  2.591445e+05   \n",
       "min    2.433100e+04    256.000000     9.358000e+03  1.750000e+02   \n",
       "25%    1.963750e+05   2422.750000     1.309892e+05  2.811500e+03   \n",
       "50%    4.581045e+05   7339.500000     4.424095e+05  2.285850e+04   \n",
       "75%    8.361968e+05  13632.500000     8.185410e+05  1.102734e+05   \n",
       "max    3.803789e+06  63190.000000     2.871132e+06  1.675044e+06   \n",
       "\n",
       "       Total Cases.1    Population  \n",
       "count   5.000000e+01  5.000000e+01  \n",
       "mean    9.770832e+06  6.550675e+06  \n",
       "std     1.312065e+07  7.389282e+06  \n",
       "min     4.433020e+05  5.787590e+05  \n",
       "25%     2.800586e+06  1.827712e+06  \n",
       "50%     5.066902e+06  4.558234e+06  \n",
       "75%     1.065243e+07  7.530849e+06  \n",
       "max     6.778915e+07  3.951222e+07  "
      ]
     },
     "execution_count": 16,
     "metadata": {},
     "output_type": "execute_result"
    }
   ],
   "source": [
    "df.describe() "
   ]
  },
  {
   "cell_type": "markdown",
   "metadata": {},
   "source": [
    "### pandas.DataFrame.astype"
   ]
  },
  {
   "cell_type": "markdown",
   "metadata": {},
   "source": [
    "\n",
    "`DataFrame.astype(dtype, copy=True, errors='raise')`"
   ]
  },
  {
   "cell_type": "markdown",
   "metadata": {
    "lang": "en"
   },
   "source": [
    "Cast a pandas object to a specified dtype dtype."
   ]
  },
  {
   "cell_type": "markdown",
   "metadata": {
    "lang": "es"
   },
   "source": [
    "\n",
    "\n",
    "Trasforma un objeto pandas a un dtype especificado. "
   ]
  },
  {
   "cell_type": "markdown",
   "metadata": {},
   "source": [
    "[pandas.isnull](https://pandas.pydata.org/pandas-docs/stable/reference/api/pandas.isnull.html) "
   ]
  },
  {
   "cell_type": "markdown",
   "metadata": {},
   "source": [
    "[pandas.DataFrame.replace](https://pandas.pydata.org/docs/reference/api/pandas.DataFrame.replace.html)"
   ]
  },
  {
   "cell_type": "code",
   "execution_count": 17,
   "metadata": {},
   "outputs": [
    {
     "data": {
      "text/plain": [
       "array([63190, 52169, 37265], dtype=int64)"
      ]
     },
     "execution_count": 17,
     "metadata": {},
     "output_type": "execute_result"
    }
   ],
   "source": [
    "y = df['Total Deaths'].values\n",
    "# int para menos requerimiento de recursos computacionales\n",
    "y[:3] "
   ]
  },
  {
   "cell_type": "code",
   "execution_count": 18,
   "metadata": {},
   "outputs": [
    {
     "data": {
      "text/plain": [
       "array([[39512223],\n",
       "       [28995881],\n",
       "       [21477737]], dtype=int64)"
      ]
     },
     "execution_count": 18,
     "metadata": {},
     "output_type": "execute_result"
    }
   ],
   "source": [
    "X1 = df['Population'].values.reshape(-1,1)\n",
    "X1[:3,:]"
   ]
  },
  {
   "cell_type": "markdown",
   "metadata": {},
   "source": [
    "# Modelo de regresión lineal ordenaria con una característica"
   ]
  },
  {
   "cell_type": "code",
   "execution_count": 19,
   "metadata": {},
   "outputs": [
    {
     "data": {
      "text/plain": [
       "(0.9257331156288036, 0.763061618529375)"
      ]
     },
     "execution_count": 19,
     "metadata": {},
     "output_type": "execute_result"
    }
   ],
   "source": [
    "y = df['Total Deaths'].values\n",
    "X1 = df['Population'].values.reshape(-1,1) \n",
    "from sklearn.model_selection import train_test_split\n",
    "from sklearn.linear_model import LinearRegression \n",
    "X_train,X_test,y_train,y_test = train_test_split(X1,y, random_state=702) \n",
    "reg_1 = LinearRegression()\n",
    "reg_1.fit(X_train,y_train) \n",
    "reg_1.score(X_train, y_train),reg_1.score(X_test, y_test) "
   ]
  },
  {
   "cell_type": "code",
   "execution_count": 20,
   "metadata": {},
   "outputs": [
    {
     "data": {
      "text/plain": [
       "[<matplotlib.lines.Line2D at 0x2b3b9afdc88>]"
      ]
     },
     "execution_count": 20,
     "metadata": {},
     "output_type": "execute_result"
    },
    {
     "data": {
      "image/png": "[encoded data removed]",
      "text/plain": [
       "<Figure size 432x288 with 1 Axes>"
      ]
     },
     "metadata": {
      "needs_background": "light"
     },
     "output_type": "display_data"
    }
   ],
   "source": [
    "plt.scatter(X_train,y_train) \n",
    "plt.scatter(X_test,y_test) \n",
    "plt.plot(X1, reg_1.coef_*X1 + reg_1.intercept_, c = 'red')"
   ]
  },
  {
   "cell_type": "markdown",
   "metadata": {},
   "source": [
    "## Gráfico de la función MSE(w) "
   ]
  },
  {
   "cell_type": "code",
   "execution_count": null,
   "metadata": {},
   "outputs": [],
   "source": [
    "reg_1.coef_ "
   ]
  },
  {
   "cell_type": "code",
   "execution_count": null,
   "metadata": {},
   "outputs": [],
   "source": [
    "y_test.shape  "
   ]
  },
  {
   "cell_type": "code",
   "execution_count": null,
   "metadata": {},
   "outputs": [],
   "source": [
    "reg_1.predict(X_test).shape "
   ]
  },
  {
   "cell_type": "code",
   "execution_count": null,
   "metadata": {},
   "outputs": [],
   "source": [
    "np.linspace(-1,1, len(X_test)).shape  "
   ]
  },
  {
   "cell_type": "code",
   "execution_count": null,
   "metadata": {},
   "outputs": [],
   "source": [
    "import numpy as np \n",
    "import matplotlib.pyplot as plt \n",
    "w = np.linspace(-1,1, len(X_test))\n",
    "MSE = np.mean((reg_1.predict(X_test) - y_test)**2)\n",
    "plt.plot(w,MSE) "
   ]
  },
  {
   "cell_type": "markdown",
   "metadata": {},
   "source": [
    "# Modelo de regresión lineal con dos características "
   ]
  },
  {
   "cell_type": "code",
   "execution_count": 21,
   "metadata": {},
   "outputs": [
    {
     "data": {
      "text/plain": [
       "(0.9568046941923909, 0.8170735556192896)"
      ]
     },
     "execution_count": 21,
     "metadata": {},
     "output_type": "execute_result"
    }
   ],
   "source": [
    "y = df['Total Deaths'].values\n",
    "X2 = df[['Population', 'Total Cases']].values.reshape(-1,2) \n",
    "from sklearn.model_selection import train_test_split\n",
    "from sklearn.linear_model import LinearRegression \n",
    "X_train, X_test, y_train, y_test = train_test_split(X2, y, random_state = 702) \n",
    "reg_2 = LinearRegression()\n",
    "reg_2.fit(X_train,y_train) \n",
    "reg_2.score(X_train, y_train),reg_2.score(X_test, y_test) "
   ]
  },
  {
   "cell_type": "markdown",
   "metadata": {},
   "source": [
    "## Gráfica en 3D\n",
    "[3D surface (colormap)](https://matplotlib.org/stable/gallery/mplot3d/surface3d.html)"
   ]
  },
  {
   "cell_type": "code",
   "execution_count": 22,
   "metadata": {},
   "outputs": [
    {
     "data": {
      "application/javascript": [
       "/* Put everything inside the global mpl namespace */\n",
       "window.mpl = {};\n",
       "\n",
       "\n",
       "mpl.get_websocket_type = function() {\n",
       "    if (typeof(WebSocket) !== 'undefined') {\n",
       "        return WebSocket;\n",
       "    } else if (typeof(MozWebSocket) !== 'undefined') {\n",
       "        return MozWebSocket;\n",
       "    } else {\n",
       "        alert('Your browser does not have WebSocket support. ' +\n",
       "              'Please try Chrome, Safari or Firefox ≥ 6. ' +\n",
       "              'Firefox 4 and 5 are also supported but you ' +\n",
       "              'have to enable WebSockets in about:config.');\n",
       "    };\n",
       "}\n",
       "\n",
       "mpl.figure = function(figure_id, websocket, ondownload, parent_element) {\n",
       "    this.id = figure_id;\n",
       "\n",
       "    this.ws = websocket;\n",
       "\n",
       "    this.supports_binary = (this.ws.binaryType != undefined);\n",
       "\n",
       "    if (!this.supports_binary) {\n",
       "        var warnings = document.getElementById(\"mpl-warnings\");\n",
       "        if (warnings) {\n",
       "            warnings.style.display = 'block';\n",
       "            warnings.textContent = (\n",
       "                \"This browser does not support binary websocket messages. \" +\n",
       "                    \"Performance may be slow.\");\n",
       "        }\n",
       "    }\n",
       "\n",
       "    this.imageObj = new Image();\n",
       "\n",
       "    this.context = undefined;\n",
       "    this.message = undefined;\n",
       "    this.canvas = undefined;\n",
       "    this.rubberband_canvas = undefined;\n",
       "    this.rubberband_context = undefined;\n",
       "    this.format_dropdown = undefined;\n",
       "\n",
       "    this.image_mode = 'full';\n",
       "\n",
       "    this.root = $('<div/>');\n",
       "    this._root_extra_style(this.root)\n",
       "    this.root.attr('style', 'display: inline-block');\n",
       "\n",
       "    $(parent_element).append(this.root);\n",
       "\n",
       "    this._init_header(this);\n",
       "    this._init_canvas(this);\n",
       "    this._init_toolbar(this);\n",
       "\n",
       "    var fig = this;\n",
       "\n",
       "    this.waiting = false;\n",
       "\n",
       "    this.ws.onopen =  function () {\n",
       "            fig.send_message(\"supports_binary\", {value: fig.supports_binary});\n",
       "            fig.send_message(\"send_image_mode\", {});\n",
       "            if (mpl.ratio != 1) {\n",
       "                fig.send_message(\"set_dpi_ratio\", {'dpi_ratio': mpl.ratio});\n",
       "            }\n",
       "            fig.send_message(\"refresh\", {});\n",
       "        }\n",
       "\n",
       "    this.imageObj.onload = function() {\n",
       "            if (fig.image_mode == 'full') {\n",
       "                // Full images could contain transparency (where diff images\n",
       "                // almost always do), so we need to clear the canvas so that\n",
       "                // there is no ghosting.\n",
       "                fig.context.clearRect(0, 0, fig.canvas.width, fig.canvas.height);\n",
       "            }\n",
       "            fig.context.drawImage(fig.imageObj, 0, 0);\n",
       "        };\n",
       "\n",
       "    this.imageObj.onunload = function() {\n",
       "        fig.ws.close();\n",
       "    }\n",
       "\n",
       "    this.ws.onmessage = this._make_on_message_function(this);\n",
       "\n",
       "    this.ondownload = ondownload;\n",
       "}\n",
       "\n",
       "mpl.figure.prototype._init_header = function() {\n",
       "    var titlebar = $(\n",
       "        '<div class=\"ui-dialog-titlebar ui-widget-header ui-corner-all ' +\n",
       "        'ui-helper-clearfix\"/>');\n",
       "    var titletext = $(\n",
       "        '<div class=\"ui-dialog-title\" style=\"width: 100%; ' +\n",
       "        'text-align: center; padding: 3px;\"/>');\n",
       "    titlebar.append(titletext)\n",
       "    this.root.append(titlebar);\n",
       "    this.header = titletext[0];\n",
       "}\n",
       "\n",
       "\n",
       "\n",
       "mpl.figure.prototype._canvas_extra_style = function(canvas_div) {\n",
       "\n",
       "}\n",
       "\n",
       "\n",
       "mpl.figure.prototype._root_extra_style = function(canvas_div) {\n",
       "\n",
       "}\n",
       "\n",
       "mpl.figure.prototype._init_canvas = function() {\n",
       "    var fig = this;\n",
       "\n",
       "    var canvas_div = $('<div/>');\n",
       "\n",
       "    canvas_div.attr('style', 'position: relative; clear: both; outline: 0');\n",
       "\n",
       "    function canvas_keyboard_event(event) {\n",
       "        return fig.key_event(event, event['data']);\n",
       "    }\n",
       "\n",
       "    canvas_div.keydown('key_press', canvas_keyboard_event);\n",
       "    canvas_div.keyup('key_release', canvas_keyboard_event);\n",
       "    this.canvas_div = canvas_div\n",
       "    this._canvas_extra_style(canvas_div)\n",
       "    this.root.append(canvas_div);\n",
       "\n",
       "    var canvas = $('<canvas/>');\n",
       "    canvas.addClass('mpl-canvas');\n",
       "    canvas.attr('style', \"left: 0; top: 0; z-index: 0; outline: 0\")\n",
       "\n",
       "    this.canvas = canvas[0];\n",
       "    this.context = canvas[0].getContext(\"2d\");\n",
       "\n",
       "    var backingStore = this.context.backingStorePixelRatio ||\n",
       "\tthis.context.webkitBackingStorePixelRatio ||\n",
       "\tthis.context.mozBackingStorePixelRatio ||\n",
       "\tthis.context.msBackingStorePixelRatio ||\n",
       "\tthis.context.oBackingStorePixelRatio ||\n",
       "\tthis.context.backingStorePixelRatio || 1;\n",
       "\n",
       "    mpl.ratio = (window.devicePixelRatio || 1) / backingStore;\n",
       "\n",
       "    var rubberband = $('<canvas/>');\n",
       "    rubberband.attr('style', \"position: absolute; left: 0; top: 0; z-index: 1;\")\n",
       "\n",
       "    var pass_mouse_events = true;\n",
       "\n",
       "    canvas_div.resizable({\n",
       "        start: function(event, ui) {\n",
       "            pass_mouse_events = false;\n",
       "        },\n",
       "        resize: function(event, ui) {\n",
       "            fig.request_resize(ui.size.width, ui.size.height);\n",
       "        },\n",
       "        stop: function(event, ui) {\n",
       "            pass_mouse_events = true;\n",
       "            fig.request_resize(ui.size.width, ui.size.height);\n",
       "        },\n",
       "    });\n",
       "\n",
       "    function mouse_event_fn(event) {\n",
       "        if (pass_mouse_events)\n",
       "            return fig.mouse_event(event, event['data']);\n",
       "    }\n",
       "\n",
       "    rubberband.mousedown('button_press', mouse_event_fn);\n",
       "    rubberband.mouseup('button_release', mouse_event_fn);\n",
       "    // Throttle sequential mouse events to 1 every 20ms.\n",
       "    rubberband.mousemove('motion_notify', mouse_event_fn);\n",
       "\n",
       "    rubberband.mouseenter('figure_enter', mouse_event_fn);\n",
       "    rubberband.mouseleave('figure_leave', mouse_event_fn);\n",
       "\n",
       "    canvas_div.on(\"wheel\", function (event) {\n",
       "        event = event.originalEvent;\n",
       "        event['data'] = 'scroll'\n",
       "        if (event.deltaY < 0) {\n",
       "            event.step = 1;\n",
       "        } else {\n",
       "            event.step = -1;\n",
       "        }\n",
       "        mouse_event_fn(event);\n",
       "    });\n",
       "\n",
       "    canvas_div.append(canvas);\n",
       "    canvas_div.append(rubberband);\n",
       "\n",
       "    this.rubberband = rubberband;\n",
       "    this.rubberband_canvas = rubberband[0];\n",
       "    this.rubberband_context = rubberband[0].getContext(\"2d\");\n",
       "    this.rubberband_context.strokeStyle = \"#000000\";\n",
       "\n",
       "    this._resize_canvas = function(width, height) {\n",
       "        // Keep the size of the canvas, canvas container, and rubber band\n",
       "        // canvas in synch.\n",
       "        canvas_div.css('width', width)\n",
       "        canvas_div.css('height', height)\n",
       "\n",
       "        canvas.attr('width', width * mpl.ratio);\n",
       "        canvas.attr('height', height * mpl.ratio);\n",
       "        canvas.attr('style', 'width: ' + width + 'px; height: ' + height + 'px;');\n",
       "\n",
       "        rubberband.attr('width', width);\n",
       "        rubberband.attr('height', height);\n",
       "    }\n",
       "\n",
       "    // Set the figure to an initial 600x600px, this will subsequently be updated\n",
       "    // upon first draw.\n",
       "    this._resize_canvas(600, 600);\n",
       "\n",
       "    // Disable right mouse context menu.\n",
       "    $(this.rubberband_canvas).bind(\"contextmenu\",function(e){\n",
       "        return false;\n",
       "    });\n",
       "\n",
       "    function set_focus () {\n",
       "        canvas.focus();\n",
       "        canvas_div.focus();\n",
       "    }\n",
       "\n",
       "    window.setTimeout(set_focus, 100);\n",
       "}\n",
       "\n",
       "mpl.figure.prototype._init_toolbar = function() {\n",
       "    var fig = this;\n",
       "\n",
       "    var nav_element = $('<div/>');\n",
       "    nav_element.attr('style', 'width: 100%');\n",
       "    this.root.append(nav_element);\n",
       "\n",
       "    // Define a callback function for later on.\n",
       "    function toolbar_event(event) {\n",
       "        return fig.toolbar_button_onclick(event['data']);\n",
       "    }\n",
       "    function toolbar_mouse_event(event) {\n",
       "        return fig.toolbar_button_onmouseover(event['data']);\n",
       "    }\n",
       "\n",
       "    for(var toolbar_ind in mpl.toolbar_items) {\n",
       "        var name = mpl.toolbar_items[toolbar_ind][0];\n",
       "        var tooltip = mpl.toolbar_items[toolbar_ind][1];\n",
       "        var image = mpl.toolbar_items[toolbar_ind][2];\n",
       "        var method_name = mpl.toolbar_items[toolbar_ind][3];\n",
       "\n",
       "        if (!name) {\n",
       "            // put a spacer in here.\n",
       "            continue;\n",
       "        }\n",
       "        var button = $('<button/>');\n",
       "        button.addClass('ui-button ui-widget ui-state-default ui-corner-all ' +\n",
       "                        'ui-button-icon-only');\n",
       "        button.attr('role', 'button');\n",
       "        button.attr('aria-disabled', 'false');\n",
       "        button.click(method_name, toolbar_event);\n",
       "        button.mouseover(tooltip, toolbar_mouse_event);\n",
       "\n",
       "        var icon_img = $('<span/>');\n",
       "        icon_img.addClass('ui-button-icon-primary ui-icon');\n",
       "        icon_img.addClass(image);\n",
       "        icon_img.addClass('ui-corner-all');\n",
       "\n",
       "        var tooltip_span = $('<span/>');\n",
       "        tooltip_span.addClass('ui-button-text');\n",
       "        tooltip_span.html(tooltip);\n",
       "\n",
       "        button.append(icon_img);\n",
       "        button.append(tooltip_span);\n",
       "\n",
       "        nav_element.append(button);\n",
       "    }\n",
       "\n",
       "    var fmt_picker_span = $('<span/>');\n",
       "\n",
       "    var fmt_picker = $('<select/>');\n",
       "    fmt_picker.addClass('mpl-toolbar-option ui-widget ui-widget-content');\n",
       "    fmt_picker_span.append(fmt_picker);\n",
       "    nav_element.append(fmt_picker_span);\n",
       "    this.format_dropdown = fmt_picker[0];\n",
       "\n",
       "    for (var ind in mpl.extensions) {\n",
       "        var fmt = mpl.extensions[ind];\n",
       "        var option = $(\n",
       "            '<option/>', {selected: fmt === mpl.default_extension}).html(fmt);\n",
       "        fmt_picker.append(option);\n",
       "    }\n",
       "\n",
       "    // Add hover states to the ui-buttons\n",
       "    $( \".ui-button\" ).hover(\n",
       "        function() { $(this).addClass(\"ui-state-hover\");},\n",
       "        function() { $(this).removeClass(\"ui-state-hover\");}\n",
       "    );\n",
       "\n",
       "    var status_bar = $('<span class=\"mpl-message\"/>');\n",
       "    nav_element.append(status_bar);\n",
       "    this.message = status_bar[0];\n",
       "}\n",
       "\n",
       "mpl.figure.prototype.request_resize = function(x_pixels, y_pixels) {\n",
       "    // Request matplotlib to resize the figure. Matplotlib will then trigger a resize in the client,\n",
       "    // which will in turn request a refresh of the image.\n",
       "    this.send_message('resize', {'width': x_pixels, 'height': y_pixels});\n",
       "}\n",
       "\n",
       "mpl.figure.prototype.send_message = function(type, properties) {\n",
       "    properties['type'] = type;\n",
       "    properties['figure_id'] = this.id;\n",
       "    this.ws.send(JSON.stringify(properties));\n",
       "}\n",
       "\n",
       "mpl.figure.prototype.send_draw_message = function() {\n",
       "    if (!this.waiting) {\n",
       "        this.waiting = true;\n",
       "        this.ws.send(JSON.stringify({type: \"draw\", figure_id: this.id}));\n",
       "    }\n",
       "}\n",
       "\n",
       "\n",
       "mpl.figure.prototype.handle_save = function(fig, msg) {\n",
       "    var format_dropdown = fig.format_dropdown;\n",
       "    var format = format_dropdown.options[format_dropdown.selectedIndex].value;\n",
       "    fig.ondownload(fig, format);\n",
       "}\n",
       "\n",
       "\n",
       "mpl.figure.prototype.handle_resize = function(fig, msg) {\n",
       "    var size = msg['size'];\n",
       "    if (size[0] != fig.canvas.width || size[1] != fig.canvas.height) {\n",
       "        fig._resize_canvas(size[0], size[1]);\n",
       "        fig.send_message(\"refresh\", {});\n",
       "    };\n",
       "}\n",
       "\n",
       "mpl.figure.prototype.handle_rubberband = function(fig, msg) {\n",
       "    var x0 = msg['x0'] / mpl.ratio;\n",
       "    var y0 = (fig.canvas.height - msg['y0']) / mpl.ratio;\n",
       "    var x1 = msg['x1'] / mpl.ratio;\n",
       "    var y1 = (fig.canvas.height - msg['y1']) / mpl.ratio;\n",
       "    x0 = Math.floor(x0) + 0.5;\n",
       "    y0 = Math.floor(y0) + 0.5;\n",
       "    x1 = Math.floor(x1) + 0.5;\n",
       "    y1 = Math.floor(y1) + 0.5;\n",
       "    var min_x = Math.min(x0, x1);\n",
       "    var min_y = Math.min(y0, y1);\n",
       "    var width = Math.abs(x1 - x0);\n",
       "    var height = Math.abs(y1 - y0);\n",
       "\n",
       "    fig.rubberband_context.clearRect(\n",
       "        0, 0, fig.canvas.width / mpl.ratio, fig.canvas.height / mpl.ratio);\n",
       "\n",
       "    fig.rubberband_context.strokeRect(min_x, min_y, width, height);\n",
       "}\n",
       "\n",
       "mpl.figure.prototype.handle_figure_label = function(fig, msg) {\n",
       "    // Updates the figure title.\n",
       "    fig.header.textContent = msg['label'];\n",
       "}\n",
       "\n",
       "mpl.figure.prototype.handle_cursor = function(fig, msg) {\n",
       "    var cursor = msg['cursor'];\n",
       "    switch(cursor)\n",
       "    {\n",
       "    case 0:\n",
       "        cursor = 'pointer';\n",
       "        break;\n",
       "    case 1:\n",
       "        cursor = 'default';\n",
       "        break;\n",
       "    case 2:\n",
       "        cursor = 'crosshair';\n",
       "        break;\n",
       "    case 3:\n",
       "        cursor = 'move';\n",
       "        break;\n",
       "    }\n",
       "    fig.rubberband_canvas.style.cursor = cursor;\n",
       "}\n",
       "\n",
       "mpl.figure.prototype.handle_message = function(fig, msg) {\n",
       "    fig.message.textContent = msg['message'];\n",
       "}\n",
       "\n",
       "mpl.figure.prototype.handle_draw = function(fig, msg) {\n",
       "    // Request the server to send over a new figure.\n",
       "    fig.send_draw_message();\n",
       "}\n",
       "\n",
       "mpl.figure.prototype.handle_image_mode = function(fig, msg) {\n",
       "    fig.image_mode = msg['mode'];\n",
       "}\n",
       "\n",
       "mpl.figure.prototype.updated_canvas_event = function() {\n",
       "    // Called whenever the canvas gets updated.\n",
       "    this.send_message(\"ack\", {});\n",
       "}\n",
       "\n",
       "// A function to construct a web socket function for onmessage handling.\n",
       "// Called in the figure constructor.\n",
       "mpl.figure.prototype._make_on_message_function = function(fig) {\n",
       "    return function socket_on_message(evt) {\n",
       "        if (evt.data instanceof Blob) {\n",
       "            /* FIXME: We get \"Resource interpreted as Image but\n",
       "             * transferred with MIME type text/plain:\" errors on\n",
       "             * Chrome.  But how to set the MIME type?  It doesn't seem\n",
       "             * to be part of the websocket stream */\n",
       "            evt.data.type = \"image/png\";\n",
       "\n",
       "            /* Free the memory for the previous frames */\n",
       "            if (fig.imageObj.src) {\n",
       "                (window.URL || window.webkitURL).revokeObjectURL(\n",
       "                    fig.imageObj.src);\n",
       "            }\n",
       "\n",
       "            fig.imageObj.src = (window.URL || window.webkitURL).createObjectURL(\n",
       "                evt.data);\n",
       "            fig.updated_canvas_event();\n",
       "            fig.waiting = false;\n",
       "            return;\n",
       "        }\n",
       "        else if (typeof evt.data === 'string' && evt.data.slice(0, 21) == \"data:image/png;base64\") {\n",
       "            fig.imageObj.src = evt.data;\n",
       "            fig.updated_canvas_event();\n",
       "            fig.waiting = false;\n",
       "            return;\n",
       "        }\n",
       "\n",
       "        var msg = JSON.parse(evt.data);\n",
       "        var msg_type = msg['type'];\n",
       "\n",
       "        // Call the  \"handle_{type}\" callback, which takes\n",
       "        // the figure and JSON message as its only arguments.\n",
       "        try {\n",
       "            var callback = fig[\"handle_\" + msg_type];\n",
       "        } catch (e) {\n",
       "            console.log(\"No handler for the '\" + msg_type + \"' message type: \", msg);\n",
       "            return;\n",
       "        }\n",
       "\n",
       "        if (callback) {\n",
       "            try {\n",
       "                // console.log(\"Handling '\" + msg_type + \"' message: \", msg);\n",
       "                callback(fig, msg);\n",
       "            } catch (e) {\n",
       "                console.log(\"Exception inside the 'handler_\" + msg_type + \"' callback:\", e, e.stack, msg);\n",
       "            }\n",
       "        }\n",
       "    };\n",
       "}\n",
       "\n",
       "// from http://stackoverflow.com/questions/1114465/getting-mouse-location-in-canvas\n",
       "mpl.findpos = function(e) {\n",
       "    //this section is from http://www.quirksmode.org/js/events_properties.html\n",
       "    var targ;\n",
       "    if (!e)\n",
       "        e = window.event;\n",
       "    if (e.target)\n",
       "        targ = e.target;\n",
       "    else if (e.srcElement)\n",
       "        targ = e.srcElement;\n",
       "    if (targ.nodeType == 3) // defeat Safari bug\n",
       "        targ = targ.parentNode;\n",
       "\n",
       "    // jQuery normalizes the pageX and pageY\n",
       "    // pageX,Y are the mouse positions relative to the document\n",
       "    // offset() returns the position of the element relative to the document\n",
       "    var x = e.pageX - $(targ).offset().left;\n",
       "    var y = e.pageY - $(targ).offset().top;\n",
       "\n",
       "    return {\"x\": x, \"y\": y};\n",
       "};\n",
       "\n",
       "/*\n",
       " * return a copy of an object with only non-object keys\n",
       " * we need this to avoid circular references\n",
       " * http://stackoverflow.com/a/24161582/3208463\n",
       " */\n",
       "function simpleKeys (original) {\n",
       "  return Object.keys(original).reduce(function (obj, key) {\n",
       "    if (typeof original[key] !== 'object')\n",
       "        obj[key] = original[key]\n",
       "    return obj;\n",
       "  }, {});\n",
       "}\n",
       "\n",
       "mpl.figure.prototype.mouse_event = function(event, name) {\n",
       "    var canvas_pos = mpl.findpos(event)\n",
       "\n",
       "    if (name === 'button_press')\n",
       "    {\n",
       "        this.canvas.focus();\n",
       "        this.canvas_div.focus();\n",
       "    }\n",
       "\n",
       "    var x = canvas_pos.x * mpl.ratio;\n",
       "    var y = canvas_pos.y * mpl.ratio;\n",
       "\n",
       "    this.send_message(name, {x: x, y: y, button: event.button,\n",
       "                             step: event.step,\n",
       "                             guiEvent: simpleKeys(event)});\n",
       "\n",
       "    /* This prevents the web browser from automatically changing to\n",
       "     * the text insertion cursor when the button is pressed.  We want\n",
       "     * to control all of the cursor setting manually through the\n",
       "     * 'cursor' event from matplotlib */\n",
       "    event.preventDefault();\n",
       "    return false;\n",
       "}\n",
       "\n",
       "mpl.figure.prototype._key_event_extra = function(event, name) {\n",
       "    // Handle any extra behaviour associated with a key event\n",
       "}\n",
       "\n",
       "mpl.figure.prototype.key_event = function(event, name) {\n",
       "\n",
       "    // Prevent repeat events\n",
       "    if (name == 'key_press')\n",
       "    {\n",
       "        if (event.which === this._key)\n",
       "            return;\n",
       "        else\n",
       "            this._key = event.which;\n",
       "    }\n",
       "    if (name == 'key_release')\n",
       "        this._key = null;\n",
       "\n",
       "    var value = '';\n",
       "    if (event.ctrlKey && event.which != 17)\n",
       "        value += \"ctrl+\";\n",
       "    if (event.altKey && event.which != 18)\n",
       "        value += \"alt+\";\n",
       "    if (event.shiftKey && event.which != 16)\n",
       "        value += \"shift+\";\n",
       "\n",
       "    value += 'k';\n",
       "    value += event.which.toString();\n",
       "\n",
       "    this._key_event_extra(event, name);\n",
       "\n",
       "    this.send_message(name, {key: value,\n",
       "                             guiEvent: simpleKeys(event)});\n",
       "    return false;\n",
       "}\n",
       "\n",
       "mpl.figure.prototype.toolbar_button_onclick = function(name) {\n",
       "    if (name == 'download') {\n",
       "        this.handle_save(this, null);\n",
       "    } else {\n",
       "        this.send_message(\"toolbar_button\", {name: name});\n",
       "    }\n",
       "};\n",
       "\n",
       "mpl.figure.prototype.toolbar_button_onmouseover = function(tooltip) {\n",
       "    this.message.textContent = tooltip;\n",
       "};\n",
       "mpl.toolbar_items = [[\"Home\", \"Reset original view\", \"fa fa-home icon-home\", \"home\"], [\"Back\", \"Back to previous view\", \"fa fa-arrow-left icon-arrow-left\", \"back\"], [\"Forward\", \"Forward to next view\", \"fa fa-arrow-right icon-arrow-right\", \"forward\"], [\"\", \"\", \"\", \"\"], [\"Pan\", \"Pan axes with left mouse, zoom with right\", \"fa fa-arrows icon-move\", \"pan\"], [\"Zoom\", \"Zoom to rectangle\", \"fa fa-square-o icon-check-empty\", \"zoom\"], [\"\", \"\", \"\", \"\"], [\"Download\", \"Download plot\", \"fa fa-floppy-o icon-save\", \"download\"]];\n",
       "\n",
       "mpl.extensions = [\"eps\", \"jpeg\", \"pdf\", \"png\", \"ps\", \"raw\", \"svg\", \"tif\"];\n",
       "\n",
       "mpl.default_extension = \"png\";var comm_websocket_adapter = function(comm) {\n",
       "    // Create a \"websocket\"-like object which calls the given IPython comm\n",
       "    // object with the appropriate methods. Currently this is a non binary\n",
       "    // socket, so there is still some room for performance tuning.\n",
       "    var ws = {};\n",
       "\n",
       "    ws.close = function() {\n",
       "        comm.close()\n",
       "    };\n",
       "    ws.send = function(m) {\n",
       "        //console.log('sending', m);\n",
       "        comm.send(m);\n",
       "    };\n",
       "    // Register the callback with on_msg.\n",
       "    comm.on_msg(function(msg) {\n",
       "        //console.log('receiving', msg['content']['data'], msg);\n",
       "        // Pass the mpl event to the overridden (by mpl) onmessage function.\n",
       "        ws.onmessage(msg['content']['data'])\n",
       "    });\n",
       "    return ws;\n",
       "}\n",
       "\n",
       "mpl.mpl_figure_comm = function(comm, msg) {\n",
       "    // This is the function which gets called when the mpl process\n",
       "    // starts-up an IPython Comm through the \"matplotlib\" channel.\n",
       "\n",
       "    var id = msg.content.data.id;\n",
       "    // Get hold of the div created by the display call when the Comm\n",
       "    // socket was opened in Python.\n",
       "    var element = $(\"#\" + id);\n",
       "    var ws_proxy = comm_websocket_adapter(comm)\n",
       "\n",
       "    function ondownload(figure, format) {\n",
       "        window.open(figure.imageObj.src);\n",
       "    }\n",
       "\n",
       "    var fig = new mpl.figure(id, ws_proxy,\n",
       "                           ondownload,\n",
       "                           element.get(0));\n",
       "\n",
       "    // Call onopen now - mpl needs it, as it is assuming we've passed it a real\n",
       "    // web socket which is closed, not our websocket->open comm proxy.\n",
       "    ws_proxy.onopen();\n",
       "\n",
       "    fig.parent_element = element.get(0);\n",
       "    fig.cell_info = mpl.find_output_cell(\"<div id='\" + id + \"'></div>\");\n",
       "    if (!fig.cell_info) {\n",
       "        console.error(\"Failed to find cell for figure\", id, fig);\n",
       "        return;\n",
       "    }\n",
       "\n",
       "    var output_index = fig.cell_info[2]\n",
       "    var cell = fig.cell_info[0];\n",
       "\n",
       "};\n",
       "\n",
       "mpl.figure.prototype.handle_close = function(fig, msg) {\n",
       "    var width = fig.canvas.width/mpl.ratio\n",
       "    fig.root.unbind('remove')\n",
       "\n",
       "    // Update the output cell to use the data from the current canvas.\n",
       "    fig.push_to_output();\n",
       "    var dataURL = fig.canvas.toDataURL();\n",
       "    // Re-enable the keyboard manager in IPython - without this line, in FF,\n",
       "    // the notebook keyboard shortcuts fail.\n",
       "    IPython.keyboard_manager.enable()\n",
       "    $(fig.parent_element).html('<img src=\"' + dataURL + '\" width=\"' + width + '\">');\n",
       "    fig.close_ws(fig, msg);\n",
       "}\n",
       "\n",
       "mpl.figure.prototype.close_ws = function(fig, msg){\n",
       "    fig.send_message('closing', msg);\n",
       "    // fig.ws.close()\n",
       "}\n",
       "\n",
       "mpl.figure.prototype.push_to_output = function(remove_interactive) {\n",
       "    // Turn the data on the canvas into data in the output cell.\n",
       "    var width = this.canvas.width/mpl.ratio\n",
       "    var dataURL = this.canvas.toDataURL();\n",
       "    this.cell_info[1]['text/html'] = '<img src=\"' + dataURL + '\" width=\"' + width + '\">';\n",
       "}\n",
       "\n",
       "mpl.figure.prototype.updated_canvas_event = function() {\n",
       "    // Tell IPython that the notebook contents must change.\n",
       "    IPython.notebook.set_dirty(true);\n",
       "    this.send_message(\"ack\", {});\n",
       "    var fig = this;\n",
       "    // Wait a second, then push the new image to the DOM so\n",
       "    // that it is saved nicely (might be nice to debounce this).\n",
       "    setTimeout(function () { fig.push_to_output() }, 1000);\n",
       "}\n",
       "\n",
       "mpl.figure.prototype._init_toolbar = function() {\n",
       "    var fig = this;\n",
       "\n",
       "    var nav_element = $('<div/>');\n",
       "    nav_element.attr('style', 'width: 100%');\n",
       "    this.root.append(nav_element);\n",
       "\n",
       "    // Define a callback function for later on.\n",
       "    function toolbar_event(event) {\n",
       "        return fig.toolbar_button_onclick(event['data']);\n",
       "    }\n",
       "    function toolbar_mouse_event(event) {\n",
       "        return fig.toolbar_button_onmouseover(event['data']);\n",
       "    }\n",
       "\n",
       "    for(var toolbar_ind in mpl.toolbar_items){\n",
       "        var name = mpl.toolbar_items[toolbar_ind][0];\n",
       "        var tooltip = mpl.toolbar_items[toolbar_ind][1];\n",
       "        var image = mpl.toolbar_items[toolbar_ind][2];\n",
       "        var method_name = mpl.toolbar_items[toolbar_ind][3];\n",
       "\n",
       "        if (!name) { continue; };\n",
       "\n",
       "        var button = $('<button class=\"btn btn-default\" href=\"#\" title=\"' + name + '\"><i class=\"fa ' + image + ' fa-lg\"></i></button>');\n",
       "        button.click(method_name, toolbar_event);\n",
       "        button.mouseover(tooltip, toolbar_mouse_event);\n",
       "        nav_element.append(button);\n",
       "    }\n",
       "\n",
       "    // Add the status bar.\n",
       "    var status_bar = $('<span class=\"mpl-message\" style=\"text-align:right; float: right;\"/>');\n",
       "    nav_element.append(status_bar);\n",
       "    this.message = status_bar[0];\n",
       "\n",
       "    // Add the close button to the window.\n",
       "    var buttongrp = $('<div class=\"btn-group inline pull-right\"></div>');\n",
       "    var button = $('<button class=\"btn btn-mini btn-primary\" href=\"#\" title=\"Stop Interaction\"><i class=\"fa fa-power-off icon-remove icon-large\"></i></button>');\n",
       "    button.click(function (evt) { fig.handle_close(fig, {}); } );\n",
       "    button.mouseover('Stop Interaction', toolbar_mouse_event);\n",
       "    buttongrp.append(button);\n",
       "    var titlebar = this.root.find($('.ui-dialog-titlebar'));\n",
       "    titlebar.prepend(buttongrp);\n",
       "}\n",
       "\n",
       "mpl.figure.prototype._root_extra_style = function(el){\n",
       "    var fig = this\n",
       "    el.on(\"remove\", function(){\n",
       "\tfig.close_ws(fig, {});\n",
       "    });\n",
       "}\n",
       "\n",
       "mpl.figure.prototype._canvas_extra_style = function(el){\n",
       "    // this is important to make the div 'focusable\n",
       "    el.attr('tabindex', 0)\n",
       "    // reach out to IPython and tell the keyboard manager to turn it's self\n",
       "    // off when our div gets focus\n",
       "\n",
       "    // location in version 3\n",
       "    if (IPython.notebook.keyboard_manager) {\n",
       "        IPython.notebook.keyboard_manager.register_events(el);\n",
       "    }\n",
       "    else {\n",
       "        // location in version 2\n",
       "        IPython.keyboard_manager.register_events(el);\n",
       "    }\n",
       "\n",
       "}\n",
       "\n",
       "mpl.figure.prototype._key_event_extra = function(event, name) {\n",
       "    var manager = IPython.notebook.keyboard_manager;\n",
       "    if (!manager)\n",
       "        manager = IPython.keyboard_manager;\n",
       "\n",
       "    // Check for shift+enter\n",
       "    if (event.shiftKey && event.which == 13) {\n",
       "        this.canvas_div.blur();\n",
       "        // select the cell after this one\n",
       "        var index = IPython.notebook.find_cell_index(this.cell_info[0]);\n",
       "        IPython.notebook.select(index + 1);\n",
       "    }\n",
       "}\n",
       "\n",
       "mpl.figure.prototype.handle_save = function(fig, msg) {\n",
       "    fig.ondownload(fig, null);\n",
       "}\n",
       "\n",
       "\n",
       "mpl.find_output_cell = function(html_output) {\n",
       "    // Return the cell and output element which can be found *uniquely* in the notebook.\n",
       "    // Note - this is a bit hacky, but it is done because the \"notebook_saving.Notebook\"\n",
       "    // IPython event is triggered only after the cells have been serialised, which for\n",
       "    // our purposes (turning an active figure into a static one), is too late.\n",
       "    var cells = IPython.notebook.get_cells();\n",
       "    var ncells = cells.length;\n",
       "    for (var i=0; i<ncells; i++) {\n",
       "        var cell = cells[i];\n",
       "        if (cell.cell_type === 'code'){\n",
       "            for (var j=0; j<cell.output_area.outputs.length; j++) {\n",
       "                var data = cell.output_area.outputs[j];\n",
       "                if (data.data) {\n",
       "                    // IPython >= 3 moved mimebundle to data attribute of output\n",
       "                    data = data.data;\n",
       "                }\n",
       "                if (data['text/html'] == html_output) {\n",
       "                    return [cell, data, j];\n",
       "                }\n",
       "            }\n",
       "        }\n",
       "    }\n",
       "}\n",
       "\n",
       "// Register the function which deals with the matplotlib target/channel.\n",
       "// The kernel may be null if the page has been refreshed.\n",
       "if (IPython.notebook.kernel != null) {\n",
       "    IPython.notebook.kernel.comm_manager.register_target('matplotlib', mpl.mpl_figure_comm);\n",
       "}\n"
      ],
      "text/plain": [
       "<IPython.core.display.Javascript object>"
      ]
     },
     "metadata": {},
     "output_type": "display_data"
    },
    {
     "data": {
      "text/html": [
       "<img src=\"data:image/png;base64,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\" width=\"640\">"
      ],
      "text/plain": [
       "<IPython.core.display.HTML object>"
      ]
     },
     "metadata": {},
     "output_type": "display_data"
    }
   ],
   "source": [
    "import matplotlib.pyplot as plt \n",
    "from matplotlib import cm \n",
    "from matplotlib.ticker import LinearLocator \n",
    "import numpy as np \n",
    "%matplotlib  notebook \n",
    "\n",
    "fig, ax = plt.subplots(subplot_kw={'projection':'3d'})\n",
    "\n",
    "X,Y = X2[:,0], X2[:,1] \n",
    "Z = y.reshape(-1,1) \n",
    "\n",
    "\n",
    "ax.scatter(X,Y,Z)\n",
    "\n",
    "X,Y = np.meshgrid(X,Y)\n",
    "Z = reg_2.coef_[0]*X + reg_2.coef_[1]*Y + reg_2.intercept_\n",
    "ax.plot_surface(X,Y,Z, cmap = cm.coolwarm, alpha = 0.3) \n",
    "plt.savefig('regresion_3D.jpg')"
   ]
  },
  {
   "cell_type": "markdown",
   "metadata": {},
   "source": [
    "# Modelo de regresión lineal ordinaria con tres características "
   ]
  },
  {
   "cell_type": "code",
   "execution_count": 28,
   "metadata": {},
   "outputs": [
    {
     "data": {
      "text/plain": [
       "(0.9570639673889659, 0.8205276677645963)"
      ]
     },
     "execution_count": 28,
     "metadata": {},
     "output_type": "execute_result"
    }
   ],
   "source": [
    "y = df['Total Deaths'].values  \n",
    "X3 = df[['Population', 'Total Cases','Total Recovered']].values.reshape(-1,3) \n",
    "from sklearn.model_selection import train_test_split\n",
    "from sklearn.linear_model import LinearRegression \n",
    "X_train, X_test, y_train, y_test = train_test_split(X3, y, random_state = 702) \n",
    "reg_3 = LinearRegression()\n",
    "reg_3.fit(X_train,y_train) \n",
    "reg_3.score(X_train, y_train), reg_3.score(X_test, y_test) "
   ]
  },
  {
   "cell_type": "markdown",
   "metadata": {},
   "source": [
    "# Modelo de regresión lineal ordinaria con cuatro características "
   ]
  },
  {
   "cell_type": "code",
   "execution_count": 26,
   "metadata": {},
   "outputs": [
    {
     "data": {
      "text/plain": [
       "Index(['Total Cases', 'Total Deaths', 'Total Recovered', 'Active Cases',\n",
       "       'Total Cases.1', 'Population'],\n",
       "      dtype='object')"
      ]
     },
     "execution_count": 26,
     "metadata": {},
     "output_type": "execute_result"
    }
   ],
   "source": [
    "df.keys()  "
   ]
  },
  {
   "cell_type": "code",
   "execution_count": 30,
   "metadata": {},
   "outputs": [
    {
     "data": {
      "text/plain": [
       "(0.9571870168416237, 0.8234595745109275)"
      ]
     },
     "execution_count": 30,
     "metadata": {},
     "output_type": "execute_result"
    }
   ],
   "source": [
    "y = df['Total Deaths'].values  \n",
    "X4 = df[['Population', 'Total Cases','Total Recovered','Active Cases']].values.reshape(-1,4) \n",
    "from sklearn.model_selection import train_test_split\n",
    "from sklearn.linear_model import LinearRegression \n",
    "X_train, X_test, y_train, y_test = train_test_split(X4, y, random_state = 702) \n",
    "reg_3 = LinearRegression()\n",
    "reg_3.fit(X_train,y_train) \n",
    "reg_3.score(X_train, y_train), reg_3.score(X_test, y_test) "
   ]
  },
  {
   "cell_type": "markdown",
   "metadata": {},
   "source": [
    "# Modelo de regresión lineal ordinaria con cinco características "
   ]
  },
  {
   "cell_type": "code",
   "execution_count": 31,
   "metadata": {},
   "outputs": [
    {
     "data": {
      "text/plain": [
       "(0.9770064369506362, 0.8721666835513071)"
      ]
     },
     "execution_count": 31,
     "metadata": {},
     "output_type": "execute_result"
    }
   ],
   "source": [
    "y = df['Total Deaths'].values  \n",
    "X5 = df[['Population', 'Total Cases','Total Recovered',\n",
    "         'Active Cases','Total Cases.1']].values.reshape(-1,5) \n",
    "from sklearn.model_selection import train_test_split\n",
    "from sklearn.linear_model import LinearRegression \n",
    "X_train, X_test, y_train, y_test = train_test_split(X5, y, random_state = 702) \n",
    "reg_3 = LinearRegression()\n",
    "reg_3.fit(X_train,y_train) \n",
    "reg_3.score(X_train, y_train), reg_3.score(X_test, y_test) "
   ]
  },
  {
   "cell_type": "code",
   "execution_count": null,
   "metadata": {},
   "outputs": [],
   "source": []
  }
 ],
 "metadata": {
  "hide_input": false,
  "kernelspec": {
   "display_name": "Python 3",
   "language": "python",
   "name": "python3"
  },
  "language_info": {
   "codemirror_mode": {
    "name": "ipython",
    "version": 3
   },
   "file_extension": ".py",
   "mimetype": "text/x-python",
   "name": "python",
   "nbconvert_exporter": "python",
   "pygments_lexer": "ipython3",
   "version": "3.9.5"
  },
  "nbTranslate": {
   "displayLangs": [
    "*"
   ],
   "hotkey": "alt-t",
   "langInMainMenu": true,
   "sourceLang": "en",
   "targetLang": "es",
   "useGoogleTranslate": true
  }
 },
 "nbformat": 4,
 "nbformat_minor": 2
}
