{
 "cells": [
  {
   "cell_type": "markdown",
   "metadata": {},
   "source": [
    "# Didáctica del Procesamiento de datos"
   ]
  },
  {
   "cell_type": "markdown",
   "metadata": {},
   "source": [
    "[covic cases worldwide](https://www.kaggle.com/tanushagupta/covidcasesworldwide?campaign=357830d2-6df6-4109-910a-64f37be0813a&select=google.csv)"
   ]
  },
  {
   "cell_type": "markdown",
   "metadata": {
    "lang": "es"
   },
   "source": [
    "## Contexto"
   ]
  },
  {
   "cell_type": "markdown",
   "metadata": {
    "lang": "es"
   },
   "source": [
    "La pandemia de COVID-19 ha provocado una dramática pérdida de vidas humanas en todo el mundo y presenta un desafío sin precedentes para la salud pública, los sistemas alimentarios y el mundo del trabajo. La perturbación económica y social causada por la pandemia es devastadora: decenas de millones de personas corren el riesgo de caer en la pobreza extrema, mientras que el número de personas desnutridas, que actualmente se estima en casi 690 millones, podría aumentar hasta 132 millones para el final del año."
   ]
  },
  {
   "cell_type": "markdown",
   "metadata": {
    "lang": "es"
   },
   "source": [
    "### Contenido"
   ]
  },
  {
   "cell_type": "markdown",
   "metadata": {
    "lang": "es"
   },
   "source": [
    "El conjunto de datos contiene el número de casos notificados, casos recuperados y casos de muertes para países de todo el mundo. No solo tiene casos totales, sino los casos reportados hoy (09-junio-2021)."
   ]
  },
  {
   "cell_type": "code",
   "execution_count": 3,
   "metadata": {},
   "outputs": [
    {
     "data": {
      "text/html": [
       "<div>\n",
       "<style scoped>\n",
       "    .dataframe tbody tr th:only-of-type {\n",
       "        vertical-align: middle;\n",
       "    }\n",
       "\n",
       "    .dataframe tbody tr th {\n",
       "        vertical-align: top;\n",
       "    }\n",
       "\n",
       "    .dataframe thead th {\n",
       "        text-align: right;\n",
       "    }\n",
       "</style>\n",
       "<table border=\"1\" class=\"dataframe\">\n",
       "  <thead>\n",
       "    <tr style=\"text-align: right;\">\n",
       "      <th></th>\n",
       "      <th>Country</th>\n",
       "      <th>Cases(words)</th>\n",
       "      <th>Cases(num)</th>\n",
       "      <th>Cases(today)</th>\n",
       "      <th>Recovered</th>\n",
       "      <th>Death(word)</th>\n",
       "      <th>Death(num)</th>\n",
       "      <th>Death(today)</th>\n",
       "    </tr>\n",
       "  </thead>\n",
       "  <tbody>\n",
       "    <tr>\n",
       "      <td>0</td>\n",
       "      <td>United States</td>\n",
       "      <td>3.34Cr</td>\n",
       "      <td>3,34,00,000</td>\n",
       "      <td>15,110</td>\n",
       "      <td>-</td>\n",
       "      <td>5.98L</td>\n",
       "      <td>5,98,000</td>\n",
       "      <td>373</td>\n",
       "    </tr>\n",
       "    <tr>\n",
       "      <td>1</td>\n",
       "      <td>India</td>\n",
       "      <td>2.91Cr</td>\n",
       "      <td>2,91,00,000</td>\n",
       "      <td>92,596</td>\n",
       "      <td>3.54L</td>\n",
       "      <td>2.75Cr</td>\n",
       "      <td>2,75,00,000</td>\n",
       "      <td>+1,63,000</td>\n",
       "    </tr>\n",
       "    <tr>\n",
       "      <td>2</td>\n",
       "      <td>Brazil</td>\n",
       "      <td>1.7Cr</td>\n",
       "      <td>1,70,00,000</td>\n",
       "      <td>52,911</td>\n",
       "      <td>4.77L</td>\n",
       "      <td>1.51Cr</td>\n",
       "      <td>1,51,00,000</td>\n",
       "      <td>35,950</td>\n",
       "    </tr>\n",
       "    <tr>\n",
       "      <td>3</td>\n",
       "      <td>France</td>\n",
       "      <td>57.2L</td>\n",
       "      <td>57,20,000</td>\n",
       "      <td>6,018</td>\n",
       "      <td>-</td>\n",
       "      <td>1.1L</td>\n",
       "      <td>1,10,000</td>\n",
       "      <td>46</td>\n",
       "    </tr>\n",
       "    <tr>\n",
       "      <td>4</td>\n",
       "      <td>Turkey</td>\n",
       "      <td>53L</td>\n",
       "      <td>53,00,000</td>\n",
       "      <td>6,559</td>\n",
       "      <td>48,341</td>\n",
       "      <td>51.7L</td>\n",
       "      <td>51,70,000</td>\n",
       "      <td>86</td>\n",
       "    </tr>\n",
       "    <tr>\n",
       "      <td>...</td>\n",
       "      <td>...</td>\n",
       "      <td>...</td>\n",
       "      <td>...</td>\n",
       "      <td>...</td>\n",
       "      <td>...</td>\n",
       "      <td>...</td>\n",
       "      <td>...</td>\n",
       "      <td>...</td>\n",
       "    </tr>\n",
       "    <tr>\n",
       "      <td>214</td>\n",
       "      <td>Saint Pierre and Miquelon</td>\n",
       "      <td>25</td>\n",
       "      <td>25</td>\n",
       "      <td>NaN</td>\n",
       "      <td>-</td>\n",
       "      <td>25</td>\n",
       "      <td>25</td>\n",
       "      <td>NaN</td>\n",
       "    </tr>\n",
       "    <tr>\n",
       "      <td>215</td>\n",
       "      <td>Montserrat</td>\n",
       "      <td>20</td>\n",
       "      <td>20</td>\n",
       "      <td>NaN</td>\n",
       "      <td>1</td>\n",
       "      <td>19</td>\n",
       "      <td>19</td>\n",
       "      <td>NaN</td>\n",
       "    </tr>\n",
       "    <tr>\n",
       "      <td>216</td>\n",
       "      <td>Western Sahara</td>\n",
       "      <td>10</td>\n",
       "      <td>10</td>\n",
       "      <td>NaN</td>\n",
       "      <td>NaN</td>\n",
       "      <td>1</td>\n",
       "      <td>8</td>\n",
       "      <td>NaN</td>\n",
       "    </tr>\n",
       "    <tr>\n",
       "      <td>217</td>\n",
       "      <td>Cook Islands</td>\n",
       "      <td>1</td>\n",
       "      <td>1</td>\n",
       "      <td>NaN</td>\n",
       "      <td>-</td>\n",
       "      <td>-</td>\n",
       "      <td>NaN</td>\n",
       "      <td>NaN</td>\n",
       "    </tr>\n",
       "    <tr>\n",
       "      <td>218</td>\n",
       "      <td>Turkmenistan</td>\n",
       "      <td>-</td>\n",
       "      <td>NaN</td>\n",
       "      <td>NaN</td>\n",
       "      <td>-</td>\n",
       "      <td>-</td>\n",
       "      <td>NaN</td>\n",
       "      <td>NaN</td>\n",
       "    </tr>\n",
       "  </tbody>\n",
       "</table>\n",
       "<p>219 rows × 8 columns</p>\n",
       "</div>"
      ],
      "text/plain": [
       "                       Country Cases(words)   Cases(num) Cases(today)  \\\n",
       "0                United States       3.34Cr  3,34,00,000       15,110   \n",
       "1                        India       2.91Cr  2,91,00,000       92,596   \n",
       "2                       Brazil        1.7Cr  1,70,00,000       52,911   \n",
       "3                       France        57.2L    57,20,000        6,018   \n",
       "4                       Turkey          53L    53,00,000        6,559   \n",
       "..                         ...          ...          ...          ...   \n",
       "214  Saint Pierre and Miquelon           25           25          NaN   \n",
       "215                 Montserrat           20           20          NaN   \n",
       "216             Western Sahara           10           10          NaN   \n",
       "217               Cook Islands            1            1          NaN   \n",
       "218               Turkmenistan            -          NaN          NaN   \n",
       "\n",
       "    Recovered Death(word)   Death(num) Death(today)  \n",
       "0           -       5.98L     5,98,000          373  \n",
       "1       3.54L      2.75Cr  2,75,00,000    +1,63,000  \n",
       "2       4.77L      1.51Cr  1,51,00,000       35,950  \n",
       "3           -        1.1L     1,10,000           46  \n",
       "4      48,341       51.7L    51,70,000           86  \n",
       "..        ...         ...          ...          ...  \n",
       "214         -          25           25          NaN  \n",
       "215         1          19           19          NaN  \n",
       "216       NaN           1            8          NaN  \n",
       "217         -           -          NaN          NaN  \n",
       "218         -           -          NaN          NaN  \n",
       "\n",
       "[219 rows x 8 columns]"
      ]
     },
     "execution_count": 3,
     "metadata": {},
     "output_type": "execute_result"
    }
   ],
   "source": [
    "import numpy as np \n",
    "import pandas as pd \n",
    "df = pd.read_csv('google.csv') \n",
    "df "
   ]
  },
  {
   "cell_type": "code",
   "execution_count": 4,
   "metadata": {},
   "outputs": [
    {
     "name": "stdout",
     "output_type": "stream",
     "text": [
      "<class 'pandas.core.frame.DataFrame'>\n",
      "RangeIndex: 219 entries, 0 to 218\n",
      "Data columns (total 8 columns):\n",
      "Country         219 non-null object\n",
      "Cases(words)    219 non-null object\n",
      "Cases(num)      218 non-null object\n",
      "Cases(today)    159 non-null object\n",
      "Recovered       216 non-null object\n",
      "Death(word)     219 non-null object\n",
      "Death(num)      216 non-null object\n",
      "Death(today)    145 non-null object\n",
      "dtypes: object(8)\n",
      "memory usage: 13.8+ KB\n"
     ]
    }
   ],
   "source": [
    "df.info()  "
   ]
  },
  {
   "cell_type": "code",
   "execution_count": null,
   "metadata": {},
   "outputs": [],
   "source": []
  }
 ],
 "metadata": {
  "hide_input": false,
  "kernelspec": {
   "display_name": "Python 3",
   "language": "python",
   "name": "python3"
  },
  "language_info": {
   "codemirror_mode": {
    "name": "ipython",
    "version": 3
   },
   "file_extension": ".py",
   "mimetype": "text/x-python",
   "name": "python",
   "nbconvert_exporter": "python",
   "pygments_lexer": "ipython3",
   "version": "3.7.4"
  },
  "nbTranslate": {
   "displayLangs": [
    "*"
   ],
   "hotkey": "alt-t",
   "langInMainMenu": true,
   "sourceLang": "en",
   "targetLang": "es",
   "useGoogleTranslate": true
  },
  "rise": {
   "enable_chalkboard": true,
   "theme": "sky",
   "transition": "zoom"
  }
 },
 "nbformat": 4,
 "nbformat_minor": 2
}
