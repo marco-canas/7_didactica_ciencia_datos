{
 "cells": [
  {
   "cell_type": "markdown",
   "metadata": {},
   "source": [
    "# USA covic data"
   ]
  },
  {
   "cell_type": "markdown",
   "metadata": {},
   "source": [
    "[usa_covic_data](https://www.kaggle.com/anandhuh/usa-statewise-latest-covid19-data?campaign=357830d2-6df6-4109-910a-64f37be0813a)"
   ]
  },
  {
   "cell_type": "markdown",
   "metadata": {},
   "source": [
    "## About this file"
   ]
  },
  {
   "cell_type": "markdown",
   "metadata": {
    "lang": "en"
   },
   "source": [
    ".csv file containing statewise Covid-19 data of USA."
   ]
  },
  {
   "cell_type": "markdown",
   "metadata": {
    "lang": "es"
   },
   "source": [
    "Archivo .csv que contiene datos estatales de Covid-19 de EE. UU."
   ]
  },
  {
   "cell_type": "markdown",
   "metadata": {
    "lang": "en"
   },
   "source": [
    "Columns include \n",
    "* state \n",
    "* Total Cases, \n",
    "* Total Deaths,\n",
    "* Total Recovered, \n",
    "* Active Cases, \n",
    "* Total Cases per 1 million population, \n",
    "* Death per 1 million population, \n",
    "* Total Cases, \n",
    "* Tests per 1 million population and \n",
    "* Population"
   ]
  },
  {
   "cell_type": "markdown",
   "metadata": {
    "lang": "es"
   },
   "source": [
    "Las columnas incluyen Total de casos, Total de muertes, Total recuperado, Casos activos, Total de casos por 1 millón de habitantes, Muerte por 1 millón de habitantes, Total de casos, Pruebas por 1 millón de habitantes y Población"
   ]
  },
  {
   "cell_type": "code",
   "execution_count": 1,
   "metadata": {},
   "outputs": [],
   "source": [
    "import numpy as np \n",
    "import pandas as pd "
   ]
  },
  {
   "cell_type": "code",
   "execution_count": 4,
   "metadata": {},
   "outputs": [
    {
     "data": {
      "text/html": [
       "<div>\n",
       "<style scoped>\n",
       "    .dataframe tbody tr th:only-of-type {\n",
       "        vertical-align: middle;\n",
       "    }\n",
       "\n",
       "    .dataframe tbody tr th {\n",
       "        vertical-align: top;\n",
       "    }\n",
       "\n",
       "    .dataframe thead th {\n",
       "        text-align: right;\n",
       "    }\n",
       "</style>\n",
       "<table border=\"1\" class=\"dataframe\">\n",
       "  <thead>\n",
       "    <tr style=\"text-align: right;\">\n",
       "      <th></th>\n",
       "      <th>State</th>\n",
       "      <th>Total Cases</th>\n",
       "      <th>Total Deaths</th>\n",
       "      <th>Total Recovered</th>\n",
       "      <th>Active Cases</th>\n",
       "      <th>Total Cases/1 mil population</th>\n",
       "      <th>Death/1 mil population</th>\n",
       "      <th>Total Cases.1</th>\n",
       "      <th>Tests/1 mil population</th>\n",
       "      <th>Population</th>\n",
       "    </tr>\n",
       "  </thead>\n",
       "  <tbody>\n",
       "    <tr>\n",
       "      <td>0</td>\n",
       "      <td>California</td>\n",
       "      <td>3,803,789</td>\n",
       "      <td>63,190</td>\n",
       "      <td>2,065,555</td>\n",
       "      <td>1,675,044</td>\n",
       "      <td>96,269</td>\n",
       "      <td>1,599</td>\n",
       "      <td>67,789,152</td>\n",
       "      <td>1,715,650</td>\n",
       "      <td>39,512,223</td>\n",
       "    </tr>\n",
       "    <tr>\n",
       "      <td>1</td>\n",
       "      <td>Texas</td>\n",
       "      <td>2,979,334</td>\n",
       "      <td>52,169</td>\n",
       "      <td>2,871,132</td>\n",
       "      <td>56,033</td>\n",
       "      <td>102,750</td>\n",
       "      <td>1,799</td>\n",
       "      <td>31,072,035</td>\n",
       "      <td>1,071,602</td>\n",
       "      <td>28,995,881</td>\n",
       "    </tr>\n",
       "    <tr>\n",
       "      <td>2</td>\n",
       "      <td>Florida</td>\n",
       "      <td>2,346,153</td>\n",
       "      <td>37,265</td>\n",
       "      <td>2,009,593</td>\n",
       "      <td>299,295</td>\n",
       "      <td>109,237</td>\n",
       "      <td>1,735</td>\n",
       "      <td>30,196,902</td>\n",
       "      <td>1,405,963</td>\n",
       "      <td>21,477,737</td>\n",
       "    </tr>\n",
       "    <tr>\n",
       "      <td>3</td>\n",
       "      <td>New York</td>\n",
       "      <td>2,163,931</td>\n",
       "      <td>53,876</td>\n",
       "      <td>1,822,940</td>\n",
       "      <td>287,115</td>\n",
       "      <td>111,236</td>\n",
       "      <td>2,769</td>\n",
       "      <td>57,462,737</td>\n",
       "      <td>2,953,842</td>\n",
       "      <td>19,453,561</td>\n",
       "    </tr>\n",
       "    <tr>\n",
       "      <td>4</td>\n",
       "      <td>Illinois</td>\n",
       "      <td>1,387,760</td>\n",
       "      <td>25,490</td>\n",
       "      <td>1,332,924</td>\n",
       "      <td>29,346</td>\n",
       "      <td>109,515</td>\n",
       "      <td>2,012</td>\n",
       "      <td>25,185,883</td>\n",
       "      <td>1,987,550</td>\n",
       "      <td>12,671,821</td>\n",
       "    </tr>\n",
       "  </tbody>\n",
       "</table>\n",
       "</div>"
      ],
      "text/plain": [
       "        State Total Cases Total Deaths Total Recovered Active Cases  \\\n",
       "0  California   3,803,789       63,190       2,065,555    1,675,044   \n",
       "1       Texas   2,979,334       52,169       2,871,132       56,033   \n",
       "2     Florida   2,346,153       37,265       2,009,593      299,295   \n",
       "3    New York   2,163,931       53,876       1,822,940      287,115   \n",
       "4    Illinois   1,387,760       25,490       1,332,924       29,346   \n",
       "\n",
       "  Total Cases/1 mil population Death/1 mil population Total Cases.1  \\\n",
       "0                       96,269                  1,599    67,789,152   \n",
       "1                      102,750                  1,799    31,072,035   \n",
       "2                      109,237                  1,735    30,196,902   \n",
       "3                      111,236                  2,769    57,462,737   \n",
       "4                      109,515                  2,012    25,185,883   \n",
       "\n",
       "  Tests/1 mil population  Population  \n",
       "0              1,715,650  39,512,223  \n",
       "1              1,071,602  28,995,881  \n",
       "2              1,405,963  21,477,737  \n",
       "3              2,953,842  19,453,561  \n",
       "4              1,987,550  12,671,821  "
      ]
     },
     "execution_count": 4,
     "metadata": {},
     "output_type": "execute_result"
    }
   ],
   "source": [
    "df = pd.read_csv('USA Covid Data.csv') \n",
    "df.head()   "
   ]
  },
  {
   "cell_type": "code",
   "execution_count": null,
   "metadata": {},
   "outputs": [],
   "source": [
    "df.shape  "
   ]
  },
  {
   "cell_type": "code",
   "execution_count": null,
   "metadata": {},
   "outputs": [],
   "source": []
  },
  {
   "cell_type": "code",
   "execution_count": null,
   "metadata": {},
   "outputs": [],
   "source": []
  },
  {
   "cell_type": "code",
   "execution_count": null,
   "metadata": {},
   "outputs": [],
   "source": []
  },
  {
   "cell_type": "code",
   "execution_count": null,
   "metadata": {},
   "outputs": [],
   "source": []
  },
  {
   "cell_type": "code",
   "execution_count": null,
   "metadata": {},
   "outputs": [],
   "source": []
  }
 ],
 "metadata": {
  "hide_input": false,
  "kernelspec": {
   "display_name": "Python 3",
   "language": "python",
   "name": "python3"
  },
  "language_info": {
   "codemirror_mode": {
    "name": "ipython",
    "version": 3
   },
   "file_extension": ".py",
   "mimetype": "text/x-python",
   "name": "python",
   "nbconvert_exporter": "python",
   "pygments_lexer": "ipython3",
   "version": "3.7.4"
  },
  "nbTranslate": {
   "displayLangs": [
    "*"
   ],
   "hotkey": "alt-t",
   "langInMainMenu": true,
   "sourceLang": "en",
   "targetLang": "es",
   "useGoogleTranslate": true
  }
 },
 "nbformat": 4,
 "nbformat_minor": 2
}
