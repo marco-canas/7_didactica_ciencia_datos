{
 "cells": [
  {
   "cell_type": "markdown",
   "id": "431d59df",
   "metadata": {
    "slideshow": {
     "slide_type": "slide"
    }
   },
   "source": [
    "<table align=\"left\">\n",
    "  <td>\n",
    "    <a href=\"https://colab.research.google.com/github/marco-canas/didactica_ciencia_datos/blob/main/datasets/financials.ipynb#scrollTo=e9928f14\" target=\"_parent\"><img src=\"https://colab.research.google.com/assets/colab-badge.svg\" alt=\"Open In Colab\"/></a>\n",
    "  </td>\n",
    "</table>"
   ]
  },
  {
   "cell_type": "markdown",
   "id": "c3d0e9be",
   "metadata": {
    "slideshow": {
     "slide_type": "slide"
    }
   },
   "source": [
    "# 1_ Get Data with OS"
   ]
  },
  {
   "cell_type": "markdown",
   "id": "4ba85246",
   "metadata": {},
   "source": [
    "[os](https://www.geeksforgeeks.org/os-module-python-examples/)"
   ]
  },
  {
   "cell_type": "markdown",
   "id": "938afb0f",
   "metadata": {},
   "source": [
    "# OS module in python with examples"
   ]
  },
  {
   "cell_type": "markdown",
   "id": "70ba4a6f",
   "metadata": {},
   "source": [
    "The OS module in Python provides functions for interacting with the operating system. "
   ]
  },
  {
   "cell_type": "markdown",
   "id": "1f9c91e4",
   "metadata": {
    "slideshow": {
     "slide_type": "slide"
    }
   },
   "source": [
    "OS comes under Python’s standard utility modules. "
   ]
  },
  {
   "cell_type": "markdown",
   "id": "bdfd3fb6",
   "metadata": {
    "slideshow": {
     "slide_type": "slide"
    }
   },
   "source": [
    "This module provides a portable way of using operating system-dependent functionality. "
   ]
  },
  {
   "cell_type": "markdown",
   "id": "f33060a8",
   "metadata": {},
   "source": [
    "The *os* and *os.path* modules include many functions to interact with the file system."
   ]
  },
  {
   "cell_type": "markdown",
   "id": "5f1498da",
   "metadata": {},
   "source": [
    "## Handling the Current Working Directory"
   ]
  },
  {
   "cell_type": "markdown",
   "id": "f8fcfce9",
   "metadata": {},
   "source": [
    "Consider Current Working Directory(CWD) as a folder, where the Python is operating. "
   ]
  },
  {
   "cell_type": "markdown",
   "id": "48efdbaf",
   "metadata": {},
   "source": [
    "Whenever the files are called only by their name, Python assumes that it starts in the CWD which means that name-only reference will be successful only if the file is in the Python’s CWD."
   ]
  },
  {
   "cell_type": "markdown",
   "id": "3802e623",
   "metadata": {
    "slideshow": {
     "slide_type": "slide"
    }
   },
   "source": [
    "Note: The folder where the Python script is running is known as the Current Directory. This is not the path where the Python script is located."
   ]
  },
  {
   "cell_type": "markdown",
   "id": "962fe097",
   "metadata": {
    "slideshow": {
     "slide_type": "slide"
    }
   },
   "source": [
    "### Getting the Current working directory"
   ]
  },
  {
   "cell_type": "markdown",
   "id": "3a423098",
   "metadata": {},
   "source": [
    "To get the location of the current working directory os.getcwd() is used."
   ]
  },
  {
   "cell_type": "markdown",
   "id": "48dda6e0",
   "metadata": {},
   "source": [
    "## Example:"
   ]
  },
  {
   "cell_type": "code",
   "execution_count": 1,
   "id": "dacf36f0",
   "metadata": {
    "slideshow": {
     "slide_type": "slide"
    }
   },
   "outputs": [
    {
     "name": "stdout",
     "output_type": "stream",
     "text": [
      "Current working directory: C:\\Users\\Marco\\Documents\\GitHub\\taca\\propu\\unidad_didac\\3_prepro\\1_get_data_with_OS\n"
     ]
    }
   ],
   "source": [
    "# Python program to explain os.getcwd() method\n",
    "\n",
    "# importing os module\n",
    "import os\n",
    "\n",
    "# Get the current working\n",
    "# directory (CWD)\n",
    "cwd = os.getcwd()\n",
    "\n",
    "# Print the current working directory (CWD)\n",
    "print(\"Current working directory:\", cwd)\n"
   ]
  },
  {
   "cell_type": "markdown",
   "id": "3edb3656",
   "metadata": {
    "slideshow": {
     "slide_type": "slide"
    }
   },
   "source": [
    "## Changing the Current working directory"
   ]
  },
  {
   "cell_type": "markdown",
   "id": "a19a6062",
   "metadata": {
    "slideshow": {
     "slide_type": "slide"
    }
   },
   "source": [
    "To change the current working directory(CWD) `os.chdir()` method is used. "
   ]
  },
  {
   "cell_type": "markdown",
   "id": "ea1ae236",
   "metadata": {},
   "source": [
    "This method changes the CWD to a specified path. "
   ]
  },
  {
   "cell_type": "markdown",
   "id": "a88626dd",
   "metadata": {},
   "source": [
    "It only takes a single argument as a new directory path.\n",
    " "
   ]
  },
  {
   "cell_type": "markdown",
   "id": "f324cb36",
   "metadata": {},
   "source": [
    "Note: The current working directory is the folder in which the Python script is operating.\n",
    " "
   ]
  },
  {
   "cell_type": "markdown",
   "id": "ad7642ef",
   "metadata": {},
   "source": [
    "### Example:"
   ]
  },
  {
   "cell_type": "code",
   "execution_count": 6,
   "id": "9c66f3c1",
   "metadata": {
    "slideshow": {
     "slide_type": "slide"
    }
   },
   "outputs": [
    {
     "name": "stdout",
     "output_type": "stream",
     "text": [
      "Current working directory before\n",
      "C:\\Users\\Usuario\\Desktop\\taca\n",
      "\n",
      "Current working directory before\n",
      "C:\\Users\\Usuario\\Desktop\n",
      "\n"
     ]
    }
   ],
   "source": [
    "# Python program to change the\n",
    "# current working directory\n",
    "\n",
    "\n",
    "import os\n",
    "\n",
    "# Function to Get the current\n",
    "# working directory\n",
    "def current_path():\n",
    "\tprint(\"Current working directory before\")\n",
    "\tprint(os.getcwd())\n",
    "\tprint()\n",
    "\n",
    "\n",
    "# Driver's code\n",
    "# Printing CWD before\n",
    "current_path()\n",
    "\n",
    "# Changing the CWD\n",
    "os.chdir('../')\n",
    "\n",
    "# Printing CWD after\n",
    "current_path()\n"
   ]
  },
  {
   "cell_type": "markdown",
   "id": "f8d19853",
   "metadata": {
    "slideshow": {
     "slide_type": "slide"
    }
   },
   "source": [
    "## Creating a Directory"
   ]
  },
  {
   "cell_type": "markdown",
   "id": "2a78e157",
   "metadata": {
    "slideshow": {
     "slide_type": "slide"
    }
   },
   "source": [
    "There are different methods available in the OS module for creating a director. "
   ]
  },
  {
   "cell_type": "markdown",
   "id": "6b2d0621",
   "metadata": {},
   "source": [
    "These are\n",
    "\n",
    "* os.mkdir()\n",
    "* os.makedirs()"
   ]
  },
  {
   "cell_type": "markdown",
   "id": "49288c4b",
   "metadata": {
    "slideshow": {
     "slide_type": "slide"
    }
   },
   "source": [
    "## Using os.mkdir()"
   ]
  },
  {
   "cell_type": "markdown",
   "id": "63ed96c0",
   "metadata": {},
   "source": [
    "`os.mkdir()` method in Python is used to create a directory named path with the specified numeric mode. "
   ]
  },
  {
   "cell_type": "markdown",
   "id": "07edeb94",
   "metadata": {
    "slideshow": {
     "slide_type": "slide"
    }
   },
   "source": [
    "This method raises FileExistsError if the directory to be created already exists."
   ]
  },
  {
   "cell_type": "code",
   "execution_count": 11,
   "id": "2e675843",
   "metadata": {},
   "outputs": [
    {
     "ename": "FileExistsError",
     "evalue": "[WinError 183] No se puede crear un archivo que ya existe: 'C:/Users/Usuario/Desktop/Marco_hoy'",
     "output_type": "error",
     "traceback": [
      "\u001b[1;31m---------------------------------------------------------------------------\u001b[0m",
      "\u001b[1;31mFileExistsError\u001b[0m                           Traceback (most recent call last)",
      "\u001b[1;32m<ipython-input-11-5671e99e5f1f>\u001b[0m in \u001b[0;36m<module>\u001b[1;34m\u001b[0m\n\u001b[0;32m     16\u001b[0m \u001b[1;31m# 'GeeksForGeeks' in\u001b[0m\u001b[1;33m\u001b[0m\u001b[1;33m\u001b[0m\u001b[1;33m\u001b[0m\u001b[0m\n\u001b[0;32m     17\u001b[0m \u001b[1;31m# '/home / User / Documents'\u001b[0m\u001b[1;33m\u001b[0m\u001b[1;33m\u001b[0m\u001b[1;33m\u001b[0m\u001b[0m\n\u001b[1;32m---> 18\u001b[1;33m \u001b[0mos\u001b[0m\u001b[1;33m.\u001b[0m\u001b[0mmkdir\u001b[0m\u001b[1;33m(\u001b[0m\u001b[0mpath\u001b[0m\u001b[1;33m)\u001b[0m\u001b[1;33m\u001b[0m\u001b[1;33m\u001b[0m\u001b[0m\n\u001b[0m\u001b[0;32m     19\u001b[0m \u001b[0mprint\u001b[0m\u001b[1;33m(\u001b[0m\u001b[1;34m\"Directory '% s' created\"\u001b[0m \u001b[1;33m%\u001b[0m \u001b[0mdirectory\u001b[0m\u001b[1;33m)\u001b[0m\u001b[1;33m\u001b[0m\u001b[1;33m\u001b[0m\u001b[0m\n\u001b[0;32m     20\u001b[0m \u001b[1;33m\u001b[0m\u001b[0m\n",
      "\u001b[1;31mFileExistsError\u001b[0m: [WinError 183] No se puede crear un archivo que ya existe: 'C:/Users/Usuario/Desktop/Marco_hoy'"
     ]
    }
   ],
   "source": [
    "# Python program to explain os.mkdir() method\n",
    "\n",
    "# importing os module\n",
    "import os\n",
    "\n",
    "# Directory\n",
    "directory = \"Marco_hoy\"\n",
    "\n",
    "# Parent Directory path\n",
    "parent_dir = \"C:/Users/Usuario/Desktop/\"\n",
    "\n",
    "# Path\n",
    "path = os.path.join(parent_dir, directory)\n",
    "\n",
    "# Create the directory\n",
    "# 'GeeksForGeeks' in\n",
    "# '/home / User / Documents'\n",
    "os.mkdir(path)\n",
    "print(\"Directory '% s' created\" % directory)\n",
    "\n",
    "# Directory\n",
    "directory = \"Julio\"\n",
    "\n",
    "# Parent Directory path\n",
    "parent_dir = \"C:/Users/Usuario/Desktop\"\n",
    "\n",
    "# mode\n",
    "mode = 0o666\n",
    "\n",
    "# Path\n",
    "path = os.path.join(parent_dir, directory)\n",
    "\n",
    "# Create the directory\n",
    "# 'GeeksForGeeks' in\n",
    "# '/home / User / Documents'\n",
    "# with mode 0o666\n",
    "os.mkdir(path, mode)\n",
    "print(\"Directory '% s' created\" % directory)\n"
   ]
  },
  {
   "cell_type": "markdown",
   "id": "7affac42",
   "metadata": {
    "slideshow": {
     "slide_type": "slide"
    }
   },
   "source": [
    "## Using os.makedirs()"
   ]
  },
  {
   "cell_type": "markdown",
   "id": "5e819c1c",
   "metadata": {},
   "source": [
    "`os.makedirs()` method in Python is used to create a directory recursively. "
   ]
  },
  {
   "cell_type": "markdown",
   "id": "6f613029",
   "metadata": {},
   "source": [
    "That means while making leaf directory if any intermediate-level directory is missing, `os.makedirs()` method will create them all.\n",
    " "
   ]
  },
  {
   "cell_type": "markdown",
   "id": "8f494911",
   "metadata": {
    "slideshow": {
     "slide_type": "slide"
    }
   },
   "source": [
    "### Example: "
   ]
  },
  {
   "cell_type": "code",
   "execution_count": null,
   "id": "df8d1505",
   "metadata": {},
   "outputs": [],
   "source": [
    "# Python program to explain os.makedirs() method\n",
    "\t\n",
    "# importing os module\n",
    "import os\n",
    "\t\n",
    "# Leaf directory\n",
    "directory = \"Canas\"\n",
    "\t\n",
    "# Parent Directories\n",
    "parent_dir = \"C:/Users/Usuario/Desktop\"\n",
    "\t\n",
    "# Path\n",
    "path = os.path.join(parent_dir, directory)\n",
    "\t\n",
    "# Create the directory\n",
    "# 'Canas'\n",
    "os.makedirs(path)\n",
    "print(\"Directory '% s' created\" % directory)\n",
    "\t\n",
    "# Directory 'GeeksForGeeks' and 'Authors' will\n",
    "# be created too\n",
    "# if it does not exists\n",
    "\t\n",
    "\t\n",
    "\t\n",
    "# Leaf directory\n",
    "directory = \"c\"\n",
    "\t\n",
    "# Parent Directories\n",
    "parent_dir = \"C:/Users/Usuario/Desktop/\" \n",
    "\t\n",
    "# mode\n",
    "mode = 0o666\n",
    "\t\n",
    "path = os.path.join(parent_dir, directory)\n",
    "\t\n",
    "# Create the directory 'c'\n",
    "\t\n",
    "os.makedirs(path, mode)\n",
    "print(\"Directory '% s' created\" % directory)\n",
    "\t\n",
    "\t\n",
    "# 'GeeksForGeeks', 'a', and 'b'\n",
    "# will also be created if\n",
    "# it does not exists\n",
    "\t\n",
    "# If any of the intermediate level\n",
    "# directory is missing\n",
    "# os.makedirs() method will\n",
    "# create them\n",
    "\t\n",
    "# os.makedirs() method can be\n",
    "# used to create a directory tree\n"
   ]
  },
  {
   "cell_type": "markdown",
   "id": "e3d65edf",
   "metadata": {},
   "source": [
    "## Listing out Files and Directories with Python"
   ]
  },
  {
   "cell_type": "markdown",
   "id": "87134a43",
   "metadata": {},
   "source": [
    "`os.listdir()` method in Python is used to get the list of all files and directories in the specified directory. "
   ]
  },
  {
   "cell_type": "markdown",
   "id": "771a4459",
   "metadata": {},
   "source": [
    "If we don’t specify any directory, then the list of files and directories in the current working directory will be returned.\n",
    " "
   ]
  },
  {
   "cell_type": "markdown",
   "id": "7821596f",
   "metadata": {},
   "source": [
    "### Example:"
   ]
  },
  {
   "cell_type": "code",
   "execution_count": null,
   "id": "f9a20e87",
   "metadata": {},
   "outputs": [],
   "source": [
    "# Python program to explain os.listdir() method\n",
    "\t\n",
    "# importing os module\n",
    "import os\n",
    "\n",
    "# Get the list of all files and directories\n",
    "# in the root directory\n",
    "path = \"/\"\n",
    "dir_list = os.listdir(path)\n",
    "\n",
    "print(\"Files and directories in '\", path, \"' :\")\n",
    "\n",
    "# print the list\n",
    "print(dir_list)\n"
   ]
  },
  {
   "cell_type": "markdown",
   "id": "17e67f76",
   "metadata": {
    "slideshow": {
     "slide_type": "slide"
    }
   },
   "source": [
    "## Deleting Directory or Files using Python"
   ]
  },
  {
   "cell_type": "markdown",
   "id": "2492b785",
   "metadata": {},
   "source": [
    "OS module proves different methods for removing directories and files in Python.   \n",
    "These are: \n",
    "\n",
    "* Using os.remove()  \n",
    "* Using os.rmdir()  "
   ]
  },
  {
   "cell_type": "markdown",
   "id": "4a3771c0",
   "metadata": {},
   "source": [
    "`os.remove()` method in Python is used to remove or delete a file path. "
   ]
  },
  {
   "cell_type": "markdown",
   "id": "67e06570",
   "metadata": {},
   "source": [
    "This method can not remove or delete a directory. "
   ]
  },
  {
   "cell_type": "markdown",
   "id": "6c26677a",
   "metadata": {},
   "source": [
    "If the specified path is a directory then OSError will be raised by the method.\n",
    " "
   ]
  },
  {
   "cell_type": "markdown",
   "id": "4b16936e",
   "metadata": {},
   "source": [
    "Example: Suppose the file contained in the folder are:"
   ]
  },
  {
   "cell_type": "code",
   "execution_count": null,
   "id": "c5ff5025",
   "metadata": {},
   "outputs": [],
   "source": [
    "# Python program to explain os.remove() method\n",
    "\t\n",
    "# importing os module\n",
    "import os\n",
    "\t\n",
    "# File name\n",
    "file = 'file.txt'\n",
    "\t\n",
    "# File location\n",
    "location = \"C:/Users/Usuario/Desktop/Marco_hoy/\"\n",
    "\t\n",
    "# Path\n",
    "path = os.path.join(location, file)\n",
    "\t\n",
    "# Remove the file\n",
    "# 'file.txt'\n",
    "os.remove(path)\n",
    "\n"
   ]
  },
  {
   "cell_type": "markdown",
   "id": "8323bc02",
   "metadata": {},
   "source": [
    "## Using os.rmdir()"
   ]
  },
  {
   "cell_type": "markdown",
   "id": "44513aaf",
   "metadata": {},
   "source": [
    "os.rmdir() method in Python is used to remove or delete an empty directory. OSError will be raised if the specified path is not an empty directory.\n",
    " "
   ]
  },
  {
   "cell_type": "markdown",
   "id": "ee092324",
   "metadata": {
    "slideshow": {
     "slide_type": "slide"
    }
   },
   "source": [
    "### Example: Suppose the directories are "
   ]
  },
  {
   "cell_type": "code",
   "execution_count": null,
   "id": "d922037a",
   "metadata": {},
   "outputs": [],
   "source": [
    "# Python program to explain os.rmdir() method\n",
    "\t\n",
    "# importing os module\n",
    "import os\n",
    "\t\n",
    "# Directory name\n",
    "directory = \"Canas\"\n",
    "\t\n",
    "# Parent Directory\n",
    "parent = \"C:/Users/Usuario/Desktop/\"\n",
    "\t\n",
    "# Path\n",
    "path = os.path.join(parent, directory)\n",
    "\t\n",
    "# Remove the Directory\n",
    "# \"Canas\"\n",
    "os.rmdir(path)\n"
   ]
  },
  {
   "cell_type": "code",
   "execution_count": null,
   "id": "53c525ad",
   "metadata": {},
   "outputs": [],
   "source": []
  }
 ],
 "metadata": {
  "celltoolbar": "Slideshow",
  "kernelspec": {
   "display_name": "Python 3 (ipykernel)",
   "language": "python",
   "name": "python3"
  },
  "language_info": {
   "codemirror_mode": {
    "name": "ipython",
    "version": 3
   },
   "file_extension": ".py",
   "mimetype": "text/x-python",
   "name": "python",
   "nbconvert_exporter": "python",
   "pygments_lexer": "ipython3",
   "version": "3.9.12"
  },
  "latex_envs": {
   "LaTeX_envs_menu_present": true,
   "autoclose": false,
   "autocomplete": false,
   "bibliofile": "biblio.bib",
   "cite_by": "apalike",
   "current_citInitial": 1,
   "eqLabelWithNumbers": true,
   "eqNumInitial": 1,
   "hotkeys": {
    "equation": "Ctrl-E",
    "itemize": "Ctrl-I"
   },
   "labels_anchors": false,
   "latex_user_defs": false,
   "report_style_numbering": false,
   "user_envs_cfg": false
  }
 },
 "nbformat": 4,
 "nbformat_minor": 5
}
