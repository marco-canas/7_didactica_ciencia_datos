{
 "cells": [
  {
   "cell_type": "markdown",
   "id": "efec54fe",
   "metadata": {},
   "source": [
    "<table align=\"left\">\n",
    "  <td>\n",
    "    <a href=\"https://colab.research.google.com/github/marco-canas/Ecuaciones_Diferenciales/blob/main/asesoria_EDO/ejer_sec_3.1/Ejer_22_sec_3.1_Boyce_DiPrima.ipynb\" target=\"_parent\"><img src=\"https://colab.research.google.com/assets/colab-badge.svg\" alt=\"Open In Colab\"/></a>\n",
    "  </td>\n",
    "  <td>\n",
    "    <a target=\"_blank\" href=\"https://kaggle.com/kernels/welcome?src=https://github.com/marco-canas/Ecuaciones_Diferenciales/blob/main/asesoria_EDO/ejer_sec_3.1/Ejer_22_sec_3.1_Boyce_DiPrima.ipynb\"><img src=\"https://kaggle.com/static/images/open-in-kaggle.svg\" /></a>\n",
    "  </td>\n",
    "</table>"
   ]
  },
  {
   "cell_type": "markdown",
   "id": "1889f4b0",
   "metadata": {},
   "source": [
    "# [Una guía completa para la exploración de datos](https://www.analyticsvidhya.com/blog/2016/01/guide-data-exploration/)"
   ]
  },
  {
   "cell_type": "markdown",
   "id": "180febd6",
   "metadata": {},
   "source": [
    "## [Video de apoyo]() "
   ]
  },
  {
   "cell_type": "markdown",
   "id": "83f4d268",
   "metadata": {},
   "source": [
    "## Visión general"
   ]
  },
  {
   "cell_type": "markdown",
   "id": "771882fa",
   "metadata": {},
   "source": [
    "Un tutorial completo sobre exploración de datos (EDA)  \n",
    "\n",
    "Cubrimos varios aspectos de exploración de datos, \n",
    "* incluida la imputación de valor faltante, \n",
    "* la eliminación de valores atípicos y \n",
    "* el arte de la ingeniería de características.\n",
    " "
   ]
  },
  {
   "cell_type": "markdown",
   "id": "011b11a6",
   "metadata": {},
   "source": [
    "## Introducción"
   ]
  },
  {
   "cell_type": "markdown",
   "id": "252b1aea",
   "metadata": {},
   "source": [
    "Uno de mis mentores me sugirió que dedicara un tiempo significativo a la exploración y el análisis de datos. Seguir su consejo me ha servido bien.\n",
    "\n",
    "He creado este tutorial para ayudarlo a comprender las técnicas subyacentes de la exploración de datos. Como siempre, he hecho todo lo posible para explicar estos conceptos de la manera más simple. Para una mejor comprensión, he tomado algunos ejemplos para demostrar los conceptos complicados."
   ]
  },
  {
   "cell_type": "markdown",
   "id": "02ff377f",
   "metadata": {},
   "source": [
    "## Tabla de contenidos"
   ]
  },
  {
   "cell_type": "markdown",
   "id": "1a707ce9",
   "metadata": {},
   "source": [
    "1. Pasos de exploración y preparación de datos\n",
    "2. Tratamiento de valor faltante\n",
    "   * ¿Por qué se requiere un tratamiento de valor faltante?\n",
    "   * ¿Por qué a los datos les faltan valores?\n",
    "   * ¿Cuáles son los métodos para tratar el valor faltante?\n",
    "3. Técnicas de detección y tratamiento atípicos\n",
    "   * ¿Qué es un valor atípico?\n",
    "   * ¿Cuáles son los tipos de valores atípicos?\n",
    "   * ¿Cuáles son las causas de los valores atípicos?\n",
    "   * ¿Cuál es el impacto de los valores atípicos en el conjunto de datos?\n",
    "   * ¿Cómo detectar valores atípicos?\n",
    "   * ¿Cómo eliminar valores atípicos?\n",
    "4. El arte de la ingeniería de características\n",
    "   * ¿Qué es la ingeniería de características?\n",
    "   * ¿Cuál es el proceso de La Ingeniería de Características?\n",
    "   * ¿Qué es la transformación de variables?\n",
    "   * ¿Cuándo debemos usar la transformación de variables?\n",
    "   * ¿Cuáles son los métodos comunes de transformación de variables?\n",
    "   * ¿Qué es la creación de variables de características y sus beneficios?"
   ]
  },
  {
   "cell_type": "markdown",
   "id": "52f87bfd",
   "metadata": {},
   "source": [
    "Empecemos.\n",
    " "
   ]
  },
  {
   "cell_type": "markdown",
   "id": "67cc25e9",
   "metadata": {},
   "source": [
    "## 1. Pasos de exploración y preparación de datos"
   ]
  },
  {
   "cell_type": "markdown",
   "id": "ee53a290",
   "metadata": {},
   "source": [
    "Recuerde que la calidad de sus entradas decide la calidad de su salida. Por lo tanto, una vez que haya preparado su hipótesis de negocio, tiene sentido dedicar mucho tiempo y esfuerzos aquí. Con mi estimación personal, la exploración, limpieza y preparación de datos puede tomar hasta el 70% del tiempo total de su proyecto."
   ]
  },
  {
   "cell_type": "markdown",
   "id": "ea9dacc7",
   "metadata": {},
   "source": [
    "A continuación se detallan los pasos necesarios para comprender, limpiar y preparar sus datos para crear su modelo predictivo:"
   ]
  },
  {
   "cell_type": "markdown",
   "id": "d5cfaa72",
   "metadata": {},
   "source": [
    "1. Identificación de variables\n",
    "2. Análisis univariado\n",
    "3. Análisis bivariante\n",
    "4. Tratamiento de valores faltantes\n",
    "5. Tratamiento atípico\n",
    "6. Transformación de variables\n",
    "7. Creación de variables"
   ]
  },
  {
   "cell_type": "markdown",
   "id": "17fc0c8e",
   "metadata": {},
   "source": [
    "Finalmente, tendremos que iterar sobre los pasos 4 a 7 varias veces antes de llegar a nuestro modelo refinado.\n",
    "\n",
    "Estudiemos ahora cada etapa en detalle:"
   ]
  },
  {
   "cell_type": "markdown",
   "id": "95db5bea",
   "metadata": {},
   "source": [
    "## Identificación de variables"
   ]
  },
  {
   "cell_type": "markdown",
   "id": "ec0fd7ff",
   "metadata": {},
   "source": [
    "Primero, identifique las variables Predictor (Input) y Target (output). A continuación, identifique el tipo de datos y la categoría de las variables."
   ]
  },
  {
   "cell_type": "markdown",
   "id": "0cfa26ca",
   "metadata": {},
   "source": [
    "Entendamos este paso más claramente tomando un ejemplo."
   ]
  },
  {
   "cell_type": "markdown",
   "id": "b1d0ca06",
   "metadata": {},
   "source": [
    "Ejemplo: - Supongamos, que queremos predecir, si los estudiantes jugarán al cricket o no (consulte a continuación el conjunto de datos). Aquí debe identificar las variables predictoras, la variable objetivo, el tipo de datos de variables y la categoría de variables."
   ]
  },
  {
   "cell_type": "code",
   "execution_count": null,
   "id": "9fd08923",
   "metadata": {},
   "outputs": [],
   "source": []
  },
  {
   "cell_type": "code",
   "execution_count": null,
   "id": "f94b1f51",
   "metadata": {},
   "outputs": [],
   "source": []
  },
  {
   "cell_type": "code",
   "execution_count": null,
   "id": "02e195f4",
   "metadata": {},
   "outputs": [],
   "source": []
  },
  {
   "cell_type": "code",
   "execution_count": null,
   "id": "b3b91e03",
   "metadata": {},
   "outputs": [],
   "source": []
  },
  {
   "cell_type": "markdown",
   "id": "7e0f2d51",
   "metadata": {},
   "source": [
    "## Referentes  \n",
    "\n",
    "* https://www.analyticsvidhya.com/blog/2016/01/guide-data-exploration/ "
   ]
  }
 ],
 "metadata": {
  "kernelspec": {
   "display_name": "Python 3",
   "language": "python",
   "name": "python3"
  },
  "language_info": {
   "codemirror_mode": {
    "name": "ipython",
    "version": 3
   },
   "file_extension": ".py",
   "mimetype": "text/x-python",
   "name": "python",
   "nbconvert_exporter": "python",
   "pygments_lexer": "ipython3",
   "version": "3.8.8"
  },
  "latex_envs": {
   "LaTeX_envs_menu_present": true,
   "autoclose": false,
   "autocomplete": false,
   "bibliofile": "biblio.bib",
   "cite_by": "apalike",
   "current_citInitial": 1,
   "eqLabelWithNumbers": true,
   "eqNumInitial": 1,
   "hotkeys": {
    "equation": "Ctrl-E",
    "itemize": "Ctrl-I"
   },
   "labels_anchors": false,
   "latex_user_defs": false,
   "report_style_numbering": false,
   "user_envs_cfg": false
  }
 },
 "nbformat": 4,
 "nbformat_minor": 5
}
