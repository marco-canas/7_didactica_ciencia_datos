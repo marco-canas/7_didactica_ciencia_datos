{
  "cells": [
    {
      "cell_type": "markdown",
      "id": "24e6fe2f",
      "metadata": {
        "id": "24e6fe2f"
      },
      "source": [
        "<table align=\"left\">\n",
        "  <td>\n",
        "    <a href=\"https://colab.research.google.com/github/marco-canas/didactica_ciencia_datos/blob/main/propu/unidad_didac/3_prepro/caucasia/caucasia_27_july.ipynb\" target=\"_parent\"><img src=\"https://colab.research.google.com/assets/colab-badge.svg\" alt=\"Open In Colab\"/></a>\n",
        "  </td>\n",
        "</table>"
      ]
    },
    {
      "cell_type": "markdown",
      "id": "d9b4072f",
      "metadata": {
        "id": "d9b4072f"
      },
      "source": [
        "# Datos meteorológicos de Caucasia dados por el Ideam"
      ]
    },
    {
      "cell_type": "code",
      "execution_count": 2,
      "id": "e6fbbacf",
      "metadata": {
        "colab": {
          "base_uri": "https://localhost:8080/",
          "height": 539
        },
        "id": "e6fbbacf",
        "outputId": "df85613b-3fbd-47eb-b0b2-2967e059ff58"
      },
      "outputs": [
        {
          "output_type": "execute_result",
          "data": {
            "text/plain": [
              "    Cod_Div   Latitud   Longitud  Región Departamento       Fecha   Hora  \\\n",
              "0   5154000  7.977341 -75.198278     NaN    ANTIOQUIA  2022-07-27  14:00   \n",
              "1   5154000  7.977341 -75.198278     NaN    ANTIOQUIA  2022-07-27  15:00   \n",
              "2   5154000  7.977341 -75.198278     NaN    ANTIOQUIA  2022-07-27  16:00   \n",
              "3   5154000  7.977341 -75.198278     NaN    ANTIOQUIA  2022-07-27  17:00   \n",
              "4   5154000  7.977341 -75.198278     NaN    ANTIOQUIA  2022-07-27  18:00   \n",
              "..      ...       ...        ...     ...          ...         ...    ...   \n",
              "72  5154000  7.977341 -75.198278     NaN    ANTIOQUIA  2022-07-30  14:00   \n",
              "73  5154000  7.977341 -75.198278     NaN    ANTIOQUIA  2022-07-30  15:00   \n",
              "74  5154000  7.977341 -75.198278     NaN    ANTIOQUIA  2022-07-30  16:00   \n",
              "75  5154000  7.977341 -75.198278     NaN    ANTIOQUIA  2022-07-30  17:00   \n",
              "76  5154000  7.977341 -75.198278     NaN    ANTIOQUIA  2022-07-30  18:00   \n",
              "\n",
              "    Temperatura  Velocidad del Viento  Dirección del Viento Presión  \\\n",
              "0          28.6                   2.1                 350.0  1011.3   \n",
              "1          28.9                   2.2                 334.1  1010.7   \n",
              "2          28.8                   2.5                 343.7  1010.4   \n",
              "3          28.5                   2.6                 343.4  1010.5   \n",
              "4          27.5                   2.1                 343.4  1011.1   \n",
              "..          ...                   ...                   ...     ...   \n",
              "72         31.1                   3.4                 310.0  1008.6   \n",
              "73         30.8                   3.6                 310.0  1008.1   \n",
              "74         29.8                   3.4                 310.0  1007.8   \n",
              "75         28.4                   2.8                 310.0  1007.5   \n",
              "76         26.2                   2.2                 300.0  1008.1   \n",
              "\n",
              "   Punto de Rocío  Cobertura total nubosa  Precipitación (mm/h)  \\\n",
              "0            25.7                   100.0                   0.0   \n",
              "1            26.2                   100.0                   0.0   \n",
              "2            26.2                   100.0                   0.0   \n",
              "3            26.5                   100.0                   0.0   \n",
              "4            26.5                   100.0                   0.0   \n",
              "..            ...                     ...                   ...   \n",
              "72           23.4                    93.4                   0.0   \n",
              "73           23.7                    93.4                   0.0   \n",
              "74           24.3                    70.0                   0.0   \n",
              "75           25.4                    99.4                   0.0   \n",
              "76           24.4                    80.0                   0.0   \n",
              "\n",
              "    Probabilidad de Tormenta Humedad           Pronóstico   \n",
              "0                        0.0    84.7               Nublado  \n",
              "1                        0.0    85.3               Nublado  \n",
              "2                        0.0    85.8               Nublado  \n",
              "3                        0.0    89.1               Nublado  \n",
              "4                        0.0    93.8               Nublado  \n",
              "..                       ...     ...                   ...  \n",
              "72                       0.0    63.7               Nublado  \n",
              "73                       0.0    66.0               Nublado  \n",
              "74                       0.0    72.8  Parcialmente Nublado  \n",
              "75                       0.0    83.9               Nublado  \n",
              "76                       0.0    89.8               Nublado  \n",
              "\n",
              "[77 rows x 17 columns]"
            ],
            "text/html": [
              "\n",
              "  <div id=\"df-6df22afb-28b9-489f-afe0-1ddeb166b0cc\">\n",
              "    <div class=\"colab-df-container\">\n",
              "      <div>\n",
              "<style scoped>\n",
              "    .dataframe tbody tr th:only-of-type {\n",
              "        vertical-align: middle;\n",
              "    }\n",
              "\n",
              "    .dataframe tbody tr th {\n",
              "        vertical-align: top;\n",
              "    }\n",
              "\n",
              "    .dataframe thead th {\n",
              "        text-align: right;\n",
              "    }\n",
              "</style>\n",
              "<table border=\"1\" class=\"dataframe\">\n",
              "  <thead>\n",
              "    <tr style=\"text-align: right;\">\n",
              "      <th></th>\n",
              "      <th>Cod_Div</th>\n",
              "      <th>Latitud</th>\n",
              "      <th>Longitud</th>\n",
              "      <th>Región</th>\n",
              "      <th>Departamento</th>\n",
              "      <th>Fecha</th>\n",
              "      <th>Hora</th>\n",
              "      <th>Temperatura</th>\n",
              "      <th>Velocidad del Viento</th>\n",
              "      <th>Dirección del Viento</th>\n",
              "      <th>Presión</th>\n",
              "      <th>Punto de Rocío</th>\n",
              "      <th>Cobertura total nubosa</th>\n",
              "      <th>Precipitación (mm/h)</th>\n",
              "      <th>Probabilidad de Tormenta</th>\n",
              "      <th>Humedad</th>\n",
              "      <th>Pronóstico</th>\n",
              "    </tr>\n",
              "  </thead>\n",
              "  <tbody>\n",
              "    <tr>\n",
              "      <th>0</th>\n",
              "      <td>5154000</td>\n",
              "      <td>7.977341</td>\n",
              "      <td>-75.198278</td>\n",
              "      <td>NaN</td>\n",
              "      <td>ANTIOQUIA</td>\n",
              "      <td>2022-07-27</td>\n",
              "      <td>14:00</td>\n",
              "      <td>28.6</td>\n",
              "      <td>2.1</td>\n",
              "      <td>350.0</td>\n",
              "      <td>1011.3</td>\n",
              "      <td>25.7</td>\n",
              "      <td>100.0</td>\n",
              "      <td>0.0</td>\n",
              "      <td>0.0</td>\n",
              "      <td>84.7</td>\n",
              "      <td>Nublado</td>\n",
              "    </tr>\n",
              "    <tr>\n",
              "      <th>1</th>\n",
              "      <td>5154000</td>\n",
              "      <td>7.977341</td>\n",
              "      <td>-75.198278</td>\n",
              "      <td>NaN</td>\n",
              "      <td>ANTIOQUIA</td>\n",
              "      <td>2022-07-27</td>\n",
              "      <td>15:00</td>\n",
              "      <td>28.9</td>\n",
              "      <td>2.2</td>\n",
              "      <td>334.1</td>\n",
              "      <td>1010.7</td>\n",
              "      <td>26.2</td>\n",
              "      <td>100.0</td>\n",
              "      <td>0.0</td>\n",
              "      <td>0.0</td>\n",
              "      <td>85.3</td>\n",
              "      <td>Nublado</td>\n",
              "    </tr>\n",
              "    <tr>\n",
              "      <th>2</th>\n",
              "      <td>5154000</td>\n",
              "      <td>7.977341</td>\n",
              "      <td>-75.198278</td>\n",
              "      <td>NaN</td>\n",
              "      <td>ANTIOQUIA</td>\n",
              "      <td>2022-07-27</td>\n",
              "      <td>16:00</td>\n",
              "      <td>28.8</td>\n",
              "      <td>2.5</td>\n",
              "      <td>343.7</td>\n",
              "      <td>1010.4</td>\n",
              "      <td>26.2</td>\n",
              "      <td>100.0</td>\n",
              "      <td>0.0</td>\n",
              "      <td>0.0</td>\n",
              "      <td>85.8</td>\n",
              "      <td>Nublado</td>\n",
              "    </tr>\n",
              "    <tr>\n",
              "      <th>3</th>\n",
              "      <td>5154000</td>\n",
              "      <td>7.977341</td>\n",
              "      <td>-75.198278</td>\n",
              "      <td>NaN</td>\n",
              "      <td>ANTIOQUIA</td>\n",
              "      <td>2022-07-27</td>\n",
              "      <td>17:00</td>\n",
              "      <td>28.5</td>\n",
              "      <td>2.6</td>\n",
              "      <td>343.4</td>\n",
              "      <td>1010.5</td>\n",
              "      <td>26.5</td>\n",
              "      <td>100.0</td>\n",
              "      <td>0.0</td>\n",
              "      <td>0.0</td>\n",
              "      <td>89.1</td>\n",
              "      <td>Nublado</td>\n",
              "    </tr>\n",
              "    <tr>\n",
              "      <th>4</th>\n",
              "      <td>5154000</td>\n",
              "      <td>7.977341</td>\n",
              "      <td>-75.198278</td>\n",
              "      <td>NaN</td>\n",
              "      <td>ANTIOQUIA</td>\n",
              "      <td>2022-07-27</td>\n",
              "      <td>18:00</td>\n",
              "      <td>27.5</td>\n",
              "      <td>2.1</td>\n",
              "      <td>343.4</td>\n",
              "      <td>1011.1</td>\n",
              "      <td>26.5</td>\n",
              "      <td>100.0</td>\n",
              "      <td>0.0</td>\n",
              "      <td>0.0</td>\n",
              "      <td>93.8</td>\n",
              "      <td>Nublado</td>\n",
              "    </tr>\n",
              "    <tr>\n",
              "      <th>...</th>\n",
              "      <td>...</td>\n",
              "      <td>...</td>\n",
              "      <td>...</td>\n",
              "      <td>...</td>\n",
              "      <td>...</td>\n",
              "      <td>...</td>\n",
              "      <td>...</td>\n",
              "      <td>...</td>\n",
              "      <td>...</td>\n",
              "      <td>...</td>\n",
              "      <td>...</td>\n",
              "      <td>...</td>\n",
              "      <td>...</td>\n",
              "      <td>...</td>\n",
              "      <td>...</td>\n",
              "      <td>...</td>\n",
              "      <td>...</td>\n",
              "    </tr>\n",
              "    <tr>\n",
              "      <th>72</th>\n",
              "      <td>5154000</td>\n",
              "      <td>7.977341</td>\n",
              "      <td>-75.198278</td>\n",
              "      <td>NaN</td>\n",
              "      <td>ANTIOQUIA</td>\n",
              "      <td>2022-07-30</td>\n",
              "      <td>14:00</td>\n",
              "      <td>31.1</td>\n",
              "      <td>3.4</td>\n",
              "      <td>310.0</td>\n",
              "      <td>1008.6</td>\n",
              "      <td>23.4</td>\n",
              "      <td>93.4</td>\n",
              "      <td>0.0</td>\n",
              "      <td>0.0</td>\n",
              "      <td>63.7</td>\n",
              "      <td>Nublado</td>\n",
              "    </tr>\n",
              "    <tr>\n",
              "      <th>73</th>\n",
              "      <td>5154000</td>\n",
              "      <td>7.977341</td>\n",
              "      <td>-75.198278</td>\n",
              "      <td>NaN</td>\n",
              "      <td>ANTIOQUIA</td>\n",
              "      <td>2022-07-30</td>\n",
              "      <td>15:00</td>\n",
              "      <td>30.8</td>\n",
              "      <td>3.6</td>\n",
              "      <td>310.0</td>\n",
              "      <td>1008.1</td>\n",
              "      <td>23.7</td>\n",
              "      <td>93.4</td>\n",
              "      <td>0.0</td>\n",
              "      <td>0.0</td>\n",
              "      <td>66.0</td>\n",
              "      <td>Nublado</td>\n",
              "    </tr>\n",
              "    <tr>\n",
              "      <th>74</th>\n",
              "      <td>5154000</td>\n",
              "      <td>7.977341</td>\n",
              "      <td>-75.198278</td>\n",
              "      <td>NaN</td>\n",
              "      <td>ANTIOQUIA</td>\n",
              "      <td>2022-07-30</td>\n",
              "      <td>16:00</td>\n",
              "      <td>29.8</td>\n",
              "      <td>3.4</td>\n",
              "      <td>310.0</td>\n",
              "      <td>1007.8</td>\n",
              "      <td>24.3</td>\n",
              "      <td>70.0</td>\n",
              "      <td>0.0</td>\n",
              "      <td>0.0</td>\n",
              "      <td>72.8</td>\n",
              "      <td>Parcialmente Nublado</td>\n",
              "    </tr>\n",
              "    <tr>\n",
              "      <th>75</th>\n",
              "      <td>5154000</td>\n",
              "      <td>7.977341</td>\n",
              "      <td>-75.198278</td>\n",
              "      <td>NaN</td>\n",
              "      <td>ANTIOQUIA</td>\n",
              "      <td>2022-07-30</td>\n",
              "      <td>17:00</td>\n",
              "      <td>28.4</td>\n",
              "      <td>2.8</td>\n",
              "      <td>310.0</td>\n",
              "      <td>1007.5</td>\n",
              "      <td>25.4</td>\n",
              "      <td>99.4</td>\n",
              "      <td>0.0</td>\n",
              "      <td>0.0</td>\n",
              "      <td>83.9</td>\n",
              "      <td>Nublado</td>\n",
              "    </tr>\n",
              "    <tr>\n",
              "      <th>76</th>\n",
              "      <td>5154000</td>\n",
              "      <td>7.977341</td>\n",
              "      <td>-75.198278</td>\n",
              "      <td>NaN</td>\n",
              "      <td>ANTIOQUIA</td>\n",
              "      <td>2022-07-30</td>\n",
              "      <td>18:00</td>\n",
              "      <td>26.2</td>\n",
              "      <td>2.2</td>\n",
              "      <td>300.0</td>\n",
              "      <td>1008.1</td>\n",
              "      <td>24.4</td>\n",
              "      <td>80.0</td>\n",
              "      <td>0.0</td>\n",
              "      <td>0.0</td>\n",
              "      <td>89.8</td>\n",
              "      <td>Nublado</td>\n",
              "    </tr>\n",
              "  </tbody>\n",
              "</table>\n",
              "<p>77 rows × 17 columns</p>\n",
              "</div>\n",
              "      <button class=\"colab-df-convert\" onclick=\"convertToInteractive('df-6df22afb-28b9-489f-afe0-1ddeb166b0cc')\"\n",
              "              title=\"Convert this dataframe to an interactive table.\"\n",
              "              style=\"display:none;\">\n",
              "        \n",
              "  <svg xmlns=\"http://www.w3.org/2000/svg\" height=\"24px\"viewBox=\"0 0 24 24\"\n",
              "       width=\"24px\">\n",
              "    <path d=\"M0 0h24v24H0V0z\" fill=\"none\"/>\n",
              "    <path d=\"M18.56 5.44l.94 2.06.94-2.06 2.06-.94-2.06-.94-.94-2.06-.94 2.06-2.06.94zm-11 1L8.5 8.5l.94-2.06 2.06-.94-2.06-.94L8.5 2.5l-.94 2.06-2.06.94zm10 10l.94 2.06.94-2.06 2.06-.94-2.06-.94-.94-2.06-.94 2.06-2.06.94z\"/><path d=\"M17.41 7.96l-1.37-1.37c-.4-.4-.92-.59-1.43-.59-.52 0-1.04.2-1.43.59L10.3 9.45l-7.72 7.72c-.78.78-.78 2.05 0 2.83L4 21.41c.39.39.9.59 1.41.59.51 0 1.02-.2 1.41-.59l7.78-7.78 2.81-2.81c.8-.78.8-2.07 0-2.86zM5.41 20L4 18.59l7.72-7.72 1.47 1.35L5.41 20z\"/>\n",
              "  </svg>\n",
              "      </button>\n",
              "      \n",
              "  <style>\n",
              "    .colab-df-container {\n",
              "      display:flex;\n",
              "      flex-wrap:wrap;\n",
              "      gap: 12px;\n",
              "    }\n",
              "\n",
              "    .colab-df-convert {\n",
              "      background-color: #E8F0FE;\n",
              "      border: none;\n",
              "      border-radius: 50%;\n",
              "      cursor: pointer;\n",
              "      display: none;\n",
              "      fill: #1967D2;\n",
              "      height: 32px;\n",
              "      padding: 0 0 0 0;\n",
              "      width: 32px;\n",
              "    }\n",
              "\n",
              "    .colab-df-convert:hover {\n",
              "      background-color: #E2EBFA;\n",
              "      box-shadow: 0px 1px 2px rgba(60, 64, 67, 0.3), 0px 1px 3px 1px rgba(60, 64, 67, 0.15);\n",
              "      fill: #174EA6;\n",
              "    }\n",
              "\n",
              "    [theme=dark] .colab-df-convert {\n",
              "      background-color: #3B4455;\n",
              "      fill: #D2E3FC;\n",
              "    }\n",
              "\n",
              "    [theme=dark] .colab-df-convert:hover {\n",
              "      background-color: #434B5C;\n",
              "      box-shadow: 0px 1px 3px 1px rgba(0, 0, 0, 0.15);\n",
              "      filter: drop-shadow(0px 1px 2px rgba(0, 0, 0, 0.3));\n",
              "      fill: #FFFFFF;\n",
              "    }\n",
              "  </style>\n",
              "\n",
              "      <script>\n",
              "        const buttonEl =\n",
              "          document.querySelector('#df-6df22afb-28b9-489f-afe0-1ddeb166b0cc button.colab-df-convert');\n",
              "        buttonEl.style.display =\n",
              "          google.colab.kernel.accessAllowed ? 'block' : 'none';\n",
              "\n",
              "        async function convertToInteractive(key) {\n",
              "          const element = document.querySelector('#df-6df22afb-28b9-489f-afe0-1ddeb166b0cc');\n",
              "          const dataTable =\n",
              "            await google.colab.kernel.invokeFunction('convertToInteractive',\n",
              "                                                     [key], {});\n",
              "          if (!dataTable) return;\n",
              "\n",
              "          const docLinkHtml = 'Like what you see? Visit the ' +\n",
              "            '<a target=\"_blank\" href=https://colab.research.google.com/notebooks/data_table.ipynb>data table notebook</a>'\n",
              "            + ' to learn more about interactive tables.';\n",
              "          element.innerHTML = '';\n",
              "          dataTable['output_type'] = 'display_data';\n",
              "          await google.colab.output.renderOutput(dataTable, element);\n",
              "          const docLink = document.createElement('div');\n",
              "          docLink.innerHTML = docLinkHtml;\n",
              "          element.appendChild(docLink);\n",
              "        }\n",
              "      </script>\n",
              "    </div>\n",
              "  </div>\n",
              "  "
            ]
          },
          "metadata": {},
          "execution_count": 2
        }
      ],
      "source": [
        "import pandas as pd \n",
        "caucasia = pd.read_csv('https://raw.githubusercontent.com/marco-canas/didactica_ciencia_datos/main/propu/unidad_didac/3_prepro/caucasia/CAUCASIA.txt', encoding = 'latin-1')\n",
        "caucasia "
      ]
    },
    {
      "cell_type": "code",
      "execution_count": 3,
      "id": "3b004cf5",
      "metadata": {
        "colab": {
          "base_uri": "https://localhost:8080/"
        },
        "id": "3b004cf5",
        "outputId": "8eac02f5-01c1-4ae0-a2db-94465032f40f"
      },
      "outputs": [
        {
          "output_type": "stream",
          "name": "stdout",
          "text": [
            "<class 'pandas.core.frame.DataFrame'>\n",
            "RangeIndex: 77 entries, 0 to 76\n",
            "Data columns (total 17 columns):\n",
            " #   Column                    Non-Null Count  Dtype  \n",
            "---  ------                    --------------  -----  \n",
            " 0   Cod_Div                   77 non-null     int64  \n",
            " 1   Latitud                   77 non-null     float64\n",
            " 2   Longitud                  77 non-null     float64\n",
            " 3   Región                    0 non-null      float64\n",
            " 4   Departamento              77 non-null     object \n",
            " 5   Fecha                     77 non-null     object \n",
            " 6   Hora                      77 non-null     object \n",
            " 7   Temperatura               77 non-null     float64\n",
            " 8   Velocidad del Viento      77 non-null     float64\n",
            " 9   Dirección del Viento      77 non-null     float64\n",
            " 10  Presión                   77 non-null     object \n",
            " 11  Punto de Rocío            77 non-null     object \n",
            " 12  Cobertura total nubosa    77 non-null     float64\n",
            " 13  Precipitación (mm/h)      77 non-null     float64\n",
            " 14  Probabilidad de Tormenta  77 non-null     float64\n",
            " 15  Humedad                   77 non-null     object \n",
            " 16  Pronóstico                77 non-null     object \n",
            "dtypes: float64(9), int64(1), object(7)\n",
            "memory usage: 10.4+ KB\n"
          ]
        }
      ],
      "source": [
        "caucasia.info()"
      ]
    },
    {
      "cell_type": "markdown",
      "id": "2a2beb31",
      "metadata": {
        "id": "2a2beb31"
      },
      "source": [
        "Inferencias la sintesis dada por el método info()\n",
        "\n",
        "* Solamente no hay información alrededor de la región. \n",
        "* Al derededor de los demás parámetros no hay datos faltantes.\n",
        "* La longitud y la latitud son variables cuantitativas.\n",
        "* El atributo de departamento es una variable categórica nominal. \n",
        "* la variable de dirección del viento es cuantitativa continua.  "
      ]
    },
    {
      "cell_type": "markdown",
      "source": [
        "# Visualizaciones Gráficas"
      ],
      "metadata": {
        "id": "0GZJxLDEsSqT"
      },
      "id": "0GZJxLDEsSqT"
    },
    {
      "cell_type": "markdown",
      "source": [
        "## Visualizaciones para variables categóricas "
      ],
      "metadata": {
        "id": "-ACVHuAssYho"
      },
      "id": "-ACVHuAssYho"
    },
    {
      "cell_type": "code",
      "source": [
        "caucasia.keys() "
      ],
      "metadata": {
        "colab": {
          "base_uri": "https://localhost:8080/"
        },
        "id": "CmrYtuwzseDf",
        "outputId": "da15367c-b00d-4bcd-e89e-0cb75db75db8"
      },
      "id": "CmrYtuwzseDf",
      "execution_count": 5,
      "outputs": [
        {
          "output_type": "execute_result",
          "data": {
            "text/plain": [
              "Index(['Cod_Div', 'Latitud', 'Longitud', 'Región', 'Departamento', 'Fecha',\n",
              "       'Hora', 'Temperatura', 'Velocidad del Viento', 'Dirección del Viento',\n",
              "       'Presión', 'Punto de Rocío', 'Cobertura total nubosa',\n",
              "       'Precipitación (mm/h)', 'Probabilidad de Tormenta', 'Humedad',\n",
              "       'Pronóstico '],\n",
              "      dtype='object')"
            ]
          },
          "metadata": {},
          "execution_count": 5
        }
      ]
    },
    {
      "cell_type": "code",
      "source": [
        "caucasia['Pronóstico '].value_counts().plot(kind = 'bar') "
      ],
      "metadata": {
        "colab": {
          "base_uri": "https://localhost:8080/",
          "height": 383
        },
        "id": "ZkB4kEACttpS",
        "outputId": "3c55f580-e61c-4acf-dde1-13671c4a7e10"
      },
      "id": "ZkB4kEACttpS",
      "execution_count": 8,
      "outputs": [
        {
          "output_type": "execute_result",
          "data": {
            "text/plain": [
              "<matplotlib.axes._subplots.AxesSubplot at 0x7f1c1e44b610>"
            ]
          },
          "metadata": {},
          "execution_count": 8
        },
        {
          "output_type": "display_data",
          "data": {
            "text/plain": [
              "<Figure size 432x288 with 1 Axes>"
            ],
            "image/png": "[encoded data removed]"
          },
          "metadata": {
            "needs_background": "light"
          }
        }
      ]
    },
    {
      "cell_type": "markdown",
      "source": [
        "* El pronostico más frecuente es el de parcialmente nublado "
      ],
      "metadata": {
        "id": "6sRuH4wR0wmO"
      },
      "id": "6sRuH4wR0wmO"
    },
    {
      "cell_type": "code",
      "source": [
        "caucasia['Pronóstico '].value_counts().plot(kind = 'pie')  "
      ],
      "metadata": {
        "colab": {
          "base_uri": "https://localhost:8080/",
          "height": 266
        },
        "id": "T479nX3M1X1X",
        "outputId": "dd6b615c-c9eb-443c-9f12-a0419c60b4c2"
      },
      "id": "T479nX3M1X1X",
      "execution_count": 15,
      "outputs": [
        {
          "output_type": "execute_result",
          "data": {
            "text/plain": [
              "<matplotlib.axes._subplots.AxesSubplot at 0x7f1c1dd47450>"
            ]
          },
          "metadata": {},
          "execution_count": 15
        },
        {
          "output_type": "display_data",
          "data": {
            "text/plain": [
              "<Figure size 432x288 with 1 Axes>"
            ],
            "image/png": "[encoded data removed]"
          },
          "metadata": {}
        }
      ]
    },
    {
      "cell_type": "markdown",
      "source": [
        "* El pronóstico menos frecuente es el de nubledo con llovizna. "
      ],
      "metadata": {
        "id": "GGIkDy1H2QgM"
      },
      "id": "GGIkDy1H2QgM"
    },
    {
      "cell_type": "markdown",
      "source": [
        "## Visualización para variables cuantitativas continuas"
      ],
      "metadata": {
        "id": "sUpaDESQw7g6"
      },
      "id": "sUpaDESQw7g6"
    },
    {
      "cell_type": "code",
      "source": [
        "caucasia['Dirección del Viento'].plot(kind = 'hist', bins = 10) "
      ],
      "metadata": {
        "colab": {
          "base_uri": "https://localhost:8080/",
          "height": 283
        },
        "id": "aC2czhjqxJAQ",
        "outputId": "04684599-89ca-464e-c989-ca4a8565e1f4"
      },
      "id": "aC2czhjqxJAQ",
      "execution_count": 12,
      "outputs": [
        {
          "output_type": "execute_result",
          "data": {
            "text/plain": [
              "<matplotlib.axes._subplots.AxesSubplot at 0x7f1c1ddd3450>"
            ]
          },
          "metadata": {},
          "execution_count": 12
        },
        {
          "output_type": "display_data",
          "data": {
            "text/plain": [
              "<Figure size 432x288 with 1 Axes>"
            ],
            "image/png": "[encoded data removed]"
          },
          "metadata": {
            "needs_background": "light"
          }
        }
      ]
    },
    {
      "cell_type": "markdown",
      "source": [
        "* El rango de dirección más frecuente es de 150 a 170 grados. "
      ],
      "metadata": {
        "id": "-zXnQxqeyDll"
      },
      "id": "-zXnQxqeyDll"
    },
    {
      "cell_type": "code",
      "execution_count": null,
      "id": "6c8c1918",
      "metadata": {
        "id": "6c8c1918",
        "outputId": "ef1fe205-cfb2-42f4-ddd9-47260eb26f43"
      },
      "outputs": [
        {
          "data": {
            "text/plain": [
              "26.038961038961034"
            ]
          },
          "execution_count": 5,
          "metadata": {},
          "output_type": "execute_result"
        }
      ],
      "source": [
        "caucasia.Temperatura.mean() "
      ]
    },
    {
      "cell_type": "code",
      "execution_count": null,
      "id": "e7668791",
      "metadata": {
        "id": "e7668791"
      },
      "outputs": [],
      "source": [
        ""
      ]
    },
    {
      "cell_type": "markdown",
      "id": "e4008aad",
      "metadata": {
        "id": "e4008aad"
      },
      "source": [
        "## Referentes  \n",
        "\n",
        "* Dirección de datos meteorológicos del ideam: http://www.ideam.gov.co/web/pronosticos-y-alertas/datos-abiertos-ideam"
      ]
    },
    {
      "cell_type": "code",
      "execution_count": null,
      "id": "6b9ba1cd",
      "metadata": {
        "id": "6b9ba1cd"
      },
      "outputs": [],
      "source": [
        ""
      ]
    }
  ],
  "metadata": {
    "celltoolbar": "Slideshow",
    "kernelspec": {
      "display_name": "Python 3 (ipykernel)",
      "language": "python",
      "name": "python3"
    },
    "language_info": {
      "codemirror_mode": {
        "name": "ipython",
        "version": 3
      },
      "file_extension": ".py",
      "mimetype": "text/x-python",
      "name": "python",
      "nbconvert_exporter": "python",
      "pygments_lexer": "ipython3",
      "version": "3.9.12"
    },
    "colab": {
      "name": "caucasia_27_july.ipynb",
      "provenance": []
    }
  },
  "nbformat": 4,
  "nbformat_minor": 5
}