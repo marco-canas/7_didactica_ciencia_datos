{
 "cells": [
  {
   "cell_type": "markdown",
   "id": "15d3b4d3",
   "metadata": {
    "slideshow": {
     "slide_type": "slide"
    }
   },
   "source": [
    "<table align=\"left\">\n",
    "  <td>\n",
    "    <a href=\"https://colab.research.google.com/github/marco-canas/taca/blob/main/prop/unidad_didac/1_preprocesamiento/aed.ipynb\" target=\"_parent\"><img src=\"https://colab.research.google.com/assets/colab-badge.svg\" alt=\"Open In Colab\"/></a>\n",
    "  </td>\n",
    "  <td>\n",
    "    <a target=\"_blank\" href=\"https://kaggle.com/kernels/welcome?src=https://github.com/marco-canas/taca/blob/main/prop/unidad_didac/1_preprocesamiento/aed.ipynb\"><img src=\"https://kaggle.com/static/images/open-in-kaggle.svg\" /></a>\n",
    "  </td>\n",
    "</table>"
   ]
  },
  {
   "cell_type": "markdown",
   "id": "e257129b",
   "metadata": {
    "slideshow": {
     "slide_type": "slide"
    }
   },
   "source": [
    "## [Análisis exploratorio de datos](https://medium.com/@AnderRV/exploratory-data-analysis-in-python-ab5ef8d6460)"
   ]
  },
  {
   "cell_type": "markdown",
   "id": "a733c99c",
   "metadata": {
    "slideshow": {
     "slide_type": "slide"
    }
   },
   "source": [
    "[Video de apoyo]()"
   ]
  },
  {
   "cell_type": "markdown",
   "id": "f88e5706",
   "metadata": {
    "slideshow": {
     "slide_type": "slide"
    }
   },
   "source": [
    "## Importar datos CSV a Python\n",
    "Demostraremos que puede pasar de descargar un conjunto de datos a obtener información valiosa de él en solo unos minutos. "
   ]
  },
  {
   "cell_type": "markdown",
   "id": "3e593672",
   "metadata": {
    "slideshow": {
     "slide_type": "slide"
    }
   },
   "source": [
    "Puede obtener un conjunto de datos de automóviles de alta calidad de Alemania en CSV con más de 45.000 registros."
   ]
  },
  {
   "cell_type": "code",
   "execution_count": null,
   "id": "3c6635ad",
   "metadata": {
    "slideshow": {
     "slide_type": "slide"
    }
   },
   "outputs": [],
   "source": [
    "!pip install squarify"
   ]
  },
  {
   "cell_type": "markdown",
   "id": "261b0557",
   "metadata": {
    "slideshow": {
     "slide_type": "slide"
    }
   },
   "source": [
    "Primero, importe los datos del archivo csv `germany_cars`. "
   ]
  },
  {
   "cell_type": "markdown",
   "id": "5b7b9861",
   "metadata": {
    "slideshow": {
     "slide_type": "slide"
    }
   },
   "source": [
    "Pandas viene con una función útil `read_csv` que crea un DataFrame a partir de una ruta de archivo o búfer."
   ]
  },
  {
   "cell_type": "code",
   "execution_count": null,
   "id": "4d7c2017",
   "metadata": {
    "slideshow": {
     "slide_type": "slide"
    }
   },
   "outputs": [],
   "source": [
    "cars = pd.read_csv('C:/Users/Usuario/Desktop/taca/datasets/germany_cars/germany_cars.csv') \n",
    " "
   ]
  },
  {
   "cell_type": "code",
   "execution_count": null,
   "id": "4744d07e",
   "metadata": {
    "slideshow": {
     "slide_type": "slide"
    }
   },
   "outputs": [],
   "source": [
    "import pandas as pd \n",
    "import seaborn as sns"
   ]
  },
  {
   "cell_type": "code",
   "execution_count": null,
   "id": "02c807b9",
   "metadata": {
    "slideshow": {
     "slide_type": "slide"
    }
   },
   "outputs": [],
   "source": [
    "sns.get_dataset_names() "
   ]
  },
  {
   "cell_type": "code",
   "execution_count": null,
   "id": "06254c02",
   "metadata": {
    "slideshow": {
     "slide_type": "slide"
    }
   },
   "outputs": [],
   "source": [
    "cars.shape "
   ]
  },
  {
   "cell_type": "markdown",
   "id": "3c965bac",
   "metadata": {
    "slideshow": {
     "slide_type": "slide"
    }
   },
   "source": [
    "## Análisis exploratorio de datos  "
   ]
  },
  {
   "cell_type": "markdown",
   "id": "6e38da37",
   "metadata": {
    "slideshow": {
     "slide_type": "slide"
    }
   },
   "source": [
    "Una vez que tengamos los datos accesibles, podremos empezar a utilizarlos en nuestro código. "
   ]
  },
  {
   "cell_type": "markdown",
   "id": "0b4b311f",
   "metadata": {
    "slideshow": {
     "slide_type": "slide"
    }
   },
   "source": [
    "Para ver su estructura podemos utilizar el siguiente comando: "
   ]
  },
  {
   "cell_type": "code",
   "execution_count": null,
   "id": "f484c67f",
   "metadata": {
    "slideshow": {
     "slide_type": "slide"
    }
   },
   "outputs": [],
   "source": [
    "cars.sample(frac = 1).head(n = 20) "
   ]
  },
  {
   "cell_type": "code",
   "execution_count": null,
   "id": "8e62b165",
   "metadata": {
    "slideshow": {
     "slide_type": "slide"
    }
   },
   "outputs": [],
   "source": [
    "germany_cars.sample(frac = 1).head()  "
   ]
  },
  {
   "cell_type": "code",
   "execution_count": null,
   "id": "fd07a574",
   "metadata": {
    "slideshow": {
     "slide_type": "slide"
    }
   },
   "outputs": [],
   "source": [
    "germany_cars.shape "
   ]
  },
  {
   "cell_type": "code",
   "execution_count": null,
   "id": "3203a7fd",
   "metadata": {
    "slideshow": {
     "slide_type": "slide"
    }
   },
   "outputs": [],
   "source": [
    "germany_cars.head() "
   ]
  },
  {
   "cell_type": "code",
   "execution_count": null,
   "id": "cf7dff17",
   "metadata": {
    "slideshow": {
     "slide_type": "slide"
    }
   },
   "outputs": [],
   "source": [
    "germany_cars.make.unique() "
   ]
  },
  {
   "cell_type": "markdown",
   "id": "dc662485",
   "metadata": {
    "slideshow": {
     "slide_type": "slide"
    }
   },
   "source": [
    "Aquí podemos ver varios valores posibles para campos como `fuel`(combustible), `gear` (engranaje) y `offerType.` "
   ]
  },
  {
   "cell_type": "markdown",
   "id": "ec0dadb3",
   "metadata": {
    "slideshow": {
     "slide_type": "slide"
    }
   },
   "source": [
    "Imprimiremos sus valores únicos para entender cuántos hay y cómo tratarlos. "
   ]
  },
  {
   "cell_type": "markdown",
   "id": "495e6a94",
   "metadata": {
    "slideshow": {
     "slide_type": "slide"
    }
   },
   "source": [
    "A continuación se presenta la salida para el tipo de engranaje y oferta. "
   ]
  },
  {
   "cell_type": "markdown",
   "id": "44108ed2",
   "metadata": {
    "slideshow": {
     "slide_type": "slide"
    }
   },
   "source": [
    "Hay muchos tipos de combustible que agruparemos más adelante."
   ]
  },
  {
   "cell_type": "code",
   "execution_count": null,
   "id": "be5e8af7",
   "metadata": {
    "slideshow": {
     "slide_type": "slide"
    }
   },
   "outputs": [],
   "source": [
    "cars.gear.unique() "
   ]
  },
  {
   "cell_type": "code",
   "execution_count": null,
   "id": "0e206083",
   "metadata": {
    "slideshow": {
     "slide_type": "slide"
    }
   },
   "outputs": [],
   "source": [
    "cars.offerType.unique() \n"
   ]
  },
  {
   "cell_type": "markdown",
   "id": "335e60c4",
   "metadata": {
    "slideshow": {
     "slide_type": "slide"
    }
   },
   "source": [
    "Describiremos los campos que contienen valores numéricos. "
   ]
  },
  {
   "cell_type": "markdown",
   "id": "ea6599db",
   "metadata": {
    "slideshow": {
     "slide_type": "slide"
    }
   },
   "source": [
    "Mostrará estadísticas descriptivas para cada columna, como la media o la desviación estándar. "
   ]
  },
  {
   "cell_type": "markdown",
   "id": "b3c6ae47",
   "metadata": {
    "slideshow": {
     "slide_type": "slide"
    }
   },
   "source": [
    "Aquí se aplica un truco para evitar la notación científica y mostrar una salida más limpia."
   ]
  },
  {
   "cell_type": "code",
   "execution_count": null,
   "id": "02ff5260",
   "metadata": {
    "slideshow": {
     "slide_type": "slide"
    }
   },
   "outputs": [],
   "source": [
    "cars.describe() "
   ]
  },
  {
   "cell_type": "code",
   "execution_count": null,
   "id": "f9cbd23b",
   "metadata": {
    "slideshow": {
     "slide_type": "slide"
    }
   },
   "outputs": [],
   "source": [
    "cars.describe(percentiles = [.01, .25,.5,.75, .99]).apply(lambda s: s.apply('{0:.2f}'.format))"
   ]
  },
  {
   "cell_type": "markdown",
   "id": "8d76c0a7",
   "metadata": {
    "slideshow": {
     "slide_type": "slide"
    }
   },
   "source": [
    "Ahora tenemos una comprensión más profunda de lo que contienen los datos y las columnas. "
   ]
  },
  {
   "cell_type": "markdown",
   "id": "a97c9011",
   "metadata": {
    "slideshow": {
     "slide_type": "slide"
    }
   },
   "source": [
    "Podemos comenzar con la visualización de datos. "
   ]
  },
  {
   "cell_type": "markdown",
   "id": "f45f5e89",
   "metadata": {
    "slideshow": {
     "slide_type": "slide"
    }
   },
   "source": [
    "Veremos ahora cómo se distribuyen las marcas y luego continuaremos con la predicción de precios."
   ]
  },
  {
   "cell_type": "markdown",
   "id": "fea18cf0",
   "metadata": {
    "slideshow": {
     "slide_type": "slide"
    }
   },
   "source": [
    "## Visualización de las marcas de automóviles"
   ]
  },
  {
   "cell_type": "markdown",
   "id": "6f197a56",
   "metadata": {
    "slideshow": {
     "slide_type": "slide"
    }
   },
   "source": [
    "Para mostrar las 20 marcas principales en el conjunto de datos, las agruparemos por recuento de valores (value count).  "
   ]
  },
  {
   "cell_type": "markdown",
   "id": "42d801f7",
   "metadata": {
    "slideshow": {
     "slide_type": "slide"
    }
   },
   "source": [
    "Eso significa que crearemos un nuevo marco de datos con solo las marcas y sus recuentos, es decir, \"Volkswagen 6931\"."
   ]
  },
  {
   "cell_type": "markdown",
   "id": "4d85ad79",
   "metadata": {
    "slideshow": {
     "slide_type": "slide"
    }
   },
   "source": [
    "Luego ordenarlos y tomar el top 20. La última línea cambiará el nombre de las columnas para su posterior manipulación."
   ]
  },
  {
   "cell_type": "code",
   "execution_count": null,
   "id": "a7587988",
   "metadata": {
    "slideshow": {
     "slide_type": "slide"
    }
   },
   "outputs": [],
   "source": [
    "makes = pd.DataFrame( cars.make.value_counts() )\n",
    "makes.head() "
   ]
  },
  {
   "cell_type": "code",
   "execution_count": null,
   "id": "4ca56e9e",
   "metadata": {
    "slideshow": {
     "slide_type": "slide"
    }
   },
   "outputs": [],
   "source": [
    "makes.reset_index(level = 0, inplace = True)  "
   ]
  },
  {
   "cell_type": "code",
   "execution_count": null,
   "id": "8dcc857a",
   "metadata": {
    "slideshow": {
     "slide_type": "slide"
    }
   },
   "outputs": [],
   "source": [
    "makes.head() "
   ]
  },
  {
   "cell_type": "code",
   "execution_count": null,
   "id": "087fe670",
   "metadata": {
    "slideshow": {
     "slide_type": "slide"
    }
   },
   "outputs": [],
   "source": [
    "makes = makes.sort_values(by = 'make', ascending = False).head(20) "
   ]
  },
  {
   "cell_type": "code",
   "execution_count": null,
   "id": "3b3fe6f5",
   "metadata": {
    "slideshow": {
     "slide_type": "slide"
    }
   },
   "outputs": [],
   "source": [
    "makes "
   ]
  },
  {
   "cell_type": "code",
   "execution_count": null,
   "id": "b3238345",
   "metadata": {
    "slideshow": {
     "slide_type": "slide"
    }
   },
   "outputs": [],
   "source": [
    "makes.columns = ('make', 'size') "
   ]
  },
  {
   "cell_type": "code",
   "execution_count": null,
   "id": "7f7d0dcc",
   "metadata": {
    "slideshow": {
     "slide_type": "slide"
    }
   },
   "outputs": [],
   "source": [
    "makes.head(20) "
   ]
  },
  {
   "cell_type": "markdown",
   "id": "a3b31917",
   "metadata": {
    "slideshow": {
     "slide_type": "slide"
    }
   },
   "source": [
    "Calcularemos el precio medio por marca para mostrar junto con el número de artículos."
   ]
  },
  {
   "cell_type": "markdown",
   "id": "283e1763",
   "metadata": {
    "slideshow": {
     "slide_type": "slide"
    }
   },
   "source": [
    "Primero, agrupo los autos por marca del conjunto de datos original y extraiga sus medios en un nuevo DataFrame. Además, restablezca el índice."
   ]
  },
  {
   "cell_type": "markdown",
   "id": "7214a918",
   "metadata": {
    "slideshow": {
     "slide_type": "slide"
    }
   },
   "source": [
    "Luego, fusione los precios medios de nuevo en el DataFrame de marcas. "
   ]
  },
  {
   "cell_type": "markdown",
   "id": "a180b95f",
   "metadata": {
    "slideshow": {
     "slide_type": "slide"
    }
   },
   "source": [
    "Ahora contendrá columnas de marcas, tamaño y precios."
   ]
  },
  {
   "cell_type": "code",
   "execution_count": null,
   "id": "ce19f684",
   "metadata": {
    "slideshow": {
     "slide_type": "slide"
    }
   },
   "outputs": [],
   "source": [
    "group = cars.groupby(cars.make) \n",
    "group "
   ]
  },
  {
   "cell_type": "code",
   "execution_count": null,
   "id": "4c6bed10",
   "metadata": {
    "slideshow": {
     "slide_type": "slide"
    }
   },
   "outputs": [],
   "source": [
    "mean_price = pd.DataFrame(group.price.mean()) \n",
    "mean_price.reset_index(level=0, inplace=True) \n",
    "makes = pd.merge(makes, mean_price, how='left', on='make')"
   ]
  },
  {
   "cell_type": "markdown",
   "id": "7a773e36",
   "metadata": {
    "slideshow": {
     "slide_type": "slide"
    }
   },
   "source": [
    "El último paso para esta parte es mostrar el gráfico. "
   ]
  },
  {
   "cell_type": "markdown",
   "id": "516d72da",
   "metadata": {
    "slideshow": {
     "slide_type": "slide"
    }
   },
   "source": [
    "Se requieren dos nuevas importaciones para trazarlo."
   ]
  },
  {
   "cell_type": "markdown",
   "id": "d90c69b9",
   "metadata": {
    "slideshow": {
     "slide_type": "slide"
    }
   },
   "source": [
    "Comenzaremos creando las etiquetas que mostrarán la marca, el número de artículos y el precio medio."
   ]
  },
  {
   "cell_type": "markdown",
   "id": "cf56cf91",
   "metadata": {
    "slideshow": {
     "slide_type": "slide"
    }
   },
   "source": [
    "A continuación, use `squarify` para dividirlos en rectángulos y dimensionarlos de acuerdo con el número de elementos. "
   ]
  },
  {
   "cell_type": "markdown",
   "id": "2cbff705",
   "metadata": {
    "slideshow": {
     "slide_type": "slide"
    }
   },
   "source": [
    "Los parámetros esenciales son los tamaños y la etiqueta. "
   ]
  },
  {
   "cell_type": "markdown",
   "id": "e85b4740",
   "metadata": {
    "slideshow": {
     "slide_type": "slide"
    }
   },
   "source": [
    "El resto son puramente cosméticos."
   ]
  },
  {
   "cell_type": "markdown",
   "id": "7f354466",
   "metadata": {
    "slideshow": {
     "slide_type": "slide"
    }
   },
   "source": [
    "Las dos últimas líneas son para ocultar el eje y mostrar la trama. "
   ]
  },
  {
   "cell_type": "markdown",
   "id": "b8d8571f",
   "metadata": {
    "slideshow": {
     "slide_type": "slide"
    }
   },
   "source": [
    "Dependiendo de su entorno, ese paso final podría no ser necesario."
   ]
  },
  {
   "cell_type": "code",
   "execution_count": 1,
   "id": "04c1e073",
   "metadata": {
    "slideshow": {
     "slide_type": "slide"
    }
   },
   "outputs": [
    {
     "ename": "NameError",
     "evalue": "name 'makes' is not defined",
     "output_type": "error",
     "traceback": [
      "\u001b[1;31m---------------------------------------------------------------------------\u001b[0m",
      "\u001b[1;31mNameError\u001b[0m                                 Traceback (most recent call last)",
      "\u001b[1;32m<ipython-input-1-fe2ae27c4248>\u001b[0m in \u001b[0;36m<module>\u001b[1;34m\u001b[0m\n\u001b[0;32m      2\u001b[0m \u001b[1;32mimport\u001b[0m \u001b[0msquarify\u001b[0m\u001b[1;33m\u001b[0m\u001b[1;33m\u001b[0m\u001b[0m\n\u001b[0;32m      3\u001b[0m labels = [\"%s\\n%d items\\nMean price: %d€\" % (label) for label in \n\u001b[1;32m----> 4\u001b[1;33m \tzip(makes['make'], makes['size'], makes['price'])] \n\u001b[0m\u001b[0;32m      5\u001b[0m squarify.plot(sizes=makes['size'], label=labels, alpha=.8, \n\u001b[0;32m      6\u001b[0m \tcolor=plt.cm.tab20c.colors, edgecolor=\"white\", linewidth=2) \n",
      "\u001b[1;31mNameError\u001b[0m: name 'makes' is not defined"
     ]
    }
   ],
   "source": [
    "import matplotlib.pyplot as plt \n",
    "import squarify \n",
    "labels = [\"%s\\n%d items\\nMean price: %d€\" % (label) for label in \n",
    "\tzip(makes['make'], makes['size'], makes['price'])] \n",
    "squarify.plot(sizes=makes['size'], label=labels, alpha=.8, \n",
    "\tcolor=plt.cm.tab20c.colors, edgecolor=\"white\", linewidth=2) \n",
    "plt.axis('off') \n",
    "plt.show()"
   ]
  },
  {
   "cell_type": "markdown",
   "id": "178bee8c",
   "metadata": {
    "slideshow": {
     "slide_type": "slide"
    }
   },
   "source": [
    "# Visualización de tipos de combustible"
   ]
  },
  {
   "cell_type": "markdown",
   "id": "ed4caa7f",
   "metadata": {
    "slideshow": {
     "slide_type": "slide"
    }
   },
   "source": [
    "Vamos a echar un vistazo a los combustibles ahora, pero agrupando los eléctricos y otros."
   ]
  },
  {
   "cell_type": "code",
   "execution_count": null,
   "id": "e2fb5f52",
   "metadata": {
    "slideshow": {
     "slide_type": "slide"
    }
   },
   "outputs": [],
   "source": [
    "cars['fuel'] = cars['fuel'].replace( \n",
    "\t['Electric/Gasoline', 'Electric/Diesel', 'Electric'], \n",
    "\t'Electric') \n",
    "cars['fuel'] = cars['fuel'].replace( \n",
    "\t['CNG', 'LPG', 'Others', '-/- (Fuel)', 'Ethanol', 'Hydrogen'], \n",
    "\t'Others')"
   ]
  },
  {
   "cell_type": "code",
   "execution_count": null,
   "id": "368be0d5",
   "metadata": {
    "slideshow": {
     "slide_type": "slide"
    }
   },
   "outputs": [],
   "source": []
  },
  {
   "cell_type": "code",
   "execution_count": null,
   "id": "2c95f713",
   "metadata": {},
   "outputs": [],
   "source": []
  },
  {
   "cell_type": "code",
   "execution_count": null,
   "id": "51cbfee2",
   "metadata": {},
   "outputs": [],
   "source": []
  },
  {
   "cell_type": "markdown",
   "id": "b0bf53be",
   "metadata": {
    "slideshow": {
     "slide_type": "slide"
    }
   },
   "source": [
    "## Referentes \n",
    "\n",
    "* https://pandas.pydata.org/pandas-docs/stable/user_guide/indexing.html"
   ]
  }
 ],
 "metadata": {
  "celltoolbar": "Slideshow",
  "kernelspec": {
   "display_name": "Python 3",
   "language": "python",
   "name": "python3"
  },
  "language_info": {
   "codemirror_mode": {
    "name": "ipython",
    "version": 3
   },
   "file_extension": ".py",
   "mimetype": "text/x-python",
   "name": "python",
   "nbconvert_exporter": "python",
   "pygments_lexer": "ipython3",
   "version": "3.8.8"
  },
  "latex_envs": {
   "LaTeX_envs_menu_present": true,
   "autoclose": false,
   "autocomplete": false,
   "bibliofile": "biblio.bib",
   "cite_by": "apalike",
   "current_citInitial": 1,
   "eqLabelWithNumbers": true,
   "eqNumInitial": 1,
   "hotkeys": {
    "equation": "Ctrl-E",
    "itemize": "Ctrl-I"
   },
   "labels_anchors": false,
   "latex_user_defs": false,
   "report_style_numbering": false,
   "user_envs_cfg": false
  },
  "rise": {
   "enable_chalkboard": true,
   "theme": "sky",
   "transition": "zoom"
  }
 },
 "nbformat": 4,
 "nbformat_minor": 5
}
