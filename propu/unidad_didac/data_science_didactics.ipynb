{
 "cells": [
  {
   "cell_type": "markdown",
   "metadata": {
    "slideshow": {
     "slide_type": "slide"
    }
   },
   "source": [
    "<table align=\"left\">\n",
    "  <td>\n",
    "    <a href=\"https://colab.research.google.com/github/marco-canas/taca/blob/main/G_8/guion_g8.ipynb\" target=\"_parent\"><img src=\"https://colab.research.google.com/assets/colab-badge.svg\" alt=\"Open In Colab\"/></a>\n",
    "  </td>\n",
    "  <td>\n",
    "    <a target=\"_blank\" href=\"https://kaggle.com/kernels/welcome?src=https://github.com/marco-canas/taca/blob/main/G_8/guion_g8.ipynb\"><img src=\"https://kaggle.com/static/images/open-in-kaggle.svg\" /></a>\n",
    "  </td>\n",
    "</table>"
   ]
  },
  {
   "cell_type": "markdown",
   "metadata": {
    "id": "My7IkR-Es3X3",
    "slideshow": {
     "slide_type": "slide"
    }
   },
   "source": [
    "# Innovaciones tecnológicas y didácticas para la enseñanza y el aprendizaje de la ciencia de datos"
   ]
  },
  {
   "cell_type": "markdown",
   "metadata": {
    "id": "rREuDRaks3YF",
    "slideshow": {
     "slide_type": "slide"
    }
   },
   "source": [
    "* Mi nombre es Marco Julio Cañas Campillo \n",
    "* Soy de Medellín, y vivo en Caucasia donde me desempeño como docente ocasional para el área de matemáticas al servicio de la Dirección de regionalización. \n",
    "<img src = 'https://github.com/marco-canas/taca/blob/main/G_8/imagenes_presentacion/3_foto_caucasia.jpeg?raw=true'>"
   ]
  },
  {
   "cell_type": "markdown",
   "metadata": {
    "id": "rREuDRaks3YF",
    "slideshow": {
     "slide_type": "slide"
    }
   },
   "source": [
    "* Soy docente de educación presencial, no virtual ni de educación a distancia. \n",
    "* Licenciado en Matemáticas y Física de la **Facultad de Educación de la Universidad de Antioquia**."
   ]
  },
  {
   "cell_type": "markdown",
   "metadata": {
    "id": "rREuDRaks3YF",
    "slideshow": {
     "slide_type": "subslide"
    }
   },
   "source": [
    "* Magister en ciencias Matemáticas de la Universidad Nacional de Colombia sede Medellín. \n",
    "* Un apasionado de la solución de **problemas de enseñanza y aprendizaje en matemáticas**. \n",
    "* con 13 años de experiencia en educación superior.   \n",
    "* Les presentaré algunos de los problemas de enseñanza y aprendizaje observados en mi práctica docente durante la pandemia y las soluciones que he implementado. "
   ]
  },
  {
   "cell_type": "markdown",
   "metadata": {
    "slideshow": {
     "slide_type": "slide"
    }
   },
   "source": [
    "Grácias al **Coloquio en Didáctica de la matemática y la ciencia de Datos**  \n",
    "\n",
    "conformado por los profesores de la Facultad de Educación de la Universidad de Antioquia:  \n",
    "\n",
    "1. Yuber Hernany Tapias Arboleda y \n",
    "2. Marco Julio Cañas Campillo"
   ]
  },
  {
   "cell_type": "markdown",
   "metadata": {
    "id": "MhHmiDhMs3YF",
    "slideshow": {
     "slide_type": "subslide"
    }
   },
   "source": [
    "## Los problemas para enseñar ciencia de datos a comunidad académica de la Universidad de Antioquia"
   ]
  },
  {
   "cell_type": "markdown",
   "metadata": {
    "id": "MhHmiDhMs3YF",
    "slideshow": {
     "slide_type": "subslide"
    }
   },
   "source": [
    "### ¿Cómo enseñar de manera sincrónica en la Seccional Bajo Cauca de la Universidad de Antioquia? \n",
    "  "
   ]
  },
  {
   "cell_type": "markdown",
   "metadata": {
    "slideshow": {
     "slide_type": "slide"
    }
   },
   "source": [
    "* meet y \n",
    "<img src = 'https://moodleperu.org/wp-content/uploads/2021/02/google-meet-1.jpg'> "
   ]
  },
  {
   "cell_type": "markdown",
   "metadata": {
    "slideshow": {
     "slide_type": "slide"
    }
   },
   "source": [
    "* zoom \n",
    "<img src = 'https://th.bing.com/th/id/R.0f448bbd3efa021a446ae6bc1d4f2673?rik=0igHOQHddpgWUQ&pid=ImgRaw&r=0'> "
   ]
  },
  {
   "cell_type": "markdown",
   "metadata": {
    "id": "MhHmiDhMs3YF",
    "slideshow": {
     "slide_type": "subslide"
    }
   },
   "source": [
    "### ¿Qué estructura general tienen los instrumentos de enseñanza de la cencia de datos que en el Coloqui hemos consolidado?\n",
    "\n",
    "* Archivo .py que tenga el programa de automatización de los procesos de Machine Learning.\n",
    "\n"
   ]
  },
  {
   "cell_type": "markdown",
   "metadata": {
    "slideshow": {
     "slide_type": "slide"
    }
   },
   "source": [
    "* ¿Qué aplicaciones te ayudan a gestionar la pizarra digital?  \n",
    "\n",
    "(OneNote, Mypaint, Xournal, LiveBoard, Recortes de window, Paint) "
   ]
  },
  {
   "cell_type": "markdown",
   "metadata": {
    "slideshow": {
     "slide_type": "slide"
    }
   },
   "source": [
    "<img src = 'https://microsofters.com/wp-content/uploads/2017/10/Sin-t%C3%ADtulo-1.jpg'>"
   ]
  },
  {
   "cell_type": "markdown",
   "metadata": {
    "id": "MhHmiDhMs3YF",
    "slideshow": {
     "slide_type": "subslide"
    }
   },
   "source": [
    "### ¿Cómo diseñar la unidad didáctica para cada curso de matemáticas?"
   ]
  },
  {
   "cell_type": "markdown",
   "metadata": {
    "slideshow": {
     "slide_type": "slide"
    }
   },
   "source": [
    "[Proyecto Jupyter](https://jupyter.org/) \n",
    "\n",
    "<img src = 'https://i.ytimg.com/vi/-F4WS8o-G2A/hqdefault.jpg'> "
   ]
  },
  {
   "cell_type": "markdown",
   "metadata": {
    "slideshow": {
     "slide_type": "slide"
    }
   },
   "source": [
    "Ejemplo de línea de texto\n",
    "\n",
    "$$ x = \\frac{-b \\pm \\sqrt{b^{2} - 4ac}}{2a}  $$\n"
   ]
  },
  {
   "cell_type": "code",
   "execution_count": 9,
   "metadata": {
    "slideshow": {
     "slide_type": "slide"
    }
   },
   "outputs": [
    {
     "data": {
      "text/plain": [
       "(2.0, 1.0)"
      ]
     },
     "execution_count": 9,
     "metadata": {},
     "output_type": "execute_result"
    }
   ],
   "source": [
    "# Ejemplo de línea de códico\n",
    "import numpy as np \n",
    "def sol_cuadratica(a,b,c):\n",
    "    return (-b + np.sqrt(b**2 - 4*a*c))/(2*a),  (-b - np.sqrt(b**2 - 4*a*c))/(2*a)\n",
    "\n",
    "sol_cuadratica(1,-3,2) "
   ]
  },
  {
   "cell_type": "markdown",
   "metadata": {
    "id": "MhHmiDhMs3YF",
    "slideshow": {
     "slide_type": "subslide"
    }
   },
   "source": [
    "### ¿como puede el estudiante llevar sus notas de clase y experimentar con tales notas?\n",
    "\n",
    "en clase y fuera de ella"
   ]
  },
  {
   "cell_type": "markdown",
   "metadata": {
    "id": "gIBo-Logs3YG",
    "slideshow": {
     "slide_type": "slide"
    }
   },
   "source": [
    "## Dificultades para el aprendizaje en pandemia: \n",
    "\n",
    "\n",
    "* Muchísimos estudiantes no tenían computador. \n",
    "[Cómo convertir tú celular en un computador](https://www.youtube.com/watch?v=7kxK8oFr-S8) \n",
    "<img src = 'https://github.com/marco-canas/taca/blob/main/G_8/imagenes_presentacion/celular_como_computador_3.jpeg?raw=true'>\n"
   ]
  },
  {
   "cell_type": "markdown",
   "metadata": {
    "id": "gIBo-Logs3YG",
    "slideshow": {
     "slide_type": "slide"
    }
   },
   "source": [
    "* ¿Cómo adquirir el lenguaje simbólico? "
   ]
  },
  {
   "cell_type": "markdown",
   "metadata": {
    "slideshow": {
     "slide_type": "slide"
    }
   },
   "source": [
    "<img src = 'https://i.stack.imgur.com/T6NkD.png'>"
   ]
  },
  {
   "cell_type": "markdown",
   "metadata": {
    "slideshow": {
     "slide_type": "slide"
    }
   },
   "source": [
    "Podemos consolidar el curso como una unidad didáctica almacenada en el repositorio público GitHub\n",
    "<img src = 'https://github.com/marco-canas/taca/blob/main/G_8/imagenes_presentacion/github.PNG?raw=true'>"
   ]
  },
  {
   "cell_type": "markdown",
   "metadata": {
    "slideshow": {
     "slide_type": "slide"
    }
   },
   "source": [
    "Como por ejemplo la unidad didáctica que hemos consolidado para el cursod e [Ecuaciones Diferenciales Ordinarias (EDO)](https://github.com/marco-canas/Ecuaciones_Diferenciales)\n"
   ]
  },
  {
   "cell_type": "markdown",
   "metadata": {
    "slideshow": {
     "slide_type": "slide"
    }
   },
   "source": [
    "El estudiante puede acceder al curso e interactuar con los contenidos y ejecutar las tareas y modificarlas al vincularse a Colaboratory de Google. "
   ]
  },
  {
   "cell_type": "markdown",
   "metadata": {
    "slideshow": {
     "slide_type": "slide"
    }
   },
   "source": [
    "<img src = 'https://th.bing.com/th/id/R.7b3f5c211d17d7f82bd271bc8a7d709d?rik=OujYLIolzazpyw&pid=ImgRaw&r=0'> "
   ]
  },
  {
   "cell_type": "markdown",
   "metadata": {
    "slideshow": {
     "slide_type": "slide"
    }
   },
   "source": [
    "**Jupyter** es de hecho un conjunto de herramientas de código abierto para la computación interactiva y exploratoria. "
   ]
  },
  {
   "cell_type": "markdown",
   "metadata": {
    "slideshow": {
     "slide_type": "slide"
    }
   },
   "source": [
    "Los **Jupyter Notebook** son un formato de documento para escribir narrativas que intercalan contenido multimedia con código ejecutable, \n",
    "* utilizando el lenguaje Python."
   ]
  },
  {
   "cell_type": "markdown",
   "metadata": {
    "slideshow": {
     "slide_type": "slide"
    }
   },
   "source": [
    "Esto permite a los profesores de cursos desarrollar el contenido de sus cursos como cuadernos de Jupyter y crear secuencias de aprendizaje reutilizando ese contenido y gestionando las diferentes versiones de él. "
   ]
  },
  {
   "cell_type": "markdown",
   "metadata": {
    "id": "deVpyHOdt8MZ",
    "slideshow": {
     "slide_type": "slide"
    }
   },
   "source": [
    "## Consolidación de la propuesta didáctica "
   ]
  },
  {
   "cell_type": "markdown",
   "metadata": {
    "id": "3xQLljn-s3YF",
    "slideshow": {
     "slide_type": "slide"
    }
   },
   "source": [
    "1. Modelo pedagógico: flipped clasroom:\n",
    "\n",
    "<img src = 'https://www.iberdrola.com/wcorp/gc/prod/en_US/comunicacion/flipped_classroom_mult_1_res/Flipped_Classroom_746x419.jpg'> \n"
   ]
  },
  {
   "cell_type": "markdown",
   "metadata": {
    "id": "3xQLljn-s3YF",
    "slideshow": {
     "slide_type": "slide"
    }
   },
   "source": [
    "   1. Lectura de contenidos fuera de clase [canal YouTube del profesor](https://www.youtube.com/results?search_query=marco+julio+ca%C3%B1as+campillo)   \n",
    "   [Un repositorio publico de acceso a los contenidos y actividades de aula interactiva y colaborativa](https://github.com/)  y \n",
    "   2. Reflexión y aplicación de los contenidos durante la clase\n",
    "\n",
    " "
   ]
  },
  {
   "cell_type": "markdown",
   "metadata": {
    "id": "3xQLljn-s3YF",
    "slideshow": {
     "slide_type": "slide"
    }
   },
   "source": [
    "2. Una forma de [enseñanza reflexiva](https://github.com/marco-canas/Ecuaciones_Diferenciales/blob/main/asesoria/ejer_sec_7_6_boyce/solucion_pvi_sistema_eigenvalores_complejos.ipynb) basada en interpretar, vincular conceptos, diseñar planes de solución, llevar a cabo   \n",
    "   planes de manera fundamentada, verificar procesos desde diferentes puntos de vista y redactas conclusiones.   \n",
    "   \n",
    "   1. Identificación de conceptos, conocidos y desconocidos, relacionados al problema.\n",
    "   2. Interpretación verbal, algebraica y gráfica del problema matemático.\n",
    "   3. Diseño de un plan de solución \n",
    "   4. Implementar el plan de solución describiendo verbalmente cada paso y justificando cada uno   \n",
    "      de los mismos.\n",
    "   6. elaborar una conclusión acerca de la solución obtenida.\n",
    "   7. Verificar analíticamente la solución.\n",
    "   8. verificar con sympy y numpy la solución obtenida.\n",
    "   9. verificar gráficamente la solución.\n",
    "   10. Elaborar una conclusión acerca de la consistencia de las verificaciones. \n",
    " "
   ]
  },
  {
   "cell_type": "markdown",
   "metadata": {
    "id": "3xQLljn-s3YF",
    "slideshow": {
     "slide_type": "slide"
    }
   },
   "source": [
    "  \n",
    "3. Uso de cuadernos Jupyter desde (Google Drive, [CoCal](https://cocalc.com/), [Anaconda](https://anaconda.org/), [Kaggle](https://www.kaggle.com/), [GitHub](https://github.com/))     "
   ]
  },
  {
   "cell_type": "markdown",
   "metadata": {
    "slideshow": {
     "slide_type": "slide"
    }
   },
   "source": [
    "<img src = 'https://github.com/marco-canas/taca/blob/main/G_8/imagenes_presentacion/drive_colab.jpg?raw=true'>"
   ]
  },
  {
   "cell_type": "markdown",
   "metadata": {
    "id": "3xQLljn-s3YF",
    "slideshow": {
     "slide_type": "slide"
    }
   },
   "source": [
    "4. Tableta digitalizadora (Permite la presentación de la solución  en tiempo real de un problema guardando en PDF los   \n",
    "   anotado en el tablero).  "
   ]
  },
  {
   "cell_type": "markdown",
   "metadata": {
    "slideshow": {
     "slide_type": "slide"
    }
   },
   "source": [
    "<img src = 'https://github.com/marco-canas/taca/blob/main/G_8/imagenes_presentacion/xournal_tablero.png?raw=true'>"
   ]
  },
  {
   "cell_type": "markdown",
   "metadata": {
    "id": "3xQLljn-s3YF",
    "slideshow": {
     "slide_type": "slide"
    }
   },
   "source": [
    "5. Un dispositivo de conversión del celular a computador "
   ]
  },
  {
   "cell_type": "markdown",
   "metadata": {
    "id": "gIBo-Logs3YG",
    "slideshow": {
     "slide_type": "slide"
    }
   },
   "source": [
    "<img src = 'https://github.com/marco-canas/taca/blob/main/G_8/imagenes_presentacion/celular_como_computador_3.jpeg?raw=true'>\n"
   ]
  },
  {
   "cell_type": "markdown",
   "metadata": {
    "slideshow": {
     "slide_type": "slide"
    }
   },
   "source": [
    "## Respuesta de los estudiantes"
   ]
  },
  {
   "cell_type": "markdown",
   "metadata": {
    "slideshow": {
     "slide_type": "slide"
    }
   },
   "source": [
    "* Ya los estudiantes realizan sus propios videos utilizando liveboard y Colaboratory de Google  \n",
    "\n",
    "[video producido estudiante de biología](https://www.youtube.com/watch?v=3_1Jpcmp7k8&t=106s)"
   ]
  },
  {
   "cell_type": "markdown",
   "metadata": {
    "slideshow": {
     "slide_type": "slide"
    }
   },
   "source": [
    "## ¿Cómo evaluar de acuerdo a este propuesta de enseñanza?"
   ]
  },
  {
   "cell_type": "markdown",
   "metadata": {
    "slideshow": {
     "slide_type": "slide"
    }
   },
   "source": [
    "* Examen escrito sesión sincrónica de dos horas\n",
    "* capacidad oral de transmitir un conocimiento (elaborar video explicativo)\n",
    "* Sesiones de coevaluación ()"
   ]
  },
  {
   "cell_type": "markdown",
   "metadata": {
    "slideshow": {
     "slide_type": "slide"
    }
   },
   "source": [
    "!Muchas gracias¡"
   ]
  }
 ],
 "metadata": {
  "celltoolbar": "Slideshow",
  "colab": {
   "collapsed_sections": [],
   "name": "guion_g8.ipynb",
   "provenance": []
  },
  "hide_input": false,
  "interpreter": {
   "hash": "11ffc019a02cc0e21e59860b66c88ea81995ce9237607e8ab2c087a287ee4867"
  },
  "kernelspec": {
   "display_name": "Python 3",
   "language": "python",
   "name": "python3"
  },
  "language_info": {
   "codemirror_mode": {
    "name": "ipython",
    "version": 3
   },
   "file_extension": ".py",
   "mimetype": "text/x-python",
   "name": "python",
   "nbconvert_exporter": "python",
   "pygments_lexer": "ipython3",
   "version": "3.8.8"
  },
  "latex_envs": {
   "LaTeX_envs_menu_present": true,
   "autoclose": false,
   "autocomplete": true,
   "bibliofile": "biblio.bib",
   "cite_by": "apalike",
   "current_citInitial": 1,
   "eqLabelWithNumbers": true,
   "eqNumInitial": 1,
   "hotkeys": {
    "equation": "Ctrl-E",
    "itemize": "Ctrl-I"
   },
   "labels_anchors": false,
   "latex_user_defs": false,
   "report_style_numbering": false,
   "user_envs_cfg": false
  },
  "nbTranslate": {
   "displayLangs": [
    "*"
   ],
   "hotkey": "alt-t",
   "langInMainMenu": true,
   "sourceLang": "en",
   "targetLang": "es",
   "useGoogleTranslate": true
  },
  "rise": {
   "enable_chalkboard": true,
   "theme": "sky",
   "transition": "sky"
  }
 },
 "nbformat": 4,
 "nbformat_minor": 2
}
