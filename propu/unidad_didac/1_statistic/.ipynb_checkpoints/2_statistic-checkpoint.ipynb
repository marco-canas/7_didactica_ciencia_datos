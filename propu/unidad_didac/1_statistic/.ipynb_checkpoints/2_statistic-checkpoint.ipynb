{
 "cells": [
  {
   "cell_type": "markdown",
   "id": "1e1b85e3",
   "metadata": {},
   "source": [
    "# [Guía para principiantes de estadística en ciencia de datos](https://www.theaidream.com/post/beginners-guide-to-statistics-in-data-science) "
   ]
  },
  {
   "cell_type": "markdown",
   "id": "cafdcd58",
   "metadata": {},
   "source": [
    "<img src = 'https://static.wixstatic.com/media/3eee0b_080b34c53b6445c8b9236dfb38f08758~mv2.jpeg/v1/fill/w_864,h_384,al_c,lg_1,q_90/3eee0b_080b34c53b6445c8b9236dfb38f08758~mv2.webp'> "
   ]
  },
  {
   "cell_type": "markdown",
   "id": "b4bd9fd6",
   "metadata": {},
   "source": [
    "## Introducción"
   ]
  },
  {
   "cell_type": "markdown",
   "id": "cb66c57a",
   "metadata": {},
   "source": [
    "La estadística es una disciplina de las matemáticas que se acepta globalmente como un requisito previo para una comprensión más profunda del aprendizaje automático."
   ]
  },
  {
   "cell_type": "markdown",
   "id": "7fe9184a",
   "metadata": {},
   "source": [
    "Aunque la estadística es un campo grande con muchas teorías y hallazgos oscuros, las herramientas de tuercas y tornillos, y las notaciones tomadas del campo son necesarias para los profesionales del aprendizaje automático. Con una base firme de lo que es la estadística, es posible centrarse solo en las partes buenas o relevantes."
   ]
  },
  {
   "cell_type": "markdown",
   "id": "a53a90b2",
   "metadata": {},
   "source": [
    "Cuando se trata de las herramientas estadísticas que utilizamos en la práctica, puede ser útil dividir el campo de la estadística en dos grandes grupos de métodos: estadísticas descriptivas para resumir datos y estadísticas inferenciales para sacar conclusiones de muestras de datos."
   ]
  },
  {
   "cell_type": "code",
   "execution_count": null,
   "id": "5d12c9ce",
   "metadata": {},
   "outputs": [],
   "source": []
  },
  {
   "cell_type": "code",
   "execution_count": null,
   "id": "bdf9fe99",
   "metadata": {},
   "outputs": [],
   "source": []
  },
  {
   "cell_type": "markdown",
   "id": "0ce19b64",
   "metadata": {},
   "source": [
    "## Referentes  \n",
    "\n",
    "* "
   ]
  }
 ],
 "metadata": {
  "kernelspec": {
   "display_name": "Python 3",
   "language": "python",
   "name": "python3"
  },
  "language_info": {
   "codemirror_mode": {
    "name": "ipython",
    "version": 3
   },
   "file_extension": ".py",
   "mimetype": "text/x-python",
   "name": "python",
   "nbconvert_exporter": "python",
   "pygments_lexer": "ipython3",
   "version": "3.8.8"
  },
  "latex_envs": {
   "LaTeX_envs_menu_present": true,
   "autoclose": false,
   "autocomplete": false,
   "bibliofile": "biblio.bib",
   "cite_by": "apalike",
   "current_citInitial": 1,
   "eqLabelWithNumbers": true,
   "eqNumInitial": 1,
   "hotkeys": {
    "equation": "Ctrl-E",
    "itemize": "Ctrl-I"
   },
   "labels_anchors": false,
   "latex_user_defs": false,
   "report_style_numbering": false,
   "user_envs_cfg": false
  }
 },
 "nbformat": 4,
 "nbformat_minor": 5
}
