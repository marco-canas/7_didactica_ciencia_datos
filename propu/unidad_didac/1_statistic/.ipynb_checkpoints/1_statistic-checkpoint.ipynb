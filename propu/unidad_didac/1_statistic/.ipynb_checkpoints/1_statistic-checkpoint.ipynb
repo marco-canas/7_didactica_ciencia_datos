{
 "cells": [
  {
   "cell_type": "markdown",
   "id": "eb6cc88a",
   "metadata": {
    "slideshow": {
     "slide_type": "slide"
    }
   },
   "source": [
    "<table align=\"left\">\n",
    "  <td>\n",
    "    <a href=\"https://colab.research.google.com/github/marco-canas/taca/blob/main/ref/geron/chap_2/4_visualize/2_correlations.ipynb\" target=\"_parent\"><img src=\"https://colab.research.google.com/assets/colab-badge.svg\" alt=\"Open In Colab\"/></a>\n",
    "  </td>\n",
    "</table>"
   ]
  },
  {
   "cell_type": "markdown",
   "id": "0988dd3e",
   "metadata": {
    "slideshow": {
     "slide_type": "slide"
    }
   },
   "source": [
    "# [Estadísticas básicas para la ciencia de datos](https://medium.com/mlearning-ai/important-statistical-concepts-for-data-scientists-54e09106b75e)"
   ]
  },
  {
   "cell_type": "markdown",
   "id": "44b65169",
   "metadata": {
    "slideshow": {
     "slide_type": "slide"
    }
   },
   "source": [
    "## [Video de apoyo]() "
   ]
  },
  {
   "cell_type": "markdown",
   "id": "a6f1e688",
   "metadata": {
    "slideshow": {
     "slide_type": "slide"
    }
   },
   "source": [
    "<img src = 'https://miro.medium.com/max/1050/1*oMQun4oLQWF6w-6XH617tw.jpeg'>"
   ]
  },
  {
   "cell_type": "markdown",
   "id": "03a275f6",
   "metadata": {
    "slideshow": {
     "slide_type": "slide"
    }
   },
   "source": [
    "El análisis estadístico nos permite obtener información valiosa de los datos disponibles. "
   ]
  },
  {
   "cell_type": "markdown",
   "id": "6c463cc5",
   "metadata": {
    "slideshow": {
     "slide_type": "slide"
    }
   },
   "source": [
    "Una comprensión sólida de los conceptos y técnicas estadísticas importantes es absolutamente esencial para analizar los datos utilizando diversas herramientas. "
   ]
  },
  {
   "cell_type": "markdown",
   "id": "fbbb7276",
   "metadata": {
    "slideshow": {
     "slide_type": "slide"
    }
   },
   "source": [
    "Este artículo trata de algunos conceptos estadísticos fundamentales que todo entusiasta de la ciencia de datos debe conocer. "
   ]
  },
  {
   "cell_type": "markdown",
   "id": "d0c03eb3",
   "metadata": {
    "slideshow": {
     "slide_type": "slide"
    }
   },
   "source": [
    "También se han incluido fragmentos de código en Python, siempre que sea necesario, para una mejor comprensión."
   ]
  },
  {
   "cell_type": "markdown",
   "id": "e88a878f",
   "metadata": {
    "slideshow": {
     "slide_type": "slide"
    }
   },
   "source": [
    "Antes de entrar en detalles, echemos un vistazo a los temas cubiertos en este artículo:"
   ]
  },
  {
   "cell_type": "markdown",
   "id": "868dab7e",
   "metadata": {
    "slideshow": {
     "slide_type": "slide"
    }
   },
   "source": [
    "* Estadística descriptiva vs. inferencial  \n",
    "* Tipos de datos  \n",
    "* Probabilidad y teorema de Bayes  \n",
    "* Medidas de tendencia central  \n",
    "* Asimetría  \n",
    "* Curtosis  \n",
    "* Medidas de dispersión  \n",
    "* Covarianza  \n",
    "* Correlación  \n",
    "* Distribuciones de probabilidad  \n",
    "* Prueba de hipótesis  \n",
    "* Regresión"
   ]
  },
  {
   "cell_type": "markdown",
   "id": "a2411340",
   "metadata": {
    "slideshow": {
     "slide_type": "slide"
    }
   },
   "source": [
    "## Estadística descriptiva vs. inferencial  "
   ]
  },
  {
   "cell_type": "markdown",
   "id": "3121139a",
   "metadata": {
    "slideshow": {
     "slide_type": "slide"
    }
   },
   "source": [
    "La estadística en su conjunto se ocupa de la recopilación, organización, análisis, interpretación y presentación de datos. "
   ]
  },
  {
   "cell_type": "markdown",
   "id": "87398922",
   "metadata": {
    "slideshow": {
     "slide_type": "slide"
    }
   },
   "source": [
    "Dentro de las estadísticas, hay dos ramas principales:"
   ]
  },
  {
   "cell_type": "markdown",
   "id": "e64b351c",
   "metadata": {
    "slideshow": {
     "slide_type": "slide"
    }
   },
   "source": [
    "1. **Estadística descriptiva:** Esto implica describir las características de los datos, organizar y    presentar los datos visualmente a través de tablas / gráficos o a través de cálculos numéricos \n",
    "   utilizando medidas de tendencia central, variabilidad y distribución. Un punto digno de mención es\n",
    "   que las conclusiones se extraen sobre la base de datos ya conocidos."
   ]
  },
  {
   "cell_type": "markdown",
   "id": "bc9f5fa7",
   "metadata": {
    "slideshow": {
     "slide_type": "slide"
    }
   },
   "source": [
    "2. **Estadística inferencial:** Esto implica sacar inferencias y hacer generalizaciones sobre   \n",
    "   poblaciones más grandes utilizando muestras tomadas de ella. Por lo tanto, se requieren cálculos  \n",
    "   más  complejos. Los resultados finales se producen utilizando técnicas como pruebas de hipótesis,\n",
    "   correlación y análisis de regresión. Los resultados futuros previstos y las conclusiones extraídas\n",
    "   van más allá del nivel de datos disponibles."
   ]
  },
  {
   "cell_type": "markdown",
   "id": "35872ac1",
   "metadata": {
    "slideshow": {
     "slide_type": "slide"
    }
   },
   "source": [
    "## Tipos de datos\n"
   ]
  },
  {
   "cell_type": "markdown",
   "id": "5ba18e37",
   "metadata": {
    "slideshow": {
     "slide_type": "slide"
    }
   },
   "source": [
    "<img src = 'https://miro.medium.com/max/1050/1*CucvG1Fo1rx5BB9N_11Osw.png'>"
   ]
  },
  {
   "cell_type": "markdown",
   "id": "650df0bf",
   "metadata": {
    "slideshow": {
     "slide_type": "slide"
    }
   },
   "source": [
    "Para realizar un correcto Análisis Exploratorio de Datos (EDA) aplicando las técnicas estadísticas más adecuadas, necesitamos entender qué tipo de datos estamos trabajando."
   ]
  },
  {
   "cell_type": "markdown",
   "id": "9af9841a",
   "metadata": {
    "slideshow": {
     "slide_type": "slide"
    }
   },
   "source": [
    "## 1. Datos categóricos"
   ]
  },
  {
   "cell_type": "markdown",
   "id": "9408cd34",
   "metadata": {
    "slideshow": {
     "slide_type": "slide"
    }
   },
   "source": [
    "Los datos categóricos representan variables cualitativas como \n",
    "\n",
    "* el género, \n",
    "* el grupo sanguíneo, \n",
    "* la lengua materna, etc. \n",
    "\n",
    "de un individuo. "
   ]
  },
  {
   "cell_type": "markdown",
   "id": "8db1f304",
   "metadata": {
    "slideshow": {
     "slide_type": "slide"
    }
   },
   "source": [
    "Los datos categóricos también deben estar en forma de valores numéricos sin ningún significado matemático. "
   ]
  },
  {
   "cell_type": "markdown",
   "id": "d64847ba",
   "metadata": {
    "slideshow": {
     "slide_type": "slide"
    }
   },
   "source": [
    "Por ejemplo, si el género es la variable, la mujer puede ser representada por 1 y el macho por 0."
   ]
  },
  {
   "cell_type": "markdown",
   "id": "8d53d617",
   "metadata": {
    "slideshow": {
     "slide_type": "slide"
    }
   },
   "source": [
    "* **Datos nominales:** Los valores etiquetan las variables y no hay una jerarquía definida entre las categorías, es decir, no hay orden ni dirección. Por ejemplo, religión, género, etc. Las escalas nominales con sólo dos categorías se denominan \"dicotómicas\"."
   ]
  },
  {
   "cell_type": "markdown",
   "id": "0b503149",
   "metadata": {
    "slideshow": {
     "slide_type": "slide"
    }
   },
   "source": [
    "* **Datos ordinales:** Existe orden o jerarquía entre las categorías. Por ejemplo, calificaciones de calidad, nivel de educación, calificaciones de las letras de los estudiantes, etc."
   ]
  },
  {
   "cell_type": "markdown",
   "id": "520af6ec",
   "metadata": {
    "slideshow": {
     "slide_type": "slide"
    }
   },
   "source": [
    "## 2. Datos numéricos"
   ]
  },
  {
   "cell_type": "markdown",
   "id": "01444ad5",
   "metadata": {
    "slideshow": {
     "slide_type": "slide"
    }
   },
   "source": [
    "Los datos numéricos representan variables cuantitativas expresadas solo en términos de números. Por ejemplo, la altura, el peso, etc. de un individuo."
   ]
  },
  {
   "cell_type": "markdown",
   "id": "bf5a9827",
   "metadata": {
    "slideshow": {
     "slide_type": "slide"
    }
   },
   "source": [
    "* **Datos discretos:** Los valores son contables y son enteros (la mayoría de las veces números enteros). Por ejemplo, número de coches en un aparcamiento, no de países, etc."
   ]
  },
  {
   "cell_type": "markdown",
   "id": "389135fb",
   "metadata": {
    "slideshow": {
     "slide_type": "slide"
    }
   },
   "source": [
    "* **Datos continuos:** Las observaciones se pueden medir pero no se pueden contar. Los datos asumen cualquier valor dentro de un rango. Por ejemplo, peso, altura, etc. Los datos continuos se pueden dividir en datos de intervalo (valores ordenados que tienen las mismas diferencias entre ellos pero no tienen cero verdadero) y datos de relación (valores ordenados que tienen las mismas diferencias entre ellos y existe cero verdadero)."
   ]
  },
  {
   "cell_type": "markdown",
   "id": "bed45e32",
   "metadata": {
    "slideshow": {
     "slide_type": "slide"
    }
   },
   "source": [
    "# Probabilidad y teorema de Bayes"
   ]
  },
  {
   "cell_type": "markdown",
   "id": "166c1a11",
   "metadata": {
    "slideshow": {
     "slide_type": "slide"
    }
   },
   "source": [
    "La probabilidad es la medida de la probabilidad de que ocurra un evento."
   ]
  },
  {
   "cell_type": "markdown",
   "id": "a4484fb2",
   "metadata": {
    "slideshow": {
     "slide_type": "slide"
    }
   },
   "source": [
    "* $P(A) + P(A') = 1$  \n",
    "\n",
    "* $P(A \\cup B) = P(A) + P(B) − P(A \\cap B)$  \n",
    "\n",
    "* **Eventos independientes:** Dos eventos son independientes si la ocurrencia de uno no afecta la probabilidad de ocurrencia del otro. $P(A \\cap B) = P(A)P(B)$ donde $P(A) != 0$ y $P(B) != 0$.  \n",
    "\n",
    "* **Eventos mutuamente excluyentes:** Dos eventos son mutuamente excluyentes o disjuntos si no pueden ocurrir ambos al mismo tiempo. $P(A \\cap B) = 0$ y $P(A \\cup B) = P(A) + P(B)$.  \n",
    "\n",
    "* **Probabilidad Condicional:** Probabilidad de un evento A, dado que ya ha ocurrido otro evento B. Esto está representado por $P(A| B)$. $P(A|B) = P(A \\cap B)/P(B)$, cuando $P(B) > 0$."
   ]
  },
  {
   "cell_type": "markdown",
   "id": "e709cfd5",
   "metadata": {
    "slideshow": {
     "slide_type": "slide"
    }
   },
   "source": [
    "* Teorema de Bayes  \n",
    "\n",
    "$$ P(H|E) = \\frac{ P(H) \\ast P(E|H) }{ P(E) }  $$\n"
   ]
  },
  {
   "cell_type": "markdown",
   "id": "14f190af",
   "metadata": {
    "slideshow": {
     "slide_type": "slide"
    }
   },
   "source": [
    "## Measures of Central Tendency"
   ]
  },
  {
   "cell_type": "code",
   "execution_count": 3,
   "id": "55e0b487",
   "metadata": {
    "slideshow": {
     "slide_type": "slide"
    }
   },
   "outputs": [],
   "source": [
    "import statistics \n",
    "import numpy as np "
   ]
  },
  {
   "cell_type": "markdown",
   "id": "2de45637",
   "metadata": {
    "slideshow": {
     "slide_type": "slide"
    }
   },
   "source": [
    "* **Media:** Valor medio del conjunto de datos."
   ]
  },
  {
   "cell_type": "code",
   "execution_count": 4,
   "id": "48ce2963",
   "metadata": {
    "slideshow": {
     "slide_type": "slide"
    }
   },
   "outputs": [
    {
     "data": {
      "text/plain": [
       "2.8"
      ]
     },
     "execution_count": 4,
     "metadata": {},
     "output_type": "execute_result"
    }
   ],
   "source": [
    "statistics.mean([1,2,3,4,4])"
   ]
  },
  {
   "cell_type": "code",
   "execution_count": 5,
   "id": "243f2c32",
   "metadata": {},
   "outputs": [
    {
     "data": {
      "text/plain": [
       "2.8"
      ]
     },
     "execution_count": 5,
     "metadata": {},
     "output_type": "execute_result"
    }
   ],
   "source": [
    "np.mean([1,2,3,4,4])"
   ]
  },
  {
   "cell_type": "markdown",
   "id": "2a05e81c",
   "metadata": {},
   "source": [
    "* **Mediana:** Valor medio del conjunto de datos."
   ]
  },
  {
   "cell_type": "code",
   "execution_count": 6,
   "id": "a494476d",
   "metadata": {},
   "outputs": [
    {
     "data": {
      "text/plain": [
       "3"
      ]
     },
     "execution_count": 6,
     "metadata": {},
     "output_type": "execute_result"
    }
   ],
   "source": [
    "statistics.median([1,3,5])"
   ]
  },
  {
   "cell_type": "code",
   "execution_count": 7,
   "id": "881d9577",
   "metadata": {},
   "outputs": [
    {
     "data": {
      "text/plain": [
       "3.0"
      ]
     },
     "execution_count": 7,
     "metadata": {},
     "output_type": "execute_result"
    }
   ],
   "source": [
    "np.median([1,3,5]) "
   ]
  },
  {
   "cell_type": "code",
   "execution_count": 9,
   "id": "5a50d5c3",
   "metadata": {},
   "outputs": [
    {
     "data": {
      "text/plain": [
       "4.0"
      ]
     },
     "execution_count": 9,
     "metadata": {},
     "output_type": "execute_result"
    }
   ],
   "source": [
    "statistics.median([1,3,5,7])"
   ]
  },
  {
   "cell_type": "code",
   "execution_count": 10,
   "id": "dfd3503d",
   "metadata": {},
   "outputs": [
    {
     "data": {
      "text/plain": [
       "4.0"
      ]
     },
     "execution_count": 10,
     "metadata": {},
     "output_type": "execute_result"
    }
   ],
   "source": [
    "np.median([1,3,5,7]) "
   ]
  },
  {
   "cell_type": "markdown",
   "id": "ac5cf687",
   "metadata": {},
   "source": [
    "* **Moda:** Valor más frecuente en el conjunto de datos."
   ]
  },
  {
   "cell_type": "code",
   "execution_count": 11,
   "id": "a666a139",
   "metadata": {},
   "outputs": [
    {
     "data": {
      "text/plain": [
       "3"
      ]
     },
     "execution_count": 11,
     "metadata": {},
     "output_type": "execute_result"
    }
   ],
   "source": [
    "statistics.mode([1,1,2,3,3,3,3,4,4]) "
   ]
  },
  {
   "cell_type": "code",
   "execution_count": 13,
   "id": "4ee3937a",
   "metadata": {},
   "outputs": [
    {
     "ename": "AttributeError",
     "evalue": "module 'numpy' has no attribute 'mode'",
     "output_type": "error",
     "traceback": [
      "\u001b[1;31m---------------------------------------------------------------------------\u001b[0m",
      "\u001b[1;31mAttributeError\u001b[0m                            Traceback (most recent call last)",
      "\u001b[1;32m<ipython-input-13-0937048a368e>\u001b[0m in \u001b[0;36m<module>\u001b[1;34m\u001b[0m\n\u001b[1;32m----> 1\u001b[1;33m \u001b[0mnp\u001b[0m\u001b[1;33m.\u001b[0m\u001b[0mmode\u001b[0m\u001b[1;33m(\u001b[0m\u001b[0mnp\u001b[0m\u001b[1;33m.\u001b[0m\u001b[0marray\u001b[0m\u001b[1;33m(\u001b[0m\u001b[1;33m[\u001b[0m\u001b[1;36m1\u001b[0m\u001b[1;33m,\u001b[0m\u001b[1;36m1\u001b[0m\u001b[1;33m,\u001b[0m\u001b[1;36m2\u001b[0m\u001b[1;33m,\u001b[0m\u001b[1;36m3\u001b[0m\u001b[1;33m,\u001b[0m\u001b[1;36m3\u001b[0m\u001b[1;33m,\u001b[0m\u001b[1;36m3\u001b[0m\u001b[1;33m,\u001b[0m\u001b[1;36m3\u001b[0m\u001b[1;33m,\u001b[0m\u001b[1;36m4\u001b[0m\u001b[1;33m,\u001b[0m\u001b[1;36m4\u001b[0m\u001b[1;33m]\u001b[0m\u001b[1;33m)\u001b[0m\u001b[1;33m)\u001b[0m\u001b[1;33m\u001b[0m\u001b[1;33m\u001b[0m\u001b[0m\n\u001b[0m",
      "\u001b[1;32m~\\anaconda3\\lib\\site-packages\\numpy\\__init__.py\u001b[0m in \u001b[0;36m__getattr__\u001b[1;34m(attr)\u001b[0m\n\u001b[0;32m    301\u001b[0m                 \u001b[1;32mreturn\u001b[0m \u001b[0mTester\u001b[0m\u001b[1;33m\u001b[0m\u001b[1;33m\u001b[0m\u001b[0m\n\u001b[0;32m    302\u001b[0m \u001b[1;33m\u001b[0m\u001b[0m\n\u001b[1;32m--> 303\u001b[1;33m             raise AttributeError(\"module {!r} has no attribute \"\n\u001b[0m\u001b[0;32m    304\u001b[0m                                  \"{!r}\".format(__name__, attr))\n\u001b[0;32m    305\u001b[0m \u001b[1;33m\u001b[0m\u001b[0m\n",
      "\u001b[1;31mAttributeError\u001b[0m: module 'numpy' has no attribute 'mode'"
     ]
    }
   ],
   "source": [
    "np.mode(np.array([1,1,2,3,3,3,3,4,4]))   "
   ]
  },
  {
   "cell_type": "code",
   "execution_count": 14,
   "id": "1058236d",
   "metadata": {},
   "outputs": [],
   "source": [
    "from scipy import stats"
   ]
  },
  {
   "cell_type": "code",
   "execution_count": 15,
   "id": "b4ef6c47",
   "metadata": {},
   "outputs": [],
   "source": [
    "a = np.array([1,1,2,3,3,3,3,4,4]) "
   ]
  },
  {
   "cell_type": "code",
   "execution_count": 16,
   "id": "ad458ec1",
   "metadata": {},
   "outputs": [
    {
     "data": {
      "text/plain": [
       "ModeResult(mode=array([3]), count=array([4]))"
      ]
     },
     "execution_count": 16,
     "metadata": {},
     "output_type": "execute_result"
    }
   ],
   "source": [
    "stats.mode(a)"
   ]
  },
  {
   "cell_type": "code",
   "execution_count": 17,
   "id": "006f2a9f",
   "metadata": {},
   "outputs": [
    {
     "data": {
      "text/plain": [
       "'red'"
      ]
     },
     "execution_count": 17,
     "metadata": {},
     "output_type": "execute_result"
    }
   ],
   "source": [
    "statistics.mode(['red', 'blue', 'red', 'red']) "
   ]
  },
  {
   "cell_type": "markdown",
   "id": "64a71a92",
   "metadata": {},
   "source": [
    "## ¿Cuándo usar la media, la mediana y el modo?"
   ]
  },
  {
   "cell_type": "markdown",
   "id": "e29348d6",
   "metadata": {},
   "source": [
    "|Tipo de variable| mejor medida de tendencia central|  \n",
    "|-|-|  \n",
    "|nominal|moda|\n",
    "|ordinal|mediana|\n",
    "|Intervalo, o indice (no sesgada)|media|\n",
    "|Intervalo o índice(sesgada)|mediana|"
   ]
  },
  {
   "cell_type": "markdown",
   "id": "c61a72e6",
   "metadata": {},
   "source": [
    "Relación entre media, mediana y modo:   \n",
    "\n",
    "$$ \\text{Moda} = 3 \\text{Mediana} - 2 \\text{Media} $$\n"
   ]
  },
  {
   "cell_type": "code",
   "execution_count": 25,
   "id": "55409245",
   "metadata": {},
   "outputs": [],
   "source": [
    "sample = [1,3,3,1,1,1,5]"
   ]
  },
  {
   "cell_type": "code",
   "execution_count": 27,
   "id": "0c4aa23b",
   "metadata": {
    "scrolled": true
   },
   "outputs": [
    {
     "data": {
      "text/plain": [
       "1"
      ]
     },
     "execution_count": 27,
     "metadata": {},
     "output_type": "execute_result"
    }
   ],
   "source": [
    "statistics.mode(sample) "
   ]
  },
  {
   "cell_type": "code",
   "execution_count": 28,
   "id": "dbc064a4",
   "metadata": {},
   "outputs": [
    {
     "data": {
      "text/plain": [
       "3"
      ]
     },
     "execution_count": 28,
     "metadata": {},
     "output_type": "execute_result"
    }
   ],
   "source": [
    "3*statistics.median(sample)"
   ]
  },
  {
   "cell_type": "code",
   "execution_count": 29,
   "id": "c8335e42",
   "metadata": {},
   "outputs": [
    {
     "data": {
      "text/plain": [
       "4.285714285714286"
      ]
     },
     "execution_count": 29,
     "metadata": {},
     "output_type": "execute_result"
    }
   ],
   "source": [
    "2*statistics.mean(sample)"
   ]
  },
  {
   "cell_type": "code",
   "execution_count": 30,
   "id": "55a93dd1",
   "metadata": {},
   "outputs": [
    {
     "data": {
      "text/plain": [
       "-1.2857142857142856"
      ]
     },
     "execution_count": 30,
     "metadata": {},
     "output_type": "execute_result"
    }
   ],
   "source": [
    "(3*statistics.median(sample) - 2*statistics.mean(sample)) "
   ]
  },
  {
   "cell_type": "code",
   "execution_count": 33,
   "id": "5632d982",
   "metadata": {},
   "outputs": [
    {
     "data": {
      "text/plain": [
       "(1, -1.2857142857142856)"
      ]
     },
     "execution_count": 33,
     "metadata": {},
     "output_type": "execute_result"
    }
   ],
   "source": [
    "statistics.mode(sample), (3*statistics.median(sample) - 2*statistics.mean(sample))  "
   ]
  },
  {
   "cell_type": "markdown",
   "id": "fa3d927d",
   "metadata": {},
   "source": [
    "## Asimetría"
   ]
  },
  {
   "cell_type": "markdown",
   "id": "e3c36017",
   "metadata": {},
   "source": [
    "Una medida de simetría, o más precisamente, falta de simetría (asimetría)."
   ]
  },
  {
   "cell_type": "markdown",
   "id": "990bbcb9",
   "metadata": {},
   "source": [
    "<img src = 'https://miro.medium.com/max/875/1*2i1t5g8G46JWbd0ajseMrQ.png'> "
   ]
  },
  {
   "cell_type": "markdown",
   "id": "d08eb2a7",
   "metadata": {},
   "source": [
    "* Distribución normal/simétrica: modo = mediana = media  \n",
    "* Distribución sesgada positivamente (derecha): modo < mediana < media  \n",
    "* Distribución sesgada negativamente (izquierda): media < modo de < mediana  "
   ]
  },
  {
   "cell_type": "markdown",
   "id": "7793ae42",
   "metadata": {},
   "source": [
    "## Curtosis  "
   ]
  },
  {
   "cell_type": "markdown",
   "id": "16f9b0ca",
   "metadata": {},
   "source": [
    "Una medida de si los datos son de cola pesada o de cola ligera en relación con una distribución normal, es decir, mide la \"cola\" o \"pico\" de una distribución."
   ]
  },
  {
   "cell_type": "markdown",
   "id": "097bc42d",
   "metadata": {},
   "source": [
    "<img src = 'https://miro.medium.com/max/518/1*eu-Pm6EBsTYoFZR3MgnlKQ.png'> "
   ]
  },
  {
   "cell_type": "markdown",
   "id": "39573dfa",
   "metadata": {},
   "source": [
    "* Curtosis leptokurtic- positiva  \n",
    "* Mesokurtic- distribución normal\n",
    "* Curtosis platykurtic- negativa\n"
   ]
  },
  {
   "cell_type": "code",
   "execution_count": 48,
   "id": "49cd8ed5",
   "metadata": {},
   "outputs": [
    {
     "name": "stdout",
     "output_type": "stream",
     "text": [
      "skew:  0.013045676009579479\n",
      "kurtosis:  -0.03464547358389325\n"
     ]
    },
    {
     "data": {
      "image/png": "[encoded data removed]",
      "text/plain": [
       "<Figure size 432x288 with 1 Axes>"
      ]
     },
     "metadata": {},
     "output_type": "display_data"
    }
   ],
   "source": [
    "import numpy as np \n",
    "from scipy.stats import kurtosis \n",
    "from scipy.stats import skew \n",
    "import matplotlib.pyplot as plt \n",
    "\n",
    "plt.style.use('ggplot') \n",
    "\n",
    "data = np.random.normal(0,1,100_000) # media 0 y desviación estándar 1\n",
    "\n",
    "plt.hist(data, bins = 60, label = 'Asimetría y curtosis usando Python') \n",
    "plt.legend() \n",
    "\n",
    "print('skew: ', skew(data))\n",
    "print('kurtosis: ', kurtosis(data)) "
   ]
  },
  {
   "cell_type": "code",
   "execution_count": 45,
   "id": "274b1a5b",
   "metadata": {},
   "outputs": [
    {
     "data": {
      "text/plain": [
       "5.016631971477537"
      ]
     },
     "execution_count": 45,
     "metadata": {},
     "output_type": "execute_result"
    }
   ],
   "source": [
    "statistics.pstdev(data)         "
   ]
  },
  {
   "cell_type": "markdown",
   "id": "e613c19d",
   "metadata": {},
   "source": [
    "## Medidas de dispersión  "
   ]
  },
  {
   "cell_type": "markdown",
   "id": "bc777357",
   "metadata": {},
   "source": [
    "Describe la propagación/dispersión de datos en torno a un valor central."
   ]
  },
  {
   "cell_type": "markdown",
   "id": "843e1b68",
   "metadata": {},
   "source": [
    "* **Rango:** La diferencia entre el valor más grande y el más pequeño en el conjunto de datos."
   ]
  },
  {
   "cell_type": "markdown",
   "id": "95608f44",
   "metadata": {},
   "source": [
    "* **Desviación del cuartil:** Los cuartiles de un conjunto de datos dividen los datos en cuatro partes iguales: el primer cuartil, (Q1) es el número medio entre el número más pequeño y la mediana de los datos. El segundo cuartil, (Q2) es la mediana del conjunto de datos. El tercer cuartil, (Q3) es el número medio entre la mediana y el mayor número. La desviación del cuartil es \n",
    "\n",
    "$$ Q = \\frac{1}{2} (Q_{3} — Q_{1}) $$"
   ]
  },
  {
   "cell_type": "markdown",
   "id": "dc34defb",
   "metadata": {},
   "source": [
    "* **Rango intercuartílico:** \n",
    "\n",
    "$$ IQR = Q3 — Q1 $$"
   ]
  },
  {
   "cell_type": "markdown",
   "id": "6094345f",
   "metadata": {},
   "source": [
    "* **Varianza:** La diferencia cuadrada promedio entre cada punto de datos y la media. Mide la dispersión del conjunto de datos en relación con la media."
   ]
  },
  {
   "cell_type": "code",
   "execution_count": null,
   "id": "4bcfc43a",
   "metadata": {},
   "outputs": [],
   "source": []
  },
  {
   "cell_type": "code",
   "execution_count": null,
   "id": "776ff995",
   "metadata": {},
   "outputs": [],
   "source": []
  },
  {
   "cell_type": "code",
   "execution_count": null,
   "id": "6da69766",
   "metadata": {},
   "outputs": [],
   "source": []
  },
  {
   "cell_type": "code",
   "execution_count": null,
   "id": "69deb720",
   "metadata": {},
   "outputs": [],
   "source": []
  },
  {
   "cell_type": "code",
   "execution_count": null,
   "id": "a3b97944",
   "metadata": {},
   "outputs": [],
   "source": []
  },
  {
   "cell_type": "markdown",
   "id": "73aaf2d0",
   "metadata": {},
   "source": [
    "## Referentes  \n",
    "\n",
    "* https://medium.com/mlearning-ai/important-statistical-concepts-for-data-scientists-54e09106b75e"
   ]
  }
 ],
 "metadata": {
  "celltoolbar": "Slideshow",
  "kernelspec": {
   "display_name": "Python 3 (ipykernel)",
   "language": "python",
   "name": "python3"
  },
  "language_info": {
   "codemirror_mode": {
    "name": "ipython",
    "version": 3
   },
   "file_extension": ".py",
   "mimetype": "text/x-python",
   "name": "python",
   "nbconvert_exporter": "python",
   "pygments_lexer": "ipython3",
   "version": "3.9.12"
  },
  "latex_envs": {
   "LaTeX_envs_menu_present": true,
   "autoclose": false,
   "autocomplete": false,
   "bibliofile": "biblio.bib",
   "cite_by": "apalike",
   "current_citInitial": 1,
   "eqLabelWithNumbers": true,
   "eqNumInitial": 1,
   "hotkeys": {
    "equation": "Ctrl-E",
    "itemize": "Ctrl-I"
   },
   "labels_anchors": false,
   "latex_user_defs": false,
   "report_style_numbering": false,
   "user_envs_cfg": false
  },
  "rise": {
   "theme": "sky"
  }
 },
 "nbformat": 4,
 "nbformat_minor": 5
}
