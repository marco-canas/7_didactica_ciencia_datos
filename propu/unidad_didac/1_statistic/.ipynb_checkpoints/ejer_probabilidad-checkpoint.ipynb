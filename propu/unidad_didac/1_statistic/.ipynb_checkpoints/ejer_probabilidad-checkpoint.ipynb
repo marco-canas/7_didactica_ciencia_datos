{
 "cells": [
  {
   "cell_type": "markdown",
   "id": "592273ce",
   "metadata": {
    "slideshow": {
     "slide_type": "slide"
    }
   },
   "source": [
    "<table align=\"left\">\n",
    "  <td>\n",
    "    <a href=\"https://colab.research.google.com/github/marco-canas/didactica_ciencia_datos/blob/main/referentes/geron/part_2/c_10/c_10.ipynb\" target=\"_parent\"><img src=\"https://colab.research.google.com/assets/colab-badge.svg\" alt=\"Open In Colab\"/></a>\n",
    "  </td>\n",
    "</table>"
   ]
  },
  {
   "cell_type": "markdown",
   "id": "19c759af",
   "metadata": {
    "slideshow": {
     "slide_type": "slide"
    }
   },
   "source": [
    "# Probabilidad de un evento"
   ]
  },
  {
   "cell_type": "markdown",
   "id": "b5937ab7",
   "metadata": {
    "slideshow": {
     "slide_type": "slide"
    }
   },
   "source": [
    "Una urna contiene 10 bolas de las cuales 3 son rojas, 5 verdes y dos azules. Se extraen al azar tres bolas. Calcular la probalilidad de que la primera sea azul y las otras dos verdes. "
   ]
  },
  {
   "cell_type": "markdown",
   "id": "867b615f",
   "metadata": {
    "slideshow": {
     "slide_type": "slide"
    }
   },
   "source": []
  },
  {
   "cell_type": "markdown",
   "id": "91f21635",
   "metadata": {
    "slideshow": {
     "slide_type": "slide"
    }
   },
   "source": []
  },
  {
   "cell_type": "markdown",
   "id": "9064cbba",
   "metadata": {
    "slideshow": {
     "slide_type": "slide"
    }
   },
   "source": [
    "## Solución"
   ]
  },
  {
   "cell_type": "markdown",
   "id": "55faf9ef",
   "metadata": {
    "slideshow": {
     "slide_type": "slide"
    }
   },
   "source": [
    "Empecemos determinando el espacio muestral $S$ "
   ]
  },
  {
   "cell_type": "markdown",
   "id": "39cd4e67",
   "metadata": {
    "slideshow": {
     "slide_type": "slide"
    }
   },
   "source": [
    "Definimos $A_{1} = \\{\\text{la 1ª bola es azul}\\}$; $A_{2} = \\{ \\text{la 2ª bola es verde} \\}$; $A_{3} = \\{\\text{la 3ª bola es verde}\\}$."
   ]
  },
  {
   "cell_type": "markdown",
   "id": "f9f6a1a2",
   "metadata": {
    "slideshow": {
     "slide_type": "slide"
    }
   },
   "source": [
    "$p(A1) = 2/10$ aplicando la definición clásica de probabilidad, puesto que hay 10 bolas y 2 son verdes."
   ]
  },
  {
   "cell_type": "markdown",
   "id": "63497e90",
   "metadata": {
    "slideshow": {
     "slide_type": "slide"
    }
   },
   "source": [
    "$p(A2|A_{1}) = 5/9$; si la primera bola extraída es azul, en la urna quedan 9 bolas, 5 de ellas verdes."
   ]
  },
  {
   "cell_type": "markdown",
   "id": "87f47f8a",
   "metadata": {
    "slideshow": {
     "slide_type": "slide"
    }
   },
   "source": [
    "$p(A3|A1 \\cap A2) = 4/8$; si la primera bola extraída es azul y la segunda verde en la urna quedan 8 bolas, 4 de ellas verdes."
   ]
  },
  {
   "cell_type": "markdown",
   "id": "13a0803b",
   "metadata": {
    "slideshow": {
     "slide_type": "slide"
    }
   },
   "source": [
    "$p(A_{1} \\cap A_{2} \\cap A_{3}) = 2/10 x 5/9 x 4/8 = 1/18$ "
   ]
  },
  {
   "cell_type": "code",
   "execution_count": null,
   "id": "dec96b28",
   "metadata": {},
   "outputs": [],
   "source": []
  },
  {
   "cell_type": "code",
   "execution_count": null,
   "id": "214b4373",
   "metadata": {},
   "outputs": [],
   "source": []
  },
  {
   "cell_type": "code",
   "execution_count": null,
   "id": "321ad5b8",
   "metadata": {},
   "outputs": [],
   "source": []
  },
  {
   "cell_type": "code",
   "execution_count": null,
   "id": "48d62c9d",
   "metadata": {},
   "outputs": [],
   "source": []
  },
  {
   "cell_type": "code",
   "execution_count": null,
   "id": "072ab211",
   "metadata": {},
   "outputs": [],
   "source": []
  },
  {
   "cell_type": "markdown",
   "id": "dce6e563",
   "metadata": {
    "slideshow": {
     "slide_type": "slide"
    }
   },
   "source": [
    "## Referentes  \n",
    "\n",
    "* http://www.hrc.es/bioest/Probabilidad_15.html"
   ]
  },
  {
   "cell_type": "code",
   "execution_count": null,
   "id": "667d92d1",
   "metadata": {},
   "outputs": [],
   "source": []
  }
 ],
 "metadata": {
  "celltoolbar": "Slideshow",
  "kernelspec": {
   "display_name": "Python 3 (ipykernel)",
   "language": "python",
   "name": "python3"
  },
  "language_info": {
   "codemirror_mode": {
    "name": "ipython",
    "version": 3
   },
   "file_extension": ".py",
   "mimetype": "text/x-python",
   "name": "python",
   "nbconvert_exporter": "python",
   "pygments_lexer": "ipython3",
   "version": "3.9.12"
  },
  "rise": {
   "theme": "sky"
  }
 },
 "nbformat": 4,
 "nbformat_minor": 5
}
