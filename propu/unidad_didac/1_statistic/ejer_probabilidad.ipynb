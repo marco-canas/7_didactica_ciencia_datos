{
 "cells": [
  {
   "cell_type": "markdown",
   "id": "7de8441a",
   "metadata": {
    "slideshow": {
     "slide_type": "slide"
    }
   },
   "source": []
  },
  {
   "cell_type": "markdown",
   "id": "0c2e39c6",
   "metadata": {
    "slideshow": {
     "slide_type": "slide"
    }
   },
   "source": [
    "# Probabilidad de un evento"
   ]
  },
  {
   "cell_type": "markdown",
   "id": "e58549e5",
   "metadata": {
    "slideshow": {
     "slide_type": "slide"
    }
   },
   "source": [
    "Una urna contiene 10 bolas de las cuales 3 son rojas, 5 verdes y dos azules. Se extraen al azar tres bolas. Calcular la probalilidad de que la primera sea azul y las otras dos verdes. "
   ]
  },
  {
   "cell_type": "markdown",
   "id": "7f5b5339",
   "metadata": {
    "slideshow": {
     "slide_type": "slide"
    }
   },
   "source": []
  },
  {
   "cell_type": "markdown",
   "id": "a78e80be",
   "metadata": {
    "slideshow": {
     "slide_type": "slide"
    }
   },
   "source": []
  },
  {
   "cell_type": "markdown",
   "id": "7d1ca286",
   "metadata": {
    "slideshow": {
     "slide_type": "slide"
    }
   },
   "source": [
    "## Solución"
   ]
  },
  {
   "cell_type": "markdown",
   "id": "63fb1bbb",
   "metadata": {
    "slideshow": {
     "slide_type": "slide"
    }
   },
   "source": [
    "Empecemos determinando el espacio muestral $S$ "
   ]
  },
  {
   "cell_type": "markdown",
   "id": "07f8b9d7",
   "metadata": {
    "slideshow": {
     "slide_type": "slide"
    }
   },
   "source": [
    "Definimos $A_{1} = \\{\\text{la 1ª bola es azul}\\}$; $A_{2} = \\{ \\text{la 2ª bola es verde} \\}$; $A_{3} = \\{\\text{la 3ª bola es verde}\\}$."
   ]
  },
  {
   "cell_type": "markdown",
   "id": "36db315b",
   "metadata": {
    "slideshow": {
     "slide_type": "slide"
    }
   },
   "source": [
    "$p(A1) = 2/10$ aplicando la definición clásica de probabilidad, puesto que hay 10 bolas y 2 son verdes."
   ]
  },
  {
   "cell_type": "markdown",
   "id": "ba275e47",
   "metadata": {
    "slideshow": {
     "slide_type": "slide"
    }
   },
   "source": [
    "$p(A2|A_{1}) = 5/9$; si la primera bola extraída es azul, en la urna quedan 9 bolas, 5 de ellas verdes."
   ]
  },
  {
   "cell_type": "markdown",
   "id": "a9562df7",
   "metadata": {
    "slideshow": {
     "slide_type": "slide"
    }
   },
   "source": [
    "$p(A3|A1 \\cap A2) = 4/8$; si la primera bola extraída es azul y la segunda verde en la urna quedan 8 bolas, 4 de ellas verdes."
   ]
  },
  {
   "cell_type": "markdown",
   "id": "14aa9533",
   "metadata": {
    "slideshow": {
     "slide_type": "slide"
    }
   },
   "source": [
    "$p(A_{1} \\cap A_{2} \\cap A_{3}) = 2/10 x 5/9 x 4/8 = 1/18$ "
   ]
  },
  {
   "cell_type": "code",
   "execution_count": null,
   "id": "bde93964",
   "metadata": {},
   "outputs": [],
   "source": []
  },
  {
   "cell_type": "code",
   "execution_count": null,
   "id": "e44f0598",
   "metadata": {},
   "outputs": [],
   "source": []
  },
  {
   "cell_type": "code",
   "execution_count": null,
   "id": "309cc3ed",
   "metadata": {},
   "outputs": [],
   "source": []
  },
  {
   "cell_type": "code",
   "execution_count": null,
   "id": "5a9f997f",
   "metadata": {},
   "outputs": [],
   "source": []
  },
  {
   "cell_type": "code",
   "execution_count": null,
   "id": "560e0f5b",
   "metadata": {},
   "outputs": [],
   "source": []
  },
  {
   "cell_type": "markdown",
   "id": "aa8ad924",
   "metadata": {
    "slideshow": {
     "slide_type": "slide"
    }
   },
   "source": [
    "## Referentes  \n",
    "\n",
    "* http://www.hrc.es/bioest/Probabilidad_15.html"
   ]
  },
  {
   "cell_type": "code",
   "execution_count": null,
   "id": "ee45c7de",
   "metadata": {},
   "outputs": [],
   "source": []
  }
 ],
 "metadata": {
  "celltoolbar": "Slideshow",
  "kernelspec": {
   "display_name": "Python 3 (ipykernel)",
   "language": "python",
   "name": "python3"
  },
  "language_info": {
   "codemirror_mode": {
    "name": "ipython",
    "version": 3
   },
   "file_extension": ".py",
   "mimetype": "text/x-python",
   "name": "python",
   "nbconvert_exporter": "python",
   "pygments_lexer": "ipython3",
   "version": "3.9.12"
  },
  "rise": {
   "theme": "sky"
  }
 },
 "nbformat": 4,
 "nbformat_minor": 5
}
