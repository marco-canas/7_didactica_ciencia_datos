{
 "cells": [
  {
   "cell_type": "markdown",
   "id": "6a250d31",
   "metadata": {
    "slideshow": {
     "slide_type": "slide"
    }
   },
   "source": [
    "<table align=\"left\">\n",
    "  <td>\n",
    "    <a href=\"https://colab.research.google.com/github/marco-canas/taca/blob/main/prop/unidad_didac/visualizacion/2_seaborn/visualizing_categorical.ipynb\" target=\"_parent\"><img src=\"https://colab.research.google.com/assets/colab-badge.svg\" alt=\"Open In Colab\"/></a>\n",
    "  </td>\n",
    "</table>"
   ]
  },
  {
   "cell_type": "markdown",
   "id": "e6411b82",
   "metadata": {
    "slideshow": {
     "slide_type": "slide"
    }
   },
   "source": [
    "# [Visualization of Categorical Data](https://medium.com/@gauravdahiya/visualising-categorical-data-8fe887c98e57)"
   ]
  },
  {
   "cell_type": "markdown",
   "id": "9e3b059c",
   "metadata": {
    "slideshow": {
     "slide_type": "slide"
    }
   },
   "source": [
    "### [Video de apoyo](https://www.youtube.com/watch?v=PvVCjwICukA) "
   ]
  },
  {
   "cell_type": "markdown",
   "id": "8efcb3ea",
   "metadata": {
    "slideshow": {
     "slide_type": "slide"
    }
   },
   "source": [
    "Cuando hablamos de explorar datos siempre hay cierta curiosidad sobre qué hacer datos categóricos, "
   ]
  },
  {
   "cell_type": "markdown",
   "id": "dc04138d",
   "metadata": {
    "slideshow": {
     "slide_type": "slide"
    }
   },
   "source": [
    "¿cómo se pueden interpretar? "
   ]
  },
  {
   "cell_type": "markdown",
   "id": "dc6f4c33",
   "metadata": {
    "slideshow": {
     "slide_type": "slide"
    }
   },
   "source": [
    "Bueno, vamos a discutirlo hoy."
   ]
  },
  {
   "cell_type": "markdown",
   "id": "89739ad2",
   "metadata": {
    "slideshow": {
     "slide_type": "slide"
    }
   },
   "source": [
    "<img src = 'https://miro.medium.com/max/1400/1*iSLAgTc1wHuzc8vcEaoqAg.png'> "
   ]
  },
  {
   "cell_type": "markdown",
   "id": "07075193",
   "metadata": {
    "slideshow": {
     "slide_type": "slide"
    }
   },
   "source": [
    "Las dos categorías principales de datos categóricos son:\n",
    "* nominales y \n",
    "* ordinales."
   ]
  },
  {
   "cell_type": "markdown",
   "id": "5732806c",
   "metadata": {
    "slideshow": {
     "slide_type": "slide"
    }
   },
   "source": [
    "En el atributo de datos categóricos nominales,no existe el concepto de ordenación entre los valores de ese atributo."
   ]
  },
  {
   "cell_type": "markdown",
   "id": "8f69391a",
   "metadata": {
    "slideshow": {
     "slide_type": "slide"
    }
   },
   "source": [
    "**Los atributos categóricos ordinales** tienen algún sentido o noción de orden entre sus valores."
   ]
  },
  {
   "cell_type": "markdown",
   "id": "c47401de",
   "metadata": {
    "slideshow": {
     "slide_type": "slide"
    }
   },
   "source": [
    "Los gráficos que generalmente se utilizan para visualizar este tipo de datos son:  \n",
    "\n",
    "* barplot  \n",
    "* countplot  \n",
    "* boxplot  \n",
    "* violinplot  \n",
    "* stripplot  \n",
    "* swarmplot  \n",
    "* catplot  "
   ]
  },
  {
   "cell_type": "markdown",
   "id": "4c50de0d",
   "metadata": {
    "slideshow": {
     "slide_type": "slide"
    }
   },
   "source": [
    "Antes de continuar, importemos algunos datos de muestra en los que jugaremos. "
   ]
  },
  {
   "cell_type": "markdown",
   "id": "ef3b1b39",
   "metadata": {
    "slideshow": {
     "slide_type": "slide"
    }
   },
   "source": [
    "Usemos un conjunto de datos de muestra 'propinas' ('`Tips`') que brinda información sobre las facturas de un restaurante"
   ]
  },
  {
   "cell_type": "code",
   "execution_count": 1,
   "id": "92a56662",
   "metadata": {
    "slideshow": {
     "slide_type": "slide"
    }
   },
   "outputs": [],
   "source": [
    "from matplotlib import pyplot as plt \n",
    "import seaborn as sns\n",
    "%matplotlib inline "
   ]
  },
  {
   "cell_type": "code",
   "execution_count": 2,
   "id": "54ccadbf",
   "metadata": {
    "scrolled": true,
    "slideshow": {
     "slide_type": "slide"
    }
   },
   "outputs": [
    {
     "data": {
      "text/html": [
       "<div>\n",
       "<style scoped>\n",
       "    .dataframe tbody tr th:only-of-type {\n",
       "        vertical-align: middle;\n",
       "    }\n",
       "\n",
       "    .dataframe tbody tr th {\n",
       "        vertical-align: top;\n",
       "    }\n",
       "\n",
       "    .dataframe thead th {\n",
       "        text-align: right;\n",
       "    }\n",
       "</style>\n",
       "<table border=\"1\" class=\"dataframe\">\n",
       "  <thead>\n",
       "    <tr style=\"text-align: right;\">\n",
       "      <th></th>\n",
       "      <th>total_bill</th>\n",
       "      <th>tip</th>\n",
       "      <th>sex</th>\n",
       "      <th>smoker</th>\n",
       "      <th>day</th>\n",
       "      <th>time</th>\n",
       "      <th>size</th>\n",
       "    </tr>\n",
       "  </thead>\n",
       "  <tbody>\n",
       "    <tr>\n",
       "      <th>0</th>\n",
       "      <td>16.99</td>\n",
       "      <td>1.01</td>\n",
       "      <td>Female</td>\n",
       "      <td>No</td>\n",
       "      <td>Sun</td>\n",
       "      <td>Dinner</td>\n",
       "      <td>2</td>\n",
       "    </tr>\n",
       "    <tr>\n",
       "      <th>1</th>\n",
       "      <td>10.34</td>\n",
       "      <td>1.66</td>\n",
       "      <td>Male</td>\n",
       "      <td>No</td>\n",
       "      <td>Sun</td>\n",
       "      <td>Dinner</td>\n",
       "      <td>3</td>\n",
       "    </tr>\n",
       "    <tr>\n",
       "      <th>2</th>\n",
       "      <td>21.01</td>\n",
       "      <td>3.50</td>\n",
       "      <td>Male</td>\n",
       "      <td>No</td>\n",
       "      <td>Sun</td>\n",
       "      <td>Dinner</td>\n",
       "      <td>3</td>\n",
       "    </tr>\n",
       "    <tr>\n",
       "      <th>3</th>\n",
       "      <td>23.68</td>\n",
       "      <td>3.31</td>\n",
       "      <td>Male</td>\n",
       "      <td>No</td>\n",
       "      <td>Sun</td>\n",
       "      <td>Dinner</td>\n",
       "      <td>2</td>\n",
       "    </tr>\n",
       "    <tr>\n",
       "      <th>4</th>\n",
       "      <td>24.59</td>\n",
       "      <td>3.61</td>\n",
       "      <td>Female</td>\n",
       "      <td>No</td>\n",
       "      <td>Sun</td>\n",
       "      <td>Dinner</td>\n",
       "      <td>4</td>\n",
       "    </tr>\n",
       "  </tbody>\n",
       "</table>\n",
       "</div>"
      ],
      "text/plain": [
       "   total_bill   tip     sex smoker  day    time  size\n",
       "0       16.99  1.01  Female     No  Sun  Dinner     2\n",
       "1       10.34  1.66    Male     No  Sun  Dinner     3\n",
       "2       21.01  3.50    Male     No  Sun  Dinner     3\n",
       "3       23.68  3.31    Male     No  Sun  Dinner     2\n",
       "4       24.59  3.61  Female     No  Sun  Dinner     4"
      ]
     },
     "execution_count": 2,
     "metadata": {},
     "output_type": "execute_result"
    }
   ],
   "source": [
    "tips = sns.load_dataset('tips') # cargar el dataset tips\n",
    "tips.head() "
   ]
  },
  {
   "cell_type": "code",
   "execution_count": 3,
   "id": "9917563b",
   "metadata": {
    "slideshow": {
     "slide_type": "slide"
    }
   },
   "outputs": [
    {
     "data": {
      "text/plain": [
       "(244, 7)"
      ]
     },
     "execution_count": 3,
     "metadata": {},
     "output_type": "execute_result"
    }
   ],
   "source": [
    "tips.shape "
   ]
  },
  {
   "cell_type": "code",
   "execution_count": 4,
   "id": "f3ac19eb",
   "metadata": {
    "slideshow": {
     "slide_type": "slide"
    }
   },
   "outputs": [
    {
     "data": {
      "text/plain": [
       "2    156\n",
       "3     38\n",
       "4     37\n",
       "5      5\n",
       "1      4\n",
       "6      4\n",
       "Name: size, dtype: int64"
      ]
     },
     "execution_count": 4,
     "metadata": {},
     "output_type": "execute_result"
    }
   ],
   "source": [
    "tips['size'].value_counts() "
   ]
  },
  {
   "cell_type": "code",
   "execution_count": 5,
   "id": "ce7b203d",
   "metadata": {
    "slideshow": {
     "slide_type": "slide"
    }
   },
   "outputs": [
    {
     "data": {
      "text/plain": [
       "['Dinner', 'Lunch']\n",
       "Categories (2, object): ['Dinner', 'Lunch']"
      ]
     },
     "execution_count": 5,
     "metadata": {},
     "output_type": "execute_result"
    }
   ],
   "source": [
    "tips.time.unique() "
   ]
  },
  {
   "cell_type": "markdown",
   "id": "4754ead0",
   "metadata": {
    "slideshow": {
     "slide_type": "slide"
    }
   },
   "source": [
    "## Barplot"
   ]
  },
  {
   "cell_type": "markdown",
   "id": "b9067abf",
   "metadata": {
    "slideshow": {
     "slide_type": "slide"
    }
   },
   "source": [
    "Esta gráfica le permite obtener datos agregados de una característica categórica en sus datos."
   ]
  },
  {
   "cell_type": "markdown",
   "id": "7782028f",
   "metadata": {
    "slideshow": {
     "slide_type": "slide"
    }
   },
   "source": [
    "**barplot** es un gráfico general que permite agregar los datos categóricos basados en alguna función, por defecto la media:"
   ]
  },
  {
   "cell_type": "code",
   "execution_count": 21,
   "id": "0671c4ff",
   "metadata": {
    "scrolled": false,
    "slideshow": {
     "slide_type": "slide"
    }
   },
   "outputs": [
    {
     "data": {
      "image/png": "[encoded data removed]",
      "text/plain": [
       "<Figure size 432x288 with 1 Axes>"
      ]
     },
     "metadata": {
      "needs_background": "light"
     },
     "output_type": "display_data"
    }
   ],
   "source": [
    "sns.barplot(x = 'sex', y = 'total_bill', data = tips)\n",
    "plt.show()"
   ]
  },
  {
   "cell_type": "code",
   "execution_count": 14,
   "id": "41d31bee",
   "metadata": {
    "slideshow": {
     "slide_type": "slide"
    }
   },
   "outputs": [
    {
     "data": {
      "text/plain": [
       "str"
      ]
     },
     "execution_count": 14,
     "metadata": {},
     "output_type": "execute_result"
    }
   ],
   "source": [
    "type(tips.sex[0]) "
   ]
  },
  {
   "cell_type": "code",
   "execution_count": 19,
   "id": "cf618e2c",
   "metadata": {
    "slideshow": {
     "slide_type": "slide"
    }
   },
   "outputs": [
    {
     "data": {
      "text/plain": [
       "18.056896551724137"
      ]
     },
     "execution_count": 19,
     "metadata": {},
     "output_type": "execute_result"
    }
   ],
   "source": [
    "tips[tips['sex']=='Female']['total_bill'].mean() "
   ]
  },
  {
   "cell_type": "code",
   "execution_count": 20,
   "id": "ddc996b3",
   "metadata": {
    "slideshow": {
     "slide_type": "slide"
    }
   },
   "outputs": [
    {
     "data": {
      "text/plain": [
       "20.744076433121034"
      ]
     },
     "execution_count": 20,
     "metadata": {},
     "output_type": "execute_result"
    }
   ],
   "source": [
    "tips[tips['sex']=='Male']['total_bill'].mean() "
   ]
  },
  {
   "cell_type": "markdown",
   "id": "492a39a3",
   "metadata": {
    "slideshow": {
     "slide_type": "slide"
    }
   },
   "source": [
    "## Countplot :"
   ]
  },
  {
   "cell_type": "markdown",
   "id": "21a229e1",
   "metadata": {
    "slideshow": {
     "slide_type": "slide"
    }
   },
   "source": [
    "Esto es esencialmente lo mismo que el gráfico de barras, excepto que el estimador está contando explícitamente el número de ocurrencias. "
   ]
  },
  {
   "cell_type": "markdown",
   "id": "1946c244",
   "metadata": {
    "slideshow": {
     "slide_type": "slide"
    }
   },
   "source": [
    "Es por eso que solo pasamos el valor $x$: "
   ]
  },
  {
   "cell_type": "code",
   "execution_count": 22,
   "id": "9a9b1953",
   "metadata": {
    "slideshow": {
     "slide_type": "slide"
    }
   },
   "outputs": [
    {
     "data": {
      "image/png": "[encoded data removed]",
      "text/plain": [
       "<Figure size 432x288 with 1 Axes>"
      ]
     },
     "metadata": {
      "needs_background": "light"
     },
     "output_type": "display_data"
    }
   ],
   "source": [
    "sns.countplot(x = 'sex', data = tips)  \n",
    "plt.show() "
   ]
  },
  {
   "cell_type": "code",
   "execution_count": null,
   "id": "7e973c3c",
   "metadata": {
    "slideshow": {
     "slide_type": "slide"
    }
   },
   "outputs": [],
   "source": [
    "tips.sex.value_counts() "
   ]
  },
  {
   "cell_type": "markdown",
   "id": "627f4274",
   "metadata": {
    "slideshow": {
     "slide_type": "slide"
    }
   },
   "source": [
    "## Boxplot :  "
   ]
  },
  {
   "cell_type": "markdown",
   "id": "e7ad23dc",
   "metadata": {
    "slideshow": {
     "slide_type": "slide"
    }
   },
   "source": [
    "Un boxplot es una forma estandarizada de mostrar la distribución de datos basada en un resumen de cinco números \n",
    "\n",
    "* \"mínimo\", \n",
    "* primer cuartil ($Q1$), \n",
    "* mediana, \n",
    "* tercer cuartil ($Q3$) y \n",
    "* \"máximo\"."
   ]
  },
  {
   "cell_type": "code",
   "execution_count": 24,
   "id": "8ddc9340",
   "metadata": {
    "scrolled": true,
    "slideshow": {
     "slide_type": "slide"
    }
   },
   "outputs": [
    {
     "data": {
      "image/png": "[encoded data removed]",
      "text/plain": [
       "<Figure size 432x288 with 1 Axes>"
      ]
     },
     "metadata": {
      "needs_background": "light"
     },
     "output_type": "display_data"
    }
   ],
   "source": [
    "sns.boxplot(x = 'day', y = 'total_bill', data = tips, palette = 'rainbow') \n",
    "plt.show()"
   ]
  },
  {
   "cell_type": "markdown",
   "id": "1681ecc0",
   "metadata": {
    "slideshow": {
     "slide_type": "slide"
    }
   },
   "source": [
    "## ViolinPlot:"
   ]
  },
  {
   "cell_type": "markdown",
   "id": "27c7ffb1",
   "metadata": {
    "slideshow": {
     "slide_type": "slide"
    }
   },
   "source": [
    "Una trama de violín juega un papel similar al de una trama de caja y bigotes. "
   ]
  },
  {
   "cell_type": "markdown",
   "id": "562b1f09",
   "metadata": {
    "slideshow": {
     "slide_type": "slide"
    }
   },
   "source": [
    "Muestra la distribución de datos cuantitativos a través de varios niveles de una (o más) variables categóricas tales que esas distribuciones pueden ser comparadas."
   ]
  },
  {
   "cell_type": "code",
   "execution_count": 27,
   "id": "92ab7e00",
   "metadata": {
    "slideshow": {
     "slide_type": "slide"
    }
   },
   "outputs": [
    {
     "data": {
      "image/png": "[encoded data removed]",
      "text/plain": [
       "<Figure size 432x288 with 1 Axes>"
      ]
     },
     "metadata": {
      "needs_background": "light"
     },
     "output_type": "display_data"
    }
   ],
   "source": [
    "sns.violinplot(x = 'day', y = 'tip', data = tips, palette = 'rainbow') \n",
    "plt.show() "
   ]
  },
  {
   "cell_type": "markdown",
   "id": "0bc2a85f",
   "metadata": {
    "slideshow": {
     "slide_type": "slide"
    }
   },
   "source": [
    "## Stripplot :  "
   ]
  },
  {
   "cell_type": "markdown",
   "id": "c7266364",
   "metadata": {
    "slideshow": {
     "slide_type": "slide"
    }
   },
   "source": [
    "El stripplot dibujará un diagrama de dispersión donde una variable es categórica. "
   ]
  },
  {
   "cell_type": "markdown",
   "id": "affcce1e",
   "metadata": {
    "slideshow": {
     "slide_type": "slide"
    }
   },
   "source": [
    "Una gráfica de tiras se puede dibujar por sí sola, pero también es un buen complemento para una trama de caja o violín en los casos en que desee mostrar todas las observaciones junto con alguna representación de la distribución subyacente."
   ]
  },
  {
   "cell_type": "code",
   "execution_count": 28,
   "id": "df6b9706",
   "metadata": {
    "slideshow": {
     "slide_type": "slide"
    }
   },
   "outputs": [
    {
     "data": {
      "image/png": "[encoded data removed]",
      "text/plain": [
       "<Figure size 432x288 with 1 Axes>"
      ]
     },
     "metadata": {
      "needs_background": "light"
     },
     "output_type": "display_data"
    }
   ],
   "source": [
    "sns.stripplot(x = 'day', y = 'total_bill', data = tips) \n",
    "plt.show() "
   ]
  },
  {
   "cell_type": "markdown",
   "id": "a698760a",
   "metadata": {
    "slideshow": {
     "slide_type": "slide"
    }
   },
   "source": [
    "## Swarmplot :  "
   ]
  },
  {
   "cell_type": "markdown",
   "id": "132dec5f",
   "metadata": {
    "slideshow": {
     "slide_type": "slide"
    }
   },
   "source": [
    "El swarmplot es similar a `stripplot()`, pero los puntos se ajustan (solo a lo largo del eje categórico) para que no se superpongan. "
   ]
  },
  {
   "cell_type": "markdown",
   "id": "7f48bfbc",
   "metadata": {
    "slideshow": {
     "slide_type": "slide"
    }
   },
   "source": [
    "Esto da una mejor representación de la distribución de valores, aunque no escala tan bien a un gran número de observaciones (tanto en términos de la capacidad de mostrar todos los puntos como en términos del cálculo necesario para organizarlos)."
   ]
  },
  {
   "cell_type": "code",
   "execution_count": 29,
   "id": "16c1c0a0",
   "metadata": {
    "slideshow": {
     "slide_type": "slide"
    }
   },
   "outputs": [
    {
     "data": {
      "image/png": "[encoded data removed]",
      "text/plain": [
       "<Figure size 432x288 with 1 Axes>"
      ]
     },
     "metadata": {
      "needs_background": "light"
     },
     "output_type": "display_data"
    }
   ],
   "source": [
    "sns.swarmplot(x = 'day', y = 'total_bill', data = tips, palette = 'Set1', dodge = True) \n",
    "plt.show() "
   ]
  },
  {
   "cell_type": "markdown",
   "id": "79093b17",
   "metadata": {
    "slideshow": {
     "slide_type": "slide"
    }
   },
   "source": [
    "## catplot :"
   ]
  },
  {
   "cell_type": "markdown",
   "id": "e2e7508f",
   "metadata": {
    "slideshow": {
     "slide_type": "slide"
    }
   },
   "source": [
    "catplot es la forma más general de una trama categórica. "
   ]
  },
  {
   "cell_type": "markdown",
   "id": "68d5d422",
   "metadata": {
    "slideshow": {
     "slide_type": "slide"
    }
   },
   "source": [
    "Puede tomar un parámetro **kind** para ajustar el tipo de gráfico:"
   ]
  },
  {
   "cell_type": "code",
   "execution_count": 37,
   "id": "72dbb410",
   "metadata": {
    "slideshow": {
     "slide_type": "slide"
    }
   },
   "outputs": [
    {
     "data": {
      "image/png": "[encoded data removed]",
      "text/plain": [
       "<Figure size 360x360 with 1 Axes>"
      ]
     },
     "metadata": {
      "needs_background": "light"
     },
     "output_type": "display_data"
    }
   ],
   "source": [
    "sns.catplot(x = 'sex', y = 'total_bill', data = tips, kind = 'swarm')  \n",
    "\n",
    "plt.savefig('catplot_es_la_mejor.jpg')\n",
    "\n",
    "plt.show() "
   ]
  },
  {
   "cell_type": "markdown",
   "id": "144a0844",
   "metadata": {
    "slideshow": {
     "slide_type": "skip"
    }
   },
   "source": []
  },
  {
   "cell_type": "markdown",
   "id": "a92bca06",
   "metadata": {
    "slideshow": {
     "slide_type": "slide"
    }
   },
   "source": [
    "## Referentes:\n",
    "* https://medium.com/@gauravdahiya/visualising-categorical-data-8fe887c98e57"
   ]
  }
 ],
 "metadata": {
  "celltoolbar": "Slideshow",
  "kernelspec": {
   "display_name": "Python 3 (ipykernel)",
   "language": "python",
   "name": "python3"
  },
  "language_info": {
   "codemirror_mode": {
    "name": "ipython",
    "version": 3
   },
   "file_extension": ".py",
   "mimetype": "text/x-python",
   "name": "python",
   "nbconvert_exporter": "python",
   "pygments_lexer": "ipython3",
   "version": "3.9.7"
  },
  "latex_envs": {
   "LaTeX_envs_menu_present": true,
   "autoclose": false,
   "autocomplete": false,
   "bibliofile": "biblio.bib",
   "cite_by": "apalike",
   "current_citInitial": 1,
   "eqLabelWithNumbers": true,
   "eqNumInitial": 1,
   "hotkeys": {
    "equation": "Ctrl-E",
    "itemize": "Ctrl-I"
   },
   "labels_anchors": false,
   "latex_user_defs": false,
   "report_style_numbering": false,
   "user_envs_cfg": false
  },
  "rise": {
   "enable_chalkboard": true,
   "theme": "sky",
   "transition": "zoom"
  }
 },
 "nbformat": 4,
 "nbformat_minor": 5
}
