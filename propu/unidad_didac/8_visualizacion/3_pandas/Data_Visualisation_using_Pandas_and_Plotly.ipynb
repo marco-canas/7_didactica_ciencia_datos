{
 "cells": [
  {
   "cell_type": "markdown",
   "id": "5becbf5d",
   "metadata": {},
   "source": [
    "<table align=\"left\">\n",
    "  <td>\n",
    "    <a href=\"https://colab.research.google.com/github/marco-canas/taca/blob/main/ref/geron/chap_2/4_visualize/2_correlations.ipynb\" target=\"_parent\"><img src=\"https://colab.research.google.com/assets/colab-badge.svg\" alt=\"Open In Colab\"/></a>\n",
    "  </td>\n",
    "  <td>\n",
    "    <a target=\"_blank\" href=\"https://kaggle.com/kernels/welcome?src=https://github.com/marco-canas/taca/blob/main/ref/geron/chap_2/4_visualize/2_correlations.ipynb\"><img src=\"https://kaggle.com/static/images/open-in-kaggle.svg\" /></a>\n",
    "  </td>\n",
    "</table>"
   ]
  },
  {
   "cell_type": "markdown",
   "id": "17cd6f1f",
   "metadata": {},
   "source": [
    "# [Data Visualisation using Pandas and Plotly](https://pub.towardsai.net/data-visualisation-using-pandas-and-plotly-970df88fba6f)"
   ]
  },
  {
   "cell_type": "markdown",
   "id": "248b6cf7",
   "metadata": {},
   "source": [
    "## [Video de apoyo]()"
   ]
  },
  {
   "cell_type": "markdown",
   "id": "c3bd18bd",
   "metadata": {},
   "source": [
    "Imaginemos que está tratando de convencer a un cliente para que invierta en su empresa. "
   ]
  },
  {
   "cell_type": "markdown",
   "id": "67ea5f92",
   "metadata": {},
   "source": [
    "Usted exhibe todos los registros del empleado y sus logros en forma de una hoja de Excel en lugar de un gráfico de barras o un gráfico circular. "
   ]
  },
  {
   "cell_type": "markdown",
   "id": "8ab68db9",
   "metadata": {},
   "source": [
    "Imagínate en el lugar del cliente. "
   ]
  },
  {
   "cell_type": "markdown",
   "id": "6e985dfc",
   "metadata": {},
   "source": [
    "¿Cómo reaccionarías entonces? "
   ]
  },
  {
   "cell_type": "markdown",
   "id": "11a4edad",
   "metadata": {},
   "source": [
    "(¿No serían demasiados datos tan abrumadores?). Aquí es donde la visualización de datos entra en escena."
   ]
  },
  {
   "cell_type": "markdown",
   "id": "9ead7325",
   "metadata": {},
   "source": [
    "La visualización de datos es la práctica de traducir datos en bruto en gráficos y gráficos visuales para facilitar la interpretación del cerebro humano. "
   ]
  },
  {
   "cell_type": "markdown",
   "id": "69c2c922",
   "metadata": {},
   "source": [
    "El objetivo principal es hacer que la investigación y el análisis de datos sean más rápidos y también comunicar las tendencias y los patrones de manera efectiva."
   ]
  },
  {
   "cell_type": "markdown",
   "id": "71f8d004",
   "metadata": {},
   "source": [
    "**El cerebro humano está programado para comprender datos visualmente atractivos mejor que los textos largos y sin formato.**"
   ]
  },
  {
   "cell_type": "markdown",
   "id": "b21957dd",
   "metadata": {},
   "source": [
    "En este artículo, tomemos un conjunto de datos, limpiemos los datos según el requisito e intentemos visualizar los datos. El conjunto de datos se toma de Kaggle. Puedes encontrarlo [aquí](https://www.kaggle.com/sudalairajkumar/covid19-in-india?select=covid_vaccine_statewise.csv)."
   ]
  },
  {
   "cell_type": "markdown",
   "id": "6f260eaf",
   "metadata": {},
   "source": [
    "En primer lugar, para cargar los datos de fuentes externas y limpiarlos, utilizaremos la biblioteca de Pandas. "
   ]
  },
  {
   "cell_type": "markdown",
   "id": "7516965d",
   "metadata": {},
   "source": [
    "Necesitamos importar la biblioteca de Pandas para poder usarla. Podemos importarlo usando:"
   ]
  },
  {
   "cell_type": "code",
   "execution_count": 1,
   "id": "92186e09",
   "metadata": {},
   "outputs": [],
   "source": [
    "import pandas as pd "
   ]
  },
  {
   "cell_type": "code",
   "execution_count": 4,
   "id": "201db1dd",
   "metadata": {},
   "outputs": [],
   "source": [
    "df_india = pd.read_csv('C:/Users/Usuario/Desktop/taca/datasets/covid_19_india/covid_19_india.csv') "
   ]
  },
  {
   "cell_type": "code",
   "execution_count": 5,
   "id": "edefb33c",
   "metadata": {},
   "outputs": [
    {
     "data": {
      "text/html": [
       "<div>\n",
       "<style scoped>\n",
       "    .dataframe tbody tr th:only-of-type {\n",
       "        vertical-align: middle;\n",
       "    }\n",
       "\n",
       "    .dataframe tbody tr th {\n",
       "        vertical-align: top;\n",
       "    }\n",
       "\n",
       "    .dataframe thead th {\n",
       "        text-align: right;\n",
       "    }\n",
       "</style>\n",
       "<table border=\"1\" class=\"dataframe\">\n",
       "  <thead>\n",
       "    <tr style=\"text-align: right;\">\n",
       "      <th></th>\n",
       "      <th>Sno</th>\n",
       "      <th>Date</th>\n",
       "      <th>Time</th>\n",
       "      <th>State/UnionTerritory</th>\n",
       "      <th>ConfirmedIndianNational</th>\n",
       "      <th>ConfirmedForeignNational</th>\n",
       "      <th>Cured</th>\n",
       "      <th>Deaths</th>\n",
       "      <th>Confirmed</th>\n",
       "    </tr>\n",
       "  </thead>\n",
       "  <tbody>\n",
       "    <tr>\n",
       "      <th>0</th>\n",
       "      <td>1</td>\n",
       "      <td>2020-01-30</td>\n",
       "      <td>6:00 PM</td>\n",
       "      <td>Kerala</td>\n",
       "      <td>1</td>\n",
       "      <td>0</td>\n",
       "      <td>0</td>\n",
       "      <td>0</td>\n",
       "      <td>1</td>\n",
       "    </tr>\n",
       "    <tr>\n",
       "      <th>1</th>\n",
       "      <td>2</td>\n",
       "      <td>2020-01-31</td>\n",
       "      <td>6:00 PM</td>\n",
       "      <td>Kerala</td>\n",
       "      <td>1</td>\n",
       "      <td>0</td>\n",
       "      <td>0</td>\n",
       "      <td>0</td>\n",
       "      <td>1</td>\n",
       "    </tr>\n",
       "    <tr>\n",
       "      <th>2</th>\n",
       "      <td>3</td>\n",
       "      <td>2020-02-01</td>\n",
       "      <td>6:00 PM</td>\n",
       "      <td>Kerala</td>\n",
       "      <td>2</td>\n",
       "      <td>0</td>\n",
       "      <td>0</td>\n",
       "      <td>0</td>\n",
       "      <td>2</td>\n",
       "    </tr>\n",
       "    <tr>\n",
       "      <th>3</th>\n",
       "      <td>4</td>\n",
       "      <td>2020-02-02</td>\n",
       "      <td>6:00 PM</td>\n",
       "      <td>Kerala</td>\n",
       "      <td>3</td>\n",
       "      <td>0</td>\n",
       "      <td>0</td>\n",
       "      <td>0</td>\n",
       "      <td>3</td>\n",
       "    </tr>\n",
       "    <tr>\n",
       "      <th>4</th>\n",
       "      <td>5</td>\n",
       "      <td>2020-02-03</td>\n",
       "      <td>6:00 PM</td>\n",
       "      <td>Kerala</td>\n",
       "      <td>3</td>\n",
       "      <td>0</td>\n",
       "      <td>0</td>\n",
       "      <td>0</td>\n",
       "      <td>3</td>\n",
       "    </tr>\n",
       "  </tbody>\n",
       "</table>\n",
       "</div>"
      ],
      "text/plain": [
       "   Sno        Date     Time State/UnionTerritory ConfirmedIndianNational  \\\n",
       "0    1  2020-01-30  6:00 PM               Kerala                       1   \n",
       "1    2  2020-01-31  6:00 PM               Kerala                       1   \n",
       "2    3  2020-02-01  6:00 PM               Kerala                       2   \n",
       "3    4  2020-02-02  6:00 PM               Kerala                       3   \n",
       "4    5  2020-02-03  6:00 PM               Kerala                       3   \n",
       "\n",
       "  ConfirmedForeignNational  Cured  Deaths  Confirmed  \n",
       "0                        0      0       0          1  \n",
       "1                        0      0       0          1  \n",
       "2                        0      0       0          2  \n",
       "3                        0      0       0          3  \n",
       "4                        0      0       0          3  "
      ]
     },
     "execution_count": 5,
     "metadata": {},
     "output_type": "execute_result"
    }
   ],
   "source": [
    "df_india.head() "
   ]
  },
  {
   "cell_type": "code",
   "execution_count": 6,
   "id": "840b9e1c",
   "metadata": {},
   "outputs": [
    {
     "name": "stdout",
     "output_type": "stream",
     "text": [
      "<class 'pandas.core.frame.DataFrame'>\n",
      "RangeIndex: 18110 entries, 0 to 18109\n",
      "Data columns (total 9 columns):\n",
      " #   Column                    Non-Null Count  Dtype \n",
      "---  ------                    --------------  ----- \n",
      " 0   Sno                       18110 non-null  int64 \n",
      " 1   Date                      18110 non-null  object\n",
      " 2   Time                      18110 non-null  object\n",
      " 3   State/UnionTerritory      18110 non-null  object\n",
      " 4   ConfirmedIndianNational   18110 non-null  object\n",
      " 5   ConfirmedForeignNational  18110 non-null  object\n",
      " 6   Cured                     18110 non-null  int64 \n",
      " 7   Deaths                    18110 non-null  int64 \n",
      " 8   Confirmed                 18110 non-null  int64 \n",
      "dtypes: int64(4), object(5)\n",
      "memory usage: 1.2+ MB\n"
     ]
    }
   ],
   "source": [
    "df_india.info() "
   ]
  },
  {
   "cell_type": "code",
   "execution_count": null,
   "id": "2985ed67",
   "metadata": {},
   "outputs": [],
   "source": []
  },
  {
   "cell_type": "code",
   "execution_count": null,
   "id": "657a7385",
   "metadata": {},
   "outputs": [],
   "source": []
  }
 ],
 "metadata": {
  "kernelspec": {
   "display_name": "Python 3",
   "language": "python",
   "name": "python3"
  },
  "language_info": {
   "codemirror_mode": {
    "name": "ipython",
    "version": 3
   },
   "file_extension": ".py",
   "mimetype": "text/x-python",
   "name": "python",
   "nbconvert_exporter": "python",
   "pygments_lexer": "ipython3",
   "version": "3.8.8"
  },
  "latex_envs": {
   "LaTeX_envs_menu_present": true,
   "autoclose": false,
   "autocomplete": false,
   "bibliofile": "biblio.bib",
   "cite_by": "apalike",
   "current_citInitial": 1,
   "eqLabelWithNumbers": true,
   "eqNumInitial": 1,
   "hotkeys": {
    "equation": "Ctrl-E",
    "itemize": "Ctrl-I"
   },
   "labels_anchors": false,
   "latex_user_defs": false,
   "report_style_numbering": false,
   "user_envs_cfg": false
  }
 },
 "nbformat": 4,
 "nbformat_minor": 5
}
