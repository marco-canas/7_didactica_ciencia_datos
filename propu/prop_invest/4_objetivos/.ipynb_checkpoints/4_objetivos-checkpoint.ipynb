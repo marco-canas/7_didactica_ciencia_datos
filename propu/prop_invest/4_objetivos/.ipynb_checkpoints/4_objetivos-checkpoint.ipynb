{
 "cells": [
  {
   "cell_type": "markdown",
   "metadata": {
    "slideshow": {
     "slide_type": "slide"
    }
   },
   "source": []
  },
  {
   "cell_type": "markdown",
   "metadata": {
    "slideshow": {
     "slide_type": "slide"
    }
   },
   "source": [
    "# Objetivo general"
   ]
  },
  {
   "cell_type": "markdown",
   "metadata": {
    "slideshow": {
     "slide_type": "slide"
    }
   },
   "source": [
    "* Generar una guía metodológica introductoria a la ciencia de datos para docentes del Bajo Cauca antioqueño de educación primaria, bachillerato y educación superior del Bajo Cauca y sur de Códoba y para estudiantes en educación superior. "
   ]
  },
  {
   "cell_type": "markdown",
   "metadata": {
    "slideshow": {
     "slide_type": "slide"
    }
   },
   "source": [
    "# 4_Objetivos "
   ]
  },
  {
   "cell_type": "markdown",
   "metadata": {
    "slideshow": {
     "slide_type": "slide"
    }
   },
   "source": [
    "* enseñar a organizar los datos de acuerdo a la naturaleza de la variable y a la sintaxis y semantica de Python "
   ]
  },
  {
   "cell_type": "markdown",
   "metadata": {
    "slideshow": {
     "slide_type": "slide"
    }
   },
   "source": [
    "* Enseñar a consultar, leer e implementar algunas documentaciones de librerías, modulos, clases y funciones para ciencia de datos asociadas a Python. "
   ]
  },
  {
   "cell_type": "markdown",
   "metadata": {
    "slideshow": {
     "slide_type": "slide"
    }
   },
   "source": [
    "* Presentar a los docentes del Bajo Cauca  una alternativa que resuelva:  \n",
    "\n",
    "   * desconocimiento de la sintaxis de numpy para la organización y manipulación de los dataset   \n",
    "   * desconocimiento de una plataforma interactiva como Jupyter Notebook, basada en el lenguaje de programación Python, software libre y gratuito. \n",
    "   \n",
    "* Nuestra propuesta tiene como objetivo fomentar el uso integrado de códigos de programación de Python\n",
    "  en la presentación de contenidos para que el estudiante **explore distintos casos** de un problema o\n",
    "  materia explicada en clase. Ya que el empleo de este entorno de programación hace que el alumno \n",
    "  adquiera la formación necesaria para posteriormente llegar a ser usuario de otras plataformas de uso \n",
    "  común en el mercado, ya sean de acceso libre o de pago."
   ]
  },
  {
   "cell_type": "markdown",
   "metadata": {
    "slideshow": {
     "slide_type": "slide"
    }
   },
   "source": [
    "* Presentar la clasificación y la regresión como problemas usuales en ciencia de datos y una forma \n",
    "  didáctica de enseñanza del abordaje de estos problemas. "
   ]
  },
  {
   "cell_type": "markdown",
   "metadata": {
    "slideshow": {
     "slide_type": "slide"
    }
   },
   "source": [
    "* regresión lineal ordinaria (MCO)\n",
    "* regresión Ridge\n",
    "* regresiónsión Lasso \n",
    "\n"
   ]
  },
  {
   "cell_type": "code",
   "execution_count": null,
   "metadata": {},
   "outputs": [],
   "source": []
  }
 ],
 "metadata": {
  "celltoolbar": "Slideshow",
  "hide_input": false,
  "kernelspec": {
   "display_name": "Python 3 (ipykernel)",
   "language": "python",
   "name": "python3"
  },
  "language_info": {
   "codemirror_mode": {
    "name": "ipython",
    "version": 3
   },
   "file_extension": ".py",
   "mimetype": "text/x-python",
   "name": "python",
   "nbconvert_exporter": "python",
   "pygments_lexer": "ipython3",
   "version": "3.9.7"
  },
  "latex_envs": {
   "LaTeX_envs_menu_present": true,
   "autoclose": false,
   "autocomplete": false,
   "bibliofile": "biblio.bib",
   "cite_by": "apalike",
   "current_citInitial": 1,
   "eqLabelWithNumbers": true,
   "eqNumInitial": 1,
   "hotkeys": {
    "equation": "Ctrl-E",
    "itemize": "Ctrl-I"
   },
   "labels_anchors": false,
   "latex_user_defs": false,
   "report_style_numbering": false,
   "user_envs_cfg": false
  },
  "nbTranslate": {
   "displayLangs": [
    "*"
   ],
   "hotkey": "alt-t",
   "langInMainMenu": true,
   "sourceLang": "en",
   "targetLang": "fr",
   "useGoogleTranslate": true
  }
 },
 "nbformat": 4,
 "nbformat_minor": 2
}
