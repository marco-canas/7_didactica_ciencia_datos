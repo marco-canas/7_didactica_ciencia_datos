{
 "cells": [
  {
   "cell_type": "markdown",
   "metadata": {
    "slideshow": {
     "slide_type": "slide"
    }
   },
   "source": [
    "# Título y resumen"
   ]
  },
  {
   "cell_type": "markdown",
   "metadata": {
    "slideshow": {
     "slide_type": "slide"
    }
   },
   "source": [
    "## Diseño de una propuesta metodológica de enseñanza de la ciencia de datos y el Machine Learning en educación superior "
   ]
  },
  {
   "cell_type": "markdown",
   "metadata": {
    "slideshow": {
     "slide_type": "slide"
    }
   },
   "source": [
    "Los desarrollos tecnológicos que se han venido gestando en los ultimos años hacen preguntarse si la educación matemática debe cambiar para estar acorde en formar a los estudiantes para enfrentar estos cambios. "
   ]
  },
  {
   "cell_type": "markdown",
   "metadata": {
    "slideshow": {
     "slide_type": "slide"
    }
   },
   "source": [
    "La nueva cotidianidad: redes sociales, nuevas formas de ver televisión (Netflix), las nuevas formas de publicidad y mercadeo, las nuevas formas de hacer ciencia(reconocimiento de imagenes para taxonomia, y diagnostico nde enfermedades) obliga a la educación matemática en todos los niveles educativos a cambiar sus enfoque frente al nuevo paradigma de que la información es conocimiento. "
   ]
  },
  {
   "cell_type": "markdown",
   "metadata": {
    "slideshow": {
     "slide_type": "slide"
    }
   },
   "source": [
    "Enseñar desde una optica computacional puede hacernos cercanos a los estudiantes por otorgarle sentido a los conocimientos matemáticos que en la escuala, el colegio y ña universidad se imparten. "
   ]
  },
  {
   "cell_type": "markdown",
   "metadata": {
    "slideshow": {
     "slide_type": "slide"
    }
   },
   "source": [
    "Es necesario capacitar a los profesores de educación primaria, secundaria y superior para que la educación que se imparta valla en paralelo a los desarrollos tecnológicos que están ocurriendo de tal manera que los estudiantes puedan adquirir las competencias que este nuevo mundo requiere y les exige. "
   ]
  },
  {
   "cell_type": "markdown",
   "metadata": {
    "slideshow": {
     "slide_type": "slide"
    }
   },
   "source": [
    "Es necesario, cambiar la forma metodológica como se enseña el acceso a la modelación o aplicación de saberes, no pasar de la realidad al lenuaje matemático para finalizar en el lenguaje de programación sino pasar de la realidad al lenguaje de programación para finalizar en el lenguaje simbólico pues el lenguaje de programación Pythin es mas cercano al lenguaje natural con el que se describe primeramente a la realidad."
   ]
  },
  {
   "cell_type": "code",
   "execution_count": null,
   "metadata": {
    "slideshow": {
     "slide_type": "slide"
    }
   },
   "outputs": [],
   "source": []
  },
  {
   "cell_type": "code",
   "execution_count": null,
   "metadata": {
    "slideshow": {
     "slide_type": "slide"
    }
   },
   "outputs": [],
   "source": []
  },
  {
   "cell_type": "code",
   "execution_count": null,
   "metadata": {},
   "outputs": [],
   "source": []
  },
  {
   "cell_type": "code",
   "execution_count": null,
   "metadata": {},
   "outputs": [],
   "source": []
  },
  {
   "cell_type": "code",
   "execution_count": null,
   "metadata": {},
   "outputs": [],
   "source": []
  },
  {
   "cell_type": "code",
   "execution_count": null,
   "metadata": {},
   "outputs": [],
   "source": []
  },
  {
   "cell_type": "code",
   "execution_count": null,
   "metadata": {},
   "outputs": [],
   "source": []
  }
 ],
 "metadata": {
  "celltoolbar": "Slideshow",
  "hide_input": false,
  "kernelspec": {
   "display_name": "Python 3 (ipykernel)",
   "language": "python",
   "name": "python3"
  },
  "language_info": {
   "codemirror_mode": {
    "name": "ipython",
    "version": 3
   },
   "file_extension": ".py",
   "mimetype": "text/x-python",
   "name": "python",
   "nbconvert_exporter": "python",
   "pygments_lexer": "ipython3",
   "version": "3.9.7"
  },
  "nbTranslate": {
   "displayLangs": [
    "*"
   ],
   "hotkey": "alt-t",
   "langInMainMenu": true,
   "sourceLang": "en",
   "targetLang": "fr",
   "useGoogleTranslate": true
  }
 },
 "nbformat": 4,
 "nbformat_minor": 2
}
