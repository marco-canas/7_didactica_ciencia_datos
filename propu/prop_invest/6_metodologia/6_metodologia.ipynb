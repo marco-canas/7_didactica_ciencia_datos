{
 "cells": [
  {
   "cell_type": "markdown",
   "metadata": {},
   "source": [
    "# 6_metodología\n"
   ]
  },
  {
   "cell_type": "markdown",
   "metadata": {},
   "source": [
    "* Incursión preliminar. Los investigadores y grupo voluntario inicial realizaran una análisis de   \n",
    "  datos y una reducción dimensional con datasets didácticos extraidos de pandas y sklearn para probar\n",
    "  la mecánica de trabajo y la realización de ejemplos preliminares que sirvan para incentivar al grueso \n",
    "  de los profesores y estudiantes semilleristas.\n",
    "* Exploración en el aula. Se realizaran talleres de trabajo de aula utilizando códigos existentes para resolver ejercicios y problemas de exploración de datos con pandas, matplotlib, seaborn y sklearn con el propósito de familiarizar a los docentes y semilleristas con el trabajo en el contexto de Python y Jupyter Notebook.\n",
    "* Tareas de análisis y reducción dimensional y ejercicios. Ejercicios, problemas, gráficas y animaciones que los docentes y semilleristas desarrollarán individual o colectivamente desde cero o apoyados en un desarrollo existente.\n",
    "* Profundización. Los resultados de las tareas, ejercicios, gráficas y animaciones serán\n",
    "examinados por los investigadores, docentes y el grupo de estudiantes semilleristas, para estudiar\n",
    "las posibilidades de ampliación, profundización y extensión orientado a su optimización.\n",
    "* optimización de resultados. Los resultados serán optimizados para su socialización.\n"
   ]
  },
  {
   "cell_type": "code",
   "execution_count": null,
   "metadata": {},
   "outputs": [],
   "source": []
  },
  {
   "cell_type": "code",
   "execution_count": null,
   "metadata": {},
   "outputs": [],
   "source": []
  },
  {
   "cell_type": "code",
   "execution_count": null,
   "metadata": {},
   "outputs": [],
   "source": []
  },
  {
   "cell_type": "code",
   "execution_count": null,
   "metadata": {},
   "outputs": [],
   "source": []
  },
  {
   "cell_type": "code",
   "execution_count": null,
   "metadata": {},
   "outputs": [],
   "source": []
  }
 ],
 "metadata": {
  "hide_input": false,
  "kernelspec": {
   "display_name": "Python 3",
   "language": "python",
   "name": "python3"
  },
  "language_info": {
   "codemirror_mode": {
    "name": "ipython",
    "version": 3
   },
   "file_extension": ".py",
   "mimetype": "text/x-python",
   "name": "python",
   "nbconvert_exporter": "python",
   "pygments_lexer": "ipython3",
   "version": "3.7.4"
  },
  "nbTranslate": {
   "displayLangs": [
    "*"
   ],
   "hotkey": "alt-t",
   "langInMainMenu": true,
   "sourceLang": "en",
   "targetLang": "fr",
   "useGoogleTranslate": true
  }
 },
 "nbformat": 4,
 "nbformat_minor": 2
}
