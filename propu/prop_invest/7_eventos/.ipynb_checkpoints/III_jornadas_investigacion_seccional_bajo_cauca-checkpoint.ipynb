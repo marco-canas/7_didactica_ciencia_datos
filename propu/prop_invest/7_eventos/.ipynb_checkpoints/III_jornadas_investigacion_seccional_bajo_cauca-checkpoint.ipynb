{
 "cells": [
  {
   "cell_type": "markdown",
   "id": "54186b69",
   "metadata": {},
   "source": [
    "# Presentación en las III jornadas de investigación de la Seccional Bajo Cauca de la Universidad de Antioquia. Caucasia.  "
   ]
  },
  {
   "cell_type": "markdown",
   "id": "6af9295a",
   "metadata": {},
   "source": [
    "## Objetivo:"
   ]
  },
  {
   "cell_type": "markdown",
   "id": "7d0f4bca",
   "metadata": {},
   "source": [
    "Presentar el estado de la investigación en didáctica de la Ciencia de Datos del Coloquio DiMatData conformado por los profesores Yuber Hernany Tapias Arboleda y Marco Julio Cañas Campillo. "
   ]
  },
  {
   "cell_type": "markdown",
   "id": "53f998ea",
   "metadata": {},
   "source": [
    "## Introducción"
   ]
  },
  {
   "cell_type": "markdown",
   "id": "483bee00",
   "metadata": {},
   "source": [
    "El coloquio de Didáctica de la Matemática y la Ciencia de Datos (DiMatData), fruto del trabajo disciplinar de los profesores Yuber Hernany Tapias Arboleda y Marco Julio Cañas Campillo (Ambos Licenciados en Matemáticas y Magister en Matemáticas), ambos pertenecientes a la Universidad de Antioquia, que se han dado a la terea de la creación de unidades didácticas para la enseñanza de la matemática y de la Ciencia de Datos para los estudiantes de la Universidad de Antioquia. "
   ]
  },
  {
   "cell_type": "markdown",
   "id": "01779b6c",
   "metadata": {},
   "source": [
    "En estas Jornadas de investigación queremos presentar el estado de **la revisión bibliográfica** de nuestra investigación y los diseños didácticos para:\n",
    "\n",
    "* La enseñanza del lenguaje Python necesario para La enseñanza y el aprendizaje de la matemática y la ciencia de datos   \n",
    "  en educación superior. \n",
    "* La enseñanza de los principalres algoritmos de Machine learning utilizando la librería Scikit Learn de Python. \n"
   ]
  },
  {
   "cell_type": "code",
   "execution_count": null,
   "id": "e2531891",
   "metadata": {},
   "outputs": [],
   "source": []
  },
  {
   "cell_type": "code",
   "execution_count": null,
   "id": "85bcf12b",
   "metadata": {},
   "outputs": [],
   "source": []
  }
 ],
 "metadata": {
  "kernelspec": {
   "display_name": "Python 3",
   "language": "python",
   "name": "python3"
  },
  "language_info": {
   "codemirror_mode": {
    "name": "ipython",
    "version": 3
   },
   "file_extension": ".py",
   "mimetype": "text/x-python",
   "name": "python",
   "nbconvert_exporter": "python",
   "pygments_lexer": "ipython3",
   "version": "3.8.8"
  },
  "latex_envs": {
   "LaTeX_envs_menu_present": true,
   "autoclose": false,
   "autocomplete": false,
   "bibliofile": "biblio.bib",
   "cite_by": "apalike",
   "current_citInitial": 1,
   "eqLabelWithNumbers": true,
   "eqNumInitial": 1,
   "hotkeys": {
    "equation": "Ctrl-E",
    "itemize": "Ctrl-I"
   },
   "labels_anchors": false,
   "latex_user_defs": false,
   "report_style_numbering": false,
   "user_envs_cfg": false
  }
 },
 "nbformat": 4,
 "nbformat_minor": 5
}
