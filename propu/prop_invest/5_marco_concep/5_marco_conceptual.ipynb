{
 "cells": [
  {
   "cell_type": "markdown",
   "metadata": {},
   "source": [
    "# 5_ Marco Conceptual "
   ]
  },
  {
   "cell_type": "markdown",
   "metadata": {},
   "source": []
  },
  {
   "cell_type": "markdown",
   "metadata": {},
   "source": [
    "La plataforma IPython Notebook se basa en el programa IPython [1], que es un intérprete de comandos para el lenguaje de programación Python, donde se ha potenciado la componente interactiva (de ahí la letra I en su nombre). "
   ]
  },
  {
   "cell_type": "markdown",
   "metadata": {},
   "source": [
    "IPython es software libre desarrollado por múltiples programadores, destacando Fernando Pérez de\n",
    "la Universidad de Berkeley (California, EEUU) [2]. "
   ]
  },
  {
   "cell_type": "markdown",
   "metadata": {},
   "source": [
    "Desde su versión 0.12 se ha desarrollado una interfaz, denominada Notebook, basada en un entorno computacional web que se visualiza en un navegador, y que permite la inclusión de cualquier elemento\n",
    "accesible a una página web, además de permitir la ejecución de código escrito en el lenguaje de programación Python. "
   ]
  },
  {
   "cell_type": "markdown",
   "metadata": {},
   "source": [
    "Esta interfaz se ejecuta separadamente del núcleo de ejecución de computación."
   ]
  },
  {
   "cell_type": "markdown",
   "metadata": {},
   "source": [
    "El código a ejecutar ha de ser escrito en el lenguaje de programación Python."
   ]
  },
  {
   "cell_type": "markdown",
   "metadata": {},
   "source": [
    "Este lenguaje se utiliza ampliamente en el ámbito científico, y su extensión no ha parado de crecer (en el año 2012 ha sido el lenguaje de programación más usado)."
   ]
  },
  {
   "cell_type": "markdown",
   "metadata": {},
   "source": [
    "Conocer este lenguaje puede resultar, por tanto, muy beneficioso para el estudiante\n",
    "en su futuro profesional. "
   ]
  },
  {
   "cell_type": "markdown",
   "metadata": {},
   "source": [
    "Además, posee un amplio abanico de módulos científicos que se importan en los documentos, igualando el rendimiento de programas de cálculo comerciales en prácticamente todas las facetas."
   ]
  },
  {
   "cell_type": "markdown",
   "metadata": {},
   "source": [
    "Las librerias más relevantes en el área de ciencias son:"
   ]
  },
  {
   "cell_type": "markdown",
   "metadata": {},
   "source": [
    "* SciPy: agrupa funciones relevantes para el cálculo numérico.\n",
    "* NumPy: proporciona funciones específicas para el cálculo numérico vectorial y matricial.\n",
    "* SymPy: agrupa las funciones necesarias para el cállculo simbólico.\n",
    "* Matplotlib: contiene herramientas para la elaboración de gráficos 2D y 3D\n",
    "(semejante a la generación de gráficos en MATLAB).\n",
    "* Pandas: librería especializada en la manipulación y análisis de datos."
   ]
  },
  {
   "cell_type": "markdown",
   "metadata": {},
   "source": []
  },
  {
   "cell_type": "code",
   "execution_count": null,
   "metadata": {},
   "outputs": [],
   "source": []
  },
  {
   "cell_type": "code",
   "execution_count": null,
   "metadata": {},
   "outputs": [],
   "source": []
  },
  {
   "cell_type": "code",
   "execution_count": null,
   "metadata": {},
   "outputs": [],
   "source": []
  },
  {
   "cell_type": "code",
   "execution_count": null,
   "metadata": {},
   "outputs": [],
   "source": []
  },
  {
   "cell_type": "code",
   "execution_count": null,
   "metadata": {},
   "outputs": [],
   "source": []
  }
 ],
 "metadata": {
  "hide_input": false,
  "kernelspec": {
   "display_name": "Python 3",
   "language": "python",
   "name": "python3"
  },
  "language_info": {
   "codemirror_mode": {
    "name": "ipython",
    "version": 3
   },
   "file_extension": ".py",
   "mimetype": "text/x-python",
   "name": "python",
   "nbconvert_exporter": "python",
   "pygments_lexer": "ipython3",
   "version": "3.7.4"
  },
  "nbTranslate": {
   "displayLangs": [
    "*"
   ],
   "hotkey": "alt-t",
   "langInMainMenu": true,
   "sourceLang": "en",
   "targetLang": "fr",
   "useGoogleTranslate": true
  }
 },
 "nbformat": 4,
 "nbformat_minor": 2
}
