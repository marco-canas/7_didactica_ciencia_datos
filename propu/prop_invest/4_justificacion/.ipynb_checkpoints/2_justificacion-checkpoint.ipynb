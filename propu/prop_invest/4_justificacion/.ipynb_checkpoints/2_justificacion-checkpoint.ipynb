{
 "cells": [
  {
   "cell_type": "markdown",
   "metadata": {
    "slideshow": {
     "slide_type": "slide"
    }
   },
   "source": [
    "# 2 Justificación "
   ]
  },
  {
   "cell_type": "markdown",
   "metadata": {
    "slideshow": {
     "slide_type": "slide"
    }
   },
   "source": [
    "## ¿Por qué utilizar Jupyter Notebook para la enseñanza de la ciencia de Datos?"
   ]
  },
  {
   "cell_type": "markdown",
   "metadata": {
    "slideshow": {
     "slide_type": "slide"
    }
   },
   "source": [
    "Es un fin de la universidad de antioquia el internacionalizar su programas académicos y para lograr ello es importante que nos demos cuenta que la ciencia de datos es transversal a todas las área de formación y es por ello que es necesario investigar en la didáctica específica de este saber. "
   ]
  },
  {
   "cell_type": "markdown",
   "metadata": {
    "slideshow": {
     "slide_type": "slide"
    }
   },
   "source": [
    "Para que los estudiantes adquieran competencias en ciencia de datos que la investigación y empresa privada requieren. "
   ]
  },
  {
   "cell_type": "markdown",
   "metadata": {
    "slideshow": {
     "slide_type": "slide"
    }
   },
   "source": [
    "Es indudable que enseñar matemáticas apoyados en la computación es necesario en esta época. "
   ]
  },
  {
   "cell_type": "markdown",
   "metadata": {
    "slideshow": {
     "slide_type": "slide"
    }
   },
   "source": [
    "Pero para lograr esto, consideramos que en la enseñanza se debe  presentar la ciencia de datos integrada a todas las área de enseñanza media y universitaria para que el estudiante vea lo beneficioso de esta ciencia para el desarrollo de sus capacidades investigativas y de solución de problemas reales.  "
   ]
  },
  {
   "cell_type": "markdown",
   "metadata": {
    "slideshow": {
     "slide_type": "slide"
    }
   },
   "source": [
    "Cabrera (): \n",
    "Es habitual el uso de programas de ordenador para elaborar figuras que ayuden a mostrar resultados que de otro modo serán difíciles de visualizar. "
   ]
  },
  {
   "cell_type": "markdown",
   "metadata": {
    "slideshow": {
     "slide_type": "slide"
    }
   },
   "source": [
    "Sin embargo, el enriquecimiento de las asignaturas será mucho mayor si los programas se combinaran\n",
    "en un mismo documento con:\n",
    "* texto explicativo, \n",
    "* imágenes, \n",
    "* videos u \n",
    "* otros contenidos multimedia, empleando para ello plataformas como Java o Flash. "
   ]
  },
  {
   "cell_type": "markdown",
   "metadata": {
    "slideshow": {
     "slide_type": "slide"
    }
   },
   "source": [
    "De esta forma, independientemente del curso que se imparta, se trabajará en un marco común, claro y de fácil seguimiento, no sólo para usuarios más diestros sino también para los que estén comenzando a utilizar este tipo de programas. "
   ]
  },
  {
   "cell_type": "markdown",
   "metadata": {
    "slideshow": {
     "slide_type": "slide"
    }
   },
   "source": [
    "Así, el estudiante disfrutará de un entorno con distintas herramientas combinadas que él\n",
    "mismo podrá ampliar y modificar, con el fin de facilitar la comprensión de los conocimientos\n",
    "a adquirir. "
   ]
  },
  {
   "cell_type": "markdown",
   "metadata": {
    "slideshow": {
     "slide_type": "slide"
    }
   },
   "source": [
    "La integración de otros formatos docentes aparte de código ejecutable no es lo habitual en los programas usualmente utilizados, como pueden ser MATLAB. "
   ]
  },
  {
   "cell_type": "markdown",
   "metadata": {
    "slideshow": {
     "slide_type": "slide"
    }
   },
   "source": [
    "Por otro lado, estos programas comerciales poseen una desventaja clara para su uso entre los estudiantes, e incluso en las universidades: el coste de la licencia. "
   ]
  },
  {
   "cell_type": "markdown",
   "metadata": {
    "slideshow": {
     "slide_type": "slide"
    }
   },
   "source": [
    "Aunque haya licencias para estudiantes, más baratas a costa de limitar el uso de ciertas funciones, su pago supone una barrera inicial para un uso amplio por parte del alumnado. "
   ]
  },
  {
   "cell_type": "markdown",
   "metadata": {
    "slideshow": {
     "slide_type": "slide"
    }
   },
   "source": [
    "## ¿Por qué Jupyter Notebook?"
   ]
  },
  {
   "cell_type": "markdown",
   "metadata": {
    "slideshow": {
     "slide_type": "slide"
    }
   },
   "source": [
    "Las características ya mencionadas permiten solucionar los problemas comentados anteriormente, relativos al uso de programas de cálculo en el desarrollo de un curso universitario:"
   ]
  },
  {
   "cell_type": "markdown",
   "metadata": {
    "slideshow": {
     "slide_type": "slide"
    }
   },
   "source": [
    "* La elección de una interfaz web permite la combinación de texto, fórmulas, código, figuras, y medios audiovisuales en un único documento, lo que facilita una explicación más detallada y atractiva de los conceptos que se quieran describir.\n",
    "\n",
    "* Su instalación y uso es completamente gratuito, por lo que el empleo de estos documentos no se ve obstaculizado por la necesidad de adquirir una licencia. (Utilice anaconda poara su instalación)"
   ]
  },
  {
   "cell_type": "markdown",
   "metadata": {
    "slideshow": {
     "slide_type": "slide"
    }
   },
   "source": [
    "El código a ejecutar ha de ser escrito en el lenguaje de programación Python."
   ]
  },
  {
   "cell_type": "markdown",
   "metadata": {
    "slideshow": {
     "slide_type": "slide"
    }
   },
   "source": [
    "Este lenguaje se utiliza ampliamente en el ámbito científico, y su extensión no ha parado de crecer (en el añoo 2012 ha sido el lenguaje de programación más usado)."
   ]
  },
  {
   "cell_type": "markdown",
   "metadata": {
    "slideshow": {
     "slide_type": "slide"
    }
   },
   "source": [
    "Conocer este lenguaje puede resultar, por tanto, muy beneficioso para el estudiante en su futuro profesional. "
   ]
  },
  {
   "cell_type": "markdown",
   "metadata": {
    "slideshow": {
     "slide_type": "slide"
    }
   },
   "source": [
    "Además, posee un amplio abanico de módulos científicos que se importan en los documentos, igualando el rendimiento de programas de cálculo comerciales en prácticamente todas las facetas."
   ]
  },
  {
   "cell_type": "markdown",
   "metadata": {
    "slideshow": {
     "slide_type": "slide"
    }
   },
   "source": [
    "Las librerias más relevantes en el área de ciencias son:"
   ]
  },
  {
   "cell_type": "code",
   "execution_count": null,
   "metadata": {
    "slideshow": {
     "slide_type": "slide"
    }
   },
   "outputs": [],
   "source": []
  },
  {
   "cell_type": "markdown",
   "metadata": {
    "slideshow": {
     "slide_type": "slide"
    }
   },
   "source": [
    "Ventajas respecto a otros programas de cálculo Presentamos ahora una comparación, desde el punto de vista docente, entre diversos programas de cálculo populares, tanto gratuitos (como Octave) como comerciales (como MATLAB, Mathematica). "
   ]
  },
  {
   "cell_type": "markdown",
   "metadata": {
    "slideshow": {
     "slide_type": "slide"
    }
   },
   "source": [
    "Puesto que la plataforma IPython Notebook se basa en el lenguaje Python, extendemos también esta comparación a otros lenguajes de programación, como son C o Fortran. Estos datos se resumen en\n",
    "la siguiente tabla"
   ]
  },
  {
   "cell_type": "markdown",
   "metadata": {
    "slideshow": {
     "slide_type": "slide"
    }
   },
   "source": [
    "|Jupyter Notebook|Matlab| Mathematica|Sage|C,Octave|  \n",
    "|----------------|------|------------|----|--------|  \n",
    "|Texto           |Sí    |Sí          |Sí  |No      |  \n",
    "|Multimedia      |Sí    |No          |No  |No      |\n",
    "|Código          |Sí    |Sí          |Sí  |Sí      |  \n",
    "|Gratuito        |Sí    |No          |No  |Sí      |  \n"
   ]
  },
  {
   "cell_type": "markdown",
   "metadata": {
    "slideshow": {
     "slide_type": "slide"
    }
   },
   "source": [
    "Podemos ver de la tabla que la principal ventaja de Jupyter Notebook frente a otras soluciones es la posibilidad de mostrar diferentes tipos de medios de enseñanza en un mismo documento, algo en lo que fallan todas las demás alternativas."
   ]
  },
  {
   "cell_type": "markdown",
   "metadata": {
    "slideshow": {
     "slide_type": "slide"
    }
   },
   "source": [
    "Los programas comerciales considerados han sido MATLAB, Mathematica y MAPLE, mientras que los programas basados en software libre ha sido Octave. "
   ]
  },
  {
   "cell_type": "markdown",
   "metadata": {
    "slideshow": {
     "slide_type": "slide"
    }
   },
   "source": [
    "# Ejemplo de inclusión de una página web en el Notebook "
   ]
  },
  {
   "cell_type": "code",
   "execution_count": 1,
   "metadata": {
    "slideshow": {
     "slide_type": "slide"
    }
   },
   "outputs": [
    {
     "data": {
      "text/html": [
       "<iframe src=http://www.wikipedia.org width=800px height=400px >"
      ],
      "text/plain": [
       "<IPython.core.display.HTML object>"
      ]
     },
     "execution_count": 1,
     "metadata": {},
     "output_type": "execute_result"
    }
   ],
   "source": [
    "from IPython.display import HTML\n",
    "HTML('<iframe src=http://www.wikipedia.org width=800px height=400px >')"
   ]
  },
  {
   "cell_type": "markdown",
   "metadata": {
    "slideshow": {
     "slide_type": "slide"
    }
   },
   "source": [
    "# Justificación 2"
   ]
  },
  {
   "cell_type": "markdown",
   "metadata": {
    "slideshow": {
     "slide_type": "slide"
    }
   },
   "source": [
    "La justificación de esta propuesta es fomentar el desarrollo de competencias mediante actividades asociadas a la línea de investigación en Pedagogía y didáctica de la matemática y la ciencia da datos. "
   ]
  },
  {
   "cell_type": "markdown",
   "metadata": {
    "slideshow": {
     "slide_type": "slide"
    }
   },
   "source": [
    "Así mismo es dar a conocer los aspectos positivos y de beneficio y los resultados de la formación de científicos de datos en la Universidad de Antioquia y que dicha experiencia pueda ser replicada en cualquier ámbito académico de nivel superior, siguiendo estos procesos de manera sistematizada: generación de un registro de línea de investigación, creación de proyecto y su capacitación inherente. "
   ]
  },
  {
   "cell_type": "markdown",
   "metadata": {
    "slideshow": {
     "slide_type": "slide"
    }
   },
   "source": [
    "Así mismo, esta formación de competencias mediante estos procesos deben ser estrategias de formación en grupos colegiados que busquen enriquecer el trabajo académico y es por ello que esta investigación propone la implementación de una formación de docentes en ciencia de datos y Machine Learning en el Bajo Cauca y su de Córdoba."
   ]
  },
  {
   "cell_type": "code",
   "execution_count": null,
   "metadata": {
    "slideshow": {
     "slide_type": "slide"
    }
   },
   "outputs": [],
   "source": []
  }
 ],
 "metadata": {
  "celltoolbar": "Slideshow",
  "hide_input": false,
  "kernelspec": {
   "display_name": "Python 3 (ipykernel)",
   "language": "python",
   "name": "python3"
  },
  "language_info": {
   "codemirror_mode": {
    "name": "ipython",
    "version": 3
   },
   "file_extension": ".py",
   "mimetype": "text/x-python",
   "name": "python",
   "nbconvert_exporter": "python",
   "pygments_lexer": "ipython3",
   "version": "3.9.7"
  },
  "nbTranslate": {
   "displayLangs": [
    "*"
   ],
   "hotkey": "alt-t",
   "langInMainMenu": true,
   "sourceLang": "en",
   "targetLang": "fr",
   "useGoogleTranslate": true
  },
  "rise": {
   "theme": "sky"
  }
 },
 "nbformat": 4,
 "nbformat_minor": 2
}
