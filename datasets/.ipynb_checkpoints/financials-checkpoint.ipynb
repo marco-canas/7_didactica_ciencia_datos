{
 "cells": [
  {
   "cell_type": "markdown",
   "id": "bd3eb1d1",
   "metadata": {
    "slideshow": {
     "slide_type": "slide"
    }
   },
   "source": [
    "<table align=\"left\">\n",
    "  <td>\n",
    "    <a href=\"https://colab.research.google.com/github/marco-canas/innovaciones/blob/main/propuesta/reduccion_dim_clasificacion_regresion/0_intro_python/dia_8/.ipynb_checkpoints/dia_8-checkpoint.ipynb\" target=\"_parent\"><img src=\"https://colab.research.google.com/assets/colab-badge.svg\" alt=\"Open In Colab\"/></a>\n",
    "  </td>\n",
    "</table>"
   ]
  },
  {
   "cell_type": "markdown",
   "id": "e9928f14",
   "metadata": {
    "slideshow": {
     "slide_type": "slide"
    }
   },
   "source": [
    "# Análisis SP500"
   ]
  },
  {
   "cell_type": "markdown",
   "id": "0ef9ca92",
   "metadata": {
    "slideshow": {
     "slide_type": "slide"
    }
   },
   "source": [
    "El índice, tal como se lo conoce hoy en día, fue formulado en 1957 al extenderse para incluir las 500 compañías más grandes de Estados Unidos. Este índice bursátil se compone de las 500 empresas más grandes de Estados Unidos y se pondera de acuerdo a la capitalización de mercado de cada una de las empresas."
   ]
  },
  {
   "cell_type": "code",
   "execution_count": 10,
   "id": "079d26b8",
   "metadata": {
    "slideshow": {
     "slide_type": "slide"
    }
   },
   "outputs": [],
   "source": [
    "import pandas as pd \n",
    "import numpy as np \n",
    "import matplotlib as mpl \n",
    "import matplotlib.pyplot as plt \n",
    "import seaborn as sns "
   ]
  },
  {
   "cell_type": "code",
   "execution_count": 11,
   "id": "6ab77c54",
   "metadata": {
    "scrolled": true,
    "slideshow": {
     "slide_type": "slide"
    }
   },
   "outputs": [
    {
     "data": {
      "text/html": [
       "<div>\n",
       "<style scoped>\n",
       "    .dataframe tbody tr th:only-of-type {\n",
       "        vertical-align: middle;\n",
       "    }\n",
       "\n",
       "    .dataframe tbody tr th {\n",
       "        vertical-align: top;\n",
       "    }\n",
       "\n",
       "    .dataframe thead th {\n",
       "        text-align: right;\n",
       "    }\n",
       "</style>\n",
       "<table border=\"1\" class=\"dataframe\">\n",
       "  <thead>\n",
       "    <tr style=\"text-align: right;\">\n",
       "      <th></th>\n",
       "      <th>Symbol</th>\n",
       "      <th>Name</th>\n",
       "      <th>Sector</th>\n",
       "      <th>Price</th>\n",
       "      <th>Price/Earnings</th>\n",
       "      <th>Dividend Yield</th>\n",
       "      <th>Earnings/Share</th>\n",
       "      <th>52 Week Low</th>\n",
       "      <th>52 Week High</th>\n",
       "      <th>Market Cap</th>\n",
       "      <th>EBITDA</th>\n",
       "      <th>Price/Sales</th>\n",
       "      <th>Price/Book</th>\n",
       "      <th>SEC Filings</th>\n",
       "    </tr>\n",
       "  </thead>\n",
       "  <tbody>\n",
       "    <tr>\n",
       "      <th>0</th>\n",
       "      <td>MMM</td>\n",
       "      <td>3M Company</td>\n",
       "      <td>Industrials</td>\n",
       "      <td>222.89</td>\n",
       "      <td>24.31</td>\n",
       "      <td>2.332862</td>\n",
       "      <td>7.92</td>\n",
       "      <td>259.77</td>\n",
       "      <td>175.490</td>\n",
       "      <td>1.387211e+11</td>\n",
       "      <td>9.048000e+09</td>\n",
       "      <td>4.390271</td>\n",
       "      <td>11.34</td>\n",
       "      <td>http://www.sec.gov/cgi-bin/browse-edgar?action...</td>\n",
       "    </tr>\n",
       "    <tr>\n",
       "      <th>1</th>\n",
       "      <td>AOS</td>\n",
       "      <td>A.O. Smith Corp</td>\n",
       "      <td>Industrials</td>\n",
       "      <td>60.24</td>\n",
       "      <td>27.76</td>\n",
       "      <td>1.147959</td>\n",
       "      <td>1.70</td>\n",
       "      <td>68.39</td>\n",
       "      <td>48.925</td>\n",
       "      <td>1.078342e+10</td>\n",
       "      <td>6.010000e+08</td>\n",
       "      <td>3.575483</td>\n",
       "      <td>6.35</td>\n",
       "      <td>http://www.sec.gov/cgi-bin/browse-edgar?action...</td>\n",
       "    </tr>\n",
       "    <tr>\n",
       "      <th>2</th>\n",
       "      <td>ABT</td>\n",
       "      <td>Abbott Laboratories</td>\n",
       "      <td>Health Care</td>\n",
       "      <td>56.27</td>\n",
       "      <td>22.51</td>\n",
       "      <td>1.908982</td>\n",
       "      <td>0.26</td>\n",
       "      <td>64.60</td>\n",
       "      <td>42.280</td>\n",
       "      <td>1.021210e+11</td>\n",
       "      <td>5.744000e+09</td>\n",
       "      <td>3.740480</td>\n",
       "      <td>3.19</td>\n",
       "      <td>http://www.sec.gov/cgi-bin/browse-edgar?action...</td>\n",
       "    </tr>\n",
       "    <tr>\n",
       "      <th>3</th>\n",
       "      <td>ABBV</td>\n",
       "      <td>AbbVie Inc.</td>\n",
       "      <td>Health Care</td>\n",
       "      <td>108.48</td>\n",
       "      <td>19.41</td>\n",
       "      <td>2.499560</td>\n",
       "      <td>3.29</td>\n",
       "      <td>125.86</td>\n",
       "      <td>60.050</td>\n",
       "      <td>1.813863e+11</td>\n",
       "      <td>1.031000e+10</td>\n",
       "      <td>6.291571</td>\n",
       "      <td>26.14</td>\n",
       "      <td>http://www.sec.gov/cgi-bin/browse-edgar?action...</td>\n",
       "    </tr>\n",
       "    <tr>\n",
       "      <th>4</th>\n",
       "      <td>ACN</td>\n",
       "      <td>Accenture plc</td>\n",
       "      <td>Information Technology</td>\n",
       "      <td>150.51</td>\n",
       "      <td>25.47</td>\n",
       "      <td>1.714470</td>\n",
       "      <td>5.44</td>\n",
       "      <td>162.60</td>\n",
       "      <td>114.820</td>\n",
       "      <td>9.876586e+10</td>\n",
       "      <td>5.643228e+09</td>\n",
       "      <td>2.604117</td>\n",
       "      <td>10.62</td>\n",
       "      <td>http://www.sec.gov/cgi-bin/browse-edgar?action...</td>\n",
       "    </tr>\n",
       "    <tr>\n",
       "      <th>...</th>\n",
       "      <td>...</td>\n",
       "      <td>...</td>\n",
       "      <td>...</td>\n",
       "      <td>...</td>\n",
       "      <td>...</td>\n",
       "      <td>...</td>\n",
       "      <td>...</td>\n",
       "      <td>...</td>\n",
       "      <td>...</td>\n",
       "      <td>...</td>\n",
       "      <td>...</td>\n",
       "      <td>...</td>\n",
       "      <td>...</td>\n",
       "      <td>...</td>\n",
       "    </tr>\n",
       "    <tr>\n",
       "      <th>500</th>\n",
       "      <td>XYL</td>\n",
       "      <td>Xylem Inc.</td>\n",
       "      <td>Industrials</td>\n",
       "      <td>70.24</td>\n",
       "      <td>30.94</td>\n",
       "      <td>1.170079</td>\n",
       "      <td>1.83</td>\n",
       "      <td>76.81</td>\n",
       "      <td>46.860</td>\n",
       "      <td>1.291502e+10</td>\n",
       "      <td>7.220000e+08</td>\n",
       "      <td>2.726209</td>\n",
       "      <td>5.31</td>\n",
       "      <td>http://www.sec.gov/cgi-bin/browse-edgar?action...</td>\n",
       "    </tr>\n",
       "    <tr>\n",
       "      <th>501</th>\n",
       "      <td>YUM</td>\n",
       "      <td>Yum! Brands Inc</td>\n",
       "      <td>Consumer Discretionary</td>\n",
       "      <td>76.30</td>\n",
       "      <td>27.25</td>\n",
       "      <td>1.797080</td>\n",
       "      <td>4.07</td>\n",
       "      <td>86.93</td>\n",
       "      <td>62.850</td>\n",
       "      <td>2.700330e+10</td>\n",
       "      <td>2.289000e+09</td>\n",
       "      <td>6.313636</td>\n",
       "      <td>212.08</td>\n",
       "      <td>http://www.sec.gov/cgi-bin/browse-edgar?action...</td>\n",
       "    </tr>\n",
       "    <tr>\n",
       "      <th>502</th>\n",
       "      <td>ZBH</td>\n",
       "      <td>Zimmer Biomet Holdings</td>\n",
       "      <td>Health Care</td>\n",
       "      <td>115.53</td>\n",
       "      <td>14.32</td>\n",
       "      <td>0.794834</td>\n",
       "      <td>9.01</td>\n",
       "      <td>133.49</td>\n",
       "      <td>108.170</td>\n",
       "      <td>2.445470e+10</td>\n",
       "      <td>2.007400e+09</td>\n",
       "      <td>3.164895</td>\n",
       "      <td>2.39</td>\n",
       "      <td>http://www.sec.gov/cgi-bin/browse-edgar?action...</td>\n",
       "    </tr>\n",
       "    <tr>\n",
       "      <th>503</th>\n",
       "      <td>ZION</td>\n",
       "      <td>Zions Bancorp</td>\n",
       "      <td>Financials</td>\n",
       "      <td>50.71</td>\n",
       "      <td>17.73</td>\n",
       "      <td>1.480933</td>\n",
       "      <td>2.60</td>\n",
       "      <td>55.61</td>\n",
       "      <td>38.430</td>\n",
       "      <td>1.067068e+10</td>\n",
       "      <td>0.000000e+00</td>\n",
       "      <td>3.794579</td>\n",
       "      <td>1.42</td>\n",
       "      <td>http://www.sec.gov/cgi-bin/browse-edgar?action...</td>\n",
       "    </tr>\n",
       "    <tr>\n",
       "      <th>504</th>\n",
       "      <td>ZTS</td>\n",
       "      <td>Zoetis</td>\n",
       "      <td>Health Care</td>\n",
       "      <td>71.51</td>\n",
       "      <td>32.80</td>\n",
       "      <td>0.682372</td>\n",
       "      <td>1.65</td>\n",
       "      <td>80.13</td>\n",
       "      <td>52.000</td>\n",
       "      <td>3.599111e+10</td>\n",
       "      <td>1.734000e+09</td>\n",
       "      <td>9.280896</td>\n",
       "      <td>18.09</td>\n",
       "      <td>http://www.sec.gov/cgi-bin/browse-edgar?action...</td>\n",
       "    </tr>\n",
       "  </tbody>\n",
       "</table>\n",
       "<p>505 rows × 14 columns</p>\n",
       "</div>"
      ],
      "text/plain": [
       "    Symbol                    Name                  Sector   Price  \\\n",
       "0      MMM              3M Company             Industrials  222.89   \n",
       "1      AOS         A.O. Smith Corp             Industrials   60.24   \n",
       "2      ABT     Abbott Laboratories             Health Care   56.27   \n",
       "3     ABBV             AbbVie Inc.             Health Care  108.48   \n",
       "4      ACN           Accenture plc  Information Technology  150.51   \n",
       "..     ...                     ...                     ...     ...   \n",
       "500    XYL              Xylem Inc.             Industrials   70.24   \n",
       "501    YUM         Yum! Brands Inc  Consumer Discretionary   76.30   \n",
       "502    ZBH  Zimmer Biomet Holdings             Health Care  115.53   \n",
       "503   ZION           Zions Bancorp              Financials   50.71   \n",
       "504    ZTS                  Zoetis             Health Care   71.51   \n",
       "\n",
       "     Price/Earnings  Dividend Yield  Earnings/Share  52 Week Low  \\\n",
       "0             24.31        2.332862            7.92       259.77   \n",
       "1             27.76        1.147959            1.70        68.39   \n",
       "2             22.51        1.908982            0.26        64.60   \n",
       "3             19.41        2.499560            3.29       125.86   \n",
       "4             25.47        1.714470            5.44       162.60   \n",
       "..              ...             ...             ...          ...   \n",
       "500           30.94        1.170079            1.83        76.81   \n",
       "501           27.25        1.797080            4.07        86.93   \n",
       "502           14.32        0.794834            9.01       133.49   \n",
       "503           17.73        1.480933            2.60        55.61   \n",
       "504           32.80        0.682372            1.65        80.13   \n",
       "\n",
       "     52 Week High    Market Cap        EBITDA  Price/Sales  Price/Book  \\\n",
       "0         175.490  1.387211e+11  9.048000e+09     4.390271       11.34   \n",
       "1          48.925  1.078342e+10  6.010000e+08     3.575483        6.35   \n",
       "2          42.280  1.021210e+11  5.744000e+09     3.740480        3.19   \n",
       "3          60.050  1.813863e+11  1.031000e+10     6.291571       26.14   \n",
       "4         114.820  9.876586e+10  5.643228e+09     2.604117       10.62   \n",
       "..            ...           ...           ...          ...         ...   \n",
       "500        46.860  1.291502e+10  7.220000e+08     2.726209        5.31   \n",
       "501        62.850  2.700330e+10  2.289000e+09     6.313636      212.08   \n",
       "502       108.170  2.445470e+10  2.007400e+09     3.164895        2.39   \n",
       "503        38.430  1.067068e+10  0.000000e+00     3.794579        1.42   \n",
       "504        52.000  3.599111e+10  1.734000e+09     9.280896       18.09   \n",
       "\n",
       "                                           SEC Filings  \n",
       "0    http://www.sec.gov/cgi-bin/browse-edgar?action...  \n",
       "1    http://www.sec.gov/cgi-bin/browse-edgar?action...  \n",
       "2    http://www.sec.gov/cgi-bin/browse-edgar?action...  \n",
       "3    http://www.sec.gov/cgi-bin/browse-edgar?action...  \n",
       "4    http://www.sec.gov/cgi-bin/browse-edgar?action...  \n",
       "..                                                 ...  \n",
       "500  http://www.sec.gov/cgi-bin/browse-edgar?action...  \n",
       "501  http://www.sec.gov/cgi-bin/browse-edgar?action...  \n",
       "502  http://www.sec.gov/cgi-bin/browse-edgar?action...  \n",
       "503  http://www.sec.gov/cgi-bin/browse-edgar?action...  \n",
       "504  http://www.sec.gov/cgi-bin/browse-edgar?action...  \n",
       "\n",
       "[505 rows x 14 columns]"
      ]
     },
     "execution_count": 11,
     "metadata": {},
     "output_type": "execute_result"
    }
   ],
   "source": [
    "f = pd.read_csv('financials.csv') \n",
    "f"
   ]
  },
  {
   "cell_type": "code",
   "execution_count": 5,
   "id": "def57f8f",
   "metadata": {
    "slideshow": {
     "slide_type": "slide"
    }
   },
   "outputs": [
    {
     "name": "stdout",
     "output_type": "stream",
     "text": [
      "Python 3.9.12\n",
      "NumPy 1.21.5\n",
      "Pandas 1.4.3\n",
      "Matplotlib 3.5.2\n",
      "Seaborn 0.11.2\n"
     ]
    }
   ],
   "source": [
    "!python --version\n",
    "print('NumPy', np.__version__)\n",
    "print('Pandas', pd.__version__)\n",
    "print('Matplotlib', mpl.__version__)\n",
    "print('Seaborn',sns.__version__)"
   ]
  },
  {
   "cell_type": "markdown",
   "id": "b11688e7",
   "metadata": {
    "slideshow": {
     "slide_type": "slide"
    }
   },
   "source": [
    "## Observación\n",
    "\n",
    "* Hay 505 empresas relacionadas\n",
    "* De cada cada una de ellas hay medidos 14 atributos. "
   ]
  },
  {
   "cell_type": "markdown",
   "id": "56abd98d",
   "metadata": {
    "slideshow": {
     "slide_type": "slide"
    }
   },
   "source": [
    "## Descripción de cada uno de los atributos"
   ]
  },
  {
   "cell_type": "code",
   "execution_count": 2,
   "id": "1d231d72",
   "metadata": {
    "slideshow": {
     "slide_type": "slide"
    }
   },
   "outputs": [
    {
     "data": {
      "text/plain": [
       "Index(['Symbol', 'Name', 'Sector', 'Price', 'Price/Earnings', 'Dividend Yield',\n",
       "       'Earnings/Share', '52 Week Low', '52 Week High', 'Market Cap', 'EBITDA',\n",
       "       'Price/Sales', 'Price/Book', 'SEC Filings'],\n",
       "      dtype='object')"
      ]
     },
     "execution_count": 2,
     "metadata": {},
     "output_type": "execute_result"
    }
   ],
   "source": [
    "f.columns "
   ]
  },
  {
   "cell_type": "markdown",
   "id": "c7e57b04",
   "metadata": {
    "slideshow": {
     "slide_type": "slide"
    }
   },
   "source": [
    "* Symbol: es el sigla que identifica la empresa. (Categórica)\n",
    "* Name: nombre de la empresa.(Categórica)\n",
    "* Sector: Sector económico.(Categórica)\n",
    "* Price: precio de la acción.(Numérica continua)\n",
    "* Price/Earnings: precio/beneficio.(Numérica continua) \n",
    "* Dividend Yield: rentabilidad por dividendo.(Numérica continua) \n",
    "* Earning/Share: Ganancia por acción.(Numérica continua)\n",
    "* 52 Week Low: Precio mínimo en 52 semanas. (Numérica continua)\n",
    "* '52 Week High': Precio máximo en 52 semanas. (Numérica continua) \n",
    "* 'Market Cap': Tope de mercado. (Numérica continua)\n",
    "* EBITDA: Ganancia de la empresa. (Numérica continua)\n",
    "* Price/Sales: Relación Precio-venta(P/S). Es la cantidad de inversores dispuestos a pagar por cada dolar de venta (Numérica continua). \n",
    "* Price/Book: Precio en libros. (Numérica continua)\n",
    "* SEC Filings: Dirección de la bolsa de valores. (Categórica)"
   ]
  },
  {
   "cell_type": "markdown",
   "id": "6eb2c469",
   "metadata": {
    "slideshow": {
     "slide_type": "slide"
    }
   },
   "source": [
    "|Variable|Descripción|Tipología|  \n",
    "|--------|-----------|---------|  \n",
    "|Simbol|||"
   ]
  },
  {
   "cell_type": "code",
   "execution_count": 5,
   "id": "e88de13d",
   "metadata": {
    "scrolled": true,
    "slideshow": {
     "slide_type": "slide"
    }
   },
   "outputs": [
    {
     "name": "stdout",
     "output_type": "stream",
     "text": [
      "<class 'pandas.core.frame.DataFrame'>\n",
      "RangeIndex: 505 entries, 0 to 504\n",
      "Data columns (total 14 columns):\n",
      " #   Column          Non-Null Count  Dtype  \n",
      "---  ------          --------------  -----  \n",
      " 0   Symbol          505 non-null    object \n",
      " 1   Name            505 non-null    object \n",
      " 2   Sector          505 non-null    object \n",
      " 3   Price           505 non-null    float64\n",
      " 4   Price/Earnings  503 non-null    float64\n",
      " 5   Dividend Yield  505 non-null    float64\n",
      " 6   Earnings/Share  505 non-null    float64\n",
      " 7   52 Week Low     505 non-null    float64\n",
      " 8   52 Week High    505 non-null    float64\n",
      " 9   Market Cap      505 non-null    float64\n",
      " 10  EBITDA          505 non-null    float64\n",
      " 11  Price/Sales     505 non-null    float64\n",
      " 12  Price/Book      497 non-null    float64\n",
      " 13  SEC Filings     505 non-null    object \n",
      "dtypes: float64(10), object(4)\n",
      "memory usage: 55.4+ KB\n"
     ]
    }
   ],
   "source": [
    "f.info() "
   ]
  },
  {
   "cell_type": "markdown",
   "id": "c008cfad",
   "metadata": {
    "slideshow": {
     "slide_type": "slide"
    }
   },
   "source": [
    "* El precio en libros y el precio/ganancia son los únicos atributos que tienen datos faltantes.  "
   ]
  },
  {
   "cell_type": "code",
   "execution_count": 6,
   "id": "585f9019",
   "metadata": {
    "slideshow": {
     "slide_type": "slide"
    }
   },
   "outputs": [
    {
     "data": {
      "text/plain": [
       "0      http://www.sec.gov/cgi-bin/browse-edgar?action...\n",
       "1      http://www.sec.gov/cgi-bin/browse-edgar?action...\n",
       "2      http://www.sec.gov/cgi-bin/browse-edgar?action...\n",
       "3      http://www.sec.gov/cgi-bin/browse-edgar?action...\n",
       "4      http://www.sec.gov/cgi-bin/browse-edgar?action...\n",
       "                             ...                        \n",
       "500    http://www.sec.gov/cgi-bin/browse-edgar?action...\n",
       "501    http://www.sec.gov/cgi-bin/browse-edgar?action...\n",
       "502    http://www.sec.gov/cgi-bin/browse-edgar?action...\n",
       "503    http://www.sec.gov/cgi-bin/browse-edgar?action...\n",
       "504    http://www.sec.gov/cgi-bin/browse-edgar?action...\n",
       "Name: SEC Filings, Length: 505, dtype: object"
      ]
     },
     "execution_count": 6,
     "metadata": {},
     "output_type": "execute_result"
    }
   ],
   "source": [
    "f['SEC Filings']"
   ]
  },
  {
   "cell_type": "markdown",
   "id": "aa27914d",
   "metadata": {
    "slideshow": {
     "slide_type": "slide"
    }
   },
   "source": [
    "# 3. Planteamiento de preguntas/problemas de negocio\n",
    "\n",
    "Describa el problema que le interesa resolver durante su proyecto. Liste preguntas importantes que quiere resolver empleando el análisis de datos:\n",
    "\n",
    " "
   ]
  },
  {
   "cell_type": "markdown",
   "id": "3e82d89a",
   "metadata": {
    "slideshow": {
     "slide_type": "slide"
    }
   },
   "source": [
    "¿Cuáles son los atributos mejores predictores del precio de la acción?"
   ]
  },
  {
   "cell_type": "markdown",
   "id": "2e45b3aa",
   "metadata": {
    "slideshow": {
     "slide_type": "slide"
    }
   },
   "source": [
    "# 4. Análisis exploratorio"
   ]
  },
  {
   "cell_type": "markdown",
   "id": "4b72fea0",
   "metadata": {
    "slideshow": {
     "slide_type": "slide"
    }
   },
   "source": [
    "Usar las visualizaciones y estadísticas descriptivas para resumir y entender el comportamiento y estructura de los datos, recuerde que no es solo mostrar los estadísticos y gráficas, debe haber un análisis sistemático de cada variable y las relaciones existentes usando los recursos vistos en clase."
   ]
  },
  {
   "cell_type": "markdown",
   "id": "f6b6cb32",
   "metadata": {
    "slideshow": {
     "slide_type": "slide"
    }
   },
   "source": [
    " \n",
    "\n",
    "Divida su análisis en dos partes. Análisis univariado – Análisis bivariado/multivariado."
   ]
  },
  {
   "cell_type": "markdown",
   "id": "2d2aaeca",
   "metadata": {
    "slideshow": {
     "slide_type": "slide"
    }
   },
   "source": [
    "Primero, escoja algunas variables que considere importantes dentro de su conjunto de datos, haga un análisis univariado y determine cuál es la distribución de esas variables. Recuerde que podemos observar la distribución tanto de variables cualitativas como cuantitativas. Identifique posibles valores atípicos o erróneos en cada variable. Describa la distribución observada."
   ]
  },
  {
   "cell_type": "markdown",
   "id": "0de2a942",
   "metadata": {
    "slideshow": {
     "slide_type": "slide"
    }
   },
   "source": [
    "Segundo, desarrolle un análisis bivariado dónde pueda encontrar posibles relaciones entre sus variables de estudio."
   ]
  },
  {
   "cell_type": "markdown",
   "id": "b20066c9",
   "metadata": {
    "slideshow": {
     "slide_type": "slide"
    }
   },
   "source": [
    "A continuación, se listan algunos recursos sugeridos, no debe organizar su informe en base a esta lista, tan solo es una sugerencia para que los tenga presente:"
   ]
  },
  {
   "cell_type": "markdown",
   "id": "8162364a",
   "metadata": {
    "slideshow": {
     "slide_type": "slide"
    }
   },
   "source": [
    "* Medidas de tendencia central\n",
    "* Medidas de dispersión\n",
    "* Histogramas\n",
    "* Diagramas de barras\n",
    "* Boxplots\n",
    "* Diagramas de dispersión – pair plots\n",
    "* Análisis de correlación"
   ]
  },
  {
   "cell_type": "code",
   "execution_count": 8,
   "id": "a83fca9b",
   "metadata": {
    "slideshow": {
     "slide_type": "slide"
    }
   },
   "outputs": [
    {
     "data": {
      "text/html": [
       "<div>\n",
       "<style scoped>\n",
       "    .dataframe tbody tr th:only-of-type {\n",
       "        vertical-align: middle;\n",
       "    }\n",
       "\n",
       "    .dataframe tbody tr th {\n",
       "        vertical-align: top;\n",
       "    }\n",
       "\n",
       "    .dataframe thead th {\n",
       "        text-align: right;\n",
       "    }\n",
       "</style>\n",
       "<table border=\"1\" class=\"dataframe\">\n",
       "  <thead>\n",
       "    <tr style=\"text-align: right;\">\n",
       "      <th></th>\n",
       "      <th>Symbol</th>\n",
       "      <th>Name</th>\n",
       "      <th>Sector</th>\n",
       "      <th>Price</th>\n",
       "      <th>Price/Earnings</th>\n",
       "      <th>Dividend Yield</th>\n",
       "      <th>Earnings/Share</th>\n",
       "      <th>52 Week Low</th>\n",
       "      <th>52 Week High</th>\n",
       "      <th>Market Cap</th>\n",
       "      <th>EBITDA</th>\n",
       "      <th>Price/Sales</th>\n",
       "      <th>Price/Book</th>\n",
       "      <th>SEC Filings</th>\n",
       "    </tr>\n",
       "  </thead>\n",
       "  <tbody>\n",
       "    <tr>\n",
       "      <th>count</th>\n",
       "      <td>505</td>\n",
       "      <td>505</td>\n",
       "      <td>505</td>\n",
       "      <td>505.000000</td>\n",
       "      <td>503.000000</td>\n",
       "      <td>505.000000</td>\n",
       "      <td>505.000000</td>\n",
       "      <td>505.000000</td>\n",
       "      <td>505.000000</td>\n",
       "      <td>5.050000e+02</td>\n",
       "      <td>5.050000e+02</td>\n",
       "      <td>505.000000</td>\n",
       "      <td>497.000000</td>\n",
       "      <td>505</td>\n",
       "    </tr>\n",
       "    <tr>\n",
       "      <th>unique</th>\n",
       "      <td>505</td>\n",
       "      <td>505</td>\n",
       "      <td>11</td>\n",
       "      <td>NaN</td>\n",
       "      <td>NaN</td>\n",
       "      <td>NaN</td>\n",
       "      <td>NaN</td>\n",
       "      <td>NaN</td>\n",
       "      <td>NaN</td>\n",
       "      <td>NaN</td>\n",
       "      <td>NaN</td>\n",
       "      <td>NaN</td>\n",
       "      <td>NaN</td>\n",
       "      <td>505</td>\n",
       "    </tr>\n",
       "    <tr>\n",
       "      <th>top</th>\n",
       "      <td>MMM</td>\n",
       "      <td>3M Company</td>\n",
       "      <td>Consumer Discretionary</td>\n",
       "      <td>NaN</td>\n",
       "      <td>NaN</td>\n",
       "      <td>NaN</td>\n",
       "      <td>NaN</td>\n",
       "      <td>NaN</td>\n",
       "      <td>NaN</td>\n",
       "      <td>NaN</td>\n",
       "      <td>NaN</td>\n",
       "      <td>NaN</td>\n",
       "      <td>NaN</td>\n",
       "      <td>http://www.sec.gov/cgi-bin/browse-edgar?action...</td>\n",
       "    </tr>\n",
       "    <tr>\n",
       "      <th>freq</th>\n",
       "      <td>1</td>\n",
       "      <td>1</td>\n",
       "      <td>84</td>\n",
       "      <td>NaN</td>\n",
       "      <td>NaN</td>\n",
       "      <td>NaN</td>\n",
       "      <td>NaN</td>\n",
       "      <td>NaN</td>\n",
       "      <td>NaN</td>\n",
       "      <td>NaN</td>\n",
       "      <td>NaN</td>\n",
       "      <td>NaN</td>\n",
       "      <td>NaN</td>\n",
       "      <td>1</td>\n",
       "    </tr>\n",
       "    <tr>\n",
       "      <th>mean</th>\n",
       "      <td>NaN</td>\n",
       "      <td>NaN</td>\n",
       "      <td>NaN</td>\n",
       "      <td>103.830634</td>\n",
       "      <td>24.808390</td>\n",
       "      <td>1.895953</td>\n",
       "      <td>3.753743</td>\n",
       "      <td>122.623832</td>\n",
       "      <td>83.536616</td>\n",
       "      <td>4.923944e+10</td>\n",
       "      <td>3.590328e+09</td>\n",
       "      <td>3.941705</td>\n",
       "      <td>14.453179</td>\n",
       "      <td>NaN</td>\n",
       "    </tr>\n",
       "    <tr>\n",
       "      <th>std</th>\n",
       "      <td>NaN</td>\n",
       "      <td>NaN</td>\n",
       "      <td>NaN</td>\n",
       "      <td>134.427636</td>\n",
       "      <td>41.241081</td>\n",
       "      <td>1.537214</td>\n",
       "      <td>5.689036</td>\n",
       "      <td>155.362140</td>\n",
       "      <td>105.725473</td>\n",
       "      <td>9.005017e+10</td>\n",
       "      <td>6.840544e+09</td>\n",
       "      <td>3.460110</td>\n",
       "      <td>89.660508</td>\n",
       "      <td>NaN</td>\n",
       "    </tr>\n",
       "    <tr>\n",
       "      <th>min</th>\n",
       "      <td>NaN</td>\n",
       "      <td>NaN</td>\n",
       "      <td>NaN</td>\n",
       "      <td>2.820000</td>\n",
       "      <td>-251.530000</td>\n",
       "      <td>0.000000</td>\n",
       "      <td>-28.010000</td>\n",
       "      <td>6.590000</td>\n",
       "      <td>2.800000</td>\n",
       "      <td>2.626102e+09</td>\n",
       "      <td>-5.067000e+09</td>\n",
       "      <td>0.153186</td>\n",
       "      <td>0.510000</td>\n",
       "      <td>NaN</td>\n",
       "    </tr>\n",
       "    <tr>\n",
       "      <th>25%</th>\n",
       "      <td>NaN</td>\n",
       "      <td>NaN</td>\n",
       "      <td>NaN</td>\n",
       "      <td>46.250000</td>\n",
       "      <td>15.350000</td>\n",
       "      <td>0.794834</td>\n",
       "      <td>1.490000</td>\n",
       "      <td>56.250000</td>\n",
       "      <td>38.430000</td>\n",
       "      <td>1.273207e+10</td>\n",
       "      <td>7.739320e+08</td>\n",
       "      <td>1.629490</td>\n",
       "      <td>2.020000</td>\n",
       "      <td>NaN</td>\n",
       "    </tr>\n",
       "    <tr>\n",
       "      <th>50%</th>\n",
       "      <td>NaN</td>\n",
       "      <td>NaN</td>\n",
       "      <td>NaN</td>\n",
       "      <td>73.920000</td>\n",
       "      <td>19.450000</td>\n",
       "      <td>1.769255</td>\n",
       "      <td>2.890000</td>\n",
       "      <td>86.680000</td>\n",
       "      <td>62.850000</td>\n",
       "      <td>2.140095e+10</td>\n",
       "      <td>1.614399e+09</td>\n",
       "      <td>2.896440</td>\n",
       "      <td>3.400000</td>\n",
       "      <td>NaN</td>\n",
       "    </tr>\n",
       "    <tr>\n",
       "      <th>75%</th>\n",
       "      <td>NaN</td>\n",
       "      <td>NaN</td>\n",
       "      <td>NaN</td>\n",
       "      <td>116.540000</td>\n",
       "      <td>25.750000</td>\n",
       "      <td>2.781114</td>\n",
       "      <td>5.140000</td>\n",
       "      <td>140.130000</td>\n",
       "      <td>96.660000</td>\n",
       "      <td>4.511968e+10</td>\n",
       "      <td>3.692749e+09</td>\n",
       "      <td>4.703842</td>\n",
       "      <td>6.110000</td>\n",
       "      <td>NaN</td>\n",
       "    </tr>\n",
       "    <tr>\n",
       "      <th>max</th>\n",
       "      <td>NaN</td>\n",
       "      <td>NaN</td>\n",
       "      <td>NaN</td>\n",
       "      <td>1806.060000</td>\n",
       "      <td>520.150000</td>\n",
       "      <td>12.661196</td>\n",
       "      <td>44.090000</td>\n",
       "      <td>2067.990000</td>\n",
       "      <td>1589.000000</td>\n",
       "      <td>8.095080e+11</td>\n",
       "      <td>7.938600e+10</td>\n",
       "      <td>20.094294</td>\n",
       "      <td>1403.380000</td>\n",
       "      <td>NaN</td>\n",
       "    </tr>\n",
       "  </tbody>\n",
       "</table>\n",
       "</div>"
      ],
      "text/plain": [
       "       Symbol        Name                  Sector        Price  \\\n",
       "count     505         505                     505   505.000000   \n",
       "unique    505         505                      11          NaN   \n",
       "top       MMM  3M Company  Consumer Discretionary          NaN   \n",
       "freq        1           1                      84          NaN   \n",
       "mean      NaN         NaN                     NaN   103.830634   \n",
       "std       NaN         NaN                     NaN   134.427636   \n",
       "min       NaN         NaN                     NaN     2.820000   \n",
       "25%       NaN         NaN                     NaN    46.250000   \n",
       "50%       NaN         NaN                     NaN    73.920000   \n",
       "75%       NaN         NaN                     NaN   116.540000   \n",
       "max       NaN         NaN                     NaN  1806.060000   \n",
       "\n",
       "        Price/Earnings  Dividend Yield  Earnings/Share  52 Week Low  \\\n",
       "count       503.000000      505.000000      505.000000   505.000000   \n",
       "unique             NaN             NaN             NaN          NaN   \n",
       "top                NaN             NaN             NaN          NaN   \n",
       "freq               NaN             NaN             NaN          NaN   \n",
       "mean         24.808390        1.895953        3.753743   122.623832   \n",
       "std          41.241081        1.537214        5.689036   155.362140   \n",
       "min        -251.530000        0.000000      -28.010000     6.590000   \n",
       "25%          15.350000        0.794834        1.490000    56.250000   \n",
       "50%          19.450000        1.769255        2.890000    86.680000   \n",
       "75%          25.750000        2.781114        5.140000   140.130000   \n",
       "max         520.150000       12.661196       44.090000  2067.990000   \n",
       "\n",
       "        52 Week High    Market Cap        EBITDA  Price/Sales   Price/Book  \\\n",
       "count     505.000000  5.050000e+02  5.050000e+02   505.000000   497.000000   \n",
       "unique           NaN           NaN           NaN          NaN          NaN   \n",
       "top              NaN           NaN           NaN          NaN          NaN   \n",
       "freq             NaN           NaN           NaN          NaN          NaN   \n",
       "mean       83.536616  4.923944e+10  3.590328e+09     3.941705    14.453179   \n",
       "std       105.725473  9.005017e+10  6.840544e+09     3.460110    89.660508   \n",
       "min         2.800000  2.626102e+09 -5.067000e+09     0.153186     0.510000   \n",
       "25%        38.430000  1.273207e+10  7.739320e+08     1.629490     2.020000   \n",
       "50%        62.850000  2.140095e+10  1.614399e+09     2.896440     3.400000   \n",
       "75%        96.660000  4.511968e+10  3.692749e+09     4.703842     6.110000   \n",
       "max      1589.000000  8.095080e+11  7.938600e+10    20.094294  1403.380000   \n",
       "\n",
       "                                              SEC Filings  \n",
       "count                                                 505  \n",
       "unique                                                505  \n",
       "top     http://www.sec.gov/cgi-bin/browse-edgar?action...  \n",
       "freq                                                    1  \n",
       "mean                                                  NaN  \n",
       "std                                                   NaN  \n",
       "min                                                   NaN  \n",
       "25%                                                   NaN  \n",
       "50%                                                   NaN  \n",
       "75%                                                   NaN  \n",
       "max                                                   NaN  "
      ]
     },
     "execution_count": 8,
     "metadata": {},
     "output_type": "execute_result"
    }
   ],
   "source": [
    "f.describe(include = 'all')  "
   ]
  },
  {
   "cell_type": "markdown",
   "id": "30f28bf2",
   "metadata": {
    "slideshow": {
     "slide_type": "slide"
    }
   },
   "source": [
    "## Interpretación de las medidas de tendencia central "
   ]
  },
  {
   "cell_type": "markdown",
   "id": "c2f30e39",
   "metadata": {
    "slideshow": {
     "slide_type": "slide"
    }
   },
   "source": [
    "* El atributo `Price` se mueve en un rango de $[2.82, 1806.06]$. \n",
    "* Se evidencia una gran variabilidad en cada atributo. "
   ]
  },
  {
   "cell_type": "markdown",
   "id": "20aba0e0",
   "metadata": {
    "slideshow": {
     "slide_type": "slide"
    }
   },
   "source": [
    "# Trazado de matriz de histogramas"
   ]
  },
  {
   "cell_type": "code",
   "execution_count": 9,
   "id": "b19693b1",
   "metadata": {},
   "outputs": [
    {
     "data": {
      "text/plain": [
       "Index(['Symbol', 'Name', 'Sector', 'Price', 'Price/Earnings', 'Dividend Yield',\n",
       "       'Earnings/Share', '52 Week Low', '52 Week High', 'Market Cap', 'EBITDA',\n",
       "       'Price/Sales', 'Price/Book', 'SEC Filings'],\n",
       "      dtype='object')"
      ]
     },
     "execution_count": 9,
     "metadata": {},
     "output_type": "execute_result"
    }
   ],
   "source": [
    "f.keys()"
   ]
  },
  {
   "cell_type": "code",
   "execution_count": 18,
   "id": "d3e6f9de",
   "metadata": {
    "slideshow": {
     "slide_type": "slide"
    }
   },
   "outputs": [
    {
     "data": {
      "image/png": "[encoded data removed]",
      "text/plain": [
       "<Figure size 1152x720 with 12 Axes>"
      ]
     },
     "metadata": {
      "needs_background": "light"
     },
     "output_type": "display_data"
    }
   ],
   "source": [
    "import matplotlib.pyplot as plt\n",
    "f.hist(figsize = (16,10)) \n",
    "plt.show() "
   ]
  },
  {
   "cell_type": "markdown",
   "id": "facc8e7a",
   "metadata": {
    "slideshow": {
     "slide_type": "slide"
    }
   },
   "source": [
    "# Interpretaciones de cada histograma asociado a cada variable numérica continua"
   ]
  },
  {
   "cell_type": "markdown",
   "id": "f6cddbb3",
   "metadata": {
    "slideshow": {
     "slide_type": "slide"
    }
   },
   "source": [
    "* Para casi todas las empresas el valor de la acción es menor a 250 dólares. \n",
    "* El precio/ganancia más frecuente esta muy cercano a cero. "
   ]
  },
  {
   "cell_type": "markdown",
   "id": "b816ed09",
   "metadata": {
    "slideshow": {
     "slide_type": "slide"
    }
   },
   "source": [
    "# Boxplot"
   ]
  },
  {
   "cell_type": "code",
   "execution_count": 26,
   "id": "2655cdba",
   "metadata": {
    "scrolled": true,
    "slideshow": {
     "slide_type": "slide"
    }
   },
   "outputs": [
    {
     "data": {
      "image/png": "[encoded data removed]",
      "text/plain": [
       "<Figure size 432x288 with 1 Axes>"
      ]
     },
     "metadata": {
      "needs_background": "light"
     },
     "output_type": "display_data"
    }
   ],
   "source": [
    "plt.boxplot(f.Price)\n",
    "plt.grid(alpha = 0.3) \n",
    "plt.show() \n"
   ]
  },
  {
   "cell_type": "markdown",
   "id": "e250fcd3",
   "metadata": {
    "slideshow": {
     "slide_type": "slide"
    }
   },
   "source": [
    "Interpretación del boxplot de \n",
    "* Los precio de las acciones se mueven en un rango de 0 a 250 dólares\n",
    "* Hay más de 8 valores de precio de ación que son átipicos y estos valores atípicos con precios de acción mayor a 250 dólares. \n"
   ]
  },
  {
   "cell_type": "code",
   "execution_count": 27,
   "id": "5de2a286",
   "metadata": {},
   "outputs": [
    {
     "data": {
      "text/plain": [
       "Index(['Symbol', 'Name', 'Sector', 'Price', 'Price/Earnings', 'Dividend Yield',\n",
       "       'Earnings/Share', '52 Week Low', '52 Week High', 'Market Cap', 'EBITDA',\n",
       "       'Price/Sales', 'Price/Book', 'SEC Filings'],\n",
       "      dtype='object')"
      ]
     },
     "execution_count": 27,
     "metadata": {},
     "output_type": "execute_result"
    }
   ],
   "source": [
    "f.keys()"
   ]
  },
  {
   "cell_type": "code",
   "execution_count": 31,
   "id": "92dfa80a",
   "metadata": {},
   "outputs": [
    {
     "data": {
      "text/plain": [
       "0      24.31\n",
       "1      27.76\n",
       "2      22.51\n",
       "3      19.41\n",
       "4      25.47\n",
       "       ...  \n",
       "500    30.94\n",
       "501    27.25\n",
       "502    14.32\n",
       "503    17.73\n",
       "504    32.80\n",
       "Name: Price/Earnings, Length: 505, dtype: float64"
      ]
     },
     "execution_count": 31,
     "metadata": {},
     "output_type": "execute_result"
    }
   ],
   "source": [
    "f['Price/Earnings']"
   ]
  },
  {
   "cell_type": "code",
   "execution_count": 33,
   "id": "598159d3",
   "metadata": {
    "slideshow": {
     "slide_type": "slide"
    }
   },
   "outputs": [
    {
     "data": {
      "image/png": "[encoded data removed]",
      "text/plain": [
       "<Figure size 432x288 with 1 Axes>"
      ]
     },
     "metadata": {
      "needs_background": "light"
     },
     "output_type": "display_data"
    }
   ],
   "source": [
    "plt.boxplot(f['Price/Earnings'])\n",
    "plt.grid(alpha = 0.3) \n",
    "plt.show() "
   ]
  },
  {
   "cell_type": "code",
   "execution_count": 29,
   "id": "91373212",
   "metadata": {
    "slideshow": {
     "slide_type": "slide"
    }
   },
   "outputs": [
    {
     "data": {
      "image/png": "[encoded data removed]",
      "text/plain": [
       "<Figure size 432x288 with 1 Axes>"
      ]
     },
     "metadata": {
      "needs_background": "light"
     },
     "output_type": "display_data"
    }
   ],
   "source": [
    "plt.boxplot(f['Price/Sales'])\n",
    "plt.grid(alpha = 0.3) \n",
    "plt.show() "
   ]
  },
  {
   "cell_type": "markdown",
   "id": "5e5100eb",
   "metadata": {
    "slideshow": {
     "slide_type": "slide"
    }
   },
   "source": [
    "# Comparación entre precio y precio-venta"
   ]
  },
  {
   "cell_type": "code",
   "execution_count": 38,
   "id": "64e20ffe",
   "metadata": {},
   "outputs": [
    {
     "data": {
      "text/plain": [
       "Index(['Symbol', 'Name', 'Sector', 'Price', 'Price/Earnings', 'Dividend Yield',\n",
       "       'Earnings/Share', '52 Week Low', '52 Week High', 'Market Cap', 'EBITDA',\n",
       "       'Price/Sales', 'Price/Book', 'SEC Filings'],\n",
       "      dtype='object')"
      ]
     },
     "execution_count": 38,
     "metadata": {},
     "output_type": "execute_result"
    }
   ],
   "source": [
    "f.keys()"
   ]
  },
  {
   "cell_type": "code",
   "execution_count": 48,
   "id": "8553b4ef",
   "metadata": {
    "slideshow": {
     "slide_type": "slide"
    }
   },
   "outputs": [
    {
     "data": {
      "text/plain": [
       "<AxesSubplot:>"
      ]
     },
     "execution_count": 48,
     "metadata": {},
     "output_type": "execute_result"
    },
    {
     "data": {
      "image/png": "[encoded data removed]",
      "text/plain": [
       "<Figure size 432x288 with 2 Axes>"
      ]
     },
     "metadata": {
      "needs_background": "light"
     },
     "output_type": "display_data"
    }
   ],
   "source": [
    "sns.heatmap(f.corr())  "
   ]
  },
  {
   "cell_type": "code",
   "execution_count": 45,
   "id": "34c2ec89",
   "metadata": {
    "scrolled": true,
    "slideshow": {
     "slide_type": "slide"
    }
   },
   "outputs": [
    {
     "data": {
      "image/png": "[encoded data removed]",
      "text/plain": [
       "<Figure size 720x288 with 2 Axes>"
      ]
     },
     "metadata": {
      "needs_background": "light"
     },
     "output_type": "display_data"
    }
   ],
   "source": [
    "fig, axes = plt.subplots (1,2, figsize = (10,4)) # Aumentamos el tamaño del lienzo\n",
    "\n",
    "# Grafica 1, histograma. Todo se agrega sobre axes[0]\n",
    "\n",
    "axes[0].hist(f['Price'],  # datos\n",
    "             bins = 10,             # cantidad de barras\n",
    "             color = 'violet');     # color\n",
    "axes[0].set_xlabel('Price')\n",
    "axes[0].set_ylabel('Frecuencia')\n",
    "\n",
    "\n",
    "# Grafica 2, diagrama de dispersión. Todo se agrega sobre axes[1]\n",
    "\n",
    "axes[1].scatter( f['52 Week Low'], f['Price'], \n",
    "             marker = 'o',            # se puede modificar el marcador\n",
    "             color = 'red'); # grafico de dispersion\n",
    "axes[1].set_xlabel('52 Week Low')\n",
    "axes[1].set_ylabel('Price')\n",
    "plt.show() "
   ]
  },
  {
   "cell_type": "markdown",
   "id": "6e23669a",
   "metadata": {
    "slideshow": {
     "slide_type": "slide"
    }
   },
   "source": [
    "# 5. Conclusiones\n",
    "\n",
    "## Recomendaciones: "
   ]
  },
  {
   "cell_type": "markdown",
   "id": "6090148c",
   "metadata": {
    "slideshow": {
     "slide_type": "slide"
    }
   },
   "source": []
  },
  {
   "cell_type": "code",
   "execution_count": null,
   "id": "65e2fb28",
   "metadata": {
    "slideshow": {
     "slide_type": "slide"
    }
   },
   "outputs": [],
   "source": []
  },
  {
   "cell_type": "code",
   "execution_count": null,
   "id": "0ea96e40",
   "metadata": {},
   "outputs": [],
   "source": []
  },
  {
   "cell_type": "code",
   "execution_count": null,
   "id": "b57e1942",
   "metadata": {},
   "outputs": [],
   "source": []
  }
 ],
 "metadata": {
  "celltoolbar": "Slideshow",
  "kernelspec": {
   "display_name": "Python 3 (ipykernel)",
   "language": "python",
   "name": "python3"
  },
  "language_info": {
   "codemirror_mode": {
    "name": "ipython",
    "version": 3
   },
   "file_extension": ".py",
   "mimetype": "text/x-python",
   "name": "python",
   "nbconvert_exporter": "python",
   "pygments_lexer": "ipython3",
   "version": "3.9.12"
  }
 },
 "nbformat": 4,
 "nbformat_minor": 5
}
