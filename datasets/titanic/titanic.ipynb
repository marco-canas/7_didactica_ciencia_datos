{
<<<<<<< HEAD
 "cells": [
  {
   "cell_type": "markdown",
   "id": "af45e2d4",
   "metadata": {
    "slideshow": {
     "slide_type": "slide"
    }
   },
   "source": [
    "<table align=\"left\">\n",
    "  <td>\n",
    "    <a href=\"https://colab.research.google.com/github/marco-canas/didactica_ciencia_datos/blob/main/datasets/titanic/titanic.ipynb\" target=\"_parent\"><img src=\"https://colab.research.google.com/assets/colab-badge.svg\" alt=\"Open In Colab\"/></a>\n",
    "  </td>\n",
    "</table>"
   ]
  },
  {
   "cell_type": "markdown",
   "id": "e3a6a8c9",
   "metadata": {
    "slideshow": {
     "slide_type": "slide"
    }
   },
   "source": [
    "# Práctica individual módulo 3"
   ]
  },
  {
   "cell_type": "markdown",
   "id": "3eeca10c",
   "metadata": {
    "slideshow": {
     "slide_type": "slide"
    }
   },
   "source": [
    "* Referenciar a nivel general el sistema de información objeto de estudio, \n",
    "* explicar el origen de los datos a analizar. \n",
    "* Contexto de los datos e industria. El sistema debe ser real, con datos abiertos expuestos en Internet o datos propios de su empresa. "
   ]
  },
  {
   "cell_type": "markdown",
   "id": "f636efb2",
   "metadata": {
    "slideshow": {
     "slide_type": "slide"
    }
   },
   "source": [
    "# Visión general\n",
    "\n",
    "Los datos se han dividido en dos grupos:\n",
    "\n",
    "* conjunto de entrenamiento (train.csv)\n",
    "* conjunto de prueba (test.csv)\n",
    "\n",
    "El conjunto de entrenamiento debe usarse para construir sus modelos de aprendizaje automático. Para el conjunto de entrenamiento, proporcionamos el resultado (también conocido como \"verdad sobre el terreno\") para cada pasajero. Su modelo se basará en \"características\" como el género y la clase de los pasajeros. También puede utilizar la ingeniería de características para crear nuevas características.\n",
    "\n",
    "El conjunto de prueba debe usarse para ver qué tan bien se desempeña su modelo en datos no vistos. Para el conjunto de prueba, no proporcionamos la verdad en tierra para cada pasajero. Es su trabajo predecir estos resultados. Para cada pasajero en el conjunto de prueba, use el modelo que entrenó para predecir si sobrevivieron o no al hundimiento del Titanic.\n",
    "\n",
    "También incluimos gender_submission.csv, un conjunto de predicciones que asumen que todas y solo las mujeres sobreviven, como un ejemplo de cómo debería verse un archivo de envío."
   ]
  },
  {
   "cell_type": "markdown",
   "id": "5045ccb9",
   "metadata": {
    "slideshow": {
     "slide_type": "slide"
    }
   },
   "source": [
    "Los datos los puede obtener de de la siguiente página: https://www.kaggle.com/competitions/titanic/data\n",
    "\n"
   ]
  },
  {
   "cell_type": "code",
   "execution_count": 2,
   "id": "5b305a70",
   "metadata": {
    "slideshow": {
     "slide_type": "slide"
    }
   },
   "outputs": [],
   "source": [
    "import pandas as pd \n",
    "titanic = pd.read_csv('titanic_train.csv') "
   ]
  },
  {
   "cell_type": "markdown",
   "id": "bc8dc50f",
   "metadata": {
    "slideshow": {
     "slide_type": "slide"
    }
   },
   "source": [
    "# Pregunta  \n",
    "\n",
    "¿Qué variables son las mejores predictoras del estado de supervivencia de un pasajero?"
   ]
  },
  {
   "cell_type": "code",
   "execution_count": 3,
   "id": "cf888da7",
   "metadata": {
    "slideshow": {
     "slide_type": "slide"
    }
   },
   "outputs": [
=======
  "cells": [
>>>>>>> 26c4c0707a806b2a9297264dcf3922d4eae3a1fd
    {
      "cell_type": "markdown",
      "id": "af45e2d4",
      "metadata": {
        "id": "af45e2d4"
      },
      "source": [
        "<table align=\"left\">\n",
        "  <td>\n",
        "    <a href=\"https://colab.research.google.com/github/marco-canas/didactica_ciencia_datos/blob/main/datasets/titanic/titanic.ipynb\" target=\"_parent\"><img src=\"https://colab.research.google.com/assets/colab-badge.svg\" alt=\"Open In Colab\"/></a>\n",
        "  </td>\n",
        "</table>"
      ]
    },
    {
      "cell_type": "markdown",
      "id": "e3a6a8c9",
      "metadata": {
        "id": "e3a6a8c9"
      },
      "source": [
        "# Práctica individual módulo 3"
      ]
    },
    {
      "cell_type": "markdown",
      "id": "3eeca10c",
      "metadata": {
        "id": "3eeca10c"
      },
      "source": [
        "* Referenciar a nivel general el sistema de información objeto de estudio, \n",
        "* explicar el origen de los datos a analizar. \n",
        "* Contexto de los datos e industria. El sistema debe ser real, con datos abiertos expuestos en Internet o datos propios de su empresa. "
      ]
    },
    {
      "cell_type": "markdown",
      "id": "bd609349",
      "metadata": {
        "id": "bd609349"
      },
      "source": [
        ""
      ]
    },
    {
      "cell_type": "code",
      "execution_count": null,
      "id": "5b305a70",
      "metadata": {
        "id": "5b305a70"
      },
      "outputs": [],
      "source": [
        "import pandas as pd \n",
        "titanic = pd.read_csv('titanic_train.csv') "
      ]
    },
    {
      "cell_type": "markdown",
      "id": "bc8dc50f",
      "metadata": {
        "id": "bc8dc50f"
      },
      "source": [
        "# Pregunta  \n",
        "\n",
        "¿Qué variables son las mejores predictoras del estado de supervivencia de un pasajero?"
      ]
    },
    {
      "cell_type": "markdown",
      "source": [
        "## Segunda pregunta"
      ],
      "metadata": {
        "id": "5mZ1lGFxFBPI"
      },
      "id": "5mZ1lGFxFBPI"
    },
    {
      "cell_type": "code",
      "execution_count": null,
      "id": "cf888da7",
      "metadata": {
        "id": "cf888da7",
        "outputId": "84b9744f-59d1-4e7f-fb3f-56396f98421b"
      },
      "outputs": [
        {
          "name": "stdout",
          "output_type": "stream",
          "text": [
            "<class 'pandas.core.frame.DataFrame'>\n",
            "RangeIndex: 850 entries, 0 to 849\n",
            "Data columns (total 15 columns):\n",
            " #   Column        Non-Null Count  Dtype  \n",
            "---  ------        --------------  -----  \n",
            " 0   passenger_id  850 non-null    int64  \n",
            " 1   pclass        850 non-null    int64  \n",
            " 2   name          850 non-null    object \n",
            " 3   sex           850 non-null    object \n",
            " 4   age           676 non-null    float64\n",
            " 5   sibsp         850 non-null    int64  \n",
            " 6   parch         850 non-null    int64  \n",
            " 7   ticket        850 non-null    object \n",
            " 8   fare          849 non-null    float64\n",
            " 9   cabin         191 non-null    object \n",
            " 10  embarked      849 non-null    object \n",
            " 11  boat          308 non-null    object \n",
            " 12  body          73 non-null     float64\n",
            " 13  home.dest     464 non-null    object \n",
            " 14  survived      850 non-null    int64  \n",
            "dtypes: float64(3), int64(5), object(7)\n",
            "memory usage: 99.7+ KB\n"
          ]
        }
      ],
      "source": [
        "titanic.info() "
      ]
    },
    {
      "cell_type": "markdown",
      "id": "25c11095",
      "metadata": {
        "id": "25c11095"
      },
      "source": [
        "## 2. Detección"
      ]
    },
    {
      "cell_type": "markdown",
      "id": "33512262",
      "metadata": {
        "id": "33512262"
      },
      "source": [
        "* Identificar y describir las variables en el conjunto de datos, \n",
        "* junto con su dominio y tipología (numérico, lógico, carácter).   \n",
        "\n",
        "Recuerde que cualquier persona debería estar en capacidad de entender su informe, la información presentada debe ser clara y precisa."
      ]
    },
    {
      "cell_type": "markdown",
      "id": "b012e17f",
      "metadata": {
        "id": "b012e17f"
      },
      "source": [
        "Nota: El conjunto de datos debe tener mínimo 5 variables. Pueden ser numéricas y/o categóricas. La recomendación es que estén mezcladas para dar provecho tanto al análisis cuantitativo como cualitativo."
      ]
    },
    {
      "cell_type": "markdown",
      "id": "b4d56c0e",
      "metadata": {
        "id": "b4d56c0e"
      },
      "source": [
        "## Identificación de las variables del conjunto de datos\n"
      ]
    },
    {
      "cell_type": "markdown",
      "id": "67ece64e",
      "metadata": {
        "id": "67ece64e"
      },
      "source": [
        "En este dataset tenemos 13 variables predictoras a saber:\n",
        "    \n",
        "y una variable objetivo binaria con las etiqutas que describen si el pasajero sobrevivirpa o no de acuerdo a sus caracteristicas particulares.     "
      ]
    },
    {
      "cell_type": "code",
      "execution_count": null,
      "id": "40e80295",
      "metadata": {
        "id": "40e80295"
      },
      "outputs": [],
      "source": [
        ""
      ]
    },
    {
      "cell_type": "code",
      "execution_count": null,
      "id": "6dee6861",
      "metadata": {
        "id": "6dee6861"
      },
      "outputs": [],
      "source": [
        ""
      ]
    },
    {
      "cell_type": "code",
      "execution_count": null,
      "id": "55a0e6af",
      "metadata": {
        "id": "55a0e6af"
      },
      "outputs": [],
      "source": [
        ""
      ]
    },
    {
      "cell_type": "code",
      "execution_count": null,
      "id": "54af5ca9",
      "metadata": {
        "id": "54af5ca9"
      },
      "outputs": [],
      "source": [
        ""
      ]
    },
    {
      "cell_type": "code",
      "execution_count": null,
      "id": "a1c7f96f",
      "metadata": {
        "id": "a1c7f96f"
      },
      "outputs": [],
      "source": [
        ""
      ]
    },
    {
      "cell_type": "code",
      "execution_count": null,
      "id": "cbe4be89",
      "metadata": {
        "id": "cbe4be89"
      },
      "outputs": [],
      "source": [
        ""
      ]
    },
    {
      "cell_type": "code",
      "execution_count": null,
      "id": "15258b51",
      "metadata": {
        "id": "15258b51"
      },
      "outputs": [],
      "source": [
        ""
      ]
    }
  ],
  "metadata": {
    "celltoolbar": "Slideshow",
    "kernelspec": {
      "display_name": "Python 3 (ipykernel)",
      "language": "python",
      "name": "python3"
    },
    "language_info": {
      "codemirror_mode": {
        "name": "ipython",
        "version": 3
      },
      "file_extension": ".py",
      "mimetype": "text/x-python",
      "name": "python",
      "nbconvert_exporter": "python",
      "pygments_lexer": "ipython3",
      "version": "3.9.12"
    },
    "colab": {
      "name": "titanic.ipynb",
      "provenance": []
    }
  },
  "nbformat": 4,
  "nbformat_minor": 5
}