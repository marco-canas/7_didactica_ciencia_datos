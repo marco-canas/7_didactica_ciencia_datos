{
 "cells": [
  {
   "cell_type": "markdown",
   "id": "65db884a",
   "metadata": {},
   "source": [
    "# Introducción"
   ]
  },
  {
   "cell_type": "markdown",
   "id": "bf66b510",
   "metadata": {},
   "source": [
    "El desarrollo de la tecnología, la aparición del concepto de Big data (Datos a gran escala) ha causado que los analistas de datos requieran una combinación entre ciencias de la computación, estadística-matemática y análisis de negocios para encontrar soluciones prácticas, precisas, robustas, de forma científica y sistemática a bajo costo en la toma de decisiones. "
   ]
  },
  {
   "cell_type": "markdown",
   "id": "5d2a22c0",
   "metadata": {},
   "source": [
    "En consecuencia, sí el trabajo en torno a datos de gran escala denota una práctica científica, esto da lugar a la aparición del concepto de científico de datos como una nueva profesión que es muy valorada en el siglo XXI (Ajay, 2018, p. 6). "
   ]
  },
  {
   "cell_type": "markdown",
   "id": "7cf77ad4",
   "metadata": {},
   "source": [
    "Por ende, una forma de acercarse a este campo es por medio del aprendizaje de lenguajes de programación aplicados al análisis de datos para fortalecer las capacidades del analista, con el fin de que pueda generar valor en la toma de decisiones en las organizaciones cuando se maneja una gran cantidad de datos."
   ]
  },
  {
   "cell_type": "markdown",
   "id": "df5ad426",
   "metadata": {},
   "source": [
    "En la actualidad la tenencia datos tiene un gran valor en el contexto empresarial, tanto que se han denominado en el siglo XXI como el “Nuevo oro”. "
   ]
  },
  {
   "cell_type": "markdown",
   "id": "5c0d62cc",
   "metadata": {},
   "source": [
    "Existen muchas empresas cuyo valor recae en la cantidad de datos que poseen, como lo son aquellas que crean redes \n",
    "sociales como Facebook Inc. o Instagram Inc., toda vez que contienen valiosa información sobre el comportamiento, gustos y relaciones entre los usuarios registrados, lo que puede ser utilizado por otras empresas para ofrecer productos o servicios basados en dicha información."
   ]
  },
  {
   "cell_type": "markdown",
   "id": "e9dbc8b4",
   "metadata": {},
   "source": [
    "Para el análisis de los datos se requiere comprender lenguajes de programación que contengan módulos o extensiones para el tratamiento estadístico de la información. "
   ]
  },
  {
   "cell_type": "markdown",
   "id": "a89677a8",
   "metadata": {},
   "source": [
    "El lenguaje más conocido para esto es “R”, un lenguaje de programación enfocado en estadística que contiene gran cantidad de paquetes con modelos estadísticos y por ende es muy utilizado en la enseñanza de la ciencia de datos. "
   ]
  },
  {
   "cell_type": "markdown",
   "id": "1e104f0c",
   "metadata": {},
   "source": [
    "Además de “R” se encuentra Python, el cual contiene módulos para el cálculo matemático, tratamiento de datos, así como un módulo de aprendizaje automático llamado “Scikit” para el análisis de datos y la minería de datos."
   ]
  },
  {
   "cell_type": "markdown",
   "id": "0a9fb2e5",
   "metadata": {},
   "source": [
    "A través de los ejemplos de código ejecutado en Python, se espera que la guía sea una forma de aprender a trabajar con este lenguaje de programación, enfocada en el análisis de datos, de tal manera que el usuario pueda ejecutar diferentes modelos estadísticos y algoritmos para predecir o inferir sobre un conjunto de datos. "
   ]
  },
  {
   "cell_type": "markdown",
   "id": "6d2b464a",
   "metadata": {},
   "source": [
    "La teoría que existe detrás de los modelos y algoritmos es bastante compleja, por ello se aclara que el objetivo de esta guía no es explicar o demostrar los modelos en los que se basa, pero sí en la comprensión y en la ejecución de los resultados."
   ]
  },
  {
   "cell_type": "markdown",
   "id": "96562d69",
   "metadata": {},
   "source": [
    "No obstante, gran parte del código que se presenta puede quedar obsoleto, debido a actualizaciones posteriores que se hagan al lenguaje de programación; por ello es importante estar atento a las mismas y conocer de antemano sí se va a reemplazar \n",
    "funciones o se van a simplificar."
   ]
  },
  {
   "cell_type": "code",
   "execution_count": null,
   "id": "85c0a01c",
   "metadata": {},
   "outputs": [],
   "source": []
  },
  {
   "cell_type": "code",
   "execution_count": null,
   "id": "d2efd94b",
   "metadata": {},
   "outputs": [],
   "source": []
  },
  {
   "cell_type": "code",
   "execution_count": null,
   "id": "c11d8059",
   "metadata": {},
   "outputs": [],
   "source": []
  },
  {
   "cell_type": "code",
   "execution_count": null,
   "id": "22965f0d",
   "metadata": {},
   "outputs": [],
   "source": []
  }
 ],
 "metadata": {
  "kernelspec": {
   "display_name": "Python 3",
   "language": "python",
   "name": "python3"
  },
  "language_info": {
   "codemirror_mode": {
    "name": "ipython",
    "version": 3
   },
   "file_extension": ".py",
   "mimetype": "text/x-python",
   "name": "python",
   "nbconvert_exporter": "python",
   "pygments_lexer": "ipython3",
   "version": "3.8.8"
  },
  "latex_envs": {
   "LaTeX_envs_menu_present": true,
   "autoclose": false,
   "autocomplete": false,
   "bibliofile": "biblio.bib",
   "cite_by": "apalike",
   "current_citInitial": 1,
   "eqLabelWithNumbers": true,
   "eqNumInitial": 1,
   "hotkeys": {
    "equation": "Ctrl-E",
    "itemize": "Ctrl-I"
   },
   "labels_anchors": false,
   "latex_user_defs": false,
   "report_style_numbering": false,
   "user_envs_cfg": false
  }
 },
 "nbformat": 4,
 "nbformat_minor": 5
}
