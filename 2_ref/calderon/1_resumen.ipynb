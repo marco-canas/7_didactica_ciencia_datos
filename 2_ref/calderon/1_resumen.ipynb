{
 "cells": [
  {
   "cell_type": "markdown",
   "id": "4f80247e",
   "metadata": {
    "slideshow": {
     "slide_type": "slide"
    }
   },
   "source": [
    "# Guía metodológica introductoria a la ciencia de datos"
   ]
  },
  {
   "cell_type": "markdown",
   "id": "a705bb9b",
   "metadata": {
    "slideshow": {
     "slide_type": "slide"
    }
   },
   "source": [
    "## Santiago Calderón Piedras\n"
   ]
  },
  {
   "cell_type": "markdown",
   "id": "82ed37ef",
   "metadata": {
    "slideshow": {
     "slide_type": "slide"
    }
   },
   "source": [
    "### Universidad Distrital Francisco José de Caldas\n",
    "\n",
    "Facultad de ingeniería, Proyecto curricular de Ingeniería Industrial  \n",
    "Bogotá D.C., Colombia  \n",
    "2020\n",
    "\n"
   ]
  },
  {
   "cell_type": "markdown",
   "id": "cdfa2fdb",
   "metadata": {
    "slideshow": {
     "slide_type": "slide"
    }
   },
   "source": [
    "## Resumen"
   ]
  },
  {
   "cell_type": "markdown",
   "id": "ce274c7a",
   "metadata": {
    "slideshow": {
     "slide_type": "slide"
    }
   },
   "source": [
    "La ciencia de datos en la actualidad se ha convertido en un campo multidisciplinario muy importante para las empresas que coleccionan grandes cantidades de datos y que comprenden que el análisis de estos las lleva a descubrir información muy útil para la toma de sus decisiones."
   ]
  },
  {
   "cell_type": "markdown",
   "id": "b4cf9ccc",
   "metadata": {
    "slideshow": {
     "slide_type": "slide"
    }
   },
   "source": [
    "Teniendo en cuenta la relevancia actual de la ciencia de datos, se plantea una guía de acercamiento a dicho campo por medio del aprendizaje del lenguaje de programación Python apoyado en la distribución Anaconda, abarcando capítulos temáticos en los que se \n",
    "explica mediante ejemplos, procesos característicos en el tratamiento de datos tales como: Importación de datos, preparación de los datos y análisis estadístico de los mismos a través de herramientas básicas del machine learning (aprendizaje automático), con las cuales se puede obtener información al aplicar dichas herramientas a los datos para inferir o predecir sobre los mismos. "
   ]
  },
  {
   "cell_type": "markdown",
   "id": "6c926391",
   "metadata": {
    "slideshow": {
     "slide_type": "slide"
    }
   },
   "source": [
    "Para apoyar el objetivo primordial del aprendizaje, se presentan definiciones y fórmulas matemáticas de los modelos o algoritmos empleados en el aprendizaje automático sin tocar las demostraciones o la complejidad que hay detrás de estos. "
   ]
  },
  {
   "cell_type": "markdown",
   "id": "6ba941f2",
   "metadata": {
    "slideshow": {
     "slide_type": "slide"
    }
   },
   "source": [
    "Otros elementos que se encuentran para el apoyo del aprendizaje son propuestas de ejercicios en cada unidad y videos anexos para retroalimentar los temas trabajados en cada unidad, con el fin de reforzar y recordar los conocimientos adquiridos."
   ]
  },
  {
   "cell_type": "markdown",
   "id": "73d15d0c",
   "metadata": {
    "slideshow": {
     "slide_type": "slide"
    }
   },
   "source": [
    "**Palabras clave:** Lenguaje de programación, Análisis de datos, Estadística, Aprendizaje automático"
   ]
  },
  {
   "cell_type": "markdown",
   "id": "35bdd930",
   "metadata": {
    "slideshow": {
     "slide_type": "skip"
    }
   },
   "source": [
    "## Referentes \n",
    "\n",
    "* Calderón Piedras, S. (2020). Guía metodológica introductoria a la ciencia de datos.[En google scholar]()"
   ]
  }
 ],
 "metadata": {
  "celltoolbar": "Slideshow",
  "kernelspec": {
   "display_name": "Python 3",
   "language": "python",
   "name": "python3"
  },
  "language_info": {
   "codemirror_mode": {
    "name": "ipython",
    "version": 3
   },
   "file_extension": ".py",
   "mimetype": "text/x-python",
   "name": "python",
   "nbconvert_exporter": "python",
   "pygments_lexer": "ipython3",
   "version": "3.8.8"
  },
  "latex_envs": {
   "LaTeX_envs_menu_present": true,
   "autoclose": false,
   "autocomplete": false,
   "bibliofile": "biblio.bib",
   "cite_by": "apalike",
   "current_citInitial": 1,
   "eqLabelWithNumbers": true,
   "eqNumInitial": 1,
   "hotkeys": {
    "equation": "Ctrl-E",
    "itemize": "Ctrl-I"
   },
   "labels_anchors": false,
   "latex_user_defs": false,
   "report_style_numbering": false,
   "user_envs_cfg": false
  },
  "rise": {
   "enable_chalkboard": true,
   "theme": "sky",
   "transition": "zoom"
  }
 },
 "nbformat": 4,
 "nbformat_minor": 5
}
