{
 "cells": [
  {
   "cell_type": "markdown",
   "id": "b72d0ef0",
   "metadata": {
    "slideshow": {
     "slide_type": "slide"
    }
   },
   "source": [
    "<table align=\"left\">\n",
    "  <td>\n",
    "    <a href=\"https://colab.research.google.com/github/marco-canas/taca/blob/main/ref/charu/7_ch/7_1_introduction.ipynb\" target=\"_parent\"><img src=\"https://colab.research.google.com/assets/colab-badge.svg\" alt=\"Open In Colab\"/></a>\n",
    "  </td>\n",
    "  <td>\n",
    "    <a target=\"_blank\" href=\"https://kaggle.com/kernels/welcome?src=https://github.com/marco-canas/taca/blob/main/ref/charu/7_ch/7_1_introduction.ipynb\"><img src=\"https://kaggle.com/static/images/open-in-kaggle.svg\" /></a>\n",
    "  </td>\n",
    "</table>"
   ]
  },
  {
   "cell_type": "markdown",
   "id": "7ffc61b8",
   "metadata": {
    "slideshow": {
     "slide_type": "slide"
    }
   },
   "source": [
    "# Chapter 7  de Charú\n",
    "\n",
    "## Singular Value Decomposition"
   ]
  },
  {
   "cell_type": "markdown",
   "id": "5659927a",
   "metadata": {
    "slideshow": {
     "slide_type": "slide"
    }
   },
   "source": [
    "## [Primer video de apoyo](https://www.youtube.com/watch?v=payJPMp5Wc8) "
   ]
  },
  {
   "cell_type": "markdown",
   "id": "8ae2fe49",
   "metadata": {
    "slideshow": {
     "slide_type": "slide"
    }
   },
   "source": [
    "## 7.1 Introduction"
   ]
  },
  {
   "cell_type": "markdown",
   "id": "6be8a9d8",
   "metadata": {
    "slideshow": {
     "slide_type": "slide"
    }
   },
   "source": [
    "\"La SVD es absolutamente un punto culminante del álgebra lineal\".   \n",
    "Gilbert Strang y Kae Borre"
   ]
  },
  {
   "cell_type": "markdown",
   "id": "1af153fa",
   "metadata": {
    "slideshow": {
     "slide_type": "slide"
    }
   },
   "source": [
    "En el capítulo 3, aprendimos que ciertos tipos de matrices, que se denominan matrices semidefinidas positivas ($x^{T}Ax \\geq 0  \\ \\ \\forall x \\in \\mathbf{R}^{d}$), se pueden expresar de la siguiente forma:"
   ]
  },
  {
   "cell_type": "markdown",
   "id": "132e3468",
   "metadata": {
    "slideshow": {
     "slide_type": "slide"
    }
   },
   "source": [
    "$$ A = V \\Delta V^{T} $$"
   ]
  },
  {
   "cell_type": "markdown",
   "id": "683a3030",
   "metadata": {
    "slideshow": {
     "slide_type": "slide"
    }
   },
   "source": [
    "Aquí,   \n",
    "* $V$ es una matriz $d \\times d$ con columnas ortonormales, y   \n",
    "* $\\Delta$ es una matriz diagonal $d \\times d$ con los valores propios no negativos de $A$."
   ]
  },
  {
   "cell_type": "markdown",
   "id": "80a65fc1",
   "metadata": {
    "slideshow": {
     "slide_type": "slide"
    }
   },
   "source": [
    "* La matriz ortogonal $V$ también puede verse como una matriz de \n",
    "  rotación/reflexión,  "
   ]
  },
  {
   "cell_type": "markdown",
   "id": "693b358c",
   "metadata": {
    "slideshow": {
     "slide_type": "slide"
    }
   },
   "source": [
    " \n",
    "* la matriz diagonal $\\Delta$ como una matriz no escalar no negativa a lo largo de las direcciones de los ejes, y  "
   ]
  },
  {
   "cell_type": "markdown",
   "id": "25bd54c4",
   "metadata": {
    "slideshow": {
     "slide_type": "slide"
    }
   },
   "source": [
    " \n",
    "* la matriz $V^{T}$ es la inversa de $V$."
   ]
  },
  {
   "cell_type": "markdown",
   "id": "591af12d",
   "metadata": {
    "slideshow": {
     "slide_type": "slide"
    }
   },
   "source": [
    "## Animación con matplotlib de una reflexión, de una rotación y de un escalamiento a lo largo de los ejes definidos por los vectores propios de $A$"
   ]
  },
  {
   "cell_type": "code",
   "execution_count": 2,
   "id": "7ab11f94",
   "metadata": {
    "slideshow": {
     "slide_type": "slide"
    }
   },
   "outputs": [],
   "source": [
    "import numpy as np \n",
    "import matplotlib.pyplot as plt \n",
    "# Reflect on y axis in 3D Matrix?\n",
    "A = np.array([[-1,0,0],[0,1,0],[0,0,-1]])\n",
    "# https://math.stackexchange.com/questions/1295950/reflect-on-y-axis-in-3d-matrix\n",
    "\n",
    "\n"
   ]
  },
  {
   "cell_type": "code",
   "execution_count": null,
   "id": "f8ad3fc0",
   "metadata": {
    "slideshow": {
     "slide_type": "slide"
    }
   },
   "outputs": [],
   "source": []
  },
  {
   "cell_type": "code",
   "execution_count": null,
   "id": "2831e962",
   "metadata": {},
   "outputs": [],
   "source": []
  },
  {
   "cell_type": "markdown",
   "id": "54dc891e",
   "metadata": {
    "slideshow": {
     "slide_type": "slide"
    }
   },
   "source": [
    "## Ejemplo de este tipo de descomposiciones\n",
    "\n",
    "Página 123 de Charú\n"
   ]
  },
  {
   "cell_type": "code",
   "execution_count": 1,
   "id": "c916a32f",
   "metadata": {
    "slideshow": {
     "slide_type": "slide"
    }
   },
   "outputs": [],
   "source": [
    "from sympy import *  "
   ]
  },
  {
   "cell_type": "code",
   "execution_count": 2,
   "id": "8f11ecf7",
   "metadata": {
    "slideshow": {
     "slide_type": "slide"
    }
   },
   "outputs": [],
   "source": [
    "B = Matrix([[1,2],[2,1]])"
   ]
  },
  {
   "cell_type": "code",
   "execution_count": 3,
   "id": "8ef044f7",
   "metadata": {
    "slideshow": {
     "slide_type": "slide"
    }
   },
   "outputs": [
    {
     "data": {
      "text/plain": [
       "[(-1,\n",
       "  1,\n",
       "  [Matrix([\n",
       "   [-1],\n",
       "   [ 1]])]),\n",
       " (3,\n",
       "  1,\n",
       "  [Matrix([\n",
       "   [1],\n",
       "   [1]])])]"
      ]
     },
     "execution_count": 3,
     "metadata": {},
     "output_type": "execute_result"
    }
   ],
   "source": [
    " B.eigenvects() "
   ]
  },
  {
   "cell_type": "code",
   "execution_count": 4,
   "id": "68d97244",
   "metadata": {
    "slideshow": {
     "slide_type": "slide"
    }
   },
   "outputs": [],
   "source": [
    "LamVect1, LamVect2 = B.eigenvects()   # aplicación del método eigenvects() de sympy "
   ]
  },
  {
   "cell_type": "code",
   "execution_count": 5,
   "id": "f1aa2590",
   "metadata": {
    "slideshow": {
     "slide_type": "slide"
    }
   },
   "outputs": [
    {
     "data": {
      "text/plain": [
       "(-1,\n",
       " 1,\n",
       " [Matrix([\n",
       "  [-1],\n",
       "  [ 1]])])"
      ]
     },
     "execution_count": 5,
     "metadata": {},
     "output_type": "execute_result"
    }
   ],
   "source": [
    "LamVect1"
   ]
  },
  {
   "cell_type": "code",
   "execution_count": 6,
   "id": "88813dba",
   "metadata": {
    "slideshow": {
     "slide_type": "slide"
    }
   },
   "outputs": [
    {
     "data": {
      "text/plain": [
       "(3,\n",
       " 1,\n",
       " [Matrix([\n",
       "  [1],\n",
       "  [1]])])"
      ]
     },
     "execution_count": 6,
     "metadata": {},
     "output_type": "execute_result"
    }
   ],
   "source": [
    "LamVect2"
   ]
  },
  {
   "cell_type": "code",
   "execution_count": 7,
   "id": "51dcb1d0",
   "metadata": {
    "slideshow": {
     "slide_type": "slide"
    }
   },
   "outputs": [
    {
     "data": {
      "text/plain": [
       "(-1, 3)"
      ]
     },
     "execution_count": 7,
     "metadata": {},
     "output_type": "execute_result"
    }
   ],
   "source": [
    "lam1 = LamVect1[0]\n",
    "lam2 = LamVect2[0] \n",
    "\n",
    "lam1,lam2 "
   ]
  },
  {
   "cell_type": "code",
   "execution_count": 8,
   "id": "61237381",
   "metadata": {
    "slideshow": {
     "slide_type": "slide"
    }
   },
   "outputs": [],
   "source": [
    "v1 = LamVect1[2][0]\n",
    "v2 = LamVect2[2][0]"
   ]
  },
  {
   "cell_type": "code",
   "execution_count": 9,
   "id": "112dba02",
   "metadata": {
    "slideshow": {
     "slide_type": "slide"
    }
   },
   "outputs": [
    {
     "data": {
      "text/latex": [
       "$\\displaystyle \\left[\\begin{matrix}- \\frac{\\sqrt{2}}{2}\\\\\\frac{\\sqrt{2}}{2}\\end{matrix}\\right]$"
      ],
      "text/plain": [
       "Matrix([\n",
       "[-sqrt(2)/2],\n",
       "[ sqrt(2)/2]])"
      ]
     },
     "execution_count": 9,
     "metadata": {},
     "output_type": "execute_result"
    }
   ],
   "source": [
    "v1 = (1/v1.norm())*v1  # \n",
    "v1 "
   ]
  },
  {
   "cell_type": "code",
   "execution_count": 10,
   "id": "5053ced5",
   "metadata": {
    "slideshow": {
     "slide_type": "slide"
    }
   },
   "outputs": [
    {
     "data": {
      "text/latex": [
       "$\\displaystyle 1$"
      ],
      "text/plain": [
       "1"
      ]
     },
     "execution_count": 10,
     "metadata": {},
     "output_type": "execute_result"
    }
   ],
   "source": [
    "v1.norm() "
   ]
  },
  {
   "cell_type": "code",
   "execution_count": 11,
   "id": "11b77857",
   "metadata": {
    "slideshow": {
     "slide_type": "slide"
    }
   },
   "outputs": [
    {
     "data": {
      "text/latex": [
       "$\\displaystyle \\left[\\begin{matrix}\\frac{\\sqrt{2}}{2}\\\\\\frac{\\sqrt{2}}{2}\\end{matrix}\\right]$"
      ],
      "text/plain": [
       "Matrix([\n",
       "[sqrt(2)/2],\n",
       "[sqrt(2)/2]])"
      ]
     },
     "execution_count": 11,
     "metadata": {},
     "output_type": "execute_result"
    }
   ],
   "source": [
    "v2 = (1/v2.norm())*v2 \n",
    "v2 "
   ]
  },
  {
   "cell_type": "code",
   "execution_count": 12,
   "id": "e7f06c19",
   "metadata": {
    "slideshow": {
     "slide_type": "slide"
    }
   },
   "outputs": [
    {
     "data": {
      "text/latex": [
       "$\\displaystyle 1$"
      ],
      "text/plain": [
       "1"
      ]
     },
     "execution_count": 12,
     "metadata": {},
     "output_type": "execute_result"
    }
   ],
   "source": [
    "v2.norm() "
   ]
  },
  {
   "cell_type": "code",
   "execution_count": 13,
   "id": "a45bb3d5",
   "metadata": {
    "slideshow": {
     "slide_type": "slide"
    }
   },
   "outputs": [
    {
     "data": {
      "text/latex": [
       "$\\displaystyle 0$"
      ],
      "text/plain": [
       "0"
      ]
     },
     "execution_count": 13,
     "metadata": {},
     "output_type": "execute_result"
    }
   ],
   "source": [
    "v1.dot(v2)  "
   ]
  },
  {
   "cell_type": "code",
   "execution_count": 14,
   "id": "afad7d5a",
   "metadata": {
    "slideshow": {
     "slide_type": "slide"
    }
   },
   "outputs": [
    {
     "data": {
      "text/latex": [
       "$\\displaystyle \\left[\\begin{matrix}- \\frac{\\sqrt{2}}{2} & \\frac{\\sqrt{2}}{2}\\\\\\frac{\\sqrt{2}}{2} & \\frac{\\sqrt{2}}{2}\\end{matrix}\\right]$"
      ],
      "text/plain": [
       "Matrix([\n",
       "[-sqrt(2)/2, sqrt(2)/2],\n",
       "[ sqrt(2)/2, sqrt(2)/2]])"
      ]
     },
     "execution_count": 14,
     "metadata": {},
     "output_type": "execute_result"
    }
   ],
   "source": [
    "V = Matrix([v1.T,v2.T]).T \n",
    "V "
   ]
  },
  {
   "cell_type": "code",
   "execution_count": 15,
   "id": "c3135c7a",
   "metadata": {
    "slideshow": {
     "slide_type": "slide"
    }
   },
   "outputs": [
    {
     "data": {
      "text/latex": [
       "$\\displaystyle \\left[\\begin{matrix}-1 & 0\\\\0 & 3\\end{matrix}\\right]$"
      ],
      "text/plain": [
       "Matrix([\n",
       "[-1, 0],\n",
       "[ 0, 3]])"
      ]
     },
     "execution_count": 15,
     "metadata": {},
     "output_type": "execute_result"
    }
   ],
   "source": [
    "Delta = diag(lam1,lam2) \n",
    "Delta "
   ]
  },
  {
   "cell_type": "code",
   "execution_count": 16,
   "id": "875dd90b",
   "metadata": {
    "slideshow": {
     "slide_type": "slide"
    }
   },
   "outputs": [
    {
     "data": {
      "text/latex": [
       "$\\displaystyle \\left[\\begin{matrix}1 & 2\\\\2 & 1\\end{matrix}\\right]$"
      ],
      "text/plain": [
       "Matrix([\n",
       "[1, 2],\n",
       "[2, 1]])"
      ]
     },
     "execution_count": 16,
     "metadata": {},
     "output_type": "execute_result"
    }
   ],
   "source": [
    "V*Delta*V.T "
   ]
  },
  {
   "cell_type": "code",
   "execution_count": 17,
   "id": "314afa87",
   "metadata": {
    "slideshow": {
     "slide_type": "slide"
    }
   },
   "outputs": [
    {
     "data": {
      "text/plain": [
       "True"
      ]
     },
     "execution_count": 17,
     "metadata": {},
     "output_type": "execute_result"
    }
   ],
   "source": [
    "B == V*Delta*V.T  "
   ]
  },
  {
   "cell_type": "markdown",
   "id": "ff397fff",
   "metadata": {
    "slideshow": {
     "slide_type": "slide"
    }
   },
   "source": [
    "### Conclusión  \n",
    "\n",
    "$B$ si es el producto de $V$, $\\Delta$ y $V^{T}$. "
   ]
  },
  {
   "cell_type": "markdown",
   "id": "b920e96a",
   "metadata": {
    "slideshow": {
     "slide_type": "slide"
    }
   },
   "source": [
    "Al factorizar la matriz $A$ en matrices más simples, estamos expresando una transformación lineal como una secuencia de transformaciones lineales más simples (como la rotación y el escalado)."
   ]
  },
  {
   "cell_type": "markdown",
   "id": "ca688bd3",
   "metadata": {
    "slideshow": {
     "slide_type": "slide"
    }
   },
   "source": [
    "Este capítulo estudiará la generalización de este tipo de factorización a matrices arbitrarias."
   ]
  },
  {
   "cell_type": "markdown",
   "id": "de12a0ff",
   "metadata": {
    "slideshow": {
     "slide_type": "slide"
    }
   },
   "source": [
    "Esta forma generalizada de factorización se denomina como **descomposición en valores singulares**. "
   ]
  },
  {
   "cell_type": "markdown",
   "id": "108346a0",
   "metadata": {
    "slideshow": {
     "slide_type": "slide"
    }
   },
   "source": [
    "<img src = 'https://www.coryjmaklin.com/media/singular-value-decomposition-example-in-python-22.png'> "
   ]
  },
  {
   "cell_type": "markdown",
   "id": "44088020",
   "metadata": {
    "slideshow": {
     "slide_type": "slide"
    }
   },
   "source": [
    "La descomposición de valores singulares generaliza el enfoque de factorización a matrices arbitrarias que ni siquiera tienen que ser cuadradas. "
   ]
  },
  {
   "cell_type": "markdown",
   "id": "0980cc41",
   "metadata": {
    "slideshow": {
     "slide_type": "slide"
    }
   },
   "source": [
    "Dada una matriz $B$ de $n \\times d$, la descomposición de valores singulares la descompone de la siguiente manera:"
   ]
  },
  {
   "cell_type": "markdown",
   "id": "0845ebe9",
   "metadata": {
    "slideshow": {
     "slide_type": "slide"
    }
   },
   "source": [
    "$$ B = Q \\Sigma P^{T} $$"
   ]
  },
  {
   "cell_type": "markdown",
   "id": "462ee639",
   "metadata": {
    "slideshow": {
     "slide_type": "slide"
    }
   },
   "source": [
    "Aquí,   \n",
    "* $B$ es una matriz $n \\times d$,   \n",
    "* $Q$ es una matriz $n \\times n$ con columnas ortonormales,   \n",
    "* $\\Sigma$ es una matriz diagonal rectangular $n \\times d$ con entradas no negativas y   \n",
    "* $P$ es una matriz $d \\times d$ con columnas ortonormales."
   ]
  },
  {
   "cell_type": "markdown",
   "id": "9bf81d02",
   "metadata": {
    "slideshow": {
     "slide_type": "slide"
    }
   },
   "source": [
    "La noción de una matriz diagonal rectangular se analiza en la Figura 1.3 del Capítulo 1 en la que solo las entradas con índices de la forma $(i, i)$ (es decir, con los mismos índices de filas y columnas) son distintas de cero."
   ]
  },
  {
   "cell_type": "markdown",
   "id": "d65c357d",
   "metadata": {
    "slideshow": {
     "slide_type": "slide"
    }
   },
   "source": [
    "Las columnas de $Q$ y las columnas de $P$ se denominan como vectores singulares izquierdos y vectores singulares derechos, respectivamente."
   ]
  },
  {
   "cell_type": "markdown",
   "id": "de0244e9",
   "metadata": {
    "slideshow": {
     "slide_type": "slide"
    }
   },
   "source": [
    "* Las entradas de $\\Sigma$ se denominan valores singulares y \n",
    "* están organizadas en orden decreciente (por convención)."
   ]
  },
  {
   "cell_type": "markdown",
   "id": "bc39d4a4",
   "metadata": {
    "slideshow": {
     "slide_type": "slide"
    }
   },
   "source": [
    "Destacamos que la matriz diagonal $\\Sigma$ no es negativa."
   ]
  },
  {
   "cell_type": "markdown",
   "id": "a7243065",
   "metadata": {
    "slideshow": {
     "slide_type": "slide"
    }
   },
   "source": [
    "La descomposición de valores singulares tiene algunas propiedades de álgebra lineal perspicaces en términos de permitir el descubrimiento de los cuatro subespacios fundamentales de la matriz $B$."
   ]
  },
  {
   "cell_type": "markdown",
   "id": "e206573e",
   "metadata": {
    "slideshow": {
     "slide_type": "slide"
    }
   },
   "source": [
    "Además, si la descomposición exacta no es esencial, la descomposición en valores singulares proporciona la capacidad de aproximar $B$ muy bien con pequeñas porciones de las matrices de factores $Q$, $P$ y $\\Sigma$."
   ]
  },
  {
   "cell_type": "markdown",
   "id": "c7bea066",
   "metadata": {
    "slideshow": {
     "slide_type": "slide"
    }
   },
   "source": [
    "Esta es una vista centrada en la optimización de la descomposición de valores singulares."
   ]
  },
  {
   "cell_type": "markdown",
   "id": "f39ad56f",
   "metadata": {
    "slideshow": {
     "slide_type": "slide"
    }
   },
   "source": [
    "La visión centrada en la optimización se generaliza naturalmente al concepto más amplio de factorización matricial de rango bajo, que se encuentra en el corazón de muchas aplicaciones de aprendizaje automático (cf. Capítulo 8)."
   ]
  },
  {
   "cell_type": "markdown",
   "id": "66d25180",
   "metadata": {
    "slideshow": {
     "slide_type": "slide"
    }
   },
   "source": [
    "Primero abordaremos la descomposición de valores singulares simplemente desde el punto de vista del álgebra lineal, como una forma de explorar los espacios de filas y columnas de una matriz."
   ]
  },
  {
   "cell_type": "markdown",
   "id": "f08dc8be",
   "metadata": {
    "slideshow": {
     "slide_type": "slide"
    }
   },
   "source": [
    "Esta vista es, sin embargo, incompleta porque no proporciona una comprensión de la compresión centrada en propiedades de descomposición en valores singulares."
   ]
  },
  {
   "cell_type": "markdown",
   "id": "2883324a",
   "metadata": {
    "slideshow": {
     "slide_type": "slide"
    }
   },
   "source": [
    "Por lo tanto, también presentaremos la descomposición de valores singulares en términos de la vista centrada en la optimización junto con sus aplicaciones naturales a la compresión y la reducción de dimensionalidad."
   ]
  },
  {
   "cell_type": "markdown",
   "id": "0191ed51",
   "metadata": {
    "slideshow": {
     "slide_type": "slide"
    }
   },
   "source": [
    "Este capítulo está organizado de la siguiente forma."
   ]
  },
  {
   "cell_type": "markdown",
   "id": "b0d0d95e",
   "metadata": {
    "slideshow": {
     "slide_type": "slide"
    }
   },
   "source": [
    "En la siguiente sección, presentaremos la descomposición de valores singulares desde el punto de vista del álgebra lineal."
   ]
  },
  {
   "cell_type": "markdown",
   "id": "166d32f8",
   "metadata": {
    "slideshow": {
     "slide_type": "slide"
    }
   },
   "source": [
    "En la Sección 7.3 se presenta una visión centrada en la optimización de la descomposición de valores singulares."
   ]
  },
  {
   "cell_type": "markdown",
   "id": "838ccc09",
   "metadata": {
    "slideshow": {
     "slide_type": "slide"
    }
   },
   "source": [
    "Ambos puntos de vista exponen propiedades algo diferentes de la descomposición de valores singulares."
   ]
  },
  {
   "cell_type": "markdown",
   "id": "7ecec8e6",
   "metadata": {
    "slideshow": {
     "slide_type": "slide"
    }
   },
   "source": [
    "La descomposición de valores singulares (SVD) tiene numerosas aplicaciones en el aprendizaje automático, y se proporciona una descripción general en la Sección 7.4."
   ]
  },
  {
   "cell_type": "markdown",
   "id": "7e4f6995",
   "metadata": {
    "slideshow": {
     "slide_type": "slide"
    }
   },
   "source": [
    "Los algoritmos numéricos para la descomposición de valores singulares se presentan en la Sección 7.5."
   ]
  },
  {
   "cell_type": "markdown",
   "id": "1020b684",
   "metadata": {
    "slideshow": {
     "slide_type": "slide"
    }
   },
   "source": [
    "Se ofrece un resumen en la Sección 7.6."
   ]
  },
  {
   "cell_type": "markdown",
   "id": "32aca5c2",
   "metadata": {
    "slideshow": {
     "slide_type": "slide"
    }
   },
   "source": [
    "## 7.2 SVD: A Linear Algebra Perspective "
   ]
  },
  {
   "cell_type": "markdown",
   "id": "a5518bd7",
   "metadata": {
    "slideshow": {
     "slide_type": "slide"
    }
   },
   "source": [
    "## Funciones de Python necesarias para la lectura interactiva de este cuederno"
   ]
  },
  {
   "cell_type": "markdown",
   "id": "3c9c6434",
   "metadata": {
    "slideshow": {
     "slide_type": "slide"
    }
   },
   "source": [
    "* El módulo `linalg` de numpy. \n",
    "* El operador `numpy.eig()` que calcula valores y vectores propios de una matriz cuadrada.   \n",
    "* El método `eigenvects()` de sympy que retorna una lista de tuplas de la forma   \n",
    "  `(eigenvalue, algebraic multiplicity, [eigenvectors] ]`   \n",
    "  `sintax Matrix().eigenvects()`\n",
    "  \n",
    "* el atributo `.T` para calcular la transpuesta de una matriz de Sympy.\n",
    "* El operador `diag()` que crea una matriz diagonal.\n",
    "* \n"
   ]
  },
  {
   "cell_type": "markdown",
   "id": "ba8d7004",
   "metadata": {
    "slideshow": {
     "slide_type": "slide"
    }
   },
   "source": [
    "## Referentes  \n",
    "\n",
    "* Charú. Linear Algebra and Optimization for Machine Learning. A Textbook. \n",
    "\n",
    "* https://docs.sympy.org/latest/tutorial/matrices.html  \n",
    "\n",
    "* https://en.wikipedia.org/wiki/Definite_matrix   \n",
    "\n",
    "* https://www.geeksforgeeks.org/python-sympy-matrix-eigenvects-method/ \n",
    "\n",
    "* https://math.stackexchange.com/questions/1295950/reflect-on-y-axis-in-3d-matrix "
   ]
  },
  {
   "cell_type": "code",
   "execution_count": null,
   "id": "ec8f5a6a",
   "metadata": {},
   "outputs": [],
   "source": []
  }
 ],
 "metadata": {
  "celltoolbar": "Slideshow",
  "kernelspec": {
   "display_name": "Python 3",
   "language": "python",
   "name": "python3"
  },
  "language_info": {
   "codemirror_mode": {
    "name": "ipython",
    "version": 3
   },
   "file_extension": ".py",
   "mimetype": "text/x-python",
   "name": "python",
   "nbconvert_exporter": "python",
   "pygments_lexer": "ipython3",
   "version": "3.8.8"
  },
  "latex_envs": {
   "LaTeX_envs_menu_present": true,
   "autoclose": false,
   "autocomplete": false,
   "bibliofile": "biblio.bib",
   "cite_by": "apalike",
   "current_citInitial": 1,
   "eqLabelWithNumbers": true,
   "eqNumInitial": 1,
   "hotkeys": {
    "equation": "Ctrl-E",
    "itemize": "Ctrl-I"
   },
   "labels_anchors": false,
   "latex_user_defs": false,
   "report_style_numbering": false,
   "user_envs_cfg": false
  },
  "rise": {
   "enable_chalkboard": true,
   "theme": "sky",
   "transition": "zoom"
  }
 },
 "nbformat": 4,
 "nbformat_minor": 5
}
