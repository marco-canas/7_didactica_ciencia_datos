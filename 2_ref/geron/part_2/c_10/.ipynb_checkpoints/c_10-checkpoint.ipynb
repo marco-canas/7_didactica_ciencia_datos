{
 "cells": [
  {
   "cell_type": "markdown",
   "id": "6381fb7b",
   "metadata": {
    "slideshow": {
     "slide_type": "slide"
    }
   },
   "source": [
    "<table align=\"left\">\n",
    "  <td>\n",
    "    <a href=\"https://colab.research.google.com/github/marco-canas/didactica_ciencia_datos/blob/main/referentes/2_geron/part_2/c_10/c_10.ipynb\" target=\"_parent\"><img src=\"https://colab.research.google.com/assets/colab-badge.svg\" alt=\"Open In Colab\"/></a>\n",
    "  </td>\n",
    "</table>"
   ]
  },
  {
   "cell_type": "markdown",
   "id": "68b727d3",
   "metadata": {
    "slideshow": {
     "slide_type": "slide"
    }
   },
   "source": [
    "## [Lista de reproducción de apoyo a la lectura de este capítulo](https://www.youtube.com/watch?v=EXBAb-q8kKo&list=PLbk60veMSVKsg-imZt2kAXSPVQd6iR9xO&ab_channel=DiMathData)"
   ]
  },
  {
   "cell_type": "markdown",
   "id": "9647bc3f",
   "metadata": {
    "slideshow": {
     "slide_type": "slide"
    }
   },
   "source": [
    "# Capítulo 10 "
   ]
  },
  {
   "cell_type": "markdown",
   "id": "5fbdc194",
   "metadata": {
    "slideshow": {
     "slide_type": "slide"
    }
   },
   "source": [
    "# Introducción a las Redes Artificiales con Keras"
   ]
  },
  {
   "cell_type": "markdown",
   "id": "3bbc8194",
   "metadata": {
    "slideshow": {
     "slide_type": "slide"
    }
   },
   "source": [
    "* Los pájaros nos inspiraron a volar,   \n",
    "* las plantas de bardana inspiraron el velcro y   \n",
    "* la naturaleza ha inspirado innumerables inventos más."
   ]
  },
  {
   "cell_type": "markdown",
   "id": "ba1b25c2",
   "metadata": {
    "slideshow": {
     "slide_type": "slide"
    }
   },
   "source": [
    "<img src = 'https://i.blogs.es/1a9d2d/aves-colibri/1366_2000.jpg'>"
   ]
  },
  {
   "cell_type": "markdown",
   "id": "1a1cecae",
   "metadata": {
    "slideshow": {
     "slide_type": "slide"
    }
   },
   "source": [
    "<img src = 'https://www.yateenteraste.mx/wp-content/uploads/2021/05/velcro-origen.jpg'> "
   ]
  },
  {
   "cell_type": "markdown",
   "id": "2f39b2f1",
   "metadata": {
    "slideshow": {
     "slide_type": "slide"
    }
   },
   "source": [
    "Parece lógico, entonces, observar la arquitectura del cerebro en busca de inspiración sobre cómo construir una máquina inteligente."
   ]
  },
  {
   "cell_type": "markdown",
   "id": "3b81ebfd",
   "metadata": {
    "slideshow": {
     "slide_type": "slide"
    }
   },
   "source": [
    "<img src = 'https://www.analyticslane.com/storage/2018/05/redneuronal.png.webp'>"
   ]
  },
  {
   "cell_type": "markdown",
   "id": "65bfd0bc",
   "metadata": {
    "slideshow": {
     "slide_type": "slide"
    }
   },
   "source": [
    "Esta es la lógica que desencadenó las redes neuronales artificiales (ANN): \n",
    "* una ANN es un modelo de aprendizaje automático inspirado en las redes de neuronas biológicas que se encuentran en nuestros cerebros."
   ]
  },
  {
   "cell_type": "markdown",
   "id": "694fd04b",
   "metadata": {
    "slideshow": {
     "slide_type": "slide"
    }
   },
   "source": [
    "Sin embargo, aunque los aviones se inspiraron en las aves, no es necesario que aleteen."
   ]
  },
  {
   "cell_type": "markdown",
   "id": "d45f0da9",
   "metadata": {
    "slideshow": {
     "slide_type": "slide"
    }
   },
   "source": [
    "De manera similar, las ANN se han vuelto gradualmente bastante diferentes de sus primos biológicos. "
   ]
  },
  {
   "cell_type": "markdown",
   "id": "548b25e0",
   "metadata": {
    "slideshow": {
     "slide_type": "slide"
    }
   },
   "source": [
    "Algunos investigadores incluso argumentan que deberíamos abandonar la analogía biológica por completo   \n",
    "\n",
    "* (por ejemplo, diciendo **\"unidades\"** en lugar de **\"neuronas\"**), para no restringir nuestra creatividad a sistemas biológicamente plausibles."
   ]
  },
  {
   "cell_type": "markdown",
   "id": "8916f43d",
   "metadata": {
    "slideshow": {
     "slide_type": "slide"
    }
   },
   "source": [
    "Las ANN están en el centro mismo del Aprendizaje Profundo."
   ]
  },
  {
   "cell_type": "markdown",
   "id": "270212c8",
   "metadata": {
    "slideshow": {
     "slide_type": "slide"
    }
   },
   "source": [
    "Son versátiles, potentes y escalables,   \n",
    "* lo que los hace ideales para abordar tareas de aprendizaje automático grandes y muy complejas,   \n",
    "* como clasificar miles de millones de imágenes (por ejemplo, imágenes de Google),   \n",
    "* potenciar los servicios de reconocimiento de voz (por ejemplo, **Siri de Apple**),  "
   ]
  },
  {
   "cell_type": "markdown",
   "id": "0f966c1a",
   "metadata": {
    "slideshow": {
     "slide_type": "slide"
    }
   },
   "source": [
    " \n",
    "* **recomendar los mejores videos** para ver a cientos de millones de usuarios todos los días (por ejemplo, YouTube),   \n",
    "* o **aprender a vencer** al campeón mundial en el juego de Go (AlphaGo de DeepMind).\n",
    "\n",
    "<img src = 'https://imagenes.elpais.com/resizer/4kvCmGjHMvB4p3SLL2fGMnUxFD4=/1960x0/cloudfront-eu-central-1.images.arcpublishing.com/prisa/IY4L75RPHB3MROXFWZQKSG4H4M.jpg'> "
   ]
  },
  {
   "cell_type": "markdown",
   "id": "89bfb384",
   "metadata": {
    "slideshow": {
     "slide_type": "slide"
    }
   },
   "source": [
    "* La primera parte de este capítulo presenta las redes neuronales artificiales,"
   ]
  },
  {
   "cell_type": "markdown",
   "id": "89ee0fe0",
   "metadata": {
    "slideshow": {
     "slide_type": "fragment"
    }
   },
   "source": [
    "   \n",
    "* comenzando con un recorrido rápido por las primeras arquitecturas ANN y  "
   ]
  },
  {
   "cell_type": "markdown",
   "id": "f7125be0",
   "metadata": {
    "slideshow": {
     "slide_type": "slide"
    }
   },
   "source": [
    " \n",
    "* llegando a los **perceptrones multicapa (MLP)**, que se usan mucho en la actualidad (se explorarán otras arquitecturas en los próximos capítulos)."
   ]
  },
  {
   "cell_type": "markdown",
   "id": "e4caedd3",
   "metadata": {
    "slideshow": {
     "slide_type": "slide"
    }
   },
   "source": [
    "# La API de Keras"
   ]
  },
  {
   "cell_type": "markdown",
   "id": "e14a8deb",
   "metadata": {
    "slideshow": {
     "slide_type": "fragment"
    }
   },
   "source": [
    "En la segunda parte, veremos cómo implementar redes neuronales utilizando la popular **API de Keras**."
   ]
  },
  {
   "cell_type": "markdown",
   "id": "989adde7",
   "metadata": {
    "slideshow": {
     "slide_type": "slide"
    }
   },
   "source": [
    "Esta es una API de alto nivel simple y bellamente diseñada para  \n",
    "* construir, \n",
    "* entrenar, \n",
    "* evaluar y \n",
    "* ejecutar redes neuronales."
   ]
  },
  {
   "cell_type": "markdown",
   "id": "7f9857ce",
   "metadata": {
    "slideshow": {
     "slide_type": "slide"
    }
   },
   "source": [
    "Pero no se deje engañar por su simplicidad:  \n",
    "\n",
    "* es lo suficientemente expresiva y flexible como para permitirle construir una amplia variedad de **arquitecturas de redes neuronales**."
   ]
  },
  {
   "cell_type": "markdown",
   "id": "8c429206",
   "metadata": {
    "slideshow": {
     "slide_type": "slide"
    }
   },
   "source": [
    "De hecho, probablemente sea suficiente para la mayoría de sus casos de uso."
   ]
  },
  {
   "cell_type": "markdown",
   "id": "c47a2594",
   "metadata": {
    "slideshow": {
     "slide_type": "slide"
    }
   },
   "source": [
    "Y si alguna vez necesita flexibilidad adicional, siempre puede escribir componentes Keras personalizados utilizando su API de nivel inferior, como veremos en el Capítulo 12."
   ]
  },
  {
   "cell_type": "markdown",
   "id": "ad8ecad3",
   "metadata": {
    "slideshow": {
     "slide_type": "slide"
    }
   },
   "source": [
    "Pero primero,   \n",
    "¡retrocedamos en el tiempo para ver cómo surgieron las redes neuronales artificiales!"
   ]
  },
  {
   "cell_type": "markdown",
   "id": "e3f7f873",
   "metadata": {
    "slideshow": {
     "slide_type": "slide"
    }
   },
   "source": [
    "# De las neuronas biológicas a las artificiales"
   ]
  },
  {
   "cell_type": "markdown",
   "id": "cf1ac33b",
   "metadata": {
    "slideshow": {
     "slide_type": "slide"
    }
   },
   "source": [
    "* Sorprendentemente, las ANN existen desde hace bastante tiempo:   \n",
    "* fueron introducidas por primera vez en **1943**  \n",
    "* por el neurofisiólogo Warren McCulloch y el matemático Walter Pitts."
   ]
  },
  {
   "cell_type": "markdown",
   "id": "35104831",
   "metadata": {
    "slideshow": {
     "slide_type": "fragment"
    }
   },
   "source": [
    "<img src = 'https://assets.sutori.com/user-uploads/image/1870cf05-f8d7-40a0-b52f-cea134f9b7ed/ee6d12a3f3f1a26eb09a344949db76b9.png'>"
   ]
  },
  {
   "cell_type": "markdown",
   "id": "3c2b25b8",
   "metadata": {
    "slideshow": {
     "slide_type": "slide"
    }
   },
   "source": [
    "En su artículo histórico \"Un cálculo lógico de ideas inmanentes en la actividad nerviosa\",  \n",
    "\n",
    "* McCulloch y Pitts presentaron un modelo computacional simplificado de cómo las neuronas biológicas podrían trabajar juntas en cerebros de animales para realizar cálculos complejos utilizando la **lógica proposicional**."
   ]
  },
  {
   "cell_type": "markdown",
   "id": "8f9172e4",
   "metadata": {
    "slideshow": {
     "slide_type": "slide"
    }
   },
   "source": [
    "Esta fue la primera arquitectura de red neuronal artificial.\n",
    "\n",
    "<img src = 'https://niuoffice.com/wp-content/uploads/2022/10/Machine-learning.jpg'>"
   ]
  },
  {
   "cell_type": "markdown",
   "id": "60dd68ab",
   "metadata": {
    "slideshow": {
     "slide_type": "slide"
    }
   },
   "source": [
    "Desde entonces se han inventado muchas otras arquitecturas, como veremos."
   ]
  },
  {
   "cell_type": "markdown",
   "id": "2423c86b",
   "metadata": {
    "slideshow": {
     "slide_type": "slide"
    }
   },
   "source": [
    "Los primeros éxitos de las ANN llevaron a **la creencia** generalizada de que   \n",
    "* **pronto estaríamos conversando con máquinas verdaderamente inteligentes**."
   ]
  },
  {
   "cell_type": "markdown",
   "id": "ea0fc049",
   "metadata": {
    "slideshow": {
     "slide_type": "slide"
    }
   },
   "source": [
    "Cuando quedó claro en la década de **1960** que **esta promesa no se cumpliría**  \n",
    "* (al menos durante bastante tiempo), la financiación se fue a otra parte y las ANN entraron en un largo invierno."
   ]
  },
  {
   "cell_type": "markdown",
   "id": "32f00d1f",
   "metadata": {
    "slideshow": {
     "slide_type": "slide"
    }
   },
   "source": [
    "A principios de la década de **1980**, \n",
    "* se inventaron **nuevas arquitecturas** y \n",
    "* se desarrollaron **mejores técnicas de entrenamiento**, \n",
    "* lo que provocó un resurgimiento del interés por el **conexionismo** (el estudio de las redes neuronales)."
   ]
  },
  {
   "cell_type": "markdown",
   "id": "e6eb6ab3",
   "metadata": {
    "slideshow": {
     "slide_type": "slide"
    }
   },
   "source": [
    "Pero el progreso fue lento, y en la década de **1990** se inventaron otras poderosas técnicas de aprendizaje automático,   \n",
    "* como **las máquinas de soporte vectorial** (consulte el Capítulo 5)."
   ]
  },
  {
   "cell_type": "markdown",
   "id": "196b58b9",
   "metadata": {
    "slideshow": {
     "slide_type": "slide"
    }
   },
   "source": [
    "* Estas técnicas parecían ofrecer mejores resultados y bases teóricas más sólidas que las ANN,   \n",
    "* por lo que una vez más se suspendió el estudio de las redes neuronales."
   ]
  },
  {
   "cell_type": "markdown",
   "id": "457ec9dd",
   "metadata": {
    "slideshow": {
     "slide_type": "slide"
    }
   },
   "source": [
    "Ahora estamos presenciando otra ola de interés en las ANN."
   ]
  },
  {
   "cell_type": "markdown",
   "id": "9eb6b6e0",
   "metadata": {
    "slideshow": {
     "slide_type": "slide"
    }
   },
   "source": [
    "¿Se extinguirá esta ola como lo hicieron las anteriores?"
   ]
  },
  {
   "cell_type": "markdown",
   "id": "3144e48d",
   "metadata": {
    "slideshow": {
     "slide_type": "slide"
    }
   },
   "source": [
    "Bueno, aquí hay algunas buenas razones para creer que esta vez es diferente y que \n",
    "* el renovado interés en las RNA tendrá un **impacto mucho más profundo en nuestras vidas**:"
   ]
  },
  {
   "cell_type": "markdown",
   "id": "f629b6ed",
   "metadata": {
    "slideshow": {
     "slide_type": "slide"
    }
   },
   "source": [
    "* Ahora hay una **gran cantidad de datos disponibles** para entrenar redes neuronales, \n",
    "* y **las ANN con frecuencia superan a otras técnicas de ML** en problemas muy grandes y complejos."
   ]
  },
  {
   "cell_type": "markdown",
   "id": "a9958f85",
   "metadata": {
    "slideshow": {
     "slide_type": "slide"
    }
   },
   "source": [
    "* El tremendo **aumento en el poder de cómputo** desde la década de 1990 ahora hace posible entrenar grandes redes neuronales en una cantidad de tiempo razonable."
   ]
  },
  {
   "cell_type": "markdown",
   "id": "54d0fbc9",
   "metadata": {
    "slideshow": {
     "slide_type": "slide"
    }
   },
   "source": [
    "* Esto se debe en parte a la **ley de Moore** (la cantidad de componentes en los circuitos integrados se ha duplicado aproximadamente cada 2 años durante los últimos 50 años),  \n",
    "* pero también gracias a la industria del juego, que ha estimulado la producción de potentes **tarjetas GPU** por millones."
   ]
  },
  {
   "cell_type": "markdown",
   "id": "a55dfec1",
   "metadata": {
    "slideshow": {
     "slide_type": "slide"
    }
   },
   "source": [
    "Además, **las plataformas en la nube** han hecho que este poder sea accesible para todos."
   ]
  },
  {
   "cell_type": "markdown",
   "id": "bbd252b5",
   "metadata": {
    "slideshow": {
     "slide_type": "slide"
    }
   },
   "source": [
    "* Se han mejorado **los algoritmos de entrenamiento**."
   ]
  },
  {
   "cell_type": "markdown",
   "id": "94a3de1b",
   "metadata": {
    "slideshow": {
     "slide_type": "fragment"
    }
   },
   "source": [
    "Para ser justos, son solo ligeramente diferentes de los que se usaron en la década de 1990, pero estos ajustes relativamente pequeños han tenido un gran impacto positivo."
   ]
  },
  {
   "cell_type": "markdown",
   "id": "b5b06609",
   "metadata": {
    "slideshow": {
     "slide_type": "slide"
    }
   },
   "source": [
    "Algunas limitaciones teóricas de las ANN han resultado ser benignas en la práctica."
   ]
  },
  {
   "cell_type": "markdown",
   "id": "6c736462",
   "metadata": {
    "slideshow": {
     "slide_type": "slide"
    }
   },
   "source": [
    "Por ejemplo, muchas personas pensaron que los algoritmos de entrenamiento ANN estaban condenados porque era probable que se quedaran atascados en **los óptimos locales**,   \n",
    "* pero resulta que esto es bastante raro en la práctica (y cuando es el caso, por lo general son bastante parecidos a los óptimos globales)."
   ]
  },
  {
   "cell_type": "markdown",
   "id": "8a6c19ec",
   "metadata": {
    "slideshow": {
     "slide_type": "slide"
    }
   },
   "source": [
    "Las ANN parecen haber entrado en un **círculo virtuoso de financiación y progreso**."
   ]
  },
  {
   "cell_type": "markdown",
   "id": "af808279",
   "metadata": {
    "slideshow": {
     "slide_type": "slide"
    }
   },
   "source": [
    "Los productos sorprendentes basados en ANN aparecen regularmente en los **titulares de las noticias**,   \n",
    "* lo que atrae cada vez más atención y financiamiento hacia ellos, lo que resulta en más y más progresos y productos aún más sorprendentes."
   ]
  },
  {
   "cell_type": "markdown",
   "id": "e1629102",
   "metadata": {
    "slideshow": {
     "slide_type": "slide"
    }
   },
   "source": [
    "# Neuronas biológicas"
   ]
  },
  {
   "cell_type": "markdown",
   "id": "44430361",
   "metadata": {
    "slideshow": {
     "slide_type": "slide"
    }
   },
   "source": [
    "Antes de hablar de las neuronas artificiales, echemos un vistazo rápido a una neurona biológica (representada en la figura 10-1)."
   ]
  },
  {
   "cell_type": "markdown",
   "id": "1e8502fd",
   "metadata": {
    "slideshow": {
     "slide_type": "slide"
    }
   },
   "source": [
    "<img src = 'https://github.com/marco-canas/7_didactica_ciencia_datos/blob/main/referentes/geron/part_2/c_10/c_10_images/figure_10_1.jpg?raw=true'>"
   ]
  },
  {
   "cell_type": "markdown",
   "id": "aa3cbc1f",
   "metadata": {
    "slideshow": {
     "slide_type": "slide"
    }
   },
   "source": [
    "Es una célula de aspecto inusual que se encuentra principalmente en el cerebro de los animales."
   ]
  },
  {
   "cell_type": "markdown",
   "id": "a33239ac",
   "metadata": {
    "slideshow": {
     "slide_type": "slide"
    }
   },
   "source": [
    "Está compuesto por  \n",
    "\n",
    "* un cuerpo celular que contiene **el núcleo** y la mayoría de los componentes complejos de la célula, \n",
    "\n",
    "* muchas extensiones ramificadas llamadas **dendritas**,   \n",
    "\n",
    "* más una extensión muy larga llamada **axón**."
   ]
  },
  {
   "cell_type": "markdown",
   "id": "c2b4bee7",
   "metadata": {
    "slideshow": {
     "slide_type": "slide"
    }
   },
   "source": [
    "La longitud del axón puede ser solo unas pocas veces más larga que el cuerpo celular, o   \n",
    "* hasta decenas de miles de veces más larga."
   ]
  },
  {
   "cell_type": "markdown",
   "id": "80718fd0",
   "metadata": {
    "slideshow": {
     "slide_type": "slide"
    }
   },
   "source": [
    "* Cerca de su extremo, el axón se divide en muchas ramas llamadas **telodendrias**, y\n",
    "* en la punta de estas ramas hay estructuras minúsculas llamadas **terminales sinápticas** (o simplemente sinapsis),   \n",
    "* que están conectadas a las dendritas o cuerpos celulares de otras neuronas."
   ]
  },
  {
   "cell_type": "markdown",
   "id": "c0b72f41",
   "metadata": {
    "slideshow": {
     "slide_type": "slide"
    }
   },
   "source": [
    "Las neuronas biológicas producen impulsos eléctricos cortos llamados potenciales de acción (AP, o simplemente señales)  \n",
    "* que viajan a lo largo de los axones y hacen que las sinapsis liberen señales químicas llamadas neurotransmisores. "
   ]
  },
  {
   "cell_type": "markdown",
   "id": "18730164",
   "metadata": {
    "slideshow": {
     "slide_type": "slide"
    }
   },
   "source": [
    "Cuando una neurona recibe una cantidad suficiente de estos neurotransmisores en unos pocos milisegundos, dispara sus propios impulsos eléctricos   \n",
    "\n",
    "* (en realidad, depende de los neurotransmisores, ya que algunos de ellos inhiben el disparo de la neurona)."
   ]
  },
  {
   "cell_type": "markdown",
   "id": "aa315749",
   "metadata": {
    "slideshow": {
     "slide_type": "slide"
    }
   },
   "source": [
    "* Por lo tanto, las neuronas biológicas individuales parecen comportarse de una manera bastante simple, \n",
    "* pero están organizadas en una vasta red de miles de millones, con cada neurona típicamente conectada a miles de otras neuronas. "
   ]
  },
  {
   "cell_type": "markdown",
   "id": "6942101c",
   "metadata": {
    "slideshow": {
     "slide_type": "slide"
    }
   },
   "source": [
    "Una red de neuronas bastante simples puede realizar cálculos muy complejos,   \n",
    "* al igual que un hormiguero complejo puede surgir de los esfuerzos combinados de hormigas simples."
   ]
  },
  {
   "cell_type": "markdown",
   "id": "f975a33c",
   "metadata": {
    "slideshow": {
     "slide_type": "fragment"
    }
   },
   "source": [
    "<img src = 'https://previews.123rf.com/images/dualororua/dualororua1706/dualororua170600607/80383774-ilustraci%C3%B3n-vectorial-de-colonia-de-hormigas-de-dibujos-animados-con-hormiguero.jpg'> "
   ]
  },
  {
   "cell_type": "markdown",
   "id": "5ca6847f",
   "metadata": {
    "slideshow": {
     "slide_type": "slide"
    }
   },
   "source": [
    "La arquitectura de las redes neuronales biológicas (BNN, por sus siglas en inglés) sigue siendo objeto de investigación activa,   \n",
    "* pero se han mapeado algunas partes del cerebro y parece que las neuronas a menudo se organizan en capas consecutivas, especialmente en la corteza cerebral (es decir, la capa externa de su cerebro), como se muestra en la figura 10-2."
   ]
  },
  {
   "cell_type": "markdown",
   "id": "e20b07d6",
   "metadata": {
    "slideshow": {
     "slide_type": "slide"
    }
   },
   "source": [
    "<img src = 'https://github.com/marco-canas/7_didactica_ciencia_datos/blob/main/referentes/geron/part_2/c_10/c_10_images/figure_10_2.jpg?raw=true'> "
   ]
  },
  {
   "cell_type": "markdown",
   "id": "db42db83",
   "metadata": {
    "slideshow": {
     "slide_type": "slide"
    }
   },
   "source": [
    "# Cálculos lógicos con neuronas"
   ]
  },
  {
   "cell_type": "markdown",
   "id": "6d5f571b",
   "metadata": {
    "slideshow": {
     "slide_type": "slide"
    }
   },
   "source": [
    "* **McCulloch y Pitts** propusieron un modelo muy simple de neurona biológica, que más tarde se conoció como **neurona artificial**: \n",
    "* tiene una o más entradas binarias (on/off) y una salida binaria."
   ]
  },
  {
   "cell_type": "markdown",
   "id": "423966cd",
   "metadata": {
    "slideshow": {
     "slide_type": "slide"
    }
   },
   "source": [
    "La neurona artificial activa su salida cuando más de un cierto número de sus entradas están activas."
   ]
  },
  {
   "cell_type": "markdown",
   "id": "fd9f1809",
   "metadata": {
    "slideshow": {
     "slide_type": "slide"
    }
   },
   "source": [
    "En su artículo, demostraron que, incluso con un modelo tan simplificado, es posible construir una red de neuronas artificiales que calcule cualquier proposición lógica que desee."
   ]
  },
  {
   "cell_type": "markdown",
   "id": "ad44367f",
   "metadata": {
    "slideshow": {
     "slide_type": "slide"
    }
   },
   "source": [
    "Para ver cómo funciona una red de este tipo, construyamos algunas ANN que realicen varios cálculos lógicos (consulte la figura 10-3), \n",
    "* suponiendo que una neurona se activa cuando al menos dos de sus entradas están activas."
   ]
  },
  {
   "cell_type": "markdown",
   "id": "aa93e12b",
   "metadata": {
    "slideshow": {
     "slide_type": "slide"
    }
   },
   "source": [
    "<img src = 'https://github.com/marco-canas/7_didactica_ciencia_datos/blob/main/referentes/geron/part_2/c_10/c_10_images/figure_10_3.jpg?raw=true'> "
   ]
  },
  {
   "cell_type": "markdown",
   "id": "25f3ed4d",
   "metadata": {
    "slideshow": {
     "slide_type": "slide"
    }
   },
   "source": [
    "Veamos qué hacen estas redes:"
   ]
  },
  {
   "cell_type": "markdown",
   "id": "3f667262",
   "metadata": {
    "slideshow": {
     "slide_type": "slide"
    }
   },
   "source": [
    "La primera red de la izquierda es **la función de identidad**: \n",
    "* si se activa la neurona A, también se activa la neurona C (ya que recibe dos señales de entrada de la neurona A);  \n",
    "* pero si la neurona A está apagada, entonces la neurona C también lo está."
   ]
  },
  {
   "cell_type": "markdown",
   "id": "f00425fb",
   "metadata": {
    "slideshow": {
     "slide_type": "slide"
    }
   },
   "source": [
    "La segunda red realiza **un AND lógico**: \n",
    "* la neurona C se activa solo cuando las neuronas A y B están activadas \n",
    "* (una sola señal de entrada no es suficiente para activar la neurona C)."
   ]
  },
  {
   "cell_type": "markdown",
   "id": "6972015f",
   "metadata": {
    "slideshow": {
     "slide_type": "slide"
    }
   },
   "source": [
    "La tercera red realiza un **OR lógico**: \n",
    "* la neurona C se activa si se activa la neurona A o la neurona B (o ambas)."
   ]
  },
  {
   "cell_type": "markdown",
   "id": "e1cddc43",
   "metadata": {
    "slideshow": {
     "slide_type": "slide"
    }
   },
   "source": [
    "Finalmente, si suponemos que una conexión de entrada puede inhibir la actividad de la neurona (que es el caso de las neuronas biológicas), entonces   \n",
    "* la cuarta red calcula una proposición lógica un poco más compleja: la neurona C se activa solo si la neurona A está activa y la neurona B está apagada. "
   ]
  },
  {
   "cell_type": "markdown",
   "id": "e7c0c555",
   "metadata": {
    "slideshow": {
     "slide_type": "slide"
    }
   },
   "source": [
    "Si la neurona A está activa todo el tiempo, obtienes **un NO lógico**:   \n",
    "* la neurona C está activa cuando la neurona B está apagada, y viceversa."
   ]
  },
  {
   "cell_type": "markdown",
   "id": "d3307101",
   "metadata": {
    "slideshow": {
     "slide_type": "slide"
    }
   },
   "source": [
    "Puede imaginar cómo se pueden combinar estas redes para calcular expresiones lógicas complejas   \n",
    "* (vea los ejercicios al final del capítulo para ver un ejemplo)."
   ]
  },
  {
   "cell_type": "markdown",
   "id": "1a5a80e9",
   "metadata": {
    "slideshow": {
     "slide_type": "slide"
    }
   },
   "source": [
    "# The Perceptron"
   ]
  },
  {
   "cell_type": "markdown",
   "id": "9866f7c1",
   "metadata": {
    "slideshow": {
     "slide_type": "slide"
    }
   },
   "source": [
    "El Perceptrón es una de las arquitecturas ANN más simples,   \n",
    "* inventado en 1957 por Frank Rosenblatt.\n",
    "<img src = 'https://s3.amazonaws.com/s3.timetoast.com/public/uploads/photo/9917116/image/4d8988a1ce02e291141f7d7d9e944366'> "
   ]
  },
  {
   "cell_type": "markdown",
   "id": "811378ae",
   "metadata": {
    "slideshow": {
     "slide_type": "slide"
    }
   },
   "source": [
    "<img src = 'http://blog.josemarianoalvarez.com/wp-content/uploads/2018/06/ModeloPerceptron-1024x592.jpeg'> "
   ]
  },
  {
   "cell_type": "markdown",
   "id": "003176c2",
   "metadata": {
    "slideshow": {
     "slide_type": "slide"
    }
   },
   "source": [
    "* Se basa en una neurona artificial ligeramente diferente (consulte la figura 10-4)   \n",
    "* denominada **unidad lógica de umbral (TLU)** o, a veces, \n",
    "* **unidad de umbral lineal (LTU)**."
   ]
  },
  {
   "cell_type": "markdown",
   "id": "ccb05a3d",
   "metadata": {
    "slideshow": {
     "slide_type": "slide"
    }
   },
   "source": [
    "* **Las entradas y salidas son números** (en lugar de valores binarios de encendido/apagado), \n",
    "* y cada **conexión de entrada está asociada con un peso**."
   ]
  },
  {
   "cell_type": "markdown",
   "id": "a031ffe9",
   "metadata": {
    "slideshow": {
     "slide_type": "slide"
    }
   },
   "source": [
    "La TLU calcula una suma ponderada de sus entradas \n",
    "\n",
    "$$ (z = w_{1}x_{1} + w_{2}x_{2} + \\cdots + w_{n}x_{n} = x^{T}w), $$ \n",
    "\n",
    "* luego aplica una **función de paso** a esa suma y genera el resultado: \n",
    "$$ h_{w}(x) = step(z), $$\n",
    "\n",
    "donde $z = x^{T}w$."
   ]
  },
  {
   "cell_type": "markdown",
   "id": "e2c9c684",
   "metadata": {
    "slideshow": {
     "slide_type": "slide"
    }
   },
   "source": [
    "<img src = 'https://github.com/marco-canas/didactica_ciencia_datos/blob/main/referentes/2_geron/part_2/c_10/figure_10_4.jpg?raw=true'>"
   ]
  },
  {
   "cell_type": "markdown",
   "id": "24f8f166",
   "metadata": {
    "slideshow": {
     "slide_type": "slide"
    }
   },
   "source": [
    "La función escalonada más común utilizada en los perceptrones es la **función escalonada de Heaviside** (consulte la ecuación 10-1). "
   ]
  },
  {
   "cell_type": "markdown",
   "id": "ea44f6a9",
   "metadata": {
    "slideshow": {
     "slide_type": "slide"
    }
   },
   "source": [
    "A veces se usa la **función signo** en su lugar."
   ]
  },
  {
   "cell_type": "markdown",
   "id": "f6f5487b",
   "metadata": {
    "slideshow": {
     "slide_type": "slide"
    }
   },
   "source": [
    "Equation 10-1. Funciones de paso comunes utilizadas en perceptrones (suponiendo umbral = 0)\n",
    "\n",
    "\n",
    "$$ \\text{heaviside}(z) = \\begin{cases} 0 & \\text{si}\\ z < 0 \\\\ 1 & \\text{si}\\ z \\geq 0 \\end{cases} $$\n",
    "\n",
    "$$ sgn(z) = \\begin{cases} -1 & \\text{si}\\ z < 0 \\\\ 0 & \\text{si}\\ z = 0 \\\\ 1 & \\text{si}\\ z > 0 \\end{cases} $$"
   ]
  },
  {
   "cell_type": "markdown",
   "id": "7b528671",
   "metadata": {
    "slideshow": {
     "slide_type": "slide"
    }
   },
   "source": [
    "Se puede utilizar una única TLU para **la clasificación binaria lineal simple**."
   ]
  },
  {
   "cell_type": "markdown",
   "id": "ca05f38c",
   "metadata": {
    "slideshow": {
     "slide_type": "fragment"
    }
   },
   "source": [
    "Calcula una combinación lineal de las entradas y, \n",
    "* si el resultado supera un umbral, genera la clase positiva. "
   ]
  },
  {
   "cell_type": "markdown",
   "id": "15574db2",
   "metadata": {
    "slideshow": {
     "slide_type": "slide"
    }
   },
   "source": [
    "De lo contrario, genera la clase negativa   \n",
    "* (al igual que una regresión logística o un clasificador SVM lineal)."
   ]
  },
  {
   "cell_type": "markdown",
   "id": "3f316365",
   "metadata": {
    "slideshow": {
     "slide_type": "slide"
    }
   },
   "source": [
    "Podría, por ejemplo, usar una sola TLU para clasificar las flores de iris en función de la longitud y el ancho de los pétalos (también agregando una función de sesgo adicional $x_{0} = 1$, tal como lo hicimos en capítulos anteriores)."
   ]
  },
  {
   "cell_type": "markdown",
   "id": "fb9b7603",
   "metadata": {
    "slideshow": {
     "slide_type": "slide"
    }
   },
   "source": [
    "Entrenar una TLU en este caso significa encontrar los valores correctos para $w_{0}, w_{1}$ y $w_{2}$."
   ]
  },
  {
   "cell_type": "markdown",
   "id": "92a6fbb9",
   "metadata": {
    "slideshow": {
     "slide_type": "slide"
    }
   },
   "source": [
    "Un Perceptron se compone simplemente de una sola capa de TLU, con cada TLU conectada a todas las entradas. "
   ]
  },
  {
   "cell_type": "markdown",
   "id": "62432e4d",
   "metadata": {
    "slideshow": {
     "slide_type": "slide"
    }
   },
   "source": [
    "Cuando todas las neuronas de una capa están conectadas a cada neurona de la capa anterior (es decir, sus neuronas de entrada), la capa se denomina capa totalmente conectada o **capa densa**."
   ]
  },
  {
   "cell_type": "markdown",
   "id": "8afb88f5",
   "metadata": {
    "slideshow": {
     "slide_type": "slide"
    }
   },
   "source": [
    "Las entradas del Perceptron alimentan a neuronas de paso especiales llamadas **neuronas de entrada**: emiten cualquier entrada que reciban."
   ]
  },
  {
   "cell_type": "markdown",
   "id": "24e72611",
   "metadata": {
    "slideshow": {
     "slide_type": "slide"
    }
   },
   "source": [
    "Todas las neuronas de entrada forman la capa de entrada."
   ]
  },
  {
   "cell_type": "markdown",
   "id": "f9ecdd67",
   "metadata": {
    "slideshow": {
     "slide_type": "slide"
    }
   },
   "source": [
    "Además, generalmente se agrega una función de sesgo adicional $(x_{0} = 1)$:   \n",
    "* generalmente se representa usando un tipo especial de neurona llamada neurona de sesgo, que genera 1 todo el tiempo."
   ]
  },
  {
   "cell_type": "markdown",
   "id": "1bd70642",
   "metadata": {
    "slideshow": {
     "slide_type": "slide"
    }
   },
   "source": [
    "En la figura 10-5 se representa un perceptrón con dos entradas y tres salidas."
   ]
  },
  {
   "cell_type": "markdown",
   "id": "3ed156dc",
   "metadata": {
    "slideshow": {
     "slide_type": "slide"
    }
   },
   "source": [
    "<img src = 'https://github.com/marco-canas/7_didactica_ciencia_datos/blob/main/referentes/geron/part_2/c_10/c_10_images/figure_10_5.jpg?raw=true'>"
   ]
  },
  {
   "cell_type": "markdown",
   "id": "e2b97e5b",
   "metadata": {
    "slideshow": {
     "slide_type": "slide"
    }
   },
   "source": [
    "Este Perceptron puede clasificar instancias simultáneamente en tres clases binarias diferentes, \n",
    "* lo que lo convierte en un **clasificador de salida múltiple**."
   ]
  },
  {
   "cell_type": "markdown",
   "id": "9a66075f",
   "metadata": {
    "slideshow": {
     "slide_type": "slide"
    }
   },
   "source": [
    "Gracias a la magia del álgebra lineal, la Ecuación 10-2 hace posible calcular eficientemente las salidas de una capa de neuronas artificiales para varias instancias a la vez."
   ]
  },
  {
   "cell_type": "markdown",
   "id": "336c5e31",
   "metadata": {
    "slideshow": {
     "slide_type": "slide"
    }
   },
   "source": [
    "Ecuación 10-2. Cálculo de las salidas de una capa completamente conectada\n",
    "\n",
    "$$ h_{w,b}(X) = \\phi(XW+ b)  $$"
   ]
  },
  {
   "cell_type": "markdown",
   "id": "4df6f7a0",
   "metadata": {
    "slideshow": {
     "slide_type": "slide"
    }
   },
   "source": [
    "En esta ecuación:\n",
    "\n",
    "* Como siempre, $X$ representa la matriz de características de entrada. Tiene una fila por instancia y una columna por atributo.\n",
    "\n",
    "* La matriz de pesos $W$ contiene todos los pesos de conexión excepto los de la neurona de polarización. Tiene una fila por neurona de entrada y una columna por neurona artificial en la capa."
   ]
  },
  {
   "cell_type": "markdown",
   "id": "9359dfb4",
   "metadata": {
    "slideshow": {
     "slide_type": "slide"
    }
   },
   "source": [
    "* El vector de sesgo $b$ contiene todos los pesos de conexión entre la neurona de sesgo y las neuronas artificiales. Tiene un término de sesgo por neurona artificial."
   ]
  },
  {
   "cell_type": "markdown",
   "id": "43afaada",
   "metadata": {
    "slideshow": {
     "slide_type": "fragment"
    }
   },
   "source": [
    "* La función $\\phi$ se llama **función de activación**: cuando las neuronas artificiales son TLU, es una función escalonada (pero discutiremos otras funciones de activación en breve)."
   ]
  },
  {
   "cell_type": "markdown",
   "id": "099b6d58",
   "metadata": {
    "slideshow": {
     "slide_type": "slide"
    }
   },
   "source": [
    "Entonces, ¿cómo se forma un Perceptron?"
   ]
  },
  {
   "cell_type": "markdown",
   "id": "fbe73d60",
   "metadata": {
    "slideshow": {
     "slide_type": "slide"
    }
   },
   "source": [
    "El algoritmo de entrenamiento de Perceptron propuesto por Rosenblatt se inspiró en gran medida en la regla de Hebb."
   ]
  },
  {
   "cell_type": "markdown",
   "id": "f46c2176",
   "metadata": {
    "slideshow": {
     "slide_type": "slide"
    }
   },
   "source": [
    "En su libro de 1949 La Organización del Comportamiento (Wiley), Donald Hebb sugirió que cuando una neurona biológica desencadena a menudo otra neurona, la conexión entre estas dos neuronas se vuelve más fuerte."
   ]
  },
  {
   "cell_type": "markdown",
   "id": "d2a9f4f0",
   "metadata": {
    "slideshow": {
     "slide_type": "slide"
    }
   },
   "source": [
    "Siegrid Löwel luego resumió la idea de Hebb en la frase pegadiza, **\"Células que disparan juntas, se conectan juntas\"**;"
   ]
  },
  {
   "cell_type": "markdown",
   "id": "0b15dd59",
   "metadata": {
    "slideshow": {
     "slide_type": "slide"
    }
   },
   "source": [
    "es decir, el peso de la conexión entre dos neuronas tiende a aumentar cuando disparan simultáneamente."
   ]
  },
  {
   "cell_type": "markdown",
   "id": "0a7fda75",
   "metadata": {
    "slideshow": {
     "slide_type": "slide"
    }
   },
   "source": [
    "Esta regla más tarde se conoció como la regla de Hebb (o aprendizaje hebbiano)."
   ]
  },
  {
   "cell_type": "markdown",
   "id": "69c4a7f7",
   "metadata": {
    "slideshow": {
     "slide_type": "slide"
    }
   },
   "source": [
    "Los perceptrones se entrenan mediante una variante de esta regla que tiene en cuenta el error que comete la red cuando realiza una predicción;   \n",
    "* la regla de aprendizaje de Perceptron refuerza las conexiones que ayudan a reducir el error."
   ]
  },
  {
   "cell_type": "markdown",
   "id": "f2d2998b",
   "metadata": {
    "slideshow": {
     "slide_type": "slide"
    }
   },
   "source": [
    "Más específicamente,   \n",
    "* el Perceptron recibe una instancia de entrenamiento a la vez, y   \n",
    "* para cada instancia hace sus predicciones. "
   ]
  },
  {
   "cell_type": "markdown",
   "id": "bb5f5c16",
   "metadata": {
    "slideshow": {
     "slide_type": "slide"
    }
   },
   "source": [
    "Por cada neurona de salida que produjo una predicción incorrecta, refuerza los pesos de conexión de las entradas que habrían contribuido a la predicción correcta. "
   ]
  },
  {
   "cell_type": "markdown",
   "id": "f9159370",
   "metadata": {
    "slideshow": {
     "slide_type": "slide"
    }
   },
   "source": [
    "La regla se muestra en la Ecuación 10-3."
   ]
  },
  {
   "cell_type": "markdown",
   "id": "2295a445",
   "metadata": {
    "slideshow": {
     "slide_type": "slide"
    }
   },
   "source": [
    "Ecuación 10-3. Regla de aprendizaje de perceptrón (actualización de peso)\n",
    "\n",
    "$$ w_{i,j}^{(\\text{next step})} = w_{i,j} + \\eta(y_{j} - \\hat{y}_{j})x_{i} $$\n"
   ]
  },
  {
   "cell_type": "markdown",
   "id": "e1177143",
   "metadata": {
    "slideshow": {
     "slide_type": "slide"
    }
   },
   "source": [
    "En esta ecuación:\n",
    "\n",
    "* $w_{i,j}$ es el peso de conexión entre la $i$ ésima neurona de entrada y la $j$ ésima neurona de salida.\n",
    "* $x_{i}$ es el valor de entrada de la $i$ - ésima instancia de entrenamiento actual."
   ]
  },
  {
   "cell_type": "markdown",
   "id": "e4797c69",
   "metadata": {
    "slideshow": {
     "slide_type": "slide"
    }
   },
   "source": [
    "* $\\hat{y}_{j}$ es la salida de la $j$ - ésima neurona de salida para la instancia de entrenamiento actual.\n",
    "* $y_{j}$ es la salida objetivo de la $j$ - ásima neurona de salida para la instancia de entrenamiento actual.\n",
    "* $\\eta$ es la tasa de aprendizaje."
   ]
  },
  {
   "cell_type": "markdown",
   "id": "586c36ec",
   "metadata": {
    "slideshow": {
     "slide_type": "slide"
    }
   },
   "source": [
    "El límite de decisión de cada neurona de salida es lineal, por lo que los perceptrones son incapaces de aprender patrones complejos (al igual que los clasificadores de regresión logística)."
   ]
  },
  {
   "cell_type": "markdown",
   "id": "6343e1fb",
   "metadata": {
    "slideshow": {
     "slide_type": "slide"
    }
   },
   "source": [
    "Sin embargo, si las instancias de entrenamiento **son linealmente separables**, Rosenblatt demostró que este algoritmo convergería a la solución."
   ]
  },
  {
   "cell_type": "markdown",
   "id": "8e4a8ea0",
   "metadata": {
    "slideshow": {
     "slide_type": "fragment"
    }
   },
   "source": [
    "Esto se llama el **teorema de convergencia del perceptrón**."
   ]
  },
  {
   "cell_type": "markdown",
   "id": "a0f2f238",
   "metadata": {
    "slideshow": {
     "slide_type": "slide"
    }
   },
   "source": [
    "# Scikit-Learn proporciona una clase `Perceptron` que implementa una red de una sola TLU."
   ]
  },
  {
   "cell_type": "markdown",
   "id": "708ae0bf",
   "metadata": {
    "slideshow": {
     "slide_type": "slide"
    }
   },
   "source": [
    "Se puede usar más o menos como cabría esperar, por ejemplo, en el conjunto de datos del iris (presentado en el Capítulo 4):"
   ]
  },
  {
   "cell_type": "code",
   "execution_count": 4,
   "id": "1298141f",
   "metadata": {
    "slideshow": {
     "slide_type": "slide"
    }
   },
   "outputs": [
    {
     "data": {
      "text/plain": [
       "array([0], dtype=int64)"
      ]
     },
     "execution_count": 4,
     "metadata": {},
     "output_type": "execute_result"
    }
   ],
   "source": [
    "import numpy as np\n",
    "import matplotlib.pyplot as plt \n",
    "from sklearn.datasets import load_iris\n",
    "from sklearn.linear_model import Perceptron\n",
    "iris = load_iris()\n",
    "X = iris.data[:, (2, 3)] # petal length, petal width\n",
    "y = (iris.target == 0).astype(np.int64) # Iris setosa?\n",
    "per_clf = Perceptron()\n",
    "per_clf.fit(X, y)\n",
    "y_pred = per_clf.predict([[2, 0.5]]) \n",
    "y_pred"
   ]
  },
  {
   "cell_type": "markdown",
   "id": "f85c9119",
   "metadata": {
    "slideshow": {
     "slide_type": "slide"
    }
   },
   "source": [
    "## Graficación de las clases y del perceptrón clasificador\n"
   ]
  },
  {
   "cell_type": "code",
   "execution_count": 5,
   "id": "84100ff3",
   "metadata": {
    "scrolled": true,
    "slideshow": {
     "slide_type": "slide"
    }
   },
   "outputs": [
    {
     "data": {
      "image/png": "[encoded data removed]",
      "text/plain": [
       "<Figure size 640x480 with 1 Axes>"
      ]
     },
     "metadata": {},
     "output_type": "display_data"
    }
   ],
   "source": [
    "import numpy as np \n",
    "import matplotlib.pyplot as plt \n",
    "\n",
    "fig, ax = plt.subplots()     # creación de la figura y el sistema de ejes\n",
    "ax.set(title = 'Detector de setosa Utilizando un Perceptrón',\\\n",
    "       xlabel = 'longitud pétalo', ylabel = 'ancho de pétalo' )  # darle título a la figura \n",
    "# definir las longitudes del rectángulo de visualización\n",
    "e,f,g,j = np.min(X[:,0])-0.4, np.max(X[:,0])+0.4, np.min(X[:,1])-0.4, np.max(X[:,1])+0.4 \n",
    "ax.axis([e,f,g,j]) \n",
    "\n",
    "#Gráfica de la clase positiva\n",
    "ax.plot(X[:,0][y==1], X[:,1][y==1], 'r.', label = 'clase positiva: Setosa')\n",
    "\n",
    "#Gráfica de la clase negativa\n",
    "ax.plot(X[:,0][y==0], X[:,1][y==0], 'b.', label = 'Clase negativa:No setosa')\n",
    "\n",
    "\n",
    "w0,w1,w2 = per_clf.intercept_[0], per_clf.coef_[0][0], per_clf.coef_[0][1]\n",
    "\n",
    "m, b = -w1/w2, -w0/w2\n",
    "\n",
    "x0 = [e,f]\n",
    "\n",
    "threshold = [e*m + b, f*m+b]\n",
    "\n",
    "ax.plot(x0, threshold, 'k--', label = 'perceptrón')\n",
    "\n",
    "\n",
    "# ponerle convenciones a las clases\n",
    "ax.legend()\n",
    "\n",
    "ax.grid(alpha = 0.4)\n",
    "plt.savefig('clasificacion_con_perceptron.png')\n",
    "\n",
    "plt.show() "
   ]
  },
  {
   "cell_type": "markdown",
   "id": "06c3648d",
   "metadata": {
    "slideshow": {
     "slide_type": "slide"
    }
   },
   "source": [
    "## Inferencias e interpretaciones de la lectura al gráfico anterior  \n",
    "\n",
    "* La setosa es de dimensiones pequeñas\n",
    "* "
   ]
  },
  {
   "cell_type": "markdown",
   "id": "6deb6f8f",
   "metadata": {
    "slideshow": {
     "slide_type": "slide"
    }
   },
   "source": [
    "Es posible que haya notado que **el algoritmo de aprendizaje de Perceptron** se parece mucho al **descenso de gradiente estocástico**."
   ]
  },
  {
   "cell_type": "markdown",
   "id": "c3312376",
   "metadata": {
    "slideshow": {
     "slide_type": "slide"
    }
   },
   "source": [
    "De hecho, la clase `Perceptron` de Scikit-Learn es equivalente a usar un `SGDClassifier` con los siguientes hiperparámetros: `loss=\"perceptron\", learning_rate=\"constant\", eta0=1` (la tasa de aprendizaje) y `penalty=None` (no regularización)."
   ]
  },
  {
   "cell_type": "markdown",
   "id": "ee442445",
   "metadata": {
    "slideshow": {
     "slide_type": "slide"
    }
   },
   "source": [
    "Tenga en cuenta que, a diferencia de los clasificadores de regresión logística, los perceptrones no generan una **probabilidad de clase**;   \n",
    "* más bien, hacen predicciones basadas en un **umbral** estricto."
   ]
  },
  {
   "cell_type": "markdown",
   "id": "82954680",
   "metadata": {
    "slideshow": {
     "slide_type": "slide"
    }
   },
   "source": [
    "Esta es una de las razones para preferir la regresión logística a los perceptrones."
   ]
  },
  {
   "cell_type": "markdown",
   "id": "f8b207ad",
   "metadata": {
    "slideshow": {
     "slide_type": "slide"
    }
   },
   "source": [
    "# El problema de clasificación OR Exclusive (XOR)"
   ]
  },
  {
   "cell_type": "markdown",
   "id": "68f9ddb1",
   "metadata": {
    "slideshow": {
     "slide_type": "fragment"
    }
   },
   "source": [
    "En su monografía Perceptrons de 1969, Marvin Minsky y Seymour Papert destacaron una serie de debilidades graves de los perceptrones, \n",
    "\n",
    "<img src = 'https://interactivechaos.com/sites/default/files/styles/max_800_px/public/2020-09/tutdl_0031.jpg'>"
   ]
  },
  {
   "cell_type": "markdown",
   "id": "b24ec0c2",
   "metadata": {
    "slideshow": {
     "slide_type": "slide"
    }
   },
   "source": [
    "en particular, el hecho de que son incapaces de resolver algunos problemas triviales (por ejemplo, **el problema de clasificación OR Exclusive (XOR)**;   \n",
    "\n",
    "* consulte el lado izquierdo de la Figura 10-6)."
   ]
  },
  {
   "cell_type": "markdown",
   "id": "7a091736",
   "metadata": {
    "slideshow": {
     "slide_type": "slide"
    }
   },
   "source": [
    "<img src = 'https://github.com/marco-canas/7_didactica_ciencia_datos/blob/main/referentes/geron/part_2/c_10/c_10_images/figure_10_6.jpg?raw=true'> "
   ]
  },
  {
   "cell_type": "markdown",
   "id": "4b208e37",
   "metadata": {
    "slideshow": {
     "slide_type": "slide"
    }
   },
   "source": [
    "Esto es cierto para cualquier otro modelo de clasificación lineal (como los clasificadores de regresión logística), "
   ]
  },
  {
   "cell_type": "markdown",
   "id": "e55d6d62",
   "metadata": {
    "slideshow": {
     "slide_type": "slide"
    }
   },
   "source": [
    "pero los investigadores esperaban mucho más de los perceptrones, "
   ]
  },
  {
   "cell_type": "markdown",
   "id": "1721f7d7",
   "metadata": {
    "slideshow": {
     "slide_type": "slide"
    }
   },
   "source": [
    "y algunos estaban tan decepcionados que abandonaron las redes neuronales por completo en favor de problemas de nivel superior como lógica, resolución de problemas y búsqueda."
   ]
  },
  {
   "cell_type": "markdown",
   "id": "74d2fd54",
   "metadata": {
    "slideshow": {
     "slide_type": "slide"
    }
   },
   "source": [
    "# Solución al problema del Perceptron en cuanto a la clasificación XOR"
   ]
  },
  {
   "cell_type": "markdown",
   "id": "59f765d0",
   "metadata": {
    "slideshow": {
     "slide_type": "slide"
    }
   },
   "source": [
    "Resulta que algunas de las limitaciones de los perceptrones pueden eliminarse apilando varios perceptrones. "
   ]
  },
  {
   "cell_type": "markdown",
   "id": "6362ac11",
   "metadata": {
    "slideshow": {
     "slide_type": "slide"
    }
   },
   "source": [
    "La RNA resultante se denomina **perceptrón multicapa** (MLP)."
   ]
  },
  {
   "cell_type": "markdown",
   "id": "ecdd32ec",
   "metadata": {
    "slideshow": {
     "slide_type": "slide"
    }
   },
   "source": [
    "Un MLP puede resolver el problema XOR, como puede verificar calculando la salida del MLP representado en el lado derecho de la Figura 10-6:   \n",
    "* con entradas $(0, 0)$ o $(1, 1)$, la red genera 0, y   \n",
    "* con entradas $(0, 1)$ o $(1, 0)$ genera $1$."
   ]
  },
  {
   "cell_type": "markdown",
   "id": "600979e6",
   "metadata": {
    "slideshow": {
     "slide_type": "slide"
    }
   },
   "source": [
    "Todas las conexiones tienen un peso igual a 1, "
   ]
  },
  {
   "cell_type": "markdown",
   "id": "22b420cf",
   "metadata": {
    "slideshow": {
     "slide_type": "fragment"
    }
   },
   "source": [
    "excepto las cuatro conexiones donde se muestra el peso. "
   ]
  },
  {
   "cell_type": "markdown",
   "id": "44f8a5de",
   "metadata": {
    "slideshow": {
     "slide_type": "slide"
    }
   },
   "source": [
    "¡Intente verificar que esta red realmente resuelve el problema XOR!"
   ]
  },
  {
   "cell_type": "markdown",
   "id": "89de9b9b",
   "metadata": {
    "slideshow": {
     "slide_type": "slide"
    }
   },
   "source": [
    "# Verificación de que la red de Geron resuelve el problema XOR"
   ]
  },
  {
   "cell_type": "code",
   "execution_count": null,
   "id": "0db081ad",
   "metadata": {
    "slideshow": {
     "slide_type": "slide"
    }
   },
   "outputs": [],
   "source": [
    "import numpy as np \n",
    "# constitución del dataset \n",
    "X = np.array([[0,0], [0,1], [1,0], [1,1]])\n",
    "y = np.array([0,1,1,0])\n",
    "\n",
    "def heaviside(z):\n",
    "    if z<0:\n",
    "        return 0\n",
    "    else:\n",
    "        return 1\n",
    "\n",
    "entrada = np.c_[np.ones((4,1)), X]\n",
    "entrada \n",
    "\n",
    "\n",
    "def perceptron2(instancia):\n",
    "    w2 = np.array([-1.5, 1, 1]) \n",
    "    salida2 = heaviside(w2.dot(instancia))\n",
    "    return  salida2\n",
    "\n",
    "def perceptron3(instancia):\n",
    "    w3 = np.array([-0.5, 1, 1]) \n",
    "    salida3 = heaviside(w3.dot(instancia))\n",
    "    return  salida3 \n",
    "\n",
    "def perceptron_salida(a):\n",
    "    w_salida = np.array([-0.5, -1, 1])\n",
    "    return heaviside(w_salida.dot(a))\n",
    "\n",
    "perceptron_salida( np.array([ 1, perceptron2(entrada[3]), perceptron3(entrada[3]) ]))\n",
    "    "
   ]
  },
  {
   "cell_type": "code",
   "execution_count": null,
   "id": "5507feff",
   "metadata": {
    "slideshow": {
     "slide_type": "slide"
    }
   },
   "outputs": [],
   "source": [
    "import numpy as np \n",
    "# constitución del dataset \n",
    "X = np.array([[0,0], [0,1], [1,0], [1,1]])\n",
    "entrada = np.c_[np.ones((4,1)), X]\n",
    "entrada[1]\n",
    "\n"
   ]
  },
  {
   "cell_type": "markdown",
   "id": "b7a7dc1d",
   "metadata": {
    "slideshow": {
     "slide_type": "slide"
    }
   },
   "source": [
    "## El perceptrón multicapa y la retropropagación\n"
   ]
  },
  {
   "cell_type": "markdown",
   "id": "767c9745",
   "metadata": {
    "slideshow": {
     "slide_type": "slide"
    }
   },
   "source": [
    "Una MLP se compone de \n",
    "* una capa de entrada (de paso), \n",
    "* una o más capas de TLU, llamadas capas ocultas, y \n",
    "* una capa final de TLU llamada capa de salida (consulte la Figura 10-7)."
   ]
  },
  {
   "cell_type": "markdown",
   "id": "a2949dc8",
   "metadata": {
    "slideshow": {
     "slide_type": "slide"
    }
   },
   "source": [
    "Las capas cercanas a la capa de entrada generalmente se denominan capas inferiores, y las cercanas a las salidas generalmente se denominan capas superiores."
   ]
  },
  {
   "cell_type": "markdown",
   "id": "5b78dc9c",
   "metadata": {
    "slideshow": {
     "slide_type": "slide"
    }
   },
   "source": [
    "<img src = 'https://github.com/marco-canas/7_didactica_ciencia_datos/blob/main/referentes/geron/part_2/c_10/c_10_images/fig_10_7.png?raw=true'> "
   ]
  },
  {
   "cell_type": "markdown",
   "id": "02c4113d",
   "metadata": {
    "slideshow": {
     "slide_type": "slide"
    }
   },
   "source": [
    "Cada capa, excepto la capa de salida, incluye una **neurona de polarización** y está completamente conectada a la siguiente capa."
   ]
  },
  {
   "cell_type": "markdown",
   "id": "cd05ff2e",
   "metadata": {
    "slideshow": {
     "slide_type": "slide"
    }
   },
   "source": [
    "## Notas"
   ]
  },
  {
   "cell_type": "markdown",
   "id": "01ee6d91",
   "metadata": {
    "slideshow": {
     "slide_type": "slide"
    }
   },
   "source": [
    "La señal fluye solo en una dirección (de las entradas a las salidas), por lo que esta arquitectura es un ejemplo de una **red neuronal feedforward (FNN)**."
   ]
  },
  {
   "cell_type": "markdown",
   "id": "a6dd44f3",
   "metadata": {
    "slideshow": {
     "slide_type": "slide"
    }
   },
   "source": [
    "Cuando una ANN contiene una pila profunda de capas ocultas, se denomina red neuronal profunda (DNN)."
   ]
  },
  {
   "cell_type": "markdown",
   "id": "867a4a22",
   "metadata": {
    "slideshow": {
     "slide_type": "slide"
    }
   },
   "source": [
    "El campo del aprendizaje profundo estudia las DNN y, en general, los modelos que contienen pilas profundas de cálculos."
   ]
  },
  {
   "cell_type": "markdown",
   "id": "63933721",
   "metadata": {
    "slideshow": {
     "slide_type": "slide"
    }
   },
   "source": [
    "Aun así, mucha gente habla de Deep Learning cuando se trata de redes neuronales (incluso superficiales)."
   ]
  },
  {
   "cell_type": "markdown",
   "id": "898bdeb2",
   "metadata": {
    "slideshow": {
     "slide_type": "slide"
    }
   },
   "source": [
    "Durante muchos años, los investigadores lucharon por encontrar una manera de entrenar a los MLP, sin éxito."
   ]
  },
  {
   "cell_type": "markdown",
   "id": "a24dfead",
   "metadata": {
    "slideshow": {
     "slide_type": "slide"
    }
   },
   "source": [
    "Pero en 1986, David Rumelhart, Geoffrey Hinton y Ronald Williams publicaron un artículo innovador que introdujo la\n",
    "algoritmo de entrenamiento de retropropagación, que todavía se usa en la actualidad.\n",
    "\n",
    "<img src = ''>"
   ]
  },
  {
   "cell_type": "markdown",
   "id": "1d83ff3f",
   "metadata": {
    "slideshow": {
     "slide_type": "slide"
    }
   },
   "source": [
    "En resumen, es Gradient Descent (presentado en el Capítulo 4) que utiliza una técnica eficiente para calcular los gradientes automáticamente: en solo dos pasadas a través de la red (una hacia adelante y otra hacia atrás), el algoritmo de retropropagación puede calcular el gradiente de la red o error con respecto a cada parámetro del modelo. "
   ]
  },
  {
   "cell_type": "markdown",
   "id": "d05bb67e",
   "metadata": {
    "slideshow": {
     "slide_type": "slide"
    }
   },
   "source": [
    "En otras palabras, puede averiguar cómo se debe ajustar cada peso de conexión y cada término de sesgo para reducir el error."
   ]
  },
  {
   "cell_type": "markdown",
   "id": "d6213116",
   "metadata": {
    "slideshow": {
     "slide_type": "slide"
    }
   },
   "source": [
    "Una vez que tiene estos gradientes, simplemente realiza un paso de descenso de gradiente regular y todo el proceso se repite hasta que la red converge a la solución."
   ]
  },
  {
   "cell_type": "markdown",
   "id": "77162cbf",
   "metadata": {
    "slideshow": {
     "slide_type": "slide"
    }
   },
   "source": [
    "## Notas "
   ]
  },
  {
   "cell_type": "markdown",
   "id": "885c073f",
   "metadata": {
    "slideshow": {
     "slide_type": "slide"
    }
   },
   "source": [
    "El cálculo automático de gradientes se denomina diferenciación automática o autodiff."
   ]
  },
  {
   "cell_type": "markdown",
   "id": "b17210b9",
   "metadata": {
    "slideshow": {
     "slide_type": "slide"
    }
   },
   "source": [
    "Existen varias técnicas de autodiferenciación, con diferentes pros y contras. "
   ]
  },
  {
   "cell_type": "markdown",
   "id": "0e271af4",
   "metadata": {
    "slideshow": {
     "slide_type": "slide"
    }
   },
   "source": [
    "El que usa la retropropagación se llama diferenciación automática en modo inverso."
   ]
  },
  {
   "cell_type": "markdown",
   "id": "46abd17f",
   "metadata": {
    "slideshow": {
     "slide_type": "slide"
    }
   },
   "source": [
    "Es rápido y preciso, y es adecuado cuando la función para diferenciar tiene muchas variables (p. ej., pesos de conexión) y pocas salidas (p. ej., una pérdida)."
   ]
  },
  {
   "cell_type": "markdown",
   "id": "3cdcd823",
   "metadata": {
    "slideshow": {
     "slide_type": "slide"
    }
   },
   "source": [
    "Si desea obtener más información sobre autodiff, consulte el Apéndice D."
   ]
  },
  {
   "cell_type": "markdown",
   "id": "a3397ede",
   "metadata": {
    "slideshow": {
     "slide_type": "slide"
    }
   },
   "source": [
    "Analicemos este algoritmo con un poco más de detalle: \n",
    "* maneja un mini lote a la vez (por ejemplo, que contiene 32 instancias cada uno) y \n",
    "* pasa por el conjunto de entrenamiento completo varias veces."
   ]
  },
  {
   "cell_type": "markdown",
   "id": "423b2650",
   "metadata": {
    "slideshow": {
     "slide_type": "slide"
    }
   },
   "source": [
    "Cada paso se llama una época."
   ]
  },
  {
   "cell_type": "markdown",
   "id": "f381843b",
   "metadata": {
    "slideshow": {
     "slide_type": "slide"
    }
   },
   "source": [
    "Cada minilote se pasa a la capa de entrada de la red, que lo envía a la primera capa oculta."
   ]
  },
  {
   "cell_type": "markdown",
   "id": "9b0c7e9c",
   "metadata": {
    "slideshow": {
     "slide_type": "slide"
    }
   },
   "source": [
    "Luego, el algoritmo calcula la salida de todas las neuronas en esta capa (para cada instancia en el mini lote)."
   ]
  },
  {
   "cell_type": "markdown",
   "id": "144103c8",
   "metadata": {
    "slideshow": {
     "slide_type": "slide"
    }
   },
   "source": [
    "El resultado se pasa a la siguiente capa, su salida se calcula y se pasa a la siguiente capa, y así sucesivamente hasta que obtengamos la salida de la última capa, la capa de salida."
   ]
  },
  {
   "cell_type": "markdown",
   "id": "a82d32b3",
   "metadata": {
    "slideshow": {
     "slide_type": "slide"
    }
   },
   "source": [
    "Este es el pase hacia adelante: es exactamente como hacer predicciones, excepto que todos los resultados intermedios se conservan ya que son necesarios para el pase hacia atrás."
   ]
  },
  {
   "cell_type": "markdown",
   "id": "aed898e9",
   "metadata": {
    "slideshow": {
     "slide_type": "slide"
    }
   },
   "source": [
    "A continuación, el algoritmo mide el error de salida de la red (es decir, utiliza una función de pérdida que compara la salida deseada y la salida real de la red y devuelve alguna medida del error)."
   ]
  },
  {
   "cell_type": "markdown",
   "id": "878d18eb",
   "metadata": {
    "slideshow": {
     "slide_type": "slide"
    }
   },
   "source": [
    "Luego calcula cuánto contribuyó cada conexión de salida al error."
   ]
  },
  {
   "cell_type": "markdown",
   "id": "fe4289dc",
   "metadata": {
    "slideshow": {
     "slide_type": "slide"
    }
   },
   "source": [
    "Esto se hace analíticamente aplicando la regla de la cadena (quizás la regla más fundamental en cálculo), lo que hace que este paso sea rápido y preciso."
   ]
  },
  {
   "cell_type": "markdown",
   "id": "e0ee2bda",
   "metadata": {
    "slideshow": {
     "slide_type": "slide"
    }
   },
   "source": [
    "Luego, el algoritmo mide cuánto de estas contribuciones de error provienen de cada conexión en la capa inferior, nuevamente usando la regla de la cadena, trabajando hacia atrás hasta que el algoritmo llega a la capa de entrada."
   ]
  },
  {
   "cell_type": "markdown",
   "id": "66501936",
   "metadata": {
    "slideshow": {
     "slide_type": "slide"
    }
   },
   "source": [
    "Como se explicó anteriormente, este paso inverso mide de manera eficiente el gradiente de error en todos los pesos de conexión en la red al propagar el gradiente de error hacia atrás a través de la red (de ahí el nombre del algoritmo)."
   ]
  },
  {
   "cell_type": "markdown",
   "id": "a0acd277",
   "metadata": {
    "slideshow": {
     "slide_type": "slide"
    }
   },
   "source": [
    "Finalmente, el algoritmo realiza un paso de descenso de gradiente para ajustar todos los pesos de conexión en la red, utilizando los gradientes de error que acaba de calcular."
   ]
  },
  {
   "cell_type": "markdown",
   "id": "36f1a8ee",
   "metadata": {
    "slideshow": {
     "slide_type": "slide"
    }
   },
   "source": [
    "Este algoritmo es tan importante que vale la pena resumirlo nuevamente: \n",
    "* para cada instancia de entrenamiento, el algoritmo de propagación hacia atrás primero hace una predicción (paso hacia adelante) y mide el error, \n",
    "* luego pasa por cada capa en sentido inverso para medir la contribución de error de cada conexión (paso hacia atrás). pass), \n",
    "*by finalmente modifica los pesos de conexión para reducir el error (paso de descenso de gradiente)."
   ]
  },
  {
   "cell_type": "markdown",
   "id": "cf080353",
   "metadata": {
    "slideshow": {
     "slide_type": "slide"
    }
   },
   "source": [
    "## ADVERTENCIA"
   ]
  },
  {
   "cell_type": "markdown",
   "id": "224fc7eb",
   "metadata": {
    "slideshow": {
     "slide_type": "slide"
    }
   },
   "source": [
    "Es importante inicializar aleatoriamente todos los pesos de conexión de las capas ocultas, de lo contrario, el entrenamiento fallará. "
   ]
  },
  {
   "cell_type": "markdown",
   "id": "5dfcedcc",
   "metadata": {
    "slideshow": {
     "slide_type": "slide"
    }
   },
   "source": [
    "Por ejemplo, si inicializa todos los pesos y sesgos a cero, todas las neuronas en una capa determinada serán perfectamente idénticas y, por lo tanto, la retropropagación las afectará exactamente de la misma manera, por lo que permanecerán idénticas."
   ]
  },
  {
   "cell_type": "markdown",
   "id": "fde55bea",
   "metadata": {
    "slideshow": {
     "slide_type": "slide"
    }
   },
   "source": [
    "En otras palabras, a pesar de tener cientos de neuronas por capa, tu modelo actuará como si tuviera solo una neurona por capa: no será demasiado inteligente."
   ]
  },
  {
   "cell_type": "markdown",
   "id": "922199a4",
   "metadata": {
    "slideshow": {
     "slide_type": "slide"
    }
   },
   "source": [
    "Si, en cambio, inicializa aleatoriamente los pesos, rompe la simetría y permite que la retropropagación entrene a un equipo diverso de neuronas."
   ]
  },
  {
   "cell_type": "markdown",
   "id": "2b1818dc",
   "metadata": {
    "slideshow": {
     "slide_type": "slide"
    }
   },
   "source": [
    "Para que este algoritmo funcione correctamente, sus autores realizaron un cambio clave en la arquitectura de MLP: reemplazaron la función de paso con la función logística (sigmoidea), \n",
    "\n",
    "$$ \\sigma(z) = \\frac{1}{1 + \\exp(–z)} $$"
   ]
  },
  {
   "cell_type": "markdown",
   "id": "b02051d8",
   "metadata": {
    "slideshow": {
     "slide_type": "slide"
    }
   },
   "source": [
    "Esto era esencial porque la función de paso contiene solo segmentos planos, por lo que no hay gradiente con el que trabajar (Gradient Descent no puede moverse sobre una superficie plana), mientras que la función logística tiene una derivada distinta de cero bien definida en todas partes, lo que permite que Gradient Descent haga algunos cambios o progresos en cada paso."
   ]
  },
  {
   "cell_type": "markdown",
   "id": "9dbc164e",
   "metadata": {
    "slideshow": {
     "slide_type": "slide"
    }
   },
   "source": [
    "De hecho, el algoritmo de retropropagación funciona bien con muchas otras funciones de activación, no solo con la función logística."
   ]
  },
  {
   "cell_type": "markdown",
   "id": "ba667b68",
   "metadata": {
    "slideshow": {
     "slide_type": "slide"
    }
   },
   "source": [
    "Aquí hay otras dos opciones populares: \n",
    "* La función tangente hiperbólica: \n",
    "\n",
    "$$ \\tanh(z) = 2\\sigma(2z) – 1 $$"
   ]
  },
  {
   "cell_type": "markdown",
   "id": "74fc5fe9",
   "metadata": {
    "slideshow": {
     "slide_type": "slide"
    }
   },
   "source": [
    "Al igual que la función logística, esta función de activación tiene forma de S, continua y diferenciable, pero su valor de salida oscila entre -1 y 1 (en lugar de 0 a 1 en el caso de la función logística)."
   ]
  },
  {
   "cell_type": "markdown",
   "id": "5b714a65",
   "metadata": {
    "slideshow": {
     "slide_type": "slide"
    }
   },
   "source": [
    "Ese rango tiende a hacer que la salida de cada capa se centre más o menos alrededor de 0 al comienzo del entrenamiento, lo que a menudo ayuda a acelerar la convergencia."
   ]
  },
  {
   "cell_type": "markdown",
   "id": "c9868c29",
   "metadata": {
    "slideshow": {
     "slide_type": "slide"
    }
   },
   "source": [
    "* La función de Unidad Lineal Rectificada: \n",
    "\n",
    "$$ ReLU(z) = max(0, z) $$"
   ]
  },
  {
   "cell_type": "markdown",
   "id": "00e5d07c",
   "metadata": {
    "slideshow": {
     "slide_type": "slide"
    }
   },
   "source": [
    "La función ReLU es continua pero desafortunadamente no diferenciable en $z = 0$ (la pendiente cambia abruptamente, lo que puede hacer que el descenso de gradiente rebote), y su derivada es 0 para $z < 0$."
   ]
  },
  {
   "cell_type": "markdown",
   "id": "225ce7e1",
   "metadata": {
    "slideshow": {
     "slide_type": "slide"
    }
   },
   "source": [
    "En la práctica, sin embargo, funciona muy bien y tiene la ventaja de ser rápido de calcular, por lo que se ha convertido en el predeterminado."
   ]
  },
  {
   "cell_type": "markdown",
   "id": "7112abbf",
   "metadata": {
    "slideshow": {
     "slide_type": "slide"
    }
   },
   "source": [
    "Lo que es más importante, el hecho de que no tenga un valor de salida máximo ayuda a reducir algunos problemas durante el Descenso de gradiente (volveremos a esto en el Capítulo 11). "
   ]
  },
  {
   "cell_type": "markdown",
   "id": "4d012501",
   "metadata": {
    "slideshow": {
     "slide_type": "slide"
    }
   },
   "source": [
    "Estas funciones de activación populares y sus derivados se representan en la figura 10-8."
   ]
  },
  {
   "cell_type": "markdown",
   "id": "f9f182c5",
   "metadata": {
    "slideshow": {
     "slide_type": "slide"
    }
   },
   "source": [
    "¡Pero espera! ¿Por qué necesitamos funciones de activación en primer lugar?"
   ]
  },
  {
   "cell_type": "markdown",
   "id": "8d768919",
   "metadata": {
    "slideshow": {
     "slide_type": "slide"
    }
   },
   "source": [
    "Bueno, si encadenas varias transformaciones lineales, todo lo que obtienes es una transformación lineal."
   ]
  },
  {
   "cell_type": "markdown",
   "id": "41ccf30f",
   "metadata": {
    "slideshow": {
     "slide_type": "slide"
    }
   },
   "source": [
    "Por ejemplo, si $f(x) = 2x + 3$ y $g(x) = 5x – 1$, al encadenar estas dos funciones lineales se obtiene otra función lineal: $f(g(x)) = 2(5x – 1) + 3 = 10x + 1$."
   ]
  },
  {
   "cell_type": "markdown",
   "id": "b7a41c26",
   "metadata": {
    "slideshow": {
     "slide_type": "slide"
    }
   },
   "source": [
    "Entonces, si no hay algo de no linealidad entre las capas, incluso una gran pila de capas es equivalente a una sola capa, y no puede resolver problemas muy complejos con eso."
   ]
  },
  {
   "cell_type": "markdown",
   "id": "81fff8b7",
   "metadata": {
    "slideshow": {
     "slide_type": "slide"
    }
   },
   "source": [
    "Por el contrario, una DNN lo suficientemente grande con activaciones no lineales teóricamente puede aproximarse a cualquier función continua."
   ]
  },
  {
   "cell_type": "markdown",
   "id": "86ac0d0e",
   "metadata": {
    "slideshow": {
     "slide_type": "slide"
    }
   },
   "source": [
    "<img src = 'https://github.com/marco-canas/didactica_ciencia_datos/blob/main/referentes/2_geron/part_2/c_10/figure_10_8.jpg?raw=true'>"
   ]
  },
  {
   "cell_type": "code",
   "execution_count": null,
   "id": "dd9ce1b5",
   "metadata": {
    "slideshow": {
     "slide_type": "slide"
    }
   },
   "outputs": [],
   "source": [
    "# Gráfica de las funciones de activación y sus derivadas\n",
    "\n",
    "import numpy as np \n",
    "from matplotlib import pyplot as plt \n",
    "\n",
    "z = np.arange(-5,6, 0.01)  \n",
    "\n",
    "sigmoid = 1/(1 + np.exp(-z)) \n",
    "\n",
    "plt.subplot(1,2,1)\n",
    "plt.plot(z,sigmoid) \n",
    "plt.grid() \n",
    "\n",
    "\n",
    "plt.subplot(1,2,2) # gráfico de la derivada de la función sigmoide\n",
    "# https://interactivechaos.com/es/manual/tutorial-de-deep-learning/derivada-de-la-funcion-sigmoide\n",
    "plt.plot(z,sigmoid*(1-sigmoid))  \n",
    "plt.grid()\n",
    "\n",
    "plt.savefig('sigmoid.jpg') \n",
    "\n",
    "plt.show()\n",
    "\n"
   ]
  },
  {
   "cell_type": "markdown",
   "id": "75a3c530",
   "metadata": {
    "slideshow": {
     "slide_type": "slide"
    }
   },
   "source": [
    "¡OK! Sabe de dónde provienen las redes neuronales, cuál es su arquitectura y cómo calcular sus resultados."
   ]
  },
  {
   "cell_type": "markdown",
   "id": "40b7f6b7",
   "metadata": {
    "slideshow": {
     "slide_type": "slide"
    }
   },
   "source": [
    "También aprendiste sobre el algoritmo de retropropagación."
   ]
  },
  {
   "cell_type": "markdown",
   "id": "6f6fe221",
   "metadata": {
    "slideshow": {
     "slide_type": "slide"
    }
   },
   "source": [
    "¿Pero qué puedes hacer exactamente con ellos?"
   ]
  },
  {
   "cell_type": "markdown",
   "id": "8d8c3462",
   "metadata": {
    "slideshow": {
     "slide_type": "slide"
    }
   },
   "source": [
    "## Regression MLPs"
   ]
  },
  {
   "cell_type": "markdown",
   "id": "536166c4",
   "metadata": {
    "slideshow": {
     "slide_type": "slide"
    }
   },
   "source": [
    "Primero, las MLP se pueden usar para tareas de regresión."
   ]
  },
  {
   "cell_type": "markdown",
   "id": "453e0f79",
   "metadata": {
    "slideshow": {
     "slide_type": "slide"
    }
   },
   "source": [
    "Si desea predecir un solo valor (por ejemplo, el precio de una casa, dadas muchas de sus características), solo necesita una única neurona de salida: su salida es el valor predicho."
   ]
  },
  {
   "cell_type": "markdown",
   "id": "834ab9d9",
   "metadata": {
    "slideshow": {
     "slide_type": "slide"
    }
   },
   "source": [
    "Para la regresión multivariada (es decir, para predecir varios valores a la vez), necesita una neurona de salida por dimensión de salida."
   ]
  },
  {
   "cell_type": "markdown",
   "id": "10586824",
   "metadata": {
    "slideshow": {
     "slide_type": "slide"
    }
   },
   "source": [
    "Por ejemplo, para ubicar el centro de un objeto en una imagen, debe predecir las coordenadas 2D, por lo que necesita dos neuronas de salida."
   ]
  },
  {
   "cell_type": "markdown",
   "id": "8a84ff6d",
   "metadata": {
    "slideshow": {
     "slide_type": "slide"
    }
   },
   "source": [
    "Si también desea colocar un cuadro delimitador alrededor del objeto, necesita dos números más: el ancho y el alto del objeto."
   ]
  },
  {
   "cell_type": "markdown",
   "id": "6d18ac97",
   "metadata": {
    "slideshow": {
     "slide_type": "slide"
    }
   },
   "source": [
    "Entonces, terminas con cuatro neuronas de salida."
   ]
  },
  {
   "cell_type": "markdown",
   "id": "2485d6d0",
   "metadata": {
    "slideshow": {
     "slide_type": "slide"
    }
   },
   "source": [
    "En general, al construir una MLP para la regresión, no desea utilizar ninguna función de activación para las neuronas de salida, por lo que son libres de generar cualquier rango de valores."
   ]
  },
  {
   "cell_type": "markdown",
   "id": "06d14ddd",
   "metadata": {
    "slideshow": {
     "slide_type": "slide"
    }
   },
   "source": [
    "Si desea garantizar que la salida siempre será positiva, puede usar la función de activación de ReLU en la capa de salida."
   ]
  },
  {
   "cell_type": "markdown",
   "id": "5ada18b2",
   "metadata": {
    "slideshow": {
     "slide_type": "slide"
    }
   },
   "source": [
    "Alternativamente, puede usar la función de activación de softplus, que es una variante suave de ReLU: \n",
    "\n",
    "$$ softplus(z) = log(1 + exp(z)). $$ "
   ]
  },
  {
   "cell_type": "markdown",
   "id": "aeed1573",
   "metadata": {
    "slideshow": {
     "slide_type": "slide"
    }
   },
   "source": [
    "Es cercano a 0 cuando $z$ es negativo y cercano a $z$ cuando $z$ es positivo."
   ]
  },
  {
   "cell_type": "markdown",
   "id": "5959d358",
   "metadata": {
    "slideshow": {
     "slide_type": "slide"
    }
   },
   "source": [
    "Finalmente, si desea garantizar que las predicciones se encuentran dentro de un rango de valores dado, puede usar la función logística o la tangente hiperbólica y luego escalar las etiquetas al rango apropiado:   \n",
    "\n",
    "* 0 a 1 para la función logística y \n",
    "* – 1 a 1 para la tangente hiperbólica."
   ]
  },
  {
   "cell_type": "markdown",
   "id": "543dbdad",
   "metadata": {
    "slideshow": {
     "slide_type": "slide"
    }
   },
   "source": [
    "La función de pérdida que se usa durante el entrenamiento suele ser el error cuadrático medio, pero si tiene muchos valores atípicos en el conjunto de entrenamiento, es posible que prefiera usar el error absoluto medio en su lugar."
   ]
  },
  {
   "cell_type": "markdown",
   "id": "beb3b0d4",
   "metadata": {
    "slideshow": {
     "slide_type": "slide"
    }
   },
   "source": [
    "Alternativamente, puede usar la pérdida de Huber, que es una combinación de ambos."
   ]
  },
  {
   "cell_type": "markdown",
   "id": "9630ff3e",
   "metadata": {
    "slideshow": {
     "slide_type": "slide"
    }
   },
   "source": [
    "### Sugerencia"
   ]
  },
  {
   "cell_type": "markdown",
   "id": "4bd3fa76",
   "metadata": {
    "slideshow": {
     "slide_type": "slide"
    }
   },
   "source": [
    "La pérdida de Huber es cuadrática cuando el error es menor que un umbral $\\delta$ (típicamente 1) pero lineal cuando el error es mayor que $\\delta$."
   ]
  },
  {
   "cell_type": "markdown",
   "id": "5f531ad5",
   "metadata": {
    "slideshow": {
     "slide_type": "slide"
    }
   },
   "source": [
    "La parte lineal lo hace menos sensible a los valores atípicos que el error cuadrático medio, y la parte cuadrática le permite converger más rápido y ser más preciso que el error absoluto medio."
   ]
  },
  {
   "cell_type": "markdown",
   "id": "f9fd5f2b",
   "metadata": {
    "slideshow": {
     "slide_type": "slide"
    }
   },
   "source": [
    "Table 10-1 summarizes the typical architecture of a regression MLP  \n",
    "<img src = 'https://github.com/marco-canas/7_didactica_ciencia_datos/blob/main/referentes/geron/part_2/c_10/c_10_images/table_10_1.jpg?raw=true'>"
   ]
  },
  {
   "cell_type": "markdown",
   "id": "d31fbdde",
   "metadata": {
    "slideshow": {
     "slide_type": "slide"
    }
   },
   "source": [
    "## Classification MLPs"
   ]
  },
  {
   "cell_type": "markdown",
   "id": "bcfff821",
   "metadata": {
    "slideshow": {
     "slide_type": "slide"
    }
   },
   "source": [
    "Las MLP también se pueden utilizar para tareas de clasificación."
   ]
  },
  {
   "cell_type": "markdown",
   "id": "72b90453",
   "metadata": {
    "slideshow": {
     "slide_type": "slide"
    }
   },
   "source": [
    "Para un problema de clasificación binaria, solo necesita una sola neurona de salida usando la función de activación logística: \n",
    "* la salida será un número entre 0 y 1, que puede interpretar como la probabilidad estimada de la clase positiva."
   ]
  },
  {
   "cell_type": "markdown",
   "id": "0dcfd72f",
   "metadata": {
    "slideshow": {
     "slide_type": "slide"
    }
   },
   "source": [
    "La probabilidad estimada de la clase negativa es igual a uno menos ese número."
   ]
  },
  {
   "cell_type": "markdown",
   "id": "0db1297b",
   "metadata": {
    "slideshow": {
     "slide_type": "slide"
    }
   },
   "source": [
    "Las MLP también pueden manejar fácilmente tareas de clasificación binaria multietiqueta (consulte el Capítulo 3)."
   ]
  },
  {
   "cell_type": "markdown",
   "id": "c26e660c",
   "metadata": {
    "slideshow": {
     "slide_type": "slide"
    }
   },
   "source": [
    "Por ejemplo, podría tener un sistema de clasificación de correo electrónico que prediga si cada correo electrónico entrante es spam o no deseado y, al mismo tiempo, predice si es un correo electrónico urgente o no urgente."
   ]
  },
  {
   "cell_type": "markdown",
   "id": "0ce23c06",
   "metadata": {
    "slideshow": {
     "slide_type": "slide"
    }
   },
   "source": [
    "En este caso, necesitaría dos neuronas de salida, ambas utilizando la función de activación logística: la primera generaría la probabilidad de que el correo electrónico sea spam y la segunda generaría la probabilidad de que sea urgente."
   ]
  },
  {
   "cell_type": "markdown",
   "id": "cb14f0c9",
   "metadata": {
    "slideshow": {
     "slide_type": "slide"
    }
   },
   "source": [
    "De manera más general, dedicaría una neurona de salida para cada clase positiva."
   ]
  },
  {
   "cell_type": "markdown",
   "id": "ac641f3e",
   "metadata": {
    "slideshow": {
     "slide_type": "slide"
    }
   },
   "source": [
    "Tenga en cuenta que las probabilidades de salida no necesariamente suman 1."
   ]
  },
  {
   "cell_type": "markdown",
   "id": "a04c8331",
   "metadata": {
    "slideshow": {
     "slide_type": "slide"
    }
   },
   "source": [
    "Esto permite que el modelo genere cualquier combinación de etiquetas: puede tener \n",
    "\n",
    "* deseado no urgente,\n",
    "* deseado urgente, \n",
    "* spam no urgente y \n",
    "* tal vez incluso spam urgente (aunque eso probablemente sería un error)."
   ]
  },
  {
   "cell_type": "markdown",
   "id": "c05e8e2e",
   "metadata": {
    "slideshow": {
     "slide_type": "slide"
    }
   },
   "source": [
    "Si cada instancia puede pertenecer solo a una sola clase, de tres o más clases posibles (por ejemplo, clases 0 a 9 para la clasificación de imágenes de dígitos), entonces necesita tener una neurona de salida por clase y debe usar la función de activación softmax para toda la capa de salida (consulte la Figura 10-9)."
   ]
  },
  {
   "cell_type": "markdown",
   "id": "0fb99c2f",
   "metadata": {
    "slideshow": {
     "slide_type": "slide"
    }
   },
   "source": [
    "La función softmax (presentada en el Capítulo 4) garantizará que todas las probabilidades estimadas estén entre 0 y 1 y que sumen 1 (lo cual es obligatorio si las clases son exclusivas)."
   ]
  },
  {
   "cell_type": "markdown",
   "id": "5d622ad3",
   "metadata": {
    "slideshow": {
     "slide_type": "slide"
    }
   },
   "source": [
    "Esto se llama clasificación multiclase."
   ]
  },
  {
   "cell_type": "markdown",
   "id": "474f835c",
   "metadata": {
    "slideshow": {
     "slide_type": "slide"
    }
   },
   "source": [
    "<img src = 'https://github.com/marco-canas/didactica_ciencia_datos/blob/main/referentes/2_geron/part_2/c_10/figure_10_9.jpg?raw=true'>"
   ]
  },
  {
   "cell_type": "markdown",
   "id": "ea4395c1",
   "metadata": {
    "slideshow": {
     "slide_type": "slide"
    }
   },
   "source": [
    "Con respecto a la función de pérdida, dado que estamos prediciendo distribuciones de probabilidad, la pérdida de entropía cruzada (también llamada pérdida logarítmica, consulte el Capítulo 4) generalmente es una buena opción."
   ]
  },
  {
   "cell_type": "markdown",
   "id": "dea68b28",
   "metadata": {
    "slideshow": {
     "slide_type": "slide"
    }
   },
   "source": [
    "La tabla 10-2 resume la arquitectura típica de una clasificación MLP."
   ]
  },
  {
   "cell_type": "markdown",
   "id": "b1be0b0e",
   "metadata": {
    "slideshow": {
     "slide_type": "slide"
    }
   },
   "source": [
    "<img src = 'https://github.com/marco-canas/didactica_ciencia_datos/blob/main/referentes/2_geron/part_2/c_10/table_10_2.jpg?raw=true'>"
   ]
  },
  {
   "cell_type": "markdown",
   "id": "697654d4",
   "metadata": {
    "slideshow": {
     "slide_type": "slide"
    }
   },
   "source": [
    "### Sugerencia"
   ]
  },
  {
   "cell_type": "markdown",
   "id": "8594a758",
   "metadata": {
    "slideshow": {
     "slide_type": "slide"
    }
   },
   "source": [
    "Antes de continuar, le recomiendo que realice el ejercicio 1 al final de este capítulo."
   ]
  },
  {
   "cell_type": "markdown",
   "id": "381b8f5e",
   "metadata": {
    "slideshow": {
     "slide_type": "slide"
    }
   },
   "source": [
    "Jugará con varias arquitecturas de redes neuronales y visualizará sus resultados utilizando [TensorFlow Playground](https://playground.tensorflow.org/#activation=tanh&batchSize=10&dataset=circle&regDataset=reg-plane&learningRate=0.03&regularizationRate=0&noise=0&networkShape=4,2&seed=0.48458&showTestData=false&discretize=false&percTrainData=50&x=true&y=true&xTimesY=false&xSquared=false&ySquared=false&cosX=false&sinX=false&cosY=false&sinY=false&collectStats=false&problem=classification&initZero=false&hideText=false). "
   ]
  },
  {
   "cell_type": "markdown",
   "id": "ab13611b",
   "metadata": {
    "slideshow": {
     "slide_type": "slide"
    }
   },
   "source": [
    "Esto será muy útil para comprender mejor las MLP, incluidos los efectos de todos los hiperparámetros (número de capas y neuronas, funciones de activación y más)."
   ]
  },
  {
   "cell_type": "markdown",
   "id": "f92a5aa7",
   "metadata": {
    "slideshow": {
     "slide_type": "slide"
    }
   },
   "source": [
    "¡Ahora tiene todos los conceptos que necesita para comenzar a implementar MLP con Keras!"
   ]
  },
  {
   "cell_type": "markdown",
   "id": "165997ce",
   "metadata": {
    "slideshow": {
     "slide_type": "slide"
    }
   },
   "source": [
    "## Implementación de una MLP con Keras. Página 379 de Geron"
   ]
  },
  {
   "cell_type": "markdown",
   "id": "fbff1214",
   "metadata": {
    "slideshow": {
     "slide_type": "slide"
    }
   },
   "source": [
    "Keras es una API de aprendizaje profundo de alto nivel que le permite \n",
    "* construir, \n",
    "* entrenar, \n",
    "* evaluar \n",
    "* y ejecutar \n",
    "\n",
    "fácilmente todo tipo de redes neuronales."
   ]
  },
  {
   "cell_type": "markdown",
   "id": "d7ffa70a",
   "metadata": {
    "slideshow": {
     "slide_type": "slide"
    }
   },
   "source": [
    "Su documentación (o especificación) está disponible en https://keras.io/."
   ]
  },
  {
   "cell_type": "markdown",
   "id": "f09005c2",
   "metadata": {
    "slideshow": {
     "slide_type": "slide"
    }
   },
   "source": [
    "La implementación de referencia, también llamada Keras, fue desarrollada por François Chollet como parte de un proyecto de investigación y se lanzó como proyecto de código abierto en marzo de 2015."
   ]
  },
  {
   "cell_type": "markdown",
   "id": "bc9b5e92",
   "metadata": {
    "slideshow": {
     "slide_type": "slide"
    }
   },
   "source": [
    "Rápidamente ganó popularidad debido a su facilidad de uso, flexibilidad y hermoso diseño."
   ]
  },
  {
   "cell_type": "markdown",
   "id": "a219741a",
   "metadata": {
    "slideshow": {
     "slide_type": "slide"
    }
   },
   "source": [
    "Para realizar los cálculos pesados que requieren las redes neuronales, esta implementación de referencia se basa en un backend de cómputo. "
   ]
  },
  {
   "cell_type": "markdown",
   "id": "9c2fe564",
   "metadata": {
    "slideshow": {
     "slide_type": "slide"
    }
   },
   "source": [
    "En la actualidad, puede elegir entre tres bibliotecas populares de aprendizaje profundo de código abierto: \n",
    "* TensorFlow, \n",
    "* Microsoft Cognitive Toolkit (CNTK) y \n",
    "* Theano."
   ]
  },
  {
   "cell_type": "markdown",
   "id": "f8b12a58",
   "metadata": {
    "slideshow": {
     "slide_type": "slide"
    }
   },
   "source": [
    "Por lo tanto, para evitar confusiones, nos referiremos a esta implementación de referencia como Keras multibackend."
   ]
  },
  {
   "cell_type": "markdown",
   "id": "9ea24878",
   "metadata": {
    "slideshow": {
     "slide_type": "slide"
    }
   },
   "source": [
    "Desde finales de 2016, se han lanzado otras implementaciones."
   ]
  },
  {
   "cell_type": "markdown",
   "id": "32da7307",
   "metadata": {
    "slideshow": {
     "slide_type": "slide"
    }
   },
   "source": [
    "Ahora puede ejecutar Keras en Apache MXNet, Core ML de Apple, JavaScript o TypeScript (para ejecutar el código Keras en un navegador web) y PlaidML (que puede ejecutarse en todo tipo de dispositivos GPU, no solo en Nvidia)."
   ]
  },
  {
   "cell_type": "markdown",
   "id": "f45a830b",
   "metadata": {
    "slideshow": {
     "slide_type": "slide"
    }
   },
   "source": [
    "Además, el propio TensorFlow ahora viene con su propia implementación de Keras, `tf.keras`."
   ]
  },
  {
   "cell_type": "markdown",
   "id": "7b93c589",
   "metadata": {
    "slideshow": {
     "slide_type": "slide"
    }
   },
   "source": [
    "Solo es compatible con TensorFlow como backend, pero tiene la ventaja de ofrecer algunas características adicionales muy útiles (consulte la Figura 10-10): por ejemplo, es compatible con la API de datos de TensorFlow, lo que facilita la carga y el preprocesamiento de datos de manera eficiente."
   ]
  },
  {
   "cell_type": "markdown",
   "id": "d4203186",
   "metadata": {
    "slideshow": {
     "slide_type": "slide"
    }
   },
   "source": [
    "Por esta razón, usaremos `tf.keras` en este libro."
   ]
  },
  {
   "cell_type": "markdown",
   "id": "ad2afebd",
   "metadata": {
    "slideshow": {
     "slide_type": "slide"
    }
   },
   "source": [
    "Sin embargo, en este capítulo no usaremos ninguna de las características específicas de TensorFlow, por lo que el código también debería funcionar bien en otras implementaciones de Keras (al menos en Python), con solo modificaciones menores, como cambiar las importaciones."
   ]
  },
  {
   "cell_type": "markdown",
   "id": "d38da59e",
   "metadata": {
    "slideshow": {
     "slide_type": "slide"
    }
   },
   "source": [
    "<img src = 'https://github.com/marco-canas/7_didactica_ciencia_datos/blob/main/referentes/geron/part_2/c_10/c_10_images/figure_10_10.png?raw=true'>"
   ]
  },
  {
   "cell_type": "markdown",
   "id": "6d953127",
   "metadata": {
    "slideshow": {
     "slide_type": "slide"
    }
   },
   "source": [
    "La biblioteca de aprendizaje profundo más popular, después de Keras y TensorFlow, es la biblioteca PyTorch de Facebook."
   ]
  },
  {
   "cell_type": "markdown",
   "id": "6f03a5c3",
   "metadata": {
    "slideshow": {
     "slide_type": "slide"
    }
   },
   "source": [
    "La buena noticia es que su API es bastante similar a la de Keras (en parte porque ambas API se inspiraron en Scikit-Learn y Chainer), por lo que una vez que conoce Keras, no es difícil cambiar a PyTorch, si alguna vez lo desea."
   ]
  },
  {
   "cell_type": "markdown",
   "id": "ca788f40",
   "metadata": {
    "slideshow": {
     "slide_type": "slide"
    }
   },
   "source": [
    "La popularidad de PyTorch creció exponencialmente en 2018, en gran parte gracias a su simplicidad y excelente documentación, que no eran las principales fortalezas de TensorFlow 1.x."
   ]
  },
  {
   "cell_type": "markdown",
   "id": "82f42c07",
   "metadata": {
    "slideshow": {
     "slide_type": "slide"
    }
   },
   "source": [
    "Sin embargo, podría decirse que TensorFlow 2 es tan simple como PyTorch, ya que adoptó Keras como su API oficial de alto nivel y sus desarrolladores simplificaron y limpiaron en gran medida el resto de la API."
   ]
  },
  {
   "cell_type": "markdown",
   "id": "be59e636",
   "metadata": {
    "slideshow": {
     "slide_type": "slide"
    }
   },
   "source": [
    "La documentación también se ha reorganizado por completo, y ahora es mucho más fácil encontrar lo que necesita."
   ]
  },
  {
   "cell_type": "markdown",
   "id": "20e2984f",
   "metadata": {
    "slideshow": {
     "slide_type": "slide"
    }
   },
   "source": [
    "De manera similar, las principales debilidades de PyTorch (p. ej., portabilidad limitada y análisis de gráficos sin cálculo) se han abordado en gran medida en PyTorch 1.0."
   ]
  },
  {
   "cell_type": "markdown",
   "id": "3020e0df",
   "metadata": {
    "slideshow": {
     "slide_type": "slide"
    }
   },
   "source": [
    "La competencia saludable es beneficiosa para todos."
   ]
  },
  {
   "cell_type": "markdown",
   "id": "1612475d",
   "metadata": {
    "slideshow": {
     "slide_type": "slide"
    }
   },
   "source": [
    "Muy bien, ¡es hora de codificar!"
   ]
  },
  {
   "cell_type": "markdown",
   "id": "7cb8dc67",
   "metadata": {
    "slideshow": {
     "slide_type": "slide"
    }
   },
   "source": [
    "Como `tf.keras` se incluye con TensorFlow, comencemos instalando TensorFlow."
   ]
  },
  {
   "cell_type": "markdown",
   "id": "30ed68ba",
   "metadata": {
    "slideshow": {
     "slide_type": "slide"
    }
   },
   "source": [
    "## Instalación de TensorFlow 2"
   ]
  },
  {
   "cell_type": "markdown",
   "id": "a4d6eeab",
   "metadata": {
    "slideshow": {
     "slide_type": "slide"
    }
   },
   "source": [
    "Suponiendo que instaló Jupyter y Scikit-Learn siguiendo las instrucciones de instalación del Capítulo 2, use pip para instalar TensorFlow a través de la terminal de Visual Studio Code. "
   ]
  },
  {
   "cell_type": "markdown",
   "id": "6ecd6f37",
   "metadata": {
    "slideshow": {
     "slide_type": "slide"
    }
   },
   "source": [
    "## NOTE"
   ]
  },
  {
   "cell_type": "markdown",
   "id": "9f75c175",
   "metadata": {
    "slideshow": {
     "slide_type": "slide"
    }
   },
   "source": [
    "Para la compatibilidad con GPU, en el momento de escribir este artículo, debe instalar tensorflow-gpu en lugar de tensorflow, pero el equipo de TensorFlow está trabajando para tener una biblioteca única que admita sistemas equipados con GPU y solo con CPU."
   ]
  },
  {
   "cell_type": "markdown",
   "id": "750437e0",
   "metadata": {
    "slideshow": {
     "slide_type": "slide"
    }
   },
   "source": [
    "Aún necesitará instalar bibliotecas adicionales para la compatibilidad con GPU (consulte https://tensorflow.org/install para obtener más detalles)."
   ]
  },
  {
   "cell_type": "markdown",
   "id": "18bbf4af",
   "metadata": {
    "slideshow": {
     "slide_type": "slide"
    }
   },
   "source": [
    "Veremos las GPU con más profundidad en el Capítulo 19."
   ]
  },
  {
   "cell_type": "markdown",
   "id": "f6c484a7",
   "metadata": {
    "slideshow": {
     "slide_type": "slide"
    }
   },
   "source": [
    "Para probar su instalación, abra un shell de Python o un cuaderno Jupyter, luego importe TensorFlow y `tf.keras` e imprima sus versiones:"
   ]
  },
  {
   "cell_type": "code",
   "execution_count": null,
   "id": "237334fe",
   "metadata": {
    "slideshow": {
     "slide_type": "slide"
    }
   },
   "outputs": [],
   "source": [
    "import tensorflow as tf\n",
    "from tensorflow import keras\n",
    "tf.__version__"
   ]
  },
  {
   "cell_type": "code",
   "execution_count": null,
   "id": "4cef5173",
   "metadata": {
    "slideshow": {
     "slide_type": "slide"
    }
   },
   "outputs": [],
   "source": [
    "keras.__version__"
   ]
  },
  {
   "cell_type": "markdown",
   "id": "8525bf04",
   "metadata": {
    "slideshow": {
     "slide_type": "slide"
    }
   },
   "source": [
    "La segunda versión es la versión de la API de Keras implementada por `tf.keras`."
   ]
  },
  {
   "cell_type": "markdown",
   "id": "94a24498",
   "metadata": {
    "slideshow": {
     "slide_type": "slide"
    }
   },
   "source": [
    "Tenga en cuenta que termina con -tf, lo que resalta el hecho de que `tf.keras` implementa la API de Keras, además de algunas características adicionales específicas de TensorFlow."
   ]
  },
  {
   "cell_type": "markdown",
   "id": "88922571",
   "metadata": {
    "slideshow": {
     "slide_type": "slide"
    }
   },
   "source": [
    "¡Ahora usemos `tf.keras`!"
   ]
  },
  {
   "cell_type": "markdown",
   "id": "0e870647",
   "metadata": {
    "slideshow": {
     "slide_type": "slide"
    }
   },
   "source": [
    " Comenzaremos construyendo un clasificador de imágenes simple."
   ]
  },
  {
   "cell_type": "markdown",
   "id": "0c10bc77",
   "metadata": {
    "slideshow": {
     "slide_type": "slide"
    }
   },
   "source": [
    "## Creación de un clasificador de imágenes mediante la API secuencial"
   ]
  },
  {
   "cell_type": "markdown",
   "id": "fbec3e7f",
   "metadata": {
    "slideshow": {
     "slide_type": "slide"
    }
   },
   "source": [
    "Primero, necesitamos cargar un conjunto de datos. "
   ]
  },
  {
   "cell_type": "markdown",
   "id": "10601c02",
   "metadata": {
    "slideshow": {
     "slide_type": "slide"
    }
   },
   "source": [
    "En este capítulo abordaremos el conjunto de datos público llamado `fashion_MNIST`, que es un reemplazo directo de `MNIST` (presentado en el Capítulo 3)."
   ]
  },
  {
   "cell_type": "markdown",
   "id": "a1299a21",
   "metadata": {
    "slideshow": {
     "slide_type": "slide"
    }
   },
   "source": [
    "Tiene exactamente el mismo formato que MNIST (70 000 imágenes en escala de grises de $28 \\times 28$ píxeles cada una, con 10 clases), \n",
    "* pero las imágenes representan artículos de moda en lugar de dígitos escritos a mano, por lo que cada clase es más diversa y el problema resulta ser ser significativamente más desafiante que con el dataset `MNIST`."
   ]
  },
  {
   "cell_type": "markdown",
   "id": "1215a815",
   "metadata": {
    "slideshow": {
     "slide_type": "slide"
    }
   },
   "source": [
    "Por ejemplo, un modelo lineal simple alcanza un 92 % de precisión en MNIST, pero solo un 83 % en 'Fashion MNIST'."
   ]
  },
  {
   "cell_type": "markdown",
   "id": "7422f28f",
   "metadata": {
    "slideshow": {
     "slide_type": "slide"
    }
   },
   "source": [
    "### Usando Keras para cargar el conjunto de datos"
   ]
  },
  {
   "cell_type": "markdown",
   "id": "bd7a4dda",
   "metadata": {
    "slideshow": {
     "slide_type": "slide"
    }
   },
   "source": [
    "Keras proporciona algunas funciones de utilidad para obtener y cargar conjuntos de datos comunes, incluidos MNIST, Fashion MNIST y el conjunto de datos de viviendas de California que usamos en el Capítulo 2. "
   ]
  },
  {
   "cell_type": "markdown",
   "id": "989a9608",
   "metadata": {
    "slideshow": {
     "slide_type": "slide"
    }
   },
   "source": [
    "Carguemos Fashion MNIST:"
   ]
  },
  {
   "cell_type": "code",
   "execution_count": null,
   "id": "94bf7ffc",
   "metadata": {
    "slideshow": {
     "slide_type": "slide"
    }
   },
   "outputs": [],
   "source": [
    "from c_10 import obtener_datos_fashion_mnist\n",
    "(X_train_full, y_train_full), (X_test, y_test) = obtener_datos_fashion_mnist() "
   ]
  },
  {
   "cell_type": "markdown",
   "id": "bcc247ce",
   "metadata": {
    "slideshow": {
     "slide_type": "slide"
    }
   },
   "source": [
    "Al cargar MNIST o Fashion MNIST usando Keras en lugar de Scikit-Learn, una diferencia importante es que cada imagen se representa como una matriz de $28 \\times 28$ en lugar de una matriz `1D` de tamaño 784. "
   ]
  },
  {
   "cell_type": "markdown",
   "id": "50f04e39",
   "metadata": {
    "slideshow": {
     "slide_type": "slide"
    }
   },
   "source": [
    "Además, las intensidades de píxeles se representan como números enteros (de 0 a 255) en lugar de flotantes (de 0,0 a 255,0)."
   ]
  },
  {
   "cell_type": "markdown",
   "id": "71b4b92d",
   "metadata": {
    "slideshow": {
     "slide_type": "slide"
    }
   },
   "source": [
    "Echemos un vistazo a la forma y el tipo de datos del conjunto de entrenamiento:"
   ]
  },
  {
   "cell_type": "code",
   "execution_count": null,
   "id": "23741bd8",
   "metadata": {
    "slideshow": {
     "slide_type": "slide"
    }
   },
   "outputs": [],
   "source": [
    "X_train_full.shape  # Este es un tensor o matriz tridimensional "
   ]
  },
  {
   "cell_type": "code",
   "execution_count": null,
   "id": "66485846",
   "metadata": {
    "slideshow": {
     "slide_type": "slide"
    }
   },
   "outputs": [],
   "source": [
    "X_train_full.dtype "
   ]
  },
  {
   "cell_type": "markdown",
   "id": "550a93c0",
   "metadata": {
    "slideshow": {
     "slide_type": "slide"
    }
   },
   "source": [
    "Tenga en cuenta que el conjunto de datos ya está dividido en un conjunto de entrenamiento y un conjunto de prueba, pero no hay un conjunto de validación, por lo que crearemos uno ahora."
   ]
  },
  {
   "cell_type": "markdown",
   "id": "f74b9394",
   "metadata": {
    "slideshow": {
     "slide_type": "slide"
    }
   },
   "source": [
    "Además, dado que vamos a entrenar la red neuronal mediante Gradient Descent, debemos escalar las características de entrada."
   ]
  },
  {
   "cell_type": "markdown",
   "id": "4a64c433",
   "metadata": {
    "slideshow": {
     "slide_type": "slide"
    }
   },
   "source": [
    "Para simplificar, reduciremos la intensidad de los píxeles al rango de 0 a 1 dividiéndolos por 255,0 (esto también los convierte en flotantes):"
   ]
  },
  {
   "cell_type": "code",
   "execution_count": null,
   "id": "19eb2f05",
   "metadata": {
    "slideshow": {
     "slide_type": "slide"
    }
   },
   "outputs": [],
   "source": [
    "X_valid, X_train = X_train_full[:5000] / 255.0, X_train_full[5000:] / 255.0\n",
    "y_valid, y_train = y_train_full[:5000], y_train_full[5000:]"
   ]
  },
  {
   "cell_type": "markdown",
   "id": "ec2f83cb",
   "metadata": {
    "slideshow": {
     "slide_type": "slide"
    }
   },
   "source": [
    "Con MNIST, cuando la etiqueta es igual a 5, significa que la imagen representa el dígito 5 escrito a mano. Fácil."
   ]
  },
  {
   "cell_type": "markdown",
   "id": "94256f7d",
   "metadata": {
    "slideshow": {
     "slide_type": "slide"
    }
   },
   "source": [
    "Sin embargo, para Fashion MNIST, necesitamos la lista de nombres de clases para saber a qué nos enfrentamos:"
   ]
  },
  {
   "cell_type": "code",
   "execution_count": null,
   "id": "eacee3d9",
   "metadata": {
    "slideshow": {
     "slide_type": "slide"
    }
   },
   "outputs": [],
   "source": [
    "class_names = [\"T-shirt/top\", \"Trouser\", \"Pullover\", \"Dress\", \"Coat\", \"Sandal\", \"Shirt\", \"Sneaker\", \"Bag\", \"Ankle boot\"]\n",
    "# [\"Camiseta/top\", \"Pantalones\", \"Jersey\", \"Vestido\", \"Abrigo\", \"Sandalia\", \"Camisa\", \"Zapatillas deportivas\", \"Bolso\", \"Botines\"]"
   ]
  },
  {
   "cell_type": "markdown",
   "id": "d3fb853f",
   "metadata": {
    "slideshow": {
     "slide_type": "slide"
    }
   },
   "source": [
    "Por ejemplo, la primera imagen del conjunto de entrenamiento representa un abrigo:\n"
   ]
  },
  {
   "cell_type": "code",
   "execution_count": null,
   "id": "67beffc5",
   "metadata": {},
   "outputs": [],
   "source": [
    "y_train[0] "
   ]
  },
  {
   "cell_type": "code",
   "execution_count": null,
   "id": "1699b2eb",
   "metadata": {
    "slideshow": {
     "slide_type": "slide"
    }
   },
   "outputs": [],
   "source": [
    "class_names[y_train[0]]"
   ]
  },
  {
   "cell_type": "markdown",
   "id": "745c0eb1",
   "metadata": {},
   "source": [
    "# Qué es una imagen para el computador \n",
    "\n",
    "<img src = \"https://sites.google.com/site/prinbasicdigitalimagenes/_/rsrc/1329643039110/-como-se-digitaliza-una-imagen/imagen%202.png\">"
   ]
  },
  {
   "cell_type": "markdown",
   "id": "4768b960",
   "metadata": {},
   "source": [
    "# Dibujemos las primeras 40 imágenes del dataset de entrenamiento "
   ]
  },
  {
   "cell_type": "code",
   "execution_count": null,
   "id": "c315d02f",
   "metadata": {},
   "outputs": [],
   "source": [
    "import os # opetative system \n",
    "import numpy as np \n",
    "# to make this notebook's output stable across runs\n",
    "np.random.seed(42)\n",
    "\n",
    "# To plot pretty figures\n",
    "\n",
    "import matplotlib as mpl\n",
    "import matplotlib.pyplot as plt\n",
    "mpl.rc('axes', labelsize=14)\n",
    "mpl.rc('xtick', labelsize=12)\n",
    "mpl.rc('ytick', labelsize=12)\n",
    "\n",
    "# Where to save the figures\n",
    "PROJECT_ROOT_DIR = \".\"\n",
    "CHAPTER_ID = \"ann\"\n",
    "IMAGES_PATH = os.path.join(PROJECT_ROOT_DIR, \"images\", CHAPTER_ID)\n",
    "os.makedirs(IMAGES_PATH, exist_ok=True)\n",
    "\n",
    "def save_fig(fig_id, tight_layout=True, fig_extension=\"png\", resolution=300):\n",
    "    path = os.path.join(IMAGES_PATH, fig_id + \".\" + fig_extension)\n",
    "    print(\"Saving figure\", fig_id)\n",
    "    if tight_layout:\n",
    "        plt.tight_layout()\n",
    "    plt.savefig(path, format=fig_extension, dpi=resolution)\n",
    "\n",
    "# vamos a hacer el arreglo de imagenes del dataset fashion_mnist \n",
    "\n",
    "n_rows = 4 # controlar las dimensiones del arreglo de imagenes \n",
    "n_cols = 5\n",
    "\n",
    "plt.figure(figsize=(n_cols * 1.2, n_rows * 1.2))  # Creamos el lienzo \n",
    "\n",
    "\n",
    "for row in range(n_rows):\n",
    "    for col in range(n_cols):\n",
    "        index = n_cols * row + col\n",
    "        plt.subplot(n_rows, n_cols, index + 1)\n",
    "        plt.imshow(X_train[index], cmap=\"binary\", interpolation=\"nearest\")\n",
    "        plt.axis('off')\n",
    "        plt.title(class_names[y_train[index]], fontsize=12)\n",
    "plt.subplots_adjust(wspace=0.2, hspace=0.5)\n",
    "save_fig('fashion_mnist_plot', tight_layout=False)\n",
    "plt.show()\n"
   ]
  },
  {
   "cell_type": "code",
   "execution_count": null,
   "id": "0818f569",
   "metadata": {},
   "outputs": [],
   "source": [
    "for joseph in range(4):\n",
    "    print(joseph)"
   ]
  },
  {
   "cell_type": "markdown",
   "id": "bce4735d",
   "metadata": {
    "slideshow": {
     "slide_type": "slide"
    }
   },
   "source": [
    "\n",
    "<img src = 'https://github.com/marco-canas/didactica_ciencia_datos/blob/main/referentes/2_geron/part_2/c_10/figure_10_11.png?raw=true'>"
   ]
  },
  {
   "cell_type": "markdown",
   "id": "8641906f",
   "metadata": {
    "slideshow": {
     "slide_type": "slide"
    }
   },
   "source": [
    "# Crear el modelo utilizando la API secuencial"
   ]
  },
  {
   "cell_type": "markdown",
   "id": "7f2b32d1",
   "metadata": {
    "slideshow": {
     "slide_type": "slide"
    }
   },
   "source": [
    "¡Ahora construyamos la red neuronal!"
   ]
  },
  {
   "cell_type": "markdown",
   "id": "e3ae1705",
   "metadata": {
    "slideshow": {
     "slide_type": "slide"
    }
   },
   "source": [
    "Aquí hay una clasificación MLP con dos capas ocultas:"
   ]
  },
  {
   "cell_type": "code",
   "execution_count": null,
   "id": "a04035a0",
   "metadata": {},
   "outputs": [],
   "source": [
    "import tensorflow as tf \n",
    "\n",
    "from tensorflow import keras "
   ]
  },
  {
   "cell_type": "code",
   "execution_count": null,
   "id": "7a7567ee",
   "metadata": {
    "slideshow": {
     "slide_type": "slide"
    }
   },
   "outputs": [],
   "source": [
    "%%time \n",
    "model = keras.models.Sequential()\n",
    "model.add(keras.layers.Flatten(input_shape=[28, 28]))\n",
    "model.add(keras.layers.Dense(300, activation=\"relu\"))\n",
    "model.add(keras.layers.Dense(100, activation=\"relu\"))\n",
    "model.add(keras.layers.Dense(10, activation=\"softmax\"))"
   ]
  },
  {
   "cell_type": "markdown",
   "id": "88f0ebc4",
   "metadata": {
    "slideshow": {
     "slide_type": "slide"
    }
   },
   "source": [
    "Repasemos este código línea por línea:"
   ]
  },
  {
   "cell_type": "markdown",
   "id": "081c3839",
   "metadata": {
    "slideshow": {
     "slide_type": "slide"
    }
   },
   "source": [
    "La primera línea crea un modelo secuencial."
   ]
  },
  {
   "cell_type": "markdown",
   "id": "5e3d32c7",
   "metadata": {
    "slideshow": {
     "slide_type": "slide"
    }
   },
   "source": [
    "Este es el tipo más simple de modelo de Keras para redes neuronales que se componen de una sola pila de capas conectadas secuencialmente."
   ]
  },
  {
   "cell_type": "markdown",
   "id": "6d726d46",
   "metadata": {
    "slideshow": {
     "slide_type": "slide"
    }
   },
   "source": [
    "Esto se llama API secuencial."
   ]
  },
  {
   "cell_type": "markdown",
   "id": "0d891192",
   "metadata": {
    "slideshow": {
     "slide_type": "slide"
    }
   },
   "source": [
    "A continuación, construimos la primera capa y la agregamos al modelo."
   ]
  },
  {
   "cell_type": "markdown",
   "id": "97534e38",
   "metadata": {
    "slideshow": {
     "slide_type": "slide"
    }
   },
   "source": [
    "Es una capa Flatten cuya función es convertir cada imagen de entrada en una matriz 1D: si recibe datos de entrada `X`, calcula `X.reshape(-1, 1)`."
   ]
  },
  {
   "cell_type": "markdown",
   "id": "7f1c205a",
   "metadata": {
    "slideshow": {
     "slide_type": "slide"
    }
   },
   "source": [
    "Esta capa no tiene ningún parámetro; solo está ahí para hacer un preprocesamiento simple."
   ]
  },
  {
   "cell_type": "markdown",
   "id": "70d0d3eb",
   "metadata": {
    "slideshow": {
     "slide_type": "slide"
    }
   },
   "source": [
    "Dado que es la primera capa del modelo, debe especificar `input_shape`, que no incluye el tamaño del lote, solo la forma de las instancias."
   ]
  },
  {
   "cell_type": "markdown",
   "id": "bb817a4c",
   "metadata": {
    "slideshow": {
     "slide_type": "slide"
    }
   },
   "source": [
    "Alternativamente, puede agregar `keras.layers.InputLayer` como la primera capa, configurando `input_shape=[28,28]`."
   ]
  },
  {
   "cell_type": "markdown",
   "id": "c030f8f1",
   "metadata": {
    "slideshow": {
     "slide_type": "slide"
    }
   },
   "source": [
    "A continuación, agregamos una capa oculta densa con 300 neuronas."
   ]
  },
  {
   "cell_type": "markdown",
   "id": "2e03610b",
   "metadata": {
    "slideshow": {
     "slide_type": "slide"
    }
   },
   "source": [
    "Utilizará la función de activación ReLU."
   ]
  },
  {
   "cell_type": "markdown",
   "id": "fb839db3",
   "metadata": {
    "slideshow": {
     "slide_type": "slide"
    }
   },
   "source": [
    "Cada capa densa gestiona su propia matriz de pesos, que contiene todos los pesos de conexión entre las neuronas y sus entradas. "
   ]
  },
  {
   "cell_type": "markdown",
   "id": "7d50cbde",
   "metadata": {
    "slideshow": {
     "slide_type": "slide"
    }
   },
   "source": [
    "También gestiona un vector de términos de sesgo (uno por neurona)."
   ]
  },
  {
   "cell_type": "markdown",
   "id": "e877ddf9",
   "metadata": {
    "slideshow": {
     "slide_type": "slide"
    }
   },
   "source": [
    "Cuando recibe algunos datos de entrada, calcula la Ecuación 10-2: \n",
    "\n",
    "$$ h_{W,b}(X) = \\phi(XW + b) $$"
   ]
  },
  {
   "cell_type": "markdown",
   "id": "43b34e17",
   "metadata": {
    "slideshow": {
     "slide_type": "slide"
    }
   },
   "source": [
    "Luego agregamos una segunda capa oculta densa con 100 neuronas, también usando la función de activación ReLU."
   ]
  },
  {
   "cell_type": "markdown",
   "id": "f2c36e0c",
   "metadata": {
    "slideshow": {
     "slide_type": "slide"
    }
   },
   "source": [
    "Finalmente, agregamos una capa de salida Dense con 10 neuronas (una por clase), usando la función de activación softmax (porque las clases son exclusivas)."
   ]
  },
  {
   "cell_type": "markdown",
   "id": "497a72d3",
   "metadata": {
    "slideshow": {
     "slide_type": "slide"
    }
   },
   "source": [
    "## Sugerencia"
   ]
  },
  {
   "cell_type": "markdown",
   "id": "ad9d91f9",
   "metadata": {
    "slideshow": {
     "slide_type": "slide"
    }
   },
   "source": [
    "Especificar `activation=\"relu\"` es equivalente a especificar `activation=keras.activations.relu`."
   ]
  },
  {
   "cell_type": "markdown",
   "id": "03957366",
   "metadata": {
    "slideshow": {
     "slide_type": "slide"
    }
   },
   "source": [
    "Otras funciones de activación están disponibles en el paquete `keras.activations`, usaremos muchas de ellas en este libro."
   ]
  },
  {
   "cell_type": "markdown",
   "id": "6efd3cf6",
   "metadata": {
    "slideshow": {
     "slide_type": "slide"
    }
   },
   "source": [
    "Consulte https://keras.io/activations/ para ver la lista completa."
   ]
  },
  {
   "cell_type": "markdown",
   "id": "20e52053",
   "metadata": {
    "slideshow": {
     "slide_type": "slide"
    }
   },
   "source": [
    "En lugar de agregar las capas una por una como acabamos de hacer, puede pasar una lista de capas al crear el modelo secuencial:"
   ]
  },
  {
   "cell_type": "code",
   "execution_count": null,
   "id": "e58feafc",
   "metadata": {
    "slideshow": {
     "slide_type": "slide"
    }
   },
   "outputs": [],
   "source": [
    "model = keras.models.Sequential([\n",
    "keras.layers.Flatten(input_shape=[28, 28]),\n",
    "keras.layers.Dense(300, activation=\"relu\"),\n",
    "keras.layers.Dense(100, activation=\"relu\"),\n",
    "keras.layers.Dense(10, activation=\"softmax\")\n",
    "])\n"
   ]
  },
  {
   "cell_type": "markdown",
   "id": "b7af7271",
   "metadata": {
    "slideshow": {
     "slide_type": "slide"
    }
   },
   "source": [
    "## USO DE EJEMPLOS DE CÓDIGO DE KERAS.IO"
   ]
  },
  {
   "cell_type": "markdown",
   "id": "6027152f",
   "metadata": {
    "slideshow": {
     "slide_type": "slide"
    }
   },
   "source": [
    "Los ejemplos de código documentados en `keras.io` funcionarán bien con `tf.keras`, pero debe cambiar las importaciones."
   ]
  },
  {
   "cell_type": "markdown",
   "id": "f0b033d1",
   "metadata": {
    "slideshow": {
     "slide_type": "slide"
    }
   },
   "source": [
    "Por ejemplo, considere este código `keras.io`:"
   ]
  },
  {
   "cell_type": "code",
   "execution_count": null,
   "id": "9b47e8b3",
   "metadata": {
    "slideshow": {
     "slide_type": "slide"
    }
   },
   "outputs": [],
   "source": [
    "from keras.layers import Dense\n",
    "output_layer = Dense(10)"
   ]
  },
  {
   "cell_type": "markdown",
   "id": "4fd634cc",
   "metadata": {
    "slideshow": {
     "slide_type": "slide"
    }
   },
   "source": [
    "Debes cambiar las importaciones así:"
   ]
  },
  {
   "cell_type": "code",
   "execution_count": null,
   "id": "654ac969",
   "metadata": {
    "slideshow": {
     "slide_type": "slide"
    }
   },
   "outputs": [],
   "source": [
    "from tensorflow.keras.layers import Dense\n",
    "output_layer = Dense(10)"
   ]
  },
  {
   "cell_type": "markdown",
   "id": "4badf2d2",
   "metadata": {
    "slideshow": {
     "slide_type": "slide"
    }
   },
   "source": [
    "O simplemente use rutas completas, si lo prefiere:"
   ]
  },
  {
   "cell_type": "code",
   "execution_count": null,
   "id": "8a59dd54",
   "metadata": {
    "slideshow": {
     "slide_type": "slide"
    }
   },
   "outputs": [],
   "source": [
    "from tensorflow import keras\n",
    "output_layer = keras.layers.Dense(10)"
   ]
  },
  {
   "cell_type": "markdown",
   "id": "2d894e78",
   "metadata": {
    "slideshow": {
     "slide_type": "slide"
    }
   },
   "source": [
    "Este enfoque es más detallado, pero lo uso en este libro para que pueda ver fácilmente qué paquetes usar y para evitar confusiones entre clases estándar y clases personalizadas."
   ]
  },
  {
   "cell_type": "markdown",
   "id": "c2439ce5",
   "metadata": {
    "slideshow": {
     "slide_type": "slide"
    }
   },
   "source": [
    "En código de producción, prefiero el enfoque anterior."
   ]
  },
  {
   "cell_type": "markdown",
   "id": "29c9c82e",
   "metadata": {
    "slideshow": {
     "slide_type": "slide"
    }
   },
   "source": [
    "Mucha gente también usa desde `tensorflow.keras import layers` seguido de `layers.Dense(10)`."
   ]
  },
  {
   "cell_type": "markdown",
   "id": "093d7a73",
   "metadata": {
    "slideshow": {
     "slide_type": "slide"
    }
   },
   "source": [
    "El método `summary()` del modelo muestra todas las capas del modelo, incluido el nombre de cada capa (que se genera automáticamente a menos que lo establezca al crear la capa), su forma de salida (Ninguno significa que el tamaño del lote puede ser cualquiera) y su número de parámetros"
   ]
  },
  {
   "cell_type": "markdown",
   "id": "ec887a85",
   "metadata": {
    "slideshow": {
     "slide_type": "slide"
    }
   },
   "source": [
    "El resumen finaliza con el número total de parámetros, incluidos los parámetros entrenables y no entrenables."
   ]
  },
  {
   "cell_type": "markdown",
   "id": "c53ddf11",
   "metadata": {
    "slideshow": {
     "slide_type": "slide"
    }
   },
   "source": [
    "Aquí solo tenemos parámetros entrenables (veremos ejemplos de parámetros no entrenables en el Capítulo 11):"
   ]
  },
  {
   "cell_type": "code",
   "execution_count": null,
   "id": "0dbb516a",
   "metadata": {
    "slideshow": {
     "slide_type": "slide"
    }
   },
   "outputs": [],
   "source": [
    "model.summary()"
   ]
  },
  {
   "cell_type": "markdown",
   "id": "ac4c3f7c",
   "metadata": {
    "slideshow": {
     "slide_type": "slide"
    }
   },
   "source": [
    "Tenga en cuenta que las capas densas suelen tener muchos parámetros."
   ]
  },
  {
   "cell_type": "markdown",
   "id": "eca27d69",
   "metadata": {
    "slideshow": {
     "slide_type": "slide"
    }
   },
   "source": [
    "Por ejemplo, la primera capa oculta tiene pesos de conexión de $784 \\times 300$, más 300 términos de sesgo, ¡lo que suma 235 500 parámetros!"
   ]
  },
  {
   "cell_type": "markdown",
   "id": "8ae88250",
   "metadata": {
    "slideshow": {
     "slide_type": "slide"
    }
   },
   "source": [
    "Esto le da al modelo bastante flexibilidad para adaptarse a los datos de entrenamiento, pero también significa que el modelo corre el riesgo de sobreajustarse, especialmente cuando no tiene muchos datos de entrenamiento."
   ]
  },
  {
   "cell_type": "markdown",
   "id": "d796e95a",
   "metadata": {
    "slideshow": {
     "slide_type": "slide"
    }
   },
   "source": [
    "Vamos a volver a esto más adelante."
   ]
  },
  {
   "cell_type": "markdown",
   "id": "703f89ad",
   "metadata": {
    "slideshow": {
     "slide_type": "slide"
    }
   },
   "source": [
    "Puede obtener fácilmente la lista de capas de un modelo, buscar una capa por su índice, o puede buscarla por nombre:"
   ]
  },
  {
   "cell_type": "code",
   "execution_count": null,
   "id": "9fa1a227",
   "metadata": {
    "slideshow": {
     "slide_type": "slide"
    }
   },
   "outputs": [],
   "source": [
    "model.layers"
   ]
  },
  {
   "cell_type": "code",
   "execution_count": null,
   "id": "0d8fc0b6",
   "metadata": {
    "slideshow": {
     "slide_type": "slide"
    }
   },
   "outputs": [],
   "source": [
    "hidden1 = model.layers[1]\n",
    "hidden1.name"
   ]
  },
  {
   "cell_type": "code",
   "execution_count": null,
   "id": "c4a9a333",
   "metadata": {
    "slideshow": {
     "slide_type": "slide"
    }
   },
   "outputs": [],
   "source": [
    "model.get_layer('dense_8') is hidden1"
   ]
  },
  {
   "cell_type": "markdown",
   "id": "3bde50b8",
   "metadata": {
    "slideshow": {
     "slide_type": "slide"
    }
   },
   "source": [
    "Se puede acceder a todos los parámetros de una capa utilizando sus métodos `get_weights()` y `set_weights()`."
   ]
  },
  {
   "cell_type": "markdown",
   "id": "bf3cb9ba",
   "metadata": {
    "slideshow": {
     "slide_type": "slide"
    }
   },
   "source": [
    "Para una capa densa, esto incluye tanto los pesos de conexión como los términos de sesgo:"
   ]
  },
  {
   "cell_type": "code",
   "execution_count": null,
   "id": "3f763453",
   "metadata": {
    "slideshow": {
     "slide_type": "slide"
    }
   },
   "outputs": [],
   "source": [
    "weights, biases = hidden1.get_weights()\n",
    "weights\n"
   ]
  },
  {
   "cell_type": "code",
   "execution_count": null,
   "id": "e530ed2c",
   "metadata": {
    "slideshow": {
     "slide_type": "slide"
    }
   },
   "outputs": [],
   "source": [
    "weights.shape"
   ]
  },
  {
   "cell_type": "code",
   "execution_count": null,
   "id": "1ef58677",
   "metadata": {
    "slideshow": {
     "slide_type": "slide"
    }
   },
   "outputs": [],
   "source": [
    "biases\n"
   ]
  },
  {
   "cell_type": "code",
   "execution_count": null,
   "id": "187aa793",
   "metadata": {
    "slideshow": {
     "slide_type": "slide"
    }
   },
   "outputs": [],
   "source": [
    "biases.shape\n"
   ]
  },
  {
   "cell_type": "markdown",
   "id": "7fa0541d",
   "metadata": {
    "slideshow": {
     "slide_type": "slide"
    }
   },
   "source": [
    "Tenga en cuenta que la capa densa inicializó los pesos de conexión aleatoriamente (que es necesario para romper la simetría, como discutimos anteriormente), y los sesgos se inicializaron en ceros, lo cual está bien."
   ]
  },
  {
   "cell_type": "markdown",
   "id": "ce832f2d",
   "metadata": {
    "slideshow": {
     "slide_type": "slide"
    }
   },
   "source": [
    "Si alguna vez desea utilizar un método de inicialización diferente, puede configurar `kernel_initializer` (kernel es otro nombre para la matriz de pesos de conexión) o `bias_initializer` al crear la capa."
   ]
  },
  {
   "cell_type": "markdown",
   "id": "8e273160",
   "metadata": {
    "slideshow": {
     "slide_type": "slide"
    }
   },
   "source": [
    "Hablaremos más sobre los inicializadores en el Capítulo 11, pero si desea la lista completa, consulte https://keras.io/initializers/."
   ]
  },
  {
   "cell_type": "markdown",
   "id": "80ca09ce",
   "metadata": {
    "slideshow": {
     "slide_type": "slide"
    }
   },
   "source": [
    "## NOTE"
   ]
  },
  {
   "cell_type": "markdown",
   "id": "cd5f1124",
   "metadata": {
    "slideshow": {
     "slide_type": "slide"
    }
   },
   "source": [
    "La forma de la matriz de pesos depende del número de entradas."
   ]
  },
  {
   "cell_type": "markdown",
   "id": "45df7b2b",
   "metadata": {
    "slideshow": {
     "slide_type": "slide"
    }
   },
   "source": [
    "Es por eso que se recomienda especificar `input_shape` al crear la primera capa en un modelo secuencial."
   ]
  },
  {
   "cell_type": "markdown",
   "id": "28efaa88",
   "metadata": {
    "slideshow": {
     "slide_type": "slide"
    }
   },
   "source": [
    "Sin embargo, si no especifica la forma de entrada, está bien: Keras simplemente esperará hasta que conozca la forma de entrada antes de construir el modelo."
   ]
  },
  {
   "cell_type": "markdown",
   "id": "9497dfa4",
   "metadata": {
    "slideshow": {
     "slide_type": "slide"
    }
   },
   "source": [
    "Esto sucederá cuando le proporciones datos reales (por ejemplo, durante el entrenamiento) o cuando llames a su método `build()`."
   ]
  },
  {
   "cell_type": "markdown",
   "id": "62d7b2ca",
   "metadata": {
    "slideshow": {
     "slide_type": "slide"
    }
   },
   "source": [
    "Hasta que el modelo esté realmente construido, las capas no tendrán ningún peso y no podrá hacer ciertas cosas (como imprimir el resumen del modelo o guardar el modelo)."
   ]
  },
  {
   "cell_type": "markdown",
   "id": "f3272998",
   "metadata": {
    "slideshow": {
     "slide_type": "slide"
    }
   },
   "source": [
    "Entonces, si conoce la forma de entrada al crear el modelo, es mejor especificarla"
   ]
  },
  {
   "cell_type": "markdown",
   "id": "8bbeb368",
   "metadata": {
    "slideshow": {
     "slide_type": "slide"
    }
   },
   "source": [
    "## Compilando el modelo"
   ]
  },
  {
   "cell_type": "markdown",
   "id": "270d2053",
   "metadata": {
    "slideshow": {
     "slide_type": "slide"
    }
   },
   "source": [
    "Después de crear un modelo, debe llamar a su método `compile()` para especificar la función de pérdida y el optimizador que se usará."
   ]
  },
  {
   "cell_type": "markdown",
   "id": "357f975f",
   "metadata": {
    "slideshow": {
     "slide_type": "slide"
    }
   },
   "source": [
    "Opcionalmente, puede especificar una lista de métricas adicionales para calcular durante el entrenamiento y la evaluación:"
   ]
  },
  {
   "cell_type": "code",
   "execution_count": null,
   "id": "6334d616",
   "metadata": {
    "slideshow": {
     "slide_type": "slide"
    }
   },
   "outputs": [],
   "source": [
    "model.compile(loss=\"sparse_categorical_crossentropy\",\n",
    "optimizer=\"sgd\",\n",
    "metrics=[\"accuracy\"])"
   ]
  },
  {
   "cell_type": "markdown",
   "id": "cfc0a46f",
   "metadata": {
    "slideshow": {
     "slide_type": "slide"
    }
   },
   "source": [
    "## NOTE"
   ]
  },
  {
   "cell_type": "markdown",
   "id": "11b0edb4",
   "metadata": {
    "slideshow": {
     "slide_type": "slide"
    }
   },
   "source": [
    "Using `loss=\"sparse_categorical_crossentropy\"` is equivalent to using `loss=keras.losses.sparse_categorical_crossentropy`. "
   ]
  },
  {
   "cell_type": "markdown",
   "id": "254bf3e2",
   "metadata": {
    "slideshow": {
     "slide_type": "slide"
    }
   },
   "source": [
    "Similarly, specifying `optimizer=\"sgd\"` is equivalent to specifying `optimizer=keras.optimizers.SGD()`, and `metrics=[\"accuracy\"]` is equivalent to `metrics= [keras.metrics.sparse_categorical_accuracy]` (when using this loss). "
   ]
  },
  {
   "cell_type": "markdown",
   "id": "ae68713f",
   "metadata": {
    "slideshow": {
     "slide_type": "slide"
    }
   },
   "source": [
    "Usaremos muchas otras pérdidas, optimizadores y métricas en este libro; para ver las listas completas, consulte https://keras.io/losses, https://keras.io/optimizers y https://keras.io/metrics."
   ]
  },
  {
   "cell_type": "markdown",
   "id": "a60a2a5d",
   "metadata": {
    "slideshow": {
     "slide_type": "slide"
    }
   },
   "source": [
    "Este código requiere alguna explicación."
   ]
  },
  {
   "cell_type": "markdown",
   "id": "bb279383",
   "metadata": {
    "slideshow": {
     "slide_type": "slide"
    }
   },
   "source": [
    "Primero, usamos la pérdida `\"sparse_categorical_crossentropy\"` porque tenemos etiquetas escasas (es decir, para cada instancia, solo hay un índice de clase objetivo, de 0 a 9 en este caso), y las clases son exclusivas."
   ]
  },
  {
   "cell_type": "markdown",
   "id": "26912025",
   "metadata": {
    "slideshow": {
     "slide_type": "slide"
    }
   },
   "source": [
    "Si en cambio tuviéramos una probabilidad objetivo por clase para cada instancia (como vectores one-hot, por ejemplo, `[0., 0., 0., 1., 0., 0., 0., 0., 0., 0.]` para representar la clase 3), entonces necesitaríamos usar la pérdida \"categorical_crossentropy\" en su lugar."
   ]
  },
  {
   "cell_type": "markdown",
   "id": "a0f2ab0c",
   "metadata": {
    "slideshow": {
     "slide_type": "slide"
    }
   },
   "source": [
    "Si estuviéramos haciendo una clasificación binaria (con una o más etiquetas binarias), entonces usaríamos la función de activación \"sigmoide\" (es decir, logística) en la capa de salida en lugar de la función de activación \"softmax\", y usaríamos la función de pérdida \"binary_crossentropy \"."
   ]
  },
  {
   "cell_type": "markdown",
   "id": "36337b3e",
   "metadata": {
    "slideshow": {
     "slide_type": "slide"
    }
   },
   "source": [
    "## Sugerencia"
   ]
  },
  {
   "cell_type": "markdown",
   "id": "34bd5aad",
   "metadata": {
    "slideshow": {
     "slide_type": "slide"
    }
   },
   "source": [
    "Si desea convertir etiquetas dispersas (es decir, índices de clase) en etiquetas vectoriales one-hot, use la función `keras.utils.to_categorical()`. Para ir al revés, usa la función `np.argmax()` con `axis=1`."
   ]
  },
  {
   "cell_type": "markdown",
   "id": "ef9b2480",
   "metadata": {
    "slideshow": {
     "slide_type": "slide"
    }
   },
   "source": [
    "Con respecto al optimizador, \"sgd\" significa que entrenaremos el modelo utilizando un descenso de gradiente estocástico simple."
   ]
  },
  {
   "cell_type": "markdown",
   "id": "bb5fd863",
   "metadata": {
    "slideshow": {
     "slide_type": "slide"
    }
   },
   "source": [
    "En otras palabras, Keras realizará el algoritmo de retropropagación descrito anteriormente (es decir, diferencia automática en modo inverso más descenso de gradiente)."
   ]
  },
  {
   "cell_type": "markdown",
   "id": "795163ab",
   "metadata": {
    "slideshow": {
     "slide_type": "slide"
    }
   },
   "source": [
    "Discutiremos optimizadores más eficientes en el Capítulo 11 (mejoran la parte de Descenso de Gradiente, no la diferencia automática)"
   ]
  },
  {
   "cell_type": "markdown",
   "id": "5f3874d7",
   "metadata": {
    "slideshow": {
     "slide_type": "slide"
    }
   },
   "source": [
    "## NOTE"
   ]
  },
  {
   "cell_type": "markdown",
   "id": "ad1ab17f",
   "metadata": {
    "slideshow": {
     "slide_type": "slide"
    }
   },
   "source": [
    "Al usar el optimizador SGD, es importante ajustar la tasa de aprendizaje."
   ]
  },
  {
   "cell_type": "markdown",
   "id": "ef3f4c64",
   "metadata": {
    "slideshow": {
     "slide_type": "slide"
    }
   },
   "source": [
    "Por lo tanto, por lo general querrá usar Optimizer=keras.optimizers.SGD(lr=???) para establecer la tasa de aprendizaje, en lugar de `optimizer=\"sgd\"`, que por defecto es `lr=0.01`."
   ]
  },
  {
   "cell_type": "markdown",
   "id": "d9ae82bd",
   "metadata": {
    "slideshow": {
     "slide_type": "slide"
    }
   },
   "source": [
    "Finalmente, dado que este es un clasificador, es útil medir su \"precisión\" durante el entrenamiento y la evaluación."
   ]
  },
  {
   "cell_type": "markdown",
   "id": "6091717b",
   "metadata": {
    "slideshow": {
     "slide_type": "slide"
    }
   },
   "source": [
    "Entrenamiento y evaluación del modelo Ahora el modelo está listo para ser entrenado."
   ]
  },
  {
   "cell_type": "markdown",
   "id": "abaa4d61",
   "metadata": {
    "slideshow": {
     "slide_type": "slide"
    }
   },
   "source": [
    "Para esto simplemente necesitamos llamar a su método `fit()`:"
   ]
  },
  {
   "cell_type": "code",
   "execution_count": null,
   "id": "bf55038e",
   "metadata": {
    "slideshow": {
     "slide_type": "slide"
    }
   },
   "outputs": [],
   "source": [
    "history = model.fit(X_train, y_train, epochs=30, validation_data=(X_valid, y_valid))\n"
   ]
  },
  {
   "cell_type": "markdown",
   "id": "d073b340",
   "metadata": {
    "slideshow": {
     "slide_type": "slide"
    }
   },
   "source": [
    "Le pasamos las características de entrada (`X_train`) y las clases de destino (`y_train`), así como la cantidad de épocas para entrenar (o de lo contrario, sería solo 1 por defecto, lo que definitivamente no sería suficiente para converger a un buena solución)."
   ]
  },
  {
   "cell_type": "markdown",
   "id": "c547968a",
   "metadata": {
    "slideshow": {
     "slide_type": "slide"
    }
   },
   "source": [
    "También pasamos un conjunto de validación (esto es opcional). Keras medirá la pérdida y las métricas adicionales en este conjunto al final de cada época, lo que es muy útil para ver qué tan bien funciona realmente el modelo."
   ]
  },
  {
   "cell_type": "markdown",
   "id": "3f532f84",
   "metadata": {
    "slideshow": {
     "slide_type": "slide"
    }
   },
   "source": [
    "Si el rendimiento en el conjunto de entrenamiento es mucho mejor que en el conjunto de validación, es probable que su modelo esté sobreajustando el conjunto de entrenamiento (o hay un error, como una discrepancia de datos entre el conjunto de entrenamiento y el conjunto de validación)."
   ]
  },
  {
   "cell_type": "markdown",
   "id": "9053441e",
   "metadata": {
    "slideshow": {
     "slide_type": "slide"
    }
   },
   "source": [
    "¡Y eso es! La red neuronal está entrenada."
   ]
  },
  {
   "cell_type": "markdown",
   "id": "7fde2fd2",
   "metadata": {
    "slideshow": {
     "slide_type": "slide"
    }
   },
   "source": [
    "En cada época durante el entrenamiento, Keras muestra la cantidad de instancias procesadas hasta el momento (junto con una barra de progreso), el tiempo medio de entrenamiento por muestra y la pérdida y la precisión (o cualquier otra métrica adicional que haya solicitado) tanto en el conjunto de entrenamiento y el conjunto de validación."
   ]
  },
  {
   "cell_type": "markdown",
   "id": "5b868e4c",
   "metadata": {
    "slideshow": {
     "slide_type": "slide"
    }
   },
   "source": [
    "Puede ver que la pérdida de entrenamiento disminuyó, lo cual es una buena señal, y la precisión de la validación alcanzó el 89,26 % después de 30 épocas.\n",
    "Eso no está muy lejos de la precisión del entrenamiento, por lo que no parece haber mucho sobreajuste."
   ]
  },
  {
   "cell_type": "markdown",
   "id": "436d8b7f",
   "metadata": {
    "slideshow": {
     "slide_type": "slide"
    }
   },
   "source": [
    "## Sugerencia"
   ]
  },
  {
   "cell_type": "markdown",
   "id": "e0b91a28",
   "metadata": {
    "slideshow": {
     "slide_type": "slide"
    }
   },
   "source": [
    "En lugar de pasar un conjunto de validación usando el argumento de `validation_data`, puede establecer la `validacion_split` en la proporción del conjunto de entrenamiento que desea que Keras use para la validación."
   ]
  },
  {
   "cell_type": "markdown",
   "id": "b9604553",
   "metadata": {
    "slideshow": {
     "slide_type": "slide"
    }
   },
   "source": [
    "Por ejemplo, `validation_split=0.1` le dice a Keras que use los últimos $10\\%$ de los datos (antes de barajar) para la validación."
   ]
  },
  {
   "cell_type": "markdown",
   "id": "5331703a",
   "metadata": {
    "slideshow": {
     "slide_type": "slide"
    }
   },
   "source": [
    "Si el conjunto de entrenamiento estaba muy sesgado, con algunas clases sobrerrepresentadas y otras subrepresentadas, sería útil establecer el argumento `class_weight` al llamar al método `fit()`, lo que daría un mayor peso a las clases subrepresentadas y un valor más bajo. peso a las clases sobrerrepresentadas."
   ]
  },
  {
   "cell_type": "markdown",
   "id": "8c5a12d7",
   "metadata": {
    "slideshow": {
     "slide_type": "slide"
    }
   },
   "source": [
    "Estos pesos serían utilizados por Keras al calcular la pérdida."
   ]
  },
  {
   "cell_type": "markdown",
   "id": "939cedb4",
   "metadata": {
    "slideshow": {
     "slide_type": "slide"
    }
   },
   "source": [
    "Si necesita ponderaciones por instancia, establezca el argumento `sample_weight` (reemplaza a `class_weight`)."
   ]
  },
  {
   "cell_type": "markdown",
   "id": "9a74452e",
   "metadata": {
    "slideshow": {
     "slide_type": "slide"
    }
   },
   "source": [
    "Las ponderaciones por instancia podrían ser útiles si algunas instancias fueran etiquetadas por expertos mientras que otras se etiquetaron mediante una plataforma de crowdsourcing: es posible que desee otorgar más peso a las primeras."
   ]
  },
  {
   "cell_type": "markdown",
   "id": "b22d8f47",
   "metadata": {
    "slideshow": {
     "slide_type": "slide"
    }
   },
   "source": [
    "You can also provide sample weights (but not class weights) for the validation set by adding them as a third item in the validation_data tuple."
   ]
  },
  {
   "cell_type": "markdown",
   "id": "c5a46f97",
   "metadata": {
    "slideshow": {
     "slide_type": "slide"
    }
   },
   "source": [
    "El método `fit()` devuelve un objeto Historial que contiene los parámetros de entrenamiento (history.params), la lista de épocas por las que pasó (history.epoch) y, lo que es más importante, un diccionario (history.history) que contiene la pérdida y las métricas adicionales. se midió al final de cada época en el conjunto de entrenamiento y en el conjunto de validación (si corresponde). "
   ]
  },
  {
   "cell_type": "markdown",
   "id": "335a0f6b",
   "metadata": {
    "slideshow": {
     "slide_type": "slide"
    }
   },
   "source": [
    "Si usa este diccionario para crear un DataFrame de pandas y llama a su método `plot()`, obtendrá las curvas de aprendizaje que se muestran en la Figura 10-12:"
   ]
  },
  {
   "cell_type": "code",
   "execution_count": null,
   "id": "c1da3512",
   "metadata": {
    "slideshow": {
     "slide_type": "slide"
    }
   },
   "outputs": [],
   "source": [
    "import pandas as pd\n",
    "import matplotlib.pyplot as plt\n",
    "pd.DataFrame(history.history).plot(figsize=(8, 5))\n",
    "plt.grid(True)\n",
    "plt.gca().set_ylim(0, 1) # set the vertical range to [0-1]\n",
    "plt.show()\n"
   ]
  },
  {
   "cell_type": "markdown",
   "id": "4bc6dffc",
   "metadata": {
    "slideshow": {
     "slide_type": "slide"
    }
   },
   "source": [
    "Puede ver que tanto la precisión del entrenamiento como la precisión de la validación aumentan constantemente durante el entrenamiento, mientras que la pérdida del entrenamiento y la pérdida de la validación disminuyen."
   ]
  },
  {
   "cell_type": "markdown",
   "id": "8405007b",
   "metadata": {
    "slideshow": {
     "slide_type": "slide"
    }
   },
   "source": [
    "¡Bueno! Además, las curvas de validación están cerca de las curvas de entrenamiento, lo que significa que no hay demasiado sobreajuste."
   ]
  },
  {
   "cell_type": "markdown",
   "id": "8d98650b",
   "metadata": {
    "slideshow": {
     "slide_type": "slide"
    }
   },
   "source": [
    "En este caso particular, parece que el modelo funcionó mejor en el conjunto de validación que en el conjunto de entrenamiento al comienzo del entrenamiento."
   ]
  },
  {
   "cell_type": "markdown",
   "id": "786bf73b",
   "metadata": {
    "slideshow": {
     "slide_type": "slide"
    }
   },
   "source": [
    "Pero ese no es el caso:\n",
    "de hecho, el error de validación se calcula al final de cada época, mientras que el error de entrenamiento se calcula utilizando una media móvil durante cada época."
   ]
  },
  {
   "cell_type": "markdown",
   "id": "d05260f8",
   "metadata": {
    "slideshow": {
     "slide_type": "slide"
    }
   },
   "source": [
    "Entonces, la curva de entrenamiento debe desplazarse media época hacia la izquierda. "
   ]
  },
  {
   "cell_type": "markdown",
   "id": "91bacb6a",
   "metadata": {
    "slideshow": {
     "slide_type": "slide"
    }
   },
   "source": [
    "Si hace eso, verá que las curvas de entrenamiento y validación se superponen casi perfectamente al comienzo del entrenamiento."
   ]
  },
  {
   "cell_type": "markdown",
   "id": "a8a15c90",
   "metadata": {
    "slideshow": {
     "slide_type": "slide"
    }
   },
   "source": [
    "## Sugerencia"
   ]
  },
  {
   "cell_type": "markdown",
   "id": "3908d0cf",
   "metadata": {
    "slideshow": {
     "slide_type": "slide"
    }
   },
   "source": [
    "Al trazar la curva de entrenamiento, debe desplazarse media época hacia la izquierda."
   ]
  },
  {
   "cell_type": "markdown",
   "id": "c65aad8d",
   "metadata": {
    "slideshow": {
     "slide_type": "slide"
    }
   },
   "source": [
    "El rendimiento del conjunto de entrenamiento termina superando al rendimiento de validación, como suele ser el caso cuando entrenas durante el tiempo suficiente."
   ]
  },
  {
   "cell_type": "markdown",
   "id": "73cb38e9",
   "metadata": {
    "slideshow": {
     "slide_type": "slide"
    }
   },
   "source": [
    "You can tell that the model has not quite converged yet, as the validation loss is still going down, so you should probably continue training. "
   ]
  },
  {
   "cell_type": "markdown",
   "id": "a8e990c4",
   "metadata": {
    "slideshow": {
     "slide_type": "slide"
    }
   },
   "source": [
    "It’s as simple as calling the fit() method again, since Keras just continues training where it left off (you should be able to reach close to 89% validation accuracy)."
   ]
  },
  {
   "cell_type": "markdown",
   "id": "4f2b10d7",
   "metadata": {
    "slideshow": {
     "slide_type": "slide"
    }
   },
   "source": [
    "If you are not satisfied with the performance of your model, you should go back and tune the hyperparameters. "
   ]
  },
  {
   "cell_type": "markdown",
   "id": "506a919c",
   "metadata": {
    "slideshow": {
     "slide_type": "slide"
    }
   },
   "source": [
    "The first one to check is the learning rate. "
   ]
  },
  {
   "cell_type": "markdown",
   "id": "eb651395",
   "metadata": {
    "slideshow": {
     "slide_type": "slide"
    }
   },
   "source": [
    "If that doesn’t help, try another optimizer (and always retune the learning rate after changing any hyperparameter). "
   ]
  },
  {
   "cell_type": "markdown",
   "id": "f74d1833",
   "metadata": {
    "slideshow": {
     "slide_type": "slide"
    }
   },
   "source": [
    "Si el rendimiento aún no es excelente, intente ajustar los hiperparámetros del modelo, como la cantidad de capas, la cantidad de neuronas por capa y los tipos de funciones de activación que se usarán para cada capa oculta."
   ]
  },
  {
   "cell_type": "markdown",
   "id": "1fcc50ad",
   "metadata": {
    "slideshow": {
     "slide_type": "slide"
    }
   },
   "source": [
    "You can also try tuning other hyperparameters, such as the batch size (it can be set in the fit() method using the batch_size argument, which defaults to 32). "
   ]
  },
  {
   "cell_type": "markdown",
   "id": "53e2c114",
   "metadata": {
    "slideshow": {
     "slide_type": "slide"
    }
   },
   "source": [
    "We will get back to hyperparameter tuning at the end of this chapter. "
   ]
  },
  {
   "cell_type": "markdown",
   "id": "ca64d0d8",
   "metadata": {
    "slideshow": {
     "slide_type": "slide"
    }
   },
   "source": [
    "Once you are satisfied with your model’s validation accuracy, you should evaluate it on the test set to estimate the generalization error before you deploy the model to production. "
   ]
  },
  {
   "cell_type": "markdown",
   "id": "cd8e6f56",
   "metadata": {
    "slideshow": {
     "slide_type": "slide"
    }
   },
   "source": [
    "You can easily do this using the evaluate() method (it also supports several other arguments, such as batch_size and sample_weight; please check the documentation for more details):"
   ]
  },
  {
   "cell_type": "code",
   "execution_count": null,
   "id": "17150b58",
   "metadata": {
    "slideshow": {
     "slide_type": "slide"
    }
   },
   "outputs": [],
   "source": [
    "model.evaluate(X_test, y_test)"
   ]
  },
  {
   "cell_type": "markdown",
   "id": "28ca7d21",
   "metadata": {
    "slideshow": {
     "slide_type": "slide"
    }
   },
   "source": [
    "Como vimos en el Capítulo 2, es común obtener un rendimiento ligeramente más bajo en el conjunto de prueba que en el conjunto de validación, porque los hiperparámetros se ajustan en el conjunto de validación, no en el conjunto de prueba (sin embargo, en este ejemplo, no hicimos cualquier ajuste de hiperparámetro, por lo que la menor precisión es solo mala suerte)."
   ]
  },
  {
   "cell_type": "markdown",
   "id": "1b75d0b7",
   "metadata": {
    "slideshow": {
     "slide_type": "slide"
    }
   },
   "source": [
    "Recuerde resistir la tentación de modificar los hiperparámetros en el conjunto de prueba, o su estimación del error de generalización será demasiado optimista."
   ]
  },
  {
   "cell_type": "markdown",
   "id": "927b11b4",
   "metadata": {
    "slideshow": {
     "slide_type": "slide"
    }
   },
   "source": [
    "Using the model to make predictions Next, we can use the model’s predict() method to make predictions on new instances. "
   ]
  },
  {
   "cell_type": "markdown",
   "id": "c96afbcf",
   "metadata": {
    "slideshow": {
     "slide_type": "slide"
    }
   },
   "source": [
    "Since we don’t have actual new instances, we will just use the first three instances of the test set:"
   ]
  },
  {
   "cell_type": "code",
   "execution_count": null,
   "id": "f723589b",
   "metadata": {
    "slideshow": {
     "slide_type": "slide"
    }
   },
   "outputs": [],
   "source": [
    "X_new = X_test[:3]\n",
    "y_proba = model.predict(X_new)\n",
    "y_proba.round(2)"
   ]
  },
  {
   "cell_type": "markdown",
   "id": "5f5345d7",
   "metadata": {
    "slideshow": {
     "slide_type": "slide"
    }
   },
   "source": [
    "Como puede ver, para cada instancia, el modelo estima una probabilidad por clase, desde la clase 0 hasta la clase 9."
   ]
  },
  {
   "cell_type": "markdown",
   "id": "6f70f5a8",
   "metadata": {
    "slideshow": {
     "slide_type": "slide"
    }
   },
   "source": [
    "Por ejemplo, para la primera imagen estima que la probabilidad de la clase 9 (botines) es del 96 %, la probabilidad de la clase 5 (sandalias) es del 3 %, la probabilidad de la clase 7 (zapatillas deportivas) es del 1 % y las probabilidades de las otras clases son despreciables."
   ]
  },
  {
   "cell_type": "markdown",
   "id": "7d577f09",
   "metadata": {
    "slideshow": {
     "slide_type": "slide"
    }
   },
   "source": [
    "En otras palabras, \"cree\" que la primera imagen es calzado, muy probablemente botines, pero posiblemente sandalias o zapatillas deportivas."
   ]
  },
  {
   "cell_type": "markdown",
   "id": "9b0d9ebb",
   "metadata": {
    "slideshow": {
     "slide_type": "slide"
    }
   },
   "source": [
    "Si solo te importa la clase con la probabilidad estimada más alta (incluso si esa probabilidad es bastante baja), entonces puedes usar el método `predict_classes()` en su lugar:"
   ]
  },
  {
   "cell_type": "code",
   "execution_count": null,
   "id": "a5d2d061",
   "metadata": {
    "slideshow": {
     "slide_type": "slide"
    }
   },
   "outputs": [],
   "source": [
    "y_pred = model.predict_classes(X_new)\n",
    "y_pred"
   ]
  },
  {
   "cell_type": "code",
   "execution_count": null,
   "id": "1c597dd1",
   "metadata": {
    "slideshow": {
     "slide_type": "slide"
    }
   },
   "outputs": [],
   "source": [
    "np.array(class_names)[y_pred]"
   ]
  },
  {
   "cell_type": "markdown",
   "id": "d7ce7572",
   "metadata": {
    "slideshow": {
     "slide_type": "slide"
    }
   },
   "source": [
    "Aquí, el clasificador en realidad clasificó las tres imágenes correctamente (estas imágenes se muestran en la Figura 10-13): \n"
   ]
  },
  {
   "cell_type": "code",
   "execution_count": null,
   "id": "a92ab8a7",
   "metadata": {
    "slideshow": {
     "slide_type": "slide"
    }
   },
   "outputs": [],
   "source": [
    "y_new = y_test[:3]\n",
    "y_new\n"
   ]
  },
  {
   "cell_type": "markdown",
   "id": "f0793977",
   "metadata": {
    "slideshow": {
     "slide_type": "slide"
    }
   },
   "source": [
    "<img src = 'https://github.com/marco-canas/didactica_ciencia_datos/blob/main/referentes/2_geron/part_2/c_10/figure_10_13.png?raw=true'>"
   ]
  },
  {
   "cell_type": "markdown",
   "id": "06161e73",
   "metadata": {
    "slideshow": {
     "slide_type": "slide"
    }
   },
   "source": [
    "Ahora sabe cómo usar la API secuencial para crear, entrenar, evaluar y usar una MLP de clasificación. Pero ¿qué pasa con la regresión?"
   ]
  },
  {
   "cell_type": "markdown",
   "id": "c3670d7a",
   "metadata": {
    "slideshow": {
     "slide_type": "slide"
    }
   },
   "source": [
    "## Creación de un MLP de regresión mediante la API secuencial"
   ]
  },
  {
   "cell_type": "markdown",
   "id": "2e72f037",
   "metadata": {
    "slideshow": {
     "slide_type": "slide"
    }
   },
   "source": [
    "Let’s switch to the California housing problem and tackle it using a regression neural network. "
   ]
  },
  {
   "cell_type": "markdown",
   "id": "a51f8136",
   "metadata": {
    "slideshow": {
     "slide_type": "slide"
    }
   },
   "source": [
    "For simplicity, we will use Scikit-Learn’s `fetch_california_housing()` function to load the data. "
   ]
  },
  {
   "cell_type": "markdown",
   "id": "51701eb1",
   "metadata": {
    "slideshow": {
     "slide_type": "slide"
    }
   },
   "source": [
    "This dataset is simpler than the one we used in Chapter 2, since it contains only numerical features (there is no `ocean_proximity` feature), and there is no missing value. "
   ]
  },
  {
   "cell_type": "markdown",
   "id": "dc5d47b1",
   "metadata": {
    "slideshow": {
     "slide_type": "slide"
    }
   },
   "source": [
    "After loading the data, we split it into a training set, a validation set, and a test set, and we scale all the features:"
   ]
  },
  {
   "cell_type": "code",
   "execution_count": null,
   "id": "35afbb30",
   "metadata": {
    "slideshow": {
     "slide_type": "slide"
    }
   },
   "outputs": [],
   "source": [
    "from sklearn.datasets import fetch_california_housing\n",
    "from sklearn.model_selection import train_test_split\n",
    "from sklearn.preprocessing import StandardScaler\n",
    "housing = fetch_california_housing()\n",
    "X_train_full, X_test, y_train_full, y_test = train_test_split(\n",
    "housing.data, housing.target)\n",
    "X_train, X_valid, y_train, y_valid = train_test_split(\n",
    "X_train_full, y_train_full)\n",
    "scaler = StandardScaler()\n",
    "X_train = scaler.fit_transform(X_train)\n",
    "X_valid = scaler.transform(X_valid)\n",
    "X_test = scaler.transform(X_test)"
   ]
  },
  {
   "cell_type": "markdown",
   "id": "f038afac",
   "metadata": {
    "slideshow": {
     "slide_type": "slide"
    }
   },
   "source": [
    "Using the Sequential API to build, train, evaluate, and use a regression MLP to make predictions is quite similar to what we did for classification."
   ]
  },
  {
   "cell_type": "markdown",
   "id": "a6b76d05",
   "metadata": {
    "slideshow": {
     "slide_type": "slide"
    }
   },
   "source": [
    "Las principales diferencias son el hecho de que la capa de salida tiene una sola neurona (ya que solo queremos predecir un solo valor) y no usa función de activación, y la función de pérdida es el error cuadrático medio."
   ]
  },
  {
   "cell_type": "markdown",
   "id": "a0ae80b3",
   "metadata": {
    "slideshow": {
     "slide_type": "slide"
    }
   },
   "source": [
    "Since the dataset is quite noisy, we just use a single hidden layer with fewer neurons than before, to avoid overfitting:"
   ]
  },
  {
   "cell_type": "code",
   "execution_count": null,
   "id": "634b47f1",
   "metadata": {
    "slideshow": {
     "slide_type": "slide"
    }
   },
   "outputs": [],
   "source": [
    "model = keras.models.Sequential([\n",
    "keras.layers.Dense(30, activation=\"relu\", input_shape=X_train.shape[1:]),\n",
    "keras.layers.Dense(1)\n",
    "])\n",
    "model.compile(loss=\"mean_squared_error\", optimizer=\"sgd\")\n",
    "history = model.fit(X_train, y_train, epochs=20,\n",
    "validation_data=(X_valid, y_valid))\n",
    "mse_test = model.evaluate(X_test, y_test)\n",
    "X_new = X_test[:3] # pretend these are new instances\n",
    "y_pred = model.predict(X_new)"
   ]
  },
  {
   "cell_type": "markdown",
   "id": "6db90f0c",
   "metadata": {
    "slideshow": {
     "slide_type": "slide"
    }
   },
   "source": [
    "As you can see, the Sequential API is quite easy to use. "
   ]
  },
  {
   "cell_type": "markdown",
   "id": "9c86e0f8",
   "metadata": {
    "slideshow": {
     "slide_type": "slide"
    }
   },
   "source": [
    "However, although Sequential models are extremely common, it is sometimes useful to build neural networks with more complex topologies, or with multiple inputs or outputs. "
   ]
  },
  {
   "cell_type": "markdown",
   "id": "99d4fc8a",
   "metadata": {
    "slideshow": {
     "slide_type": "slide"
    }
   },
   "source": [
    "For this purpose, Keras offers the Functional API."
   ]
  },
  {
   "cell_type": "markdown",
   "id": "769b4be6",
   "metadata": {
    "slideshow": {
     "slide_type": "slide"
    }
   },
   "source": [
    "## Creación de modelos complejos mediante la API funcional"
   ]
  },
  {
   "cell_type": "markdown",
   "id": "fcdca16a",
   "metadata": {
    "slideshow": {
     "slide_type": "slide"
    }
   },
   "source": [
    "Un ejemplo de una red neuronal no secuencial es una red neuronal amplia y profunda."
   ]
  },
  {
   "cell_type": "markdown",
   "id": "13cfa676",
   "metadata": {
    "slideshow": {
     "slide_type": "slide"
    }
   },
   "source": [
    "This neural network architecture was introduced in a 2016 paper by Heng-Tze Cheng et al. "
   ]
  },
  {
   "cell_type": "markdown",
   "id": "46900904",
   "metadata": {
    "slideshow": {
     "slide_type": "slide"
    }
   },
   "source": [
    "It connects all or part of the inputs directly to the output layer, as shown in Figure 10-14. "
   ]
  },
  {
   "cell_type": "markdown",
   "id": "f76d81a9",
   "metadata": {
    "slideshow": {
     "slide_type": "slide"
    }
   },
   "source": [
    "This architecture makes it possible for the neural network to learn both deep patterns (using the deep path) and simple rules (through the short path). "
   ]
  },
  {
   "cell_type": "markdown",
   "id": "c014ff24",
   "metadata": {
    "slideshow": {
     "slide_type": "slide"
    }
   },
   "source": [
    "In contrast, a regular MLP forces all the data to flow through the full stack of layers; thus, simple patterns in the data may end up being distorted by this sequence of transformations."
   ]
  },
  {
   "cell_type": "markdown",
   "id": "a864be61",
   "metadata": {
    "slideshow": {
     "slide_type": "slide"
    }
   },
   "source": [
    "<img src = 'https://github.com/marco-canas/didactica_ciencia_datos/blob/main/referentes/2_geron/part_2/c_10/figure_10_14.png?raw=true'>"
   ]
  },
  {
   "cell_type": "markdown",
   "id": "656bb841",
   "metadata": {
    "slideshow": {
     "slide_type": "slide"
    }
   },
   "source": [
    "Let’s build such a neural network to tackle the California housing problem:"
   ]
  },
  {
   "cell_type": "code",
   "execution_count": null,
   "id": "5f001dbf",
   "metadata": {
    "slideshow": {
     "slide_type": "slide"
    }
   },
   "outputs": [],
   "source": [
    "input_ = keras.layers.Input(shape=X_train.shape[1:])\n",
    "hidden1 = keras.layers.Dense(30, activation=\"relu\")(input_)\n",
    "hidden2 = keras.layers.Dense(30, activation=\"relu\")(hidden1)\n",
    "concat = keras.layers.Concatenate()([input_, hidden2])\n",
    "output = keras.layers.Dense(1)(concat)\n",
    "model = keras.Model(inputs=[input_], outputs=[output])\n"
   ]
  },
  {
   "cell_type": "markdown",
   "id": "7b735c11",
   "metadata": {
    "slideshow": {
     "slide_type": "slide"
    }
   },
   "source": [
    "Repasemos cada línea de este código:"
   ]
  },
  {
   "cell_type": "markdown",
   "id": "365aa95d",
   "metadata": {
    "slideshow": {
     "slide_type": "slide"
    }
   },
   "source": [
    "Primero, necesitamos crear un objeto de entrada."
   ]
  },
  {
   "cell_type": "markdown",
   "id": "65c5ef4d",
   "metadata": {
    "slideshow": {
     "slide_type": "slide"
    }
   },
   "source": [
    "Esta es una especificación del tipo de entrada que obtendrá el modelo, incluida su forma y tipo."
   ]
  },
  {
   "cell_type": "markdown",
   "id": "c4b34211",
   "metadata": {
    "slideshow": {
     "slide_type": "slide"
    }
   },
   "source": [
    "Un modelo en realidad puede tener múltiples entradas, como veremos en breve."
   ]
  },
  {
   "cell_type": "markdown",
   "id": "6e6936df",
   "metadata": {
    "slideshow": {
     "slide_type": "slide"
    }
   },
   "source": [
    "A continuación, creamos una capa densa con 30 neuronas, utilizando la función de activación de ReLU. "
   ]
  },
  {
   "cell_type": "markdown",
   "id": "83a4cda3",
   "metadata": {
    "slideshow": {
     "slide_type": "slide"
    }
   },
   "source": [
    "Tan pronto como se crea, observe que lo llamamos como una función, pasándole la entrada."
   ]
  },
  {
   "cell_type": "markdown",
   "id": "a959a8f4",
   "metadata": {
    "slideshow": {
     "slide_type": "slide"
    }
   },
   "source": [
    "This is why this is called the Functional API. "
   ]
  },
  {
   "cell_type": "markdown",
   "id": "2f2a83a6",
   "metadata": {
    "slideshow": {
     "slide_type": "slide"
    }
   },
   "source": [
    "Note that we are just telling Keras how it should connect the layers together; no actual data is being processed yet."
   ]
  },
  {
   "cell_type": "markdown",
   "id": "b2e06846",
   "metadata": {
    "slideshow": {
     "slide_type": "slide"
    }
   },
   "source": [
    "We then create a second hidden layer, and again we use it as a function. "
   ]
  },
  {
   "cell_type": "markdown",
   "id": "ac7866c1",
   "metadata": {
    "slideshow": {
     "slide_type": "slide"
    }
   },
   "source": [
    "Note that we pass it the output of the first hidden layer."
   ]
  },
  {
   "cell_type": "markdown",
   "id": "fe6f8a1b",
   "metadata": {
    "slideshow": {
     "slide_type": "slide"
    }
   },
   "source": [
    "Next, we create a Concatenate layer, and once again we immediately use it like a function, to concatenate the input and the\n",
    "output of the second hidden layer. "
   ]
  },
  {
   "cell_type": "markdown",
   "id": "bb810ac3",
   "metadata": {
    "slideshow": {
     "slide_type": "slide"
    }
   },
   "source": [
    "You may prefer the `keras.layers.concatenate()` function, which creates a Concatenate layer and immediately calls it with the given inputs."
   ]
  },
  {
   "cell_type": "markdown",
   "id": "6a2deae9",
   "metadata": {
    "slideshow": {
     "slide_type": "slide"
    }
   },
   "source": [
    "Then we create the output layer, with a single neuron and no activation function, and we call it like a function, passing it the\n",
    "result of the concatenation."
   ]
  },
  {
   "cell_type": "markdown",
   "id": "d2ce8a9c",
   "metadata": {
    "slideshow": {
     "slide_type": "slide"
    }
   },
   "source": [
    "Lastly, we create a Keras Model, specifying which inputs and outputs to use."
   ]
  },
  {
   "cell_type": "markdown",
   "id": "c4dba042",
   "metadata": {
    "slideshow": {
     "slide_type": "slide"
    }
   },
   "source": [
    "Once you have built the Keras model, everything is exactly like earlier, so there’s no need to repeat it here: you must compile the model, train it, evaluate it, and use it to make predictions."
   ]
  },
  {
   "cell_type": "markdown",
   "id": "ef0e1246",
   "metadata": {
    "slideshow": {
     "slide_type": "slide"
    }
   },
   "source": [
    "But what if you want to send a subset of the features through the wide path and a different subset (possibly overlapping) through the deep path (see Figure 10-15)? "
   ]
  },
  {
   "cell_type": "markdown",
   "id": "b544ca89",
   "metadata": {
    "slideshow": {
     "slide_type": "slide"
    }
   },
   "source": [
    "In this case, one solution is to use multiple inputs. "
   ]
  },
  {
   "cell_type": "markdown",
   "id": "9e6286fd",
   "metadata": {
    "slideshow": {
     "slide_type": "slide"
    }
   },
   "source": [
    "For example, suppose we want to send five features through the wide path (features 0 to 4), and six features through the deep path (features 2 to 7):"
   ]
  },
  {
   "cell_type": "code",
   "execution_count": null,
   "id": "06aa183f",
   "metadata": {
    "slideshow": {
     "slide_type": "slide"
    }
   },
   "outputs": [],
   "source": [
    "input_A = keras.layers.Input(shape=[5], name=\"wide_input\")\n",
    "input_B = keras.layers.Input(shape=[6], name=\"deep_input\")\n",
    "hidden1 = keras.layers.Dense(30, activation=\"relu\")(input_B)\n",
    "hidden2 = keras.layers.Dense(30, activation=\"relu\")(hidden1)\n",
    "concat = keras.layers.concatenate([input_A, hidden2])\n",
    "output = keras.layers.Dense(1, name=\"output\")(concat)\n",
    "model = keras.Model(inputs=[input_A, input_B], outputs=[output])\n"
   ]
  },
  {
   "cell_type": "markdown",
   "id": "382a4850",
   "metadata": {
    "slideshow": {
     "slide_type": "slide"
    }
   },
   "source": [
    "<img src = 'https://github.com/marco-canas/didactica_ciencia_datos/blob/main/referentes/2_geron/part_2/c_10/figure_10_15.png?raw=true'>"
   ]
  },
  {
   "cell_type": "markdown",
   "id": "43f4cc48",
   "metadata": {
    "slideshow": {
     "slide_type": "slide"
    }
   },
   "source": [
    "Repasemos cada línea de este código:\n",
    "\n",
    "* Primero, necesitamos crear un objeto de entrada. Esta es una especificación del tipo de entrada que obtendrá el modelo, incluida su forma y tipo."
   ]
  },
  {
   "cell_type": "markdown",
   "id": "fde0e5e3",
   "metadata": {},
   "source": [
    "* A model may actually have multiple inputs, as we will see shortly.\n"
   ]
  },
  {
   "cell_type": "markdown",
   "id": "0fff177d",
   "metadata": {},
   "source": [
    "A continuación, creamos una capa densa con 30 neuronas, utilizando la función de activación de ReLU. Tan pronto como se crea, observe que lo llamamos como una función, pasándole la entrada. Es por eso que esto se llama la API funcional."
   ]
  },
  {
   "cell_type": "markdown",
   "id": "efcc6a6e",
   "metadata": {},
   "source": [
    "Tenga en cuenta que solo le estamos diciendo a Keras cómo debe conectar las capas; todavía no se están procesando datos reales."
   ]
  },
  {
   "cell_type": "markdown",
   "id": "19ca0369",
   "metadata": {},
   "source": [
    "Luego creamos una segunda capa oculta y nuevamente la usamos como una función."
   ]
  },
  {
   "cell_type": "markdown",
   "id": "93fe57bf",
   "metadata": {},
   "source": [
    "Tenga en cuenta que le pasamos la salida de la primera capa oculta.\n"
   ]
  },
  {
   "cell_type": "markdown",
   "id": "0c0f2fa0",
   "metadata": {},
   "source": [
    "A continuación, creamos una capa Concatenar, y una vez más la usamos inmediatamente como una función, para concatenar la entrada y la salida de la segunda capa oculta. Es posible que prefiera la función `keras.layers.concatenate()`, que crea una capa Concatenar y la llama inmediatamente con las entradas dadas."
   ]
  },
  {
   "cell_type": "markdown",
   "id": "6b06bdf8",
   "metadata": {},
   "source": [
    "Luego creamos la capa de salida, con una sola neurona y sin función de activación, y la llamamos como una función, pasándole el resultado de la concatenación.\n",
    "Por último, creamos un Modelo Keras, especificando qué entradas y salidas usar.\n"
   ]
  },
  {
   "cell_type": "markdown",
   "id": "17cc785c",
   "metadata": {},
   "source": [
    "Una vez que haya construido el modelo de Keras, todo es exactamente como antes, por lo que no es necesario repetirlo aquí: debe compilar el modelo, entrenarlo, evaluarlo y usarlo para hacer predicciones."
   ]
  },
  {
   "cell_type": "markdown",
   "id": "05b135ee",
   "metadata": {},
   "source": [
    "Pero, ¿qué sucede si desea enviar un subconjunto de características a través de la ruta ancha y un subconjunto diferente (posiblemente superpuesto) a través de la ruta profunda (vea la Figura 10-15)? En este caso, una solución es usar múltiples entradas. Por ejemplo, supongamos que queremos enviar cinco características a través de la ruta ancha (características 0 a 4) y seis características a través de la ruta profunda (características 2 a 7):"
   ]
  },
  {
   "cell_type": "code",
   "execution_count": null,
   "id": "22393f44",
   "metadata": {
    "slideshow": {
     "slide_type": "slide"
    }
   },
   "outputs": [],
   "source": [
    "input_A = keras.layers.Input(shape=[5], name=\"wide_input\")\n",
    "input_B = keras.layers.Input(shape=[6], name=\"deep_input\")\n",
    "hidden1 = keras.layers.Dense(30, activation=\"relu\")(input_B)\n",
    "hidden2 = keras.layers.Dense(30, activation=\"relu\")(hidden1)\n",
    "concat = keras.layers.concatenate([input_A, hidden2])\n",
    "output = keras.layers.Dense(1, name=\"output\")(concat)\n",
    "model = keras.Model(inputs=[input_A, input_B], outputs=[output])\n"
   ]
  },
  {
   "cell_type": "markdown",
   "id": "6982a16c",
   "metadata": {
    "slideshow": {
     "slide_type": "slide"
    }
   },
   "source": [
    "El código se explica por sí mismo. Debe nombrar al menos las capas más importantes, especialmente cuando el modelo se vuelve un poco complejo como este. Tenga en cuenta que especificamos `inputs=[input_A, input_B]` al crear el modelo."
   ]
  },
  {
   "cell_type": "markdown",
   "id": "58485eb9",
   "metadata": {},
   "source": [
    "Ahora podemos compilar el modelo como de costumbre, pero cuando llamamos al método `fit()`, en lugar de pasar una única matriz de entrada `X_train`, debemos pasar un par de matrices `(X_train_A, X_train_B)`: una por entrada. Lo mismo es cierto para `X_valid`, y también para `X_test` y `X_new` cuando llamas a `evaluate()` o `predict()`:"
   ]
  },
  {
   "cell_type": "code",
   "execution_count": null,
   "id": "bff2904e",
   "metadata": {},
   "outputs": [],
   "source": [
    "model.compile(loss=\"mse\", optimizer=keras.optimizers.SGD(lr=1e-3))\n",
    "X_train_A, X_train_B = X_train[:, :5], X_train[:, 2:]\n",
    "X_valid_A, X_valid_B = X_valid[:, :5], X_valid[:, 2:]\n",
    "X_test_A, X_test_B = X_test[:, :5], X_test[:, 2:]\n",
    "X_new_A, X_new_B = X_test_A[:3], X_test_B[:3]\n",
    "history = model.fit((X_train_A, X_train_B), y_train, epochs=20,\n",
    "validation_data=((X_valid_A, X_valid_B), y_valid))\n",
    "mse_test = model.evaluate((X_test_A, X_test_B), y_test)\n",
    "y_pred = model.predict((X_new_A, X_new_B))"
   ]
  },
  {
   "cell_type": "markdown",
   "id": "a74f9b4b",
   "metadata": {},
   "source": [
    "Hay muchos casos de uso en los que es posible que desee tener múltiples salidas:\n",
    "\n",
    "La tarea puede exigirlo. Por ejemplo, es posible que desee localizar y clasificar el objeto principal de una imagen."
   ]
  },
  {
   "cell_type": "markdown",
   "id": "03562f73",
   "metadata": {},
   "source": [
    "Esta es tanto una tarea de regresión (encontrar las coordenadas del centro del objeto, así como su ancho y alto) y una tarea de clasificación.\n"
   ]
  },
  {
   "cell_type": "markdown",
   "id": "69f453ea",
   "metadata": {},
   "source": [
    "Del mismo modo, puede tener múltiples tareas independientes basadas en los mismos datos."
   ]
  },
  {
   "cell_type": "markdown",
   "id": "414d1e80",
   "metadata": {},
   "source": [
    "Claro, podría entrenar una red neuronal por tarea, pero en muchos casos obtendrá mejores resultados en todas las tareas al entrenar una sola red neuronal con una salida por tarea."
   ]
  },
  {
   "cell_type": "markdown",
   "id": "f468ce3b",
   "metadata": {},
   "source": [
    "Esto se debe a que la red neuronal puede aprender características en los datos que son útiles en todas las tareas. Por ejemplo, podría realizar una clasificación multitarea en imágenes de caras, utilizando una salida para clasificar la expresión facial de la persona (sonriente, sorprendida, etc.) y otra salida para identificar si lleva gafas o no."
   ]
  },
  {
   "cell_type": "markdown",
   "id": "5c99c063",
   "metadata": {},
   "source": [
    "Otro caso de uso es como técnica de regularización (es decir, una restricción de entrenamiento cuyo objetivo es reducir el sobreajuste y, por lo tanto, mejorar la capacidad de generalización del modelo)."
   ]
  },
  {
   "cell_type": "markdown",
   "id": "461e238a",
   "metadata": {},
   "source": [
    "Por ejemplo, es posible que desee agregar algunas salidas auxiliares en una arquitectura de red neuronal (consulte la Figura 10-16) para asegurarse de que la parte subyacente de la red aprenda algo útil por sí misma, sin depender del resto de la red."
   ]
  },
  {
   "cell_type": "markdown",
   "id": "ab537379",
   "metadata": {},
   "source": [
    "<img src = 'https://github.com/marco-canas/didactica_ciencia_datos/blob/main/referentes/2_geron/part_2/c_10/fig_10_16.png?raw=true'>"
   ]
  },
  {
   "cell_type": "markdown",
   "id": "3a49050b",
   "metadata": {},
   "source": [
    "Agregar salidas adicionales es bastante fácil: simplemente conéctelas a las capas apropiadas y agréguelas a la lista de salidas de su modelo. Por ejemplo, el siguiente código construye la red representada en la figura 10-16:"
   ]
  },
  {
   "cell_type": "code",
   "execution_count": null,
   "id": "e3125970",
   "metadata": {},
   "outputs": [],
   "source": [
    "[...] # Same as above, up to the main output layer\n",
    "output = keras.layers.Dense(1, name=\"main_output\")(concat)\n",
    "aux_output = keras.layers.Dense(1, name=\"aux_output\")(hidden2)\n",
    "model = keras.Model(inputs=[input_A, input_B], outputs=[output, aux_output])"
   ]
  },
  {
   "cell_type": "markdown",
   "id": "4fab7037",
   "metadata": {},
   "source": [
    "Cada salida necesitará su propia función de pérdida."
   ]
  },
  {
   "cell_type": "markdown",
   "id": "f5fd5be1",
   "metadata": {},
   "source": [
    "Por lo tanto, cuando compilamos el modelo, debemos pasar una lista de pérdidas (si pasamos una sola pérdida, Keras asumirá que se debe usar la misma pérdida para todas las salidas). De forma predeterminada, Keras calculará todas estas pérdidas y simplemente las sumará para obtener la pérdida final utilizada para el entrenamiento. ."
   ]
  },
  {
   "cell_type": "markdown",
   "id": "7e9b365b",
   "metadata": {},
   "source": [
    "Nos importa mucho más la salida principal que la salida auxiliar (ya que solo se usa para la regularización), por lo que queremos darle a la pérdida de la salida principal un peso mucho mayor."
   ]
  },
  {
   "cell_type": "markdown",
   "id": "c25102ab",
   "metadata": {},
   "source": [
    "Afortunadamente, es posible establecer todos los pesos de pérdida al compilar el modelo:"
   ]
  },
  {
   "cell_type": "code",
   "execution_count": null,
   "id": "5a5fc9e0",
   "metadata": {},
   "outputs": [],
   "source": [
    "model.compile(loss=[\"mse\", \"mse\"], loss_weights=[0.9, 0.1], optimizer=\"sgd\")\n"
   ]
  },
  {
   "cell_type": "markdown",
   "id": "af57bec4",
   "metadata": {},
   "source": [
    "Now when we train the model, we need to provide labels for each output. In\n",
    "this example, the main output and the auxiliary output should try to predict\n",
    "the same thing, so they should use the same labels. So instead of passing\n",
    "y_train, we need to pass (y_train, y_train) (and the same goes for\n",
    "y_valid and y_test):"
   ]
  },
  {
   "cell_type": "code",
   "execution_count": null,
   "id": "4a640245",
   "metadata": {},
   "outputs": [],
   "source": []
  },
  {
   "cell_type": "code",
   "execution_count": null,
   "id": "80e054c1",
   "metadata": {},
   "outputs": [],
   "source": []
  },
  {
   "cell_type": "code",
   "execution_count": null,
   "id": "00b09fea",
   "metadata": {},
   "outputs": [],
   "source": [
    "import numpy as np "
   ]
  },
  {
   "cell_type": "code",
   "execution_count": null,
   "id": "d4a14ccd",
   "metadata": {},
   "outputs": [],
   "source": []
  },
  {
   "cell_type": "code",
   "execution_count": null,
   "id": "53d6ff05",
   "metadata": {
    "slideshow": {
     "slide_type": "slide"
    }
   },
   "outputs": [],
   "source": []
  },
  {
   "cell_type": "markdown",
   "id": "698a2048",
   "metadata": {
    "slideshow": {
     "slide_type": "slide"
    }
   },
   "source": [
    "## Referentes  \n",
    "\n",
    "* El repositorio en GitHub del capítulo 10 de Geron: https://github.com/ageron/handson-ml3\n",
    "\n",
    "* La clase Perceptron de sklearn: https://scikit-learn.org/stable/modules/generated/sklearn.linear_model.Perceptron.html  \n",
    "\n",
    "* 3Blue1Brown: https://www.youtube.com/watch?v=CyPjDPKtycM\n",
    "\n",
    "* Jugar creando redes neuronales: https://playground.tensorflow.org/#activation=tanh&batchSize=10&dataset=circle&regDataset=reg-plane&learningRate=0.03&regularizationRate=0&noise=0&networkShape=4,2&seed=0.84459&showTestData=false&discretize=false&percTrainData=50&x=true&y=true&xTimesY=false&xSquared=false&ySquared=false&cosX=false&sinX=false&cosY=false&sinY=false&collectStats=false&problem=classification&initZero=false&hideText=false\n",
    "\n",
    "* documentación de la API keras: https://keras.io/  \n",
    "\n",
    "* Layer activation functions: https://keras.io/api/layers/activations/\n",
    "\n",
    "* Documentación de la API Keras:  https://keras.io/examples/vision/image_classification_from_scratch/\n",
    "\n",
    "* Qué significa digitalizar una imagen: https://sites.google.com/site/prinbasicdigitalimagenes/-como-se-digitaliza-una-imagen \n",
    "\n",
    "* Diferentes funciones de activación de Keras: https://keras.io/api/layers/activations/  \n",
    "\n"
   ]
  },
  {
   "cell_type": "code",
   "execution_count": null,
   "id": "ee3e1c1a",
   "metadata": {},
   "outputs": [],
   "source": [
    "import tensorflow as tf "
   ]
  },
  {
   "cell_type": "code",
   "execution_count": null,
   "id": "5b642339",
   "metadata": {},
   "outputs": [],
   "source": []
  }
 ],
 "metadata": {
  "celltoolbar": "Slideshow",
  "kernelspec": {
   "display_name": "Python 3 (ipykernel)",
   "language": "python",
   "name": "python3"
  },
  "language_info": {
   "codemirror_mode": {
    "name": "ipython",
    "version": 3
   },
   "file_extension": ".py",
   "mimetype": "text/x-python",
   "name": "python",
   "nbconvert_exporter": "python",
   "pygments_lexer": "ipython3",
   "version": "3.9.13"
  },
  "rise": {
   "theme": "sky"
  },
  "vscode": {
   "interpreter": {
    "hash": "af153e239d61b5c0d363f35fe8a0509d492506f382d017c98fa3fb49fce70a72"
   }
  }
 },
 "nbformat": 4,
 "nbformat_minor": 5
}
