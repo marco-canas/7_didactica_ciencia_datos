{
 "cells": [
  {
   "cell_type": "markdown",
   "id": "53ec3f7e",
   "metadata": {
    "slideshow": {
     "slide_type": "slide"
    }
   },
   "source": [
    "<table align=\"left\">\n",
    "  <td>\n",
    "    <a href=\"https://colab.research.google.com/github/marco-canas/taca/blob/main/prop/unidad_didac/visualizacion/2_seaborn/visualizing_categorical.ipynb\" target=\"_parent\"><img src=\"https://colab.research.google.com/assets/colab-badge.svg\" alt=\"Open In Colab\"/></a>\n",
    "  </td>\n",
    "</table>"
   ]
  },
  {
   "cell_type": "markdown",
   "id": "b0d7cae2",
   "metadata": {
    "slideshow": {
     "slide_type": "slide"
    }
   },
   "source": [
    "# Chapter 1 – The Machine Learning landscape"
   ]
  },
  {
   "cell_type": "markdown",
   "metadata": {},
   "source": [
    "When most people hear “Machine Learning,” they picture a robot: a dependable butler or a deadly Terminator, depending on who you ask.   \n",
    "\n",
    "Cuando la mayoría de las personas escuchan “Aprendizaje automático”, se imaginan un robot: un mayordomo confiable o un Terminator mortal, según a quién le pregunten."
   ]
  },
  {
   "cell_type": "markdown",
   "metadata": {},
   "source": [
    "But\n",
    "Machine Learning is not just a futuristic fantasy; it’s already here. "
   ]
  },
  {
   "cell_type": "markdown",
   "metadata": {},
   "source": [
    "In fact, it has been around for decades in some specialized applications, such as\n",
    "Optical Character Recognition (OCR). "
   ]
  },
  {
   "cell_type": "markdown",
   "metadata": {},
   "source": [
    "But the first ML application that really became mainstream, improving the lives of hundreds of millions of people, took over the world back in the 1990s: the spam filter. "
   ]
  },
  {
   "cell_type": "markdown",
   "metadata": {},
   "source": [
    "It’s not\n",
    "exactly a self-aware Skynet, but it does technically qualify as Machine\n",
    "Learning (it has actually learned so well that you seldom need to flag an\n",
    "email as spam anymore). It was followed by hundreds of ML applications\n",
    "that now quietly power hundreds of products and features that you use\n",
    "regularly, from better recommendations to voice search.\n"
   ]
  },
  {
   "cell_type": "markdown",
   "metadata": {},
   "source": [
    "Where does Machine Learning start and where does it end? What exactly\n",
    "does it mean for a machine to learn something? If I download a copy of\n",
    "Wikipedia, has my computer really learned something? Is it suddenly\n",
    "smarter? In this chapter we will start by clarifying what Machine Learning\n",
    "is and why you may want to use it.\n",
    "Then, before we set out to explore the Machine Learning continent, we\n",
    "will take a look at the map and learn about the main regions and the most\n",
    "notable landmarks: supervised versus unsupervised learning, online versus\n",
    "batch learning, instance-based versus model-based learning. Then we will\n",
    "look at the workflow of a typical ML project, discuss the main challenges\n",
    "you may face, and cover how to evaluate and fine-tune a Machine\n",
    "Learning system.\n"
   ]
  },
  {
   "cell_type": "markdown",
   "metadata": {},
   "source": [
    "This chapter introduces a lot of fundamental concepts (and jargon) that\n",
    "every data scientist should know by heart. It will be a high-level overview\n",
    "(it’s the only chapter without much code), all rather simple, but you should make sure everything is crystal clear to you before continuing on to the\n",
    "rest of the book. So grab a coffee and let’s get started!"
   ]
  },
  {
   "cell_type": "markdown",
   "id": "bd696ba6",
   "metadata": {
    "slideshow": {
     "slide_type": "slide"
    }
   },
   "source": [
    "Este cuaderno contiene los ejemplos de código del capítulo 1."
   ]
  },
  {
   "cell_type": "markdown",
   "id": "0d8fd81a",
   "metadata": {
    "slideshow": {
     "slide_type": "slide"
    }
   },
   "source": [
    "También encontrará las soluciones de los ejercicios al final del cuaderno."
   ]
  },
  {
   "cell_type": "markdown",
   "id": "e1a0bb8d",
   "metadata": {
    "slideshow": {
     "slide_type": "slide"
    }
   },
   "source": [
    "El resto de este cuaderno se utiliza para generar `lifesat.csv` a partir de las fuentes de datos originales y algunas de las figuras de este capítulo."
   ]
  },
  {
   "cell_type": "markdown",
   "id": "8e76bdae",
   "metadata": {
    "slideshow": {
     "slide_type": "slide"
    }
   },
   "source": [
    "Le invitamos a revisar el código en este cuaderno si lo desea, pero la verdadera acción comienza en el próximo capítulo."
   ]
  },
  {
   "cell_type": "markdown",
   "id": "53d62ade",
   "metadata": {
    "slideshow": {
     "slide_type": "slide"
    }
   },
   "source": [
    "\n",
    "## Setup\n",
    "\n",
    "Python 3.7 is required:\n"
   ]
  },
  {
   "cell_type": "code",
   "execution_count": 3,
   "id": "bdc84da3",
   "metadata": {
    "slideshow": {
     "slide_type": "slide"
    }
   },
   "outputs": [],
   "source": [
    "import sys\n",
    "assert sys.version_info >= (3,7) "
   ]
  },
  {
   "cell_type": "markdown",
   "id": "cd73ecb6",
   "metadata": {
    "slideshow": {
     "slide_type": "slide"
    }
   },
   "source": [
    "Haga que la salida de este cuaderno sea estable en todas las ejecuciones:"
   ]
  },
  {
   "cell_type": "code",
   "execution_count": 1,
   "id": "db8f6963",
   "metadata": {
    "slideshow": {
     "slide_type": "slide"
    }
   },
   "outputs": [],
   "source": [
    "import numpy as np \n",
    "np.random.seed(42)"
   ]
  },
  {
   "cell_type": "markdown",
   "id": "df6c6135",
   "metadata": {
    "slideshow": {
     "slide_type": "slide"
    }
   },
   "source": [
    "Scikit-Learn ≥1.0 is required:"
   ]
  },
  {
   "cell_type": "code",
   "execution_count": 6,
   "id": "f6a8c456",
   "metadata": {
    "slideshow": {
     "slide_type": "slide"
    }
   },
   "outputs": [],
   "source": [
    "import sklearn\n",
    "assert sklearn.__version__ >= '1.0'"
   ]
  },
  {
   "cell_type": "markdown",
   "id": "448a57a6",
   "metadata": {
    "slideshow": {
     "slide_type": "slide"
    }
   },
   "source": [
    "Definamos los tamaños de fuente predeterminados, para trazar figuras bonitas:"
   ]
  },
  {
   "cell_type": "code",
   "execution_count": 7,
   "id": "07a05d33",
   "metadata": {
    "slideshow": {
     "slide_type": "slide"
    }
   },
   "outputs": [],
   "source": [
    "import matplotlib.pyplot as plt\n",
    "\n",
    "plt.rc('font', size=12)\n",
    "plt.rc('axes', labelsize=14, titlesize=14)\n",
    "plt.rc('legend', fontsize=12)\n",
    "plt.rc('xtick', labelsize=10)\n",
    "plt.rc('ytick', labelsize=10)"
   ]
  },
  {
   "cell_type": "markdown",
   "id": "3869ad4e",
   "metadata": {
    "slideshow": {
     "slide_type": "slide"
    }
   },
   "source": [
    "# Code example 1-1"
   ]
  },
  {
   "cell_type": "code",
   "execution_count": null,
   "id": "21f96191",
   "metadata": {
    "slideshow": {
     "slide_type": "slide"
    }
   },
   "outputs": [],
   "source": [
    "import matplotlib.pyplot as plt\n",
    "import numpy as np\n",
    "import pandas as pd\n",
    "from sklearn.linear_model import LinearRegression\n",
    "\n",
    "# Download and prepare the data\n",
    "data_root = \"https://github.com/ageron/data/raw/main/\"\n",
    "lifesat = pd.read_csv(data_root + \"lifesat/lifesat.csv\")\n",
    "X = lifesat[[\"GDP per capita (USD)\"]].values\n",
    "y = lifesat[[\"Life satisfaction\"]].values\n",
    "\n",
    "# Visualize the data\n",
    "lifesat.plot(kind='scatter', grid=True,\n",
    "             x=\"GDP per capita (USD)\", y=\"Life satisfaction\")\n",
    "plt.axis([23_500, 62_500, 4, 9])\n",
    "plt.show()\n",
    "\n",
    "# Select a linear model\n",
    "model = LinearRegression()\n",
    "\n",
    "# Train the model\n",
    "model.fit(X, y)\n",
    "\n",
    "# Make a prediction for Cyprus\n",
    "X_new = [[37_655.2]]  # Cyprus' GDP per capita in 2020\n",
    "print(model.predict(X_new)) # outputs [[6.30165767]]"
   ]
  },
  {
   "cell_type": "markdown",
   "id": "40902d45",
   "metadata": {
    "slideshow": {
     "slide_type": "slide"
    }
   },
   "source": [
    "Replacing the Linear Regression model with k-Nearest Neighbors (in this example, $k = 3$) regression in the previous code is as simple as replacing these two lines:"
   ]
  },
  {
   "cell_type": "code",
   "execution_count": 2,
   "id": "77ddb6a2",
   "metadata": {
    "slideshow": {
     "slide_type": "slide"
    }
   },
   "outputs": [],
   "source": [
    "from sklearn.linear_model import LinearRegression\n",
    "model = LinearRegression()"
   ]
  },
  {
   "cell_type": "code",
   "execution_count": null,
   "id": "ed1af479",
   "metadata": {
    "slideshow": {
     "slide_type": "-"
    }
   },
   "outputs": [],
   "source": []
  },
  {
   "cell_type": "code",
   "execution_count": null,
   "id": "311ab21f",
   "metadata": {},
   "outputs": [],
   "source": []
  },
  {
   "cell_type": "code",
   "execution_count": null,
   "id": "74cf6f87",
   "metadata": {},
   "outputs": [],
   "source": []
  },
  {
   "cell_type": "code",
   "execution_count": null,
   "id": "1aa51341",
   "metadata": {},
   "outputs": [],
   "source": []
  },
  {
   "cell_type": "code",
   "execution_count": null,
   "id": "8f4fc319",
   "metadata": {},
   "outputs": [],
   "source": []
  },
  {
   "cell_type": "code",
   "execution_count": null,
   "id": "a84e22f1",
   "metadata": {},
   "outputs": [],
   "source": []
  },
  {
   "cell_type": "code",
   "execution_count": null,
   "id": "ac5fbd03",
   "metadata": {},
   "outputs": [],
   "source": []
  },
  {
   "cell_type": "code",
   "execution_count": null,
   "id": "9dfc31b5",
   "metadata": {
    "slideshow": {
     "slide_type": "slide"
    }
   },
   "outputs": [],
   "source": []
  },
  {
   "cell_type": "code",
   "execution_count": null,
   "id": "a5d4321f",
   "metadata": {
    "slideshow": {
     "slide_type": "slide"
    }
   },
   "outputs": [],
   "source": []
  },
  {
   "cell_type": "code",
   "execution_count": null,
   "id": "a4381233",
   "metadata": {
    "slideshow": {
     "slide_type": "slide"
    }
   },
   "outputs": [],
   "source": []
  },
  {
   "cell_type": "code",
   "execution_count": null,
   "id": "3753156d",
   "metadata": {},
   "outputs": [],
   "source": []
  },
  {
   "cell_type": "markdown",
   "id": "af5277b4",
   "metadata": {
    "slideshow": {
     "slide_type": "slide"
    }
   },
   "source": [
    "## Referentes  \n",
    "\n",
    "* Cuaderno del primer capítulo de Geron: https://github.com/ageron/handson-ml3/blob/main/01_the_machine_learning_landscape.ipynb  \n",
    "\n"
   ]
  },
  {
   "cell_type": "code",
   "execution_count": null,
   "id": "a6220966",
   "metadata": {},
   "outputs": [],
   "source": []
  }
 ],
 "metadata": {
  "celltoolbar": "Slideshow",
  "kernelspec": {
   "display_name": "Python 3 (ipykernel)",
   "language": "python",
   "name": "python3"
  },
  "language_info": {
   "codemirror_mode": {
    "name": "ipython",
    "version": 3
   },
   "file_extension": ".py",
   "mimetype": "text/x-python",
   "name": "python",
   "nbconvert_exporter": "python",
   "pygments_lexer": "ipython3",
   "version": "3.9.12"
  }
 },
 "nbformat": 4,
 "nbformat_minor": 5
}
