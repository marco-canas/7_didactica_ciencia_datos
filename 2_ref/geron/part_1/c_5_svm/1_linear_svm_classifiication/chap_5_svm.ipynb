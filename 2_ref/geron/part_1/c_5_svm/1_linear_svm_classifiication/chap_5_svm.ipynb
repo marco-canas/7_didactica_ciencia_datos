{
 "cells": [
  {
   "cell_type": "markdown",
   "id": "b60c0a4a",
   "metadata": {
    "slideshow": {
     "slide_type": "skip"
    }
   },
   "source": [
    "<table align=\"left\">\n",
    "  <td>\n",
    "    <a href=\"https://colab.research.google.com/github/marco-canas/didactica_ciencia_datos/blob/main/2_referentes/geron/part_1/c_5/chap_5_svm.ipynb\" target=\"_parent\"><img src=\"https://colab.research.google.com/assets/colab-badge.svg\" alt=\"Open In Colab\"/></a>\n",
    "  </td>\n",
    "</table>"
   ]
  },
  {
   "cell_type": "markdown",
   "id": "43f50600",
   "metadata": {
    "slideshow": {
     "slide_type": "slide"
    }
   },
   "source": [
    "# Chapter 5. Support Vector Machines"
   ]
  },
  {
   "cell_type": "markdown",
   "id": "01790174",
   "metadata": {
    "slideshow": {
     "slide_type": "skip"
    }
   },
   "source": [
    "# Guido Van Rossum Creador de Python\n",
    "<img src = 'https://upload.wikimedia.org/wikipedia/commons/thumb/6/66/Guido_van_Rossum_OSCON_2006.jpg/300px-Guido_van_Rossum_OSCON_2006.jpg'>"
   ]
  },
  {
   "cell_type": "markdown",
   "id": "dce54dba",
   "metadata": {},
   "source": [
    "A Support Vector Machine (SVM) is a powerful and versatile Machine Learning model, capable of performing linear or nonlinear classification, regression, and even outlier detection. It is one of the most popular models in Machine Learning, and anyone interested in Machine Learning should have it in their toolbox. SVMs are particularly well suited for classification of complex small- or medium-sized datasets.\n",
    "This chapter will explain the core concepts of SVMs, how to use them, and how they work."
   ]
  },
  {
   "cell_type": "markdown",
   "id": "541097ce",
   "metadata": {
    "slideshow": {
     "slide_type": "slide"
    }
   },
   "source": [
    "Una máquina de soporte vectorial (SVM) es un modelo de aprendizaje automático potente y versátil, capaz de realizar \n",
    "* clasificación lineal o no lineal, \n",
    "* regresión e \n",
    "* incluso detección de valores atípicos."
   ]
  },
  {
   "cell_type": "markdown",
   "id": "19b4a4c6",
   "metadata": {
    "slideshow": {
     "slide_type": "slide"
    }
   },
   "source": [
    "* Es uno de los modelos más populares en Machine Learning, y \n",
    "* cualquier persona interesada en Machine Learning debería tenerlo en su caja de herramientas."
   ]
  },
  {
   "cell_type": "markdown",
   "id": "cf76a4bb",
   "metadata": {
    "slideshow": {
     "slide_type": "slide"
    }
   },
   "source": [
    "Las SVM son particularmente adecuadas para la clasificación de conjuntos de datos complejos de tamaño pequeño o mediano."
   ]
  },
  {
   "cell_type": "markdown",
   "id": "64899e27",
   "metadata": {
    "slideshow": {
     "slide_type": "slide"
    }
   },
   "source": [
    "Este capítulo explicará \n",
    "* los conceptos básicos de las SVM, \n",
    "* cómo usarlas y \n",
    "* cómo funcionan."
   ]
  },
  {
   "cell_type": "markdown",
   "id": "4885bb1f",
   "metadata": {
    "slideshow": {
     "slide_type": "slide"
    }
   },
   "source": [
    "## Linear SVM Classification"
   ]
  },
  {
   "cell_type": "markdown",
   "id": "0a6921aa",
   "metadata": {},
   "source": [
    "\n",
    "The fundamental idea behind SVMs is best explained with some pictures. "
   ]
  },
  {
   "cell_type": "markdown",
   "id": "19c96522",
   "metadata": {},
   "source": [
    "Figure 5-1 shows part of the iris dataset that was introduced at the end of Chapter 4. "
   ]
  },
  {
   "cell_type": "markdown",
   "id": "6321dc32",
   "metadata": {},
   "source": [
    "The two classes can clearly be separated easily with a straight line (they are linearly separable). "
   ]
  },
  {
   "cell_type": "markdown",
   "id": "bae37baf",
   "metadata": {},
   "source": [
    "The left plot shows the decision boundaries of three possible linear classifiers. The model whose\n",
    "decision boundary is represented by the dashed line is so bad that it does not even separate\n",
    "the classes properly. "
   ]
  },
  {
   "cell_type": "markdown",
   "id": "0eb7f693",
   "metadata": {},
   "source": [
    "The other two models work perfectly on this training set, but their decision boundaries come so close to the instances that these models will probably not perform as well on new instances. "
   ]
  },
  {
   "cell_type": "markdown",
   "id": "091dd614",
   "metadata": {},
   "source": [
    "In contrast, the solid line in the plot on the right represents the decision boundary of an SVM classifier; this line not only separates the two classes but also stays as far away from the closest training instances as possible. "
   ]
  },
  {
   "cell_type": "markdown",
   "id": "8b08cc7b",
   "metadata": {},
   "source": [
    "You can\n",
    "think of an SVM classifier as fitting the widest possible street (represented by the parallel\n",
    "dashed lines) between the classes. This is called large margin classification."
   ]
  },
  {
   "cell_type": "markdown",
   "id": "2792f3f6",
   "metadata": {
    "slideshow": {
     "slide_type": "slide"
    }
   },
   "source": [
    "La idea fundamental detrás de las SVM se explica mejor con algunas imágenes."
   ]
  },
  {
   "cell_type": "markdown",
   "id": "39f0c382",
   "metadata": {
    "slideshow": {
     "slide_type": "slide"
    }
   },
   "source": [
    "La Figura 5-1 muestra parte del conjunto de datos del iris que se presentó al final del Capítulo 4."
   ]
  },
  {
   "cell_type": "markdown",
   "id": "32c15bbb",
   "metadata": {
    "slideshow": {
     "slide_type": "slide"
    }
   },
   "source": [
    "<img src = 'https://github.com/marco-canas/didactica_ciencia_datos/blob/main/4_images/images_of_referents/geron/5_chapter/fig_5_1.png?raw=true'>"
   ]
  },
  {
   "cell_type": "markdown",
   "id": "4b33fe9e",
   "metadata": {
    "slideshow": {
     "slide_type": "slide"
    }
   },
   "source": [
    "Las dos clases se pueden separar fácilmente con una línea recta (son linealmente separables). "
   ]
  },
  {
   "cell_type": "markdown",
   "id": "63a1babb",
   "metadata": {
    "slideshow": {
     "slide_type": "slide"
    }
   },
   "source": [
    "El gráfico de la izquierda muestra los **límites de decisión** de tres posibles clasificadores lineales."
   ]
  },
  {
   "cell_type": "markdown",
   "id": "d503aa50",
   "metadata": {},
   "source": [
    "Notice that adding more training instances “off the street” will not affect the decision boundary at all: it is fully determined (or “supported”) by the instances located on the edge of the street. "
   ]
  },
  {
   "cell_type": "markdown",
   "id": "548b3212",
   "metadata": {},
   "source": [
    "These instances are called the support vectors (they are circled in Figure 5-1)."
   ]
  },
  {
   "cell_type": "markdown",
   "id": "394d4433",
   "metadata": {},
   "source": [
    "![Sencitivity of feature scale](https://github.com/marco-canas/didactica_ciencia_datos/blob/main/4_images/images_of_referents/geron/5_chapter/fig_5_2.png?raw=true)"
   ]
  },
  {
   "cell_type": "markdown",
   "id": "9f941e60",
   "metadata": {},
   "source": [
    "## WARNING  \n",
    "\n",
    "SVMs are sensitive to the feature scales, as you can see in Figure 5-2: in the left plot, the vertical scale is much larger than the horizontal scale, so the widest possible street is close to horizontal. "
   ]
  },
  {
   "cell_type": "markdown",
   "id": "99cfc855",
   "metadata": {},
   "source": [
    "After feature scaling (e.g., using Scikit-Learn’s StandardScaler ), the decision boundary in the right plot looks much\n",
    "better."
   ]
  },
  {
   "cell_type": "markdown",
   "id": "e5365cb9",
   "metadata": {},
   "source": [
    "# Soft Margin Classification  \n"
   ]
  },
  {
   "cell_type": "markdown",
   "id": "4f27535b",
   "metadata": {},
   "source": [
    "\n",
    "If we strictly impose that all instances must be off the street and on the right side, this is called hard margin classification. "
   ]
  },
  {
   "cell_type": "markdown",
   "id": "916d5656",
   "metadata": {},
   "source": [
    "There are two main issues with hard margin classification. \n",
    "* First, it only works if the data is linearly separable. "
   ]
  },
  {
   "cell_type": "markdown",
   "id": "38f2484b",
   "metadata": {},
   "source": [
    "* Second, it is sensitive to outliers.   \n",
    "* \n",
    "* Figure 5-3 shows the iris dataset with just one additional outlier: on the left, it is impossible to find a hard margin; on the right, the decision boundary ends up very different from the one we saw in Figure 5-1 without the outlier, and it will probably not generalize\n",
    "as well."
   ]
  },
  {
   "cell_type": "markdown",
   "id": "2f750d73",
   "metadata": {},
   "source": [
    "![figura 5.3](https://github.com/marco-canas/didactica_ciencia_datos/blob/main/4_images/images_of_referents/geron/5_chapter/fig_5_3.png?raw=true)"
   ]
  },
  {
   "cell_type": "markdown",
   "id": "f5432b53",
   "metadata": {},
   "source": [
    "To avoid these issues, use a more flexible model. "
   ]
  },
  {
   "cell_type": "markdown",
   "id": "c12cc066",
   "metadata": {},
   "source": [
    "The objective is to find a good balance between keeping the street as large as possible and limiting the margin violations (i.e., instances that end up in the middle of the street or even on the wrong side). "
   ]
  },
  {
   "cell_type": "markdown",
   "id": "849e2fa8",
   "metadata": {},
   "source": [
    "This is called soft margin classification.\n"
   ]
  },
  {
   "cell_type": "markdown",
   "id": "476d540e",
   "metadata": {},
   "source": [
    "When creating an SVM model using Scikit-Learn, we can specify a number of hyperparameters. "
   ]
  },
  {
   "cell_type": "markdown",
   "id": "35b3e7c5",
   "metadata": {},
   "source": [
    "C is one of those hyperparameters. "
   ]
  },
  {
   "cell_type": "markdown",
   "id": "1539b9da",
   "metadata": {},
   "source": [
    "If we set it to a low value, then we end up with the model on the left of Figure 5-4. With a high value, we get the model on the right. "
   ]
  },
  {
   "cell_type": "markdown",
   "id": "67fcb71e",
   "metadata": {},
   "source": [
    "Margin violations are bad. It’s usually better to have few of them. However, in this case the model on the left has a lot of margin violations but will probably generalize better."
   ]
  },
  {
   "cell_type": "markdown",
   "id": "dbe2ce2d",
   "metadata": {},
   "source": [
    "![figura 5.4](https://github.com/marco-canas/didactica_ciencia_datos/blob/main/4_images/images_of_referents/geron/5_chapter/fig_5_4.png?raw=true)"
   ]
  },
  {
   "cell_type": "markdown",
   "id": "9267f7a6",
   "metadata": {},
   "source": [
    "## TIP\n",
    "If your SVM model is overfitting, you can try regularizing it by reducing C."
   ]
  },
  {
   "cell_type": "markdown",
   "id": "75d99d7f",
   "metadata": {},
   "source": [
    "The following Scikit-Learn code loads the iris dataset, scales the features, and then trains a linear SVM model (using the LinearSVC class with C=1 and the hinge loss function, described shortly) to detect Iris virginica flowers:"
   ]
  },
  {
   "cell_type": "code",
   "execution_count": 1,
   "id": "a0cecfc0",
   "metadata": {},
   "outputs": [
    {
     "name": "stderr",
     "output_type": "stream",
     "text": [
      "/home/marco/Documentos/investigacion/didactica_ciencia_datos/.venv/lib/python3.10/site-packages/sklearn/svm/_classes.py:32: FutureWarning: The default value of `dual` will change from `True` to `'auto'` in 1.5. Set the value of `dual` explicitly to suppress the warning.\n",
      "  warnings.warn(\n"
     ]
    },
    {
     "data": {
      "text/html": [
       "<style>#sk-container-id-1 {color: black;}#sk-container-id-1 pre{padding: 0;}#sk-container-id-1 div.sk-toggleable {background-color: white;}#sk-container-id-1 label.sk-toggleable__label {cursor: pointer;display: block;width: 100%;margin-bottom: 0;padding: 0.3em;box-sizing: border-box;text-align: center;}#sk-container-id-1 label.sk-toggleable__label-arrow:before {content: \"▸\";float: left;margin-right: 0.25em;color: #696969;}#sk-container-id-1 label.sk-toggleable__label-arrow:hover:before {color: black;}#sk-container-id-1 div.sk-estimator:hover label.sk-toggleable__label-arrow:before {color: black;}#sk-container-id-1 div.sk-toggleable__content {max-height: 0;max-width: 0;overflow: hidden;text-align: left;background-color: #f0f8ff;}#sk-container-id-1 div.sk-toggleable__content pre {margin: 0.2em;color: black;border-radius: 0.25em;background-color: #f0f8ff;}#sk-container-id-1 input.sk-toggleable__control:checked~div.sk-toggleable__content {max-height: 200px;max-width: 100%;overflow: auto;}#sk-container-id-1 input.sk-toggleable__control:checked~label.sk-toggleable__label-arrow:before {content: \"▾\";}#sk-container-id-1 div.sk-estimator input.sk-toggleable__control:checked~label.sk-toggleable__label {background-color: #d4ebff;}#sk-container-id-1 div.sk-label input.sk-toggleable__control:checked~label.sk-toggleable__label {background-color: #d4ebff;}#sk-container-id-1 input.sk-hidden--visually {border: 0;clip: rect(1px 1px 1px 1px);clip: rect(1px, 1px, 1px, 1px);height: 1px;margin: -1px;overflow: hidden;padding: 0;position: absolute;width: 1px;}#sk-container-id-1 div.sk-estimator {font-family: monospace;background-color: #f0f8ff;border: 1px dotted black;border-radius: 0.25em;box-sizing: border-box;margin-bottom: 0.5em;}#sk-container-id-1 div.sk-estimator:hover {background-color: #d4ebff;}#sk-container-id-1 div.sk-parallel-item::after {content: \"\";width: 100%;border-bottom: 1px solid gray;flex-grow: 1;}#sk-container-id-1 div.sk-label:hover label.sk-toggleable__label {background-color: #d4ebff;}#sk-container-id-1 div.sk-serial::before {content: \"\";position: absolute;border-left: 1px solid gray;box-sizing: border-box;top: 0;bottom: 0;left: 50%;z-index: 0;}#sk-container-id-1 div.sk-serial {display: flex;flex-direction: column;align-items: center;background-color: white;padding-right: 0.2em;padding-left: 0.2em;position: relative;}#sk-container-id-1 div.sk-item {position: relative;z-index: 1;}#sk-container-id-1 div.sk-parallel {display: flex;align-items: stretch;justify-content: center;background-color: white;position: relative;}#sk-container-id-1 div.sk-item::before, #sk-container-id-1 div.sk-parallel-item::before {content: \"\";position: absolute;border-left: 1px solid gray;box-sizing: border-box;top: 0;bottom: 0;left: 50%;z-index: -1;}#sk-container-id-1 div.sk-parallel-item {display: flex;flex-direction: column;z-index: 1;position: relative;background-color: white;}#sk-container-id-1 div.sk-parallel-item:first-child::after {align-self: flex-end;width: 50%;}#sk-container-id-1 div.sk-parallel-item:last-child::after {align-self: flex-start;width: 50%;}#sk-container-id-1 div.sk-parallel-item:only-child::after {width: 0;}#sk-container-id-1 div.sk-dashed-wrapped {border: 1px dashed gray;margin: 0 0.4em 0.5em 0.4em;box-sizing: border-box;padding-bottom: 0.4em;background-color: white;}#sk-container-id-1 div.sk-label label {font-family: monospace;font-weight: bold;display: inline-block;line-height: 1.2em;}#sk-container-id-1 div.sk-label-container {text-align: center;}#sk-container-id-1 div.sk-container {/* jupyter's `normalize.less` sets `[hidden] { display: none; }` but bootstrap.min.css set `[hidden] { display: none !important; }` so we also need the `!important` here to be able to override the default hidden behavior on the sphinx rendered scikit-learn.org. See: https://github.com/scikit-learn/scikit-learn/issues/21755 */display: inline-block !important;position: relative;}#sk-container-id-1 div.sk-text-repr-fallback {display: none;}</style><div id=\"sk-container-id-1\" class=\"sk-top-container\"><div class=\"sk-text-repr-fallback\"><pre>Pipeline(steps=[(&#x27;scaler&#x27;, StandardScaler()),\n",
       "                (&#x27;linear_svc&#x27;, LinearSVC(C=1, loss=&#x27;hinge&#x27;))])</pre><b>In a Jupyter environment, please rerun this cell to show the HTML representation or trust the notebook. <br />On GitHub, the HTML representation is unable to render, please try loading this page with nbviewer.org.</b></div><div class=\"sk-container\" hidden><div class=\"sk-item sk-dashed-wrapped\"><div class=\"sk-label-container\"><div class=\"sk-label sk-toggleable\"><input class=\"sk-toggleable__control sk-hidden--visually\" id=\"sk-estimator-id-1\" type=\"checkbox\" ><label for=\"sk-estimator-id-1\" class=\"sk-toggleable__label sk-toggleable__label-arrow\">Pipeline</label><div class=\"sk-toggleable__content\"><pre>Pipeline(steps=[(&#x27;scaler&#x27;, StandardScaler()),\n",
       "                (&#x27;linear_svc&#x27;, LinearSVC(C=1, loss=&#x27;hinge&#x27;))])</pre></div></div></div><div class=\"sk-serial\"><div class=\"sk-item\"><div class=\"sk-estimator sk-toggleable\"><input class=\"sk-toggleable__control sk-hidden--visually\" id=\"sk-estimator-id-2\" type=\"checkbox\" ><label for=\"sk-estimator-id-2\" class=\"sk-toggleable__label sk-toggleable__label-arrow\">StandardScaler</label><div class=\"sk-toggleable__content\"><pre>StandardScaler()</pre></div></div></div><div class=\"sk-item\"><div class=\"sk-estimator sk-toggleable\"><input class=\"sk-toggleable__control sk-hidden--visually\" id=\"sk-estimator-id-3\" type=\"checkbox\" ><label for=\"sk-estimator-id-3\" class=\"sk-toggleable__label sk-toggleable__label-arrow\">LinearSVC</label><div class=\"sk-toggleable__content\"><pre>LinearSVC(C=1, loss=&#x27;hinge&#x27;)</pre></div></div></div></div></div></div></div>"
      ],
      "text/plain": [
       "Pipeline(steps=[('scaler', StandardScaler()),\n",
       "                ('linear_svc', LinearSVC(C=1, loss='hinge'))])"
      ]
     },
     "execution_count": 1,
     "metadata": {},
     "output_type": "execute_result"
    }
   ],
   "source": [
    "import numpy as np # \n",
    "from sklearn import datasets\n",
    "from sklearn.pipeline import Pipeline\n",
    "from sklearn.preprocessing import StandardScaler\n",
    "from sklearn.svm import LinearSVC\n",
    "iris = datasets.load_iris()\n",
    "X = iris[\"data\"][:, (2, 3)] # petal length, petal width\n",
    "y = (iris[\"target\"] == 2).astype(np.float64) # Iris virginica\n",
    "svm_clf = Pipeline([\n",
    "(\"scaler\", StandardScaler()),\n",
    "(\"linear_svc\", LinearSVC(C=1, loss=\"hinge\")),\n",
    "])\n",
    "svm_clf.fit(X, y)"
   ]
  },
  {
   "cell_type": "code",
   "execution_count": null,
   "id": "9cf528e0",
   "metadata": {},
   "outputs": [],
   "source": []
  },
  {
   "cell_type": "code",
   "execution_count": null,
   "id": "ef90f2af",
   "metadata": {},
   "outputs": [],
   "source": []
  },
  {
   "cell_type": "code",
   "execution_count": null,
   "id": "734ddad0",
   "metadata": {},
   "outputs": [],
   "source": []
  },
  {
   "cell_type": "code",
   "execution_count": null,
   "id": "0cf5f4d8",
   "metadata": {},
   "outputs": [],
   "source": []
  },
  {
   "cell_type": "code",
   "execution_count": null,
   "id": "ee2bb27a",
   "metadata": {},
   "outputs": [],
   "source": []
  },
  {
   "cell_type": "code",
   "execution_count": null,
   "id": "c9e41cce",
   "metadata": {},
   "outputs": [],
   "source": []
  },
  {
   "cell_type": "markdown",
   "id": "dd659fad",
   "metadata": {
    "slideshow": {
     "slide_type": "slide"
    }
   },
   "source": [
    "## Referencias  \n",
    "\n",
    "* El modelo de Máquina de soporte vectorial: https://scikit-learn.org/stable/modules/generated/sklearn.svm.SVC.html  \n",
    "\n",
    "* Cuaderno de Geron sobre Maquinas de Soporte Vectorial: https://github.com/ageron/handson-ml2/blob/master/05_support_vector_machines.ipynb\n",
    "\n",
    "* Formulación matemática de la SVC: https://scikit-learn.org/stable/modules/svm.html#svm-mathematical-formulation\n",
    "\n",
    "* Duval, R. (2004). Semiosis y pensamiento humano: "
   ]
  },
  {
   "cell_type": "code",
   "execution_count": null,
   "id": "54cadefe",
   "metadata": {},
   "outputs": [],
   "source": []
  }
 ],
 "metadata": {
  "celltoolbar": "Slideshow",
  "kernelspec": {
   "display_name": "Python 3 (ipykernel)",
   "language": "python",
   "name": "python3"
  },
  "language_info": {
   "codemirror_mode": {
    "name": "ipython",
    "version": 3
   },
   "file_extension": ".py",
   "mimetype": "text/x-python",
   "name": "python",
   "nbconvert_exporter": "python",
   "pygments_lexer": "ipython3",
   "version": "3.10.12"
  },
  "rise": {
   "theme": "sky"
  }
 },
 "nbformat": 4,
 "nbformat_minor": 5
}
