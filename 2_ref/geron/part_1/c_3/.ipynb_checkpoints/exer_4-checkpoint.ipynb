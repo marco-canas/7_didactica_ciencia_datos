{
 "cells": [
  {
   "cell_type": "markdown",
   "id": "3f2b24d4",
   "metadata": {
    "slideshow": {
     "slide_type": "slide"
    }
   },
   "source": []
  },
  {
   "cell_type": "markdown",
   "id": "2c9f3c3a",
   "metadata": {
    "slideshow": {
     "slide_type": "slide"
    }
   },
   "source": [
    "# Ejercicio 4 del Capítulo 3 de Geron"
   ]
  },
  {
   "cell_type": "markdown",
   "id": "9a9965ff",
   "metadata": {
    "slideshow": {
     "slide_type": "slide"
    }
   },
   "source": [
    "4. Cree un clasificador de spam (un ejercicio más desafiante):\n",
    "\n",
    "* Descargue ejemplos de spam y ham de los conjuntos de datos públicos de Kaggle.\n",
    "* Familiarícese con el formato de datos."
   ]
  },
  {
   "cell_type": "markdown",
   "id": "06c85e88",
   "metadata": {
    "slideshow": {
     "slide_type": "slide"
    }
   },
   "source": [
    "* Divida los conjuntos de datos en un conjunto de entrenamiento y un conjunto de prueba."
   ]
  },
  {
   "cell_type": "markdown",
   "id": "e5547ec0",
   "metadata": {
    "slideshow": {
     "slide_type": "slide"
    }
   },
   "source": [
    "* Escriba una canalización de preparación de datos para convertir cada correo electrónico en un vector de características. Su proceso de preparación debe transformar un correo electrónico en un vector (disperso) que indique la presencia o ausencia de cada palabra posible. Por ejemplo, si todos los correos electrónicos solo contienen cuatro palabras, \"Hola\", \"How\", \"are\", \"you\", entonces el correo electrónico “Hello you Hello Hello you” se convertiría en un vector [1, 0, 0 , 1] (que significa [\"Hello\" está presente, \"How\" está ausente, \"are\" está ausente, \"you\" está presente]), o [3, 0, 0, 2] si prefiere contar el número de ocurrencias de cada palabra."
   ]
  },
  {
   "cell_type": "markdown",
   "id": "4cb5145d",
   "metadata": {
    "slideshow": {
     "slide_type": "slide"
    }
   },
   "source": [
    "You may want to add hyperparameters to your preparation pipeline to control whether or not to strip off email headers, convert each email to lowercase, remove punctuation, replace all URLs with “URL,” replace all numbers with “NUMBER,” or even perform stemming (i.e., trim off word endings; there are Python libraries available to do this)."
   ]
  },
  {
   "cell_type": "markdown",
   "id": "af9e8645",
   "metadata": {
    "slideshow": {
     "slide_type": "slide"
    }
   },
   "source": [
    "Finally, try out several classifiers and see if you can build a great spam classifier, with both high recall and high\n",
    "precision."
   ]
  },
  {
   "cell_type": "markdown",
   "id": "5b211c3b",
   "metadata": {
    "slideshow": {
     "slide_type": "slide"
    }
   },
   "source": [
    "# Acerca de Dataset"
   ]
  },
  {
   "cell_type": "markdown",
   "id": "61e91d06",
   "metadata": {
    "slideshow": {
     "slide_type": "slide"
    }
   },
   "source": [
    "## Contexto"
   ]
  },
  {
   "cell_type": "markdown",
   "id": "4b3f5e9b",
   "metadata": {
    "slideshow": {
     "slide_type": "slide"
    }
   },
   "source": [
    "La colección de spam sms es un conjunto de mensajes etiquetados con SMS que se han recopilado para la investigación de sms spam. Contiene un conjunto de mensajes SMS en inglés de 5.574 mensajes, etiquetados de acuerdo con ser jamón (legítimo) o spam."
   ]
  },
  {
   "cell_type": "markdown",
   "id": "826f5c03",
   "metadata": {
    "slideshow": {
     "slide_type": "slide"
    }
   },
   "source": [
    "## Contenido"
   ]
  },
  {
   "cell_type": "markdown",
   "id": "b843b047",
   "metadata": {
    "slideshow": {
     "slide_type": "slide"
    }
   },
   "source": [
    "Los archivos contienen un mensaje por línea. Cada línea está compuesta por dos columnas: v1 contiene la etiqueta (jamón o spam) y v2 contiene el texto en bruto.\n",
    "\n",
    "Este corpus ha sido recopilado de fuentes de investigación gratuitas o gratuitas en Internet:\n",
    "\n",
    "-> Una colección de 425 mensajes SMS spam fue extraída manualmente del sitio web de Grumbletext. Este es un foro del Reino Unido en el que los usuarios de teléfonos celulares hacen afirmaciones públicas sobre los mensajes de spam SMS, la mayoría de ellos sin informar el mismo mensaje de spam recibido. La identificación del texto de los mensajes de spam en las reclamaciones es una tarea muy difícil y lenta, e implicó escanear cuidadosamente cientos de páginas web. El sitio web de Grumbletext es: [Enlace web].\n",
    "-> Un subconjunto de 3.375 sms elegidos al azar de los mensajes jamón del NUS SMS Corpus (NSC), que es un conjunto de datos de unos 10.000 mensajes legítimos recopilados para la investigación en el Departamento de Ciencias de la Computación de la Universidad Nacional de Singapur. Los mensajes se originan en gran medida en los singapurenses y en su mayoría de los estudiantes que asisten a la Universidad. Estos mensajes fueron recogidos de voluntarios que fueron informados de que sus contribuciones iban a ser puestas a disposición del público. El CORPUS DE SMS de NUS está disponible en: [Enlace web].\n",
    "-> Una lista de 450 mensajes SMS recopilados de la tesis doctoral de Caroline Tag disponible en [Enlace web].\n",
    "-> Por último, hemos incorporado el SMS Spam Corpus v.0.1 Big. Cuenta con 1.002 mensajes SMS ham y 322 mensajes spam y está disponible públicamente en: [Web Link]. Este corpus ha sido utilizado en las siguientes investigaciones académicas:\n",
    "\n",
    "Agradecimientos\n",
    "El conjunto de datos original se puede encontrar aquí. A los creadores les gustaría señalar que, en caso de que encuentre útil el conjunto de datos, haga referencia al documento anterior y a la página web: http://www.dt.fee.unicamp.br/~tiago/smsspamcollection/ en sus artículos, investigaciones, etc.\n",
    "\n",
    "Ofrecemos un estudio exhaustivo de este corpus en el siguiente documento. Este trabajo presenta una serie de estadísticas, estudios y resultados de referencia para varios métodos de aprendizaje automático.\n",
    "\n",
    "Almeida, T.A., GÃ³mez Hidalgo, J.M., Yamakami, A. Contribuciones al Estudio del Filtrado de Spam SMS: Nueva Colección y Resultados. Actas del Simposio ACM 2011 sobre Ingeniería Documental (DOCENG'11), Mountain View, CA, USA, 2011.\n",
    "\n",
    "Inspiración\n",
    "¿Puede utilizar este conjunto de datos para crear un modelo de predicción que clasifique con precisión qué textos son spam?"
   ]
  },
  {
   "cell_type": "code",
   "execution_count": 9,
   "id": "099fe130",
   "metadata": {
    "slideshow": {
     "slide_type": "slide"
    }
   },
   "outputs": [],
   "source": [
    "import numpy as np \n",
    "import matplotlib.pyplot as plt \n",
    "import seaborn as sns \n",
    "import pandas as pd "
   ]
  },
  {
   "cell_type": "code",
   "execution_count": 7,
   "id": "fee93da8",
   "metadata": {
    "slideshow": {
     "slide_type": "slide"
    }
   },
   "outputs": [
    {
     "data": {
      "text/html": [
       "<div>\n",
       "<style scoped>\n",
       "    .dataframe tbody tr th:only-of-type {\n",
       "        vertical-align: middle;\n",
       "    }\n",
       "\n",
       "    .dataframe tbody tr th {\n",
       "        vertical-align: top;\n",
       "    }\n",
       "\n",
       "    .dataframe thead th {\n",
       "        text-align: right;\n",
       "    }\n",
       "</style>\n",
       "<table border=\"1\" class=\"dataframe\">\n",
       "  <thead>\n",
       "    <tr style=\"text-align: right;\">\n",
       "      <th></th>\n",
       "      <th>v1</th>\n",
       "      <th>v2</th>\n",
       "      <th>Unnamed: 2</th>\n",
       "      <th>Unnamed: 3</th>\n",
       "      <th>Unnamed: 4</th>\n",
       "    </tr>\n",
       "  </thead>\n",
       "  <tbody>\n",
       "    <tr>\n",
       "      <th>0</th>\n",
       "      <td>ham</td>\n",
       "      <td>Go until jurong point, crazy.. Available only ...</td>\n",
       "      <td>NaN</td>\n",
       "      <td>NaN</td>\n",
       "      <td>NaN</td>\n",
       "    </tr>\n",
       "    <tr>\n",
       "      <th>1</th>\n",
       "      <td>ham</td>\n",
       "      <td>Ok lar... Joking wif u oni...</td>\n",
       "      <td>NaN</td>\n",
       "      <td>NaN</td>\n",
       "      <td>NaN</td>\n",
       "    </tr>\n",
       "    <tr>\n",
       "      <th>2</th>\n",
       "      <td>spam</td>\n",
       "      <td>Free entry in 2 a wkly comp to win FA Cup fina...</td>\n",
       "      <td>NaN</td>\n",
       "      <td>NaN</td>\n",
       "      <td>NaN</td>\n",
       "    </tr>\n",
       "    <tr>\n",
       "      <th>3</th>\n",
       "      <td>ham</td>\n",
       "      <td>U dun say so early hor... U c already then say...</td>\n",
       "      <td>NaN</td>\n",
       "      <td>NaN</td>\n",
       "      <td>NaN</td>\n",
       "    </tr>\n",
       "    <tr>\n",
       "      <th>4</th>\n",
       "      <td>ham</td>\n",
       "      <td>Nah I don't think he goes to usf, he lives aro...</td>\n",
       "      <td>NaN</td>\n",
       "      <td>NaN</td>\n",
       "      <td>NaN</td>\n",
       "    </tr>\n",
       "  </tbody>\n",
       "</table>\n",
       "</div>"
      ],
      "text/plain": [
       "     v1                                                 v2 Unnamed: 2  \\\n",
       "0   ham  Go until jurong point, crazy.. Available only ...        NaN   \n",
       "1   ham                      Ok lar... Joking wif u oni...        NaN   \n",
       "2  spam  Free entry in 2 a wkly comp to win FA Cup fina...        NaN   \n",
       "3   ham  U dun say so early hor... U c already then say...        NaN   \n",
       "4   ham  Nah I don't think he goes to usf, he lives aro...        NaN   \n",
       "\n",
       "  Unnamed: 3 Unnamed: 4  \n",
       "0        NaN        NaN  \n",
       "1        NaN        NaN  \n",
       "2        NaN        NaN  \n",
       "3        NaN        NaN  \n",
       "4        NaN        NaN  "
      ]
     },
     "execution_count": 7,
     "metadata": {},
     "output_type": "execute_result"
    }
   ],
   "source": [
    "df = pd.read_csv('spam.csv', encoding = 'latin-1') \n",
    "df.head()  "
   ]
  },
  {
   "cell_type": "code",
   "execution_count": 10,
   "id": "78ff2282",
   "metadata": {
    "slideshow": {
     "slide_type": "slide"
    }
   },
   "outputs": [
    {
     "data": {
      "image/png": "[encoded data removed]",
      "text/plain": [
       "<Figure size 1296x576 with 2 Axes>"
      ]
     },
     "metadata": {
      "needs_background": "light"
     },
     "output_type": "display_data"
    }
   ],
   "source": [
    "plt.figure(figsize=(18, 8))\n",
    "plt.subplot(1, 2, 1)\n",
    "df.v1.value_counts().plot(kind=\"pie\", fontsize=16,\n",
    "                                           labels=[\"Spam\", \"Ham\"],\n",
    "                                           ylabel=\"Spam vs Ham\",\n",
    "                                           autopct='%1.1f%%');\n",
    "\n",
    "plt.subplot(1, 2, 2)\n",
    "sns.countplot(x=\"v1\",data=df, palette=\"pastel\")\n",
    "plt.show()"
   ]
  },
  {
   "cell_type": "code",
   "execution_count": null,
   "id": "a8432b10",
   "metadata": {
    "slideshow": {
     "slide_type": "slide"
    }
   },
   "outputs": [],
   "source": []
  },
  {
   "cell_type": "code",
   "execution_count": null,
   "id": "1acb2439",
   "metadata": {
    "slideshow": {
     "slide_type": "slide"
    }
   },
   "outputs": [],
   "source": []
  },
  {
   "cell_type": "code",
   "execution_count": null,
   "id": "398d722f",
   "metadata": {},
   "outputs": [],
   "source": []
  },
  {
   "cell_type": "code",
   "execution_count": null,
   "id": "9bd74d64",
   "metadata": {
    "slideshow": {
     "slide_type": "slide"
    }
   },
   "outputs": [],
   "source": []
  },
  {
   "cell_type": "code",
   "execution_count": null,
   "id": "30636493",
   "metadata": {
    "slideshow": {
     "slide_type": "slide"
    }
   },
   "outputs": [],
   "source": []
  },
  {
   "cell_type": "markdown",
   "id": "a1d69c88",
   "metadata": {
    "slideshow": {
     "slide_type": "slide"
    }
   },
   "source": [
    "## Referentes\n",
    "\n",
    "* dataset de correos marcados como ham o spam: https://www.kaggle.com/datasets/uciml/sms-spam-collection-dataset?resource=download"
   ]
  },
  {
   "cell_type": "code",
   "execution_count": null,
   "id": "0e695586",
   "metadata": {},
   "outputs": [],
   "source": []
  }
 ],
 "metadata": {
  "celltoolbar": "Slideshow",
  "kernelspec": {
   "display_name": "Python 3 (ipykernel)",
   "language": "python",
   "name": "python3"
  },
  "language_info": {
   "codemirror_mode": {
    "name": "ipython",
    "version": 3
   },
   "file_extension": ".py",
   "mimetype": "text/x-python",
   "name": "python",
   "nbconvert_exporter": "python",
   "pygments_lexer": "ipython3",
   "version": "3.9.12"
  }
 },
 "nbformat": 4,
 "nbformat_minor": 5
}
