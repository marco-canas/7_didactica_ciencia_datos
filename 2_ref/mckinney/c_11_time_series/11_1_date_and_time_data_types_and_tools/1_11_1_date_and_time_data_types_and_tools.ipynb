{
 "cells": [
  {
   "cell_type": "markdown",
   "id": "dc06dec7",
   "metadata": {
    "slideshow": {
     "slide_type": "slide"
    }
   },
   "source": [
    "<table align=\"left\">\n",
    "  <td>\n",
    "    <a href=\"https://colab.research.google.com/github/marco-canas/didactica_ciencia_datos/blob/main/2_referentes/mckinney/c_11_time_series/11_1_date_and_time_data_types_and_tools/1_11_1_date_and_time_data_types_and_tools.ipynb\" target=\"_parent\"><img src=\"https://colab.research.google.com/assets/colab-badge.svg\" alt=\"Open In Colab\"/></a>\n",
    "  </td>\n",
    "</table>"
   ]
  },
  {
   "cell_type": "markdown",
   "id": "e0c5b198",
   "metadata": {
    "slideshow": {
     "slide_type": "slide"
    }
   },
   "source": [
    "### [Video de apoyo a la lectura interactiva y experimental de este cuaderno](https://www.youtube.com/watch?v=ndWCsnNdjtQ)"
   ]
  },
  {
   "cell_type": "markdown",
   "id": "41e82203",
   "metadata": {
    "slideshow": {
     "slide_type": "slide"
    }
   },
   "source": [
    "## [Vínculo al programa del curso:](https://github.com/marco-canas/didactica_ciencia_datos/blob/main/1_curso_machine_learning/1_programa_curso_machine_learning_python.docx)\n",
    "\n"
   ]
  },
  {
   "cell_type": "markdown",
   "id": "d11ab06d",
   "metadata": {
    "slideshow": {
     "slide_type": "slide"
    }
   },
   "source": [
    "Un reconocimiento a mis estudiantes que han construido conmigo este saber pedagógico:\n",
    "\n",
    "<img src = 'https://github.com/marco-canas/didactica_ciencia_datos/blob/main/4_images/janis_joseph_marco_granizado.jpg?raw=true'> \n",
    "\n"
   ]
  },
  {
   "cell_type": "markdown",
   "id": "5e3936d8",
   "metadata": {
    "slideshow": {
     "slide_type": "slide"
    }
   },
   "source": [
    "# Llamar a lista o tomar asistencia con python o llamar el equipo para la tarea con video y cuaderno Jupyter sobre medición indirecta de grandes alturas con imágenes"
   ]
  },
  {
   "cell_type": "code",
   "execution_count": 1,
   "id": "7604880f",
   "metadata": {
    "slideshow": {
     "slide_type": "slide"
    }
   },
   "outputs": [
    {
     "name": "stdout",
     "output_type": "stream",
     "text": [
      "Llamando a marco julio...\n"
     ]
    }
   ],
   "source": [
    "import pandas as pd\n",
    "import random\n",
    "\n",
    "# Cargar la lista de estudiantes desde la URL\n",
    "url = 'https://raw.githubusercontent.com/marco-canas/groups_list/main/ml.csv'\n",
    "estudiantes = pd.read_csv(url)\n",
    "\n",
    "# Función para llamar a un estudiante aleatoriamente y registrar su nota de seguimiento\n",
    "def llamar_estudiante():\n",
    "    estudiante_aleatorio = random.choice(estudiantes['Nombre'])\n",
    "    print(f\"Llamando a {estudiante_aleatorio}...\")\n",
    "    \n",
    "    \n",
    "# Llamar a la función para realizar el proceso\n",
    "llamar_estudiante()\n"
   ]
  },
  {
   "cell_type": "markdown",
   "id": "4f9d8cf9",
   "metadata": {
    "slideshow": {
     "slide_type": "slide"
    }
   },
   "source": [
    "# Modelo general de clase: [aula invertida](https://www3.gobiernodecanarias.org/medusa/ecoescuela/pedagotic/aprendizaje-invertido-flipped-classroom/)"
   ]
  },
  {
   "cell_type": "markdown",
   "id": "eb6ed03a",
   "metadata": {},
   "source": [
    "![Definamos flipped learning de manera gráfica](https://resources.maneuveringthemiddle.com/wp-content/uploads/2020/07/04212706/1-5.png)"
   ]
  },
  {
   "cell_type": "markdown",
   "id": "8d97dc80",
   "metadata": {
    "slideshow": {
     "slide_type": "slide"
    }
   },
   "source": [
    "## Fomento de la lectura literaria asociada a Ingeniería agropecuaria y licenciatura en Matemáticas\n",
    "\n"
   ]
  },
  {
   "cell_type": "markdown",
   "metadata": {},
   "source": [
    "[confiar e inspirar](https://github.com/marco-canas/confiar_e_inspirar/blob/main/primera_parte_el_futuro_del_liderazgo_de_mandar_y_controlar_confiar_e_inspirar/1_el_mundo_ha_cambiado_nuestro_estilo_de_liderazgo_no/1_el_mundo_ha_cambiado_nuestro_estilo_de_liderazgo_no.ipynb)"
   ]
  },
  {
   "cell_type": "markdown",
   "id": "96775931",
   "metadata": {
    "slideshow": {
     "slide_type": "slide"
    }
   },
   "source": [
    "## Título de la clase: 11.1 Date and time data types and tools\n",
    "\n",
    "Página 318 del libro de Wes (Second Edition). Página 358 del libro de Wes (Third Edition). \n",
    "\n"
   ]
  },
  {
   "cell_type": "markdown",
   "id": "1d38dd4e",
   "metadata": {
    "slideshow": {
     "slide_type": "slide"
    }
   },
   "source": [
    "### Objetivo de aprendizaje (Enunciar, de manera corta sencilla y clara para todos los asistentes)\n",
    "\n",
    "* Aprender a crear un datos de tipo `datetime` en python y a manipularlos con la librería estándar de Python. "
   ]
  },
  {
   "cell_type": "markdown",
   "id": "540f0ec1",
   "metadata": {
    "slideshow": {
     "slide_type": "slide"
    }
   },
   "source": [
    "## Cuestionario para realizar labores de memorización, observación y síntesis de la información (Además de diagnóstico)\n",
    "\n",
    "Aquí tienes un cuestionario para establecer un diagnóstico de presaberes sobre la librería estándar de Python llamada `datetime`:\n"
   ]
  },
  {
   "cell_type": "markdown",
   "id": "3d8ad8ab",
   "metadata": {},
   "source": [
    "\n",
    "1. ¿Qué es la librería `datetime` en Python y para qué se utiliza?\n",
    "   - Respuesta: La librería `datetime` es una librería estándar de Python que proporciona clases para manejar fechas y horas. Se utiliza para realizar operaciones relacionadas con el tiempo y las fechas, como cálculos de tiempo, formateo de fechas y manipulación de zonas horarias.\n"
   ]
  },
  {
   "cell_type": "markdown",
   "id": "4270b38b",
   "metadata": {},
   "source": [
    "\n",
    "2. ¿Cuál es la diferencia entre un objeto `datetime`, `date` y `time` en la librería `datetime` de Python?\n",
    "   - Respuesta: Un objeto `datetime` representa una fecha y una hora específicas, mientras que un objeto `date` representa solo una fecha y un objeto `time` representa solo una hora. La diferencia principal es que `datetime` combina ambas, fecha y hora, mientras que `date` y `time` representan partes individuales.\n"
   ]
  },
  {
   "cell_type": "markdown",
   "id": "084bbfae",
   "metadata": {},
   "source": [
    "\n",
    "3. ¿Cómo se crea un objeto `datetime` con una fecha y hora específicas en Python?\n",
    "   - Respuesta: Se puede crear un objeto `datetime` utilizando el constructor `datetime()` y proporcionando los valores de año, mes, día, hora, minuto, segundo y microsegundo si es necesario.\n"
   ]
  },
  {
   "cell_type": "markdown",
   "id": "3aada93e",
   "metadata": {},
   "source": [
    "\n",
    "4. ¿Qué método se utiliza para obtener la fecha y hora actual en Python utilizando la librería `datetime`?\n",
    "   - Respuesta: Se utiliza el método `datetime.now()` para obtener la fecha y hora actuales.\n"
   ]
  },
  {
   "cell_type": "markdown",
   "id": "48a0e86a",
   "metadata": {},
   "source": [
    "\n",
    "5. ¿Cuál es la diferencia entre `strftime()` y `strptime()` en la librería `datetime`?\n",
    "   - Respuesta: `strftime()` se utiliza para formatear un objeto `datetime` en una cadena de texto según un formato específico, mientras que `strptime()` se utiliza para convertir una cadena de texto en un objeto `datetime` según un formato específico.\n"
   ]
  },
  {
   "cell_type": "markdown",
   "id": "6e1cb299",
   "metadata": {},
   "source": [
    "\n",
    "6. ¿Cómo se pueden realizar operaciones aritméticas con fechas y horas en Python utilizando la librería `datetime`?\n",
    "   - Respuesta: Se pueden realizar operaciones aritméticas sumando o restando objetos `datetime` o utilizando métodos como `timedelta` para agregar o restar una cantidad específica de tiempo.\n"
   ]
  },
  {
   "cell_type": "markdown",
   "id": "122e073a",
   "metadata": {},
   "source": [
    "\n",
    "7. ¿Qué método se utiliza para comparar dos objetos `datetime` en Python?\n",
    "   - Respuesta: Se utiliza el operador de comparación estándar (`<`, `<=`, `==`, `!=`, `>=`, `>`) para comparar dos objetos `datetime`. \n"
   ]
  },
  {
   "cell_type": "markdown",
   "id": "751ecc40",
   "metadata": {},
   "source": [
    "\n",
    "8. ¿Qué es un objeto `timedelta` en la librería `datetime` de Python y para qué se utiliza?\n",
    "   - Respuesta: Un objeto `timedelta` representa una duración de tiempo, como una diferencia entre dos fechas o tiempos. Se utiliza para realizar operaciones de suma o resta en objetos `datetime` o para representar intervalos de tiempo.\n"
   ]
  },
  {
   "cell_type": "markdown",
   "id": "83c44482",
   "metadata": {},
   "source": [
    "\n",
    "9. ¿Cómo se convierte un objeto `datetime` en una cadena de texto con un formato específico en Python?\n",
    "   - Respuesta: Se puede utilizar el método `strftime()` del objeto `datetime` para convertirlo en una cadena de texto con el formato deseado.\n"
   ]
  },
  {
   "cell_type": "markdown",
   "id": "7206fcd7",
   "metadata": {},
   "source": [
    "\n",
    "10. ¿Cuál es la diferencia entre una fecha y hora ingenua y una fecha y hora consciente en la librería `datetime` de Python?\n",
    "    - Respuesta: Una fecha y hora ingenua no contiene información sobre la zona horaria, mientras que una fecha y hora consciente sí lo hace, lo que permite realizar conversiones entre diferentes zonas horarias y realizar cálculos de tiempo precisos.\n",
    "\n",
    "Recuerda que estos son solo ejemplos de respuestas. Los estudiantes pueden proporcionar respuestas con matices adicionales o diferentes enfoques, lo cual es normal y enriquecedor para el aprendizaje."
   ]
  },
  {
   "cell_type": "markdown",
   "id": "ca7261b1",
   "metadata": {
    "slideshow": {
     "slide_type": "slide"
    }
   },
   "source": [
    "## Establecimiento de prerrequisitos conceptuales para alcanzar el objetivo de aprendizaje trazado.   \n",
    "\n",
    "(Elabore una lista de preguntas al rededor de los conceptos que consideres necesarios para empezar la clase).  \n",
    "\n",
    "Para alcanzar el objetivo de aprender a crear datos de tipo datetime en Python y manipularlos con la librería estándar de Python, y basándonos en la sección 11.1 del libro \"Python for Data Analysis\" de Wes McKinney, es recomendable tener un conjunto de prerrequisitos conceptuales. Aquí hay una lista de los conceptos que serían útiles:\n",
    "\n",
    "1. **Conceptos básicos de Python**: Esto incluye comprensión de variables, tipos de datos (como cadenas, números, listas, diccionarios), operadores, control de flujo (bucles y condicionales), funciones y módulos.\n"
   ]
  },
  {
   "cell_type": "markdown",
   "id": "c2a0eb92",
   "metadata": {},
   "source": [
    "\n",
    "2. **Manipulación de datos con Pandas**: Entender los conceptos básicos de Pandas, como DataFrame y Series, así como la indexación y selección de datos, es crucial ya que se utilizará Pandas para manipular los datos de datetime.\n"
   ]
  },
  {
   "cell_type": "markdown",
   "id": "f2307e50",
   "metadata": {},
   "source": [
    "\n",
    "3. **Manipulación de fechas y horas**: Tener una comprensión básica de cómo se representan las fechas y horas en Python, incluidos los formatos de fecha y hora, las operaciones de tiempo y las zonas horarias.\n"
   ]
  },
  {
   "cell_type": "markdown",
   "id": "126cb8ac",
   "metadata": {},
   "source": [
    "\n",
    "4. **Conocimientos sobre la librería datetime de Python**: Familiarizarse con la librería datetime de Python, que proporciona clases para manipular fechas y horas de forma más eficiente.\n"
   ]
  },
  {
   "cell_type": "markdown",
   "id": "7b6afc85",
   "metadata": {},
   "source": [
    "\n",
    "5. **Comprensión de las estructuras de datos de Python**: Es útil entender cómo funcionan las estructuras de datos en Python, como las listas y los diccionarios, ya que se pueden usar para almacenar y manipular datos relacionados con fechas y horas.\n"
   ]
  },
  {
   "cell_type": "markdown",
   "id": "923587e1",
   "metadata": {},
   "source": [
    "\n",
    "6. **Habilidades de lectura y comprensión de documentación**: Ser capaz de leer y comprender la documentación de Python y de Pandas es esencial para aprovechar al máximo las funciones y métodos relacionados con el manejo de fechas y horas.\n"
   ]
  },
  {
   "cell_type": "markdown",
   "id": "3eae9e92",
   "metadata": {},
   "source": [
    "\n",
    "7. **Práctica con ejemplos prácticos**: La práctica es fundamental para consolidar el aprendizaje. Trabajar en ejemplos prácticos relacionados con el manejo de fechas y horas en Python ayudará a internalizar los conceptos. [Datos de AMSC](http://54.146.188.73:8501/)\n"
   ]
  },
  {
   "cell_type": "markdown",
   "id": "7a5f7e65",
   "metadata": {},
   "source": [
    "\n",
    "8. **Experiencia previa con análisis de datos**: Si bien no es estrictamente necesario, tener alguna experiencia previa en análisis de datos o ciencia de datos puede facilitar la comprensión de cómo se utilizan las fechas y horas en este contexto.\n",
    "\n",
    "Al tener una comprensión sólida de estos prerrequisitos conceptuales, será más fácil entender y aplicar los conceptos presentados en la sección 11.1 del libro \"Python for Data Analysis\" de Wes McKinney sobre la creación y manipulación de datos de tipo datetime en Python utilizando la librería estándar de Python."
   ]
  },
  {
   "cell_type": "markdown",
   "id": "2298e976",
   "metadata": {
    "slideshow": {
     "slide_type": "slide"
    }
   },
   "source": [
    "# Para el diseño de la clase tenga en cuenta algunos problemas de aprendizaje"
   ]
  },
  {
   "cell_type": "markdown",
   "id": "523d3acf",
   "metadata": {
    "slideshow": {
     "slide_type": "slide"
    }
   },
   "source": [
    "Al tratar de alcanzar el objetivo de aprendizaje de aprender a crear y manipular datos de tipo datetime en Python utilizando la librería estándar y la sección 11.1 del libro \"Python for Data Analysis\" de Wes McKinney, es posible que te encuentres con algunos problemas de aprendizaje comunes. Aquí hay algunos problemas y estrategias para solucionarlos:\n",
    "\n",
    "1. **Entender la sintaxis de la librería datetime**: La sintaxis de la librería datetime puede resultar confusa al principio, especialmente para aquellos que no están familiarizados con ella. La solución es dedicar tiempo a estudiar la documentación oficial de Python sobre la librería datetime y practicar escribir y ejecutar ejemplos de código para familiarizarse con su sintaxis y funcionalidades.\n"
   ]
  },
  {
   "cell_type": "markdown",
   "id": "3deaee4e",
   "metadata": {},
   "source": [
    "\n",
    "2. **Manejo de formatos de fecha y hora**: El manejo de diferentes formatos de fecha y hora puede ser complicado, especialmente cuando se trabaja con datos de diferentes fuentes que pueden tener formatos variados. Para abordar este problema, es útil aprender sobre los formatos de fecha y hora comunes y practicar la conversión entre diferentes formatos utilizando métodos proporcionados por la librería datetime.\n"
   ]
  },
  {
   "cell_type": "markdown",
   "id": "982005d5",
   "metadata": {},
   "source": [
    "\n",
    "3. **Zonas horarias y ajuste de la hora local**: El manejo de zonas horarias y el ajuste de la hora local puede ser un desafío, especialmente al trabajar con datos de diferentes ubicaciones geográficas. Para resolver este problema, es importante entender cómo funcionan las zonas horarias en Python y utilizar las funcionalidades proporcionadas por la librería datetime para convertir entre diferentes zonas horarias y ajustar la hora local según sea necesario.\n"
   ]
  },
  {
   "cell_type": "markdown",
   "id": "bea08107",
   "metadata": {},
   "source": [
    "\n",
    "4. **Errores de lógica al realizar operaciones con fechas y horas**: Puede ser fácil cometer errores de lógica al realizar operaciones con fechas y horas, como sumar o restar intervalos de tiempo incorrectamente. La mejor manera de abordar este problema es practicar cuidadosamente cada operación y verificar los resultados para asegurarse de que sean correctos.\n",
    "\n",
    "5. **Falta de comprensión sobre el manejo de datos de tiempo**: Algunas personas pueden tener dificultades para comprender la importancia y el uso de los datos de tiempo en el análisis de datos. Para superar este problema, es útil estudiar ejemplos de cómo se utilizan los datos de tiempo en diferentes contextos y practicar su manipulación en escenarios de análisis de datos reales.\n"
   ]
  },
  {
   "cell_type": "markdown",
   "id": "c312c548",
   "metadata": {},
   "source": [
    "\n",
    "6. **Problemas de rendimiento al manipular grandes conjuntos de datos de tiempo**: El manejo de grandes conjuntos de datos de tiempo puede ser lento y consumir muchos recursos computacionales. Para abordar este problema, es importante optimizar el código utilizando técnicas eficientes de manipulación de datos y considerar el uso de herramientas y bibliotecas especializadas en el manejo de grandes conjuntos de datos.\n",
    "\n",
    "En resumen, al enfrentarte a estos problemas de aprendizaje al tratar de alcanzar el objetivo de aprendizaje de la clase anterior, es importante dedicar tiempo a estudiar y practicar los conceptos relacionados con el manejo de datos de tipo datetime en Python, así como buscar ayuda adicional en recursos en línea, tutoriales y foros de discusión para superar los desafíos específicos que puedas encontrar."
   ]
  },
  {
   "cell_type": "markdown",
   "id": "a40a4704",
   "metadata": {
    "slideshow": {
     "slide_type": "slide"
    }
   },
   "source": [
    "## Secuencia conceptual introductoria a la clase"
   ]
  },
  {
   "cell_type": "markdown",
   "id": "fe86944d",
   "metadata": {},
   "source": [
    "# 11.1 date time data types and tools"
   ]
  },
  {
   "cell_type": "code",
   "execution_count": 3,
   "id": "4fd6aec3",
   "metadata": {},
   "outputs": [
    {
     "data": {
      "text/plain": [
       "'/home/marco/Documentos/investigacion/didactica_ciencia_datos/4_images/2_images_of_referents/wes_mckinney/11_chapter_time_series/mapa_conceptual.pdf'"
      ]
     },
     "execution_count": 3,
     "metadata": {},
     "output_type": "execute_result"
    },
    {
     "name": "stderr",
     "output_type": "stream",
     "text": [
      "/snap/core20/current/lib/x86_64-linux-gnu/libstdc++.so.6: version `GLIBCXX_3.4.29' not found (required by /lib/x86_64-linux-gnu/libproxy.so.1)\n"
     ]
    },
    {
     "name": "stderr",
     "output_type": "stream",
     "text": [
      "Failed to load module: /home/marco/snap/code/common/.cache/gio-modules/libgiolibproxy.so\n",
      "\n",
      "(process:24722): Gtk-WARNING **: 14:21:44.831: Locale not supported by C library.\n",
      "\tUsing the fallback 'C' locale.\n",
      "/home/marco/snap/code/common/.cache/gio-modules/libgiolibproxy.so: cannot open shared object file: Permission denied\n",
      "Failed to load module: /home/marco/snap/code/common/.cache/gio-modules/libgiolibproxy.so\n",
      "\n",
      "(evince:24722): Gtk-WARNING **: 14:21:44.895: Theme parsing error: gtk-keys.css:1:0: Failed to import: Error opening file /snap/code/158/usr/share/themes/Default/gtk-3.0/gtk-keys.css: Permission denied\n",
      "Gtk-Message: 14:21:44.896: Failed to load module \"canberra-gtk-module\"\n",
      "Gtk-Message: 14:21:44.905: Failed to load module \"canberra-gtk-module\"\n",
      "/home/marco/snap/code/common/.cache/gio-modules/libdconfsettings.so: cannot open shared object file: Permission denied\n",
      "Failed to load module: /home/marco/snap/code/common/.cache/gio-modules/libdconfsettings.so\n",
      "\n",
      "(evince:24722): Gtk-WARNING **: 14:21:45.210: Could not load a pixbuf from icon theme.\n",
      "This may indicate that pixbuf loaders or the mime database could not be found.\n"
     ]
    }
   ],
   "source": [
    "from graphviz import Digraph\n",
    "\n",
    "# Crear un nuevo grafo dirigido\n",
    "dot = Digraph()\n",
    "\n",
    "# Añadir nodos y relaciones al grafo\n",
    "dot.node('A', 'date time data types')\n",
    "dot.node('B', 'La librería datatime')\n",
    "dot.node('C', 'Zona horaria')\n",
    "dot.node('D', 'DataTime')\n",
    "dot.node('E', 'Date')\n",
    "dot.node('F', 'Time')\n",
    "dot.node('G', 'Librería Estándar de Python')\n",
    "dot.node('H', '')\n",
    "dot.node('I', '')\n",
    "dot.node('J', '')\n",
    "\n",
    "dot.edges(['AB'])\n",
    "dot.edges(['BC'])\n",
    "dot.edges(['CD'])\n",
    "dot.edges(['DJ'])\n",
    "dot.edges(['EF'])\n",
    "dot.edges(['FG', 'FH'])\n",
    "dot.edges(['GH'])\n",
    "dot.edges(['HI'])\n",
    "dot.edges(['IJ'])\n",
    "\n",
    "# Guardar el grafo como un archivo de imagen\n",
    "dot.render('mapa_conceptual', format='png', cleanup=True, \\\n",
    "           directory = '/home/marco/Documentos/investigacion/didactica_ciencia_datos/4_images/2_images_of_referents/wes_mckinney/11_chapter_time_series')\n",
    "\n",
    "dot.view() \n"
   ]
  },
  {
   "cell_type": "markdown",
   "id": "202ebdae",
   "metadata": {},
   "source": [
    "# 11.1 Date and Time Data Types and Tools  \n",
    "\n",
    "The Python standard library includes data types for date and time data, as well as calendar-related functionality. "
   ]
  },
  {
   "cell_type": "markdown",
   "id": "450c7e75",
   "metadata": {},
   "source": [
    "The datetime, time, and calendar modules are the main places to start. "
   ]
  },
  {
   "cell_type": "markdown",
   "id": "56a870ba",
   "metadata": {},
   "source": [
    "The datetime.datetime type, or simply datetime, is widely used:"
   ]
  },
  {
   "cell_type": "code",
   "execution_count": 4,
   "id": "6fe83e60",
   "metadata": {},
   "outputs": [],
   "source": [
    "from datetime import datetime"
   ]
  },
  {
   "cell_type": "code",
   "execution_count": 2,
   "id": "957eb8c3",
   "metadata": {},
   "outputs": [],
   "source": [
    "now = datetime.now()  # método .now() para obtener la fecha y hora actuales"
   ]
  },
  {
   "cell_type": "code",
   "execution_count": 3,
   "id": "ac5434ec",
   "metadata": {},
   "outputs": [
    {
     "data": {
      "text/plain": [
       "datetime.datetime(2024, 3, 10, 20, 40, 40, 501813)"
      ]
     },
     "execution_count": 3,
     "metadata": {},
     "output_type": "execute_result"
    }
   ],
   "source": [
    "now "
   ]
  },
  {
   "cell_type": "code",
   "execution_count": 4,
   "id": "6f2e9c52",
   "metadata": {},
   "outputs": [
    {
     "data": {
      "text/plain": [
       "2024"
      ]
     },
     "execution_count": 4,
     "metadata": {},
     "output_type": "execute_result"
    }
   ],
   "source": [
    "now.year "
   ]
  },
  {
   "cell_type": "code",
   "execution_count": 5,
   "id": "9c2022a2",
   "metadata": {},
   "outputs": [
    {
     "data": {
      "text/plain": [
       "3"
      ]
     },
     "execution_count": 5,
     "metadata": {},
     "output_type": "execute_result"
    }
   ],
   "source": [
    "now.month"
   ]
  },
  {
   "cell_type": "code",
   "execution_count": 6,
   "id": "03e2b21c",
   "metadata": {},
   "outputs": [
    {
     "data": {
      "text/plain": [
       "10"
      ]
     },
     "execution_count": 6,
     "metadata": {},
     "output_type": "execute_result"
    }
   ],
   "source": [
    "now.day"
   ]
  },
  {
   "cell_type": "code",
   "execution_count": 7,
   "id": "a325b017",
   "metadata": {},
   "outputs": [
    {
     "data": {
      "text/plain": [
       "20"
      ]
     },
     "execution_count": 7,
     "metadata": {},
     "output_type": "execute_result"
    }
   ],
   "source": [
    "now.hour"
   ]
  },
  {
   "cell_type": "code",
   "execution_count": 8,
   "id": "d984405e",
   "metadata": {},
   "outputs": [
    {
     "data": {
      "text/plain": [
       "40"
      ]
     },
     "execution_count": 8,
     "metadata": {},
     "output_type": "execute_result"
    }
   ],
   "source": [
    "now.minute"
   ]
  },
  {
   "cell_type": "code",
   "execution_count": 9,
   "id": "eb4a06aa",
   "metadata": {},
   "outputs": [
    {
     "data": {
      "text/plain": [
       "40"
      ]
     },
     "execution_count": 9,
     "metadata": {},
     "output_type": "execute_result"
    }
   ],
   "source": [
    "now.second"
   ]
  },
  {
   "cell_type": "code",
   "execution_count": 10,
   "id": "f7d8af22",
   "metadata": {},
   "outputs": [
    {
     "data": {
      "text/plain": [
       "501813"
      ]
     },
     "execution_count": 10,
     "metadata": {},
     "output_type": "execute_result"
    }
   ],
   "source": [
    "now.microsecond"
   ]
  },
  {
   "cell_type": "markdown",
   "id": "b1f06ac0",
   "metadata": {},
   "source": [
    "datetime stores both the date and time down to the microsecond. "
   ]
  },
  {
   "cell_type": "markdown",
   "id": "e307e675",
   "metadata": {},
   "source": [
    "timedelta represents the temporal difference between two datetime objects:"
   ]
  },
  {
   "cell_type": "code",
   "execution_count": 12,
   "id": "9f60202c",
   "metadata": {},
   "outputs": [
    {
     "data": {
      "text/plain": [
       "datetime.timedelta(days=7)"
      ]
     },
     "execution_count": 12,
     "metadata": {},
     "output_type": "execute_result"
    }
   ],
   "source": [
    "delta = datetime(2024, 3, 10, 0, 0) - datetime(2024, 3, 3, 0, 0) # la función datetime()\n",
    "delta "
   ]
  },
  {
   "cell_type": "code",
   "execution_count": 13,
   "id": "49155a9a",
   "metadata": {},
   "outputs": [
    {
     "data": {
      "text/plain": [
       "(7, 0)"
      ]
     },
     "execution_count": 13,
     "metadata": {},
     "output_type": "execute_result"
    }
   ],
   "source": [
    "delta.days, delta.seconds "
   ]
  },
  {
   "cell_type": "markdown",
   "id": "14afcbe4",
   "metadata": {},
   "source": [
    "You can add (or subtract) a timedelta or multiple thereof to a datetime object to yield a new shifted object:"
   ]
  },
  {
   "cell_type": "code",
   "execution_count": 14,
   "id": "45da6f8c",
   "metadata": {},
   "outputs": [],
   "source": [
    "from datetime import timedelta"
   ]
  },
  {
   "cell_type": "code",
   "execution_count": 15,
   "id": "5efc07ad",
   "metadata": {},
   "outputs": [],
   "source": [
    "timedelta = timedelta(weeks = 2)\n"
   ]
  },
  {
   "cell_type": "code",
   "execution_count": 16,
   "id": "724f3a0e",
   "metadata": {},
   "outputs": [
    {
     "data": {
      "text/plain": [
       "datetime.timedelta(days=14)"
      ]
     },
     "execution_count": 16,
     "metadata": {},
     "output_type": "execute_result"
    }
   ],
   "source": [
    "timedelta"
   ]
  },
  {
   "cell_type": "code",
   "execution_count": 17,
   "id": "48b8a358",
   "metadata": {},
   "outputs": [],
   "source": [
    "time_stamp = datetime.now() # toma la hora y fecha actual \n"
   ]
  },
  {
   "cell_type": "code",
   "execution_count": 18,
   "id": "ced5f2ad",
   "metadata": {},
   "outputs": [
    {
     "data": {
      "text/plain": [
       "datetime.datetime(2024, 3, 24, 20, 44, 43, 777215)"
      ]
     },
     "execution_count": 18,
     "metadata": {},
     "output_type": "execute_result"
    }
   ],
   "source": [
    "nuevo_momento = time_stamp + timedelta\n",
    "nuevo_momento"
   ]
  },
  {
   "cell_type": "markdown",
   "id": "9b4e7abd",
   "metadata": {},
   "source": [
    "Table 11-1 summarizes the data types in the datetime module. "
   ]
  },
  {
   "cell_type": "markdown",
   "id": "b0d85423",
   "metadata": {},
   "source": [
    "While this chapter is mainly concerned with the data types in pandas and higher-level time series manipulation, you may encounter the datetime-based types in many other places in Python in the wild.\n"
   ]
  },
  {
   "cell_type": "markdown",
   "id": "45f307dc",
   "metadata": {},
   "source": [
    "# Table 11-1. Types in datetime module  \n",
    "\n",
    "|Type|Description|\n",
    "|----|-----------|\n",
    "| date|Store calendar date (year, month, day) using the Gregorian calendar|\n",
    "|time|Store time of day as hours, minutes, seconds, and microseconds|\n",
    "|datetime| Stores both date and time|\n",
    "|timedelta| Represents the difference between two datetime values (as days, seconds, and microseconds)|\n",
    "|tzinfo|Base type for storing time zone information|\n"
   ]
  },
  {
   "cell_type": "code",
   "execution_count": 19,
   "id": "22e77890",
   "metadata": {},
   "outputs": [
    {
     "data": {
      "text/plain": [
       "datetime.date(2024, 3, 3)"
      ]
     },
     "execution_count": 19,
     "metadata": {},
     "output_type": "execute_result"
    }
   ],
   "source": [
    "from datetime import date  # hemos importado de la librería datetime el módulo date.\n",
    "\n",
    "ejemplo_date = date(2024, 3, 3)\n",
    "ejemplo_date"
   ]
  },
  {
   "cell_type": "code",
   "execution_count": 20,
   "id": "6584205c",
   "metadata": {},
   "outputs": [
    {
     "data": {
      "text/plain": [
       "datetime.time(11, 27)"
      ]
     },
     "execution_count": 20,
     "metadata": {},
     "output_type": "execute_result"
    }
   ],
   "source": [
    "from datetime import time \n",
    "ejemplo_time = time(11, 27)\n",
    "ejemplo_time"
   ]
  },
  {
   "cell_type": "code",
   "execution_count": 21,
   "id": "3892c53a",
   "metadata": {},
   "outputs": [
    {
     "name": "stdout",
     "output_type": "stream",
     "text": [
      "Zona horaria actual: -05\n"
     ]
    }
   ],
   "source": [
    "import datetime\n",
    "\n",
    "# Obtener la fecha y hora actual\n",
    "now = datetime.datetime.now()\n",
    "\n",
    "# Obtener la información de la zona horaria local\n",
    "zona_horaria = now.astimezone().tzinfo\n",
    "\n",
    "# Mostrar la información de la zona horaria\n",
    "print(\"Zona horaria actual:\", zona_horaria)\n"
   ]
  },
  {
   "cell_type": "markdown",
   "id": "6e09ca7b",
   "metadata": {},
   "source": [
    "# Converting Between String and Datetime  \n"
   ]
  },
  {
   "cell_type": "markdown",
   "id": "cf8ad6ee",
   "metadata": {},
   "source": [
    "\n",
    "You can format datetime objects and pandas Timestamp objects, which I’ll introduce later, as strings using str or the strftime method, passing a format specification:"
   ]
  },
  {
   "cell_type": "code",
   "execution_count": 22,
   "id": "b291eae9",
   "metadata": {},
   "outputs": [],
   "source": [
    "from datetime import datetime \n",
    "stamp = datetime(2024, 2, 28, 15, 58, 50)"
   ]
  },
  {
   "cell_type": "code",
   "execution_count": 23,
   "id": "83233dc8",
   "metadata": {},
   "outputs": [
    {
     "data": {
      "text/plain": [
       "datetime.datetime(2024, 2, 28, 15, 58, 50)"
      ]
     },
     "execution_count": 23,
     "metadata": {},
     "output_type": "execute_result"
    }
   ],
   "source": [
    "stamp "
   ]
  },
  {
   "cell_type": "code",
   "execution_count": 25,
   "id": "1611e48d",
   "metadata": {},
   "outputs": [
    {
     "data": {
      "text/plain": [
       "datetime.datetime"
      ]
     },
     "execution_count": 25,
     "metadata": {},
     "output_type": "execute_result"
    }
   ],
   "source": [
    "type(stamp)  # tipo de dato de python"
   ]
  },
  {
   "cell_type": "code",
   "execution_count": 26,
   "metadata": {},
   "outputs": [
    {
     "data": {
      "text/plain": [
       "'2024-02-28 15:58:50'"
      ]
     },
     "execution_count": 26,
     "metadata": {},
     "output_type": "execute_result"
    }
   ],
   "source": [
    "str(stamp)"
   ]
  },
  {
   "cell_type": "code",
   "execution_count": 28,
   "id": "73bdfb14",
   "metadata": {},
   "outputs": [
    {
     "data": {
      "text/plain": [
       "'2024-02-28-15-58'"
      ]
     },
     "execution_count": 28,
     "metadata": {},
     "output_type": "execute_result"
    }
   ],
   "source": [
    "stamp.strftime('%Y-%m-%d-%H-%M') # convertir a cade con un formati preestablecido "
   ]
  },
  {
   "cell_type": "markdown",
   "id": "4ed2b31d",
   "metadata": {},
   "source": [
    "Table 11-2. Datetime format specification (ISO C89 compatible)\n",
    "\n",
    "|Type| Description|\n",
    "|----|------------|\n",
    "|%Y|Four-digit year|\n",
    "|%y|Two-digit year|\n",
    "|%m|Two-digit month [01, 12]|\n",
    "|%d|Two-digit day [01, 31]|\n",
    "|%H|Hour (24-hour clock) [00, 23]|\n",
    "|%I|Hour (12-hour clock) [01, 12]|\n",
    "|%M|Two-digit minute [00, 59]|\n",
    "|%S|Second [00, 61] (seconds 60, 61 account for leap seconds)|\n",
    "|%w|Weekday as integer [0 (Sunday), 6]|\n",
    "|%U|Week number of the year [00, 53]; Monday is considered the first day of the week, and days before the first Sunday of the year are \"week 0\"\n",
    "|%W|Week number of the year [00, 53]; Monday is considered the first day of the week, and days before the first Monday of the year are “week 0”|\n",
    "|%z|UTC time zone offset as +HHMM or -HHMM; empty if time zone naive\n",
    "|%F|Shortcut for %Y-%m-%d (e.g., 2012-4-18)|\n",
    "|%D|Shortcut for %m/%d/%y (e.g., 04/18/12)|\n"
   ]
  },
  {
   "cell_type": "code",
   "execution_count": 54,
   "id": "ecf65a7d",
   "metadata": {},
   "outputs": [],
   "source": [
    "from datetime import datetime\n",
    "momento = datetime.now() # crea la variable momento con la fecha y hora actual "
   ]
  },
  {
   "cell_type": "code",
   "execution_count": 55,
   "id": "a9866f9b",
   "metadata": {},
   "outputs": [
    {
     "data": {
      "text/plain": [
       "datetime.datetime"
      ]
     },
     "execution_count": 55,
     "metadata": {},
     "output_type": "execute_result"
    }
   ],
   "source": [
    "type(momento )"
   ]
  },
  {
   "cell_type": "code",
   "execution_count": 56,
   "id": "7a02192c",
   "metadata": {},
   "outputs": [
    {
     "data": {
      "text/plain": [
       "datetime.datetime(2024, 3, 10, 21, 3, 28, 348161)"
      ]
     },
     "execution_count": 56,
     "metadata": {},
     "output_type": "execute_result"
    }
   ],
   "source": [
    "momento "
   ]
  },
  {
   "cell_type": "code",
   "execution_count": 16,
   "id": "52877e69",
   "metadata": {},
   "outputs": [
    {
     "data": {
      "text/plain": [
       "'2024-02-28 16:02:59.101589'"
      ]
     },
     "execution_count": 16,
     "metadata": {},
     "output_type": "execute_result"
    }
   ],
   "source": [
    "str(momento)"
   ]
  },
  {
   "cell_type": "code",
   "execution_count": 57,
   "id": "ee34aae9",
   "metadata": {},
   "outputs": [
    {
     "data": {
      "text/plain": [
       "'2024-03-10-21-03-0-Sunday'"
      ]
     },
     "execution_count": 57,
     "metadata": {},
     "output_type": "execute_result"
    }
   ],
   "source": [
    "momento.strftime('%Y-%m-%d-%H-%M-%w-%A') # convertir un objeto datime a un formato de cadena preestablecido usando la tabla 11.2"
   ]
  },
  {
   "cell_type": "code",
   "execution_count": 34,
   "id": "ab607773",
   "metadata": {},
   "outputs": [
    {
     "data": {
      "text/plain": [
       "'2024'"
      ]
     },
     "execution_count": 34,
     "metadata": {},
     "output_type": "execute_result"
    }
   ],
   "source": [
    "stamp.strftime('%Y')"
   ]
  },
  {
   "cell_type": "markdown",
   "id": "4c8897d6",
   "metadata": {},
   "source": [
    "You can use these same format codes to convert strings to dates using `datetime.strptime`:"
   ]
  },
  {
   "cell_type": "code",
   "execution_count": 35,
   "id": "2ffec70a",
   "metadata": {},
   "outputs": [],
   "source": [
    "fecha_como_cadena = '24-02-28'\n"
   ]
  },
  {
   "cell_type": "code",
   "execution_count": 37,
   "id": "828dae0f",
   "metadata": {},
   "outputs": [
    {
     "data": {
      "text/plain": [
       "datetime.datetime(2024, 2, 28, 0, 0)"
      ]
     },
     "execution_count": 37,
     "metadata": {},
     "output_type": "execute_result"
    }
   ],
   "source": [
    "from datetime import datetime \n",
    "datetime.strptime(fecha_como_cadena, '%y-%m-%d') # tengo que entregar la cadena y el formato de esa fecha\n"
   ]
  },
  {
   "cell_type": "code",
   "execution_count": 52,
   "id": "e46057ac",
   "metadata": {},
   "outputs": [],
   "source": [
    "\n",
    "date_strs = ['7/6/2011', '8/6/2011']  # lista de cadenas \n"
   ]
  },
  {
   "cell_type": "code",
   "execution_count": 53,
   "id": "31ad92e0",
   "metadata": {},
   "outputs": [
    {
     "data": {
      "text/plain": [
       "[datetime.datetime(2011, 7, 6, 0, 0), datetime.datetime(2011, 8, 6, 0, 0)]"
      ]
     },
     "execution_count": 53,
     "metadata": {},
     "output_type": "execute_result"
    }
   ],
   "source": [
    " [datetime.strptime(x, '%m/%d/%Y') for x in date_strs] # construyo una lista por conprensión \n"
   ]
  },
  {
   "cell_type": "markdown",
   "id": "bdd328b5",
   "metadata": {},
   "source": [
    "datetime.strptime is a good way to parse a date with a known format. "
   ]
  },
  {
   "cell_type": "markdown",
   "id": "bb7a1018",
   "metadata": {},
   "source": [
    "However, it can be a bit annoying to have to write a format spec each time, especially for common date formats. "
   ]
  },
  {
   "cell_type": "markdown",
   "id": "bcab4ee5",
   "metadata": {},
   "source": [
    "In this case, you can use the parser.parse method in the third-party\n",
    "dateutil package (this is installed automatically when you install pandas):"
   ]
  },
  {
   "cell_type": "code",
   "execution_count": 49,
   "id": "31d9420e",
   "metadata": {},
   "outputs": [
    {
     "data": {
      "text/plain": [
       "datetime.datetime(2042, 3, 10, 0, 0)"
      ]
     },
     "execution_count": 49,
     "metadata": {},
     "output_type": "execute_result"
    }
   ],
   "source": [
    "from dateutil.parser import parse\n",
    "parse('42-03-10')\n"
   ]
  },
  {
   "cell_type": "markdown",
   "id": "5bbd5dad",
   "metadata": {},
   "source": [
    "dateutil is capable of parsing most human-intelligible date representations:"
   ]
  },
  {
   "cell_type": "code",
   "execution_count": 32,
   "id": "ab754c56",
   "metadata": {},
   "outputs": [
    {
     "data": {
      "text/plain": [
       "datetime.datetime(1997, 1, 31, 22, 45)"
      ]
     },
     "execution_count": 32,
     "metadata": {},
     "output_type": "execute_result"
    }
   ],
   "source": [
    "parse('Jan 31, 1997 10:45 PM')\n"
   ]
  },
  {
   "cell_type": "markdown",
   "id": "d50278b2",
   "metadata": {},
   "source": [
    "\n",
    "In international locales, day appearing before month is very common, so you can pass dayfirst=True to indicate this:\n"
   ]
  },
  {
   "cell_type": "code",
   "execution_count": 47,
   "id": "0c1a7f78",
   "metadata": {},
   "outputs": [
    {
     "data": {
      "text/plain": [
       "datetime.datetime(2024, 12, 6, 0, 0)"
      ]
     },
     "execution_count": 47,
     "metadata": {},
     "output_type": "execute_result"
    }
   ],
   "source": [
    "parse('6/12/2024', dayfirst=True)\n"
   ]
  },
  {
   "cell_type": "markdown",
   "id": "03908f04",
   "metadata": {},
   "source": [
    "\n",
    "pandas is generally oriented toward working with arrays of dates, whether used as an axis index or a column in a DataFrame. "
   ]
  },
  {
   "cell_type": "markdown",
   "id": "8fef1206",
   "metadata": {},
   "source": [
    "The to_datetime method parses many different kinds of date representations. Standard date formats like ISO 8601 can be\n",
    "parsed very quickly:"
   ]
  },
  {
   "cell_type": "code",
   "execution_count": 41,
   "id": "5d5a4e6c",
   "metadata": {},
   "outputs": [
    {
     "data": {
      "text/plain": [
       "DatetimeIndex(['2024-02-06 12:00:00', '2024-02-06 00:00:00'], dtype='datetime64[ns]', freq=None)"
      ]
     },
     "execution_count": 41,
     "metadata": {},
     "output_type": "execute_result"
    }
   ],
   "source": [
    "import pandas as pd \n",
    "date_strs = ['2024-02-06 12:00:00', '2024-02-06 00:00:00']\n",
    "pd.to_datetime(date_strs)\n"
   ]
  },
  {
   "cell_type": "markdown",
   "id": "4cb2eca2",
   "metadata": {},
   "source": [
    "It also handles values that should be considered missing (None, empty string, etc.):"
   ]
  },
  {
   "cell_type": "code",
   "execution_count": 42,
   "id": "452003c5",
   "metadata": {},
   "outputs": [],
   "source": [
    "idx = pd.to_datetime(date_strs + [None])\n"
   ]
  },
  {
   "cell_type": "code",
   "execution_count": 43,
   "id": "d70962e4",
   "metadata": {},
   "outputs": [
    {
     "data": {
      "text/plain": [
       "DatetimeIndex(['2024-02-06 12:00:00', '2024-02-06 00:00:00', 'NaT'], dtype='datetime64[ns]', freq=None)"
      ]
     },
     "execution_count": 43,
     "metadata": {},
     "output_type": "execute_result"
    }
   ],
   "source": [
    "idx"
   ]
  },
  {
   "cell_type": "code",
   "execution_count": 44,
   "id": "e136cef6",
   "metadata": {},
   "outputs": [
    {
     "data": {
      "text/plain": [
       "NaT"
      ]
     },
     "execution_count": 44,
     "metadata": {},
     "output_type": "execute_result"
    }
   ],
   "source": [
    "\n",
    "idx[2]\n"
   ]
  },
  {
   "cell_type": "code",
   "execution_count": 45,
   "id": "a548a79d",
   "metadata": {},
   "outputs": [
    {
     "data": {
      "text/plain": [
       "array([False, False,  True])"
      ]
     },
     "execution_count": 45,
     "metadata": {},
     "output_type": "execute_result"
    }
   ],
   "source": [
    "pd.isnull(idx)\n"
   ]
  },
  {
   "cell_type": "markdown",
   "id": "4652938c",
   "metadata": {},
   "source": [
    "NaT (Not a Time) is pandas’s null value for timestamp data.\n"
   ]
  },
  {
   "cell_type": "markdown",
   "id": "c3f3502e",
   "metadata": {},
   "source": [
    "dateutil.parser is a useful but imperfect tool. "
   ]
  },
  {
   "cell_type": "markdown",
   "id": "6ec0d273",
   "metadata": {},
   "source": [
    "Notably, it will recognize some strings as dates that you might prefer that it didn’t for example, '42' will be parsed as the year 2042 with today’s calendar date.\n"
   ]
  },
  {
   "cell_type": "markdown",
   "id": "bd47c452",
   "metadata": {},
   "source": [
    "datetime objects also have a number of locale-specific formatting options for systems in other countries or languages. "
   ]
  },
  {
   "cell_type": "markdown",
   "id": "2ad94c7c",
   "metadata": {},
   "source": [
    "For example, the abbreviated month names will be different on German or French systems compared with English systems. "
   ]
  },
  {
   "cell_type": "markdown",
   "id": "0547b1cd",
   "metadata": {},
   "source": [
    "See Table 11-3 for a listing.\n"
   ]
  },
  {
   "cell_type": "markdown",
   "id": "47c2fc90",
   "metadata": {},
   "source": [
    "Table 11-3. Locale-specific date formatting"
   ]
  },
  {
   "cell_type": "markdown",
   "id": "da14a6f2",
   "metadata": {},
   "source": [
    "|Type|Description|  \n",
    "|----|-----------|  \n",
    "|%a|Abbreviated weekday name|\n",
    "|%A|Full weekday name|\n",
    "|%b|Abbreviated month name|\n",
    "|%B|Full month name|\n",
    "|%c|Full date and time (e.g., ‘Tue 01 May 2012 04:20:57 PM’)|\n",
    "|%p|Locale equivalent of AM or PM|\n",
    "|%x|Locale-appropriate formatted date (e.g., in the United States, May 1, 2012 yields ’05/01/2012’)|\n",
    "|%X|Locale-appropriate time (e.g., ’04:24:12 PM’)|"
   ]
  },
  {
   "cell_type": "code",
   "execution_count": 63,
   "id": "da276635",
   "metadata": {},
   "outputs": [
    {
     "data": {
      "text/plain": [
       "('Sun', 'Sunday', 'Mar', 'March')"
      ]
     },
     "execution_count": 63,
     "metadata": {},
     "output_type": "execute_result"
    }
   ],
   "source": [
    "from datetime import datetime\n",
    "\n",
    "time_stamp = datetime.now()\n",
    "\n",
    "time_stamp.strftime('%a'), time_stamp.strftime('%A'), \\\n",
    "    time_stamp.strftime('%b'), time_stamp.strftime('%B')"
   ]
  },
  {
   "cell_type": "markdown",
   "id": "4e245c71",
   "metadata": {},
   "source": [
    "# 11.2 Time Series Basics  \n",
    "\n"
   ]
  },
  {
   "cell_type": "code",
   "execution_count": null,
   "id": "95ab673c",
   "metadata": {},
   "outputs": [],
   "source": []
  },
  {
   "cell_type": "markdown",
   "id": "2f0141c3",
   "metadata": {},
   "source": [
    "## Tareas para realizar antes de la clase  \n",
    "\n",
    "1. Ver los videos respectivos []()\n",
    "2. Memorizar las definiciones []()\n",
    "3. Sintetizar o resumir la información en mapas conceptuales. []()\n",
    "4. Tareas para incentivar el uso de la calculadora Casio Para ingenieros y licenciados. "
   ]
  },
  {
   "cell_type": "markdown",
   "id": "a2f5c4f6",
   "metadata": {},
   "source": [
    "Aquí tienes una lista de tareas para realizar antes de la clase con el objetivo de aprendizaje de crear objetos datetime y manipularlos con la librería estándar de Python, utilizando la sección 11.1 de Wes McKinney como referencia y aprovechando el enfoque pedagógico de aula invertida:\n",
    "\n",
    "1. **Familiarizarse con la sección 11.1 del libro \"Python for Data Analysis\" de Wes McKinney**:\n",
    "   - Leer detenidamente la sección 11.1 del libro para comprender los conceptos relacionados con la creación y manipulación de objetos datetime en Python.\n",
    "\n",
    "2. **Explorar la documentación oficial de la librería datetime de Python**:\n",
    "   - Revisar la documentación oficial de la librería datetime para comprender las funcionalidades disponibles y cómo se pueden utilizar para trabajar con fechas y horas en Python.\n",
    "\n",
    "3. **Investigar sobre el proyecto Antioquia Mira Su Cielo**:\n",
    "   - Visitar el enlace proporcionado (http://54.146.188.73:8501/) para familiarizarse con el proyecto Antioquia Mira Su Cielo y entender cómo se pueden obtener datos meteorológicos de Antioquia a través de este proyecto.\n"
   ]
  },
  {
   "cell_type": "markdown",
   "id": "b5ee8071",
   "metadata": {},
   "source": [
    "\n",
    "4. **Explorar los datos meteorológicos disponibles**:\n",
    "   - Explorar los datos meteorológicos disponibles en el proyecto Antioquia Mira Su Cielo para comprender la estructura de los datos y qué tipo de información se puede obtener.\n",
    "\n",
    "5. **Practicar con ejemplos de creación y manipulación de objetos datetime**:\n",
    "   - Realizar ejercicios prácticos utilizando la librería datetime de Python para crear objetos datetime, realizar operaciones con fechas y horas, y manipular datos de tiempo de diversas formas.\n",
    "\n",
    "6. **Investigar sobre formatos de fecha y hora**:\n",
    "   - Investigar los diferentes formatos de fecha y hora que se utilizan comúnmente y cómo se pueden manipular en Python utilizando la librería datetime.\n"
   ]
  },
  {
   "cell_type": "markdown",
   "id": "452058f4",
   "metadata": {},
   "source": [
    "\n",
    "7. **Preparar preguntas para la clase**:\n",
    "   - Preparar preguntas sobre los conceptos que no estén claros o sobre cualquier aspecto del proyecto Antioquia Mira Su Cielo que no se comprenda completamente para discutir en clase y obtener una mejor comprensión.\n",
    "\n",
    "8. **Crear un entorno de desarrollo Python**:\n",
    "   - Configurar un entorno de desarrollo Python en tu computadora si aún no lo has hecho, para poder practicar y ejecutar código Python relacionado con la creación y manipulación de objetos datetime.\n",
    "\n",
    "Al completar estas tareas antes de la clase, estarás mejor preparado para comprender y participar en las discusiones sobre la creación y manipulación de objetos datetime en Python, así como para explorar y analizar los datos meteorológicos proporcionados por el proyecto Antioquia Mira Su Cielo."
   ]
  },
  {
   "cell_type": "markdown",
   "id": "3ce0557f",
   "metadata": {},
   "source": [
    " [Secuencia metodológica que seguiremos en cada modelación fundamentada en Borromeo citado por Carlos Ledezma](https://www.researchgate.net/profile/Carlos-Ledezma-4/publication/376076920_Modelizacion_matematica_desde_una_articulacion_teorica_entre_los_enfoques_cognitivo_y_onto-semiotico/links/6568cb363fa26f66f43b292a/Modelizacion-matematica-desde-una-articulacion-teorica-entre-los-enfoques-cognitivo-y-onto-semiotico.pdf)\n",
    "\n",
    "1. Entender la tarea\n",
    "2. Simplificar y estructurar la tarea\n",
    "3. Matemátizar\n",
    "4. Trabajar matemáticamente utilizando las competencias matemáticas del estudiante.\n",
    "5. Interpretar y \n",
    "6. validar"
   ]
  },
  {
   "cell_type": "markdown",
   "id": "7dbbd46e",
   "metadata": {},
   "source": []
  },
  {
   "cell_type": "markdown",
   "id": "1ccfb67e",
   "metadata": {
    "slideshow": {
     "slide_type": "slide"
    }
   },
   "source": [
    "# Visualizaciones tabulares y gráficas"
   ]
  },
  {
   "cell_type": "markdown",
   "id": "0631fb05",
   "metadata": {
    "slideshow": {
     "slide_type": "slide"
    }
   },
   "source": [
    "## Visualización gráfica con plotly"
   ]
  },
  {
   "cell_type": "code",
   "execution_count": 4,
   "id": "6009af5a",
   "metadata": {
    "slideshow": {
     "slide_type": "slide"
    }
   },
   "outputs": [
    {
     "data": {
      "application/vnd.plotly.v1+json": {
       "config": {
        "plotlyServerURL": "https://plot.ly"
       },
       "data": [
        {
         "hovertemplate": "x=%{x}<br>y=%{y}<extra></extra>",
         "legendgroup": "",
         "marker": {
          "color": "#636efa",
          "symbol": "circle"
         },
         "mode": "markers",
         "name": "",
         "orientation": "v",
         "showlegend": false,
         "type": "scatter",
         "x": [],
         "xaxis": "x",
         "y": [],
         "yaxis": "y"
        }
       ],
       "layout": {
        "legend": {
         "tracegroupgap": 0
        },
        "template": {
         "data": {
          "bar": [
           {
            "error_x": {
             "color": "#2a3f5f"
            },
            "error_y": {
             "color": "#2a3f5f"
            },
            "marker": {
             "line": {
              "color": "#E5ECF6",
              "width": 0.5
             },
             "pattern": {
              "fillmode": "overlay",
              "size": 10,
              "solidity": 0.2
             }
            },
            "type": "bar"
           }
          ],
          "barpolar": [
           {
            "marker": {
             "line": {
              "color": "#E5ECF6",
              "width": 0.5
             },
             "pattern": {
              "fillmode": "overlay",
              "size": 10,
              "solidity": 0.2
             }
            },
            "type": "barpolar"
           }
          ],
          "carpet": [
           {
            "aaxis": {
             "endlinecolor": "#2a3f5f",
             "gridcolor": "white",
             "linecolor": "white",
             "minorgridcolor": "white",
             "startlinecolor": "#2a3f5f"
            },
            "baxis": {
             "endlinecolor": "#2a3f5f",
             "gridcolor": "white",
             "linecolor": "white",
             "minorgridcolor": "white",
             "startlinecolor": "#2a3f5f"
            },
            "type": "carpet"
           }
          ],
          "choropleth": [
           {
            "colorbar": {
             "outlinewidth": 0,
             "ticks": ""
            },
            "type": "choropleth"
           }
          ],
          "contour": [
           {
            "colorbar": {
             "outlinewidth": 0,
             "ticks": ""
            },
            "colorscale": [
             [
              0,
              "#0d0887"
             ],
             [
              0.1111111111111111,
              "#46039f"
             ],
             [
              0.2222222222222222,
              "#7201a8"
             ],
             [
              0.3333333333333333,
              "#9c179e"
             ],
             [
              0.4444444444444444,
              "#bd3786"
             ],
             [
              0.5555555555555556,
              "#d8576b"
             ],
             [
              0.6666666666666666,
              "#ed7953"
             ],
             [
              0.7777777777777778,
              "#fb9f3a"
             ],
             [
              0.8888888888888888,
              "#fdca26"
             ],
             [
              1,
              "#f0f921"
             ]
            ],
            "type": "contour"
           }
          ],
          "contourcarpet": [
           {
            "colorbar": {
             "outlinewidth": 0,
             "ticks": ""
            },
            "type": "contourcarpet"
           }
          ],
          "heatmap": [
           {
            "colorbar": {
             "outlinewidth": 0,
             "ticks": ""
            },
            "colorscale": [
             [
              0,
              "#0d0887"
             ],
             [
              0.1111111111111111,
              "#46039f"
             ],
             [
              0.2222222222222222,
              "#7201a8"
             ],
             [
              0.3333333333333333,
              "#9c179e"
             ],
             [
              0.4444444444444444,
              "#bd3786"
             ],
             [
              0.5555555555555556,
              "#d8576b"
             ],
             [
              0.6666666666666666,
              "#ed7953"
             ],
             [
              0.7777777777777778,
              "#fb9f3a"
             ],
             [
              0.8888888888888888,
              "#fdca26"
             ],
             [
              1,
              "#f0f921"
             ]
            ],
            "type": "heatmap"
           }
          ],
          "heatmapgl": [
           {
            "colorbar": {
             "outlinewidth": 0,
             "ticks": ""
            },
            "colorscale": [
             [
              0,
              "#0d0887"
             ],
             [
              0.1111111111111111,
              "#46039f"
             ],
             [
              0.2222222222222222,
              "#7201a8"
             ],
             [
              0.3333333333333333,
              "#9c179e"
             ],
             [
              0.4444444444444444,
              "#bd3786"
             ],
             [
              0.5555555555555556,
              "#d8576b"
             ],
             [
              0.6666666666666666,
              "#ed7953"
             ],
             [
              0.7777777777777778,
              "#fb9f3a"
             ],
             [
              0.8888888888888888,
              "#fdca26"
             ],
             [
              1,
              "#f0f921"
             ]
            ],
            "type": "heatmapgl"
           }
          ],
          "histogram": [
           {
            "marker": {
             "pattern": {
              "fillmode": "overlay",
              "size": 10,
              "solidity": 0.2
             }
            },
            "type": "histogram"
           }
          ],
          "histogram2d": [
           {
            "colorbar": {
             "outlinewidth": 0,
             "ticks": ""
            },
            "colorscale": [
             [
              0,
              "#0d0887"
             ],
             [
              0.1111111111111111,
              "#46039f"
             ],
             [
              0.2222222222222222,
              "#7201a8"
             ],
             [
              0.3333333333333333,
              "#9c179e"
             ],
             [
              0.4444444444444444,
              "#bd3786"
             ],
             [
              0.5555555555555556,
              "#d8576b"
             ],
             [
              0.6666666666666666,
              "#ed7953"
             ],
             [
              0.7777777777777778,
              "#fb9f3a"
             ],
             [
              0.8888888888888888,
              "#fdca26"
             ],
             [
              1,
              "#f0f921"
             ]
            ],
            "type": "histogram2d"
           }
          ],
          "histogram2dcontour": [
           {
            "colorbar": {
             "outlinewidth": 0,
             "ticks": ""
            },
            "colorscale": [
             [
              0,
              "#0d0887"
             ],
             [
              0.1111111111111111,
              "#46039f"
             ],
             [
              0.2222222222222222,
              "#7201a8"
             ],
             [
              0.3333333333333333,
              "#9c179e"
             ],
             [
              0.4444444444444444,
              "#bd3786"
             ],
             [
              0.5555555555555556,
              "#d8576b"
             ],
             [
              0.6666666666666666,
              "#ed7953"
             ],
             [
              0.7777777777777778,
              "#fb9f3a"
             ],
             [
              0.8888888888888888,
              "#fdca26"
             ],
             [
              1,
              "#f0f921"
             ]
            ],
            "type": "histogram2dcontour"
           }
          ],
          "mesh3d": [
           {
            "colorbar": {
             "outlinewidth": 0,
             "ticks": ""
            },
            "type": "mesh3d"
           }
          ],
          "parcoords": [
           {
            "line": {
             "colorbar": {
              "outlinewidth": 0,
              "ticks": ""
             }
            },
            "type": "parcoords"
           }
          ],
          "pie": [
           {
            "automargin": true,
            "type": "pie"
           }
          ],
          "scatter": [
           {
            "fillpattern": {
             "fillmode": "overlay",
             "size": 10,
             "solidity": 0.2
            },
            "type": "scatter"
           }
          ],
          "scatter3d": [
           {
            "line": {
             "colorbar": {
              "outlinewidth": 0,
              "ticks": ""
             }
            },
            "marker": {
             "colorbar": {
              "outlinewidth": 0,
              "ticks": ""
             }
            },
            "type": "scatter3d"
           }
          ],
          "scattercarpet": [
           {
            "marker": {
             "colorbar": {
              "outlinewidth": 0,
              "ticks": ""
             }
            },
            "type": "scattercarpet"
           }
          ],
          "scattergeo": [
           {
            "marker": {
             "colorbar": {
              "outlinewidth": 0,
              "ticks": ""
             }
            },
            "type": "scattergeo"
           }
          ],
          "scattergl": [
           {
            "marker": {
             "colorbar": {
              "outlinewidth": 0,
              "ticks": ""
             }
            },
            "type": "scattergl"
           }
          ],
          "scattermapbox": [
           {
            "marker": {
             "colorbar": {
              "outlinewidth": 0,
              "ticks": ""
             }
            },
            "type": "scattermapbox"
           }
          ],
          "scatterpolar": [
           {
            "marker": {
             "colorbar": {
              "outlinewidth": 0,
              "ticks": ""
             }
            },
            "type": "scatterpolar"
           }
          ],
          "scatterpolargl": [
           {
            "marker": {
             "colorbar": {
              "outlinewidth": 0,
              "ticks": ""
             }
            },
            "type": "scatterpolargl"
           }
          ],
          "scatterternary": [
           {
            "marker": {
             "colorbar": {
              "outlinewidth": 0,
              "ticks": ""
             }
            },
            "type": "scatterternary"
           }
          ],
          "surface": [
           {
            "colorbar": {
             "outlinewidth": 0,
             "ticks": ""
            },
            "colorscale": [
             [
              0,
              "#0d0887"
             ],
             [
              0.1111111111111111,
              "#46039f"
             ],
             [
              0.2222222222222222,
              "#7201a8"
             ],
             [
              0.3333333333333333,
              "#9c179e"
             ],
             [
              0.4444444444444444,
              "#bd3786"
             ],
             [
              0.5555555555555556,
              "#d8576b"
             ],
             [
              0.6666666666666666,
              "#ed7953"
             ],
             [
              0.7777777777777778,
              "#fb9f3a"
             ],
             [
              0.8888888888888888,
              "#fdca26"
             ],
             [
              1,
              "#f0f921"
             ]
            ],
            "type": "surface"
           }
          ],
          "table": [
           {
            "cells": {
             "fill": {
              "color": "#EBF0F8"
             },
             "line": {
              "color": "white"
             }
            },
            "header": {
             "fill": {
              "color": "#C8D4E3"
             },
             "line": {
              "color": "white"
             }
            },
            "type": "table"
           }
          ]
         },
         "layout": {
          "annotationdefaults": {
           "arrowcolor": "#2a3f5f",
           "arrowhead": 0,
           "arrowwidth": 1
          },
          "autotypenumbers": "strict",
          "coloraxis": {
           "colorbar": {
            "outlinewidth": 0,
            "ticks": ""
           }
          },
          "colorscale": {
           "diverging": [
            [
             0,
             "#8e0152"
            ],
            [
             0.1,
             "#c51b7d"
            ],
            [
             0.2,
             "#de77ae"
            ],
            [
             0.3,
             "#f1b6da"
            ],
            [
             0.4,
             "#fde0ef"
            ],
            [
             0.5,
             "#f7f7f7"
            ],
            [
             0.6,
             "#e6f5d0"
            ],
            [
             0.7,
             "#b8e186"
            ],
            [
             0.8,
             "#7fbc41"
            ],
            [
             0.9,
             "#4d9221"
            ],
            [
             1,
             "#276419"
            ]
           ],
           "sequential": [
            [
             0,
             "#0d0887"
            ],
            [
             0.1111111111111111,
             "#46039f"
            ],
            [
             0.2222222222222222,
             "#7201a8"
            ],
            [
             0.3333333333333333,
             "#9c179e"
            ],
            [
             0.4444444444444444,
             "#bd3786"
            ],
            [
             0.5555555555555556,
             "#d8576b"
            ],
            [
             0.6666666666666666,
             "#ed7953"
            ],
            [
             0.7777777777777778,
             "#fb9f3a"
            ],
            [
             0.8888888888888888,
             "#fdca26"
            ],
            [
             1,
             "#f0f921"
            ]
           ],
           "sequentialminus": [
            [
             0,
             "#0d0887"
            ],
            [
             0.1111111111111111,
             "#46039f"
            ],
            [
             0.2222222222222222,
             "#7201a8"
            ],
            [
             0.3333333333333333,
             "#9c179e"
            ],
            [
             0.4444444444444444,
             "#bd3786"
            ],
            [
             0.5555555555555556,
             "#d8576b"
            ],
            [
             0.6666666666666666,
             "#ed7953"
            ],
            [
             0.7777777777777778,
             "#fb9f3a"
            ],
            [
             0.8888888888888888,
             "#fdca26"
            ],
            [
             1,
             "#f0f921"
            ]
           ]
          },
          "colorway": [
           "#636efa",
           "#EF553B",
           "#00cc96",
           "#ab63fa",
           "#FFA15A",
           "#19d3f3",
           "#FF6692",
           "#B6E880",
           "#FF97FF",
           "#FECB52"
          ],
          "font": {
           "color": "#2a3f5f"
          },
          "geo": {
           "bgcolor": "white",
           "lakecolor": "white",
           "landcolor": "#E5ECF6",
           "showlakes": true,
           "showland": true,
           "subunitcolor": "white"
          },
          "hoverlabel": {
           "align": "left"
          },
          "hovermode": "closest",
          "mapbox": {
           "style": "light"
          },
          "paper_bgcolor": "white",
          "plot_bgcolor": "#E5ECF6",
          "polar": {
           "angularaxis": {
            "gridcolor": "white",
            "linecolor": "white",
            "ticks": ""
           },
           "bgcolor": "#E5ECF6",
           "radialaxis": {
            "gridcolor": "white",
            "linecolor": "white",
            "ticks": ""
           }
          },
          "scene": {
           "xaxis": {
            "backgroundcolor": "#E5ECF6",
            "gridcolor": "white",
            "gridwidth": 2,
            "linecolor": "white",
            "showbackground": true,
            "ticks": "",
            "zerolinecolor": "white"
           },
           "yaxis": {
            "backgroundcolor": "#E5ECF6",
            "gridcolor": "white",
            "gridwidth": 2,
            "linecolor": "white",
            "showbackground": true,
            "ticks": "",
            "zerolinecolor": "white"
           },
           "zaxis": {
            "backgroundcolor": "#E5ECF6",
            "gridcolor": "white",
            "gridwidth": 2,
            "linecolor": "white",
            "showbackground": true,
            "ticks": "",
            "zerolinecolor": "white"
           }
          },
          "shapedefaults": {
           "line": {
            "color": "#2a3f5f"
           }
          },
          "ternary": {
           "aaxis": {
            "gridcolor": "white",
            "linecolor": "white",
            "ticks": ""
           },
           "baxis": {
            "gridcolor": "white",
            "linecolor": "white",
            "ticks": ""
           },
           "bgcolor": "#E5ECF6",
           "caxis": {
            "gridcolor": "white",
            "linecolor": "white",
            "ticks": ""
           }
          },
          "title": {
           "x": 0.05
          },
          "xaxis": {
           "automargin": true,
           "gridcolor": "white",
           "linecolor": "white",
           "ticks": "",
           "title": {
            "standoff": 15
           },
           "zerolinecolor": "white",
           "zerolinewidth": 2
          },
          "yaxis": {
           "automargin": true,
           "gridcolor": "white",
           "linecolor": "white",
           "ticks": "",
           "title": {
            "standoff": 15
           },
           "zerolinecolor": "white",
           "zerolinewidth": 2
          }
         }
        },
        "title": {
         "text": "Relación entre x e y"
        },
        "xaxis": {
         "anchor": "y",
         "domain": [
          0,
          1
         ],
         "title": {
          "text": "x"
         }
        },
        "yaxis": {
         "anchor": "x",
         "domain": [
          0,
          1
         ],
         "title": {
          "text": "y"
         }
        }
       }
      }
     },
     "metadata": {},
     "output_type": "display_data"
    }
   ],
   "source": [
    "import numpy as np \n",
    "import pandas as pd \n",
    "import plotly.express as px\n",
    "# datos\n",
    "X = np.array([])\n",
    "\n",
    "Y = np.array([])\n",
    "\n",
    "# tabla de datos\n",
    "tabla = pd.DataFrame({'x':X, 'y':Y})\n",
    "#trazo de diagrama de dispersión o scatter\n",
    "fig = px.scatter(tabla,x = tabla.keys()[0], y = tabla.keys()[1], title='Relación entre x e y')\n",
    "\n",
    "fig.show()\n",
    "\n",
    "#fig.write_html('relacion_entre_x_e_y.html', auto_open=True)"
   ]
  },
  {
   "cell_type": "code",
   "execution_count": null,
   "id": "d8a111c4",
   "metadata": {
    "slideshow": {
     "slide_type": "slide"
    }
   },
   "outputs": [],
   "source": []
  },
  {
   "cell_type": "markdown",
   "id": "fccb447c",
   "metadata": {
    "slideshow": {
     "slide_type": "slide"
    }
   },
   "source": [
    "# Tareas para realizar en clase"
   ]
  },
  {
   "cell_type": "markdown",
   "id": "e5c48edf",
   "metadata": {
    "slideshow": {
     "slide_type": "slide"
    }
   },
   "source": [
    "* Modelación matemática \n",
    "* Trabajo en equipos"
   ]
  },
  {
   "cell_type": "code",
   "execution_count": 2,
   "metadata": {},
   "outputs": [
    {
     "name": "stdout",
     "output_type": "stream",
     "text": [
      "Asignaciones guardadas en purcell_seccion_5.6_pagina 313\n"
     ]
    },
    {
     "data": {
      "text/html": [
       "<div>\n",
       "<style scoped>\n",
       "    .dataframe tbody tr th:only-of-type {\n",
       "        vertical-align: middle;\n",
       "    }\n",
       "\n",
       "    .dataframe tbody tr th {\n",
       "        vertical-align: top;\n",
       "    }\n",
       "\n",
       "    .dataframe thead th {\n",
       "        text-align: right;\n",
       "    }\n",
       "</style>\n",
       "<table border=\"1\" class=\"dataframe\">\n",
       "  <thead>\n",
       "    <tr style=\"text-align: right;\">\n",
       "      <th></th>\n",
       "      <th>Student</th>\n",
       "      <th>Exer1</th>\n",
       "    </tr>\n",
       "  </thead>\n",
       "  <tbody>\n",
       "    <tr>\n",
       "      <th>0</th>\n",
       "      <td>leonardo</td>\n",
       "      <td>7</td>\n",
       "    </tr>\n",
       "    <tr>\n",
       "      <th>1</th>\n",
       "      <td>Duvan trejo</td>\n",
       "      <td>3</td>\n",
       "    </tr>\n",
       "    <tr>\n",
       "      <th>2</th>\n",
       "      <td>angel</td>\n",
       "      <td>31</td>\n",
       "    </tr>\n",
       "    <tr>\n",
       "      <th>3</th>\n",
       "      <td>camila</td>\n",
       "      <td>20</td>\n",
       "    </tr>\n",
       "    <tr>\n",
       "      <th>4</th>\n",
       "      <td>luis fernando</td>\n",
       "      <td>18</td>\n",
       "    </tr>\n",
       "    <tr>\n",
       "      <th>5</th>\n",
       "      <td>mariana</td>\n",
       "      <td>32</td>\n",
       "    </tr>\n",
       "    <tr>\n",
       "      <th>6</th>\n",
       "      <td>oscar david</td>\n",
       "      <td>17</td>\n",
       "    </tr>\n",
       "    <tr>\n",
       "      <th>7</th>\n",
       "      <td>duvan salgado</td>\n",
       "      <td>10</td>\n",
       "    </tr>\n",
       "  </tbody>\n",
       "</table>\n",
       "</div>"
      ],
      "text/plain": [
       "         Student  Exer1\n",
       "0       leonardo      7\n",
       "1    Duvan trejo      3\n",
       "2          angel     31\n",
       "3         camila     20\n",
       "4  luis fernando     18\n",
       "5        mariana     32\n",
       "6    oscar david     17\n",
       "7  duvan salgado     10"
      ]
     },
     "execution_count": 2,
     "metadata": {},
     "output_type": "execute_result"
    }
   ],
   "source": [
    "## Quiz de 15 minutos para ejercitación y adquisición de habilidades computacionales y de pensamiento variacional\n",
    "\n",
    "# Resolver con sympy el punto sobre centro de masa que se le haya propuesto. \n",
    "\n",
    "# Puede utilizar chatGPT, pero debe revisar y corregir, lo que este modelo le entregue. \n",
    "\n",
    "\n",
    "import pandas as pd\n",
    "import numpy as np\n",
    "import random\n",
    "import requests\n",
    "\n",
    "\n",
    "texto_guia_seccion_pagina = 'purcell_seccion_5.6_pagina 313'\n",
    "n_exercises_del_taller_del_texto = 36\n",
    "n_ejercicios_asignados_al_estudiante = 1\n",
    "\n",
    "\n",
    "\n",
    "# Descargar la lista de estudiantes y ejercicios\n",
    "students_url = \"https://raw.githubusercontent.com/marco-canas/groups_list/main/calculo_integral.csv\"\n",
    "exercises = list(range(1, n_exercises_del_taller_del_texto))  # Lista de ejercicios del 1 al 83\n",
    "\n",
    "# Cargar la lista de estudiantes\n",
    "students_data = pd.read_csv(students_url)\n",
    "\n",
    "# Crear una lista para almacenar las asignaciones\n",
    "assignments = []\n",
    "\n",
    "# Asignar ejercicios aleatorios a cada estudiante\n",
    "for index, student in students_data.iterrows():\n",
    "    random_exercises = random.sample(exercises, n_ejercicios_asignados_al_estudiante)  # Seleccionar 5 ejercicios aleatorios sin repetición\n",
    "    assignments.append([students_data[\"Nombre\"][index], *random_exercises])  # Agregar asignación a la lista\n",
    "\n",
    "# Crear un DataFrame con las asignaciones\n",
    "columns = [\"Student\", \"Exer1\"]\n",
    "assignment_df = pd.DataFrame(assignments, columns=columns)\n",
    "\n",
    "# Guardar el DataFrame en un archivo CSV\n",
    "assignment_csv = texto_guia_seccion_pagina \n",
    "assignment_df.to_csv(assignment_csv, index=False)\n",
    "\n",
    "print(\"Asignaciones guardadas en\", assignment_csv)\n",
    "assignment_df"
   ]
  },
  {
   "cell_type": "markdown",
   "id": "8b6b0112",
   "metadata": {
    "slideshow": {
     "slide_type": "slide"
    }
   },
   "source": [
    "# Tareas para realizar después de la realización de la clase"
   ]
  },
  {
   "cell_type": "markdown",
   "id": "947460e3",
   "metadata": {
    "slideshow": {
     "slide_type": "slide"
    }
   },
   "source": [
    "* Actividades de memorización: \n",
    "  - escucha reiterada de grabaciones de formulas y resultados científicos. \n",
    "  - relectura de notas. \n",
    "  - ejercicios de mayor complejidad.\n",
    "\n",
    "\n",
    "### No olvide asignar las tareas a los estudiantes a través de Google Colab y compartiendole el cuaderno de asignación a su correo institucional con fecha de entrega. [Google Colab](https://colab.research.google.com/?hl=es)   \n",
    "  "
   ]
  },
  {
   "cell_type": "markdown",
   "id": "d34defb9",
   "metadata": {
    "slideshow": {
     "slide_type": "slide"
    }
   },
   "source": [
    "## Asignación individual de tareas semanales "
   ]
  },
  {
   "cell_type": "code",
   "execution_count": 2,
   "id": "0406f442",
   "metadata": {
    "slideshow": {
     "slide_type": "slide"
    }
   },
   "outputs": [
    {
     "name": "stdout",
     "output_type": "stream",
     "text": [
      "Tarea asignada:  tarea_Precalculo_Stewart_Página_32_Sección_1.3.csv\n"
     ]
    },
    {
     "data": {
      "text/html": [
       "<div>\n",
       "<style scoped>\n",
       "    .dataframe tbody tr th:only-of-type {\n",
       "        vertical-align: middle;\n",
       "    }\n",
       "\n",
       "    .dataframe tbody tr th {\n",
       "        vertical-align: top;\n",
       "    }\n",
       "\n",
       "    .dataframe thead th {\n",
       "        text-align: right;\n",
       "    }\n",
       "</style>\n",
       "<table border=\"1\" class=\"dataframe\">\n",
       "  <thead>\n",
       "    <tr style=\"text-align: right;\">\n",
       "      <th></th>\n",
       "      <th>Student</th>\n",
       "      <th>Exer1</th>\n",
       "      <th>Exer2</th>\n",
       "      <th>Exer3</th>\n",
       "      <th>Exer4</th>\n",
       "      <th>Exer5</th>\n",
       "    </tr>\n",
       "  </thead>\n",
       "  <tbody>\n",
       "    <tr>\n",
       "      <th>0</th>\n",
       "      <td>ARIAS ARRIETA FREDY</td>\n",
       "      <td>129</td>\n",
       "      <td>68</td>\n",
       "      <td>106</td>\n",
       "      <td>21</td>\n",
       "      <td>44</td>\n",
       "    </tr>\n",
       "    <tr>\n",
       "      <th>1</th>\n",
       "      <td>BOHORQUEZ NAVARRO DINA ESTELA</td>\n",
       "      <td>32</td>\n",
       "      <td>135</td>\n",
       "      <td>41</td>\n",
       "      <td>51</td>\n",
       "      <td>65</td>\n",
       "    </tr>\n",
       "    <tr>\n",
       "      <th>2</th>\n",
       "      <td>CARDONA RAMIREZ SARA PAULINA</td>\n",
       "      <td>54</td>\n",
       "      <td>35</td>\n",
       "      <td>17</td>\n",
       "      <td>51</td>\n",
       "      <td>59</td>\n",
       "    </tr>\n",
       "    <tr>\n",
       "      <th>3</th>\n",
       "      <td>CASTANEDA REINOZA DIEGO</td>\n",
       "      <td>129</td>\n",
       "      <td>42</td>\n",
       "      <td>8</td>\n",
       "      <td>28</td>\n",
       "      <td>81</td>\n",
       "    </tr>\n",
       "    <tr>\n",
       "      <th>4</th>\n",
       "      <td>ESPEJO PEREZ LUIS DAVID</td>\n",
       "      <td>51</td>\n",
       "      <td>125</td>\n",
       "      <td>84</td>\n",
       "      <td>98</td>\n",
       "      <td>111</td>\n",
       "    </tr>\n",
       "    <tr>\n",
       "      <th>5</th>\n",
       "      <td>HERNANDEZ GUERRA FABIAN ALEJANDRO</td>\n",
       "      <td>54</td>\n",
       "      <td>94</td>\n",
       "      <td>126</td>\n",
       "      <td>79</td>\n",
       "      <td>85</td>\n",
       "    </tr>\n",
       "    <tr>\n",
       "      <th>6</th>\n",
       "      <td>HERRERA PAYARES RAFAEL ANTONIO</td>\n",
       "      <td>77</td>\n",
       "      <td>40</td>\n",
       "      <td>19</td>\n",
       "      <td>135</td>\n",
       "      <td>21</td>\n",
       "    </tr>\n",
       "    <tr>\n",
       "      <th>7</th>\n",
       "      <td>LUCAS FLOREZ NAYELIS NATALIA</td>\n",
       "      <td>113</td>\n",
       "      <td>47</td>\n",
       "      <td>8</td>\n",
       "      <td>17</td>\n",
       "      <td>29</td>\n",
       "    </tr>\n",
       "    <tr>\n",
       "      <th>8</th>\n",
       "      <td>MARTINEZ BALLESTEROS VICTOR HUGO</td>\n",
       "      <td>97</td>\n",
       "      <td>66</td>\n",
       "      <td>17</td>\n",
       "      <td>22</td>\n",
       "      <td>38</td>\n",
       "    </tr>\n",
       "    <tr>\n",
       "      <th>9</th>\n",
       "      <td>MARTINEZ MENDOZA JAIR MIGUEL</td>\n",
       "      <td>7</td>\n",
       "      <td>42</td>\n",
       "      <td>10</td>\n",
       "      <td>13</td>\n",
       "      <td>49</td>\n",
       "    </tr>\n",
       "    <tr>\n",
       "      <th>10</th>\n",
       "      <td>MAZO PEREZ SAMUEL</td>\n",
       "      <td>24</td>\n",
       "      <td>113</td>\n",
       "      <td>16</td>\n",
       "      <td>83</td>\n",
       "      <td>105</td>\n",
       "    </tr>\n",
       "    <tr>\n",
       "      <th>11</th>\n",
       "      <td>MONTES DIAZ DIEGO ALEJANDRO</td>\n",
       "      <td>23</td>\n",
       "      <td>76</td>\n",
       "      <td>77</td>\n",
       "      <td>98</td>\n",
       "      <td>68</td>\n",
       "    </tr>\n",
       "    <tr>\n",
       "      <th>12</th>\n",
       "      <td>OCHOA ARRIETA JUAN ANDRES</td>\n",
       "      <td>109</td>\n",
       "      <td>67</td>\n",
       "      <td>2</td>\n",
       "      <td>133</td>\n",
       "      <td>25</td>\n",
       "    </tr>\n",
       "    <tr>\n",
       "      <th>13</th>\n",
       "      <td>RODRIGUEZ VERONA CARLOS MARIO</td>\n",
       "      <td>67</td>\n",
       "      <td>120</td>\n",
       "      <td>75</td>\n",
       "      <td>6</td>\n",
       "      <td>24</td>\n",
       "    </tr>\n",
       "    <tr>\n",
       "      <th>14</th>\n",
       "      <td>RUIZ CARDENAS LUIS MARIO</td>\n",
       "      <td>40</td>\n",
       "      <td>24</td>\n",
       "      <td>17</td>\n",
       "      <td>12</td>\n",
       "      <td>72</td>\n",
       "    </tr>\n",
       "    <tr>\n",
       "      <th>15</th>\n",
       "      <td>SIERRA OLIVEROS OMAR DARIO</td>\n",
       "      <td>31</td>\n",
       "      <td>20</td>\n",
       "      <td>42</td>\n",
       "      <td>93</td>\n",
       "      <td>8</td>\n",
       "    </tr>\n",
       "    <tr>\n",
       "      <th>16</th>\n",
       "      <td>SUAREZ RESTREPO MARIA ANGELICA</td>\n",
       "      <td>41</td>\n",
       "      <td>117</td>\n",
       "      <td>113</td>\n",
       "      <td>40</td>\n",
       "      <td>108</td>\n",
       "    </tr>\n",
       "    <tr>\n",
       "      <th>17</th>\n",
       "      <td>TAMAYO DE LA OSSA SARA</td>\n",
       "      <td>95</td>\n",
       "      <td>10</td>\n",
       "      <td>131</td>\n",
       "      <td>129</td>\n",
       "      <td>2</td>\n",
       "    </tr>\n",
       "  </tbody>\n",
       "</table>\n",
       "</div>"
      ],
      "text/plain": [
       "                              Student  Exer1  Exer2  Exer3  Exer4  Exer5\n",
       "0                 ARIAS ARRIETA FREDY    129     68    106     21     44\n",
       "1       BOHORQUEZ NAVARRO DINA ESTELA     32    135     41     51     65\n",
       "2        CARDONA RAMIREZ SARA PAULINA     54     35     17     51     59\n",
       "3             CASTANEDA REINOZA DIEGO    129     42      8     28     81\n",
       "4             ESPEJO PEREZ LUIS DAVID     51    125     84     98    111\n",
       "5   HERNANDEZ GUERRA FABIAN ALEJANDRO     54     94    126     79     85\n",
       "6      HERRERA PAYARES RAFAEL ANTONIO     77     40     19    135     21\n",
       "7        LUCAS FLOREZ NAYELIS NATALIA    113     47      8     17     29\n",
       "8    MARTINEZ BALLESTEROS VICTOR HUGO     97     66     17     22     38\n",
       "9        MARTINEZ MENDOZA JAIR MIGUEL      7     42     10     13     49\n",
       "10                  MAZO PEREZ SAMUEL     24    113     16     83    105\n",
       "11        MONTES DIAZ DIEGO ALEJANDRO     23     76     77     98     68\n",
       "12          OCHOA ARRIETA JUAN ANDRES    109     67      2    133     25\n",
       "13      RODRIGUEZ VERONA CARLOS MARIO     67    120     75      6     24\n",
       "14           RUIZ CARDENAS LUIS MARIO     40     24     17     12     72\n",
       "15         SIERRA OLIVEROS OMAR DARIO     31     20     42     93      8\n",
       "16     SUAREZ RESTREPO MARIA ANGELICA     41    117    113     40    108\n",
       "17             TAMAYO DE LA OSSA SARA     95     10    131    129      2"
      ]
     },
     "execution_count": 2,
     "metadata": {},
     "output_type": "execute_result"
    }
   ],
   "source": [
    "# asignación de ejercicios de un seccion del texto guía\n",
    "\n",
    "# numpy.random.choice() obten la documentación de esta función en: \n",
    "# https://numpy.org/doc/stable/reference/random/generated/numpy.random.choice.html\n",
    "\n",
    "import pandas as pd\n",
    "import numpy as np\n",
    "import requests\n",
    "np.random.seed(42)  # establecer semilla aleatoria para hacer los resultados reproducibles\n",
    "\n",
    "\n",
    "\n",
    "grupo_estudiantes = 'fund_math'\n",
    "nombre_texto_guia = 'Precalculo_Stewart'\n",
    "pagina_y_seccion = 'Página_32_Sección_1.3'\n",
    "numero_ejercicios_taller = 135\n",
    "numero_de_ejercicios_asignados = 5\n",
    "\n",
    "\n",
    "# Descargar la lista de  estudiantes\n",
    "students_url = \"https://raw.githubusercontent.com/marco-canas/groups_list/main/\" + grupo_estudiantes + \".csv\"\n",
    "exercises = list(range(1, numero_ejercicios_taller))  \n",
    "\n",
    "students_data = pd.read_csv(students_url)\n",
    "\n",
    "# Crear una lista para almacenar las asignaciones\n",
    "assignments = []\n",
    "\n",
    "# Asignar ejercicios aleatorios a cada estudiante\n",
    "for index, student in students_data.iterrows():\n",
    "    # Seleccionar 5 ejercicios aleatorios sin repetición\n",
    "    random_exercises = np.random.choice(exercises, numero_de_ejercicios_asignados, replace = False)+ 1 \n",
    "    assignments.append([students_data[\"Nombre\"][index], *random_exercises])  # Agregar asignación a la lista\n",
    "\n",
    "# Crear un DataFrame con las asignaciones\n",
    "columns = [\"Student\"] + [ \"Exer\" + str(i+1) for i in range(numero_de_ejercicios_asignados)]\n",
    "assignment_df = pd.DataFrame(assignments, columns=columns)\n",
    "\n",
    "# Guardar el DataFrame en un archivo CSV\n",
    "assignment_csv = \"tarea\" + \"_\" + nombre_texto_guia + \"_\"+ pagina_y_seccion + \".csv\"\n",
    "assignment_df.to_csv(assignment_csv, index=False)\n",
    "\n",
    "print(\"Tarea asignada: \", assignment_csv)\n",
    "assignment_df"
   ]
  },
  {
   "cell_type": "markdown",
   "id": "742281f4",
   "metadata": {},
   "source": [
    "# No olvide la tarea de realizar la foda para autoevaluarse\n",
    "\n",
    "Fortalezas: F  \n",
    "Oportuniudades O:  \n",
    "Debilidades: D:   \n",
    "Amenazas: A:     "
   ]
  },
  {
   "cell_type": "markdown",
   "id": "8d41fe58",
   "metadata": {
    "slideshow": {
     "slide_type": "slide"
    }
   },
   "source": [
    "# Horario de clases del profesor Marco\n",
    "\n",
    "* Lunes de 8 a 12: Pensamiento Matemático\n",
    "* Lunes 2 to 4: Cálculo Vectorial \n",
    "* Miércoles 8-12 M: Seminario en Didáctica de la aritmética. \n",
    "* Jueves de 8 a 12 M: Cálculo Integral.\n",
    "\n",
    "* Viernes: 8 - 12: Matemáticas I para Administración de Empresas. \n",
    "\n"
   ]
  },
  {
   "cell_type": "markdown",
   "id": "ae114e14",
   "metadata": {
    "slideshow": {
     "slide_type": "slide"
    }
   },
   "source": [
    "# Horarios de monitoría y asesoría"
   ]
  },
  {
   "cell_type": "markdown",
   "id": "b1db4b6c",
   "metadata": {
    "slideshow": {
     "slide_type": "slide"
    }
   },
   "source": [
    "## Monitor Manuel"
   ]
  },
  {
   "cell_type": "markdown",
   "id": "39559692",
   "metadata": {
    "slideshow": {
     "slide_type": "slide"
    }
   },
   "source": [
    "Martes y jueves de 8 - 12  \n",
    "Miércoles 10 - 12 y de 2 a 4 PM  \n",
    "Sábado: 8 - 12"
   ]
  },
  {
   "cell_type": "markdown",
   "id": "935a5567",
   "metadata": {
    "slideshow": {
     "slide_type": "slide"
    }
   },
   "source": [
    "## Dificultades de aprendizaje detectados durante la clase"
   ]
  },
  {
   "cell_type": "markdown",
   "id": "3bd7500d",
   "metadata": {
    "slideshow": {
     "slide_type": "slide"
    }
   },
   "source": []
  },
  {
   "cell_type": "markdown",
   "id": "fb9402bb",
   "metadata": {
    "slideshow": {
     "slide_type": "slide"
    }
   },
   "source": [
    "## Estrategias propuestas para la solución de las dificultades de aprendizaje detectadas"
   ]
  },
  {
   "cell_type": "markdown",
   "id": "d437294b",
   "metadata": {
    "slideshow": {
     "slide_type": "slide"
    }
   },
   "source": []
  },
  {
   "cell_type": "markdown",
   "id": "d11570a2",
   "metadata": {
    "slideshow": {
     "slide_type": "slide"
    }
   },
   "source": []
  },
  {
   "cell_type": "markdown",
   "id": "319f2ffa",
   "metadata": {
    "slideshow": {
     "slide_type": "slide"
    }
   },
   "source": [
    "## Grabaciones en audio para fomentar la capacidad de memorizar enunciados de teoremas y resultados científicos y la capacidad de parafrasear estos resultados. Y así desarrollar memoria muscular para los comandos comunes. \n",
    "Se dispondrá de un lugar en Vocaroo para albergar archivos de audio de fomento a la memorización, enunciación y parafraseo de los resultados científicos, propiedades, reglas, etc. \n",
    "\n",
    "[Vocaroo](https://vocaroo.com/)\n",
    "\n"
   ]
  },
  {
   "cell_type": "markdown",
   "id": "564fa59d",
   "metadata": {
    "slideshow": {
     "slide_type": "slide"
    }
   },
   "source": [
    "### Comparta sus cuadernos y videos, evidencias de su aprendizaje [aquí](https://forms.office.com/Pages/ResponsePage.aspx?id=IefhmYRxjkmK_7KtTlPBwkanXIs1i1FEujpsZgO6dXpUMEMwTEZVMzEwVVBPTElWNVg5OVEyWUhMUy4u)"
   ]
  },
  {
   "cell_type": "markdown",
   "id": "1a1a3e41",
   "metadata": {
    "slideshow": {
     "slide_type": "slide"
    }
   },
   "source": []
  },
  {
   "cell_type": "markdown",
   "id": "44be6d93",
   "metadata": {
    "slideshow": {
     "slide_type": "slide"
    }
   },
   "source": [
    "# Vocabulary "
   ]
  },
  {
   "cell_type": "markdown",
   "id": "35e2484a",
   "metadata": {
    "slideshow": {
     "slide_type": "slide"
    }
   },
   "source": [
    "1. Analysis: \n",
    "2. Wrangling: to argue, quarrel, debate, or dispute, esp. noisily or angrily: \n",
    "3. Tools:  \n",
    "4. Standard Library: \n",
    "5. related: belonging to the same family, group, or type; connected. \n",
    "6. inner peace meditation: \n",
    "7. request send: \n",
    "8. You’ll get an email letting you know if your request was approved \n",
    "9. Relieve stress: Alivio del estres. \n",
    "\n",
    "[Primera práctica de memorización de vocabulario](https://voca.ro/1c30FzsipYle)"
   ]
  },
  {
   "cell_type": "markdown",
   "id": "94187562",
   "metadata": {},
   "source": [
    "# Colección de verbos irregulares aprendidos\n",
    "\n",
    "|Verbo irregular en presente|en español|Pasado|\n",
    "|---------------------------|----------|------|  \n",
    "|choose|elegir|chose|"
   ]
  },
  {
   "cell_type": "markdown",
   "id": "10bce0d0",
   "metadata": {
    "slideshow": {
     "slide_type": "slide"
    }
   },
   "source": [
    "## Referentes "
   ]
  },
  {
   "cell_type": "markdown",
   "id": "1db3c468",
   "metadata": {
    "slideshow": {
     "slide_type": "slide"
    }
   },
   "source": [
    "* [stewart precálculo](https://udeaeduco-my.sharepoint.com/:b:/g/personal/marco_canas_udea_edu_co/ERHIq62I6qFNrmxy6LZb8ZMBci7kUsyNME1nIh9yCBMJ_w?e=0zMSla)  \n",
    "\n",
    "* [stewart cálculo](https://udeaeduco-my.sharepoint.com/:b:/g/personal/marco_canas_udea_edu_co/EZgXZjAp8QxPqOAim2hs6LcBNPLGjSHf-xwYnUVYkwa04w?e=RZdTCy)  \n",
    "\n",
    "* [larson](https://udeaeduco-my.sharepoint.com/:b:/g/personal/marco_canas_udea_edu_co/ES71ChFeO9ZDhW3TwC5Ijk8BjxUK3Pdqz_fjHxTTFAfIAg?e=VDEjfu)\n",
    "\n",
    "* [uzcategui](https://udeaeduco-my.sharepoint.com/:b:/g/personal/marco_canas_udea_edu_co/ETDikm-lVl1Or8XoEo9oyh0BEti9Zs8le-f0D-dBdtZmbA?e=bBsoyQ)\n",
    "\n",
    "* [Cálculo de Purcell](https://udeaeduco-my.sharepoint.com/:b:/g/personal/marco_canas_udea_edu_co/ES60UB4h-QFFqqRQUFmkpWcBIgoLBJeqTfZjNajWNWSeJA?e=9NxjKJ)\n",
    "\n",
    "* [Recomendación de la UNESCO sobre ciencia abierta](https://unesdoc.unesco.org/ark:/48223/pf0000379949_spa)\n",
    "\n",
    "* [Fórmulas más comunes en latex](https://wiki.geogebra.org/es/C%C3%B3digo_LaTeX_para_las_f%C3%B3rmulas_m%C3%A1s_comunes) \n",
    "\n",
    "* [chatGPT](https://openai.com/blog/chatgpt)  \n",
    "\n",
    "* Géron, A. (2017). Hands-on machine learning with scikit-learn and tensorflow: Concepts. Tools, and Techniques to build intelligent systems.[Geron, Aurelien. Hands on Machine Learning](https://udeaeduco-my.sharepoint.com/:b:/g/personal/marco_canas_udea_edu_co/Ecet27yjQzZIlT1Y_Bc2erkBUhbeYuIe6HG8i1FYZRlZww?e=dlvZ4v)  \n",
    "\n",
    "* McKinney, W. (2012). Python for data analysis: Data wrangling with Pandas, NumPy, and IPython. \" O'Reilly Media, Inc.\".[Wes Mackinney. ](https://github.com/marco-canas/didactica_ciencia_datos/blob/main/2_referentes/mckinney/Wes_McKinney.pdf)  \n",
    "\n",
    "* [Ledezma, C., Font, V., & Sala-Sebastià, G. MODELIZACIÓN MATEMÁTICA DESDE UNA ARTICULACIÓN TEÓRICA ENTRE LOS ENFOQUES COGNITIVO Y ONTO-SEMIÓTICO.](https://www.researchgate.net/profile/Carlos-Ledezma-4/publication/376076920_Modelizacion_matematica_desde_una_articulacion_teorica_entre_los_enfoques_cognitivo_y_onto-semiotico/links/6568cb363fa26f66f43b292a/Modelizacion-matematica-desde-una-articulacion-teorica-entre-los-enfoques-cognitivo-y-onto-semiotico.pdf)"
   ]
  },
  {
   "cell_type": "markdown",
   "id": "45c59aa9",
   "metadata": {},
   "source": [
    "[Autoevaluemonos para hacernos concientes de nuestro aprendizaje y en lo que debemos enfocarnos en mejorar]()  \n",
    "\n",
    "Aquí tienes una lista de preguntas de selección múltiple para una autoevaluación en un curso de cálculo con un enfoque pedagógico de aula invertida. Estas preguntas abarcan los objetivos de desarrollo del pensamiento variacional, pensamiento computacional a través de Python, capacidad de comunicación científica con LaTeX, Git y el uso de cuadernos Jupyter, así como la promoción de políticas de ciencia libre. \n",
    "\n",
    "1. **Pensamiento Variacional:**\n",
    "   a. ¿Qué significa el término \"variación\" en el contexto del pensamiento variacional?\n",
    "   b. ¿Cómo se relaciona el cálculo con el pensamiento variacional?\n",
    "   c. ¿Puede proporcionar un ejemplo práctico que ilustre el concepto de variación en un problema de cálculo?\n",
    "\n",
    "2. **Pensamiento Computacional (Python):**\n",
    "   a. ¿Cuál es el propósito principal de utilizar Python en un curso de cálculo?\n",
    "   b. ¿Cómo se puede utilizar Python para resolver problemas matemáticos complejos?\n",
    "   c. Menciona al menos dos ventajas de usar Python en comparación con otros lenguajes de programación en el contexto del cálculo.\n",
    "\n",
    "3. **Comunicación Científica (LaTeX):**\n",
    "   a. ¿Por qué es importante utilizar LaTeX para la comunicación científica en matemáticas y ciencias?\n",
    "   b. Enumera al menos tres comandos básicos de LaTeX utilizados para escribir ecuaciones matemáticas.\n",
    "   c. ¿Cómo mejorarías la presentación visual de una fórmula matemática utilizando LaTeX?\n",
    "\n",
    "4. **Gestión de Versiones (Git):**\n",
    "   a. ¿Cuál es el propósito principal de utilizar Git en el desarrollo de proyectos científicos?\n",
    "   b. Explica el concepto de \"commit\" en Git.\n",
    "   c. ¿Cómo resolverías un conflicto de fusión (merge conflict) en Git?\n",
    "\n",
    "5. **Cuadernos Jupyter:**\n",
    "   a. ¿Cuáles son las ventajas de utilizar cuadernos Jupyter en comparación con otros entornos de desarrollo?\n",
    "   b. Describe cómo se integra el código Python y la documentación en un cuaderno Jupyter.\n",
    "   c. ¿Cómo compartirías un cuaderno Jupyter con tus compañeros de clase utilizando GitHub?\n",
    "\n",
    "6. **Promoción de Políticas de Ciencia Libre:**\n",
    "   a. ¿Cuáles son los beneficios de utilizar plataformas como GitHub y YouTube para compartir recursos científicos?\n",
    "   b. ¿Cómo podrías contribuir a la promoción de la ciencia libre en tu comunidad académica?\n",
    "   c. ¿Por qué es importante la transparencia y accesibilidad en la investigación científica?\n",
    "\n",
    "Estas preguntas están diseñadas para evaluar la comprensión de los estudiantes en diversos aspectos del curso, abarcando desde los conceptos matemáticos hasta las habilidades tecnológicas y la conciencia sobre la ciencia libre."
   ]
  },
  {
   "cell_type": "markdown",
   "id": "8e65d6f9",
   "metadata": {},
   "source": [
    "# Como estudiante, encuentro que...   \n",
    "\n",
    "F: Mis Fortalezas son:     \n",
    "O: Mis Oportunidades son:    \n",
    "D: Mis Debilidades son:    \n",
    "A: Lo que Amenazas mi aprendizaje es:  "
   ]
  },
  {
   "cell_type": "markdown",
   "id": "6b9e56a8",
   "metadata": {
    "slideshow": {
     "slide_type": "slide"
    }
   },
   "source": [
    "### [Evaluamos al profesor Marco Cañas Aquí](https://forms.office.com/Pages/ResponsePage.aspx?id=IefhmYRxjkmK_7KtTlPBwkanXIs1i1FEujpsZgO6dXpUREJPV1kxUk1JV1ozTFJIQVNIQjY5WEY3US4u)"
   ]
  },
  {
   "cell_type": "markdown",
   "id": "050b9508",
   "metadata": {},
   "source": [
    "# Aportes de mis estudiantes a la metodología del curso  \n",
    "1. \n",
    "\n",
    "Sus opiniones y aportes son muy importantes para mi. Pues esta es una investigación educativa y un servicio de enseñanza para ustedes. Ustedes son la razón de ser de mi actividad docente. Dios los bendiga. "
   ]
  },
  {
   "cell_type": "markdown",
   "id": "6c4af91f",
   "metadata": {},
   "source": [
    "# Aportes de mis colegas docentes a la metodología que estoy aplicando en mis cursos. "
   ]
  },
  {
   "cell_type": "markdown",
   "id": "071afa04",
   "metadata": {
    "slideshow": {
     "slide_type": "slide"
    }
   },
   "source": [
    "## [Evaluación luego de alcanzar estos objetivos de aprendizaje]()"
   ]
  },
  {
   "cell_type": "markdown",
   "id": "10f43536",
   "metadata": {
    "slideshow": {
     "slide_type": "slide"
    }
   },
   "source": [
    "### Continue su aprendizaje en la siguiente clase a través del siguiente [vínculo](https://github.com/marco-canas/didactica_ciencia_datos/blob/main/2_referentes/mckinney/c_11_time_series/11_1_date_and_time_data_types_and_tools/2_11_1_evaluacion_oral_tarea_quiz_parcial_date_and_time_data_types_and_tools.ipynb)"
   ]
  },
  {
   "cell_type": "markdown",
   "id": "af751e30",
   "metadata": {
    "slideshow": {
     "slide_type": "slide"
    }
   },
   "source": [
    "# Conjeturas pedagógicas fruto de la aplicación del modelo de aprendizaje invertido y del enfoque hacia la ciencia de datos con python\n",
    "\n",
    "1. Todo cálculo o resultado debe ser interpretado en una línea markdown del cuaderno Jupyter, inmediatamente después de la enunciación del resultado y después de la presentación de una tabla o gráfico bidimensional, de tal menera que el estudiante explicite la comprensión verbal del resultado y las inferencias o estrategias que este resultado le sugieren.  \n",
    "\n",
    "2. Debo colocar las conjeturas pedagógicas, que el uso en el aula de [ChatGPT](https://openai.com/blog/chatgpt/) traiga para la enseñanza y el aprendizaje de las matemáticas. \n",
    "\n",
    "3. Promover ciencia abierta en clase de matemáticas puede ser pidiendo a los estudiantes, tomar nota en clase pero en cuadernos Jupyter y entregar siempre al final de cada clase su cuaderno con todas las notas y experimentaciones de clase replicadas. \n",
    "4. Profesor Marco, ¿ha contemplado la posibilidad de intercambio de experiencias de aprendizaje y aplicación de Python al día a día con comfama? (Estudio Trabajo Social y allí, en comfama, aprendí los fundamentos, lo básico de Python)\n",
    "\n",
    "¿Conoce si en la Universidad de Antioquia hay medios para poder aprender Swift/XCODE? (Para programar para dispositivos de Apple)\n",
    "5. Debo considerar la metodología ABP, es decir, diseñar las clase bajo la metodología de Aprendizaje Basado en Problemas. \n",
    "\n"
   ]
  },
  {
   "cell_type": "markdown",
   "id": "53cc9115",
   "metadata": {
    "slideshow": {
     "slide_type": "slide"
    }
   },
   "source": [
    "## Agradecimientos  \n",
    "\n",
    "Doy gracias a Dios por la vida de mi Hijo Joseph Cañas Osorio y la madurez que ha alcanzado.\n",
    "\n",
    "Y a mi esposa Yasmira por su apoyo, orientación y acompañamiento. "
   ]
  }
 ],
 "metadata": {
  "celltoolbar": "Slideshow",
  "kernelspec": {
   "display_name": "Python 3 (ipykernel)",
   "language": "python",
   "name": "python3"
  },
  "language_info": {
   "codemirror_mode": {
    "name": "ipython",
    "version": 3
   },
   "file_extension": ".py",
   "mimetype": "text/x-python",
   "name": "python",
   "nbconvert_exporter": "python",
   "pygments_lexer": "ipython3",
   "version": "3.10.12"
  },
  "rise": {
   "enable_chalkboard": true,
   "theme": "sky",
   "transition": "zoom"
  }
 },
 "nbformat": 4,
 "nbformat_minor": 5
}
