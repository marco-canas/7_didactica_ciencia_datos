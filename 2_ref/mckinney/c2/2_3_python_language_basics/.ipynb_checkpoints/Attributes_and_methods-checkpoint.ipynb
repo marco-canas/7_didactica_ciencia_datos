{
 "cells": [
  {
   "cell_type": "markdown",
   "id": "be2a4ed6",
   "metadata": {
    "slideshow": {
     "slide_type": "slide"
    }
   },
   "source": []
  },
  {
   "cell_type": "markdown",
   "id": "d9dbd006",
   "metadata": {
    "slideshow": {
     "slide_type": "slide"
    }
   },
   "source": []
  },
  {
   "cell_type": "markdown",
   "id": "0bf30966",
   "metadata": {
    "slideshow": {
     "slide_type": "slide"
    }
   },
   "source": [
    "# Attributes and methods"
   ]
  },
  {
   "cell_type": "markdown",
   "id": "08b1b896",
   "metadata": {
    "slideshow": {
     "slide_type": "slide"
    }
   },
   "source": [
    "\n",
    "Objects in Python typically have both attributes (other Python objects stored “inside” the object) and methods (functions associated with an object that can have access to the object’s internal data). Both of them are accessed via the syntax `obj.attribute_name`:"
   ]
  },
  {
   "cell_type": "code",
   "execution_count": 2,
   "id": "2e8877f0",
   "metadata": {
    "slideshow": {
     "slide_type": "slide"
    }
   },
   "outputs": [],
   "source": [
    "a = 'foo' "
   ]
  },
  {
   "cell_type": "code",
   "execution_count": null,
   "id": "34285cd3",
   "metadata": {
    "slideshow": {
     "slide_type": "slide"
    }
   },
   "outputs": [],
   "source": [
    "a."
   ]
  },
  {
   "cell_type": "markdown",
   "id": "1b22eb96",
   "metadata": {
    "slideshow": {
     "slide_type": "slide"
    }
   },
   "source": [
    "# Atributos y métodos\n",
    "\n",
    "Los objetos en Python suelen tener:\n",
    "\n",
    "* atributos (otros objetos de Python almacenados \"dentro\" del objeto) y \n",
    "* métodos (funciones asociadas con un objeto que pueden tener acceso a los datos internos del objeto). Se accede a ambos a través de la sintaxis obj.attribute_name:\n",
    "\n"
   ]
  },
  {
   "cell_type": "markdown",
   "id": "8cb4659d",
   "metadata": {
    "slideshow": {
     "slide_type": "slide"
    }
   },
   "source": [
    "Attributes and methods can also be accessed by name via the `getattr` function:\n"
   ]
  },
  {
   "cell_type": "code",
   "execution_count": 3,
   "id": "5c8bec89",
   "metadata": {
    "slideshow": {
     "slide_type": "slide"
    }
   },
   "outputs": [
    {
     "data": {
      "text/plain": [
       "<function str.split(sep=None, maxsplit=-1)>"
      ]
     },
     "execution_count": 3,
     "metadata": {},
     "output_type": "execute_result"
    }
   ],
   "source": [
    "getattr(a,'split') "
   ]
  },
  {
   "cell_type": "markdown",
   "id": "8fb70fd3",
   "metadata": {
    "slideshow": {
     "slide_type": "slide"
    }
   },
   "source": [
    "In other languages, accessing objects by name is often referred to as “reflection.”\n",
    "While we will not extensively use the functions getattr and related functions\n",
    "hasattr and setattr in this book, they can be used very effectively to write generic,\n",
    "reusable code"
   ]
  },
  {
   "cell_type": "markdown",
   "id": "b221f68e",
   "metadata": {
    "slideshow": {
     "slide_type": "slide"
    }
   },
   "source": []
  },
  {
   "cell_type": "code",
   "execution_count": null,
   "id": "986c2c62",
   "metadata": {
    "slideshow": {
     "slide_type": "slide"
    }
   },
   "outputs": [],
   "source": []
  },
  {
   "cell_type": "code",
   "execution_count": null,
   "id": "a7183dd8",
   "metadata": {},
   "outputs": [],
   "source": []
  },
  {
   "cell_type": "code",
   "execution_count": null,
   "id": "60baa896",
   "metadata": {},
   "outputs": [],
   "source": []
  },
  {
   "cell_type": "code",
   "execution_count": null,
   "id": "5b2bedde",
   "metadata": {},
   "outputs": [],
   "source": []
  }
 ],
 "metadata": {
  "celltoolbar": "Slideshow",
  "kernelspec": {
   "display_name": "Python 3 (ipykernel)",
   "language": "python",
   "name": "python3"
  },
  "language_info": {
   "codemirror_mode": {
    "name": "ipython",
    "version": 3
   },
   "file_extension": ".py",
   "mimetype": "text/x-python",
   "name": "python",
   "nbconvert_exporter": "python",
   "pygments_lexer": "ipython3",
   "version": "3.9.13"
  }
 },
 "nbformat": 4,
 "nbformat_minor": 5
}
