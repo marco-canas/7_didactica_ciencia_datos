{
 "cells": [
  {
   "cell_type": "markdown",
   "id": "6a73e1eb",
   "metadata": {},
   "source": [
    "# 1.1 Problem Setup"
   ]
  },
  {
   "cell_type": "markdown",
   "id": "b4acfca7",
   "metadata": {},
   "source": [
    "## [Video de apoyo]()"
   ]
  },
  {
   "cell_type": "markdown",
   "id": "7b239178",
   "metadata": {},
   "source": [
    "¿Qué tienen en común la previsión financiera, el diagnóstico médico, la visión por computadora y los motores de búsqueda?"
   ]
  },
  {
   "cell_type": "markdown",
   "id": "4f9f8757",
   "metadata": {},
   "source": [
    "Todos han utilizado con éxito el aprendizaje de los datos. El repertorio de tales aplicaciones es bastante impresionante."
   ]
  },
  {
   "cell_type": "markdown",
   "id": "2bf8306e",
   "metadata": {},
   "source": [
    "Abramos la discusión con una aplicación de la vida real para ver cómo funciona el aprendizaje de los datos."
   ]
  },
  {
   "cell_type": "markdown",
   "id": "2cdb4594",
   "metadata": {},
   "source": [
    "Considere el problema de predecir cómo calificaría un espectador las distintas películas que existen."
   ]
  },
  {
   "cell_type": "markdown",
   "id": "00e9855e",
   "metadata": {},
   "source": [
    "Este es un problema importante si usted es una empresa que alquila películas, ya que desea recomendar a diferentes espectadores las películas que les gustarán."
   ]
  },
  {
   "cell_type": "markdown",
   "id": "8228a079",
   "metadata": {},
   "source": [
    "Los buenos sistemas de recomendación son tan importantes para los negocios que la empresa de alquiler de películas Netflix ofreció un premio de un millón de dólares a cualquiera que pudiera mejorar sus recomendaciones en tan solo un 10%."
   ]
  },
  {
   "cell_type": "markdown",
   "id": "98354a81",
   "metadata": {},
   "source": [
    "La principal dificultad de este problema es que los criterios que utilizan los espectadores para calificar las películas son bastante complejos."
   ]
  },
  {
   "cell_type": "markdown",
   "id": "52d36699",
   "metadata": {},
   "source": [
    "Tratar de modelarlos explícitamente no es una tarea fácil, por lo que es posible que no sea posible encontrar una solución analítica."
   ]
  },
  {
   "cell_type": "code",
   "execution_count": null,
   "id": "d786d5a1",
   "metadata": {},
   "outputs": [],
   "source": []
  },
  {
   "cell_type": "code",
   "execution_count": null,
   "id": "777b550e",
   "metadata": {},
   "outputs": [],
   "source": []
  },
  {
   "cell_type": "code",
   "execution_count": null,
   "id": "67dfec02",
   "metadata": {},
   "outputs": [],
   "source": []
  },
  {
   "cell_type": "markdown",
   "id": "6678c18d",
   "metadata": {},
   "source": [
    "## Referentes \n",
    "\n",
    "* Mostafa  "
   ]
  }
 ],
 "metadata": {
  "kernelspec": {
   "display_name": "Python 3",
   "language": "python",
   "name": "python3"
  },
  "language_info": {
   "codemirror_mode": {
    "name": "ipython",
    "version": 3
   },
   "file_extension": ".py",
   "mimetype": "text/x-python",
   "name": "python",
   "nbconvert_exporter": "python",
   "pygments_lexer": "ipython3",
   "version": "3.8.8"
  },
  "latex_envs": {
   "LaTeX_envs_menu_present": true,
   "autoclose": false,
   "autocomplete": false,
   "bibliofile": "biblio.bib",
   "cite_by": "apalike",
   "current_citInitial": 1,
   "eqLabelWithNumbers": true,
   "eqNumInitial": 1,
   "hotkeys": {
    "equation": "Ctrl-E",
    "itemize": "Ctrl-I"
   },
   "labels_anchors": false,
   "latex_user_defs": false,
   "report_style_numbering": false,
   "user_envs_cfg": false
  }
 },
 "nbformat": 4,
 "nbformat_minor": 5
}
