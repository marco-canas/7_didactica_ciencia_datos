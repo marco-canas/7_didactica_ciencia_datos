{
 "cells": [
  {
   "cell_type": "markdown",
   "id": "0310b2bf",
   "metadata": {
    "slideshow": {
     "slide_type": "slide"
    }
   },
   "source": [
    "<table align=\"left\">\n",
    "  <td>\n",
    "    <a href=\"https://colab.research.google.com/github/marco-canas/taca/blob/main/ref/geron/chap_2/4_visualize/2_correlations.ipynb\" target=\"_parent\"><img src=\"https://colab.research.google.com/assets/colab-badge.svg\" alt=\"Open In Colab\"/></a>\n",
    "  </td>\n",
    "  <td>\n",
    "    <a target=\"_blank\" href=\"https://kaggle.com/kernels/welcome?src=https://github.com/marco-canas/taca/blob/main/ref/geron/chap_2/4_visualize/2_correlations.ipynb\"><img src=\"https://kaggle.com/static/images/open-in-kaggle.svg\" /></a>\n",
    "  </td>\n",
    "</table>"
   ]
  },
  {
   "cell_type": "markdown",
   "id": "8238b6aa",
   "metadata": {
    "slideshow": {
     "slide_type": "slide"
    }
   },
   "source": [
    "# Chapter 1"
   ]
  },
  {
   "cell_type": "markdown",
   "id": "c8e98d14",
   "metadata": {
    "slideshow": {
     "slide_type": "slide"
    }
   },
   "source": [
    "## The learning problem "
   ]
  },
  {
   "cell_type": "markdown",
   "id": "d42cb4e1",
   "metadata": {
    "slideshow": {
     "slide_type": "slide"
    }
   },
   "source": [
    "## [Video de apoyo](https://www.youtube.com/watch?v=SKhp5zrGHH8)"
   ]
  },
  {
   "cell_type": "markdown",
   "id": "7c8e5c2c",
   "metadata": {
    "slideshow": {
     "slide_type": "slide"
    }
   },
   "source": [
    "If you show a picture to a three-year-old and ask if there is a tree in it, you will likely get the correct answer. "
   ]
  },
  {
   "cell_type": "markdown",
   "id": "87249114",
   "metadata": {},
   "source": [
    "<img src = 'https://th.bing.com/th/id/R.0e74a1ccd02b824783243b6fc5e41eb1?rik=ucXrkDP3G8x0mQ&pid=ImgRaw&r=0'>"
   ]
  },
  {
   "cell_type": "markdown",
   "id": "20614d9b",
   "metadata": {
    "slideshow": {
     "slide_type": "slide"
    }
   },
   "source": [
    "Si le muestra una imagen a un niño de tres años y le pregunta si hay un árbol en ella, probablemente obtendrá la respuesta correcta."
   ]
  },
  {
   "cell_type": "markdown",
   "id": "38b2bb1c",
   "metadata": {
    "slideshow": {
     "slide_type": "slide"
    }
   },
   "source": [
    "If you ask a thirty-year-old what the definition of a tree is, you will likely get an inconclusive answer. "
   ]
  },
  {
   "cell_type": "markdown",
   "id": "fa3ed92c",
   "metadata": {
    "slideshow": {
     "slide_type": "slide"
    }
   },
   "source": [
    "Si le pregunta a una persona de treinta años cuál es la definición de árbol, es probable que obtenga una respuesta no concluyente."
   ]
  },
  {
   "cell_type": "markdown",
   "id": "8367c455",
   "metadata": {
    "slideshow": {
     "slide_type": "slide"
    }
   },
   "source": [
    "We didn't learn what a tree is by studying the mathematical definition of trees. "
   ]
  },
  {
   "cell_type": "markdown",
   "id": "e4e675d7",
   "metadata": {
    "slideshow": {
     "slide_type": "slide"
    }
   },
   "source": [
    "We learning it by looking at trees. "
   ]
  },
  {
   "cell_type": "markdown",
   "id": "9b6a478d",
   "metadata": {
    "slideshow": {
     "slide_type": "slide"
    }
   },
   "source": [
    "In other words, we learned from \"data\". "
   ]
  },
  {
   "cell_type": "markdown",
   "id": "0ef37cfa",
   "metadata": {
    "slideshow": {
     "slide_type": "slide"
    }
   },
   "source": [
    "Learning from data is used in situations where we don't have an analytic solution, but we do have data that we can use to construct an empirical solution. "
   ]
  },
  {
   "cell_type": "markdown",
   "id": "65242407",
   "metadata": {
    "slideshow": {
     "slide_type": "slide"
    }
   },
   "source": [
    "This premise covers a lot of territory, and indeed learning from data is one of the most widely used techniques in science, engineering, and economics, among other fields. "
   ]
  },
  {
   "cell_type": "markdown",
   "id": "3cb7ab7e",
   "metadata": {
    "slideshow": {
     "slide_type": "slide"
    }
   },
   "source": [
    "In this chapter, we present examples of learning from data and formalize the learning problem.  "
   ]
  },
  {
   "cell_type": "markdown",
   "id": "b3c8daa3",
   "metadata": {
    "slideshow": {
     "slide_type": "slide"
    }
   },
   "source": [
    "We also discuss the main concepts associated with learning, and the different paradigms of learning that have been developed. "
   ]
  },
  {
   "cell_type": "markdown",
   "id": "e707d5b6",
   "metadata": {
    "slideshow": {
     "slide_type": "slide"
    }
   },
   "source": [
    "## 1.1 Problem setup "
   ]
  },
  {
   "cell_type": "markdown",
   "id": "8860d17c",
   "metadata": {
    "slideshow": {
     "slide_type": "slide"
    }
   },
   "source": [
    "Página 16"
   ]
  },
  {
   "cell_type": "markdown",
   "id": "ded41582",
   "metadata": {
    "slideshow": {
     "slide_type": "slide"
    }
   },
   "source": [
    "## Referentes  \n",
    "\n",
    "* Yaser Abu Mostafa  \n"
   ]
  }
 ],
 "metadata": {
  "celltoolbar": "Slideshow",
  "kernelspec": {
   "display_name": "Python 3",
   "language": "python",
   "name": "python3"
  },
  "language_info": {
   "codemirror_mode": {
    "name": "ipython",
    "version": 3
   },
   "file_extension": ".py",
   "mimetype": "text/x-python",
   "name": "python",
   "nbconvert_exporter": "python",
   "pygments_lexer": "ipython3",
   "version": "3.8.8"
  },
  "latex_envs": {
   "LaTeX_envs_menu_present": true,
   "autoclose": false,
   "autocomplete": false,
   "bibliofile": "biblio.bib",
   "cite_by": "apalike",
   "current_citInitial": 1,
   "eqLabelWithNumbers": true,
   "eqNumInitial": 1,
   "hotkeys": {
    "equation": "Ctrl-E",
    "itemize": "Ctrl-I"
   },
   "labels_anchors": false,
   "latex_user_defs": false,
   "report_style_numbering": false,
   "user_envs_cfg": false
  }
 },
 "nbformat": 4,
 "nbformat_minor": 5
}
