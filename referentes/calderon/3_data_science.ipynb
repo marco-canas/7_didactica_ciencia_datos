{
 "cells": [
  {
   "cell_type": "markdown",
   "id": "1f0ffa2d",
   "metadata": {},
   "source": [
    "# 3 El concepto de ciencia de datos"
   ]
  },
  {
   "cell_type": "markdown",
   "id": "0efa831a",
   "metadata": {},
   "source": [
    "Longbing Cao (2017) en un apartado de su artículo “Data science: a comprehensive overview” resume la evolución del concepto de análisis de datos hasta llegar al concepto ciencia de datos en donde dicho concepto fue mencionado por primera vez en el estudio \n",
    "“Concise Survey of Computer Methods” cuyo autor es Peter Naur, en el cual define la ciencia de datos como “la ciencia encargada de tratar datos una vez han sido establecidos, sin que esto implique describir lo que estos podrían representar; ya que ello dependía de los campos de conocimiento interesados en ello.”"
   ]
  },
  {
   "cell_type": "markdown",
   "id": "a6190174",
   "metadata": {},
   "source": [
    "Sin embargo, antes de la aparición del concepto de “ciencia de datos”, el concepto utilizado era el de “análisis de datos” el cual fue trabajado por John Tukey quien mencionaba que era una ciencia intrínsecamente empírica. "
   ]
  },
  {
   "cell_type": "markdown",
   "id": "6bebff9c",
   "metadata": {},
   "source": [
    "Más adelante se incorporaría el procesamiento de datos y el análisis exploratorio de los mismos junto con la estadística descriptiva, pero faltaba más énfasis para formular y aplicar pruebas de hipótesis. "
   ]
  },
  {
   "cell_type": "markdown",
   "id": "db480163",
   "metadata": {},
   "source": [
    "Por tal razón, se necesitaba una expansión de las técnicas estadísticas, lo que sería la aproximación a la \n",
    "ciencia de datos"
   ]
  },
  {
   "cell_type": "markdown",
   "id": "3e91f895",
   "metadata": {},
   "source": [
    "De este modo, el taller “Knowledge Discovery in Databases” simplificado como “KDD” dio a origen al concepto de “Data Driven Discovery”, a partir del cual se divulgaron los conceptos de minería de datos y de extracción de conocimientos, definidos como el proceso de encontrar conocimiento interesante escondido entre los datos."
   ]
  },
  {
   "cell_type": "markdown",
   "id": "d3010d54",
   "metadata": {},
   "source": [
    "Así las cosas, la unión entre la estadística descriptiva y el análisis de datos, junto con la minería de datos, la extracción de conocimiento y el aprendizaje automático formaron la analítica de datos definida como “un campo multidisciplinario basado en la evaluación cualitativa y cuantitativa de los datos con el objetivo de crear conclusiones o la comprensión exploratoria-predictiva y para extraer y probar hipótesis de la información para la toma de decisiones”. "
   ]
  },
  {
   "cell_type": "markdown",
   "id": "2441f27a",
   "metadata": {},
   "source": [
    "La aplicación de la analítica de datos en diferentes campos como el social, comportamiento, negocios, riesgo o dominios específicos y su teoría son el punto clave de la ciencia de datos. "
   ]
  },
  {
   "cell_type": "markdown",
   "id": "86a697e8",
   "metadata": {},
   "source": [
    "Data science (ciencia de datos) es un término acuñado por muchos autores. "
   ]
  },
  {
   "cell_type": "markdown",
   "id": "643ce195",
   "metadata": {},
   "source": [
    "Algunas de las definiciones más representativas se presentan a continuación:"
   ]
  },
  {
   "cell_type": "markdown",
   "id": "3a3c7057",
   "metadata": {},
   "source": [
    "Al respecto, Claus Weihs y Katja Ickstadt (2018) expresan:  \n",
    "\n",
    "“La ciencia de datos como una disciplina científica está influenciada por la informática, \n",
    "ciencia computacional, matemáticas, investigación de operaciones y estadística, así como \n",
    "las ciencias aplicadas […]. "
   ]
  },
  {
   "cell_type": "markdown",
   "id": "0f61eab1",
   "metadata": {},
   "source": [
    "A pesar de ser un término fundado por estadísticos, en la Figura pública de la ciencia de datos, la importancia de la ciencia computacional y las aplicaciones en negocios están más frecuentemente ligadas, en especial en la era los datos a gran \n",
    "escala […]."
   ]
  },
  {
   "cell_type": "markdown",
   "id": "48011953",
   "metadata": {},
   "source": [
    "La estadística en la ciencia de datos es una de las disciplinas más importantes para proveer herramientas, métodos para encontrar una estructura, dar una visión más profunda de los datos y es la disciplina más importante para analizar y cuantificar la incertidumbre”."
   ]
  },
  {
   "cell_type": "markdown",
   "id": "e48f07aa",
   "metadata": {},
   "source": [
    "Otra definición de ciencia de datos es dada por Longbing Cao (2017) en la que define: \n",
    "\n",
    "“Desde una perspectiva disciplinaria en que la ciencia de datos es un nuevo campo interdisciplinario que sintetiza y se construye desde la estadística, informática, computación, comunicación, gestión y sociología para estudiar los datos y sus entornos"
   ]
  },
  {
   "cell_type": "code",
   "execution_count": null,
   "id": "c310a2c0",
   "metadata": {},
   "outputs": [],
   "source": []
  },
  {
   "cell_type": "code",
   "execution_count": null,
   "id": "cf7f7055",
   "metadata": {},
   "outputs": [],
   "source": []
  },
  {
   "cell_type": "code",
   "execution_count": null,
   "id": "d039d9ac",
   "metadata": {},
   "outputs": [],
   "source": []
  },
  {
   "cell_type": "code",
   "execution_count": null,
   "id": "7efe25e2",
   "metadata": {},
   "outputs": [],
   "source": []
  },
  {
   "cell_type": "code",
   "execution_count": null,
   "id": "21f5f5b7",
   "metadata": {},
   "outputs": [],
   "source": []
  },
  {
   "cell_type": "code",
   "execution_count": null,
   "id": "61abd171",
   "metadata": {},
   "outputs": [],
   "source": []
  }
 ],
 "metadata": {
  "kernelspec": {
   "display_name": "Python 3",
   "language": "python",
   "name": "python3"
  },
  "language_info": {
   "codemirror_mode": {
    "name": "ipython",
    "version": 3
   },
   "file_extension": ".py",
   "mimetype": "text/x-python",
   "name": "python",
   "nbconvert_exporter": "python",
   "pygments_lexer": "ipython3",
   "version": "3.8.8"
  },
  "latex_envs": {
   "LaTeX_envs_menu_present": true,
   "autoclose": false,
   "autocomplete": false,
   "bibliofile": "biblio.bib",
   "cite_by": "apalike",
   "current_citInitial": 1,
   "eqLabelWithNumbers": true,
   "eqNumInitial": 1,
   "hotkeys": {
    "equation": "Ctrl-E",
    "itemize": "Ctrl-I"
   },
   "labels_anchors": false,
   "latex_user_defs": false,
   "report_style_numbering": false,
   "user_envs_cfg": false
  }
 },
 "nbformat": 4,
 "nbformat_minor": 5
}
