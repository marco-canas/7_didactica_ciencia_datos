{
 "cells": [
  {
   "cell_type": "markdown",
   "id": "f613d2be",
   "metadata": {
    "slideshow": {
     "slide_type": "slide"
    }
   },
   "source": [
    "<table align=\"left\">\n",
    "  <td>\n",
    "    <a href=\"https://colab.research.google.com/github/marco-canas/camino-udea/blob/main/0_diagnostico/diagnos_prueba_inicial_pivu/41.ipynb\" target=\"_parent\"><img src=\"https://colab.research.google.com/assets/colab-badge.svg\" alt=\"Open In Colab\"/></a>\n",
    "  </td>\n",
    "</table>"
   ]
  },
  {
   "cell_type": "markdown",
   "id": "ba008819",
   "metadata": {
    "slideshow": {
     "slide_type": "slide"
    }
   },
   "source": [
    "# Capítulo 1 Python for data analysis "
   ]
  },
  {
   "cell_type": "markdown",
   "id": "e55240b2",
   "metadata": {
    "slideshow": {
     "slide_type": "slide"
    }
   },
   "source": [
    "## Preliminares "
   ]
  },
  {
   "cell_type": "markdown",
   "id": "08fa0307",
   "metadata": {
    "slideshow": {
     "slide_type": "slide"
    }
   },
   "source": [
    "## 1.1 ¿De qué trata este libro?"
   ]
  },
  {
   "cell_type": "markdown",
   "id": "a2e07151",
   "metadata": {
    "slideshow": {
     "slide_type": "slide"
    }
   },
   "source": [
    "Este libro se ocupa de los aspectos básicos de la manipulación, el procesamiento, la limpieza y el procesamiento de datos en Python."
   ]
  },
  {
   "cell_type": "markdown",
   "id": "0fb9ee0b",
   "metadata": {
    "slideshow": {
     "slide_type": "slide"
    }
   },
   "source": [
    "Mi objetivo es ofrecer una guía de las partes del lenguaje de programación Python y su ecosistema de biblioteca orientada a datos y herramientas que lo equiparán para convertirse en un analista de datos efectivo."
   ]
  },
  {
   "cell_type": "markdown",
   "id": "d1835bd0",
   "metadata": {
    "slideshow": {
     "slide_type": "slide"
    }
   },
   "source": [
    "Si bien el \"análisis de datos\" se encuentra en el título del libro, el enfoque se centra específicamente en la programación, las bibliotecas y las herramientas de Python en lugar de la metodología de análisis de datos."
   ]
  },
  {
   "cell_type": "markdown",
   "id": "b8be393b",
   "metadata": {
    "slideshow": {
     "slide_type": "slide"
    }
   },
   "source": [
    "Esta es la programación de Python que necesita para el análisis de datos."
   ]
  },
  {
   "cell_type": "markdown",
   "id": "3966e09c",
   "metadata": {
    "slideshow": {
     "slide_type": "slide"
    }
   },
   "source": [
    "## ¿Qué tipo de datos?"
   ]
  },
  {
   "cell_type": "markdown",
   "id": "cb001dc1",
   "metadata": {
    "slideshow": {
     "slide_type": "slide"
    }
   },
   "source": [
    "Cuando digo \"datos\", ¿a qué me refiero exactamente? El enfoque principal está en los datos estructurados, un término deliberadamente vago que abarca muchas formas comunes diferentes de datos, como:"
   ]
  },
  {
   "cell_type": "markdown",
   "id": "f2e68a0e",
   "metadata": {
    "slideshow": {
     "slide_type": "slide"
    }
   },
   "source": [
    "* Datos tabulares o similares a una hoja de cálculo en los que cada columna puede ser de un tipo diferente (cadena, numérico, fecha u otro). Esto incluye la mayoría de los tipos de datos comúnmente almacenados en bases de datos relacionales o archivos de texto delimitados por tabulaciones o comas."
   ]
  },
  {
   "cell_type": "markdown",
   "id": "0dba5002",
   "metadata": {
    "slideshow": {
     "slide_type": "slide"
    }
   },
   "source": [
    "* Arrays multidimensionales (matrices)."
   ]
  },
  {
   "cell_type": "markdown",
   "id": "5a484ba7",
   "metadata": {
    "slideshow": {
     "slide_type": "slide"
    }
   },
   "source": [
    "* Múltiples tablas de datos interrelacionados por columnas clave (lo que serían claves primarias o foráneas para un usuario de SQL)."
   ]
  },
  {
   "cell_type": "markdown",
   "id": "97c6f02b",
   "metadata": {
    "slideshow": {
     "slide_type": "slide"
    }
   },
   "source": [
    "* Series de tiempo uniforme o desigualmente espaciadas."
   ]
  },
  {
   "cell_type": "markdown",
   "id": "bda173ca",
   "metadata": {
    "slideshow": {
     "slide_type": "slide"
    }
   },
   "source": [
    "Esto no es de ninguna manera una lista completa. Aunque no siempre sea obvio, un gran porcentaje de conjuntos de datos se puede transformar en una forma estructurada que sea más adecuada para el análisis y el modelado. De lo contrario, es posible extraer características de un conjunto de datos en un formulario estructurado. Como ejemplo, una colección de artículos de noticias podría procesarse en una tabla de frecuencia de palabras, que luego podría usarse para realizar un análisis de sentimiento."
   ]
  },
  {
   "cell_type": "markdown",
   "id": "a54935a6",
   "metadata": {
    "slideshow": {
     "slide_type": "slide"
    }
   },
   "source": [
    "La mayoría de los usuarios de programas de hojas de cálculo como Microsoft Excel, quizás la herramienta de análisis de datos más utilizada en el mundo, no serán ajenos a este tipo de datos."
   ]
  },
  {
   "cell_type": "markdown",
   "id": "4dfe8e44",
   "metadata": {
    "slideshow": {
     "slide_type": "slide"
    }
   },
   "source": [
    "## 1.2 ¿Por qué Python para el análisis de datos?"
   ]
  },
  {
   "cell_type": "markdown",
   "id": "81320ae9",
   "metadata": {
    "slideshow": {
     "slide_type": "slide"
    }
   },
   "source": [
    "Para muchas personas, el lenguaje de programación Python tiene un gran atractivo. "
   ]
  },
  {
   "cell_type": "markdown",
   "id": "27265cd1",
   "metadata": {
    "slideshow": {
     "slide_type": "slide"
    }
   },
   "source": [
    "Desde su primera aparición en 1991, Python se ha convertido en uno de los lenguajes de programación interpretados más populares, junto con Perl, Ruby y otros."
   ]
  },
  {
   "cell_type": "markdown",
   "id": "0e52d09a",
   "metadata": {
    "slideshow": {
     "slide_type": "slide"
    }
   },
   "source": [
    "Python y Ruby se han vuelto especialmente populares desde 2005 aproximadamente para crear sitios web utilizando sus numerosos marcos web, como Rails (Ruby) y Django (Python). "
   ]
  },
  {
   "cell_type": "markdown",
   "id": "7f5dfd0d",
   "metadata": {
    "slideshow": {
     "slide_type": "slide"
    }
   },
   "source": [
    "Tales lenguajes son a menudo llamados lenguajes de secuencias de comandos, ya que se pueden usar para escribir rápidamente pequeños programas o secuencias de comandos para automatizar otras tareas. No me gusta el término \"lenguaje de secuencias de comandos\", ya que conlleva la connotación de que no se pueden usar para crear software serio. Entre lenguajes interpretados, por varias razones históricas y culturales, Python ha desarrollado una gran y activa comunidad científica de computación y análisis de datos. "
   ]
  },
  {
   "cell_type": "markdown",
   "id": "818691d1",
   "metadata": {
    "slideshow": {
     "slide_type": "slide"
    }
   },
   "source": [
    "En el último 10 años, Python ha pasado de ser un lenguaje informático científico de vanguardia o \"bajo su propio riesgo\" a uno de los lenguajes más importantes para la ciencia de datos, máquina aprendizaje y desarrollo de software en general en la academia y la industria."
   ]
  },
  {
   "cell_type": "markdown",
   "id": "15cfdb2d",
   "metadata": {
    "slideshow": {
     "slide_type": "slide"
    }
   },
   "source": [
    "Para el análisis de datos y la computación interactiva y la visualización de datos, Python inevitablemente establecerá comparaciones con otros lenguajes y herramientas de programación comerciales y de código abierto de amplio uso, como R, MATLAB, SAS, Stata y otros."
   ]
  },
  {
   "cell_type": "markdown",
   "id": "f2b1403a",
   "metadata": {
    "slideshow": {
     "slide_type": "slide"
    }
   },
   "source": [
    "En los últimos años, el soporte mejorado de Python para bibliotecas (como pandas y scikit-learn) lo ha convertido en una opción popular para las tareas de análisis de datos. Combinado con la fortaleza general de Python para la ingeniería de software de propósito general, es una excelente opción como lenguaje principal para crear aplicaciones de datos."
   ]
  },
  {
   "cell_type": "markdown",
   "id": "7d899415",
   "metadata": {
    "slideshow": {
     "slide_type": "slide"
    }
   },
   "source": [
    "## Python como pegamento"
   ]
  },
  {
   "cell_type": "markdown",
   "id": "927c6f38",
   "metadata": {
    "slideshow": {
     "slide_type": "slide"
    }
   },
   "source": [
    "Parte del éxito de Python en la computación científica es la facilidad de integrar código C, C++ y FORTRAN. "
   ]
  },
  {
   "cell_type": "markdown",
   "id": "ce7ecf5a",
   "metadata": {
    "slideshow": {
     "slide_type": "slide"
    }
   },
   "source": [
    "La mayoría de los entornos informáticos modernos comparten un conjunto similar de bibliotecas FORTRAN y C heredadas para realizar álgebra lineal, optimización, integración, transformadas rápidas de Fourier y otros algoritmos similares."
   ]
  },
  {
   "cell_type": "markdown",
   "id": "da55bb6c",
   "metadata": {
    "slideshow": {
     "slide_type": "slide"
    }
   },
   "source": [
    "La misma historia ha sido válida para muchas empresas y laboratorios nacionales que han utilizado Python para unir décadas de software heredado."
   ]
  },
  {
   "cell_type": "markdown",
   "id": "ff873e85",
   "metadata": {
    "slideshow": {
     "slide_type": "slide"
    }
   },
   "source": [
    "Muchos programas consisten en pequeñas porciones de código en las que se gasta la mayor parte del tiempo, con grandes cantidades de \"código adhesivo\" que no se ejecuta con frecuencia. "
   ]
  },
  {
   "cell_type": "markdown",
   "id": "add3a0ad",
   "metadata": {
    "slideshow": {
     "slide_type": "slide"
    }
   },
   "source": [
    "En muchos casos, el tiempo de ejecución del código adhesivo es insignificante; el esfuerzo se invierte de manera más fructífera en optimizar los cuellos de botella computacionales, a veces moviendo el código a un lenguaje de nivel inferior como C."
   ]
  },
  {
   "cell_type": "markdown",
   "id": "30ed85f0",
   "metadata": {
    "slideshow": {
     "slide_type": "slide"
    }
   },
   "source": [
    "## Resolviendo el problema de los \"dos lenguajes\""
   ]
  },
  {
   "cell_type": "markdown",
   "id": "b83d3cfb",
   "metadata": {
    "slideshow": {
     "slide_type": "slide"
    }
   },
   "source": [
    "En muchas organizaciones, es común investigar, crear prototipos y probar nuevas ideas usando un lenguaje informático más especializado como SAS o R y luego trasladar esas ideas para que formen parte de un sistema de producción más grande escrito, por ejemplo, en Java, C# o C++. "
   ]
  },
  {
   "cell_type": "markdown",
   "id": "59b0f4d7",
   "metadata": {
    "slideshow": {
     "slide_type": "slide"
    }
   },
   "source": [
    "Lo que la gente encuentra cada vez más es que Python es un lenguaje adecuado no solo para investigar y crear prototipos, sino también para construir los sistemas de producción."
   ]
  },
  {
   "cell_type": "markdown",
   "id": "b0542483",
   "metadata": {
    "slideshow": {
     "slide_type": "slide"
    }
   },
   "source": [
    "¿Por qué mantener dos entornos de desarrollo cuando uno es suficiente? "
   ]
  },
  {
   "cell_type": "markdown",
   "id": "35cc41a0",
   "metadata": {
    "slideshow": {
     "slide_type": "slide"
    }
   },
   "source": [
    "Creo que cada vez más empresas seguirán este camino, ya que a menudo hay beneficios organizacionales significativos al tener tanto investigadores como ingenieros de software usando el mismo conjunto de herramientas de programación."
   ]
  },
  {
   "cell_type": "markdown",
   "id": "c47ca80d",
   "metadata": {
    "slideshow": {
     "slide_type": "slide"
    }
   },
   "source": [
    "# ¿Por qué no Python?"
   ]
  },
  {
   "cell_type": "markdown",
   "id": "7b3d5e52",
   "metadata": {
    "slideshow": {
     "slide_type": "slide"
    }
   },
   "source": [
    "Si bien Python es un entorno excelente para crear muchos tipos de aplicaciones analíticas y sistemas de uso general, hay una serie de usos para los que Python puede ser menos adecuado."
   ]
  },
  {
   "cell_type": "markdown",
   "id": "7bda5d92",
   "metadata": {
    "slideshow": {
     "slide_type": "slide"
    }
   },
   "source": [
    "Como Python es un lenguaje de programación interpretado, en general, la mayoría del código de Python se ejecutará considerablemente más lento que el código escrito en un lenguaje compilado como Java o C++."
   ]
  },
  {
   "cell_type": "markdown",
   "id": "348f2ffe",
   "metadata": {
    "slideshow": {
     "slide_type": "slide"
    }
   },
   "source": [
    "Como el tiempo del programador suele ser más valioso que el tiempo de la CPU, muchos están felices de hacer este intercambio."
   ]
  },
  {
   "cell_type": "markdown",
   "id": "4bc71cc9",
   "metadata": {
    "slideshow": {
     "slide_type": "slide"
    }
   },
   "source": [
    "Sin embargo, en una aplicación con una latencia muy baja o requisitos exigentes de utilización de recursos (por ejemplo, un sistema comercial de alta frecuencia), el tiempo dedicado a programar en un lenguaje de nivel inferior (pero también de menor productividad) como C++ para lograr el máximo rendimiento posible podría ser tiempo bien invertido."
   ]
  },
  {
   "cell_type": "markdown",
   "id": "37acf2fb",
   "metadata": {
    "slideshow": {
     "slide_type": "slide"
    }
   },
   "source": [
    "Python puede ser un lenguaje desafiante para crear aplicaciones de subprocesos múltiples altamente concurrentes, particularmente aplicaciones con muchos subprocesos vinculados a la CPU."
   ]
  },
  {
   "cell_type": "markdown",
   "id": "17efebfb",
   "metadata": {
    "slideshow": {
     "slide_type": "slide"
    }
   },
   "source": [
    "La razón de esto es que tiene lo que se conoce como bloqueo global del intérprete (GIL), un mecanismo que evita que el intérprete ejecute más de una instrucción de Python a la vez."
   ]
  },
  {
   "cell_type": "markdown",
   "id": "c46488e8",
   "metadata": {
    "slideshow": {
     "slide_type": "slide"
    }
   },
   "source": [
    "Las razones técnicas de por qué existe el GIL están más allá del alcance de este libro."
   ]
  },
  {
   "cell_type": "markdown",
   "id": "d555ac5d",
   "metadata": {
    "slideshow": {
     "slide_type": "slide"
    }
   },
   "source": [
    "Si bien es cierto que en muchas aplicaciones de procesamiento de big data, se puede requerir un grupo de computadoras para procesar un conjunto de datos en una cantidad de tiempo razonable, todavía hay situaciones en las que es deseable un sistema de proceso único y multiproceso."
   ]
  },
  {
   "cell_type": "markdown",
   "id": "58035bbc",
   "metadata": {
    "slideshow": {
     "slide_type": "slide"
    }
   },
   "source": [
    "Esto no quiere decir que Python no pueda ejecutar código paralelo verdaderamente multiproceso."
   ]
  },
  {
   "cell_type": "markdown",
   "id": "fadb17e0",
   "metadata": {
    "slideshow": {
     "slide_type": "slide"
    }
   },
   "source": [
    "Las extensiones de Python C que usan subprocesos múltiples nativos (en C o C++) pueden ejecutar código en paralelo sin verse afectadas por la GIL, siempre que no necesiten interactuar regularmente con objetos de Python."
   ]
  },
  {
   "cell_type": "markdown",
   "id": "84af1a85",
   "metadata": {
    "slideshow": {
     "slide_type": "slide"
    }
   },
   "source": [
    "## 1.3 Bibliotecas esenciales de Python"
   ]
  },
  {
   "cell_type": "markdown",
   "id": "908629c0",
   "metadata": {
    "slideshow": {
     "slide_type": "slide"
    }
   },
   "source": [
    "Para aquellos que están menos familiarizados con el ecosistema de datos de Python y las bibliotecas utilizadas a lo largo del libro, daré una breve descripción general de algunas de ellas."
   ]
  },
  {
   "cell_type": "markdown",
   "id": "2eebb655",
   "metadata": {
    "slideshow": {
     "slide_type": "slide"
    }
   },
   "source": [
    "# NumPy"
   ]
  },
  {
   "cell_type": "markdown",
   "id": "4defa7a2",
   "metadata": {
    "slideshow": {
     "slide_type": "slide"
    }
   },
   "source": [
    "NumPy, abreviatura de Numerical Python, ha sido durante mucho tiempo una piedra angular de la computación numérica en Python."
   ]
  },
  {
   "cell_type": "markdown",
   "id": "c05a6507",
   "metadata": {
    "slideshow": {
     "slide_type": "slide"
    }
   },
   "source": [
    "Proporciona las estructuras de datos, los algoritmos y el pegamento de biblioteca necesarios para la mayoría de las aplicaciones científicas que involucran datos numéricos en Python."
   ]
  },
  {
   "cell_type": "markdown",
   "id": "81636aaa",
   "metadata": {
    "slideshow": {
     "slide_type": "slide"
    }
   },
   "source": [
    "NumPy contiene, entre otras cosas:"
   ]
  },
  {
   "cell_type": "markdown",
   "id": "3b1be577",
   "metadata": {
    "slideshow": {
     "slide_type": "slide"
    }
   },
   "source": [
    "* Un ndarray de objetos de matriz multidimensional rápido y eficiente"
   ]
  },
  {
   "cell_type": "markdown",
   "id": "b7c41509",
   "metadata": {
    "slideshow": {
     "slide_type": "slide"
    }
   },
   "source": [
    "• Funciones para realizar cálculos por elementos con matrices u operaciones matemáticas entre matrices\n",
    "\n",
    "• Herramientas para leer y escribir conjuntos de datos basados ​​en matrices en el disco\n",
    "• Operaciones de álgebra lineal, transformada de Fourier y generación de números aleatorios\n",
    "\n",
    "• Una API C madura para habilitar las extensiones de Python y el código C o C++ nativo para acceder a las estructuras de datos y las instalaciones computacionales de NumPy. Más allá de las capacidades de procesamiento rápido de matrices que NumPy agrega a Python, uno de sus usos principales en el análisis de datos es como contenedor de datos. para ser pasado entre algoritmos y bibliotecas.\n",
    "\n",
    "Para datos numéricos, las matrices NumPy son más eficientes para almacenar\n",
    "y manipular datos que las otras estructuras de datos integradas de Python.\n",
    "\n",
    "Además, las bibliotecas escritas en un lenguaje de nivel inferior, como C o Fortran, pueden operar con los datos almacenados en una matriz NumPy sin copiar los datos en alguna otra representación de memoria.\n",
    "\n",
    "Por lo tanto, muchas herramientas de computación numérica para Python asumen arreglos NumPy como una estructura de datos principal o apuntan a una interoperabilidad perfecta con NumPy."
   ]
  },
  {
   "cell_type": "markdown",
   "id": "2a033ef2",
   "metadata": {
    "slideshow": {
     "slide_type": "slide"
    }
   },
   "source": []
  },
  {
   "cell_type": "code",
   "execution_count": null,
   "id": "0b27fd3a",
   "metadata": {
    "slideshow": {
     "slide_type": "slide"
    }
   },
   "outputs": [],
   "source": []
  },
  {
   "cell_type": "code",
   "execution_count": null,
   "id": "305c4716",
   "metadata": {
    "slideshow": {
     "slide_type": "slide"
    }
   },
   "outputs": [],
   "source": []
  },
  {
   "cell_type": "code",
   "execution_count": null,
   "id": "186e9221",
   "metadata": {
    "slideshow": {
     "slide_type": "slide"
    }
   },
   "outputs": [],
   "source": []
  },
  {
   "cell_type": "code",
   "execution_count": null,
   "id": "e8cc5475",
   "metadata": {},
   "outputs": [],
   "source": []
  },
  {
   "cell_type": "code",
   "execution_count": null,
   "id": "3d2fdcf9",
   "metadata": {},
   "outputs": [],
   "source": []
  },
  {
   "cell_type": "code",
   "execution_count": null,
   "id": "559773e0",
   "metadata": {},
   "outputs": [],
   "source": []
  },
  {
   "cell_type": "code",
   "execution_count": null,
   "id": "fc4b7698",
   "metadata": {},
   "outputs": [],
   "source": []
  },
  {
   "cell_type": "code",
   "execution_count": null,
   "id": "1d56de0c",
   "metadata": {
    "slideshow": {
     "slide_type": "slide"
    }
   },
   "outputs": [],
   "source": []
  },
  {
   "cell_type": "code",
   "execution_count": null,
   "id": "5f9ffd9c",
   "metadata": {
    "slideshow": {
     "slide_type": "slide"
    }
   },
   "outputs": [],
   "source": []
  },
  {
   "cell_type": "code",
   "execution_count": null,
   "id": "bee20416",
   "metadata": {
    "slideshow": {
     "slide_type": "slide"
    }
   },
   "outputs": [],
   "source": []
  },
  {
   "cell_type": "code",
   "execution_count": null,
   "id": "1ffcea74",
   "metadata": {},
   "outputs": [],
   "source": []
  },
  {
   "cell_type": "code",
   "execution_count": null,
   "id": "d5ac416e",
   "metadata": {},
   "outputs": [],
   "source": []
  },
  {
   "cell_type": "code",
   "execution_count": null,
   "id": "c998abff",
   "metadata": {},
   "outputs": [],
   "source": []
  },
  {
   "cell_type": "code",
   "execution_count": null,
   "id": "bac447f2",
   "metadata": {},
   "outputs": [],
   "source": []
  },
  {
   "cell_type": "code",
   "execution_count": null,
   "id": "4a79898d",
   "metadata": {},
   "outputs": [],
   "source": []
  },
  {
   "cell_type": "code",
   "execution_count": null,
   "id": "4686cf19",
   "metadata": {},
   "outputs": [],
   "source": []
  },
  {
   "cell_type": "code",
   "execution_count": null,
   "id": "1bc1d89f",
   "metadata": {},
   "outputs": [],
   "source": []
  },
  {
   "cell_type": "code",
   "execution_count": null,
   "id": "9d66c6f5",
   "metadata": {},
   "outputs": [],
   "source": []
  },
  {
   "cell_type": "code",
   "execution_count": null,
   "id": "42b722fe",
   "metadata": {},
   "outputs": [],
   "source": []
  },
  {
   "cell_type": "code",
   "execution_count": null,
   "id": "69c2c4fd",
   "metadata": {},
   "outputs": [],
   "source": []
  },
  {
   "cell_type": "code",
   "execution_count": null,
   "id": "a32322a6",
   "metadata": {
    "slideshow": {
     "slide_type": "slide"
    }
   },
   "outputs": [],
   "source": []
  },
  {
   "cell_type": "code",
   "execution_count": null,
   "id": "23a6e5a8",
   "metadata": {},
   "outputs": [],
   "source": []
  },
  {
   "cell_type": "code",
   "execution_count": null,
   "id": "a1caea3f",
   "metadata": {},
   "outputs": [],
   "source": []
  },
  {
   "cell_type": "code",
   "execution_count": null,
   "id": "59d5b151",
   "metadata": {},
   "outputs": [],
   "source": []
  },
  {
   "cell_type": "code",
   "execution_count": null,
   "id": "aeb2fca6",
   "metadata": {},
   "outputs": [],
   "source": []
  },
  {
   "cell_type": "code",
   "execution_count": null,
   "id": "1c1aa23a",
   "metadata": {},
   "outputs": [],
   "source": []
  },
  {
   "cell_type": "code",
   "execution_count": null,
   "id": "48419c41",
   "metadata": {},
   "outputs": [],
   "source": []
  },
  {
   "cell_type": "code",
   "execution_count": null,
   "id": "a3dca605",
   "metadata": {},
   "outputs": [],
   "source": []
  },
  {
   "cell_type": "code",
   "execution_count": null,
   "id": "ac8d61de",
   "metadata": {},
   "outputs": [],
   "source": []
  },
  {
   "cell_type": "code",
   "execution_count": null,
   "id": "af3440d6",
   "metadata": {},
   "outputs": [],
   "source": []
  },
  {
   "cell_type": "code",
   "execution_count": null,
   "id": "ec8ae7ab",
   "metadata": {},
   "outputs": [],
   "source": []
  },
  {
   "cell_type": "code",
   "execution_count": null,
   "id": "f083c4f3",
   "metadata": {},
   "outputs": [],
   "source": []
  }
 ],
 "metadata": {
  "celltoolbar": "Slideshow",
  "kernelspec": {
   "display_name": "Python 3 (ipykernel)",
   "language": "python",
   "name": "python3"
  },
  "language_info": {
   "codemirror_mode": {
    "name": "ipython",
    "version": 3
   },
   "file_extension": ".py",
   "mimetype": "text/x-python",
   "name": "python",
   "nbconvert_exporter": "python",
   "pygments_lexer": "ipython3",
   "version": "3.9.12"
  }
 },
 "nbformat": 4,
 "nbformat_minor": 5
}
