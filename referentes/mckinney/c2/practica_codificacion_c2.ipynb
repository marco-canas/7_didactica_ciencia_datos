{
 "cells": [
  {
   "cell_type": "code",
   "execution_count": 1,
   "id": "89e03bc3",
   "metadata": {},
   "outputs": [],
   "source": [
    "import numpy as np "
   ]
  },
  {
   "cell_type": "code",
   "execution_count": 2,
   "id": "03a05bb3",
   "metadata": {},
   "outputs": [
    {
     "data": {
      "text/plain": [
       "{0: 0.14674680930150386,\n",
       " 1: 0.40848226192930537,\n",
       " 2: 0.00871168654927612,\n",
       " 3: 0.3831780637057135,\n",
       " 4: 0.6678693569738403,\n",
       " 5: 0.994988924996398,\n",
       " 6: 0.8431078397922646}"
      ]
     },
     "execution_count": 2,
     "metadata": {},
     "output_type": "execute_result"
    }
   ],
   "source": [
    "data = {i:np.random.rand() for i in range(7)} \n",
    "data "
   ]
  },
  {
   "cell_type": "code",
   "execution_count": 4,
   "id": "7f616ce8",
   "metadata": {},
   "outputs": [
    {
     "data": {
      "text/plain": [
       "{0: 0.2053152011354844,\n",
       " 1: -0.7864867458799734,\n",
       " 2: 0.29532079376700027,\n",
       " 3: -0.9563635606781179,\n",
       " 4: -1.64182395261141,\n",
       " 5: -1.6948208268345217,\n",
       " 6: 0.47443378967933225}"
      ]
     },
     "execution_count": 4,
     "metadata": {},
     "output_type": "execute_result"
    }
   ],
   "source": [
    "from numpy.random import randn\n",
    "data = {i:randn() for i in range(7)} \n",
    "data"
   ]
  },
  {
   "cell_type": "markdown",
   "id": "f6d1d4bb",
   "metadata": {},
   "source": []
  },
  {
   "cell_type": "code",
   "execution_count": null,
   "id": "7d7bcfd1",
   "metadata": {},
   "outputs": [],
   "source": []
  },
  {
   "cell_type": "code",
   "execution_count": null,
   "id": "bfd575b3",
   "metadata": {},
   "outputs": [],
   "source": []
  },
  {
   "cell_type": "code",
   "execution_count": null,
   "id": "921091d8",
   "metadata": {},
   "outputs": [],
   "source": []
  }
 ],
 "metadata": {
  "kernelspec": {
   "display_name": "Python 3 (ipykernel)",
   "language": "python",
   "name": "python3"
  },
  "language_info": {
   "codemirror_mode": {
    "name": "ipython",
    "version": 3
   },
   "file_extension": ".py",
   "mimetype": "text/x-python",
   "name": "python",
   "nbconvert_exporter": "python",
   "pygments_lexer": "ipython3",
   "version": "3.9.12"
  }
 },
 "nbformat": 4,
 "nbformat_minor": 5
}
