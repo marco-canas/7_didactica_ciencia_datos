{
 "cells": [
  {
   "cell_type": "markdown",
   "id": "16bdd495",
   "metadata": {
    "slideshow": {
     "slide_type": "slide"
    }
   },
   "source": [
    "<table align=\"left\">\n",
    "  <td>\n",
    "    <a href=\"https://colab.research.google.com/github/marco-canas/didactica_ciencia_datos/blob/main/referentes/mckinney/c2/c2.ipynb\" target=\"_parent\"><img src=\"https://colab.research.google.com/assets/colab-badge.svg\" alt=\"Open In Colab\"/></a>\n",
    "  </td>\n",
    "</table>"
   ]
  },
  {
   "cell_type": "markdown",
   "id": "811fa589",
   "metadata": {
    "slideshow": {
     "slide_type": "slide"
    }
   },
   "source": [
    "# CHAPTER 2  "
   ]
  },
  {
   "cell_type": "markdown",
   "id": "a91cec55",
   "metadata": {
    "slideshow": {
     "slide_type": "slide"
    }
   },
   "source": [
    "## Python Language Basics, IPython, and Jupyter Notebooks"
   ]
  },
  {
   "cell_type": "markdown",
   "id": "c0273b3c",
   "metadata": {
    "slideshow": {
     "slide_type": "slide"
    }
   },
   "source": [
    "Cuando escribí la primera edición de este libro en 2011 y 2012, había menos recursos disponibles para aprender a realizar análisis de datos en Python."
   ]
  },
  {
   "cell_type": "markdown",
   "id": "b943797a",
   "metadata": {
    "slideshow": {
     "slide_type": "slide"
    }
   },
   "source": [
    "Esto fue en parte un problema del huevo y la gallina; muchas bibliotecas que ahora damos por sentadas, como pandas, scikit-learn y statsmodels, eran comparativamente inmaduras en ese entonces."
   ]
  },
  {
   "cell_type": "markdown",
   "id": "bda3e01b",
   "metadata": {
    "slideshow": {
     "slide_type": "slide"
    }
   },
   "source": [
    "En 2017, ahora hay una creciente literatura sobre ciencia de datos, análisis de datos y aprendizaje automático, que complementa los trabajos anteriores sobre computación científica de propósito general dirigidos a científicos computacionales, físicos y profesionales en otros campos de investigación."
   ]
  },
  {
   "cell_type": "markdown",
   "id": "a1deb523",
   "metadata": {
    "slideshow": {
     "slide_type": "slide"
    }
   },
   "source": [
    "También hay excelentes libros sobre cómo aprender el lenguaje de programación Python y convertirse en un ingeniero de software efectivo."
   ]
  },
  {
   "cell_type": "markdown",
   "id": "9ba2fc25",
   "metadata": {
    "slideshow": {
     "slide_type": "slide"
    }
   },
   "source": [
    "Como este libro pretende ser un texto introductorio para trabajar con datos en Python, creo que es valioso tener una descripción general independiente de algunas de las características más importantes de las estructuras y bibliotecas de datos integradas de Python desde la perspectiva de la manipulación de datos."
   ]
  },
  {
   "cell_type": "markdown",
   "id": "8dd1aaa7",
   "metadata": {
    "slideshow": {
     "slide_type": "slide"
    }
   },
   "source": [
    "Por lo tanto, en este capítulo y en el Capítulo 3 solo presentaré la información suficiente para permitirle continuar con el resto del libro."
   ]
  },
  {
   "cell_type": "markdown",
   "id": "20c81fd1",
   "metadata": {
    "slideshow": {
     "slide_type": "slide"
    }
   },
   "source": [
    "En mi opinión, no es necesario volverse competente en la creación de un buen software en Python para poder realizar análisis de datos de manera productiva. "
   ]
  },
  {
   "cell_type": "markdown",
   "id": "cf8f95b7",
   "metadata": {
    "slideshow": {
     "slide_type": "slide"
    }
   },
   "source": [
    "Lo animo a que use \n",
    "* **los cuadernos IPython shell y \n",
    "* Jupyter \n",
    "\n",
    "para experimentar con los ejemplos de código y explorar la documentación de los diversos tipos, funciones y métodos. "
   ]
  },
  {
   "cell_type": "markdown",
   "id": "7a7119ce",
   "metadata": {
    "slideshow": {
     "slide_type": "slide"
    }
   },
   "source": [
    "Si bien hice todo lo posible para presentar el material del **libro de forma incremental**, es posible que ocasionalmente encuentre cosas que aún no se han presentado por completo."
   ]
  },
  {
   "cell_type": "markdown",
   "id": "05b8d625",
   "metadata": {
    "slideshow": {
     "slide_type": "slide"
    }
   },
   "source": [
    "Gran parte de este libro se centra en el análisis basado en tablas y las herramientas de preparación de datos para trabajar con grandes conjuntos de datos. "
   ]
  },
  {
   "cell_type": "markdown",
   "id": "5a371cde",
   "metadata": {
    "slideshow": {
     "slide_type": "slide"
    }
   },
   "source": [
    "Para usar esas herramientas, a menudo primero debe hacer algo de munging para acorralar los datos desordenados en una forma tabular (o estructurada) más agradable. "
   ]
  },
  {
   "cell_type": "markdown",
   "id": "adee61d4",
   "metadata": {
    "slideshow": {
     "slide_type": "slide"
    }
   },
   "source": [
    "Afortunadamente, Python es un lenguaje ideal para poner rápidamente en forma sus datos. "
   ]
  },
  {
   "cell_type": "markdown",
   "id": "f781bbb8",
   "metadata": {
    "slideshow": {
     "slide_type": "slide"
    }
   },
   "source": [
    "Cuanto mayor sea su facilidad con el lenguaje Python, más fácil le resultará preparar nuevos conjuntos de datos para el análisis."
   ]
  },
  {
   "cell_type": "markdown",
   "id": "449c6c9d",
   "metadata": {
    "slideshow": {
     "slide_type": "slide"
    }
   },
   "source": [
    "Algunas de las herramientas de este libro se exploran mejor desde una sesión en vivo de IPython o Jupyter. Una vez que aprenda cómo iniciar IPython y Jupyter, le recomiendo que siga los ejemplos para que pueda experimentar y probar cosas diferentes."
   ]
  },
  {
   "cell_type": "markdown",
   "id": "c5280b81",
   "metadata": {
    "slideshow": {
     "slide_type": "slide"
    }
   },
   "source": [
    "Al igual que con cualquier entorno similar a una consola controlado por teclado, desarrollar **memoria muscular para los comandos comunes** también es parte de **la curva de aprendizaje**."
   ]
  },
  {
   "cell_type": "markdown",
   "id": "b6e1e495",
   "metadata": {
    "slideshow": {
     "slide_type": "slide"
    }
   },
   "source": [
    "Hay conceptos introductorios de Python que este capítulo no cubre, como \n",
    "* clases y \n",
    "* programación orientada a objetos, \n",
    "\n",
    "que pueden resultarle útiles en su incursión en el análisis de datos en Python."
   ]
  },
  {
   "cell_type": "markdown",
   "id": "eabd5a31",
   "metadata": {
    "slideshow": {
     "slide_type": "slide"
    }
   },
   "source": [
    "Para profundizar su conocimiento del lenguaje Python, le recomiendo que complemente este capítulo con el tutorial oficial de Python y, potencialmente, uno de los muchos libros excelentes sobre programación de Python de propósito general."
   ]
  },
  {
   "cell_type": "markdown",
   "id": "f40134e7",
   "metadata": {
    "slideshow": {
     "slide_type": "slide"
    }
   },
   "source": [
    "Algunas recomendaciones para comenzar incluyen:  \n",
    "\n",
    "* Python Cookbook, tercera edición, por David Beazley y Brian K. Jones (O'Reilly)  \n",
    "\n",
    "* Fluent Python por Luciano Ramalho (O'Reilly)  \n",
    "\n",
    "* Python efectivo por Brett Slatkin (Pearson)  "
   ]
  },
  {
   "cell_type": "markdown",
   "id": "8bca30cb",
   "metadata": {
    "slideshow": {
     "slide_type": "slide"
    }
   },
   "source": [
    "## 2.1 The Python Interpreter"
   ]
  },
  {
   "cell_type": "markdown",
   "id": "178fdcc9",
   "metadata": {
    "slideshow": {
     "slide_type": "slide"
    }
   },
   "source": [
    "Python es un lenguaje interpretado. "
   ]
  },
  {
   "cell_type": "markdown",
   "id": "fc75c65f",
   "metadata": {
    "slideshow": {
     "slide_type": "slide"
    }
   },
   "source": [
    "El intérprete de Python ejecuta un programa ejecutando una declaración a la vez."
   ]
  },
  {
   "cell_type": "markdown",
   "id": "3482ff2a",
   "metadata": {
    "slideshow": {
     "slide_type": "slide"
    }
   },
   "source": [
    "El **intérprete de Python interactivo estándar** se puede invocar en la línea de comando con el comando `python`:"
   ]
  },
  {
   "cell_type": "markdown",
   "id": "25276352",
   "metadata": {
    "slideshow": {
     "slide_type": "slide"
    }
   },
   "source": [
    "`Python`\n"
   ]
  },
  {
   "cell_type": "code",
   "execution_count": 1,
   "id": "738f175c",
   "metadata": {
    "slideshow": {
     "slide_type": "slide"
    }
   },
   "outputs": [
    {
     "name": "stdout",
     "output_type": "stream",
     "text": [
      "5\n"
     ]
    }
   ],
   "source": [
    "a = 5\n",
    "print(a)"
   ]
  },
  {
   "cell_type": "markdown",
   "id": "22a3c244",
   "metadata": {
    "slideshow": {
     "slide_type": "slide"
    }
   },
   "source": [
    "El `>>>` que ve es el indicador donde escribirá expresiones de código."
   ]
  },
  {
   "cell_type": "markdown",
   "id": "70304806",
   "metadata": {
    "slideshow": {
     "slide_type": "slide"
    }
   },
   "source": [
    "Para salir del intérprete de Python y volver al símbolo del sistema, puede escribir `exit()` o presionar Ctrl-D."
   ]
  },
  {
   "cell_type": "markdown",
   "id": "dfdbf42a",
   "metadata": {
    "slideshow": {
     "slide_type": "slide"
    }
   },
   "source": [
    "Ejecutar programas de Python es tan simple como llamar a python con un archivo `.py` como primer argumento."
   ]
  },
  {
   "cell_type": "markdown",
   "id": "239b4274",
   "metadata": {
    "slideshow": {
     "slide_type": "slide"
    }
   },
   "source": [
    "Supongamos que hubiéramos creado `hello_world.py` con estos contenidos:"
   ]
  },
  {
   "cell_type": "code",
   "execution_count": 2,
   "id": "b91ba6be",
   "metadata": {
    "slideshow": {
     "slide_type": "slide"
    }
   },
   "outputs": [
    {
     "name": "stdout",
     "output_type": "stream",
     "text": [
      "Hello world\n"
     ]
    }
   ],
   "source": [
    "print('Hello world') "
   ]
  },
  {
   "cell_type": "markdown",
   "id": "cffa3130",
   "metadata": {
    "slideshow": {
     "slide_type": "slide"
    }
   },
   "source": [
    "Puede ejecutarlo ejecutando el siguiente comando (el archivo hello_world.py debe estar en el directorio de su terminal de trabajo actual):"
   ]
  },
  {
   "cell_type": "markdown",
   "id": "59c3136a",
   "metadata": {
    "slideshow": {
     "slide_type": "slide"
    }
   },
   "source": [
    "```python\n",
    "\n",
    ">>> python hello_world.py\n",
    "```"
   ]
  },
  {
   "cell_type": "markdown",
   "id": "f890121f",
   "metadata": {
    "slideshow": {
     "slide_type": "slide"
    }
   },
   "source": [
    "Mientras que algunos programadores de Python ejecutan todo su código de Python de esta manera, aquellos que realizan análisis de datos o computación científica utilizan \n",
    "\n",
    "* IPython, un intérprete de Python mejorado, o \n",
    "* cuadernos de Jupyter, cuadernos de código basados en la web creados originalmente dentro del proyecto IPython."
   ]
  },
  {
   "cell_type": "markdown",
   "id": "dff7363b",
   "metadata": {
    "slideshow": {
     "slide_type": "slide"
    }
   },
   "source": [
    "Ofrezco una introducción al uso de IPython y Jupyter en este capítulo y he incluido una mirada más profunda a la funcionalidad de IPython en el Apéndice A."
   ]
  },
  {
   "cell_type": "markdown",
   "id": "4c9ed953",
   "metadata": {
    "slideshow": {
     "slide_type": "slide"
    }
   },
   "source": [
    "Cuando usa el comando `%run`, IPython ejecuta el código en el archivo especificado en el mismo proceso, lo que le permite explorar los resultados de forma interactiva cuando termina:"
   ]
  },
  {
   "cell_type": "markdown",
   "id": "0f039d59",
   "metadata": {
    "slideshow": {
     "slide_type": "slide"
    }
   },
   "source": [
    "```python\n",
    "\n",
    ">>> ipython\n",
    "```\n",
    " "
   ]
  },
  {
   "cell_type": "code",
   "execution_count": 2,
   "id": "45527691",
   "metadata": {
    "slideshow": {
     "slide_type": "slide"
    }
   },
   "outputs": [
    {
     "name": "stdout",
     "output_type": "stream",
     "text": [
      "Hello world\n"
     ]
    }
   ],
   "source": [
    "%run hello_world.py "
   ]
  },
  {
   "cell_type": "markdown",
   "id": "6e769ee1",
   "metadata": {
    "slideshow": {
     "slide_type": "slide"
    }
   },
   "source": [
    "El indicador predeterminado de IPython adopta \n",
    "* el estilo numerado `In [2]:` \n",
    "* en comparación con el indicador `>>>` estándar."
   ]
  },
  {
   "cell_type": "markdown",
   "id": "cfb46b30",
   "metadata": {
    "slideshow": {
     "slide_type": "slide"
    }
   },
   "source": [
    "## 2.2 IPython Basics"
   ]
  },
  {
   "cell_type": "markdown",
   "id": "b35fe743",
   "metadata": {
    "slideshow": {
     "slide_type": "slide"
    }
   },
   "source": [
    "En esta sección, lo pondremos en marcha con IPython shell y Jupyter notebook, y le presentaremos algunos de los conceptos esenciales."
   ]
  },
  {
   "cell_type": "markdown",
   "id": "377a89f3",
   "metadata": {
    "slideshow": {
     "slide_type": "slide"
    }
   },
   "source": [
    "## Ejecución de IPython Shell"
   ]
  },
  {
   "cell_type": "markdown",
   "id": "5b812855",
   "metadata": {
    "slideshow": {
     "slide_type": "slide"
    }
   },
   "source": [
    "Puede iniciar el shell de IPython en la línea de comando al igual que iniciar el intérprete de Python normal, excepto con el comando `ipython`:"
   ]
  },
  {
   "cell_type": "markdown",
   "id": "d03803a6",
   "metadata": {
    "slideshow": {
     "slide_type": "slide"
    }
   },
   "source": [
    "```python\n",
    "\n",
    ">>> ipython  \n",
    " ```"
   ]
  },
  {
   "cell_type": "code",
   "execution_count": 6,
   "id": "99c3e2cb",
   "metadata": {
    "slideshow": {
     "slide_type": "slide"
    }
   },
   "outputs": [
    {
     "data": {
      "text/plain": [
       "5"
      ]
     },
     "execution_count": 6,
     "metadata": {},
     "output_type": "execute_result"
    }
   ],
   "source": [
    "a = 5\n",
    "a\n"
   ]
  },
  {
   "cell_type": "markdown",
   "id": "136f9d22",
   "metadata": {
    "slideshow": {
     "slide_type": "slide"
    }
   },
   "source": [
    "Puede ejecutar declaraciones de Python arbitrarias escribiéndolas y presionando Return (o Enter)."
   ]
  },
  {
   "cell_type": "markdown",
   "id": "193db910",
   "metadata": {
    "slideshow": {
     "slide_type": "slide"
    }
   },
   "source": [
    "Cuando escribe solo una variable en IPython, muestra una representación de cadena del objeto:"
   ]
  },
  {
   "cell_type": "code",
   "execution_count": 3,
   "id": "16098015",
   "metadata": {
    "slideshow": {
     "slide_type": "slide"
    }
   },
   "outputs": [],
   "source": [
    "import numpy as np"
   ]
  },
  {
   "cell_type": "code",
   "execution_count": 5,
   "id": "4e9d9adb",
   "metadata": {
    "slideshow": {
     "slide_type": "slide"
    }
   },
   "outputs": [
    {
     "data": {
      "text/plain": [
       "{0: -0.579382474476148,\n",
       " 1: -2.2121793911356002,\n",
       " 2: -0.02530928144427655,\n",
       " 3: 0.552262636583711,\n",
       " 4: -0.2105951531301924,\n",
       " 5: 1.4002123643863775,\n",
       " 6: 0.2969592743515701}"
      ]
     },
     "execution_count": 5,
     "metadata": {},
     "output_type": "execute_result"
    }
   ],
   "source": [
    "data = {i : np.random.randn() for i in range(7)}\n",
    "data"
   ]
  },
  {
   "cell_type": "markdown",
   "id": "b07d9740",
   "metadata": {
    "slideshow": {
     "slide_type": "slide"
    }
   },
   "source": [
    "Las primeras dos líneas son declaraciones de código de Python; la segunda declaración crea una variable llamada datos que hace referencia a un diccionario de Python recién creado. "
   ]
  },
  {
   "cell_type": "markdown",
   "id": "4634226b",
   "metadata": {
    "slideshow": {
     "slide_type": "slide"
    }
   },
   "source": [
    "La última línea imprime el valor de los datos en la consola."
   ]
  },
  {
   "cell_type": "markdown",
   "id": "f83325d9",
   "metadata": {
    "slideshow": {
     "slide_type": "slide"
    }
   },
   "source": [
    "Muchos tipos de objetos de Python están formateados para que sean más legibles, o bien impresos, lo cual es distinto de la impresión normal con `print()`."
   ]
  },
  {
   "cell_type": "markdown",
   "id": "a2b93a53",
   "metadata": {
    "slideshow": {
     "slide_type": "slide"
    }
   },
   "source": [
    "Si imprimió la variable de datos anterior en **el intérprete estándar de Python**, sería mucho menos legible:"
   ]
  },
  {
   "cell_type": "code",
   "execution_count": 8,
   "id": "201e2cde",
   "metadata": {
    "slideshow": {
     "slide_type": "slide"
    }
   },
   "outputs": [
    {
     "name": "stdout",
     "output_type": "stream",
     "text": [
      "{0: 1.0361621861289856, 1: 0.36554451878864763, 2: 0.4675809330998359, 3: 0.11969422878245792, 4: 2.002226455597078, 5: 0.4896890591538855, 6: -1.3137609276535736}\n"
     ]
    }
   ],
   "source": [
    "from numpy.random import randn\n",
    "data = {i : randn() for i in range(7)}\n",
    "print(data)\n"
   ]
  },
  {
   "cell_type": "markdown",
   "id": "0063ac3f",
   "metadata": {
    "slideshow": {
     "slide_type": "slide"
    }
   },
   "source": [
    "IPython también proporciona funciones para ejecutar bloques arbitrarios de código (a través de un enfoque algo glorificado de copiar y pegar) y secuencias de comandos completas de Python. "
   ]
  },
  {
   "cell_type": "markdown",
   "id": "cb3e6fb6",
   "metadata": {
    "slideshow": {
     "slide_type": "slide"
    }
   },
   "source": [
    "También puede usar el cuaderno Jupyter para trabajar con bloques de código más grandes, como veremos pronto."
   ]
  },
  {
   "cell_type": "markdown",
   "id": "81fd290f",
   "metadata": {
    "slideshow": {
     "slide_type": "slide"
    }
   },
   "source": [
    "# Running the Jupyter Notebook"
   ]
  },
  {
   "cell_type": "markdown",
   "id": "b7648562",
   "metadata": {
    "slideshow": {
     "slide_type": "slide"
    }
   },
   "source": [
    "Uno de los principales componentes del proyecto Jupyter es el cuaderno, un tipo de documento interactivo para código, texto (con o sin marcado), visualizaciones de datos y otros resultados."
   ]
  },
  {
   "cell_type": "markdown",
   "id": "c0c130fa",
   "metadata": {
    "slideshow": {
     "slide_type": "slide"
    }
   },
   "source": [
    "El cuaderno Jupyter interactúa con los núcleos, que son implementaciones del protocolo informático interactivo Jupyter en varios lenguajes de programación."
   ]
  },
  {
   "cell_type": "markdown",
   "id": "9169ff6a",
   "metadata": {
    "slideshow": {
     "slide_type": "slide"
    }
   },
   "source": [
    "El núcleo Jupyter de Python utiliza el sistema IPython para su comportamiento subyacente."
   ]
  },
  {
   "cell_type": "markdown",
   "id": "96d96a02",
   "metadata": {
    "slideshow": {
     "slide_type": "slide"
    }
   },
   "source": [
    "Para iniciar Jupyter, ejecute el comando jupyter notebook en una terminal:"
   ]
  },
  {
   "cell_type": "markdown",
   "id": "be20f5d4",
   "metadata": {
    "slideshow": {
     "slide_type": "slide"
    }
   },
   "source": [
    "`jupyter notebook`\n"
   ]
  },
  {
   "cell_type": "markdown",
   "id": "2cd6f1a4",
   "metadata": {
    "slideshow": {
     "slide_type": "slide"
    }
   },
   "source": [
    "En muchas plataformas, Jupyter se abrirá automáticamente en su navegador web predeterminado (a menos que lo inicie con --no-browser). De lo contrario, puede navegar a la dirección HTTP impresa cuando inició el portátil, aquí http://localhost:8888/."
   ]
  },
  {
   "cell_type": "markdown",
   "id": "06a52d25",
   "metadata": {
    "slideshow": {
     "slide_type": "slide"
    }
   },
   "source": [
    "Consulte la Figura 2-1 para ver cómo se ve esto en Google Chrome."
   ]
  },
  {
   "cell_type": "markdown",
   "id": "465ce838",
   "metadata": {
    "slideshow": {
     "slide_type": "slide"
    }
   },
   "source": [
    "figura 2-1  \n",
    "<img src = ''>"
   ]
  },
  {
   "cell_type": "markdown",
   "id": "95ba715d",
   "metadata": {
    "slideshow": {
     "slide_type": "slide"
    }
   },
   "source": [
    "Mucha gente usa Jupyter como un entorno informático local, pero también se puede implementar en servidores y acceder de forma remota."
   ]
  },
  {
   "cell_type": "markdown",
   "id": "afe7cb32",
   "metadata": {
    "slideshow": {
     "slide_type": "slide"
    }
   },
   "source": [
    "No cubriré esos detalles aquí, pero lo animo a explorar este tema en Internet si es relevante para sus necesidades."
   ]
  },
  {
   "cell_type": "markdown",
   "id": "f411a462",
   "metadata": {
    "slideshow": {
     "slide_type": "slide"
    }
   },
   "source": [
    "Para crear un nuevo cuaderno, haga clic en el botón Nuevo y seleccione la opción \"Python 3\" o `conda [predeterminado]`. "
   ]
  },
  {
   "cell_type": "markdown",
   "id": "d4008465",
   "metadata": {
    "slideshow": {
     "slide_type": "slide"
    }
   },
   "source": [
    "Debería ver algo como la Figura 2-2.\n",
    "<img src = ''>"
   ]
  },
  {
   "cell_type": "markdown",
   "id": "541506bf",
   "metadata": {
    "slideshow": {
     "slide_type": "slide"
    }
   },
   "source": [
    "If this is your first time, try clicking on the empty code “cell” and entering a line of Python code. "
   ]
  },
  {
   "cell_type": "markdown",
   "id": "68158b21",
   "metadata": {
    "slideshow": {
     "slide_type": "slide"
    }
   },
   "source": [
    "Then press Shift-Enter to execute it."
   ]
  },
  {
   "cell_type": "markdown",
   "id": "cb6b3ad4",
   "metadata": {
    "slideshow": {
     "slide_type": "slide"
    }
   },
   "source": [
    "When you save the notebook (see “Save and Checkpoint” under the notebook File menu), it creates a file with the extension `.ipynb`. "
   ]
  },
  {
   "cell_type": "markdown",
   "id": "6fe57883",
   "metadata": {
    "slideshow": {
     "slide_type": "slide"
    }
   },
   "source": [
    "This is a self-contained file format that contains all of the content (including any evaluated code output) currently in the notebook. "
   ]
  },
  {
   "cell_type": "markdown",
   "id": "6a2daf2f",
   "metadata": {
    "slideshow": {
     "slide_type": "slide"
    }
   },
   "source": [
    "These can be loaded and edited by other Jupyter users. "
   ]
  },
  {
   "cell_type": "markdown",
   "id": "d32af744",
   "metadata": {
    "slideshow": {
     "slide_type": "slide"
    }
   },
   "source": [
    "To load an existing notebook, put the file in the same directory where you started the notebook process (or in a subfolder within it), then double-click the name from the landing page. "
   ]
  },
  {
   "cell_type": "markdown",
   "id": "a9bfb23b",
   "metadata": {
    "slideshow": {
     "slide_type": "slide"
    }
   },
   "source": [
    "You can try it out with the notebooks from my wesm/pydata-book repository on GitHub."
   ]
  },
  {
   "cell_type": "markdown",
   "id": "9f0e4f8f",
   "metadata": {
    "slideshow": {
     "slide_type": "slide"
    }
   },
   "source": [
    "See Figure 2-3."
   ]
  },
  {
   "cell_type": "markdown",
   "id": "8f4a078c",
   "metadata": {
    "slideshow": {
     "slide_type": "slide"
    }
   },
   "source": [
    "Si bien el cuaderno Jupyter puede sentirse como una experiencia distinta del shell de IPython, casi todos los comandos y herramientas de este capítulo se pueden usar en cualquier entorno."
   ]
  },
  {
   "cell_type": "markdown",
   "id": "ac6e8d12",
   "metadata": {
    "slideshow": {
     "slide_type": "slide"
    }
   },
   "source": [
    "# Tab Completion"
   ]
  },
  {
   "cell_type": "markdown",
   "id": "47545fb9",
   "metadata": {
    "slideshow": {
     "slide_type": "slide"
    }
   },
   "source": [
    "En la superficie, el shell de IPython parece una versión cosméticamente diferente del intérprete estándar de terminal de Python (invocado con python)."
   ]
  },
  {
   "cell_type": "markdown",
   "id": "e5a94634",
   "metadata": {
    "slideshow": {
     "slide_type": "slide"
    }
   },
   "source": [
    "Una de las principales mejoras con respecto al shell estándar de Python es la finalización con pestañas, que se encuentra en muchos IDE u otros entornos de análisis informático interactivo. "
   ]
  },
  {
   "cell_type": "markdown",
   "id": "fa3c0fff",
   "metadata": {
    "slideshow": {
     "slide_type": "slide"
    }
   },
   "source": [
    "Mientras ingresa expresiones en el shell, al presionar la tecla Tab buscará en el espacio de nombres cualquier variable (objetos, funciones, etc.) que coincida con los caracteres que ha escrito hasta ahora:"
   ]
  },
  {
   "cell_type": "code",
   "execution_count": 3,
   "id": "c7691819",
   "metadata": {
    "slideshow": {
     "slide_type": "slide"
    }
   },
   "outputs": [],
   "source": [
    "an_apple = 27"
   ]
  },
  {
   "cell_type": "code",
   "execution_count": 4,
   "id": "a8133c98",
   "metadata": {
    "slideshow": {
     "slide_type": "slide"
    }
   },
   "outputs": [],
   "source": [
    "an_example = 42\n"
   ]
  },
  {
   "cell_type": "code",
   "execution_count": 5,
   "id": "b835362d",
   "metadata": {
    "slideshow": {
     "slide_type": "slide"
    }
   },
   "outputs": [
    {
     "data": {
      "text/plain": [
       "27"
      ]
     },
     "execution_count": 5,
     "metadata": {},
     "output_type": "execute_result"
    }
   ],
   "source": [
    "an_apple"
   ]
  },
  {
   "cell_type": "markdown",
   "id": "086f5ae8",
   "metadata": {
    "slideshow": {
     "slide_type": "slide"
    }
   },
   "source": [
    "En este ejemplo, tenga en cuenta que IPython mostró las dos variables que definí, así como la palabra clave de Python y la **función incorporada** `any`."
   ]
  },
  {
   "cell_type": "markdown",
   "id": "ee996e5a",
   "metadata": {
    "slideshow": {
     "slide_type": "slide"
    }
   },
   "source": [
    "Naturalmente, también puede completar métodos y atributos en cualquier objeto después de escribir un punto:"
   ]
  },
  {
   "cell_type": "code",
   "execution_count": 6,
   "id": "93dfcbd6",
   "metadata": {
    "slideshow": {
     "slide_type": "slide"
    }
   },
   "outputs": [],
   "source": [
    "b = [1,2,3] "
   ]
  },
  {
   "cell_type": "code",
   "execution_count": null,
   "id": "021714c4",
   "metadata": {
    "slideshow": {
     "slide_type": "slide"
    }
   },
   "outputs": [],
   "source": [
    "b."
   ]
  },
  {
   "cell_type": "markdown",
   "id": "52a16ecd",
   "metadata": {
    "slideshow": {
     "slide_type": "slide"
    }
   },
   "source": [
    "Lo mismo ocurre con los módulos:"
   ]
  },
  {
   "cell_type": "code",
   "execution_count": 7,
   "id": "171a3e52",
   "metadata": {
    "slideshow": {
     "slide_type": "slide"
    }
   },
   "outputs": [],
   "source": [
    "import datetime"
   ]
  },
  {
   "cell_type": "code",
   "execution_count": null,
   "id": "49066aa7",
   "metadata": {
    "slideshow": {
     "slide_type": "slide"
    }
   },
   "outputs": [],
   "source": [
    "datetime."
   ]
  },
  {
   "cell_type": "markdown",
   "id": "e0b2f278",
   "metadata": {
    "slideshow": {
     "slide_type": "slide"
    }
   },
   "source": [
    "En el cuaderno Jupyter y en las versiones más recientes de IPython (5.0 y posteriores), las funciones de autocompletado se muestran en un **cuadro desplegable** en lugar de como **salida de texto**."
   ]
  },
  {
   "cell_type": "markdown",
   "id": "21d82f4e",
   "metadata": {
    "slideshow": {
     "slide_type": "slide"
    }
   },
   "source": [
    "Tenga en cuenta que IPython oculta de forma predeterminada los métodos y atributos que comienzan con guiones bajos, como los **métodos mágicos** y los **métodos y atributos internos \"privados\"**, para evitar saturar la pantalla (¡y confundir a los usuarios novatos!)."
   ]
  },
  {
   "cell_type": "markdown",
   "id": "1d18c182",
   "metadata": {
    "slideshow": {
     "slide_type": "slide"
    }
   },
   "source": [
    "Estos también se pueden completar con tabuladores, pero primero debe escribir un guión bajo para verlos."
   ]
  },
  {
   "cell_type": "markdown",
   "id": "f9d988fb",
   "metadata": {
    "slideshow": {
     "slide_type": "slide"
    }
   },
   "source": [
    "Si prefiere ver siempre dichos métodos en la finalización de pestañas, puede cambiar esta configuración en la configuración de IPython. Consulte la documentación de IPython para saber cómo hacerlo."
   ]
  },
  {
   "cell_type": "markdown",
   "id": "dae265b0",
   "metadata": {
    "slideshow": {
     "slide_type": "slide"
    }
   },
   "source": [
    "La finalización de pestañas funciona en muchos contextos fuera de la búsqueda en el espacio de nombres interactivo y la finalización de atributos de objetos o módulos."
   ]
  },
  {
   "cell_type": "markdown",
   "id": "9384ef64",
   "metadata": {
    "slideshow": {
     "slide_type": "slide"
    }
   },
   "source": [
    "Al escribir cualquier cosa que parezca una ruta de archivo (incluso en una cadena de Python), presionar la tecla Tab completará cualquier cosa en el sistema de archivos de su computadora que coincida con lo que ha escrito:"
   ]
  },
  {
   "cell_type": "markdown",
   "id": "78a6e24b",
   "metadata": {
    "slideshow": {
     "slide_type": "slide"
    }
   },
   "source": [
    "C:/users/marco/documents/github/"
   ]
  },
  {
   "cell_type": "markdown",
   "id": "ee6c9428",
   "metadata": {
    "slideshow": {
     "slide_type": "slide"
    }
   },
   "source": [
    "In [7]: path = 'datasets/movielens/<Tab>\n",
    "datasets/movielens/movies.dat datasets/movielens/README\n",
    "datasets/movielens/ratings.dat datasets/movielens/users.dat"
   ]
  },
  {
   "cell_type": "markdown",
   "id": "65674b48",
   "metadata": {
    "slideshow": {
     "slide_type": "slide"
    }
   },
   "source": [
    "En combinación con el comando `%run` (consulte “El comando `%run`” en la página 25), esta funcionalidad puede ahorrarle muchas pulsaciones de teclas."
   ]
  },
  {
   "cell_type": "markdown",
   "id": "277bd87e",
   "metadata": {
    "slideshow": {
     "slide_type": "slide"
    }
   },
   "source": [
    "Another area where tab completion saves time is in the completion of function key‐word arguments (and including the = sign!). See Figure 2-4."
   ]
  },
  {
   "cell_type": "code",
   "execution_count": 8,
   "id": "419f1d12",
   "metadata": {
    "slideshow": {
     "slide_type": "slide"
    }
   },
   "outputs": [],
   "source": [
    "def func_with_keywords(abra = 1, abbra = 2, abbbra = 3):\n",
    "    return abra, abbra, abbbra "
   ]
  },
  {
   "cell_type": "code",
   "execution_count": null,
   "id": "219dc156",
   "metadata": {
    "slideshow": {
     "slide_type": "slide"
    }
   },
   "outputs": [],
   "source": [
    "func_with_keywords(a)"
   ]
  },
  {
   "cell_type": "markdown",
   "id": "71e98e2f",
   "metadata": {
    "slideshow": {
     "slide_type": "slide"
    }
   },
   "source": [
    "We’ll have a closer look at functions in a little bit."
   ]
  },
  {
   "cell_type": "markdown",
   "id": "5c1d7a9d",
   "metadata": {
    "slideshow": {
     "slide_type": "slide"
    }
   },
   "source": [
    "# Introspection"
   ]
  },
  {
   "cell_type": "markdown",
   "id": "1b3e2371",
   "metadata": {
    "slideshow": {
     "slide_type": "slide"
    }
   },
   "source": [
    "El uso de un signo de interrogación (?) antes o después de una variable mostrará información general sobre el objeto:"
   ]
  },
  {
   "cell_type": "code",
   "execution_count": 1,
   "id": "b5d902c6",
   "metadata": {
    "slideshow": {
     "slide_type": "slide"
    }
   },
   "outputs": [],
   "source": [
    "b = [1,2,3]"
   ]
  },
  {
   "cell_type": "code",
   "execution_count": 2,
   "id": "5746720c",
   "metadata": {
    "slideshow": {
     "slide_type": "slide"
    }
   },
   "outputs": [],
   "source": [
    "b?"
   ]
  },
  {
   "cell_type": "code",
   "execution_count": 11,
   "id": "0fe08223",
   "metadata": {
    "slideshow": {
     "slide_type": "slide"
    }
   },
   "outputs": [],
   "source": [
    "print?"
   ]
  },
  {
   "cell_type": "markdown",
   "id": "79363f8d",
   "metadata": {
    "slideshow": {
     "slide_type": "slide"
    }
   },
   "source": [
    "Esto se conoce como introspección de objetos."
   ]
  },
  {
   "cell_type": "markdown",
   "id": "d61f16ac",
   "metadata": {
    "slideshow": {
     "slide_type": "slide"
    }
   },
   "source": [
    "Si el objeto es una función o un método de instancia, también se mostrará la cadena de documentación, si está definida."
   ]
  },
  {
   "cell_type": "markdown",
   "id": "df27b048",
   "metadata": {
    "slideshow": {
     "slide_type": "slide"
    }
   },
   "source": [
    "Supongamos que escribimos la siguiente función (que puedes reproducir en IPython o Jupyter):"
   ]
  },
  {
   "cell_type": "code",
   "execution_count": 3,
   "id": "3ac035c0",
   "metadata": {
    "slideshow": {
     "slide_type": "slide"
    }
   },
   "outputs": [],
   "source": [
    "def add_numbers(a, b):\n",
    "    \"\"\"\n",
    "    Add two numbers together\n",
    "    Returns\n",
    "    -------\n",
    "    the_sum : type of arguments\n",
    "    \"\"\"\n",
    "    return a + b"
   ]
  },
  {
   "cell_type": "markdown",
   "id": "51af1403",
   "metadata": {
    "slideshow": {
     "slide_type": "slide"
    }
   },
   "source": [
    "Entonces usando? nos muestra el docstring:"
   ]
  },
  {
   "cell_type": "code",
   "execution_count": 4,
   "id": "b99bcf04",
   "metadata": {
    "slideshow": {
     "slide_type": "slide"
    }
   },
   "outputs": [],
   "source": [
    "add_numbers?"
   ]
  },
  {
   "cell_type": "markdown",
   "id": "ff9ac96a",
   "metadata": {
    "slideshow": {
     "slide_type": "slide"
    }
   },
   "source": [
    "Usando ?? también mostrará el código fuente de la función si es posible:"
   ]
  },
  {
   "cell_type": "code",
   "execution_count": 5,
   "id": "aaf84db0",
   "metadata": {
    "slideshow": {
     "slide_type": "slide"
    }
   },
   "outputs": [],
   "source": [
    "add_numbers??\n"
   ]
  },
  {
   "cell_type": "markdown",
   "id": "0e53528c",
   "metadata": {
    "slideshow": {
     "slide_type": "slide"
    }
   },
   "source": [
    "? tiene un uso final, que es para buscar en el espacio de nombres de IPython de manera similar a la línea de comandos estándar de Unix o Windows."
   ]
  },
  {
   "cell_type": "markdown",
   "id": "e1bc6bf1",
   "metadata": {
    "slideshow": {
     "slide_type": "slide"
    }
   },
   "source": [
    "A number of characters combined with the wildcard (*) will show all names matching the wildcard expression. "
   ]
  },
  {
   "cell_type": "markdown",
   "id": "cfb947bf",
   "metadata": {
    "slideshow": {
     "slide_type": "slide"
    }
   },
   "source": [
    "Por ejemplo, podríamos obtener una lista de todas las funciones en el espacio de nombres NumPy de nivel superior que contiene `load`:"
   ]
  },
  {
   "cell_type": "code",
   "execution_count": 10,
   "id": "a47fb209",
   "metadata": {},
   "outputs": [],
   "source": [
    "import numpy as np "
   ]
  },
  {
   "cell_type": "code",
   "execution_count": 11,
   "id": "a8056b5b",
   "metadata": {
    "slideshow": {
     "slide_type": "slide"
    }
   },
   "outputs": [],
   "source": [
    "np.*load*?"
   ]
  },
  {
   "cell_type": "markdown",
   "id": "3f24825b",
   "metadata": {
    "slideshow": {
     "slide_type": "slide"
    }
   },
   "source": [
    "## The %run Command"
   ]
  },
  {
   "cell_type": "markdown",
   "id": "880f531a",
   "metadata": {
    "slideshow": {
     "slide_type": "slide"
    }
   },
   "source": [
    "You can run any file as a Python program inside the environment of your IPython session using the %run command. "
   ]
  },
  {
   "cell_type": "markdown",
   "id": "532e2636",
   "metadata": {
    "slideshow": {
     "slide_type": "slide"
    }
   },
   "source": [
    "Suppose you had the following simple script stored in ipython_script_test.py:"
   ]
  },
  {
   "cell_type": "code",
   "execution_count": 15,
   "id": "801bf89f",
   "metadata": {
    "slideshow": {
     "slide_type": "slide"
    }
   },
   "outputs": [],
   "source": [
    "def f(x, y, z):\n",
    "    return (x + y) / z\n",
    "a = 5\n",
    "b = 6\n",
    "c = 7.5\n",
    "result = f(a, b, c)\n"
   ]
  },
  {
   "cell_type": "markdown",
   "id": "0c1564bd",
   "metadata": {
    "slideshow": {
     "slide_type": "slide"
    }
   },
   "source": [
    "Puede ejecutar esto pasando el nombre del archivo a `%run`:"
   ]
  },
  {
   "cell_type": "markdown",
   "id": "5fe2bcf2",
   "metadata": {
    "slideshow": {
     "slide_type": "slide"
    }
   },
   "source": [
    "python```\n",
    "\n",
    "In [14]: %run ipython_script_test.py  \n",
    "\n",
    "    ```"
   ]
  },
  {
   "cell_type": "markdown",
   "id": "8b90c6d0",
   "metadata": {
    "slideshow": {
     "slide_type": "slide"
    }
   },
   "source": [
    "The script is run in an empty namespace (with no imports or other variables defined) so that the behavior should be identical to running the program on the command line using python script.py. "
   ]
  },
  {
   "cell_type": "markdown",
   "id": "79b834df",
   "metadata": {
    "slideshow": {
     "slide_type": "slide"
    }
   },
   "source": [
    "All of the variables (imports, functions, and globals) defined in the file (up until an exception, if any, is raised) will then be accessible in the IPython shell:"
   ]
  },
  {
   "cell_type": "code",
   "execution_count": null,
   "id": "a5c4d50d",
   "metadata": {
    "slideshow": {
     "slide_type": "slide"
    }
   },
   "outputs": [],
   "source": [
    "In [15]: c\n",
    "Out [15]: 7.5\n",
    "In [16]: result\n",
    "Out[16]: 1.4666666666666666"
   ]
  },
  {
   "cell_type": "code",
   "execution_count": null,
   "id": "f9ad323f",
   "metadata": {},
   "outputs": [],
   "source": []
  },
  {
   "cell_type": "code",
   "execution_count": null,
   "id": "abd97ede",
   "metadata": {},
   "outputs": [],
   "source": []
  },
  {
   "cell_type": "code",
   "execution_count": null,
   "id": "4483501e",
   "metadata": {},
   "outputs": [],
   "source": []
  },
  {
   "cell_type": "code",
   "execution_count": null,
   "id": "cf0aa200",
   "metadata": {},
   "outputs": [],
   "source": []
  }
 ],
 "metadata": {
  "celltoolbar": "Slideshow",
  "kernelspec": {
   "display_name": "Python 3 (ipykernel)",
   "language": "python",
   "name": "python3"
  },
  "language_info": {
   "codemirror_mode": {
    "name": "ipython",
    "version": 3
   },
   "file_extension": ".py",
   "mimetype": "text/x-python",
   "name": "python",
   "nbconvert_exporter": "python",
   "pygments_lexer": "ipython3",
   "version": "3.9.12"
  },
  "rise": {
   "theme": "sky"
  }
 },
 "nbformat": 4,
 "nbformat_minor": 5
}
