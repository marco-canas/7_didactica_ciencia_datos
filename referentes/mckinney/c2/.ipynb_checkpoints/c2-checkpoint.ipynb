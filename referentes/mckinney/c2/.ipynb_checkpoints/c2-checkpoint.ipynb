{
 "cells": [
  {
   "cell_type": "markdown",
   "id": "16bdd495",
   "metadata": {
    "slideshow": {
     "slide_type": "slide"
    }
   },
   "source": [
    "<table align=\"left\">\n",
    "  <td>\n",
    "    <a href=\"https://colab.research.google.com/github/marco-canas/edo/blob/main/banco_preguntas/parcial_3/parcial_3_14.ipynb\" target=\"_parent\"><img src=\"https://colab.research.google.com/assets/colab-badge.svg\" alt=\"Open In Colab\"/></a>\n",
    "  </td>\n",
    "</table>"
   ]
  },
  {
   "cell_type": "markdown",
   "id": "811fa589",
   "metadata": {
    "slideshow": {
     "slide_type": "slide"
    }
   },
   "source": [
    "# CHAPTER 2  "
   ]
  },
  {
   "cell_type": "markdown",
   "id": "a91cec55",
   "metadata": {
    "slideshow": {
     "slide_type": "slide"
    }
   },
   "source": [
    "## Python Language Basics, IPython, and Jupyter Notebooks"
   ]
  },
  {
   "cell_type": "markdown",
   "id": "c0273b3c",
   "metadata": {
    "slideshow": {
     "slide_type": "slide"
    }
   },
   "source": [
    "Cuando escribí la primera edición de este libro en 2011 y 2012, había menos recursos disponibles para aprender a realizar análisis de datos en Python."
   ]
  },
  {
   "cell_type": "markdown",
   "id": "b943797a",
   "metadata": {
    "slideshow": {
     "slide_type": "slide"
    }
   },
   "source": [
    "Esto fue en parte un problema del huevo y la gallina; muchas bibliotecas que ahora damos por sentadas, como pandas, scikit-learn y statsmodels, eran comparativamente inmaduras en ese entonces."
   ]
  },
  {
   "cell_type": "markdown",
   "id": "bda3e01b",
   "metadata": {
    "slideshow": {
     "slide_type": "slide"
    }
   },
   "source": [
    "En 2017, ahora hay una creciente literatura sobre ciencia de datos, análisis de datos y aprendizaje automático, que complementa los trabajos anteriores sobre computación científica de propósito general dirigidos a científicos computacionales, físicos y profesionales en otros campos de investigación."
   ]
  },
  {
   "cell_type": "markdown",
   "id": "a1deb523",
   "metadata": {
    "slideshow": {
     "slide_type": "slide"
    }
   },
   "source": [
    "También hay excelentes libros sobre cómo aprender el lenguaje de programación Python y convertirse en un ingeniero de software efectivo."
   ]
  },
  {
   "cell_type": "markdown",
   "id": "9ba2fc25",
   "metadata": {
    "slideshow": {
     "slide_type": "slide"
    }
   },
   "source": [
    "Como este libro pretende ser un texto introductorio para trabajar con datos en Python, creo que es valioso tener una descripción general independiente de algunas de las características más importantes de las estructuras y bibliotecas de datos integradas de Python desde la perspectiva de la manipulación de datos."
   ]
  },
  {
   "cell_type": "markdown",
   "id": "8dd1aaa7",
   "metadata": {
    "slideshow": {
     "slide_type": "slide"
    }
   },
   "source": [
    "Por lo tanto, en este capítulo y en el Capítulo 3 solo presentaré la información suficiente para permitirle continuar con el resto del libro."
   ]
  },
  {
   "cell_type": "markdown",
   "id": "20c81fd1",
   "metadata": {
    "slideshow": {
     "slide_type": "slide"
    }
   },
   "source": [
    "En mi opinión, no es necesario volverse competente en la creación de un buen software en Python para poder realizar análisis de datos de manera productiva. "
   ]
  },
  {
   "cell_type": "markdown",
   "id": "cf8f95b7",
   "metadata": {
    "slideshow": {
     "slide_type": "slide"
    }
   },
   "source": [
    "Lo animo a que use los cuadernos IPython shell y Jupyter para experimentar con los ejemplos de código y explorar la documentación de los diversos tipos, funciones y métodos. "
   ]
  },
  {
   "cell_type": "markdown",
   "id": "7a7119ce",
   "metadata": {
    "slideshow": {
     "slide_type": "slide"
    }
   },
   "source": [
    "Si bien hice todo lo posible para presentar el material del **libro de forma incremental**, es posible que ocasionalmente encuentre cosas que aún no se han presentado por completo."
   ]
  },
  {
   "cell_type": "markdown",
   "id": "05b8d625",
   "metadata": {
    "slideshow": {
     "slide_type": "slide"
    }
   },
   "source": [
    "Gran parte de este libro se centra en el análisis basado en tablas y las herramientas de preparación de datos para trabajar con grandes conjuntos de datos. "
   ]
  },
  {
   "cell_type": "markdown",
   "id": "5a371cde",
   "metadata": {
    "slideshow": {
     "slide_type": "slide"
    }
   },
   "source": [
    "Para usar esas herramientas, a menudo primero debe hacer algo de munging para acorralar los datos desordenados en una forma tabular (o estructurada) más agradable. "
   ]
  },
  {
   "cell_type": "markdown",
   "id": "f781bbb8",
   "metadata": {
    "slideshow": {
     "slide_type": "slide"
    }
   },
   "source": [
    "Afortunadamente, Python es un lenguaje ideal para poner rápidamente en forma sus datos. Cuanto mayor sea su facilidad con el lenguaje Python, más fácil le resultará preparar nuevos conjuntos de datos para el análisis."
   ]
  },
  {
   "cell_type": "markdown",
   "id": "449c6c9d",
   "metadata": {
    "slideshow": {
     "slide_type": "slide"
    }
   },
   "source": [
    "Algunas de las herramientas de este libro se exploran mejor desde una sesión en vivo de IPython o Jupyter. Una vez que aprenda cómo iniciar IPython y Jupyter, le recomiendo que siga los ejemplos para que pueda experimentar y probar cosas diferentes."
   ]
  },
  {
   "cell_type": "markdown",
   "id": "c5280b81",
   "metadata": {
    "slideshow": {
     "slide_type": "slide"
    }
   },
   "source": [
    "Al igual que con cualquier entorno similar a una consola controlado por teclado, desarrollar **memoria muscular para los comandos comunes** también es parte de **la curva de aprendizaje**."
   ]
  },
  {
   "cell_type": "markdown",
   "id": "e4005747",
   "metadata": {
    "slideshow": {
     "slide_type": "slide"
    }
   },
   "source": [
    "Hay conceptos introductorios de Python que este capítulo no cubre, como clases y programación orientada a objetos, que pueden resultarle útiles en su incursión en el análisis de datos en Python."
   ]
  },
  {
   "cell_type": "markdown",
   "id": "457b1bef",
   "metadata": {
    "slideshow": {
     "slide_type": "slide"
    }
   },
   "source": [
    "Para profundizar su conocimiento del lenguaje Python, le recomiendo que complemente este capítulo con el tutorial oficial de Python y, potencialmente, uno de los muchos libros excelentes sobre programación de Python de propósito general.\n",
    "\n",
    "Algunas recomendaciones para comenzar incluyen:\n",
    "• Python Cookbook, tercera edición, por David Beazley y Brian\n",
    "K. Jones (O'Reilly)\n",
    "• Fluent Python por Luciano Ramalho (O'Reilly)\n",
    "• Python efectivo por Brett Slatkin (Pearson)"
   ]
  },
  {
   "cell_type": "markdown",
   "id": "42d11603",
   "metadata": {
    "slideshow": {
     "slide_type": "slide"
    }
   },
   "source": [
    "## 2.1 The Python Interpreter"
   ]
  },
  {
   "cell_type": "markdown",
   "id": "a69ba692",
   "metadata": {
    "slideshow": {
     "slide_type": "slide"
    }
   },
   "source": [
    "Python es un lenguaje interpretado. El intérprete de Python ejecuta un programa ejecutando una declaración a la vez."
   ]
  },
  {
   "cell_type": "markdown",
   "id": "b5597b2f",
   "metadata": {
    "slideshow": {
     "slide_type": "slide"
    }
   },
   "source": [
    "El intérprete de Python interactivo estándar se puede invocar en la línea de comando con el comando `python`:"
   ]
  },
  {
   "cell_type": "code",
   "execution_count": 2,
   "id": "b8637e5f",
   "metadata": {
    "slideshow": {
     "slide_type": "slide"
    }
   },
   "outputs": [
    {
     "ename": "NameError",
     "evalue": "name 'Python' is not defined",
     "output_type": "error",
     "traceback": [
      "\u001b[1;31m---------------------------------------------------------------------------\u001b[0m",
      "\u001b[1;31mNameError\u001b[0m                                 Traceback (most recent call last)",
      "Input \u001b[1;32mIn [2]\u001b[0m, in \u001b[0;36m<cell line: 1>\u001b[1;34m()\u001b[0m\n\u001b[1;32m----> 1\u001b[0m \u001b[43mPython\u001b[49m\n",
      "\u001b[1;31mNameError\u001b[0m: name 'Python' is not defined"
     ]
    }
   ],
   "source": [
    "Python\n"
   ]
  },
  {
   "cell_type": "code",
   "execution_count": null,
   "id": "f6204242",
   "metadata": {
    "slideshow": {
     "slide_type": "slide"
    }
   },
   "outputs": [],
   "source": [
    "a = 5\n",
    "print(a)"
   ]
  },
  {
   "cell_type": "markdown",
   "id": "8790f4c9",
   "metadata": {
    "slideshow": {
     "slide_type": "slide"
    }
   },
   "source": [
    "The `>>>` you see is the prompt where you’ll type code expressions. "
   ]
  },
  {
   "cell_type": "markdown",
   "id": "1a04ebd3",
   "metadata": {
    "slideshow": {
     "slide_type": "slide"
    }
   },
   "source": [
    "To exit the Python interpreter and return to the command prompt, you can either type `exit()` or press Ctrl-D."
   ]
  },
  {
   "cell_type": "markdown",
   "id": "9f2c01b8",
   "metadata": {
    "slideshow": {
     "slide_type": "slide"
    }
   },
   "source": [
    "Running Python programs is as simple as calling python with a `.py` file as its first argument. "
   ]
  },
  {
   "cell_type": "markdown",
   "id": "660971a7",
   "metadata": {
    "slideshow": {
     "slide_type": "slide"
    }
   },
   "source": [
    "Suppose we had created `hello_world.py` with these contents:"
   ]
  },
  {
   "cell_type": "code",
   "execution_count": 1,
   "id": "9fea37f3",
   "metadata": {
    "slideshow": {
     "slide_type": "slide"
    }
   },
   "outputs": [
    {
     "name": "stdout",
     "output_type": "stream",
     "text": [
      "Hello world\n"
     ]
    }
   ],
   "source": [
    "print('Hello world') "
   ]
  },
  {
   "cell_type": "markdown",
   "id": "f47e9970",
   "metadata": {
    "slideshow": {
     "slide_type": "slide"
    }
   },
   "source": [
    "You can run it by executing the following command (the hello_world.py file must be in your current working terminal directory):"
   ]
  },
  {
   "cell_type": "markdown",
   "id": "89d2ff1e",
   "metadata": {
    "slideshow": {
     "slide_type": "slide"
    }
   },
   "source": [
    "$ python hello_world.py\n",
    "Hello world"
   ]
  },
  {
   "cell_type": "markdown",
   "id": "eb29da71",
   "metadata": {
    "slideshow": {
     "slide_type": "slide"
    }
   },
   "source": [
    "While some Python programmers execute all of their Python code in this way, those doing data analysis or scientific computing make use of IPython, an enhanced Python interpreter, or Jupyter notebooks, web-based code notebooks originally created within the IPython project. "
   ]
  },
  {
   "cell_type": "markdown",
   "id": "ea9b9e4c",
   "metadata": {
    "slideshow": {
     "slide_type": "slide"
    }
   },
   "source": [
    "I give an introduction to using IPython and Jupyter in this chapter and have included a deeper look at IPython functionality in Appendix A. "
   ]
  },
  {
   "cell_type": "markdown",
   "id": "fda2dbb2",
   "metadata": {
    "slideshow": {
     "slide_type": "slide"
    }
   },
   "source": [
    "When you use the %run command, IPython executes the code in the specified file in the same process, enabling you to explore the results interactively when it’s done:"
   ]
  },
  {
   "cell_type": "markdown",
   "id": "87bf6504",
   "metadata": {
    "slideshow": {
     "slide_type": "slide"
    }
   },
   "source": [
    "$ ipython\n",
    "Python 3.6.0 | packaged by conda-forge | (default, Jan 13 2017, 23:17:12)\n",
    "Type \"copyright\", \"credits\" or \"license\" for more information.\n",
    "IPython 5.1.0 -- An enhanced Interactive Python.\n",
    "? -> Introduction and overview of IPython's features.\n",
    "%quickref -> Quick reference.\n",
    "help -> Python's own help system.\n",
    "object? -> Details about 'object', use 'object??' for extra details.\n",
    "In [1]: %run hello_world.py\n",
    "Hello world\n",
    "In [2]:"
   ]
  },
  {
   "cell_type": "markdown",
   "id": "01ba780d",
   "metadata": {
    "slideshow": {
     "slide_type": "slide"
    }
   },
   "source": [
    "The default IPython prompt adopts the numbered In [2]: style compared with the standard >>> prompt."
   ]
  },
  {
   "cell_type": "markdown",
   "id": "b650866f",
   "metadata": {
    "slideshow": {
     "slide_type": "slide"
    }
   },
   "source": [
    "## 2.2 IPython Basics"
   ]
  },
  {
   "cell_type": "markdown",
   "id": "b697a9ad",
   "metadata": {},
   "source": [
    "In this section, we’ll get you up and running with the IPython shell and Jupyter note‐\n",
    "book, and introduce you to some of the essential concepts.\n",
    "Running the IPython Shell\n",
    "You can launch the IPython shell on the command line just like launching the regular\n",
    "Python interpreter except with the ipython command: "
   ]
  },
  {
   "cell_type": "markdown",
   "id": "6890b8ed",
   "metadata": {
    "slideshow": {
     "slide_type": "slide"
    }
   },
   "source": [
    "$ ipython\n",
    "Python 3.6.0 | packaged by conda-forge | (default, Jan 13 2017, 23:17:12)\n",
    "Type \"copyright\", \"credits\" or \"license\" for more information.\n",
    "IPython 5.1.0 -- An enhanced Interactive Python.\n",
    "? -> Introduction and overview of IPython's features.\n",
    "%quickref -> Quick reference.\n",
    "help -> Python's own help system."
   ]
  },
  {
   "cell_type": "markdown",
   "id": "36756bf8",
   "metadata": {
    "slideshow": {
     "slide_type": "slide"
    }
   },
   "source": [
    "object? -> Details about 'object', use 'object??' for extra details."
   ]
  },
  {
   "cell_type": "code",
   "execution_count": 6,
   "id": "fb49082c",
   "metadata": {
    "slideshow": {
     "slide_type": "slide"
    }
   },
   "outputs": [
    {
     "data": {
      "text/plain": [
       "5"
      ]
     },
     "execution_count": 6,
     "metadata": {},
     "output_type": "execute_result"
    }
   ],
   "source": [
    "a = 5\n",
    "a\n"
   ]
  },
  {
   "cell_type": "markdown",
   "id": "2a40f948",
   "metadata": {
    "slideshow": {
     "slide_type": "slide"
    }
   },
   "source": [
    "You can execute arbitrary Python statements by typing them in and pressing Return (or Enter). "
   ]
  },
  {
   "cell_type": "markdown",
   "id": "26734777",
   "metadata": {
    "slideshow": {
     "slide_type": "slide"
    }
   },
   "source": [
    "When you type just a variable into IPython, it renders a string representation of the object:"
   ]
  },
  {
   "cell_type": "code",
   "execution_count": 3,
   "id": "b359a237",
   "metadata": {
    "slideshow": {
     "slide_type": "slide"
    }
   },
   "outputs": [],
   "source": [
    "import numpy as np"
   ]
  },
  {
   "cell_type": "code",
   "execution_count": 5,
   "id": "4e9d9adb",
   "metadata": {
    "slideshow": {
     "slide_type": "slide"
    }
   },
   "outputs": [
    {
     "data": {
      "text/plain": [
       "{0: -0.579382474476148,\n",
       " 1: -2.2121793911356002,\n",
       " 2: -0.02530928144427655,\n",
       " 3: 0.552262636583711,\n",
       " 4: -0.2105951531301924,\n",
       " 5: 1.4002123643863775,\n",
       " 6: 0.2969592743515701}"
      ]
     },
     "execution_count": 5,
     "metadata": {},
     "output_type": "execute_result"
    }
   ],
   "source": [
    "data = {i : np.random.randn() for i in range(7)}\n",
    "data"
   ]
  },
  {
   "cell_type": "code",
   "execution_count": null,
   "id": "49c30bd2",
   "metadata": {},
   "outputs": [],
   "source": []
  }
 ],
 "metadata": {
  "celltoolbar": "Slideshow",
  "kernelspec": {
   "display_name": "Python 3 (ipykernel)",
   "language": "python",
   "name": "python3"
  },
  "language_info": {
   "codemirror_mode": {
    "name": "ipython",
    "version": 3
   },
   "file_extension": ".py",
   "mimetype": "text/x-python",
   "name": "python",
   "nbconvert_exporter": "python",
   "pygments_lexer": "ipython3",
   "version": "3.9.12"
  },
  "rise": {
   "theme": "sky"
  }
 },
 "nbformat": 4,
 "nbformat_minor": 5
}
