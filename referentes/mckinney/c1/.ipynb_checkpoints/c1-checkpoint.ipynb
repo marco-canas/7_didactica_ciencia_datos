{
 "cells": [
  {
   "cell_type": "markdown",
   "id": "5ec8eb18",
   "metadata": {
    "slideshow": {
     "slide_type": "slide"
    }
   },
   "source": [
    "<table align=\"left\">\n",
    "  <td>\n",
    "    <a href=\"https://colab.research.google.com/github/marco-canas/camino-udea/blob/main/0_diagnostico/diagnos_prueba_inicial_pivu/41.ipynb\" target=\"_parent\"><img src=\"https://colab.research.google.com/assets/colab-badge.svg\" alt=\"Open In Colab\"/></a>\n",
    "  </td>\n",
    "</table>"
   ]
  },
  {
   "cell_type": "markdown",
   "id": "2b96c667",
   "metadata": {
    "slideshow": {
     "slide_type": "slide"
    }
   },
   "source": [
    "# Capítulo 1 Python for data analysis \n",
    "\n",
    "McKinney"
   ]
  },
  {
   "cell_type": "markdown",
   "id": "cc22d149",
   "metadata": {
    "slideshow": {
     "slide_type": "slide"
    }
   },
   "source": [
    "## Preliminares "
   ]
  },
  {
   "cell_type": "markdown",
   "id": "100daadd",
   "metadata": {
    "slideshow": {
     "slide_type": "slide"
    }
   },
   "source": [
    "## 1.1 ¿De qué trata este libro?"
   ]
  },
  {
   "cell_type": "markdown",
   "id": "95ddcc77",
   "metadata": {
    "slideshow": {
     "slide_type": "slide"
    }
   },
   "source": [
    "Este libro se ocupa de los aspectos básicos de   \n",
    "\n",
    "* la manipulación, \n",
    "* la limpieza y \n",
    "* el procesamiento de datos en Python."
   ]
  },
  {
   "cell_type": "markdown",
   "id": "ed57d8a8",
   "metadata": {
    "slideshow": {
     "slide_type": "slide"
    }
   },
   "source": [
    "Mi objetivo es ofrecer una guía de las partes del lenguaje de programación Python y su ecosistema de biblioteca orientada a datos y herramientas que lo equiparán para convertirse en un analista de datos efectivo."
   ]
  },
  {
   "cell_type": "markdown",
   "id": "18558cd9",
   "metadata": {
    "slideshow": {
     "slide_type": "slide"
    }
   },
   "source": [
    "Si bien el \"análisis de datos\" se encuentra en el título del libro, el enfoque se centra específicamente en la programación, las bibliotecas y las herramientas de Python en lugar de la metodología de análisis de datos."
   ]
  },
  {
   "cell_type": "markdown",
   "id": "8109b023",
   "metadata": {
    "slideshow": {
     "slide_type": "slide"
    }
   },
   "source": [
    "Esta es la programación de Python que necesita para el análisis de datos."
   ]
  },
  {
   "cell_type": "markdown",
   "id": "c5a202a6",
   "metadata": {
    "slideshow": {
     "slide_type": "slide"
    }
   },
   "source": [
    "## ¿Qué tipo de datos?"
   ]
  },
  {
   "cell_type": "markdown",
   "id": "cc2055a1",
   "metadata": {
    "slideshow": {
     "slide_type": "slide"
    }
   },
   "source": [
    "Cuando digo \"datos\", ¿a qué me refiero exactamente? "
   ]
  },
  {
   "cell_type": "markdown",
   "id": "ff831e49",
   "metadata": {
    "slideshow": {
     "slide_type": "slide"
    }
   },
   "source": [
    "El enfoque principal está en los datos estructurados, un término deliberadamente vago que abarca muchas formas comunes diferentes de datos, como:"
   ]
  },
  {
   "cell_type": "markdown",
   "id": "1ee91cae",
   "metadata": {
    "slideshow": {
     "slide_type": "slide"
    }
   },
   "source": [
    "* Datos tabulares o similares a una hoja de cálculo en los que cada columna puede ser de un tipo diferente (cadena, numérico, fecha u otro). "
   ]
  },
  {
   "cell_type": "markdown",
   "id": "b6b64fe3",
   "metadata": {
    "slideshow": {
     "slide_type": "slide"
    }
   },
   "source": [
    "Esto incluye la mayoría de los tipos de datos comúnmente almacenados en bases de datos relacionales o archivos de texto delimitados por tabulaciones o comas."
   ]
  },
  {
   "cell_type": "markdown",
   "id": "72b37a4d",
   "metadata": {
    "slideshow": {
     "slide_type": "slide"
    }
   },
   "source": [
    "* Arrays multidimensionales (matrices)."
   ]
  },
  {
   "cell_type": "markdown",
   "id": "848c6cb5",
   "metadata": {
    "slideshow": {
     "slide_type": "slide"
    }
   },
   "source": [
    "* Múltiples tablas de datos interrelacionados por columnas clave (lo que serían claves primarias o foráneas para un usuario de SQL)."
   ]
  },
  {
   "cell_type": "markdown",
   "id": "64ce21f1",
   "metadata": {
    "slideshow": {
     "slide_type": "slide"
    }
   },
   "source": [
    "* Series de tiempo uniforme o desigualmente espaciadas."
   ]
  },
  {
   "cell_type": "markdown",
   "id": "6a7bd63b",
   "metadata": {
    "slideshow": {
     "slide_type": "slide"
    }
   },
   "source": [
    "Esto no es de ninguna manera una lista completa. Aunque no siempre sea obvio, un gran porcentaje de conjuntos de datos se puede transformar en una forma estructurada que sea más adecuada para el análisis y el modelado. "
   ]
  },
  {
   "cell_type": "markdown",
   "id": "c695cd32",
   "metadata": {
    "slideshow": {
     "slide_type": "slide"
    }
   },
   "source": [
    "De lo contrario, es posible extraer características de un conjunto de datos en un formulario estructurado. "
   ]
  },
  {
   "cell_type": "markdown",
   "id": "04a41a42",
   "metadata": {
    "slideshow": {
     "slide_type": "slide"
    }
   },
   "source": [
    "Como ejemplo, una colección de artículos de noticias podría procesarse en una tabla de frecuencia de palabras, que luego podría usarse para realizar un análisis de sentimiento."
   ]
  },
  {
   "cell_type": "markdown",
   "id": "ea5f8b95",
   "metadata": {
    "slideshow": {
     "slide_type": "slide"
    }
   },
   "source": [
    "La mayoría de los usuarios de programas de hojas de cálculo como Microsoft Excel, quizás la herramienta de análisis de datos más utilizada en el mundo, no serán ajenos a este tipo de datos."
   ]
  },
  {
   "cell_type": "markdown",
   "id": "c18e039b",
   "metadata": {
    "slideshow": {
     "slide_type": "slide"
    }
   },
   "source": [
    "## 1.2 ¿Por qué Python para el análisis de datos?"
   ]
  },
  {
   "cell_type": "markdown",
   "id": "4f5cf931",
   "metadata": {
    "slideshow": {
     "slide_type": "slide"
    }
   },
   "source": [
    "Para muchas personas, el lenguaje de programación Python tiene un gran atractivo. "
   ]
  },
  {
   "cell_type": "markdown",
   "id": "fbdbb4ac",
   "metadata": {
    "slideshow": {
     "slide_type": "slide"
    }
   },
   "source": [
    "Desde su primera aparición en 1991, Python se ha convertido en uno de los lenguajes de programación interpretados más populares, junto con Perl, Ruby y otros."
   ]
  },
  {
   "cell_type": "markdown",
   "id": "b2595a87",
   "metadata": {
    "slideshow": {
     "slide_type": "slide"
    }
   },
   "source": [
    "Python y Ruby se han vuelto especialmente populares desde 2005 aproximadamente para crear sitios web utilizando sus numerosos marcos web, como Rails (Ruby) y Django (Python). "
   ]
  },
  {
   "cell_type": "markdown",
   "id": "4142ef26",
   "metadata": {
    "slideshow": {
     "slide_type": "slide"
    }
   },
   "source": [
    "Tales lenguajes son a menudo llamados lenguajes de secuencias de comandos, ya que se pueden usar para escribir rápidamente pequeños programas o secuencias de comandos para automatizar otras tareas. "
   ]
  },
  {
   "cell_type": "markdown",
   "id": "5b9ac925",
   "metadata": {
    "slideshow": {
     "slide_type": "slide"
    }
   },
   "source": [
    "No me gusta el término \"lenguaje de secuencias de comandos\", ya que conlleva la connotación de que no se pueden usar para crear software serio. "
   ]
  },
  {
   "cell_type": "markdown",
   "id": "c2a62847",
   "metadata": {
    "slideshow": {
     "slide_type": "slide"
    }
   },
   "source": [
    "Entre lenguajes interpretados, por varias razones históricas y culturales, Python ha desarrollado una gran y activa comunidad científica de computación y análisis de datos. "
   ]
  },
  {
   "cell_type": "markdown",
   "id": "ab06ce03",
   "metadata": {
    "slideshow": {
     "slide_type": "slide"
    }
   },
   "source": [
    "En el último 10 años, Python ha pasado de ser un lenguaje informático científico de vanguardia o \"bajo su propio riesgo\" a uno de los lenguajes más importantes para la ciencia de datos, máquina aprendizaje y desarrollo de software en general en la academia y la industria."
   ]
  },
  {
   "cell_type": "markdown",
   "id": "fe0b34d2",
   "metadata": {
    "slideshow": {
     "slide_type": "slide"
    }
   },
   "source": [
    "Para el análisis de datos y la computación interactiva y la visualización de datos, Python inevitablemente establecerá comparaciones con otros lenguajes y herramientas de programación comerciales y de código abierto de amplio uso, como R, MATLAB, SAS, Stata y otros."
   ]
  },
  {
   "cell_type": "markdown",
   "id": "ae4be5a6",
   "metadata": {
    "slideshow": {
     "slide_type": "slide"
    }
   },
   "source": [
    "En los últimos años, el soporte mejorado de Python para bibliotecas (como pandas y scikit-learn) lo ha convertido en una opción popular para las tareas de análisis de datos. "
   ]
  },
  {
   "cell_type": "markdown",
   "id": "f124b330",
   "metadata": {
    "slideshow": {
     "slide_type": "slide"
    }
   },
   "source": [
    "Combinado con la fortaleza general de Python para la ingeniería de software de propósito general, es una excelente opción como lenguaje principal para crear aplicaciones de datos."
   ]
  },
  {
   "cell_type": "markdown",
   "id": "985b9fb9",
   "metadata": {
    "slideshow": {
     "slide_type": "slide"
    }
   },
   "source": [
    "## Python como pegamento"
   ]
  },
  {
   "cell_type": "markdown",
   "id": "066acf08",
   "metadata": {
    "slideshow": {
     "slide_type": "slide"
    }
   },
   "source": [
    "Parte del éxito de Python en la computación científica es la facilidad de integrar código C, C++ y FORTRAN. "
   ]
  },
  {
   "cell_type": "markdown",
   "id": "58896304",
   "metadata": {
    "slideshow": {
     "slide_type": "slide"
    }
   },
   "source": [
    "La mayoría de los entornos informáticos modernos comparten un conjunto similar de bibliotecas FORTRAN y C heredadas para realizar álgebra lineal, optimización, integración, transformadas rápidas de Fourier y otros algoritmos similares."
   ]
  },
  {
   "cell_type": "markdown",
   "id": "99ce26e9",
   "metadata": {
    "slideshow": {
     "slide_type": "slide"
    }
   },
   "source": [
    "La misma historia ha sido válida para muchas empresas y laboratorios nacionales que han utilizado Python para unir décadas de software heredado."
   ]
  },
  {
   "cell_type": "markdown",
   "id": "6e8064cc",
   "metadata": {
    "slideshow": {
     "slide_type": "slide"
    }
   },
   "source": [
    "Muchos programas consisten en pequeñas porciones de código en las que se gasta la mayor parte del tiempo, con grandes cantidades de \"código adhesivo\" que no se ejecuta con frecuencia. "
   ]
  },
  {
   "cell_type": "markdown",
   "id": "e2afe11f",
   "metadata": {
    "slideshow": {
     "slide_type": "slide"
    }
   },
   "source": [
    "En muchos casos, el tiempo de ejecución del código adhesivo es insignificante; el esfuerzo se invierte de manera más fructífera en optimizar los cuellos de botella computacionales, a veces moviendo el código a un lenguaje de nivel inferior como C."
   ]
  },
  {
   "cell_type": "markdown",
   "id": "49ee1c12",
   "metadata": {
    "slideshow": {
     "slide_type": "slide"
    }
   },
   "source": [
    "## Resolviendo el problema de los \"dos lenguajes\""
   ]
  },
  {
   "cell_type": "markdown",
   "id": "a2a42b93",
   "metadata": {
    "slideshow": {
     "slide_type": "slide"
    }
   },
   "source": [
    "En muchas organizaciones, es común investigar, crear prototipos y probar nuevas ideas usando un lenguaje informático más especializado como SAS o R y luego trasladar esas ideas para que formen parte de un sistema de producción más grande escrito, por ejemplo, en Java, C# o C++. "
   ]
  },
  {
   "cell_type": "markdown",
   "id": "f974f778",
   "metadata": {
    "slideshow": {
     "slide_type": "slide"
    }
   },
   "source": [
    "Lo que la gente encuentra cada vez más es que Python es un lenguaje adecuado no solo para investigar y crear prototipos, sino también para construir los sistemas de producción."
   ]
  },
  {
   "cell_type": "markdown",
   "id": "57f4cfa2",
   "metadata": {
    "slideshow": {
     "slide_type": "slide"
    }
   },
   "source": [
    "¿Por qué mantener dos entornos de desarrollo cuando uno es suficiente? "
   ]
  },
  {
   "cell_type": "markdown",
   "id": "71e53054",
   "metadata": {
    "slideshow": {
     "slide_type": "slide"
    }
   },
   "source": [
    "Creo que cada vez más empresas seguirán este camino, ya que a menudo hay beneficios organizacionales significativos al tener tanto investigadores como ingenieros de software usando el mismo conjunto de herramientas de programación."
   ]
  },
  {
   "cell_type": "markdown",
   "id": "7458af9e",
   "metadata": {
    "slideshow": {
     "slide_type": "slide"
    }
   },
   "source": [
    "# ¿Por qué no Python?"
   ]
  },
  {
   "cell_type": "markdown",
   "id": "c4863808",
   "metadata": {
    "slideshow": {
     "slide_type": "slide"
    }
   },
   "source": [
    "Si bien Python es un entorno excelente para crear muchos tipos de aplicaciones analíticas y sistemas de uso general, hay una serie de usos para los que Python puede ser menos adecuado."
   ]
  },
  {
   "cell_type": "markdown",
   "id": "22d276e5",
   "metadata": {
    "slideshow": {
     "slide_type": "slide"
    }
   },
   "source": [
    "Como Python es un lenguaje de programación interpretado, en general, la mayoría del código de Python se ejecutará considerablemente más lento que el código escrito en un lenguaje compilado como Java o C++."
   ]
  },
  {
   "cell_type": "markdown",
   "id": "0bd166bb",
   "metadata": {
    "slideshow": {
     "slide_type": "slide"
    }
   },
   "source": [
    "Como el tiempo del programador suele ser más valioso que el tiempo de la CPU, muchos están felices de hacer este intercambio."
   ]
  },
  {
   "cell_type": "markdown",
   "id": "ca22788f",
   "metadata": {
    "slideshow": {
     "slide_type": "slide"
    }
   },
   "source": [
    "Sin embargo, en una aplicación con una latencia muy baja o requisitos exigentes de utilización de recursos (por ejemplo, un sistema comercial de alta frecuencia), el tiempo dedicado a programar en un lenguaje de nivel inferior (pero también de menor productividad) como C++ para lograr el máximo rendimiento posible podría ser tiempo bien invertido."
   ]
  },
  {
   "cell_type": "markdown",
   "id": "2e2098c5",
   "metadata": {
    "slideshow": {
     "slide_type": "slide"
    }
   },
   "source": [
    "Python puede ser un lenguaje desafiante para crear aplicaciones de subprocesos múltiples altamente concurrentes, particularmente aplicaciones con muchos subprocesos vinculados a la CPU."
   ]
  },
  {
   "cell_type": "markdown",
   "id": "34e0b0aa",
   "metadata": {
    "slideshow": {
     "slide_type": "slide"
    }
   },
   "source": [
    "La razón de esto es que tiene lo que se conoce como bloqueo global del intérprete (GIL), un mecanismo que evita que el intérprete ejecute más de una instrucción de Python a la vez."
   ]
  },
  {
   "cell_type": "markdown",
   "id": "eededfe8",
   "metadata": {
    "slideshow": {
     "slide_type": "slide"
    }
   },
   "source": [
    "Las razones técnicas de por qué existe el GIL están más allá del alcance de este libro."
   ]
  },
  {
   "cell_type": "markdown",
   "id": "bf9efc5b",
   "metadata": {
    "slideshow": {
     "slide_type": "slide"
    }
   },
   "source": [
    "Si bien es cierto que en muchas aplicaciones de procesamiento de big data, se puede requerir un grupo de computadoras para procesar un conjunto de datos en una cantidad de tiempo razonable, todavía hay situaciones en las que es deseable un sistema de proceso único y multiproceso."
   ]
  },
  {
   "cell_type": "markdown",
   "id": "4d2313cf",
   "metadata": {
    "slideshow": {
     "slide_type": "slide"
    }
   },
   "source": [
    "Esto no quiere decir que Python no pueda ejecutar código paralelo verdaderamente multiproceso."
   ]
  },
  {
   "cell_type": "markdown",
   "id": "dea45c5d",
   "metadata": {
    "slideshow": {
     "slide_type": "slide"
    }
   },
   "source": [
    "Las extensiones de Python C que usan subprocesos múltiples nativos (en C o C++) pueden ejecutar código en paralelo sin verse afectadas por la GIL, siempre que no necesiten interactuar regularmente con objetos de Python."
   ]
  },
  {
   "cell_type": "markdown",
   "id": "177f207c",
   "metadata": {
    "slideshow": {
     "slide_type": "slide"
    }
   },
   "source": [
    "## 1.3 Bibliotecas esenciales de Python"
   ]
  },
  {
   "cell_type": "markdown",
   "id": "34b3c901",
   "metadata": {
    "slideshow": {
     "slide_type": "slide"
    }
   },
   "source": [
    "Para aquellos que están menos familiarizados con el ecosistema de datos de Python y las bibliotecas utilizadas a lo largo del libro, daré una breve descripción general de algunas de ellas."
   ]
  },
  {
   "cell_type": "markdown",
   "id": "f038d5c2",
   "metadata": {
    "slideshow": {
     "slide_type": "slide"
    }
   },
   "source": [
    "# NumPy"
   ]
  },
  {
   "cell_type": "markdown",
   "id": "3e6d06e9",
   "metadata": {
    "slideshow": {
     "slide_type": "slide"
    }
   },
   "source": [
    "NumPy, abreviatura de **Numerical Python**, ha sido durante mucho tiempo una piedra angular de la **computación numérica** en Python."
   ]
  },
  {
   "cell_type": "markdown",
   "id": "03b8bbe2",
   "metadata": {
    "slideshow": {
     "slide_type": "slide"
    }
   },
   "source": [
    "Proporciona las estructuras de datos, los algoritmos y el pegamento de biblioteca necesarios para la mayoría de las aplicaciones científicas que involucran datos numéricos en Python."
   ]
  },
  {
   "cell_type": "markdown",
   "id": "22271690",
   "metadata": {
    "slideshow": {
     "slide_type": "slide"
    }
   },
   "source": [
    "NumPy contiene, entre otras cosas:"
   ]
  },
  {
   "cell_type": "markdown",
   "id": "51a2a18b",
   "metadata": {
    "slideshow": {
     "slide_type": "slide"
    }
   },
   "source": [
    "* Un ndarray de objetos de matriz multidimensional rápido y eficiente"
   ]
  },
  {
   "cell_type": "markdown",
   "id": "e24feaf1",
   "metadata": {
    "slideshow": {
     "slide_type": "slide"
    }
   },
   "source": [
    "* Funciones para realizar cálculos por elementos con matrices u operaciones matemáticas entre matrices"
   ]
  },
  {
   "cell_type": "markdown",
   "id": "49bb1708",
   "metadata": {
    "slideshow": {
     "slide_type": "slide"
    }
   },
   "source": [
    "* Herramientas para leer y escribir conjuntos de datos basados en matrices en el disco"
   ]
  },
  {
   "cell_type": "markdown",
   "id": "8a6667df",
   "metadata": {
    "slideshow": {
     "slide_type": "slide"
    }
   },
   "source": [
    "* Operaciones de álgebra lineal, transformada de Fourier y generación de números aleatorios"
   ]
  },
  {
   "cell_type": "markdown",
   "id": "e2274d6d",
   "metadata": {
    "slideshow": {
     "slide_type": "slide"
    }
   },
   "source": [
    "* Una API C madura para habilitar las extensiones de Python y el código C o C++ nativo para acceder a las estructuras de datos y las instalaciones computacionales de NumPy. Más allá de las capacidades de procesamiento rápido de matrices que NumPy agrega a Python, uno de sus usos principales en el análisis de datos es como contenedor de datos. para ser pasado entre algoritmos y bibliotecas."
   ]
  },
  {
   "cell_type": "markdown",
   "id": "6430de45",
   "metadata": {
    "slideshow": {
     "slide_type": "slide"
    }
   },
   "source": [
    "Para datos numéricos, las matrices NumPy son más eficientes para almacenar y manipular datos que las otras estructuras de datos integradas de Python."
   ]
  },
  {
   "cell_type": "markdown",
   "id": "b3919417",
   "metadata": {
    "slideshow": {
     "slide_type": "slide"
    }
   },
   "source": [
    "Además, las bibliotecas escritas en un lenguaje de nivel inferior, como C o Fortran, pueden operar con los datos almacenados en una matriz NumPy sin copiar los datos en alguna otra representación de memoria."
   ]
  },
  {
   "cell_type": "markdown",
   "id": "f3a21790",
   "metadata": {
    "slideshow": {
     "slide_type": "slide"
    }
   },
   "source": [
    "Por lo tanto, muchas herramientas de computación numérica para Python asumen arreglos NumPy como una estructura de datos principal o apuntan a una interoperabilidad perfecta con NumPy."
   ]
  },
  {
   "cell_type": "markdown",
   "id": "e701fa77",
   "metadata": {
    "slideshow": {
     "slide_type": "slide"
    }
   },
   "source": [
    "# pandas"
   ]
  },
  {
   "cell_type": "markdown",
   "id": "1e2af9c9",
   "metadata": {
    "slideshow": {
     "slide_type": "slide"
    }
   },
   "source": [
    "pandas proporciona funciones y estructuras de datos de alto nivel diseñadas para hacer que trabajar con datos estructurados o tabulares sea rápido, fácil y expresivo. "
   ]
  },
  {
   "cell_type": "markdown",
   "id": "e5df3548",
   "metadata": {
    "slideshow": {
     "slide_type": "slide"
    }
   },
   "source": [
    "Desde su aparición en 2010, ha ayudado a que Python sea un entorno de análisis de datos poderoso y productivo. "
   ]
  },
  {
   "cell_type": "markdown",
   "id": "90cc960d",
   "metadata": {
    "slideshow": {
     "slide_type": "slide"
    }
   },
   "source": [
    "Los objetos principales en pandas que se utilizarán en este libro son `DataFrame`, una estructura de datos tabular orientada a columnas con etiquetas de fila y columna, y `Series`, un objeto de matriz etiquetado unidimensional."
   ]
  },
  {
   "cell_type": "markdown",
   "id": "61d2a878",
   "metadata": {
    "slideshow": {
     "slide_type": "slide"
    }
   },
   "source": [
    "pandas combina las ideas de computación de matriz de alto rendimiento de NumPy con las capacidades flexibles de manipulación de datos de las hojas de cálculo y las bases de datos relacionales (como SQL). "
   ]
  },
  {
   "cell_type": "markdown",
   "id": "4d187fd0",
   "metadata": {
    "slideshow": {
     "slide_type": "slide"
    }
   },
   "source": [
    "Proporciona una funcionalidad de indexación sofisticada para facilitar la remodelación, el corte, la realización de agregaciones y la selección de subconjuntos de datos. "
   ]
  },
  {
   "cell_type": "markdown",
   "id": "4e6c1d9d",
   "metadata": {
    "slideshow": {
     "slide_type": "slide"
    }
   },
   "source": [
    "Dado que la manipulación, preparación y limpieza de datos es una habilidad tan importante en el análisis de datos, pandas es uno de los enfoques principales de este libro."
   ]
  },
  {
   "cell_type": "markdown",
   "id": "cf864820",
   "metadata": {
    "slideshow": {
     "slide_type": "slide"
    }
   },
   "source": [
    "Como antecedentes, comencé a construir pandas a principios de 2008 durante mi mandato en AQR Capital Management, una empresa de gestión de inversiones cuantitativas. "
   ]
  },
  {
   "cell_type": "markdown",
   "id": "f9fd3cac",
   "metadata": {
    "slideshow": {
     "slide_type": "slide"
    }
   },
   "source": [
    "En ese momento, tenía un conjunto distinto de requisitos que no estaban bien abordados por ninguna herramienta única en\n",
    "mi disposición:"
   ]
  },
  {
   "cell_type": "markdown",
   "id": "87d7e6c4",
   "metadata": {
    "slideshow": {
     "slide_type": "slide"
    }
   },
   "source": [
    "# matplotlib"
   ]
  },
  {
   "cell_type": "markdown",
   "id": "68cb0b33",
   "metadata": {
    "slideshow": {
     "slide_type": "slide"
    }
   },
   "source": [
    "matplotlib es la biblioteca de Python más popular para producir gráficos y otras visualizaciones de datos bidimensionales."
   ]
  },
  {
   "cell_type": "markdown",
   "id": "013c1b77",
   "metadata": {
    "slideshow": {
     "slide_type": "slide"
    }
   },
   "source": [
    "Originalmente fue creado por John D. Hunter y ahora lo mantiene un gran equipo de desarrolladores. "
   ]
  },
  {
   "cell_type": "markdown",
   "id": "321f16fe",
   "metadata": {
    "slideshow": {
     "slide_type": "slide"
    }
   },
   "source": [
    "Está diseñado para crear parcelas adecuadas para su publicación. "
   ]
  },
  {
   "cell_type": "markdown",
   "id": "818933eb",
   "metadata": {
    "slideshow": {
     "slide_type": "slide"
    }
   },
   "source": [
    "Si bien hay otras bibliotecas de visualización disponibles para los programadores de Python, matplotlib es la más utilizada y, como tal, generalmente tiene una buena integración con el resto del ecosistema. "
   ]
  },
  {
   "cell_type": "markdown",
   "id": "7bfd09b2",
   "metadata": {
    "slideshow": {
     "slide_type": "slide"
    }
   },
   "source": [
    "Creo que es una opción segura como herramienta de visualización predeterminada."
   ]
  },
  {
   "cell_type": "markdown",
   "id": "b3199cd6",
   "metadata": {
    "slideshow": {
     "slide_type": "slide"
    }
   },
   "source": [
    "# IPython y Jupyter"
   ]
  },
  {
   "cell_type": "markdown",
   "id": "b076b779",
   "metadata": {
    "slideshow": {
     "slide_type": "slide"
    }
   },
   "source": [
    "El proyecto IPython comenzó en 2001 como un proyecto paralelo de Fernando Pérez para crear un mejor intérprete interactivo de Python. "
   ]
  },
  {
   "cell_type": "markdown",
   "id": "a0ccd8bb",
   "metadata": {
    "slideshow": {
     "slide_type": "slide"
    }
   },
   "source": [
    "En los siguientes 16 años se ha convertido en una de las herramientas más importantes en la pila de datos moderna de Python. "
   ]
  },
  {
   "cell_type": "markdown",
   "id": "e1b00ea7",
   "metadata": {
    "slideshow": {
     "slide_type": "slide"
    }
   },
   "source": [
    "Si bien no proporciona ninguna herramienta informática o de análisis de datos por sí mismo, IPython está diseñado desde cero para maximizar su productividad tanto en la informática interactiva como en el desarrollo de software. "
   ]
  },
  {
   "cell_type": "markdown",
   "id": "fbbc760d",
   "metadata": {
    "slideshow": {
     "slide_type": "slide"
    }
   },
   "source": [
    "Fomenta un flujo de trabajo de ejecución y exploración en lugar del típico flujo de trabajo de edición, compilación y ejecución de muchos otros lenguajes de programación. "
   ]
  },
  {
   "cell_type": "markdown",
   "id": "57fee202",
   "metadata": {
    "slideshow": {
     "slide_type": "slide"
    }
   },
   "source": [
    "También proporciona fácil acceso al shell y al sistema de archivos de su sistema operativo. "
   ]
  },
  {
   "cell_type": "markdown",
   "id": "58d6d7cb",
   "metadata": {
    "slideshow": {
     "slide_type": "slide"
    }
   },
   "source": [
    "Dado que gran parte de la codificación del análisis de datos implica exploración, prueba y error e iteración, IPython puede ayudarlo a realizar el trabajo más rápido."
   ]
  },
  {
   "cell_type": "markdown",
   "id": "4ece63d3",
   "metadata": {
    "slideshow": {
     "slide_type": "slide"
    }
   },
   "source": [
    "En 2014, Fernando y el equipo de IPython anunciaron el proyecto Jupyter, una iniciativa más amplia para diseñar herramientas informáticas interactivas independientes del lenguaje."
   ]
  },
  {
   "cell_type": "markdown",
   "id": "a00878b9",
   "metadata": {
    "slideshow": {
     "slide_type": "slide"
    }
   },
   "source": [
    "El cuaderno web IPython se convirtió en el cuaderno Jupyter, con soporte ahora para más de 40 lenguajes de programación."
   ]
  },
  {
   "cell_type": "markdown",
   "id": "8c99ce7f",
   "metadata": {
    "slideshow": {
     "slide_type": "slide"
    }
   },
   "source": [
    "El sistema IPython ahora se puede usar como kernel (un modo de lenguaje de programación) para usar Python con Jupyter."
   ]
  },
  {
   "cell_type": "markdown",
   "id": "2bdbde65",
   "metadata": {
    "slideshow": {
     "slide_type": "slide"
    }
   },
   "source": [
    "IPython se ha convertido en un componente del proyecto de código abierto mucho más amplio Jupyter, que proporciona un entorno productivo para la computación interactiva y exploratoria. "
   ]
  },
  {
   "cell_type": "markdown",
   "id": "67691a85",
   "metadata": {
    "slideshow": {
     "slide_type": "slide"
    }
   },
   "source": [
    "Su \"modo\" más antiguo y simple es como un shell de Python mejorado diseñado para acelerar la escritura, prueba y depuración del código de Python."
   ]
  },
  {
   "cell_type": "markdown",
   "id": "d8c551f3",
   "metadata": {
    "slideshow": {
     "slide_type": "slide"
    }
   },
   "source": [
    "También puede usar el sistema IPython a través de Jupyter Notebook, un \"notebook\" de código interactivo basado en la web que ofrece soporte para docenas de lenguajes de programación."
   ]
  },
  {
   "cell_type": "markdown",
   "id": "ee704df5",
   "metadata": {
    "slideshow": {
     "slide_type": "slide"
    }
   },
   "source": [
    "Los cuadernos IPython shell y Jupyter son especialmente útiles para la exploración y visualización de datos."
   ]
  },
  {
   "cell_type": "markdown",
   "id": "6b7bfe91",
   "metadata": {
    "slideshow": {
     "slide_type": "slide"
    }
   },
   "source": [
    "El sistema de cuadernos Jupyter también le permite crear contenido en Markdown y HTML, lo que le brinda un medio para crear documentos enriquecidos con código y texto."
   ]
  },
  {
   "cell_type": "markdown",
   "id": "759cbff3",
   "metadata": {
    "slideshow": {
     "slide_type": "slide"
    }
   },
   "source": [
    "Otros lenguajes de programación también han implementado kernels para Jupyter para permitirle usar lenguajes distintos a Python en Jupyter."
   ]
  },
  {
   "cell_type": "markdown",
   "id": "a6e1ca13",
   "metadata": {
    "slideshow": {
     "slide_type": "slide"
    }
   },
   "source": [
    "Para mí, IPython suele estar involucrado con la mayoría de mi trabajo de Python, incluida la ejecución, la depuración y la prueba del código."
   ]
  },
  {
   "cell_type": "markdown",
   "id": "ce81bf91",
   "metadata": {
    "slideshow": {
     "slide_type": "slide"
    }
   },
   "source": [
    "En los materiales del libro adjunto, encontrará cuadernos Jupyter que contienen todos los ejemplos de código de cada capítulo."
   ]
  },
  {
   "cell_type": "markdown",
   "id": "42686a96",
   "metadata": {
    "slideshow": {
     "slide_type": "slide"
    }
   },
   "source": [
    "# SciPy"
   ]
  },
  {
   "cell_type": "markdown",
   "id": "19d9d1ee",
   "metadata": {
    "slideshow": {
     "slide_type": "slide"
    }
   },
   "source": [
    "SciPy es una colección de paquetes que abordan varios dominios de problemas estándar diferentes en computación científica. "
   ]
  },
  {
   "cell_type": "markdown",
   "id": "d0c5ef5f",
   "metadata": {
    "slideshow": {
     "slide_type": "slide"
    }
   },
   "source": [
    "Aquí hay una muestra de los paquetes incluidos:"
   ]
  },
  {
   "cell_type": "markdown",
   "id": "6a01acd5",
   "metadata": {
    "slideshow": {
     "slide_type": "slide"
    }
   },
   "source": [
    "`scipy.integrate`  \n",
    "Rutinas de integración numérica y solucionadores de ecuaciones diferenciales"
   ]
  },
  {
   "cell_type": "code",
   "execution_count": 1,
   "id": "dd15856c",
   "metadata": {
    "slideshow": {
     "slide_type": "slide"
    }
   },
   "outputs": [],
   "source": [
    "import scipy.integrate as integrate "
   ]
  },
  {
   "cell_type": "code",
   "execution_count": 3,
   "id": "cd543a77",
   "metadata": {
    "slideshow": {
     "slide_type": "slide"
    }
   },
   "outputs": [
    {
     "data": {
      "text/plain": [
       "(0.33333333333333337, 3.700743415417189e-15)"
      ]
     },
     "execution_count": 3,
     "metadata": {},
     "output_type": "execute_result"
    }
   ],
   "source": [
    "integrate.quad(lambda x:x**2,0,1)"
   ]
  },
  {
   "cell_type": "markdown",
   "id": "3f9c8682",
   "metadata": {
    "slideshow": {
     "slide_type": "slide"
    }
   },
   "source": [
    "`scipy.linalg`    \n",
    "Rutinas de álgebra lineal y descomposición de matrices que se extienden más allá de las proporcionadas en `numpy.linalg`"
   ]
  },
  {
   "cell_type": "markdown",
   "id": "dfe8b981",
   "metadata": {
    "slideshow": {
     "slide_type": "slide"
    }
   },
   "source": [
    "scipy.optimize\n",
    "Optimizadores de funciones (minimizadores) y algoritmos de búsqueda de raíces"
   ]
  },
  {
   "cell_type": "markdown",
   "id": "30326db3",
   "metadata": {
    "slideshow": {
     "slide_type": "slide"
    }
   },
   "source": [
    "`scipy.signal`  \n",
    "Herramientas de procesamiento de señales"
   ]
  },
  {
   "cell_type": "markdown",
   "id": "dee54893",
   "metadata": {
    "slideshow": {
     "slide_type": "slide"
    }
   },
   "source": [
    "`scipy.sparse`  \n",
    "Matrices dispersas y solucionadores de sistemas lineales dispersos"
   ]
  },
  {
   "cell_type": "markdown",
   "id": "a5052e4a",
   "metadata": {
    "slideshow": {
     "slide_type": "slide"
    }
   },
   "source": [
    "`scipy.special`  \n",
    "Envoltorio alrededor de SPECFUN, una biblioteca Fortran que implementa muchas funciones matemáticas, como la función `gamma`."
   ]
  },
  {
   "cell_type": "markdown",
   "id": "e2736921",
   "metadata": {
    "slideshow": {
     "slide_type": "slide"
    }
   },
   "source": [
    "`scipy.stats`  \n",
    "Distribuciones de probabilidad discretas y continuas estándar (funciones de densidad, muestreadores, funciones de distribución continua), varias pruebas estadísticas y estadísticas más descriptivas"
   ]
  },
  {
   "cell_type": "markdown",
   "id": "728f4638",
   "metadata": {
    "slideshow": {
     "slide_type": "slide"
    }
   },
   "source": [
    "Juntos, NumPy y SciPy forman una base computacional razonablemente completa y madura para muchas aplicaciones informáticas científicas tradicionales."
   ]
  },
  {
   "cell_type": "markdown",
   "id": "c35e2018",
   "metadata": {
    "slideshow": {
     "slide_type": "slide"
    }
   },
   "source": [
    "# scikit-learn"
   ]
  },
  {
   "cell_type": "markdown",
   "id": "c4d1e0c4",
   "metadata": {
    "slideshow": {
     "slide_type": "slide"
    }
   },
   "source": [
    "Desde el inicio del proyecto en 2010, scikit-learn se ha convertido en el principal conjunto de herramientas de aprendizaje automático de propósito general para los programadores de Python. "
   ]
  },
  {
   "cell_type": "markdown",
   "id": "44943339",
   "metadata": {
    "slideshow": {
     "slide_type": "slide"
    }
   },
   "source": [
    "En solo siete años, ha tenido más de 1.500 colaboradores de todo el mundo. Incluye submódulos para modelos como:"
   ]
  },
  {
   "cell_type": "markdown",
   "id": "ece82827",
   "metadata": {
    "slideshow": {
     "slide_type": "slide"
    }
   },
   "source": [
    "* Clasificación: SVM, vecinos más cercanos, bosque aleatorio, regresión logística, etc.  \n",
    "* Regresión: Lasso, regresión de cresta, etc.  \n",
    "* Clustering: k-means, clustering espectral, etc.  \n",
    "* Reducción de dimensionalidad: PCA, selección de características, factorización de matrices, etc.  \n",
    "* Selección de modelo: búsqueda en cuadrícula, validación cruzada, métricas  \n",
    "* Preprocesamiento: extracción de características, normalización  "
   ]
  },
  {
   "cell_type": "markdown",
   "id": "455ff6da",
   "metadata": {
    "slideshow": {
     "slide_type": "slide"
    }
   },
   "source": [
    "Junto con pandas, statsmodels e IPython, scikit-learn ha sido fundamental para permitir que Python sea un lenguaje de programación de ciencia de datos productivo. "
   ]
  },
  {
   "cell_type": "markdown",
   "id": "e84b7aaa",
   "metadata": {
    "slideshow": {
     "slide_type": "slide"
    }
   },
   "source": [
    "Si bien no podré incluir una guía completa de scikit-learn en este libro, daré una breve introducción a algunos de sus modelos y cómo usarlos con las otras herramientas presentadas en el libro."
   ]
  },
  {
   "cell_type": "markdown",
   "id": "0343db01",
   "metadata": {
    "slideshow": {
     "slide_type": "slide"
    }
   },
   "source": [
    "# statsmodels"
   ]
  },
  {
   "cell_type": "markdown",
   "id": "637793d9",
   "metadata": {
    "slideshow": {
     "slide_type": "slide"
    }
   },
   "source": [
    "statsmodels es un paquete de análisis estadístico que fue iniciado por el trabajo del profesor de estadística de la Universidad de Stanford, Jonathan Taylor, quien implementó una serie de modelos de análisis de regresión populares en el lenguaje de programación R."
   ]
  },
  {
   "cell_type": "markdown",
   "id": "05ee280e",
   "metadata": {
    "slideshow": {
     "slide_type": "slide"
    }
   },
   "source": [
    "Skipper Seabold y Josef Perktold crearon formalmente el nuevo proyecto statsmodels en 2010 y desde entonces han hecho crecer el proyecto hasta alcanzar una masa crítica de usuarios y colaboradores comprometidos."
   ]
  },
  {
   "cell_type": "markdown",
   "id": "d5101103",
   "metadata": {
    "slideshow": {
     "slide_type": "slide"
    }
   },
   "source": [
    "Nathaniel Smith desarrolló el proyecto Patsy, que proporciona un marco de especificación de fórmulas o modelos para modelos estadísticos inspirados en el sistema de fórmulas de R."
   ]
  },
  {
   "cell_type": "markdown",
   "id": "f74d20b7",
   "metadata": {
    "slideshow": {
     "slide_type": "slide"
    }
   },
   "source": [
    "En comparación con scikit-learn, statsmodels contiene algoritmos para estadísticas y econometría clásicas (principalmente frecuentistas). Esto incluye submódulos como:  "
   ]
  },
  {
   "cell_type": "markdown",
   "id": "f3de94f4",
   "metadata": {
    "slideshow": {
     "slide_type": "slide"
    }
   },
   "source": [
    "* Modelos de regresión: regresión lineal, modelos lineales generalizados, modelos lineales robustos modelos, modelos lineales de efectos mixtos, etc.\n",
    "* Análisis de varianza (ANOVA)  \n",
    "* Análisis de series temporales: AR, ARMA, ARIMA, VAR y otros modelos  \n",
    "* Métodos no paramétricos: estimación de densidad kernel, regresión kernel  \n",
    "* Visualización de resultados de modelos estadísticos  "
   ]
  },
  {
   "cell_type": "markdown",
   "id": "e6f98b21",
   "metadata": {
    "slideshow": {
     "slide_type": "slide"
    }
   },
   "source": [
    "statsmodels se centra más en la inferencia estadística, proporcionando estimaciones de incertidumbre y valores p para los parámetros. "
   ]
  },
  {
   "cell_type": "markdown",
   "id": "6e5262d7",
   "metadata": {
    "slideshow": {
     "slide_type": "slide"
    }
   },
   "source": [
    "scikit-learn, por el contrario, se centra más en la predicción.  "
   ]
  },
  {
   "cell_type": "markdown",
   "id": "da4db173",
   "metadata": {
    "slideshow": {
     "slide_type": "slide"
    }
   },
   "source": [
    "Al igual que con scikit-learn, daré una breve introducción a statsmodels y cómo usarlo con NumPy y pandas."
   ]
  },
  {
   "cell_type": "markdown",
   "id": "1e5a305a",
   "metadata": {
    "slideshow": {
     "slide_type": "slide"
    }
   },
   "source": [
    "# 1.4 Instalación y configuración"
   ]
  },
  {
   "cell_type": "markdown",
   "id": "fcf115c5",
   "metadata": {
    "slideshow": {
     "slide_type": "slide"
    }
   },
   "source": [
    "Dado que todos usan Python para diferentes aplicaciones, no existe una solución única para configurar Python y los paquetes complementarios necesarios. "
   ]
  },
  {
   "cell_type": "markdown",
   "id": "f0aac203",
   "metadata": {
    "slideshow": {
     "slide_type": "slide"
    }
   },
   "source": [
    "Muchos lectores no tendrán un entorno de desarrollo de Python completo adecuado para seguir este libro, por lo que aquí daré instrucciones detalladas para configurar cada sistema operativo. "
   ]
  },
  {
   "cell_type": "markdown",
   "id": "9d32fc5e",
   "metadata": {
    "slideshow": {
     "slide_type": "slide"
    }
   },
   "source": [
    "Recomiendo usar la distribución gratuita de Anaconda. "
   ]
  },
  {
   "cell_type": "markdown",
   "id": "6dfcf8b6",
   "metadata": {
    "slideshow": {
     "slide_type": "slide"
    }
   },
   "source": [
    "En el momento de escribir este artículo, Anaconda se ofrece en las formas Python 2.7 y 3.6, aunque esto podría cambiar en algún momento en el futuro. Este libro usa Python 3.6, y lo animo a usar Python 3.6 o superior."
   ]
  },
  {
   "cell_type": "markdown",
   "id": "915663c1",
   "metadata": {
    "slideshow": {
     "slide_type": "slide"
    }
   },
   "source": [
    "## Windows"
   ]
  },
  {
   "cell_type": "markdown",
   "id": "72f30a75",
   "metadata": {
    "slideshow": {
     "slide_type": "slide"
    }
   },
   "source": [
    "To get started on Windows, download the Anaconda installer. "
   ]
  },
  {
   "cell_type": "markdown",
   "id": "16056651",
   "metadata": {
    "slideshow": {
     "slide_type": "slide"
    }
   },
   "source": [
    "I recommend following the installation instructions for Windows available on the Anaconda download page, which may have changed between the time this book was published and when you are reading this."
   ]
  },
  {
   "cell_type": "markdown",
   "id": "1b850538",
   "metadata": {
    "slideshow": {
     "slide_type": "slide"
    }
   },
   "source": [
    "Now, let’s verify that things are configured correctly. "
   ]
  },
  {
   "cell_type": "markdown",
   "id": "a7ebfb90",
   "metadata": {
    "slideshow": {
     "slide_type": "slide"
    }
   },
   "source": [
    "To open the Command Prompt application (also known as cmd.exe), right-click the Start menu and select Command Prompt. "
   ]
  },
  {
   "cell_type": "markdown",
   "id": "5bff9e0c",
   "metadata": {
    "slideshow": {
     "slide_type": "slide"
    }
   },
   "source": [
    "Try starting the Python interpreter by typing python. "
   ]
  },
  {
   "cell_type": "markdown",
   "id": "7418f78a",
   "metadata": {
    "slideshow": {
     "slide_type": "slide"
    }
   },
   "source": [
    "You should see a message that matches the version of Anaconda you installed:"
   ]
  },
  {
   "cell_type": "markdown",
   "id": "f6d1b27f",
   "metadata": {
    "slideshow": {
     "slide_type": "slide"
    }
   },
   "source": [
    "C:\\Users\\wesm>python\n",
    "Python 3.5.2 |Anaconda 4.1.1 (64-bit)| (default, Jul 5 2016, 11:41:13)\n",
    "[MSC v.1900 64 bit (AMD64)] on win32\n",
    ">>>"
   ]
  },
  {
   "cell_type": "markdown",
   "id": "552b79f6",
   "metadata": {
    "slideshow": {
     "slide_type": "slide"
    }
   },
   "source": [
    "To exit the shell, press Ctrl-D (on Linux or macOS), Ctrl-Z (on Windows), or type the command exit() and press Enter"
   ]
  },
  {
   "cell_type": "markdown",
   "id": "22c19f1d",
   "metadata": {
    "slideshow": {
     "slide_type": "slide"
    }
   },
   "source": [
    "## Apple (OS X, macOS)"
   ]
  },
  {
   "cell_type": "markdown",
   "id": "fac371ac",
   "metadata": {
    "slideshow": {
     "slide_type": "slide"
    }
   },
   "source": [
    "Download the OS X Anaconda installer, which should be named something like Anaconda3-4.1.0-MacOSX-x86_64.pkg. Double-click the .pkg file to run the installer."
   ]
  },
  {
   "cell_type": "markdown",
   "id": "cc1e084e",
   "metadata": {
    "slideshow": {
     "slide_type": "slide"
    }
   },
   "source": [
    "When the installer runs, it automatically appends the Anaconda executable path to your .bash_profile file. This is located at /Users/$USER/.bash_profile."
   ]
  },
  {
   "cell_type": "markdown",
   "id": "8706fc5d",
   "metadata": {
    "slideshow": {
     "slide_type": "slide"
    }
   },
   "source": [
    "To verify everything is working, try launching IPython in the system shell (open the\n",
    "Terminal application to get a command prompt):\n",
    "$ ipython"
   ]
  },
  {
   "cell_type": "markdown",
   "id": "deae67db",
   "metadata": {
    "slideshow": {
     "slide_type": "slide"
    }
   },
   "source": [
    "To exit the shell, press Ctrl-D or type exit() and press Enter."
   ]
  },
  {
   "cell_type": "markdown",
   "id": "ac0eb92c",
   "metadata": {
    "slideshow": {
     "slide_type": "slide"
    }
   },
   "source": [
    "## GNU/Linux"
   ]
  },
  {
   "cell_type": "markdown",
   "id": "62f9be72",
   "metadata": {
    "slideshow": {
     "slide_type": "slide"
    }
   },
   "source": [
    "Linux details will vary a bit depending on your Linux flavor, but here I give details for\n",
    "such distributions as Debian, Ubuntu, CentOS, and Fedora. Setup is similar to OS X\n",
    "with the exception of how Anaconda is installed. The installer is a shell script that\n",
    "must be executed in the terminal. Depending on whether you have a 32-bit or 64-bit\n",
    "system, you will either need to install the x86 (32-bit) or x86_64 (64-bit) installer. You\n",
    "will then have a file named something similar to Anaconda3-4.1.0-Linux-x86_64.sh.\n",
    "To install it, execute this script with bash:\n",
    "$ bash Anaconda3-4.1.0-Linux-x86_64.sh"
   ]
  },
  {
   "cell_type": "markdown",
   "id": "2ae7fab2",
   "metadata": {
    "slideshow": {
     "slide_type": "slide"
    }
   },
   "source": [
    "Some Linux distributions have versions of all the required Python\n",
    "packages in their package managers and can be installed using a\n",
    "tool like apt. The setup described here uses Anaconda, as it’s both\n",
    "easily reproducible across distributions and simpler to upgrade\n",
    "packages to their latest versions.\n",
    "After accepting the license, you will be presented with a choice of where to put the\n",
    "Anaconda files. I recommend installing the files in the default location in your home\n",
    "directory—for example, /home/$USER/anaconda (with your username, naturally).\n",
    "The Anaconda installer may ask if you wish to prepend its bin/ directory to your\n",
    "$PATH variable. If you have any problems after installation, you can do this yourself by\n",
    "modifying your .bashrc (or .zshrc, if you are using the zsh shell) with something akin\n",
    "to:\n",
    "export PATH=/home/$USER/anaconda/bin:$PATH\n",
    "After doing this you can either start a new terminal process or execute your .bashrc\n",
    "again with source ~/.bashrc"
   ]
  },
  {
   "cell_type": "markdown",
   "id": "56e6c79a",
   "metadata": {
    "slideshow": {
     "slide_type": "slide"
    }
   },
   "source": [
    "## Installing or Updating Python Packages"
   ]
  },
  {
   "cell_type": "markdown",
   "id": "9e09f4f4",
   "metadata": {
    "slideshow": {
     "slide_type": "slide"
    }
   },
   "source": [
    "At some point while reading, you may wish to install additional Python packages that are not included in the Anaconda distribution. "
   ]
  },
  {
   "cell_type": "markdown",
   "id": "0f97b203",
   "metadata": {
    "slideshow": {
     "slide_type": "slide"
    }
   },
   "source": [
    "In general, these can be installed with the following command:\n",
    "conda install package_name\n",
    "If this does not work, you may also be able to install the package using the pip pack‐\n",
    "age management tool:\n",
    "pip install package_name\n",
    "You can update packages by using the conda update command:\n",
    "conda update package_name\n",
    "pip also supports upgrades using the --upgrade flag:\n",
    "pip install --upgrade package_name\n",
    "You will have several opportunities to try out these commands throughout the book."
   ]
  },
  {
   "cell_type": "markdown",
   "id": "f79c1ba2",
   "metadata": {
    "slideshow": {
     "slide_type": "slide"
    }
   },
   "source": [
    "While you can use both conda and pip to install packages, you should not attempt to update conda packages with pip, as doing so\n",
    "can lead to environment problems. "
   ]
  },
  {
   "cell_type": "markdown",
   "id": "36c89917",
   "metadata": {
    "slideshow": {
     "slide_type": "slide"
    }
   },
   "source": [
    "When using Anaconda or Miniconda, it’s best to first try updating with conda."
   ]
  },
  {
   "cell_type": "markdown",
   "id": "963aab6a",
   "metadata": {
    "slideshow": {
     "slide_type": "slide"
    }
   },
   "source": [
    "## Python 2 and Python 3"
   ]
  },
  {
   "cell_type": "markdown",
   "id": "e0e588e4",
   "metadata": {
    "slideshow": {
     "slide_type": "slide"
    }
   },
   "source": [
    "The first version of the Python 3.x line of interpreters was released at the end of 2008.\n",
    "It included a number of changes that made some previously written Python 2.x code\n",
    "incompatible. Because 17 years had passed since the very first release of Python in\n",
    "1991, creating a “breaking” release of Python 3 was viewed to be for the greater good\n",
    "given the lessons learned during that time.\n",
    "In 2012, much of the scientific and data analysis community was still using Python\n",
    "2.x because many packages had not been made fully Python 3 compatible. Thus, the\n",
    "first edition of this book used Python 2.7. Now, users are free to choose between\n",
    "Python 2.x and 3.x and in general have full library support with either flavor.\n",
    "However, Python 2.x will reach its development end of life in 2020 (including critical\n",
    "security patches), and so it is no longer a good idea to start new projects in Python\n",
    "2.7. Therefore, this book uses Python 3.6, a widely deployed, well-supported stable\n",
    "release. We have begun to call Python 2.x “Legacy Python” and Python 3.x simply\n",
    "“Python.” I encourage you to do the same.\n",
    "This book uses Python 3.6 as its basis. Your version of Python may be newer than 3.6,\n",
    "but the code examples should be forward compatible. Some code examples may work\n",
    "differently or not at all in Python 2.7."
   ]
  },
  {
   "cell_type": "markdown",
   "id": "9e750324",
   "metadata": {
    "slideshow": {
     "slide_type": "slide"
    }
   },
   "source": [
    "## Integrated Development Environments (IDEs) and Text Editors"
   ]
  },
  {
   "cell_type": "markdown",
   "id": "8ba058cc",
   "metadata": {
    "slideshow": {
     "slide_type": "slide"
    }
   },
   "source": [
    "When asked about my standard development environment, I almost always say “IPython plus a text editor.” I typically write a program and iteratively test and debug each piece of it in IPython or Jupyter notebooks. "
   ]
  },
  {
   "cell_type": "markdown",
   "id": "eab1c7e7",
   "metadata": {
    "slideshow": {
     "slide_type": "slide"
    }
   },
   "source": [
    "It is also useful to be able to play around with data interactively and visually verify that a particular set of data manipulations is doing the right thing. "
   ]
  },
  {
   "cell_type": "markdown",
   "id": "db77b8ef",
   "metadata": {
    "slideshow": {
     "slide_type": "slide"
    }
   },
   "source": [
    "Libraries like pandas and NumPy are designed to be easy to use in the shell."
   ]
  },
  {
   "cell_type": "markdown",
   "id": "dab3661e",
   "metadata": {
    "slideshow": {
     "slide_type": "slide"
    }
   },
   "source": [
    "When building software, however, some users may prefer to use a more richly featured IDE rather than a comparatively primitive text editor like Emacs or Vim. "
   ]
  },
  {
   "cell_type": "markdown",
   "id": "bba64ee3",
   "metadata": {
    "slideshow": {
     "slide_type": "slide"
    }
   },
   "source": [
    "Here are some that you can explore:"
   ]
  },
  {
   "cell_type": "markdown",
   "id": "29fe1132",
   "metadata": {
    "slideshow": {
     "slide_type": "slide"
    }
   },
   "source": [
    "• PyDev (free), an IDE built on the Eclipse platform\n",
    "• PyCharm from JetBrains (subscription-based for commercial users, free for open\n",
    "source developers)\n",
    "• Python Tools for Visual Studio (for Windows users)\n",
    "• Spyder (free), an IDE currently shipped with Anaconda\n",
    "• Komodo IDE (commercial)"
   ]
  },
  {
   "cell_type": "markdown",
   "id": "2d09d38b",
   "metadata": {
    "slideshow": {
     "slide_type": "slide"
    }
   },
   "source": [
    "Due to the popularity of Python, most text editors, like Atom and Sublime Text 2, have excellent Python support."
   ]
  },
  {
   "cell_type": "markdown",
   "id": "e4b5953e",
   "metadata": {
    "slideshow": {
     "slide_type": "slide"
    }
   },
   "source": [
    "## 1.5 Community and Conferences"
   ]
  },
  {
   "cell_type": "markdown",
   "id": "3f18bf21",
   "metadata": {
    "slideshow": {
     "slide_type": "slide"
    }
   },
   "source": [
    "Outside of an internet search, the various scientific and data-related Python mailing\n",
    "lists are generally helpful and responsive to questions. Some to take a look at include:\n",
    "• pydata: A Google Group list for questions related to Python for data analysis and\n",
    "pandas\n",
    "• pystatsmodels: For statsmodels or pandas-related questions\n",
    "• Mailing list for scikit-learn (scikit-learn@python.org) and machine learning in\n",
    "Python, generally\n",
    "• numpy-discussion: For NumPy-related questions\n",
    "• scipy-user: For general SciPy or scientific Python questions\n",
    "I deliberately did not post URLs for these in case they change. They can be easily\n",
    "located via an internet search.\n",
    "Each year many conferences are held all over the world for Python programmers. If\n",
    "you would like to connect with other Python programmers who share your interests,\n",
    "I encourage you to explore attending one, if possible. Many conferences have finan‐\n",
    "cial support available for those who cannot afford admission or travel to the confer‐\n",
    "ence. Here are some to consider:\n",
    "• PyCon and EuroPython: The two main general Python conferences in North\n",
    "America and Europe, respectively\n",
    "• SciPy and EuroSciPy: Scientific-computing-oriented conferences in North Amer‐\n",
    "ica and Europe, respectively\n",
    "• PyData: A worldwide series of regional conferences targeted at data science and\n",
    "data analysis use cases\n",
    "• International and regional PyCon conferences (see http://pycon.org for a com‐\n",
    "plete listing)"
   ]
  },
  {
   "cell_type": "markdown",
   "id": "dbe6bef9",
   "metadata": {
    "slideshow": {
     "slide_type": "slide"
    }
   },
   "source": [
    "1.6 Navigating This Book\n",
    "If you have never programmed in Python before, you will want to spend some time in\n",
    "Chapters 2 and 3, where I have placed a condensed tutorial on Python language fea‐\n",
    "tures and the IPython shell and Jupyter notebooks. These things are prerequisite\n",
    "12 | Chapter 1: Preliminaries\n",
    "knowledge for the remainder of the book. If you have Python experience already, you\n",
    "may instead choose to skim or skip these chapters.\n",
    "Next, I give a short introduction to the key features of NumPy, leaving more\n",
    "advanced NumPy use for Appendix A. Then, I introduce pandas and devote the rest\n",
    "of the book to data analysis topics applying pandas, NumPy, and matplotlib (for visu‐\n",
    "alization). I have structured the material in the most incremental way possible,\n",
    "though there is occasionally some minor cross-over between chapters, with a few iso‐\n",
    "lated cases where concepts are used that haven’t necessarily been introduced yet.\n",
    "While readers may have many different end goals for their work, the tasks required\n",
    "generally fall into a number of different broad groups:\n",
    "Interacting with the outside world\n",
    "Reading and writing with a variety of file formats and data stores\n",
    "Preparation\n",
    "Cleaning, munging, combining, normalizing, reshaping, slicing and dicing, and\n",
    "transforming data for analysis\n",
    "Transformation\n",
    "Applying mathematical and statistical operations to groups of datasets to derive\n",
    "new datasets (e.g., aggregating a large table by group variables)\n",
    "Modeling and computation\n",
    "Connecting your data to statistical models, machine learning algorithms, or other\n",
    "computational tools"
   ]
  },
  {
   "cell_type": "markdown",
   "id": "e84a36ea",
   "metadata": {
    "slideshow": {
     "slide_type": "slide"
    }
   },
   "source": [
    "*Presentation*    \n",
    "Creating interactive or static graphical visualizations or textual summaries. "
   ]
  },
  {
   "cell_type": "markdown",
   "id": "b2635b74",
   "metadata": {
    "slideshow": {
     "slide_type": "slide"
    }
   },
   "source": [
    "## Code Examples"
   ]
  },
  {
   "cell_type": "markdown",
   "id": "57368fae",
   "metadata": {
    "slideshow": {
     "slide_type": "slide"
    }
   },
   "source": [
    "Most of the code examples in the book are shown with input and output as it would\n",
    "appear executed in the IPython shell or in Jupyter notebooks:\n",
    "In [5]: CODE EXAMPLE\n",
    "Out[5]: OUTPUT\n",
    "When you see a code example like this, the intent is for you to type in the example\n",
    "code in the In block in your coding environment and execute it by pressing the Enter\n",
    "key (or Shift-Enter in Jupyter). You should see output similar to what is shown in the\n",
    "Out block."
   ]
  },
  {
   "cell_type": "markdown",
   "id": "4edefb4a",
   "metadata": {
    "slideshow": {
     "slide_type": "slide"
    }
   },
   "source": [
    "## Data for Examples"
   ]
  },
  {
   "cell_type": "markdown",
   "id": "5efa055f",
   "metadata": {
    "slideshow": {
     "slide_type": "slide"
    }
   },
   "source": [
    "Datasets for the examples in each chapter are hosted in a GitHub repository. You can\n",
    "download this data either by using the Git version control system on the command\n",
    "1.6 Navigating This Book | 13\n",
    "line or by downloading a zip file of the repository from the website. If you run into\n",
    "problems, navigate to my website for up-to-date instructions about obtaining the\n",
    "book materials.\n",
    "I have made every effort to ensure that it contains everything necessary to reproduce\n",
    "the examples, but I may have made some mistakes or omissions. If so, please send me\n",
    "an email: book@wesmckinney.com. The best way to report errors in the book is on the\n",
    "errata page on the O’Reilly website."
   ]
  },
  {
   "cell_type": "markdown",
   "id": "25f24c99",
   "metadata": {
    "slideshow": {
     "slide_type": "slide"
    }
   },
   "source": [
    "## Import Conventions"
   ]
  },
  {
   "cell_type": "markdown",
   "id": "c0c7c887",
   "metadata": {
    "slideshow": {
     "slide_type": "slide"
    }
   },
   "source": [
    "The Python community has adopted a number of naming conventions for commonly\n",
    "used modules:\n",
    "import numpy as np\n",
    "import matplotlib.pyplot as plt\n",
    "import pandas as pd\n",
    "import seaborn as sns\n",
    "import statsmodels as sm\n",
    "This means that when you see np.arange, this is a reference to the arange function in\n",
    "NumPy. This is done because it’s considered bad practice in Python software develop‐\n",
    "ment to import everything (from numpy import *) from a large package like NumPy.\n",
    "Jargon\n",
    "I’ll use some terms common both to programming and data science that you may not\n",
    "be familiar with. Thus, here are some brief definitions:\n",
    "Munge/munging/wrangling\n",
    "Describes the overall process of manipulating unstructured and/or messy data\n",
    "into a structured or clean form. The word has snuck its way into the jargon of\n",
    "many modern-day data hackers. “Munge” rhymes with “grunge.”\n",
    "Pseudocode\n",
    "A description of an algorithm or process that takes a code-like form while likely\n",
    "not being actual valid source code.\n",
    "Syntactic sugar\n",
    "Programming syntax that does not add new features, but makes something more\n",
    "convenient or easier to type"
   ]
  },
  {
   "cell_type": "markdown",
   "id": "207a4390",
   "metadata": {
    "slideshow": {
     "slide_type": "slide"
    }
   },
   "source": [
    "# CHAPTER 2"
   ]
  },
  {
   "cell_type": "markdown",
   "id": "40a679a6",
   "metadata": {
    "slideshow": {
     "slide_type": "slide"
    }
   },
   "source": [
    "# Python Language Basics, IPython, and Jupyter Notebooks"
   ]
  },
  {
   "cell_type": "markdown",
   "id": "825d73cf",
   "metadata": {
    "slideshow": {
     "slide_type": "slide"
    }
   },
   "source": [
    "When I wrote the first edition of this book in 2011 and 2012, there were fewer resources available for learning about doing data analysis in Python. "
   ]
  },
  {
   "cell_type": "markdown",
   "id": "a207cae4",
   "metadata": {
    "slideshow": {
     "slide_type": "slide"
    }
   },
   "source": [
    "This was partially a chicken-and-egg problem; many libraries that we now take for granted, like pandas, scikit-learn, and statsmodels, were comparatively immature back then. "
   ]
  },
  {
   "cell_type": "markdown",
   "id": "fbc88452",
   "metadata": {
    "slideshow": {
     "slide_type": "slide"
    }
   },
   "source": [
    "In 2017, there is now a growing literature on data science, data analysis, and machine learning, supplementing the prior works on general-purpose scientific computing geared toward computational scientists, physicists, and professionals in other research fields. "
   ]
  },
  {
   "cell_type": "markdown",
   "id": "9d264891",
   "metadata": {
    "slideshow": {
     "slide_type": "slide"
    }
   },
   "source": [
    "There are also excellent books about learning the Python programming language itself and becoming an effective software engineer."
   ]
  },
  {
   "cell_type": "markdown",
   "id": "2d264aa2",
   "metadata": {
    "slideshow": {
     "slide_type": "slide"
    }
   },
   "source": [
    "As this book is intended as an introductory text in working with data in Python, I feel it is valuable to have a self-contained overview of some of the most important features of Python’s built-in data structures and libraries from the perspective of data\n",
    "manipulation. "
   ]
  },
  {
   "cell_type": "markdown",
   "id": "532978d3",
   "metadata": {
    "slideshow": {
     "slide_type": "slide"
    }
   },
   "source": [
    "So, I will only present roughly enough information in this chapter and Chapter 3 to enable you to follow along with the rest of the book."
   ]
  },
  {
   "cell_type": "markdown",
   "id": "e92425b2",
   "metadata": {
    "slideshow": {
     "slide_type": "slide"
    }
   },
   "source": [
    "In my opinion, it is not necessary to become proficient at building good software in Python to be able to productively do data analysis. "
   ]
  },
  {
   "cell_type": "markdown",
   "id": "db213e27",
   "metadata": {
    "slideshow": {
     "slide_type": "slide"
    }
   },
   "source": [
    "I encourage you to use the IPython shell and Jupyter notebooks to experiment with the code examples and to explore the documentation for the various types, functions, and methods. "
   ]
  },
  {
   "cell_type": "markdown",
   "id": "27666965",
   "metadata": {
    "slideshow": {
     "slide_type": "slide"
    }
   },
   "source": [
    "While I’ve made best efforts to present the book material in an incremental form, you may occasionally encounter things that have not yet been fully introduced."
   ]
  },
  {
   "cell_type": "markdown",
   "id": "992fe773",
   "metadata": {
    "slideshow": {
     "slide_type": "slide"
    }
   },
   "source": [
    "Much of this book focuses on table-based analytics and data preparation tools for\n",
    "working with large datasets. In order to use those tools you must often first do some\n",
    "munging to corral messy data into a more nicely tabular (or structured) form. Fortu‐\n",
    "nately, Python is an ideal language for rapidly whipping your data into shape. The greater your facility with Python the language, the easier it will be for you to prepare\n",
    "new datasets for analysis."
   ]
  },
  {
   "cell_type": "markdown",
   "id": "6bebf59c",
   "metadata": {
    "slideshow": {
     "slide_type": "slide"
    }
   },
   "source": [
    "Some of the tools in this book are best explored from a live IPython or Jupyter session. "
   ]
  },
  {
   "cell_type": "markdown",
   "id": "d1814128",
   "metadata": {
    "slideshow": {
     "slide_type": "slide"
    }
   },
   "source": [
    "Once you learn how to start up IPython and Jupyter, I recommend that you follow along with the examples so you can experiment and try different things. "
   ]
  },
  {
   "cell_type": "markdown",
   "id": "84d242b3",
   "metadata": {
    "slideshow": {
     "slide_type": "slide"
    }
   },
   "source": [
    "As with any keyboard-driven console-like environment, developing muscle-memory for the common commands is also part of the learning curve."
   ]
  },
  {
   "cell_type": "markdown",
   "id": "0bd1fd11",
   "metadata": {
    "slideshow": {
     "slide_type": "slide"
    }
   },
   "source": [
    "There are introductory Python concepts that this chapter does not cover, like classes and object-oriented programming, which you\n",
    "may find useful in your foray into data analysis in Python."
   ]
  },
  {
   "cell_type": "markdown",
   "id": "40077869",
   "metadata": {
    "slideshow": {
     "slide_type": "slide"
    }
   },
   "source": [
    "To deepen your Python language knowledge, I recommend that you supplement this chapter with the official Python tutorial and\n",
    "potentially one of the many excellent books on general-purpose Python programming. "
   ]
  },
  {
   "cell_type": "markdown",
   "id": "7e4b759b",
   "metadata": {
    "slideshow": {
     "slide_type": "slide"
    }
   },
   "source": [
    "Some recommendations to get you started include:"
   ]
  },
  {
   "cell_type": "markdown",
   "id": "8d70df81",
   "metadata": {
    "slideshow": {
     "slide_type": "slide"
    }
   },
   "source": [
    "• Python Cookbook, Third Edition, by David Beazley and Brian\n",
    "K. Jones (O’Reilly)\n",
    "• Fluent Python by Luciano Ramalho (O’Reilly)\n",
    "• Effective Python by Brett Slatkin (Pearson)"
   ]
  },
  {
   "cell_type": "markdown",
   "id": "22eacd52",
   "metadata": {
    "slideshow": {
     "slide_type": "slide"
    }
   },
   "source": [
    "## 2.1 The Python Interpreter"
   ]
  },
  {
   "cell_type": "markdown",
   "id": "8baf6c69",
   "metadata": {
    "slideshow": {
     "slide_type": "slide"
    }
   },
   "source": [
    "Python is an interpreted language. The Python interpreter runs a program by execut‐\n",
    "ing one statement at a time. The standard interactive Python interpreter can be\n",
    "invoked on the command line with the python command:\n",
    "$ python\n",
    "Python 3.6.0 | packaged by conda-forge | (default, Jan 13 2017, 23:17:12)\n",
    "[GCC 4.8.2 20140120 (Red Hat 4.8.2-15)] on linux\n",
    "Type \"help\", \"copyright\", \"credits\" or \"license\" for more information.\n",
    ">>> a = 5\n",
    ">>> print(a)\n",
    "5\n",
    "The >>> you see is the prompt where you’ll type code expressions. To exit the Python\n",
    "interpreter and return to the command prompt, you can either type exit() or press\n",
    "Ctrl-D.\n",
    "Running Python programs is as simple as calling python with a .py file as its first\n",
    "argument. Suppose we had created hello_world.py with these contents:\n",
    "print('Hello world')\n",
    "16 | Chapter 2: Python Language Basics, IPython, and Jupyter Notebooks\n",
    "You can run it by executing the following command (the hello_world.py file must be\n",
    "in your current working terminal directory):\n",
    "$ python hello_world.py\n",
    "Hello world\n",
    "While some Python programmers execute all of their Python code in this way, those\n",
    "doing data analysis or scientific computing make use of IPython, an enhanced Python\n",
    "interpreter, or Jupyter notebooks, web-based code notebooks originally created\n",
    "within the IPython project. I give an introduction to using IPython and Jupyter in\n",
    "this chapter and have included a deeper look at IPython functionality in Appendix A. \n",
    "When you use the %run command, IPython executes the code in the specified file in\n",
    "the same process, enabling you to explore the results interactively when it’s done:\n",
    "$ ipython\n",
    "Python 3.6.0 | packaged by conda-forge | (default, Jan 13 2017, 23:17:12)\n",
    "Type \"copyright\", \"credits\" or \"license\" for more information.\n",
    "IPython 5.1.0 -- An enhanced Interactive Python.\n",
    "? -> Introduction and overview of IPython's features.\n",
    "%quickref -> Quick reference.\n",
    "help -> Python's own help system.\n",
    "object? -> Details about 'object', use 'object??' for extra details.\n",
    "In [1]: %run hello_world.py\n",
    "Hello world\n",
    "In [2]:\n",
    "The default IPython prompt adopts the numbered In [2]: style compared with the\n",
    "standard >>> prompt."
   ]
  },
  {
   "cell_type": "code",
   "execution_count": null,
   "id": "d25c66b7",
   "metadata": {},
   "outputs": [],
   "source": []
  },
  {
   "cell_type": "code",
   "execution_count": null,
   "id": "719666e2",
   "metadata": {},
   "outputs": [],
   "source": []
  },
  {
   "cell_type": "code",
   "execution_count": null,
   "id": "40b9ca97",
   "metadata": {},
   "outputs": [],
   "source": []
  },
  {
   "cell_type": "code",
   "execution_count": null,
   "id": "e9a427d7",
   "metadata": {
    "slideshow": {
     "slide_type": "slide"
    }
   },
   "outputs": [],
   "source": []
  },
  {
   "cell_type": "code",
   "execution_count": null,
   "id": "c007e18f",
   "metadata": {
    "slideshow": {
     "slide_type": "slide"
    }
   },
   "outputs": [],
   "source": []
  },
  {
   "cell_type": "code",
   "execution_count": null,
   "id": "6d27eea7",
   "metadata": {},
   "outputs": [],
   "source": []
  },
  {
   "cell_type": "code",
   "execution_count": null,
   "id": "f0452bdc",
   "metadata": {},
   "outputs": [],
   "source": []
  },
  {
   "cell_type": "code",
   "execution_count": null,
   "id": "f38626ef",
   "metadata": {},
   "outputs": [],
   "source": []
  },
  {
   "cell_type": "code",
   "execution_count": null,
   "id": "884002d0",
   "metadata": {},
   "outputs": [],
   "source": []
  },
  {
   "cell_type": "code",
   "execution_count": null,
   "id": "5a2324d9",
   "metadata": {},
   "outputs": [],
   "source": []
  },
  {
   "cell_type": "code",
   "execution_count": null,
   "id": "05c96d3f",
   "metadata": {},
   "outputs": [],
   "source": []
  },
  {
   "cell_type": "code",
   "execution_count": null,
   "id": "9a314604",
   "metadata": {},
   "outputs": [],
   "source": []
  },
  {
   "cell_type": "code",
   "execution_count": null,
   "id": "03d5e7f2",
   "metadata": {},
   "outputs": [],
   "source": []
  },
  {
   "cell_type": "code",
   "execution_count": null,
   "id": "8b782ec5",
   "metadata": {
    "slideshow": {
     "slide_type": "slide"
    }
   },
   "outputs": [],
   "source": []
  },
  {
   "cell_type": "markdown",
   "id": "2c8946fe",
   "metadata": {
    "slideshow": {
     "slide_type": "slide"
    }
   },
   "source": [
    "## Referencias  \n",
    "\n",
    "Guía del usuario de scipy: https://docs.scipy.org/doc/scipy/tutorial/general.html  "
   ]
  },
  {
   "cell_type": "code",
   "execution_count": null,
   "id": "1da6af9d",
   "metadata": {},
   "outputs": [],
   "source": []
  }
 ],
 "metadata": {
  "celltoolbar": "Slideshow",
  "kernelspec": {
   "display_name": "Python 3 (ipykernel)",
   "language": "python",
   "name": "python3"
  },
  "language_info": {
   "codemirror_mode": {
    "name": "ipython",
    "version": 3
   },
   "file_extension": ".py",
   "mimetype": "text/x-python",
   "name": "python",
   "nbconvert_exporter": "python",
   "pygments_lexer": "ipython3",
   "version": "3.9.12"
  },
  "rise": {
   "theme": "sky"
  }
 },
 "nbformat": 4,
 "nbformat_minor": 5
}
