{
 "cells": [
  {
   "cell_type": "markdown",
   "id": "5ec8eb18",
   "metadata": {
    "slideshow": {
     "slide_type": "slide"
    }
   },
   "source": [
    "<table align=\"left\">\n",
    "  <td>\n",
    "    <a href=\"https://colab.research.google.com/github/marco-canas/camino-udea/blob/main/0_diagnostico/diagnos_prueba_inicial_pivu/41.ipynb\" target=\"_parent\"><img src=\"https://colab.research.google.com/assets/colab-badge.svg\" alt=\"Open In Colab\"/></a>\n",
    "  </td>\n",
    "</table>"
   ]
  },
  {
   "cell_type": "markdown",
   "id": "2b96c667",
   "metadata": {
    "slideshow": {
     "slide_type": "slide"
    }
   },
   "source": [
    "# Capítulo 1 Python for data analysis "
   ]
  },
  {
   "cell_type": "markdown",
   "id": "cc22d149",
   "metadata": {
    "slideshow": {
     "slide_type": "slide"
    }
   },
   "source": [
    "## Preliminares "
   ]
  },
  {
   "cell_type": "markdown",
   "id": "100daadd",
   "metadata": {
    "slideshow": {
     "slide_type": "slide"
    }
   },
   "source": [
    "## 1.1 ¿De qué trata este libro?"
   ]
  },
  {
   "cell_type": "markdown",
   "id": "95ddcc77",
   "metadata": {
    "slideshow": {
     "slide_type": "slide"
    }
   },
   "source": [
    "Este libro se ocupa de los aspectos básicos de la manipulación, el procesamiento, la limpieza y el procesamiento de datos en Python."
   ]
  },
  {
   "cell_type": "markdown",
   "id": "ed57d8a8",
   "metadata": {
    "slideshow": {
     "slide_type": "slide"
    }
   },
   "source": [
    "Mi objetivo es ofrecer una guía de las partes del lenguaje de programación Python y su ecosistema de biblioteca orientada a datos y herramientas que lo equiparán para convertirse en un analista de datos efectivo."
   ]
  },
  {
   "cell_type": "markdown",
   "id": "18558cd9",
   "metadata": {
    "slideshow": {
     "slide_type": "slide"
    }
   },
   "source": [
    "Si bien el \"análisis de datos\" se encuentra en el título del libro, el enfoque se centra específicamente en la programación, las bibliotecas y las herramientas de Python en lugar de la metodología de análisis de datos."
   ]
  },
  {
   "cell_type": "markdown",
   "id": "8109b023",
   "metadata": {
    "slideshow": {
     "slide_type": "slide"
    }
   },
   "source": [
    "Esta es la programación de Python que necesita para el análisis de datos."
   ]
  },
  {
   "cell_type": "markdown",
   "id": "c5a202a6",
   "metadata": {
    "slideshow": {
     "slide_type": "slide"
    }
   },
   "source": [
    "## ¿Qué tipo de datos?"
   ]
  },
  {
   "cell_type": "markdown",
   "id": "ff831e49",
   "metadata": {
    "slideshow": {
     "slide_type": "slide"
    }
   },
   "source": [
    "Cuando digo \"datos\", ¿a qué me refiero exactamente? El enfoque principal está en los datos estructurados, un término deliberadamente vago que abarca muchas formas comunes diferentes de datos, como:"
   ]
  },
  {
   "cell_type": "markdown",
   "id": "b6b64fe3",
   "metadata": {
    "slideshow": {
     "slide_type": "slide"
    }
   },
   "source": [
    "* Datos tabulares o similares a una hoja de cálculo en los que cada columna puede ser de un tipo diferente (cadena, numérico, fecha u otro). Esto incluye la mayoría de los tipos de datos comúnmente almacenados en bases de datos relacionales o archivos de texto delimitados por tabulaciones o comas."
   ]
  },
  {
   "cell_type": "markdown",
   "id": "72b37a4d",
   "metadata": {
    "slideshow": {
     "slide_type": "slide"
    }
   },
   "source": [
    "* Arrays multidimensionales (matrices)."
   ]
  },
  {
   "cell_type": "markdown",
   "id": "848c6cb5",
   "metadata": {
    "slideshow": {
     "slide_type": "slide"
    }
   },
   "source": [
    "* Múltiples tablas de datos interrelacionados por columnas clave (lo que serían claves primarias o foráneas para un usuario de SQL)."
   ]
  },
  {
   "cell_type": "markdown",
   "id": "64ce21f1",
   "metadata": {
    "slideshow": {
     "slide_type": "slide"
    }
   },
   "source": [
    "* Series de tiempo uniforme o desigualmente espaciadas."
   ]
  },
  {
   "cell_type": "markdown",
   "id": "04a41a42",
   "metadata": {
    "slideshow": {
     "slide_type": "slide"
    }
   },
   "source": [
    "Esto no es de ninguna manera una lista completa. Aunque no siempre sea obvio, un gran porcentaje de conjuntos de datos se puede transformar en una forma estructurada que sea más adecuada para el análisis y el modelado. De lo contrario, es posible extraer características de un conjunto de datos en un formulario estructurado. Como ejemplo, una colección de artículos de noticias podría procesarse en una tabla de frecuencia de palabras, que luego podría usarse para realizar un análisis de sentimiento."
   ]
  },
  {
   "cell_type": "markdown",
   "id": "ea5f8b95",
   "metadata": {
    "slideshow": {
     "slide_type": "slide"
    }
   },
   "source": [
    "La mayoría de los usuarios de programas de hojas de cálculo como Microsoft Excel, quizás la herramienta de análisis de datos más utilizada en el mundo, no serán ajenos a este tipo de datos."
   ]
  },
  {
   "cell_type": "markdown",
   "id": "c18e039b",
   "metadata": {
    "slideshow": {
     "slide_type": "slide"
    }
   },
   "source": [
    "## 1.2 ¿Por qué Python para el análisis de datos?"
   ]
  },
  {
   "cell_type": "markdown",
   "id": "4f5cf931",
   "metadata": {
    "slideshow": {
     "slide_type": "slide"
    }
   },
   "source": [
    "Para muchas personas, el lenguaje de programación Python tiene un gran atractivo. "
   ]
  },
  {
   "cell_type": "markdown",
   "id": "fbdbb4ac",
   "metadata": {
    "slideshow": {
     "slide_type": "slide"
    }
   },
   "source": [
    "Desde su primera aparición en 1991, Python se ha convertido en uno de los lenguajes de programación interpretados más populares, junto con Perl, Ruby y otros."
   ]
  },
  {
   "cell_type": "markdown",
   "id": "b2595a87",
   "metadata": {
    "slideshow": {
     "slide_type": "slide"
    }
   },
   "source": [
    "Python y Ruby se han vuelto especialmente populares desde 2005 aproximadamente para crear sitios web utilizando sus numerosos marcos web, como Rails (Ruby) y Django (Python). "
   ]
  },
  {
   "cell_type": "markdown",
   "id": "c2a62847",
   "metadata": {
    "slideshow": {
     "slide_type": "slide"
    }
   },
   "source": [
    "Tales lenguajes son a menudo llamados lenguajes de secuencias de comandos, ya que se pueden usar para escribir rápidamente pequeños programas o secuencias de comandos para automatizar otras tareas. No me gusta el término \"lenguaje de secuencias de comandos\", ya que conlleva la connotación de que no se pueden usar para crear software serio. Entre lenguajes interpretados, por varias razones históricas y culturales, Python ha desarrollado una gran y activa comunidad científica de computación y análisis de datos. "
   ]
  },
  {
   "cell_type": "markdown",
   "id": "ab06ce03",
   "metadata": {
    "slideshow": {
     "slide_type": "slide"
    }
   },
   "source": [
    "En el último 10 años, Python ha pasado de ser un lenguaje informático científico de vanguardia o \"bajo su propio riesgo\" a uno de los lenguajes más importantes para la ciencia de datos, máquina aprendizaje y desarrollo de software en general en la academia y la industria."
   ]
  },
  {
   "cell_type": "markdown",
   "id": "fe0b34d2",
   "metadata": {
    "slideshow": {
     "slide_type": "slide"
    }
   },
   "source": [
    "Para el análisis de datos y la computación interactiva y la visualización de datos, Python inevitablemente establecerá comparaciones con otros lenguajes y herramientas de programación comerciales y de código abierto de amplio uso, como R, MATLAB, SAS, Stata y otros."
   ]
  },
  {
   "cell_type": "markdown",
   "id": "f124b330",
   "metadata": {
    "slideshow": {
     "slide_type": "slide"
    }
   },
   "source": [
    "En los últimos años, el soporte mejorado de Python para bibliotecas (como pandas y scikit-learn) lo ha convertido en una opción popular para las tareas de análisis de datos. Combinado con la fortaleza general de Python para la ingeniería de software de propósito general, es una excelente opción como lenguaje principal para crear aplicaciones de datos."
   ]
  },
  {
   "cell_type": "markdown",
   "id": "985b9fb9",
   "metadata": {
    "slideshow": {
     "slide_type": "slide"
    }
   },
   "source": [
    "## Python como pegamento"
   ]
  },
  {
   "cell_type": "markdown",
   "id": "066acf08",
   "metadata": {
    "slideshow": {
     "slide_type": "slide"
    }
   },
   "source": [
    "Parte del éxito de Python en la computación científica es la facilidad de integrar código C, C++ y FORTRAN. "
   ]
  },
  {
   "cell_type": "markdown",
   "id": "58896304",
   "metadata": {
    "slideshow": {
     "slide_type": "slide"
    }
   },
   "source": [
    "La mayoría de los entornos informáticos modernos comparten un conjunto similar de bibliotecas FORTRAN y C heredadas para realizar álgebra lineal, optimización, integración, transformadas rápidas de Fourier y otros algoritmos similares."
   ]
  },
  {
   "cell_type": "markdown",
   "id": "99ce26e9",
   "metadata": {
    "slideshow": {
     "slide_type": "slide"
    }
   },
   "source": [
    "La misma historia ha sido válida para muchas empresas y laboratorios nacionales que han utilizado Python para unir décadas de software heredado."
   ]
  },
  {
   "cell_type": "markdown",
   "id": "6e8064cc",
   "metadata": {
    "slideshow": {
     "slide_type": "slide"
    }
   },
   "source": [
    "Muchos programas consisten en pequeñas porciones de código en las que se gasta la mayor parte del tiempo, con grandes cantidades de \"código adhesivo\" que no se ejecuta con frecuencia. "
   ]
  },
  {
   "cell_type": "markdown",
   "id": "e2afe11f",
   "metadata": {
    "slideshow": {
     "slide_type": "slide"
    }
   },
   "source": [
    "En muchos casos, el tiempo de ejecución del código adhesivo es insignificante; el esfuerzo se invierte de manera más fructífera en optimizar los cuellos de botella computacionales, a veces moviendo el código a un lenguaje de nivel inferior como C."
   ]
  },
  {
   "cell_type": "markdown",
   "id": "49ee1c12",
   "metadata": {
    "slideshow": {
     "slide_type": "slide"
    }
   },
   "source": [
    "## Resolviendo el problema de los \"dos lenguajes\""
   ]
  },
  {
   "cell_type": "markdown",
   "id": "a2a42b93",
   "metadata": {
    "slideshow": {
     "slide_type": "slide"
    }
   },
   "source": [
    "En muchas organizaciones, es común investigar, crear prototipos y probar nuevas ideas usando un lenguaje informático más especializado como SAS o R y luego trasladar esas ideas para que formen parte de un sistema de producción más grande escrito, por ejemplo, en Java, C# o C++. "
   ]
  },
  {
   "cell_type": "markdown",
   "id": "f974f778",
   "metadata": {
    "slideshow": {
     "slide_type": "slide"
    }
   },
   "source": [
    "Lo que la gente encuentra cada vez más es que Python es un lenguaje adecuado no solo para investigar y crear prototipos, sino también para construir los sistemas de producción."
   ]
  },
  {
   "cell_type": "markdown",
   "id": "57f4cfa2",
   "metadata": {
    "slideshow": {
     "slide_type": "slide"
    }
   },
   "source": [
    "¿Por qué mantener dos entornos de desarrollo cuando uno es suficiente? "
   ]
  },
  {
   "cell_type": "markdown",
   "id": "71e53054",
   "metadata": {
    "slideshow": {
     "slide_type": "slide"
    }
   },
   "source": [
    "Creo que cada vez más empresas seguirán este camino, ya que a menudo hay beneficios organizacionales significativos al tener tanto investigadores como ingenieros de software usando el mismo conjunto de herramientas de programación."
   ]
  },
  {
   "cell_type": "markdown",
   "id": "7458af9e",
   "metadata": {
    "slideshow": {
     "slide_type": "slide"
    }
   },
   "source": [
    "# ¿Por qué no Python?"
   ]
  },
  {
   "cell_type": "markdown",
   "id": "c4863808",
   "metadata": {
    "slideshow": {
     "slide_type": "slide"
    }
   },
   "source": [
    "Si bien Python es un entorno excelente para crear muchos tipos de aplicaciones analíticas y sistemas de uso general, hay una serie de usos para los que Python puede ser menos adecuado."
   ]
  },
  {
   "cell_type": "markdown",
   "id": "22d276e5",
   "metadata": {
    "slideshow": {
     "slide_type": "slide"
    }
   },
   "source": [
    "Como Python es un lenguaje de programación interpretado, en general, la mayoría del código de Python se ejecutará considerablemente más lento que el código escrito en un lenguaje compilado como Java o C++."
   ]
  },
  {
   "cell_type": "markdown",
   "id": "0bd166bb",
   "metadata": {
    "slideshow": {
     "slide_type": "slide"
    }
   },
   "source": [
    "Como el tiempo del programador suele ser más valioso que el tiempo de la CPU, muchos están felices de hacer este intercambio."
   ]
  },
  {
   "cell_type": "markdown",
   "id": "ca22788f",
   "metadata": {
    "slideshow": {
     "slide_type": "slide"
    }
   },
   "source": [
    "Sin embargo, en una aplicación con una latencia muy baja o requisitos exigentes de utilización de recursos (por ejemplo, un sistema comercial de alta frecuencia), el tiempo dedicado a programar en un lenguaje de nivel inferior (pero también de menor productividad) como C++ para lograr el máximo rendimiento posible podría ser tiempo bien invertido."
   ]
  },
  {
   "cell_type": "markdown",
   "id": "2e2098c5",
   "metadata": {
    "slideshow": {
     "slide_type": "slide"
    }
   },
   "source": [
    "Python puede ser un lenguaje desafiante para crear aplicaciones de subprocesos múltiples altamente concurrentes, particularmente aplicaciones con muchos subprocesos vinculados a la CPU."
   ]
  },
  {
   "cell_type": "markdown",
   "id": "34e0b0aa",
   "metadata": {
    "slideshow": {
     "slide_type": "slide"
    }
   },
   "source": [
    "La razón de esto es que tiene lo que se conoce como bloqueo global del intérprete (GIL), un mecanismo que evita que el intérprete ejecute más de una instrucción de Python a la vez."
   ]
  },
  {
   "cell_type": "markdown",
   "id": "eededfe8",
   "metadata": {
    "slideshow": {
     "slide_type": "slide"
    }
   },
   "source": [
    "Las razones técnicas de por qué existe el GIL están más allá del alcance de este libro."
   ]
  },
  {
   "cell_type": "markdown",
   "id": "bf9efc5b",
   "metadata": {
    "slideshow": {
     "slide_type": "slide"
    }
   },
   "source": [
    "Si bien es cierto que en muchas aplicaciones de procesamiento de big data, se puede requerir un grupo de computadoras para procesar un conjunto de datos en una cantidad de tiempo razonable, todavía hay situaciones en las que es deseable un sistema de proceso único y multiproceso."
   ]
  },
  {
   "cell_type": "markdown",
   "id": "4d2313cf",
   "metadata": {
    "slideshow": {
     "slide_type": "slide"
    }
   },
   "source": [
    "Esto no quiere decir que Python no pueda ejecutar código paralelo verdaderamente multiproceso."
   ]
  },
  {
   "cell_type": "markdown",
   "id": "dea45c5d",
   "metadata": {
    "slideshow": {
     "slide_type": "slide"
    }
   },
   "source": [
    "Las extensiones de Python C que usan subprocesos múltiples nativos (en C o C++) pueden ejecutar código en paralelo sin verse afectadas por la GIL, siempre que no necesiten interactuar regularmente con objetos de Python."
   ]
  },
  {
   "cell_type": "markdown",
   "id": "177f207c",
   "metadata": {
    "slideshow": {
     "slide_type": "slide"
    }
   },
   "source": [
    "## 1.3 Bibliotecas esenciales de Python"
   ]
  },
  {
   "cell_type": "markdown",
   "id": "34b3c901",
   "metadata": {
    "slideshow": {
     "slide_type": "slide"
    }
   },
   "source": [
    "Para aquellos que están menos familiarizados con el ecosistema de datos de Python y las bibliotecas utilizadas a lo largo del libro, daré una breve descripción general de algunas de ellas."
   ]
  },
  {
   "cell_type": "markdown",
   "id": "f038d5c2",
   "metadata": {
    "slideshow": {
     "slide_type": "slide"
    }
   },
   "source": [
    "# NumPy"
   ]
  },
  {
   "cell_type": "markdown",
   "id": "3e6d06e9",
   "metadata": {
    "slideshow": {
     "slide_type": "slide"
    }
   },
   "source": [
    "NumPy, abreviatura de Numerical Python, ha sido durante mucho tiempo una piedra angular de la computación numérica en Python."
   ]
  },
  {
   "cell_type": "markdown",
   "id": "03b8bbe2",
   "metadata": {
    "slideshow": {
     "slide_type": "slide"
    }
   },
   "source": [
    "Proporciona las estructuras de datos, los algoritmos y el pegamento de biblioteca necesarios para la mayoría de las aplicaciones científicas que involucran datos numéricos en Python."
   ]
  },
  {
   "cell_type": "markdown",
   "id": "22271690",
   "metadata": {
    "slideshow": {
     "slide_type": "slide"
    }
   },
   "source": [
    "NumPy contiene, entre otras cosas:"
   ]
  },
  {
   "cell_type": "markdown",
   "id": "51a2a18b",
   "metadata": {
    "slideshow": {
     "slide_type": "slide"
    }
   },
   "source": [
    "* Un ndarray de objetos de matriz multidimensional rápido y eficiente"
   ]
  },
  {
   "cell_type": "markdown",
   "id": "e24feaf1",
   "metadata": {
    "slideshow": {
     "slide_type": "slide"
    }
   },
   "source": [
    "* Funciones para realizar cálculos por elementos con matrices u operaciones matemáticas entre matrices"
   ]
  },
  {
   "cell_type": "markdown",
   "id": "49bb1708",
   "metadata": {
    "slideshow": {
     "slide_type": "slide"
    }
   },
   "source": [
    "* Herramientas para leer y escribir conjuntos de datos basados en matrices en el disco"
   ]
  },
  {
   "cell_type": "markdown",
   "id": "8a6667df",
   "metadata": {
    "slideshow": {
     "slide_type": "slide"
    }
   },
   "source": [
    "* Operaciones de álgebra lineal, transformada de Fourier y generación de números aleatorios"
   ]
  },
  {
   "cell_type": "markdown",
   "id": "e2274d6d",
   "metadata": {
    "slideshow": {
     "slide_type": "slide"
    }
   },
   "source": [
    "* Una API C madura para habilitar las extensiones de Python y el código C o C++ nativo para acceder a las estructuras de datos y las instalaciones computacionales de NumPy. Más allá de las capacidades de procesamiento rápido de matrices que NumPy agrega a Python, uno de sus usos principales en el análisis de datos es como contenedor de datos. para ser pasado entre algoritmos y bibliotecas."
   ]
  },
  {
   "cell_type": "markdown",
   "id": "6430de45",
   "metadata": {
    "slideshow": {
     "slide_type": "slide"
    }
   },
   "source": [
    "Para datos numéricos, las matrices NumPy son más eficientes para almacenar y manipular datos que las otras estructuras de datos integradas de Python."
   ]
  },
  {
   "cell_type": "markdown",
   "id": "b3919417",
   "metadata": {
    "slideshow": {
     "slide_type": "slide"
    }
   },
   "source": [
    "Además, las bibliotecas escritas en un lenguaje de nivel inferior, como C o Fortran, pueden operar con los datos almacenados en una matriz NumPy sin copiar los datos en alguna otra representación de memoria."
   ]
  },
  {
   "cell_type": "markdown",
   "id": "f3a21790",
   "metadata": {
    "slideshow": {
     "slide_type": "slide"
    }
   },
   "source": [
    "Por lo tanto, muchas herramientas de computación numérica para Python asumen arreglos NumPy como una estructura de datos principal o apuntan a una interoperabilidad perfecta con NumPy."
   ]
  },
  {
   "cell_type": "markdown",
   "id": "e701fa77",
   "metadata": {
    "slideshow": {
     "slide_type": "slide"
    }
   },
   "source": [
    "# pandas"
   ]
  },
  {
   "cell_type": "markdown",
   "id": "1e2af9c9",
   "metadata": {
    "slideshow": {
     "slide_type": "slide"
    }
   },
   "source": [
    "pandas proporciona funciones y estructuras de datos de alto nivel diseñadas para hacer que trabajar con datos estructurados o tabulares sea rápido, fácil y expresivo. "
   ]
  },
  {
   "cell_type": "markdown",
   "id": "e5df3548",
   "metadata": {
    "slideshow": {
     "slide_type": "slide"
    }
   },
   "source": [
    "Desde su aparición en 2010, ha ayudado a que Python sea un entorno de análisis de datos poderoso y productivo. "
   ]
  },
  {
   "cell_type": "markdown",
   "id": "90cc960d",
   "metadata": {
    "slideshow": {
     "slide_type": "slide"
    }
   },
   "source": [
    "Los objetos principales en pandas que se utilizarán en este libro son `DataFrame`, una estructura de datos tabular orientada a columnas con etiquetas de fila y columna, y `Series`, un objeto de matriz etiquetado unidimensional."
   ]
  },
  {
   "cell_type": "markdown",
   "id": "61d2a878",
   "metadata": {
    "slideshow": {
     "slide_type": "slide"
    }
   },
   "source": [
    "pandas combina las ideas de computación de matriz de alto rendimiento de NumPy con las capacidades flexibles de manipulación de datos de las hojas de cálculo y las bases de datos relacionales (como SQL). "
   ]
  },
  {
   "cell_type": "markdown",
   "id": "4d187fd0",
   "metadata": {
    "slideshow": {
     "slide_type": "slide"
    }
   },
   "source": [
    "Proporciona una funcionalidad de indexación sofisticada para facilitar la remodelación, el corte y el corte, la realización de agregaciones y la selección de subconjuntos de datos. "
   ]
  },
  {
   "cell_type": "markdown",
   "id": "4e6c1d9d",
   "metadata": {
    "slideshow": {
     "slide_type": "slide"
    }
   },
   "source": [
    "Dado que la manipulación, preparación y limpieza de datos es una habilidad tan importante en el análisis de datos, pandas es uno de los enfoques principales de este libro."
   ]
  },
  {
   "cell_type": "markdown",
   "id": "cf864820",
   "metadata": {
    "slideshow": {
     "slide_type": "slide"
    }
   },
   "source": [
    "Como antecedentes, comencé a construir pandas a principios de 2008 durante mi mandato en AQR Capital Management, una empresa de gestión de inversiones cuantitativas. "
   ]
  },
  {
   "cell_type": "markdown",
   "id": "f9fd3cac",
   "metadata": {
    "slideshow": {
     "slide_type": "slide"
    }
   },
   "source": [
    "En ese momento, tenía un conjunto distinto de requisitos que no estaban bien abordados por ninguna herramienta única en\n",
    "mi disposición:"
   ]
  },
  {
   "cell_type": "markdown",
   "id": "87d7e6c4",
   "metadata": {
    "slideshow": {
     "slide_type": "slide"
    }
   },
   "source": [
    "# matplotlib"
   ]
  },
  {
   "cell_type": "markdown",
   "id": "68cb0b33",
   "metadata": {
    "slideshow": {
     "slide_type": "slide"
    }
   },
   "source": [
    "matplotlib es la biblioteca de Python más popular para producir gráficos y otras visualizaciones de datos bidimensionales."
   ]
  },
  {
   "cell_type": "markdown",
   "id": "013c1b77",
   "metadata": {
    "slideshow": {
     "slide_type": "slide"
    }
   },
   "source": [
    "Originalmente fue creado por John D. Hunter y ahora lo mantiene un gran equipo de desarrolladores. "
   ]
  },
  {
   "cell_type": "markdown",
   "id": "321f16fe",
   "metadata": {
    "slideshow": {
     "slide_type": "slide"
    }
   },
   "source": [
    "Está diseñado para crear parcelas adecuadas para su publicación. "
   ]
  },
  {
   "cell_type": "markdown",
   "id": "818933eb",
   "metadata": {
    "slideshow": {
     "slide_type": "slide"
    }
   },
   "source": [
    "Si bien hay otras bibliotecas de visualización disponibles para los programadores de Python, matplotlib es la más utilizada y, como tal, generalmente tiene una buena integración con el resto del ecosistema. "
   ]
  },
  {
   "cell_type": "markdown",
   "id": "7bfd09b2",
   "metadata": {
    "slideshow": {
     "slide_type": "slide"
    }
   },
   "source": [
    "Creo que es una opción segura como herramienta de visualización predeterminada."
   ]
  },
  {
   "cell_type": "markdown",
   "id": "b3199cd6",
   "metadata": {
    "slideshow": {
     "slide_type": "slide"
    }
   },
   "source": [
    "# IPython y Jupyter"
   ]
  },
  {
   "cell_type": "markdown",
   "id": "b076b779",
   "metadata": {
    "slideshow": {
     "slide_type": "slide"
    }
   },
   "source": [
    "El proyecto IPython comenzó en 2001 como un proyecto paralelo de Fernando Pérez para crear un mejor intérprete interactivo de Python. "
   ]
  },
  {
   "cell_type": "markdown",
   "id": "a0ccd8bb",
   "metadata": {
    "slideshow": {
     "slide_type": "slide"
    }
   },
   "source": [
    "En los siguientes 16 años se ha convertido en una de las herramientas más importantes en la pila de datos moderna de Python. "
   ]
  },
  {
   "cell_type": "markdown",
   "id": "e1b00ea7",
   "metadata": {
    "slideshow": {
     "slide_type": "slide"
    }
   },
   "source": [
    "Si bien no proporciona ninguna herramienta informática o de análisis de datos por sí mismo, IPython está diseñado desde cero para maximizar su productividad tanto en la informática interactiva como en el desarrollo de software. "
   ]
  },
  {
   "cell_type": "markdown",
   "id": "fbbc760d",
   "metadata": {
    "slideshow": {
     "slide_type": "slide"
    }
   },
   "source": [
    "Fomenta un flujo de trabajo de ejecución y exploración en lugar del típico flujo de trabajo de edición, compilación y ejecución de muchos otros lenguajes de programación. "
   ]
  },
  {
   "cell_type": "markdown",
   "id": "57fee202",
   "metadata": {
    "slideshow": {
     "slide_type": "slide"
    }
   },
   "source": [
    "También proporciona fácil acceso al shell y al sistema de archivos de su sistema operativo. "
   ]
  },
  {
   "cell_type": "markdown",
   "id": "58d6d7cb",
   "metadata": {
    "slideshow": {
     "slide_type": "slide"
    }
   },
   "source": [
    "Dado que gran parte de la codificación del análisis de datos implica exploración, prueba y error e iteración, IPython puede ayudarlo a realizar el trabajo más rápido."
   ]
  },
  {
   "cell_type": "markdown",
   "id": "4ece63d3",
   "metadata": {
    "slideshow": {
     "slide_type": "slide"
    }
   },
   "source": [
    "En 2014, Fernando y el equipo de IPython anunciaron el proyecto Jupyter, una iniciativa más amplia para diseñar herramientas informáticas interactivas independientes del lenguaje."
   ]
  },
  {
   "cell_type": "markdown",
   "id": "a00878b9",
   "metadata": {
    "slideshow": {
     "slide_type": "slide"
    }
   },
   "source": [
    "El cuaderno web IPython se convirtió en el cuaderno Jupyter, con soporte ahora para más de 40 lenguajes de programación."
   ]
  },
  {
   "cell_type": "markdown",
   "id": "8c99ce7f",
   "metadata": {
    "slideshow": {
     "slide_type": "slide"
    }
   },
   "source": [
    "El sistema IPython ahora se puede usar como kernel (un modo de lenguaje de programación) para usar Python con Jupyter."
   ]
  },
  {
   "cell_type": "markdown",
   "id": "2bdbde65",
   "metadata": {
    "slideshow": {
     "slide_type": "slide"
    }
   },
   "source": [
    "IPython se ha convertido en un componente del proyecto de código abierto mucho más amplio Jupyter, que proporciona un entorno productivo para la computación interactiva y exploratoria. "
   ]
  },
  {
   "cell_type": "markdown",
   "id": "67691a85",
   "metadata": {
    "slideshow": {
     "slide_type": "slide"
    }
   },
   "source": [
    "Su \"modo\" más antiguo y simple es como un shell de Python mejorado diseñado para acelerar la escritura, prueba y depuración del código de Python."
   ]
  },
  {
   "cell_type": "markdown",
   "id": "d8c551f3",
   "metadata": {
    "slideshow": {
     "slide_type": "slide"
    }
   },
   "source": [
    "También puede usar el sistema IPython a través de Jupyter Notebook, un \"notebook\" de código interactivo basado en la web que ofrece soporte para docenas de lenguajes de programación."
   ]
  },
  {
   "cell_type": "markdown",
   "id": "ee704df5",
   "metadata": {
    "slideshow": {
     "slide_type": "slide"
    }
   },
   "source": [
    "Los cuadernos IPython shell y Jupyter son especialmente útiles para la exploración y visualización de datos."
   ]
  },
  {
   "cell_type": "markdown",
   "id": "6b7bfe91",
   "metadata": {
    "slideshow": {
     "slide_type": "slide"
    }
   },
   "source": [
    "El sistema de cuadernos Jupyter también le permite crear contenido en Markdown y HTML, lo que le brinda un medio para crear documentos enriquecidos con código y texto."
   ]
  },
  {
   "cell_type": "markdown",
   "id": "759cbff3",
   "metadata": {
    "slideshow": {
     "slide_type": "slide"
    }
   },
   "source": [
    "Otros lenguajes de programación también han implementado kernels para Jupyter para permitirle usar lenguajes distintos a Python en Jupyter."
   ]
  },
  {
   "cell_type": "markdown",
   "id": "a6e1ca13",
   "metadata": {
    "slideshow": {
     "slide_type": "slide"
    }
   },
   "source": [
    "Para mí, IPython suele estar involucrado con la mayoría de mi trabajo de Python, incluida la ejecución, la depuración y la prueba del código."
   ]
  },
  {
   "cell_type": "markdown",
   "id": "ce81bf91",
   "metadata": {
    "slideshow": {
     "slide_type": "slide"
    }
   },
   "source": [
    "En los materiales del libro adjunto, encontrará cuadernos Jupyter que contienen todos los ejemplos de código de cada capítulo."
   ]
  },
  {
   "cell_type": "markdown",
   "id": "42686a96",
   "metadata": {
    "slideshow": {
     "slide_type": "slide"
    }
   },
   "source": [
    "# SciPy"
   ]
  },
  {
   "cell_type": "markdown",
   "id": "19d9d1ee",
   "metadata": {
    "slideshow": {
     "slide_type": "slide"
    }
   },
   "source": [
    "SciPy es una colección de paquetes que abordan varios dominios de problemas estándar diferentes en computación científica. "
   ]
  },
  {
   "cell_type": "markdown",
   "id": "d0c5ef5f",
   "metadata": {
    "slideshow": {
     "slide_type": "slide"
    }
   },
   "source": [
    "Aquí hay una muestra de los paquetes incluidos:"
   ]
  },
  {
   "cell_type": "markdown",
   "id": "6a01acd5",
   "metadata": {
    "slideshow": {
     "slide_type": "slide"
    }
   },
   "source": [
    "`scipy.integrate`  \n",
    "Rutinas de integración numérica y solucionadores de ecuaciones diferenciales"
   ]
  },
  {
   "cell_type": "code",
   "execution_count": 1,
   "id": "dd15856c",
   "metadata": {
    "slideshow": {
     "slide_type": "slide"
    }
   },
   "outputs": [],
   "source": [
    "import scipy.integrate as integrate "
   ]
  },
  {
   "cell_type": "code",
   "execution_count": 3,
   "id": "cd543a77",
   "metadata": {
    "slideshow": {
     "slide_type": "slide"
    }
   },
   "outputs": [
    {
     "data": {
      "text/plain": [
       "(0.33333333333333337, 3.700743415417189e-15)"
      ]
     },
     "execution_count": 3,
     "metadata": {},
     "output_type": "execute_result"
    }
   ],
   "source": [
    "integrate.quad(lambda x:x**2,0,1)"
   ]
  },
  {
   "cell_type": "markdown",
   "id": "3f9c8682",
   "metadata": {
    "slideshow": {
     "slide_type": "slide"
    }
   },
   "source": [
    "scipy.linalg\n",
    "Rutinas de álgebra lineal y descomposición de matrices que se extienden más allá de las proporcionadas en numpy.linalg"
   ]
  },
  {
   "cell_type": "markdown",
   "id": "dfe8b981",
   "metadata": {
    "slideshow": {
     "slide_type": "slide"
    }
   },
   "source": [
    "scipy.optimize\n",
    "Optimizadores de funciones (minimizadores) y algoritmos de búsqueda de raíces"
   ]
  },
  {
   "cell_type": "markdown",
   "id": "30326db3",
   "metadata": {
    "slideshow": {
     "slide_type": "slide"
    }
   },
   "source": [
    "`scipy.signal`  \n",
    "Herramientas de procesamiento de señales"
   ]
  },
  {
   "cell_type": "markdown",
   "id": "dee54893",
   "metadata": {
    "slideshow": {
     "slide_type": "slide"
    }
   },
   "source": [
    "`scipy.sparse`  \n",
    "Matrices dispersas y solucionadores de sistemas lineales dispersos"
   ]
  },
  {
   "cell_type": "markdown",
   "id": "a5052e4a",
   "metadata": {
    "slideshow": {
     "slide_type": "slide"
    }
   },
   "source": [
    "`scipy.special`  \n",
    "Envoltorio alrededor de SPECFUN, una biblioteca Fortran que implementa muchas funciones matemáticas, como la función `gamma`."
   ]
  },
  {
   "cell_type": "markdown",
   "id": "e2736921",
   "metadata": {
    "slideshow": {
     "slide_type": "slide"
    }
   },
   "source": [
    "`scipy.stats`  \n",
    "Distribuciones de probabilidad discretas y continuas estándar (funciones de densidad, muestreadores, funciones de distribución continua), varias pruebas estadísticas y estadísticas más descriptivas"
   ]
  },
  {
   "cell_type": "markdown",
   "id": "728f4638",
   "metadata": {
    "slideshow": {
     "slide_type": "slide"
    }
   },
   "source": [
    "Juntos, NumPy y SciPy forman una base computacional razonablemente completa y madura para muchas aplicaciones informáticas científicas tradicionales."
   ]
  },
  {
   "cell_type": "markdown",
   "id": "c35e2018",
   "metadata": {
    "slideshow": {
     "slide_type": "slide"
    }
   },
   "source": [
    "# scikit-learn"
   ]
  },
  {
   "cell_type": "markdown",
   "id": "44943339",
   "metadata": {
    "slideshow": {
     "slide_type": "slide"
    }
   },
   "source": [
    "Desde el inicio del proyecto en 2010, scikit-learn se ha convertido en el principal conjunto de herramientas de aprendizaje automático de propósito general para los programadores de Python. En solo siete años, ha tenido más de 1.500 colaboradores de todo el mundo. Incluye submódulos para modelos como:"
   ]
  },
  {
   "cell_type": "markdown",
   "id": "ece82827",
   "metadata": {
    "slideshow": {
     "slide_type": "slide"
    }
   },
   "source": [
    "• Clasificación: SVM, vecinos más cercanos, bosque aleatorio, regresión logística, etc.\n",
    "• Regresión: Lasso, regresión de cresta, etc.\n",
    "• Clustering: k-means, clustering espectral, etc.\n",
    "• Reducción de dimensionalidad: PCA, selección de características, factorización de matrices, etc.\n",
    "• Selección de modelo: búsqueda en cuadrícula, validación cruzada, métricas\n",
    "• Preprocesamiento: extracción de características, normalización"
   ]
  },
  {
   "cell_type": "markdown",
   "id": "e84b7aaa",
   "metadata": {
    "slideshow": {
     "slide_type": "slide"
    }
   },
   "source": [
    "Junto con pandas, statsmodels e IPython, scikit-learn ha sido fundamental para permitir que Python sea un lenguaje de programación de ciencia de datos productivo. Si bien no podré incluir una guía completa de scikit-learn en este libro, daré una\n",
    "breve introducción a algunos de sus modelos y cómo usarlos con las otras herramientas presentadas en el libro."
   ]
  },
  {
   "cell_type": "markdown",
   "id": "0343db01",
   "metadata": {
    "slideshow": {
     "slide_type": "slide"
    }
   },
   "source": [
    "# statsmodels"
   ]
  },
  {
   "cell_type": "markdown",
   "id": "637793d9",
   "metadata": {
    "slideshow": {
     "slide_type": "slide"
    }
   },
   "source": [
    "statsmodels es un paquete de análisis estadístico que fue iniciado por el trabajo del profesor de estadística de la Universidad de Stanford, Jonathan Taylor, quien implementó una serie de modelos de análisis de regresión populares en el lenguaje de programación R."
   ]
  },
  {
   "cell_type": "markdown",
   "id": "da4db173",
   "metadata": {
    "slideshow": {
     "slide_type": "slide"
    }
   },
   "source": [
    "Skipper Seabold y Josef Perktold crearon formalmente el nuevo proyecto statsmodels en 2010 y desde entonces han hecho crecer el proyecto hasta alcanzar una masa crítica de usuarios y colaboradores comprometidos.\n",
    "\n",
    "Nathaniel Smith desarrolló el proyecto Patsy, que proporciona un marco de especificación de fórmulas o modelos para modelos estadísticos inspirados en el sistema de fórmulas de R.\n",
    "\n",
    "En comparación con scikit-learn, statsmodels contiene algoritmos para estadísticas y econometría clásicas (principalmente frecuentistas). Esto incluye submódulos como:\n",
    "• Modelos de regresión: regresión lineal, modelos lineales generalizados, modelos lineales robustos\n",
    "modelos, modelos lineales de efectos mixtos, etc.\n",
    "• Análisis de varianza (ANOVA)\n",
    "• Análisis de series temporales: AR, ARMA, ARIMA, VAR y otros modelos\n",
    "• Métodos no paramétricos: estimación de densidad kernel, regresión kernel\n",
    "• Visualización de resultados de modelos estadísticos\n",
    "\n",
    "statsmodels se centra más en la inferencia estadística, proporcionando estimaciones de incertidumbre y valores p para los parámetros. scikit-learn, por el contrario, se centra más en la predicción.\n",
    "\n",
    "Al igual que con scikit-learn, daré una breve introducción a statsmodels y cómo usarlo con NumPy y pandas."
   ]
  },
  {
   "cell_type": "markdown",
   "id": "1e5a305a",
   "metadata": {
    "slideshow": {
     "slide_type": "slide"
    }
   },
   "source": [
    "# 1.4 Instalación y configuración"
   ]
  },
  {
   "cell_type": "markdown",
   "id": "fcf115c5",
   "metadata": {
    "slideshow": {
     "slide_type": "slide"
    }
   },
   "source": [
    "Dado que todos usan Python para diferentes aplicaciones, no existe una solución única para configurar Python y los paquetes complementarios necesarios. "
   ]
  },
  {
   "cell_type": "markdown",
   "id": "f0aac203",
   "metadata": {
    "slideshow": {
     "slide_type": "slide"
    }
   },
   "source": [
    "Muchos lectores no tendrán un entorno de desarrollo de Python completo adecuado para seguir este libro, por lo que aquí daré instrucciones detalladas para configurar cada sistema operativo. "
   ]
  },
  {
   "cell_type": "markdown",
   "id": "9d32fc5e",
   "metadata": {
    "slideshow": {
     "slide_type": "slide"
    }
   },
   "source": [
    "Recomiendo usar la distribución gratuita de Anaconda. "
   ]
  },
  {
   "cell_type": "markdown",
   "id": "6dfcf8b6",
   "metadata": {
    "slideshow": {
     "slide_type": "slide"
    }
   },
   "source": [
    "En el momento de escribir este artículo, Anaconda se ofrece en las formas Python 2.7 y 3.6, aunque esto podría cambiar en algún momento en el futuro. Este libro usa Python 3.6, y lo animo a usar Python 3.6 o superior."
   ]
  },
  {
   "cell_type": "markdown",
   "id": "552b79f6",
   "metadata": {
    "slideshow": {
     "slide_type": "slide"
    }
   },
   "source": []
  },
  {
   "cell_type": "code",
   "execution_count": null,
   "id": "625e9297",
   "metadata": {
    "slideshow": {
     "slide_type": "slide"
    }
   },
   "outputs": [],
   "source": []
  },
  {
   "cell_type": "code",
   "execution_count": null,
   "id": "061aad23",
   "metadata": {
    "slideshow": {
     "slide_type": "slide"
    }
   },
   "outputs": [],
   "source": []
  },
  {
   "cell_type": "code",
   "execution_count": null,
   "id": "86d816ca",
   "metadata": {},
   "outputs": [],
   "source": []
  },
  {
   "cell_type": "code",
   "execution_count": null,
   "id": "31d74a12",
   "metadata": {},
   "outputs": [],
   "source": []
  },
  {
   "cell_type": "code",
   "execution_count": null,
   "id": "336bcb94",
   "metadata": {
    "slideshow": {
     "slide_type": "slide"
    }
   },
   "outputs": [],
   "source": []
  },
  {
   "cell_type": "code",
   "execution_count": null,
   "id": "726d3735",
   "metadata": {
    "slideshow": {
     "slide_type": "slide"
    }
   },
   "outputs": [],
   "source": []
  },
  {
   "cell_type": "code",
   "execution_count": null,
   "id": "b09b50e0",
   "metadata": {},
   "outputs": [],
   "source": []
  },
  {
   "cell_type": "code",
   "execution_count": null,
   "id": "6baef13f",
   "metadata": {},
   "outputs": [],
   "source": []
  },
  {
   "cell_type": "code",
   "execution_count": null,
   "id": "3f69cbbf",
   "metadata": {},
   "outputs": [],
   "source": []
  },
  {
   "cell_type": "code",
   "execution_count": null,
   "id": "4fb6a6fb",
   "metadata": {},
   "outputs": [],
   "source": []
  },
  {
   "cell_type": "code",
   "execution_count": null,
   "id": "40b9ca97",
   "metadata": {},
   "outputs": [],
   "source": []
  },
  {
   "cell_type": "code",
   "execution_count": null,
   "id": "e9a427d7",
   "metadata": {
    "slideshow": {
     "slide_type": "slide"
    }
   },
   "outputs": [],
   "source": []
  },
  {
   "cell_type": "code",
   "execution_count": null,
   "id": "c007e18f",
   "metadata": {
    "slideshow": {
     "slide_type": "slide"
    }
   },
   "outputs": [],
   "source": []
  },
  {
   "cell_type": "code",
   "execution_count": null,
   "id": "6d27eea7",
   "metadata": {},
   "outputs": [],
   "source": []
  },
  {
   "cell_type": "code",
   "execution_count": null,
   "id": "f0452bdc",
   "metadata": {},
   "outputs": [],
   "source": []
  },
  {
   "cell_type": "code",
   "execution_count": null,
   "id": "f38626ef",
   "metadata": {},
   "outputs": [],
   "source": []
  },
  {
   "cell_type": "code",
   "execution_count": null,
   "id": "884002d0",
   "metadata": {},
   "outputs": [],
   "source": []
  },
  {
   "cell_type": "code",
   "execution_count": null,
   "id": "5a2324d9",
   "metadata": {},
   "outputs": [],
   "source": []
  },
  {
   "cell_type": "code",
   "execution_count": null,
   "id": "05c96d3f",
   "metadata": {},
   "outputs": [],
   "source": []
  },
  {
   "cell_type": "code",
   "execution_count": null,
   "id": "9a314604",
   "metadata": {},
   "outputs": [],
   "source": []
  },
  {
   "cell_type": "code",
   "execution_count": null,
   "id": "03d5e7f2",
   "metadata": {},
   "outputs": [],
   "source": []
  },
  {
   "cell_type": "code",
   "execution_count": null,
   "id": "8b782ec5",
   "metadata": {
    "slideshow": {
     "slide_type": "slide"
    }
   },
   "outputs": [],
   "source": []
  },
  {
   "cell_type": "markdown",
   "id": "2c8946fe",
   "metadata": {
    "slideshow": {
     "slide_type": "slide"
    }
   },
   "source": [
    "## Referencias  \n",
    "\n",
    "Guía del usuario de scipy: https://docs.scipy.org/doc/scipy/tutorial/general.html  "
   ]
  },
  {
   "cell_type": "code",
   "execution_count": null,
   "id": "1da6af9d",
   "metadata": {},
   "outputs": [],
   "source": []
  }
 ],
 "metadata": {
  "celltoolbar": "Slideshow",
  "kernelspec": {
   "display_name": "Python 3 (ipykernel)",
   "language": "python",
   "name": "python3"
  },
  "language_info": {
   "codemirror_mode": {
    "name": "ipython",
    "version": 3
   },
   "file_extension": ".py",
   "mimetype": "text/x-python",
   "name": "python",
   "nbconvert_exporter": "python",
   "pygments_lexer": "ipython3",
   "version": "3.9.12"
  }
 },
 "nbformat": 4,
 "nbformat_minor": 5
}
