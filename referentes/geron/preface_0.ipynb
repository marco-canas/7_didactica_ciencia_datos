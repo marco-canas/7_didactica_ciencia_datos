{
 "cells": [
  {
   "cell_type": "markdown",
   "id": "f52717d0",
   "metadata": {
    "slideshow": {
     "slide_type": "slide"
    }
   },
   "source": [
    "\n",
    "<table align=\"left\">\n",
    "  <td>\n",
    "    <a href=\"https://colab.research.google.com/github/marco-canas/didactica_ciencia_datos/blob/main/referentes/geron/0_preface.ipynb\" target=\"_parent\"><img src=\"https://colab.research.google.com/assets/colab-badge.svg\" alt=\"Open In Colab\"/></a>\n",
    "  </td>\n",
    "</table>\n"
   ]
  },
  {
   "cell_type": "markdown",
   "id": "13545591",
   "metadata": {
    "slideshow": {
     "slide_type": "slide"
    }
   },
   "source": [
    "# Preface"
   ]
  },
  {
   "cell_type": "markdown",
   "id": "413db970",
   "metadata": {
    "slideshow": {
     "slide_type": "slide"
    }
   },
   "source": [
    "## El tsunami del aprendizaje automático"
   ]
  },
  {
   "cell_type": "markdown",
   "id": "c19f7a75",
   "metadata": {
    "slideshow": {
     "slide_type": "slide"
    }
   },
   "source": [
    "## [Primer video de apoyo](https://studio.youtube.com/video/LLemI7hC4CQ/edit) "
   ]
  },
  {
   "cell_type": "markdown",
   "id": "6d5e92a8",
   "metadata": {
    "slideshow": {
     "slide_type": "slide"
    }
   },
   "source": [
    "En 2006, Geoffrey Hinton et al. publicó un artículo que muestra cómo entrenar una red neuronal profunda capaz de reconocer dígitos escritos a mano con una precisión de vanguardia (> 98%)."
   ]
  },
  {
   "cell_type": "markdown",
   "id": "5fbaa3f9",
   "metadata": {
    "slideshow": {
     "slide_type": "slide"
    }
   },
   "source": [
    "Llamaron a esta técnica \"Aprendizaje profundo\"(Deep Learning). "
   ]
  },
  {
   "cell_type": "markdown",
   "id": "1062f835",
   "metadata": {
    "slideshow": {
     "slide_type": "slide"
    }
   },
   "source": [
    "Una red neuronal profunda es un modelo (muy) simplificado de nuestra corteza cerebral, compuesto por una pila de capas de neuronas artificiales."
   ]
  },
  {
   "cell_type": "markdown",
   "id": "5bafcdff",
   "metadata": {
    "slideshow": {
     "slide_type": "slide"
    }
   },
   "source": [
    "Entrenar una red neuronal profunda se consideraba imposible en ese momento, y la mayoría de los investigadores habían abandonado la idea a fines de la década de 1990."
   ]
  },
  {
   "cell_type": "markdown",
   "id": "1c0def5b",
   "metadata": {
    "slideshow": {
     "slide_type": "slide"
    }
   },
   "source": [
    "Este artículo reavivó el interés de la comunidad científica y, en poco tiempo, muchos artículos nuevos demostraron que el aprendizaje profundo no solo era posible, sino capaz de alcanzar logros alucinantes que ninguna otra técnica de aprendizaje automático (ML) podría esperar igualar \n",
    "\n",
    "con la ayuda de: \n",
    "* un tremendo poder de cómputo y \n",
    "* grandes cantidades de datos."
   ]
  },
  {
   "cell_type": "markdown",
   "id": "57c52f8f",
   "metadata": {
    "slideshow": {
     "slide_type": "slide"
    }
   },
   "source": [
    "Este entusiasmo pronto se extendió a muchas otras áreas del aprendizaje automático."
   ]
  },
  {
   "cell_type": "markdown",
   "id": "7855ce84",
   "metadata": {
    "slideshow": {
     "slide_type": "slide"
    }
   },
   "source": [
    "Aproximadamente una década después,  \n",
    "\n",
    "* el aprendizaje automático ha conquistado la industria: está en el corazón de gran parte de la magia de los productos de alta tecnología actuales, \n",
    "* clasificando los resultados de búsqueda web, \n",
    "* potenciando el reconocimiento de voz de su teléfono inteligente,  \n",
    "* recomendando videos y \n",
    "* superando al campeón mundial en el juego de Go."
   ]
  },
  {
   "cell_type": "markdown",
   "id": "5f4c4ea0",
   "metadata": {
    "slideshow": {
     "slide_type": "slide"
    }
   },
   "source": [
    "Antes de que te des cuenta, estará conduciendo tu coche."
   ]
  },
  {
   "cell_type": "markdown",
   "id": "f658fd85",
   "metadata": {
    "slideshow": {
     "slide_type": "slide"
    }
   },
   "source": [
    "## Aprendizaje automático en sus proyectos"
   ]
  },
  {
   "cell_type": "markdown",
   "id": "bfd13f48",
   "metadata": {
    "slideshow": {
     "slide_type": "slide"
    }
   },
   "source": [
    "Entonces, naturalmente, ¡estás entusiasmado con el aprendizaje automático y te encantaría unirte a la fiesta!  \n",
    "* ¿Quizás le gustaría darle a su robot casero un cerebro propio?  \n",
    "\n",
    "* ¿Hacer que reconozca caras?  \n",
    "\n",
    "* ¿O aprender a caminar?"
   ]
  },
  {
   "cell_type": "markdown",
   "id": "c83f1baa",
   "metadata": {
    "slideshow": {
     "slide_type": "slide"
    }
   },
   "source": [
    "O tal vez su empresa tiene toneladas de datos:  \n",
    "* registros de usuarios,   \n",
    "* datos financieros,   \n",
    "* datos de producción,   \n",
    "* datos de sensores de máquinas,   \n",
    "* estadísticas de línea directa,   \n",
    "* informes de recursos humanos, etc.,   \n",
    "* y lo más probable es que pueda descubrir algunas gemas ocultas si supiera dónde buscar."
   ]
  },
  {
   "cell_type": "markdown",
   "id": "1b408e07",
   "metadata": {
    "slideshow": {
     "slide_type": "slide"
    }
   },
   "source": [
    "Con Machine Learning, puede lograr lo siguiente y más:  \n",
    "\n",
    "* Segmenta a los clientes y encuentra la mejor estrategia de marketing para cada grupo."
   ]
  },
  {
   "cell_type": "markdown",
   "id": "2111ce75",
   "metadata": {
    "slideshow": {
     "slide_type": "slide"
    }
   },
   "source": [
    "* Recomendar productos para cada cliente en función de lo que compraron clientes similares.\n",
    "\n",
    "* Detecta qué transacciones pueden ser fraudulentas.  \n",
    "\n",
    "* Pronostique los ingresos del próximo año.\n",
    "\n",
    "Sea cual sea el motivo, ha decidido aprender Machine Learning e implementarlo en sus proyectos. ¡Gran idea!"
   ]
  },
  {
   "cell_type": "markdown",
   "id": "6e0bbfdc",
   "metadata": {
    "slideshow": {
     "slide_type": "slide"
    }
   },
   "source": [
    "## Objetivo y enfoque"
   ]
  },
  {
   "cell_type": "markdown",
   "id": "1828c8a9",
   "metadata": {
    "slideshow": {
     "slide_type": "slide"
    }
   },
   "source": [
    "Este libro asume que no sabe casi nada sobre el aprendizaje automático."
   ]
  },
  {
   "cell_type": "markdown",
   "id": "d1f62585",
   "metadata": {
    "slideshow": {
     "slide_type": "slide"
    }
   },
   "source": [
    "Su objetivo es brindarle los conceptos, las herramientas y la intuición que necesita para implementar programas capaces de aprender de los datos."
   ]
  },
  {
   "cell_type": "markdown",
   "id": "8ed3da9d",
   "metadata": {
    "slideshow": {
     "slide_type": "slide"
    }
   },
   "source": [
    "Cubriremos una gran cantidad de técnicas, desde las más simples y de uso más común (como la Regresión lineal). "
   ]
  },
  {
   "cell_type": "markdown",
   "id": "23aba829",
   "metadata": {
    "slideshow": {
     "slide_type": "slide"
    }
   },
   "source": [
    "En lugar de implementar nuestras propias versiones de juguete de cada algoritmo, usaremos marcos de Python listos para producción:\n",
    "\n",
    "* [Scikit-Learn](https://scikit-learn.org/stable/) es muy fácil de usar, e implementa muchos algoritmos de Machine Learning de manera eficiente, por lo que es un excelente punto de entrada para aprender Machine Learning."
   ]
  },
  {
   "cell_type": "markdown",
   "id": "c9e4855e",
   "metadata": {
    "slideshow": {
     "slide_type": "slide"
    }
   },
   "source": [
    "* [TensorFlow](https://www.tensorflow.org/) es una biblioteca más compleja para computación numérica. Hace posible entrenar \n",
    "  y ejecutar redes neuronales muy grandes de manera eficiente al distribuir los cálculos entre potencialmente cientos de \n",
    "  servidores o multi-GPU (unidad de procesamiento de gráficos). TensorFlow (TF) se creó en Google y admite muchas de sus \n",
    "  aplicaciones de aprendizaje automático a gran escala. Fue de código abierto desde noviembre de 2015.\n",
    " "
   ]
  },
  {
   "cell_type": "markdown",
   "id": "db18e45d",
   "metadata": {
    "slideshow": {
     "slide_type": "slide"
    }
   },
   "source": [
    "El libro favorece **un enfoque práctico**, aumentando una comprensión intuitiva del aprendizaje automático a través de   \n",
    "\n",
    "* ejemplos de trabajo concretos y \n",
    "* solo un poco de teoría. "
   ]
  },
  {
   "cell_type": "markdown",
   "id": "1fe07c49",
   "metadata": {
    "slideshow": {
     "slide_type": "slide"
    }
   },
   "source": [
    "Si bien puede leer este libro en su computadora, le recomiendo que experimente con los ejemplos de código disponibles en línea como cuadernos de Jupyter en https://github.com/ageron/handson-ml2."
   ]
  },
  {
   "cell_type": "markdown",
   "id": "81a67970",
   "metadata": {
    "slideshow": {
     "slide_type": "slide"
    }
   },
   "source": [
    "## Prerrequisitos\n",
    "\n",
    "Este libro asume que tienes algo de experiencia en programación con Python y que estás familiarizado con las principales bibliotecas científicas de Python, en particular,   \n",
    "\n",
    "* [NumPy](https://numpy.org/),\n",
    "* [pandas](https://pandas.pydata.org/) y \n",
    "* [Matplotlib](https://matplotlib.org/)."
   ]
  },
  {
   "cell_type": "markdown",
   "id": "6545d229",
   "metadata": {
    "slideshow": {
     "slide_type": "slide"
    }
   },
   "source": [
    "Además, si te importa lo que hay debajo del capó, también debes tener una comprensión razonable de **las matemáticas universitarias**:\n",
    "\n",
    "* cálculo, \n",
    "* álgebra lineal, \n",
    "* probabilidades y \n",
    "* estadística."
   ]
  },
  {
   "cell_type": "markdown",
   "id": "60c991c2",
   "metadata": {
    "slideshow": {
     "slide_type": "slide"
    }
   },
   "source": [
    "Si aún no conoce Python, http://learnpython.org/ es un excelente lugar para comenzar."
   ]
  },
  {
   "cell_type": "markdown",
   "id": "a0054a45",
   "metadata": {
    "slideshow": {
     "slide_type": "slide"
    }
   },
   "source": [
    "El tutorial oficial en Python.org también es bastante bueno."
   ]
  },
  {
   "cell_type": "markdown",
   "id": "faa03398",
   "metadata": {
    "slideshow": {
     "slide_type": "slide"
    }
   },
   "source": [
    "Si nunca ha usado **Jupyter**, el Capítulo 2 lo guiará a través de la instalación y los conceptos básicos: es una herramienta poderosa para tener en su caja de herramientas"
   ]
  },
  {
   "cell_type": "markdown",
   "id": "3929f4b6",
   "metadata": {
    "slideshow": {
     "slide_type": "slide"
    }
   },
   "source": [
    "* Si no está familiarizado con las bibliotecas científicas de Python, los cuadernos de Jupyter proporcionados incluyen algunos tutoriales.   \n",
    "\n",
    "* También hay un tutorial rápido de matemáticas para álgebra lineal."
   ]
  },
  {
   "cell_type": "markdown",
   "id": "ff1d4a56",
   "metadata": {
    "slideshow": {
     "slide_type": "slide"
    }
   },
   "source": [
    "## Mapa vial"
   ]
  },
  {
   "cell_type": "markdown",
   "id": "c9f1744d",
   "metadata": {
    "slideshow": {
     "slide_type": "slide"
    }
   },
   "source": [
    "Este curso presenta los fundamentos del aprendizaje automático y cubre los siguientes temas:"
   ]
  },
  {
   "cell_type": "markdown",
   "id": "9542d9fd",
   "metadata": {
    "slideshow": {
     "slide_type": "slide"
    }
   },
   "source": [
    "* Qué es el Machine Learning, qué problemas intenta resolver y las principales categorías y conceptos fundamentales de sus sistemas\n",
    "\n",
    "* Los pasos de un proyecto típico de aprendizaje automático\n",
    "\n",
    "* Aprender ajustando un modelo a los datos\n",
    "\n",
    "* Optimización de una función de costes \n",
    "\n",
    "* Manipulación, limpieza y preparación de datos"
   ]
  },
  {
   "cell_type": "markdown",
   "id": "b7d2f099",
   "metadata": {
    "slideshow": {
     "slide_type": "slide"
    }
   },
   "source": [
    "* Selección e ingeniería de características\n",
    "\n",
    "* Seleccionar un modelo y ajustar hiperparámetros mediante validación cruzada\n",
    "\n",
    "* Los desafíos del aprendizaje automático, en particular, el desajuste y el sobreajuste (el equilibrio entre sesgo y varianza)"
   ]
  },
  {
   "cell_type": "markdown",
   "id": "e2f74c76",
   "metadata": {
    "slideshow": {
     "slide_type": "slide"
    }
   },
   "source": [
    "* Los algoritmos de aprendizaje más comunes: \n",
    "  * Rgresión lineal y polinomial, \n",
    "  * Regresión logística, \n",
    "  * k-Vecinos más cercanos, \n",
    "  * Máquinas de Soporte vectorial, \n",
    "  * árboles de decisión, \n",
    "  * bosques aleatorios y \n",
    "  * métodos de conjunto"
   ]
  },
  {
   "cell_type": "markdown",
   "id": "80cfc050",
   "metadata": {
    "slideshow": {
     "slide_type": "slide"
    }
   },
   "source": [
    "* Reducir la dimensionalidad de los datos de entrenamiento para luchar contra la \"maldición de la dimensionalidad\""
   ]
  },
  {
   "cell_type": "markdown",
   "id": "437c2a49",
   "metadata": {
    "slideshow": {
     "slide_type": "slide"
    }
   },
   "source": [
    "* Otras técnicas de aprendizaje sin supervisión, incluida la agrupación, estimación de densidad y detección de anomalías"
   ]
  },
  {
   "cell_type": "markdown",
   "id": "b12bc379",
   "metadata": {
    "slideshow": {
     "slide_type": "slide"
    }
   },
   "source": [
    "## Ejemplos de código"
   ]
  },
  {
   "cell_type": "markdown",
   "id": "6f7dc81b",
   "metadata": {
    "slideshow": {
     "slide_type": "slide"
    }
   },
   "source": [
    "Hay una serie de cuadernos de Jupyter llenos de material complementario, como ejemplos de código y ejercicios, disponibles para descargar en https://github.com/ageron/handson-ml2."
   ]
  },
  {
   "cell_type": "markdown",
   "id": "cd33a12d",
   "metadata": {
    "slideshow": {
     "slide_type": "slide"
    }
   },
   "source": [
    "Algunos de los ejemplos de código del libro omiten secciones repetitivas o detalles que son obvios o no están relacionados con el aprendizaje automático."
   ]
  },
  {
   "cell_type": "markdown",
   "id": "f2727485",
   "metadata": {
    "slideshow": {
     "slide_type": "slide"
    }
   },
   "source": [
    "Esto mantiene el enfoque en las partes importantes del código y ahorra espacio para cubrir más temas."
   ]
  },
  {
   "cell_type": "markdown",
   "id": "e21697e4",
   "metadata": {
    "slideshow": {
     "slide_type": "slide"
    }
   },
   "source": [
    "Si desea los ejemplos de código completos, todos están disponibles en Cuadernos Jupyter."
   ]
  },
  {
   "cell_type": "markdown",
   "id": "206c9a39",
   "metadata": {
    "slideshow": {
     "slide_type": "slide"
    }
   },
   "source": [
    "Tenga en cuenta que cuando los ejemplos de código muestran algunas salidas, estos ejemplos de códigos se muestran con las indicaciones de Python (>>> y ...), como en un Python shell, para distinguir claramente el código de las salidas. \n",
    "\n",
    "Por ejemplo, este código define la función `square()`, luego calcula y luego muestra el cuadrado de 3:"
   ]
  },
  {
   "cell_type": "code",
   "execution_count": 1,
   "id": "22116138",
   "metadata": {
    "slideshow": {
     "slide_type": "slide"
    }
   },
   "outputs": [],
   "source": [
    "def square(x):\n",
    "    return x**2"
   ]
  },
  {
   "cell_type": "code",
   "execution_count": 2,
   "id": "c8e74731",
   "metadata": {
    "slideshow": {
     "slide_type": "slide"
    }
   },
   "outputs": [],
   "source": [
    "result = square(3)"
   ]
  },
  {
   "cell_type": "code",
   "execution_count": 3,
   "id": "a655ae5b",
   "metadata": {
    "slideshow": {
     "slide_type": "slide"
    }
   },
   "outputs": [
    {
     "data": {
      "text/plain": [
       "9"
      ]
     },
     "execution_count": 3,
     "metadata": {},
     "output_type": "execute_result"
    }
   ],
   "source": [
    "result "
   ]
  },
  {
   "cell_type": "markdown",
   "id": "7b1282de",
   "metadata": {
    "slideshow": {
     "slide_type": "slide"
    }
   },
   "source": [
    "Cuando el código no muestra nada, las indicaciones no se utilizan. "
   ]
  },
  {
   "cell_type": "markdown",
   "id": "67c94265",
   "metadata": {
    "slideshow": {
     "slide_type": "slide"
    }
   },
   "source": [
    "Sin embargo, el resultado a veces puede mostrarse como un comentario, como este:"
   ]
  },
  {
   "cell_type": "code",
   "execution_count": 4,
   "id": "8ea86225",
   "metadata": {
    "slideshow": {
     "slide_type": "slide"
    }
   },
   "outputs": [],
   "source": [
    "def square(x):\n",
    "    return x**2"
   ]
  },
  {
   "cell_type": "code",
   "execution_count": 5,
   "id": "edc1cd62",
   "metadata": {
    "slideshow": {
     "slide_type": "slide"
    }
   },
   "outputs": [],
   "source": [
    "result = square(3)  # el resultado es 9"
   ]
  },
  {
   "cell_type": "markdown",
   "id": "83dd47b3",
   "metadata": {
    "slideshow": {
     "slide_type": "slide"
    }
   },
   "source": [
    "## Usar ejemplos de código"
   ]
  },
  {
   "cell_type": "markdown",
   "id": "6fbebe3b",
   "metadata": {
    "slideshow": {
     "slide_type": "slide"
    }
   },
   "source": [
    "En general, sí se ofrece código de ejemplo con este libro y puede utilizarlo en sus programas y documentación. "
   ]
  },
  {
   "cell_type": "markdown",
   "id": "f0abb6f6",
   "metadata": {
    "slideshow": {
     "slide_type": "slide"
    }
   },
   "source": [
    "Apreciamos la atribución, pero no la exigimos. Una atribución generalmente incluye   \n",
    "\n",
    "* el título, \n",
    "* el autor, \n",
    "* el editor y \n",
    "* el ISBN."
   ]
  },
  {
   "cell_type": "markdown",
   "id": "5793910a",
   "metadata": {
    "slideshow": {
     "slide_type": "slide"
    }
   },
   "source": [
    " Por ejemplo: \"Aprendizaje automático práctico con Scikit-Learn, Keras y TensorFlow, segunda edición, por Aurélien Géron (O’Reilly)."
   ]
  },
  {
   "cell_type": "markdown",
   "id": "b955c7ea",
   "metadata": {
    "slideshow": {
     "slide_type": "slide"
    }
   },
   "source": [
    "Copyright 2019 Aurélien Géron, 978-1-492-03264-9 ”. Si cree que el uso que hace de los ejemplos de código está fuera del uso legítimo o del permiso otorgado anteriormente, no dude en contactarnos en permissions@oreilly.com."
   ]
  },
  {
   "cell_type": "markdown",
   "id": "a4aba41d",
   "metadata": {
    "slideshow": {
     "slide_type": "slide"
    }
   },
   "source": [
    "## Referentes\n",
    "\n",
    "* Geron. Hands-On Machine Learning With Scikit-Learn, Keras, and Tensorflow: Concepts, Tools, and Techniques to Build Intelligent Systems 2nd Edición.  Isbn13 9781492032649.  "
   ]
  },
  {
   "cell_type": "code",
   "execution_count": null,
   "id": "df2c6fcd",
   "metadata": {},
   "outputs": [],
   "source": []
  }
 ],
 "metadata": {
  "celltoolbar": "Slideshow",
  "kernelspec": {
   "display_name": "Python 3 (ipykernel)",
   "language": "python",
   "name": "python3"
  },
  "language_info": {
   "codemirror_mode": {
    "name": "ipython",
    "version": 3
   },
   "file_extension": ".py",
   "mimetype": "text/x-python",
   "name": "python",
   "nbconvert_exporter": "python",
   "pygments_lexer": "ipython3",
   "version": "3.9.7"
  },
  "latex_envs": {
   "LaTeX_envs_menu_present": true,
   "autoclose": false,
   "autocomplete": false,
   "bibliofile": "biblio.bib",
   "cite_by": "apalike",
   "current_citInitial": 1,
   "eqLabelWithNumbers": true,
   "eqNumInitial": 1,
   "hotkeys": {
    "equation": "Ctrl-E",
    "itemize": "Ctrl-I"
   },
   "labels_anchors": false,
   "latex_user_defs": false,
   "report_style_numbering": false,
   "user_envs_cfg": false
  },
  "rise": {
   "enable_chalkboard": true,
   "theme": "sky",
   "transition": "zoom"
  }
 },
 "nbformat": 4,
 "nbformat_minor": 5
}
