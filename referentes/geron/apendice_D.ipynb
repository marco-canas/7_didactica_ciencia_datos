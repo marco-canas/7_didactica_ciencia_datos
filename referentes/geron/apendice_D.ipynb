{
 "cells": [
  {
   "cell_type": "markdown",
   "id": "8388a10f",
   "metadata": {
    "slideshow": {
     "slide_type": "slide"
    }
   },
   "source": []
  },
  {
   "cell_type": "markdown",
   "id": "0d44b608",
   "metadata": {
    "slideshow": {
     "slide_type": "slide"
    }
   },
   "source": [
    "# Apéndice D"
   ]
  },
  {
   "cell_type": "markdown",
   "id": "b91eda6b",
   "metadata": {
    "slideshow": {
     "slide_type": "slide"
    }
   },
   "source": [
    "# Appendix D. Autodiff"
   ]
  },
  {
   "cell_type": "markdown",
   "id": "8577c3b0",
   "metadata": {
    "slideshow": {
     "slide_type": "slide"
    }
   },
   "source": [
    "Este apéndice explica cómo funciona la característica de autodiferenciación (autodiff) de TensorFlow y cómo se compara con otras soluciones."
   ]
  },
  {
   "cell_type": "markdown",
   "id": "a94634a6",
   "metadata": {
    "slideshow": {
     "slide_type": "slide"
    }
   },
   "source": [
    "Suponga que define una función $f(x, y) = x^{2}y + y + 2$, y necesita sus derivadas parciales $\\partial f/\\partial x$ y $\\partial f/\\partial y$ , normalmente para realizar el Descenso de gradiente (o algún otro algoritmo de optimización)."
   ]
  },
  {
   "cell_type": "markdown",
   "id": "9431f52f",
   "metadata": {
    "slideshow": {
     "slide_type": "slide"
    }
   },
   "source": [
    "Sus opciones principales son: \n",
    "\n",
    "* la diferenciación manual, \n",
    "* la aproximación de diferencias finitas, \n",
    "* la diferencia automática en modo directo y \n",
    "* la diferencia automática en modo inverso."
   ]
  },
  {
   "cell_type": "markdown",
   "id": "1925cd67",
   "metadata": {
    "slideshow": {
     "slide_type": "slide"
    }
   },
   "source": [
    "TensorFlow implements reverse-mode autodiff, but to understand it, it’s useful to look at the other options first. "
   ]
  },
  {
   "cell_type": "markdown",
   "id": "362dc3b6",
   "metadata": {
    "slideshow": {
     "slide_type": "slide"
    }
   },
   "source": [
    "So let’s go through each of them, starting with manual differentiation."
   ]
  },
  {
   "cell_type": "markdown",
   "id": "762a4e42",
   "metadata": {
    "slideshow": {
     "slide_type": "slide"
    }
   },
   "source": [
    "## Manual Differentiation"
   ]
  },
  {
   "cell_type": "markdown",
   "id": "aef0166d",
   "metadata": {
    "slideshow": {
     "slide_type": "slide"
    }
   },
   "source": [
    "The first approach to compute derivatives is to pick up a pencil and a piece of paper and use your calculus knowledge to derive the appropriate equation. "
   ]
  },
  {
   "cell_type": "markdown",
   "id": "50873cea",
   "metadata": {
    "slideshow": {
     "slide_type": "slide"
    }
   },
   "source": [
    "For the function $f(x, y)$ just defined, it is not too hard; you just need to use five rules:  \n",
    "\n",
    "* The derivative of a constant is 0.\n",
    "* The derivative of λx is λ (where λ is a constant).\n",
    "* The derivative of x is λx , so the derivative of x is 2x.\n",
    "* The derivative of a sum of functions is the sum of these functions’ derivatives.\n",
    "* The derivative of λ times a function is λ times its derivative.  \n",
    "\n",
    "From these rules, you can derive Equation D-1."
   ]
  },
  {
   "cell_type": "markdown",
   "id": "09b9851b",
   "metadata": {
    "slideshow": {
     "slide_type": "slide"
    }
   },
   "source": [
    "Equation D-1. Partial derivatives of $f(x, y)$\n",
    "\n",
    "\\begin{align*}\n",
    "& = \\\\\n",
    "& = \n",
    "\\end{align*}\n"
   ]
  },
  {
   "cell_type": "code",
   "execution_count": null,
   "id": "2e20b8db",
   "metadata": {
    "slideshow": {
     "slide_type": "slide"
    }
   },
   "outputs": [],
   "source": []
  },
  {
   "cell_type": "code",
   "execution_count": null,
   "id": "12d8b4e3",
   "metadata": {
    "slideshow": {
     "slide_type": "slide"
    }
   },
   "outputs": [],
   "source": []
  },
  {
   "cell_type": "code",
   "execution_count": null,
   "id": "b109fd2c",
   "metadata": {},
   "outputs": [],
   "source": []
  },
  {
   "cell_type": "code",
   "execution_count": null,
   "id": "18902ac7",
   "metadata": {},
   "outputs": [],
   "source": []
  },
  {
   "cell_type": "code",
   "execution_count": null,
   "id": "278728f5",
   "metadata": {},
   "outputs": [],
   "source": []
  },
  {
   "cell_type": "code",
   "execution_count": null,
   "id": "8e5fda73",
   "metadata": {},
   "outputs": [],
   "source": []
  },
  {
   "cell_type": "code",
   "execution_count": null,
   "id": "8714c3a4",
   "metadata": {},
   "outputs": [],
   "source": []
  },
  {
   "cell_type": "code",
   "execution_count": null,
   "id": "3e58d7c1",
   "metadata": {},
   "outputs": [],
   "source": []
  }
 ],
 "metadata": {
  "celltoolbar": "Slideshow",
  "kernelspec": {
   "display_name": "Python 3 (ipykernel)",
   "language": "python",
   "name": "python3"
  },
  "language_info": {
   "codemirror_mode": {
    "name": "ipython",
    "version": 3
   },
   "file_extension": ".py",
   "mimetype": "text/x-python",
   "name": "python",
   "nbconvert_exporter": "python",
   "pygments_lexer": "ipython3",
   "version": "3.9.12"
  }
 },
 "nbformat": 4,
 "nbformat_minor": 5
}
