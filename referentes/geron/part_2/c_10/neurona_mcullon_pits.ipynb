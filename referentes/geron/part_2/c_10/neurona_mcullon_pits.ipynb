{
 "cells": [
  {
   "cell_type": "markdown",
   "id": "830e719b",
   "metadata": {},
   "source": []
  },
  {
   "cell_type": "markdown",
   "id": "36bf16b1",
   "metadata": {},
   "source": [
    "# Neuronas proposicionales o neuronas artificiales de Mcullon y Pits"
   ]
  },
  {
   "cell_type": "code",
   "execution_count": null,
   "id": "98e30fde",
   "metadata": {},
   "outputs": [],
   "source": []
  },
  {
   "cell_type": "code",
   "execution_count": null,
   "id": "1bc900ff",
   "metadata": {},
   "outputs": [],
   "source": []
  },
  {
   "cell_type": "code",
   "execution_count": null,
   "id": "6aa54d06",
   "metadata": {},
   "outputs": [],
   "source": []
  },
  {
   "cell_type": "code",
   "execution_count": null,
   "id": "a8e96c7b",
   "metadata": {},
   "outputs": [],
   "source": []
  }
 ],
 "metadata": {
  "kernelspec": {
   "display_name": "Python 3 (ipykernel)",
   "language": "python",
   "name": "python3"
  },
  "language_info": {
   "codemirror_mode": {
    "name": "ipython",
    "version": 3
   },
   "file_extension": ".py",
   "mimetype": "text/x-python",
   "name": "python",
   "nbconvert_exporter": "python",
   "pygments_lexer": "ipython3",
   "version": "3.9.12"
  }
 },
 "nbformat": 4,
 "nbformat_minor": 5
}
