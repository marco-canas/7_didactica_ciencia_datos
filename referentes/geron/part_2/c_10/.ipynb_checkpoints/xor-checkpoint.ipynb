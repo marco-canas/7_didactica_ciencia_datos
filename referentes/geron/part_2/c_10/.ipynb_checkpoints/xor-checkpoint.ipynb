{
 "cells": [
  {
   "cell_type": "markdown",
   "id": "186d1c7e",
   "metadata": {
    "slideshow": {
     "slide_type": "slide"
    }
   },
   "source": [
    "<table align=\"left\">\n",
    "  <td>\n",
    "    <a href=\"https://colab.research.google.com/github/marco-canas/camino-udea/blob/main/0_diagnostico/diagnos_prueba_inicial_pivu/51_exercise.ipynb\" target=\"_parent\"><img src=\"https://colab.research.google.com/assets/colab-badge.svg\" alt=\"Open In Colab\"/></a>\n",
    "  </td>\n",
    "</table>"
   ]
  },
  {
   "cell_type": "markdown",
   "id": "53b824c7",
   "metadata": {
    "slideshow": {
     "slide_type": "slide"
    }
   },
   "source": [
    "# Neuronal Network XOR Python"
   ]
  },
  {
   "cell_type": "markdown",
   "id": "92836f34",
   "metadata": {
    "slideshow": {
     "slide_type": "slide"
    }
   },
   "source": [
    "## [Video de apoyo]()"
   ]
  },
  {
   "cell_type": "markdown",
   "id": "54ead358",
   "metadata": {
    "slideshow": {
     "slide_type": "slide"
    }
   },
   "source": [
    "Implementé la siguiente red neuronal para resolver el problema XOR en Python. "
   ]
  },
  {
   "cell_type": "markdown",
   "id": "41ed43c8",
   "metadata": {
    "slideshow": {
     "slide_type": "slide"
    }
   },
   "source": [
    "Mi red neuronal consta de una capa de entrada de 2 neuronas y una capa de salida de 1 neurona. "
   ]
  },
  {
   "cell_type": "markdown",
   "id": "3bb25d30",
   "metadata": {
    "slideshow": {
     "slide_type": "slide"
    }
   },
   "source": [
    "Estoy usando la función Sigmoid como función de activación para la capa de entrada y la capa de salida: "
   ]
  },
  {
   "cell_type": "code",
   "execution_count": 1,
   "id": "4ab1f9bc",
   "metadata": {
    "slideshow": {
     "slide_type": "slide"
    }
   },
   "outputs": [],
   "source": [
    "import numpy as np "
   ]
  },
  {
   "cell_type": "code",
   "execution_count": null,
   "id": "5cd45eb5",
   "metadata": {
    "slideshow": {
     "slide_type": "slide"
    }
   },
   "outputs": [],
   "source": [
    "X = np.array([[1,0,0], [1,0,1], [1,1,0], [1,1,1]]) \n",
    "y = np.array([[0,1,1,0]]).T"
   ]
  },
  {
   "cell_type": "code",
   "execution_count": null,
   "id": "3352c7ca",
   "metadata": {
    "slideshow": {
     "slide_type": "slide"
    }
   },
   "outputs": [],
   "source": [
    "def heaviside(z):\n",
    "    if z<0:\n",
    "        return 0\n",
    "    elif z>=0:\n",
    "        return 1"
   ]
  },
  {
   "cell_type": "code",
   "execution_count": null,
   "id": "7dbb5d06",
   "metadata": {
    "slideshow": {
     "slide_type": "slide"
    }
   },
   "outputs": [],
   "source": [
    "def perceptron_1(instancia):\n",
    "    w_1 = np.array([-1.5,1,1])\n",
    "    return np.array([ heaviside(np.dot(instancia,w_1)) ]) "
   ]
  },
  {
   "cell_type": "code",
   "execution_count": null,
   "id": "b9148f8f",
   "metadata": {
    "slideshow": {
     "slide_type": "slide"
    }
   },
   "outputs": [],
   "source": [
    "def perceptron_2(instancia):\n",
    "    w_2 = np.array([-0.5,1,1])\n",
    "    return np.array( [ heaviside(np.dot(instancia,w_2)) ] ) "
   ]
  },
  {
   "cell_type": "code",
   "execution_count": null,
   "id": "f273a493",
   "metadata": {
    "slideshow": {
     "slide_type": "slide"
    }
   },
   "outputs": [],
   "source": [
    "def perceptron_3(instancia):\n",
    "    w_3 = np.array([-0.5,-1,1])\n",
    "    return np.array([ heaviside(np.dot(instancia,w_3)) ]) "
   ]
  },
  {
   "cell_type": "code",
   "execution_count": null,
   "id": "807d2b27",
   "metadata": {
    "slideshow": {
     "slide_type": "slide"
    }
   },
   "outputs": [],
   "source": [
    "def red_xor(instancia):\n",
    "    return perceptron_3( np.hstack((np.array([1]), perceptron_1(instancia), perceptron_2(instancia))) )"
   ]
  },
  {
   "cell_type": "code",
   "execution_count": null,
   "id": "d7b45b08",
   "metadata": {
    "slideshow": {
     "slide_type": "slide"
    }
   },
   "outputs": [],
   "source": [
    "red_xor(X[0]), red_xor(X[1]), red_xor(X[2]), red_xor(X[3]) "
   ]
  },
  {
   "cell_type": "markdown",
   "id": "b4c6de4e",
   "metadata": {
    "slideshow": {
     "slide_type": "slide"
    }
   },
   "source": [
    "## Referentes  \n",
    "\n",
    "* stackoverflow  Neuronal Network XOR python: https://stackoverflow.com/questions/44419906/neural-network-xor-python  \n"
   ]
  },
  {
   "cell_type": "code",
   "execution_count": null,
   "id": "a0f0bb9e",
   "metadata": {
    "slideshow": {
     "slide_type": "slide"
    }
   },
   "outputs": [],
   "source": []
  }
 ],
 "metadata": {
  "celltoolbar": "Slideshow",
  "kernelspec": {
   "display_name": "Python 3 (ipykernel)",
   "language": "python",
   "name": "python3"
  },
  "language_info": {
   "codemirror_mode": {
    "name": "ipython",
    "version": 3
   },
   "file_extension": ".py",
   "mimetype": "text/x-python",
   "name": "python",
   "nbconvert_exporter": "python",
   "pygments_lexer": "ipython3",
   "version": "3.9.12"
  },
  "tags": [
   "hide-input"
  ]
 },
 "nbformat": 4,
 "nbformat_minor": 5
}
