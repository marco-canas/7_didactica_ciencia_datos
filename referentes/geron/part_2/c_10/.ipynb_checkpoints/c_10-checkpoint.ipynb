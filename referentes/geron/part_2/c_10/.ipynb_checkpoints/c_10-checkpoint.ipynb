{
 "cells": [
  {
   "cell_type": "markdown",
   "id": "6381fb7b",
   "metadata": {
    "slideshow": {
     "slide_type": "slide"
    }
   },
   "source": [
    "<table align=\"left\">\n",
    "  <td>\n",
    "    <a href=\"https://colab.research.google.com/github/marco-canas/didactica_ciencia_datos/blob/main/referentes/geron/part_2/c_10/c_10.ipynb\" target=\"_parent\"><img src=\"https://colab.research.google.com/assets/colab-badge.svg\" alt=\"Open In Colab\"/></a>\n",
    "  </td>\n",
    "</table>"
   ]
  },
  {
   "cell_type": "markdown",
   "id": "9647bc3f",
   "metadata": {
    "slideshow": {
     "slide_type": "slide"
    }
   },
   "source": [
    "# Capítulo 10 "
   ]
  },
  {
   "cell_type": "markdown",
   "id": "5fbdc194",
   "metadata": {
    "slideshow": {
     "slide_type": "slide"
    }
   },
   "source": [
    "# Introducción a las Redes Artificiales con Keras"
   ]
  },
  {
   "cell_type": "markdown",
   "id": "3bbc8194",
   "metadata": {
    "slideshow": {
     "slide_type": "slide"
    }
   },
   "source": [
    "* Los pájaros nos inspiraron a volar,   \n",
    "* las plantas de bardana inspiraron el velcro y   \n",
    "* la naturaleza ha inspirado innumerables inventos más."
   ]
  },
  {
   "cell_type": "markdown",
   "id": "ba1b25c2",
   "metadata": {
    "slideshow": {
     "slide_type": "slide"
    }
   },
   "source": [
    "<img src = 'https://i.blogs.es/1a9d2d/aves-colibri/1366_2000.jpg'>"
   ]
  },
  {
   "cell_type": "markdown",
   "id": "1a1cecae",
   "metadata": {
    "slideshow": {
     "slide_type": "slide"
    }
   },
   "source": [
    "<img src = 'https://www.yateenteraste.mx/wp-content/uploads/2021/05/velcro-origen.jpg'> "
   ]
  },
  {
   "cell_type": "markdown",
   "id": "2f39b2f1",
   "metadata": {
    "slideshow": {
     "slide_type": "slide"
    }
   },
   "source": [
    "Parece lógico, entonces, observar la arquitectura del cerebro en busca de inspiración sobre cómo construir una máquina inteligente."
   ]
  },
  {
   "cell_type": "markdown",
   "id": "3b81ebfd",
   "metadata": {
    "slideshow": {
     "slide_type": "slide"
    }
   },
   "source": [
    "<img src = 'https://www.analyticslane.com/storage/2018/05/redneuronal.png.webp'>"
   ]
  },
  {
   "cell_type": "markdown",
   "id": "65bfd0bc",
   "metadata": {
    "slideshow": {
     "slide_type": "slide"
    }
   },
   "source": [
    "Esta es la lógica que desencadenó las redes neuronales artificiales (ANN): \n",
    "* una ANN es un modelo de aprendizaje automático inspirado en las redes de neuronas biológicas que se encuentran en nuestros cerebros."
   ]
  },
  {
   "cell_type": "markdown",
   "id": "694fd04b",
   "metadata": {
    "slideshow": {
     "slide_type": "slide"
    }
   },
   "source": [
    "Sin embargo, aunque los aviones se inspiraron en las aves, no es necesario que aleteen."
   ]
  },
  {
   "cell_type": "markdown",
   "id": "d45f0da9",
   "metadata": {
    "slideshow": {
     "slide_type": "slide"
    }
   },
   "source": [
    "De manera similar, las ANN se han vuelto gradualmente bastante diferentes de sus primos biológicos. "
   ]
  },
  {
   "cell_type": "markdown",
   "id": "548b25e0",
   "metadata": {
    "slideshow": {
     "slide_type": "slide"
    }
   },
   "source": [
    "Algunos investigadores incluso argumentan que deberíamos abandonar la analogía biológica por completo   \n",
    "\n",
    "* (por ejemplo, diciendo \"unidades\" en lugar de \"neuronas\"), para no restringir nuestra creatividad a sistemas biológicamente plausibles."
   ]
  },
  {
   "cell_type": "markdown",
   "id": "8916f43d",
   "metadata": {
    "slideshow": {
     "slide_type": "slide"
    }
   },
   "source": [
    "Las ANN están en el centro mismo del Aprendizaje Profundo."
   ]
  },
  {
   "cell_type": "markdown",
   "id": "270212c8",
   "metadata": {
    "slideshow": {
     "slide_type": "slide"
    }
   },
   "source": [
    "Son versátiles, potentes y escalables,   \n",
    "* lo que los hace ideales para abordar tareas de aprendizaje automático grandes y muy complejas,   \n",
    "* como clasificar miles de millones de imágenes (por ejemplo, imágenes de Google),   \n",
    "* potenciar los servicios de reconocimiento de voz (por ejemplo, Siri de Apple),  "
   ]
  },
  {
   "cell_type": "markdown",
   "id": "0f966c1a",
   "metadata": {
    "slideshow": {
     "slide_type": "slide"
    }
   },
   "source": [
    " \n",
    "* recomendar los mejores videos para ver a cientos de millones de usuarios todos los días (por ejemplo, YouTube),   \n",
    "* o aprender a vencer al campeón mundial en el juego de Go (AlphaGo de DeepMind)."
   ]
  },
  {
   "cell_type": "markdown",
   "id": "f7125be0",
   "metadata": {
    "slideshow": {
     "slide_type": "slide"
    }
   },
   "source": [
    "La primera parte de este capítulo presenta las redes neuronales artificiales, comenzando con un recorrido rápido por las primeras arquitecturas ANN y llegando a los perceptrones multicapa (MLP), que se usan mucho en la actualidad (se explorarán otras arquitecturas en los próximos capítulos)."
   ]
  },
  {
   "cell_type": "markdown",
   "id": "e14a8deb",
   "metadata": {
    "slideshow": {
     "slide_type": "slide"
    }
   },
   "source": [
    "En la segunda parte, veremos cómo implementar redes neuronales utilizando la popular **API de Keras**."
   ]
  },
  {
   "cell_type": "markdown",
   "id": "989adde7",
   "metadata": {
    "slideshow": {
     "slide_type": "slide"
    }
   },
   "source": [
    "Esta es una API de alto nivel simple y bellamente diseñada para  \n",
    "* construir, \n",
    "* entrenar, \n",
    "* evaluar y \n",
    "* ejecutar redes neuronales."
   ]
  },
  {
   "cell_type": "markdown",
   "id": "7f9857ce",
   "metadata": {
    "slideshow": {
     "slide_type": "slide"
    }
   },
   "source": [
    "Pero no se deje engañar por su simplicidad:  \n",
    "\n",
    "* es lo suficientemente expresivo y flexible como para permitirle construir una amplia variedad de arquitecturas de redes neuronales."
   ]
  },
  {
   "cell_type": "markdown",
   "id": "8c429206",
   "metadata": {
    "slideshow": {
     "slide_type": "slide"
    }
   },
   "source": [
    "De hecho, probablemente sea suficiente para la mayoría de sus casos de uso."
   ]
  },
  {
   "cell_type": "markdown",
   "id": "c47a2594",
   "metadata": {
    "slideshow": {
     "slide_type": "slide"
    }
   },
   "source": [
    "Y si alguna vez necesita flexibilidad adicional, siempre puede escribir componentes Keras personalizados utilizando su API de nivel inferior, como veremos en el Capítulo 12."
   ]
  },
  {
   "cell_type": "markdown",
   "id": "ad8ecad3",
   "metadata": {
    "slideshow": {
     "slide_type": "slide"
    }
   },
   "source": [
    "Pero primero, ¡retrocedamos en el tiempo para ver cómo surgieron las redes neuronales artificiales!"
   ]
  },
  {
   "cell_type": "markdown",
   "id": "e3f7f873",
   "metadata": {
    "slideshow": {
     "slide_type": "slide"
    }
   },
   "source": [
    "# De las neuronas biológicas a las artificiales"
   ]
  },
  {
   "cell_type": "markdown",
   "id": "cf1ac33b",
   "metadata": {
    "slideshow": {
     "slide_type": "slide"
    }
   },
   "source": [
    "* Sorprendentemente, las ANN existen desde hace bastante tiempo:   \n",
    "* fueron introducidas por primera vez en 1943 por el neurofisiólogo Warren McCulloch y el matemático Walter Pitts."
   ]
  },
  {
   "cell_type": "markdown",
   "id": "3c2b25b8",
   "metadata": {
    "slideshow": {
     "slide_type": "slide"
    }
   },
   "source": [
    "En su artículo histórico \"Un cálculo lógico de ideas inmanentes en la actividad nerviosa\",  \n",
    "\n",
    "* McCulloch y Pitts presentaron un modelo computacional simplificado de cómo las neuronas biológicas podrían trabajar juntas en cerebros de animales para realizar cálculos complejos utilizando la lógica proposicional."
   ]
  },
  {
   "cell_type": "markdown",
   "id": "8f9172e4",
   "metadata": {
    "slideshow": {
     "slide_type": "slide"
    }
   },
   "source": [
    "Esta fue la primera arquitectura de red neuronal artificial."
   ]
  },
  {
   "cell_type": "markdown",
   "id": "60dd68ab",
   "metadata": {
    "slideshow": {
     "slide_type": "slide"
    }
   },
   "source": [
    "Desde entonces se han inventado muchas otras arquitecturas, como veremos."
   ]
  },
  {
   "cell_type": "markdown",
   "id": "2423c86b",
   "metadata": {
    "slideshow": {
     "slide_type": "slide"
    }
   },
   "source": [
    "Los primeros éxitos de las ANN llevaron a la creencia generalizada de que pronto estaríamos conversando con máquinas verdaderamente inteligentes."
   ]
  },
  {
   "cell_type": "markdown",
   "id": "ea0fc049",
   "metadata": {
    "slideshow": {
     "slide_type": "slide"
    }
   },
   "source": [
    "Cuando quedó claro en la década de 1960 que esta promesa no se cumpliría (al menos durante bastante tiempo), la financiación se fue a otra parte y las ANN entraron en un largo invierno."
   ]
  },
  {
   "cell_type": "markdown",
   "id": "32f00d1f",
   "metadata": {
    "slideshow": {
     "slide_type": "slide"
    }
   },
   "source": [
    "A principios de la década de 1980, se inventaron nuevas arquitecturas y se desarrollaron mejores técnicas de entrenamiento, lo que provocó un resurgimiento del interés por el conexionismo (el estudio de las redes neuronales)."
   ]
  },
  {
   "cell_type": "markdown",
   "id": "e6eb6ab3",
   "metadata": {
    "slideshow": {
     "slide_type": "slide"
    }
   },
   "source": [
    "Pero el progreso fue lento, y en la década de 1990 se inventaron otras poderosas técnicas de aprendizaje automático, como las máquinas de soporte vectorial (consulte el Capítulo 5)."
   ]
  },
  {
   "cell_type": "markdown",
   "id": "196b58b9",
   "metadata": {
    "slideshow": {
     "slide_type": "slide"
    }
   },
   "source": [
    "* Estas técnicas parecían ofrecer mejores resultados y bases teóricas más sólidas que las ANN,   \n",
    "* por lo que una vez más se suspendió el estudio de las redes neuronales."
   ]
  },
  {
   "cell_type": "markdown",
   "id": "457ec9dd",
   "metadata": {
    "slideshow": {
     "slide_type": "slide"
    }
   },
   "source": [
    "Ahora estamos presenciando otra ola de interés en las ANN."
   ]
  },
  {
   "cell_type": "markdown",
   "id": "9eb6b6e0",
   "metadata": {
    "slideshow": {
     "slide_type": "slide"
    }
   },
   "source": [
    "¿Se extinguirá esta ola como lo hicieron las anteriores?"
   ]
  },
  {
   "cell_type": "markdown",
   "id": "3144e48d",
   "metadata": {
    "slideshow": {
     "slide_type": "slide"
    }
   },
   "source": [
    "Bueno, aquí hay algunas buenas razones para creer que esta vez es diferente y que \n",
    "* el renovado interés en las RNA tendrá un impacto mucho más profundo en nuestras vidas:"
   ]
  },
  {
   "cell_type": "markdown",
   "id": "f629b6ed",
   "metadata": {
    "slideshow": {
     "slide_type": "slide"
    }
   },
   "source": [
    "* Ahora hay una gran cantidad de datos disponibles para entrenar redes neuronales, \n",
    "* y las ANN con frecuencia superan a otras técnicas de ML en problemas muy grandes y complejos."
   ]
  },
  {
   "cell_type": "markdown",
   "id": "a9958f85",
   "metadata": {
    "slideshow": {
     "slide_type": "slide"
    }
   },
   "source": [
    "* El tremendo **aumento en el poder de cómputo** desde la década de 1990 ahora hace posible entrenar grandes redes neuronales en una cantidad de tiempo razonable."
   ]
  },
  {
   "cell_type": "markdown",
   "id": "54d0fbc9",
   "metadata": {
    "slideshow": {
     "slide_type": "slide"
    }
   },
   "source": [
    "* Esto se debe en parte a la ley de Moore (la cantidad de componentes en los circuitos integrados se ha duplicado aproximadamente cada 2 años durante los últimos 50 años),  \n",
    "* pero también gracias a la industria del juego, que ha estimulado la producción de potentes **tarjetas GPU** por millones."
   ]
  },
  {
   "cell_type": "markdown",
   "id": "a55dfec1",
   "metadata": {
    "slideshow": {
     "slide_type": "slide"
    }
   },
   "source": [
    "Además, **las plataformas en la nube** han hecho que este poder sea accesible para todos."
   ]
  },
  {
   "cell_type": "markdown",
   "id": "bbd252b5",
   "metadata": {
    "slideshow": {
     "slide_type": "slide"
    }
   },
   "source": [
    "* Se han mejorado **los algoritmos de entrenamiento**."
   ]
  },
  {
   "cell_type": "markdown",
   "id": "94a3de1b",
   "metadata": {
    "slideshow": {
     "slide_type": "slide"
    }
   },
   "source": [
    "Para ser justos, son solo ligeramente diferentes de los que se usaron en la década de 1990, pero estos ajustes relativamente pequeños han tenido un gran impacto positivo."
   ]
  },
  {
   "cell_type": "markdown",
   "id": "b5b06609",
   "metadata": {
    "slideshow": {
     "slide_type": "slide"
    }
   },
   "source": [
    "Algunas limitaciones teóricas de las ANN han resultado ser benignas en la práctica."
   ]
  },
  {
   "cell_type": "markdown",
   "id": "6c736462",
   "metadata": {
    "slideshow": {
     "slide_type": "slide"
    }
   },
   "source": [
    "Por ejemplo, muchas personas pensaron que los algoritmos de entrenamiento ANN estaban condenados porque era probable que se quedaran atascados en **los óptimos locales**,   \n",
    "* pero resulta que esto es bastante raro en la práctica (y cuando es el caso, por lo general son bastante parecidos a los óptimos globales)."
   ]
  },
  {
   "cell_type": "markdown",
   "id": "8a6c19ec",
   "metadata": {
    "slideshow": {
     "slide_type": "slide"
    }
   },
   "source": [
    "Las ANN parecen haber entrado en un círculo virtuoso de financiación y progreso."
   ]
  },
  {
   "cell_type": "markdown",
   "id": "af808279",
   "metadata": {
    "slideshow": {
     "slide_type": "slide"
    }
   },
   "source": [
    "Los productos sorprendentes basados en ANN aparecen regularmente en los titulares de las noticias,   \n",
    "* lo que atrae cada vez más atención y financiamiento hacia ellos, lo que resulta en más y más progresos y productos aún más sorprendentes."
   ]
  },
  {
   "cell_type": "markdown",
   "id": "e1629102",
   "metadata": {
    "slideshow": {
     "slide_type": "slide"
    }
   },
   "source": [
    "# Neuronas biológicas"
   ]
  },
  {
   "cell_type": "markdown",
   "id": "44430361",
   "metadata": {
    "slideshow": {
     "slide_type": "slide"
    }
   },
   "source": [
    "Antes de hablar de las neuronas artificiales, echemos un vistazo rápido a una neurona biológica (representada en la figura 10-1)."
   ]
  },
  {
   "cell_type": "markdown",
   "id": "1e8502fd",
   "metadata": {
    "slideshow": {
     "slide_type": "slide"
    }
   },
   "source": [
    "<img src = 'https://github.com/marco-canas/didactica_ciencia_datos/blob/main/referentes/geron/part_2/c_10/figure_10_1.jpg?raw=true'>"
   ]
  },
  {
   "cell_type": "markdown",
   "id": "aa3cbc1f",
   "metadata": {
    "slideshow": {
     "slide_type": "slide"
    }
   },
   "source": [
    "Es una célula de aspecto inusual que se encuentra principalmente en el cerebro de los animales."
   ]
  },
  {
   "cell_type": "markdown",
   "id": "a33239ac",
   "metadata": {
    "slideshow": {
     "slide_type": "slide"
    }
   },
   "source": [
    "Está compuesto por  \n",
    "\n",
    "* un cuerpo celular que contiene el núcleo y la mayoría de los componentes complejos de la célula, \n",
    "\n",
    "* muchas extensiones ramificadas llamadas dendritas,   \n",
    "\n",
    "* más una extensión muy larga llamada axón."
   ]
  },
  {
   "cell_type": "markdown",
   "id": "c2b4bee7",
   "metadata": {
    "slideshow": {
     "slide_type": "slide"
    }
   },
   "source": [
    "La longitud del axón puede ser solo unas pocas veces más larga que el cuerpo celular, o hasta decenas de miles de veces más larga."
   ]
  },
  {
   "cell_type": "markdown",
   "id": "80718fd0",
   "metadata": {
    "slideshow": {
     "slide_type": "slide"
    }
   },
   "source": [
    "* Cerca de su extremo, el axón se divide en muchas ramas llamadas telodendrias, y\n",
    "* en la punta de estas ramas hay estructuras minúsculas llamadas terminales sinápticas (o simplemente sinapsis), que están conectadas a las dendritas o cuerpos celulares de otras neuronas."
   ]
  },
  {
   "cell_type": "markdown",
   "id": "c0b72f41",
   "metadata": {
    "slideshow": {
     "slide_type": "slide"
    }
   },
   "source": [
    "Las neuronas biológicas producen impulsos eléctricos cortos llamados potenciales de acción (AP, o simplemente señales)  \n",
    "* que viajan a lo largo de los axones y hacen que las sinapsis liberen señales químicas llamadas neurotransmisores. "
   ]
  },
  {
   "cell_type": "markdown",
   "id": "18730164",
   "metadata": {
    "slideshow": {
     "slide_type": "slide"
    }
   },
   "source": [
    "Cuando una neurona recibe una cantidad suficiente de estos neurotransmisores en unos pocos milisegundos, dispara sus propios impulsos eléctricos (en realidad, depende de los eurotransmisores, ya que algunos de ellos inhiben el disparo de la neurona)."
   ]
  },
  {
   "cell_type": "markdown",
   "id": "aa315749",
   "metadata": {
    "slideshow": {
     "slide_type": "slide"
    }
   },
   "source": [
    "* Por lo tanto, las neuronas biológicas individuales parecen comportarse de una manera bastante simple, \n",
    "* pero están organizadas en una vasta red de miles de millones, con cada neurona típicamente conectada a miles de otras neuronas. "
   ]
  },
  {
   "cell_type": "markdown",
   "id": "6942101c",
   "metadata": {
    "slideshow": {
     "slide_type": "slide"
    }
   },
   "source": [
    "Una red de neuronas bastante simples puede realizar cálculos muy complejos,   \n",
    "* al igual que un hormiguero complejo puede surgir de los esfuerzos combinados de hormigas simples."
   ]
  },
  {
   "cell_type": "markdown",
   "id": "5ca6847f",
   "metadata": {
    "slideshow": {
     "slide_type": "slide"
    }
   },
   "source": [
    "La arquitectura de las redes neuronales biológicas (BNN, por sus siglas en inglés) sigue siendo objeto de investigación activa,   \n",
    "* pero se han mapeado algunas partes del cerebro y parece que las neuronas a menudo se organizan en capas consecutivas, especialmente en la corteza cerebral (es decir, la capa externa de su cerebro), como se muestra en la figura 10-2."
   ]
  },
  {
   "cell_type": "markdown",
   "id": "e20b07d6",
   "metadata": {
    "slideshow": {
     "slide_type": "slide"
    }
   },
   "source": [
    "<img src = 'https://github.com/marco-canas/didactica_ciencia_datos/blob/main/referentes/geron/part_2/c_10/figure_10_2.jpg?raw=true'> "
   ]
  },
  {
   "cell_type": "markdown",
   "id": "db42db83",
   "metadata": {
    "slideshow": {
     "slide_type": "slide"
    }
   },
   "source": [
    "# Cálculos lógicos con neuronas"
   ]
  },
  {
   "cell_type": "markdown",
   "id": "6d5f571b",
   "metadata": {
    "slideshow": {
     "slide_type": "slide"
    }
   },
   "source": [
    "* McCulloch y Pitts propusieron un modelo muy simple de neurona biológica, que más tarde se conoció como neurona artificial: \n",
    "* tiene una o más entradas binarias (on/off) y una salida binaria."
   ]
  },
  {
   "cell_type": "markdown",
   "id": "423966cd",
   "metadata": {
    "slideshow": {
     "slide_type": "slide"
    }
   },
   "source": [
    "La neurona artificial activa su salida cuando más de un cierto número de sus entradas están activas."
   ]
  },
  {
   "cell_type": "markdown",
   "id": "fd9f1809",
   "metadata": {
    "slideshow": {
     "slide_type": "slide"
    }
   },
   "source": [
    "En su artículo, demostraron que, incluso con un modelo tan simplificado, es posible construir una red de neuronas artificiales que calcule cualquier proposición lógica que desee."
   ]
  },
  {
   "cell_type": "markdown",
   "id": "ad44367f",
   "metadata": {
    "slideshow": {
     "slide_type": "slide"
    }
   },
   "source": [
    "Para ver cómo funciona una red de este tipo, construyamos algunas ANN que realicen varios cálculos lógicos (consulte la figura 10-3), \n",
    "* suponiendo que una neurona se activa cuando al menos dos de sus entradas están activas."
   ]
  },
  {
   "cell_type": "markdown",
   "id": "aa93e12b",
   "metadata": {
    "slideshow": {
     "slide_type": "slide"
    }
   },
   "source": [
    "<img src = 'https://github.com/marco-canas/didactica_ciencia_datos/blob/main/referentes/geron/part_2/c_10/figure_10_3.jpg?raw=true'> "
   ]
  },
  {
   "cell_type": "markdown",
   "id": "25f3ed4d",
   "metadata": {
    "slideshow": {
     "slide_type": "slide"
    }
   },
   "source": [
    "Veamos qué hacen estas redes:"
   ]
  },
  {
   "cell_type": "markdown",
   "id": "3f667262",
   "metadata": {
    "slideshow": {
     "slide_type": "slide"
    }
   },
   "source": [
    "La primera red de la izquierda es **la función de identidad**: \n",
    "* si se activa la neurona A, también se activa la neurona C (ya que recibe dos señales de entrada de la neurona A);  \n",
    "* pero si la neurona A está apagada, entonces la neurona C también lo está."
   ]
  },
  {
   "cell_type": "markdown",
   "id": "f00425fb",
   "metadata": {
    "slideshow": {
     "slide_type": "slide"
    }
   },
   "source": [
    "La segunda red realiza **un AND lógico**: \n",
    "* la neurona C se activa solo cuando las neuronas A y B están activadas \n",
    "* (una sola señal de entrada no es suficiente para activar la neurona C)."
   ]
  },
  {
   "cell_type": "markdown",
   "id": "6972015f",
   "metadata": {
    "slideshow": {
     "slide_type": "slide"
    }
   },
   "source": [
    "La tercera red realiza un **OR lógico**: \n",
    "* la neurona C se activa si se activa la neurona A o la neurona B (o ambas)."
   ]
  },
  {
   "cell_type": "markdown",
   "id": "e1cddc43",
   "metadata": {
    "slideshow": {
     "slide_type": "slide"
    }
   },
   "source": [
    "Finalmente, si suponemos que una conexión de entrada puede inhibir la actividad de la neurona (que es el caso de las neuronas biológicas), entonces   \n",
    "* la cuarta red calcula una proposición lógica un poco más compleja: la neurona C se activa solo si la neurona A está activa y la neurona B está apagada. "
   ]
  },
  {
   "cell_type": "markdown",
   "id": "e7c0c555",
   "metadata": {
    "slideshow": {
     "slide_type": "slide"
    }
   },
   "source": [
    "Si la neurona A está activa todo el tiempo, obtienes **un NO lógico**:   \n",
    "* la neurona C está activa cuando la neurona B está apagada, y viceversa."
   ]
  },
  {
   "cell_type": "markdown",
   "id": "d3307101",
   "metadata": {
    "slideshow": {
     "slide_type": "slide"
    }
   },
   "source": [
    "Puede imaginar cómo se pueden combinar estas redes para calcular expresiones lógicas complejas (vea los ejercicios al final del capítulo para ver un ejemplo)."
   ]
  },
  {
   "cell_type": "markdown",
   "id": "1a5a80e9",
   "metadata": {
    "slideshow": {
     "slide_type": "slide"
    }
   },
   "source": [
    "# The Perceptron"
   ]
  },
  {
   "cell_type": "markdown",
   "id": "9866f7c1",
   "metadata": {
    "slideshow": {
     "slide_type": "slide"
    }
   },
   "source": [
    "El Perceptron es una de las arquitecturas ANN más simples,   \n",
    "* inventada en 1957 por Frank Rosenblatt.\n",
    "<img src = 'https://s3.amazonaws.com/s3.timetoast.com/public/uploads/photo/9917116/image/4d8988a1ce02e291141f7d7d9e944366'> "
   ]
  },
  {
   "cell_type": "markdown",
   "id": "811378ae",
   "metadata": {
    "slideshow": {
     "slide_type": "slide"
    }
   },
   "source": [
    "<img src = 'http://blog.josemarianoalvarez.com/wp-content/uploads/2018/06/ModeloPerceptron-1024x592.jpeg'> "
   ]
  },
  {
   "cell_type": "markdown",
   "id": "003176c2",
   "metadata": {
    "slideshow": {
     "slide_type": "slide"
    }
   },
   "source": [
    "* Se basa en una neurona artificial ligeramente diferente (consulte la figura 10-4)   \n",
    "* denominada unidad lógica de umbral (TLU) o, a veces, \n",
    "* unidad de umbral lineal (LTU)."
   ]
  },
  {
   "cell_type": "markdown",
   "id": "ccb05a3d",
   "metadata": {
    "slideshow": {
     "slide_type": "slide"
    }
   },
   "source": [
    "* Las entradas y salidas son números (en lugar de valores binarios de encendido/apagado), \n",
    "* y cada conexión de entrada está asociada con un peso."
   ]
  },
  {
   "cell_type": "markdown",
   "id": "a031ffe9",
   "metadata": {
    "slideshow": {
     "slide_type": "slide"
    }
   },
   "source": [
    "La TLU calcula una suma ponderada de sus entradas \n",
    "\n",
    "$$ (z = w_{1}x_{1} + w_{2}x_{2} + \\cdots + w_{n}x_{n} = x^{T}w), $$ \n",
    "\n",
    "* luego aplica una función de paso a esa suma y genera el resultado: $h_{w}(x) = step(z)$, donde $z = x^{T}w$."
   ]
  },
  {
   "cell_type": "markdown",
   "id": "e2c9c684",
   "metadata": {
    "slideshow": {
     "slide_type": "slide"
    }
   },
   "source": [
    "<img src = 'https://github.com/marco-canas/didactica_ciencia_datos/blob/main/referentes/geron/part_2/c_10/figure_10_4.jpg?raw=true'>"
   ]
  },
  {
   "cell_type": "markdown",
   "id": "24f8f166",
   "metadata": {
    "slideshow": {
     "slide_type": "slide"
    }
   },
   "source": [
    "La función escalonada más común utilizada en los perceptrones es la función escalonada de Heaviside (consulte la ecuación 10-1). "
   ]
  },
  {
   "cell_type": "markdown",
   "id": "ea44f6a9",
   "metadata": {
    "slideshow": {
     "slide_type": "slide"
    }
   },
   "source": [
    "A veces se usa la **función signo** en su lugar."
   ]
  },
  {
   "cell_type": "markdown",
   "id": "f6f5487b",
   "metadata": {
    "slideshow": {
     "slide_type": "slide"
    }
   },
   "source": [
    "Equation 10-1. Common step functions used in Perceptrons (assuming threshold = 0)\n",
    "\n",
    "\n",
    "$$ \\text{heaviside}(z) = \\begin{cases} 0 & \\text{si}\\ z < 0 \\\\ 1 & \\text{si}\\ z \\geq 0 \\end{cases} $$\n",
    "\n",
    "$$ sgn(z) = \\begin{cases} -1 & \\text{si}\\ z < 0 \\\\ 0 & \\text{si}\\ z = 0 \\\\ 1 & \\text{si}\\ z > 0 \\end{cases} $$"
   ]
  },
  {
   "cell_type": "markdown",
   "id": "7b528671",
   "metadata": {
    "slideshow": {
     "slide_type": "slide"
    }
   },
   "source": [
    "Se puede utilizar una única TLU para la clasificación binaria lineal simple."
   ]
  },
  {
   "cell_type": "markdown",
   "id": "ca05f38c",
   "metadata": {
    "slideshow": {
     "slide_type": "slide"
    }
   },
   "source": [
    "Calcula una combinación lineal de las entradas y, \n",
    "* si el resultado supera un umbral, genera la clase positiva. "
   ]
  },
  {
   "cell_type": "markdown",
   "id": "15574db2",
   "metadata": {
    "slideshow": {
     "slide_type": "slide"
    }
   },
   "source": [
    "De lo contrario, genera la clase negativa   \n",
    "* (al igual que una regresión logística o un clasificador SVM lineal)."
   ]
  },
  {
   "cell_type": "markdown",
   "id": "3f316365",
   "metadata": {
    "slideshow": {
     "slide_type": "slide"
    }
   },
   "source": [
    "Podría, por ejemplo, usar una sola TLU para clasificar las flores de iris en función de la longitud y el ancho de los pétalos (también agregando una función de sesgo adicional $x_{0} = 1$, tal como lo hicimos en capítulos anteriores)."
   ]
  },
  {
   "cell_type": "markdown",
   "id": "fb9b7603",
   "metadata": {
    "slideshow": {
     "slide_type": "slide"
    }
   },
   "source": [
    "Entrenar una TLU en este caso significa encontrar los valores correctos para $w_{0}, w_{1}$ y $w_{2}$ (el algoritmo de entrenamiento se analiza en breve)."
   ]
  },
  {
   "cell_type": "markdown",
   "id": "92a6fbb9",
   "metadata": {
    "slideshow": {
     "slide_type": "slide"
    }
   },
   "source": [
    "Un Perceptron se compone simplemente de una sola capa de TLU, con cada TLU conectada a todas las entradas. "
   ]
  },
  {
   "cell_type": "markdown",
   "id": "62432e4d",
   "metadata": {
    "slideshow": {
     "slide_type": "slide"
    }
   },
   "source": [
    "Cuando todas las neuronas de una capa están conectadas a cada neurona de la capa anterior (es decir, sus neuronas de entrada), la capa se denomina capa totalmente conectada o capa densa."
   ]
  },
  {
   "cell_type": "markdown",
   "id": "8afb88f5",
   "metadata": {
    "slideshow": {
     "slide_type": "slide"
    }
   },
   "source": [
    "Las entradas del Perceptron se alimentan a neuronas de paso especiales llamadas neuronas de entrada: emiten cualquier entrada que reciban."
   ]
  },
  {
   "cell_type": "markdown",
   "id": "24e72611",
   "metadata": {
    "slideshow": {
     "slide_type": "slide"
    }
   },
   "source": [
    "Todas las neuronas de entrada forman la capa de entrada."
   ]
  },
  {
   "cell_type": "markdown",
   "id": "f9ecdd67",
   "metadata": {
    "slideshow": {
     "slide_type": "slide"
    }
   },
   "source": [
    "Además, generalmente se agrega una función de sesgo adicional $(x_{0} = 1)$:   \n",
    "* generalmente se representa usando un tipo especial de neurona llamada neurona de sesgo, que genera 1 todo el tiempo."
   ]
  },
  {
   "cell_type": "markdown",
   "id": "1bd70642",
   "metadata": {
    "slideshow": {
     "slide_type": "slide"
    }
   },
   "source": [
    "En la figura 10-5 se representa un perceptrón con dos entradas y tres salidas."
   ]
  },
  {
   "cell_type": "markdown",
   "id": "3ed156dc",
   "metadata": {
    "slideshow": {
     "slide_type": "slide"
    }
   },
   "source": [
    "<img src = 'https://github.com/marco-canas/didactica_ciencia_datos/blob/main/referentes/geron/part_2/c_10/figure_10_5.jpg?raw=true'>"
   ]
  },
  {
   "cell_type": "markdown",
   "id": "e2b97e5b",
   "metadata": {
    "slideshow": {
     "slide_type": "slide"
    }
   },
   "source": [
    "Este Perceptron puede clasificar instancias simultáneamente en tres clases binarias diferentes, \n",
    "* lo que lo convierte en un clasificador de salida múltiple."
   ]
  },
  {
   "cell_type": "markdown",
   "id": "9a66075f",
   "metadata": {
    "slideshow": {
     "slide_type": "slide"
    }
   },
   "source": [
    "Gracias a la magia del álgebra lineal, la Ecuación 10-2 hace posible calcular eficientemente las salidas de una capa de neuronas artificiales para varias instancias a la vez."
   ]
  },
  {
   "cell_type": "markdown",
   "id": "336c5e31",
   "metadata": {
    "slideshow": {
     "slide_type": "slide"
    }
   },
   "source": [
    "Ecuación 10-2. Cálculo de las salidas de una capa completamente conectada\n",
    "\n",
    "$$ h_{w,b}(X) = \\phi(XW+ b)  $$"
   ]
  },
  {
   "cell_type": "markdown",
   "id": "9359dfb4",
   "metadata": {
    "slideshow": {
     "slide_type": "slide"
    }
   },
   "source": [
    "En esta ecuación:\n",
    "\n",
    "* Como siempre, $X$ representa la matriz de características de entrada. Tiene una fila por instancia y una columna por atributo.\n",
    "\n",
    "* La matriz de pesos $W$ contiene todos los pesos de conexión excepto los de la neurona de polarización. Tiene una fila por neurona de entrada y una columna por neurona artificial en la capa.\n",
    "\n",
    "* El vector de sesgo $b$ contiene todos los pesos de conexión entre la neurona de sesgo y las neuronas artificiales. Tiene un término de sesgo por neurona artificial."
   ]
  },
  {
   "cell_type": "markdown",
   "id": "43afaada",
   "metadata": {
    "slideshow": {
     "slide_type": "slide"
    }
   },
   "source": [
    "* La función $\\varphi$ se llama función de activación: cuando las neuronas artificiales son TLU, es una función escalonada (pero discutiremos otras funciones de activación en breve)."
   ]
  },
  {
   "cell_type": "markdown",
   "id": "099b6d58",
   "metadata": {
    "slideshow": {
     "slide_type": "slide"
    }
   },
   "source": [
    "Entonces, ¿cómo se forma un Perceptron?"
   ]
  },
  {
   "cell_type": "markdown",
   "id": "fbe73d60",
   "metadata": {
    "slideshow": {
     "slide_type": "slide"
    }
   },
   "source": [
    "El algoritmo de entrenamiento de Perceptron propuesto por Rosenblatt se inspiró en gran medida en la regla de Hebb."
   ]
  },
  {
   "cell_type": "markdown",
   "id": "f46c2176",
   "metadata": {
    "slideshow": {
     "slide_type": "slide"
    }
   },
   "source": [
    "En su libro de 1949 La Organización del Comportamiento (Wiley), Donald Hebb sugirió que cuando una neurona biológica desencadena a menudo otra neurona, la conexión entre estas dos neuronas se vuelve más fuerte."
   ]
  },
  {
   "cell_type": "markdown",
   "id": "0b15dd59",
   "metadata": {
    "slideshow": {
     "slide_type": "slide"
    }
   },
   "source": [
    "Siegrid Löwel luego resumió la idea de Hebb en la frase pegadiza, \"Células que disparan juntas, se conectan juntas\"; es decir, el peso de la conexión entre dos neuronas tiende a aumentar cuando disparan simultáneamente."
   ]
  },
  {
   "cell_type": "markdown",
   "id": "0a7fda75",
   "metadata": {
    "slideshow": {
     "slide_type": "slide"
    }
   },
   "source": [
    "Esta regla más tarde se conoció como la regla de Hebb (o aprendizaje hebbiano)."
   ]
  },
  {
   "cell_type": "markdown",
   "id": "69c4a7f7",
   "metadata": {
    "slideshow": {
     "slide_type": "slide"
    }
   },
   "source": [
    "Los perceptrones se entrenan mediante una variante de esta regla que tiene en cuenta el error que comete la red cuando realiza una predicción; la regla de aprendizaje de Perceptron refuerza las conexiones que ayudan a reducir el error."
   ]
  },
  {
   "cell_type": "markdown",
   "id": "f2d2998b",
   "metadata": {
    "slideshow": {
     "slide_type": "slide"
    }
   },
   "source": [
    "Más específicamente, el Perceptron recibe una instancia de entrenamiento a la vez, y para cada instancia hace sus predicciones. "
   ]
  },
  {
   "cell_type": "markdown",
   "id": "bb5f5c16",
   "metadata": {
    "slideshow": {
     "slide_type": "slide"
    }
   },
   "source": [
    "Por cada neurona de salida que produjo una predicción incorrecta, refuerza los pesos de conexión de las entradas que habrían contribuido a la predicción correcta. "
   ]
  },
  {
   "cell_type": "markdown",
   "id": "f9159370",
   "metadata": {
    "slideshow": {
     "slide_type": "slide"
    }
   },
   "source": [
    "La regla se muestra en la Ecuación 10-3."
   ]
  },
  {
   "cell_type": "markdown",
   "id": "2295a445",
   "metadata": {
    "slideshow": {
     "slide_type": "slide"
    }
   },
   "source": [
    "Ecuación 10-3. Regla de aprendizaje de perceptrón (actualización de peso)\n",
    "\n",
    "$$ w_{i,j}^{(\\text{next step})} = w_{i,j} + \\eta(y_{j} - \\hat{y}_{j})x_{i} $$\n"
   ]
  },
  {
   "cell_type": "markdown",
   "id": "e4797c69",
   "metadata": {
    "slideshow": {
     "slide_type": "slide"
    }
   },
   "source": [
    "En esta ecuación:\n",
    "\n",
    "* $w_{i,j}$ es el peso de conexión entre la $i$ ésima neurona de entrada y la $j$ ésima neurona de salida.\n",
    "* $x_{i}$ es el valor de entrada $i$ de la instancia de entrenamiento actual.\n",
    "* $\\hat{y}_{j}$ es la salida de la neurona de salida $j$ para la instancia de entrenamiento actual.\n",
    "* $y_{j}$ es la salida objetivo de la neurona de salida $j$ para la instancia de entrenamiento actual.\n",
    "* $\\eta$ es la tasa de aprendizaje."
   ]
  },
  {
   "cell_type": "markdown",
   "id": "586c36ec",
   "metadata": {
    "slideshow": {
     "slide_type": "slide"
    }
   },
   "source": [
    "El límite de decisión de cada neurona de salida es lineal, por lo que los perceptrones son incapaces de aprender patrones complejos (al igual que los clasificadores de regresión logística)."
   ]
  },
  {
   "cell_type": "markdown",
   "id": "6343e1fb",
   "metadata": {
    "slideshow": {
     "slide_type": "slide"
    }
   },
   "source": [
    "Sin embargo, si las instancias de entrenamiento son linealmente separables, Rosenblatt demostró que este algoritmo convergería en una solución."
   ]
  },
  {
   "cell_type": "markdown",
   "id": "8e4a8ea0",
   "metadata": {
    "slideshow": {
     "slide_type": "slide"
    }
   },
   "source": [
    "Esto se llama el teorema de convergencia del perceptrón."
   ]
  },
  {
   "cell_type": "markdown",
   "id": "a0f2f238",
   "metadata": {
    "slideshow": {
     "slide_type": "slide"
    }
   },
   "source": [
    "Scikit-Learn proporciona una clase Perceptron que implementa una red de una sola TLU."
   ]
  },
  {
   "cell_type": "markdown",
   "id": "708ae0bf",
   "metadata": {
    "slideshow": {
     "slide_type": "slide"
    }
   },
   "source": [
    "Se puede usar más o menos como cabría esperar, por ejemplo, en el conjunto de datos del iris (presentado en el Capítulo 4):"
   ]
  },
  {
   "cell_type": "code",
   "execution_count": 1,
   "id": "84100ff3",
   "metadata": {
    "slideshow": {
     "slide_type": "slide"
    }
   },
   "outputs": [
    {
     "data": {
      "text/plain": [
       "array([0], dtype=int64)"
      ]
     },
     "execution_count": 1,
     "metadata": {},
     "output_type": "execute_result"
    }
   ],
   "source": [
    "import numpy as np\n",
    "from sklearn.datasets import load_iris\n",
    "from sklearn.linear_model import Perceptron\n",
    "iris = load_iris()\n",
    "X = iris.data[:, (2, 3)] # petal length, petal width\n",
    "y = (iris.target == 0).astype(np.int64) # Iris setosa?\n",
    "per_clf = Perceptron()\n",
    "per_clf.fit(X, y)\n",
    "y_pred = per_clf.predict([[2, 0.5]]) \n",
    "y_pred"
   ]
  },
  {
   "cell_type": "markdown",
   "id": "6deb6f8f",
   "metadata": {
    "slideshow": {
     "slide_type": "slide"
    }
   },
   "source": [
    "Es posible que haya notado que el algoritmo de aprendizaje de Perceptron se parece mucho al descenso de gradiente estocástico."
   ]
  },
  {
   "cell_type": "markdown",
   "id": "c3312376",
   "metadata": {
    "slideshow": {
     "slide_type": "slide"
    }
   },
   "source": [
    "De hecho, la clase Perceptron de Scikit-Learn es equivalente a usar un SGDClassifier con los siguientes hiperparámetros: `loss=\"perceptron\", learning_rate=\"constant\", eta0=1` (la tasa de aprendizaje) y `penalty=None` (no regularización)."
   ]
  },
  {
   "cell_type": "markdown",
   "id": "ee442445",
   "metadata": {
    "slideshow": {
     "slide_type": "slide"
    }
   },
   "source": [
    "Tenga en cuenta que, a diferencia de los clasificadores de regresión logística, los perceptrones no generan una probabilidad de clase; más bien, hacen predicciones basadas en un umbral estricto."
   ]
  },
  {
   "cell_type": "markdown",
   "id": "82954680",
   "metadata": {
    "slideshow": {
     "slide_type": "slide"
    }
   },
   "source": [
    "Esta es una de las razones para preferir la regresión logística a los perceptrones."
   ]
  },
  {
   "cell_type": "markdown",
   "id": "f8b207ad",
   "metadata": {
    "slideshow": {
     "slide_type": "slide"
    }
   },
   "source": [
    "# El problema de clasificación Exclusive OR (XOR)"
   ]
  },
  {
   "cell_type": "markdown",
   "id": "b24ec0c2",
   "metadata": {
    "slideshow": {
     "slide_type": "slide"
    }
   },
   "source": [
    "En su monografía Perceptrons de 1969, Marvin Minsky y Seymour Papert destacaron una serie de debilidades graves de los perceptrones, en particular, el hecho de que son incapaces de resolver algunos problemas triviales (por ejemplo, el problema de clasificación Exclusive OR (XOR); consulte el lado izquierdo de la Figura 10-6)."
   ]
  },
  {
   "cell_type": "markdown",
   "id": "7a091736",
   "metadata": {
    "slideshow": {
     "slide_type": "slide"
    }
   },
   "source": [
    "<img src = 'https://github.com/marco-canas/didactica_ciencia_datos/blob/main/referentes/geron/part_2/c_10/figure_10_6.jpg?raw=true'> "
   ]
  },
  {
   "cell_type": "markdown",
   "id": "1721f7d7",
   "metadata": {
    "slideshow": {
     "slide_type": "slide"
    }
   },
   "source": [
    "Esto es cierto para cualquier otro modelo de clasificación lineal (como los clasificadores de regresión logística), pero los investigadores esperaban mucho más de los perceptrones, y algunos estaban tan decepcionados que abandonaron las redes neuronales por completo en favor de problemas de nivel superior como lógica, resolución de problemas y búsqueda."
   ]
  },
  {
   "cell_type": "markdown",
   "id": "74d2fd54",
   "metadata": {},
   "source": [
    "# Solución al problema del Perceptron en cuanto a la clasificación XOR"
   ]
  },
  {
   "cell_type": "markdown",
   "id": "59f765d0",
   "metadata": {
    "slideshow": {
     "slide_type": "slide"
    }
   },
   "source": [
    "Resulta que algunas de las limitaciones de los perceptrones pueden eliminarse apilando varios perceptrones. "
   ]
  },
  {
   "cell_type": "markdown",
   "id": "6362ac11",
   "metadata": {
    "slideshow": {
     "slide_type": "slide"
    }
   },
   "source": [
    "La RNA resultante se denomina **perceptrón multicapa** (MLP)."
   ]
  },
  {
   "cell_type": "markdown",
   "id": "ecdd32ec",
   "metadata": {
    "slideshow": {
     "slide_type": "slide"
    }
   },
   "source": [
    "Un MLP puede resolver el problema XOR, como puede verificar calculando la salida del MLP representado en el lado derecho de la Figura 10-6:   \n",
    "* con entradas $(0, 0)$ o $(1, 1)$, la red genera 0, y   \n",
    "* con entradas $(0, 1)$ o $(1, 0)$ genera $1$."
   ]
  },
  {
   "cell_type": "markdown",
   "id": "22b420cf",
   "metadata": {
    "slideshow": {
     "slide_type": "slide"
    }
   },
   "source": [
    "Todas las conexiones tienen un peso igual a 1, excepto las cuatro conexiones donde se muestra el peso. "
   ]
  },
  {
   "cell_type": "markdown",
   "id": "44f8a5de",
   "metadata": {
    "slideshow": {
     "slide_type": "slide"
    }
   },
   "source": [
    "¡Intente verificar que esta red realmente resuelve el problema XOR!"
   ]
  },
  {
   "cell_type": "markdown",
   "id": "89de9b9b",
   "metadata": {
    "slideshow": {
     "slide_type": "slide"
    }
   },
   "source": [
    "# Verificación de que la red de Geron resuelve el problema XOR"
   ]
  },
  {
   "cell_type": "code",
   "execution_count": null,
   "id": "f403418f",
   "metadata": {
    "slideshow": {
     "slide_type": "slide"
    }
   },
   "outputs": [],
   "source": []
  },
  {
   "cell_type": "code",
   "execution_count": null,
   "id": "7971e3b0",
   "metadata": {
    "slideshow": {
     "slide_type": "slide"
    }
   },
   "outputs": [],
   "source": []
  },
  {
   "cell_type": "code",
   "execution_count": null,
   "id": "a29e40fc",
   "metadata": {
    "slideshow": {
     "slide_type": "slide"
    }
   },
   "outputs": [],
   "source": []
  },
  {
   "cell_type": "markdown",
   "id": "b7a7dc1d",
   "metadata": {
    "slideshow": {
     "slide_type": "slide"
    }
   },
   "source": [
    "## El perceptrón multicapa y la retropropagación\n"
   ]
  },
  {
   "cell_type": "markdown",
   "id": "767c9745",
   "metadata": {
    "slideshow": {
     "slide_type": "slide"
    }
   },
   "source": [
    "Un MLP se compone de una capa de entrada (de paso), una o más capas de TLU, llamadas capas ocultas, y una capa final de TLU llamada capa de salida (consulte la Figura 10-7)."
   ]
  },
  {
   "cell_type": "markdown",
   "id": "a2949dc8",
   "metadata": {
    "slideshow": {
     "slide_type": "slide"
    }
   },
   "source": [
    "Las capas cercanas a la capa de entrada generalmente se denominan capas inferiores, y las cercanas a las salidas generalmente se denominan capas superiores."
   ]
  },
  {
   "cell_type": "markdown",
   "id": "02c4113d",
   "metadata": {
    "slideshow": {
     "slide_type": "slide"
    }
   },
   "source": [
    "Cada capa, excepto la capa de salida, incluye una neurona de polarización y está completamente conectada a la siguiente capa."
   ]
  },
  {
   "cell_type": "markdown",
   "id": "5b78dc9c",
   "metadata": {
    "slideshow": {
     "slide_type": "slide"
    }
   },
   "source": [
    "<img src = 'https://github.com/marco-canas/didactica_ciencia_datos/blob/main/referentes/geron/part_2/c_10/figure_10_7.jpg?raw=true'> "
   ]
  },
  {
   "cell_type": "markdown",
   "id": "cd05ff2e",
   "metadata": {
    "slideshow": {
     "slide_type": "slide"
    }
   },
   "source": [
    "## NOTE"
   ]
  },
  {
   "cell_type": "markdown",
   "id": "01ee6d91",
   "metadata": {
    "slideshow": {
     "slide_type": "slide"
    }
   },
   "source": [
    "La señal fluye solo en una dirección (de las entradas a las salidas), por lo que esta arquitectura es un ejemplo de una red neuronal feedforward (FNN)."
   ]
  },
  {
   "cell_type": "markdown",
   "id": "a6dd44f3",
   "metadata": {
    "slideshow": {
     "slide_type": "slide"
    }
   },
   "source": [
    "Cuando una ANN contiene una pila profunda de capas ocultas, se denomina red neuronal profunda (DNN)."
   ]
  },
  {
   "cell_type": "markdown",
   "id": "867a4a22",
   "metadata": {
    "slideshow": {
     "slide_type": "slide"
    }
   },
   "source": [
    "El campo del aprendizaje profundo estudia las DNN y, en general, los modelos que contienen pilas profundas de cálculos."
   ]
  },
  {
   "cell_type": "markdown",
   "id": "63933721",
   "metadata": {
    "slideshow": {
     "slide_type": "slide"
    }
   },
   "source": [
    "Aun así, mucha gente habla de Deep Learning cuando se trata de redes neuronales (incluso superficiales)."
   ]
  },
  {
   "cell_type": "markdown",
   "id": "898bdeb2",
   "metadata": {
    "slideshow": {
     "slide_type": "slide"
    }
   },
   "source": [
    "Durante muchos años, los investigadores lucharon por encontrar una manera de entrenar a los MLP, sin éxito."
   ]
  },
  {
   "cell_type": "markdown",
   "id": "a24dfead",
   "metadata": {
    "slideshow": {
     "slide_type": "slide"
    }
   },
   "source": [
    "Pero en 1986, David Rumelhart, Geoffrey Hinton y Ronald Williams publicaron un artículo innovador que introdujo la\n",
    "algoritmo de entrenamiento de retropropagación, que todavía se usa en la actualidad."
   ]
  },
  {
   "cell_type": "markdown",
   "id": "1d83ff3f",
   "metadata": {
    "slideshow": {
     "slide_type": "slide"
    }
   },
   "source": [
    "En resumen, es Gradient Descent (presentado en el Capítulo 4) que utiliza una técnica eficiente para calcular los gradientes automáticamente: en solo dos pasadas a través de la red (una hacia adelante y otra hacia atrás), el algoritmo de retropropagación puede calcular el gradiente de la red. error con respecto a cada parámetro del modelo. "
   ]
  },
  {
   "cell_type": "markdown",
   "id": "d05bb67e",
   "metadata": {
    "slideshow": {
     "slide_type": "slide"
    }
   },
   "source": [
    "En otras palabras, puede averiguar cómo se debe ajustar cada peso de conexión y cada término de sesgo para reducir el error."
   ]
  },
  {
   "cell_type": "markdown",
   "id": "d6213116",
   "metadata": {
    "slideshow": {
     "slide_type": "slide"
    }
   },
   "source": [
    "Una vez que tiene estos gradientes, simplemente realiza un paso de descenso de gradiente regular y todo el proceso se repite hasta que la red converge a la solución."
   ]
  },
  {
   "cell_type": "markdown",
   "id": "77162cbf",
   "metadata": {
    "slideshow": {
     "slide_type": "slide"
    }
   },
   "source": [
    "## NOTE"
   ]
  },
  {
   "cell_type": "markdown",
   "id": "885c073f",
   "metadata": {
    "slideshow": {
     "slide_type": "slide"
    }
   },
   "source": [
    "El cálculo automático de gradientes se denomina diferenciación automática o autodiff."
   ]
  },
  {
   "cell_type": "markdown",
   "id": "b17210b9",
   "metadata": {
    "slideshow": {
     "slide_type": "slide"
    }
   },
   "source": [
    "There are various autodiff techniques, with different pros and cons. "
   ]
  },
  {
   "cell_type": "markdown",
   "id": "0e271af4",
   "metadata": {
    "slideshow": {
     "slide_type": "slide"
    }
   },
   "source": [
    "The one used by backpropagation is called reverse-mode autodiff. "
   ]
  },
  {
   "cell_type": "markdown",
   "id": "3cdcd823",
   "metadata": {
    "slideshow": {
     "slide_type": "slide"
    }
   },
   "source": [
    "It is fast and precise, and is well suited when the function to differentiate has many variables (e.g., connection weights) and few outputs (e.g., one loss). If you want to learn more about autodiff, check out Appendix D."
   ]
  },
  {
   "cell_type": "markdown",
   "id": "a3397ede",
   "metadata": {
    "slideshow": {
     "slide_type": "slide"
    }
   },
   "source": [
    "Let’s run through this algorithm in a bit more detail: It handles one mini-batch at a time (for example, containing 32\n",
    "instances each), and it goes through the full training set multiple times. "
   ]
  },
  {
   "cell_type": "markdown",
   "id": "423b2650",
   "metadata": {
    "slideshow": {
     "slide_type": "slide"
    }
   },
   "source": [
    "Each pass is called an epoch."
   ]
  },
  {
   "cell_type": "markdown",
   "id": "f381843b",
   "metadata": {
    "slideshow": {
     "slide_type": "slide"
    }
   },
   "source": [
    "Each mini-batch is passed to the network’s input layer, which sends it to the first hidden layer. "
   ]
  },
  {
   "cell_type": "markdown",
   "id": "9b0c7e9c",
   "metadata": {
    "slideshow": {
     "slide_type": "slide"
    }
   },
   "source": [
    "The algorithm then computes the output of all the neurons in this layer (for every instance in the mini-batch). "
   ]
  },
  {
   "cell_type": "markdown",
   "id": "144103c8",
   "metadata": {
    "slideshow": {
     "slide_type": "slide"
    }
   },
   "source": [
    "The result is passed on to the next layer, its output is computed and passed to the next layer, and so on until we get the output of the last layer, the output layer. "
   ]
  },
  {
   "cell_type": "markdown",
   "id": "a82d32b3",
   "metadata": {
    "slideshow": {
     "slide_type": "slide"
    }
   },
   "source": [
    "This is the forward pass: it is exactly like making predictions, except all intermediate results are preserved since they are needed for the backward pass."
   ]
  },
  {
   "cell_type": "markdown",
   "id": "aed898e9",
   "metadata": {
    "slideshow": {
     "slide_type": "slide"
    }
   },
   "source": [
    "Next, the algorithm measures the network’s output error (i.e., it uses a loss function that compares the desired output and the actual output of the network, and returns some measure of the error)."
   ]
  },
  {
   "cell_type": "markdown",
   "id": "878d18eb",
   "metadata": {
    "slideshow": {
     "slide_type": "slide"
    }
   },
   "source": [
    "Then it computes how much each output connection contributed to the error. "
   ]
  },
  {
   "cell_type": "markdown",
   "id": "fe4289dc",
   "metadata": {
    "slideshow": {
     "slide_type": "slide"
    }
   },
   "source": [
    "This is done analytically by applying the chain rule (perhaps the most fundamental rule in calculus), which makes this\n",
    "step fast and precise."
   ]
  },
  {
   "cell_type": "markdown",
   "id": "e0ee2bda",
   "metadata": {
    "slideshow": {
     "slide_type": "slide"
    }
   },
   "source": [
    "The algorithm then measures how much of these error contributions came from each connection in the layer below, again\n",
    "using the chain rule, working backward until the algorithm reaches the input layer. "
   ]
  },
  {
   "cell_type": "markdown",
   "id": "66501936",
   "metadata": {
    "slideshow": {
     "slide_type": "slide"
    }
   },
   "source": [
    "As explained earlier, this reverse pass efficiently measures the error gradient across all the connection weights in the\n",
    "network by propagating the error gradient backward through the network (hence the name of the algorithm)."
   ]
  },
  {
   "cell_type": "markdown",
   "id": "a0acd277",
   "metadata": {
    "slideshow": {
     "slide_type": "slide"
    }
   },
   "source": [
    "Finally, the algorithm performs a Gradient Descent step to tweak all the connection weights in the network, using the error gradients it just computed."
   ]
  },
  {
   "cell_type": "markdown",
   "id": "36f1a8ee",
   "metadata": {
    "slideshow": {
     "slide_type": "slide"
    }
   },
   "source": [
    "This algorithm is so important that it’s worth summarizing it again: for each training instance, the backpropagation algorithm first makes a prediction (forward pass) and measures the error, then goes through each layer in reverse to measure the error contribution from each connection (reverse pass), and finally tweaks the connection weights to reduce the error (Gradient Descent step)."
   ]
  },
  {
   "cell_type": "markdown",
   "id": "cf080353",
   "metadata": {
    "slideshow": {
     "slide_type": "slide"
    }
   },
   "source": [
    "## ADVERTENCIA"
   ]
  },
  {
   "cell_type": "markdown",
   "id": "224fc7eb",
   "metadata": {
    "slideshow": {
     "slide_type": "slide"
    }
   },
   "source": [
    "Es importante inicializar aleatoriamente todos los pesos de conexión de las capas ocultas, de lo contrario, el entrenamiento fallará. "
   ]
  },
  {
   "cell_type": "markdown",
   "id": "5dfcedcc",
   "metadata": {
    "slideshow": {
     "slide_type": "slide"
    }
   },
   "source": [
    "For example, if you initialize all weights and biases to zero, then all neurons in a given layer will be perfectly identical, and thus backpropagation will affect them in exactly the same way, so they will remain identical. "
   ]
  },
  {
   "cell_type": "markdown",
   "id": "fde55bea",
   "metadata": {
    "slideshow": {
     "slide_type": "slide"
    }
   },
   "source": [
    "In other words, despite having hundreds of neurons per layer, your model will act as if it had only one neuron per layer: it won’t be too smart. "
   ]
  },
  {
   "cell_type": "markdown",
   "id": "922199a4",
   "metadata": {
    "slideshow": {
     "slide_type": "slide"
    }
   },
   "source": [
    "If instead you randomly initialize the weights, you break the symmetry and allow backpropagation to train a diverse team of neurons."
   ]
  },
  {
   "cell_type": "markdown",
   "id": "2b1818dc",
   "metadata": {
    "slideshow": {
     "slide_type": "slide"
    }
   },
   "source": [
    "In order for this algorithm to work properly, its authors made a key change to the MLP’s architecture: they replaced the step function with the logistic (sigmoid) function, $\\sigma(z) = 1 / (1 + exp(–z))$. "
   ]
  },
  {
   "cell_type": "markdown",
   "id": "b02051d8",
   "metadata": {
    "slideshow": {
     "slide_type": "slide"
    }
   },
   "source": [
    "This was essential because the step function contains only flat segments, so there is no gradient to work with (Gradient Descent cannot move on a flat surface), while the logistic function has a well-defined nonzero derivative everywhere, allowing Gradient Descent to make some progress at every step. "
   ]
  },
  {
   "cell_type": "markdown",
   "id": "9dbc164e",
   "metadata": {
    "slideshow": {
     "slide_type": "slide"
    }
   },
   "source": [
    "In fact, the backpropagation algorithm works well with many other activation functions, not just the logistic function. "
   ]
  },
  {
   "cell_type": "markdown",
   "id": "ba667b68",
   "metadata": {
    "slideshow": {
     "slide_type": "slide"
    }
   },
   "source": [
    "Here are two other popular choices: The hyperbolic tangent function: $\\tanh(z) = 2\\sigma(2z) – 1$"
   ]
  },
  {
   "cell_type": "markdown",
   "id": "74fc5fe9",
   "metadata": {
    "slideshow": {
     "slide_type": "slide"
    }
   },
   "source": [
    "Just like the logistic function, this activation function is S-shaped, continuous, and differentiable, but its output value ranges from –1 to 1 (instead of 0 to 1 in the case of the logistic function). "
   ]
  },
  {
   "cell_type": "markdown",
   "id": "5b714a65",
   "metadata": {
    "slideshow": {
     "slide_type": "slide"
    }
   },
   "source": [
    "That range tends to make each layer’s output more or less centered around 0 at the beginning of training, which often helps speed up convergence."
   ]
  },
  {
   "cell_type": "markdown",
   "id": "c9868c29",
   "metadata": {
    "slideshow": {
     "slide_type": "slide"
    }
   },
   "source": [
    "The Rectified Linear Unit function:   \n",
    "\n",
    "$$ ReLU(z) = max(0, z) $$"
   ]
  },
  {
   "cell_type": "markdown",
   "id": "00e5d07c",
   "metadata": {
    "slideshow": {
     "slide_type": "slide"
    }
   },
   "source": [
    "The ReLU function is continuous but unfortunately not differentiable at $z = 0$ (the slope changes abruptly, which can make Gradient Descent bounce around), and its derivative is 0 for $z < 0$. "
   ]
  },
  {
   "cell_type": "markdown",
   "id": "225ce7e1",
   "metadata": {
    "slideshow": {
     "slide_type": "slide"
    }
   },
   "source": [
    "In practice, however, it works very well and has the advantage of being fast to compute, so it has become the default. "
   ]
  },
  {
   "cell_type": "markdown",
   "id": "7112abbf",
   "metadata": {
    "slideshow": {
     "slide_type": "slide"
    }
   },
   "source": [
    "Most importantly, the fact that it does not have a maximum output value helps reduce some issues during Gradient Descent (we will come back to this in Chapter 11)."
   ]
  },
  {
   "cell_type": "markdown",
   "id": "4d012501",
   "metadata": {
    "slideshow": {
     "slide_type": "slide"
    }
   },
   "source": [
    "These popular activation functions and their derivatives are represented in Figure 10-8. "
   ]
  },
  {
   "cell_type": "markdown",
   "id": "8d768919",
   "metadata": {
    "slideshow": {
     "slide_type": "slide"
    }
   },
   "source": [
    "But wait! Why do we need activation functions in the first place? Well, if you chain several linear transformations, all you get is a linear transformation. "
   ]
  },
  {
   "cell_type": "markdown",
   "id": "41ccf30f",
   "metadata": {
    "slideshow": {
     "slide_type": "slide"
    }
   },
   "source": [
    "For example, if $f(x) = 2x + 3$ and $g(x) = 5x – 1$, then chaining these two linear functions gives you another linear function:\n",
    "$f(g(x)) = 2(5x – 1) + 3 = 10x + 1$. "
   ]
  },
  {
   "cell_type": "markdown",
   "id": "b7a41c26",
   "metadata": {
    "slideshow": {
     "slide_type": "slide"
    }
   },
   "source": [
    "So if you don’t have some nonlinearity between layers, then even a deep stack of layers is equivalent to a single layer, and you can’t solve very complex problems with that. "
   ]
  },
  {
   "cell_type": "markdown",
   "id": "81fff8b7",
   "metadata": {
    "slideshow": {
     "slide_type": "slide"
    }
   },
   "source": [
    "Conversely, a large enough DNN with nonlinear activations can theoretically approximate any continuous function."
   ]
  },
  {
   "cell_type": "markdown",
   "id": "86ac0d0e",
   "metadata": {
    "slideshow": {
     "slide_type": "slide"
    }
   },
   "source": [
    "<img src = 'https://github.com/marco-canas/didactica_ciencia_datos/blob/main/referentes/geron/part_2/c_10/figure_10_8.jpg?raw=true'>"
   ]
  },
  {
   "cell_type": "markdown",
   "id": "75a3c530",
   "metadata": {
    "slideshow": {
     "slide_type": "slide"
    }
   },
   "source": [
    "OK! You know where neural nets came from, what their architecture is, and how to compute their outputs. "
   ]
  },
  {
   "cell_type": "markdown",
   "id": "40b7f6b7",
   "metadata": {
    "slideshow": {
     "slide_type": "slide"
    }
   },
   "source": [
    "You’ve also learned about the backpropagation algorithm. "
   ]
  },
  {
   "cell_type": "markdown",
   "id": "6f6fe221",
   "metadata": {
    "slideshow": {
     "slide_type": "slide"
    }
   },
   "source": [
    "But what exactly can you do with them?"
   ]
  },
  {
   "cell_type": "markdown",
   "id": "8d8c3462",
   "metadata": {
    "slideshow": {
     "slide_type": "slide"
    }
   },
   "source": [
    "## Regression MLPs"
   ]
  },
  {
   "cell_type": "markdown",
   "id": "536166c4",
   "metadata": {
    "slideshow": {
     "slide_type": "slide"
    }
   },
   "source": [
    "First, MLPs can be used for regression tasks. "
   ]
  },
  {
   "cell_type": "markdown",
   "id": "453e0f79",
   "metadata": {
    "slideshow": {
     "slide_type": "slide"
    }
   },
   "source": [
    "If you want to predict a single value (e.g., the price of a house, given many of its features), then you just need a single output neuron: its output is the predicted value. "
   ]
  },
  {
   "cell_type": "markdown",
   "id": "834ab9d9",
   "metadata": {
    "slideshow": {
     "slide_type": "slide"
    }
   },
   "source": [
    "For multivariate regression (i.e., to predict multiple values at once), you need one output neuron per output dimension. "
   ]
  },
  {
   "cell_type": "markdown",
   "id": "10586824",
   "metadata": {
    "slideshow": {
     "slide_type": "slide"
    }
   },
   "source": [
    "For example, to locate the center of an object in an image, you need to predict 2D coordinates, so you need two output neurons. "
   ]
  },
  {
   "cell_type": "markdown",
   "id": "8a84ff6d",
   "metadata": {
    "slideshow": {
     "slide_type": "slide"
    }
   },
   "source": [
    "If you also want to place a bounding box around the object, then you need two more numbers: the width and the height of the\n",
    "object. "
   ]
  },
  {
   "cell_type": "markdown",
   "id": "6d18ac97",
   "metadata": {
    "slideshow": {
     "slide_type": "slide"
    }
   },
   "source": [
    "So, you end up with four output neurons."
   ]
  },
  {
   "cell_type": "markdown",
   "id": "2485d6d0",
   "metadata": {
    "slideshow": {
     "slide_type": "slide"
    }
   },
   "source": [
    "In general, when building an MLP for regression, you do not want to use any activation function for the output neurons, so they are free to output any range of values. "
   ]
  },
  {
   "cell_type": "markdown",
   "id": "06d14ddd",
   "metadata": {
    "slideshow": {
     "slide_type": "slide"
    }
   },
   "source": [
    "If you want to guarantee that the output will always be positive, then you can use the ReLU activation function in the output layer."
   ]
  },
  {
   "cell_type": "markdown",
   "id": "5ada18b2",
   "metadata": {
    "slideshow": {
     "slide_type": "slide"
    }
   },
   "source": [
    "Alternatively, you can use the softplus activation function, which is a smooth variant of ReLU: $softplus(z) = log(1 + exp(z))$. "
   ]
  },
  {
   "cell_type": "markdown",
   "id": "aeed1573",
   "metadata": {
    "slideshow": {
     "slide_type": "slide"
    }
   },
   "source": [
    "It is close to 0 when z is negative, and close to z when z is positive. "
   ]
  },
  {
   "cell_type": "markdown",
   "id": "5959d358",
   "metadata": {
    "slideshow": {
     "slide_type": "slide"
    }
   },
   "source": [
    "Finally, if you want to guarantee that the predictions will fall within a given range of values, then you can use the logistic function or the hyperbolic tangent, and then scale the labels to the appropriate range: 0 to 1 for the logistic function and –1 to 1 for the hyperbolic tangent."
   ]
  },
  {
   "cell_type": "markdown",
   "id": "543dbdad",
   "metadata": {
    "slideshow": {
     "slide_type": "slide"
    }
   },
   "source": [
    "The loss function to use during training is typically the mean squared error, but if you have a lot of outliers in the training set, you may prefer to use the mean absolute error instead. "
   ]
  },
  {
   "cell_type": "markdown",
   "id": "beb3b0d4",
   "metadata": {
    "slideshow": {
     "slide_type": "slide"
    }
   },
   "source": [
    "Alternatively, you can use the Huber loss, which is a combination of both."
   ]
  },
  {
   "cell_type": "markdown",
   "id": "9630ff3e",
   "metadata": {
    "slideshow": {
     "slide_type": "slide"
    }
   },
   "source": [
    "### Sugerencia"
   ]
  },
  {
   "cell_type": "markdown",
   "id": "4bd3fa76",
   "metadata": {
    "slideshow": {
     "slide_type": "slide"
    }
   },
   "source": [
    "The Huber loss is quadratic when the error is smaller than a threshold $\\delta$ (typically 1) but linear when the error is larger than $\\delta$. "
   ]
  },
  {
   "cell_type": "markdown",
   "id": "5f531ad5",
   "metadata": {
    "slideshow": {
     "slide_type": "slide"
    }
   },
   "source": [
    "The linear part makes it less sensitive to outliers than the mean squared error, and the quadratic part allows it to converge faster and be more precise than the mean absolute error."
   ]
  },
  {
   "cell_type": "markdown",
   "id": "f9fd5f2b",
   "metadata": {
    "slideshow": {
     "slide_type": "slide"
    }
   },
   "source": [
    "Table 10-1 summarizes the typical architecture of a regression MLP  \n",
    "<img src = 'https://github.com/marco-canas/didactica_ciencia_datos/blob/main/referentes/geron/part_2/c_10/table_10_1.jpg?raw=true'>"
   ]
  },
  {
   "cell_type": "markdown",
   "id": "d31fbdde",
   "metadata": {
    "slideshow": {
     "slide_type": "slide"
    }
   },
   "source": [
    "## Classification MLPs"
   ]
  },
  {
   "cell_type": "markdown",
   "id": "bcfff821",
   "metadata": {
    "slideshow": {
     "slide_type": "slide"
    }
   },
   "source": [
    "MLPs can also be used for classification tasks. "
   ]
  },
  {
   "cell_type": "markdown",
   "id": "72b90453",
   "metadata": {
    "slideshow": {
     "slide_type": "slide"
    }
   },
   "source": [
    "For a binary classification problem, you just need a single output neuron using the logistic activation function: the output will be a number between 0 and 1, which you can interpret as the estimated probability of the positive class. "
   ]
  },
  {
   "cell_type": "markdown",
   "id": "0dcfd72f",
   "metadata": {
    "slideshow": {
     "slide_type": "slide"
    }
   },
   "source": [
    "The estimated probability of the negative class is equal to one minus that number."
   ]
  },
  {
   "cell_type": "markdown",
   "id": "0db1297b",
   "metadata": {
    "slideshow": {
     "slide_type": "slide"
    }
   },
   "source": [
    "MLPs can also easily handle multilabel binary classification tasks (see Chapter 3). "
   ]
  },
  {
   "cell_type": "markdown",
   "id": "c26e660c",
   "metadata": {
    "slideshow": {
     "slide_type": "slide"
    }
   },
   "source": [
    "For example, you could have an email classification system that predicts whether each incoming email is ham or spam, and simultaneously predicts whether it is an urgent or nonurgent email. "
   ]
  },
  {
   "cell_type": "markdown",
   "id": "0ce23c06",
   "metadata": {
    "slideshow": {
     "slide_type": "slide"
    }
   },
   "source": [
    "In this case, you would need two output neurons, both using the logistic activation function: the first would output the probability that the email is spam, and the second would output the probability that it is urgent. "
   ]
  },
  {
   "cell_type": "markdown",
   "id": "cb14f0c9",
   "metadata": {
    "slideshow": {
     "slide_type": "slide"
    }
   },
   "source": [
    "More generally, you would dedicate one output neuron for each positive class. "
   ]
  },
  {
   "cell_type": "markdown",
   "id": "ac641f3e",
   "metadata": {
    "slideshow": {
     "slide_type": "slide"
    }
   },
   "source": [
    "Note that the output probabilities do not necessarily add up to 1. "
   ]
  },
  {
   "cell_type": "markdown",
   "id": "a04c8331",
   "metadata": {
    "slideshow": {
     "slide_type": "slide"
    }
   },
   "source": [
    "This lets the model output any combination of labels: you can have nonurgent ham, urgent ham, nonurgent spam, and perhaps even urgent spam (although that would probably be an error)."
   ]
  },
  {
   "cell_type": "markdown",
   "id": "c05e8e2e",
   "metadata": {
    "slideshow": {
     "slide_type": "slide"
    }
   },
   "source": [
    "If each instance can belong only to a single class, out of three or more possible classes (e.g., classes 0 through 9 for digit image classification), then you need to have one output neuron per class, and you should use the softmax activation function for the whole output layer (see Figure 10-9)."
   ]
  },
  {
   "cell_type": "markdown",
   "id": "0fb99c2f",
   "metadata": {
    "slideshow": {
     "slide_type": "slide"
    }
   },
   "source": [
    "The softmax function (introduced in Chapter 4) will ensure that all the estimated probabilities are between 0 and 1 and that they add up to 1 (which is required if the classes are exclusive). "
   ]
  },
  {
   "cell_type": "markdown",
   "id": "5d622ad3",
   "metadata": {
    "slideshow": {
     "slide_type": "slide"
    }
   },
   "source": [
    "This is called multiclass classification."
   ]
  },
  {
   "cell_type": "markdown",
   "id": "474f835c",
   "metadata": {
    "slideshow": {
     "slide_type": "slide"
    }
   },
   "source": [
    "<img src = 'https://github.com/marco-canas/didactica_ciencia_datos/blob/main/referentes/geron/part_2/c_10/figure_10_9.jpg?raw=true'>"
   ]
  },
  {
   "cell_type": "markdown",
   "id": "ea4395c1",
   "metadata": {
    "slideshow": {
     "slide_type": "slide"
    }
   },
   "source": [
    "Regarding the loss function, since we are predicting probability distributions, the cross-entropy loss (also called the log loss, see Chapter 4) is generally a good choice."
   ]
  },
  {
   "cell_type": "markdown",
   "id": "dea68b28",
   "metadata": {
    "slideshow": {
     "slide_type": "slide"
    }
   },
   "source": [
    "Table 10-2 summarizes the typical architecture of a classification MLP."
   ]
  },
  {
   "cell_type": "markdown",
   "id": "b1be0b0e",
   "metadata": {
    "slideshow": {
     "slide_type": "slide"
    }
   },
   "source": [
    "<img src = 'https://github.com/marco-canas/didactica_ciencia_datos/blob/main/referentes/geron/part_2/c_10/table_10_2.jpg?raw=true'>"
   ]
  },
  {
   "cell_type": "markdown",
   "id": "697654d4",
   "metadata": {
    "slideshow": {
     "slide_type": "slide"
    }
   },
   "source": [
    "### TIP"
   ]
  },
  {
   "cell_type": "markdown",
   "id": "8594a758",
   "metadata": {
    "slideshow": {
     "slide_type": "slide"
    }
   },
   "source": [
    "Before we go on, I recommend you go through exercise 1 at the end of this chapter. "
   ]
  },
  {
   "cell_type": "markdown",
   "id": "381b8f5e",
   "metadata": {
    "slideshow": {
     "slide_type": "slide"
    }
   },
   "source": [
    "You will play with various neural network architectures and visualize their outputs using the TensorFlow Playground. "
   ]
  },
  {
   "cell_type": "markdown",
   "id": "ab13611b",
   "metadata": {
    "slideshow": {
     "slide_type": "slide"
    }
   },
   "source": [
    "This will be very useful to better understand MLPs, including the effects of all the hyperparameters (number of layers and neurons, activation functions, and more)."
   ]
  },
  {
   "cell_type": "markdown",
   "id": "f92a5aa7",
   "metadata": {
    "slideshow": {
     "slide_type": "slide"
    }
   },
   "source": [
    "Now you have all the concepts you need to start implementing MLPs with Keras!"
   ]
  },
  {
   "cell_type": "markdown",
   "id": "165997ce",
   "metadata": {
    "slideshow": {
     "slide_type": "slide"
    }
   },
   "source": [
    "## Implementing MLPs with Keras"
   ]
  },
  {
   "cell_type": "markdown",
   "id": "fbff1214",
   "metadata": {
    "slideshow": {
     "slide_type": "slide"
    }
   },
   "source": [
    "Keras is a high-level Deep Learning API that allows you to easily build, train, evaluate, and execute all sorts of neural networks. "
   ]
  },
  {
   "cell_type": "markdown",
   "id": "d7ffa70a",
   "metadata": {
    "slideshow": {
     "slide_type": "slide"
    }
   },
   "source": [
    "Its documentation (or specification) is available at https://keras.io/. "
   ]
  },
  {
   "cell_type": "markdown",
   "id": "a219741a",
   "metadata": {
    "slideshow": {
     "slide_type": "slide"
    }
   },
   "source": [
    "The reference implementation, also called Keras, was developed by François Chollet as\n",
    "part of a research project and was released as an open source project in\n",
    "March 2015. It quickly gained popularity, owing to its ease of use,\n",
    "flexibility, and beautiful design. To perform the heavy computations\n",
    "required by neural networks, this reference implementation relies on a\n",
    "computation backend. "
   ]
  },
  {
   "cell_type": "markdown",
   "id": "f8b12a58",
   "metadata": {
    "slideshow": {
     "slide_type": "slide"
    }
   },
   "source": [
    "At present, you can choose from three popular open source Deep Learning libraries: TensorFlow, Microsoft Cognitive Toolkit\n",
    "(CNTK), and Theano. Therefore, to avoid any confusion, we will refer to\n",
    "this reference implementation as multibackend Keras."
   ]
  },
  {
   "cell_type": "markdown",
   "id": "ad2afebd",
   "metadata": {
    "slideshow": {
     "slide_type": "slide"
    }
   },
   "source": [
    "Since late 2016, other implementations have been released. You can now\n",
    "run Keras on Apache MXNet, Apple’s Core ML, JavaScript or TypeScript\n",
    "(to run Keras code in a web browser), and PlaidML (which can run on all\n",
    "sorts of GPU devices, not just Nvidia). Moreover, TensorFlow itself now\n",
    "comes bundled with its own Keras implementation, tf.keras. It only\n",
    "supports TensorFlow as the backend, but it has the advantage of offering\n",
    "some very useful extra features (see Figure 10-10): for example, it supports\n",
    "TensorFlow’s Data API, which makes it easy to load and preprocess data\n",
    "efficiently. For this reason, we will use tf.keras in this book. However, in\n",
    "this chapter we will not use any of the TensorFlow-specific features, so the\n",
    "code should run fine on other Keras implementations as well (at least in\n",
    "Python), with only minor modifications, such as changing the imports."
   ]
  },
  {
   "cell_type": "code",
   "execution_count": null,
   "id": "9c4c0202",
   "metadata": {
    "slideshow": {
     "slide_type": "slide"
    }
   },
   "outputs": [],
   "source": []
  },
  {
   "cell_type": "code",
   "execution_count": null,
   "id": "d73aef44",
   "metadata": {
    "slideshow": {
     "slide_type": "slide"
    }
   },
   "outputs": [],
   "source": []
  },
  {
   "cell_type": "code",
   "execution_count": null,
   "id": "36aad2d9",
   "metadata": {
    "slideshow": {
     "slide_type": "slide"
    }
   },
   "outputs": [],
   "source": []
  },
  {
   "cell_type": "code",
   "execution_count": null,
   "id": "d1b6acf7",
   "metadata": {
    "slideshow": {
     "slide_type": "slide"
    }
   },
   "outputs": [],
   "source": []
  },
  {
   "cell_type": "code",
   "execution_count": null,
   "id": "a9895079",
   "metadata": {
    "slideshow": {
     "slide_type": "slide"
    }
   },
   "outputs": [],
   "source": []
  },
  {
   "cell_type": "code",
   "execution_count": null,
   "id": "5bbeedee",
   "metadata": {
    "slideshow": {
     "slide_type": "slide"
    }
   },
   "outputs": [],
   "source": []
  }
 ],
 "metadata": {
  "celltoolbar": "Slideshow",
  "kernelspec": {
   "display_name": "Python 3 (ipykernel)",
   "language": "python",
   "name": "python3"
  },
  "language_info": {
   "codemirror_mode": {
    "name": "ipython",
    "version": 3
   },
   "file_extension": ".py",
   "mimetype": "text/x-python",
   "name": "python",
   "nbconvert_exporter": "python",
   "pygments_lexer": "ipython3",
   "version": "3.9.12"
  },
  "rise": {
   "theme": "sky"
  }
 },
 "nbformat": 4,
 "nbformat_minor": 5
}
