{
 "cells": [
  {
   "cell_type": "markdown",
   "id": "dbdb8f9a",
   "metadata": {
    "slideshow": {
     "slide_type": "slide"
    }
   },
   "source": []
  },
  {
   "cell_type": "markdown",
   "id": "507b2ab5",
   "metadata": {
    "slideshow": {
     "slide_type": "slide"
    }
   },
   "source": [
    "# Capítulo 11 "
   ]
  },
  {
   "cell_type": "markdown",
   "id": "3496adae",
   "metadata": {
    "slideshow": {
     "slide_type": "slide"
    }
   },
   "source": [
    "# Chapter 11. Training Deep Neural Networks"
   ]
  },
  {
   "cell_type": "markdown",
   "id": "b8c3c6dd",
   "metadata": {
    "slideshow": {
     "slide_type": "slide"
    }
   },
   "source": [
    "En el Capítulo 10 presentamos las redes neuronales artificiales y entrenamos nuestras primeras redes neuronales profundas."
   ]
  },
  {
   "cell_type": "markdown",
   "id": "4e434a99",
   "metadata": {
    "slideshow": {
     "slide_type": "slide"
    }
   },
   "source": [
    "Pero eran redes poco profundas, con solo unas pocas capas ocultas."
   ]
  },
  {
   "cell_type": "markdown",
   "id": "a416b6f3",
   "metadata": {
    "slideshow": {
     "slide_type": "slide"
    }
   },
   "source": [
    "¿Qué sucede si necesita abordar un problema complejo, como detectar cientos de tipos de objetos en imágenes de alta resolución?"
   ]
  },
  {
   "cell_type": "markdown",
   "id": "341ec631",
   "metadata": {
    "slideshow": {
     "slide_type": "slide"
    }
   },
   "source": [
    "Es posible que deba entrenar un DNN mucho más profundo, tal vez con 10 capas o muchas más, cada una con cientos de neuronas, unidas por cientos de miles de conexiones."
   ]
  },
  {
   "cell_type": "markdown",
   "id": "d300894b",
   "metadata": {
    "slideshow": {
     "slide_type": "slide"
    }
   },
   "source": [
    "Training a deep DNN isn’t a walk in the park. Here are some of the problems you could run into:"
   ]
  },
  {
   "cell_type": "markdown",
   "id": "c4f48663",
   "metadata": {
    "slideshow": {
     "slide_type": "slide"
    }
   },
   "source": [
    "You may be faced with the tricky vanishing gradients problem or the related exploding gradients problem. "
   ]
  },
  {
   "cell_type": "markdown",
   "id": "9fc4d4fd",
   "metadata": {
    "slideshow": {
     "slide_type": "slide"
    }
   },
   "source": [
    "This is when the gradients grow smaller and smaller, or larger and larger, when flowing backward through the DNN during training. "
   ]
  },
  {
   "cell_type": "markdown",
   "id": "04538455",
   "metadata": {
    "slideshow": {
     "slide_type": "slide"
    }
   },
   "source": [
    "Both of these problems make lower layers very hard to train."
   ]
  },
  {
   "cell_type": "markdown",
   "id": "d1a9cacc",
   "metadata": {
    "slideshow": {
     "slide_type": "slide"
    }
   },
   "source": [
    "You might not have enough training data for such a large network, or it might be too costly to label."
   ]
  },
  {
   "cell_type": "markdown",
   "id": "a892343e",
   "metadata": {
    "slideshow": {
     "slide_type": "slide"
    }
   },
   "source": [
    "Training may be extremely slow."
   ]
  },
  {
   "cell_type": "markdown",
   "id": "41d514f8",
   "metadata": {
    "slideshow": {
     "slide_type": "slide"
    }
   },
   "source": [
    "A model with millions of parameters would severely risk overfitting the training set, especially if there are not enough training instances or if they are too noisy."
   ]
  },
  {
   "cell_type": "markdown",
   "id": "5fce1580",
   "metadata": {
    "slideshow": {
     "slide_type": "slide"
    }
   },
   "source": [
    "In this chapter we will go through each of these problems and present techniques to solve them. "
   ]
  },
  {
   "cell_type": "markdown",
   "id": "2c14237b",
   "metadata": {
    "slideshow": {
     "slide_type": "slide"
    }
   },
   "source": [
    "We will start by exploring the vanishing and exploding gradients problems and some of their most popular solutions."
   ]
  },
  {
   "cell_type": "markdown",
   "id": "8186f96b",
   "metadata": {
    "slideshow": {
     "slide_type": "slide"
    }
   },
   "source": [
    "Next, we will look at transfer learning and unsupervised pretraining, which can help you tackle complex tasks even when you have little labeled data."
   ]
  },
  {
   "cell_type": "markdown",
   "id": "26f65d47",
   "metadata": {
    "slideshow": {
     "slide_type": "slide"
    }
   },
   "source": [
    "Then we will discuss various optimizers that can speed up training large models tremendously. "
   ]
  },
  {
   "cell_type": "markdown",
   "id": "475d1e3c",
   "metadata": {
    "slideshow": {
     "slide_type": "slide"
    }
   },
   "source": [
    "Finally, we will go through a few popular regularization techniques for large neural networks."
   ]
  },
  {
   "cell_type": "markdown",
   "id": "876b6603",
   "metadata": {
    "slideshow": {
     "slide_type": "slide"
    }
   },
   "source": [
    "With these tools, you will be able to train very deep nets. "
   ]
  },
  {
   "cell_type": "markdown",
   "id": "765b9f81",
   "metadata": {
    "slideshow": {
     "slide_type": "slide"
    }
   },
   "source": [
    "Welcome to Deep Learning!"
   ]
  },
  {
   "cell_type": "code",
   "execution_count": null,
   "id": "fb10fb04",
   "metadata": {},
   "outputs": [],
   "source": []
  },
  {
   "cell_type": "code",
   "execution_count": null,
   "id": "3e2bcd4b",
   "metadata": {},
   "outputs": [],
   "source": []
  },
  {
   "cell_type": "code",
   "execution_count": null,
   "id": "5e51b3ad",
   "metadata": {},
   "outputs": [],
   "source": []
  },
  {
   "cell_type": "code",
   "execution_count": null,
   "id": "16d4c0be",
   "metadata": {},
   "outputs": [],
   "source": []
  },
  {
   "cell_type": "code",
   "execution_count": null,
   "id": "cf11e15a",
   "metadata": {},
   "outputs": [],
   "source": []
  }
 ],
 "metadata": {
  "celltoolbar": "Slideshow",
  "kernelspec": {
   "display_name": "Python 3 (ipykernel)",
   "language": "python",
   "name": "python3"
  },
  "language_info": {
   "codemirror_mode": {
    "name": "ipython",
    "version": 3
   },
   "file_extension": ".py",
   "mimetype": "text/x-python",
   "name": "python",
   "nbconvert_exporter": "python",
   "pygments_lexer": "ipython3",
   "version": "3.9.12"
  },
  "rise": {
   "theme": "sky"
  }
 },
 "nbformat": 4,
 "nbformat_minor": 5
}
