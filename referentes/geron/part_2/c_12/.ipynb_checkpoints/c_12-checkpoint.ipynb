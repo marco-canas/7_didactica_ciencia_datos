{
 "cells": [
  {
   "cell_type": "markdown",
   "id": "8935708e",
   "metadata": {
    "slideshow": {
     "slide_type": "slide"
    }
   },
   "source": []
  },
  {
   "cell_type": "markdown",
   "id": "a64dd9d1",
   "metadata": {
    "slideshow": {
     "slide_type": "slide"
    }
   },
   "source": [
    "# Chapter 12. Custom Models and Training with TensorFlow"
   ]
  },
  {
   "cell_type": "markdown",
   "id": "644065c4",
   "metadata": {
    "slideshow": {
     "slide_type": "slide"
    }
   },
   "source": [
    "Hasta ahora, solo hemos usado la API de alto nivel de TensorFlow, tf.keras, pero ya hemos llegado bastante lejos: construimos varias arquitecturas de redes neuronales, incluidas redes de regresión y clasificación, redes anchas y profundas y redes de autonormalización utilizando todo tipo de técnicas, como la normalización por lotes, el abandono y los programas de tasa de aprendizaje. "
   ]
  },
  {
   "cell_type": "markdown",
   "id": "3bf43973",
   "metadata": {
    "slideshow": {
     "slide_type": "slide"
    }
   },
   "source": [
    "In fact, 95% of the use cases you will encounter will not require anything other than tf.keras (and tf.data; see Chapter 13). "
   ]
  },
  {
   "cell_type": "markdown",
   "id": "9ecb5ee7",
   "metadata": {
    "slideshow": {
     "slide_type": "slide"
    }
   },
   "source": [
    "But now it’s time to dive deeper into TensorFlow and take a look at its lower-level Python API. "
   ]
  },
  {
   "cell_type": "markdown",
   "id": "a3c40db4",
   "metadata": {
    "slideshow": {
     "slide_type": "slide"
    }
   },
   "source": [
    "This will be useful when you need extra control to write custom loss functions, custom metrics, layers, models, initializers, regularizers, weight constraints, and more. "
   ]
  },
  {
   "cell_type": "markdown",
   "id": "3425a28b",
   "metadata": {
    "slideshow": {
     "slide_type": "slide"
    }
   },
   "source": [
    "You may even need to fully control the training loop itself, for example to apply special transformations or constraints to the gradients (beyond just clipping them) or to use multiple optimizers for different parts of the network. "
   ]
  },
  {
   "cell_type": "markdown",
   "id": "956728ee",
   "metadata": {
    "slideshow": {
     "slide_type": "slide"
    }
   },
   "source": [
    "We will cover all these cases in this chapter, and we will also look at how you can boost your custom models and training algorithms using TensorFlow’s automatic graph generation feature. But first, let’s take a quick tour of TensorFlow."
   ]
  },
  {
   "cell_type": "markdown",
   "id": "0a10471e",
   "metadata": {
    "slideshow": {
     "slide_type": "slide"
    }
   },
   "source": [
    "### NOTE"
   ]
  },
  {
   "cell_type": "markdown",
   "id": "2f799380",
   "metadata": {
    "slideshow": {
     "slide_type": "slide"
    }
   },
   "source": [
    "TensorFlow 2.0 (beta) was released in June 2019, making TensorFlow much easier to use. "
   ]
  },
  {
   "cell_type": "markdown",
   "id": "7deb3c7f",
   "metadata": {
    "slideshow": {
     "slide_type": "slide"
    }
   },
   "source": [
    "The first edition of this book used TF 1, while this edition uses TF 2."
   ]
  },
  {
   "cell_type": "markdown",
   "id": "85bd9e1a",
   "metadata": {
    "slideshow": {
     "slide_type": "slide"
    }
   },
   "source": [
    "# A Quick Tour of TensorFlow"
   ]
  },
  {
   "cell_type": "markdown",
   "id": "179134ad",
   "metadata": {
    "slideshow": {
     "slide_type": "slide"
    }
   },
   "source": [
    "As you know, TensorFlow is a powerful library for numerical computation, particularly well suited and fine-tuned for large-scale Machine Learning (but you could use it for anything else that requires heavy computations). "
   ]
  },
  {
   "cell_type": "markdown",
   "id": "d3bb7a2c",
   "metadata": {
    "slideshow": {
     "slide_type": "slide"
    }
   },
   "source": [
    "It was developed by the Google Brain team and it powers many of Google’s\n",
    "large-scale services, such as Google Cloud Speech, Google Photos, and\n",
    "Google Search. It was open sourced in November 2015, and it is now the\n",
    "most popular Deep Learning library (in terms of citations in papers,\n",
    "adoption in companies, stars on GitHub, etc.). Countless projects use\n",
    "TensorFlow for all sorts of Machine Learning tasks, such as image\n",
    "classification, natural language processing, recommender systems, and time\n",
    "series forecasting."
   ]
  },
  {
   "cell_type": "markdown",
   "id": "a03b80f0",
   "metadata": {
    "slideshow": {
     "slide_type": "slide"
    }
   },
   "source": [
    "So what does TensorFlow offer? Here’s a summary:"
   ]
  },
  {
   "cell_type": "markdown",
   "id": "14c058f3",
   "metadata": {
    "slideshow": {
     "slide_type": "slide"
    }
   },
   "source": [
    "* Its core is very similar to NumPy, but with GPU support. It supports distributed computing (across multiple devices and\n",
    "servers).  \n",
    "\n",
    "* It includes a kind of just-in-time (JIT) compiler that allows it to optimize computations for speed and memory usage. It works by extracting the computation graph from a Python function, then optimizing it (e.g., by pruning unused nodes), and finally running it efficiently (e.g., by automatically running independent operations in parallel)."
   ]
  },
  {
   "cell_type": "markdown",
   "id": "5a809c5f",
   "metadata": {
    "slideshow": {
     "slide_type": "slide"
    }
   },
   "source": [
    "* Computation graphs can be exported to a portable format, so you can train a TensorFlow model in one environment (e.g., using\n",
    "Python on Linux) and run it in another (e.g., using Java on an Android device).  \n",
    "\n",
    "* It implements autodiff (see Chapter 10 and Appendix D) and provides some excellent optimizers, such as RMSProp and Nadam\n",
    "(see Chapter 11), so you can easily minimize all sorts of loss functions."
   ]
  },
  {
   "cell_type": "markdown",
   "id": "77642d52",
   "metadata": {
    "slideshow": {
     "slide_type": "slide"
    }
   },
   "source": [
    "TensorFlow offers many more features built on top of these core features: the most important is of course tf.keras, but it also has data loading and preprocessing ops (tf.data, tf.io, etc.), image processing ops (tf.image), signal processing ops (tf.signal), and more (see Figure 12-1 for an overview of TensorFlow’s Python API)."
   ]
  },
  {
   "cell_type": "markdown",
   "id": "0e74767d",
   "metadata": {
    "slideshow": {
     "slide_type": "slide"
    }
   },
   "source": [
    "## TIP"
   ]
  },
  {
   "cell_type": "markdown",
   "id": "02c4ccbb",
   "metadata": {
    "slideshow": {
     "slide_type": "slide"
    }
   },
   "source": [
    "We will cover many of the packages and functions of the TensorFlow API, but it’s impossible to cover them all, so you should really take some time to browse through the API; you will find that it is quite rich and well documented."
   ]
  },
  {
   "cell_type": "markdown",
   "id": "a78eda73",
   "metadata": {
    "slideshow": {
     "slide_type": "slide"
    }
   },
   "source": [
    "<img src = 'https://github.com/marco-canas/didactica_ciencia_datos/blob/main/referentes/geron/part_2/c_12/figure_12_1.jpg?raw=true'>"
   ]
  },
  {
   "cell_type": "markdown",
   "id": "7b3c3dd0",
   "metadata": {
    "slideshow": {
     "slide_type": "slide"
    }
   },
   "source": [
    "At the lowest level, each TensorFlow operation (op for short) is implemented using highly efficient C++ code. "
   ]
  },
  {
   "cell_type": "markdown",
   "id": "9f519227",
   "metadata": {
    "slideshow": {
     "slide_type": "slide"
    }
   },
   "source": [
    "Many operations have multiple implementations called kernels: each kernel is dedicated to a specific device type, such as CPUs, GPUs, or even TPUs (tensor processing units). "
   ]
  },
  {
   "cell_type": "markdown",
   "id": "3bf32228",
   "metadata": {
    "slideshow": {
     "slide_type": "slide"
    }
   },
   "source": [
    "As you may know, GPUs can dramatically speed up computations by splitting them into many smaller chunks and running them in parallel across many GPU threads. "
   ]
  },
  {
   "cell_type": "markdown",
   "id": "d0476a67",
   "metadata": {
    "slideshow": {
     "slide_type": "slide"
    }
   },
   "source": [
    "TPUs are even faster: they are custom ASIC chips built specifically for Deep Learning operations (we will discuss how to use TensorFlow with GPUs or TPUs in Chapter 19)."
   ]
  },
  {
   "cell_type": "markdown",
   "id": "755de2d5",
   "metadata": {
    "slideshow": {
     "slide_type": "slide"
    }
   },
   "source": [
    "TensorFlow’s architecture is shown in Figure 12-2. Most of the time your code will use the high-level APIs (especially tf.keras and tf.data); but when you need more flexibility, you will use the lower-level Python API, handling tensors directly. "
   ]
  },
  {
   "cell_type": "markdown",
   "id": "2be9c763",
   "metadata": {
    "slideshow": {
     "slide_type": "slide"
    }
   },
   "source": [
    "Note that APIs for other languages are also available. "
   ]
  },
  {
   "cell_type": "markdown",
   "id": "fe3fac40",
   "metadata": {
    "slideshow": {
     "slide_type": "slide"
    }
   },
   "source": [
    "In any case, TensorFlow’s execution engine will take care of running the operations efficiently, even across multiple devices and machines if you tell it to."
   ]
  },
  {
   "cell_type": "markdown",
   "id": "d3f8147f",
   "metadata": {
    "slideshow": {
     "slide_type": "slide"
    }
   },
   "source": [
    "<img src = ''>"
   ]
  },
  {
   "cell_type": "markdown",
   "id": "c5b9b513",
   "metadata": {
    "slideshow": {
     "slide_type": "slide"
    }
   },
   "source": [
    "TensorFlow runs not only on Windows, Linux, and macOS, but also on mobile devices (using TensorFlow Lite), including both iOS and Android (see Chapter 19). "
   ]
  },
  {
   "cell_type": "markdown",
   "id": "a7042b81",
   "metadata": {
    "slideshow": {
     "slide_type": "slide"
    }
   },
   "source": [
    "If you do not want to use the Python API, there are C++, Java, Go, and Swift APIs. "
   ]
  },
  {
   "cell_type": "markdown",
   "id": "f6d852b3",
   "metadata": {
    "slideshow": {
     "slide_type": "slide"
    }
   },
   "source": [
    "There is even a JavaScript implementation called TensorFlow.js that makes it possible to run your models directly in your browser."
   ]
  },
  {
   "cell_type": "markdown",
   "id": "cbbec561",
   "metadata": {
    "slideshow": {
     "slide_type": "slide"
    }
   },
   "source": [
    "There’s more to TensorFlow than the library. "
   ]
  },
  {
   "cell_type": "markdown",
   "id": "9d43693a",
   "metadata": {
    "slideshow": {
     "slide_type": "slide"
    }
   },
   "source": [
    "TensorFlow is at the center of an extensive ecosystem of libraries. First, there’s TensorBoard for visualization (see Chapter 10). "
   ]
  },
  {
   "cell_type": "markdown",
   "id": "c6772cb2",
   "metadata": {
    "slideshow": {
     "slide_type": "slide"
    }
   },
   "source": [
    "Next, there’s TensorFlow Extended (TFX), which is a set of libraries built by Google to productionize TensorFlow projects: it includes tools for data validation, preprocessing, model analysis, and serving (with TF Serving; see Chapter 19). "
   ]
  },
  {
   "cell_type": "markdown",
   "id": "a2cf4e43",
   "metadata": {
    "slideshow": {
     "slide_type": "slide"
    }
   },
   "source": [
    "Google’s TensorFlow Hub provides a way to easily download and reuse pretrained neural networks."
   ]
  },
  {
   "cell_type": "markdown",
   "id": "8e28e9aa",
   "metadata": {
    "slideshow": {
     "slide_type": "slide"
    }
   },
   "source": [
    "You can also get many neural network architectures, some of them pretrained, in TensorFlow’s model garden. "
   ]
  },
  {
   "cell_type": "markdown",
   "id": "c931a4db",
   "metadata": {
    "slideshow": {
     "slide_type": "slide"
    }
   },
   "source": [
    "Check out the TensorFlow Resources and https://github.com/jtoy/awesome-tensorflow for more TensorFlow-based projects. You will find hundreds of TensorFlow projects on GitHub, so it is often easy to find existing code for whatever you are trying to do. "
   ]
  },
  {
   "cell_type": "markdown",
   "id": "ae53320e",
   "metadata": {
    "slideshow": {
     "slide_type": "slide"
    }
   },
   "source": [
    "## TIP"
   ]
  },
  {
   "cell_type": "markdown",
   "id": "f93763a2",
   "metadata": {
    "slideshow": {
     "slide_type": "slide"
    }
   },
   "source": [
    "More and more ML papers are released along with their implementations, and sometimes even with pretrained models. Check out https://paperswithcode.com/ to easily find them."
   ]
  },
  {
   "cell_type": "markdown",
   "id": "5bdfbd56",
   "metadata": {
    "slideshow": {
     "slide_type": "slide"
    }
   },
   "source": [
    "Last but not least, TensorFlow has a dedicated team of passionate and\n",
    "helpful developers, as well as a large community contributing to improving\n",
    "it. To ask technical questions, you should use http://stackoverflow.com/ and\n",
    "tag your question with tensorflow and python. You can file bugs and feature\n",
    "requests through GitHub. For general discussions, join the Google group.\n",
    "OK, it’s time to start coding!"
   ]
  },
  {
   "cell_type": "markdown",
   "id": "26bdb578",
   "metadata": {
    "slideshow": {
     "slide_type": "slide"
    }
   },
   "source": [
    "# Using TensorFlow like NumPy"
   ]
  },
  {
   "cell_type": "markdown",
   "id": "e1882be2",
   "metadata": {
    "slideshow": {
     "slide_type": "slide"
    }
   },
   "source": [
    "TensorFlow’s API revolves around tensors, which flow from operation to\n",
    "operation—hence the name TensorFlow. A tensor is usually a\n",
    "multidimensional array (exactly like a NumPy ndarray), but it can also\n",
    "hold a scalar (a simple value, such as 42). These tensors will be important\n",
    "when we create custom cost functions, custom metrics, custom layers, and\n",
    "more, so let’s see how to create and manipulate them."
   ]
  },
  {
   "cell_type": "markdown",
   "id": "2d73d6da",
   "metadata": {
    "slideshow": {
     "slide_type": "slide"
    }
   },
   "source": [
    "## Tensors and Operations"
   ]
  },
  {
   "cell_type": "markdown",
   "id": "8a7f799e",
   "metadata": {
    "slideshow": {
     "slide_type": "slide"
    }
   },
   "source": [
    "You can create a tensor with `tf.constant()`. "
   ]
  },
  {
   "cell_type": "markdown",
   "id": "8a026b82",
   "metadata": {
    "slideshow": {
     "slide_type": "slide"
    }
   },
   "source": [
    "For example, here is a tensor representing a matrix with two rows and three columns of floats:"
   ]
  },
  {
   "cell_type": "code",
   "execution_count": 1,
   "id": "a609ca1a",
   "metadata": {
    "slideshow": {
     "slide_type": "slide"
    }
   },
   "outputs": [],
   "source": [
    "import tensorflow as tf "
   ]
  },
  {
   "cell_type": "code",
   "execution_count": 2,
   "id": "63f46abf",
   "metadata": {
    "slideshow": {
     "slide_type": "slide"
    }
   },
   "outputs": [
    {
     "data": {
      "text/plain": [
       "<tf.Tensor: shape=(2, 3), dtype=float32, numpy=\n",
       "array([[1., 2., 3.],\n",
       "       [4., 5., 6.]], dtype=float32)>"
      ]
     },
     "execution_count": 2,
     "metadata": {},
     "output_type": "execute_result"
    }
   ],
   "source": [
    "tf.constant([[1., 2., 3.], [4., 5., 6.]]) # matrix"
   ]
  },
  {
   "cell_type": "code",
   "execution_count": 3,
   "id": "d343b124",
   "metadata": {
    "slideshow": {
     "slide_type": "slide"
    }
   },
   "outputs": [
    {
     "data": {
      "text/plain": [
       "<tf.Tensor: shape=(), dtype=int32, numpy=42>"
      ]
     },
     "execution_count": 3,
     "metadata": {},
     "output_type": "execute_result"
    }
   ],
   "source": [
    "tf.constant(42) # scalar\n"
   ]
  },
  {
   "cell_type": "code",
   "execution_count": null,
   "id": "ece3b135",
   "metadata": {
    "slideshow": {
     "slide_type": "slide"
    }
   },
   "outputs": [],
   "source": []
  },
  {
   "cell_type": "code",
   "execution_count": null,
   "id": "14c397ac",
   "metadata": {
    "slideshow": {
     "slide_type": "slide"
    }
   },
   "outputs": [],
   "source": []
  },
  {
   "cell_type": "code",
   "execution_count": null,
   "id": "3ffbbacb",
   "metadata": {
    "slideshow": {
     "slide_type": "slide"
    }
   },
   "outputs": [],
   "source": []
  },
  {
   "cell_type": "code",
   "execution_count": null,
   "id": "ef76afbb",
   "metadata": {},
   "outputs": [],
   "source": []
  },
  {
   "cell_type": "code",
   "execution_count": null,
   "id": "f80a14e7",
   "metadata": {},
   "outputs": [],
   "source": []
  }
 ],
 "metadata": {
  "celltoolbar": "Slideshow",
  "kernelspec": {
   "display_name": "Python 3 (ipykernel)",
   "language": "python",
   "name": "python3"
  },
  "language_info": {
   "codemirror_mode": {
    "name": "ipython",
    "version": 3
   },
   "file_extension": ".py",
   "mimetype": "text/x-python",
   "name": "python",
   "nbconvert_exporter": "python",
   "pygments_lexer": "ipython3",
   "version": "3.9.12"
  },
  "rise": {
   "theme": "sky"
  }
 },
 "nbformat": 4,
 "nbformat_minor": 5
}
