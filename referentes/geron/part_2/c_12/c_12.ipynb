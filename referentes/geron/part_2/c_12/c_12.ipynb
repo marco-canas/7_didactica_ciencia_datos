{
 "cells": [
  {
   "cell_type": "markdown",
   "id": "1e1fbec7",
   "metadata": {
    "slideshow": {
     "slide_type": "slide"
    }
   },
   "source": []
  },
  {
   "cell_type": "markdown",
   "id": "1639a224",
   "metadata": {
    "slideshow": {
     "slide_type": "slide"
    }
   },
   "source": [
    "# Chapter 12. Custom Models and Training with TensorFlow"
   ]
  },
  {
   "cell_type": "markdown",
   "id": "23f9868b",
   "metadata": {
    "slideshow": {
     "slide_type": "slide"
    }
   },
   "source": [
    "Hasta ahora, solo hemos usado la API de alto nivel de TensorFlow, tf.keras, pero ya hemos llegado bastante lejos: construimos varias arquitecturas de redes neuronales, incluidas redes de regresión y clasificación, redes anchas y profundas y redes de autonormalización utilizando todo tipo de técnicas, como la normalización por lotes, el abandono y los programas de tasa de aprendizaje. "
   ]
  },
  {
   "cell_type": "markdown",
   "id": "65e0390a",
   "metadata": {
    "slideshow": {
     "slide_type": "slide"
    }
   },
   "source": [
    "In fact, 95% of the use cases you will encounter will not require anything other than tf.keras (and tf.data; see Chapter 13). "
   ]
  },
  {
   "cell_type": "markdown",
   "id": "b45b3612",
   "metadata": {
    "slideshow": {
     "slide_type": "slide"
    }
   },
   "source": [
    "But now it’s time to dive deeper into TensorFlow and take a look at its lower-level Python API. "
   ]
  },
  {
   "cell_type": "markdown",
   "id": "c2985f73",
   "metadata": {
    "slideshow": {
     "slide_type": "slide"
    }
   },
   "source": [
    "This will be useful when you need extra control to write custom loss functions, custom metrics, layers, models, initializers, regularizers, weight constraints, and more. "
   ]
  },
  {
   "cell_type": "markdown",
   "id": "a39a0711",
   "metadata": {
    "slideshow": {
     "slide_type": "slide"
    }
   },
   "source": [
    "You may even need to fully control the training loop itself, for example to apply special transformations or constraints to the gradients (beyond just clipping them) or to use multiple optimizers for different parts of the network. "
   ]
  },
  {
   "cell_type": "markdown",
   "id": "f7352112",
   "metadata": {
    "slideshow": {
     "slide_type": "slide"
    }
   },
   "source": [
    "We will cover all these cases in this chapter, and we will also look at how you can boost your custom models and training algorithms using TensorFlow’s automatic graph generation feature. But first, let’s take a quick tour of TensorFlow."
   ]
  },
  {
   "cell_type": "markdown",
   "id": "da16895a",
   "metadata": {
    "slideshow": {
     "slide_type": "slide"
    }
   },
   "source": [
    "### NOTE"
   ]
  },
  {
   "cell_type": "markdown",
   "id": "a7868156",
   "metadata": {
    "slideshow": {
     "slide_type": "slide"
    }
   },
   "source": [
    "TensorFlow 2.0 (beta) was released in June 2019, making TensorFlow much easier to use. "
   ]
  },
  {
   "cell_type": "markdown",
   "id": "040dfec5",
   "metadata": {
    "slideshow": {
     "slide_type": "slide"
    }
   },
   "source": [
    "The first edition of this book used TF 1, while this edition uses TF 2."
   ]
  },
  {
   "cell_type": "markdown",
   "id": "c9e17736",
   "metadata": {
    "slideshow": {
     "slide_type": "slide"
    }
   },
   "source": [
    "# A Quick Tour of TensorFlow"
   ]
  },
  {
   "cell_type": "markdown",
   "id": "0fa0c4a4",
   "metadata": {
    "slideshow": {
     "slide_type": "slide"
    }
   },
   "source": [
    "As you know, TensorFlow is a powerful library for numerical computation, particularly well suited and fine-tuned for large-scale Machine Learning (but you could use it for anything else that requires heavy computations). "
   ]
  },
  {
   "cell_type": "markdown",
   "id": "c4c49995",
   "metadata": {
    "slideshow": {
     "slide_type": "slide"
    }
   },
   "source": [
    "It was developed by the Google Brain team and it powers many of Google’s\n",
    "large-scale services, such as Google Cloud Speech, Google Photos, and\n",
    "Google Search. It was open sourced in November 2015, and it is now the\n",
    "most popular Deep Learning library (in terms of citations in papers,\n",
    "adoption in companies, stars on GitHub, etc.). Countless projects use\n",
    "TensorFlow for all sorts of Machine Learning tasks, such as image\n",
    "classification, natural language processing, recommender systems, and time\n",
    "series forecasting."
   ]
  },
  {
   "cell_type": "markdown",
   "id": "e0fd98da",
   "metadata": {
    "slideshow": {
     "slide_type": "slide"
    }
   },
   "source": [
    "So what does TensorFlow offer? Here’s a summary:"
   ]
  },
  {
   "cell_type": "markdown",
   "id": "3d24f933",
   "metadata": {
    "slideshow": {
     "slide_type": "slide"
    }
   },
   "source": [
    "Its core is very similar to NumPy, but with GPU support.\n",
    "It supports distributed computing (across multiple devices and\n",
    "servers).\n",
    "It includes a kind of just-in-time (JIT) compiler that allows it to\n",
    "optimize computations for speed and memory usage. It works by\n",
    "extracting the computation graph from a Python function, then\n",
    "optimizing it (e.g., by pruning unused nodes), and finally running it\n",
    "efficiently (e.g., by automatically running independent operations\n",
    "in parallel).\n",
    "Computation graphs can be exported to a portable format, so you\n",
    "can train a TensorFlow model in one environment (e.g., using\n",
    "Python on Linux) and run it in another (e.g., using Java on an\n",
    "Android device).\n",
    "It implements autodiff (see Chapter 10 and Appendix D) and\n",
    "provides some excellent optimizers, such as RMSProp and Nadam\n",
    "(see Chapter 11), so you can easily minimize all sorts of loss\n",
    "functions.\n",
    "TensorFlow offers many more features built on top of these core features:\n",
    "the most important is of course tf.keras, but it also has data loading and\n",
    "preprocessing ops (tf.data, tf.io, etc.), image processing ops (tf.image), signal processing ops (tf.signal), and more (see Figure 12-1\n",
    "for an overview of TensorFlow’s Python API)."
   ]
  },
  {
   "cell_type": "markdown",
   "id": "930455f9",
   "metadata": {
    "slideshow": {
     "slide_type": "slide"
    }
   },
   "source": [
    "## TIP"
   ]
  },
  {
   "cell_type": "markdown",
   "id": "f78dc4ef",
   "metadata": {
    "slideshow": {
     "slide_type": "slide"
    }
   },
   "source": [
    "We will cover many of the packages and functions of the TensorFlow API, but it’s impossible to cover them all, so you should really take some time to browse through the API; you will find that it is quite rich and well documented."
   ]
  },
  {
   "cell_type": "markdown",
   "id": "5e3234de",
   "metadata": {
    "slideshow": {
     "slide_type": "slide"
    }
   },
   "source": [
    "<img src = ''>"
   ]
  },
  {
   "cell_type": "markdown",
   "id": "2aa8389e",
   "metadata": {
    "slideshow": {
     "slide_type": "slide"
    }
   },
   "source": []
  },
  {
   "cell_type": "code",
   "execution_count": null,
   "id": "6461818d",
   "metadata": {
    "slideshow": {
     "slide_type": "slide"
    }
   },
   "outputs": [],
   "source": []
  },
  {
   "cell_type": "code",
   "execution_count": null,
   "id": "76947d7e",
   "metadata": {
    "slideshow": {
     "slide_type": "slide"
    }
   },
   "outputs": [],
   "source": []
  },
  {
   "cell_type": "code",
   "execution_count": null,
   "id": "a13cadbc",
   "metadata": {
    "slideshow": {
     "slide_type": "slide"
    }
   },
   "outputs": [],
   "source": []
  },
  {
   "cell_type": "code",
   "execution_count": null,
   "id": "feab8d97",
   "metadata": {
    "slideshow": {
     "slide_type": "slide"
    }
   },
   "outputs": [],
   "source": []
  },
  {
   "cell_type": "code",
   "execution_count": null,
   "id": "c31528d8",
   "metadata": {
    "slideshow": {
     "slide_type": "slide"
    }
   },
   "outputs": [],
   "source": []
  },
  {
   "cell_type": "code",
   "execution_count": null,
   "id": "75bf6e22",
   "metadata": {
    "slideshow": {
     "slide_type": "slide"
    }
   },
   "outputs": [],
   "source": []
  },
  {
   "cell_type": "code",
   "execution_count": null,
   "id": "f835c849",
   "metadata": {
    "slideshow": {
     "slide_type": "slide"
    }
   },
   "outputs": [],
   "source": []
  },
  {
   "cell_type": "code",
   "execution_count": null,
   "id": "800aa8e2",
   "metadata": {},
   "outputs": [],
   "source": []
  },
  {
   "cell_type": "code",
   "execution_count": null,
   "id": "7b775e0d",
   "metadata": {},
   "outputs": [],
   "source": []
  },
  {
   "cell_type": "code",
   "execution_count": null,
   "id": "0b4943a2",
   "metadata": {},
   "outputs": [],
   "source": []
  },
  {
   "cell_type": "code",
   "execution_count": null,
   "id": "5764302b",
   "metadata": {},
   "outputs": [],
   "source": []
  }
 ],
 "metadata": {
  "celltoolbar": "Slideshow",
  "kernelspec": {
   "display_name": "Python 3 (ipykernel)",
   "language": "python",
   "name": "python3"
  },
  "language_info": {
   "codemirror_mode": {
    "name": "ipython",
    "version": 3
   },
   "file_extension": ".py",
   "mimetype": "text/x-python",
   "name": "python",
   "nbconvert_exporter": "python",
   "pygments_lexer": "ipython3",
   "version": "3.9.12"
  },
  "rise": {
   "theme": "sky"
  }
 },
 "nbformat": 4,
 "nbformat_minor": 5
}
