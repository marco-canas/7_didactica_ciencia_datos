{
 "cells": [
  {
   "cell_type": "markdown",
   "id": "43ab102f",
   "metadata": {
    "slideshow": {
     "slide_type": "slide"
    }
   },
   "source": [
    "<table align=\"left\">\n",
    "  <td>\n",
    "    <a href=\"https://colab.research.google.com/github/marco-canas/didactica_ciencia_datos/blob/main/referentes/geron/part_2/c_12/c_12.ipynb\" target=\"_parent\"><img src=\"https://colab.research.google.com/assets/colab-badge.svg\" alt=\"Open In Colab\"/></a>\n",
    "  </td>\n",
    "</table>"
   ]
  },
  {
   "cell_type": "markdown",
   "id": "e015cd2c",
   "metadata": {
    "slideshow": {
     "slide_type": "slide"
    }
   },
   "source": [
    "# Chapter 12. Custom Models and Training with TensorFlow"
   ]
  },
  {
   "cell_type": "markdown",
   "id": "c369a796",
   "metadata": {
    "slideshow": {
     "slide_type": "slide"
    }
   },
   "source": [
    "Hasta ahora, solo hemos usado la API de alto nivel de TensorFlow, `tf.keras`, pero ya hemos llegado bastante lejos: construimos varias arquitecturas de redes neuronales, incluidas redes de regresión y clasificación, redes anchas y profundas y redes de autonormalización utilizando todo tipo de técnicas, como la normalización por lotes, el abandono y los programas de tasa de aprendizaje. "
   ]
  },
  {
   "cell_type": "markdown",
   "id": "7c77144f",
   "metadata": {
    "slideshow": {
     "slide_type": "slide"
    }
   },
   "source": [
    "De hecho, el 95 % de los casos de uso que encontrará no requerirán nada más que `tf.keras` (y `tf.data`; consulte el Capítulo 13)."
   ]
  },
  {
   "cell_type": "markdown",
   "id": "511b489d",
   "metadata": {
    "slideshow": {
     "slide_type": "slide"
    }
   },
   "source": [
    "Pero ahora es el momento de profundizar en TensorFlow y echar un vistazo a su API de Python de nivel inferior."
   ]
  },
  {
   "cell_type": "markdown",
   "id": "b88f9d1b",
   "metadata": {
    "slideshow": {
     "slide_type": "slide"
    }
   },
   "source": [
    "Esto será útil cuando necesite control adicional para escribir funciones de pérdida personalizadas, métricas personalizadas, capas, modelos, inicializadores, regularizadores, restricciones de peso y más."
   ]
  },
  {
   "cell_type": "markdown",
   "id": "4c21ce7d",
   "metadata": {
    "slideshow": {
     "slide_type": "slide"
    }
   },
   "source": [
    "Incluso es posible que necesite controlar completamente el ciclo de entrenamiento en sí mismo, por ejemplo, para aplicar transformaciones o restricciones especiales a los gradientes (más allá de simplemente recortarlos) o usar múltiples optimizadores para diferentes partes de la red."
   ]
  },
  {
   "cell_type": "markdown",
   "id": "c299028e",
   "metadata": {
    "slideshow": {
     "slide_type": "slide"
    }
   },
   "source": [
    "We will cover all these cases in this chapter, and we will also look at how you can boost your custom models and training algorithms using TensorFlow’s automatic graph generation feature. "
   ]
  },
  {
   "cell_type": "markdown",
   "id": "ecbd8b12",
   "metadata": {
    "slideshow": {
     "slide_type": "slide"
    }
   },
   "source": [
    "But first, let’s take a quick tour of TensorFlow."
   ]
  },
  {
   "cell_type": "markdown",
   "id": "f3dc7dd8",
   "metadata": {
    "slideshow": {
     "slide_type": "slide"
    }
   },
   "source": [
    "### NOTE"
   ]
  },
  {
   "cell_type": "markdown",
   "id": "107c5e18",
   "metadata": {
    "slideshow": {
     "slide_type": "slide"
    }
   },
   "source": [
    "TensorFlow 2.0 (beta) was released in June 2019, making TensorFlow much easier to use. "
   ]
  },
  {
   "cell_type": "markdown",
   "id": "350f01cb",
   "metadata": {
    "slideshow": {
     "slide_type": "slide"
    }
   },
   "source": [
    "The first edition of this book used TF 1, while this edition uses TF 2."
   ]
  },
  {
   "cell_type": "markdown",
   "id": "d5e8187e",
   "metadata": {
    "slideshow": {
     "slide_type": "slide"
    }
   },
   "source": [
    "# A Quick Tour of TensorFlow"
   ]
  },
  {
   "cell_type": "markdown",
   "id": "ae0bc68f",
   "metadata": {
    "slideshow": {
     "slide_type": "slide"
    }
   },
   "source": [
    "As you know, TensorFlow is a powerful library for numerical computation, particularly well suited and fine-tuned for large-scale Machine Learning (but you could use it for anything else that requires heavy computations). "
   ]
  },
  {
   "cell_type": "markdown",
   "id": "475bdc9d",
   "metadata": {
    "slideshow": {
     "slide_type": "slide"
    }
   },
   "source": [
    "It was developed by the Google Brain team and it powers many of Google’s large-scale services, such as Google Cloud Speech, Google Photos, and Google Search. "
   ]
  },
  {
   "cell_type": "markdown",
   "id": "d78f5641",
   "metadata": {
    "slideshow": {
     "slide_type": "slide"
    }
   },
   "source": [
    "It was open sourced in November 2015, and it is now the most popular Deep Learning library (in terms of citations in papers,\n",
    "adoption in companies, stars on GitHub, etc.). "
   ]
  },
  {
   "cell_type": "markdown",
   "id": "eefc1964",
   "metadata": {
    "slideshow": {
     "slide_type": "slide"
    }
   },
   "source": [
    "Countless projects use TensorFlow for all sorts of Machine Learning tasks, such as image classification, natural language processing, recommender systems, and time series forecasting."
   ]
  },
  {
   "cell_type": "markdown",
   "id": "6928f455",
   "metadata": {
    "slideshow": {
     "slide_type": "slide"
    }
   },
   "source": [
    "So what does TensorFlow offer? Here’s a summary:"
   ]
  },
  {
   "cell_type": "markdown",
   "id": "e7a15df6",
   "metadata": {
    "slideshow": {
     "slide_type": "slide"
    }
   },
   "source": [
    "* Its core is very similar to NumPy, but with GPU support. It supports distributed computing (across multiple devices and\n",
    "servers).  \n",
    "\n",
    "* It includes a kind of just-in-time (JIT) compiler that allows it to optimize computations for speed and memory usage. It works by extracting the computation graph from a Python function, then optimizing it (e.g., by pruning unused nodes), and finally running it efficiently (e.g., by automatically running independent operations in parallel)."
   ]
  },
  {
   "cell_type": "markdown",
   "id": "6daf37f0",
   "metadata": {
    "slideshow": {
     "slide_type": "slide"
    }
   },
   "source": [
    "* Computation graphs can be exported to a portable format, so you can train a TensorFlow model in one environment (e.g., using\n",
    "Python on Linux) and run it in another (e.g., using Java on an Android device).  \n",
    "\n",
    "* It implements autodiff (see Chapter 10 and Appendix D) and provides some excellent optimizers, such as RMSProp and Nadam\n",
    "(see Chapter 11), so you can easily minimize all sorts of loss functions."
   ]
  },
  {
   "cell_type": "markdown",
   "id": "2e77d024",
   "metadata": {
    "slideshow": {
     "slide_type": "slide"
    }
   },
   "source": [
    "TensorFlow offers many more features built on top of these core features: the most important is of course tf.keras, but it also has data loading and preprocessing ops (tf.data, tf.io, etc.), image processing ops (tf.image), signal processing ops (tf.signal), and more (see Figure 12-1 for an overview of TensorFlow’s Python API)."
   ]
  },
  {
   "cell_type": "markdown",
   "id": "1f6c96a0",
   "metadata": {
    "slideshow": {
     "slide_type": "slide"
    }
   },
   "source": [
    "## TIP"
   ]
  },
  {
   "cell_type": "markdown",
   "id": "fef42c30",
   "metadata": {
    "slideshow": {
     "slide_type": "slide"
    }
   },
   "source": [
    "We will cover many of the packages and functions of the TensorFlow API, but it’s impossible to cover them all, so you should really take some time to browse through the API; you will find that it is quite rich and well documented."
   ]
  },
  {
   "cell_type": "markdown",
   "id": "2bcb405a",
   "metadata": {
    "slideshow": {
     "slide_type": "slide"
    }
   },
   "source": [
    "<img src = 'https://github.com/marco-canas/didactica_ciencia_datos/blob/main/referentes/geron/part_2/c_12/figure_12_1.jpg?raw=true'>"
   ]
  },
  {
   "cell_type": "markdown",
   "id": "0e4aeb4b",
   "metadata": {
    "slideshow": {
     "slide_type": "slide"
    }
   },
   "source": [
    "At the lowest level, each TensorFlow operation (op for short) is implemented using highly efficient C++ code. "
   ]
  },
  {
   "cell_type": "markdown",
   "id": "79878615",
   "metadata": {
    "slideshow": {
     "slide_type": "slide"
    }
   },
   "source": [
    "Many operations have multiple implementations called kernels: each kernel is dedicated to a specific device type, such as CPUs, GPUs, or even TPUs (tensor processing units). "
   ]
  },
  {
   "cell_type": "markdown",
   "id": "266ac741",
   "metadata": {
    "slideshow": {
     "slide_type": "slide"
    }
   },
   "source": [
    "As you may know, GPUs can dramatically speed up computations by splitting them into many smaller chunks and running them in parallel across many GPU threads. "
   ]
  },
  {
   "cell_type": "markdown",
   "id": "609cb11b",
   "metadata": {
    "slideshow": {
     "slide_type": "slide"
    }
   },
   "source": [
    "TPUs are even faster: they are custom ASIC chips built specifically for Deep Learning operations (we will discuss how to use TensorFlow with GPUs or TPUs in Chapter 19)."
   ]
  },
  {
   "cell_type": "markdown",
   "id": "5d7e7fdf",
   "metadata": {
    "slideshow": {
     "slide_type": "slide"
    }
   },
   "source": [
    "TensorFlow’s architecture is shown in Figure 12-2. "
   ]
  },
  {
   "cell_type": "markdown",
   "id": "b932b1b7",
   "metadata": {
    "slideshow": {
     "slide_type": "slide"
    }
   },
   "source": [
    "<img src = 'https://github.com/marco-canas/didactica_ciencia_datos/blob/main/referentes/geron/part_2/c_12/figure_12_2.jpg?raw=true'>"
   ]
  },
  {
   "cell_type": "markdown",
   "id": "aae9422c",
   "metadata": {
    "slideshow": {
     "slide_type": "slide"
    }
   },
   "source": [
    "Most of the time your code will use the high-level APIs (especially tf.keras and tf.data); but when you need more flexibility, you will use the lower-level Python API, handling tensors directly. "
   ]
  },
  {
   "cell_type": "markdown",
   "id": "66af6b52",
   "metadata": {
    "slideshow": {
     "slide_type": "slide"
    }
   },
   "source": [
    "Note that APIs for other languages are also available. "
   ]
  },
  {
   "cell_type": "markdown",
   "id": "bd4710b6",
   "metadata": {
    "slideshow": {
     "slide_type": "slide"
    }
   },
   "source": [
    "In any case, TensorFlow’s execution engine will take care of running the operations efficiently, even across multiple devices and machines if you tell it to."
   ]
  },
  {
   "cell_type": "markdown",
   "id": "eb25fab4",
   "metadata": {
    "slideshow": {
     "slide_type": "slide"
    }
   },
   "source": [
    "TensorFlow runs not only on Windows, Linux, and macOS, but also on mobile devices (using TensorFlow Lite), including both iOS and Android (see Chapter 19). "
   ]
  },
  {
   "cell_type": "markdown",
   "id": "115b619a",
   "metadata": {
    "slideshow": {
     "slide_type": "slide"
    }
   },
   "source": [
    "If you do not want to use the Python API, there are C++, Java, Go, and Swift APIs. "
   ]
  },
  {
   "cell_type": "markdown",
   "id": "4b43b812",
   "metadata": {
    "slideshow": {
     "slide_type": "slide"
    }
   },
   "source": [
    "There is even a JavaScript implementation called TensorFlow.js that makes it possible to run your models directly in your browser."
   ]
  },
  {
   "cell_type": "markdown",
   "id": "884249c1",
   "metadata": {
    "slideshow": {
     "slide_type": "slide"
    }
   },
   "source": [
    "There’s more to TensorFlow than the library. "
   ]
  },
  {
   "cell_type": "markdown",
   "id": "43c00dad",
   "metadata": {
    "slideshow": {
     "slide_type": "slide"
    }
   },
   "source": [
    "TensorFlow is at the center of an extensive ecosystem of libraries. First, there’s TensorBoard for visualization (see Chapter 10). "
   ]
  },
  {
   "cell_type": "markdown",
   "id": "3077b4c0",
   "metadata": {
    "slideshow": {
     "slide_type": "slide"
    }
   },
   "source": [
    "Next, there’s TensorFlow Extended (TFX), which is a set of libraries built by Google to productionize TensorFlow projects: it includes tools for data validation, preprocessing, model analysis, and serving (with TF Serving; see Chapter 19). "
   ]
  },
  {
   "cell_type": "markdown",
   "id": "d72fa74b",
   "metadata": {
    "slideshow": {
     "slide_type": "slide"
    }
   },
   "source": [
    "Google’s TensorFlow Hub provides a way to easily download and reuse pretrained neural networks."
   ]
  },
  {
   "cell_type": "markdown",
   "id": "91159856",
   "metadata": {
    "slideshow": {
     "slide_type": "slide"
    }
   },
   "source": [
    "You can also get many neural network architectures, some of them pretrained, in TensorFlow’s model garden. "
   ]
  },
  {
   "cell_type": "markdown",
   "id": "a86bea34",
   "metadata": {
    "slideshow": {
     "slide_type": "slide"
    }
   },
   "source": [
    "Check out the TensorFlow Resources and https://github.com/jtoy/awesome-tensorflow for more TensorFlow-based projects. You will find hundreds of TensorFlow projects on GitHub, so it is often easy to find existing code for whatever you are trying to do. "
   ]
  },
  {
   "cell_type": "markdown",
   "id": "ca660d22",
   "metadata": {
    "slideshow": {
     "slide_type": "slide"
    }
   },
   "source": [
    "## TIP"
   ]
  },
  {
   "cell_type": "markdown",
   "id": "8216347a",
   "metadata": {
    "slideshow": {
     "slide_type": "slide"
    }
   },
   "source": [
    "More and more ML papers are released along with their implementations, and sometimes even with pretrained models. Check out https://paperswithcode.com/ to easily find them."
   ]
  },
  {
   "cell_type": "markdown",
   "id": "217b3f21",
   "metadata": {
    "slideshow": {
     "slide_type": "slide"
    }
   },
   "source": [
    "Last but not least, TensorFlow has a dedicated team of passionate and helpful developers, as well as a large community contributing to improving it. "
   ]
  },
  {
   "cell_type": "markdown",
   "id": "11bcf5e3",
   "metadata": {
    "slideshow": {
     "slide_type": "slide"
    }
   },
   "source": [
    "To ask technical questions, you should use http://stackoverflow.com/ and tag your question with tensorflow and python. "
   ]
  },
  {
   "cell_type": "markdown",
   "id": "3f54cc33",
   "metadata": {
    "slideshow": {
     "slide_type": "slide"
    }
   },
   "source": [
    "You can file bugs and feature requests through GitHub. "
   ]
  },
  {
   "cell_type": "markdown",
   "id": "23a81a9e",
   "metadata": {
    "slideshow": {
     "slide_type": "slide"
    }
   },
   "source": [
    "For general discussions, join the Google group."
   ]
  },
  {
   "cell_type": "markdown",
   "id": "f1324176",
   "metadata": {
    "slideshow": {
     "slide_type": "slide"
    }
   },
   "source": [
    "OK, it’s time to start coding!"
   ]
  },
  {
   "cell_type": "markdown",
   "id": "c85c7904",
   "metadata": {
    "slideshow": {
     "slide_type": "slide"
    }
   },
   "source": [
    "# Using TensorFlow like NumPy"
   ]
  },
  {
   "cell_type": "markdown",
   "id": "b1f67b0a",
   "metadata": {
    "slideshow": {
     "slide_type": "slide"
    }
   },
   "source": [
    "TensorFlow’s API revolves around tensors, which flow from operation to operation—hence the name TensorFlow. A tensor is usually a multidimensional array (exactly like a NumPy ndarray), but it can also hold a scalar (a simple value, such as 42). "
   ]
  },
  {
   "cell_type": "markdown",
   "id": "ba6e766b",
   "metadata": {
    "slideshow": {
     "slide_type": "slide"
    }
   },
   "source": [
    "These tensors will be important when we create custom cost functions, custom metrics, custom layers, and more, so let’s see how to create and manipulate them."
   ]
  },
  {
   "cell_type": "markdown",
   "id": "5e9f65bb",
   "metadata": {
    "slideshow": {
     "slide_type": "slide"
    }
   },
   "source": [
    "## Tensors and Operations"
   ]
  },
  {
   "cell_type": "markdown",
   "id": "07aacf85",
   "metadata": {
    "slideshow": {
     "slide_type": "slide"
    }
   },
   "source": [
    "You can create a tensor with `tf.constant()`. "
   ]
  },
  {
   "cell_type": "markdown",
   "id": "997927d0",
   "metadata": {
    "slideshow": {
     "slide_type": "slide"
    }
   },
   "source": [
    "For example, here is a tensor representing a matrix with two rows and three columns of floats:"
   ]
  },
  {
   "cell_type": "code",
   "execution_count": 1,
   "id": "408c59e3",
   "metadata": {
    "slideshow": {
     "slide_type": "slide"
    }
   },
   "outputs": [],
   "source": [
    "import tensorflow as tf "
   ]
  },
  {
   "cell_type": "code",
   "execution_count": 2,
   "id": "861cba10",
   "metadata": {
    "slideshow": {
     "slide_type": "slide"
    }
   },
   "outputs": [
    {
     "data": {
      "text/plain": [
       "<tf.Tensor: shape=(2, 3), dtype=float32, numpy=\n",
       "array([[1., 2., 3.],\n",
       "       [4., 5., 6.]], dtype=float32)>"
      ]
     },
     "execution_count": 2,
     "metadata": {},
     "output_type": "execute_result"
    }
   ],
   "source": [
    "tf.constant([[1., 2., 3.], [4., 5., 6.]]) # matrix"
   ]
  },
  {
   "cell_type": "code",
   "execution_count": 3,
   "id": "91176072",
   "metadata": {
    "slideshow": {
     "slide_type": "slide"
    }
   },
   "outputs": [
    {
     "data": {
      "text/plain": [
       "<tf.Tensor: shape=(), dtype=int32, numpy=42>"
      ]
     },
     "execution_count": 3,
     "metadata": {},
     "output_type": "execute_result"
    }
   ],
   "source": [
    "tf.constant(42) # scalar\n"
   ]
  },
  {
   "cell_type": "code",
   "execution_count": null,
   "id": "9eee1609",
   "metadata": {
    "slideshow": {
     "slide_type": "slide"
    }
   },
   "outputs": [],
   "source": []
  },
  {
   "cell_type": "code",
   "execution_count": null,
   "id": "5137ab3e",
   "metadata": {
    "slideshow": {
     "slide_type": "slide"
    }
   },
   "outputs": [],
   "source": []
  },
  {
   "cell_type": "code",
   "execution_count": null,
   "id": "b10948bb",
   "metadata": {
    "slideshow": {
     "slide_type": "slide"
    }
   },
   "outputs": [],
   "source": []
  },
  {
   "cell_type": "code",
   "execution_count": null,
   "id": "4048b901",
   "metadata": {},
   "outputs": [],
   "source": []
  },
  {
   "cell_type": "code",
   "execution_count": null,
   "id": "1a0aeb0f",
   "metadata": {},
   "outputs": [],
   "source": []
  }
 ],
 "metadata": {
  "celltoolbar": "Slideshow",
  "kernelspec": {
   "display_name": "Python 3 (ipykernel)",
   "language": "python",
   "name": "python3"
  },
  "language_info": {
   "codemirror_mode": {
    "name": "ipython",
    "version": 3
   },
   "file_extension": ".py",
   "mimetype": "text/x-python",
   "name": "python",
   "nbconvert_exporter": "python",
   "pygments_lexer": "ipython3",
   "version": "3.9.12"
  },
  "rise": {
   "theme": "sky"
  }
 },
 "nbformat": 4,
 "nbformat_minor": 5
}
