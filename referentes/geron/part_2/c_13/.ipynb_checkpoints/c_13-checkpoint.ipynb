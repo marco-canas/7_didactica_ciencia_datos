{
 "cells": [
  {
   "cell_type": "markdown",
   "id": "f2bdb338",
   "metadata": {
    "slideshow": {
     "slide_type": "slide"
    }
   },
   "source": [
    "<table align=\"left\">\n",
    "  <td>\n",
    "    <a href=\"https://colab.research.google.com/github/marco-canas/didactica_ciencia_datos/blob/main/referentes/geron/part_2/c_11/c_11.ipynb#scrollTo=3496adae\" target=\"_parent\"><img src=\"https://colab.research.google.com/assets/colab-badge.svg\" alt=\"Open In Colab\"/></a>\n",
    "  </td>\n",
    "</table>"
   ]
  },
  {
   "cell_type": "markdown",
   "id": "402dcc88",
   "metadata": {
    "slideshow": {
     "slide_type": "slide"
    }
   },
   "source": [
    "# Capítulo 13. Carga y preprocesamiento de datos con TensorFlow"
   ]
  },
  {
   "cell_type": "markdown",
   "id": "faf79f34",
   "metadata": {
    "slideshow": {
     "slide_type": "slide"
    }
   },
   "source": [
    "Hasta ahora, solo hemos utilizado conjuntos de datos que caben en la memoria, pero los sistemas de aprendizaje profundo a menudo se entrenan en conjuntos de datos muy grandes que no caben en la RAM."
   ]
  },
  {
   "cell_type": "markdown",
   "id": "500335d4",
   "metadata": {
    "slideshow": {
     "slide_type": "slide"
    }
   },
   "source": [
    "Ingesting a large dataset and preprocessing it efficiently can be tricky to implement with other Deep Learning libraries, but TensorFlow makes it easy thanks to the Data API: you just create a dataset object, and tell it where to get the data and how to transform it. "
   ]
  },
  {
   "cell_type": "markdown",
   "id": "4d78b92c",
   "metadata": {
    "slideshow": {
     "slide_type": "slide"
    }
   },
   "source": [
    "TensorFlow takes care of all the implementation details, such as multithreading, queuing, batching, and prefetching. "
   ]
  },
  {
   "cell_type": "markdown",
   "id": "801f264e",
   "metadata": {
    "slideshow": {
     "slide_type": "slide"
    }
   },
   "source": [
    "Moreover, the Data API works seamlessly with tf.keras!"
   ]
  },
  {
   "cell_type": "markdown",
   "id": "a325578c",
   "metadata": {
    "slideshow": {
     "slide_type": "slide"
    }
   },
   "source": [
    "Off the shelf, the Data API can read from text files (such as CSV files), binary files with fixed-size records, and binary files that use TensorFlow’s TFRecord format, which supports records of varying sizes. "
   ]
  },
  {
   "cell_type": "markdown",
   "id": "e9e1a4fc",
   "metadata": {
    "slideshow": {
     "slide_type": "slide"
    }
   },
   "source": [
    "TFRecord is a flexible and efficient binary format based on Protocol Buffers (an open source binary format). "
   ]
  },
  {
   "cell_type": "markdown",
   "id": "01586eaa",
   "metadata": {
    "slideshow": {
     "slide_type": "slide"
    }
   },
   "source": [
    "The Data API also has support for reading from SQL databases. "
   ]
  },
  {
   "cell_type": "markdown",
   "id": "dffb8563",
   "metadata": {
    "slideshow": {
     "slide_type": "slide"
    }
   },
   "source": [
    "Moreover, many open source extensions are available to read from all sorts of data sources, such as Google’s BigQuery service."
   ]
  },
  {
   "cell_type": "markdown",
   "id": "2980599a",
   "metadata": {
    "slideshow": {
     "slide_type": "slide"
    }
   },
   "source": [
    "Reading huge datasets efficiently is not the only difficulty: the data also needs to be preprocessed, usually normalized."
   ]
  },
  {
   "cell_type": "markdown",
   "id": "db0ca145",
   "metadata": {
    "slideshow": {
     "slide_type": "slide"
    }
   },
   "source": [
    "Moreover, it is not always composed strictly of convenient numerical fields: there may be text features, categorical features, and so on. "
   ]
  },
  {
   "cell_type": "markdown",
   "id": "ce0a491d",
   "metadata": {
    "slideshow": {
     "slide_type": "slide"
    }
   },
   "source": [
    "These need to be encoded, for example using one-hot encoding, bag-of-words encoding, or embeddings (as we will see, an embedding is a trainable dense vector that represents a category or token). "
   ]
  },
  {
   "cell_type": "markdown",
   "id": "09ad1119",
   "metadata": {
    "slideshow": {
     "slide_type": "slide"
    }
   },
   "source": [
    "One option to handle all this preprocessing is to write your own custom preprocessing layers. "
   ]
  },
  {
   "cell_type": "markdown",
   "id": "f61b6163",
   "metadata": {
    "slideshow": {
     "slide_type": "slide"
    }
   },
   "source": [
    "Another is to use the standard preprocessing layers provided by Keras."
   ]
  },
  {
   "cell_type": "markdown",
   "id": "2f685223",
   "metadata": {
    "slideshow": {
     "slide_type": "slide"
    }
   },
   "source": [
    "In this chapter, we will cover the Data API, the TFRecord format, and how to create custom preprocessing layers and use the standard Keras ones. "
   ]
  },
  {
   "cell_type": "markdown",
   "id": "fc00c257",
   "metadata": {
    "slideshow": {
     "slide_type": "slide"
    }
   },
   "source": [
    "We will also take a quick look at a few related projects from TensorFlow’s ecosystem:\n",
    "TF Transform (tf.Transform)"
   ]
  },
  {
   "cell_type": "markdown",
   "id": "42151d9a",
   "metadata": {
    "slideshow": {
     "slide_type": "slide"
    }
   },
   "source": [
    "Makes it possible to write a single preprocessing function that can be run in batch mode on your full training set, before training (to speed it up), and then exported to a TF Function and incorporated into your trained model so that once it is deployed in production it can take care of preprocessing new instances on the fly."
   ]
  },
  {
   "cell_type": "markdown",
   "id": "af53315c",
   "metadata": {
    "slideshow": {
     "slide_type": "slide"
    }
   },
   "source": [
    "## TF Datasets (TFDS)"
   ]
  },
  {
   "cell_type": "markdown",
   "id": "d926053d",
   "metadata": {
    "slideshow": {
     "slide_type": "slide"
    }
   },
   "source": [
    "Provides a convenient function to download many common datasets of all kinds, including large ones like ImageNet, as well as convenient dataset objects to manipulate them using the Data API."
   ]
  },
  {
   "cell_type": "markdown",
   "id": "8148f9fb",
   "metadata": {
    "slideshow": {
     "slide_type": "slide"
    }
   },
   "source": [
    "So let’s get started!"
   ]
  },
  {
   "cell_type": "markdown",
   "id": "deec4f57",
   "metadata": {
    "slideshow": {
     "slide_type": "slide"
    }
   },
   "source": [
    "## The Data API"
   ]
  },
  {
   "cell_type": "markdown",
   "id": "48bc0092",
   "metadata": {
    "slideshow": {
     "slide_type": "slide"
    }
   },
   "source": [
    "The whole Data API revolves around the concept of a dataset: as you might suspect, this represents a sequence of data items. Usually you will use datasets that gradually read data from disk, but for simplicity let’s create a dataset entirely in RAM using `tf.data.Dataset.from_tensor_slices()`:"
   ]
  },
  {
   "cell_type": "code",
   "execution_count": 1,
   "id": "f0170a31",
   "metadata": {
    "slideshow": {
     "slide_type": "slide"
    }
   },
   "outputs": [],
   "source": [
    "import tensorflow as tf "
   ]
  },
  {
   "cell_type": "code",
   "execution_count": 2,
   "id": "498ea91d",
   "metadata": {
    "slideshow": {
     "slide_type": "slide"
    }
   },
   "outputs": [
    {
     "data": {
      "text/plain": [
       "<TensorSliceDataset element_spec=TensorSpec(shape=(), dtype=tf.int32, name=None)>"
      ]
     },
     "execution_count": 2,
     "metadata": {},
     "output_type": "execute_result"
    }
   ],
   "source": [
    "X = tf.range(10)     # any data tensor\n",
    "dataset = tf.data.Dataset.from_tensor_slices(X)\n",
    "dataset"
   ]
  },
  {
   "cell_type": "markdown",
   "id": "eb959e8e",
   "metadata": {
    "slideshow": {
     "slide_type": "slide"
    }
   },
   "source": [
    "The from_tensor_slices() function takes a tensor and creates a tf.data.Dataset whose elements are all the slices of X (along the first dimension), so this dataset contains 10 items: tensors 0, 1, 2, …, 9. "
   ]
  },
  {
   "cell_type": "markdown",
   "id": "c7b12cd8",
   "metadata": {
    "slideshow": {
     "slide_type": "slide"
    }
   },
   "source": [
    "In this case we would have obtained the same dataset if we had used `tf.data.Dataset.range(10)`."
   ]
  },
  {
   "cell_type": "markdown",
   "id": "ea873cd9",
   "metadata": {
    "slideshow": {
     "slide_type": "slide"
    }
   },
   "source": [
    "You can simply iterate over a dataset’s items like this:"
   ]
  },
  {
   "cell_type": "code",
   "execution_count": 3,
   "id": "de38e99e",
   "metadata": {
    "slideshow": {
     "slide_type": "slide"
    }
   },
   "outputs": [
    {
     "name": "stdout",
     "output_type": "stream",
     "text": [
      "tf.Tensor(0, shape=(), dtype=int32)\n",
      "tf.Tensor(1, shape=(), dtype=int32)\n",
      "tf.Tensor(2, shape=(), dtype=int32)\n",
      "tf.Tensor(3, shape=(), dtype=int32)\n",
      "tf.Tensor(4, shape=(), dtype=int32)\n",
      "tf.Tensor(5, shape=(), dtype=int32)\n",
      "tf.Tensor(6, shape=(), dtype=int32)\n",
      "tf.Tensor(7, shape=(), dtype=int32)\n",
      "tf.Tensor(8, shape=(), dtype=int32)\n",
      "tf.Tensor(9, shape=(), dtype=int32)\n"
     ]
    }
   ],
   "source": [
    "for item in dataset:\n",
    "    print(item)\n"
   ]
  },
  {
   "cell_type": "markdown",
   "id": "d2fcf174",
   "metadata": {
    "slideshow": {
     "slide_type": "slide"
    }
   },
   "source": [
    "# Chaining Transformations"
   ]
  },
  {
   "cell_type": "markdown",
   "id": "79ba66ac",
   "metadata": {
    "slideshow": {
     "slide_type": "slide"
    }
   },
   "source": [
    "Once you have a dataset, you can apply all sorts of transformations to it by calling its transformation methods. "
   ]
  },
  {
   "cell_type": "markdown",
   "id": "9a3a5107",
   "metadata": {
    "slideshow": {
     "slide_type": "slide"
    }
   },
   "source": [
    "Each method returns a new dataset, so you can chain transformations like this (this chain is illustrated in Figure 13-1):"
   ]
  },
  {
   "cell_type": "code",
   "execution_count": 4,
   "id": "4f909b10",
   "metadata": {
    "slideshow": {
     "slide_type": "slide"
    }
   },
   "outputs": [
    {
     "name": "stdout",
     "output_type": "stream",
     "text": [
      "tf.Tensor([0 1 2 3 4 5 6], shape=(7,), dtype=int32)\n",
      "tf.Tensor([7 8 9 0 1 2 3], shape=(7,), dtype=int32)\n",
      "tf.Tensor([4 5 6 7 8 9 0], shape=(7,), dtype=int32)\n",
      "tf.Tensor([1 2 3 4 5 6 7], shape=(7,), dtype=int32)\n",
      "tf.Tensor([8 9], shape=(2,), dtype=int32)\n"
     ]
    }
   ],
   "source": [
    "dataset = dataset.repeat(3).batch(7)\n",
    "for item in dataset:\n",
    "    print(item)"
   ]
  },
  {
   "cell_type": "markdown",
   "id": "22188e5b",
   "metadata": {
    "slideshow": {
     "slide_type": "slide"
    }
   },
   "source": [
    "In this example, we first call the `repeat()` method on the original dataset, and it returns a new dataset that will repeat the items of the original dataset three times. "
   ]
  },
  {
   "cell_type": "markdown",
   "id": "c89cc2b5",
   "metadata": {
    "slideshow": {
     "slide_type": "slide"
    }
   },
   "source": [
    "Of course, this will not copy all the data in memory three times! "
   ]
  },
  {
   "cell_type": "markdown",
   "id": "08be2c24",
   "metadata": {
    "slideshow": {
     "slide_type": "slide"
    }
   },
   "source": [
    "(If you call this method with no arguments, the new dataset will repeat the source dataset forever, so the code that iterates over the dataset will have to decide when to stop.) "
   ]
  },
  {
   "cell_type": "markdown",
   "id": "4ba6da6e",
   "metadata": {
    "slideshow": {
     "slide_type": "slide"
    }
   },
   "source": [
    "Then we call the `batch()` method on this new dataset, and again this creates a new dataset. "
   ]
  },
  {
   "cell_type": "markdown",
   "id": "dbe9d15d",
   "metadata": {
    "slideshow": {
     "slide_type": "slide"
    }
   },
   "source": [
    "This one will group the items of the previous dataset in batches of seven items. "
   ]
  },
  {
   "cell_type": "markdown",
   "id": "f1dce966",
   "metadata": {
    "slideshow": {
     "slide_type": "slide"
    }
   },
   "source": [
    "Finally, we iterate over the items of this final dataset. "
   ]
  },
  {
   "cell_type": "markdown",
   "id": "ce750e3c",
   "metadata": {
    "slideshow": {
     "slide_type": "slide"
    }
   },
   "source": [
    "As you can see, the `batch()` method had to output a final batch of size two instead of seven, but you can call it with\n",
    "drop_remainder=True if you want it to drop this final batch so that all batches have the exact same size."
   ]
  },
  {
   "cell_type": "markdown",
   "id": "ff60ada4",
   "metadata": {
    "slideshow": {
     "slide_type": "slide"
    }
   },
   "source": [
    "## WARNING"
   ]
  },
  {
   "cell_type": "markdown",
   "id": "d2d76dfe",
   "metadata": {
    "slideshow": {
     "slide_type": "slide"
    }
   },
   "source": [
    "The dataset methods do not modify datasets, they create new ones, so make sure to keep a reference to these new datasets (e.g., with dataset = ...), or else nothing will happen."
   ]
  },
  {
   "cell_type": "markdown",
   "id": "97c6edae",
   "metadata": {
    "slideshow": {
     "slide_type": "slide"
    }
   },
   "source": [
    "You can also transform the items by calling the map() method. "
   ]
  },
  {
   "cell_type": "markdown",
   "id": "7b224d99",
   "metadata": {
    "slideshow": {
     "slide_type": "slide"
    }
   },
   "source": [
    "For example, this creates a new dataset with all items doubled:"
   ]
  },
  {
   "cell_type": "code",
   "execution_count": 5,
   "id": "acace6f9",
   "metadata": {
    "slideshow": {
     "slide_type": "slide"
    }
   },
   "outputs": [],
   "source": [
    "dataset = dataset.map(lambda x: x * 2) # Items: [0,2,4,6,8,10,12]"
   ]
  },
  {
   "cell_type": "markdown",
   "id": "c6956613",
   "metadata": {
    "slideshow": {
     "slide_type": "slide"
    }
   },
   "source": [
    "This function is the one you will call to apply any preprocessing you want to your data. "
   ]
  },
  {
   "cell_type": "markdown",
   "id": "793cced2",
   "metadata": {
    "slideshow": {
     "slide_type": "slide"
    }
   },
   "source": [
    "Sometimes this will include computations that can be quite intensive, such as reshaping or rotating an image, so you will usually want to spawn multiple threads to speed things up: it’s as simple as setting the num_parallel_calls argument. "
   ]
  },
  {
   "cell_type": "markdown",
   "id": "43ed59d8",
   "metadata": {
    "slideshow": {
     "slide_type": "slide"
    }
   },
   "source": [
    "Note that the function you pass to the map() method must be convertible to a TF Function (see Chapter 12)."
   ]
  },
  {
   "cell_type": "markdown",
   "id": "e9daf528",
   "metadata": {
    "slideshow": {
     "slide_type": "slide"
    }
   },
   "source": [
    "While the map() method applies a transformation to each item, the apply() method applies a transformation to the dataset as a whole. "
   ]
  },
  {
   "cell_type": "markdown",
   "id": "499c72ef",
   "metadata": {
    "slideshow": {
     "slide_type": "slide"
    }
   },
   "source": [
    "For example, the following code applies the unbatch() function to the dataset (this function is currently experimental, but it will most likely move to the core API in a future release). "
   ]
  },
  {
   "cell_type": "markdown",
   "id": "64df7951",
   "metadata": {
    "slideshow": {
     "slide_type": "slide"
    }
   },
   "source": [
    "Each item in the new dataset will be a single-integer tensor instead of a batch of seven integers:"
   ]
  },
  {
   "cell_type": "code",
   "execution_count": null,
   "id": "6aea800a",
   "metadata": {
    "slideshow": {
     "slide_type": "slide"
    }
   },
   "outputs": [],
   "source": [
    "dataset = dataset.apply(tf.data.experimental.unbatch()) # Items: 0,2,4,..."
   ]
  },
  {
   "cell_type": "markdown",
   "id": "507b2dd1",
   "metadata": {
    "slideshow": {
     "slide_type": "slide"
    }
   },
   "source": [
    "It is also possible to simply filter the dataset using the filter() method:"
   ]
  },
  {
   "cell_type": "code",
   "execution_count": null,
   "id": "bce4b827",
   "metadata": {
    "slideshow": {
     "slide_type": "slide"
    }
   },
   "outputs": [],
   "source": [
    ">>> dataset = dataset.filter(lambda x: x < 10) # Items: 0 2 4 6 8 0 2 4 6..."
   ]
  },
  {
   "cell_type": "markdown",
   "id": "eb68c292",
   "metadata": {
    "slideshow": {
     "slide_type": "slide"
    }
   },
   "source": [
    "You will often want to look at just a few items from a dataset. "
   ]
  },
  {
   "cell_type": "markdown",
   "id": "dc8f7469",
   "metadata": {
    "slideshow": {
     "slide_type": "slide"
    }
   },
   "source": [
    "You can use the take() method for that:"
   ]
  },
  {
   "cell_type": "code",
   "execution_count": null,
   "id": "cb43f5a0",
   "metadata": {
    "slideshow": {
     "slide_type": "slide"
    }
   },
   "outputs": [],
   "source": [
    ">>> for item in dataset.take(3):\n",
    "... print(item)\n",
    "..."
   ]
  },
  {
   "cell_type": "markdown",
   "id": "961df34e",
   "metadata": {
    "slideshow": {
     "slide_type": "slide"
    }
   },
   "source": [
    "tf.Tensor(0, shape=(), dtype=int64)\n",
    "tf.Tensor(2, shape=(), dtype=int64)\n",
    "tf.Tensor(4, shape=(), dtype=int64)"
   ]
  },
  {
   "cell_type": "markdown",
   "id": "26de92f6",
   "metadata": {
    "slideshow": {
     "slide_type": "slide"
    }
   },
   "source": [
    "## Shuffling the Data"
   ]
  },
  {
   "cell_type": "markdown",
   "id": "d40552ca",
   "metadata": {
    "slideshow": {
     "slide_type": "slide"
    }
   },
   "source": [
    "As you know, Gradient Descent works best when the instances in the training set are independent and identically distributed (see Chapter 4). "
   ]
  },
  {
   "cell_type": "markdown",
   "id": "26f02e42",
   "metadata": {
    "slideshow": {
     "slide_type": "slide"
    }
   },
   "source": [
    "A simple way to ensure this is to shuffle the instances, using the `shuffle()` method. "
   ]
  },
  {
   "cell_type": "markdown",
   "id": "4c6ad525",
   "metadata": {
    "slideshow": {
     "slide_type": "slide"
    }
   },
   "source": [
    "It will create a new dataset that will start by filling up a buffer with the first items of the source dataset. "
   ]
  },
  {
   "cell_type": "markdown",
   "id": "1d09c889",
   "metadata": {
    "slideshow": {
     "slide_type": "slide"
    }
   },
   "source": [
    "Then, whenever it is asked for an item, it will pull one out randomly from the buffer and replace it with a fresh one from the source dataset, until it has iterated entirely through the source dataset. "
   ]
  },
  {
   "cell_type": "markdown",
   "id": "f3d7f3a8",
   "metadata": {
    "slideshow": {
     "slide_type": "slide"
    }
   },
   "source": [
    "At this point it continues to pull out items randomly from the buffer until it is empty. "
   ]
  },
  {
   "cell_type": "markdown",
   "id": "a1eaaddb",
   "metadata": {
    "slideshow": {
     "slide_type": "slide"
    }
   },
   "source": [
    "You must specify the buffer size, and it is important to make it large enough, or else shuffling will not be very effective. "
   ]
  },
  {
   "cell_type": "markdown",
   "id": "d7f66211",
   "metadata": {
    "slideshow": {
     "slide_type": "slide"
    }
   },
   "source": [
    "Just don’t exceed the amount of RAM you have, and even if you have plenty of it, there’s no need to go beyond the dataset’s size. "
   ]
  },
  {
   "cell_type": "markdown",
   "id": "6d0c27c9",
   "metadata": {
    "slideshow": {
     "slide_type": "slide"
    }
   },
   "source": [
    "You can provide a random seed if you want the same random order every time you run your program."
   ]
  },
  {
   "cell_type": "markdown",
   "id": "4b995f6e",
   "metadata": {
    "slideshow": {
     "slide_type": "slide"
    }
   },
   "source": [
    "For example, the following code creates and displays a dataset containing the integers 0 to 9, repeated 3 times, shuffled using a buffer of size 5 and a random seed of 42, and batched with a batch size of 7:"
   ]
  },
  {
   "cell_type": "code",
   "execution_count": 11,
   "id": "a33ec0b3",
   "metadata": {
    "slideshow": {
     "slide_type": "slide"
    }
   },
   "outputs": [
    {
     "name": "stdout",
     "output_type": "stream",
     "text": [
      "tf.Tensor([0 2 3 6 7 9 4], shape=(7,), dtype=int64)\n",
      "tf.Tensor([5 0 1 1 8 6 5], shape=(7,), dtype=int64)\n",
      "tf.Tensor([4 8 7 1 2 3 0], shape=(7,), dtype=int64)\n",
      "tf.Tensor([5 4 2 7 8 9 9], shape=(7,), dtype=int64)\n",
      "tf.Tensor([3 6], shape=(2,), dtype=int64)\n"
     ]
    }
   ],
   "source": [
    "dataset = tf.data.Dataset.range(10).repeat(3) # 0 to 9, three times\n",
    "dataset = dataset.shuffle(buffer_size=5, seed=42).batch(7)\n",
    "for item in dataset:\n",
    "    print(item)"
   ]
  },
  {
   "cell_type": "code",
   "execution_count": null,
   "id": "5c63897b",
   "metadata": {
    "slideshow": {
     "slide_type": "slide"
    }
   },
   "outputs": [],
   "source": [
    "tf.Tensor([0 2 3 6 7 9 4], shape=(7,), dtype=int64)\n",
    "tf.Tensor([5 0 1 1 8 6 5], shape=(7,), dtype=int64)\n",
    "tf.Tensor([4 8 7 1 2 3 0], shape=(7,), dtype=int64)\n",
    "tf.Tensor([5 4 2 7 8 9 9], shape=(7,), dtype=int64)\n",
    "tf.Tensor([3 6], shape=(2,), dtype=int64)"
   ]
  },
  {
   "cell_type": "markdown",
   "id": "2e20c1fe",
   "metadata": {
    "slideshow": {
     "slide_type": "slide"
    }
   },
   "source": [
    "### TIP"
   ]
  },
  {
   "cell_type": "markdown",
   "id": "6ea942e2",
   "metadata": {
    "slideshow": {
     "slide_type": "slide"
    }
   },
   "source": [
    "If you call repeat() on a shuffled dataset, by default it will generate a new order at every iteration. "
   ]
  },
  {
   "cell_type": "markdown",
   "id": "f20ddfc1",
   "metadata": {
    "slideshow": {
     "slide_type": "slide"
    }
   },
   "source": [
    "This is generally a good idea, but if you prefer to reuse the same order at each iteration (e.g., for tests or debugging), you can set reshuffle_each_iteration=False."
   ]
  },
  {
   "cell_type": "markdown",
   "id": "e3987263",
   "metadata": {
    "slideshow": {
     "slide_type": "slide"
    }
   },
   "source": [
    "For a large dataset that does not fit in memory, this simple shuffling-buffer\n",
    "approach may not be sufficient, since the buffer will be small compared to\n",
    "the dataset. One solution is to shuffle the source data itself (for example, on\n",
    "Linux you can shuffle text files using the shuf command). This will\n",
    "definitely improve shuffling a lot! Even if the source data is shuffled, you\n",
    "will usually want to shuffle it some more, or else the same order will be\n",
    "repeated at each epoch, and the model may end up being biased (e.g., due to some spurious patterns present by chance in the source data’s order). To\n",
    "shuffle the instances some more, a common approach is to split the source\n",
    "data into multiple files, then read them in a random order during training.\n",
    "However, instances located in the same file will still end up close to each\n",
    "other. To avoid this you can pick multiple files randomly and read them\n",
    "simultaneously, interleaving their records. Then on top of that you can add a\n",
    "shuffling buffer using the shuffle() method. If all this sounds like a lot of\n",
    "work, don’t worry: the Data API makes all this possible in just a few lines\n",
    "of code. Let’s see how to do this."
   ]
  },
  {
   "cell_type": "markdown",
   "id": "b4f876b4",
   "metadata": {
    "slideshow": {
     "slide_type": "slide"
    }
   },
   "source": [
    "Interleaving lines from multiple files\n",
    "First, let’s suppose that you’ve loaded the California housing dataset,\n",
    "shuffled it (unless it was already shuffled), and split it into a training set, a\n",
    "validation set, and a test set. Then you split each set into many CSV files\n",
    "that each look like this (each row contains eight input features plus the\n",
    "target median house value):\n",
    "MedInc,HouseAge,AveRooms,AveBedrms,Popul,AveOccup,Lat,Long,MedianHouseValue\n",
    "3.5214,15.0,3.0499,1.1065,1447.0,1.6059,37.63,-122.43,1.442\n",
    "5.3275,5.0,6.4900,0.9910,3464.0,3.4433,33.69,-117.39,1.687\n",
    "3.1,29.0,7.5423,1.5915,1328.0,2.2508,38.44,-122.98,1.621\n",
    "[...]\n",
    "Let’s also suppose train_filepaths contains the list of training file paths\n",
    "(and you also have valid_filepaths and test_filepaths):"
   ]
  },
  {
   "cell_type": "code",
   "execution_count": 10,
   "id": "a3e2da65",
   "metadata": {
    "slideshow": {
     "slide_type": "slide"
    }
   },
   "outputs": [
    {
     "ename": "NameError",
     "evalue": "name 'train_filepaths' is not defined",
     "output_type": "error",
     "traceback": [
      "\u001b[1;31m---------------------------------------------------------------------------\u001b[0m",
      "\u001b[1;31mNameError\u001b[0m                                 Traceback (most recent call last)",
      "Input \u001b[1;32mIn [10]\u001b[0m, in \u001b[0;36m<cell line: 1>\u001b[1;34m()\u001b[0m\n\u001b[1;32m----> 1\u001b[0m \u001b[43mtrain_filepaths\u001b[49m\n",
      "\u001b[1;31mNameError\u001b[0m: name 'train_filepaths' is not defined"
     ]
    }
   ],
   "source": [
    "train_filepaths"
   ]
  },
  {
   "cell_type": "markdown",
   "id": "ce2abc70",
   "metadata": {
    "slideshow": {
     "slide_type": "slide"
    }
   },
   "source": [
    "['datasets/housing/my_train_00.csv', 'datasets/housing/my_train_01.csv',...]"
   ]
  },
  {
   "cell_type": "markdown",
   "id": "539d14ea",
   "metadata": {
    "slideshow": {
     "slide_type": "slide"
    }
   },
   "source": [
    "Alternatively, you could use file patterns; for example, train_filepaths\n",
    "= \"datasets/housing/my_train_*.csv\". Now let’s create a dataset\n",
    "containing only these file paths:"
   ]
  },
  {
   "cell_type": "code",
   "execution_count": 9,
   "id": "71393d36",
   "metadata": {
    "slideshow": {
     "slide_type": "slide"
    }
   },
   "outputs": [
    {
     "ename": "NameError",
     "evalue": "name 'train_filepaths' is not defined",
     "output_type": "error",
     "traceback": [
      "\u001b[1;31m---------------------------------------------------------------------------\u001b[0m",
      "\u001b[1;31mNameError\u001b[0m                                 Traceback (most recent call last)",
      "Input \u001b[1;32mIn [9]\u001b[0m, in \u001b[0;36m<cell line: 1>\u001b[1;34m()\u001b[0m\n\u001b[1;32m----> 1\u001b[0m filepath_dataset \u001b[38;5;241m=\u001b[39m tf\u001b[38;5;241m.\u001b[39mdata\u001b[38;5;241m.\u001b[39mDataset\u001b[38;5;241m.\u001b[39mlist_files(\u001b[43mtrain_filepaths\u001b[49m, seed\u001b[38;5;241m=\u001b[39m\u001b[38;5;241m42\u001b[39m)\n",
      "\u001b[1;31mNameError\u001b[0m: name 'train_filepaths' is not defined"
     ]
    }
   ],
   "source": [
    "filepath_dataset = tf.data.Dataset.list_files(train_filepaths, seed=42)"
   ]
  },
  {
   "cell_type": "markdown",
   "id": "a3092438",
   "metadata": {
    "slideshow": {
     "slide_type": "slide"
    }
   },
   "source": [
    "By default, the list_files() function returns a dataset that shuffles the\n",
    "file paths. In general this is a good thing, but you can set shuffle=False if\n",
    "you do not want that for some reason."
   ]
  },
  {
   "cell_type": "markdown",
   "id": "00e1bd65",
   "metadata": {
    "slideshow": {
     "slide_type": "slide"
    }
   },
   "source": [
    "Next, you can call the interleave() method to read from five files at a time and interleave their lines (skipping the first line of each file, which is the header row, using the skip() method):"
   ]
  },
  {
   "cell_type": "code",
   "execution_count": 8,
   "id": "34212a1c",
   "metadata": {
    "slideshow": {
     "slide_type": "slide"
    }
   },
   "outputs": [
    {
     "ename": "NameError",
     "evalue": "name 'filepath_dataset' is not defined",
     "output_type": "error",
     "traceback": [
      "\u001b[1;31m---------------------------------------------------------------------------\u001b[0m",
      "\u001b[1;31mNameError\u001b[0m                                 Traceback (most recent call last)",
      "Input \u001b[1;32mIn [8]\u001b[0m, in \u001b[0;36m<cell line: 2>\u001b[1;34m()\u001b[0m\n\u001b[0;32m      1\u001b[0m n_readers \u001b[38;5;241m=\u001b[39m \u001b[38;5;241m5\u001b[39m\n\u001b[1;32m----> 2\u001b[0m dataset \u001b[38;5;241m=\u001b[39m \u001b[43mfilepath_dataset\u001b[49m\u001b[38;5;241m.\u001b[39minterleave(\n\u001b[0;32m      3\u001b[0m     \u001b[38;5;28;01mlambda\u001b[39;00m filepath: tf\u001b[38;5;241m.\u001b[39mdata\u001b[38;5;241m.\u001b[39mTextLineDataset(filepath)\u001b[38;5;241m.\u001b[39mskip(\u001b[38;5;241m1\u001b[39m),\n\u001b[0;32m      4\u001b[0m     cycle_length\u001b[38;5;241m=\u001b[39mn_readers)\n",
      "\u001b[1;31mNameError\u001b[0m: name 'filepath_dataset' is not defined"
     ]
    }
   ],
   "source": [
    "n_readers = 5\n",
    "dataset = filepath_dataset.interleave(\n",
    "    lambda filepath: tf.data.TextLineDataset(filepath).skip(1),\n",
    "    cycle_length=n_readers)"
   ]
  },
  {
   "cell_type": "markdown",
   "id": "90824fe4",
   "metadata": {
    "slideshow": {
     "slide_type": "slide"
    }
   },
   "source": [
    "The interleave() method will create a dataset that will pull five file paths\n",
    "from the filepath_dataset, and for each one it will call the function you\n",
    "gave it (a lambda in this example) to create a new dataset (in this case a\n",
    "TextLineDataset). To be clear, at this stage there will be seven datasets in\n",
    "all: the filepath dataset, the interleave dataset, and the five\n",
    "TextLineDatasets created internally by the interleave dataset. When we\n",
    "iterate over the interleave dataset, it will cycle through these five\n",
    "TextLineDatasets, reading one line at a time from each until all datasets\n",
    "are out of items. Then it will get the next five file paths from the\n",
    "filepath_dataset and interleave them the same way, and so on until it\n",
    "runs out of file paths."
   ]
  },
  {
   "cell_type": "markdown",
   "id": "dd8a6ecf",
   "metadata": {
    "slideshow": {
     "slide_type": "slide"
    }
   },
   "source": [
    "### TIP"
   ]
  },
  {
   "cell_type": "markdown",
   "id": "5632d34f",
   "metadata": {
    "slideshow": {
     "slide_type": "slide"
    }
   },
   "source": [
    "For interleaving to work best, it is preferable to have files of identical length; otherwise the ends of the longest files will not be interleaved."
   ]
  },
  {
   "cell_type": "markdown",
   "id": "67076d1d",
   "metadata": {
    "slideshow": {
     "slide_type": "slide"
    }
   },
   "source": [
    "By default, interleave() does not use parallelism; it just reads one line at a time from each file, sequentially. "
   ]
  },
  {
   "cell_type": "markdown",
   "id": "760d8fc0",
   "metadata": {
    "slideshow": {
     "slide_type": "slide"
    }
   },
   "source": [
    "If you want it to actually read files in parallel, you can set the num_parallel_calls argument to the number of threads you want (note that the map() method also has this argument). "
   ]
  },
  {
   "cell_type": "markdown",
   "id": "bcea0d87",
   "metadata": {
    "slideshow": {
     "slide_type": "slide"
    }
   },
   "source": [
    "You can even set it to tf.data.experimental.AUTOTUNE to make TensorFlow choose the right number of threads dynamically based on the available CPU (however, this is an experimental feature for now). Let’s look at what the dataset contains now:"
   ]
  },
  {
   "cell_type": "markdown",
   "id": "c9183676",
   "metadata": {
    "slideshow": {
     "slide_type": "slide"
    }
   },
   "source": [
    ">>> for line in dataset.take(5):\n",
    "... print(line.numpy())\n",
    "..."
   ]
  },
  {
   "cell_type": "markdown",
   "id": "e3f54f1f",
   "metadata": {
    "slideshow": {
     "slide_type": "slide"
    }
   },
   "source": [
    "b'4.2083,44.0,5.3232,0.9171,846.0,2.3370,37.47,-122.2,2.782'\n",
    "b'4.1812,52.0,5.7013,0.9965,692.0,2.4027,33.73,-118.31,3.215'\n",
    "b'3.6875,44.0,4.5244,0.9930,457.0,3.1958,34.04,-118.15,1.625'\n",
    "b'3.3456,37.0,4.5140,0.9084,458.0,3.2253,36.67,-121.7,2.526'\n",
    "b'3.5214,15.0,3.0499,1.1065,1447.0,1.6059,37.63,-122.43,1.442'"
   ]
  },
  {
   "cell_type": "markdown",
   "id": "7c4771ad",
   "metadata": {
    "slideshow": {
     "slide_type": "slide"
    }
   },
   "source": [
    "These are the first rows (ignoring the header row) of five CSV files, chosen randomly. "
   ]
  },
  {
   "cell_type": "markdown",
   "id": "f05fa47f",
   "metadata": {
    "slideshow": {
     "slide_type": "slide"
    }
   },
   "source": [
    "Looks good! But as you can see, these are just byte strings; we need to parse them and scale the data."
   ]
  },
  {
   "cell_type": "markdown",
   "id": "051de247",
   "metadata": {
    "slideshow": {
     "slide_type": "slide"
    }
   },
   "source": [
    "### Preprocessing the Data"
   ]
  },
  {
   "cell_type": "markdown",
   "id": "eadf6297",
   "metadata": {
    "slideshow": {
     "slide_type": "slide"
    }
   },
   "source": [
    "Let’s implement a small function that will perform this preprocessing:"
   ]
  },
  {
   "cell_type": "code",
   "execution_count": 7,
   "id": "a850dd2e",
   "metadata": {
    "slideshow": {
     "slide_type": "slide"
    }
   },
   "outputs": [
    {
     "ename": "ValueError",
     "evalue": "not enough values to unpack (expected 2, got 1)",
     "output_type": "error",
     "traceback": [
      "\u001b[1;31m---------------------------------------------------------------------------\u001b[0m",
      "\u001b[1;31mValueError\u001b[0m                                Traceback (most recent call last)",
      "Input \u001b[1;32mIn [7]\u001b[0m, in \u001b[0;36m<cell line: 1>\u001b[1;34m()\u001b[0m\n\u001b[1;32m----> 1\u001b[0m X_mean, X_std \u001b[38;5;241m=\u001b[39m [\u001b[38;5;241m.\u001b[39m\u001b[38;5;241m.\u001b[39m\u001b[38;5;241m.\u001b[39m] \u001b[38;5;66;03m# mean and scale of each feature in the training set\u001b[39;00m\n\u001b[0;32m      2\u001b[0m n_inputs \u001b[38;5;241m=\u001b[39m \u001b[38;5;241m8\u001b[39m\n\u001b[0;32m      3\u001b[0m \u001b[38;5;28;01mdef\u001b[39;00m \u001b[38;5;21mpreprocess\u001b[39m(line):\n",
      "\u001b[1;31mValueError\u001b[0m: not enough values to unpack (expected 2, got 1)"
     ]
    }
   ],
   "source": [
    "X_mean, X_std = [...] # mean and scale of each feature in the training set\n",
    "n_inputs = 8\n",
    "def preprocess(line):\n",
    "    defs = [0.] * n_inputs + [tf.constant([], dtype=tf.float32)]\n",
    "    fields = tf.io.decode_csv(line, record_defaults=defs)\n",
    "    x = tf.stack(fields[:-1])\n",
    "    y = tf.stack(fields[-1:])\n",
    "    return (x - X_mean) / X_std, y"
   ]
  },
  {
   "cell_type": "code",
   "execution_count": null,
   "id": "30f25b77",
   "metadata": {
    "slideshow": {
     "slide_type": "slide"
    }
   },
   "outputs": [],
   "source": [
    "Let’s walk through this code:"
   ]
  },
  {
   "cell_type": "markdown",
   "id": "d3a1c38c",
   "metadata": {
    "slideshow": {
     "slide_type": "slide"
    }
   },
   "source": [
    "First, the code assumes that we have precomputed the mean and standard deviation of each feature in the training set. X_mean and\n",
    "X_std are just 1D tensors (or NumPy arrays) containing eight floats, one per input feature."
   ]
  },
  {
   "cell_type": "markdown",
   "id": "d8ca2e42",
   "metadata": {
    "slideshow": {
     "slide_type": "slide"
    }
   },
   "source": [
    "The preprocess() function takes one CSV line and starts by parsing it. "
   ]
  },
  {
   "cell_type": "markdown",
   "id": "eeb64c8a",
   "metadata": {
    "slideshow": {
     "slide_type": "slide"
    }
   },
   "source": [
    "For this it uses the tf.io.decode_csv() function, which takes two arguments: the first is the line to parse, and the second is an array containing the default value for each column in the CSV file. "
   ]
  },
  {
   "cell_type": "markdown",
   "id": "5a6b5290",
   "metadata": {
    "slideshow": {
     "slide_type": "slide"
    }
   },
   "source": [
    "This array tells TensorFlow not only the default value for each column, but also the number of columns and their types."
   ]
  },
  {
   "cell_type": "markdown",
   "id": "a1266867",
   "metadata": {
    "slideshow": {
     "slide_type": "slide"
    }
   },
   "source": [
    "In this example, we tell it that all feature columns are floats and that missing values should default to 0, but we provide an empty array of type tf.float32 as the default value for the last column (the target): the array tells TensorFlow that this column contains floats, but that there is no default value, so it will raise an exception if it encounters a missing value."
   ]
  },
  {
   "cell_type": "markdown",
   "id": "1ed78fe9",
   "metadata": {
    "slideshow": {
     "slide_type": "slide"
    }
   },
   "source": [
    "The decode_csv() function returns a list of scalar tensors (one per column), but we need to return 1D tensor arrays. "
   ]
  },
  {
   "cell_type": "markdown",
   "id": "a2292f50",
   "metadata": {
    "slideshow": {
     "slide_type": "slide"
    }
   },
   "source": [
    "So we call tf.stack() on all tensors except for the last one (the target): this will stack these tensors into a 1D array. "
   ]
  },
  {
   "cell_type": "markdown",
   "id": "1ddac82c",
   "metadata": {
    "slideshow": {
     "slide_type": "slide"
    }
   },
   "source": [
    "We then do the same for the target value (this makes it a 1D tensor array with a single value, rather than a scalar tensor)."
   ]
  },
  {
   "cell_type": "markdown",
   "id": "90bbe6b6",
   "metadata": {
    "slideshow": {
     "slide_type": "slide"
    }
   },
   "source": [
    "Finally, we scale the input features by subtracting the feature means and then dividing by the feature standard deviations, and we return a tuple containing the scaled features and the target."
   ]
  },
  {
   "cell_type": "markdown",
   "id": "6aa1f166",
   "metadata": {
    "slideshow": {
     "slide_type": "slide"
    }
   },
   "source": [
    "Let’s test this preprocessing function:"
   ]
  },
  {
   "cell_type": "code",
   "execution_count": null,
   "id": "19212c6f",
   "metadata": {
    "slideshow": {
     "slide_type": "slide"
    }
   },
   "outputs": [],
   "source": [
    "preprocess(b'4.2083,44.0,5.3232,0.9171,846.0,2.3370,37.47,-122.2,2.782')"
   ]
  },
  {
   "cell_type": "markdown",
   "id": "5055c14d",
   "metadata": {
    "slideshow": {
     "slide_type": "slide"
    }
   },
   "source": [
    "(<tf.Tensor: id=6227, shape=(8,), dtype=float32, numpy=\n",
    "array([ 0.16579159, 1.216324 , -0.05204564, -0.39215982, -0.5277444 ,\n",
    "-0.2633488 , 0.8543046 , -1.3072058 ], dtype=float32)>,\n",
    "<tf.Tensor: [...], numpy=array([2.782], dtype=float32)>)"
   ]
  },
  {
   "cell_type": "markdown",
   "id": "ea74a510",
   "metadata": {
    "slideshow": {
     "slide_type": "slide"
    }
   },
   "source": [
    "Looks good! We can now apply the function to the dataset."
   ]
  },
  {
   "cell_type": "markdown",
   "id": "19afe3a3",
   "metadata": {
    "slideshow": {
     "slide_type": "slide"
    }
   },
   "source": [
    "## Putting Everything Together"
   ]
  },
  {
   "cell_type": "markdown",
   "id": "9408d30d",
   "metadata": {
    "slideshow": {
     "slide_type": "slide"
    }
   },
   "source": [
    "To make the code reusable, let’s put together everything we have discussed so far into a small helper function: it will create and return a dataset that will efficiently load California housing data from multiple CSV files, preprocess it, shuffle it, optionally repeat it, and batch it (see Figure 13-2):"
   ]
  },
  {
   "cell_type": "code",
   "execution_count": 6,
   "id": "68024776",
   "metadata": {
    "slideshow": {
     "slide_type": "slide"
    }
   },
   "outputs": [],
   "source": [
    "def csv_reader_dataset(filepaths, repeat=1, n_readers=5,\n",
    "                       n_read_threads=None, shuffle_buffer_size=10000,\n",
    "                       n_parse_threads=5, batch_size=32):\n",
    "    dataset = tf.data.Dataset.list_files(filepaths)\n",
    "    dataset = dataset.interleave(\n",
    "        lambda filepath: tf.data.TextLineDataset(filepath).skip(1),\n",
    "        cycle_length=n_readers, num_parallel_calls=n_read_threads)\n",
    "    dataset = dataset.map(preprocess, num_parallel_calls=n_parse_threads)\n",
    "    dataset = dataset.shuffle(shuffle_buffer_size).repeat(repeat)\n",
    "    return dataset.batch(batch_size).prefetch(1)"
   ]
  },
  {
   "cell_type": "markdown",
   "id": "0436ba77",
   "metadata": {
    "slideshow": {
     "slide_type": "slide"
    }
   },
   "source": [
    "Everything should make sense in this code, except the very last line (prefetch(1)), which is important for performance."
   ]
  },
  {
   "cell_type": "code",
   "execution_count": null,
   "id": "75a0b283",
   "metadata": {
    "slideshow": {
     "slide_type": "slide"
    }
   },
   "outputs": [],
   "source": []
  },
  {
   "cell_type": "code",
   "execution_count": null,
   "id": "350386a3",
   "metadata": {
    "slideshow": {
     "slide_type": "slide"
    }
   },
   "outputs": [],
   "source": []
  },
  {
   "cell_type": "code",
   "execution_count": null,
   "id": "b3fb08c7",
   "metadata": {
    "slideshow": {
     "slide_type": "slide"
    }
   },
   "outputs": [],
   "source": []
  },
  {
   "cell_type": "code",
   "execution_count": null,
   "id": "2305314d",
   "metadata": {},
   "outputs": [],
   "source": []
  },
  {
   "cell_type": "code",
   "execution_count": null,
   "id": "142d5e74",
   "metadata": {},
   "outputs": [],
   "source": []
  },
  {
   "cell_type": "code",
   "execution_count": null,
   "id": "fe8c63a7",
   "metadata": {},
   "outputs": [],
   "source": []
  },
  {
   "cell_type": "code",
   "execution_count": null,
   "id": "4e0f0815",
   "metadata": {},
   "outputs": [],
   "source": []
  },
  {
   "cell_type": "code",
   "execution_count": null,
   "id": "61b3f468",
   "metadata": {},
   "outputs": [],
   "source": []
  },
  {
   "cell_type": "code",
   "execution_count": null,
   "id": "447fdd96",
   "metadata": {},
   "outputs": [],
   "source": []
  },
  {
   "cell_type": "code",
   "execution_count": null,
   "id": "307f8435",
   "metadata": {},
   "outputs": [],
   "source": []
  },
  {
   "cell_type": "code",
   "execution_count": null,
   "id": "d92e0f6a",
   "metadata": {},
   "outputs": [],
   "source": []
  }
 ],
 "metadata": {
  "celltoolbar": "Slideshow",
  "kernelspec": {
   "display_name": "Python 3 (ipykernel)",
   "language": "python",
   "name": "python3"
  },
  "language_info": {
   "codemirror_mode": {
    "name": "ipython",
    "version": 3
   },
   "file_extension": ".py",
   "mimetype": "text/x-python",
   "name": "python",
   "nbconvert_exporter": "python",
   "pygments_lexer": "ipython3",
   "version": "3.9.12"
  },
  "rise": {
   "theme": "sky"
  }
 },
 "nbformat": 4,
 "nbformat_minor": 5
}
