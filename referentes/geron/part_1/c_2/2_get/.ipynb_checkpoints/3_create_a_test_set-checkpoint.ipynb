{
 "cells": [
  {
   "cell_type": "markdown",
   "id": "3e242e1a",
   "metadata": {
    "slideshow": {
     "slide_type": "slide"
    }
   },
   "source": [
    "<table align=\"left\">\n",
    "  <td>\n",
    "    <a href=\"https://colab.research.google.com/github/marco-canas/taca/blob/main/ref/geron/chap_2/3_Get_Data/3_create_a_test_set.ipynb\" target=\"_parent\"><img src=\"https://colab.research.google.com/assets/colab-badge.svg\" alt=\"Open In Colab\"/></a>\n",
    "  </td>\n",
    "  <td>\n",
    "    <a target=\"_blank\" href=\"https://kaggle.com/kernels/welcome?src=https://github.com/marco-canas/taca/blob/main/ref/geron/chap_2/3_Get_Data/3_create_a_test_set.ipynb\"><img src=\"https://kaggle.com/static/images/open-in-kaggle.svg\" /></a>\n",
    "  </td>\n",
    "</table>"
   ]
  },
  {
   "cell_type": "markdown",
   "id": "e5550049",
   "metadata": {
    "slideshow": {
     "slide_type": "slide"
    }
   },
   "source": [
    "# Crear un conjunto de prueba "
   ]
  },
  {
   "cell_type": "markdown",
   "id": "423f927f",
   "metadata": {
    "slideshow": {
     "slide_type": "slide"
    }
   },
   "source": [
    "Página 87 de Géron "
   ]
  },
  {
   "cell_type": "markdown",
   "id": "1c129ff8",
   "metadata": {
    "slideshow": {
     "slide_type": "slide"
    }
   },
   "source": [
    "## [Video de apoyo](https://www.youtube.com/watch?v=d1pdX76cAss) "
   ]
  },
  {
   "cell_type": "markdown",
   "id": "2bb7a2b2",
   "metadata": {
    "slideshow": {
     "slide_type": "slide"
    }
   },
   "source": [
    "* solo ha echado un vistazo rápido a los datos, y   \n",
    "* seguramente debería aprender mucho más sobre ellos antes de decidir qué algoritmos usar."
   ]
  },
  {
   "cell_type": "markdown",
   "id": "fcdbe83c",
   "metadata": {
    "slideshow": {
     "slide_type": "slide"
    }
   },
   "source": [
    "* Nuestro cerebro es un increíble sistema de detección de patrones,   \n",
    "* lo que significa que es muy propenso a sobreajustarse: si observa el conjunto de datos, puede proponer algún patrón aparentemente interesante en los datos de prueba que lo lleve a seleccionar un tipo particular de modelo de aprendizaje automático. "
   ]
  },
  {
   "cell_type": "markdown",
   "id": "406bea23",
   "metadata": {
    "slideshow": {
     "slide_type": "slide"
    }
   },
   "source": [
    "* Cuando calcule el error de generalización utilizando el conjunto de prueba, generalmente encontrará que su estimación era demasiado optimista pues se dará cuenta que el modelo diseñadono funciona tan bien como se esperaba. \n"
   ]
  },
  {
   "cell_type": "markdown",
   "id": "4a3612ab",
   "metadata": {
    "slideshow": {
     "slide_type": "slide"
    }
   },
   "source": [
    "* La creación de un conjunto de prueba es teóricamente simple: \n",
    "* elija algunas instancias u observaciones al azar,\n",
    "* generalmente el 20% del conjunto de datos \n",
    "* (o menos si su conjunto de datos es muy grande), y déjelas a un lado:"
   ]
  },
  {
   "cell_type": "markdown",
   "id": "1c629405",
   "metadata": {
    "slideshow": {
     "slide_type": "slide"
    }
   },
   "source": [
    "# 1. Construcción DataFrame"
   ]
  },
  {
   "cell_type": "code",
   "execution_count": 1,
   "id": "423d42b3",
   "metadata": {
    "slideshow": {
     "slide_type": "slide"
    }
   },
   "outputs": [],
   "source": [
    "import numpy as np \n",
    "import pandas as pd \n",
    "housing = pd.read_csv('housing.csv')"
   ]
  },
  {
   "cell_type": "markdown",
   "id": "ce92aa69",
   "metadata": {
    "slideshow": {
     "slide_type": "slide"
    }
   },
   "source": [
    "## Observemos que hace la función np.random.permutation() "
   ]
  },
  {
   "cell_type": "code",
   "execution_count": 35,
   "id": "b05b0a60",
   "metadata": {
    "slideshow": {
     "slide_type": "slide"
    }
   },
   "outputs": [
    {
     "data": {
      "text/plain": [
       "array([], dtype=int32)"
      ]
     },
     "execution_count": 35,
     "metadata": {},
     "output_type": "execute_result"
    }
   ],
   "source": [
    "import numpy as np \n",
    "indices_revueltos = np.random.permutation(0)      \n",
    "indices_revueltos"
   ]
  },
  {
   "cell_type": "code",
   "execution_count": 2,
   "id": "f108150e",
   "metadata": {
    "slideshow": {
     "slide_type": "slide"
    }
   },
   "outputs": [],
   "source": [
    "def dividir_en_entrenamiento_prueba(data, porcentaje_prueba = 0.20):\n",
    "    indices_barajados = np.random.permutation(len(data)) \n",
    "    tamano_conjunto_prueba = int(len(data)*porcentaje_prueba)  \n",
    "    indices_prueba = indices_barajados[:tamano_conjunto_prueba]\n",
    "    indices_entrenamiento = indices_barajados[tamano_conjunto_prueba:]\n",
    "    return data.iloc[indices_entrenamiento], data.iloc[indices_prueba] "
   ]
  },
  {
   "cell_type": "markdown",
   "id": "5db30e40",
   "metadata": {
    "slideshow": {
     "slide_type": "slide"
    }
   },
   "source": [
    "Luego puede usar esta función utilizando asignación múltiple:"
   ]
  },
  {
   "cell_type": "code",
   "execution_count": 16,
   "id": "c36978d3",
   "metadata": {
    "slideshow": {
     "slide_type": "slide"
    }
   },
   "outputs": [],
   "source": [
    "train_set, test_set = dividir_en_entrenamiento_prueba(housing) "
   ]
  },
  {
   "cell_type": "code",
   "execution_count": 17,
   "id": "6dc40e57",
   "metadata": {
    "slideshow": {
     "slide_type": "slide"
    }
   },
   "outputs": [
    {
     "data": {
      "text/html": [
       "<div>\n",
       "<style scoped>\n",
       "    .dataframe tbody tr th:only-of-type {\n",
       "        vertical-align: middle;\n",
       "    }\n",
       "\n",
       "    .dataframe tbody tr th {\n",
       "        vertical-align: top;\n",
       "    }\n",
       "\n",
       "    .dataframe thead th {\n",
       "        text-align: right;\n",
       "    }\n",
       "</style>\n",
       "<table border=\"1\" class=\"dataframe\">\n",
       "  <thead>\n",
       "    <tr style=\"text-align: right;\">\n",
       "      <th></th>\n",
       "      <th>longitude</th>\n",
       "      <th>latitude</th>\n",
       "      <th>housing_median_age</th>\n",
       "      <th>total_rooms</th>\n",
       "      <th>total_bedrooms</th>\n",
       "      <th>population</th>\n",
       "      <th>households</th>\n",
       "      <th>median_income</th>\n",
       "      <th>median_house_value</th>\n",
       "      <th>ocean_proximity</th>\n",
       "    </tr>\n",
       "  </thead>\n",
       "  <tbody>\n",
       "    <tr>\n",
       "      <th>13098</th>\n",
       "      <td>-121.40</td>\n",
       "      <td>38.47</td>\n",
       "      <td>4.0</td>\n",
       "      <td>20982.0</td>\n",
       "      <td>3392.0</td>\n",
       "      <td>10329.0</td>\n",
       "      <td>3086.0</td>\n",
       "      <td>4.3658</td>\n",
       "      <td>130600.0</td>\n",
       "      <td>INLAND</td>\n",
       "    </tr>\n",
       "    <tr>\n",
       "      <th>10747</th>\n",
       "      <td>-117.89</td>\n",
       "      <td>33.62</td>\n",
       "      <td>24.0</td>\n",
       "      <td>1016.0</td>\n",
       "      <td>238.0</td>\n",
       "      <td>465.0</td>\n",
       "      <td>236.0</td>\n",
       "      <td>3.0625</td>\n",
       "      <td>93800.0</td>\n",
       "      <td>&lt;1H OCEAN</td>\n",
       "    </tr>\n",
       "    <tr>\n",
       "      <th>17959</th>\n",
       "      <td>-121.99</td>\n",
       "      <td>37.33</td>\n",
       "      <td>35.0</td>\n",
       "      <td>1802.0</td>\n",
       "      <td>291.0</td>\n",
       "      <td>841.0</td>\n",
       "      <td>315.0</td>\n",
       "      <td>4.8365</td>\n",
       "      <td>313900.0</td>\n",
       "      <td>&lt;1H OCEAN</td>\n",
       "    </tr>\n",
       "    <tr>\n",
       "      <th>4140</th>\n",
       "      <td>-118.17</td>\n",
       "      <td>34.12</td>\n",
       "      <td>30.0</td>\n",
       "      <td>3376.0</td>\n",
       "      <td>720.0</td>\n",
       "      <td>1990.0</td>\n",
       "      <td>725.0</td>\n",
       "      <td>3.7813</td>\n",
       "      <td>232000.0</td>\n",
       "      <td>&lt;1H OCEAN</td>\n",
       "    </tr>\n",
       "    <tr>\n",
       "      <th>11842</th>\n",
       "      <td>-120.90</td>\n",
       "      <td>39.95</td>\n",
       "      <td>20.0</td>\n",
       "      <td>1349.0</td>\n",
       "      <td>238.0</td>\n",
       "      <td>601.0</td>\n",
       "      <td>203.0</td>\n",
       "      <td>3.5417</td>\n",
       "      <td>96600.0</td>\n",
       "      <td>INLAND</td>\n",
       "    </tr>\n",
       "  </tbody>\n",
       "</table>\n",
       "</div>"
      ],
      "text/plain": [
       "       longitude  latitude  housing_median_age  total_rooms  total_bedrooms  \\\n",
       "13098    -121.40     38.47                 4.0      20982.0          3392.0   \n",
       "10747    -117.89     33.62                24.0       1016.0           238.0   \n",
       "17959    -121.99     37.33                35.0       1802.0           291.0   \n",
       "4140     -118.17     34.12                30.0       3376.0           720.0   \n",
       "11842    -120.90     39.95                20.0       1349.0           238.0   \n",
       "\n",
       "       population  households  median_income  median_house_value  \\\n",
       "13098     10329.0      3086.0         4.3658            130600.0   \n",
       "10747       465.0       236.0         3.0625             93800.0   \n",
       "17959       841.0       315.0         4.8365            313900.0   \n",
       "4140       1990.0       725.0         3.7813            232000.0   \n",
       "11842       601.0       203.0         3.5417             96600.0   \n",
       "\n",
       "      ocean_proximity  \n",
       "13098          INLAND  \n",
       "10747       <1H OCEAN  \n",
       "17959       <1H OCEAN  \n",
       "4140        <1H OCEAN  \n",
       "11842          INLAND  "
      ]
     },
     "execution_count": 17,
     "metadata": {},
     "output_type": "execute_result"
    }
   ],
   "source": [
    "test_set.head() "
   ]
  },
  {
   "cell_type": "code",
   "execution_count": 12,
   "id": "a63fa963",
   "metadata": {
    "slideshow": {
     "slide_type": "slide"
    }
   },
   "outputs": [
    {
     "data": {
      "text/plain": [
       "(20640, 16512, 4128)"
      ]
     },
     "execution_count": 12,
     "metadata": {},
     "output_type": "execute_result"
    }
   ],
   "source": [
    "len(housing), len(train_set), len(test_set)    "
   ]
  },
  {
   "cell_type": "code",
   "execution_count": 10,
   "id": "e0a233ee",
   "metadata": {
    "slideshow": {
     "slide_type": "slide"
    }
   },
   "outputs": [
    {
     "data": {
      "text/plain": [
       "20.0"
      ]
     },
     "execution_count": 10,
     "metadata": {},
     "output_type": "execute_result"
    }
   ],
   "source": [
    "len(train_set)/len(housing), len(test_set)/len(housing)   "
   ]
  },
  {
   "cell_type": "markdown",
   "id": "5059d1f6",
   "metadata": {
    "slideshow": {
     "slide_type": "slide"
    }
   },
   "source": [
    "* Bueno, esto funciona, pero no es perfecto: \n",
    "* si ejecuta el programa nuevamente, ¡generará un conjunto de prueba diferente! "
   ]
  },
  {
   "cell_type": "markdown",
   "id": "69d6ef89",
   "metadata": {
    "slideshow": {
     "slide_type": "slide"
    }
   },
   "source": [
    "Con el tiempo, usted (o sus algoritmos de aprendizaje automático) podrán ver el conjunto de datos completo, que es lo que desea evitar."
   ]
  },
  {
   "cell_type": "markdown",
   "id": "26b825fe",
   "metadata": {
    "slideshow": {
     "slide_type": "slide"
    }
   },
   "source": [
    "Una solución es guardar el conjunto de prueba en la primera ejecución y luego cargarlo en ejecuciones posteriores. "
   ]
  },
  {
   "cell_type": "code",
   "execution_count": 19,
   "id": "5e083cd4",
   "metadata": {},
   "outputs": [],
   "source": [
    "def dividir_en_entrenamiento_prueba(data, porcentaje_prueba = 0.20):\n",
    "    indices_barajados = np.random.permutation(len(data)) \n",
    "    tamano_conjunto_prueba = int(len(data)*porcentaje_prueba)  \n",
    "    indices_prueba = indices_barajados[:tamano_conjunto_prueba]\n",
    "    indices_entrenamiento = indices_barajados[tamano_conjunto_prueba:]\n",
    "    return data.iloc[indices_entrenamiento], data.iloc[indices_prueba] "
   ]
  },
  {
   "cell_type": "code",
   "execution_count": 20,
   "id": "ee268a46",
   "metadata": {
    "slideshow": {
     "slide_type": "slide"
    }
   },
   "outputs": [],
   "source": [
    "train_set, test_set = dividir_en_entrenamiento_prueba(housing) "
   ]
  },
  {
   "cell_type": "code",
   "execution_count": 21,
   "id": "f4c6fd14",
   "metadata": {
    "slideshow": {
     "slide_type": "slide"
    }
   },
   "outputs": [],
   "source": [
    "train_set.to_csv('housing_train.csv', index = False)\n",
    "test_set.to_csv('housing_test.csv', index = False)   "
   ]
  },
  {
   "cell_type": "code",
   "execution_count": 22,
   "id": "56440423",
   "metadata": {
    "slideshow": {
     "slide_type": "slide"
    }
   },
   "outputs": [],
   "source": [
    "housing_train = pd.read_csv('housing_train.csv') "
   ]
  },
  {
   "cell_type": "code",
   "execution_count": 23,
   "id": "57522001",
   "metadata": {
    "slideshow": {
     "slide_type": "slide"
    }
   },
   "outputs": [
    {
     "data": {
      "text/plain": [
       "16512"
      ]
     },
     "execution_count": 23,
     "metadata": {},
     "output_type": "execute_result"
    }
   ],
   "source": [
    "len(housing_train)"
   ]
  },
  {
   "cell_type": "markdown",
   "id": "a11ea43b",
   "metadata": {
    "slideshow": {
     "slide_type": "slide"
    }
   },
   "source": [
    "Otra opción es establecer la semilla del generador de números aleatorios (por ejemplo, con `np.random.seed(42)`) antes de llamar a `np.random.permutation()` para que siempre genera los mismos índices mezclados."
   ]
  },
  {
   "cell_type": "code",
   "execution_count": 3,
   "id": "464edb7c",
   "metadata": {
    "slideshow": {
     "slide_type": "slide"
    }
   },
   "outputs": [
    {
     "data": {
      "text/html": [
       "<div>\n",
       "<style scoped>\n",
       "    .dataframe tbody tr th:only-of-type {\n",
       "        vertical-align: middle;\n",
       "    }\n",
       "\n",
       "    .dataframe tbody tr th {\n",
       "        vertical-align: top;\n",
       "    }\n",
       "\n",
       "    .dataframe thead th {\n",
       "        text-align: right;\n",
       "    }\n",
       "</style>\n",
       "<table border=\"1\" class=\"dataframe\">\n",
       "  <thead>\n",
       "    <tr style=\"text-align: right;\">\n",
       "      <th></th>\n",
       "      <th>longitude</th>\n",
       "      <th>latitude</th>\n",
       "      <th>housing_median_age</th>\n",
       "      <th>total_rooms</th>\n",
       "      <th>total_bedrooms</th>\n",
       "      <th>population</th>\n",
       "      <th>households</th>\n",
       "      <th>median_income</th>\n",
       "      <th>median_house_value</th>\n",
       "      <th>ocean_proximity</th>\n",
       "    </tr>\n",
       "  </thead>\n",
       "  <tbody>\n",
       "    <tr>\n",
       "      <th>20046</th>\n",
       "      <td>-119.01</td>\n",
       "      <td>36.06</td>\n",
       "      <td>25.0</td>\n",
       "      <td>1505.0</td>\n",
       "      <td>NaN</td>\n",
       "      <td>1392.0</td>\n",
       "      <td>359.0</td>\n",
       "      <td>1.6812</td>\n",
       "      <td>47700.0</td>\n",
       "      <td>INLAND</td>\n",
       "    </tr>\n",
       "    <tr>\n",
       "      <th>3024</th>\n",
       "      <td>-119.46</td>\n",
       "      <td>35.14</td>\n",
       "      <td>30.0</td>\n",
       "      <td>2943.0</td>\n",
       "      <td>NaN</td>\n",
       "      <td>1565.0</td>\n",
       "      <td>584.0</td>\n",
       "      <td>2.5313</td>\n",
       "      <td>45800.0</td>\n",
       "      <td>INLAND</td>\n",
       "    </tr>\n",
       "    <tr>\n",
       "      <th>15663</th>\n",
       "      <td>-122.44</td>\n",
       "      <td>37.80</td>\n",
       "      <td>52.0</td>\n",
       "      <td>3830.0</td>\n",
       "      <td>NaN</td>\n",
       "      <td>1310.0</td>\n",
       "      <td>963.0</td>\n",
       "      <td>3.4801</td>\n",
       "      <td>500001.0</td>\n",
       "      <td>NEAR BAY</td>\n",
       "    </tr>\n",
       "    <tr>\n",
       "      <th>20484</th>\n",
       "      <td>-118.72</td>\n",
       "      <td>34.28</td>\n",
       "      <td>17.0</td>\n",
       "      <td>3051.0</td>\n",
       "      <td>NaN</td>\n",
       "      <td>1705.0</td>\n",
       "      <td>495.0</td>\n",
       "      <td>5.7376</td>\n",
       "      <td>218600.0</td>\n",
       "      <td>&lt;1H OCEAN</td>\n",
       "    </tr>\n",
       "    <tr>\n",
       "      <th>9814</th>\n",
       "      <td>-121.93</td>\n",
       "      <td>36.62</td>\n",
       "      <td>34.0</td>\n",
       "      <td>2351.0</td>\n",
       "      <td>NaN</td>\n",
       "      <td>1063.0</td>\n",
       "      <td>428.0</td>\n",
       "      <td>3.7250</td>\n",
       "      <td>278000.0</td>\n",
       "      <td>NEAR OCEAN</td>\n",
       "    </tr>\n",
       "  </tbody>\n",
       "</table>\n",
       "</div>"
      ],
      "text/plain": [
       "       longitude  latitude  housing_median_age  total_rooms  total_bedrooms  \\\n",
       "20046    -119.01     36.06                25.0       1505.0             NaN   \n",
       "3024     -119.46     35.14                30.0       2943.0             NaN   \n",
       "15663    -122.44     37.80                52.0       3830.0             NaN   \n",
       "20484    -118.72     34.28                17.0       3051.0             NaN   \n",
       "9814     -121.93     36.62                34.0       2351.0             NaN   \n",
       "\n",
       "       population  households  median_income  median_house_value  \\\n",
       "20046      1392.0       359.0         1.6812             47700.0   \n",
       "3024       1565.0       584.0         2.5313             45800.0   \n",
       "15663      1310.0       963.0         3.4801            500001.0   \n",
       "20484      1705.0       495.0         5.7376            218600.0   \n",
       "9814       1063.0       428.0         3.7250            278000.0   \n",
       "\n",
       "      ocean_proximity  \n",
       "20046          INLAND  \n",
       "3024           INLAND  \n",
       "15663        NEAR BAY  \n",
       "20484       <1H OCEAN  \n",
       "9814       NEAR OCEAN  "
      ]
     },
     "execution_count": 3,
     "metadata": {},
     "output_type": "execute_result"
    }
   ],
   "source": [
    "import numpy as np \n",
    "import pandas as pd \n",
    "housing = pd.read_csv('housing.csv')\n",
    "\n",
    "np.random.seed(42)          # Establecimiento de la semilla del generador\n",
    "\n",
    "\n",
    "def dividir_en_entrenamiento_prueba(data, tasa_prueba = 0.2):\n",
    "    indices_barajados = np.random.permutation(len(data)) \n",
    "    tamano_conjunto_prueba = int(len(data)*tasa_prueba)  \n",
    "    indices_prueba = indices_barajados[:tamano_conjunto_prueba]\n",
    "    indices_entrenamiento = indices_barajados[tamano_conjunto_prueba:]\n",
    "    return data.iloc[indices_entrenamiento], data.iloc[indices_prueba] \n",
    "\n",
    "train_set, test_set = dividir_en_entrenamiento_prueba(housing)\n",
    "test_set.head() "
   ]
  },
  {
   "cell_type": "markdown",
   "id": "af3c38ec",
   "metadata": {
    "slideshow": {
     "slide_type": "slide"
    }
   },
   "source": [
    "Pero ambas soluciones se romperán la próxima vez que obtenga un conjunto de datos actualizado."
   ]
  },
  {
   "cell_type": "markdown",
   "id": "5a8638f0",
   "metadata": {
    "slideshow": {
     "slide_type": "slide"
    }
   },
   "source": [
    "# Implementación de scikitlearn para dividir en conjunto de entrenamiento y prueba"
   ]
  },
  {
   "cell_type": "markdown",
   "id": "2a8a6ccf",
   "metadata": {
    "slideshow": {
     "slide_type": "slide"
    }
   },
   "source": [
    "Scikit-Learn proporciona algunas funciones para dividir conjuntos de datos en varios subconjuntos de varias formas."
   ]
  },
  {
   "cell_type": "markdown",
   "id": "6d33e454",
   "metadata": {
    "slideshow": {
     "slide_type": "slide"
    }
   },
   "source": [
    "La función más simple es `train_test_split()`, que hace prácticamente lo mismo que la función `split_train_test()`, con un par de características adicionales."
   ]
  },
  {
   "cell_type": "markdown",
   "id": "1085825a",
   "metadata": {
    "slideshow": {
     "slide_type": "slide"
    }
   },
   "source": [
    "1. Primero, hay un parámetro `random_state` que le permite establecer la semilla del generador aleatorio."
   ]
  },
  {
   "cell_type": "code",
   "execution_count": 45,
   "id": "e6a22569",
   "metadata": {
    "slideshow": {
     "slide_type": "slide"
    }
   },
   "outputs": [],
   "source": [
    "from sklearn.model_selection import train_test_split\n",
    "train_set, test_set = train_test_split(hous ing, test_size=0.2, random_state=42)"
   ]
  },
  {
   "cell_type": "markdown",
   "id": "9d054cae",
   "metadata": {
    "slideshow": {
     "slide_type": "slide"
    }
   },
   "source": [
    "Hasta ahora hemos considerado métodos de muestreo puramente aleatorios."
   ]
  },
  {
   "cell_type": "markdown",
   "id": "d3ee5f8f",
   "metadata": {
    "slideshow": {
     "slide_type": "slide"
    }
   },
   "source": [
    "En general, esto está bien si su conjunto de datos es lo suficientemente grande (especialmente en relación con la cantidad de atributos), pero si no lo es, corre el riesgo de introducir un sesgo de muestreo significativo."
   ]
  },
  {
   "cell_type": "markdown",
   "id": "a1055aa7",
   "metadata": {
    "slideshow": {
     "slide_type": "slide"
    }
   },
   "source": [
    "Cuando una empresa de encuestas decide llamar a 1.000 personas para hacerles algunas preguntas, no elige a 1.000 personas al azar en una guía telefónica."
   ]
  },
  {
   "cell_type": "markdown",
   "id": "51d4978f",
   "metadata": {
    "slideshow": {
     "slide_type": "slide"
    }
   },
   "source": [
    "Intentan asegurarse de que estas 1.000 personas sean representativas de toda la población."
   ]
  },
  {
   "cell_type": "markdown",
   "id": "8b518e4f",
   "metadata": {
    "slideshow": {
     "slide_type": "slide"
    }
   },
   "source": [
    "Por ejemplo, la población de EE. UU. es 51,3% de mujeres y 48,7% de hombres, por lo que una encuesta bien realizada en los EE. UU. trataría de mantener esta proporción en la muestra: 513 mujeres y 487 hombres."
   ]
  },
  {
   "cell_type": "markdown",
   "id": "d0f1cbe5",
   "metadata": {
    "slideshow": {
     "slide_type": "slide"
    }
   },
   "source": [
    " \n",
    "Esto se denomina muestreo estratificado:  \n",
    "\n",
    "* la población se divide en subgrupos homogéneos llamados estratos, y se muestrea el número correcto de instancias de cada estrato para garantizar que el conjunto de prueba sea representativo de la población general."
   ]
  },
  {
   "cell_type": "markdown",
   "id": "54942a9f",
   "metadata": {
    "slideshow": {
     "slide_type": "slide"
    }
   },
   "source": [
    "Si las personas que realizan la encuesta utilizaran un muestreo puramente aleatorio, habría aproximadamente un 12% de posibilidades de muestrear un conjunto de pruebas sesgado que fuera menos del 49% de mujeres o más del 54% de mujeres."
   ]
  },
  {
   "cell_type": "markdown",
   "id": "4aa28522",
   "metadata": {
    "slideshow": {
     "slide_type": "slide"
    }
   },
   "source": [
    "De cualquier manera, los resultados de la encuesta estarían significativamente sesgados."
   ]
  },
  {
   "cell_type": "markdown",
   "id": "41f921ea",
   "metadata": {
    "slideshow": {
     "slide_type": "slide"
    }
   },
   "source": [
    "Suponga que conversó con expertos que le dijeron que el ingreso medio (`median_income`) es un atributo muy importante para predecir los precios medios de la vivienda."
   ]
  },
  {
   "cell_type": "markdown",
   "id": "59e17839",
   "metadata": {
    "slideshow": {
     "slide_type": "slide"
    }
   },
   "source": [
    "Es posible que desee asegurarse de que el conjunto de prueba sea representativo de las diversas categorías de ingresos en todo el conjunto de datos."
   ]
  },
  {
   "cell_type": "markdown",
   "id": "690a44ca",
   "metadata": {
    "slideshow": {
     "slide_type": "slide"
    }
   },
   "source": [
    "Dado que el ingreso medio es un atributo numérico continuo, primero debe crear un atributo de categoría de ingresos."
   ]
  },
  {
   "cell_type": "markdown",
   "id": "fab3ed0d",
   "metadata": {
    "slideshow": {
     "slide_type": "slide"
    }
   },
   "source": [
    "Observemos el histograma de ingresos medios más de cerca (de vuelta en la Figura 2-8): la mayoría de los valores de ingresos medios se agrupan alrededor de 1,5 a 6 (es decir, de $ 15 000 a $ 60 000), pero algunos ingresos medios van mucho más allá de 6."
   ]
  },
  {
   "cell_type": "markdown",
   "id": "aea537c0",
   "metadata": {
    "slideshow": {
     "slide_type": "slide"
    }
   },
   "source": [
    "Es importante tener una cantidad suficiente de instancias en su conjunto de datos para cada estrato, de lo contrario, la estimación de la importancia de un estrato puede estar sesgada."
   ]
  },
  {
   "cell_type": "markdown",
   "id": "31ab7b8e",
   "metadata": {
    "slideshow": {
     "slide_type": "slide"
    }
   },
   "source": [
    "Esto significa que no debe tener demasiados estratos y cada estrato debe ser lo suficientemente grande."
   ]
  },
  {
   "cell_type": "markdown",
   "id": "2f10d864",
   "metadata": {
    "slideshow": {
     "slide_type": "slide"
    }
   },
   "source": [
    "El siguiente código usa la función `pd.cut()` para crear un atributo de categoría de ingresos con cinco categorías (etiquetadas de 1 a 5): la categoría 1 varía de 0 a 1.5 (es decir, menos de $ 15,000), la categoría 2 de 1.5 a 3, etcétera:"
   ]
  },
  {
   "cell_type": "code",
   "execution_count": 46,
   "id": "893f6d0f",
   "metadata": {
    "slideshow": {
     "slide_type": "slide"
    }
   },
   "outputs": [],
   "source": [
    "housing[\"income_cat\"] = pd.cut(housing[\"median_income\"],\n",
    "bins=[0., 1.5, 3.0, 4.5, 6., np.inf],\n",
    "labels=[1, 2, 3, 4, 5])"
   ]
  },
  {
   "cell_type": "code",
   "execution_count": 47,
   "id": "80eeeee0",
   "metadata": {
    "slideshow": {
     "slide_type": "slide"
    }
   },
   "outputs": [
    {
     "data": {
      "text/html": [
       "<div>\n",
       "<style scoped>\n",
       "    .dataframe tbody tr th:only-of-type {\n",
       "        vertical-align: middle;\n",
       "    }\n",
       "\n",
       "    .dataframe tbody tr th {\n",
       "        vertical-align: top;\n",
       "    }\n",
       "\n",
       "    .dataframe thead th {\n",
       "        text-align: right;\n",
       "    }\n",
       "</style>\n",
       "<table border=\"1\" class=\"dataframe\">\n",
       "  <thead>\n",
       "    <tr style=\"text-align: right;\">\n",
       "      <th></th>\n",
       "      <th>longitude</th>\n",
       "      <th>latitude</th>\n",
       "      <th>housing_median_age</th>\n",
       "      <th>total_rooms</th>\n",
       "      <th>total_bedrooms</th>\n",
       "      <th>population</th>\n",
       "      <th>households</th>\n",
       "      <th>median_income</th>\n",
       "      <th>median_house_value</th>\n",
       "      <th>ocean_proximity</th>\n",
       "      <th>income_cat</th>\n",
       "    </tr>\n",
       "  </thead>\n",
       "  <tbody>\n",
       "    <tr>\n",
       "      <th>0</th>\n",
       "      <td>-122.23</td>\n",
       "      <td>37.88</td>\n",
       "      <td>41.0</td>\n",
       "      <td>880.0</td>\n",
       "      <td>129.0</td>\n",
       "      <td>322.0</td>\n",
       "      <td>126.0</td>\n",
       "      <td>8.3252</td>\n",
       "      <td>452600.0</td>\n",
       "      <td>NEAR BAY</td>\n",
       "      <td>5</td>\n",
       "    </tr>\n",
       "    <tr>\n",
       "      <th>1</th>\n",
       "      <td>-122.22</td>\n",
       "      <td>37.86</td>\n",
       "      <td>21.0</td>\n",
       "      <td>7099.0</td>\n",
       "      <td>1106.0</td>\n",
       "      <td>2401.0</td>\n",
       "      <td>1138.0</td>\n",
       "      <td>8.3014</td>\n",
       "      <td>358500.0</td>\n",
       "      <td>NEAR BAY</td>\n",
       "      <td>5</td>\n",
       "    </tr>\n",
       "    <tr>\n",
       "      <th>2</th>\n",
       "      <td>-122.24</td>\n",
       "      <td>37.85</td>\n",
       "      <td>52.0</td>\n",
       "      <td>1467.0</td>\n",
       "      <td>190.0</td>\n",
       "      <td>496.0</td>\n",
       "      <td>177.0</td>\n",
       "      <td>7.2574</td>\n",
       "      <td>352100.0</td>\n",
       "      <td>NEAR BAY</td>\n",
       "      <td>5</td>\n",
       "    </tr>\n",
       "    <tr>\n",
       "      <th>3</th>\n",
       "      <td>-122.25</td>\n",
       "      <td>37.85</td>\n",
       "      <td>52.0</td>\n",
       "      <td>1274.0</td>\n",
       "      <td>235.0</td>\n",
       "      <td>558.0</td>\n",
       "      <td>219.0</td>\n",
       "      <td>5.6431</td>\n",
       "      <td>341300.0</td>\n",
       "      <td>NEAR BAY</td>\n",
       "      <td>4</td>\n",
       "    </tr>\n",
       "    <tr>\n",
       "      <th>4</th>\n",
       "      <td>-122.25</td>\n",
       "      <td>37.85</td>\n",
       "      <td>52.0</td>\n",
       "      <td>1627.0</td>\n",
       "      <td>280.0</td>\n",
       "      <td>565.0</td>\n",
       "      <td>259.0</td>\n",
       "      <td>3.8462</td>\n",
       "      <td>342200.0</td>\n",
       "      <td>NEAR BAY</td>\n",
       "      <td>3</td>\n",
       "    </tr>\n",
       "  </tbody>\n",
       "</table>\n",
       "</div>"
      ],
      "text/plain": [
       "   longitude  latitude  housing_median_age  total_rooms  total_bedrooms  \\\n",
       "0    -122.23     37.88                41.0        880.0           129.0   \n",
       "1    -122.22     37.86                21.0       7099.0          1106.0   \n",
       "2    -122.24     37.85                52.0       1467.0           190.0   \n",
       "3    -122.25     37.85                52.0       1274.0           235.0   \n",
       "4    -122.25     37.85                52.0       1627.0           280.0   \n",
       "\n",
       "   population  households  median_income  median_house_value ocean_proximity  \\\n",
       "0       322.0       126.0         8.3252            452600.0        NEAR BAY   \n",
       "1      2401.0      1138.0         8.3014            358500.0        NEAR BAY   \n",
       "2       496.0       177.0         7.2574            352100.0        NEAR BAY   \n",
       "3       558.0       219.0         5.6431            341300.0        NEAR BAY   \n",
       "4       565.0       259.0         3.8462            342200.0        NEAR BAY   \n",
       "\n",
       "  income_cat  \n",
       "0          5  \n",
       "1          5  \n",
       "2          5  \n",
       "3          4  \n",
       "4          3  "
      ]
     },
     "execution_count": 47,
     "metadata": {},
     "output_type": "execute_result"
    }
   ],
   "source": [
    "housing.head() "
   ]
  },
  {
   "cell_type": "markdown",
   "id": "b5b92df7",
   "metadata": {
    "slideshow": {
     "slide_type": "slide"
    }
   },
   "source": [
    "Estas categorías de ingresos están representadas en la Figura 2-9:"
   ]
  },
  {
   "cell_type": "code",
   "execution_count": 53,
   "id": "775427eb",
   "metadata": {
    "slideshow": {
     "slide_type": "slide"
    }
   },
   "outputs": [
    {
     "data": {
      "image/png": "[encoded data removed]",
      "text/plain": [
       "<Figure size 576x288 with 1 Axes>"
      ]
     },
     "metadata": {
      "needs_background": "light"
     },
     "output_type": "display_data"
    }
   ],
   "source": [
    "housing[\"income_cat\"].hist(figsize = ((8,4)));  "
   ]
  },
  {
   "cell_type": "markdown",
   "id": "7c4e200d",
   "metadata": {
    "slideshow": {
     "slide_type": "slide"
    }
   },
   "source": [
    "Ahora está listo para realizar un muestreo estratificado según la categoría de ingresos."
   ]
  },
  {
   "cell_type": "markdown",
   "id": "95ce076e",
   "metadata": {
    "slideshow": {
     "slide_type": "slide"
    }
   },
   "source": [
    "  \n",
    "Para ello, puede utilizar la clase `StratifiedShuffleSplit` de `Scikit-Learn`:"
   ]
  },
  {
   "cell_type": "code",
   "execution_count": 48,
   "id": "d1a79b8b",
   "metadata": {
    "slideshow": {
     "slide_type": "slide"
    }
   },
   "outputs": [],
   "source": [
    "from sklearn.model_selection import StratifiedShuffleSplit\n"
   ]
  },
  {
   "cell_type": "code",
   "execution_count": 49,
   "id": "cdfc4e61",
   "metadata": {
    "slideshow": {
     "slide_type": "slide"
    }
   },
   "outputs": [],
   "source": [
    "split = StratifiedShuffleSplit(n_splits = 1, test_size=0.2, random_state=42)\n",
    "for train_index, test_index in split.split(housing, housing[\"income_cat\"]):\n",
    "    strat_train_set = housing.loc[train_index]\n",
    "    strat_test_set = housing.loc[test_index] \n"
   ]
  },
  {
   "cell_type": "markdown",
   "id": "1c4e644e",
   "metadata": {
    "slideshow": {
     "slide_type": "slide"
    }
   },
   "source": [
    "Veamos si esto funcionó como se esperaba."
   ]
  },
  {
   "cell_type": "markdown",
   "id": "fa30636f",
   "metadata": {
    "slideshow": {
     "slide_type": "slide"
    }
   },
   "source": [
    "Puede comenzar observando las proporciones de la categoría de ingresos en el conjunto de prueba:"
   ]
  },
  {
   "cell_type": "code",
   "execution_count": 50,
   "id": "9a8c2fe0",
   "metadata": {
    "slideshow": {
     "slide_type": "slide"
    }
   },
   "outputs": [
    {
     "data": {
      "text/plain": [
       "3    0.350533\n",
       "2    0.318798\n",
       "4    0.176357\n",
       "5    0.114583\n",
       "1    0.039729\n",
       "Name: income_cat, dtype: float64"
      ]
     },
     "execution_count": 50,
     "metadata": {},
     "output_type": "execute_result"
    }
   ],
   "source": [
    "strat_test_set[\"income_cat\"].value_counts()/len(strat_test_set)"
   ]
  },
  {
   "cell_type": "code",
   "execution_count": 54,
   "id": "e345d4dd",
   "metadata": {
    "slideshow": {
     "slide_type": "slide"
    }
   },
   "outputs": [],
   "source": [
    "strat_train_set[\"income_cat\"] = pd.cut(strat_train_set[\"median_income\"],\n",
    "bins = [0., 1.5, 3.0, 4.5, 6., np.inf],\n",
    "labels = [1, 2, 3, 4, 5])\n",
    "\n",
    "strat_train_set['income_cat'].hist();  "
   ]
  },
  {
   "cell_type": "code",
   "execution_count": 55,
   "id": "579d31a8",
   "metadata": {
    "scrolled": true,
    "slideshow": {
     "slide_type": "slide"
    }
   },
   "outputs": [
    {
     "data": {
      "image/png": "[encoded data removed]",
      "text/plain": [
       "<Figure size 432x288 with 1 Axes>"
      ]
     },
     "metadata": {
      "needs_background": "light"
     },
     "output_type": "display_data"
    }
   ],
   "source": []
  },
  {
   "cell_type": "code",
   "execution_count": 58,
   "id": "a36f5778",
   "metadata": {
    "slideshow": {
     "slide_type": "slide"
    }
   },
   "outputs": [
    {
     "data": {
      "image/png": "[encoded data removed]",
      "text/plain": [
       "<Figure size 432x288 with 1 Axes>"
      ]
     },
     "metadata": {
      "needs_background": "light"
     },
     "output_type": "display_data"
    }
   ],
   "source": [
    "from matplotlib import pyplot as plt \n",
    "strat_test_set[\"income_cat\"] = pd.cut(strat_test_set[\"median_income\"],\n",
    "bins = [0., 1.5, 3.0, 4.5, 6., np.inf],\n",
    "labels = [1, 2, 3, 4, 5])\n",
    "\n",
    "strat_test_set['income_cat'].hist();   \n",
    "\n",
    "plt.savefig('muestreo_estratificado.jpg')"
   ]
  },
  {
   "cell_type": "markdown",
   "id": "1cf8b4f2",
   "metadata": {
    "slideshow": {
     "slide_type": "slide"
    }
   },
   "source": [
    "Con un código similar, puede medir las proporciones de la categoría de ingresos en el conjunto de datos completo."
   ]
  },
  {
   "cell_type": "markdown",
   "id": "69af2c99",
   "metadata": {
    "slideshow": {
     "slide_type": "slide"
    }
   },
   "source": [
    "La siguiente figura compara las proporciones de la categoría de ingresos `income_cat` en el conjunto de datos general, en el conjunto de prueba generado con muestreo estratificado y en un conjunto de prueba generado mediante muestreo puramente aleatorio."
   ]
  },
  {
   "cell_type": "markdown",
   "id": "fbf47518",
   "metadata": {
    "slideshow": {
     "slide_type": "slide"
    }
   },
   "source": [
    "Como puede ver, el conjunto de pruebas generado mediante muestreo estratificado tiene proporciones de categoría de ingresos casi idénticas a las del conjunto de datos completo, mientras que el conjunto de pruebas generado mediante muestreo puramente aleatorio está sesgado."
   ]
  },
  {
   "cell_type": "markdown",
   "id": "368ac6de",
   "metadata": {
    "slideshow": {
     "slide_type": "slide"
    }
   },
   "source": [
    "<img src = 'https://github.com/marco-canas/taca/blob/main/ref/geron/chap_2/3_Get_Data/figure_2_10_sampling_bias_comparison.PNG?raw=true'>"
   ]
  },
  {
   "cell_type": "markdown",
   "id": "58fadfdc",
   "metadata": {
    "slideshow": {
     "slide_type": "slide"
    }
   },
   "source": [
    "|word|mean|  \n",
    "|-|-|  \n",
    "|overall|en general|"
   ]
  },
  {
   "cell_type": "markdown",
   "id": "1dabe402",
   "metadata": {
    "slideshow": {
     "slide_type": "slide"
    }
   },
   "source": [
    "Comparación del sesgo de muestreo del muestreo estratificado versus el muestreo puramente aleatorio"
   ]
  },
  {
   "cell_type": "markdown",
   "id": "481829e4",
   "metadata": {
    "slideshow": {
     "slide_type": "slide"
    }
   },
   "source": [
    "Ahora debe eliminar el atributo de `income_cat` (ingresos_cat) para que los datos vuelvan a su estado original."
   ]
  },
  {
   "cell_type": "code",
   "execution_count": null,
   "id": "6062e189",
   "metadata": {
    "slideshow": {
     "slide_type": "slide"
    }
   },
   "outputs": [],
   "source": [
    "for set_ in (strat_train_set, strat_test_set):\n",
    "    set_.drop(\"income_cat\", axis = 1, inplace = True)"
   ]
  },
  {
   "cell_type": "markdown",
   "id": "d2e2c1b3",
   "metadata": {
    "slideshow": {
     "slide_type": "slide"
    }
   },
   "source": [
    "Pasamos bastante tiempo en la generación de conjuntos de prueba por una buena razón:   \n",
    "* esta es una parte a menudo descuidada pero crítica de un proyecto de aprendizaje automático."
   ]
  },
  {
   "cell_type": "markdown",
   "id": "92875f88",
   "metadata": {
    "slideshow": {
     "slide_type": "slide"
    }
   },
   "source": [
    "Además, muchas de estas ideas serán útiles más adelante cuando analicemos la validación cruzada."
   ]
  },
  {
   "cell_type": "markdown",
   "id": "9e3a28f8",
   "metadata": {
    "slideshow": {
     "slide_type": "slide"
    }
   },
   "source": [
    "Ahora es el momento de pasar a la siguiente etapa: explorar los datos."
   ]
  },
  {
   "cell_type": "markdown",
   "id": "6ac9aed3",
   "metadata": {
    "slideshow": {
     "slide_type": "slide"
    }
   },
   "source": [
    "## Discover and Visualize the Data to Gain Insights\n"
   ]
  },
  {
   "cell_type": "code",
   "execution_count": null,
   "id": "e1046730",
   "metadata": {
    "slideshow": {
     "slide_type": "slide"
    }
   },
   "outputs": [],
   "source": []
  },
  {
   "cell_type": "code",
   "execution_count": null,
   "id": "64cdb4a2",
   "metadata": {
    "slideshow": {
     "slide_type": "slide"
    }
   },
   "outputs": [],
   "source": []
  }
 ],
 "metadata": {
  "celltoolbar": "Slideshow",
  "kernelspec": {
   "display_name": "Python 3 (ipykernel)",
   "language": "python",
   "name": "python3"
  },
  "language_info": {
   "codemirror_mode": {
    "name": "ipython",
    "version": 3
   },
   "file_extension": ".py",
   "mimetype": "text/x-python",
   "name": "python",
   "nbconvert_exporter": "python",
   "pygments_lexer": "ipython3",
   "version": "3.9.7"
  },
  "latex_envs": {
   "LaTeX_envs_menu_present": true,
   "autoclose": false,
   "autocomplete": false,
   "bibliofile": "biblio.bib",
   "cite_by": "apalike",
   "current_citInitial": 1,
   "eqLabelWithNumbers": true,
   "eqNumInitial": 1,
   "hotkeys": {
    "equation": "Ctrl-E",
    "itemize": "Ctrl-I"
   },
   "labels_anchors": false,
   "latex_user_defs": false,
   "report_style_numbering": false,
   "user_envs_cfg": false
  },
  "rise": {
   "enable_chalkboard": true,
   "theme": "sky",
   "transition": "sky"
  }
 },
 "nbformat": 4,
 "nbformat_minor": 5
}
