{
 "cells": [
  {
   "cell_type": "markdown",
   "id": "521a95eb",
   "metadata": {
    "slideshow": {
     "slide_type": "slide"
    }
   },
   "source": [
    "<table align=\"left\">\n",
    "  <td>\n",
    "    <a href=\"https://colab.research.google.com/github/marco-canas/taca/blob/main/ref/geron/chap_2/3_Get_Data/2_vistazo_datos.ipynb\" target=\"_parent\"><img src=\"https://colab.research.google.com/assets/colab-badge.svg\" alt=\"Open In Colab\"/></a>\n",
    "  </td>\n",
    "  <td>\n",
    "    <a target=\"_blank\" href=\"https://kaggle.com/kernels/welcome?src=https://github.com/marco-canas/taca/blob/main/ref/geron/chap_2/3_Get_Data/2_vistazo_datos.ipynb\"><img src=\"https://kaggle.com/static/images/open-in-kaggle.svg\" /></a>\n",
    "  </td>\n",
    "</table>"
   ]
  },
  {
   "cell_type": "markdown",
   "id": "26311d90",
   "metadata": {
    "slideshow": {
     "slide_type": "slide"
    }
   },
   "source": [
    "# Echemos un vistazo rápido a la estructura de los datos"
   ]
  },
  {
   "cell_type": "markdown",
   "id": "ac6bb6d4",
   "metadata": {
    "slideshow": {
     "slide_type": "slide"
    }
   },
   "source": [
    "Cada fila representa un distrito."
   ]
  },
  {
   "cell_type": "markdown",
   "id": "733135fd",
   "metadata": {
    "slideshow": {
     "slide_type": "slide"
    }
   },
   "source": [
    "Hay 10 atributos (puedes ver los primeros 9 en la captura de pantalla):\n",
    "\n",
    "* `longitude`, \n",
    "* `latitude`, \n",
    "* `housing_median_age`, \n",
    "* `total_rooms`, \n",
    "* total_bedrooms,\n",
    "* population, \n",
    "* households, \n",
    "* median_income, \n",
    "* median_house_value, y \n",
    "* `ocean_proximity`."
   ]
  },
  {
   "cell_type": "code",
   "execution_count": 9,
   "id": "5f0315ea",
   "metadata": {
    "slideshow": {
     "slide_type": "slide"
    }
   },
   "outputs": [
    {
     "name": "stdout",
     "output_type": "stream",
     "text": [
      "<class 'pandas.core.frame.DataFrame'>\n",
      "RangeIndex: 20640 entries, 0 to 20639\n",
      "Data columns (total 10 columns):\n",
      " #   Column              Non-Null Count  Dtype  \n",
      "---  ------              --------------  -----  \n",
      " 0   longitude           20640 non-null  float64\n",
      " 1   latitude            20640 non-null  float64\n",
      " 2   housing_median_age  20640 non-null  float64\n",
      " 3   total_rooms         20640 non-null  float64\n",
      " 4   total_bedrooms      20433 non-null  float64\n",
      " 5   population          20640 non-null  float64\n",
      " 6   households          20640 non-null  float64\n",
      " 7   median_income       20640 non-null  float64\n",
      " 8   median_house_value  20640 non-null  float64\n",
      " 9   ocean_proximity     20640 non-null  object \n",
      "dtypes: float64(9), object(1)\n",
      "memory usage: 1.6+ MB\n"
     ]
    }
   ],
   "source": [
    "housing.info() "
   ]
  },
  {
   "cell_type": "markdown",
   "id": "1255e054",
   "metadata": {
    "slideshow": {
     "slide_type": "slide"
    }
   },
   "source": [
    "Hay 20,640 instancias en el conjunto de datos, \n",
    "* lo que significa que es bastante pequeño para los estándares de Machine Learning, \n",
    "* pero es perfecto para comenzar."
   ]
  },
  {
   "cell_type": "markdown",
   "id": "fc1d5e01",
   "metadata": {
    "slideshow": {
     "slide_type": "slide"
    }
   },
   "source": [
    "* Observe que el atributo `total_bedrooms` tiene solo 20,433 valores no nulos, \n",
    "* lo que significa que 207 distritos carecen de esta característica."
   ]
  },
  {
   "cell_type": "markdown",
   "id": "cedf4410",
   "metadata": {
    "slideshow": {
     "slide_type": "slide"
    }
   },
   "source": [
    "Tendremos que ocuparnos de esto más tarde."
   ]
  },
  {
   "cell_type": "markdown",
   "id": "9ed55825",
   "metadata": {
    "slideshow": {
     "slide_type": "slide"
    }
   },
   "source": [
    "Todos los atributos son numéricos, excepto el campo `ocean_proximity`."
   ]
  },
  {
   "cell_type": "markdown",
   "id": "b0359f5c",
   "metadata": {
    "slideshow": {
     "slide_type": "slide"
    }
   },
   "source": [
    "Su tipo es `object`, por lo que podría contener cualquier tipo de objeto Python."
   ]
  },
  {
   "cell_type": "markdown",
   "id": "92cee387",
   "metadata": {
    "slideshow": {
     "slide_type": "slide"
    }
   },
   "source": [
    "Pero como cargó estos datos desde un archivo CSV, sabe que debe ser un atributo de texto."
   ]
  },
  {
   "cell_type": "markdown",
   "id": "e9efae5f",
   "metadata": {
    "slideshow": {
     "slide_type": "slide"
    }
   },
   "source": [
    "Cuando miró las cinco filas superiores, probablemente notó que los valores en la columna `ocean_proximity` eran repetitivos, lo que significa que probablemente sea un atributo categórico."
   ]
  },
  {
   "cell_type": "markdown",
   "id": "1b07692f",
   "metadata": {
    "slideshow": {
     "slide_type": "slide"
    }
   },
   "source": [
    "Puede averiguar \n",
    "* qué subcategorías existen y   \n",
    "* cuántos distritos pertenecen a cada categoría utilizando el método `value_counts()`:"
   ]
  },
  {
   "cell_type": "code",
   "execution_count": 10,
   "id": "1391c364",
   "metadata": {
    "slideshow": {
     "slide_type": "slide"
    }
   },
   "outputs": [
    {
     "data": {
      "text/plain": [
       "<1H OCEAN     9136\n",
       "INLAND        6551\n",
       "NEAR OCEAN    2658\n",
       "NEAR BAY      2290\n",
       "ISLAND           5\n",
       "Name: ocean_proximity, dtype: int64"
      ]
     },
     "execution_count": 10,
     "metadata": {},
     "output_type": "execute_result"
    }
   ],
   "source": [
    "housing['ocean_proximity'].value_counts() "
   ]
  },
  {
   "cell_type": "markdown",
   "id": "dacaf365",
   "metadata": {
    "slideshow": {
     "slide_type": "slide"
    }
   },
   "source": [
    "Veamos los otros campos."
   ]
  },
  {
   "cell_type": "markdown",
   "id": "3d7f0315",
   "metadata": {
    "slideshow": {
     "slide_type": "slide"
    }
   },
   "source": [
    "El método `describe()` muestra un resumen de los atributos numéricos."
   ]
  },
  {
   "cell_type": "code",
   "execution_count": 11,
   "id": "46546567",
   "metadata": {
    "slideshow": {
     "slide_type": "slide"
    }
   },
   "outputs": [
    {
     "data": {
      "text/html": [
       "<div>\n",
       "<style scoped>\n",
       "    .dataframe tbody tr th:only-of-type {\n",
       "        vertical-align: middle;\n",
       "    }\n",
       "\n",
       "    .dataframe tbody tr th {\n",
       "        vertical-align: top;\n",
       "    }\n",
       "\n",
       "    .dataframe thead th {\n",
       "        text-align: right;\n",
       "    }\n",
       "</style>\n",
       "<table border=\"1\" class=\"dataframe\">\n",
       "  <thead>\n",
       "    <tr style=\"text-align: right;\">\n",
       "      <th></th>\n",
       "      <th>longitude</th>\n",
       "      <th>latitude</th>\n",
       "      <th>housing_median_age</th>\n",
       "      <th>total_rooms</th>\n",
       "      <th>total_bedrooms</th>\n",
       "      <th>population</th>\n",
       "      <th>households</th>\n",
       "      <th>median_income</th>\n",
       "      <th>median_house_value</th>\n",
       "    </tr>\n",
       "  </thead>\n",
       "  <tbody>\n",
       "    <tr>\n",
       "      <th>count</th>\n",
       "      <td>20640.000000</td>\n",
       "      <td>20640.000000</td>\n",
       "      <td>20640.000000</td>\n",
       "      <td>20640.000000</td>\n",
       "      <td>20433.000000</td>\n",
       "      <td>20640.000000</td>\n",
       "      <td>20640.000000</td>\n",
       "      <td>20640.000000</td>\n",
       "      <td>20640.000000</td>\n",
       "    </tr>\n",
       "    <tr>\n",
       "      <th>mean</th>\n",
       "      <td>-119.569704</td>\n",
       "      <td>35.631861</td>\n",
       "      <td>28.639486</td>\n",
       "      <td>2635.763081</td>\n",
       "      <td>537.870553</td>\n",
       "      <td>1425.476744</td>\n",
       "      <td>499.539680</td>\n",
       "      <td>3.870671</td>\n",
       "      <td>206855.816909</td>\n",
       "    </tr>\n",
       "    <tr>\n",
       "      <th>std</th>\n",
       "      <td>2.003532</td>\n",
       "      <td>2.135952</td>\n",
       "      <td>12.585558</td>\n",
       "      <td>2181.615252</td>\n",
       "      <td>421.385070</td>\n",
       "      <td>1132.462122</td>\n",
       "      <td>382.329753</td>\n",
       "      <td>1.899822</td>\n",
       "      <td>115395.615874</td>\n",
       "    </tr>\n",
       "    <tr>\n",
       "      <th>min</th>\n",
       "      <td>-124.350000</td>\n",
       "      <td>32.540000</td>\n",
       "      <td>1.000000</td>\n",
       "      <td>2.000000</td>\n",
       "      <td>1.000000</td>\n",
       "      <td>3.000000</td>\n",
       "      <td>1.000000</td>\n",
       "      <td>0.499900</td>\n",
       "      <td>14999.000000</td>\n",
       "    </tr>\n",
       "    <tr>\n",
       "      <th>25%</th>\n",
       "      <td>-121.800000</td>\n",
       "      <td>33.930000</td>\n",
       "      <td>18.000000</td>\n",
       "      <td>1447.750000</td>\n",
       "      <td>296.000000</td>\n",
       "      <td>787.000000</td>\n",
       "      <td>280.000000</td>\n",
       "      <td>2.563400</td>\n",
       "      <td>119600.000000</td>\n",
       "    </tr>\n",
       "    <tr>\n",
       "      <th>50%</th>\n",
       "      <td>-118.490000</td>\n",
       "      <td>34.260000</td>\n",
       "      <td>29.000000</td>\n",
       "      <td>2127.000000</td>\n",
       "      <td>435.000000</td>\n",
       "      <td>1166.000000</td>\n",
       "      <td>409.000000</td>\n",
       "      <td>3.534800</td>\n",
       "      <td>179700.000000</td>\n",
       "    </tr>\n",
       "    <tr>\n",
       "      <th>75%</th>\n",
       "      <td>-118.010000</td>\n",
       "      <td>37.710000</td>\n",
       "      <td>37.000000</td>\n",
       "      <td>3148.000000</td>\n",
       "      <td>647.000000</td>\n",
       "      <td>1725.000000</td>\n",
       "      <td>605.000000</td>\n",
       "      <td>4.743250</td>\n",
       "      <td>264725.000000</td>\n",
       "    </tr>\n",
       "    <tr>\n",
       "      <th>max</th>\n",
       "      <td>-114.310000</td>\n",
       "      <td>41.950000</td>\n",
       "      <td>52.000000</td>\n",
       "      <td>39320.000000</td>\n",
       "      <td>6445.000000</td>\n",
       "      <td>35682.000000</td>\n",
       "      <td>6082.000000</td>\n",
       "      <td>15.000100</td>\n",
       "      <td>500001.000000</td>\n",
       "    </tr>\n",
       "  </tbody>\n",
       "</table>\n",
       "</div>"
      ],
      "text/plain": [
       "          longitude      latitude  housing_median_age   total_rooms  \\\n",
       "count  20640.000000  20640.000000        20640.000000  20640.000000   \n",
       "mean    -119.569704     35.631861           28.639486   2635.763081   \n",
       "std        2.003532      2.135952           12.585558   2181.615252   \n",
       "min     -124.350000     32.540000            1.000000      2.000000   \n",
       "25%     -121.800000     33.930000           18.000000   1447.750000   \n",
       "50%     -118.490000     34.260000           29.000000   2127.000000   \n",
       "75%     -118.010000     37.710000           37.000000   3148.000000   \n",
       "max     -114.310000     41.950000           52.000000  39320.000000   \n",
       "\n",
       "       total_bedrooms    population    households  median_income  \\\n",
       "count    20433.000000  20640.000000  20640.000000   20640.000000   \n",
       "mean       537.870553   1425.476744    499.539680       3.870671   \n",
       "std        421.385070   1132.462122    382.329753       1.899822   \n",
       "min          1.000000      3.000000      1.000000       0.499900   \n",
       "25%        296.000000    787.000000    280.000000       2.563400   \n",
       "50%        435.000000   1166.000000    409.000000       3.534800   \n",
       "75%        647.000000   1725.000000    605.000000       4.743250   \n",
       "max       6445.000000  35682.000000   6082.000000      15.000100   \n",
       "\n",
       "       median_house_value  \n",
       "count        20640.000000  \n",
       "mean        206855.816909  \n",
       "std         115395.615874  \n",
       "min          14999.000000  \n",
       "25%         119600.000000  \n",
       "50%         179700.000000  \n",
       "75%         264725.000000  \n",
       "max         500001.000000  "
      ]
     },
     "execution_count": 11,
     "metadata": {},
     "output_type": "execute_result"
    }
   ],
   "source": [
    "housing.describe() "
   ]
  },
  {
   "cell_type": "markdown",
   "id": "5540c03d",
   "metadata": {
    "slideshow": {
     "slide_type": "slide"
    }
   },
   "source": [
    "Las filas de \n",
    "\n",
    "* recuento (`count`), \n",
    "* media (`mean`),   \n",
    "* mínima (`min`) y   \n",
    "* máxima (`max`)  \n",
    "\n",
    "se explican por sí mismas."
   ]
  },
  {
   "cell_type": "markdown",
   "id": "433f3b8b",
   "metadata": {
    "slideshow": {
     "slide_type": "slide"
    }
   },
   "source": [
    "Tenga en cuenta que los valores nulos se ignoran (por ejemplo, el recuento de `total_bedrooms` es 20,433, no 20.640)."
   ]
  },
  {
   "cell_type": "markdown",
   "id": "7c4d29dd",
   "metadata": {
    "slideshow": {
     "slide_type": "slide"
    }
   },
   "source": [
    "La fila `std` muestra la desviación estándar, que mide qué tan dispersos están los valores."
   ]
  },
  {
   "cell_type": "markdown",
   "id": "914a3553",
   "metadata": {
    "slideshow": {
     "slide_type": "slide"
    }
   },
   "source": [
    "Las filas $25\\%$, $50\\%$ y $75\\%$ muestran los percentiles correspondientes: \n",
    "* un percentil indica el valor por debajo del cual cae un porcentaje determinado de observaciones en \n",
    "  un grupo de observaciones."
   ]
  },
  {
   "cell_type": "markdown",
   "id": "383f34f4",
   "metadata": {
    "slideshow": {
     "slide_type": "slide"
    }
   },
   "source": [
    "Por ejemplo,   \n",
    "* el $25\\%$ de los distritos tiene una `housing_median_age` inferior a 18,   \n",
    "* mientras que el $50\\%$ es inferior a 29 y   \n",
    "* el $75\\%$ es inferior a 37. "
   ]
  },
  {
   "cell_type": "markdown",
   "id": "0215566c",
   "metadata": {
    "slideshow": {
     "slide_type": "slide"
    }
   },
   "source": [
    "Estos a menudo se denominan:   \n",
    "\n",
    "* percentil 25 (o primer cuartil),   \n",
    "* mediana y   \n",
    "* percentil 75 (o tercer cuartil)."
   ]
  },
  {
   "cell_type": "markdown",
   "id": "709ced82",
   "metadata": {
    "slideshow": {
     "slide_type": "slide"
    }
   },
   "source": [
    "Otra forma rápida de tener una idea del tipo de datos con los que está tratando es trazar un histograma para cada atributo numérico. "
   ]
  },
  {
   "cell_type": "markdown",
   "id": "7a2dc18b",
   "metadata": {
    "slideshow": {
     "slide_type": "slide"
    }
   },
   "source": [
    "Un histograma muestra el número de instancias (en el eje vertical) que tienen un rango de valores dado (en el eje horizontal)."
   ]
  },
  {
   "cell_type": "markdown",
   "id": "1aaa58b8",
   "metadata": {
    "slideshow": {
     "slide_type": "slide"
    }
   },
   "source": [
    "Puede trazar este atributo a la vez, o puede llamar al método `hist()` en todo el conjunto de datos (como se muestra en el siguiente ejemplo de código), y trazará un histograma para cada atributo numérico:"
   ]
  },
  {
   "cell_type": "code",
   "execution_count": 9,
   "id": "d5f2d2f8",
   "metadata": {
    "slideshow": {
     "slide_type": "slide"
    }
   },
   "outputs": [
    {
     "data": {
      "image/png": "[encoded data removed]",
      "text/plain": [
       "<Figure size 1512x1080 with 9 Axes>"
      ]
     },
     "metadata": {
      "needs_background": "light"
     },
     "output_type": "display_data"
    }
   ],
   "source": [
    "%matplotlib inline   \n",
    "\n",
    "import matplotlib.pyplot as plt\n",
    "housing.hist(bins=50, figsize=(21,15)) \n",
    "\n",
    "plt.savefig('metodo_hist_de_pandas.jpg') \n",
    "\n",
    "plt.show()"
   ]
  },
  {
   "cell_type": "markdown",
   "id": "52bd358e",
   "metadata": {
    "slideshow": {
     "slide_type": "slide"
    }
   },
   "source": [
    "### NOTA"
   ]
  },
  {
   "cell_type": "markdown",
   "id": "670d6c33",
   "metadata": {
    "slideshow": {
     "slide_type": "slide"
    }
   },
   "source": [
    "El método `hist()` se basa en Matplotlib, que a su vez se basa en un backend gráfico especificado por el usuario para dibujar en su pantalla."
   ]
  },
  {
   "cell_type": "markdown",
   "id": "2a8167cd",
   "metadata": {
    "slideshow": {
     "slide_type": "slide"
    }
   },
   "source": [
    "Entonces, antes de que pueda trazar cualquier cosa, debe especificar qué backend debe usar Matplotlib."
   ]
  },
  {
   "cell_type": "markdown",
   "id": "9825a843",
   "metadata": {
    "slideshow": {
     "slide_type": "slide"
    }
   },
   "source": [
    "La opción más simple es usar el comando mágico de Jupyter `%matplotlib inline`. "
   ]
  },
  {
   "cell_type": "markdown",
   "id": "b073929e",
   "metadata": {
    "slideshow": {
     "slide_type": "slide"
    }
   },
   "source": [
    "Esto le dice a Jupyter que configure Matplotlib para que use el propio backend de Jupyter. "
   ]
  },
  {
   "cell_type": "markdown",
   "id": "b044c0ad",
   "metadata": {
    "slideshow": {
     "slide_type": "slide"
    }
   },
   "source": [
    "A continuación, los gráficos se renderizan dentro del propio cuaderno."
   ]
  },
  {
   "cell_type": "markdown",
   "id": "db788b61",
   "metadata": {
    "slideshow": {
     "slide_type": "slide"
    }
   },
   "source": [
    "Tenga en cuenta que llamar a `show()` es opcional en un cuaderno de Jupyter, ya que Jupyter mostrará automáticamente los gráficos cuando se ejecute una celda."
   ]
  },
  {
   "cell_type": "markdown",
   "id": "b060d7cc",
   "metadata": {
    "slideshow": {
     "slide_type": "slide"
    }
   },
   "source": [
    "Hay algunas cosas que puede notar en estos histogramas:"
   ]
  },
  {
   "cell_type": "markdown",
   "id": "fd3158c9",
   "metadata": {
    "slideshow": {
     "slide_type": "slide"
    }
   },
   "source": [
    "1. Primero, el atributo de `median_income`(ingreso mediano) no parece estar expresado en dólares estadounidenses (USD)."
   ]
  },
  {
   "cell_type": "markdown",
   "id": "87e7950f",
   "metadata": {
    "slideshow": {
     "slide_type": "slide"
    }
   },
   "source": [
    "   Después de consultar con el equipo que recopiló los datos, se le informa que los datos se han escalado y limitado a   \n",
    "   15 (en realidad, 15.0001) para los ingresos medios más altos, y a 0,5 (en realidad, 0,4999) para los ingresos medios   \n",
    "   más bajos."
   ]
  },
  {
   "cell_type": "markdown",
   "id": "fdb81e18",
   "metadata": {
    "slideshow": {
     "slide_type": "subslide"
    }
   },
   "source": [
    "   Los números representan aproximadamente decenas de miles de dólares (por ejemplo, 3 en realidad significa alrededor de  \n",
    "   $\\$ 30,000 $).\n",
    "\n",
    "   Trabajar con atributos preprocesados es común en Machine Learning y no es necesariamente un problema, pero debe intentar  \n",
    "   comprender cómo se calcularon los datos."
   ]
  },
  {
   "cell_type": "markdown",
   "id": "88197b5f",
   "metadata": {
    "slideshow": {
     "slide_type": "slide"
    }
   },
   "source": [
    "2. También se limitaron `housing_median_age` (la edad media de la vivienda y `housing_median_value` (el valor medio de la vivienda).\n",
    "\n",
    "   Este último puede ser un problema grave ya que es su atributo de destino (sus etiquetas).\n",
    "\n",
    "   Sus algoritmos de aprendizaje automático pueden aprender que los precios nunca vayan más allá de ese límite."
   ]
  },
  {
   "cell_type": "markdown",
   "id": "e063972d",
   "metadata": {
    "slideshow": {
     "slide_type": "slide"
    }
   },
   "source": [
    "   Debe consultar con su equipo cliente (el equipo que utilizará la salida de su sistema) para ver si esto es un problema o no.\n",
    "\n",
    "   Si le dicen que necesitan predicciones precisas incluso más allá de $\\$500,000$, entonces tiene dos opciones:"
   ]
  },
  {
   "cell_type": "markdown",
   "id": "ebcd5a5d",
   "metadata": {
    "slideshow": {
     "slide_type": "slide"
    }
   },
   "source": [
    "   1. Reúna las etiquetas adecuadas para los distritos cuyas etiquetas fueron tapadas.\n",
    "\n",
    "   2. Elimine esos distritos del conjunto de entrenamiento (`train_set`) (y también del conjunto de prueba (`test_set`), ya que su sistema no \n",
    "      debe evaluarse mal si predice valores superiores a $ 500 000)."
   ]
  },
  {
   "cell_type": "markdown",
   "id": "bea11757",
   "metadata": {
    "slideshow": {
     "slide_type": "slide"
    }
   },
   "source": [
    "3. Estos atributos tienen escalas muy diferentes.\n",
    "\n",
    "   Discutiremos esto más adelante en este capítulo, cuando exploremos el escalado de características."
   ]
  },
  {
   "cell_type": "markdown",
   "id": "504022db",
   "metadata": {
    "slideshow": {
     "slide_type": "slide"
    }
   },
   "source": [
    "4. Por último, muchos histogramas tienen una gran cola: se extienden mucho más a la derecha de la mediana que a la izquierda."
   ]
  },
  {
   "cell_type": "markdown",
   "id": "612b9b8f",
   "metadata": {
    "slideshow": {
     "slide_type": "slide"
    }
   },
   "source": [
    "Esto puede hacer que sea un poco más difícil para algunos algoritmos de aprendizaje automático detectar patrones."
   ]
  },
  {
   "cell_type": "markdown",
   "id": "4ce436bb",
   "metadata": {
    "slideshow": {
     "slide_type": "slide"
    }
   },
   "source": [
    "Intentaremos transformar estos atributos más adelante para tener más distribuciones en forma de campana."
   ]
  },
  {
   "cell_type": "markdown",
   "id": "00316ebe",
   "metadata": {
    "slideshow": {
     "slide_type": "slide"
    }
   },
   "source": [
    "Es de esperar que ahora comprenda mejor el tipo de datos que está tratando."
   ]
  },
  {
   "cell_type": "markdown",
   "id": "171b06e2",
   "metadata": {
    "slideshow": {
     "slide_type": "slide"
    }
   },
   "source": [
    "### ADVERTENCIA"
   ]
  },
  {
   "cell_type": "markdown",
   "id": "a540a884",
   "metadata": {
    "slideshow": {
     "slide_type": "slide"
    }
   },
   "source": [
    "¡Esperar! Antes de seguir analizando los datos, debe crear un conjunto de prueba, dejarlo a un lado y no mirarlo nunca."
   ]
  },
  {
   "cell_type": "markdown",
   "id": "cce78a4d",
   "metadata": {
    "slideshow": {
     "slide_type": "slide"
    }
   },
   "source": [
    "# Create a Test Set\n"
   ]
  },
  {
   "cell_type": "markdown",
   "id": "23fccd49",
   "metadata": {
    "slideshow": {
     "slide_type": "slide"
    }
   },
   "source": [
    "## Métodos y atributos importantes en este caso"
   ]
  },
  {
   "cell_type": "markdown",
   "id": "ea0c7b18",
   "metadata": {
    "slideshow": {
     "slide_type": "slide"
    }
   },
   "source": [
    "1. "
   ]
  },
  {
   "cell_type": "markdown",
   "id": "7b956dbe",
   "metadata": {
    "slideshow": {
     "slide_type": "slide"
    }
   },
   "source": [
    "## Referentes  \n",
    "\n",
    "* Géron, Aurélien, Hands-on machine learning with Scikit-Learn, Keras, and TensorFlow: Concepts, tools, and techniques to build intelligent systems, (2019), O'Reilly Media."
   ]
  },
  {
   "cell_type": "code",
   "execution_count": null,
   "id": "bd62e21f",
   "metadata": {
    "slideshow": {
     "slide_type": "slide"
    }
   },
   "outputs": [],
   "source": []
  }
 ],
 "metadata": {
  "celltoolbar": "Slideshow",
  "kernelspec": {
   "display_name": "Python 3",
   "language": "python",
   "name": "python3"
  },
  "language_info": {
   "codemirror_mode": {
    "name": "ipython",
    "version": 3
   },
   "file_extension": ".py",
   "mimetype": "text/x-python",
   "name": "python",
   "nbconvert_exporter": "python",
   "pygments_lexer": "ipython3",
   "version": "3.8.8"
  },
  "latex_envs": {
   "LaTeX_envs_menu_present": true,
   "autoclose": false,
   "autocomplete": false,
   "bibliofile": "biblio.bib",
   "cite_by": "apalike",
   "current_citInitial": 1,
   "eqLabelWithNumbers": true,
   "eqNumInitial": 1,
   "hotkeys": {
    "equation": "Ctrl-E",
    "itemize": "Ctrl-I"
   },
   "labels_anchors": false,
   "latex_user_defs": false,
   "report_style_numbering": false,
   "user_envs_cfg": false
  },
  "rise": {
   "enable_chalkboard": true,
   "theme": "sky",
   "transition": "sky"
  }
 },
 "nbformat": 4,
 "nbformat_minor": 5
}
