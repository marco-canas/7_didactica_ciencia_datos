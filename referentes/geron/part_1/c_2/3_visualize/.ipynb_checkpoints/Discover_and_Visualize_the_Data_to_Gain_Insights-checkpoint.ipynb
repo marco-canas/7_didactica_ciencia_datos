{
 "cells": [
  {
   "cell_type": "markdown",
   "id": "e19c7d3d",
   "metadata": {},
   "source": [
    "# Descubra y visualice los datos para obtener Perspectivas\n",
    "Página 92 de Géron"
   ]
  },
  {
   "cell_type": "markdown",
   "id": "6eeed89f",
   "metadata": {},
   "source": [
    "Hasta ahora, solo ha echado un vistazo rápido a los datos para obtener una comprensión general del tipo de datos que está manipulando. "
   ]
  },
  {
   "cell_type": "markdown",
   "id": "013178ab",
   "metadata": {},
   "source": [
    "Ahora el objetivo es profundizar un poco más."
   ]
  },
  {
   "cell_type": "markdown",
   "id": "d4a662bd",
   "metadata": {},
   "source": [
    "Primero, asegúrese de haber dejado la prueba reservada y de que solo está explorando el conjunto de entrenamiento. "
   ]
  },
  {
   "cell_type": "markdown",
   "id": "2589c32d",
   "metadata": {},
   "source": [
    "Además, si el conjunto de entrenamiento es muy grande, es posible que desee probar un conjunto de exploración para que las manipulaciones sean fáciles y rápidas. "
   ]
  },
  {
   "cell_type": "markdown",
   "id": "f5e74508",
   "metadata": {},
   "source": [
    "En nuestro caso, el conjunto es bastante pequeño, por lo que puede trabajar directamente en el conjunto completo. "
   ]
  },
  {
   "cell_type": "markdown",
   "id": "a915b381",
   "metadata": {},
   "source": [
    "Creemos una copia para que puedas jugar con ella sin dañar el conjunto de entrenamiento:"
   ]
  },
  {
   "cell_type": "code",
   "execution_count": 2,
   "id": "3487c0d9",
   "metadata": {},
   "outputs": [
    {
     "name": "stderr",
     "output_type": "stream",
     "text": [
      "Ya existe el subdirectorio o el archivo ml_path.\n"
     ]
    }
   ],
   "source": [
    "!mkdir ml_path"
   ]
  },
  {
   "cell_type": "code",
   "execution_count": 3,
   "id": "c1ee3136",
   "metadata": {},
   "outputs": [],
   "source": [
    "!cd ml_path "
   ]
  },
  {
   "cell_type": "code",
   "execution_count": 4,
   "id": "11d474e9",
   "metadata": {},
   "outputs": [
    {
     "name": "stdout",
     "output_type": "stream",
     "text": [
      "Collecting virtualenv\n",
      "  Using cached virtualenv-20.8.1-py2.py3-none-any.whl (5.3 MB)\n",
      "Collecting filelock<4,>=3.0.0\n",
      "  Using cached filelock-3.0.12-py3-none-any.whl (7.6 kB)\n",
      "Collecting distlib<1,>=0.3.1\n",
      "  Downloading distlib-0.3.3-py2.py3-none-any.whl (496 kB)\n",
      "Collecting backports.entry-points-selectable>=1.0.4\n",
      "  Using cached backports.entry_points_selectable-1.1.0-py2.py3-none-any.whl (6.2 kB)\n",
      "Collecting six<2,>=1.9.0\n",
      "  Using cached six-1.16.0-py2.py3-none-any.whl (11 kB)\n",
      "Collecting platformdirs<3,>=2\n",
      "  Downloading platformdirs-2.4.0-py3-none-any.whl (14 kB)\n",
      "Installing collected packages: six, platformdirs, filelock, distlib, backports.entry-points-selectable, virtualenv\n",
      "Successfully installed backports.entry-points-selectable-1.1.0 distlib-0.3.3 filelock-3.0.12 platformdirs-2.4.0 six-1.16.0 virtualenv-20.8.1\n"
     ]
    },
    {
     "name": "stderr",
     "output_type": "stream",
     "text": [
      "  WARNING: The script virtualenv.exe is installed in 'C:\\Users\\Usuario\\AppData\\Roaming\\Python\\Python39\\Scripts' which is not on PATH.\n",
      "  Consider adding this directory to PATH or, if you prefer to suppress this warning, use --no-warn-script-location.\n",
      "WARNING: You are using pip version 21.2.3; however, version 21.2.4 is available.\n",
      "You should consider upgrading via the 'C:\\Users\\Usuario\\AppData\\Local\\Microsoft\\WindowsApps\\PythonSoftwareFoundation.Python.3.9_qbz5n2kfra8p0\\python.exe -m pip install --upgrade pip' command.\n"
     ]
    }
   ],
   "source": [
    "! python3 -m pip install --user -U virtualenv "
   ]
  },
  {
   "cell_type": "code",
   "execution_count": 6,
   "id": "c55107ad",
   "metadata": {},
   "outputs": [
    {
     "name": "stdout",
     "output_type": "stream",
     "text": [
      "created virtual environment CPython3.9.7.final.0-64 in 820ms\n",
      "  creator Venv(dest=C:\\Users\\Usuario\\Desktop\\taca\\ref\\geron\\chap_2\\4_Discover_and_Visualize_the_Data_to_Gain\\my_env, clear=False, no_vcs_ignore=False, global=False, describe=CPython3Windows)\n",
      "  seeder FromAppData(download=False, pip=bundle, setuptools=bundle, wheel=bundle, via=copy, app_data_dir=C:\\Users\\Usuario\\AppData\\Local\\Packages\\PythonSoftwareFoundation.Python.3.9_qbz5n2kfra8p0\\LocalCache\\Local\\pypa\\virtualenv)\n",
      "    added seed packages: pip==21.2.4, setuptools==58.1.0, wheel==0.37.0\n",
      "  activators BashActivator,BatchActivator,FishActivator,NushellActivator,PowerShellActivator,PythonActivator\n"
     ]
    }
   ],
   "source": [
    "! cd ML_PATH\n",
    "! python3 -m virtualenv my_env"
   ]
  },
  {
   "cell_type": "code",
   "execution_count": 7,
   "id": "18a99437",
   "metadata": {},
   "outputs": [],
   "source": [
    "! cd ML_PATH\n",
    "! .\\my_env\\Scripts\\activate # on Windows   # ojo que el punto al inicio de este código es muy importante"
   ]
  },
  {
   "cell_type": "code",
   "execution_count": null,
   "id": "ac1f4d16",
   "metadata": {},
   "outputs": [],
   "source": [
    "! .\\my_env\\Scripts\\deactivate # on Windows  \n",
    "# ojo que el punto al inicio de este código es muy importante"
   ]
  },
  {
   "cell_type": "code",
   "execution_count": null,
   "id": "429a6c30",
   "metadata": {},
   "outputs": [],
   "source": []
  },
  {
   "cell_type": "code",
   "execution_count": null,
   "id": "8b4632d7",
   "metadata": {},
   "outputs": [],
   "source": [
    "housing = strat_train_set.copy() "
   ]
  },
  {
   "cell_type": "markdown",
   "id": "fe40ff52",
   "metadata": {},
   "source": [
    "## Visualización de datos geográficos"
   ]
  },
  {
   "cell_type": "markdown",
   "id": "18d2981d",
   "metadata": {},
   "source": [
    "Dado que existe información geográfica (latitud y longitud), es una buena idea crear un diagrama de dispersión de todos los distritos para visualizar los datos (Figura 2-11):"
   ]
  },
  {
   "cell_type": "code",
   "execution_count": null,
   "id": "0bc591af",
   "metadata": {},
   "outputs": [],
   "source": []
  },
  {
   "cell_type": "code",
   "execution_count": null,
   "id": "bfd263ef",
   "metadata": {},
   "outputs": [],
   "source": []
  }
 ],
 "metadata": {
  "kernelspec": {
   "display_name": "Python 3",
   "language": "python",
   "name": "python3"
  },
  "language_info": {
   "codemirror_mode": {
    "name": "ipython",
    "version": 3
   },
   "file_extension": ".py",
   "mimetype": "text/x-python",
   "name": "python",
   "nbconvert_exporter": "python",
   "pygments_lexer": "ipython3",
   "version": "3.8.8"
  },
  "latex_envs": {
   "LaTeX_envs_menu_present": true,
   "autoclose": false,
   "autocomplete": false,
   "bibliofile": "biblio.bib",
   "cite_by": "apalike",
   "current_citInitial": 1,
   "eqLabelWithNumbers": true,
   "eqNumInitial": 1,
   "hotkeys": {
    "equation": "Ctrl-E",
    "itemize": "Ctrl-I"
   },
   "labels_anchors": false,
   "latex_user_defs": false,
   "report_style_numbering": false,
   "user_envs_cfg": false
  }
 },
 "nbformat": 4,
 "nbformat_minor": 5
}
