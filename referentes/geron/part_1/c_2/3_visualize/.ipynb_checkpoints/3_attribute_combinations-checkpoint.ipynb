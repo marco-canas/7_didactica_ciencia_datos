{
 "cells": [
  {
   "cell_type": "markdown",
   "id": "8bd70ce8",
   "metadata": {
    "slideshow": {
     "slide_type": "slide"
    }
   },
   "source": [
    "<table align=\"left\">\n",
    "  <td>\n",
    "    <a href=\"https://colab.research.google.com/github/marco-canas/taca/blob/main/ref/geron/chap_2/4_visualize/3_attribute_combinations.ipynb\" target=\"_parent\"><img src=\"https://colab.research.google.com/assets/colab-badge.svg\" alt=\"Open In Colab\"/></a>\n",
    "  </td>\n",
    "  <td>\n",
    "    <a target=\"_blank\" href=\"https://kaggle.com/kernels/welcome?src=https://github.com/marco-canas/taca/blob/main/ref/geron/chap_2/4_visualize/3_attribute_combinations.ipynb\"><img src=\"https://kaggle.com/static/images/open-in-kaggle.svg\" /></a>\n",
    "  </td>\n",
    "</table>"
   ]
  },
  {
   "cell_type": "markdown",
   "id": "a8b92439",
   "metadata": {
    "slideshow": {
     "slide_type": "slide"
    }
   },
   "source": [
    "# Experimenting with Attribute Combinations\n",
    "\n",
    "Página 99 de Géron\n"
   ]
  },
  {
   "cell_type": "markdown",
   "id": "826107f2",
   "metadata": {
    "slideshow": {
     "slide_type": "slide"
    }
   },
   "source": [
    "## [Video de apoyo](https://www.youtube.com/watch?v=_xlb8HIeRVY&t=10s) "
   ]
  },
  {
   "cell_type": "code",
   "execution_count": 1,
   "id": "421ea4db",
   "metadata": {
    "slideshow": {
     "slide_type": "slide"
    }
   },
   "outputs": [],
   "source": [
    "url = 'https://raw.githubusercontent.com/marco-canas/taca/main/datasets/housing/housing.csv'\n",
    "import pandas as pd \n",
    "housing = pd.read_csv(url) "
   ]
  },
  {
   "cell_type": "code",
   "execution_count": 3,
   "id": "af0ef9b9",
   "metadata": {
    "slideshow": {
     "slide_type": "slide"
    }
   },
   "outputs": [
    {
     "data": {
      "text/html": [
       "<div>\n",
       "<style scoped>\n",
       "    .dataframe tbody tr th:only-of-type {\n",
       "        vertical-align: middle;\n",
       "    }\n",
       "\n",
       "    .dataframe tbody tr th {\n",
       "        vertical-align: top;\n",
       "    }\n",
       "\n",
       "    .dataframe thead th {\n",
       "        text-align: right;\n",
       "    }\n",
       "</style>\n",
       "<table border=\"1\" class=\"dataframe\">\n",
       "  <thead>\n",
       "    <tr style=\"text-align: right;\">\n",
       "      <th></th>\n",
       "      <th>longitude</th>\n",
       "      <th>latitude</th>\n",
       "      <th>housing_median_age</th>\n",
       "      <th>total_rooms</th>\n",
       "      <th>total_bedrooms</th>\n",
       "      <th>population</th>\n",
       "      <th>households</th>\n",
       "      <th>median_income</th>\n",
       "      <th>median_house_value</th>\n",
       "      <th>ocean_proximity</th>\n",
       "    </tr>\n",
       "  </thead>\n",
       "  <tbody>\n",
       "    <tr>\n",
       "      <th>20432</th>\n",
       "      <td>-118.74</td>\n",
       "      <td>34.25</td>\n",
       "      <td>25.0</td>\n",
       "      <td>1815.0</td>\n",
       "      <td>281.0</td>\n",
       "      <td>960.0</td>\n",
       "      <td>284.0</td>\n",
       "      <td>5.4243</td>\n",
       "      <td>214700.0</td>\n",
       "      <td>&lt;1H OCEAN</td>\n",
       "    </tr>\n",
       "    <tr>\n",
       "      <th>10979</th>\n",
       "      <td>-117.85</td>\n",
       "      <td>33.77</td>\n",
       "      <td>23.0</td>\n",
       "      <td>5928.0</td>\n",
       "      <td>1204.0</td>\n",
       "      <td>3570.0</td>\n",
       "      <td>1150.0</td>\n",
       "      <td>4.0398</td>\n",
       "      <td>233100.0</td>\n",
       "      <td>&lt;1H OCEAN</td>\n",
       "    </tr>\n",
       "    <tr>\n",
       "      <th>175</th>\n",
       "      <td>-122.24</td>\n",
       "      <td>37.80</td>\n",
       "      <td>52.0</td>\n",
       "      <td>1591.0</td>\n",
       "      <td>373.0</td>\n",
       "      <td>1118.0</td>\n",
       "      <td>347.0</td>\n",
       "      <td>2.1563</td>\n",
       "      <td>128600.0</td>\n",
       "      <td>NEAR BAY</td>\n",
       "    </tr>\n",
       "    <tr>\n",
       "      <th>14498</th>\n",
       "      <td>-117.23</td>\n",
       "      <td>32.86</td>\n",
       "      <td>16.0</td>\n",
       "      <td>1675.0</td>\n",
       "      <td>354.0</td>\n",
       "      <td>604.0</td>\n",
       "      <td>332.0</td>\n",
       "      <td>5.2326</td>\n",
       "      <td>188300.0</td>\n",
       "      <td>NEAR OCEAN</td>\n",
       "    </tr>\n",
       "    <tr>\n",
       "      <th>20256</th>\n",
       "      <td>-119.17</td>\n",
       "      <td>34.21</td>\n",
       "      <td>33.0</td>\n",
       "      <td>1039.0</td>\n",
       "      <td>256.0</td>\n",
       "      <td>1432.0</td>\n",
       "      <td>272.0</td>\n",
       "      <td>3.1103</td>\n",
       "      <td>143500.0</td>\n",
       "      <td>NEAR OCEAN</td>\n",
       "    </tr>\n",
       "  </tbody>\n",
       "</table>\n",
       "</div>"
      ],
      "text/plain": [
       "       longitude  latitude  housing_median_age  total_rooms  total_bedrooms  \\\n",
       "20432    -118.74     34.25                25.0       1815.0           281.0   \n",
       "10979    -117.85     33.77                23.0       5928.0          1204.0   \n",
       "175      -122.24     37.80                52.0       1591.0           373.0   \n",
       "14498    -117.23     32.86                16.0       1675.0           354.0   \n",
       "20256    -119.17     34.21                33.0       1039.0           256.0   \n",
       "\n",
       "       population  households  median_income  median_house_value  \\\n",
       "20432       960.0       284.0         5.4243            214700.0   \n",
       "10979      3570.0      1150.0         4.0398            233100.0   \n",
       "175        1118.0       347.0         2.1563            128600.0   \n",
       "14498       604.0       332.0         5.2326            188300.0   \n",
       "20256      1432.0       272.0         3.1103            143500.0   \n",
       "\n",
       "      ocean_proximity  \n",
       "20432       <1H OCEAN  \n",
       "10979       <1H OCEAN  \n",
       "175          NEAR BAY  \n",
       "14498      NEAR OCEAN  \n",
       "20256      NEAR OCEAN  "
      ]
     },
     "execution_count": 3,
     "metadata": {},
     "output_type": "execute_result"
    }
   ],
   "source": [
    "housing.sample(frac = 1).head() "
   ]
  },
  {
   "cell_type": "markdown",
   "id": "8ea8a9a3",
   "metadata": {
    "slideshow": {
     "slide_type": "slide"
    }
   },
   "source": [
    "las secciones anteriores nos dieron una idea de algunas formas en que puede:\n",
    "* explorar los datos y \n",
    "* obtener información."
   ]
  },
  {
   "cell_type": "markdown",
   "id": "d6e1424e",
   "metadata": {
    "slideshow": {
     "slide_type": "slide"
    }
   },
   "source": [
    "* Identificó algunas peculiaridades de los datos que quizás desee limpiar antes de enviar los datos  a un algoritmo de aprendizaje automático, y   "
   ]
  },
  {
   "cell_type": "markdown",
   "id": "921c7182",
   "metadata": {
    "slideshow": {
     "slide_type": "slide"
    }
   },
   "source": [
    "* encontró correlaciones interesantes entre los atributos, en particular con el atributo de destino."
   ]
  },
  {
   "cell_type": "markdown",
   "id": "a74ba8fa",
   "metadata": {
    "slideshow": {
     "slide_type": "slide"
    }
   },
   "source": [
    "También notó que algunos atributos tienen una distribución con sesgo, por lo que es posible que desee transformarlos (por ejemplo, calculando su logaritmo)."
   ]
  },
  {
   "cell_type": "markdown",
   "id": "e66c5fc6",
   "metadata": {
    "slideshow": {
     "slide_type": "slide"
    }
   },
   "source": [
    "Una última cosa que puede querer hacer antes de preparar los datos para los algoritmos de aprendizaje automático es probar varias combinaciones de atributos."
   ]
  },
  {
   "cell_type": "markdown",
   "id": "cb5564a3",
   "metadata": {
    "slideshow": {
     "slide_type": "slide"
    }
   },
   "source": [
    "Por ejemplo, el número total de habitaciones en un distrito no es muy útil si no sabe cuántos hogares hay."
   ]
  },
  {
   "cell_type": "markdown",
   "id": "4ff04f6d",
   "metadata": {
    "slideshow": {
     "slide_type": "slide"
    }
   },
   "source": [
    "Lo que realmente desea es la cantidad de habitaciones por hogar. "
   ]
  },
  {
   "cell_type": "markdown",
   "id": "ec46a273",
   "metadata": {
    "slideshow": {
     "slide_type": "slide"
    }
   },
   "source": [
    "Del mismo modo, el número total de dormitorios por sí solo no es muy útil: probablemente desee compararlo con el número de habitaciones."
   ]
  },
  {
   "cell_type": "markdown",
   "id": "62a29ac0",
   "metadata": {
    "slideshow": {
     "slide_type": "slide"
    }
   },
   "source": [
    "Y la población por hogar también parece una combinación de atributos interesante para observar."
   ]
  },
  {
   "cell_type": "markdown",
   "id": "cff7dd31",
   "metadata": {
    "slideshow": {
     "slide_type": "slide"
    }
   },
   "source": [
    "Creemos estos nuevos atributos:"
   ]
  },
  {
   "cell_type": "code",
   "execution_count": 5,
   "id": "fc217e53",
   "metadata": {
    "slideshow": {
     "slide_type": "slide"
    }
   },
   "outputs": [],
   "source": [
    "housing[\"rooms_per_household\"] = housing[\"total_rooms\"]/housing[\"households\"]\n",
    "housing[\"bedrooms_per_room\"] = housing[\"total_bedrooms\"]/housing[\"total_rooms\"]\n",
    "housing[\"population_per_household\"]=housing[\"population\"]/housing[\"households\"]"
   ]
  },
  {
   "cell_type": "markdown",
   "id": "0b1603fa",
   "metadata": {
    "slideshow": {
     "slide_type": "slide"
    }
   },
   "source": [
    "household = Hogar.\n",
    "room = habitación.\n",
    "bedroom: dormitorio."
   ]
  },
  {
   "cell_type": "code",
   "execution_count": 6,
   "id": "9361d161",
   "metadata": {
    "slideshow": {
     "slide_type": "slide"
    }
   },
   "outputs": [
    {
     "data": {
      "text/plain": [
       "(20640, 13)"
      ]
     },
     "execution_count": 6,
     "metadata": {},
     "output_type": "execute_result"
    }
   ],
   "source": [
    "housing.shape "
   ]
  },
  {
   "cell_type": "code",
   "execution_count": 7,
   "id": "5a4e189d",
   "metadata": {
    "slideshow": {
     "slide_type": "slide"
    }
   },
   "outputs": [
    {
     "data": {
      "text/html": [
       "<div>\n",
       "<style scoped>\n",
       "    .dataframe tbody tr th:only-of-type {\n",
       "        vertical-align: middle;\n",
       "    }\n",
       "\n",
       "    .dataframe tbody tr th {\n",
       "        vertical-align: top;\n",
       "    }\n",
       "\n",
       "    .dataframe thead th {\n",
       "        text-align: right;\n",
       "    }\n",
       "</style>\n",
       "<table border=\"1\" class=\"dataframe\">\n",
       "  <thead>\n",
       "    <tr style=\"text-align: right;\">\n",
       "      <th></th>\n",
       "      <th>longitude</th>\n",
       "      <th>latitude</th>\n",
       "      <th>housing_median_age</th>\n",
       "      <th>total_rooms</th>\n",
       "      <th>total_bedrooms</th>\n",
       "      <th>population</th>\n",
       "      <th>households</th>\n",
       "      <th>median_income</th>\n",
       "      <th>median_house_value</th>\n",
       "      <th>ocean_proximity</th>\n",
       "      <th>rooms_per_household</th>\n",
       "      <th>bedrooms_per_room</th>\n",
       "      <th>population_per_household</th>\n",
       "    </tr>\n",
       "  </thead>\n",
       "  <tbody>\n",
       "    <tr>\n",
       "      <th>0</th>\n",
       "      <td>-122.23</td>\n",
       "      <td>37.88</td>\n",
       "      <td>41.0</td>\n",
       "      <td>880.0</td>\n",
       "      <td>129.0</td>\n",
       "      <td>322.0</td>\n",
       "      <td>126.0</td>\n",
       "      <td>8.3252</td>\n",
       "      <td>452600.0</td>\n",
       "      <td>NEAR BAY</td>\n",
       "      <td>6.984127</td>\n",
       "      <td>0.146591</td>\n",
       "      <td>2.555556</td>\n",
       "    </tr>\n",
       "    <tr>\n",
       "      <th>1</th>\n",
       "      <td>-122.22</td>\n",
       "      <td>37.86</td>\n",
       "      <td>21.0</td>\n",
       "      <td>7099.0</td>\n",
       "      <td>1106.0</td>\n",
       "      <td>2401.0</td>\n",
       "      <td>1138.0</td>\n",
       "      <td>8.3014</td>\n",
       "      <td>358500.0</td>\n",
       "      <td>NEAR BAY</td>\n",
       "      <td>6.238137</td>\n",
       "      <td>0.155797</td>\n",
       "      <td>2.109842</td>\n",
       "    </tr>\n",
       "    <tr>\n",
       "      <th>2</th>\n",
       "      <td>-122.24</td>\n",
       "      <td>37.85</td>\n",
       "      <td>52.0</td>\n",
       "      <td>1467.0</td>\n",
       "      <td>190.0</td>\n",
       "      <td>496.0</td>\n",
       "      <td>177.0</td>\n",
       "      <td>7.2574</td>\n",
       "      <td>352100.0</td>\n",
       "      <td>NEAR BAY</td>\n",
       "      <td>8.288136</td>\n",
       "      <td>0.129516</td>\n",
       "      <td>2.802260</td>\n",
       "    </tr>\n",
       "    <tr>\n",
       "      <th>3</th>\n",
       "      <td>-122.25</td>\n",
       "      <td>37.85</td>\n",
       "      <td>52.0</td>\n",
       "      <td>1274.0</td>\n",
       "      <td>235.0</td>\n",
       "      <td>558.0</td>\n",
       "      <td>219.0</td>\n",
       "      <td>5.6431</td>\n",
       "      <td>341300.0</td>\n",
       "      <td>NEAR BAY</td>\n",
       "      <td>5.817352</td>\n",
       "      <td>0.184458</td>\n",
       "      <td>2.547945</td>\n",
       "    </tr>\n",
       "    <tr>\n",
       "      <th>4</th>\n",
       "      <td>-122.25</td>\n",
       "      <td>37.85</td>\n",
       "      <td>52.0</td>\n",
       "      <td>1627.0</td>\n",
       "      <td>280.0</td>\n",
       "      <td>565.0</td>\n",
       "      <td>259.0</td>\n",
       "      <td>3.8462</td>\n",
       "      <td>342200.0</td>\n",
       "      <td>NEAR BAY</td>\n",
       "      <td>6.281853</td>\n",
       "      <td>0.172096</td>\n",
       "      <td>2.181467</td>\n",
       "    </tr>\n",
       "  </tbody>\n",
       "</table>\n",
       "</div>"
      ],
      "text/plain": [
       "   longitude  latitude  housing_median_age  total_rooms  total_bedrooms  \\\n",
       "0    -122.23     37.88                41.0        880.0           129.0   \n",
       "1    -122.22     37.86                21.0       7099.0          1106.0   \n",
       "2    -122.24     37.85                52.0       1467.0           190.0   \n",
       "3    -122.25     37.85                52.0       1274.0           235.0   \n",
       "4    -122.25     37.85                52.0       1627.0           280.0   \n",
       "\n",
       "   population  households  median_income  median_house_value ocean_proximity  \\\n",
       "0       322.0       126.0         8.3252            452600.0        NEAR BAY   \n",
       "1      2401.0      1138.0         8.3014            358500.0        NEAR BAY   \n",
       "2       496.0       177.0         7.2574            352100.0        NEAR BAY   \n",
       "3       558.0       219.0         5.6431            341300.0        NEAR BAY   \n",
       "4       565.0       259.0         3.8462            342200.0        NEAR BAY   \n",
       "\n",
       "   rooms_per_household  bedrooms_per_room  population_per_household  \n",
       "0             6.984127           0.146591                  2.555556  \n",
       "1             6.238137           0.155797                  2.109842  \n",
       "2             8.288136           0.129516                  2.802260  \n",
       "3             5.817352           0.184458                  2.547945  \n",
       "4             6.281853           0.172096                  2.181467  "
      ]
     },
     "execution_count": 7,
     "metadata": {},
     "output_type": "execute_result"
    }
   ],
   "source": [
    "housing.head() "
   ]
  },
  {
   "cell_type": "markdown",
   "id": "7bbea08c",
   "metadata": {
    "slideshow": {
     "slide_type": "slide"
    }
   },
   "source": [
    "Y ahora veamos la matriz de correlación nuevamente:"
   ]
  },
  {
   "cell_type": "code",
   "execution_count": 8,
   "id": "2a78e0ea",
   "metadata": {
    "slideshow": {
     "slide_type": "slide"
    }
   },
   "outputs": [
    {
     "data": {
      "text/html": [
       "<div>\n",
       "<style scoped>\n",
       "    .dataframe tbody tr th:only-of-type {\n",
       "        vertical-align: middle;\n",
       "    }\n",
       "\n",
       "    .dataframe tbody tr th {\n",
       "        vertical-align: top;\n",
       "    }\n",
       "\n",
       "    .dataframe thead th {\n",
       "        text-align: right;\n",
       "    }\n",
       "</style>\n",
       "<table border=\"1\" class=\"dataframe\">\n",
       "  <thead>\n",
       "    <tr style=\"text-align: right;\">\n",
       "      <th></th>\n",
       "      <th>longitude</th>\n",
       "      <th>latitude</th>\n",
       "      <th>housing_median_age</th>\n",
       "      <th>total_rooms</th>\n",
       "      <th>total_bedrooms</th>\n",
       "      <th>population</th>\n",
       "      <th>households</th>\n",
       "      <th>median_income</th>\n",
       "      <th>median_house_value</th>\n",
       "      <th>rooms_per_household</th>\n",
       "      <th>bedrooms_per_room</th>\n",
       "      <th>population_per_household</th>\n",
       "    </tr>\n",
       "  </thead>\n",
       "  <tbody>\n",
       "    <tr>\n",
       "      <th>longitude</th>\n",
       "      <td>1.000000</td>\n",
       "      <td>-0.924664</td>\n",
       "      <td>-0.108197</td>\n",
       "      <td>0.044568</td>\n",
       "      <td>0.069608</td>\n",
       "      <td>0.099773</td>\n",
       "      <td>0.055310</td>\n",
       "      <td>-0.015176</td>\n",
       "      <td>-0.045967</td>\n",
       "      <td>-0.027540</td>\n",
       "      <td>0.092657</td>\n",
       "      <td>0.002476</td>\n",
       "    </tr>\n",
       "    <tr>\n",
       "      <th>latitude</th>\n",
       "      <td>-0.924664</td>\n",
       "      <td>1.000000</td>\n",
       "      <td>0.011173</td>\n",
       "      <td>-0.036100</td>\n",
       "      <td>-0.066983</td>\n",
       "      <td>-0.108785</td>\n",
       "      <td>-0.071035</td>\n",
       "      <td>-0.079809</td>\n",
       "      <td>-0.144160</td>\n",
       "      <td>0.106389</td>\n",
       "      <td>-0.113815</td>\n",
       "      <td>0.002366</td>\n",
       "    </tr>\n",
       "    <tr>\n",
       "      <th>housing_median_age</th>\n",
       "      <td>-0.108197</td>\n",
       "      <td>0.011173</td>\n",
       "      <td>1.000000</td>\n",
       "      <td>-0.361262</td>\n",
       "      <td>-0.320451</td>\n",
       "      <td>-0.296244</td>\n",
       "      <td>-0.302916</td>\n",
       "      <td>-0.119034</td>\n",
       "      <td>0.105623</td>\n",
       "      <td>-0.153277</td>\n",
       "      <td>0.136089</td>\n",
       "      <td>0.013191</td>\n",
       "    </tr>\n",
       "    <tr>\n",
       "      <th>total_rooms</th>\n",
       "      <td>0.044568</td>\n",
       "      <td>-0.036100</td>\n",
       "      <td>-0.361262</td>\n",
       "      <td>1.000000</td>\n",
       "      <td>0.930380</td>\n",
       "      <td>0.857126</td>\n",
       "      <td>0.918484</td>\n",
       "      <td>0.198050</td>\n",
       "      <td>0.134153</td>\n",
       "      <td>0.133798</td>\n",
       "      <td>-0.187900</td>\n",
       "      <td>-0.024581</td>\n",
       "    </tr>\n",
       "    <tr>\n",
       "      <th>total_bedrooms</th>\n",
       "      <td>0.069608</td>\n",
       "      <td>-0.066983</td>\n",
       "      <td>-0.320451</td>\n",
       "      <td>0.930380</td>\n",
       "      <td>1.000000</td>\n",
       "      <td>0.877747</td>\n",
       "      <td>0.979728</td>\n",
       "      <td>-0.007723</td>\n",
       "      <td>0.049686</td>\n",
       "      <td>0.001538</td>\n",
       "      <td>0.084238</td>\n",
       "      <td>-0.028355</td>\n",
       "    </tr>\n",
       "    <tr>\n",
       "      <th>population</th>\n",
       "      <td>0.099773</td>\n",
       "      <td>-0.108785</td>\n",
       "      <td>-0.296244</td>\n",
       "      <td>0.857126</td>\n",
       "      <td>0.877747</td>\n",
       "      <td>1.000000</td>\n",
       "      <td>0.907222</td>\n",
       "      <td>0.004834</td>\n",
       "      <td>-0.024650</td>\n",
       "      <td>-0.072213</td>\n",
       "      <td>0.035319</td>\n",
       "      <td>0.069863</td>\n",
       "    </tr>\n",
       "    <tr>\n",
       "      <th>households</th>\n",
       "      <td>0.055310</td>\n",
       "      <td>-0.071035</td>\n",
       "      <td>-0.302916</td>\n",
       "      <td>0.918484</td>\n",
       "      <td>0.979728</td>\n",
       "      <td>0.907222</td>\n",
       "      <td>1.000000</td>\n",
       "      <td>0.013033</td>\n",
       "      <td>0.065843</td>\n",
       "      <td>-0.080598</td>\n",
       "      <td>0.065087</td>\n",
       "      <td>-0.027309</td>\n",
       "    </tr>\n",
       "    <tr>\n",
       "      <th>median_income</th>\n",
       "      <td>-0.015176</td>\n",
       "      <td>-0.079809</td>\n",
       "      <td>-0.119034</td>\n",
       "      <td>0.198050</td>\n",
       "      <td>-0.007723</td>\n",
       "      <td>0.004834</td>\n",
       "      <td>0.013033</td>\n",
       "      <td>1.000000</td>\n",
       "      <td>0.688075</td>\n",
       "      <td>0.326895</td>\n",
       "      <td>-0.615661</td>\n",
       "      <td>0.018766</td>\n",
       "    </tr>\n",
       "    <tr>\n",
       "      <th>median_house_value</th>\n",
       "      <td>-0.045967</td>\n",
       "      <td>-0.144160</td>\n",
       "      <td>0.105623</td>\n",
       "      <td>0.134153</td>\n",
       "      <td>0.049686</td>\n",
       "      <td>-0.024650</td>\n",
       "      <td>0.065843</td>\n",
       "      <td>0.688075</td>\n",
       "      <td>1.000000</td>\n",
       "      <td>0.151948</td>\n",
       "      <td>-0.255880</td>\n",
       "      <td>-0.023737</td>\n",
       "    </tr>\n",
       "    <tr>\n",
       "      <th>rooms_per_household</th>\n",
       "      <td>-0.027540</td>\n",
       "      <td>0.106389</td>\n",
       "      <td>-0.153277</td>\n",
       "      <td>0.133798</td>\n",
       "      <td>0.001538</td>\n",
       "      <td>-0.072213</td>\n",
       "      <td>-0.080598</td>\n",
       "      <td>0.326895</td>\n",
       "      <td>0.151948</td>\n",
       "      <td>1.000000</td>\n",
       "      <td>-0.416952</td>\n",
       "      <td>-0.004852</td>\n",
       "    </tr>\n",
       "    <tr>\n",
       "      <th>bedrooms_per_room</th>\n",
       "      <td>0.092657</td>\n",
       "      <td>-0.113815</td>\n",
       "      <td>0.136089</td>\n",
       "      <td>-0.187900</td>\n",
       "      <td>0.084238</td>\n",
       "      <td>0.035319</td>\n",
       "      <td>0.065087</td>\n",
       "      <td>-0.615661</td>\n",
       "      <td>-0.255880</td>\n",
       "      <td>-0.416952</td>\n",
       "      <td>1.000000</td>\n",
       "      <td>0.002938</td>\n",
       "    </tr>\n",
       "    <tr>\n",
       "      <th>population_per_household</th>\n",
       "      <td>0.002476</td>\n",
       "      <td>0.002366</td>\n",
       "      <td>0.013191</td>\n",
       "      <td>-0.024581</td>\n",
       "      <td>-0.028355</td>\n",
       "      <td>0.069863</td>\n",
       "      <td>-0.027309</td>\n",
       "      <td>0.018766</td>\n",
       "      <td>-0.023737</td>\n",
       "      <td>-0.004852</td>\n",
       "      <td>0.002938</td>\n",
       "      <td>1.000000</td>\n",
       "    </tr>\n",
       "  </tbody>\n",
       "</table>\n",
       "</div>"
      ],
      "text/plain": [
       "                          longitude  latitude  housing_median_age  \\\n",
       "longitude                  1.000000 -0.924664           -0.108197   \n",
       "latitude                  -0.924664  1.000000            0.011173   \n",
       "housing_median_age        -0.108197  0.011173            1.000000   \n",
       "total_rooms                0.044568 -0.036100           -0.361262   \n",
       "total_bedrooms             0.069608 -0.066983           -0.320451   \n",
       "population                 0.099773 -0.108785           -0.296244   \n",
       "households                 0.055310 -0.071035           -0.302916   \n",
       "median_income             -0.015176 -0.079809           -0.119034   \n",
       "median_house_value        -0.045967 -0.144160            0.105623   \n",
       "rooms_per_household       -0.027540  0.106389           -0.153277   \n",
       "bedrooms_per_room          0.092657 -0.113815            0.136089   \n",
       "population_per_household   0.002476  0.002366            0.013191   \n",
       "\n",
       "                          total_rooms  total_bedrooms  population  households  \\\n",
       "longitude                    0.044568        0.069608    0.099773    0.055310   \n",
       "latitude                    -0.036100       -0.066983   -0.108785   -0.071035   \n",
       "housing_median_age          -0.361262       -0.320451   -0.296244   -0.302916   \n",
       "total_rooms                  1.000000        0.930380    0.857126    0.918484   \n",
       "total_bedrooms               0.930380        1.000000    0.877747    0.979728   \n",
       "population                   0.857126        0.877747    1.000000    0.907222   \n",
       "households                   0.918484        0.979728    0.907222    1.000000   \n",
       "median_income                0.198050       -0.007723    0.004834    0.013033   \n",
       "median_house_value           0.134153        0.049686   -0.024650    0.065843   \n",
       "rooms_per_household          0.133798        0.001538   -0.072213   -0.080598   \n",
       "bedrooms_per_room           -0.187900        0.084238    0.035319    0.065087   \n",
       "population_per_household    -0.024581       -0.028355    0.069863   -0.027309   \n",
       "\n",
       "                          median_income  median_house_value  \\\n",
       "longitude                     -0.015176           -0.045967   \n",
       "latitude                      -0.079809           -0.144160   \n",
       "housing_median_age            -0.119034            0.105623   \n",
       "total_rooms                    0.198050            0.134153   \n",
       "total_bedrooms                -0.007723            0.049686   \n",
       "population                     0.004834           -0.024650   \n",
       "households                     0.013033            0.065843   \n",
       "median_income                  1.000000            0.688075   \n",
       "median_house_value             0.688075            1.000000   \n",
       "rooms_per_household            0.326895            0.151948   \n",
       "bedrooms_per_room             -0.615661           -0.255880   \n",
       "population_per_household       0.018766           -0.023737   \n",
       "\n",
       "                          rooms_per_household  bedrooms_per_room  \\\n",
       "longitude                           -0.027540           0.092657   \n",
       "latitude                             0.106389          -0.113815   \n",
       "housing_median_age                  -0.153277           0.136089   \n",
       "total_rooms                          0.133798          -0.187900   \n",
       "total_bedrooms                       0.001538           0.084238   \n",
       "population                          -0.072213           0.035319   \n",
       "households                          -0.080598           0.065087   \n",
       "median_income                        0.326895          -0.615661   \n",
       "median_house_value                   0.151948          -0.255880   \n",
       "rooms_per_household                  1.000000          -0.416952   \n",
       "bedrooms_per_room                   -0.416952           1.000000   \n",
       "population_per_household            -0.004852           0.002938   \n",
       "\n",
       "                          population_per_household  \n",
       "longitude                                 0.002476  \n",
       "latitude                                  0.002366  \n",
       "housing_median_age                        0.013191  \n",
       "total_rooms                              -0.024581  \n",
       "total_bedrooms                           -0.028355  \n",
       "population                                0.069863  \n",
       "households                               -0.027309  \n",
       "median_income                             0.018766  \n",
       "median_house_value                       -0.023737  \n",
       "rooms_per_household                      -0.004852  \n",
       "bedrooms_per_room                         0.002938  \n",
       "population_per_household                  1.000000  "
      ]
     },
     "execution_count": 8,
     "metadata": {},
     "output_type": "execute_result"
    }
   ],
   "source": [
    "corr_matrix = housing.corr()\n",
    "corr_matrix "
   ]
  },
  {
   "cell_type": "code",
   "execution_count": 16,
   "id": "efdcf798",
   "metadata": {
    "slideshow": {
     "slide_type": "slide"
    }
   },
   "outputs": [
    {
     "data": {
      "image/png": "[encoded data removed]",
      "text/plain": [
       "<Figure size 432x288 with 2 Axes>"
      ]
     },
     "metadata": {
      "needs_background": "light"
     },
     "output_type": "display_data"
    }
   ],
   "source": [
    "import matplotlib.pyplot as plt \n",
    "import seaborn as sns\n",
    "\n",
    "dataplot = sns.heatmap(housing.corr())    \n",
    "\n",
    "\n",
    "plt.savefig('mapa_calor_matriz_correlacion.jpg')\n",
    "\n",
    "plt.show() "
   ]
  },
  {
   "cell_type": "code",
   "execution_count": 21,
   "id": "2aa3c9ae",
   "metadata": {
    "scrolled": true,
    "slideshow": {
     "slide_type": "slide"
    }
   },
   "outputs": [
    {
     "data": {
      "text/plain": [
       "median_house_value          1.000000\n",
       "median_income               0.688075\n",
       "rooms_per_household         0.151948\n",
       "total_rooms                 0.134153\n",
       "housing_median_age          0.105623\n",
       "households                  0.065843\n",
       "total_bedrooms              0.049686\n",
       "population_per_household   -0.023737\n",
       "population                 -0.024650\n",
       "longitude                  -0.045967\n",
       "latitude                   -0.144160\n",
       "bedrooms_per_room          -0.255880\n",
       "Name: median_house_value, dtype: float64"
      ]
     },
     "execution_count": 21,
     "metadata": {},
     "output_type": "execute_result"
    }
   ],
   "source": [
    "corr_matrix[\"median_house_value\"].sort_values(ascending = False) "
   ]
  },
  {
   "cell_type": "markdown",
   "id": "a9c57603",
   "metadata": {
    "slideshow": {
     "slide_type": "slide"
    }
   },
   "source": [
    "¡Oye, no está mal! "
   ]
  },
  {
   "cell_type": "markdown",
   "id": "73b58c85",
   "metadata": {
    "slideshow": {
     "slide_type": "slide"
    }
   },
   "source": [
    "El nuevo atributo `bedroom_per_room` está mucho más correlacionado con el valor medio de la casa que con el número total de dormitorios (`bedroom`) o habitaciones (`room`)."
   ]
  },
  {
   "cell_type": "markdown",
   "id": "56a4bea4",
   "metadata": {
    "slideshow": {
     "slide_type": "slide"
    }
   },
   "source": [
    "Aparentemente, las casas con una relación dormitorio/habitación más baja tienden a ser más caras."
   ]
  },
  {
   "cell_type": "markdown",
   "id": "27d2c28c",
   "metadata": {
    "slideshow": {
     "slide_type": "slide"
    }
   },
   "source": [
    "El número de habitaciones por hogar (`household`) también es más informativo que el número total de habitaciones en un distrito; obviamente, cuanto más grandes son las casas, más caras son."
   ]
  },
  {
   "cell_type": "markdown",
   "id": "bd975592",
   "metadata": {
    "slideshow": {
     "slide_type": "slide"
    }
   },
   "source": [
    "Esta ronda de exploración no tiene por qué ser absolutamente exhaustiva; el punto es comenzar con el pie derecho y obtener rápidamente conocimientos que lo ayudarán a obtener un primer prototipo razonablemente bueno. "
   ]
  },
  {
   "cell_type": "markdown",
   "id": "f5906fc4",
   "metadata": {
    "slideshow": {
     "slide_type": "slide"
    }
   },
   "source": [
    "Pero este es un proceso iterativo: una vez que tiene un prototipo en funcionamiento, puede analizar su salida para obtener más información y volver a este paso de exploración."
   ]
  },
  {
   "cell_type": "markdown",
   "id": "2b405104",
   "metadata": {
    "slideshow": {
     "slide_type": "slide"
    }
   },
   "source": [
    "## Prepare the Data for Machine Learning Algorithms\n"
   ]
  },
  {
   "cell_type": "markdown",
   "id": "f32af05c",
   "metadata": {
    "slideshow": {
     "slide_type": "slide"
    }
   },
   "source": [
    "Página 101 de Géron"
   ]
  },
  {
   "cell_type": "markdown",
   "id": "0525835a",
   "metadata": {
    "slideshow": {
     "slide_type": "slide"
    }
   },
   "source": [
    "## Funciones de Python utilizadas en este Notebook"
   ]
  },
  {
   "cell_type": "markdown",
   "id": "c98fb93b",
   "metadata": {
    "slideshow": {
     "slide_type": "slide"
    }
   },
   "source": [
    "* `seaborn.heatmap()` "
   ]
  },
  {
   "cell_type": "markdown",
   "id": "5660e9d9",
   "metadata": {
    "slideshow": {
     "slide_type": "slide"
    }
   },
   "source": [
    "## Referentes  \n",
    "\n",
    "* Géron, Aurélien, Hands-on machine learning with Scikit-Learn, Keras, and TensorFlow: Concepts, tools, and techniques to build intelligent systems, (2019), O'Reilly Media.   \n",
    "* https://pandas.pydata.org/pandas-docs/stable/reference/api/pandas.plotting.scatter_matrix.html  \n",
    "\n",
    "* https://pandas.pydata.org/pandas-docs/stable/reference/api/pandas.DataFrame.corr.html\n",
    " "
   ]
  },
  {
   "cell_type": "code",
   "execution_count": null,
   "id": "7e1d49fd",
   "metadata": {},
   "outputs": [],
   "source": []
  }
 ],
 "metadata": {
  "celltoolbar": "Slideshow",
  "kernelspec": {
   "display_name": "Python 3",
   "language": "python",
   "name": "python3"
  },
  "language_info": {
   "codemirror_mode": {
    "name": "ipython",
    "version": 3
   },
   "file_extension": ".py",
   "mimetype": "text/x-python",
   "name": "python",
   "nbconvert_exporter": "python",
   "pygments_lexer": "ipython3",
   "version": "3.8.8"
  },
  "latex_envs": {
   "LaTeX_envs_menu_present": true,
   "autoclose": false,
   "autocomplete": false,
   "bibliofile": "biblio.bib",
   "cite_by": "apalike",
   "current_citInitial": 1,
   "eqLabelWithNumbers": true,
   "eqNumInitial": 1,
   "hotkeys": {
    "equation": "Ctrl-E",
    "itemize": "Ctrl-I"
   },
   "labels_anchors": false,
   "latex_user_defs": false,
   "report_style_numbering": false,
   "user_envs_cfg": false
  },
  "rise": {
   "enable_chalkboard": true,
   "theme": "sky",
   "transition": "zoom"
  }
 },
 "nbformat": 4,
 "nbformat_minor": 5
}
