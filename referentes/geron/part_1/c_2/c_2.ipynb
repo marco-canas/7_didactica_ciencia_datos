{
 "cells": [
  {
   "cell_type": "markdown",
   "id": "3e38419a",
   "metadata": {
    "slideshow": {
     "slide_type": "slide"
    }
   },
   "source": [
    "<table align=\"left\">\n",
    "  <td>\n",
    "    <a href=\"https://colab.research.google.com/github/marco-canas/didactica_ciencia_datos/blob/main/referentes/geron/part_1/c_2/c_2.ipynb\" target=\"_parent\"><img src=\"https://colab.research.google.com/assets/colab-badge.svg\" alt=\"Open In Colab\"/></a>\n",
    "  </td>\n",
    "</table> "
   ]
  },
  {
   "cell_type": "markdown",
   "id": "3b732c7f",
   "metadata": {
    "slideshow": {
     "slide_type": "slide"
    }
   },
   "source": [
    "## [Video de apoyo a la lectura de esta clase](https://www.youtube.com/watch?v=4JDqj1NT4Qk)"
   ]
  },
  {
   "cell_type": "markdown",
   "id": "32057e54",
   "metadata": {
    "slideshow": {
     "slide_type": "slide"
    }
   },
   "source": [
    "# Modelo de regresión para predicción de precio de vivienda"
   ]
  },
  {
   "cell_type": "markdown",
   "id": "6c0c2b73",
   "metadata": {
    "slideshow": {
     "slide_type": "slide"
    }
   },
   "source": [
    "## Objetivo\n",
    "\n",
    "* Construir un modelo de regresión para la predicción de precio de vivienda siguiendo la metodología de Aurelien Geron."
   ]
  },
  {
   "cell_type": "markdown",
   "id": "a2c95a2d",
   "metadata": {
    "slideshow": {
     "slide_type": "slide"
    }
   },
   "source": [
    "## Metodología de modelamiento para Machine Learning de Geron"
   ]
  },
  {
   "cell_type": "markdown",
   "id": "a52b550c",
   "metadata": {
    "slideshow": {
     "slide_type": "slide"
    }
   },
   "source": [
    "1. Plantear, de manera justificada, la pregunta.\n",
    "   * ¿Regresión o clasificación?\n",
    "   * ¿Tipo de regresión y tipo de clasificación?"
   ]
  },
  {
   "cell_type": "markdown",
   "id": "4b455d2d",
   "metadata": {
    "slideshow": {
     "slide_type": "slide"
    }
   },
   "source": [
    "2. Exploración inicial.\n",
    "   * Indicar la fuente de dónde se toman los datos.\n",
    "   * Hacer la variable a predecir o variable objetivo.\n",
    "   * Decir cuáles son los atributos predictores (descripción breve de cada uno)\n",
    "   * Practicar una primera exploración tabular y gráfica de los datos."
   ]
  },
  {
   "cell_type": "markdown",
   "id": "0bed4e59",
   "metadata": {
    "slideshow": {
     "slide_type": "slide"
    }
   },
   "source": [
    "3. Preparar los datos para los algoritmos de aprendizaje.  \n",
    "\n",
    "   * Hacer separación inicial de datos para entrenar y para testear.\n",
    "   * Explorar correlaciones lineales con la variable objetivo.\n",
    "   * Eliminar de ser necesario atributos que no sean de mucha utilidad.\n",
    "   * llenar datos faltantes.\n",
    "   * Escalar los datos.\n",
    "   * Automatizamos el proceso de preprocesamiento de los datos utilizando las clases Pipeline y ColumnTransformer de sklearn. "
   ]
  },
  {
   "cell_type": "markdown",
   "id": "eabd86f8",
   "metadata": {
    "slideshow": {
     "slide_type": "slide"
    }
   },
   "source": [
    "4. Entrenamiento y selección de modelo.\n",
    "   * Instanciar varios modelos y entrenarlos sobre datos de entrenamiento preparados.\n",
    "   * Medir el desempeño de varios modelos (comparativa, con la técnica de la validación cruzada)."
   ]
  },
  {
   "cell_type": "markdown",
   "id": "a9359e3a",
   "metadata": {
    "slideshow": {
     "slide_type": "slide"
    }
   },
   "source": [
    "5. Afinar el modelo.\n",
    "   * Crear cuadrícula (de búsqueda) de hiperparámetros.\n",
    "   * Seleccionar la combinación de hiperparámetros que consigue el mejor puntaje. (El mejor modelo)."
   ]
  },
  {
   "cell_type": "markdown",
   "id": "fd844837",
   "metadata": {
    "slideshow": {
     "slide_type": "slide"
    }
   },
   "source": [
    "6. Presentar la solución.\n",
    "   * Mostrar el desempeño sobre los datos para testear.\n",
    "   * (Opcional) Gráfico intuitivo para representar el modelo."
   ]
  },
  {
   "cell_type": "markdown",
   "id": "fcf6f4d5",
   "metadata": {
    "slideshow": {
     "slide_type": "slide"
    }
   },
   "source": [
    "[Video de apoyo sobre presentación de la metodología para modelo de machine Learning](https://www.youtube.com/watch?v=blRXFU2KooI)"
   ]
  },
  {
   "cell_type": "markdown",
   "id": "d8dabd3a",
   "metadata": {
    "slideshow": {
     "slide_type": "slide"
    }
   },
   "source": [
    "# Implementación del plan "
   ]
  },
  {
   "cell_type": "markdown",
   "id": "a125c13a",
   "metadata": {
    "slideshow": {
     "slide_type": "slide"
    }
   },
   "source": [
    "1. Establecer bien la pregunta.\n",
    "   * ¿Regresión o clasificación? y luego\n",
    "   * ¿Tipo de regresión o tipo de clasificación?"
   ]
  },
  {
   "cell_type": "markdown",
   "id": "0f160fcc",
   "metadata": {
    "slideshow": {
     "slide_type": "slide"
    }
   },
   "source": [
    "Este es un problema de regresión porque lo que se trata es de predecir un valor o la función predictora de valor continuo o de valores en un intervalo de números reales. "
   ]
  },
  {
   "cell_type": "markdown",
   "id": "04d121d0",
   "metadata": {
    "slideshow": {
     "slide_type": "slide"
    }
   },
   "source": [
    "Tenemos un dataset con la siguiente configuración: $[X|y]$.  \n",
    "\n",
    "$X = [x_{ij}] \\in \\mathbb{R}_{n,d}$.  \n",
    "$X^{j}$: $j$ ésimo atributo.   \n",
    "$X_{i}$: $i$ ésima fila o instancia ($i$ -ésimo distrito)  \n",
    "$x_{ij}$: $ij$ ésima entrada de la matriz $X$.   \n",
    "$y = [y_{i}] \\in \\mathbb{R}^{n}$: el vector de los valores promedios de vivienda.  \n",
    "$y_{i}$ el valor promedio de vivienda en el $i$ ésimo distrito"
   ]
  },
  {
   "cell_type": "markdown",
   "id": "7abb1b2c",
   "metadata": {
    "slideshow": {
     "slide_type": "slide"
    }
   },
   "source": [
    "El tipo de regresión es lineal porque \n",
    "\n",
    "$$h_{w}(X_{i}) = y_{i} = w^{T}X_{i} = w \\cdot X_{i} = w_{0} + w_{1}x_{i1} + \\cdots + w_{d}x_{id} $$ \n",
    "$$ = \\begin{pmatrix} w_{0} \\\\ w_{1} \\\\ \\vdots \\\\ w_{d} \\end{pmatrix} \\cdot \\begin{pmatrix} 1 \\\\ x_{i1} \\\\ \\cdots \\\\ x_{id} \\end{pmatrix} $$\n",
    "\n",
    "donde $d$ es el número de atributos. \n",
    "\n"
   ]
  },
  {
   "cell_type": "markdown",
   "id": "61421d22",
   "metadata": {
    "slideshow": {
     "slide_type": "slide"
    }
   },
   "source": [
    "# 2. Exploración inicial."
   ]
  },
  {
   "cell_type": "markdown",
   "id": "a924e190",
   "metadata": {
    "slideshow": {
     "slide_type": "slide"
    }
   },
   "source": [
    "##  Indicar la fuente de dónde se toman los datos."
   ]
  },
  {
   "cell_type": "markdown",
   "id": "cc551fa5",
   "metadata": {
    "slideshow": {
     "slide_type": "slide"
    }
   },
   "source": [
    "Su primera tarea es utilizar los datos del censo de California para construir un modelo de precios de viviendas en el estado.\n",
    "\n",
    "Estos datos incluyen métricas como la población, el ingreso medio y el precio medio de la vivienda para cada grupo de bloques en California.\n",
    "\n",
    "Los grupos de bloques son la unidad geográfica más pequeña para la que la Oficina del Censo de EE. UU. publica datos de muestra (un grupo de bloques suele tener una población de 600 a 3000 personas).\n",
    "\n",
    "Los llamaremos “distritos” para abreviar.\n",
    "\n",
    "Su modelo debe aprender de estos datos y poder predecir el precio medio de la vivienda en cualquier distrito, dadas todas las demás métricas."
   ]
  },
  {
   "cell_type": "markdown",
   "id": "1c32d9be",
   "metadata": {
    "slideshow": {
     "slide_type": "slide"
    }
   },
   "source": [
    "# Hacer explícita la función objetivo."
   ]
  },
  {
   "cell_type": "markdown",
   "id": "e0909354",
   "metadata": {
    "slideshow": {
     "slide_type": "slide"
    }
   },
   "source": [
    "$$ h_{w}:\\mathbb{R}^{9} \\to \\mathbb{R} $$\n",
    "\n",
    "$$ h(X_{n \\times d}) = y $$\n",
    "\n",
    "donde $X$ es una matriz alta (número de filas mucho mayor al número de columnas). \n",
    "\n",
    "$y$ es un vector de $\\mathbb{R}^{n}$ cuyas entradas son los precios promedio de vivienda por distrito. \n",
    "\n",
    "$$ h(X_{i}) = y_{i} \\in \\mathbb{R}$$"
   ]
  },
  {
   "cell_type": "markdown",
   "id": "7c1d4452",
   "metadata": {
    "slideshow": {
     "slide_type": "slide"
    }
   },
   "source": [
    "## Decir cuáles son los atributos (descripción breve de cada uno)"
   ]
  },
  {
   "cell_type": "markdown",
   "id": "9c429a5c",
   "metadata": {
    "slideshow": {
     "slide_type": "slide"
    }
   },
   "source": [
    "Son nueve atributos o variables predictoras entre las que están:\n",
    "\n",
    "* longitud\n",
    "* latitud\n",
    "* habitaciones\n",
    "* dormitorios\n",
    "* ingresos promedio\n",
    "* proximidad al oceano\n",
    "* antiguedad promedio de las viviendas en el distrito.\n",
    "* Número de hogares: Número total de hogares por distrito. \n",
    "* población: población total por distrito\n"
   ]
  },
  {
   "cell_type": "markdown",
   "id": "9000eef6",
   "metadata": {
    "slideshow": {
     "slide_type": "slide"
    }
   },
   "source": [
    "## [Video de apoyo]()"
   ]
  },
  {
   "cell_type": "markdown",
   "id": "1a4b3320",
   "metadata": {
    "slideshow": {
     "slide_type": "slide"
    }
   },
   "source": [
    "## Practicar una primera exploración gráfica de los datos."
   ]
  },
  {
   "cell_type": "markdown",
   "id": "0b1f5cbd",
   "metadata": {
    "slideshow": {
     "slide_type": "slide"
    }
   },
   "source": [
    "## Importar las librerías que sirven a la obtención y visualización de datos"
   ]
  },
  {
   "cell_type": "code",
   "execution_count": 3,
   "id": "b6aa4a36",
   "metadata": {
    "slideshow": {
     "slide_type": "slide"
    }
   },
   "outputs": [],
   "source": [
    "import pandas as pd \n",
    "import numpy as np \n",
    "from matplotlib import pyplot as plt \n"
   ]
  },
  {
   "cell_type": "markdown",
   "id": "d2d3819b",
   "metadata": {
    "slideshow": {
     "slide_type": "slide"
    }
   },
   "source": [
    "## Obtención de los datos"
   ]
  },
  {
   "cell_type": "code",
   "execution_count": 4,
   "id": "31236055",
   "metadata": {
    "slideshow": {
     "slide_type": "slide"
    }
   },
   "outputs": [],
   "source": [
    "v = pd.read_csv('vivienda.csv')  "
   ]
  },
  {
   "cell_type": "code",
   "execution_count": 5,
   "id": "5e322862",
   "metadata": {
    "slideshow": {
     "slide_type": "slide"
    }
   },
   "outputs": [
    {
     "data": {
      "text/html": [
       "<div>\n",
       "<style scoped>\n",
       "    .dataframe tbody tr th:only-of-type {\n",
       "        vertical-align: middle;\n",
       "    }\n",
       "\n",
       "    .dataframe tbody tr th {\n",
       "        vertical-align: top;\n",
       "    }\n",
       "\n",
       "    .dataframe thead th {\n",
       "        text-align: right;\n",
       "    }\n",
       "</style>\n",
       "<table border=\"1\" class=\"dataframe\">\n",
       "  <thead>\n",
       "    <tr style=\"text-align: right;\">\n",
       "      <th></th>\n",
       "      <th>longitud</th>\n",
       "      <th>latitud</th>\n",
       "      <th>antiguedad</th>\n",
       "      <th>habitaciones</th>\n",
       "      <th>dormitorios</th>\n",
       "      <th>población</th>\n",
       "      <th>hogares</th>\n",
       "      <th>ingresos</th>\n",
       "      <th>proximidad</th>\n",
       "      <th>precio</th>\n",
       "    </tr>\n",
       "  </thead>\n",
       "  <tbody>\n",
       "    <tr>\n",
       "      <th>0</th>\n",
       "      <td>-122.23</td>\n",
       "      <td>37.88</td>\n",
       "      <td>41.0</td>\n",
       "      <td>880.0</td>\n",
       "      <td>129.0</td>\n",
       "      <td>322.0</td>\n",
       "      <td>126.0</td>\n",
       "      <td>8.3252</td>\n",
       "      <td>NEAR BAY</td>\n",
       "      <td>452600.0</td>\n",
       "    </tr>\n",
       "    <tr>\n",
       "      <th>1</th>\n",
       "      <td>-122.22</td>\n",
       "      <td>37.86</td>\n",
       "      <td>21.0</td>\n",
       "      <td>7099.0</td>\n",
       "      <td>1106.0</td>\n",
       "      <td>2401.0</td>\n",
       "      <td>1138.0</td>\n",
       "      <td>8.3014</td>\n",
       "      <td>NEAR BAY</td>\n",
       "      <td>358500.0</td>\n",
       "    </tr>\n",
       "    <tr>\n",
       "      <th>2</th>\n",
       "      <td>-122.24</td>\n",
       "      <td>37.85</td>\n",
       "      <td>52.0</td>\n",
       "      <td>1467.0</td>\n",
       "      <td>190.0</td>\n",
       "      <td>496.0</td>\n",
       "      <td>177.0</td>\n",
       "      <td>7.2574</td>\n",
       "      <td>NEAR BAY</td>\n",
       "      <td>352100.0</td>\n",
       "    </tr>\n",
       "    <tr>\n",
       "      <th>3</th>\n",
       "      <td>-122.25</td>\n",
       "      <td>37.85</td>\n",
       "      <td>52.0</td>\n",
       "      <td>1274.0</td>\n",
       "      <td>235.0</td>\n",
       "      <td>558.0</td>\n",
       "      <td>219.0</td>\n",
       "      <td>5.6431</td>\n",
       "      <td>NEAR BAY</td>\n",
       "      <td>341300.0</td>\n",
       "    </tr>\n",
       "    <tr>\n",
       "      <th>4</th>\n",
       "      <td>-122.25</td>\n",
       "      <td>37.85</td>\n",
       "      <td>52.0</td>\n",
       "      <td>1627.0</td>\n",
       "      <td>280.0</td>\n",
       "      <td>565.0</td>\n",
       "      <td>259.0</td>\n",
       "      <td>3.8462</td>\n",
       "      <td>NEAR BAY</td>\n",
       "      <td>342200.0</td>\n",
       "    </tr>\n",
       "  </tbody>\n",
       "</table>\n",
       "</div>"
      ],
      "text/plain": [
       "   longitud  latitud  antiguedad  habitaciones  dormitorios  población  \\\n",
       "0   -122.23    37.88        41.0         880.0        129.0      322.0   \n",
       "1   -122.22    37.86        21.0        7099.0       1106.0     2401.0   \n",
       "2   -122.24    37.85        52.0        1467.0        190.0      496.0   \n",
       "3   -122.25    37.85        52.0        1274.0        235.0      558.0   \n",
       "4   -122.25    37.85        52.0        1627.0        280.0      565.0   \n",
       "\n",
       "   hogares  ingresos proximidad    precio  \n",
       "0    126.0    8.3252   NEAR BAY  452600.0  \n",
       "1   1138.0    8.3014   NEAR BAY  358500.0  \n",
       "2    177.0    7.2574   NEAR BAY  352100.0  \n",
       "3    219.0    5.6431   NEAR BAY  341300.0  \n",
       "4    259.0    3.8462   NEAR BAY  342200.0  "
      ]
     },
     "execution_count": 5,
     "metadata": {},
     "output_type": "execute_result"
    }
   ],
   "source": [
    "v.head()"
   ]
  },
  {
   "cell_type": "code",
   "execution_count": 6,
   "id": "9b808f05",
   "metadata": {
    "slideshow": {
     "slide_type": "slide"
    }
   },
   "outputs": [
    {
     "data": {
      "text/html": [
       "<div>\n",
       "<style scoped>\n",
       "    .dataframe tbody tr th:only-of-type {\n",
       "        vertical-align: middle;\n",
       "    }\n",
       "\n",
       "    .dataframe tbody tr th {\n",
       "        vertical-align: top;\n",
       "    }\n",
       "\n",
       "    .dataframe thead th {\n",
       "        text-align: right;\n",
       "    }\n",
       "</style>\n",
       "<table border=\"1\" class=\"dataframe\">\n",
       "  <thead>\n",
       "    <tr style=\"text-align: right;\">\n",
       "      <th></th>\n",
       "      <th>longitud</th>\n",
       "      <th>latitud</th>\n",
       "      <th>antiguedad</th>\n",
       "      <th>habitaciones</th>\n",
       "      <th>dormitorios</th>\n",
       "      <th>población</th>\n",
       "      <th>hogares</th>\n",
       "      <th>ingresos</th>\n",
       "      <th>proximidad</th>\n",
       "      <th>precio</th>\n",
       "    </tr>\n",
       "  </thead>\n",
       "  <tbody>\n",
       "    <tr>\n",
       "      <th>20635</th>\n",
       "      <td>-121.09</td>\n",
       "      <td>39.48</td>\n",
       "      <td>25.0</td>\n",
       "      <td>1665.0</td>\n",
       "      <td>374.0</td>\n",
       "      <td>845.0</td>\n",
       "      <td>330.0</td>\n",
       "      <td>1.5603</td>\n",
       "      <td>INLAND</td>\n",
       "      <td>78100.0</td>\n",
       "    </tr>\n",
       "    <tr>\n",
       "      <th>20636</th>\n",
       "      <td>-121.21</td>\n",
       "      <td>39.49</td>\n",
       "      <td>18.0</td>\n",
       "      <td>697.0</td>\n",
       "      <td>150.0</td>\n",
       "      <td>356.0</td>\n",
       "      <td>114.0</td>\n",
       "      <td>2.5568</td>\n",
       "      <td>INLAND</td>\n",
       "      <td>77100.0</td>\n",
       "    </tr>\n",
       "    <tr>\n",
       "      <th>20637</th>\n",
       "      <td>-121.22</td>\n",
       "      <td>39.43</td>\n",
       "      <td>17.0</td>\n",
       "      <td>2254.0</td>\n",
       "      <td>485.0</td>\n",
       "      <td>1007.0</td>\n",
       "      <td>433.0</td>\n",
       "      <td>1.7000</td>\n",
       "      <td>INLAND</td>\n",
       "      <td>92300.0</td>\n",
       "    </tr>\n",
       "    <tr>\n",
       "      <th>20638</th>\n",
       "      <td>-121.32</td>\n",
       "      <td>39.43</td>\n",
       "      <td>18.0</td>\n",
       "      <td>1860.0</td>\n",
       "      <td>409.0</td>\n",
       "      <td>741.0</td>\n",
       "      <td>349.0</td>\n",
       "      <td>1.8672</td>\n",
       "      <td>INLAND</td>\n",
       "      <td>84700.0</td>\n",
       "    </tr>\n",
       "    <tr>\n",
       "      <th>20639</th>\n",
       "      <td>-121.24</td>\n",
       "      <td>39.37</td>\n",
       "      <td>16.0</td>\n",
       "      <td>2785.0</td>\n",
       "      <td>616.0</td>\n",
       "      <td>1387.0</td>\n",
       "      <td>530.0</td>\n",
       "      <td>2.3886</td>\n",
       "      <td>INLAND</td>\n",
       "      <td>89400.0</td>\n",
       "    </tr>\n",
       "  </tbody>\n",
       "</table>\n",
       "</div>"
      ],
      "text/plain": [
       "       longitud  latitud  antiguedad  habitaciones  dormitorios  población  \\\n",
       "20635   -121.09    39.48        25.0        1665.0        374.0      845.0   \n",
       "20636   -121.21    39.49        18.0         697.0        150.0      356.0   \n",
       "20637   -121.22    39.43        17.0        2254.0        485.0     1007.0   \n",
       "20638   -121.32    39.43        18.0        1860.0        409.0      741.0   \n",
       "20639   -121.24    39.37        16.0        2785.0        616.0     1387.0   \n",
       "\n",
       "       hogares  ingresos proximidad   precio  \n",
       "20635    330.0    1.5603     INLAND  78100.0  \n",
       "20636    114.0    2.5568     INLAND  77100.0  \n",
       "20637    433.0    1.7000     INLAND  92300.0  \n",
       "20638    349.0    1.8672     INLAND  84700.0  \n",
       "20639    530.0    2.3886     INLAND  89400.0  "
      ]
     },
     "execution_count": 6,
     "metadata": {},
     "output_type": "execute_result"
    }
   ],
   "source": [
    "v.tail()"
   ]
  },
  {
   "cell_type": "code",
   "execution_count": 5,
   "id": "38cb213f",
   "metadata": {
    "scrolled": false,
    "slideshow": {
     "slide_type": "slide"
    }
   },
   "outputs": [
    {
     "name": "stdout",
     "output_type": "stream",
     "text": [
      "<class 'pandas.core.frame.DataFrame'>\n",
      "RangeIndex: 20640 entries, 0 to 20639\n",
      "Data columns (total 10 columns):\n",
      " #   Column        Non-Null Count  Dtype  \n",
      "---  ------        --------------  -----  \n",
      " 0   longitud      20640 non-null  float64\n",
      " 1   latitud       20640 non-null  float64\n",
      " 2   antiguedad    20640 non-null  float64\n",
      " 3   habitaciones  20640 non-null  float64\n",
      " 4   dormitorios   20433 non-null  float64\n",
      " 5   población     20640 non-null  float64\n",
      " 6   hogares       20640 non-null  float64\n",
      " 7   ingresos      20640 non-null  float64\n",
      " 8   proximidad    20640 non-null  object \n",
      " 9   precio        20640 non-null  float64\n",
      "dtypes: float64(9), object(1)\n",
      "memory usage: 1.6+ MB\n"
     ]
    }
   ],
   "source": [
    "v.info()"
   ]
  },
  {
   "cell_type": "markdown",
   "id": "34d7e1b0",
   "metadata": {
    "slideshow": {
     "slide_type": "slide"
    }
   },
   "source": [
    "**Interpretaciones:**\n",
    "* Será necesario procesar datos faltantes solo la variable dormitorios. "
   ]
  },
  {
   "cell_type": "markdown",
   "id": "fc43cdad",
   "metadata": {
    "slideshow": {
     "slide_type": "slide"
    }
   },
   "source": [
    "Hay `20_640` instancias en el conjunto de datos, lo que significa que es bastante pequeño para los estándares de Machine Learning, pero es perfecto para comenzar. "
   ]
  },
  {
   "cell_type": "markdown",
   "id": "fadad9bb",
   "metadata": {
    "slideshow": {
     "slide_type": "slide"
    }
   },
   "source": [
    "* Note que el atributo `total_bedrooms` solo tiene `20_433` valores no nulos,   \n",
    "\n",
    "* lo que significa que 207 distritos no tienen este atributo. Tendremos que ocuparnos de esto más tarde."
   ]
  },
  {
   "cell_type": "markdown",
   "id": "c62643a1",
   "metadata": {
    "slideshow": {
     "slide_type": "slide"
    }
   },
   "source": [
    "Todos los atributos son numéricos, excepto el campo `ocean_proximity`. Su tipo es `objet`, por lo que podría contener cualquier tipo de objeto de Python. "
   ]
  },
  {
   "cell_type": "markdown",
   "id": "9bd8bcd5",
   "metadata": {
    "slideshow": {
     "slide_type": "slide"
    }
   },
   "source": [
    "Pero dado que cargó estos datos desde un archivo CSV, sabe que debe ser un atributo de texto."
   ]
  },
  {
   "cell_type": "markdown",
   "id": "f034bc58",
   "metadata": {
    "slideshow": {
     "slide_type": "slide"
    }
   },
   "source": [
    "Cuando miró las cinco filas superiores, probablemente notó que los valores en la columna `ocean_proximity` eran repetitivos, lo que significa que probablemente sea un atributo categórico. "
   ]
  },
  {
   "cell_type": "markdown",
   "id": "54166c94",
   "metadata": {
    "slideshow": {
     "slide_type": "slide"
    }
   },
   "source": [
    "Puede averiguar qué categorías existen y cuántos distritos pertenecen a cada categoría usando el método `value_counts()`:"
   ]
  },
  {
   "cell_type": "markdown",
   "id": "e70c198d",
   "metadata": {
    "slideshow": {
     "slide_type": "slide"
    }
   },
   "source": [
    "En términos más generales, puede agregar un hiperparámetro para controlar cualquier paso de preparación de datos del que no esté $100 \\%$ seguro."
   ]
  },
  {
   "cell_type": "code",
   "execution_count": 6,
   "id": "073bd647",
   "metadata": {
    "slideshow": {
     "slide_type": "slide"
    }
   },
   "outputs": [
    {
     "data": {
      "text/plain": [
       "<1H OCEAN     9136\n",
       "INLAND        6551\n",
       "NEAR OCEAN    2658\n",
       "NEAR BAY      2290\n",
       "ISLAND           5\n",
       "Name: proximidad, dtype: int64"
      ]
     },
     "execution_count": 6,
     "metadata": {},
     "output_type": "execute_result"
    }
   ],
   "source": [
    "v.proximidad.value_counts()"
   ]
  },
  {
   "cell_type": "markdown",
   "id": "bce930fc",
   "metadata": {
    "slideshow": {
     "slide_type": "slide"
    }
   },
   "source": [
    "# Visualización gráfica de los datos"
   ]
  },
  {
   "cell_type": "markdown",
   "id": "f2b55a86",
   "metadata": {
    "slideshow": {
     "slide_type": "slide"
    }
   },
   "source": [
    "## Visualización con diagrama de barras para variables categóricas nominales"
   ]
  },
  {
   "cell_type": "code",
   "execution_count": 7,
   "id": "b28a2037",
   "metadata": {
    "scrolled": true,
    "slideshow": {
     "slide_type": "slide"
    }
   },
   "outputs": [
    {
     "data": {
      "image/png": "[encoded data removed]",
      "text/plain": [
       "<Figure size 432x288 with 1 Axes>"
      ]
     },
     "metadata": {
      "needs_background": "light"
     },
     "output_type": "display_data"
    }
   ],
   "source": [
    "v.proximidad.value_counts().plot(kind = 'bar')\n",
    "plt.savefig('diagrama_barras.jpg')\n",
    "plt.show()"
   ]
  },
  {
   "cell_type": "markdown",
   "id": "55c41b23",
   "metadata": {
    "slideshow": {
     "slide_type": "slide"
    }
   },
   "source": [
    "**Interpretación del gráfico:**  \n",
    "\n",
    "* La clase `<1H OCEAN` es la que se presenta mayoritariamente, de hecho se presenta en más de 8000 distritos.  \n",
    "\n",
    "* "
   ]
  },
  {
   "cell_type": "code",
   "execution_count": 8,
   "id": "2e1d58ac",
   "metadata": {
    "scrolled": true,
    "slideshow": {
     "slide_type": "slide"
    }
   },
   "outputs": [
    {
     "data": {
      "text/html": [
       "<div>\n",
       "<style scoped>\n",
       "    .dataframe tbody tr th:only-of-type {\n",
       "        vertical-align: middle;\n",
       "    }\n",
       "\n",
       "    .dataframe tbody tr th {\n",
       "        vertical-align: top;\n",
       "    }\n",
       "\n",
       "    .dataframe thead th {\n",
       "        text-align: right;\n",
       "    }\n",
       "</style>\n",
       "<table border=\"1\" class=\"dataframe\">\n",
       "  <thead>\n",
       "    <tr style=\"text-align: right;\">\n",
       "      <th></th>\n",
       "      <th>longitud</th>\n",
       "      <th>latitud</th>\n",
       "      <th>antiguedad</th>\n",
       "      <th>habitaciones</th>\n",
       "      <th>dormitorios</th>\n",
       "      <th>población</th>\n",
       "      <th>hogares</th>\n",
       "      <th>ingresos</th>\n",
       "      <th>precio</th>\n",
       "    </tr>\n",
       "  </thead>\n",
       "  <tbody>\n",
       "    <tr>\n",
       "      <th>count</th>\n",
       "      <td>20640.000000</td>\n",
       "      <td>20640.000000</td>\n",
       "      <td>20640.000000</td>\n",
       "      <td>20640.000000</td>\n",
       "      <td>20433.000000</td>\n",
       "      <td>20640.000000</td>\n",
       "      <td>20640.000000</td>\n",
       "      <td>20640.000000</td>\n",
       "      <td>20640.000000</td>\n",
       "    </tr>\n",
       "    <tr>\n",
       "      <th>mean</th>\n",
       "      <td>-119.569704</td>\n",
       "      <td>35.631861</td>\n",
       "      <td>28.639486</td>\n",
       "      <td>2635.763081</td>\n",
       "      <td>537.870553</td>\n",
       "      <td>1425.476744</td>\n",
       "      <td>499.539680</td>\n",
       "      <td>3.870671</td>\n",
       "      <td>206855.816909</td>\n",
       "    </tr>\n",
       "    <tr>\n",
       "      <th>std</th>\n",
       "      <td>2.003532</td>\n",
       "      <td>2.135952</td>\n",
       "      <td>12.585558</td>\n",
       "      <td>2181.615252</td>\n",
       "      <td>421.385070</td>\n",
       "      <td>1132.462122</td>\n",
       "      <td>382.329753</td>\n",
       "      <td>1.899822</td>\n",
       "      <td>115395.615874</td>\n",
       "    </tr>\n",
       "    <tr>\n",
       "      <th>min</th>\n",
       "      <td>-124.350000</td>\n",
       "      <td>32.540000</td>\n",
       "      <td>1.000000</td>\n",
       "      <td>2.000000</td>\n",
       "      <td>1.000000</td>\n",
       "      <td>3.000000</td>\n",
       "      <td>1.000000</td>\n",
       "      <td>0.499900</td>\n",
       "      <td>14999.000000</td>\n",
       "    </tr>\n",
       "    <tr>\n",
       "      <th>25%</th>\n",
       "      <td>-121.800000</td>\n",
       "      <td>33.930000</td>\n",
       "      <td>18.000000</td>\n",
       "      <td>1447.750000</td>\n",
       "      <td>296.000000</td>\n",
       "      <td>787.000000</td>\n",
       "      <td>280.000000</td>\n",
       "      <td>2.563400</td>\n",
       "      <td>119600.000000</td>\n",
       "    </tr>\n",
       "    <tr>\n",
       "      <th>50%</th>\n",
       "      <td>-118.490000</td>\n",
       "      <td>34.260000</td>\n",
       "      <td>29.000000</td>\n",
       "      <td>2127.000000</td>\n",
       "      <td>435.000000</td>\n",
       "      <td>1166.000000</td>\n",
       "      <td>409.000000</td>\n",
       "      <td>3.534800</td>\n",
       "      <td>179700.000000</td>\n",
       "    </tr>\n",
       "    <tr>\n",
       "      <th>75%</th>\n",
       "      <td>-118.010000</td>\n",
       "      <td>37.710000</td>\n",
       "      <td>37.000000</td>\n",
       "      <td>3148.000000</td>\n",
       "      <td>647.000000</td>\n",
       "      <td>1725.000000</td>\n",
       "      <td>605.000000</td>\n",
       "      <td>4.743250</td>\n",
       "      <td>264725.000000</td>\n",
       "    </tr>\n",
       "    <tr>\n",
       "      <th>max</th>\n",
       "      <td>-114.310000</td>\n",
       "      <td>41.950000</td>\n",
       "      <td>52.000000</td>\n",
       "      <td>39320.000000</td>\n",
       "      <td>6445.000000</td>\n",
       "      <td>35682.000000</td>\n",
       "      <td>6082.000000</td>\n",
       "      <td>15.000100</td>\n",
       "      <td>500001.000000</td>\n",
       "    </tr>\n",
       "  </tbody>\n",
       "</table>\n",
       "</div>"
      ],
      "text/plain": [
       "           longitud       latitud    antiguedad  habitaciones   dormitorios  \\\n",
       "count  20640.000000  20640.000000  20640.000000  20640.000000  20433.000000   \n",
       "mean    -119.569704     35.631861     28.639486   2635.763081    537.870553   \n",
       "std        2.003532      2.135952     12.585558   2181.615252    421.385070   \n",
       "min     -124.350000     32.540000      1.000000      2.000000      1.000000   \n",
       "25%     -121.800000     33.930000     18.000000   1447.750000    296.000000   \n",
       "50%     -118.490000     34.260000     29.000000   2127.000000    435.000000   \n",
       "75%     -118.010000     37.710000     37.000000   3148.000000    647.000000   \n",
       "max     -114.310000     41.950000     52.000000  39320.000000   6445.000000   \n",
       "\n",
       "          población       hogares      ingresos         precio  \n",
       "count  20640.000000  20640.000000  20640.000000   20640.000000  \n",
       "mean    1425.476744    499.539680      3.870671  206855.816909  \n",
       "std     1132.462122    382.329753      1.899822  115395.615874  \n",
       "min        3.000000      1.000000      0.499900   14999.000000  \n",
       "25%      787.000000    280.000000      2.563400  119600.000000  \n",
       "50%     1166.000000    409.000000      3.534800  179700.000000  \n",
       "75%     1725.000000    605.000000      4.743250  264725.000000  \n",
       "max    35682.000000   6082.000000     15.000100  500001.000000  "
      ]
     },
     "execution_count": 8,
     "metadata": {},
     "output_type": "execute_result"
    }
   ],
   "source": [
    "v.describe() "
   ]
  },
  {
   "cell_type": "markdown",
   "id": "0b3496c6",
   "metadata": {
    "slideshow": {
     "slide_type": "slide"
    }
   },
   "source": [
    "**Interpretaciones o inferencias que se derivan de la sintesis de los datos obtenida de la utilización del método `.describe()`**\n",
    "\n",
    "* Como los rangos en los que se mueven los atributos predictores son tal diversos, entonces esto nos indica la necesidad de escalar los datos. "
   ]
  },
  {
   "cell_type": "markdown",
   "id": "faab5933",
   "metadata": {
    "slideshow": {
     "slide_type": "slide"
    }
   },
   "source": [
    "## [Video de apoyo sobre visualización tabular](https://www.youtube.com/watch?v=pODyJ8oMACU)"
   ]
  },
  {
   "cell_type": "code",
   "execution_count": 9,
   "id": "a16a1019",
   "metadata": {
    "scrolled": true,
    "slideshow": {
     "slide_type": "slide"
    }
   },
   "outputs": [
    {
     "data": {
      "image/png": "[encoded data removed]",
      "text/plain": [
       "<Figure size 1440x720 with 9 Axes>"
      ]
     },
     "metadata": {
      "needs_background": "light"
     },
     "output_type": "display_data"
    }
   ],
   "source": [
    "import matplotlib.pyplot as plt\n",
    "\n",
    "v.hist(figsize = (20,10))\n",
    "\n",
    "plt.show() "
   ]
  },
  {
   "cell_type": "markdown",
   "id": "b93abe3f",
   "metadata": {
    "slideshow": {
     "slide_type": "slide"
    }
   },
   "source": [
    "**Interpretaciones e inferencias de la matriz de histogramas**  \n",
    "\n",
    "* Los atributos se mueven en rangos muy diferentes y de tamaños muy variados.  \n",
    "* "
   ]
  },
  {
   "cell_type": "markdown",
   "id": "ff28400c",
   "metadata": {
    "slideshow": {
     "slide_type": "slide"
    }
   },
   "source": [
    "## Visualización de datos geográficos \n"
   ]
  },
  {
   "cell_type": "code",
   "execution_count": 2,
   "id": "b830cd5b",
   "metadata": {
    "slideshow": {
     "slide_type": "slide"
    }
   },
   "outputs": [
    {
     "ename": "NameError",
     "evalue": "name 'v' is not defined",
     "output_type": "error",
     "traceback": [
      "\u001b[1;31m---------------------------------------------------------------------------\u001b[0m",
      "\u001b[1;31mNameError\u001b[0m                                 Traceback (most recent call last)",
      "Input \u001b[1;32mIn [2]\u001b[0m, in \u001b[0;36m<cell line: 1>\u001b[1;34m()\u001b[0m\n\u001b[1;32m----> 1\u001b[0m \u001b[43mv\u001b[49m\u001b[38;5;241m.\u001b[39mplot(kind \u001b[38;5;241m=\u001b[39m \u001b[38;5;124m'\u001b[39m\u001b[38;5;124mscatter\u001b[39m\u001b[38;5;124m'\u001b[39m, x \u001b[38;5;241m=\u001b[39m \u001b[38;5;124m'\u001b[39m\u001b[38;5;124mlongitud\u001b[39m\u001b[38;5;124m'\u001b[39m, y \u001b[38;5;241m=\u001b[39m \u001b[38;5;124m'\u001b[39m\u001b[38;5;124mlatitud\u001b[39m\u001b[38;5;124m'\u001b[39m, alpha \u001b[38;5;241m=\u001b[39m \u001b[38;5;241m0.8\u001b[39m)\n\u001b[0;32m      3\u001b[0m plt\u001b[38;5;241m.\u001b[39mshow()\n",
      "\u001b[1;31mNameError\u001b[0m: name 'v' is not defined"
     ]
    }
   ],
   "source": [
    "v.plot(kind = 'scatter', x = 'longitud', y = 'latitud', alpha = 0.8)\n",
    "\n",
    "plt.show() "
   ]
  },
  {
   "cell_type": "markdown",
   "id": "6ff4c674",
   "metadata": {
    "slideshow": {
     "slide_type": "slide"
    }
   },
   "source": [
    "Esto se parece a California, pero aparte de eso, es difícil ver un patrón en particular. "
   ]
  },
  {
   "cell_type": "markdown",
   "id": "67a0c9d7",
   "metadata": {
    "slideshow": {
     "slide_type": "slide"
    }
   },
   "source": [
    "Establecer la opción `alpha` en $0.1$ hace que sea mucho más fácil visualizar los lugares donde hay una **alta densidad de puntos de datos**:"
   ]
  },
  {
   "cell_type": "code",
   "execution_count": 11,
   "id": "8903ff0e",
   "metadata": {
    "slideshow": {
     "slide_type": "slide"
    }
   },
   "outputs": [
    {
     "data": {
      "image/png": "[encoded data removed]",
      "text/plain": [
       "<Figure size 432x288 with 1 Axes>"
      ]
     },
     "metadata": {
      "needs_background": "light"
     },
     "output_type": "display_data"
    }
   ],
   "source": [
    "v.plot(kind = 'scatter', x = 'longitud', y = 'latitud', alpha = 0.1) \n",
    "\n",
    "plt.show() "
   ]
  },
  {
   "cell_type": "code",
   "execution_count": 12,
   "id": "30eb6b5b",
   "metadata": {
    "slideshow": {
     "slide_type": "slide"
    }
   },
   "outputs": [
    {
     "data": {
      "image/png": "[encoded data removed]",
      "text/plain": [
       "<Figure size 432x288 with 1 Axes>"
      ]
     },
     "metadata": {
      "needs_background": "light"
     },
     "output_type": "display_data"
    }
   ],
   "source": [
    "v.plot(kind = 'scatter', x = 'longitud', y = 'latitud', alpha = 0.4, \\\n",
    "      s = v.población/100, label = 'Población')  \n",
    "\n",
    "# s de size o tamaño del punto. \n",
    "plt.savefig('california_3D.jpg')\n",
    "\n",
    "plt.show() "
   ]
  },
  {
   "cell_type": "code",
   "execution_count": 13,
   "id": "42e66778",
   "metadata": {
    "scrolled": true,
    "slideshow": {
     "slide_type": "slide"
    }
   },
   "outputs": [
    {
     "data": {
      "image/png": "[encoded data removed]",
      "text/plain": [
       "<Figure size 864x576 with 2 Axes>"
      ]
     },
     "metadata": {
      "needs_background": "light"
     },
     "output_type": "display_data"
    }
   ],
   "source": [
    "v.plot(kind = 'scatter', x = 'longitud', y = 'latitud', alpha = 0.4, \\\n",
    "      s = v.población/100, label = 'Población', \\\n",
    "      c = 'precio', cmap = plt.get_cmap('jet'), colorbar = True, figsize = (12, 8))  \n",
    "\n",
    "# s de size o tamaño del punto. \n",
    "plt.savefig('california_4D.jpg')\n",
    "\n",
    "plt.show() "
   ]
  },
  {
   "cell_type": "code",
   "execution_count": 14,
   "id": "394c1e9b",
   "metadata": {
    "slideshow": {
     "slide_type": "slide"
    }
   },
   "outputs": [],
   "source": [
    "# extra code – code to save the figures as high-res PNGs for the book\n",
    "from pathlib import Path\n",
    "IMAGES_PATH = Path() / \"images\" / \"end_to_end_project\"\n",
    "IMAGES_PATH.mkdir(parents=True, exist_ok=True)\n",
    "\n",
    "def save_fig(fig_id, tight_layout=True, fig_extension=\"png\", resolution=300):\n",
    "    path = IMAGES_PATH / f\"{fig_id}.{fig_extension}\"\n",
    "    if tight_layout:\n",
    "        plt.tight_layout()\n",
    "    plt.savefig(path, format=fig_extension, dpi=resolution)"
   ]
  },
  {
   "cell_type": "code",
   "execution_count": 15,
   "id": "a0327331",
   "metadata": {
    "scrolled": false,
    "slideshow": {
     "slide_type": "slide"
    }
   },
   "outputs": [
    {
     "data": {
      "image/png": "[encoded data removed]",
      "text/plain": [
       "<Figure size 720x504 with 2 Axes>"
      ]
     },
     "metadata": {
      "needs_background": "light"
     },
     "output_type": "display_data"
    }
   ],
   "source": [
    "# Download the California image\n",
    "filename = \"california.png\"\n",
    "if not (IMAGES_PATH / filename).is_file():\n",
    "    homl3_root = \"https://github.com/ageron/handson-ml3/raw/main/\"\n",
    "    url = homl3_root + \"images/end_to_end_project/\" + filename\n",
    "    print(\"Downloading\", filename)\n",
    "    urllib.request.urlretrieve(url, IMAGES_PATH / filename)\n",
    "\n",
    "\n",
    "v.plot(kind=\"scatter\", x=\"longitud\", y=\"latitud\",\n",
    "             s=v[\"población\"] / 100, label=\"Población\",\n",
    "             c=\"precio\", cmap=\"jet\", colorbar=True,\n",
    "             legend=True, sharex=False, figsize=(10, 7))\n",
    "\n",
    "california_img = plt.imread(IMAGES_PATH / filename)\n",
    "axis = -124.55, -113.95, 32.45, 42.05\n",
    "plt.axis(axis)\n",
    "plt.imshow(california_img, extent=axis)\n",
    "\n",
    "save_fig(\"california_housing_prices_plot\")\n",
    "plt.show()"
   ]
  },
  {
   "cell_type": "markdown",
   "id": "e379ba6a",
   "metadata": {
    "slideshow": {
     "slide_type": "slide"
    }
   },
   "source": [
    "**Interpretación e inferencias del gráfico con el mapa**  \n",
    "\n",
    "* "
   ]
  },
  {
   "cell_type": "markdown",
   "id": "4ab26c5b",
   "metadata": {
    "slideshow": {
     "slide_type": "slide"
    }
   },
   "source": [
    "# 3. Preparar los datos para los algoritmos de aprendizaje."
   ]
  },
  {
   "cell_type": "markdown",
   "id": "bbb8da33",
   "metadata": {
    "slideshow": {
     "slide_type": "slide"
    }
   },
   "source": [
    "## Hacer separación inicial de datos para entrenar y para testear."
   ]
  },
  {
   "cell_type": "code",
   "execution_count": 16,
   "id": "9fda418f",
   "metadata": {
    "slideshow": {
     "slide_type": "slide"
    }
   },
   "outputs": [],
   "source": [
    "import numpy as np \n",
    "np.random.seed(42) \n",
    "# establecer una semilla aleatoria para hacer \n",
    "# reproducible la separación o muestreo aleatorio\n",
    "\n",
    "def dividir_entrenamiento_testeo(datos, porcentaje_testeo):\n",
    "    indices_reordenados = np.random.permutation(len(datos))\n",
    "    tamaño_conjunto_testeo = int(len(datos)*porcentaje_testeo)\n",
    "    indices_testeo = indices_reordenados[:tamaño_conjunto_testeo]\n",
    "    indices_entrenamiento = indices_reordenados[tamaño_conjunto_testeo:]\n",
    "    return datos.iloc[indices_entrenamiento], datos.iloc[indices_testeo]"
   ]
  },
  {
   "cell_type": "code",
   "execution_count": 17,
   "id": "11b1e642",
   "metadata": {
    "slideshow": {
     "slide_type": "slide"
    }
   },
   "outputs": [],
   "source": [
    "v_train, v_test = dividir_entrenamiento_testeo(v, 0.2)"
   ]
  },
  {
   "cell_type": "code",
   "execution_count": 18,
   "id": "50464f89",
   "metadata": {
    "slideshow": {
     "slide_type": "slide"
    }
   },
   "outputs": [
    {
     "data": {
      "text/plain": [
       "(16512, 4128)"
      ]
     },
     "execution_count": 18,
     "metadata": {},
     "output_type": "execute_result"
    }
   ],
   "source": [
    "len(v_train), len(v_test) "
   ]
  },
  {
   "cell_type": "code",
   "execution_count": 19,
   "id": "82dc8ce4",
   "metadata": {
    "slideshow": {
     "slide_type": "slide"
    }
   },
   "outputs": [
    {
     "data": {
      "text/plain": [
       "20640"
      ]
     },
     "execution_count": 19,
     "metadata": {},
     "output_type": "execute_result"
    }
   ],
   "source": [
    "len(v_train)+ len(v_test) "
   ]
  },
  {
   "cell_type": "code",
   "execution_count": 20,
   "id": "7e7f4948",
   "metadata": {
    "slideshow": {
     "slide_type": "slide"
    }
   },
   "outputs": [
    {
     "data": {
      "text/plain": [
       "4.0"
      ]
     },
     "execution_count": 20,
     "metadata": {},
     "output_type": "execute_result"
    }
   ],
   "source": [
    "len(v_train)/len(v_test) \n"
   ]
  },
  {
   "cell_type": "markdown",
   "id": "66afe329",
   "metadata": {
    "slideshow": {
     "slide_type": "slide"
    }
   },
   "source": [
    "# Separación del dataset en entrenamiento y testeo usando sklearn"
   ]
  },
  {
   "cell_type": "code",
   "execution_count": 21,
   "id": "f28d6016",
   "metadata": {
    "slideshow": {
     "slide_type": "slide"
    }
   },
   "outputs": [],
   "source": [
    "from sklearn.model_selection import train_test_split\n",
    "\n",
    "v_train, v_test = train_test_split(v, test_size = 0.2, random_state = 42)"
   ]
  },
  {
   "cell_type": "markdown",
   "id": "59f93928",
   "metadata": {
    "slideshow": {
     "slide_type": "slide"
    }
   },
   "source": [
    "De ahora en adelante se seguirá es procesando a los datos de entrenamiento"
   ]
  },
  {
   "cell_type": "markdown",
   "id": "f45838f6",
   "metadata": {
    "slideshow": {
     "slide_type": "slide"
    }
   },
   "source": [
    "## Limpiar datos y llenar datos faltantes."
   ]
  },
  {
   "cell_type": "code",
   "execution_count": 22,
   "id": "12d1f346",
   "metadata": {
    "slideshow": {
     "slide_type": "slide"
    }
   },
   "outputs": [],
   "source": [
    "mediana  = v.dormitorios.median() "
   ]
  },
  {
   "cell_type": "code",
   "execution_count": 23,
   "id": "0c121564",
   "metadata": {
    "slideshow": {
     "slide_type": "slide"
    }
   },
   "outputs": [
    {
     "data": {
      "text/plain": [
       "435.0"
      ]
     },
     "execution_count": 23,
     "metadata": {},
     "output_type": "execute_result"
    }
   ],
   "source": [
    "mediana "
   ]
  },
  {
   "cell_type": "code",
   "execution_count": 24,
   "id": "37b17ed2",
   "metadata": {
    "slideshow": {
     "slide_type": "slide"
    }
   },
   "outputs": [
    {
     "data": {
      "text/plain": [
       "0         129.0\n",
       "1        1106.0\n",
       "2         190.0\n",
       "3         235.0\n",
       "4         280.0\n",
       "          ...  \n",
       "20635     374.0\n",
       "20636     150.0\n",
       "20637     485.0\n",
       "20638     409.0\n",
       "20639     616.0\n",
       "Name: dormitorios, Length: 20640, dtype: float64"
      ]
     },
     "execution_count": 24,
     "metadata": {},
     "output_type": "execute_result"
    }
   ],
   "source": [
    "v.dormitorios.fillna(mediana)"
   ]
  },
  {
   "cell_type": "code",
   "execution_count": 25,
   "id": "9fd3e891",
   "metadata": {
    "slideshow": {
     "slide_type": "slide"
    }
   },
   "outputs": [
    {
     "data": {
      "text/plain": [
       "20640"
      ]
     },
     "execution_count": 25,
     "metadata": {},
     "output_type": "execute_result"
    }
   ],
   "source": [
    "len(pd.DataFrame(v.dormitorios.fillna(mediana)))"
   ]
  },
  {
   "cell_type": "markdown",
   "id": "1d194e06",
   "metadata": {
    "slideshow": {
     "slide_type": "slide"
    }
   },
   "source": [
    "# Imputación de datos faltantes"
   ]
  },
  {
   "cell_type": "code",
   "execution_count": 26,
   "id": "35cedf25",
   "metadata": {
    "slideshow": {
     "slide_type": "slide"
    }
   },
   "outputs": [],
   "source": [
    "from sklearn.impute import SimpleImputer"
   ]
  },
  {
   "cell_type": "code",
   "execution_count": 27,
   "id": "1cdbd3bc",
   "metadata": {
    "slideshow": {
     "slide_type": "slide"
    }
   },
   "outputs": [],
   "source": [
    "imputado = SimpleImputer(strategy = 'median') "
   ]
  },
  {
   "cell_type": "code",
   "execution_count": 28,
   "id": "615edebb",
   "metadata": {
    "slideshow": {
     "slide_type": "slide"
    }
   },
   "outputs": [],
   "source": [
    "v_num = v.drop(['proximidad'], axis = 1)"
   ]
  },
  {
   "cell_type": "code",
   "execution_count": 29,
   "id": "530c36b6",
   "metadata": {
    "slideshow": {
     "slide_type": "slide"
    }
   },
   "outputs": [
    {
     "data": {
      "text/plain": [
       "SimpleImputer(strategy='median')"
      ]
     },
     "execution_count": 29,
     "metadata": {},
     "output_type": "execute_result"
    }
   ],
   "source": [
    "imputado.fit(v_num)"
   ]
  },
  {
   "cell_type": "code",
   "execution_count": 30,
   "id": "4f2ba175",
   "metadata": {
    "slideshow": {
     "slide_type": "slide"
    }
   },
   "outputs": [],
   "source": [
    "X = imputado.fit_transform(v_num) "
   ]
  },
  {
   "cell_type": "code",
   "execution_count": 31,
   "id": "1ffe62e8",
   "metadata": {
    "slideshow": {
     "slide_type": "slide"
    }
   },
   "outputs": [],
   "source": [
    "v_num_imputado = pd.DataFrame(X,\\\n",
    "                     columns = v_num.columns, \\\n",
    "                     index = v_num.index) "
   ]
  },
  {
   "cell_type": "code",
   "execution_count": 32,
   "id": "a2e0b51a",
   "metadata": {
    "slideshow": {
     "slide_type": "slide"
    }
   },
   "outputs": [
    {
     "name": "stdout",
     "output_type": "stream",
     "text": [
      "<class 'pandas.core.frame.DataFrame'>\n",
      "RangeIndex: 20640 entries, 0 to 20639\n",
      "Data columns (total 9 columns):\n",
      " #   Column        Non-Null Count  Dtype  \n",
      "---  ------        --------------  -----  \n",
      " 0   longitud      20640 non-null  float64\n",
      " 1   latitud       20640 non-null  float64\n",
      " 2   antiguedad    20640 non-null  float64\n",
      " 3   habitaciones  20640 non-null  float64\n",
      " 4   dormitorios   20640 non-null  float64\n",
      " 5   población     20640 non-null  float64\n",
      " 6   hogares       20640 non-null  float64\n",
      " 7   ingresos      20640 non-null  float64\n",
      " 8   precio        20640 non-null  float64\n",
      "dtypes: float64(9)\n",
      "memory usage: 1.4 MB\n"
     ]
    }
   ],
   "source": [
    "v_num_imputado.info() "
   ]
  },
  {
   "cell_type": "markdown",
   "id": "1406ff73",
   "metadata": {
    "slideshow": {
     "slide_type": "slide"
    }
   },
   "source": [
    "# Explorar correlaciones lineales con la variable objetivo."
   ]
  },
  {
   "cell_type": "markdown",
   "id": "e2132753",
   "metadata": {
    "slideshow": {
     "slide_type": "slide"
    }
   },
   "source": [
    "<img src = 'https://upload.wikimedia.org/wikipedia/commons/thumb/d/d4/Correlation_examples2.svg/759px-Correlation_examples2.svg.png'>"
   ]
  },
  {
   "cell_type": "code",
   "execution_count": 33,
   "id": "a182f525",
   "metadata": {
    "slideshow": {
     "slide_type": "slide"
    }
   },
   "outputs": [
    {
     "data": {
      "text/html": [
       "<div>\n",
       "<style scoped>\n",
       "    .dataframe tbody tr th:only-of-type {\n",
       "        vertical-align: middle;\n",
       "    }\n",
       "\n",
       "    .dataframe tbody tr th {\n",
       "        vertical-align: top;\n",
       "    }\n",
       "\n",
       "    .dataframe thead th {\n",
       "        text-align: right;\n",
       "    }\n",
       "</style>\n",
       "<table border=\"1\" class=\"dataframe\">\n",
       "  <thead>\n",
       "    <tr style=\"text-align: right;\">\n",
       "      <th></th>\n",
       "      <th>longitud</th>\n",
       "      <th>latitud</th>\n",
       "      <th>antiguedad</th>\n",
       "      <th>habitaciones</th>\n",
       "      <th>dormitorios</th>\n",
       "      <th>población</th>\n",
       "      <th>hogares</th>\n",
       "      <th>ingresos</th>\n",
       "      <th>precio</th>\n",
       "    </tr>\n",
       "  </thead>\n",
       "  <tbody>\n",
       "    <tr>\n",
       "      <th>longitud</th>\n",
       "      <td>1.000000</td>\n",
       "      <td>-0.924664</td>\n",
       "      <td>-0.108197</td>\n",
       "      <td>0.044568</td>\n",
       "      <td>0.069608</td>\n",
       "      <td>0.099773</td>\n",
       "      <td>0.055310</td>\n",
       "      <td>-0.015176</td>\n",
       "      <td>-0.045967</td>\n",
       "    </tr>\n",
       "    <tr>\n",
       "      <th>latitud</th>\n",
       "      <td>-0.924664</td>\n",
       "      <td>1.000000</td>\n",
       "      <td>0.011173</td>\n",
       "      <td>-0.036100</td>\n",
       "      <td>-0.066983</td>\n",
       "      <td>-0.108785</td>\n",
       "      <td>-0.071035</td>\n",
       "      <td>-0.079809</td>\n",
       "      <td>-0.144160</td>\n",
       "    </tr>\n",
       "    <tr>\n",
       "      <th>antiguedad</th>\n",
       "      <td>-0.108197</td>\n",
       "      <td>0.011173</td>\n",
       "      <td>1.000000</td>\n",
       "      <td>-0.361262</td>\n",
       "      <td>-0.320451</td>\n",
       "      <td>-0.296244</td>\n",
       "      <td>-0.302916</td>\n",
       "      <td>-0.119034</td>\n",
       "      <td>0.105623</td>\n",
       "    </tr>\n",
       "    <tr>\n",
       "      <th>habitaciones</th>\n",
       "      <td>0.044568</td>\n",
       "      <td>-0.036100</td>\n",
       "      <td>-0.361262</td>\n",
       "      <td>1.000000</td>\n",
       "      <td>0.930380</td>\n",
       "      <td>0.857126</td>\n",
       "      <td>0.918484</td>\n",
       "      <td>0.198050</td>\n",
       "      <td>0.134153</td>\n",
       "    </tr>\n",
       "    <tr>\n",
       "      <th>dormitorios</th>\n",
       "      <td>0.069608</td>\n",
       "      <td>-0.066983</td>\n",
       "      <td>-0.320451</td>\n",
       "      <td>0.930380</td>\n",
       "      <td>1.000000</td>\n",
       "      <td>0.877747</td>\n",
       "      <td>0.979728</td>\n",
       "      <td>-0.007723</td>\n",
       "      <td>0.049686</td>\n",
       "    </tr>\n",
       "    <tr>\n",
       "      <th>población</th>\n",
       "      <td>0.099773</td>\n",
       "      <td>-0.108785</td>\n",
       "      <td>-0.296244</td>\n",
       "      <td>0.857126</td>\n",
       "      <td>0.877747</td>\n",
       "      <td>1.000000</td>\n",
       "      <td>0.907222</td>\n",
       "      <td>0.004834</td>\n",
       "      <td>-0.024650</td>\n",
       "    </tr>\n",
       "    <tr>\n",
       "      <th>hogares</th>\n",
       "      <td>0.055310</td>\n",
       "      <td>-0.071035</td>\n",
       "      <td>-0.302916</td>\n",
       "      <td>0.918484</td>\n",
       "      <td>0.979728</td>\n",
       "      <td>0.907222</td>\n",
       "      <td>1.000000</td>\n",
       "      <td>0.013033</td>\n",
       "      <td>0.065843</td>\n",
       "    </tr>\n",
       "    <tr>\n",
       "      <th>ingresos</th>\n",
       "      <td>-0.015176</td>\n",
       "      <td>-0.079809</td>\n",
       "      <td>-0.119034</td>\n",
       "      <td>0.198050</td>\n",
       "      <td>-0.007723</td>\n",
       "      <td>0.004834</td>\n",
       "      <td>0.013033</td>\n",
       "      <td>1.000000</td>\n",
       "      <td>0.688075</td>\n",
       "    </tr>\n",
       "    <tr>\n",
       "      <th>precio</th>\n",
       "      <td>-0.045967</td>\n",
       "      <td>-0.144160</td>\n",
       "      <td>0.105623</td>\n",
       "      <td>0.134153</td>\n",
       "      <td>0.049686</td>\n",
       "      <td>-0.024650</td>\n",
       "      <td>0.065843</td>\n",
       "      <td>0.688075</td>\n",
       "      <td>1.000000</td>\n",
       "    </tr>\n",
       "  </tbody>\n",
       "</table>\n",
       "</div>"
      ],
      "text/plain": [
       "              longitud   latitud  antiguedad  habitaciones  dormitorios  \\\n",
       "longitud      1.000000 -0.924664   -0.108197      0.044568     0.069608   \n",
       "latitud      -0.924664  1.000000    0.011173     -0.036100    -0.066983   \n",
       "antiguedad   -0.108197  0.011173    1.000000     -0.361262    -0.320451   \n",
       "habitaciones  0.044568 -0.036100   -0.361262      1.000000     0.930380   \n",
       "dormitorios   0.069608 -0.066983   -0.320451      0.930380     1.000000   \n",
       "población     0.099773 -0.108785   -0.296244      0.857126     0.877747   \n",
       "hogares       0.055310 -0.071035   -0.302916      0.918484     0.979728   \n",
       "ingresos     -0.015176 -0.079809   -0.119034      0.198050    -0.007723   \n",
       "precio       -0.045967 -0.144160    0.105623      0.134153     0.049686   \n",
       "\n",
       "              población   hogares  ingresos    precio  \n",
       "longitud       0.099773  0.055310 -0.015176 -0.045967  \n",
       "latitud       -0.108785 -0.071035 -0.079809 -0.144160  \n",
       "antiguedad    -0.296244 -0.302916 -0.119034  0.105623  \n",
       "habitaciones   0.857126  0.918484  0.198050  0.134153  \n",
       "dormitorios    0.877747  0.979728 -0.007723  0.049686  \n",
       "población      1.000000  0.907222  0.004834 -0.024650  \n",
       "hogares        0.907222  1.000000  0.013033  0.065843  \n",
       "ingresos       0.004834  0.013033  1.000000  0.688075  \n",
       "precio        -0.024650  0.065843  0.688075  1.000000  "
      ]
     },
     "execution_count": 33,
     "metadata": {},
     "output_type": "execute_result"
    }
   ],
   "source": [
    "v.corr() "
   ]
  },
  {
   "cell_type": "code",
   "execution_count": 34,
   "id": "5780c1c6",
   "metadata": {
    "slideshow": {
     "slide_type": "slide"
    }
   },
   "outputs": [
    {
     "data": {
      "text/plain": [
       "precio          1.000000\n",
       "ingresos        0.688075\n",
       "habitaciones    0.134153\n",
       "antiguedad      0.105623\n",
       "hogares         0.065843\n",
       "dormitorios     0.049686\n",
       "población      -0.024650\n",
       "longitud       -0.045967\n",
       "latitud        -0.144160\n",
       "Name: precio, dtype: float64"
      ]
     },
     "execution_count": 34,
     "metadata": {},
     "output_type": "execute_result"
    }
   ],
   "source": [
    "v.corr().precio.sort_values(ascending = False) "
   ]
  },
  {
   "cell_type": "code",
   "execution_count": 35,
   "id": "112b9e6a",
   "metadata": {
    "slideshow": {
     "slide_type": "slide"
    }
   },
   "outputs": [],
   "source": [
    "from pandas.plotting import scatter_matrix "
   ]
  },
  {
   "cell_type": "code",
   "execution_count": 66,
   "id": "4de03439",
   "metadata": {
    "slideshow": {
     "slide_type": "slide"
    }
   },
   "outputs": [
    {
     "data": {
      "image/png": "[encoded data removed]",
      "text/plain": [
       "<Figure size 432x288 with 1 Axes>"
      ]
     },
     "metadata": {
      "needs_background": "light"
     },
     "output_type": "display_data"
    },
    {
     "data": {
      "text/plain": [
       "dormitorios_por_habitacion   -0.255880\n",
       "latitud                      -0.144160\n",
       "longitud                     -0.045967\n",
       "población                    -0.024650\n",
       "población_por_hogar          -0.023737\n",
       "dormitorios                   0.049686\n",
       "hogares                       0.065843\n",
       "antiguedad                    0.105623\n",
       "habitaciones                  0.134153\n",
       "habitaciones_por_hogar        0.151948\n",
       "ingresos                      0.688075\n",
       "precio                        1.000000\n",
       "Name: precio, dtype: float64"
      ]
     },
     "execution_count": 66,
     "metadata": {},
     "output_type": "execute_result"
    }
   ],
   "source": [
    "import matplotlib.pyplot as plt\n",
    "\n",
    "v.plot(kind = 'scatter', x = 'dormitorios', y = 'precio')\n",
    "plt.show()\n",
    "v.corr().precio.sort_values()"
   ]
  },
  {
   "cell_type": "markdown",
   "id": "5c37d47e",
   "metadata": {
    "slideshow": {
     "slide_type": "slide"
    }
   },
   "source": [
    "# Eliminar de ser necesario atributos que no sean de mucha utilidad. Ingeniería de atributos."
   ]
  },
  {
   "cell_type": "markdown",
   "id": "ad7799c5",
   "metadata": {
    "slideshow": {
     "slide_type": "slide"
    }
   },
   "source": [
    "# Experimentación con combinación de atributos "
   ]
  },
  {
   "cell_type": "markdown",
   "id": "d99efa00",
   "metadata": {
    "slideshow": {
     "slide_type": "slide"
    }
   },
   "source": [
    "Una última cosa que quizás desee hacer antes de preparar los datos para los algoritmos de Machine Learning es probar varias combinaciones de atributos."
   ]
  },
  {
   "cell_type": "markdown",
   "id": "c003368d",
   "metadata": {
    "slideshow": {
     "slide_type": "slide"
    }
   },
   "source": [
    "Por ejemplo, el número total de habitaciones en un distrito no es muy útil si no sabe cuántos hogares hay. "
   ]
  },
  {
   "cell_type": "markdown",
   "id": "6b279404",
   "metadata": {
    "slideshow": {
     "slide_type": "slide"
    }
   },
   "source": [
    "Lo que realmente desea es el número de habitaciones por hogar. "
   ]
  },
  {
   "cell_type": "markdown",
   "id": "11efbaf5",
   "metadata": {
    "slideshow": {
     "slide_type": "slide"
    }
   },
   "source": [
    "Del mismo modo, el número total de dormitorios por sí solo no es muy útil: probablemente quieras compararlo con el número de habitaciones."
   ]
  },
  {
   "cell_type": "markdown",
   "id": "3092ec09",
   "metadata": {
    "slideshow": {
     "slide_type": "slide"
    }
   },
   "source": [
    "Y la población por hogar también parece una combinación de atributos interesante para observar."
   ]
  },
  {
   "cell_type": "markdown",
   "id": "e743c1b9",
   "metadata": {
    "slideshow": {
     "slide_type": "slide"
    }
   },
   "source": [
    "Vamos a crear estos nuevos atributos:"
   ]
  },
  {
   "cell_type": "code",
   "execution_count": 36,
   "id": "8ad283be",
   "metadata": {
    "slideshow": {
     "slide_type": "slide"
    }
   },
   "outputs": [
    {
     "data": {
      "text/html": [
       "<div>\n",
       "<style scoped>\n",
       "    .dataframe tbody tr th:only-of-type {\n",
       "        vertical-align: middle;\n",
       "    }\n",
       "\n",
       "    .dataframe tbody tr th {\n",
       "        vertical-align: top;\n",
       "    }\n",
       "\n",
       "    .dataframe thead th {\n",
       "        text-align: right;\n",
       "    }\n",
       "</style>\n",
       "<table border=\"1\" class=\"dataframe\">\n",
       "  <thead>\n",
       "    <tr style=\"text-align: right;\">\n",
       "      <th></th>\n",
       "      <th>longitud</th>\n",
       "      <th>latitud</th>\n",
       "      <th>antiguedad</th>\n",
       "      <th>habitaciones</th>\n",
       "      <th>dormitorios</th>\n",
       "      <th>población</th>\n",
       "      <th>hogares</th>\n",
       "      <th>ingresos</th>\n",
       "      <th>proximidad</th>\n",
       "      <th>precio</th>\n",
       "    </tr>\n",
       "  </thead>\n",
       "  <tbody>\n",
       "    <tr>\n",
       "      <th>0</th>\n",
       "      <td>-122.23</td>\n",
       "      <td>37.88</td>\n",
       "      <td>41.0</td>\n",
       "      <td>880.0</td>\n",
       "      <td>129.0</td>\n",
       "      <td>322.0</td>\n",
       "      <td>126.0</td>\n",
       "      <td>8.3252</td>\n",
       "      <td>NEAR BAY</td>\n",
       "      <td>452600.0</td>\n",
       "    </tr>\n",
       "  </tbody>\n",
       "</table>\n",
       "</div>"
      ],
      "text/plain": [
       "   longitud  latitud  antiguedad  habitaciones  dormitorios  población  \\\n",
       "0   -122.23    37.88        41.0         880.0        129.0      322.0   \n",
       "\n",
       "   hogares  ingresos proximidad    precio  \n",
       "0    126.0    8.3252   NEAR BAY  452600.0  "
      ]
     },
     "execution_count": 36,
     "metadata": {},
     "output_type": "execute_result"
    }
   ],
   "source": [
    "v.head(1)"
   ]
  },
  {
   "cell_type": "code",
   "execution_count": 37,
   "id": "dc1c3815",
   "metadata": {
    "slideshow": {
     "slide_type": "slide"
    }
   },
   "outputs": [],
   "source": [
    "v[\"habitaciones_por_hogar\"] = v[\"habitaciones\"]/v[\"hogares\"]"
   ]
  },
  {
   "cell_type": "code",
   "execution_count": 38,
   "id": "7f208756",
   "metadata": {
    "slideshow": {
     "slide_type": "slide"
    }
   },
   "outputs": [],
   "source": [
    "v[\"población_por_hogar\"] = v[\"población\"]/v[\"hogares\"] "
   ]
  },
  {
   "cell_type": "code",
   "execution_count": 39,
   "id": "8a009333",
   "metadata": {
    "slideshow": {
     "slide_type": "slide"
    }
   },
   "outputs": [],
   "source": [
    "v['dormitorios_por_habitacion'] = v.dormitorios/v.habitaciones"
   ]
  },
  {
   "cell_type": "code",
   "execution_count": 40,
   "id": "10cf9826",
   "metadata": {
    "slideshow": {
     "slide_type": "slide"
    }
   },
   "outputs": [
    {
     "data": {
      "text/plain": [
       "precio                        1.000000\n",
       "ingresos                      0.688075\n",
       "habitaciones_por_hogar        0.151948\n",
       "habitaciones                  0.134153\n",
       "antiguedad                    0.105623\n",
       "hogares                       0.065843\n",
       "dormitorios                   0.049686\n",
       "población_por_hogar          -0.023737\n",
       "población                    -0.024650\n",
       "longitud                     -0.045967\n",
       "latitud                      -0.144160\n",
       "dormitorios_por_habitacion   -0.255880\n",
       "Name: precio, dtype: float64"
      ]
     },
     "execution_count": 40,
     "metadata": {},
     "output_type": "execute_result"
    }
   ],
   "source": [
    "corr_matrix = v.corr()\n",
    "corr_matrix['precio'].sort_values(ascending=False)"
   ]
  },
  {
   "cell_type": "markdown",
   "id": "14667cba",
   "metadata": {
    "slideshow": {
     "slide_type": "slide"
    }
   },
   "source": [
    "# Codificar de datos categóricos"
   ]
  },
  {
   "cell_type": "code",
   "execution_count": 7,
   "id": "6c161c5c",
   "metadata": {
    "slideshow": {
     "slide_type": "slide"
    }
   },
   "outputs": [],
   "source": [
    "v_cat = v[['proximidad']] \n",
    "# Recuerde que la clase OrdinalEncoder exige que el atributo categórico se entregue \n",
    "#en la forma de arreglo 2D"
   ]
  },
  {
   "cell_type": "code",
   "execution_count": 8,
   "id": "89daf34d",
   "metadata": {
    "slideshow": {
     "slide_type": "slide"
    }
   },
   "outputs": [
    {
     "data": {
      "text/plain": [
       "proximidad\n",
       "<1H OCEAN     9136\n",
       "INLAND        6551\n",
       "NEAR OCEAN    2658\n",
       "NEAR BAY      2290\n",
       "ISLAND           5\n",
       "dtype: int64"
      ]
     },
     "execution_count": 8,
     "metadata": {},
     "output_type": "execute_result"
    }
   ],
   "source": [
    "v_cat.value_counts()"
   ]
  },
  {
   "cell_type": "code",
   "execution_count": 9,
   "id": "098aaa03",
   "metadata": {
    "slideshow": {
     "slide_type": "slide"
    }
   },
   "outputs": [],
   "source": [
    "from sklearn.preprocessing  import OrdinalEncoder "
   ]
  },
  {
   "cell_type": "code",
   "execution_count": 10,
   "id": "c454c6d6",
   "metadata": {
    "slideshow": {
     "slide_type": "slide"
    }
   },
   "outputs": [],
   "source": [
    "ordinal_encoder = OrdinalEncoder()"
   ]
  },
  {
   "cell_type": "code",
   "execution_count": 12,
   "id": "072a7b20",
   "metadata": {
    "slideshow": {
     "slide_type": "slide"
    }
   },
   "outputs": [],
   "source": [
    "v_cat_codificado = ordinal_encoder.fit_transform(v_cat) "
   ]
  },
  {
   "cell_type": "code",
   "execution_count": 14,
   "id": "957c6e74",
   "metadata": {},
   "outputs": [
    {
     "data": {
      "text/plain": [
       "array([[3.],\n",
       "       [3.],\n",
       "       [3.],\n",
       "       ...,\n",
       "       [1.],\n",
       "       [1.],\n",
       "       [1.]])"
      ]
     },
     "execution_count": 14,
     "metadata": {},
     "output_type": "execute_result"
    }
   ],
   "source": [
    "v_cat_codificado"
   ]
  },
  {
   "cell_type": "code",
   "execution_count": 15,
   "id": "e7b68b1e",
   "metadata": {},
   "outputs": [
    {
     "data": {
      "text/plain": [
       "numpy.ndarray"
      ]
     },
     "execution_count": 15,
     "metadata": {},
     "output_type": "execute_result"
    }
   ],
   "source": [
    "type(v_cat_codificado)"
   ]
  },
  {
   "cell_type": "markdown",
   "id": "c089a632",
   "metadata": {},
   "source": [
    "## Recuperación del DataFrame "
   ]
  },
  {
   "cell_type": "code",
   "execution_count": 17,
   "id": "5e679fe0",
   "metadata": {
    "slideshow": {
     "slide_type": "slide"
    }
   },
   "outputs": [],
   "source": [
    "v_cat_codificado_df = pd.DataFrame(v_cat_codificado, columns = ['Proximidad al acéano'])"
   ]
  },
  {
   "cell_type": "code",
   "execution_count": 18,
   "id": "3e5db98f",
   "metadata": {
    "scrolled": true
   },
   "outputs": [
    {
     "data": {
      "text/html": [
       "<div>\n",
       "<style scoped>\n",
       "    .dataframe tbody tr th:only-of-type {\n",
       "        vertical-align: middle;\n",
       "    }\n",
       "\n",
       "    .dataframe tbody tr th {\n",
       "        vertical-align: top;\n",
       "    }\n",
       "\n",
       "    .dataframe thead th {\n",
       "        text-align: right;\n",
       "    }\n",
       "</style>\n",
       "<table border=\"1\" class=\"dataframe\">\n",
       "  <thead>\n",
       "    <tr style=\"text-align: right;\">\n",
       "      <th></th>\n",
       "      <th>Proximidad al acéano</th>\n",
       "    </tr>\n",
       "  </thead>\n",
       "  <tbody>\n",
       "    <tr>\n",
       "      <th>0</th>\n",
       "      <td>3.0</td>\n",
       "    </tr>\n",
       "    <tr>\n",
       "      <th>1</th>\n",
       "      <td>3.0</td>\n",
       "    </tr>\n",
       "    <tr>\n",
       "      <th>2</th>\n",
       "      <td>3.0</td>\n",
       "    </tr>\n",
       "    <tr>\n",
       "      <th>3</th>\n",
       "      <td>3.0</td>\n",
       "    </tr>\n",
       "    <tr>\n",
       "      <th>4</th>\n",
       "      <td>3.0</td>\n",
       "    </tr>\n",
       "    <tr>\n",
       "      <th>...</th>\n",
       "      <td>...</td>\n",
       "    </tr>\n",
       "    <tr>\n",
       "      <th>20635</th>\n",
       "      <td>1.0</td>\n",
       "    </tr>\n",
       "    <tr>\n",
       "      <th>20636</th>\n",
       "      <td>1.0</td>\n",
       "    </tr>\n",
       "    <tr>\n",
       "      <th>20637</th>\n",
       "      <td>1.0</td>\n",
       "    </tr>\n",
       "    <tr>\n",
       "      <th>20638</th>\n",
       "      <td>1.0</td>\n",
       "    </tr>\n",
       "    <tr>\n",
       "      <th>20639</th>\n",
       "      <td>1.0</td>\n",
       "    </tr>\n",
       "  </tbody>\n",
       "</table>\n",
       "<p>20640 rows × 1 columns</p>\n",
       "</div>"
      ],
      "text/plain": [
       "       Proximidad al acéano\n",
       "0                       3.0\n",
       "1                       3.0\n",
       "2                       3.0\n",
       "3                       3.0\n",
       "4                       3.0\n",
       "...                     ...\n",
       "20635                   1.0\n",
       "20636                   1.0\n",
       "20637                   1.0\n",
       "20638                   1.0\n",
       "20639                   1.0\n",
       "\n",
       "[20640 rows x 1 columns]"
      ]
     },
     "execution_count": 18,
     "metadata": {},
     "output_type": "execute_result"
    }
   ],
   "source": [
    "v_cat_codificado_df"
   ]
  },
  {
   "cell_type": "code",
   "execution_count": 20,
   "id": "6b1118ba",
   "metadata": {
    "slideshow": {
     "slide_type": "slide"
    }
   },
   "outputs": [
    {
     "data": {
      "text/plain": [
       "Proximidad al acéano\n",
       "0.0                     9136\n",
       "1.0                     6551\n",
       "4.0                     2658\n",
       "3.0                     2290\n",
       "2.0                        5\n",
       "dtype: int64"
      ]
     },
     "execution_count": 20,
     "metadata": {},
     "output_type": "execute_result"
    }
   ],
   "source": [
    "v_cat_codificado_df.value_counts() "
   ]
  },
  {
   "cell_type": "markdown",
   "id": "b29a00b7",
   "metadata": {
    "slideshow": {
     "slide_type": "slide"
    }
   },
   "source": [
    "Así no me sirve la codificación porque a las subcategorías de estar a menos de una hora al oceano y estar cerca al oceano las codificó con 0 y 4, respectivamente y estos números son muy distantes y estas subcategorías en cuanto al precio de vivienda son muy cercanas. \n",
    "\n",
    "Entonces esta codificación no es apropiada pues sata variable categórica no es ordinal, es nominal y por tanto la coficación apropiada para ella es OneHot"
   ]
  },
  {
   "cell_type": "code",
   "execution_count": 13,
   "id": "93727d51",
   "metadata": {
    "slideshow": {
     "slide_type": "slide"
    }
   },
   "outputs": [
    {
     "data": {
      "text/plain": [
       "array([[3.],\n",
       "       [3.],\n",
       "       [3.],\n",
       "       [3.],\n",
       "       [3.],\n",
       "       [3.],\n",
       "       [3.],\n",
       "       [3.],\n",
       "       [3.],\n",
       "       [3.]])"
      ]
     },
     "execution_count": 13,
     "metadata": {},
     "output_type": "execute_result"
    }
   ],
   "source": [
    "v_cat_codificado[:10] "
   ]
  },
  {
   "cell_type": "markdown",
   "id": "b1f9599c",
   "metadata": {
    "slideshow": {
     "slide_type": "slide"
    }
   },
   "source": [
    "# Codificación OneHot para la variable categórica nominal de proximidad al oceano"
   ]
  },
  {
   "cell_type": "code",
   "execution_count": 34,
   "id": "02ed685a",
   "metadata": {
    "slideshow": {
     "slide_type": "slide"
    }
   },
   "outputs": [
    {
     "data": {
      "text/html": [
       "<div>\n",
       "<style scoped>\n",
       "    .dataframe tbody tr th:only-of-type {\n",
       "        vertical-align: middle;\n",
       "    }\n",
       "\n",
       "    .dataframe tbody tr th {\n",
       "        vertical-align: top;\n",
       "    }\n",
       "\n",
       "    .dataframe thead th {\n",
       "        text-align: right;\n",
       "    }\n",
       "</style>\n",
       "<table border=\"1\" class=\"dataframe\">\n",
       "  <thead>\n",
       "    <tr style=\"text-align: right;\">\n",
       "      <th></th>\n",
       "      <th>&lt;1H OCEAN</th>\n",
       "      <th>INLAND</th>\n",
       "      <th>ISLAND</th>\n",
       "      <th>NEAR BAY</th>\n",
       "      <th>NEAR OCEAN</th>\n",
       "    </tr>\n",
       "  </thead>\n",
       "  <tbody>\n",
       "    <tr>\n",
       "      <th>0</th>\n",
       "      <td>0.0</td>\n",
       "      <td>0.0</td>\n",
       "      <td>0.0</td>\n",
       "      <td>1.0</td>\n",
       "      <td>0.0</td>\n",
       "    </tr>\n",
       "    <tr>\n",
       "      <th>1</th>\n",
       "      <td>0.0</td>\n",
       "      <td>0.0</td>\n",
       "      <td>0.0</td>\n",
       "      <td>1.0</td>\n",
       "      <td>0.0</td>\n",
       "    </tr>\n",
       "    <tr>\n",
       "      <th>2</th>\n",
       "      <td>0.0</td>\n",
       "      <td>0.0</td>\n",
       "      <td>0.0</td>\n",
       "      <td>1.0</td>\n",
       "      <td>0.0</td>\n",
       "    </tr>\n",
       "    <tr>\n",
       "      <th>3</th>\n",
       "      <td>0.0</td>\n",
       "      <td>0.0</td>\n",
       "      <td>0.0</td>\n",
       "      <td>1.0</td>\n",
       "      <td>0.0</td>\n",
       "    </tr>\n",
       "    <tr>\n",
       "      <th>4</th>\n",
       "      <td>0.0</td>\n",
       "      <td>0.0</td>\n",
       "      <td>0.0</td>\n",
       "      <td>1.0</td>\n",
       "      <td>0.0</td>\n",
       "    </tr>\n",
       "    <tr>\n",
       "      <th>...</th>\n",
       "      <td>...</td>\n",
       "      <td>...</td>\n",
       "      <td>...</td>\n",
       "      <td>...</td>\n",
       "      <td>...</td>\n",
       "    </tr>\n",
       "    <tr>\n",
       "      <th>20635</th>\n",
       "      <td>0.0</td>\n",
       "      <td>1.0</td>\n",
       "      <td>0.0</td>\n",
       "      <td>0.0</td>\n",
       "      <td>0.0</td>\n",
       "    </tr>\n",
       "    <tr>\n",
       "      <th>20636</th>\n",
       "      <td>0.0</td>\n",
       "      <td>1.0</td>\n",
       "      <td>0.0</td>\n",
       "      <td>0.0</td>\n",
       "      <td>0.0</td>\n",
       "    </tr>\n",
       "    <tr>\n",
       "      <th>20637</th>\n",
       "      <td>0.0</td>\n",
       "      <td>1.0</td>\n",
       "      <td>0.0</td>\n",
       "      <td>0.0</td>\n",
       "      <td>0.0</td>\n",
       "    </tr>\n",
       "    <tr>\n",
       "      <th>20638</th>\n",
       "      <td>0.0</td>\n",
       "      <td>1.0</td>\n",
       "      <td>0.0</td>\n",
       "      <td>0.0</td>\n",
       "      <td>0.0</td>\n",
       "    </tr>\n",
       "    <tr>\n",
       "      <th>20639</th>\n",
       "      <td>0.0</td>\n",
       "      <td>1.0</td>\n",
       "      <td>0.0</td>\n",
       "      <td>0.0</td>\n",
       "      <td>0.0</td>\n",
       "    </tr>\n",
       "  </tbody>\n",
       "</table>\n",
       "<p>20640 rows × 5 columns</p>\n",
       "</div>"
      ],
      "text/plain": [
       "       <1H OCEAN  INLAND  ISLAND  NEAR BAY  NEAR OCEAN\n",
       "0            0.0     0.0     0.0       1.0         0.0\n",
       "1            0.0     0.0     0.0       1.0         0.0\n",
       "2            0.0     0.0     0.0       1.0         0.0\n",
       "3            0.0     0.0     0.0       1.0         0.0\n",
       "4            0.0     0.0     0.0       1.0         0.0\n",
       "...          ...     ...     ...       ...         ...\n",
       "20635        0.0     1.0     0.0       0.0         0.0\n",
       "20636        0.0     1.0     0.0       0.0         0.0\n",
       "20637        0.0     1.0     0.0       0.0         0.0\n",
       "20638        0.0     1.0     0.0       0.0         0.0\n",
       "20639        0.0     1.0     0.0       0.0         0.0\n",
       "\n",
       "[20640 rows x 5 columns]"
      ]
     },
     "execution_count": 34,
     "metadata": {},
     "output_type": "execute_result"
    }
   ],
   "source": [
    "from sklearn.preprocessing import OneHotEncoder  # esta herramienta sirve para codificar variables catagóricas nominales\n",
    "codificador_onehot = OneHotEncoder() # en esta línea esta instanciando la clase OneHot\n",
    "v_cat_codificado_onehot = codificador_onehot.fit_transform(v_cat)\n",
    "a = v_cat_codificado_onehot.toarray() \n",
    "codificador_onehot.categories_\n",
    "v_cat_codificado_onehot_df = pd.DataFrame(a, columns = ['<1H OCEAN', 'INLAND', 'ISLAND', 'NEAR BAY', 'NEAR OCEAN']) \n",
    "v_cat_codificado_onehot_df "
   ]
  },
  {
   "cell_type": "markdown",
   "id": "234868e7",
   "metadata": {
    "slideshow": {
     "slide_type": "slide"
    }
   },
   "source": [
    "Inferencias e interpretaciones\n",
    "\n",
    "* Ganamos con la metodología de codificación OneHot el que subcategorías cercanas no fueran corificadas con números lejanos.\n",
    "* Pero perdimos porque con más columnas en el dataset los algoritmos de machine learning se demoran más en constituir el modelo predictivo. \n"
   ]
  },
  {
   "cell_type": "markdown",
   "id": "f3420140",
   "metadata": {
    "slideshow": {
     "slide_type": "slide"
    }
   },
   "source": [
    "# Transformadores personalizados"
   ]
  },
  {
   "cell_type": "markdown",
   "id": "aa765e9d",
   "metadata": {
    "slideshow": {
     "slide_type": "slide"
    }
   },
   "source": [
    "Aunque Scikit-Learn proporciona muchos transformadores útiles, deberá escribir los suyos propios para tareas como operaciones de limpieza personalizadas o combinación de atributos específicos."
   ]
  },
  {
   "cell_type": "markdown",
   "id": "96cd2484",
   "metadata": {
    "slideshow": {
     "slide_type": "slide"
    }
   },
   "source": [
    "Querrá que su transformador funcione a la perfección con las funcionalidades de Scikit-Learn (como las canalizaciones), y dado que Scikit-Learn se basa en la tipificación pato (no en la herencia), todo lo que necesita hacer es crear una clase e implementar tres métodos:  \n",
    "\n",
    "* `fit()` (retornando a sí mismo),\n",
    "* `transform()`, y\n",
    "* `fit_transform()`."
   ]
  },
  {
   "cell_type": "markdown",
   "id": "0dc608eb",
   "metadata": {
    "slideshow": {
     "slide_type": "slide"
    }
   },
   "source": [
    "Puede obtener el último de forma gratuita simplemente agregando `TransformerMixin` como clase base."
   ]
  },
  {
   "cell_type": "markdown",
   "id": "d7e4802a",
   "metadata": {
    "slideshow": {
     "slide_type": "slide"
    }
   },
   "source": [
    "Si agrega `BaseEstimator` como clase base (y evita `*args` y `**kargs` en su constructor), también obtendrá dos métodos adicionales (`get_params()` y `set_params()`) que ser útil para el ajuste automático de hiperparámetros."
   ]
  },
  {
   "cell_type": "markdown",
   "id": "7ded3192",
   "metadata": {
    "slideshow": {
     "slide_type": "slide"
    }
   },
   "source": [
    "Por ejemplo, aquí hay una pequeña clase de transformador que agrega los atributos combinados que discutimos anteriormente:"
   ]
  },
  {
   "cell_type": "code",
   "execution_count": 47,
   "id": "457d2e27",
   "metadata": {
    "slideshow": {
     "slide_type": "slide"
    }
   },
   "outputs": [],
   "source": [
    "from sklearn.base import BaseEstimator, TransformerMixin"
   ]
  },
  {
   "cell_type": "code",
   "execution_count": 48,
   "id": "52d0a8bc",
   "metadata": {
    "slideshow": {
     "slide_type": "slide"
    }
   },
   "outputs": [],
   "source": [
    "rooms_ix, bedrooms_ix, population_ix, households_ix = 3, 4, 5, 6"
   ]
  },
  {
   "cell_type": "code",
   "execution_count": 49,
   "id": "f94fb1a3",
   "metadata": {
    "slideshow": {
     "slide_type": "slide"
    }
   },
   "outputs": [],
   "source": [
    "class CombinedAttributesAdder(BaseEstimator, TransformerMixin):\n",
    "    def __init__(self, add_bedrooms_per_room = True): # no *args or **kargs\n",
    "         self.add_bedrooms_per_room = add_bedrooms_per_room\n",
    "    def fit(self, X, y=None):\n",
    "        return self               # nothing else to do\n",
    "    def transform(self, X, y=None):\n",
    "        rooms_per_household = X[:, rooms_ix] / X[:, households_ix]\n",
    "        population_per_household = X[:, population_ix] / X[:, households_ix]\n",
    "        if self.add_bedrooms_per_room:\n",
    "            bedrooms_per_room = X[:, bedrooms_ix] / X[:, rooms_ix]\n",
    "            return np.c_[X, rooms_per_household, population_per_household, bedrooms_per_room]\n",
    "        else:\n",
    "            return np.c_[X, rooms_per_household, population_per_household]"
   ]
  },
  {
   "cell_type": "code",
   "execution_count": 50,
   "id": "8deb82b8",
   "metadata": {
    "slideshow": {
     "slide_type": "slide"
    }
   },
   "outputs": [],
   "source": [
    "attr_adder = CombinedAttributesAdder(add_bedrooms_per_room=False)"
   ]
  },
  {
   "cell_type": "code",
   "execution_count": 51,
   "id": "f1732e9a",
   "metadata": {
    "slideshow": {
     "slide_type": "slide"
    }
   },
   "outputs": [],
   "source": [
    "v_extra_attribs = attr_adder.transform(v_train.values)"
   ]
  },
  {
   "cell_type": "code",
   "execution_count": 52,
   "id": "49167123",
   "metadata": {
    "slideshow": {
     "slide_type": "slide"
    }
   },
   "outputs": [],
   "source": [
    "v_extra_attribs_df = pd.DataFrame(v_extra_attribs, \\\n",
    "                                  columns = list(v_train.columns) + ['habitaciones_por_hogar', 'población_por_hogar'],\\\n",
    "                                 index = v_train.index)"
   ]
  },
  {
   "cell_type": "code",
   "execution_count": 53,
   "id": "d27c0531",
   "metadata": {
    "slideshow": {
     "slide_type": "slide"
    }
   },
   "outputs": [
    {
     "data": {
      "text/html": [
       "<div>\n",
       "<style scoped>\n",
       "    .dataframe tbody tr th:only-of-type {\n",
       "        vertical-align: middle;\n",
       "    }\n",
       "\n",
       "    .dataframe tbody tr th {\n",
       "        vertical-align: top;\n",
       "    }\n",
       "\n",
       "    .dataframe thead th {\n",
       "        text-align: right;\n",
       "    }\n",
       "</style>\n",
       "<table border=\"1\" class=\"dataframe\">\n",
       "  <thead>\n",
       "    <tr style=\"text-align: right;\">\n",
       "      <th></th>\n",
       "      <th>longitud</th>\n",
       "      <th>latitud</th>\n",
       "      <th>antiguedad</th>\n",
       "      <th>habitaciones</th>\n",
       "      <th>dormitorios</th>\n",
       "      <th>población</th>\n",
       "      <th>hogares</th>\n",
       "      <th>ingresos</th>\n",
       "      <th>proximidad</th>\n",
       "      <th>precio</th>\n",
       "      <th>habitaciones_por_hogar</th>\n",
       "      <th>población_por_hogar</th>\n",
       "    </tr>\n",
       "  </thead>\n",
       "  <tbody>\n",
       "    <tr>\n",
       "      <th>14196</th>\n",
       "      <td>-117.03</td>\n",
       "      <td>32.71</td>\n",
       "      <td>33.0</td>\n",
       "      <td>3126.0</td>\n",
       "      <td>627.0</td>\n",
       "      <td>2300.0</td>\n",
       "      <td>623.0</td>\n",
       "      <td>3.2596</td>\n",
       "      <td>NEAR OCEAN</td>\n",
       "      <td>103000.0</td>\n",
       "      <td>5.017657</td>\n",
       "      <td>3.691814</td>\n",
       "    </tr>\n",
       "    <tr>\n",
       "      <th>8267</th>\n",
       "      <td>-118.16</td>\n",
       "      <td>33.77</td>\n",
       "      <td>49.0</td>\n",
       "      <td>3382.0</td>\n",
       "      <td>787.0</td>\n",
       "      <td>1314.0</td>\n",
       "      <td>756.0</td>\n",
       "      <td>3.8125</td>\n",
       "      <td>NEAR OCEAN</td>\n",
       "      <td>382100.0</td>\n",
       "      <td>4.473545</td>\n",
       "      <td>1.738095</td>\n",
       "    </tr>\n",
       "    <tr>\n",
       "      <th>17445</th>\n",
       "      <td>-120.48</td>\n",
       "      <td>34.66</td>\n",
       "      <td>4.0</td>\n",
       "      <td>1897.0</td>\n",
       "      <td>331.0</td>\n",
       "      <td>915.0</td>\n",
       "      <td>336.0</td>\n",
       "      <td>4.1563</td>\n",
       "      <td>NEAR OCEAN</td>\n",
       "      <td>172600.0</td>\n",
       "      <td>5.645833</td>\n",
       "      <td>2.723214</td>\n",
       "    </tr>\n",
       "    <tr>\n",
       "      <th>14265</th>\n",
       "      <td>-117.11</td>\n",
       "      <td>32.69</td>\n",
       "      <td>36.0</td>\n",
       "      <td>1421.0</td>\n",
       "      <td>367.0</td>\n",
       "      <td>1418.0</td>\n",
       "      <td>355.0</td>\n",
       "      <td>1.9425</td>\n",
       "      <td>NEAR OCEAN</td>\n",
       "      <td>93400.0</td>\n",
       "      <td>4.002817</td>\n",
       "      <td>3.994366</td>\n",
       "    </tr>\n",
       "    <tr>\n",
       "      <th>2271</th>\n",
       "      <td>-119.8</td>\n",
       "      <td>36.78</td>\n",
       "      <td>43.0</td>\n",
       "      <td>2382.0</td>\n",
       "      <td>431.0</td>\n",
       "      <td>874.0</td>\n",
       "      <td>380.0</td>\n",
       "      <td>3.5542</td>\n",
       "      <td>INLAND</td>\n",
       "      <td>96500.0</td>\n",
       "      <td>6.268421</td>\n",
       "      <td>2.3</td>\n",
       "    </tr>\n",
       "    <tr>\n",
       "      <th>...</th>\n",
       "      <td>...</td>\n",
       "      <td>...</td>\n",
       "      <td>...</td>\n",
       "      <td>...</td>\n",
       "      <td>...</td>\n",
       "      <td>...</td>\n",
       "      <td>...</td>\n",
       "      <td>...</td>\n",
       "      <td>...</td>\n",
       "      <td>...</td>\n",
       "      <td>...</td>\n",
       "      <td>...</td>\n",
       "    </tr>\n",
       "    <tr>\n",
       "      <th>11284</th>\n",
       "      <td>-117.96</td>\n",
       "      <td>33.78</td>\n",
       "      <td>35.0</td>\n",
       "      <td>1330.0</td>\n",
       "      <td>201.0</td>\n",
       "      <td>658.0</td>\n",
       "      <td>217.0</td>\n",
       "      <td>6.37</td>\n",
       "      <td>&lt;1H OCEAN</td>\n",
       "      <td>229200.0</td>\n",
       "      <td>6.129032</td>\n",
       "      <td>3.032258</td>\n",
       "    </tr>\n",
       "    <tr>\n",
       "      <th>11964</th>\n",
       "      <td>-117.43</td>\n",
       "      <td>34.02</td>\n",
       "      <td>33.0</td>\n",
       "      <td>3084.0</td>\n",
       "      <td>570.0</td>\n",
       "      <td>1753.0</td>\n",
       "      <td>449.0</td>\n",
       "      <td>3.05</td>\n",
       "      <td>INLAND</td>\n",
       "      <td>97800.0</td>\n",
       "      <td>6.868597</td>\n",
       "      <td>3.904232</td>\n",
       "    </tr>\n",
       "    <tr>\n",
       "      <th>5390</th>\n",
       "      <td>-118.38</td>\n",
       "      <td>34.03</td>\n",
       "      <td>36.0</td>\n",
       "      <td>2101.0</td>\n",
       "      <td>569.0</td>\n",
       "      <td>1756.0</td>\n",
       "      <td>527.0</td>\n",
       "      <td>2.9344</td>\n",
       "      <td>&lt;1H OCEAN</td>\n",
       "      <td>222100.0</td>\n",
       "      <td>3.986717</td>\n",
       "      <td>3.332068</td>\n",
       "    </tr>\n",
       "    <tr>\n",
       "      <th>860</th>\n",
       "      <td>-121.96</td>\n",
       "      <td>37.58</td>\n",
       "      <td>15.0</td>\n",
       "      <td>3575.0</td>\n",
       "      <td>597.0</td>\n",
       "      <td>1777.0</td>\n",
       "      <td>559.0</td>\n",
       "      <td>5.7192</td>\n",
       "      <td>&lt;1H OCEAN</td>\n",
       "      <td>283500.0</td>\n",
       "      <td>6.395349</td>\n",
       "      <td>3.178891</td>\n",
       "    </tr>\n",
       "    <tr>\n",
       "      <th>15795</th>\n",
       "      <td>-122.42</td>\n",
       "      <td>37.77</td>\n",
       "      <td>52.0</td>\n",
       "      <td>4226.0</td>\n",
       "      <td>1315.0</td>\n",
       "      <td>2619.0</td>\n",
       "      <td>1242.0</td>\n",
       "      <td>2.5755</td>\n",
       "      <td>NEAR BAY</td>\n",
       "      <td>325000.0</td>\n",
       "      <td>3.402576</td>\n",
       "      <td>2.108696</td>\n",
       "    </tr>\n",
       "  </tbody>\n",
       "</table>\n",
       "<p>16512 rows × 12 columns</p>\n",
       "</div>"
      ],
      "text/plain": [
       "      longitud latitud antiguedad habitaciones dormitorios población hogares  \\\n",
       "14196  -117.03   32.71       33.0       3126.0       627.0    2300.0   623.0   \n",
       "8267   -118.16   33.77       49.0       3382.0       787.0    1314.0   756.0   \n",
       "17445  -120.48   34.66        4.0       1897.0       331.0     915.0   336.0   \n",
       "14265  -117.11   32.69       36.0       1421.0       367.0    1418.0   355.0   \n",
       "2271    -119.8   36.78       43.0       2382.0       431.0     874.0   380.0   \n",
       "...        ...     ...        ...          ...         ...       ...     ...   \n",
       "11284  -117.96   33.78       35.0       1330.0       201.0     658.0   217.0   \n",
       "11964  -117.43   34.02       33.0       3084.0       570.0    1753.0   449.0   \n",
       "5390   -118.38   34.03       36.0       2101.0       569.0    1756.0   527.0   \n",
       "860    -121.96   37.58       15.0       3575.0       597.0    1777.0   559.0   \n",
       "15795  -122.42   37.77       52.0       4226.0      1315.0    2619.0  1242.0   \n",
       "\n",
       "      ingresos  proximidad    precio habitaciones_por_hogar  \\\n",
       "14196   3.2596  NEAR OCEAN  103000.0               5.017657   \n",
       "8267    3.8125  NEAR OCEAN  382100.0               4.473545   \n",
       "17445   4.1563  NEAR OCEAN  172600.0               5.645833   \n",
       "14265   1.9425  NEAR OCEAN   93400.0               4.002817   \n",
       "2271    3.5542      INLAND   96500.0               6.268421   \n",
       "...        ...         ...       ...                    ...   \n",
       "11284     6.37   <1H OCEAN  229200.0               6.129032   \n",
       "11964     3.05      INLAND   97800.0               6.868597   \n",
       "5390    2.9344   <1H OCEAN  222100.0               3.986717   \n",
       "860     5.7192   <1H OCEAN  283500.0               6.395349   \n",
       "15795   2.5755    NEAR BAY  325000.0               3.402576   \n",
       "\n",
       "      población_por_hogar  \n",
       "14196            3.691814  \n",
       "8267             1.738095  \n",
       "17445            2.723214  \n",
       "14265            3.994366  \n",
       "2271                  2.3  \n",
       "...                   ...  \n",
       "11284            3.032258  \n",
       "11964            3.904232  \n",
       "5390             3.332068  \n",
       "860              3.178891  \n",
       "15795            2.108696  \n",
       "\n",
       "[16512 rows x 12 columns]"
      ]
     },
     "execution_count": 53,
     "metadata": {},
     "output_type": "execute_result"
    }
   ],
   "source": [
    "v_extra_attribs_df"
   ]
  },
  {
   "cell_type": "markdown",
   "id": "d52df997",
   "metadata": {
    "slideshow": {
     "slide_type": "slide"
    }
   },
   "source": [
    "En este ejemplo, el transformador tiene un hiperparámetro, `add_bedrooms_per_room`, establecido en True de forma predeterminada (a menudo es útil proporcionar valores predeterminados sensibles)."
   ]
  },
  {
   "cell_type": "markdown",
   "id": "09fee2bd",
   "metadata": {
    "slideshow": {
     "slide_type": "slide"
    }
   },
   "source": [
    "Este hiperparámetro le permitirá averiguar fácilmente si agregar este atributo ayuda o no a los algoritmos de Machine Learning."
   ]
  },
  {
   "cell_type": "markdown",
   "id": "6e0e8e20",
   "metadata": {
    "slideshow": {
     "slide_type": "slide"
    }
   },
   "source": [
    "En términos más generales, puede agregar un hiperparámetro para controlar cualquier paso de preparación de datos del que no esté $100\\%$ seguro."
   ]
  },
  {
   "cell_type": "markdown",
   "id": "3040a114",
   "metadata": {
    "slideshow": {
     "slide_type": "slide"
    }
   },
   "source": [
    "Cuanto más automatice estos pasos de preparación de datos, más combinaciones podrá probar automáticamente, lo que hará que sea mucho más probable que encuentre una gran combinación (y le ahorrará mucho tiempo)."
   ]
  },
  {
   "cell_type": "markdown",
   "id": "3af82470",
   "metadata": {
    "slideshow": {
     "slide_type": "slide"
    }
   },
   "source": [
    "# Escalado de atributos"
   ]
  },
  {
   "cell_type": "markdown",
   "id": "6fefb4bf",
   "metadata": {
    "slideshow": {
     "slide_type": "slide"
    }
   },
   "source": [
    "Una de las transformaciones más importantes que debe aplicar a sus datos es el escalado de atributos."
   ]
  },
  {
   "cell_type": "markdown",
   "id": "dd1ec8bf",
   "metadata": {
    "slideshow": {
     "slide_type": "slide"
    }
   },
   "source": [
    "Con pocas excepciones, los algoritmos de Machine Learning no funcionan bien cuando los atributos numéricos de entrada tienen escalas muy diferentes."
   ]
  },
  {
   "cell_type": "markdown",
   "id": "e5407fe5",
   "metadata": {
    "slideshow": {
     "slide_type": "slide"
    }
   },
   "source": [
    "Este es el caso de los datos de vivienda: el número total de habitaciones oscila entre unas 6 y 39.320, mientras que los ingresos medios solo oscilan entre 0 y 15."
   ]
  },
  {
   "cell_type": "markdown",
   "id": "4e3108f2",
   "metadata": {
    "slideshow": {
     "slide_type": "slide"
    }
   },
   "source": [
    "Tenga en cuenta que, por lo general, no es necesario escalar los **valores objetivo**."
   ]
  },
  {
   "cell_type": "markdown",
   "id": "57b80436",
   "metadata": {
    "slideshow": {
     "slide_type": "slide"
    }
   },
   "source": [
    "Hay dos formas comunes de hacer que todos los atributos tengan la misma escala:  \n",
    "\n",
    "* escalamiento mínimo-máximo y \n",
    "* estandarización."
   ]
  },
  {
   "cell_type": "markdown",
   "id": "69aa4c0c",
   "metadata": {
    "slideshow": {
     "slide_type": "slide"
    }
   },
   "source": [
    "El escalado mínimo-máximo (muchas personas llaman a esto normalización) es el más simple: los valores se desplazan y reescalan para que terminen variando de 0 a 1."
   ]
  },
  {
   "cell_type": "markdown",
   "id": "d044f872",
   "metadata": {
    "slideshow": {
     "slide_type": "slide"
    }
   },
   "source": [
    "Hacemos esto restando el valor mínimo y dividiendo por el máximo menos el mínimo."
   ]
  },
  {
   "cell_type": "markdown",
   "id": "cf2bc960",
   "metadata": {
    "slideshow": {
     "slide_type": "slide"
    }
   },
   "source": [
    "Scikit-Learn proporciona un transformador llamado `MinMaxScaler` para esto."
   ]
  },
  {
   "cell_type": "code",
   "execution_count": 54,
   "id": "1bc2f451",
   "metadata": {
    "slideshow": {
     "slide_type": "slide"
    }
   },
   "outputs": [],
   "source": [
    "from sklearn.preprocessing import MinMaxScaler \n",
    "# https://scikit-learn.org/stable/modules/generated/sklearn.preprocessing.MinMaxScaler.html"
   ]
  },
  {
   "cell_type": "markdown",
   "id": "61858d44",
   "metadata": {
    "slideshow": {
     "slide_type": "slide"
    }
   },
   "source": [
    "Tiene un hiperparámetro `feature_range` que te permite cambiar el rango si, por alguna razón, no quieres 0–1."
   ]
  },
  {
   "cell_type": "markdown",
   "id": "4b8b7928",
   "metadata": {
    "slideshow": {
     "slide_type": "slide"
    }
   },
   "source": [
    "La estandarización es diferente: primero resta el valor medio (por lo que los valores estandarizados siempre tienen una media cero) y luego divide por la desviación estándar para que la distribución resultante tenga varianza unitaria."
   ]
  },
  {
   "cell_type": "markdown",
   "id": "d956c321",
   "metadata": {
    "slideshow": {
     "slide_type": "slide"
    }
   },
   "source": [
    "A diferencia del escalado mínimo-máximo, la estandarización no limita los valores a un rango específico, lo que puede ser un problema para algunos algoritmos (por ejemplo, las redes neuronales a menudo esperan un valor de entrada que va de 0 a 1). "
   ]
  },
  {
   "cell_type": "markdown",
   "id": "61b6f44e",
   "metadata": {
    "slideshow": {
     "slide_type": "slide"
    }
   },
   "source": [
    "Sin embargo, la **estandarización** se ve mucho menos afectada por los valores atípicos."
   ]
  },
  {
   "cell_type": "markdown",
   "id": "eaf93893",
   "metadata": {
    "slideshow": {
     "slide_type": "slide"
    }
   },
   "source": [
    "Por ejemplo, suponga que un distrito tiene un ingreso medio igual a 100 (por error)."
   ]
  },
  {
   "cell_type": "markdown",
   "id": "dd7d8e08",
   "metadata": {
    "slideshow": {
     "slide_type": "slide"
    }
   },
   "source": [
    "La escala min-max aplastaría todos los demás valores de 0 a 15 hasta 0 a 0,15, mientras que la estandarización no se vería muy afectada."
   ]
  },
  {
   "cell_type": "markdown",
   "id": "650801c3",
   "metadata": {
    "slideshow": {
     "slide_type": "slide"
    }
   },
   "source": [
    "Scikit-Learn proporciona un transformador llamado `StandardScaler` para la estandarización."
   ]
  },
  {
   "cell_type": "markdown",
   "id": "4d18786d",
   "metadata": {
    "slideshow": {
     "slide_type": "slide"
    }
   },
   "source": [
    "## Advertencia"
   ]
  },
  {
   "cell_type": "markdown",
   "id": "93015afd",
   "metadata": {
    "slideshow": {
     "slide_type": "slide"
    }
   },
   "source": [
    "Al igual que con todas las transformaciones, es importante ajustar los escaladores solo a los datos de entrenamiento, no al conjunto de datos completo (incluido el conjunto de prueba)."
   ]
  },
  {
   "cell_type": "markdown",
   "id": "c5444c54",
   "metadata": {
    "slideshow": {
     "slide_type": "slide"
    }
   },
   "source": [
    "Only then can you use them to transform the training set and the test set (and new data)."
   ]
  },
  {
   "cell_type": "markdown",
   "id": "e1c7e354",
   "metadata": {
    "slideshow": {
     "slide_type": "slide"
    }
   },
   "source": [
    "## Transformation Pipelines"
   ]
  },
  {
   "cell_type": "markdown",
   "id": "66b50d48",
   "metadata": {
    "slideshow": {
     "slide_type": "slide"
    }
   },
   "source": [
    "As you can see, there are many data transformation steps that need to be executed in the right order. "
   ]
  },
  {
   "cell_type": "markdown",
   "id": "cb751e7d",
   "metadata": {
    "slideshow": {
     "slide_type": "slide"
    }
   },
   "source": [
    "Afortunadamente, Scikit-Learn proporciona la clase \"Pipeline\" para ayudar con tales secuencias de transformaciones."
   ]
  },
  {
   "cell_type": "markdown",
   "id": "8e535343",
   "metadata": {
    "slideshow": {
     "slide_type": "slide"
    }
   },
   "source": [
    "Aquí hay una pequeña tubería para los atributos numéricos:"
   ]
  },
  {
   "cell_type": "code",
   "execution_count": 55,
   "id": "13d68af2",
   "metadata": {
    "slideshow": {
     "slide_type": "slide"
    }
   },
   "outputs": [],
   "source": [
    "from sklearn.pipeline import Pipeline\n",
    "from sklearn.preprocessing import StandardScaler\n",
    "\n",
    "num_pipeline = Pipeline([\n",
    "('imputer', SimpleImputer(strategy=\"median\")),\n",
    "('attribs_adder', CombinedAttributesAdder()),\n",
    "('std_scaler', StandardScaler()),\n",
    "])\n",
    "v_num_tr = num_pipeline.fit_transform(v_num)"
   ]
  },
  {
   "cell_type": "markdown",
   "id": "4beb4800",
   "metadata": {
    "slideshow": {
     "slide_type": "slide"
    }
   },
   "source": [
    "El constructor `Pipeline` toma una lista de pares de nombre/estimador que definen una secuencia de pasos. "
   ]
  },
  {
   "cell_type": "markdown",
   "id": "90db8131",
   "metadata": {
    "slideshow": {
     "slide_type": "slide"
    }
   },
   "source": [
    "All but the last estimator must be transformers (i.e., they must have a `fit_transform()` method). "
   ]
  },
  {
   "cell_type": "markdown",
   "id": "bdf27eb6",
   "metadata": {
    "slideshow": {
     "slide_type": "slide"
    }
   },
   "source": [
    "The names can be anything you like (as long as they are unique and don’t contain double underscores, __); they will\n",
    "come in handy later for hyperparameter tuning."
   ]
  },
  {
   "cell_type": "markdown",
   "id": "c1508d86",
   "metadata": {
    "slideshow": {
     "slide_type": "slide"
    }
   },
   "source": [
    "When you call the pipeline’s fit() method, it calls fit_transform() sequentially on all transformers, passing the output of each call as the parameter to the next call until it reaches the final estimator, for which it calls the fit()\n",
    "method."
   ]
  },
  {
   "cell_type": "markdown",
   "id": "4f87c953",
   "metadata": {
    "slideshow": {
     "slide_type": "slide"
    }
   },
   "source": [
    "The pipeline exposes the same methods as the final estimator. "
   ]
  },
  {
   "cell_type": "markdown",
   "id": "7a052512",
   "metadata": {
    "slideshow": {
     "slide_type": "slide"
    }
   },
   "source": [
    "In this example, the last estimator is a `StandardScaler`, which is a transformer, so the pipeline has a `transform()` method that applies all the transforms to the data in sequence (and of course also a `fit_transform()` method, which is the one we\n",
    "used)."
   ]
  },
  {
   "cell_type": "markdown",
   "id": "66f6d796",
   "metadata": {
    "slideshow": {
     "slide_type": "slide"
    }
   },
   "source": [
    "So far, we have handled the categorical columns and the numerical columns separately. "
   ]
  },
  {
   "cell_type": "markdown",
   "id": "001090b0",
   "metadata": {
    "slideshow": {
     "slide_type": "slide"
    }
   },
   "source": [
    "It would be more convenient to have a single transformer able to handle all columns, applying the appropriate transformations to each column. "
   ]
  },
  {
   "cell_type": "markdown",
   "id": "6e4090f6",
   "metadata": {
    "slideshow": {
     "slide_type": "slide"
    }
   },
   "source": [
    "In version 0.20, Scikit-Learn introduced the `ColumnTransformer` for this purpose, and the good news is that it works great with pandas DataFrames. "
   ]
  },
  {
   "cell_type": "markdown",
   "id": "f7776bad",
   "metadata": {
    "slideshow": {
     "slide_type": "slide"
    }
   },
   "source": [
    "Let’s use it to apply all the transformations to the housing data:"
   ]
  },
  {
   "cell_type": "code",
   "execution_count": 56,
   "id": "5bc212d7",
   "metadata": {
    "slideshow": {
     "slide_type": "slide"
    }
   },
   "outputs": [
    {
     "ename": "NameError",
     "evalue": "name 'v_train_num' is not defined",
     "output_type": "error",
     "traceback": [
      "\u001b[1;31m---------------------------------------------------------------------------\u001b[0m",
      "\u001b[1;31mNameError\u001b[0m                                 Traceback (most recent call last)",
      "Input \u001b[1;32mIn [56]\u001b[0m, in \u001b[0;36m<cell line: 2>\u001b[1;34m()\u001b[0m\n\u001b[0;32m      1\u001b[0m \u001b[38;5;28;01mfrom\u001b[39;00m \u001b[38;5;21;01msklearn\u001b[39;00m\u001b[38;5;21;01m.\u001b[39;00m\u001b[38;5;21;01mcompose\u001b[39;00m \u001b[38;5;28;01mimport\u001b[39;00m ColumnTransformer\n\u001b[1;32m----> 2\u001b[0m num_attribs \u001b[38;5;241m=\u001b[39m \u001b[38;5;28mlist\u001b[39m(\u001b[43mv_train_num\u001b[49m)\n\u001b[0;32m      3\u001b[0m cat_attribs \u001b[38;5;241m=\u001b[39m [\u001b[38;5;124m\"\u001b[39m\u001b[38;5;124mocean_proximity\u001b[39m\u001b[38;5;124m\"\u001b[39m]\n\u001b[0;32m      4\u001b[0m full_pipeline \u001b[38;5;241m=\u001b[39m ColumnTransformer([\n\u001b[0;32m      5\u001b[0m (\u001b[38;5;124m\"\u001b[39m\u001b[38;5;124mnum\u001b[39m\u001b[38;5;124m\"\u001b[39m, num_pipeline, num_attribs),\n\u001b[0;32m      6\u001b[0m (\u001b[38;5;124m\"\u001b[39m\u001b[38;5;124mcat\u001b[39m\u001b[38;5;124m\"\u001b[39m, OneHotEncoder(), cat_attribs),\n\u001b[0;32m      7\u001b[0m ])\n",
      "\u001b[1;31mNameError\u001b[0m: name 'v_train_num' is not defined"
     ]
    }
   ],
   "source": [
    "from sklearn.compose import ColumnTransformer\n",
    "num_attribs = list(v_train_num)\n",
    "cat_attribs = [\"ocean_proximity\"]\n",
    "full_pipeline = ColumnTransformer([\n",
    "(\"num\", num_pipeline, num_attribs),\n",
    "(\"cat\", OneHotEncoder(), cat_attribs),\n",
    "])\n",
    "v_prepared = full_pipeline.fit_transform(v_train)"
   ]
  },
  {
   "cell_type": "markdown",
   "id": "0d71ce2f",
   "metadata": {
    "slideshow": {
     "slide_type": "slide"
    }
   },
   "source": [
    "First we import the `ColumnTransformer` class, next we get the list of numerical column names and the list of categorical column names, and then we construct a `ColumnTransformer`. "
   ]
  },
  {
   "cell_type": "markdown",
   "id": "499c2574",
   "metadata": {
    "slideshow": {
     "slide_type": "slide"
    }
   },
   "source": [
    "The constructor requires a list of tuples, where each tuple contains a name, a transformer, and a list of names (or indices) of columns that the transformer should be applied to. "
   ]
  },
  {
   "cell_type": "markdown",
   "id": "5bb9a23f",
   "metadata": {
    "slideshow": {
     "slide_type": "slide"
    }
   },
   "source": [
    "In this example, we specify that the numerical columns should be transformed using the num_pipeline that we defined earlier, and the categorical columns should be transformed using a `OneHotEncoder`. "
   ]
  },
  {
   "cell_type": "markdown",
   "id": "18dff638",
   "metadata": {
    "slideshow": {
     "slide_type": "slide"
    }
   },
   "source": [
    "Finally, we apply this `ColumnTransformer` to the housing data: it applies each transformer to the appropriate columns and concatenates the outputs along the second axis (the transformers must return the same number of rows)."
   ]
  },
  {
   "cell_type": "markdown",
   "id": "692c0850",
   "metadata": {
    "slideshow": {
     "slide_type": "slide"
    }
   },
   "source": [
    "Note that the `OneHotEncoder` returns a sparse matrix, while the num_pipeline returns a dense matrix. "
   ]
  },
  {
   "cell_type": "markdown",
   "id": "d39166f0",
   "metadata": {
    "slideshow": {
     "slide_type": "slide"
    }
   },
   "source": [
    "When there is such a mix of sparse and dense matrices, the `ColumnTransformer` estimates the density of the final matrix (i.e., the ratio of nonzero cells), and it returns a sparse matrix if the density is lower than a given threshold (by default, sparse_threshold=0.3). "
   ]
  },
  {
   "cell_type": "markdown",
   "id": "1499c25a",
   "metadata": {
    "slideshow": {
     "slide_type": "slide"
    }
   },
   "source": [
    "In this example, it returns a dense matrix. "
   ]
  },
  {
   "cell_type": "markdown",
   "id": "70992482",
   "metadata": {
    "slideshow": {
     "slide_type": "slide"
    }
   },
   "source": [
    "And that’s it! We have a preprocessing pipeline that takes the full housing data and applies the appropriate transformations to each column."
   ]
  },
  {
   "cell_type": "markdown",
   "id": "a3490dd6",
   "metadata": {
    "slideshow": {
     "slide_type": "slide"
    }
   },
   "source": [
    "## Sugerencia"
   ]
  },
  {
   "cell_type": "markdown",
   "id": "8de4ad07",
   "metadata": {
    "slideshow": {
     "slide_type": "slide"
    }
   },
   "source": [
    "Instead of using a transformer, you can specify the string \"drop\" if you want the columns to be dropped, or you can specify \"passthrough\" if you want the columns to be left untouched."
   ]
  },
  {
   "cell_type": "markdown",
   "id": "b3c8221d",
   "metadata": {
    "slideshow": {
     "slide_type": "slide"
    }
   },
   "source": [
    "By default, the remaining columns (i.e., the ones that were not listed) will be dropped, but\n",
    "you can set the remainder hyperparameter to any transformer (or to \"passthrough\") if you\n",
    "want these columns to be handled differently."
   ]
  },
  {
   "cell_type": "markdown",
   "id": "3872d017",
   "metadata": {
    "slideshow": {
     "slide_type": "slide"
    }
   },
   "source": [
    "Si usa Scikit-Learn 0.19 o anterior, puede usar una biblioteca de terceros, como sklearn-pandas, o puede implementar su propio transformador personalizado para obtener la misma funcionalidad que `ColumnTransformer`."
   ]
  },
  {
   "cell_type": "markdown",
   "id": "47d03f85",
   "metadata": {
    "slideshow": {
     "slide_type": "slide"
    }
   },
   "source": [
    "Alternativamente, puede usar la clase `FeatureUnion`, que puede aplicar diferentes transformadores y concatenar sus salidas."
   ]
  },
  {
   "cell_type": "markdown",
   "id": "c62d3b3b",
   "metadata": {
    "slideshow": {
     "slide_type": "slide"
    }
   },
   "source": [
    "But you cannot specify different columns for each transformer; they all apply to the whole data. "
   ]
  },
  {
   "cell_type": "markdown",
   "id": "77aa5742",
   "metadata": {
    "slideshow": {
     "slide_type": "slide"
    }
   },
   "source": [
    "It is possible to work around this limitation using a custom transformer for column selection (see the Jupyter notebook for an example)."
   ]
  },
  {
   "cell_type": "markdown",
   "id": "dd138a34",
   "metadata": {
    "slideshow": {
     "slide_type": "slide"
    }
   },
   "source": [
    "# Select and Train a Model"
   ]
  },
  {
   "cell_type": "markdown",
   "id": "7c9279f8",
   "metadata": {
    "slideshow": {
     "slide_type": "slide"
    }
   },
   "source": [
    "At last! You framed the problem, you got the data and explored it, you sampled a training set and a test set, and you wrote transformation pipelines to clean up and prepare your data for Machine Learning algorithms automatically. "
   ]
  },
  {
   "cell_type": "markdown",
   "id": "65803f62",
   "metadata": {
    "slideshow": {
     "slide_type": "slide"
    }
   },
   "source": [
    "You are now ready to select and train a Machine Learning model"
   ]
  },
  {
   "cell_type": "markdown",
   "id": "56580779",
   "metadata": {
    "slideshow": {
     "slide_type": "slide"
    }
   },
   "source": [
    "## Training and Evaluating on the Training Set"
   ]
  },
  {
   "cell_type": "markdown",
   "id": "ed39d453",
   "metadata": {
    "slideshow": {
     "slide_type": "slide"
    }
   },
   "source": [
    "The good news is that thanks to all these previous steps, things are now going to be much simpler than you might think. Let’s first train a Linear Regression model, like we did in the previous chapter:"
   ]
  },
  {
   "cell_type": "code",
   "execution_count": null,
   "id": "547f789c",
   "metadata": {
    "slideshow": {
     "slide_type": "slide"
    }
   },
   "outputs": [],
   "source": [
    "from sklearn.linear_model import LinearRegression\n",
    "lin_reg = LinearRegression()\n",
    "lin_reg.fit(v_train_prepared, v_labels_train)"
   ]
  },
  {
   "cell_type": "markdown",
   "id": "d41f4458",
   "metadata": {
    "slideshow": {
     "slide_type": "slide"
    }
   },
   "source": [
    "Done! You now have a working Linear Regression model. "
   ]
  },
  {
   "cell_type": "markdown",
   "id": "3a1ede9d",
   "metadata": {
    "slideshow": {
     "slide_type": "slide"
    }
   },
   "source": [
    "Let’s try it out on a few instances from the training set:"
   ]
  },
  {
   "cell_type": "code",
   "execution_count": null,
   "id": "f1cd9dea",
   "metadata": {
    "slideshow": {
     "slide_type": "slide"
    }
   },
   "outputs": [],
   "source": [
    "some_data = housing.iloc[:5]\n",
    "some_labels = housing_labels.iloc[:5]\n",
    "some_data_prepared = full_pipeline.transform(some_data)\n",
    "print(\"Predictions:\", lin_reg.predict(some_data_prepared))"
   ]
  },
  {
   "cell_type": "code",
   "execution_count": null,
   "id": "d0a3953b",
   "metadata": {
    "slideshow": {
     "slide_type": "slide"
    }
   },
   "outputs": [],
   "source": [
    "print(\"Labels:\", list(some_labels))"
   ]
  },
  {
   "cell_type": "markdown",
   "id": "a1458eb4",
   "metadata": {
    "slideshow": {
     "slide_type": "slide"
    }
   },
   "source": [
    "It works, although the predictions are not exactly accurate (e.g., the first prediction is off by close to 40%!). "
   ]
  },
  {
   "cell_type": "markdown",
   "id": "81c8663f",
   "metadata": {
    "slideshow": {
     "slide_type": "slide"
    }
   },
   "source": [
    "Let’s measure this regression model’s RMSE on the whole training set using Scikit-Learn’s `mean_squared_error()` function:"
   ]
  },
  {
   "cell_type": "code",
   "execution_count": null,
   "id": "d61199f6",
   "metadata": {
    "slideshow": {
     "slide_type": "slide"
    }
   },
   "outputs": [],
   "source": [
    ">>> from sklearn.metrics import mean_squared_error\n",
    ">>> housing_predictions = lin_reg.predict(housing_prepared)\n",
    ">>> lin_mse = mean_squared_error(housing_labels, housing_predictions)\n",
    ">>> lin_rmse = np.sqrt(lin_mse)\n",
    ">>> lin_rmse\n"
   ]
  },
  {
   "cell_type": "markdown",
   "id": "be64f863",
   "metadata": {
    "slideshow": {
     "slide_type": "slide"
    }
   },
   "source": [
    "This is better than nothing, but clearly not a great score: most districts’ median_housing_values range between $120,000 and $265,000, so a typical prediction error of $68,628 is not very satisfying. "
   ]
  },
  {
   "cell_type": "markdown",
   "id": "f57a6534",
   "metadata": {
    "slideshow": {
     "slide_type": "slide"
    }
   },
   "source": [
    "This is an example of a model underfitting the training data. "
   ]
  },
  {
   "cell_type": "markdown",
   "id": "4bba1375",
   "metadata": {
    "slideshow": {
     "slide_type": "slide"
    }
   },
   "source": [
    "When this happens it can mean that the features do not provide enough information to make good predictions, or that the model is not powerful enough. "
   ]
  },
  {
   "cell_type": "markdown",
   "id": "47a334b4",
   "metadata": {
    "slideshow": {
     "slide_type": "slide"
    }
   },
   "source": [
    "As we saw in the previous chapter, the main ways to fix underfitting are to select a more powerful model, to feed the training algorithm with better features, or to reduce the constraints on the model. "
   ]
  },
  {
   "cell_type": "markdown",
   "id": "88a0fd24",
   "metadata": {
    "slideshow": {
     "slide_type": "slide"
    }
   },
   "source": [
    "This model is not regularized, which rules out the last option. You could try to add more features\n",
    "(e.g., the log of the population), but first let’s try a more complex model to see how it does."
   ]
  },
  {
   "cell_type": "markdown",
   "id": "d410c53d",
   "metadata": {
    "slideshow": {
     "slide_type": "slide"
    }
   },
   "source": [
    "Let’s train a DecisionTreeRegressor. This is a powerful model, capable of finding complex nonlinear relationships in the data (Decision Trees are presented in more detail in Chapter 6). "
   ]
  },
  {
   "cell_type": "markdown",
   "id": "5f42f02e",
   "metadata": {
    "slideshow": {
     "slide_type": "slide"
    }
   },
   "source": [
    "The code should look familiar by now:"
   ]
  },
  {
   "cell_type": "code",
   "execution_count": null,
   "id": "4f2fa534",
   "metadata": {
    "slideshow": {
     "slide_type": "slide"
    }
   },
   "outputs": [],
   "source": [
    "from sklearn.tree import DecisionTreeRegressor\n",
    "tree_reg = DecisionTreeRegressor()\n",
    "tree_reg.fit(housing_prepared, housing_labels)"
   ]
  },
  {
   "cell_type": "markdown",
   "id": "f7e99199",
   "metadata": {
    "slideshow": {
     "slide_type": "slide"
    }
   },
   "source": [
    "Now that the model is trained, let’s evaluate it on the training set:\n"
   ]
  },
  {
   "cell_type": "code",
   "execution_count": null,
   "id": "b802e94e",
   "metadata": {
    "slideshow": {
     "slide_type": "slide"
    }
   },
   "outputs": [],
   "source": [
    "housing_predictions = tree_reg.predict(housing_prepared)\n",
    ">>> tree_mse = mean_squared_error(housing_labels, housing_predictions)\n",
    ">>> tree_rmse = np.sqrt(tree_mse)\n",
    ">>> tree_rmse\n"
   ]
  },
  {
   "cell_type": "markdown",
   "id": "a241af74",
   "metadata": {
    "slideshow": {
     "slide_type": "slide"
    }
   },
   "source": [
    "Wait, what!? No error at all? "
   ]
  },
  {
   "cell_type": "markdown",
   "id": "6824631c",
   "metadata": {
    "slideshow": {
     "slide_type": "slide"
    }
   },
   "source": [
    "Could this model really be absolutely perfect? "
   ]
  },
  {
   "cell_type": "markdown",
   "id": "5e8ca14b",
   "metadata": {
    "slideshow": {
     "slide_type": "slide"
    }
   },
   "source": [
    "Of course, it is much more likely that the model has badly overfit the data. "
   ]
  },
  {
   "cell_type": "markdown",
   "id": "439ce939",
   "metadata": {
    "slideshow": {
     "slide_type": "slide"
    }
   },
   "source": [
    "How can you be sure? "
   ]
  },
  {
   "cell_type": "markdown",
   "id": "55bd7042",
   "metadata": {
    "slideshow": {
     "slide_type": "slide"
    }
   },
   "source": [
    "As we saw earlier, you don’t want to touch the test set until you are ready to launch a model you are confident about, so you need to use part of the training set for training and part of it for model validation."
   ]
  },
  {
   "cell_type": "markdown",
   "id": "1d39eabc",
   "metadata": {
    "slideshow": {
     "slide_type": "slide"
    }
   },
   "source": [
    "# Better Evaluation Using Cross-Validation"
   ]
  },
  {
   "cell_type": "markdown",
   "id": "fd332d31",
   "metadata": {
    "slideshow": {
     "slide_type": "slide"
    }
   },
   "source": [
    "One way to evaluate the Decision Tree model would be to use the `train_test_split()` function to split the training set into a smaller training set and a validation set, then train your models against the smaller training set and evaluate them against the validation set. "
   ]
  },
  {
   "cell_type": "markdown",
   "id": "cef5a860",
   "metadata": {
    "slideshow": {
     "slide_type": "slide"
    }
   },
   "source": [
    "It’s a bit of work, but nothing too difficult, and it would work fairly well."
   ]
  },
  {
   "cell_type": "markdown",
   "id": "96470e15",
   "metadata": {
    "slideshow": {
     "slide_type": "slide"
    }
   },
   "source": [
    "A great alternative is to use Scikit-Learn’s K-fold cross-validation feature. "
   ]
  },
  {
   "cell_type": "markdown",
   "id": "28e535e8",
   "metadata": {
    "slideshow": {
     "slide_type": "slide"
    }
   },
   "source": [
    "The following code randomly splits the training set into 10 distinct subsets called folds, then it trains and evaluates the Decision Tree model 10 times, picking a different fold for evaluation every time and training on the other 9 folds. "
   ]
  },
  {
   "cell_type": "markdown",
   "id": "0a6e5c76",
   "metadata": {
    "slideshow": {
     "slide_type": "slide"
    }
   },
   "source": [
    "The result is an array containing the 10 evaluation scores:"
   ]
  },
  {
   "cell_type": "code",
   "execution_count": null,
   "id": "5650c30b",
   "metadata": {
    "slideshow": {
     "slide_type": "slide"
    }
   },
   "outputs": [],
   "source": [
    "from sklearn.model_selection import cross_val_score\n",
    "scores = cross_val_score(tree_reg, housing_prepared, housing_labels,\n",
    "scoring=\"neg_mean_squared_error\", cv=10)\n",
    "tree_rmse_scores = np.sqrt(-scores)"
   ]
  },
  {
   "cell_type": "markdown",
   "id": "0fcaea76",
   "metadata": {
    "slideshow": {
     "slide_type": "slide"
    }
   },
   "source": [
    "## WARNING"
   ]
  },
  {
   "cell_type": "markdown",
   "id": "ab73f95f",
   "metadata": {
    "slideshow": {
     "slide_type": "slide"
    }
   },
   "source": [
    "Scikit-Learn’s cross-validation features expect a utility function (greater is better) rather than a cost function (lower is better), so the scoring function is actually the opposite of the MSE (i.e., a negative value), which is why the preceding code computes -scores before calculating the square root."
   ]
  },
  {
   "cell_type": "markdown",
   "id": "aa985b1d",
   "metadata": {
    "slideshow": {
     "slide_type": "slide"
    }
   },
   "source": [
    "Let’s look at the results:\n"
   ]
  },
  {
   "cell_type": "code",
   "execution_count": null,
   "id": "afa506e5",
   "metadata": {
    "slideshow": {
     "slide_type": "slide"
    }
   },
   "outputs": [],
   "source": [
    ">>> def display_scores(scores):\n",
    "... print(\"Scores:\", scores)\n",
    "... print(\"Mean:\", scores.mean())\n",
    "... print(\"Standard deviation:\", scores.std())\n",
    "...\n",
    ">>> display_scores(tree_rmse_scores)\n"
   ]
  },
  {
   "cell_type": "markdown",
   "id": "143534de",
   "metadata": {
    "slideshow": {
     "slide_type": "slide"
    }
   },
   "source": [
    "Now the Decision Tree doesn’t look as good as it did earlier. "
   ]
  },
  {
   "cell_type": "markdown",
   "id": "f9c9abc0",
   "metadata": {
    "slideshow": {
     "slide_type": "slide"
    }
   },
   "source": [
    "In fact, it seems to perform worse than the Linear Regression model! "
   ]
  },
  {
   "cell_type": "markdown",
   "id": "8f01ab3d",
   "metadata": {
    "slideshow": {
     "slide_type": "slide"
    }
   },
   "source": [
    "Notice that cross-validation allows you to get not only an estimate of the performance of your model, but also a measure of how precise this estimate is (i.e., its standard deviation). "
   ]
  },
  {
   "cell_type": "markdown",
   "id": "63e293ff",
   "metadata": {
    "slideshow": {
     "slide_type": "slide"
    }
   },
   "source": [
    "The Decision Tree has a score of approximately 71,407, generally ±2,439. "
   ]
  },
  {
   "cell_type": "markdown",
   "id": "82a010c4",
   "metadata": {
    "slideshow": {
     "slide_type": "slide"
    }
   },
   "source": [
    "You would not have this information if you just used one validation set. "
   ]
  },
  {
   "cell_type": "markdown",
   "id": "8f6b4cf7",
   "metadata": {
    "slideshow": {
     "slide_type": "slide"
    }
   },
   "source": [
    "But cross-validation comes at the cost of training the model several times, so it is not always possible."
   ]
  },
  {
   "cell_type": "markdown",
   "id": "3625de5a",
   "metadata": {
    "slideshow": {
     "slide_type": "slide"
    }
   },
   "source": [
    "Let’s compute the same scores for the Linear Regression model just to be sure:"
   ]
  },
  {
   "cell_type": "code",
   "execution_count": null,
   "id": "782df8e2",
   "metadata": {
    "slideshow": {
     "slide_type": "slide"
    }
   },
   "outputs": [],
   "source": [
    ">>> lin_scores = cross_val_score(lin_reg, housing_prepared, housing_labels,\n",
    "... scoring=\"neg_mean_squared_error\", cv=10)\n",
    "...\n",
    ">>> lin_rmse_scores = np.sqrt(-lin_scores)\n",
    ">>> display_scores(lin_rmse_scores)"
   ]
  },
  {
   "cell_type": "markdown",
   "id": "c73a484f",
   "metadata": {
    "slideshow": {
     "slide_type": "slide"
    }
   },
   "source": [
    "That’s right: the Decision Tree model is overfitting so badly that it performs worse than the Linear Regression model."
   ]
  },
  {
   "cell_type": "markdown",
   "id": "acf40fb0",
   "metadata": {
    "slideshow": {
     "slide_type": "slide"
    }
   },
   "source": [
    "Let’s try one last model now: the RandomForestRegressor. "
   ]
  },
  {
   "cell_type": "markdown",
   "id": "697ca6a8",
   "metadata": {
    "slideshow": {
     "slide_type": "slide"
    }
   },
   "source": [
    "As we will see in Chapter 7, Random Forests work by training many Decision Trees on random subsets of the features, then averaging out their predictions. "
   ]
  },
  {
   "cell_type": "markdown",
   "id": "280f5448",
   "metadata": {
    "slideshow": {
     "slide_type": "slide"
    }
   },
   "source": [
    "Building a model on top of many other models is called Ensemble Learning, and it is often a great way to push ML algorithms even further. "
   ]
  },
  {
   "cell_type": "markdown",
   "id": "b18544cc",
   "metadata": {
    "slideshow": {
     "slide_type": "slide"
    }
   },
   "source": [
    "We will skip most of the code since it is essentially the same as for the other models:"
   ]
  },
  {
   "cell_type": "code",
   "execution_count": null,
   "id": "8caa46d8",
   "metadata": {
    "slideshow": {
     "slide_type": "slide"
    }
   },
   "outputs": [],
   "source": [
    "from sklearn.ensemble import RandomForestRegressor\n",
    "forest_reg = RandomForestRegressor()\n",
    "forest_reg.fit(housing_prepared, housing_labels)"
   ]
  },
  {
   "cell_type": "code",
   "execution_count": null,
   "id": "e86da4d7",
   "metadata": {
    "slideshow": {
     "slide_type": "slide"
    }
   },
   "outputs": [],
   "source": [
    ">>> forest_rmse"
   ]
  },
  {
   "cell_type": "code",
   "execution_count": null,
   "id": "2ebed682",
   "metadata": {
    "slideshow": {
     "slide_type": "slide"
    }
   },
   "outputs": [],
   "source": [
    ">>> display_scores(forest_rmse_scores)"
   ]
  },
  {
   "cell_type": "markdown",
   "id": "226218e7",
   "metadata": {
    "slideshow": {
     "slide_type": "slide"
    }
   },
   "source": [
    "Wow, this is much better: Random Forests look very promising. "
   ]
  },
  {
   "cell_type": "markdown",
   "id": "d4f6388e",
   "metadata": {
    "slideshow": {
     "slide_type": "slide"
    }
   },
   "source": [
    "However, note that the score on the training set is still much lower than on the validation sets, meaning that the model is still overfitting the training set. "
   ]
  },
  {
   "cell_type": "markdown",
   "id": "ebaab964",
   "metadata": {
    "slideshow": {
     "slide_type": "slide"
    }
   },
   "source": [
    "Possible solutions for overfitting are to simplify the model, constrain it (i.e., regularize it), or get a lot more training data. "
   ]
  },
  {
   "cell_type": "markdown",
   "id": "e56f9f2a",
   "metadata": {
    "slideshow": {
     "slide_type": "slide"
    }
   },
   "source": [
    "Before you dive much deeper into Random Forests, however, you should try out many other models from various categories of Machine Learning algorithms (e.g., several Support Vector Machines with different kernels, and possibly a neural network), without spending too much time tweaking the hyperparameters. "
   ]
  },
  {
   "cell_type": "markdown",
   "id": "b3f680a3",
   "metadata": {
    "slideshow": {
     "slide_type": "slide"
    }
   },
   "source": [
    "The goal is to shortlist a few (two to five)\n",
    "promising models."
   ]
  },
  {
   "cell_type": "markdown",
   "id": "5627367d",
   "metadata": {
    "slideshow": {
     "slide_type": "slide"
    }
   },
   "source": [
    "### Sugerencia"
   ]
  },
  {
   "cell_type": "markdown",
   "id": "6e4abd3a",
   "metadata": {
    "slideshow": {
     "slide_type": "slide"
    }
   },
   "source": [
    "You should save every model you experiment with so that you can come back easily to any model you want. "
   ]
  },
  {
   "cell_type": "markdown",
   "id": "cd78f65a",
   "metadata": {
    "slideshow": {
     "slide_type": "slide"
    }
   },
   "source": [
    "Asegúrese de guardar tanto los hiperparámetros como los parámetros entrenados, así como las puntuaciones de validación cruzada y quizás también las predicciones reales."
   ]
  },
  {
   "cell_type": "markdown",
   "id": "8f95265f",
   "metadata": {
    "slideshow": {
     "slide_type": "slide"
    }
   },
   "source": [
    "This will allow you to easily compare scores across model types, and compare the types of errors they make."
   ]
  },
  {
   "cell_type": "markdown",
   "id": "f75374d1",
   "metadata": {
    "slideshow": {
     "slide_type": "slide"
    }
   },
   "source": [
    "You can easily save Scikit-Learn models by using Python’s pickle module or by using the joblib library, which is more efficient at serializing large NumPy arrays (you can install this library using pip):"
   ]
  },
  {
   "cell_type": "code",
   "execution_count": null,
   "id": "28342cbb",
   "metadata": {
    "slideshow": {
     "slide_type": "slide"
    }
   },
   "outputs": [],
   "source": [
    "import joblib\n",
    "joblib.dump(my_model, \"my_model.pkl\")\n",
    "# and later...\n",
    "my_model_loaded = joblib.load(\"my_model.pkl\")\n"
   ]
  },
  {
   "cell_type": "markdown",
   "id": "0c3a5700",
   "metadata": {
    "slideshow": {
     "slide_type": "slide"
    }
   },
   "source": [
    "# Ajuste su modelo"
   ]
  },
  {
   "cell_type": "markdown",
   "id": "7e36678d",
   "metadata": {
    "slideshow": {
     "slide_type": "slide"
    }
   },
   "source": [
    "Let’s assume that you now have a shortlist of promising models. "
   ]
  },
  {
   "cell_type": "markdown",
   "id": "e8204ec5",
   "metadata": {
    "slideshow": {
     "slide_type": "slide"
    }
   },
   "source": [
    "You now need to fine-tune them. Let’s look at a few ways you can do that."
   ]
  },
  {
   "cell_type": "code",
   "execution_count": null,
   "id": "9079619a",
   "metadata": {
    "slideshow": {
     "slide_type": "slide"
    }
   },
   "outputs": [],
   "source": []
  },
  {
   "cell_type": "code",
   "execution_count": null,
   "id": "6a4d7e69",
   "metadata": {
    "slideshow": {
     "slide_type": "slide"
    }
   },
   "outputs": [],
   "source": []
  },
  {
   "cell_type": "code",
   "execution_count": null,
   "id": "b267deee",
   "metadata": {
    "slideshow": {
     "slide_type": "slide"
    }
   },
   "outputs": [],
   "source": []
  },
  {
   "cell_type": "code",
   "execution_count": null,
   "id": "58393f7d",
   "metadata": {
    "slideshow": {
     "slide_type": "slide"
    }
   },
   "outputs": [],
   "source": []
  },
  {
   "cell_type": "markdown",
   "id": "537eac00",
   "metadata": {
    "slideshow": {
     "slide_type": "slide"
    }
   },
   "source": [
    "## Referentes  \n",
    "\n",
    "* La clase MinMaxScaler para normalizar datos: https://scikit-learn.org/stable/modules/generated/sklearn.preprocessing.MinMaxScaler.html \n",
    "\n",
    "* la documentación de la función plot asociada a los dataframe de pandas: https://pandas.pydata.org/docs/reference/api/pandas.DataFrame.plot.html "
   ]
  },
  {
   "cell_type": "code",
   "execution_count": null,
   "id": "775a075d",
   "metadata": {
    "slideshow": {
     "slide_type": "slide"
    }
   },
   "outputs": [],
   "source": [
    "2**512\n"
   ]
  },
  {
   "cell_type": "code",
   "execution_count": null,
   "id": "61bcdf8b",
   "metadata": {},
   "outputs": [],
   "source": []
  }
 ],
 "metadata": {
  "celltoolbar": "Slideshow",
  "kernelspec": {
   "display_name": "Python 3 (ipykernel)",
   "language": "python",
   "name": "python3"
  },
  "language_info": {
   "codemirror_mode": {
    "name": "ipython",
    "version": 3
   },
   "file_extension": ".py",
   "mimetype": "text/x-python",
   "name": "python",
   "nbconvert_exporter": "python",
   "pygments_lexer": "ipython3",
   "version": "3.9.12"
  },
  "rise": {
   "enable_chalkboard": true,
   "theme": "sky",
   "transition": "zoom"
  }
 },
 "nbformat": 4,
 "nbformat_minor": 5
}
