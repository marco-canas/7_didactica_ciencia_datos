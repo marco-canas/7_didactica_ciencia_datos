{
 "cells": [
  {
   "cell_type": "markdown",
   "id": "1e405192",
   "metadata": {},
   "source": [
    "<table align=\"left\">\n",
    "  <td>\n",
    "    <a href=\"https://colab.research.google.com/github/marco-canas/taca/blob/main/ref/geron/chap_2/4_visualize/2_correlations.ipynb\" target=\"_parent\"><img src=\"https://colab.research.google.com/assets/colab-badge.svg\" alt=\"Open In Colab\"/></a>\n",
    "  </td>\n",
    "  <td>\n",
    "    <a target=\"_blank\" href=\"https://kaggle.com/kernels/welcome?src=https://github.com/marco-canas/taca/blob/main/ref/geron/chap_2/4_visualize/2_correlations.ipynb\"><img src=\"https://kaggle.com/static/images/open-in-kaggle.svg\" /></a>\n",
    "  </td>\n",
    "</table>"
   ]
  },
  {
   "cell_type": "markdown",
   "id": "8fe5dfe1",
   "metadata": {},
   "source": [
    "# [StratifiedShuffleSplit](https://scikit-learn.org/stable/modules/generated/sklearn.model_selection.StratifiedShuffleSplit.html)"
   ]
  },
  {
   "cell_type": "markdown",
   "id": "8990ceaa",
   "metadata": {},
   "source": [
    "`class sklearn.model_selection.StratifiedShuffleSplit(n_splits=10, *, test_size=None, train_size=None, random_state=None)`"
   ]
  },
  {
   "cell_type": "markdown",
   "id": "50b96e23",
   "metadata": {},
   "source": [
    "Proporciona índices de entrenamiento y prueba para dividir datos en conjuntos de entrenamiento y prueba."
   ]
  },
  {
   "cell_type": "markdown",
   "id": "9ad0e8a0",
   "metadata": {},
   "source": [
    "Este objeto de validación cruzada es una combinación de `StratifiedKFold` y `ShuffleSplit`, que devuelve pliegues aleatorios estratificados. "
   ]
  },
  {
   "cell_type": "markdown",
   "id": "d4d74f44",
   "metadata": {},
   "source": [
    "Los pliegues se realizan conservando el porcentaje de muestras de cada clase."
   ]
  },
  {
   "cell_type": "markdown",
   "id": "af8c59f5",
   "metadata": {},
   "source": [
    "**Nota:**   \n",
    "\n",
    "al igual que la estrategia ShuffleSplit, las divisiones aleatorias estratificadas no garantizan que todos los pliegues sean diferentes, aunque esto sigue siendo muy probable para conjuntos de datos importantes."
   ]
  },
  {
   "cell_type": "code",
   "execution_count": null,
   "id": "119f3d83",
   "metadata": {},
   "outputs": [],
   "source": []
  },
  {
   "cell_type": "code",
   "execution_count": null,
   "id": "eab5355c",
   "metadata": {},
   "outputs": [],
   "source": []
  },
  {
   "cell_type": "markdown",
   "id": "794ca3f4",
   "metadata": {},
   "source": [
    "## Examples"
   ]
  },
  {
   "cell_type": "code",
   "execution_count": null,
   "id": "6df0dffc",
   "metadata": {},
   "outputs": [],
   "source": [
    "import numpy as np\n",
    "from sklearn.model_selection import StratifiedShuffleSplit\n",
    "X = np.array([[1, 2], [3, 4], [1, 2], [3, 4], [1, 2], [3, 4]])\n",
    "y = np.array([0, 0, 0, 1, 1, 1])\n",
    "sss = StratifiedShuffleSplit(n_splits=5, test_size=0.5, random_state=0)\n",
    "sss.get_n_splits(X, y)"
   ]
  },
  {
   "cell_type": "code",
   "execution_count": null,
   "id": "f8a1d28a",
   "metadata": {},
   "outputs": [],
   "source": [
    ">>> print(sss)"
   ]
  },
  {
   "cell_type": "code",
   "execution_count": null,
   "id": "97961de3",
   "metadata": {},
   "outputs": [],
   "source": [
    "for train_index, test_index in sss.split(X, y):\n",
    "    print(\"TRAIN:\", train_index, \"TEST:\", test_index)\n",
    "    X_train, X_test = X[train_index], X[test_index]\n",
    "    y_train, y_test = y[train_index], y[test_index]"
   ]
  },
  {
   "cell_type": "markdown",
   "id": "d50428f5",
   "metadata": {},
   "source": [
    "## Funciones de Python asociadas a este cuaderno"
   ]
  },
  {
   "cell_type": "markdown",
   "id": "f1d7daad",
   "metadata": {},
   "source": []
  },
  {
   "cell_type": "markdown",
   "id": "cbdffb22",
   "metadata": {},
   "source": [
    "## Referentes  \n",
    "\n",
    "* https://scikit-learn.org/stable/modules/generated/sklearn.model_selection.StratifiedShuffleSplit.html "
   ]
  },
  {
   "cell_type": "code",
   "execution_count": null,
   "id": "aece105d",
   "metadata": {},
   "outputs": [],
   "source": []
  }
 ],
 "metadata": {
  "kernelspec": {
   "display_name": "Python 3",
   "language": "python",
   "name": "python3"
  },
  "language_info": {
   "codemirror_mode": {
    "name": "ipython",
    "version": 3
   },
   "file_extension": ".py",
   "mimetype": "text/x-python",
   "name": "python",
   "nbconvert_exporter": "python",
   "pygments_lexer": "ipython3",
   "version": "3.8.8"
  },
  "latex_envs": {
   "LaTeX_envs_menu_present": true,
   "autoclose": false,
   "autocomplete": false,
   "bibliofile": "biblio.bib",
   "cite_by": "apalike",
   "current_citInitial": 1,
   "eqLabelWithNumbers": true,
   "eqNumInitial": 1,
   "hotkeys": {
    "equation": "Ctrl-E",
    "itemize": "Ctrl-I"
   },
   "labels_anchors": false,
   "latex_user_defs": false,
   "report_style_numbering": false,
   "user_envs_cfg": false
  }
 },
 "nbformat": 4,
 "nbformat_minor": 5
}
