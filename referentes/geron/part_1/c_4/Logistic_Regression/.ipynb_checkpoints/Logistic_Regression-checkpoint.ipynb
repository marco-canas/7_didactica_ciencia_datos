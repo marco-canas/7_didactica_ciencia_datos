{
 "cells": [
  {
   "cell_type": "markdown",
   "metadata": {
    "lang": "es",
    "slideshow": {
     "slide_type": "slide"
    }
   },
   "source": [
    "# Regresión logística"
   ]
  },
  {
   "cell_type": "markdown",
   "metadata": {
    "slideshow": {
     "slide_type": "slide"
    }
   },
   "source": [
    "Page 202 of Aurelien Geron "
   ]
  },
  {
   "cell_type": "markdown",
   "metadata": {
    "lang": "es",
    "slideshow": {
     "slide_type": "slide"
    }
   },
   "source": [
    "Como discutimos en el Capítulo 1, algunos **algoritmos de regresión** pueden usarse para la **clasificación**. "
   ]
  },
  {
   "cell_type": "markdown",
   "metadata": {
    "lang": "es",
    "slideshow": {
     "slide_type": "slide"
    }
   },
   "source": [
    "La regresión logística (también llamada regresión **logit**) se usa comúnmente para estimar la probabilidad de que una instancia pertenezca a una clase en particular "
   ]
  },
  {
   "cell_type": "markdown",
   "metadata": {
    "lang": "es",
    "slideshow": {
     "slide_type": "slide"
    }
   },
   "source": [
    "* (por ejemplo, ¿cuál es la probabilidad de que este correo electrónico sea spam?)."
   ]
  },
  {
   "cell_type": "markdown",
   "metadata": {
    "lang": "es",
    "slideshow": {
     "slide_type": "slide"
    }
   },
   "source": [
    "* Si la probabilidad estimada es superior al 50%, el modelo predice que la instancia pertenece a esa clase (denominada clase positiva, etiquetada como \"1\") y,  \n",
    "* de lo contrario, predice que no (es decir, pertenece a la clase negativa , etiquetado como \"0\").   "
   ]
  },
  {
   "cell_type": "markdown",
   "metadata": {
    "lang": "es",
    "slideshow": {
     "slide_type": "slide"
    }
   },
   "source": [
    "Esto lo convierte en un **clasificador binario**. "
   ]
  },
  {
   "cell_type": "markdown",
   "metadata": {
    "lang": "es",
    "slideshow": {
     "slide_type": "slide"
    }
   },
   "source": [
    "## Estimación de probabilidades"
   ]
  },
  {
   "cell_type": "markdown",
   "metadata": {
    "lang": "es",
    "slideshow": {
     "slide_type": "slide"
    }
   },
   "source": [
    "Entonces, ¿cómo funciona la regresión logística?   "
   ]
  },
  {
   "cell_type": "markdown",
   "metadata": {
    "lang": "es",
    "slideshow": {
     "slide_type": "slide"
    }
   },
   "source": [
    "* Al igual que un modelo de regresión lineal, un modelo de regresión logística calcula una suma ponderada de las características de entrada (más un término de sesgo), "
   ]
  },
  {
   "cell_type": "markdown",
   "metadata": {
    "slideshow": {
     "slide_type": "slide"
    }
   },
   "source": [
    "$$ \\text{Sesgo y Suma ponderada de las características de entrada} = \\theta_{0} + \\sum \\theta_{i}x_{i}  $$"
   ]
  },
  {
   "cell_type": "markdown",
   "metadata": {
    "lang": "es",
    "slideshow": {
     "slide_type": "slide"
    }
   },
   "source": [
    "* pero en lugar de generar el resultado directamente como lo hace el modelo de regresión lineal,   \n",
    "  genera *la logística de este resultado* (ver Ecuación 4-13)."
   ]
  },
  {
   "cell_type": "markdown",
   "metadata": {
    "lang": "es",
    "slideshow": {
     "slide_type": "slide"
    }
   },
   "source": [
    "Ecuación 4-13. Probabilidad estimada del modelo de regresión logística (forma vectorizada)\n"
   ]
  },
  {
   "cell_type": "markdown",
   "metadata": {
    "slideshow": {
     "slide_type": "slide"
    }
   },
   "source": [
    "$$ \\hat{p} = h_{\\mathbf{\\theta}}(x) = \\sigma(\\mathbf{x}^{T}\\mathbf{\\theta}) $$"
   ]
  },
  {
   "cell_type": "markdown",
   "metadata": {
    "lang": "es",
    "slideshow": {
     "slide_type": "slide"
    }
   },
   "source": [
    "La logística, señalada como $\\sigma(\\cdot)$, es una función sigmoide (es decir, en forma de $S$) que genera un número entre 0 y 1.   "
   ]
  },
  {
   "cell_type": "markdown",
   "metadata": {
    "lang": "es",
    "slideshow": {
     "slide_type": "slide"
    }
   },
   "source": [
    "Se define como se muestra en la Ecuación 4-14 y la Figura 4-21"
   ]
  },
  {
   "cell_type": "markdown",
   "metadata": {
    "slideshow": {
     "slide_type": "slide"
    }
   },
   "source": [
    "$$ \\sigma(t) = \\frac{1}{1+exp(-t)} $$"
   ]
  },
  {
   "cell_type": "code",
   "execution_count": null,
   "metadata": {
    "slideshow": {
     "slide_type": "slide"
    }
   },
   "outputs": [],
   "source": [
    "from IPython.display import Image \n",
    "Image('figure_4_21.JPG',width=600,height=300)"
   ]
  },
  {
   "cell_type": "markdown",
   "metadata": {
    "lang": "es",
    "slideshow": {
     "slide_type": "slide"
    }
   },
   "source": [
    "Una vez que el modelo de regresión logística ha estimado la probabilidad $\\hat{p}= h_{\\theta}(\\mathbf{x}) = \\sigma(\\mathbf{x}^{T}\\mathbf{\\theta})$ de que una instancia $\\mathbf{x}$ pertenezca a la clase positiva, puede hacer su predicción $\\hat{y}$ fácilmente (ver Ecuación 4-15)."
   ]
  },
  {
   "cell_type": "markdown",
   "metadata": {
    "lang": "es",
    "slideshow": {
     "slide_type": "slide"
    }
   },
   "source": [
    "Ecuación 4-15. Predicción del modelo de regresión logística"
   ]
  },
  {
   "cell_type": "markdown",
   "metadata": {
    "slideshow": {
     "slide_type": "slide"
    }
   },
   "source": [
    "$$ \\hat{y} = \\begin{cases}0 & \\text{si } \\hat{p} < 0.5 \\\\ 1 & \\text{si } \\hat{p} \\geq 0.5 \\end{cases} $$"
   ]
  },
  {
   "cell_type": "markdown",
   "metadata": {
    "lang": "es",
    "slideshow": {
     "slide_type": "slide"
    }
   },
   "source": [
    "Observe que $\\sigma(t) < 0.5$ cuando $t < 0$ y  \n",
    "* $\\sigma(t) \\geq 0.5$ cuando $t \\geq 0$,   \n",
    "\n",
    "por lo que un Logistic El modelo de regresión predice:\n",
    "* 1 si $\\mathbf{x}^{T}\\mathbf{\\theta}$ es positivo y  \n",
    "* $0$ si es negativo."
   ]
  },
  {
   "cell_type": "code",
   "execution_count": null,
   "metadata": {
    "slideshow": {
     "slide_type": "slide"
    }
   },
   "outputs": [],
   "source": [
    "import numpy as np \n",
    "import matplotlib.pyplot as plt "
   ]
  },
  {
   "cell_type": "code",
   "execution_count": null,
   "metadata": {
    "slideshow": {
     "slide_type": "slide"
    }
   },
   "outputs": [],
   "source": [
    "t_sigma=np.linspace(-5,5) \n",
    "y_sigma=1/(1+np.exp(-t_sigma)) \n",
    "plt.plot(t_sigma,y_sigma) \n",
    "plt.grid() "
   ]
  },
  {
   "cell_type": "markdown",
   "metadata": {
    "slideshow": {
     "slide_type": "slide"
    }
   },
   "source": [
    "## NOTE "
   ]
  },
  {
   "cell_type": "markdown",
   "metadata": {
    "lang": "es",
    "slideshow": {
     "slide_type": "slide"
    }
   },
   "source": [
    "La puntuación $t$ a menudo se denomina *logit*."
   ]
  },
  {
   "cell_type": "markdown",
   "metadata": {
    "lang": "es",
    "slideshow": {
     "slide_type": "slide"
    }
   },
   "source": [
    "El nombre proviene del hecho de que la función *logit*, definida como $logit(p) = \\log(p / (1 – p))$, es la inversa de la función logística.  \n",
    "Donde $p$ es la probabilidad. "
   ]
  },
  {
   "cell_type": "markdown",
   "metadata": {},
   "source": [
    "\\begin{align*}\n",
    "\\sigma(t) = \\frac{1}{1 + e^{-t}} & \\to p = \\frac{1}{1+e^{-t}} \\\\\n",
    "& \\to p(1+e^{-t}) = 1 \\\\ \n",
    "& \\to 1+e^{-t} = \\frac{1}{p} \\\\\n",
    "& \\to e^{-t} \\frac{1}{p} - 1 \\\\\n",
    "& \\to e^{-t} \\frac{1-p}{p} \\\\\n",
    "& \\to -t = \\ln \\left( \\frac{1-p}{p} \\right) \\\\\n",
    "& \\to t = \\ln \\left( \\frac{p}{1-p} \\right) \n",
    "\\end{align*}"
   ]
  },
  {
   "cell_type": "markdown",
   "metadata": {
    "lang": "es",
    "slideshow": {
     "slide_type": "slide"
    }
   },
   "source": [
    "De hecho, si calcula el logit de la probabilidad estimada $p$, encontrará que el resultado es $t$."
   ]
  },
  {
   "cell_type": "markdown",
   "metadata": {
    "lang": "es",
    "slideshow": {
     "slide_type": "slide"
    }
   },
   "source": [
    "El logit también se denomina log-odds, ya que es el logaritmo de la relación entre la probabilidad estimada para la clase positiva y la probabilidad estimada para la clase negativa."
   ]
  },
  {
   "cell_type": "markdown",
   "metadata": {
    "slideshow": {
     "slide_type": "slide"
    }
   },
   "source": [
    "$$ log-odds = \\ln \\left( \\frac{\\text{probabilidad de la clase positiva }}{\\text{probabilidad de la clase negativa}} \\right)  $$"
   ]
  },
  {
   "cell_type": "markdown",
   "metadata": {
    "lang": "es",
    "slideshow": {
     "slide_type": "slide"
    }
   },
   "source": [
    "## Función de entrenamiento y coste"
   ]
  },
  {
   "cell_type": "markdown",
   "metadata": {
    "lang": "es",
    "slideshow": {
     "slide_type": "slide"
    }
   },
   "source": [
    "Ahora sabe cómo un modelo de regresión logística estima probabilidades y hace predicciones."
   ]
  },
  {
   "cell_type": "markdown",
   "metadata": {
    "lang": "es",
    "slideshow": {
     "slide_type": "slide"
    }
   },
   "source": [
    "Pero, ¿cómo se entrena?   "
   ]
  },
  {
   "cell_type": "markdown",
   "metadata": {
    "lang": "es",
    "slideshow": {
     "slide_type": "slide"
    }
   },
   "source": [
    "El objetivo del entrenamiento es establecer el vector de parámetros $\\mathbf{\\theta}$ de modo que el modelo estime altas probabilidades para instancias positivas $(y = 1)$ y bajas probabilidades para instancias negativas $(y = 0)$."
   ]
  },
  {
   "cell_type": "markdown",
   "metadata": {
    "lang": "es",
    "slideshow": {
     "slide_type": "slide"
    }
   },
   "source": [
    "Esta idea es capturada por la función de costo que se muestra en la Ecuación 4-16 para una sola instancia de entrenamiento $\\mathbf{x}$."
   ]
  },
  {
   "cell_type": "markdown",
   "metadata": {
    "lang": "es",
    "slideshow": {
     "slide_type": "slide"
    }
   },
   "source": [
    "Ecuación 4-16. Función de coste de una única instancia de formación"
   ]
  },
  {
   "cell_type": "markdown",
   "metadata": {
    "slideshow": {
     "slide_type": "slide"
    }
   },
   "source": [
    "$$ c(\\mathbf{\\theta}) = \\begin{cases} -\\log(\\hat{p}) & \\text{Si } y = 1 \\\\ -\\log(1-\\hat{p}) & \\text{Si } y = 0 \\end{cases} $$"
   ]
  },
  {
   "cell_type": "markdown",
   "metadata": {
    "lang": "es",
    "slideshow": {
     "slide_type": "slide"
    }
   },
   "source": [
    "* Esta función de costo tiene sentido porque $–log(t)$ crece mucho cuando $t$ se acerca a $0$, por lo que el costo será alto si el modelo estima una probabilidad cercana a 0 para una instancia positiva, y  \n",
    "* también será muy grande si el modelo estima una probabilidad cercana a 1 para una instancia negativa."
   ]
  },
  {
   "cell_type": "markdown",
   "metadata": {
    "lang": "es",
    "slideshow": {
     "slide_type": "slide"
    }
   },
   "source": [
    "Por otro lado,   \n",
    "* $–log(t)$ está cerca de $0$ cuando $t$ está cerca de $1$, por lo que el costo será cercano a $0$ si la probabilidad estimada es cercana a $1$ para una instancia positiva o   \n",
    "* cercana a 0 para una instancia negativa, que es precisamente lo que queremos."
   ]
  },
  {
   "cell_type": "markdown",
   "metadata": {
    "lang": "es",
    "slideshow": {
     "slide_type": "slide"
    }
   },
   "source": [
    "La función de coste de todo el conjunto de entrenamiento es el coste medio de todas las instancias de entrenamiento."
   ]
  },
  {
   "cell_type": "markdown",
   "metadata": {
    "lang": "es",
    "slideshow": {
     "slide_type": "slide"
    }
   },
   "source": [
    "Se puede escribir en una sola expresión llamada pérdida logarítmica, que se muestra en la ecuación 4-17."
   ]
  },
  {
   "cell_type": "markdown",
   "metadata": {
    "lang": "es",
    "slideshow": {
     "slide_type": "slide"
    }
   },
   "source": [
    "Ecuación 4-17. Función de costo de regresión logística (pérdida logarítmica)"
   ]
  },
  {
   "cell_type": "markdown",
   "metadata": {
    "slideshow": {
     "slide_type": "slide"
    }
   },
   "source": [
    "$$ J(\\mathbf{\\theta}) =  -\\frac{1}{m}\\sum_{i = 1}^{m} \\left[y^{(i)}\\log(\\hat{p}^{(i)}) + (1-y^{(i)}) \\log\\left(1-\\hat{p}^{(i)}\\right) \\right] $$"
   ]
  },
  {
   "cell_type": "markdown",
   "metadata": {
    "lang": "es",
    "slideshow": {
     "slide_type": "slide"
    }
   },
   "source": [
    "La mala noticia es que no existe una ecuación de forma cerrada conocida para calcular el valor de $\\theta$ que minimice esta función de costo (no existe un equivalente de la Ecuación Normal)."
   ]
  },
  {
   "cell_type": "markdown",
   "metadata": {
    "lang": "es",
    "slideshow": {
     "slide_type": "slide"
    }
   },
   "source": [
    "La buena noticia es que esta función de costo es convexa, por lo que se garantiza que Gradient Descent (o cualquier otro algoritmo de optimización) encuentre el mínimo global (si la tasa de aprendizaje no es demasiado grande y espera lo suficiente)."
   ]
  },
  {
   "cell_type": "markdown",
   "metadata": {
    "lang": "es",
    "slideshow": {
     "slide_type": "slide"
    }
   },
   "source": [
    "Las derivadas parciales de la función de costo con respecto al $j$ - ésimo parámetro del modelo  $\\theta_{j}$ vienen dadas por la Ecuación 4-18."
   ]
  },
  {
   "cell_type": "markdown",
   "metadata": {
    "lang": "es",
    "slideshow": {
     "slide_type": "slide"
    }
   },
   "source": [
    "Ecuación 4-18. Derivadas parciales de la función de costo logístico"
   ]
  },
  {
   "cell_type": "markdown",
   "metadata": {
    "slideshow": {
     "slide_type": "slide"
    }
   },
   "source": [
    "$$ \\frac{\\partial}{\\partial \\theta_{j}} J(\\mathbf{\\theta}) = \\frac{1}{m} \\sum_{i=1}^{m} \\left( \\sigma\\left( \\mathbf{\\theta}^{T}\\mathbf{x}^{(i)} \\right) - y^{(i)} \\right)x_{j}^{(i)} $$"
   ]
  },
  {
   "cell_type": "markdown",
   "metadata": {
    "lang": "es",
    "slideshow": {
     "slide_type": "slide"
    }
   },
   "source": [
    "Esta ecuación se parece mucho a la Ecuación 4-5: para cada instancia, calcula el error de predicción y lo multiplica por el valor de la $j$ ésima característica, y luego calcula el promedio de todas las instancias de entrenamiento."
   ]
  },
  {
   "cell_type": "markdown",
   "metadata": {
    "lang": "es",
    "slideshow": {
     "slide_type": "slide"
    }
   },
   "source": [
    "Una vez que tenga el vector de gradiente que contiene todas las derivadas parciales, puede usarlo en el algoritmo Batch Gradient Descent."
   ]
  },
  {
   "cell_type": "markdown",
   "metadata": {
    "lang": "es",
    "slideshow": {
     "slide_type": "slide"
    }
   },
   "source": [
    "Eso es todo: ahora sabe cómo entrenar un modelo de regresión logística. Para Stochastic GD, tomaría una instancia a la vez, y para Minibatch GD, usaría un mini-lote a la vez."
   ]
  },
  {
   "cell_type": "markdown",
   "metadata": {
    "lang": "es",
    "slideshow": {
     "slide_type": "slide"
    }
   },
   "source": [
    "## Límites de decisión"
   ]
  },
  {
   "cell_type": "markdown",
   "metadata": {
    "lang": "es",
    "slideshow": {
     "slide_type": "slide"
    }
   },
   "source": [
    "Usemos el conjunto de datos del iris para ilustrar la regresión logística."
   ]
  },
  {
   "cell_type": "markdown",
   "metadata": {
    "lang": "es",
    "slideshow": {
     "slide_type": "slide"
    }
   },
   "source": [
    "Este es un famoso conjunto de datos que contiene el largo y ancho del sépalo y pétalo de 150 flores de iris de tres especies diferentes: \n",
    "* *Iris setosa*,   \n",
    "* *Iris versicolor* e   \n",
    "* *Iris virginica*   \n",
    "(ver Figura 4-22)."
   ]
  },
  {
   "cell_type": "code",
   "execution_count": null,
   "metadata": {
    "scrolled": true,
    "slideshow": {
     "slide_type": "slide"
    }
   },
   "outputs": [],
   "source": [
    "from IPython.display import Image \n",
    "Image('figure_4_22.JPG',width=800,height=400)  "
   ]
  },
  {
   "cell_type": "markdown",
   "metadata": {
    "slideshow": {
     "slide_type": "slide"
    }
   },
   "source": [
    "Figura 4-22. Flores de tres especies de plantas de iris   "
   ]
  },
  {
   "cell_type": "markdown",
   "metadata": {
    "slideshow": {
     "slide_type": "slide"
    }
   },
   "source": [
    "Intentemos construir un clasificador para detectar el tipo de *Iris virginica* ($y = 2$) basado solo en la característica del ancho del pétalo $X[3]$.   "
   ]
  },
  {
   "cell_type": "markdown",
   "metadata": {
    "slideshow": {
     "slide_type": "slide"
    }
   },
   "source": [
    "Primero carguemos los datos:"
   ]
  },
  {
   "cell_type": "code",
   "execution_count": 2,
   "metadata": {
    "slideshow": {
     "slide_type": "slide"
    }
   },
   "outputs": [
    {
     "data": {
      "text/plain": [
       "dict_keys(['data', 'target', 'frame', 'target_names', 'DESCR', 'feature_names', 'filename'])"
      ]
     },
     "execution_count": 2,
     "metadata": {},
     "output_type": "execute_result"
    }
   ],
   "source": [
    "import numpy as np \n",
    "from sklearn import datasets\n",
    "iris = datasets.load_iris()\n",
    "iris.keys() "
   ]
  },
  {
   "cell_type": "code",
   "execution_count": 3,
   "metadata": {
    "scrolled": true,
    "slideshow": {
     "slide_type": "slide"
    }
   },
   "outputs": [
    {
     "data": {
      "text/plain": [
       "array(['setosa', 'versicolor', 'virginica'], dtype='<U10')"
      ]
     },
     "execution_count": 3,
     "metadata": {},
     "output_type": "execute_result"
    }
   ],
   "source": [
    "iris['target_names']        "
   ]
  },
  {
   "cell_type": "markdown",
   "metadata": {
    "slideshow": {
     "slide_type": "slide"
    }
   },
   "source": [
    "Nuestra función objetivo $y$ representará a la clase positiva de *las virgínicas*. "
   ]
  },
  {
   "cell_type": "code",
   "execution_count": 4,
   "metadata": {
    "slideshow": {
     "slide_type": "slide"
    }
   },
   "outputs": [],
   "source": [
    "X = iris[\"data\"][:, 3:] # petal width\n",
    "y = (iris[\"target\"] == 2).astype(np.int) # 1 if Iris virginica, else 0"
   ]
  },
  {
   "cell_type": "markdown",
   "metadata": {
    "lang": "es",
    "slideshow": {
     "slide_type": "slide"
    }
   },
   "source": [
    "Ahora entrenemos un modelo de regresión logística:"
   ]
  },
  {
   "cell_type": "code",
   "execution_count": 5,
   "metadata": {
    "slideshow": {
     "slide_type": "slide"
    }
   },
   "outputs": [
    {
     "data": {
      "text/plain": [
       "LogisticRegression()"
      ]
     },
     "execution_count": 5,
     "metadata": {},
     "output_type": "execute_result"
    }
   ],
   "source": [
    "from sklearn.linear_model import LogisticRegression\n",
    "log_reg = LogisticRegression()\n",
    "log_reg.fit(X, y)"
   ]
  },
  {
   "cell_type": "markdown",
   "metadata": {
    "lang": "es",
    "slideshow": {
     "slide_type": "slide"
    }
   },
   "source": [
    "Veamos las probabilidades estimadas del modelo para flores con pétalos de ancho\n",
    "variando de 0 cm a 3 cm (Figura 4-23):"
   ]
  },
  {
   "cell_type": "code",
   "execution_count": 6,
   "metadata": {
    "slideshow": {
     "slide_type": "slide"
    }
   },
   "outputs": [],
   "source": [
    "import matplotlib.pyplot as plt "
   ]
  },
  {
   "cell_type": "code",
   "execution_count": 7,
   "metadata": {
    "slideshow": {
     "slide_type": "slide"
    }
   },
   "outputs": [],
   "source": [
    "X_new = np.linspace(0, 3, 1000).reshape(-1,1) "
   ]
  },
  {
   "cell_type": "code",
   "execution_count": 8,
   "metadata": {
    "slideshow": {
     "slide_type": "slide"
    }
   },
   "outputs": [
    {
     "data": {
      "text/plain": [
       "array([[9.99250016e-01, 7.49984089e-04],\n",
       "       [9.99240201e-01, 7.59799387e-04],\n",
       "       [9.99230257e-01, 7.69743043e-04],\n",
       "       ...,\n",
       "       [3.08374822e-03, 9.96916252e-01],\n",
       "       [3.04400296e-03, 9.96955997e-01],\n",
       "       [3.00476842e-03, 9.96995232e-01]])"
      ]
     },
     "execution_count": 8,
     "metadata": {},
     "output_type": "execute_result"
    }
   ],
   "source": [
    "y_proba = log_reg.predict_proba(X_new)\n",
    "y_proba "
   ]
  },
  {
   "cell_type": "code",
   "execution_count": 9,
   "metadata": {
    "slideshow": {
     "slide_type": "slide"
    }
   },
   "outputs": [
    {
     "data": {
      "text/plain": [
       "[<matplotlib.lines.Line2D at 0x2617d48e788>]"
      ]
     },
     "execution_count": 9,
     "metadata": {},
     "output_type": "execute_result"
    },
    {
     "data": {
      "image/png": "[encoded data removed]",
      "text/plain": [
       "<Figure size 432x288 with 1 Axes>"
      ]
     },
     "metadata": {
      "needs_background": "light"
     },
     "output_type": "display_data"
    }
   ],
   "source": [
    "plt.plot(X_new, y_proba[:, 1], \"g-\", label=\"Iris virginica\")\n",
    "plt.plot(X_new, y_proba[:, 0], \"b--\", label=\"Not Iris virginica\")\n",
    "# + more Matplotlib code to make the image look pretty"
   ]
  },
  {
   "cell_type": "code",
   "execution_count": 10,
   "metadata": {
    "slideshow": {
     "slide_type": "slide"
    }
   },
   "outputs": [
    {
     "data": {
      "image/jpeg": "[encoded data removed]",
      "text/plain": [
       "<IPython.core.display.Image object>"
      ]
     },
     "execution_count": 10,
     "metadata": {
      "image/jpeg": {
       "height": 300,
       "width": 600
      }
     },
     "output_type": "execute_result"
    }
   ],
   "source": [
    "from IPython.display import Image \n",
    "Image('figure_4_23.JPG',width=600,height=300) "
   ]
  },
  {
   "cell_type": "markdown",
   "metadata": {
    "lang": "es",
    "slideshow": {
     "slide_type": "slide"
    }
   },
   "source": [
    "El ancho de los pétalos de las flores de Iris virginica (representadas por triángulos) varía de 1,4 cm a 2,5 cm, mientras que las otras flores de iris (representadas por cuadrados) generalmente tienen un ancho de pétalos más pequeño, que van de 0,1 cm a 1,8 cm. Observe que hay un poco de superposición."
   ]
  },
  {
   "cell_type": "markdown",
   "metadata": {
    "lang": "es",
    "slideshow": {
     "slide_type": "slide"
    }
   },
   "source": [
    "Por encima de aproximadamente 2 cm, el clasificador está muy seguro de que la flor es una Iris virginica (produce una alta probabilidad para esa clase), mientras que por debajo de 1 cm está muy seguro de que no es una Iris virginica (alta probabilidad para el tipo \"No Iris virginica ”clase)."
   ]
  },
  {
   "cell_type": "markdown",
   "metadata": {
    "lang": "es",
    "slideshow": {
     "slide_type": "slide"
    }
   },
   "source": [
    "Entre estos extremos, el clasificador no está seguro."
   ]
  },
  {
   "cell_type": "markdown",
   "metadata": {
    "lang": "es",
    "slideshow": {
     "slide_type": "slide"
    }
   },
   "source": [
    "Sin embargo, si le pide que prediga la clase (utilizando el método ``predict()`` en lugar del método `` predict_proba()``), devolverá la clase que sea más probable."
   ]
  },
  {
   "cell_type": "markdown",
   "metadata": {
    "lang": "es",
    "slideshow": {
     "slide_type": "slide"
    }
   },
   "source": [
    "Por lo tanto, hay un límite de decisión de alrededor de 1,6 cm donde ambas probabilidades son iguales al 50%: si el ancho del pétalo es superior a 1,6 cm, el clasificador predecirá que la flor es una Iris virginica y, de lo contrario, predecirá que es no (incluso si no tiene mucha confianza):"
   ]
  },
  {
   "cell_type": "code",
   "execution_count": 11,
   "metadata": {
    "slideshow": {
     "slide_type": "slide"
    }
   },
   "outputs": [
    {
     "data": {
      "text/plain": [
       "array([1, 0])"
      ]
     },
     "execution_count": 11,
     "metadata": {},
     "output_type": "execute_result"
    }
   ],
   "source": [
    "log_reg.predict([[1.7], [1.5]]) "
   ]
  },
  {
   "cell_type": "code",
   "execution_count": 16,
   "metadata": {
    "slideshow": {
     "slide_type": "slide"
    }
   },
   "outputs": [
    {
     "data": {
      "text/plain": [
       "array([1])"
      ]
     },
     "execution_count": 16,
     "metadata": {},
     "output_type": "execute_result"
    }
   ],
   "source": [
    "log_reg.predict([[1.7]])    "
   ]
  },
  {
   "cell_type": "markdown",
   "metadata": {
    "lang": "es",
    "slideshow": {
     "slide_type": "slide"
    }
   },
   "source": [
    "La Figura 4-24 muestra el mismo conjunto de datos, pero esta vez con dos características: ancho y largo del pétalo."
   ]
  },
  {
   "cell_type": "markdown",
   "metadata": {
    "lang": "es",
    "slideshow": {
     "slide_type": "slide"
    }
   },
   "source": [
    "Una vez entrenado, el clasificador de Regresión Logística puede, basándose en estas dos características, estimar la probabilidad de que una nueva flor sea una Iris virginica."
   ]
  },
  {
   "cell_type": "markdown",
   "metadata": {
    "lang": "es",
    "slideshow": {
     "slide_type": "slide"
    }
   },
   "source": [
    "La línea discontinua representa los puntos donde el modelo estima una probabilidad del 50%: este es el límite de decisión del modelo."
   ]
  },
  {
   "cell_type": "markdown",
   "metadata": {
    "lang": "es",
    "slideshow": {
     "slide_type": "slide"
    }
   },
   "source": [
    "Tenga en cuenta que es un límite lineal.   "
   ]
  },
  {
   "cell_type": "markdown",
   "metadata": {
    "lang": "es",
    "slideshow": {
     "slide_type": "slide"
    }
   },
   "source": [
    "Cada línea paralela representa los puntos donde el modelo genera un probabilidad específica, del 15% (abajo a la izquierda) al 90% (arriba a la derecha)."
   ]
  },
  {
   "cell_type": "markdown",
   "metadata": {
    "lang": "es",
    "slideshow": {
     "slide_type": "slide"
    }
   },
   "source": [
    "Todas las flores más allá de la línea superior derecha tienen más del 90% de probabilidad de ser Iris virginica,\n",
    "según el modelo."
   ]
  },
  {
   "cell_type": "code",
   "execution_count": 17,
   "metadata": {
    "slideshow": {
     "slide_type": "slide"
    }
   },
   "outputs": [
    {
     "data": {
      "image/jpeg": "[encoded data removed]",
      "text/plain": [
       "<IPython.core.display.Image object>"
      ]
     },
     "execution_count": 17,
     "metadata": {
      "image/jpeg": {
       "height": 300,
       "width": 600
      }
     },
     "output_type": "execute_result"
    }
   ],
   "source": [
    "from IPython.display import Image \n",
    "Image('figure_4_24.JPG',width=600,height=300) "
   ]
  },
  {
   "cell_type": "markdown",
   "metadata": {
    "lang": "es",
    "slideshow": {
     "slide_type": "slide"
    }
   },
   "source": [
    "Al igual que los otros modelos lineales, los modelos de regresión logística se pueden regularizar mediante penalizaciones $\\mathcal{l}_{1}$ o $\\mathcal{l}_{2}$."
   ]
  },
  {
   "cell_type": "markdown",
   "metadata": {
    "lang": "es",
    "slideshow": {
     "slide_type": "slide"
    }
   },
   "source": [
    "``Scikit-Learn`` en realidad agrega una penalización $\\mathcal{l}_{2}$ por defecto."
   ]
  },
  {
   "cell_type": "markdown",
   "metadata": {
    "lang": "es",
    "slideshow": {
     "slide_type": "slide"
    }
   },
   "source": [
    "NOTA"
   ]
  },
  {
   "cell_type": "markdown",
   "metadata": {
    "lang": "es",
    "slideshow": {
     "slide_type": "slide"
    }
   },
   "source": [
    "El hiperparámetro que controla la fuerza de regularización de un modelo de Scikit-Learn ``LogisticRegression`` no es alfa (como en otros modelos lineales), sino su inverso: $C$."
   ]
  },
  {
   "cell_type": "markdown",
   "metadata": {
    "lang": "es",
    "slideshow": {
     "slide_type": "slide"
    }
   },
   "source": [
    "Cuanto mayor sea el valor de $C$, menos regularizará el modelo."
   ]
  },
  {
   "cell_type": "markdown",
   "metadata": {
    "lang": "es",
    "slideshow": {
     "slide_type": "slide"
    }
   },
   "source": [
    "## Regresión Softmax"
   ]
  },
  {
   "cell_type": "markdown",
   "metadata": {
    "lang": "es",
    "slideshow": {
     "slide_type": "slide"
    }
   },
   "source": [
    "El modelo de regresión logística se puede generalizar para admitir múltiples clases directamente, sin tener que entrenar y combinar múltiples clasificadores binarios (como se discutió en el Capítulo 3)."
   ]
  },
  {
   "cell_type": "markdown",
   "metadata": {
    "lang": "es",
    "slideshow": {
     "slide_type": "slide"
    }
   },
   "source": [
    "Esto se llama *Regresión Softmax* o *Regresión logística multinomial*."
   ]
  },
  {
   "cell_type": "markdown",
   "metadata": {
    "lang": "es",
    "slideshow": {
     "slide_type": "slide"
    }
   },
   "source": [
    "La idea es simple: cuando se le da una instancia $\\mathbf{x}$, el modelo de Regresión Softmax primero calcula una puntuación $s_{k}(\\mathbf{x})$ para cada clase $k$, luego estima la probabilidad de cada clase aplicando la función softmax (también llamada exponencial normalizada) a las puntuaciones."
   ]
  },
  {
   "cell_type": "markdown",
   "metadata": {
    "lang": "es",
    "slideshow": {
     "slide_type": "slide"
    }
   },
   "source": [
    "La ecuación para calcular $s_{k}(x)$ debería parecer familiar, ya que es como la ecuación para la predicción de regresión lineal (consulte la ecuación 4-19)."
   ]
  },
  {
   "cell_type": "markdown",
   "metadata": {
    "lang": "es",
    "slideshow": {
     "slide_type": "slide"
    }
   },
   "source": [
    "Ecuación 4-19. Puntaje softmax para la clase $k$"
   ]
  },
  {
   "cell_type": "markdown",
   "metadata": {
    "slideshow": {
     "slide_type": "slide"
    }
   },
   "source": [
    "$$ s_{k}(\\mathbf{x}) =  \\mathbf{x}^{T}\\mathbf{\\theta}^{(k)} $$"
   ]
  },
  {
   "cell_type": "markdown",
   "metadata": {
    "lang": "es"
   },
   "source": [
    "Tenga en cuenta que cada clase tiene su propio vector de parámetro dedicado $\\mathbf{\\theta}^{(k)}$."
   ]
  },
  {
   "cell_type": "markdown",
   "metadata": {
    "lang": "es",
    "slideshow": {
     "slide_type": "slide"
    }
   },
   "source": [
    "Todos estos vectores se almacenan normalmente como filas en una *matriz de parámetros* $\\Theta$."
   ]
  },
  {
   "cell_type": "markdown",
   "metadata": {
    "slideshow": {
     "slide_type": "slide"
    }
   },
   "source": [
    "Once you have computed the score of every class for the instance x, you can estimate the probability $\\hat{p}$ that the instance belongs to class k by running the scores through the softmax function (Equation 4- 20).   "
   ]
  },
  {
   "cell_type": "markdown",
   "metadata": {
    "slideshow": {
     "slide_type": "slide"
    }
   },
   "source": [
    "The function computes the exponential of every score, then normalizes them (dividing by the sum of all the exponentials).   "
   ]
  },
  {
   "cell_type": "markdown",
   "metadata": {
    "slideshow": {
     "slide_type": "slide"
    }
   },
   "source": [
    "The scores are generally called logits or log-odds (although they are actually unnormalized log-odds).\n",
    "Equation 4-20. Softmax function"
   ]
  },
  {
   "cell_type": "markdown",
   "metadata": {
    "slideshow": {
     "slide_type": "slide"
    }
   },
   "source": [
    "$$ \\hat{p}_{k} = \\sigma(s(x))_{k} = \\frac{exp(s_{k}(x))}{\\sum_{j=1}^{k} exp(s_{j}(x)) } $$"
   ]
  },
  {
   "cell_type": "markdown",
   "metadata": {
    "slideshow": {
     "slide_type": "slide"
    }
   },
   "source": [
    "In this equation:"
   ]
  },
  {
   "cell_type": "markdown",
   "metadata": {
    "slideshow": {
     "slide_type": "slide"
    }
   },
   "source": [
    "* $K$ is the number of classes.  \n",
    "* $s(x)$ is a vector containing the scores of each class for the instance $x$.  \n",
    "* $\\sigma(s(x))$ is the estimated probability that the instance $x$ belongs to class $k$, given the   \n",
    "  scores of each class for that instance."
   ]
  },
  {
   "cell_type": "markdown",
   "metadata": {
    "slideshow": {
     "slide_type": "slide"
    }
   },
   "source": [
    "Just like the Logistic Regression classifier, the Softmax Regression classifier predicts the class with the highest estimated probability (which is simply the class with the highest score), as shown in Equation 4-21. "
   ]
  },
  {
   "cell_type": "markdown",
   "metadata": {
    "slideshow": {
     "slide_type": "slide"
    }
   },
   "source": [
    "Equation 4-21. Softmax Regression classifier prediction"
   ]
  },
  {
   "cell_type": "markdown",
   "metadata": {
    "slideshow": {
     "slide_type": "slide"
    }
   },
   "source": [
    "$$ \\hat{y} =  $$"
   ]
  },
  {
   "cell_type": "markdown",
   "metadata": {
    "slideshow": {
     "slide_type": "slide"
    }
   },
   "source": [
    "The argmax operator returns the value of a variable that maximizes a function."
   ]
  },
  {
   "cell_type": "markdown",
   "metadata": {
    "slideshow": {
     "slide_type": "slide"
    }
   },
   "source": [
    "In this equation, it returns the value of k that maximizes the estimated probability $\\sigma(s(x))$."
   ]
  },
  {
   "cell_type": "markdown",
   "metadata": {
    "slideshow": {
     "slide_type": "slide"
    }
   },
   "source": [
    "## TIP"
   ]
  },
  {
   "cell_type": "markdown",
   "metadata": {
    "slideshow": {
     "slide_type": "slide"
    }
   },
   "source": [
    "The Softmax Regression classifier predicts only one class at a time (i.e., it is multiclass, not\n",
    "multioutput), so it should be used only with mutually exclusive classes, such as different types of plants. You cannot use it to recognize multiple people in one picture."
   ]
  },
  {
   "cell_type": "markdown",
   "metadata": {
    "slideshow": {
     "slide_type": "slide"
    }
   },
   "source": [
    "Now that you know how the model estimates probabilities and makes predictions, let’s take a look at training. The objective is to have a model that estimates a high probability for the target class (and consequently a low probability for the other classes).   "
   ]
  },
  {
   "cell_type": "markdown",
   "metadata": {
    "slideshow": {
     "slide_type": "slide"
    }
   },
   "source": [
    "Minimizing the cost function shown in Equation 4-22, called the cross entropy, should lead to this objective because it penalizes the model when it estimates a low probability for a target class. Cross\n",
    "entropy is frequently used to measure how well a set of estimated class probabilities matches the target classes."
   ]
  },
  {
   "cell_type": "markdown",
   "metadata": {
    "slideshow": {
     "slide_type": "slide"
    }
   },
   "source": [
    "Equation 4-22. Cross entropy cost function"
   ]
  },
  {
   "cell_type": "markdown",
   "metadata": {
    "slideshow": {
     "slide_type": "slide"
    }
   },
   "source": [
    "$$ J(Θ) = − 1 m Σm i=1ΣK k=1 y (i) k log(ˆp ( $$ "
   ]
  },
  {
   "cell_type": "markdown",
   "metadata": {
    "slideshow": {
     "slide_type": "slide"
    }
   },
   "source": [
    "In this equation: $y(i)$ k is the target probability that the i instance belongs to class k.   "
   ]
  },
  {
   "cell_type": "markdown",
   "metadata": {
    "slideshow": {
     "slide_type": "slide"
    }
   },
   "source": [
    "In general, it is either equal to 1 or 0, depending on whether the instance belongs to the class or not."
   ]
  },
  {
   "cell_type": "markdown",
   "metadata": {
    "slideshow": {
     "slide_type": "slide"
    }
   },
   "source": [
    "k th Notice that when there are just two classes (K = 2), this cost function is equivalent to the Logistic Regression’s cost function (log loss; see Equation 4 - 17)."
   ]
  },
  {
   "cell_type": "markdown",
   "metadata": {
    "lang": "es",
    "slideshow": {
     "slide_type": "slide"
    }
   },
   "source": [
    "## ENTROPÍA CRUZADA"
   ]
  },
  {
   "cell_type": "markdown",
   "metadata": {
    "slideshow": {
     "slide_type": "slide"
    }
   },
   "source": [
    "Cross entropy originated from information theory. Suppose you want to\n",
    "efficiently transmit information about the weather every day.  "
   ]
  },
  {
   "cell_type": "markdown",
   "metadata": {
    "slideshow": {
     "slide_type": "slide"
    }
   },
   "source": [
    "If there are eight options (sunny, rainy, etc.), you could encode each option using three\n",
    "bits because 2 = 8. However, if you think it will be sunny almost every day, it would be much more efficient to code “sunny” on just one bit (0) and the other seven options on four bits (starting with a 1).   "
   ]
  },
  {
   "cell_type": "markdown",
   "metadata": {
    "slideshow": {
     "slide_type": "slide"
    }
   },
   "source": [
    "Cross entropy measures the average number of bits you actually send per option.   "
   ]
  },
  {
   "cell_type": "markdown",
   "metadata": {
    "slideshow": {
     "slide_type": "slide"
    }
   },
   "source": [
    "If your assumption about the weather is perfect, cross entropy will be equal to the entropy of the\n",
    "weather itself (i.e., its intrinsic unpredictability).  "
   ]
  },
  {
   "cell_type": "markdown",
   "metadata": {
    "slideshow": {
     "slide_type": "slide"
    }
   },
   "source": [
    "But if your assumptions are wrong (e.g., if it rains often), cross entropy will be greater by an amount\n",
    "called the Kullback–Leibler (KL) divergence."
   ]
  },
  {
   "cell_type": "markdown",
   "metadata": {
    "slideshow": {
     "slide_type": "slide"
    }
   },
   "source": [
    "The cross entropy between two probability distributions p and q is defined as H(p, q) = −Σx p(x) log q(x) (at least when the distributions are discrete)."
   ]
  },
  {
   "cell_type": "markdown",
   "metadata": {
    "slideshow": {
     "slide_type": "slide"
    }
   },
   "source": [
    "For more details, check out my video on the subject."
   ]
  },
  {
   "cell_type": "markdown",
   "metadata": {
    "slideshow": {
     "slide_type": "slide"
    }
   },
   "source": [
    "The gradient vector of this cost function with regard to θ is given by Equation\n",
    "4-23."
   ]
  },
  {
   "cell_type": "markdown",
   "metadata": {
    "slideshow": {
     "slide_type": "slide"
    }
   },
   "source": [
    "Equation 4-23. Cross entropy gradient vector for class k"
   ]
  },
  {
   "cell_type": "markdown",
   "metadata": {
    "slideshow": {
     "slide_type": "slide"
    }
   },
   "source": [
    "$$ \\nabla_{\\theta^{(k)}}  = $$"
   ]
  },
  {
   "cell_type": "markdown",
   "metadata": {
    "slideshow": {
     "slide_type": "slide"
    }
   },
   "source": [
    "Now you can compute the gradient vector for every class, then use Gradient Descent (or any other optimization algorithm) to find the parameter matrix Θ that minimizes the cost function."
   ]
  },
  {
   "cell_type": "markdown",
   "metadata": {
    "slideshow": {
     "slide_type": "slide"
    }
   },
   "source": [
    "Let's use Softmax Regression to classify the iris flowers into all three classes."
   ]
  },
  {
   "cell_type": "markdown",
   "metadata": {
    "slideshow": {
     "slide_type": "slide"
    }
   },
   "source": [
    "Scikit-Learn's LogisticRegression uses one-versus-the-rest by default when you train it on more than two classes, but you can set the multi_class hyperparameter to \"multinomial\" to switch it to Softmax Regression.   "
   ]
  },
  {
   "cell_type": "markdown",
   "metadata": {
    "slideshow": {
     "slide_type": "slide"
    }
   },
   "source": [
    "You must 3(k) also specify a solver that supports Softmax Regression, such as the \"lbfgs\" solver (see Scikit-Learn’s documentation for more details). It also applies ℓ regularization by default, which you can control using the hyperparameter C:"
   ]
  },
  {
   "cell_type": "code",
   "execution_count": null,
   "metadata": {
    "slideshow": {
     "slide_type": "slide"
    }
   },
   "outputs": [],
   "source": [
    "X = iris[\"data\"][:, (2, 3)] # petal length, petal width\n",
    "y = iris[\"target\"]\n",
    "softmax_reg = LogisticRegression(multi_class=\"multinomial\",solver=\"lbfgs\", C=10)\n",
    "softmax_reg.fit(X, y)"
   ]
  },
  {
   "cell_type": "markdown",
   "metadata": {
    "slideshow": {
     "slide_type": "slide"
    }
   },
   "source": [
    "So the next time you find an iris with petals that are 5 cm long and 2 cm wide, you can ask your model to tell you what type of iris it is, and it will answer Iris virginica (class 2) with 94.2% probability (or Iris versicolor with 5.8% probability):"
   ]
  },
  {
   "cell_type": "code",
   "execution_count": null,
   "metadata": {
    "slideshow": {
     "slide_type": "slide"
    }
   },
   "outputs": [],
   "source": [
    ">>> softmax_reg.predict([[5, 2]])\n",
    "array([2])\n",
    ">>> softmax_reg.predict_proba([[5, 2]])\n",
    "array([[6.38014896e-07, 5.74929995e-02, 9.42506362e-01]])"
   ]
  },
  {
   "cell_type": "markdown",
   "metadata": {
    "slideshow": {
     "slide_type": "slide"
    }
   },
   "source": [
    "Figure 4-25 shows the resulting decision boundaries, represented by the background colors. Notice that the decision boundaries between any two classes are linear.   "
   ]
  },
  {
   "cell_type": "markdown",
   "metadata": {
    "slideshow": {
     "slide_type": "slide"
    }
   },
   "source": [
    "The figure also shows the probabilities for the Iris versicolor class, represented by the curved lines (e.g., the line labeled with 0.450 represents the 45% probability boundary).  "
   ]
  },
  {
   "cell_type": "markdown",
   "metadata": {
    "slideshow": {
     "slide_type": "slide"
    }
   },
   "source": [
    "Notice that the model can predict a class that has an estimated probability below 50%. For example, at the point where all decision boundaries meet, all classes have an equal estimated probability of 33%."
   ]
  },
  {
   "cell_type": "code",
   "execution_count": 18,
   "metadata": {
    "slideshow": {
     "slide_type": "slide"
    }
   },
   "outputs": [
    {
     "data": {
      "image/jpeg": "[encoded data removed]",
      "text/plain": [
       "<IPython.core.display.Image object>"
      ]
     },
     "execution_count": 18,
     "metadata": {
      "image/jpeg": {
       "height": 300,
       "width": 600
      }
     },
     "output_type": "execute_result"
    }
   ],
   "source": [
    "from IPython.display import Image\n",
    "Image('figure_4_25.jpg',width=600,height=300) "
   ]
  },
  {
   "cell_type": "markdown",
   "metadata": {
    "slideshow": {
     "slide_type": "slide"
    }
   },
   "source": [
    "## Exercises"
   ]
  },
  {
   "cell_type": "markdown",
   "metadata": {
    "slideshow": {
     "slide_type": "slide"
    }
   },
   "source": [
    "1. Which Linear Regression training algorithm can you use if you have a training set with millions   \n",
    "   of features?"
   ]
  },
  {
   "cell_type": "markdown",
   "metadata": {
    "slideshow": {
     "slide_type": "slide"
    }
   },
   "source": [
    "2. Suppose the features in your training set have very different scales.  \n",
    "   Which algorithms might suffer from this, and how? What can you do about it?"
   ]
  },
  {
   "cell_type": "markdown",
   "metadata": {
    "slideshow": {
     "slide_type": "slide"
    }
   },
   "source": [
    "3. Can Gradient Descent get stuck in a local minimum when training a\n",
    "Logistic Regression model?"
   ]
  },
  {
   "cell_type": "markdown",
   "metadata": {
    "slideshow": {
     "slide_type": "slide"
    }
   },
   "source": [
    "4. Do all Gradient Descent algorithms lead to the same model, provided\n",
    "you let them run long enough?"
   ]
  },
  {
   "cell_type": "markdown",
   "metadata": {
    "slideshow": {
     "slide_type": "slide"
    }
   },
   "source": [
    "5. Suppose you use Batch Gradient Descent and you plot the validation\n",
    "error at every epoch. If you notice that the validation error consistently\n",
    "goes up, what is likely going on? How can you fix this?"
   ]
  },
  {
   "cell_type": "markdown",
   "metadata": {
    "slideshow": {
     "slide_type": "slide"
    }
   },
   "source": [
    "6. Is it a good idea to stop Mini-batch Gradient Descent immediately when\n",
    "the validation error goes up?"
   ]
  },
  {
   "cell_type": "markdown",
   "metadata": {
    "slideshow": {
     "slide_type": "slide"
    }
   },
   "source": [
    "7. Which Gradient Descent algorithm (among those we discussed) will\n",
    "reach the vicinity of the optimal solution the fastest? Which will\n",
    "actually converge? How can you make the others converge as well?"
   ]
  },
  {
   "cell_type": "markdown",
   "metadata": {
    "slideshow": {
     "slide_type": "slide"
    }
   },
   "source": [
    "8. Suppose you are using Polynomial Regression. You plot the learning curves and you notice that   \n",
    "   there is a large gap between the training error and the validation error. What is happening?  \n",
    "   What are three ways to solve this?"
   ]
  },
  {
   "cell_type": "markdown",
   "metadata": {
    "slideshow": {
     "slide_type": "slide"
    }
   },
   "source": [
    "9. Suppose you are using Ridge Regression and you notice that the training error and the validation error are almost equal and fairly high.  \n",
    "Would you say that the model suffers from high bias or high variance?  \n",
    "Should you increase the regularization hyperparameter α or reduce it?"
   ]
  },
  {
   "cell_type": "markdown",
   "metadata": {
    "slideshow": {
     "slide_type": "slide"
    }
   },
   "source": [
    "10. Why would you want to use:\n",
    "a. Ridge Regression instead of plain Linear Regression (i.e., without any regularization)?\n",
    "b. Lasso instead of Ridge Regression?\n",
    "c. Elastic Net instead of Lasso?"
   ]
  },
  {
   "cell_type": "markdown",
   "metadata": {
    "slideshow": {
     "slide_type": "slide"
    }
   },
   "source": [
    "11. Suppose you want to classify pictures as outdoor/indoor and daytime/nighttime. Should you   \n",
    "    implement two Logistic Regression classifiers or one Softmax Regression classifier?"
   ]
  },
  {
   "cell_type": "markdown",
   "metadata": {
    "slideshow": {
     "slide_type": "slide"
    }
   },
   "source": [
    "12. Implement Batch Gradient Descent with early stopping for Softmax Regression (without using Scikit-Learn).  "
   ]
  },
  {
   "cell_type": "markdown",
   "metadata": {
    "slideshow": {
     "slide_type": "slide"
    }
   },
   "source": [
    "Solutions to these exercises are available in Appendix A."
   ]
  },
  {
   "cell_type": "markdown",
   "metadata": {
    "slideshow": {
     "slide_type": "slide"
    }
   },
   "source": [
    "1. It is often the case that a learning algorithm will try to optimize a different function than   \n",
    "   the performance measure used to evaluate the final model. This is generally because that function   \n",
    "   is easier to compute, because it has useful differentiation properties that the performance   \n",
    "   measure lacks, or because we want to constrain the model during training, as you will see when we   \n",
    "   discuss regularization."
   ]
  },
  {
   "cell_type": "markdown",
   "metadata": {
    "slideshow": {
     "slide_type": "slide"
    }
   },
   "source": [
    "2 Note that Scikit-Learn separates the bias term (intercept_) from the feature weights (coef_)."
   ]
  },
  {
   "cell_type": "markdown",
   "metadata": {
    "slideshow": {
     "slide_type": "slide"
    }
   },
   "source": [
    "3 Technically speaking, its derivative is Lipschitz continuous."
   ]
  },
  {
   "cell_type": "markdown",
   "metadata": {
    "slideshow": {
     "slide_type": "slide"
    }
   },
   "source": [
    "4 Since feature 1 is smaller, it takes a larger change in θ to affect the cost function, which is why the\n",
    "bowl is elongated along the θ axis."
   ]
  },
  {
   "cell_type": "markdown",
   "metadata": {
    "slideshow": {
     "slide_type": "slide"
    }
   },
   "source": [
    "5 Eta (η) is the seventh letter of the Greek alphabet."
   ]
  },
  {
   "cell_type": "markdown",
   "metadata": {
    "slideshow": {
     "slide_type": "slide"
    }
   },
   "source": [
    "6 While the Normal Equation can only perform Linear Regression, the Gradient Descent algorithms\n",
    "can be used to train many other models, as we will see."
   ]
  },
  {
   "cell_type": "markdown",
   "metadata": {
    "slideshow": {
     "slide_type": "slide"
    }
   },
   "source": [
    "7 A quadratic equation is of the form y = ax 2 + bx + c."
   ]
  },
  {
   "cell_type": "markdown",
   "metadata": {
    "slideshow": {
     "slide_type": "slide"
    }
   },
   "source": [
    "8 This notion of bias is not to be confused with the bias term of linear models."
   ]
  },
  {
   "cell_type": "markdown",
   "metadata": {
    "slideshow": {
     "slide_type": "slide"
    }
   },
   "source": [
    "9 It is common to use the notation J(θ) for cost functions that don’t have a short name; we will often\n",
    "use this notation throughout the rest of this book. The context will make it clear which cost function\n",
    "is being discussed."
   ]
  },
  {
   "cell_type": "markdown",
   "metadata": {
    "slideshow": {
     "slide_type": "slide"
    }
   },
   "source": [
    "10 Norms are discussed in Chapter 2."
   ]
  },
  {
   "cell_type": "markdown",
   "metadata": {
    "slideshow": {
     "slide_type": "slide"
    }
   },
   "source": [
    "11 A square matrix full of 0s except for 1s on the main diagonal (top left to bottom right)."
   ]
  },
  {
   "cell_type": "markdown",
   "metadata": {
    "slideshow": {
     "slide_type": "slide"
    }
   },
   "source": [
    "12 Alternatively you can use the Ridge class with the \"sag\" solver. Stochastic Average GD is a variant\n",
    "of Stochastic GD. For more details, see the presentation “Minimizing Finite Sums with the Stochastic\n",
    "Average Gradient Algorithm” by Mark Schmidt et al. from the University of British Columbia."
   ]
  },
  {
   "cell_type": "markdown",
   "metadata": {
    "slideshow": {
     "slide_type": "slide"
    }
   },
   "source": [
    "13 You can think of a subgradient vector at a nondifferentiable point as an intermediate vector between\n",
    "the gradient vectors around that point."
   ]
  },
  {
   "cell_type": "markdown",
   "metadata": {
    "slideshow": {
     "slide_type": "slide"
    }
   },
   "source": [
    "14. Photos reproduced from the corresponding Wikipedia pages. Iris virginica photo by Frank Mayfield  \n",
    "    (Creative Commons BY-SA 2.0), Iris versicolor photo by D. Gordon E. Robertson (Creative  Commons  \n",
    "    BY-SA 3.0), Iris setosa photo public domain."
   ]
  },
  {
   "cell_type": "markdown",
   "metadata": {
    "slideshow": {
     "slide_type": "slide"
    }
   },
   "source": [
    "15. NumPy’s reshape() function allows one dimension to be –1, which means “unspecified”: the   \n",
    "   value is inferred from the length of the array and the remaining dimensions."
   ]
  },
  {
   "cell_type": "markdown",
   "metadata": {
    "slideshow": {
     "slide_type": "slide"
    }
   },
   "source": [
    "16. It is the the set of points x such that θ0 + θ1x1 + θ2x2 = 0, which defines a straight line."
   ]
  },
  {
   "cell_type": "code",
   "execution_count": null,
   "metadata": {
    "slideshow": {
     "slide_type": "slide"
    }
   },
   "outputs": [],
   "source": []
  }
 ],
 "metadata": {
  "celltoolbar": "Slideshow",
  "hide_input": false,
  "kernelspec": {
   "display_name": "Python 3",
   "language": "python",
   "name": "python3"
  },
  "language_info": {
   "codemirror_mode": {
    "name": "ipython",
    "version": 3
   },
   "file_extension": ".py",
   "mimetype": "text/x-python",
   "name": "python",
   "nbconvert_exporter": "python",
   "pygments_lexer": "ipython3",
   "version": "3.7.4"
  },
  "nbTranslate": {
   "displayLangs": [
    "*"
   ],
   "hotkey": "alt-t",
   "langInMainMenu": true,
   "sourceLang": "en",
   "targetLang": "es",
   "useGoogleTranslate": true
  }
 },
 "nbformat": 4,
 "nbformat_minor": 2
}
