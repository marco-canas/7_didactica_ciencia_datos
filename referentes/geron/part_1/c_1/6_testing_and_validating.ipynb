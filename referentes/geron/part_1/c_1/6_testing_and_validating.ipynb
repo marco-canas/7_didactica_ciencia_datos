{
 "cells": [
  {
   "cell_type": "markdown",
   "id": "18476ea2",
   "metadata": {
    "slideshow": {
     "slide_type": "slide"
    }
   },
   "source": [
    "<table align=\"left\">\n",
    "  <td>\n",
    "    <a href=\"https://colab.research.google.com/github/marco-canas/taca/blob/main/ref/charu/7_ch/7_2_SVD_A_Linear_Algebra_Perspective.ipynb\" target=\"_parent\"><img src=\"https://colab.research.google.com/assets/colab-badge.svg\" alt=\"Open In Colab\"/></a>\n",
    "  </td>\n",
    "  <td>\n",
    "    <a target=\"_blank\" href=\"https://kaggle.com/kernels/welcome?src=https://github.com/marco-canas/taca/blob/main/ref/charu/7_ch/7_2_SVD_A_Linear_Algebra_Perspective.ipynb\"><img src=\"https://kaggle.com/static/images/open-in-kaggle.svg\" /></a>\n",
    "  </td>\n",
    "</table>\n"
   ]
  },
  {
   "cell_type": "markdown",
   "id": "5806df4e",
   "metadata": {
    "slideshow": {
     "slide_type": "slide"
    }
   },
   "source": [
    "# Testing and Validating\n",
    "\n",
    "Página 61 de Geron\n"
   ]
  },
  {
   "cell_type": "markdown",
   "id": "6c1451b7",
   "metadata": {
    "slideshow": {
     "slide_type": "slide"
    }
   },
   "source": [
    "### [Primer video de apoyo](https://www.youtube.com/watch?v=GqDBOpmTUN0)"
   ]
  },
  {
   "cell_type": "markdown",
   "id": "7e89e545",
   "metadata": {
    "slideshow": {
     "slide_type": "slide"
    }
   },
   "source": [
    "La única forma de saber qué tan bien se generalizará un modelo a casos nuevos es probarlo en casos nuevos."
   ]
  },
  {
   "cell_type": "markdown",
   "id": "160798aa",
   "metadata": {
    "slideshow": {
     "slide_type": "slide"
    }
   },
   "source": [
    "Una forma de hacerlo es poner su modelo en producción y monitorear su desempeño."
   ]
  },
  {
   "cell_type": "markdown",
   "id": "4c6d5770",
   "metadata": {
    "slideshow": {
     "slide_type": "slide"
    }
   },
   "source": [
    "Esto funciona bien, pero si su modelo es terriblemente malo y sus usuarios se quejan, no es la mejor idea."
   ]
  },
  {
   "cell_type": "markdown",
   "id": "f8548ce8",
   "metadata": {
    "slideshow": {
     "slide_type": "slide"
    }
   },
   "source": [
    "Una mejor opción es dividir sus datos en dos conjuntos:\n",
    "\n",
    "* el conjunto de entrenamiento y \n",
    "* el conjunto de prueba."
   ]
  },
  {
   "cell_type": "markdown",
   "id": "3643fddb",
   "metadata": {
    "slideshow": {
     "slide_type": "slide"
    }
   },
   "source": [
    "Como indican estos nombres, \n",
    "\n",
    "* entrena su modelo con el conjunto de entrenamiento y \n",
    "* lo prueba con el conjunto de prueba."
   ]
  },
  {
   "cell_type": "markdown",
   "id": "b3f0d50e",
   "metadata": {
    "slideshow": {
     "slide_type": "slide"
    }
   },
   "source": [
    "La tasa de error en casos nuevos se denomina **error de generalización** (o error fuera de la muestra), y al evaluar su modelo\n",
    "en el equipo de prueba, obtiene una estimación de este error. "
   ]
  },
  {
   "cell_type": "markdown",
   "id": "c89c1525",
   "metadata": {
    "slideshow": {
     "slide_type": "slide"
    }
   },
   "source": [
    "Este valor le indica qué tan bien funcionará su modelo en instancias que nunca antes había visto."
   ]
  },
  {
   "cell_type": "markdown",
   "id": "119f6a2f",
   "metadata": {
    "slideshow": {
     "slide_type": "slide"
    }
   },
   "source": [
    "Si el error de entrenamiento es bajo (es decir, su modelo comete pocos errores en el conjunto de entrenamiento) pero el error de generalización es alto, significa que su modelo **está sobreajustando los datos de entrenamiento**."
   ]
  },
  {
   "cell_type": "markdown",
   "id": "8f7fc2e5",
   "metadata": {
    "slideshow": {
     "slide_type": "slide"
    }
   },
   "source": [
    "### Sugerencia"
   ]
  },
  {
   "cell_type": "markdown",
   "id": "0a20211f",
   "metadata": {
    "slideshow": {
     "slide_type": "slide"
    }
   },
   "source": [
    "Es habitual utilizar el 80% de los datos para la entrenamiento y reservar el 20% para las pruebas."
   ]
  },
  {
   "cell_type": "markdown",
   "id": "81dedf79",
   "metadata": {
    "slideshow": {
     "slide_type": "slide"
    }
   },
   "source": [
    "Sin embargo, esto depende del tamaño del conjunto de datos: si contiene 10 millones de instancias, entonces mantener el 1% significa que su conjunto de prueba contendrá 100,000 instancias, probablemente más que suficiente para obtener una buena estimación del error de generalización."
   ]
  },
  {
   "cell_type": "markdown",
   "id": "3c8ee40e",
   "metadata": {
    "slideshow": {
     "slide_type": "slide"
    }
   },
   "source": [
    "## Ajuste de hiperparámetros y selección de modelos"
   ]
  },
  {
   "cell_type": "markdown",
   "id": "1e17379f",
   "metadata": {
    "slideshow": {
     "slide_type": "slide"
    }
   },
   "source": [
    "Evaluar un modelo es bastante simple: solo use un conjunto de prueba."
   ]
  },
  {
   "cell_type": "markdown",
   "id": "a6a9f29e",
   "metadata": {
    "slideshow": {
     "slide_type": "slide"
    }
   },
   "source": [
    "Pero suponga que está dudando entre dos tipos de modelos (digamos, un modelo lineal y un modelo polinomial): ¿cómo puede decidir entre ellos?"
   ]
  },
  {
   "cell_type": "markdown",
   "id": "d5a600d0",
   "metadata": {
    "slideshow": {
     "slide_type": "slide"
    }
   },
   "source": [
    "Una opción es entrenar a ambos y comparar qué tan bien generalizan usando el conjunto de prueba."
   ]
  },
  {
   "cell_type": "markdown",
   "id": "3f85e535",
   "metadata": {
    "slideshow": {
     "slide_type": "slide"
    }
   },
   "source": [
    "Ahora suponga que el modelo lineal se generaliza mejor, pero desea aplicar cierta regularización para evitar el sobreajuste."
   ]
  },
  {
   "cell_type": "markdown",
   "id": "e7d19617",
   "metadata": {
    "slideshow": {
     "slide_type": "slide"
    }
   },
   "source": [
    "La pregunta es, ¿cómo se elige el valor del hiperparámetro de regularización?"
   ]
  },
  {
   "cell_type": "markdown",
   "id": "d922fb29",
   "metadata": {
    "slideshow": {
     "slide_type": "slide"
    }
   },
   "source": [
    "Una opción es entrenar 100 modelos diferentes usando 100 valores diferentes para este hiperparámetro."
   ]
  },
  {
   "cell_type": "markdown",
   "id": "4f6f042a",
   "metadata": {
    "slideshow": {
     "slide_type": "slide"
    }
   },
   "source": [
    "Suponga que encuentra el mejor valor de hiperparámetro que produce un modelo con el error de generalización más bajo; digamos, solo un error del 5%."
   ]
  },
  {
   "cell_type": "markdown",
   "id": "afaf5b6a",
   "metadata": {
    "slideshow": {
     "slide_type": "slide"
    }
   },
   "source": [
    "Lanza este modelo a producción, pero desafortunadamente no funciona tan bien como se esperaba y produce un 15% de errores. ¿Lo que acaba de suceder?"
   ]
  },
  {
   "cell_type": "markdown",
   "id": "4f077042",
   "metadata": {
    "slideshow": {
     "slide_type": "slide"
    }
   },
   "source": [
    "El problema es que midió el error de generalización varias veces en el conjunto de prueba y adaptó el modelo y los hiperparámetros para producir el mejor modelo para ese conjunto en particular."
   ]
  },
  {
   "cell_type": "markdown",
   "id": "bf471794",
   "metadata": {
    "slideshow": {
     "slide_type": "slide"
    }
   },
   "source": [
    "Esto significa que es poco probable que el modelo funcione tan bien con datos nuevos."
   ]
  },
  {
   "cell_type": "markdown",
   "id": "ea46277a",
   "metadata": {
    "slideshow": {
     "slide_type": "slide"
    }
   },
   "source": [
    "Una solución común a este problema se llama validación de exclusión: simplemente se muestra parte del conjunto de entrenamiento para evaluar varios modelos candidatos y seleccionar el mejor."
   ]
  },
  {
   "cell_type": "markdown",
   "id": "9461b027",
   "metadata": {
    "slideshow": {
     "slide_type": "slide"
    }
   },
   "source": [
    "El nuevo conjunto retenido se denomina conjunto de validación (o a veces, el conjunto de desarrollo)."
   ]
  },
  {
   "cell_type": "markdown",
   "id": "2d1bc37e",
   "metadata": {
    "slideshow": {
     "slide_type": "slide"
    }
   },
   "source": [
    "Más específicamente, entrena varios modelos con varios hiperparámetros en el conjunto de entrenamiento reducido (es decir, el conjunto de entrenamiento completo menos el conjunto de validación) y selecciona el modelo que se desempeña mejor en el conjunto de validación."
   ]
  },
  {
   "cell_type": "markdown",
   "id": "2fcce95b",
   "metadata": {
    "slideshow": {
     "slide_type": "slide"
    }
   },
   "source": [
    "Después de este proceso de validación reservada, entrena el mejor modelo en el conjunto de entrenamiento completo (incluido el conjunto de validación), y esto le da el modelo final."
   ]
  },
  {
   "cell_type": "markdown",
   "id": "6205536f",
   "metadata": {
    "slideshow": {
     "slide_type": "slide"
    }
   },
   "source": [
    "Por último, evalúa este modelo final en el conjunto de prueba para obtener una estimación del error de generalización."
   ]
  },
  {
   "cell_type": "markdown",
   "id": "1f806424",
   "metadata": {
    "slideshow": {
     "slide_type": "slide"
    }
   },
   "source": [
    "Esta solución suele funcionar bastante bien. Sin embargo, si el conjunto de validación es demasiado pequeño, las evaluaciones del modelo serán imprecisas: puede terminar seleccionando un modelo subóptimo por error."
   ]
  },
  {
   "cell_type": "markdown",
   "id": "904f2dc2",
   "metadata": {
    "slideshow": {
     "slide_type": "slide"
    }
   },
   "source": [
    "Por el contrario, si el conjunto de validación es demasiado grande, el conjunto de entrenamiento restante será mucho más pequeño que el conjunto de entrenamiento completo. ¿Por qué es esto malo?"
   ]
  },
  {
   "cell_type": "markdown",
   "id": "32339084",
   "metadata": {
    "slideshow": {
     "slide_type": "slide"
    }
   },
   "source": [
    "Bueno, dado que el modelo final se entrenará en el conjunto de entrenamiento completo, no es ideal comparar modelos candidatos entrenados en un conjunto de entrenamiento mucho más pequeño."
   ]
  },
  {
   "cell_type": "markdown",
   "id": "bc15f8c0",
   "metadata": {
    "slideshow": {
     "slide_type": "slide"
    }
   },
   "source": [
    "Sería como seleccionar al velocista más rápido para participar en un maratón. Una forma de resolver este problema es realizar una validación cruzada repetida, utilizando muchos conjuntos de validación pequeños."
   ]
  },
  {
   "cell_type": "markdown",
   "id": "b6f32e43",
   "metadata": {
    "slideshow": {
     "slide_type": "slide"
    }
   },
   "source": [
    "Cada modelo se evalúa una vez por conjunto de validación después de que se entrena con el resto de los datos."
   ]
  },
  {
   "cell_type": "markdown",
   "id": "42cbfa44",
   "metadata": {
    "slideshow": {
     "slide_type": "slide"
    }
   },
   "source": [
    "Al promediar todas las evaluaciones de un modelo, obtiene una medida mucho más precisa de su desempeño."
   ]
  },
  {
   "cell_type": "markdown",
   "id": "5a92107d",
   "metadata": {
    "slideshow": {
     "slide_type": "slide"
    }
   },
   "source": [
    "Sin embargo, existe un inconveniente: el tiempo de entrenamiento se multiplica por el número de conjuntos de validación."
   ]
  },
  {
   "cell_type": "markdown",
   "id": "e2804181",
   "metadata": {
    "slideshow": {
     "slide_type": "slide"
    }
   },
   "source": [
    "## Falta de coincidencia de datos"
   ]
  },
  {
   "cell_type": "markdown",
   "id": "f2e7288b",
   "metadata": {
    "slideshow": {
     "slide_type": "slide"
    }
   },
   "source": [
    "En algunos casos, es fácil obtener una gran cantidad de datos para el entrenamiento, pero estos datos probablemente no serán perfectamente representativos de los datos que se utilizarán en la producción."
   ]
  },
  {
   "cell_type": "markdown",
   "id": "dbe25dd3",
   "metadata": {
    "slideshow": {
     "slide_type": "slide"
    }
   },
   "source": [
    "Por ejemplo, suponga que desea crear una aplicación móvil para tomar fotografías de flores y determinar automáticamente su especie."
   ]
  },
  {
   "cell_type": "markdown",
   "id": "a5775011",
   "metadata": {
    "slideshow": {
     "slide_type": "slide"
    }
   },
   "source": [
    "Puede descargar fácilmente millones de imágenes de flores en la web, pero no serán perfectamente representativas de las imágenes que realmente se tomarán con la aplicación en un dispositivo móvil."
   ]
  },
  {
   "cell_type": "markdown",
   "id": "5d6d7e7c",
   "metadata": {
    "slideshow": {
     "slide_type": "slide"
    }
   },
   "source": [
    "Quizás solo tenga 10,000 imágenes representativas (es decir, realmente tomadas con la aplicación)."
   ]
  },
  {
   "cell_type": "markdown",
   "id": "56bd735f",
   "metadata": {
    "slideshow": {
     "slide_type": "slide"
    }
   },
   "source": [
    "En este caso, la regla más importante que debe recordar es que el conjunto de validación y el conjunto de prueba deben ser lo más representativos posible de los datos que espera utilizar en producción, por lo que deben estar compuestas exclusivamente por imágenes representativas: puede mezclarlas y poner la mitad en el conjunto de validación y la mitad en el conjunto de prueba (asegurándose de que no haya duplicados o casi duplicados en ambos conjuntos)."
   ]
  },
  {
   "cell_type": "markdown",
   "id": "12707912",
   "metadata": {
    "slideshow": {
     "slide_type": "slide"
    }
   },
   "source": [
    "Pero después de entrenar su modelo en las imágenes de la web, si observa que el rendimiento del modelo en el conjunto de validación es decepcionante, no sabrá si esto se debe a que su modelo se ha sobreajustado al conjunto de entrenamiento, o si esto se debe solo a la desajuste entre las imágenes web y las imágenes de aplicaciones móviles."
   ]
  },
  {
   "cell_type": "markdown",
   "id": "bef33861",
   "metadata": {
    "slideshow": {
     "slide_type": "slide"
    }
   },
   "source": [
    "Una solución es mostrar algunas de las imágenes de entrenamiento (de la web) en otro conjunto que Andrew Ng llama `train-dev set`."
   ]
  },
  {
   "cell_type": "markdown",
   "id": "54e56e80",
   "metadata": {
    "slideshow": {
     "slide_type": "slide"
    }
   },
   "source": [
    "Una vez entrenado el modelo (en el conjunto de entrenamiento, no en el conjunto train-dev), puede evaluarlo en el conjunto train-dev."
   ]
  },
  {
   "cell_type": "markdown",
   "id": "2b2173ac",
   "metadata": {
    "slideshow": {
     "slide_type": "slide"
    }
   },
   "source": [
    "Si funciona bien, entonces el modelo no está sobreajustado al conjunto de entrenamiento."
   ]
  },
  {
   "cell_type": "markdown",
   "id": "848bb83d",
   "metadata": {
    "slideshow": {
     "slide_type": "slide"
    }
   },
   "source": [
    "Si tiene un rendimiento deficiente en el conjunto de validación, el problema debe provenir de la falta de coincidencia de datos."
   ]
  },
  {
   "cell_type": "markdown",
   "id": "42a2246e",
   "metadata": {
    "slideshow": {
     "slide_type": "slide"
    }
   },
   "source": [
    "Puede intentar abordar este problema procesando previamente las imágenes web para que se parezcan más a las imágenes que se tomarán con la aplicación móvil, y luego entrenando al modelo."
   ]
  },
  {
   "cell_type": "markdown",
   "id": "1598def6",
   "metadata": {
    "slideshow": {
     "slide_type": "slide"
    }
   },
   "source": [
    "Por el contrario, si el modelo tiene un rendimiento deficiente en el conjunto *train-dev*, entonces debe haber sobreajustado el conjunto de entrenamiento, por lo que debe intentar simplificar o regularizar el modelo, obtener más datos de entrenamiento y limpiar los datos de entrenamiento"
   ]
  },
  {
   "cell_type": "markdown",
   "id": "e1a6d6b5",
   "metadata": {
    "slideshow": {
     "slide_type": "slide"
    }
   },
   "source": [
    "## SIN TEOREMA DE ALMUERZO GRATIS"
   ]
  },
  {
   "cell_type": "markdown",
   "id": "44104089",
   "metadata": {
    "slideshow": {
     "slide_type": "slide"
    }
   },
   "source": [
    "Un modelo es una versión simplificada de las observaciones. "
   ]
  },
  {
   "cell_type": "markdown",
   "id": "3d9e421e",
   "metadata": {
    "slideshow": {
     "slide_type": "slide"
    }
   },
   "source": [
    "Las simplificaciones están destinadas a descartar los detalles superfluos que es poco probable que se generalicen a nuevas instancias."
   ]
  },
  {
   "cell_type": "markdown",
   "id": "1e42259b",
   "metadata": {
    "slideshow": {
     "slide_type": "slide"
    }
   },
   "source": [
    "Para decidir qué datos descartar y qué datos conservar, debe hacer suposiciones."
   ]
  },
  {
   "cell_type": "markdown",
   "id": "b36befa7",
   "metadata": {
    "slideshow": {
     "slide_type": "slide"
    }
   },
   "source": [
    "Por ejemplo, un modelo lineal supone que los datos son fundamentalmente lineales y que la distancia entre las instancias y la línea recta es solo ruido, que se puede ignorar con seguridad."
   ]
  },
  {
   "cell_type": "markdown",
   "id": "585d36ab",
   "metadata": {
    "slideshow": {
     "slide_type": "slide"
    }
   },
   "source": [
    "En un famoso artículo de 1996, David Wolpert demostró que si no hace absolutamente ninguna suposición sobre los datos, entonces no hay razón para preferir un modelo sobre cualquier otro. Esto se llama el teorema de No Free Lunch (NFL)."
   ]
  },
  {
   "cell_type": "markdown",
   "id": "59522935",
   "metadata": {
    "slideshow": {
     "slide_type": "slide"
    }
   },
   "source": [
    "Para algunos conjuntos de datos, el mejor modelo es un modelo lineal,\n",
    "mientras que para otros conjuntos de datos es una red neuronal."
   ]
  },
  {
   "cell_type": "markdown",
   "id": "1c307bfb",
   "metadata": {
    "slideshow": {
     "slide_type": "slide"
    }
   },
   "source": [
    "No hay ningún modelo que esté garantizado a priori para funcionar mejor (de ahí el nombre del teorema)."
   ]
  },
  {
   "cell_type": "markdown",
   "id": "14e0db2e",
   "metadata": {
    "slideshow": {
     "slide_type": "slide"
    }
   },
   "source": [
    "La única forma de saber con certeza qué modelo es el mejor es evaluarlos todos."
   ]
  },
  {
   "cell_type": "markdown",
   "id": "1d573d6f",
   "metadata": {
    "slideshow": {
     "slide_type": "slide"
    }
   },
   "source": [
    "Dado que esto no es posible, en la práctica usted hace algunas suposiciones razonables sobre los datos y evalúa solo algunos modelos razonables."
   ]
  },
  {
   "cell_type": "markdown",
   "id": "e72d8065",
   "metadata": {
    "slideshow": {
     "slide_type": "slide"
    }
   },
   "source": [
    "Por ejemplo, para tareas simples, puede evaluar modelos lineales con varios niveles de regularización, y para un problema complejo, puede evaluar varias redes neuronales."
   ]
  },
  {
   "cell_type": "markdown",
   "id": "c39e9f1d",
   "metadata": {
    "slideshow": {
     "slide_type": "slide"
    }
   },
   "source": [
    "## Ejercicios\n",
    "\n",
    "En este capítulo, hemos cubierto algunos de los conceptos más importantes del aprendizaje automático. En los próximos capítulos profundizaremos y escribiremos más código, pero antes de hacerlo, asegúrese de saber cómo responder las siguientes preguntas:"
   ]
  },
  {
   "cell_type": "markdown",
   "id": "c6980319",
   "metadata": {
    "slideshow": {
     "slide_type": "slide"
    }
   },
   "source": [
    "1. ¿Cómo definiría el aprendizaje automático?  \n",
    "\n",
    "El aprendizaje automático consiste en crear sistemas que puedan aprender de los datos. Aprender significa mejorar en alguna tarea, dada alguna medida de desempeño."
   ]
  },
  {
   "cell_type": "markdown",
   "id": "46b6d7f4",
   "metadata": {
    "slideshow": {
     "slide_type": "slide"
    }
   },
   "source": [
    "2. ¿Puedes nombrar cuatro tipos de problemas en los que brilla?  \n",
    "\n",
    "El aprendizaje automático es ideal para: \n",
    "\n",
    "* problemas complejos para los que no tenemos una solución algorítmica, \n",
    "* para reemplazar largas listas de reglas ajustadas a mano, \n",
    "* para construir sistemas que se adapten a entornos fluctuantes y, finalmente, \n",
    "* para ayudar a los humanos a aprender (por ejemplo, **minería de datos**)."
   ]
  },
  {
   "cell_type": "markdown",
   "id": "36664de6",
   "metadata": {
    "slideshow": {
     "slide_type": "slide"
    }
   },
   "source": [
    "3. ¿Qué es un conjunto de entrenamiento etiquetado?\n",
    "\n",
    "Un conjunto de entrenamiento etiquetado es un conjunto de entrenamiento que contiene la solución deseada (también conocida como etiqueta) para cada instancia.\n"
   ]
  },
  {
   "cell_type": "markdown",
   "id": "c8bcbd82",
   "metadata": {
    "slideshow": {
     "slide_type": "slide"
    }
   },
   "source": [
    "4. ¿Cuáles son las dos tareas supervisadas más comunes?  \n",
    "\n",
    "Las dos tareas supervisadas más comunes son \n",
    "* la regresión y \n",
    "* la clasificación."
   ]
  },
  {
   "cell_type": "markdown",
   "id": "4fce61f7",
   "metadata": {
    "slideshow": {
     "slide_type": "slide"
    }
   },
   "source": [
    "5. ¿Puede nombrar cuatro tareas comunes sin supervisión? \n",
    "\n",
    "Las tareas comunes no supervisadas incluyen \n",
    "\n",
    "* agrupamiento, \n",
    "* visualización, \n",
    "* reducción de dimensionalidad y \n",
    "* aprendizaje de reglas de asociación.\n"
   ]
  },
  {
   "cell_type": "markdown",
   "id": "a78c2141",
   "metadata": {
    "slideshow": {
     "slide_type": "slide"
    }
   },
   "source": [
    "6. ¿Qué tipo de algoritmo de aprendizaje automático usaría para permitir que un robot camine en varios terrenos desconocidos? \n",
    "\n",
    "Es probable que el aprendizaje por refuerzo funcione mejor si queremos que un robot aprenda a caminar en varios terrenos desconocidos, ya que este suele ser el tipo de problema que aborda el aprendizaje por refuerzo.\n",
    "\n",
    "Podría ser posible expresar el problema como supervisado o problema de aprendizaje semisupervisado, pero sería menos natural."
   ]
  },
  {
   "cell_type": "markdown",
   "id": "cdcb4416",
   "metadata": {
    "slideshow": {
     "slide_type": "slide"
    }
   },
   "source": [
    "7. ¿Qué tipo de algoritmo utilizaría para segmentar a sus clientes en varios grupos?  \n",
    "\n",
    "Si no sabe cómo definir los grupos, puede utilizar un algoritmo de agrupamiento (aprendizaje no supervisado) para segmentar a sus clientes en grupos de clientes similares.\n",
    "\n",
    "Sin embargo, si sabe qué grupos le gustaría tener, puede alimentar muchos ejemplos de cada grupo a un algoritmo de clasificación (aprendizaje supervisado), que clasificará a todos sus clientes en estos grupos.\n"
   ]
  },
  {
   "cell_type": "markdown",
   "id": "b509b1f8",
   "metadata": {
    "slideshow": {
     "slide_type": "slide"
    }
   },
   "source": [
    "8. ¿Enmarcaría el problema de la detección de spam como un problema de aprendizaje supervisado o un problema de aprendizaje no supervisado?\n",
    "\n",
    "La detección de spam es un problema típico de aprendizaje supervisado: el algoritmo recibe muchos correos electrónicos junto con sus etiquetas (spam o no spam).\n"
   ]
  },
  {
   "cell_type": "markdown",
   "id": "14c2d64f",
   "metadata": {
    "slideshow": {
     "slide_type": "slide"
    }
   },
   "source": [
    "9. ¿Qué es un sistema de aprendizaje en línea?  \n",
    "\n",
    "Un sistema de aprendizaje en línea puede aprender de forma incremental, a diferencia de un sistema de aprendizaje por lotes. Esto lo hace capaz de adaptarse rápidamente tanto a los datos cambiantes como a los sistemas autónomos, y de entrenar en cantidades muy grandes de datos."
   ]
  },
  {
   "cell_type": "markdown",
   "id": "653b6ea3",
   "metadata": {
    "slideshow": {
     "slide_type": "slide"
    }
   },
   "source": [
    "10. ¿Qué es el aprendizaje fuera del núcleo?  \n",
    "\n",
    "Los algoritmos fuera del núcleo pueden manejar grandes cantidades de datos que no caben en la memoria principal de una computadora.\n",
    "\n",
    "Un algoritmo de aprendizaje fuera del núcleo divide los datos en mini lotes y utiliza técnicas de aprendizaje en línea para aprender de estos mini lotes.\n"
   ]
  },
  {
   "cell_type": "markdown",
   "id": "a95a02aa",
   "metadata": {
    "slideshow": {
     "slide_type": "slide"
    }
   },
   "source": [
    "11. ¿Qué tipo de algoritmo de aprendizaje se basa en una medida de similitud para hacer predicciones? \n",
    "\n",
    "Un sistema de aprendizaje basado en instancias aprende los datos de entrenamiento de memoria; luego, cuando se le da una nueva instancia, usa una medida de similitud para encontrar las instancias aprendidas más similares y las usa para hacer predicciones.\n"
   ]
  },
  {
   "cell_type": "markdown",
   "id": "d909ed3a",
   "metadata": {
    "slideshow": {
     "slide_type": "slide"
    }
   },
   "source": [
    "12. ¿Cuál es la diferencia entre un parámetro de modelo y el hiperparámetro de un algoritmo de aprendizaje?  \n",
    "\n",
    "Un modelo tiene uno o más parámetros de modelo que determinan lo que predecirá dada una nueva instancia (por ejemplo, la pendiente de un modelo lineal).\n",
    "\n",
    "Un algoritmo de aprendizaje intenta encontrar valores óptimos para estos parámetros de modo que el modelo se generalice bien a nuevas instancias.\n",
    "\n",
    "Un hiperparámetro es un parámetro del algoritmo de aprendizaje en sí, no del modelo (por ejemplo, la cantidad de regularización que se aplica)."
   ]
  },
  {
   "cell_type": "markdown",
   "id": "7fb8b447",
   "metadata": {
    "slideshow": {
     "slide_type": "slide"
    }
   },
   "source": [
    "13. ¿Qué buscan los algoritmos de aprendizaje basados en modelos? ¿Cuál es la estrategia más común que utilizan para tener éxito? ¿Cómo hacen predicciones?  \n",
    "\n",
    "Los algoritmos de aprendizaje basados en modelos buscan un valor óptimo para los parámetros del modelo de modo que el modelo se generalice bien a nuevas instancias.\n",
    "\n",
    "Por lo general, entrenamos dichos sistemas minimizando una función de costo que mide qué tan malo es el sistema para hacer predicciones sobre los datos de entrenamiento, más una penalización por la complejidad del modelo si el modelo está regularizado.\n",
    "\n",
    "Para hacer predicciones, introducimos las características de la nueva instancia en la función de predicción del modelo, utilizando los valores de los parámetros encontrados por el algoritmo de aprendizaje.\n"
   ]
  },
  {
   "cell_type": "markdown",
   "id": "a88b307f",
   "metadata": {
    "slideshow": {
     "slide_type": "slide"
    }
   },
   "source": [
    "14. ¿Puede nombrar cuatro de los principales desafíos del aprendizaje automático?  \n",
    "\n",
    "Algunos de los principales desafíos en el aprendizaje automático son la falta de datos, la mala calidad de los datos, los datos no representativos, las características poco informativas, los modelos excesivamente simples que se ajustan a los datos de entrenamiento y los modelos excesivamente complejos que se ajustan a los datos.\n"
   ]
  },
  {
   "cell_type": "markdown",
   "id": "799734bc",
   "metadata": {
    "slideshow": {
     "slide_type": "slide"
    }
   },
   "source": [
    "15. Si su modelo tiene un gran rendimiento en los datos de entrenamiento, pero se generaliza mal a nuevas instancias, ¿qué está sucediendo? ¿Puedes nombrar tres posibles soluciones? \n",
    "\n",
    "Si un modelo tiene un gran rendimiento en los datos de entrenamiento, pero generaliza\n",
    "mal para las nuevas instancias, es probable que el modelo sobreajuste los datos de entrenamiento (o tuvimos mucha suerte con los datos de entrenamiento).\n",
    "\n",
    "Las posibles soluciones para el sobreajuste son obtener más datos, simplificar el modelo (seleccionar un algoritmo más simple, reducir la cantidad de parámetros o características utilizadas, o regularizar el modelo) o reducir el ruido en los datos de entrenamiento.\n"
   ]
  },
  {
   "cell_type": "markdown",
   "id": "72be201c",
   "metadata": {
    "slideshow": {
     "slide_type": "slide"
    }
   },
   "source": [
    "16. ¿Qué es un conjunto de prueba o testeo y por qué querría usarlo?  \n",
    "\n",
    "Un conjunto de prueba se utiliza para estimar el error de generalización que cometerá un modelo en nuevas instancias, antes de que el modelo se lance en producción.\n"
   ]
  },
  {
   "cell_type": "markdown",
   "id": "d6388e00",
   "metadata": {
    "slideshow": {
     "slide_type": "slide"
    }
   },
   "source": [
    "17. ¿Cuál es el propósito de un conjunto de validación?  \n",
    "\n",
    "Se utiliza un conjunto de validación para comparar modelos. Permite seleccionar el mejor modelo y ajustar los hiperparámetros.\n"
   ]
  },
  {
   "cell_type": "markdown",
   "id": "17a03c33",
   "metadata": {
    "slideshow": {
     "slide_type": "slide"
    }
   },
   "source": [
    "18. ¿Qué es el conjunto train-dev, cuándo lo necesita y cómo lo usa?  \n",
    "\n",
    "El conjunto train-dev se utiliza cuando existe un riesgo de discrepancia entre los datos de entrenamiento y los datos utilizados en los conjuntos de datos de validación y prueba (que siempre deben estar lo más cerca posible de los datos utilizados una vez que el modelo está en producción).\n",
    "\n",
    "El conjunto train-dev es una parte del conjunto de entrenamiento que se mantiene (el modelo no está entrenado en él).\n",
    "\n",
    "El modelo se entrena en el resto del conjunto de entrenamiento y se evalúa tanto en el conjunto train-dev como en el conjunto de validación.\n",
    "\n",
    "Si el modelo funciona bien en el conjunto de entrenamiento pero no en el conjunto train-dev, es probable que el modelo se sobreajuste al conjunto de entrenamiento.\n",
    "\n",
    "Si funciona bien tanto en el conjunto de entrenamiento como en el conjunto train-dev, pero no en el conjunto de validación, entonces probablemente haya una discrepancia de datos significativa entre los datos de entrenamiento y los datos de validación + prueba, y debería intentar mejorar los datos de entrenamiento para que se parezca más a la validación + prueba\n",
    "datos.\n"
   ]
  },
  {
   "cell_type": "markdown",
   "id": "46cc3901",
   "metadata": {
    "slideshow": {
     "slide_type": "slide"
    }
   },
   "source": [
    "19. ¿Qué puede salir mal si ajusta los hiperparámetros con el conjunto de prueba?  \n",
    "\n",
    "Si ajusta los hiperparámetros con el conjunto de prueba, corre el riesgo de sobreajustar el conjunto de prueba y el error de generalización que mida será optimista (puede lanzar un modelo que tenga un rendimiento peor de lo esperado)."
   ]
  },
  {
   "cell_type": "code",
   "execution_count": null,
   "id": "d44ba1f4",
   "metadata": {
    "slideshow": {
     "slide_type": "skip"
    }
   },
   "outputs": [],
   "source": []
  },
  {
   "cell_type": "markdown",
   "id": "40f08421",
   "metadata": {
    "slideshow": {
     "slide_type": "slide"
    }
   },
   "source": [
    "**Dato curioso:** este nombre que suena extraño es un término estadístico introducido por Francis Galton mientras\n",
    "estaba estudiando el hecho de que los hijos de personas altas tienden a ser más bajos que sus padres. Ya que\n",
    "los niños eran más bajos, llamó a esta **regresión a la media**. Este nombre se aplicó luego a\n",
    "los métodos que utilizó para analizar las correlaciones entre variables."
   ]
  },
  {
   "cell_type": "code",
   "execution_count": null,
   "id": "da6ea442",
   "metadata": {},
   "outputs": [],
   "source": []
  },
  {
   "cell_type": "markdown",
   "id": "856e458e",
   "metadata": {
    "slideshow": {
     "slide_type": "slide"
    }
   },
   "source": [
    "## Referentes:\n",
    "\n",
    "* Geron "
   ]
  },
  {
   "cell_type": "code",
   "execution_count": null,
   "id": "b4e7b849",
   "metadata": {},
   "outputs": [],
   "source": []
  }
 ],
 "metadata": {
  "celltoolbar": "Slideshow",
  "kernelspec": {
   "display_name": "Python 3",
   "language": "python",
   "name": "python3"
  },
  "language_info": {
   "codemirror_mode": {
    "name": "ipython",
    "version": 3
   },
   "file_extension": ".py",
   "mimetype": "text/x-python",
   "name": "python",
   "nbconvert_exporter": "python",
   "pygments_lexer": "ipython3",
   "version": "3.8.8"
  },
  "latex_envs": {
   "LaTeX_envs_menu_present": true,
   "autoclose": false,
   "autocomplete": false,
   "bibliofile": "biblio.bib",
   "cite_by": "apalike",
   "current_citInitial": 1,
   "eqLabelWithNumbers": true,
   "eqNumInitial": 1,
   "hotkeys": {
    "equation": "Ctrl-E",
    "itemize": "Ctrl-I"
   },
   "labels_anchors": false,
   "latex_user_defs": false,
   "report_style_numbering": false,
   "user_envs_cfg": false
  },
  "rise": {
   "enable_chalkboard": true,
   "theme": "sky",
   "transition": "zoom"
  }
 },
 "nbformat": 4,
 "nbformat_minor": 5
}
