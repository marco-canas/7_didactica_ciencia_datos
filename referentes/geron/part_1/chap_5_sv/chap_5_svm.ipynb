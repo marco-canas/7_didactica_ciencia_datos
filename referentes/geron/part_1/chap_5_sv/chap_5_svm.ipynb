{
 "cells": [
  {
   "cell_type": "markdown",
   "id": "7a1642df",
   "metadata": {},
   "source": []
  },
  {
   "cell_type": "markdown",
   "id": "25a36988",
   "metadata": {},
   "source": [
    "# Chapter 5. Support Vector Machines"
   ]
  },
  {
   "cell_type": "markdown",
   "id": "42fe5bf8",
   "metadata": {},
   "source": [
    "Una máquina de soporte vectorial (SVM) es un modelo de aprendizaje automático potente y versátil, capaz de realizar clasificación lineal o no lineal, regresión e incluso detección de valores atípicos."
   ]
  },
  {
   "cell_type": "markdown",
   "id": "b6d5c16d",
   "metadata": {},
   "source": [
    "Es uno de los modelos más populares en Machine Learning, y cualquier persona interesada en Machine Learning debería tenerlo en su caja de herramientas."
   ]
  },
  {
   "cell_type": "markdown",
   "id": "cf8c1829",
   "metadata": {},
   "source": [
    "SVMs are particularly well suited for classification of complex small- or medium-sized datasets."
   ]
  },
  {
   "cell_type": "markdown",
   "id": "6887b696",
   "metadata": {},
   "source": [
    "This chapter will explain the core concepts of SVMs, how to use them, and how they work."
   ]
  },
  {
   "cell_type": "markdown",
   "id": "efc3bc55",
   "metadata": {},
   "source": [
    "## Linear SVM Classification"
   ]
  },
  {
   "cell_type": "markdown",
   "id": "ac653efc",
   "metadata": {},
   "source": [
    "The fundamental idea behind SVMs is best explained with some pictures. "
   ]
  },
  {
   "cell_type": "markdown",
   "id": "d0d94c90",
   "metadata": {},
   "source": [
    "Figure 5-1 shows part of the iris dataset that was introduced at the end of Chapter 4. "
   ]
  },
  {
   "cell_type": "markdown",
   "id": "3fd4ac86",
   "metadata": {},
   "source": [
    "The two classes can clearly be separated easily with a straight line (they are linearly separable). The left plot shows the decision boundaries of three possible linear classifiers. "
   ]
  },
  {
   "cell_type": "markdown",
   "id": "585bf730",
   "metadata": {},
   "source": [
    "The model whose decision boundary is represented by the dashed line is so bad that it does not even separate the classes properly. "
   ]
  },
  {
   "cell_type": "markdown",
   "id": "c7598dbf",
   "metadata": {},
   "source": [
    "The other two models work perfectly on this training set, but their decision boundaries come so close to the instances that these models will probably not perform as well on new instances. "
   ]
  },
  {
   "cell_type": "markdown",
   "id": "e68f5ea8",
   "metadata": {},
   "source": [
    "In contrast, the solid line in the plot on the right represents the decision boundary of an SVM classifier; this line not only separates the two classes but also stays as far away from the closest training instances as possible. "
   ]
  },
  {
   "cell_type": "markdown",
   "id": "77f67a1a",
   "metadata": {},
   "source": [
    "You can think of an SVM classifier as fitting the widest possible street (represented by the parallel\n",
    "dashed lines) between the classes. This is called large margin classification."
   ]
  },
  {
   "cell_type": "markdown",
   "id": "ecaa50ac",
   "metadata": {},
   "source": [
    "<img src = 'https://github.com/marco-canas/didactica_ciencia_datos/blob/main/referentes/geron/part_1/chap_5_sv/figure_5_1.jpg?raw=true'>"
   ]
  },
  {
   "cell_type": "markdown",
   "id": "2ab84f0a",
   "metadata": {},
   "source": [
    "Notice that adding more training instances “off the street” will not affect the decision\n",
    "boundary at all: it is fully determined (or “supported”) by the instances located on the edge\n",
    "of the street. These instances are called the support vectors (they are circled in Figure 5-1).\n"
   ]
  },
  {
   "cell_type": "code",
   "execution_count": null,
   "id": "e2d90042",
   "metadata": {},
   "outputs": [],
   "source": []
  },
  {
   "cell_type": "code",
   "execution_count": null,
   "id": "265175ca",
   "metadata": {},
   "outputs": [],
   "source": []
  }
 ],
 "metadata": {
  "kernelspec": {
   "display_name": "Python 3 (ipykernel)",
   "language": "python",
   "name": "python3"
  },
  "language_info": {
   "codemirror_mode": {
    "name": "ipython",
    "version": 3
   },
   "file_extension": ".py",
   "mimetype": "text/x-python",
   "name": "python",
   "nbconvert_exporter": "python",
   "pygments_lexer": "ipython3",
   "version": "3.9.7"
  }
 },
 "nbformat": 4,
 "nbformat_minor": 5
}
