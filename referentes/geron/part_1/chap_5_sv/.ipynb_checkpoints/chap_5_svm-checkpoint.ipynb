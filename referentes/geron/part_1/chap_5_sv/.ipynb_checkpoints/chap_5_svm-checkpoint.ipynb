{
 "cells": [
  {
   "cell_type": "markdown",
   "id": "117ada8a",
   "metadata": {},
   "source": []
  },
  {
   "cell_type": "markdown",
   "id": "c761e0e7",
   "metadata": {},
   "source": [
    "# Chapter 5. Support Vector Machines"
   ]
  },
  {
   "cell_type": "markdown",
   "id": "81ac5733",
   "metadata": {},
   "source": [
    "Una máquina de soporte vectorial (SVM) es un modelo de aprendizaje automático potente y versátil, capaz de realizar clasificación lineal o no lineal, regresión e incluso detección de valores atípicos."
   ]
  },
  {
   "cell_type": "markdown",
   "id": "e7584182",
   "metadata": {},
   "source": [
    "It is one of the most popular models in Machine Learning, and anyone interested in Machine Learning should have it in their toolbox. "
   ]
  },
  {
   "cell_type": "markdown",
   "id": "21b48c6a",
   "metadata": {},
   "source": [
    "SVMs are particularly well suited for classification of complex small- or medium-sized datasets."
   ]
  },
  {
   "cell_type": "markdown",
   "id": "5e4ffa49",
   "metadata": {},
   "source": [
    "This chapter will explain the core concepts of SVMs, how to use them, and how they work."
   ]
  },
  {
   "cell_type": "markdown",
   "id": "f2a40be7",
   "metadata": {},
   "source": [
    "## Linear SVM Classification"
   ]
  },
  {
   "cell_type": "markdown",
   "id": "e8d807a9",
   "metadata": {},
   "source": [
    "The fundamental idea behind SVMs is best explained with some pictures. "
   ]
  },
  {
   "cell_type": "markdown",
   "id": "50b51376",
   "metadata": {},
   "source": [
    "Figure 5-1 shows part of the iris dataset that was introduced at the end of Chapter 4. "
   ]
  },
  {
   "cell_type": "markdown",
   "id": "a9029287",
   "metadata": {},
   "source": [
    "The two classes can clearly be separated easily with a straight line (they are linearly separable). The left plot shows the decision boundaries of three possible linear classifiers. "
   ]
  },
  {
   "cell_type": "markdown",
   "id": "b0f802ca",
   "metadata": {},
   "source": [
    "The model whose decision boundary is represented by the dashed line is so bad that it does not even separate the classes properly. "
   ]
  },
  {
   "cell_type": "markdown",
   "id": "301aa876",
   "metadata": {},
   "source": [
    "The other two models work perfectly on this training set, but their decision boundaries come so close to the instances that these models will probably not perform as well on new instances. "
   ]
  },
  {
   "cell_type": "markdown",
   "id": "2a4db9f3",
   "metadata": {},
   "source": [
    "In contrast, the solid line in the plot on the right represents the decision boundary of an SVM classifier; this line not only separates the two classes but also stays as far away from the closest training instances as possible. "
   ]
  },
  {
   "cell_type": "markdown",
   "id": "65cad5be",
   "metadata": {},
   "source": [
    "You can think of an SVM classifier as fitting the widest possible street (represented by the parallel\n",
    "dashed lines) between the classes. This is called large margin classification."
   ]
  },
  {
   "cell_type": "markdown",
   "id": "ee66953b",
   "metadata": {},
   "source": [
    "<img src = ''>"
   ]
  },
  {
   "cell_type": "markdown",
   "id": "0551a0c2",
   "metadata": {},
   "source": [
    "Notice that adding more training instances “off the street” will not affect the decision\n",
    "boundary at all: it is fully determined (or “supported”) by the instances located on the edge\n",
    "of the street. These instances are called the support vectors (they are circled in Figure 5-1).\n"
   ]
  },
  {
   "cell_type": "code",
   "execution_count": null,
   "id": "7b55a3a7",
   "metadata": {},
   "outputs": [],
   "source": []
  },
  {
   "cell_type": "code",
   "execution_count": null,
   "id": "41362130",
   "metadata": {},
   "outputs": [],
   "source": []
  }
 ],
 "metadata": {
  "kernelspec": {
   "display_name": "Python 3 (ipykernel)",
   "language": "python",
   "name": "python3"
  },
  "language_info": {
   "codemirror_mode": {
    "name": "ipython",
    "version": 3
   },
   "file_extension": ".py",
   "mimetype": "text/x-python",
   "name": "python",
   "nbconvert_exporter": "python",
   "pygments_lexer": "ipython3",
   "version": "3.9.7"
  }
 },
 "nbformat": 4,
 "nbformat_minor": 5
}
