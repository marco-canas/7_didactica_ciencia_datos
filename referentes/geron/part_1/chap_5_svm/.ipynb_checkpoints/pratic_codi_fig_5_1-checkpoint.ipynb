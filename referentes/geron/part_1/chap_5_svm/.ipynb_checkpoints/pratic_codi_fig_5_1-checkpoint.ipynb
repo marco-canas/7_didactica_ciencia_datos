{
 "cells": [
  {
   "cell_type": "markdown",
   "id": "1f5e7535",
   "metadata": {},
   "source": [
    "# Practica de clasificación binaria para flores de iris tipo setosa y versicolor\n"
   ]
  },
  {
   "cell_type": "markdown",
   "id": "72e5f0cf",
   "metadata": {},
   "source": [
    "<img src = 'https://github.com/marco-canas/didactica_ciencia_datos/blob/main/referentes/geron/part_1/chap_5_svm/figure_5_1.jpg?raw=true'>"
   ]
  },
  {
   "cell_type": "markdown",
   "id": "28714714",
   "metadata": {},
   "source": [
    "## Importación de las liberías necesarias para la modelación y la visualización"
   ]
  },
  {
   "cell_type": "code",
   "execution_count": 32,
   "id": "5e38c508",
   "metadata": {},
   "outputs": [],
   "source": [
    "import numpy as np \n",
    "import matplotlib.pyplot as plt \n",
    "\n",
    "from sklearn.datasets import load_iris \n",
    "\n",
    "from sklearn.model_selection import train_test_split \n",
    "\n",
    "from sklearn.preprocessing import StandardScaler \n",
    "\n",
    "from sklearn.svm import SVC\n",
    "\n"
   ]
  },
  {
   "cell_type": "markdown",
   "id": "7ee20618",
   "metadata": {},
   "source": [
    "## Configurar el dataset de iris para clasificar setosa y versicolor"
   ]
  },
  {
   "cell_type": "code",
   "execution_count": 33,
   "id": "5ac0b3e7",
   "metadata": {},
   "outputs": [],
   "source": [
    "X,y = load_iris(return_X_y = True)"
   ]
  },
  {
   "cell_type": "code",
   "execution_count": 34,
   "id": "30916b5e",
   "metadata": {},
   "outputs": [
    {
     "data": {
      "text/plain": [
       "(150, 4)"
      ]
     },
     "execution_count": 34,
     "metadata": {},
     "output_type": "execute_result"
    }
   ],
   "source": [
    "X.shape"
   ]
  },
  {
   "cell_type": "code",
   "execution_count": 35,
   "id": "2b02f304",
   "metadata": {},
   "outputs": [],
   "source": [
    "X = X[:,(2,3)]"
   ]
  },
  {
   "cell_type": "code",
   "execution_count": 36,
   "id": "f8d1a4f7",
   "metadata": {},
   "outputs": [
    {
     "data": {
      "text/plain": [
       "(150, 2)"
      ]
     },
     "execution_count": 36,
     "metadata": {},
     "output_type": "execute_result"
    }
   ],
   "source": [
    "X.shape \n"
   ]
  },
  {
   "cell_type": "code",
   "execution_count": 37,
   "id": "455642b5",
   "metadata": {},
   "outputs": [],
   "source": [
    "X = X[:100,:]"
   ]
  },
  {
   "cell_type": "code",
   "execution_count": 38,
   "id": "0258c513",
   "metadata": {},
   "outputs": [
    {
     "data": {
      "text/plain": [
       "(100, 2)"
      ]
     },
     "execution_count": 38,
     "metadata": {},
     "output_type": "execute_result"
    }
   ],
   "source": [
    "X.shape "
   ]
  },
  {
   "cell_type": "code",
   "execution_count": 39,
   "id": "87ec9445",
   "metadata": {},
   "outputs": [],
   "source": [
    "y = y[:100]"
   ]
  },
  {
   "cell_type": "code",
   "execution_count": 40,
   "id": "303548db",
   "metadata": {},
   "outputs": [
    {
     "data": {
      "text/plain": [
       "(100,)"
      ]
     },
     "execution_count": 40,
     "metadata": {},
     "output_type": "execute_result"
    }
   ],
   "source": [
    "y.shape "
   ]
  },
  {
   "cell_type": "code",
   "execution_count": 41,
   "id": "9090f94f",
   "metadata": {},
   "outputs": [],
   "source": [
    "X_train, X_test, y_train, y_test = train_test_split(X,y, test_size = 0.2, random_state = 42,\\\n",
    "                                                   stratify = y)"
   ]
  },
  {
   "cell_type": "code",
   "execution_count": 42,
   "id": "e8babef2",
   "metadata": {},
   "outputs": [],
   "source": [
    "escalador = StandardScaler() "
   ]
  },
  {
   "cell_type": "code",
   "execution_count": 44,
   "id": "aea789fc",
   "metadata": {},
   "outputs": [],
   "source": [
    "X_train_escalado = escalador.fit_transform(X_train)\n",
    "X_tes_escalado = escalador.transform(X_test) "
   ]
  },
  {
   "cell_type": "code",
   "execution_count": 45,
   "id": "a41ceed8",
   "metadata": {},
   "outputs": [],
   "source": [
    "svm_clf = SVC(kernel = 'linear')"
   ]
  },
  {
   "cell_type": "code",
   "execution_count": 64,
   "id": "0abc5a6a",
   "metadata": {},
   "outputs": [
    {
     "data": {
      "text/plain": [
       "SVC(kernel='linear')"
      ]
     },
     "execution_count": 64,
     "metadata": {},
     "output_type": "execute_result"
    }
   ],
   "source": [
    "svm_clf.fit(X_train_escalado, y_train) "
   ]
  },
  {
   "cell_type": "code",
   "execution_count": 69,
   "id": "fef617ec",
   "metadata": {},
   "outputs": [],
   "source": [
    "flor_1 = escalador.transform([X[75]])"
   ]
  },
  {
   "cell_type": "code",
   "execution_count": 70,
   "id": "0c239076",
   "metadata": {},
   "outputs": [
    {
     "data": {
      "text/plain": [
       "array([1])"
      ]
     },
     "execution_count": 70,
     "metadata": {},
     "output_type": "execute_result"
    }
   ],
   "source": [
    "svm_clf.predict(flor_1)"
   ]
  },
  {
   "cell_type": "markdown",
   "id": "a96fba7a",
   "metadata": {},
   "source": [
    "# Visualización en plano de las flores y del predictor "
   ]
  },
  {
   "cell_type": "code",
   "execution_count": 98,
   "id": "e96014e5",
   "metadata": {},
   "outputs": [
    {
     "data": {
      "image/png": "[encoded data removed]",
      "text/plain": [
       "<Figure size 432x288 with 1 Axes>"
      ]
     },
     "metadata": {
      "needs_background": "light"
     },
     "output_type": "display_data"
    }
   ],
   "source": [
    "fig, ax = plt.subplots() \n",
    "\n",
    "c,d = X_train_escalado[:,0].min()-0.5, X_train_escalado[:,0].max()+0.5\n",
    "e,f = X_train_escalado[:,1].min()-0.3, X_train_escalado[:,1].max()+0.3\n",
    "\n",
    "ax.axis([c,d,e,f])\n",
    "ax.set(xlabel = 'longitud del pétalo', ylabel = 'ancho del pétalo',\\\n",
    "       title = 'Clasificador de setosa y versicolor')\n",
    "\n",
    "ax.plot(X_train_escalado[:,0][y_train==0], X_train_escalado[:,1][y_train==0], 'yo',\\\n",
    "        label = 'setosa')\n",
    "ax.plot(X_train_escalado[:,0][y_train==1], X_train_escalado[:,1][y_train==1], 'bs',\\\n",
    "        label = 'versicolor')\n",
    "\n",
    "x0 = np.array([c,d])\n",
    "\n",
    "w,b = svm_clf.coef_[0], svm_clf.intercept_[0]\n",
    "m_ = -w[0]/w[1]\n",
    "b_ = -b/w[1]\n",
    "decision_boundary = m_*x0 + b_\n",
    "\n",
    "ax.plot(x0, decision_boundary, 'k-')\n",
    "\n",
    "ax.legend() \n",
    "plt.savefig('clasificador_svm.jpg')\n",
    "plt.show() "
   ]
  },
  {
   "cell_type": "code",
   "execution_count": 92,
   "id": "78af9035",
   "metadata": {},
   "outputs": [],
   "source": [
    "from sklearn.model_selection import cross_val_score "
   ]
  },
  {
   "cell_type": "code",
   "execution_count": 93,
   "id": "3971a2c1",
   "metadata": {},
   "outputs": [],
   "source": [
    "puntajes = cross_val_score(svm_clf, X_train_escalado, y_train, cv = 5, scoring = 'accuracy') "
   ]
  },
  {
   "cell_type": "code",
   "execution_count": 94,
   "id": "d7c20106",
   "metadata": {},
   "outputs": [],
   "source": [
    "def mostrar_puntajes(puntajes):\n",
    "    print(puntajes)\n",
    "    print(puntajes.mean())\n",
    "    print(puntajes.std())"
   ]
  },
  {
   "cell_type": "code",
   "execution_count": 95,
   "id": "ad62e0cf",
   "metadata": {},
   "outputs": [
    {
     "name": "stdout",
     "output_type": "stream",
     "text": [
      "[1. 1. 1. 1. 1.]\n",
      "1.0\n",
      "0.0\n"
     ]
    }
   ],
   "source": [
    "mostrar_puntajes(puntajes)"
   ]
  },
  {
   "cell_type": "code",
   "execution_count": 96,
   "id": "276cd01c",
   "metadata": {},
   "outputs": [
    {
     "data": {
      "text/plain": [
       "1.0"
      ]
     },
     "execution_count": 96,
     "metadata": {},
     "output_type": "execute_result"
    }
   ],
   "source": [
    "svm_clf.score(X_test_escalado, y_test)"
   ]
  },
  {
   "cell_type": "code",
   "execution_count": null,
   "id": "987fd1cd",
   "metadata": {},
   "outputs": [],
   "source": []
  }
 ],
 "metadata": {
  "kernelspec": {
   "display_name": "Python 3 (ipykernel)",
   "language": "python",
   "name": "python3"
  },
  "language_info": {
   "codemirror_mode": {
    "name": "ipython",
    "version": 3
   },
   "file_extension": ".py",
   "mimetype": "text/x-python",
   "name": "python",
   "nbconvert_exporter": "python",
   "pygments_lexer": "ipython3",
   "version": "3.9.12"
  }
 },
 "nbformat": 4,
 "nbformat_minor": 5
}
