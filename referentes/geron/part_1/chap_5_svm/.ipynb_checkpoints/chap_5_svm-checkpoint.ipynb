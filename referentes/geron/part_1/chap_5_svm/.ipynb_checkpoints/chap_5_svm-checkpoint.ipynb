{
 "cells": [
  {
   "cell_type": "markdown",
   "id": "b60c0a4a",
   "metadata": {
    "slideshow": {
     "slide_type": "slide"
    }
   },
   "source": [
    "<table align=\"left\">\n",
    "  <td>\n",
    "    <a href=\"https://colab.research.google.com/github/marco-canas/didactica_ciencia_datos/blob/main/referentes/geron/part_1/chap_5_sv/chap_5_svm.ipynb\" target=\"_parent\"><img src=\"https://colab.research.google.com/assets/colab-badge.svg\" alt=\"Open In Colab\"/></a>\n",
    "  </td>\n",
    "</table>"
   ]
  },
  {
   "cell_type": "markdown",
   "id": "43f50600",
   "metadata": {
    "slideshow": {
     "slide_type": "slide"
    }
   },
   "source": [
    "# Chapter 5. Support Vector Machines"
   ]
  },
  {
   "cell_type": "markdown",
   "id": "01790174",
   "metadata": {
    "slideshow": {
     "slide_type": "slide"
    }
   },
   "source": [
    "# Guido Van Rossum Creador de Python\n",
    "<img src = 'https://upload.wikimedia.org/wikipedia/commons/thumb/6/66/Guido_van_Rossum_OSCON_2006.jpg/300px-Guido_van_Rossum_OSCON_2006.jpg'>"
   ]
  },
  {
   "cell_type": "markdown",
   "id": "541097ce",
   "metadata": {
    "slideshow": {
     "slide_type": "slide"
    }
   },
   "source": [
    "Una máquina de soporte vectorial (SVM) es un modelo de aprendizaje automático potente y versátil, capaz de realizar clasificación lineal o no lineal, regresión e incluso detección de valores atípicos."
   ]
  },
  {
   "cell_type": "markdown",
   "id": "19b4a4c6",
   "metadata": {
    "slideshow": {
     "slide_type": "slide"
    }
   },
   "source": [
    "Es uno de los modelos más populares en Machine Learning, y cualquier persona interesada en Machine Learning debería tenerlo en su caja de herramientas."
   ]
  },
  {
   "cell_type": "markdown",
   "id": "cf76a4bb",
   "metadata": {
    "slideshow": {
     "slide_type": "slide"
    }
   },
   "source": [
    "Las SVM son particularmente adecuadas para la clasificación de conjuntos de datos complejos de tamaño pequeño o mediano."
   ]
  },
  {
   "cell_type": "markdown",
   "id": "64899e27",
   "metadata": {
    "slideshow": {
     "slide_type": "slide"
    }
   },
   "source": [
    "Este capítulo explicará los conceptos básicos de las SVM, cómo usarlas y cómo funcionan."
   ]
  },
  {
   "cell_type": "markdown",
   "id": "4885bb1f",
   "metadata": {
    "slideshow": {
     "slide_type": "slide"
    }
   },
   "source": [
    "## Linear SVM Classification"
   ]
  },
  {
   "cell_type": "markdown",
   "id": "2792f3f6",
   "metadata": {
    "slideshow": {
     "slide_type": "slide"
    }
   },
   "source": [
    "La idea fundamental detrás de las SVM se explica mejor con algunas imágenes."
   ]
  },
  {
   "cell_type": "markdown",
   "id": "39f0c382",
   "metadata": {
    "slideshow": {
     "slide_type": "slide"
    }
   },
   "source": [
    "La Figura 5-1 muestra parte del conjunto de datos del iris que se presentó al final del Capítulo 4."
   ]
  },
  {
   "cell_type": "markdown",
   "id": "32c15bbb",
   "metadata": {
    "slideshow": {
     "slide_type": "slide"
    }
   },
   "source": [
    "<img src = 'https://github.com/marco-canas/didactica_ciencia_datos/blob/main/referentes/geron/part_1/chap_5_svm/figure_5_1.jpg?raw=true'>"
   ]
  },
  {
   "cell_type": "markdown",
   "id": "4b33fe9e",
   "metadata": {
    "slideshow": {
     "slide_type": "slide"
    }
   },
   "source": [
    "Las dos clases se pueden separar fácilmente con una línea recta (son linealmente separables). "
   ]
  },
  {
   "cell_type": "markdown",
   "id": "63a1babb",
   "metadata": {
    "slideshow": {
     "slide_type": "slide"
    }
   },
   "source": [
    "El gráfico de la izquierda muestra los límites de decisión de tres posibles clasificadores lineales."
   ]
  },
  {
   "cell_type": "code",
   "execution_count": 7,
   "id": "cd6252fa",
   "metadata": {
    "scrolled": true,
    "slideshow": {
     "slide_type": "slide"
    }
   },
   "outputs": [
    {
     "data": {
      "image/png": "[encoded data removed]",
      "text/plain": [
       "<Figure size 432x288 with 1 Axes>"
      ]
     },
     "metadata": {
      "needs_background": "light"
     },
     "output_type": "display_data"
    }
   ],
   "source": [
    "import numpy as np \n",
    "import matplotlib.pyplot as plt \n",
    "\n",
    "from sklearn.datasets import load_iris\n",
    "from sklearn.model_selection import train_test_split\n",
    "from sklearn.preprocessing import StandardScaler \n",
    "\n",
    "from sklearn.svm import SVC\n",
    "from sklearn.pipeline import Pipeline \n",
    "\n",
    "iris = load_iris()\n",
    "X = iris.data[:,(2,3)] # longitud y ancho de pétalo\n",
    "y = iris.target\n",
    "\n",
    "X_train, X_test, y_train, y_test = train_test_split(X, y, test_size = 0.2, random_state = 42,\\\n",
    "                                                   stratify = y)\n",
    "\n",
    "\n",
    "escalador = StandardScaler()\n",
    "X_train_escalado = escalador.fit_transform(X_train)\n",
    "svm_clf = SVC(kernel = 'linear') \n",
    "svm_clf.fit(X_train, y_train)\n",
    "\n",
    "\n",
    "#graficación de las clases\n",
    "fig, ax = plt.subplots()\n",
    "\n",
    "ax.plot(X[:,0][y==0], X[:,1][y==0],'r.', label = 'Setosa')\n",
    "ax.plot(X[:,0][y==1], X[:,1][y==1], 'b.',label = 'Versicolor')\n",
    "\n",
    "ax.legend()\n",
    "\n",
    "ax.axis([X[:,0].min()-1, X[:,0].max()+1, X[:,1].min()-1, X[:,1].max()+1 ])\n",
    "ax.grid(alpha = 0.4)\n",
    "\n",
    "plt.show() "
   ]
  },
  {
   "cell_type": "code",
   "execution_count": 11,
   "id": "33c1b03c",
   "metadata": {
    "slideshow": {
     "slide_type": "slide"
    }
   },
   "outputs": [
    {
     "data": {
      "text/plain": [
       "(array([ 3.29999995,  2.2923075 , 12.48071156]),\n",
       " array([[-1.1       , -0.7       ],\n",
       "        [-0.61538458, -0.30769229],\n",
       "        [-1.76922053, -2.34614702]]))"
      ]
     },
     "execution_count": 11,
     "metadata": {},
     "output_type": "execute_result"
    }
   ],
   "source": [
    "svm_clf.intercept_, svm_clf.coef_"
   ]
  },
  {
   "cell_type": "markdown",
   "id": "d293491d",
   "metadata": {
    "slideshow": {
     "slide_type": "slide"
    }
   },
   "source": [
    "El modelo cuyo **límite de decisión** está representado por la línea discontinua es tan malo que ni siquiera separa las clases correctamente."
   ]
  },
  {
   "cell_type": "markdown",
   "id": "aa64669f",
   "metadata": {
    "slideshow": {
     "slide_type": "slide"
    }
   },
   "source": [
    "Los otros dos modelos funcionan perfectamente en este conjunto de entrenamiento, pero sus límites de decisión se acercan tanto a las instancias que estos modelos probablemente no funcionarán tan bien en nuevas instancias."
   ]
  },
  {
   "cell_type": "markdown",
   "id": "7486e518",
   "metadata": {
    "slideshow": {
     "slide_type": "slide"
    }
   },
   "source": [
    "Por el contrario, la línea continua en el gráfico de la derecha representa el límite de decisión de un clasificador SVM; esta línea no solo separa las dos clases, sino que también se mantiene lo más alejada posible de las instancias de entrenamiento más cercanas."
   ]
  },
  {
   "cell_type": "markdown",
   "id": "cbca33ab",
   "metadata": {
    "slideshow": {
     "slide_type": "slide"
    }
   },
   "source": [
    "Puede pensar en un clasificador SVM como si se ajustara a la calle más ancha posible (representada por las líneas discontinuas paralelas) entre las clases."
   ]
  },
  {
   "cell_type": "markdown",
   "id": "267241c8",
   "metadata": {
    "slideshow": {
     "slide_type": "slide"
    }
   },
   "source": [
    "Esto se llama **clasificación de gran margen**."
   ]
  },
  {
   "cell_type": "markdown",
   "id": "e2b83c04",
   "metadata": {
    "slideshow": {
     "slide_type": "slide"
    }
   },
   "source": [
    "Tenga en cuenta que agregar más instancias de capacitación \"fuera de la calle\" no afectará en absoluto el límite de decisión: está completamente determinado (o \"respaldado\") por las instancias ubicadas en el borde de la calle."
   ]
  },
  {
   "cell_type": "markdown",
   "id": "ef3968da",
   "metadata": {
    "slideshow": {
     "slide_type": "slide"
    }
   },
   "source": [
    "Estos casos se denominan vectores de soporte (están encerrados en un círculo en la figura 5-1)."
   ]
  },
  {
   "cell_type": "markdown",
   "id": "fdc272dd",
   "metadata": {
    "slideshow": {
     "slide_type": "slide"
    }
   },
   "source": [
    "<img src = 'https://github.com/marco-canas/didactica_ciencia_datos/blob/main/referentes/geron/part_1/chap_5_svm/figure_5_2.jpg?raw=true'>"
   ]
  },
  {
   "cell_type": "markdown",
   "id": "53a4f8cf",
   "metadata": {
    "slideshow": {
     "slide_type": "slide"
    }
   },
   "source": [
    "## ADVERTENCIA"
   ]
  },
  {
   "cell_type": "markdown",
   "id": "19a583d1",
   "metadata": {
    "slideshow": {
     "slide_type": "slide"
    }
   },
   "source": [
    "Las SVM son sensibles a las escalas de atributos, como puede ver en la Figura 5-2: en el gráfico de la izquierda, la escala vertical es mucho más grande que la escala horizontal, por lo que la calle más ancha posible está cerca de la horizontal. "
   ]
  },
  {
   "cell_type": "markdown",
   "id": "2cc18d4a",
   "metadata": {
    "slideshow": {
     "slide_type": "slide"
    }
   },
   "source": [
    "Después de escalar atributos (p. ej., usando `StandardScaler` de Scikit-Learn), el límite de decisión en el gráfico de la derecha se ve mucho mejor."
   ]
  },
  {
   "cell_type": "markdown",
   "id": "04e76986",
   "metadata": {
    "slideshow": {
     "slide_type": "slide"
    }
   },
   "source": [
    "## Soft Margin Classification\n",
    "Clasificación de margen blando"
   ]
  },
  {
   "cell_type": "markdown",
   "id": "bb3916dd",
   "metadata": {
    "slideshow": {
     "slide_type": "slide"
    }
   },
   "source": [
    "Si imponemos estrictamente que todas las instancias deben estar fuera de la calle y del lado derecho, esto se denomina *clasificación de margen duro*. "
   ]
  },
  {
   "cell_type": "markdown",
   "id": "7324f902",
   "metadata": {
    "slideshow": {
     "slide_type": "slide"
    }
   },
   "source": [
    "Hay dos problemas principales con la **clasificación de margen duro**."
   ]
  },
  {
   "cell_type": "markdown",
   "id": "753a6477",
   "metadata": {
    "slideshow": {
     "slide_type": "slide"
    }
   },
   "source": [
    "Primero, solo funciona si los datos son **linealmente separables**. "
   ]
  },
  {
   "cell_type": "markdown",
   "id": "ce511324",
   "metadata": {
    "slideshow": {
     "slide_type": "slide"
    }
   },
   "source": [
    "En segundo lugar, es sensible a los **valores atípicos**."
   ]
  },
  {
   "cell_type": "markdown",
   "id": "42b73e35",
   "metadata": {
    "slideshow": {
     "slide_type": "slide"
    }
   },
   "source": [
    "* La Figura 5-3 muestra el conjunto de datos del iris con solo un valor atípico adicional: a la izquierda, es imposible encontrar un margen duro;   \n",
    "* a la derecha, el límite de decisión termina siendo muy diferente del que vimos en la Figura 5-1 sin el valor atípico, y probablemente tampoco se generalice."
   ]
  },
  {
   "cell_type": "markdown",
   "id": "4146fdd0",
   "metadata": {
    "slideshow": {
     "slide_type": "slide"
    }
   },
   "source": [
    "<img src = 'https://github.com/marco-canas/didactica_ciencia_datos/blob/main/referentes/geron/part_1/chap_5_svm/figure_5_3.jpg?raw=true'>"
   ]
  },
  {
   "cell_type": "markdown",
   "id": "c7d98cb6",
   "metadata": {
    "slideshow": {
     "slide_type": "slide"
    }
   },
   "source": [
    "Para evitar estos problemas, utilice un modelo más flexible. "
   ]
  },
  {
   "cell_type": "markdown",
   "id": "7efabdde",
   "metadata": {
    "slideshow": {
     "slide_type": "slide"
    }
   },
   "source": [
    "El objetivo es encontrar un buen equilibrio entre mantener la calle lo más grande posible y limitar las violaciones de los márgenes (es decir, instancias que terminan en el medio de la calle o incluso en el lado equivocado)."
   ]
  },
  {
   "cell_type": "markdown",
   "id": "6446fb20",
   "metadata": {
    "slideshow": {
     "slide_type": "slide"
    }
   },
   "source": [
    "Esto se llama ***clasificación de margen suave***."
   ]
  },
  {
   "cell_type": "markdown",
   "id": "f6e8e352",
   "metadata": {
    "slideshow": {
     "slide_type": "slide"
    }
   },
   "source": [
    "Al crear un modelo SVM con Scikit-Learn, podemos especificar una serie de hiperparámetros. "
   ]
  },
  {
   "cell_type": "markdown",
   "id": "072a46e1",
   "metadata": {
    "slideshow": {
     "slide_type": "slide"
    }
   },
   "source": [
    "`C` es uno de esos hiperparámetros."
   ]
  },
  {
   "cell_type": "markdown",
   "id": "e8d89b3b",
   "metadata": {
    "slideshow": {
     "slide_type": "slide"
    }
   },
   "source": [
    "Si lo establecemos en un valor bajo, terminamos con el modelo a la izquierda de la Figura 5-4."
   ]
  },
  {
   "cell_type": "markdown",
   "id": "40a2cdef",
   "metadata": {
    "slideshow": {
     "slide_type": "slide"
    }
   },
   "source": [
    "<img src = 'https://github.com/marco-canas/didactica_ciencia_datos/blob/main/referentes/geron/part_1/chap_5_svm/figure_5_4.jpg?raw=true'>"
   ]
  },
  {
   "cell_type": "markdown",
   "id": "ac42824d",
   "metadata": {
    "slideshow": {
     "slide_type": "slide"
    }
   },
   "source": [
    "Con un valor alto, obtenemos el modelo de la derecha."
   ]
  },
  {
   "cell_type": "markdown",
   "id": "97152f3d",
   "metadata": {
    "slideshow": {
     "slide_type": "slide"
    }
   },
   "source": [
    "Las violaciones de los márgenes son malas."
   ]
  },
  {
   "cell_type": "markdown",
   "id": "32abef31",
   "metadata": {
    "slideshow": {
     "slide_type": "slide"
    }
   },
   "source": [
    "Por lo general, es mejor tener algunos de ellos."
   ]
  },
  {
   "cell_type": "markdown",
   "id": "46ffd52d",
   "metadata": {
    "slideshow": {
     "slide_type": "slide"
    }
   },
   "source": [
    "Sin embargo, en este caso, el modelo de la izquierda tiene muchas violaciones de márgenes, pero probablemente generalice mejor."
   ]
  },
  {
   "cell_type": "markdown",
   "id": "eb05fe04",
   "metadata": {
    "slideshow": {
     "slide_type": "slide"
    }
   },
   "source": [
    "### Sugerencia"
   ]
  },
  {
   "cell_type": "markdown",
   "id": "473d2cd1",
   "metadata": {
    "slideshow": {
     "slide_type": "slide"
    }
   },
   "source": [
    "Si su modelo SVM está sobreajustado, puede intentar regularizarlo reduciendo `C`."
   ]
  },
  {
   "cell_type": "markdown",
   "id": "c2a09e92",
   "metadata": {
    "slideshow": {
     "slide_type": "slide"
    }
   },
   "source": [
    "El siguiente código de Scikit-Learn carga el conjunto de datos de iris, escala las características y luego entrena un modelo SVM lineal (usando la clase `LinearSVC` con `C=1` y la función de pérdida de bisagra, descrita en breve) para detectar flores de Iris virginica:\n"
   ]
  },
  {
   "cell_type": "code",
   "execution_count": 15,
   "id": "ba04688c",
   "metadata": {
    "slideshow": {
     "slide_type": "slide"
    }
   },
   "outputs": [
    {
     "data": {
      "text/plain": [
       "Pipeline(steps=[('scaler', StandardScaler()),\n",
       "                ('linear_svc', LinearSVC(C=1, loss='hinge'))])"
      ]
     },
     "execution_count": 15,
     "metadata": {},
     "output_type": "execute_result"
    }
   ],
   "source": [
    "import numpy as np\n",
    "from sklearn import datasets\n",
    "from sklearn.pipeline import Pipeline\n",
    "from sklearn.preprocessing import StandardScaler\n",
    "from sklearn.svm import LinearSVC\n",
    "iris = datasets.load_iris()\n",
    "X = iris[\"data\"][:, (2, 3)] # petal length, petal width\n",
    "y = (iris[\"target\"] == 2).astype(np.float64) # Iris virginica\n",
    "svm_clf = Pipeline([\n",
    "(\"scaler\", StandardScaler()),\n",
    "(\"linear_svc\", LinearSVC(C=1, loss=\"hinge\")),\n",
    "])\n",
    "svm_clf.fit(X, y)\n"
   ]
  },
  {
   "cell_type": "markdown",
   "id": "341fd646",
   "metadata": {
    "slideshow": {
     "slide_type": "slide"
    }
   },
   "source": [
    "El modelo resultante se representa a la izquierda en la Figura 5-4."
   ]
  },
  {
   "cell_type": "markdown",
   "id": "5784a680",
   "metadata": {
    "slideshow": {
     "slide_type": "slide"
    }
   },
   "source": [
    "Luego, como de costumbre, puede usar el modelo para hacer predicciones:"
   ]
  },
  {
   "cell_type": "code",
   "execution_count": 2,
   "id": "7c0de8e7",
   "metadata": {
    "slideshow": {
     "slide_type": "slide"
    }
   },
   "outputs": [
    {
     "data": {
      "text/plain": [
       "array([1.])"
      ]
     },
     "execution_count": 2,
     "metadata": {},
     "output_type": "execute_result"
    }
   ],
   "source": [
    "svm_clf.predict([[5.5, 1.7]])"
   ]
  },
  {
   "cell_type": "markdown",
   "id": "da2a018a",
   "metadata": {
    "slideshow": {
     "slide_type": "slide"
    }
   },
   "source": [
    "## NOTA"
   ]
  },
  {
   "cell_type": "markdown",
   "id": "c00f1692",
   "metadata": {
    "slideshow": {
     "slide_type": "slide"
    }
   },
   "source": [
    "A diferencia de los clasificadores de regresión logística, los clasificadores `SVM` no generan probabilidades para cada clase."
   ]
  },
  {
   "cell_type": "markdown",
   "id": "3424b749",
   "metadata": {
    "slideshow": {
     "slide_type": "slide"
    }
   },
   "source": [
    "En lugar de usar la clase `LinearSVC`, podríamos usar la clase SVC con un núcleo lineal."
   ]
  },
  {
   "cell_type": "markdown",
   "id": "8733bb98",
   "metadata": {
    "slideshow": {
     "slide_type": "slide"
    }
   },
   "source": [
    "Al crear el modelo SVC, escribiríamos `SVC(kernel=\"linear\", C=1)`."
   ]
  },
  {
   "cell_type": "markdown",
   "id": "025b797a",
   "metadata": {
    "slideshow": {
     "slide_type": "slide"
    }
   },
   "source": [
    "O podríamos usar la clase SGDClassifier, con `SGDClassifier(loss=\"hinge\", alpha=1/(m*C))`."
   ]
  },
  {
   "cell_type": "code",
   "execution_count": 6,
   "id": "f55d0ff6",
   "metadata": {
    "slideshow": {
     "slide_type": "slide"
    }
   },
   "outputs": [
    {
     "name": "stdout",
     "output_type": "stream",
     "text": [
      "\n",
      "Note: you may need to restart the kernel to use updated packages.Collecting package metadata (current_repodata.json): ...working... done\n",
      "\n",
      "Solving environment: ...working... done\n",
      "\n",
      "## Package Plan ##\n",
      "\n",
      "  environment location: C:\\Users\\Marco\\anaconda3\n",
      "\n",
      "\n",
      "The following packages will be downloaded:\n",
      "\n",
      "    package                    |            build\n",
      "    ---------------------------|-----------------\n",
      "    _anaconda_depends-2021.11  |           py39_0           7 KB\n",
      "    anaconda-custom            |           py39_1           4 KB\n",
      "    anaconda-navigator-2.1.4   |   py39haa95532_0         5.1 MB\n",
      "    anaconda-project-0.10.2    |     pyhd3eb1b0_0         218 KB\n",
      "    anyio-3.5.0                |   py39haa95532_0         167 KB\n",
      "    argon2-cffi-21.3.0         |     pyhd3eb1b0_0          15 KB\n",
      "    argon2-cffi-bindings-21.2.0|   py39h2bbff1b_0          36 KB\n",
      "    arrow-1.2.2                |     pyhd3eb1b0_0          92 KB\n",
      "    astropy-5.0.4              |   py39h080aedc_0         6.3 MB\n",
      "    asttokens-2.0.5            |     pyhd3eb1b0_0          20 KB\n",
      "    attrs-21.4.0               |     pyhd3eb1b0_0          51 KB\n",
      "    autopep8-1.6.0             |     pyhd3eb1b0_0          42 KB\n",
      "    backports-1.1              |     pyhd3eb1b0_0           4 KB\n",
      "    beautifulsoup4-4.11.1      |   py39haa95532_0         190 KB\n",
      "    bitarray-2.4.1             |   py39h2bbff1b_0         151 KB\n",
      "    bleach-4.1.0               |     pyhd3eb1b0_0         123 KB\n",
      "    bokeh-2.4.2                |   py39haa95532_0         7.7 MB\n",
      "    bottleneck-1.3.4           |   py39h080aedc_0         109 KB\n",
      "    ca-certificates-2022.4.26  |       haa95532_0         124 KB\n",
      "    certifi-2021.10.8          |   py39haa95532_2         152 KB\n",
      "    cffi-1.15.0                |   py39h2bbff1b_1         224 KB\n",
      "    click-8.0.4                |   py39haa95532_0         155 KB\n",
      "    conda-build-3.21.8         |   py39haa95532_2         554 KB\n",
      "    conda-env-2.6.0            |       haa95532_1           3 KB\n",
      "    conda-package-handling-1.8.1|   py39h8cc25b3_0         729 KB\n",
      "    cookiecutter-1.7.3         |     pyhd3eb1b0_0          79 KB\n",
      "    curl-7.82.0                |       h2bbff1b_0         140 KB\n",
      "    cycler-0.11.0              |     pyhd3eb1b0_0          12 KB\n",
      "    cython-0.29.28             |   py39hd77b12b_0         1.8 MB\n",
      "    daal4py-2021.5.0           |   py39h8cb3d55_0         7.9 MB\n",
      "    dal-2021.5.0               |     haa95532_796        23.2 MB\n",
      "    dask-2022.2.1              |     pyhd3eb1b0_0           5 KB\n",
      "    dask-core-2022.2.1         |     pyhd3eb1b0_0         747 KB\n",
      "    debugpy-1.5.1              |   py39hd77b12b_0         2.6 MB\n",
      "    decorator-5.1.1            |     pyhd3eb1b0_0          12 KB\n",
      "    distributed-2022.2.1       |     pyhd3eb1b0_0         659 KB\n",
      "    entrypoints-0.4            |   py39haa95532_0          17 KB\n",
      "    executing-0.8.3            |     pyhd3eb1b0_0          18 KB\n",
      "    filelock-3.6.0             |     pyhd3eb1b0_0          12 KB\n",
      "    fsspec-2022.2.0            |     pyhd3eb1b0_0          98 KB\n",
      "    h5py-3.6.0                 |   py39h3de5c98_0         879 KB\n",
      "    idna-3.3                   |     pyhd3eb1b0_0          49 KB\n",
      "    imagesize-1.3.0            |     pyhd3eb1b0_0           9 KB\n",
      "    importlib-metadata-4.11.3  |   py39haa95532_0          41 KB\n",
      "    importlib_metadata-4.11.3  |       hd3eb1b0_0          12 KB\n",
      "    ipykernel-6.9.1            |   py39haa95532_0         200 KB\n",
      "    ipython-8.3.0              |   py39haa95532_0        1010 KB\n",
      "    jedi-0.18.1                |   py39haa95532_1         982 KB\n",
      "    jinja2-time-0.2.0          |     pyhd3eb1b0_3           9 KB\n",
      "    jpeg-9e                    |       h2bbff1b_0         292 KB\n",
      "    jsonschema-4.4.0           |   py39haa95532_0         139 KB\n",
      "    jupyter_core-4.10.0        |   py39haa95532_0          96 KB\n",
      "    jupyter_server-1.13.5      |     pyhd3eb1b0_0         259 KB\n",
      "    jupyterlab-3.3.2           |     pyhd3eb1b0_0         3.6 MB\n",
      "    jupyterlab_server-2.10.3   |     pyhd3eb1b0_1          48 KB\n",
      "    keyring-23.4.0             |   py39haa95532_0          72 KB\n",
      "    kiwisolver-1.3.2           |   py39hd77b12b_0          56 KB\n",
      "    libcurl-7.82.0             |       h86230a5_0         296 KB\n",
      "    libiconv-1.16              |       h2bbff1b_2         651 KB\n",
      "    liblief-0.11.5             |       hd77b12b_1         2.1 MB\n",
      "    libssh2-1.10.0             |       hcd4344a_0         222 KB\n",
      "    libwebp-1.2.2              |       h2bbff1b_0         658 KB\n",
      "    llvmlite-0.38.0            |   py39h23ce68f_0        13.3 MB\n",
      "    locket-0.2.1               |   py39haa95532_2          12 KB\n",
      "    lxml-4.8.0                 |   py39h1985fb9_0         998 KB\n",
      "    markupsafe-2.0.1           |   py39h2bbff1b_0          24 KB\n",
      "    matplotlib-3.5.1           |   py39haa95532_1          29 KB\n",
      "    matplotlib-base-3.5.1      |   py39hd77b12b_1         5.6 MB\n",
      "    more-itertools-8.12.0      |     pyhd3eb1b0_0          49 KB\n",
      "    mypy_extensions-0.4.3      |   py39haa95532_1          10 KB\n",
      "    navigator-updater-0.2.1    |           py39_1         713 KB\n",
      "    nbclassic-0.3.5            |     pyhd3eb1b0_0          22 KB\n",
      "    nbclient-0.5.13            |   py39haa95532_0         108 KB\n",
      "    nbconvert-6.4.4            |   py39haa95532_0         517 KB\n",
      "    nbformat-5.3.0             |   py39haa95532_0         146 KB\n",
      "    nest-asyncio-1.5.5         |   py39haa95532_0          16 KB\n",
      "    networkx-2.7.1             |     pyhd3eb1b0_0         1.3 MB\n",
      "    nltk-3.7                   |     pyhd3eb1b0_0        1010 KB\n",
      "    nose-1.3.7                 |  pyhd3eb1b0_1008         142 KB\n",
      "    notebook-6.4.11            |   py39haa95532_0         4.5 MB\n",
      "    numba-0.55.1               |   py39hf11a4ad_0         3.4 MB\n",
      "    numexpr-2.8.1              |   py39hb80d3ca_0         117 KB\n",
      "    numpy-1.21.5               |   py39h7a0a035_2          25 KB\n",
      "    numpy-base-1.21.5          |   py39hca35cd5_2         4.4 MB\n",
      "    numpydoc-1.2               |     pyhd3eb1b0_0          45 KB\n",
      "    openssl-1.1.1n             |       h2bbff1b_0         4.8 MB\n",
      "    packaging-21.3             |     pyhd3eb1b0_0          36 KB\n",
      "    pandas-1.4.2               |   py39hd77b12b_0         8.7 MB\n",
      "    pandocfilters-1.5.0        |     pyhd3eb1b0_0          11 KB\n",
      "    paramiko-2.8.1             |     pyhd3eb1b0_0         139 KB\n",
      "    parso-0.8.3                |     pyhd3eb1b0_0          70 KB\n",
      "    partd-1.2.0                |     pyhd3eb1b0_1          18 KB\n",
      "    path-16.2.0                |     pyhd3eb1b0_0          23 KB\n",
      "    patsy-0.5.2                |   py39haa95532_1         276 KB\n",
      "    pillow-9.0.1               |   py39hdc2b20a_0         921 KB\n",
      "    pkginfo-1.8.2              |     pyhd3eb1b0_0          27 KB\n",
      "    pluggy-1.0.0               |   py39haa95532_1          29 KB\n",
      "    prometheus_client-0.13.1   |     pyhd3eb1b0_0          47 KB\n",
      "    pure_eval-0.2.2            |     pyhd3eb1b0_0          14 KB\n",
      "    py-1.11.0                  |     pyhd3eb1b0_0          76 KB\n",
      "    py-lief-0.11.5             |   py39hd77b12b_1         1.7 MB\n",
      "    pycparser-2.21             |     pyhd3eb1b0_0          94 KB\n",
      "    pygments-2.11.2            |     pyhd3eb1b0_0         759 KB\n",
      "    pyodbc-4.0.32              |   py39hd77b12b_1          73 KB\n",
      "    pytest-7.1.1               |   py39haa95532_0         478 KB\n",
      "    python-3.9.12              |       h6244533_0        17.1 MB\n",
      "    python-fastjsonschema-2.15.1|     pyhd3eb1b0_0          29 KB\n",
      "    pywavelets-1.3.0           |   py39h2bbff1b_0         3.5 MB\n",
      "    pywin32-302                |   py39h2bbff1b_2         5.6 MB\n",
      "    pywinpty-2.0.2             |   py39h5da7b33_0         200 KB\n",
      "    pyzmq-22.3.0               |   py39hd77b12b_2         632 KB\n",
      "    qtawesome-1.0.3            |     pyhd3eb1b0_0         761 KB\n",
      "    qtconsole-5.3.0            |     pyhd3eb1b0_0          93 KB\n",
      "    qtpy-2.0.1                 |     pyhd3eb1b0_0          40 KB\n",
      "    regex-2022.3.15            |   py39h2bbff1b_0         316 KB\n",
      "    requests-2.27.1            |     pyhd3eb1b0_0          54 KB\n",
      "    rise-5.7.1                 |   py39haa95532_0         1.7 MB\n",
      "    rope-0.22.0                |     pyhd3eb1b0_0         129 KB\n",
      "    scikit-image-0.19.2        |   py39hf11a4ad_0         9.5 MB\n",
      "    scikit-learn-1.0.2         |   py39hf11a4ad_1         5.1 MB\n",
      "    scikit-learn-intelex-2021.5.0|   py39haa95532_0          69 KB\n",
      "    scipy-1.7.3                |   py39h0a974cb_0        13.9 MB\n",
      "    setuptools-61.2.0          |   py39haa95532_0         1.0 MB\n",
      "    six-1.16.0                 |     pyhd3eb1b0_1          18 KB\n",
      "    snappy-1.1.9               |       h6c2663c_0         2.2 MB\n",
      "    snowballstemmer-2.2.0      |     pyhd3eb1b0_0          61 KB\n",
      "    soupsieve-2.3.1            |     pyhd3eb1b0_0          34 KB\n",
      "    sphinx-4.4.0               |     pyhd3eb1b0_0         1.2 MB\n",
      "    sqlalchemy-1.4.32          |   py39h2bbff1b_0         1.9 MB\n",
      "    sqlite-3.38.3              |       h2bbff1b_0         806 KB\n",
      "    stack_data-0.2.0           |     pyhd3eb1b0_0          22 KB\n",
      "    statsmodels-0.13.2         |   py39h2bbff1b_0         8.3 MB\n",
      "    sympy-1.10.1               |   py39haa95532_0         9.5 MB\n",
      "    tbb-2021.5.0               |       h59b6b97_0         149 KB\n",
      "    tbb4py-2021.5.0            |   py39h59b6b97_0          76 KB\n",
      "    terminado-0.13.1           |   py39haa95532_0          31 KB\n",
      "    tomli-1.2.2                |     pyhd3eb1b0_0          17 KB\n",
      "    toolz-0.11.2               |     pyhd3eb1b0_0          49 KB\n",
      "    tqdm-4.64.0                |   py39haa95532_0         155 KB\n",
      "    traitlets-5.1.1            |     pyhd3eb1b0_0          84 KB\n",
      "    typing-extensions-4.1.1    |       hd3eb1b0_0           8 KB\n",
      "    typing_extensions-4.1.1    |     pyh06a4308_0          28 KB\n",
      "    tzdata-2022a               |       hda174b7_0         109 KB\n",
      "    ujson-5.1.0                |   py39hd77b12b_0          50 KB\n",
      "    urllib3-1.26.9             |   py39haa95532_0         190 KB\n",
      "    watchdog-2.1.6             |   py39haa95532_0         110 KB\n",
      "    websocket-client-0.58.0    |   py39haa95532_4          69 KB\n",
      "    werkzeug-2.0.3             |     pyhd3eb1b0_0         221 KB\n",
      "    wheel-0.37.1               |     pyhd3eb1b0_0          33 KB\n",
      "    widgetsnbextension-3.5.2   |   py39haa95532_0         646 KB\n",
      "    xlsxwriter-3.0.3           |     pyhd3eb1b0_0         113 KB\n",
      "    xz-5.2.5                   |       h8cc25b3_1         246 KB\n",
      "    zipp-3.7.0                 |     pyhd3eb1b0_0          12 KB\n",
      "    zlib-1.2.12                |       h8cc25b3_2         116 KB\n",
      "    ------------------------------------------------------------\n",
      "                                           Total:       211.8 MB\n",
      "\n",
      "The following NEW packages will be INSTALLED:\n"
     ]
    },
    {
     "name": "stdout",
     "output_type": "stream",
     "text": [
      "\n",
      "  _anaconda_depends  pkgs/main/win-64::_anaconda_depends-2021.11-py39_0\n",
      "  argon2-cffi-bindi~ pkgs/main/win-64::argon2-cffi-bindings-21.2.0-py39h2bbff1b_0\n",
      "  asttokens          pkgs/main/noarch::asttokens-2.0.5-pyhd3eb1b0_0\n",
      "  executing          pkgs/main/noarch::executing-0.8.3-pyhd3eb1b0_0\n",
      "  pure_eval          pkgs/main/noarch::pure_eval-0.2.2-pyhd3eb1b0_0\n",
      "  python-fastjsonsc~ pkgs/main/noarch::python-fastjsonschema-2.15.1-pyhd3eb1b0_0\n",
      "  stack_data         pkgs/main/noarch::stack_data-0.2.0-pyhd3eb1b0_0\n",
      "  tomli              pkgs/main/noarch::tomli-1.2.2-pyhd3eb1b0_0\n",
      "  typing-extensions  pkgs/main/noarch::typing-extensions-4.1.1-hd3eb1b0_0\n",
      "  websocket-client   pkgs/main/win-64::websocket-client-0.58.0-py39haa95532_4\n",
      "\n",
      "The following packages will be REMOVED:\n",
      "\n",
      "  xmltodict-0.12.0-pyhd3eb1b0_0\n",
      "\n",
      "The following packages will be UPDATED:\n",
      "\n",
      "  anaconda-navigator                   2.1.2-py39haa95532_0 --> 2.1.4-py39haa95532_0\n",
      "  anaconda-project                      0.10.1-pyhd3eb1b0_0 --> 0.10.2-pyhd3eb1b0_0\n",
      "  anyio                                2.2.0-py39haa95532_2 --> 3.5.0-py39haa95532_0\n",
      "  argon2-cffi        pkgs/main/win-64::argon2-cffi-20.1.0-~ --> pkgs/main/noarch::argon2-cffi-21.3.0-pyhd3eb1b0_0\n",
      "  arrow              pkgs/main/win-64::arrow-0.13.1-py39ha~ --> pkgs/main/noarch::arrow-1.2.2-pyhd3eb1b0_0\n",
      "  astropy                              4.3.1-py39hc7d831d_0 --> 5.0.4-py39h080aedc_0\n",
      "  attrs                                 21.2.0-pyhd3eb1b0_0 --> 21.4.0-pyhd3eb1b0_0\n",
      "  autopep8                               1.5.7-pyhd3eb1b0_0 --> 1.6.0-pyhd3eb1b0_0\n",
      "  backports                                1.0-pyhd3eb1b0_2 --> 1.1-pyhd3eb1b0_0\n",
      "  beautifulsoup4     pkgs/main/noarch::beautifulsoup4-4.10~ --> pkgs/main/win-64::beautifulsoup4-4.11.1-py39haa95532_0\n",
      "  bitarray                             2.3.0-py39h2bbff1b_1 --> 2.4.1-py39h2bbff1b_0\n",
      "  bleach                                 4.0.0-pyhd3eb1b0_0 --> 4.1.0-pyhd3eb1b0_0\n",
      "  bokeh                                2.4.1-py39haa95532_0 --> 2.4.2-py39haa95532_0\n",
      "  bottleneck                           1.3.2-py39h7cc1a96_1 --> 1.3.4-py39h080aedc_0\n",
      "  ca-certificates                     2021.10.26-haa95532_2 --> 2022.4.26-haa95532_0\n",
      "  certifi                          2021.10.8-py39haa95532_0 --> 2021.10.8-py39haa95532_2\n",
      "  cffi                                1.14.6-py39h2bbff1b_0 --> 1.15.0-py39h2bbff1b_1\n",
      "  click              pkgs/main/noarch::click-8.0.3-pyhd3eb~ --> pkgs/main/win-64::click-8.0.4-py39haa95532_0\n",
      "  conda-build                         3.21.6-py39haa95532_0 --> 3.21.8-py39haa95532_2\n",
      "  conda-package-han~                   1.7.3-py39h8cc25b3_1 --> 1.8.1-py39h8cc25b3_0\n",
      "  cookiecutter                           1.7.2-pyhd3eb1b0_0 --> 1.7.3-pyhd3eb1b0_0\n",
      "  curl                                    7.78.0-h86230a5_0 --> 7.82.0-h2bbff1b_0\n",
      "  cycler             pkgs/main/win-64::cycler-0.10.0-py39h~ --> pkgs/main/noarch::cycler-0.11.0-pyhd3eb1b0_0\n",
      "  cython                             0.29.24-py39h604cdb4_0 --> 0.29.28-py39hd77b12b_0\n",
      "  daal4py                           2021.3.0-py39h757b272_0 --> 2021.5.0-py39h8cb3d55_0\n",
      "  dal                                 2021.3.0-haa95532_564 --> 2021.5.0-haa95532_796\n",
      "  dask                               2021.10.0-pyhd3eb1b0_0 --> 2022.2.1-pyhd3eb1b0_0\n",
      "  dask-core                          2021.10.0-pyhd3eb1b0_0 --> 2022.2.1-pyhd3eb1b0_0\n",
      "  debugpy                              1.4.1-py39hd77b12b_0 --> 1.5.1-py39hd77b12b_0\n",
      "  decorator                              5.1.0-pyhd3eb1b0_0 --> 5.1.1-pyhd3eb1b0_0\n",
      "  distributed        pkgs/main/win-64::distributed-2021.10~ --> pkgs/main/noarch::distributed-2022.2.1-pyhd3eb1b0_0\n",
      "  entrypoints                            0.3-py39haa95532_0 --> 0.4-py39haa95532_0\n",
      "  filelock                               3.3.1-pyhd3eb1b0_1 --> 3.6.0-pyhd3eb1b0_0\n",
      "  fsspec                             2021.10.1-pyhd3eb1b0_0 --> 2022.2.0-pyhd3eb1b0_0\n",
      "  h5py                                 3.2.1-py39h3de5c98_0 --> 3.6.0-py39h3de5c98_0\n",
      "  idna                                     3.2-pyhd3eb1b0_0 --> 3.3-pyhd3eb1b0_0\n",
      "  imagesize                              1.2.0-pyhd3eb1b0_0 --> 1.3.0-pyhd3eb1b0_0\n",
      "  importlib-metadata                   4.8.1-py39haa95532_0 --> 4.11.3-py39haa95532_0\n",
      "  importlib_metadata                       4.8.1-hd3eb1b0_0 --> 4.11.3-hd3eb1b0_0\n",
      "  ipykernel                            6.4.1-py39haa95532_1 --> 6.9.1-py39haa95532_0\n",
      "  ipython                             7.29.0-py39hd4e2768_0 --> 8.3.0-py39haa95532_0\n",
      "  jedi                                0.18.0-py39haa95532_1 --> 0.18.1-py39haa95532_1\n",
      "  jinja2-time                            0.2.0-pyhd3eb1b0_2 --> 0.2.0-pyhd3eb1b0_3\n",
      "  jpeg                                        9d-h2bbff1b_0 --> 9e-h2bbff1b_0\n",
      "  jsonschema         pkgs/main/noarch::jsonschema-3.2.0-py~ --> pkgs/main/win-64::jsonschema-4.4.0-py39haa95532_0\n",
      "  jupyter_core                         4.8.1-py39haa95532_0 --> 4.10.0-py39haa95532_0\n",
      "  jupyter_server     pkgs/main/win-64::jupyter_server-1.4.~ --> pkgs/main/noarch::jupyter_server-1.13.5-pyhd3eb1b0_0\n",
      "  jupyterlab                             3.2.1-pyhd3eb1b0_1 --> 3.3.2-pyhd3eb1b0_0\n",
      "  jupyterlab_server                      2.8.2-pyhd3eb1b0_0 --> 2.10.3-pyhd3eb1b0_1\n",
      "  keyring                             23.1.0-py39haa95532_0 --> 23.4.0-py39haa95532_0\n",
      "  kiwisolver                           1.3.1-py39hd77b12b_0 --> 1.3.2-py39hd77b12b_0\n",
      "  libcurl                                 7.78.0-h86230a5_0 --> 7.82.0-h86230a5_0\n",
      "  libiconv                                  1.15-h1df5818_7 --> 1.16-h2bbff1b_2\n",
      "  liblief                                 0.10.1-hd77b12b_1 --> 0.11.5-hd77b12b_1\n",
      "  libssh2                                  1.9.0-h7a1dbc1_1 --> 1.10.0-hcd4344a_0\n",
      "  libwebp                                  1.2.0-h2bbff1b_0 --> 1.2.2-h2bbff1b_0\n",
      "  llvmlite                            0.37.0-py39h23ce68f_1 --> 0.38.0-py39h23ce68f_0\n",
      "  locket                               0.2.1-py39haa95532_1 --> 0.2.1-py39haa95532_2\n",
      "  lxml                                 4.6.3-py39h9b66d53_0 --> 4.8.0-py39h1985fb9_0\n",
      "  markupsafe                           1.1.1-py39h2bbff1b_0 --> 2.0.1-py39h2bbff1b_0\n",
      "  matplotlib                           3.4.3-py39haa95532_0 --> 3.5.1-py39haa95532_1\n",
      "  matplotlib-base                      3.4.3-py39h49ac443_0 --> 3.5.1-py39hd77b12b_1\n",
      "  more-itertools                        8.10.0-pyhd3eb1b0_0 --> 8.12.0-pyhd3eb1b0_0\n",
      "  mypy_extensions                      0.4.3-py39haa95532_0 --> 0.4.3-py39haa95532_1\n",
      "  navigator-updater                    0.2.1-py39haa95532_0 --> 0.2.1-py39_1\n",
      "  nbclassic                              0.2.6-pyhd3eb1b0_0 --> 0.3.5-pyhd3eb1b0_0\n",
      "  nbclient           pkgs/main/noarch::nbclient-0.5.3-pyhd~ --> pkgs/main/win-64::nbclient-0.5.13-py39haa95532_0\n",
      "  nbconvert                            6.1.0-py39haa95532_0 --> 6.4.4-py39haa95532_0\n",
      "  nbformat           pkgs/main/noarch::nbformat-5.1.3-pyhd~ --> pkgs/main/win-64::nbformat-5.3.0-py39haa95532_0\n",
      "  nest-asyncio       pkgs/main/noarch::nest-asyncio-1.5.1-~ --> pkgs/main/win-64::nest-asyncio-1.5.5-py39haa95532_0\n",
      "  networkx                               2.6.3-pyhd3eb1b0_0 --> 2.7.1-pyhd3eb1b0_0\n",
      "  nltk                                   3.6.5-pyhd3eb1b0_0 --> 3.7-pyhd3eb1b0_0\n",
      "  nose                                1.3.7-pyhd3eb1b0_1006 --> 1.3.7-pyhd3eb1b0_1008\n",
      "  notebook                             6.4.5-py39haa95532_0 --> 6.4.11-py39haa95532_0\n",
      "  numba                               0.54.1-py39hf11a4ad_0 --> 0.55.1-py39hf11a4ad_0\n",
      "  numexpr                              2.7.3-py39hb80d3ca_1 --> 2.8.1-py39hb80d3ca_0\n",
      "  numpy                               1.20.3-py39ha4e8547_0 --> 1.21.5-py39h7a0a035_2\n",
      "  numpy-base                          1.20.3-py39hc2deb75_0 --> 1.21.5-py39hca35cd5_2\n",
      "  numpydoc                               1.1.0-pyhd3eb1b0_1 --> 1.2-pyhd3eb1b0_0\n",
      "  openssl                                 1.1.1l-h2bbff1b_0 --> 1.1.1n-h2bbff1b_0\n",
      "  packaging                               21.0-pyhd3eb1b0_0 --> 21.3-pyhd3eb1b0_0\n",
      "  pandas                               1.3.4-py39h6214cd6_0 --> 1.4.2-py39hd77b12b_0\n",
      "  pandocfilters      pkgs/main/win-64::pandocfilters-1.4.3~ --> pkgs/main/noarch::pandocfilters-1.5.0-pyhd3eb1b0_0\n",
      "  paramiko                                       2.7.2-py_0 --> 2.8.1-pyhd3eb1b0_0\n",
      "  parso                                  0.8.2-pyhd3eb1b0_0 --> 0.8.3-pyhd3eb1b0_0\n",
      "  partd                                  1.2.0-pyhd3eb1b0_0 --> 1.2.0-pyhd3eb1b0_1\n",
      "  path               pkgs/main/win-64::path-16.0.0-py39haa~ --> pkgs/main/noarch::path-16.2.0-pyhd3eb1b0_0\n",
      "  patsy                                0.5.2-py39haa95532_0 --> 0.5.2-py39haa95532_1\n",
      "  pillow                               8.4.0-py39hd45dc43_0 --> 9.0.1-py39hdc2b20a_0\n",
      "  pkginfo            pkgs/main/win-64::pkginfo-1.7.1-py39h~ --> pkgs/main/noarch::pkginfo-1.8.2-pyhd3eb1b0_0\n",
      "  pluggy                              0.13.1-py39haa95532_0 --> 1.0.0-py39haa95532_1\n",
      "  prometheus_client                     0.11.0-pyhd3eb1b0_0 --> 0.13.1-pyhd3eb1b0_0\n",
      "  py                                    1.10.0-pyhd3eb1b0_0 --> 1.11.0-pyhd3eb1b0_0\n",
      "  py-lief                             0.10.1-py39hd77b12b_1 --> 0.11.5-py39hd77b12b_1\n",
      "  pycparser                                       2.20-py_2 --> 2.21-pyhd3eb1b0_0\n",
      "  pygments                              2.10.0-pyhd3eb1b0_0 --> 2.11.2-pyhd3eb1b0_0\n",
      "  pyodbc                              4.0.31-py39hd77b12b_0 --> 4.0.32-py39hd77b12b_1\n",
      "  pytest                               6.2.4-py39haa95532_2 --> 7.1.1-py39haa95532_0\n",
      "  python                                   3.9.7-h6244533_1 --> 3.9.12-h6244533_0\n",
      "  pywavelets                           1.1.1-py39h080aedc_4 --> 1.3.0-py39h2bbff1b_0\n",
      "  pywin32                                228-py39he774522_0 --> 302-py39h2bbff1b_2\n",
      "  pywinpty                             0.5.7-py39haa95532_0 --> 2.0.2-py39h5da7b33_0\n",
      "  pyzmq                               22.2.1-py39hd77b12b_1 --> 22.3.0-py39hd77b12b_2\n",
      "  qtawesome                              1.0.2-pyhd3eb1b0_0 --> 1.0.3-pyhd3eb1b0_0\n",
      "  qtconsole                              5.1.1-pyhd3eb1b0_0 --> 5.3.0-pyhd3eb1b0_0\n",
      "  qtpy                                  1.10.0-pyhd3eb1b0_0 --> 2.0.1-pyhd3eb1b0_0\n",
      "  regex                             2021.8.3-py39h2bbff1b_0 --> 2022.3.15-py39h2bbff1b_0\n",
      "  requests                              2.26.0-pyhd3eb1b0_0 --> 2.27.1-pyhd3eb1b0_0\n",
      "  rope                                  0.19.0-pyhd3eb1b0_0 --> 0.22.0-pyhd3eb1b0_0\n",
      "  scikit-image                        0.18.3-py39hf11a4ad_0 --> 0.19.2-py39hf11a4ad_0\n",
      "  scikit-learn                        0.24.2-py39hf11a4ad_1 --> 1.0.2-py39hf11a4ad_1\n",
      "  scikit-learn-inte~                2021.3.0-py39haa95532_0 --> 2021.5.0-py39haa95532_0\n",
      "  scipy                                1.7.1-py39hbe87c03_2 --> 1.7.3-py39h0a974cb_0\n",
      "  setuptools                          58.0.4-py39haa95532_0 --> 61.2.0-py39haa95532_0\n",
      "  six                                   1.16.0-pyhd3eb1b0_0 --> 1.16.0-pyhd3eb1b0_1\n",
      "  snappy                                   1.1.8-h33f27b4_0 --> 1.1.9-h6c2663c_0\n",
      "  snowballstemmer                        2.1.0-pyhd3eb1b0_0 --> 2.2.0-pyhd3eb1b0_0\n",
      "  soupsieve                              2.2.1-pyhd3eb1b0_0 --> 2.3.1-pyhd3eb1b0_0\n",
      "  sphinx                                 4.2.0-pyhd3eb1b0_1 --> 4.4.0-pyhd3eb1b0_0\n",
      "  sqlalchemy                          1.4.22-py39h2bbff1b_0 --> 1.4.32-py39h2bbff1b_0\n",
      "  sqlite                                  3.36.0-h2bbff1b_0 --> 3.38.3-h2bbff1b_0\n",
      "  statsmodels                         0.12.2-py39h2bbff1b_0 --> 0.13.2-py39h2bbff1b_0\n",
      "  sympy                                  1.9-py39haa95532_0 --> 1.10.1-py39haa95532_0\n",
      "  tbb                                   2021.4.0-h59b6b97_0 --> 2021.5.0-h59b6b97_0\n",
      "  tbb4py                            2021.4.0-py39h59b6b97_0 --> 2021.5.0-py39h59b6b97_0\n",
      "  terminado                            0.9.4-py39haa95532_0 --> 0.13.1-py39haa95532_0\n",
      "  toolz                                 0.11.1-pyhd3eb1b0_0 --> 0.11.2-pyhd3eb1b0_0\n",
      "  tqdm               pkgs/main/noarch::tqdm-4.62.3-pyhd3eb~ --> pkgs/main/win-64::tqdm-4.64.0-py39haa95532_0\n",
      "  traitlets                              5.1.0-pyhd3eb1b0_0 --> 5.1.1-pyhd3eb1b0_0\n",
      "  typing_extensions                   3.10.0.2-pyh06a4308_0 --> 4.1.1-pyh06a4308_0\n",
      "  tzdata                                   2021e-hda174b7_0 --> 2022a-hda174b7_0\n",
      "  ujson                                4.0.2-py39hd77b12b_0 --> 5.1.0-py39hd77b12b_0\n",
      "  urllib3            pkgs/main/noarch::urllib3-1.26.7-pyhd~ --> pkgs/main/win-64::urllib3-1.26.9-py39haa95532_0\n",
      "  watchdog                             2.1.3-py39haa95532_0 --> 2.1.6-py39haa95532_0\n",
      "  werkzeug                               2.0.2-pyhd3eb1b0_0 --> 2.0.3-pyhd3eb1b0_0\n",
      "  wheel                                 0.37.0-pyhd3eb1b0_1 --> 0.37.1-pyhd3eb1b0_0\n",
      "  widgetsnbextension                   3.5.1-py39haa95532_0 --> 3.5.2-py39haa95532_0\n",
      "  xlsxwriter                             3.0.1-pyhd3eb1b0_0 --> 3.0.3-pyhd3eb1b0_0\n",
      "  xz                                       5.2.5-h62dcd97_0 --> 5.2.5-h8cc25b3_1\n",
      "  zipp                                   3.6.0-pyhd3eb1b0_0 --> 3.7.0-pyhd3eb1b0_0\n",
      "  zlib                                    1.2.11-h62dcd97_4 --> 1.2.12-h8cc25b3_2\n",
      "\n",
      "The following packages will be SUPERSEDED by a higher-priority channel:\n",
      "\n",
      "  rise               conda-forge::rise-5.7.1-py39hcbf5309_1 --> pkgs/main::rise-5.7.1-py39haa95532_0\n",
      "\n",
      "The following packages will be DOWNGRADED:\n",
      "\n",
      "  anaconda                                   2021.11-py39_0 --> custom-py39_1\n",
      "  conda-env                                         2.6.0-1 --> 2.6.0-haa95532_1\n",
      "\n",
      "\n",
      "\n",
      "Downloading and Extracting Packages\n",
      "\n",
      "qtpy-2.0.1           | 40 KB     |            |   0% \n",
      "qtpy-2.0.1           | 40 KB     | ###9       |  40% \n",
      "qtpy-2.0.1           | 40 KB     | ########## | 100% \n",
      "qtpy-2.0.1           | 40 KB     | ########## | 100% \n",
      "\n",
      "ca-certificates-2022 | 124 KB    |            |   0% \n",
      "ca-certificates-2022 | 124 KB    | #2         |  13% \n",
      "ca-certificates-2022 | 124 KB    | ###8       |  39% \n",
      "ca-certificates-2022 | 124 KB    | ######4    |  64% \n",
      "ca-certificates-2022 | 124 KB    | ########## | 100% \n",
      "ca-certificates-2022 | 124 KB    | ########## | 100% \n",
      "\n",
      "more-itertools-8.12. | 49 KB     |            |   0% \n",
      "more-itertools-8.12. | 49 KB     | ###2       |  33% \n",
      "more-itertools-8.12. | 49 KB     | ######5    |  65% \n",
      "more-itertools-8.12. | 49 KB     | ########## | 100% \n",
      "more-itertools-8.12. | 49 KB     | ########## | 100% \n",
      "\n",
      "networkx-2.7.1       | 1.3 MB    |            |   0% \n",
      "networkx-2.7.1       | 1.3 MB    | 1          |   1% \n",
      "networkx-2.7.1       | 1.3 MB    | 3          |   4% \n",
      "networkx-2.7.1       | 1.3 MB    | 7          |   7% \n",
      "networkx-2.7.1       | 1.3 MB    | #2         |  13% \n",
      "networkx-2.7.1       | 1.3 MB    | #7         |  18% \n",
      "networkx-2.7.1       | 1.3 MB    | ##         |  20% \n",
      "networkx-2.7.1       | 1.3 MB    | ##5        |  26% \n",
      "networkx-2.7.1       | 1.3 MB    | ##9        |  29% \n",
      "networkx-2.7.1       | 1.3 MB    | ###3       |  33% \n",
      "networkx-2.7.1       | 1.3 MB    | ###8       |  39% \n",
      "networkx-2.7.1       | 1.3 MB    | ####5      |  46% \n",
      "networkx-2.7.1       | 1.3 MB    | ####9      |  50% \n",
      "networkx-2.7.1       | 1.3 MB    | #####3     |  53% \n",
      "networkx-2.7.1       | 1.3 MB    | #####8     |  59% \n",
      "networkx-2.7.1       | 1.3 MB    | ######2    |  62% \n",
      "networkx-2.7.1       | 1.3 MB    | ######6    |  66% \n",
      "networkx-2.7.1       | 1.3 MB    | #######    |  71% \n",
      "networkx-2.7.1       | 1.3 MB    | #######5   |  75% \n",
      "networkx-2.7.1       | 1.3 MB    | ########1  |  81% \n",
      "networkx-2.7.1       | 1.3 MB    | ########6  |  86% \n",
      "networkx-2.7.1       | 1.3 MB    | ########9  |  90% \n",
      "networkx-2.7.1       | 1.3 MB    | #########9 |  99% \n",
      "networkx-2.7.1       | 1.3 MB    | ########## | 100% \n",
      "\n",
      "conda-package-handli | 729 KB    |            |   0% \n",
      "conda-package-handli | 729 KB    | 2          |   2% \n",
      "conda-package-handli | 729 KB    | 8          |   9% \n",
      "conda-package-handli | 729 KB    | #3         |  13% \n",
      "conda-package-handli | 729 KB    | ##6        |  26% \n",
      "conda-package-handli | 729 KB    | ###7       |  37% \n",
      "conda-package-handli | 729 KB    | ####3      |  44% \n",
      "conda-package-handli | 729 KB    | #####2     |  53% \n",
      "conda-package-handli | 729 KB    | ######3    |  64% \n",
      "conda-package-handli | 729 KB    | #######    |  70% \n",
      "conda-package-handli | 729 KB    | #######4   |  75% \n",
      "conda-package-handli | 729 KB    | ########9  |  90% \n",
      "conda-package-handli | 729 KB    | #########6 |  97% \n",
      "conda-package-handli | 729 KB    | ########## | 100% \n",
      "\n",
      "python-3.9.12        | 17.1 MB   |            |   0% \n",
      "python-3.9.12        | 17.1 MB   |            |   0% \n",
      "python-3.9.12        | 17.1 MB   |            |   0% \n",
      "python-3.9.12        | 17.1 MB   |            |   0% \n",
      "python-3.9.12        | 17.1 MB   |            |   1% \n",
      "python-3.9.12        | 17.1 MB   | 1          |   1% \n",
      "python-3.9.12        | 17.1 MB   | 1          |   2% \n",
      "python-3.9.12        | 17.1 MB   | 2          |   2% \n",
      "python-3.9.12        | 17.1 MB   | 2          |   3% \n",
      "python-3.9.12        | 17.1 MB   | 3          |   3% \n",
      "python-3.9.12        | 17.1 MB   | 3          |   3% \n",
      "python-3.9.12        | 17.1 MB   | 3          |   4% \n",
      "python-3.9.12        | 17.1 MB   | 4          |   4% \n",
      "python-3.9.12        | 17.1 MB   | 4          |   4% \n",
      "python-3.9.12        | 17.1 MB   | 4          |   5% \n",
      "python-3.9.12        | 17.1 MB   | 5          |   5% \n",
      "python-3.9.12        | 17.1 MB   | 5          |   6% \n",
      "python-3.9.12        | 17.1 MB   | 6          |   6% \n",
      "python-3.9.12        | 17.1 MB   | 6          |   7% \n",
      "python-3.9.12        | 17.1 MB   | 6          |   7% \n",
      "python-3.9.12        | 17.1 MB   | 7          |   7% \n",
      "python-3.9.12        | 17.1 MB   | 7          |   8% \n",
      "python-3.9.12        | 17.1 MB   | 8          |   8% \n",
      "python-3.9.12        | 17.1 MB   | 8          |   9% \n",
      "python-3.9.12        | 17.1 MB   | 8          |   9% \n",
      "python-3.9.12        | 17.1 MB   | 9          |   9% \n",
      "python-3.9.12        | 17.1 MB   | 9          |  10% \n",
      "python-3.9.12        | 17.1 MB   | #          |  10% \n",
      "python-3.9.12        | 17.1 MB   | #          |  11% \n",
      "python-3.9.12        | 17.1 MB   | #          |  11% \n",
      "python-3.9.12        | 17.1 MB   | #1         |  11% \n",
      "python-3.9.12        | 17.1 MB   | #1         |  12% \n",
      "python-3.9.12        | 17.1 MB   | #1         |  12% \n",
      "python-3.9.12        | 17.1 MB   | #2         |  12% \n",
      "python-3.9.12        | 17.1 MB   | #2         |  13% \n",
      "python-3.9.12        | 17.1 MB   | #2         |  13% \n",
      "python-3.9.12        | 17.1 MB   | #3         |  13% \n",
      "python-3.9.12        | 17.1 MB   | #3         |  13% \n",
      "python-3.9.12        | 17.1 MB   | #3         |  14% \n",
      "python-3.9.12        | 17.1 MB   | #3         |  14% \n",
      "python-3.9.12        | 17.1 MB   | #4         |  14% \n",
      "python-3.9.12        | 17.1 MB   | #4         |  14% \n",
      "python-3.9.12        | 17.1 MB   | #5         |  15% \n",
      "python-3.9.12        | 17.1 MB   | #5         |  15% \n",
      "python-3.9.12        | 17.1 MB   | #5         |  16% \n",
      "python-3.9.12        | 17.1 MB   | #6         |  16% \n",
      "python-3.9.12        | 17.1 MB   | #6         |  16% \n",
      "python-3.9.12        | 17.1 MB   | #6         |  17% \n",
      "python-3.9.12        | 17.1 MB   | #7         |  17% \n",
      "python-3.9.12        | 17.1 MB   | #7         |  18% \n",
      "python-3.9.12        | 17.1 MB   | #8         |  18% \n",
      "python-3.9.12        | 17.1 MB   | #8         |  19% \n",
      "python-3.9.12        | 17.1 MB   | #9         |  19% \n",
      "python-3.9.12        | 17.1 MB   | #9         |  20% \n",
      "python-3.9.12        | 17.1 MB   | ##         |  20% \n",
      "python-3.9.12        | 17.1 MB   | ##         |  20% \n",
      "python-3.9.12        | 17.1 MB   | ##         |  21% \n",
      "python-3.9.12        | 17.1 MB   | ##1        |  21% \n",
      "python-3.9.12        | 17.1 MB   | ##1        |  21% \n",
      "python-3.9.12        | 17.1 MB   | ##1        |  22% \n",
      "python-3.9.12        | 17.1 MB   | ##2        |  22% \n",
      "python-3.9.12        | 17.1 MB   | ##2        |  23% \n",
      "python-3.9.12        | 17.1 MB   | ##3        |  23% \n",
      "python-3.9.12        | 17.1 MB   | ##4        |  24% \n",
      "python-3.9.12        | 17.1 MB   | ##4        |  25% \n",
      "python-3.9.12        | 17.1 MB   | ##5        |  25% \n",
      "python-3.9.12        | 17.1 MB   | ##5        |  26% \n",
      "python-3.9.12        | 17.1 MB   | ##5        |  26% \n",
      "python-3.9.12        | 17.1 MB   | ##6        |  27% \n",
      "python-3.9.12        | 17.1 MB   | ##7        |  27% \n",
      "python-3.9.12        | 17.1 MB   | ##7        |  27% \n",
      "python-3.9.12        | 17.1 MB   | ##7        |  28% \n",
      "python-3.9.12        | 17.1 MB   | ##8        |  28% \n",
      "python-3.9.12        | 17.1 MB   | ##8        |  29% \n",
      "python-3.9.12        | 17.1 MB   | ##9        |  29% \n",
      "python-3.9.12        | 17.1 MB   | ##9        |  30% \n",
      "python-3.9.12        | 17.1 MB   | ###        |  31% \n",
      "python-3.9.12        | 17.1 MB   | ###1       |  31% \n",
      "python-3.9.12        | 17.1 MB   | ###1       |  32% \n",
      "python-3.9.12        | 17.1 MB   | ###2       |  32% \n",
      "python-3.9.12        | 17.1 MB   | ###2       |  32% \n",
      "python-3.9.12        | 17.1 MB   | ###2       |  33% \n",
      "python-3.9.12        | 17.1 MB   | ###3       |  33% \n",
      "python-3.9.12        | 17.1 MB   | ###3       |  34% \n",
      "python-3.9.12        | 17.1 MB   | ###4       |  34% \n",
      "python-3.9.12        | 17.1 MB   | ###4       |  34% \n",
      "python-3.9.12        | 17.1 MB   | ###4       |  35% \n",
      "python-3.9.12        | 17.1 MB   | ###5       |  35% \n",
      "python-3.9.12        | 17.1 MB   | ###5       |  35% \n",
      "python-3.9.12        | 17.1 MB   | ###5       |  36% \n",
      "python-3.9.12        | 17.1 MB   | ###6       |  36% \n",
      "python-3.9.12        | 17.1 MB   | ###6       |  36% \n",
      "python-3.9.12        | 17.1 MB   | ###7       |  37% \n",
      "python-3.9.12        | 17.1 MB   | ###7       |  37% \n",
      "python-3.9.12        | 17.1 MB   | ###7       |  38% \n",
      "python-3.9.12        | 17.1 MB   | ###8       |  38% \n",
      "python-3.9.12        | 17.1 MB   | ###8       |  39% \n",
      "python-3.9.12        | 17.1 MB   | ###9       |  39% \n",
      "python-3.9.12        | 17.1 MB   | ###9       |  40% \n",
      "python-3.9.12        | 17.1 MB   | ###9       |  40% \n",
      "python-3.9.12        | 17.1 MB   | ####       |  41% \n",
      "python-3.9.12        | 17.1 MB   | ####1      |  41% \n",
      "python-3.9.12        | 17.1 MB   | ####1      |  42% \n",
      "python-3.9.12        | 17.1 MB   | ####2      |  42% \n",
      "python-3.9.12        | 17.1 MB   | ####2      |  43% \n",
      "python-3.9.12        | 17.1 MB   | ####3      |  43% \n",
      "python-3.9.12        | 17.1 MB   | ####4      |  44% \n",
      "python-3.9.12        | 17.1 MB   | ####4      |  45% \n",
      "python-3.9.12        | 17.1 MB   | ####5      |  45% \n",
      "python-3.9.12        | 17.1 MB   | ####6      |  46% \n",
      "python-3.9.12        | 17.1 MB   | ####6      |  47% \n",
      "python-3.9.12        | 17.1 MB   | ####7      |  47% \n",
      "python-3.9.12        | 17.1 MB   | ####7      |  48% \n",
      "python-3.9.12        | 17.1 MB   | ####8      |  48% \n",
      "python-3.9.12        | 17.1 MB   | ####8      |  49% \n",
      "python-3.9.12        | 17.1 MB   | ####9      |  49% \n",
      "python-3.9.12        | 17.1 MB   | ####9      |  50% \n",
      "python-3.9.12        | 17.1 MB   | #####      |  50% \n",
      "python-3.9.12        | 17.1 MB   | #####      |  50% \n",
      "python-3.9.12        | 17.1 MB   | #####1     |  51% \n",
      "python-3.9.12        | 17.1 MB   | #####1     |  52% \n",
      "python-3.9.12        | 17.1 MB   | #####2     |  52% \n",
      "python-3.9.12        | 17.1 MB   | #####2     |  53% \n",
      "python-3.9.12        | 17.1 MB   | #####2     |  53% \n",
      "python-3.9.12        | 17.1 MB   | #####3     |  53% \n",
      "python-3.9.12        | 17.1 MB   | #####3     |  54% \n",
      "python-3.9.12        | 17.1 MB   | #####3     |  54% \n",
      "python-3.9.12        | 17.1 MB   | #####4     |  55% \n",
      "python-3.9.12        | 17.1 MB   | #####4     |  55% \n",
      "python-3.9.12        | 17.1 MB   | #####5     |  55% \n",
      "python-3.9.12        | 17.1 MB   | #####6     |  56% \n",
      "python-3.9.12        | 17.1 MB   | #####6     |  57% \n",
      "python-3.9.12        | 17.1 MB   | #####7     |  57% \n",
      "python-3.9.12        | 17.1 MB   | #####7     |  57% \n",
      "python-3.9.12        | 17.1 MB   | #####7     |  58% \n",
      "python-3.9.12        | 17.1 MB   | #####8     |  58% \n",
      "python-3.9.12        | 17.1 MB   | #####9     |  59% \n",
      "python-3.9.12        | 17.1 MB   | #####9     |  60% \n",
      "python-3.9.12        | 17.1 MB   | #####9     |  60% \n",
      "python-3.9.12        | 17.1 MB   | ######     |  60% \n",
      "python-3.9.12        | 17.1 MB   | ######     |  60% \n",
      "python-3.9.12        | 17.1 MB   | ######1    |  61% \n",
      "python-3.9.12        | 17.1 MB   | ######1    |  62% \n",
      "python-3.9.12        | 17.1 MB   | ######1    |  62% \n",
      "python-3.9.12        | 17.1 MB   | ######2    |  63% \n",
      "python-3.9.12        | 17.1 MB   | ######3    |  63% \n",
      "python-3.9.12        | 17.1 MB   | ######4    |  64% \n",
      "python-3.9.12        | 17.1 MB   | ######4    |  65% \n",
      "python-3.9.12        | 17.1 MB   | ######5    |  65% \n",
      "python-3.9.12        | 17.1 MB   | ######5    |  65% \n",
      "python-3.9.12        | 17.1 MB   | ######5    |  66% \n",
      "python-3.9.12        | 17.1 MB   | ######5    |  66% \n",
      "python-3.9.12        | 17.1 MB   | ######6    |  66% \n",
      "python-3.9.12        | 17.1 MB   | ######7    |  67% \n",
      "python-3.9.12        | 17.1 MB   | ######7    |  68% \n",
      "python-3.9.12        | 17.1 MB   | ######7    |  68% \n",
      "python-3.9.12        | 17.1 MB   | ######8    |  68% \n",
      "python-3.9.12        | 17.1 MB   | ######8    |  69% \n",
      "python-3.9.12        | 17.1 MB   | ######9    |  69% \n",
      "python-3.9.12        | 17.1 MB   | ######9    |  70% \n",
      "python-3.9.12        | 17.1 MB   | #######    |  70% \n",
      "python-3.9.12        | 17.1 MB   | #######    |  70% \n",
      "python-3.9.12        | 17.1 MB   | #######    |  71% \n",
      "python-3.9.12        | 17.1 MB   | #######1   |  71% \n",
      "python-3.9.12        | 17.1 MB   | #######1   |  71% \n",
      "python-3.9.12        | 17.1 MB   | #######1   |  72% \n",
      "python-3.9.12        | 17.1 MB   | #######1   |  72% \n",
      "python-3.9.12        | 17.1 MB   | #######2   |  72% \n",
      "python-3.9.12        | 17.1 MB   | #######2   |  72% \n",
      "python-3.9.12        | 17.1 MB   | #######2   |  73% \n",
      "python-3.9.12        | 17.1 MB   | #######2   |  73% \n",
      "python-3.9.12        | 17.1 MB   | #######3   |  73% \n",
      "python-3.9.12        | 17.1 MB   | #######3   |  74% \n",
      "python-3.9.12        | 17.1 MB   | #######3   |  74% \n",
      "python-3.9.12        | 17.1 MB   | #######4   |  74% \n",
      "python-3.9.12        | 17.1 MB   | #######4   |  74% \n",
      "python-3.9.12        | 17.1 MB   | #######4   |  75% \n",
      "python-3.9.12        | 17.1 MB   | #######5   |  75% \n",
      "python-3.9.12        | 17.1 MB   | #######5   |  75% \n",
      "python-3.9.12        | 17.1 MB   | #######5   |  76% \n",
      "python-3.9.12        | 17.1 MB   | #######5   |  76% \n",
      "python-3.9.12        | 17.1 MB   | #######6   |  76% \n",
      "python-3.9.12        | 17.1 MB   | #######6   |  77% \n",
      "python-3.9.12        | 17.1 MB   | #######7   |  77% \n",
      "python-3.9.12        | 17.1 MB   | #######7   |  77% \n",
      "python-3.9.12        | 17.1 MB   | #######7   |  78% \n",
      "python-3.9.12        | 17.1 MB   | #######7   |  78% \n",
      "python-3.9.12        | 17.1 MB   | #######8   |  78% \n",
      "python-3.9.12        | 17.1 MB   | #######8   |  78% \n",
      "python-3.9.12        | 17.1 MB   | #######8   |  79% \n",
      "python-3.9.12        | 17.1 MB   | #######9   |  79% \n",
      "python-3.9.12        | 17.1 MB   | #######9   |  79% \n",
      "python-3.9.12        | 17.1 MB   | #######9   |  79% \n",
      "python-3.9.12        | 17.1 MB   | #######9   |  80% \n",
      "python-3.9.12        | 17.1 MB   | ########   |  80% \n",
      "python-3.9.12        | 17.1 MB   | ########   |  80% \n",
      "python-3.9.12        | 17.1 MB   | ########   |  80% \n",
      "python-3.9.12        | 17.1 MB   | ########   |  81% \n",
      "python-3.9.12        | 17.1 MB   | ########   |  81% \n",
      "python-3.9.12        | 17.1 MB   | ########1  |  81% \n",
      "python-3.9.12        | 17.1 MB   | ########1  |  81% \n",
      "python-3.9.12        | 17.1 MB   | ########1  |  82% \n",
      "python-3.9.12        | 17.1 MB   | ########1  |  82% \n",
      "python-3.9.12        | 17.1 MB   | ########2  |  82% \n",
      "python-3.9.12        | 17.1 MB   | ########2  |  83% \n",
      "python-3.9.12        | 17.1 MB   | ########2  |  83% \n",
      "python-3.9.12        | 17.1 MB   | ########3  |  83% \n",
      "python-3.9.12        | 17.1 MB   | ########3  |  83% \n",
      "python-3.9.12        | 17.1 MB   | ########3  |  84% \n",
      "python-3.9.12        | 17.1 MB   | ########3  |  84% \n",
      "python-3.9.12        | 17.1 MB   | ########4  |  84% \n",
      "python-3.9.12        | 17.1 MB   | ########5  |  85% \n",
      "python-3.9.12        | 17.1 MB   | ########5  |  86% \n",
      "python-3.9.12        | 17.1 MB   | ########6  |  86% \n",
      "python-3.9.12        | 17.1 MB   | ########6  |  87% \n",
      "python-3.9.12        | 17.1 MB   | ########7  |  87% \n",
      "python-3.9.12        | 17.1 MB   | ########7  |  88% \n",
      "python-3.9.12        | 17.1 MB   | ########8  |  88% \n",
      "python-3.9.12        | 17.1 MB   | ########8  |  88% \n",
      "python-3.9.12        | 17.1 MB   | ########8  |  89% \n",
      "python-3.9.12        | 17.1 MB   | ########9  |  89% \n",
      "python-3.9.12        | 17.1 MB   | #########  |  90% \n",
      "python-3.9.12        | 17.1 MB   | #########  |  91% \n",
      "python-3.9.12        | 17.1 MB   | #########1 |  91% \n",
      "python-3.9.12        | 17.1 MB   | #########1 |  91% \n",
      "python-3.9.12        | 17.1 MB   | #########1 |  92% \n",
      "python-3.9.12        | 17.1 MB   | #########2 |  92% \n",
      "python-3.9.12        | 17.1 MB   | #########2 |  93% \n",
      "python-3.9.12        | 17.1 MB   | #########3 |  93% \n",
      "python-3.9.12        | 17.1 MB   | #########3 |  93% \n",
      "python-3.9.12        | 17.1 MB   | #########4 |  94% \n",
      "python-3.9.12        | 17.1 MB   | #########4 |  94% \n",
      "python-3.9.12        | 17.1 MB   | #########4 |  95% \n",
      "python-3.9.12        | 17.1 MB   | #########5 |  95% \n",
      "python-3.9.12        | 17.1 MB   | #########5 |  96% \n",
      "python-3.9.12        | 17.1 MB   | #########6 |  96% \n",
      "python-3.9.12        | 17.1 MB   | #########6 |  96% \n",
      "python-3.9.12        | 17.1 MB   | #########6 |  97% \n",
      "python-3.9.12        | 17.1 MB   | #########6 |  97% \n",
      "python-3.9.12        | 17.1 MB   | #########7 |  97% \n",
      "python-3.9.12        | 17.1 MB   | #########7 |  98% \n",
      "python-3.9.12        | 17.1 MB   | #########8 |  98% \n",
      "python-3.9.12        | 17.1 MB   | #########8 |  99% \n",
      "python-3.9.12        | 17.1 MB   | #########9 |  99% \n",
      "python-3.9.12        | 17.1 MB   | #########9 |  99% \n",
      "python-3.9.12        | 17.1 MB   | #########9 | 100% \n",
      "python-3.9.12        | 17.1 MB   | ########## | 100% \n",
      "\n",
      "pywavelets-1.3.0     | 3.5 MB    |            |   0% \n",
      "pywavelets-1.3.0     | 3.5 MB    |            |   0% \n",
      "pywavelets-1.3.0     | 3.5 MB    |            |   1% \n",
      "pywavelets-1.3.0     | 3.5 MB    | 4          |   4% \n",
      "pywavelets-1.3.0     | 3.5 MB    | 6          |   6% \n",
      "pywavelets-1.3.0     | 3.5 MB    | 8          |   8% \n",
      "pywavelets-1.3.0     | 3.5 MB    | #          |  10% \n",
      "pywavelets-1.3.0     | 3.5 MB    | #4         |  15% \n",
      "pywavelets-1.3.0     | 3.5 MB    | #6         |  17% \n",
      "pywavelets-1.3.0     | 3.5 MB    | ##5        |  25% \n",
      "pywavelets-1.3.0     | 3.5 MB    | ##8        |  28% \n",
      "pywavelets-1.3.0     | 3.5 MB    | ###        |  30% \n",
      "pywavelets-1.3.0     | 3.5 MB    | ###6       |  36% \n",
      "pywavelets-1.3.0     | 3.5 MB    | ###8       |  38% \n",
      "pywavelets-1.3.0     | 3.5 MB    | ####1      |  41% \n",
      "pywavelets-1.3.0     | 3.5 MB    | ####3      |  43% \n",
      "pywavelets-1.3.0     | 3.5 MB    | ####6      |  46% \n",
      "pywavelets-1.3.0     | 3.5 MB    | #####2     |  52% \n",
      "pywavelets-1.3.0     | 3.5 MB    | #####4     |  54% \n",
      "pywavelets-1.3.0     | 3.5 MB    | #####6     |  56% \n",
      "pywavelets-1.3.0     | 3.5 MB    | ######     |  61% \n",
      "pywavelets-1.3.0     | 3.5 MB    | ######2    |  63% \n",
      "pywavelets-1.3.0     | 3.5 MB    | ######4    |  65% \n",
      "pywavelets-1.3.0     | 3.5 MB    | ######6    |  67% \n",
      "pywavelets-1.3.0     | 3.5 MB    | ######8    |  68% \n",
      "pywavelets-1.3.0     | 3.5 MB    | #######    |  71% \n",
      "pywavelets-1.3.0     | 3.5 MB    | #######2   |  73% \n",
      "pywavelets-1.3.0     | 3.5 MB    | #######6   |  77% \n",
      "pywavelets-1.3.0     | 3.5 MB    | #######8   |  79% \n",
      "pywavelets-1.3.0     | 3.5 MB    | ########2  |  82% \n",
      "pywavelets-1.3.0     | 3.5 MB    | ########4  |  84% \n",
      "pywavelets-1.3.0     | 3.5 MB    | ########6  |  86% \n",
      "pywavelets-1.3.0     | 3.5 MB    | ########9  |  89% \n",
      "pywavelets-1.3.0     | 3.5 MB    | #########  |  91% \n",
      "pywavelets-1.3.0     | 3.5 MB    | #########2 |  93% \n",
      "pywavelets-1.3.0     | 3.5 MB    | #########4 |  95% \n",
      "pywavelets-1.3.0     | 3.5 MB    | #########5 |  96% \n",
      "pywavelets-1.3.0     | 3.5 MB    | #########7 |  97% \n",
      "pywavelets-1.3.0     | 3.5 MB    | #########8 |  99% \n",
      "pywavelets-1.3.0     | 3.5 MB    | ########## | 100% \n",
      "pywavelets-1.3.0     | 3.5 MB    | ########## | 100% \n",
      "\n",
      "click-8.0.4          | 155 KB    |            |   0% \n",
      "click-8.0.4          | 155 KB    | #          |  10% \n",
      "click-8.0.4          | 155 KB    | ###1       |  31% \n",
      "click-8.0.4          | 155 KB    | #####1     |  52% \n",
      "click-8.0.4          | 155 KB    | #######2   |  72% \n",
      "click-8.0.4          | 155 KB    | ########## | 100% \n",
      "click-8.0.4          | 155 KB    | ########## | 100% \n",
      "\n",
      "argon2-cffi-21.3.0   | 15 KB     |            |   0% \n",
      "argon2-cffi-21.3.0   | 15 KB     | ########## | 100% \n",
      "argon2-cffi-21.3.0   | 15 KB     | ########## | 100% \n",
      "\n",
      "ipykernel-6.9.1      | 200 KB    |            |   0% \n",
      "ipykernel-6.9.1      | 200 KB    | 7          |   8% \n",
      "ipykernel-6.9.1      | 200 KB    | #5         |  16% \n",
      "ipykernel-6.9.1      | 200 KB    | ####7      |  48% \n",
      "ipykernel-6.9.1      | 200 KB    | ########## | 100% \n",
      "ipykernel-6.9.1      | 200 KB    | ########## | 100% \n",
      "\n",
      "jpeg-9e              | 292 KB    |            |   0% \n",
      "jpeg-9e              | 292 KB    | 5          |   5% \n",
      "jpeg-9e              | 292 KB    | #6         |  16% \n",
      "jpeg-9e              | 292 KB    | ##7        |  27% \n",
      "jpeg-9e              | 292 KB    | ####3      |  44% \n",
      "jpeg-9e              | 292 KB    | #######1   |  71% \n",
      "jpeg-9e              | 292 KB    | ########7  |  88% \n",
      "jpeg-9e              | 292 KB    | ########## | 100% \n",
      "\n",
      "terminado-0.13.1     | 31 KB     |            |   0% \n",
      "terminado-0.13.1     | 31 KB     | #####1     |  52% \n",
      "terminado-0.13.1     | 31 KB     | ########## | 100% \n",
      "\n",
      "anaconda-project-0.1 | 218 KB    |            |   0% \n",
      "anaconda-project-0.1 | 218 KB    | 7          |   7% \n",
      "anaconda-project-0.1 | 218 KB    | ##9        |  29% \n",
      "anaconda-project-0.1 | 218 KB    | #####8     |  59% \n",
      "anaconda-project-0.1 | 218 KB    | #######3   |  73% \n",
      "anaconda-project-0.1 | 218 KB    | ########## | 100% \n",
      "anaconda-project-0.1 | 218 KB    | ########## | 100% \n",
      "\n",
      "astropy-5.0.4        | 6.3 MB    |            |   0% \n",
      "astropy-5.0.4        | 6.3 MB    |            |   0% \n",
      "astropy-5.0.4        | 6.3 MB    |            |   1% \n",
      "astropy-5.0.4        | 6.3 MB    | 1          |   1% \n",
      "astropy-5.0.4        | 6.3 MB    | 2          |   2% \n",
      "astropy-5.0.4        | 6.3 MB    | 3          |   4% \n",
      "astropy-5.0.4        | 6.3 MB    | 4          |   5% \n",
      "astropy-5.0.4        | 6.3 MB    | 6          |   6% \n",
      "astropy-5.0.4        | 6.3 MB    | 9          |   9% \n",
      "astropy-5.0.4        | 6.3 MB    | #          |  11% \n",
      "astropy-5.0.4        | 6.3 MB    | #1         |  12% \n",
      "astropy-5.0.4        | 6.3 MB    | #2         |  13% \n",
      "astropy-5.0.4        | 6.3 MB    | #5         |  16% \n",
      "astropy-5.0.4        | 6.3 MB    | #6         |  17% \n",
      "astropy-5.0.4        | 6.3 MB    | #7         |  17% \n",
      "astropy-5.0.4        | 6.3 MB    | #9         |  19% \n",
      "astropy-5.0.4        | 6.3 MB    | ##         |  21% \n",
      "astropy-5.0.4        | 6.3 MB    | ##2        |  22% \n",
      "astropy-5.0.4        | 6.3 MB    | ##4        |  24% \n",
      "astropy-5.0.4        | 6.3 MB    | ##5        |  26% \n",
      "astropy-5.0.4        | 6.3 MB    | ##7        |  27% \n",
      "astropy-5.0.4        | 6.3 MB    | ##8        |  29% \n",
      "astropy-5.0.4        | 6.3 MB    | ###2       |  33% \n",
      "astropy-5.0.4        | 6.3 MB    | ###4       |  34% \n",
      "astropy-5.0.4        | 6.3 MB    | ###5       |  36% \n",
      "astropy-5.0.4        | 6.3 MB    | ###6       |  37% \n",
      "astropy-5.0.4        | 6.3 MB    | ###8       |  38% \n",
      "astropy-5.0.4        | 6.3 MB    | ###9       |  39% \n",
      "astropy-5.0.4        | 6.3 MB    | ####       |  41% \n",
      "astropy-5.0.4        | 6.3 MB    | ####1      |  42% \n",
      "astropy-5.0.4        | 6.3 MB    | ####2      |  42% \n",
      "astropy-5.0.4        | 6.3 MB    | ####3      |  43% \n",
      "astropy-5.0.4        | 6.3 MB    | ####5      |  46% \n",
      "astropy-5.0.4        | 6.3 MB    | ####6      |  47% \n",
      "astropy-5.0.4        | 6.3 MB    | ####7      |  48% \n",
      "astropy-5.0.4        | 6.3 MB    | ####8      |  49% \n",
      "astropy-5.0.4        | 6.3 MB    | ####9      |  49% \n",
      "astropy-5.0.4        | 6.3 MB    | #####      |  50% \n",
      "astropy-5.0.4        | 6.3 MB    | #####2     |  53% \n",
      "astropy-5.0.4        | 6.3 MB    | #####3     |  54% \n",
      "astropy-5.0.4        | 6.3 MB    | #####5     |  55% \n",
      "astropy-5.0.4        | 6.3 MB    | #####6     |  56% \n",
      "astropy-5.0.4        | 6.3 MB    | #####7     |  57% \n",
      "astropy-5.0.4        | 6.3 MB    | #####8     |  58% \n",
      "astropy-5.0.4        | 6.3 MB    | #####9     |  59% \n",
      "astropy-5.0.4        | 6.3 MB    | ######     |  60% \n",
      "astropy-5.0.4        | 6.3 MB    | ######2    |  63% \n",
      "astropy-5.0.4        | 6.3 MB    | ######3    |  64% \n",
      "astropy-5.0.4        | 6.3 MB    | ######4    |  64% \n",
      "astropy-5.0.4        | 6.3 MB    | ######5    |  65% \n",
      "astropy-5.0.4        | 6.3 MB    | ######6    |  66% \n",
      "astropy-5.0.4        | 6.3 MB    | ######6    |  67% \n",
      "astropy-5.0.4        | 6.3 MB    | ######7    |  68% \n",
      "astropy-5.0.4        | 6.3 MB    | ######9    |  69% \n",
      "astropy-5.0.4        | 6.3 MB    | #######1   |  71% \n",
      "astropy-5.0.4        | 6.3 MB    | #######2   |  72% \n",
      "astropy-5.0.4        | 6.3 MB    | #######3   |  73% \n",
      "astropy-5.0.4        | 6.3 MB    | #######4   |  74% \n",
      "astropy-5.0.4        | 6.3 MB    | #######5   |  76% \n",
      "astropy-5.0.4        | 6.3 MB    | #######7   |  77% \n",
      "astropy-5.0.4        | 6.3 MB    | #######8   |  79% \n",
      "astropy-5.0.4        | 6.3 MB    | #######9   |  80% \n",
      "astropy-5.0.4        | 6.3 MB    | ########   |  80% \n",
      "astropy-5.0.4        | 6.3 MB    | ########4  |  84% \n",
      "astropy-5.0.4        | 6.3 MB    | ########5  |  85% \n",
      "astropy-5.0.4        | 6.3 MB    | ########6  |  86% \n",
      "astropy-5.0.4        | 6.3 MB    | ########8  |  88% \n",
      "astropy-5.0.4        | 6.3 MB    | ########9  |  89% \n",
      "astropy-5.0.4        | 6.3 MB    | #########  |  90% \n",
      "astropy-5.0.4        | 6.3 MB    | #########1 |  91% \n",
      "astropy-5.0.4        | 6.3 MB    | #########2 |  92% \n",
      "astropy-5.0.4        | 6.3 MB    | #########2 |  93% \n",
      "astropy-5.0.4        | 6.3 MB    | #########3 |  93% \n",
      "astropy-5.0.4        | 6.3 MB    | #########6 |  97% \n",
      "astropy-5.0.4        | 6.3 MB    | ########## | 100% \n",
      "astropy-5.0.4        | 6.3 MB    | ########## | 100% \n",
      "\n",
      "watchdog-2.1.6       | 110 KB    |            |   0% \n",
      "watchdog-2.1.6       | 110 KB    | #4         |  15% \n",
      "watchdog-2.1.6       | 110 KB    | #####8     |  58% \n",
      "watchdog-2.1.6       | 110 KB    | ########7  |  87% \n",
      "watchdog-2.1.6       | 110 KB    | ########## | 100% \n",
      "\n",
      "matplotlib-3.5.1     | 29 KB     |            |   0% \n",
      "matplotlib-3.5.1     | 29 KB     | #####4     |  55% \n",
      "matplotlib-3.5.1     | 29 KB     | ########## | 100% \n",
      "\n",
      "dask-2022.2.1        | 5 KB      |            |   0% \n",
      "dask-2022.2.1        | 5 KB      | ########## | 100% \n",
      "dask-2022.2.1        | 5 KB      | ########## | 100% \n",
      "\n",
      "debugpy-1.5.1        | 2.6 MB    |            |   0% \n",
      "debugpy-1.5.1        | 2.6 MB    |            |   1% \n",
      "debugpy-1.5.1        | 2.6 MB    | 2          |   2% \n",
      "debugpy-1.5.1        | 2.6 MB    | 4          |   5% \n",
      "debugpy-1.5.1        | 2.6 MB    | 5          |   5% \n",
      "debugpy-1.5.1        | 2.6 MB    | 8          |   8% \n",
      "debugpy-1.5.1        | 2.6 MB    | #2         |  13% \n",
      "debugpy-1.5.1        | 2.6 MB    | #4         |  14% \n",
      "debugpy-1.5.1        | 2.6 MB    | #6         |  16% \n",
      "debugpy-1.5.1        | 2.6 MB    | #8         |  19% \n",
      "debugpy-1.5.1        | 2.6 MB    | ##         |  21% \n",
      "debugpy-1.5.1        | 2.6 MB    | ##2        |  23% \n",
      "debugpy-1.5.1        | 2.6 MB    | ##4        |  25% \n",
      "debugpy-1.5.1        | 2.6 MB    | ##9        |  29% \n",
      "debugpy-1.5.1        | 2.6 MB    | ###3       |  34% \n",
      "debugpy-1.5.1        | 2.6 MB    | ###5       |  36% \n",
      "debugpy-1.5.1        | 2.6 MB    | ###8       |  39% \n",
      "debugpy-1.5.1        | 2.6 MB    | ####1      |  41% \n",
      "debugpy-1.5.1        | 2.6 MB    | ####3      |  44% \n",
      "debugpy-1.5.1        | 2.6 MB    | ####5      |  45% \n",
      "debugpy-1.5.1        | 2.6 MB    | ####7      |  47% \n",
      "debugpy-1.5.1        | 2.6 MB    | #####2     |  52% \n",
      "debugpy-1.5.1        | 2.6 MB    | #####3     |  54% \n",
      "debugpy-1.5.1        | 2.6 MB    | #####5     |  56% \n",
      "debugpy-1.5.1        | 2.6 MB    | ######2    |  62% \n",
      "debugpy-1.5.1        | 2.6 MB    | ######6    |  66% \n",
      "debugpy-1.5.1        | 2.6 MB    | ######8    |  69% \n",
      "debugpy-1.5.1        | 2.6 MB    | #######2   |  72% \n",
      "debugpy-1.5.1        | 2.6 MB    | #######4   |  75% \n",
      "debugpy-1.5.1        | 2.6 MB    | #######7   |  77% \n",
      "debugpy-1.5.1        | 2.6 MB    | #######8   |  79% \n",
      "debugpy-1.5.1        | 2.6 MB    | ########   |  81% \n",
      "debugpy-1.5.1        | 2.6 MB    | ########3  |  84% \n",
      "debugpy-1.5.1        | 2.6 MB    | ########6  |  86% \n",
      "debugpy-1.5.1        | 2.6 MB    | ########7  |  88% \n",
      "debugpy-1.5.1        | 2.6 MB    | ########9  |  90% \n",
      "debugpy-1.5.1        | 2.6 MB    | #########1 |  92% \n",
      "debugpy-1.5.1        | 2.6 MB    | #########3 |  93% \n",
      "debugpy-1.5.1        | 2.6 MB    | #########5 |  95% \n",
      "debugpy-1.5.1        | 2.6 MB    | #########6 |  97% \n",
      "debugpy-1.5.1        | 2.6 MB    | ########## | 100% \n",
      "debugpy-1.5.1        | 2.6 MB    | ########## | 100% \n",
      "\n",
      "prometheus_client-0. | 47 KB     |            |   0% \n",
      "prometheus_client-0. | 47 KB     | ###3       |  34% \n",
      "prometheus_client-0. | 47 KB     | ########## | 100% \n",
      "prometheus_client-0. | 47 KB     | ########## | 100% \n",
      "\n",
      "backports-1.1        | 4 KB      |            |   0% \n",
      "backports-1.1        | 4 KB      | ########## | 100% \n",
      "backports-1.1        | 4 KB      | ########## | 100% \n",
      "\n",
      "liblief-0.11.5       | 2.1 MB    |            |   0% \n",
      "liblief-0.11.5       | 2.1 MB    |            |   1% \n",
      "liblief-0.11.5       | 2.1 MB    | 2          |   2% \n",
      "liblief-0.11.5       | 2.1 MB    | 8          |   8% \n",
      "liblief-0.11.5       | 2.1 MB    | #1         |  11% \n",
      "liblief-0.11.5       | 2.1 MB    | #3         |  13% \n",
      "liblief-0.11.5       | 2.1 MB    | #5         |  16% \n",
      "liblief-0.11.5       | 2.1 MB    | #7         |  18% \n",
      "liblief-0.11.5       | 2.1 MB    | #9         |  20% \n",
      "liblief-0.11.5       | 2.1 MB    | ##2        |  22% \n",
      "liblief-0.11.5       | 2.1 MB    | ##4        |  24% \n",
      "liblief-0.11.5       | 2.1 MB    | ##7        |  27% \n",
      "liblief-0.11.5       | 2.1 MB    | ##9        |  30% \n",
      "liblief-0.11.5       | 2.1 MB    | ###2       |  33% \n",
      "liblief-0.11.5       | 2.1 MB    | ###4       |  35% \n",
      "liblief-0.11.5       | 2.1 MB    | ###6       |  37% \n",
      "liblief-0.11.5       | 2.1 MB    | ###9       |  39% \n",
      "liblief-0.11.5       | 2.1 MB    | ####       |  41% \n",
      "liblief-0.11.5       | 2.1 MB    | ####5      |  45% \n",
      "liblief-0.11.5       | 2.1 MB    | ####7      |  47% \n",
      "liblief-0.11.5       | 2.1 MB    | ####9      |  50% \n",
      "liblief-0.11.5       | 2.1 MB    | #####1     |  52% \n",
      "liblief-0.11.5       | 2.1 MB    | #####4     |  54% \n",
      "liblief-0.11.5       | 2.1 MB    | #####6     |  56% \n",
      "liblief-0.11.5       | 2.1 MB    | #####8     |  58% \n",
      "liblief-0.11.5       | 2.1 MB    | ######1    |  61% \n",
      "liblief-0.11.5       | 2.1 MB    | ######4    |  64% \n",
      "liblief-0.11.5       | 2.1 MB    | ######6    |  67% \n",
      "liblief-0.11.5       | 2.1 MB    | ######8    |  69% \n",
      "liblief-0.11.5       | 2.1 MB    | #######1   |  71% \n",
      "liblief-0.11.5       | 2.1 MB    | #######3   |  73% \n",
      "liblief-0.11.5       | 2.1 MB    | #######5   |  75% \n",
      "liblief-0.11.5       | 2.1 MB    | #######7   |  78% \n",
      "liblief-0.11.5       | 2.1 MB    | ########6  |  87% \n",
      "liblief-0.11.5       | 2.1 MB    | #########  |  90% \n",
      "liblief-0.11.5       | 2.1 MB    | #########3 |  93% \n",
      "liblief-0.11.5       | 2.1 MB    | #########6 |  96% \n",
      "liblief-0.11.5       | 2.1 MB    | ########## | 100% \n",
      "liblief-0.11.5       | 2.1 MB    | ########## | 100% \n",
      "\n",
      "pillow-9.0.1         | 921 KB    |            |   0% \n",
      "pillow-9.0.1         | 921 KB    | 1          |   2% \n",
      "pillow-9.0.1         | 921 KB    | 6          |   7% \n",
      "pillow-9.0.1         | 921 KB    | #2         |  12% \n",
      "pillow-9.0.1         | 921 KB    | #7         |  17% \n",
      "pillow-9.0.1         | 921 KB    | ##2        |  23% \n",
      "pillow-9.0.1         | 921 KB    | ##9        |  30% \n",
      "pillow-9.0.1         | 921 KB    | ###4       |  35% \n",
      "pillow-9.0.1         | 921 KB    | ###9       |  40% \n",
      "pillow-9.0.1         | 921 KB    | ####6      |  47% \n",
      "pillow-9.0.1         | 921 KB    | ######4    |  64% \n",
      "pillow-9.0.1         | 921 KB    | #######1   |  71% \n",
      "pillow-9.0.1         | 921 KB    | ########8  |  89% \n",
      "pillow-9.0.1         | 921 KB    | #########9 |  99% \n",
      "pillow-9.0.1         | 921 KB    | ########## | 100% \n",
      "\n",
      "stack_data-0.2.0     | 22 KB     |            |   0% \n",
      "stack_data-0.2.0     | 22 KB     | #######2   |  72% \n",
      "stack_data-0.2.0     | 22 KB     | ########## | 100% \n",
      "\n",
      "pandocfilters-1.5.0  | 11 KB     |            |   0% \n",
      "pandocfilters-1.5.0  | 11 KB     | ########## | 100% \n",
      "pandocfilters-1.5.0  | 11 KB     | ########## | 100% \n",
      "\n",
      "traitlets-5.1.1      | 84 KB     |            |   0% \n",
      "traitlets-5.1.1      | 84 KB     | #8         |  19% \n",
      "traitlets-5.1.1      | 84 KB     | #######5   |  76% \n",
      "traitlets-5.1.1      | 84 KB     | ########## | 100% \n",
      "\n",
      "toolz-0.11.2         | 49 KB     |            |   0% \n",
      "toolz-0.11.2         | 49 KB     | ###2       |  33% \n",
      "toolz-0.11.2         | 49 KB     | ########## | 100% \n",
      "toolz-0.11.2         | 49 KB     | ########## | 100% \n",
      "\n",
      "typing_extensions-4. | 28 KB     |            |   0% \n",
      "typing_extensions-4. | 28 KB     | #####7     |  57% \n",
      "typing_extensions-4. | 28 KB     | ########## | 100% \n",
      "\n",
      "tbb-2021.5.0         | 149 KB    |            |   0% \n",
      "tbb-2021.5.0         | 149 KB    | #          |  11% \n",
      "tbb-2021.5.0         | 149 KB    | ##1        |  22% \n",
      "tbb-2021.5.0         | 149 KB    | ######4    |  65% \n",
      "tbb-2021.5.0         | 149 KB    | ########## | 100% \n",
      "\n",
      "partd-1.2.0          | 18 KB     |            |   0% \n",
      "partd-1.2.0          | 18 KB     | ########6  |  87% \n",
      "partd-1.2.0          | 18 KB     | ########## | 100% \n",
      "\n",
      "jupyterlab_server-2. | 48 KB     |            |   0% \n",
      "jupyterlab_server-2. | 48 KB     | ###3       |  34% \n",
      "jupyterlab_server-2. | 48 KB     | ########## | 100% \n",
      "jupyterlab_server-2. | 48 KB     | ########## | 100% \n",
      "\n",
      "zipp-3.7.0           | 12 KB     |            |   0% \n",
      "zipp-3.7.0           | 12 KB     | ########## | 100% \n",
      "zipp-3.7.0           | 12 KB     | ########## | 100% \n",
      "\n",
      "patsy-0.5.2          | 276 KB    |            |   0% \n",
      "patsy-0.5.2          | 276 KB    | 5          |   6% \n",
      "patsy-0.5.2          | 276 KB    | #7         |  17% \n",
      "patsy-0.5.2          | 276 KB    | #####2     |  52% \n",
      "patsy-0.5.2          | 276 KB    | #######5   |  75% \n",
      "patsy-0.5.2          | 276 KB    | ########## | 100% \n",
      "\n",
      "attrs-21.4.0         | 51 KB     |            |   0% \n",
      "attrs-21.4.0         | 51 KB     | ###1       |  32% \n",
      "attrs-21.4.0         | 51 KB     | ########## | 100% \n",
      "attrs-21.4.0         | 51 KB     | ########## | 100% \n",
      "\n",
      "tqdm-4.64.0          | 155 KB    |            |   0% \n",
      "tqdm-4.64.0          | 155 KB    | #          |  10% \n",
      "tqdm-4.64.0          | 155 KB    | ####1      |  41% \n",
      "tqdm-4.64.0          | 155 KB    | #######2   |  72% \n",
      "tqdm-4.64.0          | 155 KB    | ########## | 100% \n",
      "tqdm-4.64.0          | 155 KB    | ########## | 100% \n",
      "\n",
      "nbclient-0.5.13      | 108 KB    |            |   0% \n",
      "nbclient-0.5.13      | 108 KB    | #4         |  15% \n",
      "nbclient-0.5.13      | 108 KB    | ####4      |  45% \n",
      "nbclient-0.5.13      | 108 KB    | #######4   |  74% \n",
      "nbclient-0.5.13      | 108 KB    | ########## | 100% \n",
      "nbclient-0.5.13      | 108 KB    | ########## | 100% \n",
      "\n",
      "pywinpty-2.0.2       | 200 KB    |            |   0% \n",
      "pywinpty-2.0.2       | 200 KB    | 8          |   8% \n",
      "pywinpty-2.0.2       | 200 KB    | ####       |  40% \n",
      "pywinpty-2.0.2       | 200 KB    | #####6     |  56% \n",
      "pywinpty-2.0.2       | 200 KB    | #######2   |  72% \n",
      "pywinpty-2.0.2       | 200 KB    | #########6 |  96% \n",
      "pywinpty-2.0.2       | 200 KB    | ########## | 100% \n",
      "\n",
      "jsonschema-4.4.0     | 139 KB    |            |   0% \n",
      "jsonschema-4.4.0     | 139 KB    | #1         |  12% \n",
      "jsonschema-4.4.0     | 139 KB    | ####6      |  46% \n",
      "jsonschema-4.4.0     | 139 KB    | ######9    |  69% \n",
      "jsonschema-4.4.0     | 139 KB    | #########2 |  92% \n",
      "jsonschema-4.4.0     | 139 KB    | ########## | 100% \n",
      "\n",
      "pkginfo-1.8.2        | 27 KB     |            |   0% \n",
      "pkginfo-1.8.2        | 27 KB     | #####8     |  59% \n",
      "pkginfo-1.8.2        | 27 KB     | ########## | 100% \n",
      "\n",
      "pyodbc-4.0.32        | 73 KB     |            |   0% \n",
      "pyodbc-4.0.32        | 73 KB     | ##2        |  22% \n",
      "pyodbc-4.0.32        | 73 KB     | ######6    |  66% \n",
      "pyodbc-4.0.32        | 73 KB     | ########## | 100% \n",
      "\n",
      "rope-0.22.0          | 129 KB    |            |   0% \n",
      "rope-0.22.0          | 129 KB    | #2         |  12% \n",
      "rope-0.22.0          | 129 KB    | ###7       |  37% \n",
      "rope-0.22.0          | 129 KB    | ########## | 100% \n",
      "rope-0.22.0          | 129 KB    | ########## | 100% \n",
      "\n",
      "anyio-3.5.0          | 167 KB    |            |   0% \n",
      "anyio-3.5.0          | 167 KB    | 9          |  10% \n",
      "anyio-3.5.0          | 167 KB    | ###8       |  38% \n",
      "anyio-3.5.0          | 167 KB    | ######6    |  67% \n",
      "anyio-3.5.0          | 167 KB    | ########## | 100% \n",
      "anyio-3.5.0          | 167 KB    | ########## | 100% \n",
      "\n",
      "urllib3-1.26.9       | 190 KB    |            |   0% \n",
      "urllib3-1.26.9       | 190 KB    | 8          |   8% \n",
      "urllib3-1.26.9       | 190 KB    | ##5        |  25% \n",
      "urllib3-1.26.9       | 190 KB    | ####2      |  42% \n",
      "urllib3-1.26.9       | 190 KB    | #####8     |  59% \n",
      "urllib3-1.26.9       | 190 KB    | ########## | 100% \n",
      "urllib3-1.26.9       | 190 KB    | ########## | 100% \n",
      "\n",
      "nose-1.3.7           | 142 KB    |            |   0% \n",
      "nose-1.3.7           | 142 KB    | #1         |  11% \n",
      "nose-1.3.7           | 142 KB    | ###3       |  34% \n",
      "nose-1.3.7           | 142 KB    | #######9   |  79% \n",
      "nose-1.3.7           | 142 KB    | ########## | 100% \n",
      "\n",
      "daal4py-2021.5.0     | 7.9 MB    |            |   0% \n",
      "daal4py-2021.5.0     | 7.9 MB    |            |   0% \n",
      "daal4py-2021.5.0     | 7.9 MB    |            |   1% \n",
      "daal4py-2021.5.0     | 7.9 MB    | 1          |   1% \n",
      "daal4py-2021.5.0     | 7.9 MB    | 2          |   2% \n",
      "daal4py-2021.5.0     | 7.9 MB    | 2          |   3% \n",
      "daal4py-2021.5.0     | 7.9 MB    | 3          |   3% \n",
      "daal4py-2021.5.0     | 7.9 MB    | 4          |   5% \n",
      "daal4py-2021.5.0     | 7.9 MB    | 5          |   6% \n",
      "daal4py-2021.5.0     | 7.9 MB    | 6          |   6% \n",
      "daal4py-2021.5.0     | 7.9 MB    | 6          |   7% \n",
      "daal4py-2021.5.0     | 7.9 MB    | 7          |   8% \n",
      "daal4py-2021.5.0     | 7.9 MB    | 8          |   9% \n",
      "daal4py-2021.5.0     | 7.9 MB    | 9          |  10% \n",
      "daal4py-2021.5.0     | 7.9 MB    | #          |  11% \n",
      "daal4py-2021.5.0     | 7.9 MB    | #1         |  11% \n",
      "daal4py-2021.5.0     | 7.9 MB    | #2         |  12% \n",
      "daal4py-2021.5.0     | 7.9 MB    | #3         |  13% \n",
      "daal4py-2021.5.0     | 7.9 MB    | #4         |  14% \n",
      "daal4py-2021.5.0     | 7.9 MB    | #4         |  15% \n",
      "daal4py-2021.5.0     | 7.9 MB    | #5         |  15% \n",
      "daal4py-2021.5.0     | 7.9 MB    | #5         |  16% \n",
      "daal4py-2021.5.0     | 7.9 MB    | #6         |  17% \n",
      "daal4py-2021.5.0     | 7.9 MB    | #7         |  17% \n",
      "daal4py-2021.5.0     | 7.9 MB    | #7         |  18% \n",
      "daal4py-2021.5.0     | 7.9 MB    | #8         |  18% \n",
      "daal4py-2021.5.0     | 7.9 MB    | #9         |  19% \n",
      "daal4py-2021.5.0     | 7.9 MB    | #9         |  20% \n",
      "daal4py-2021.5.0     | 7.9 MB    | ##         |  20% \n",
      "daal4py-2021.5.0     | 7.9 MB    | ##         |  21% \n",
      "daal4py-2021.5.0     | 7.9 MB    | ##1        |  21% \n",
      "daal4py-2021.5.0     | 7.9 MB    | ##2        |  23% \n",
      "daal4py-2021.5.0     | 7.9 MB    | ##3        |  23% \n",
      "daal4py-2021.5.0     | 7.9 MB    | ##4        |  24% \n",
      "daal4py-2021.5.0     | 7.9 MB    | ##4        |  25% \n",
      "daal4py-2021.5.0     | 7.9 MB    | ##5        |  26% \n",
      "daal4py-2021.5.0     | 7.9 MB    | ##6        |  26% \n",
      "daal4py-2021.5.0     | 7.9 MB    | ##6        |  27% \n",
      "daal4py-2021.5.0     | 7.9 MB    | ##7        |  28% \n",
      "daal4py-2021.5.0     | 7.9 MB    | ##8        |  28% \n",
      "daal4py-2021.5.0     | 7.9 MB    | ##8        |  29% \n",
      "daal4py-2021.5.0     | 7.9 MB    | ###        |  30% \n",
      "daal4py-2021.5.0     | 7.9 MB    | ###1       |  31% \n",
      "daal4py-2021.5.0     | 7.9 MB    | ###1       |  32% \n",
      "daal4py-2021.5.0     | 7.9 MB    | ###2       |  32% \n",
      "daal4py-2021.5.0     | 7.9 MB    | ###2       |  33% \n",
      "daal4py-2021.5.0     | 7.9 MB    | ###3       |  34% \n",
      "daal4py-2021.5.0     | 7.9 MB    | ###4       |  35% \n",
      "daal4py-2021.5.0     | 7.9 MB    | ###5       |  36% \n",
      "daal4py-2021.5.0     | 7.9 MB    | ###6       |  36% \n",
      "daal4py-2021.5.0     | 7.9 MB    | ###7       |  37% \n",
      "daal4py-2021.5.0     | 7.9 MB    | ###7       |  38% \n",
      "daal4py-2021.5.0     | 7.9 MB    | ###8       |  38% \n",
      "daal4py-2021.5.0     | 7.9 MB    | ###8       |  39% \n",
      "daal4py-2021.5.0     | 7.9 MB    | ###9       |  40% \n",
      "daal4py-2021.5.0     | 7.9 MB    | ####       |  40% \n",
      "daal4py-2021.5.0     | 7.9 MB    | ####       |  41% \n",
      "daal4py-2021.5.0     | 7.9 MB    | ####1      |  42% \n",
      "daal4py-2021.5.0     | 7.9 MB    | ####2      |  42% \n",
      "daal4py-2021.5.0     | 7.9 MB    | ####3      |  44% \n",
      "daal4py-2021.5.0     | 7.9 MB    | ####4      |  44% \n",
      "daal4py-2021.5.0     | 7.9 MB    | ####5      |  45% \n",
      "daal4py-2021.5.0     | 7.9 MB    | ####6      |  46% \n",
      "daal4py-2021.5.0     | 7.9 MB    | ####7      |  48% \n",
      "daal4py-2021.5.0     | 7.9 MB    | ####8      |  48% \n",
      "daal4py-2021.5.0     | 7.9 MB    | ####9      |  49% \n",
      "daal4py-2021.5.0     | 7.9 MB    | ####9      |  50% \n",
      "daal4py-2021.5.0     | 7.9 MB    | #####      |  51% \n",
      "daal4py-2021.5.0     | 7.9 MB    | #####1     |  51% \n",
      "daal4py-2021.5.0     | 7.9 MB    | #####1     |  52% \n",
      "daal4py-2021.5.0     | 7.9 MB    | #####2     |  53% \n",
      "daal4py-2021.5.0     | 7.9 MB    | #####3     |  54% \n",
      "daal4py-2021.5.0     | 7.9 MB    | #####4     |  54% \n",
      "daal4py-2021.5.0     | 7.9 MB    | #####4     |  55% \n",
      "daal4py-2021.5.0     | 7.9 MB    | #####5     |  55% \n",
      "daal4py-2021.5.0     | 7.9 MB    | #####5     |  56% \n",
      "daal4py-2021.5.0     | 7.9 MB    | #####7     |  57% \n",
      "daal4py-2021.5.0     | 7.9 MB    | #####8     |  58% \n",
      "daal4py-2021.5.0     | 7.9 MB    | #####9     |  59% \n",
      "daal4py-2021.5.0     | 7.9 MB    | ######1    |  62% \n",
      "daal4py-2021.5.0     | 7.9 MB    | ######3    |  63% \n",
      "daal4py-2021.5.0     | 7.9 MB    | ######4    |  64% \n",
      "daal4py-2021.5.0     | 7.9 MB    | ######5    |  65% \n",
      "daal4py-2021.5.0     | 7.9 MB    | ######6    |  66% \n",
      "daal4py-2021.5.0     | 7.9 MB    | ######7    |  67% \n",
      "daal4py-2021.5.0     | 7.9 MB    | ######8    |  68% \n",
      "daal4py-2021.5.0     | 7.9 MB    | ######9    |  69% \n",
      "daal4py-2021.5.0     | 7.9 MB    | ######9    |  70% \n",
      "daal4py-2021.5.0     | 7.9 MB    | #######    |  71% \n",
      "daal4py-2021.5.0     | 7.9 MB    | #######1   |  71% \n",
      "daal4py-2021.5.0     | 7.9 MB    | #######2   |  73% \n",
      "daal4py-2021.5.0     | 7.9 MB    | #######4   |  75% \n",
      "daal4py-2021.5.0     | 7.9 MB    | #######5   |  76% \n",
      "daal4py-2021.5.0     | 7.9 MB    | #######6   |  76% \n",
      "daal4py-2021.5.0     | 7.9 MB    | #######6   |  77% \n",
      "daal4py-2021.5.0     | 7.9 MB    | #######7   |  77% \n",
      "daal4py-2021.5.0     | 7.9 MB    | #######8   |  78% \n",
      "daal4py-2021.5.0     | 7.9 MB    | #######9   |  79% \n",
      "daal4py-2021.5.0     | 7.9 MB    | ########   |  80% \n",
      "daal4py-2021.5.0     | 7.9 MB    | ########   |  81% \n",
      "daal4py-2021.5.0     | 7.9 MB    | ########2  |  82% \n",
      "daal4py-2021.5.0     | 7.9 MB    | ########3  |  83% \n",
      "daal4py-2021.5.0     | 7.9 MB    | ########4  |  84% \n",
      "daal4py-2021.5.0     | 7.9 MB    | ########4  |  85% \n",
      "daal4py-2021.5.0     | 7.9 MB    | ########5  |  85% \n",
      "daal4py-2021.5.0     | 7.9 MB    | ########6  |  87% \n",
      "daal4py-2021.5.0     | 7.9 MB    | ########7  |  88% \n",
      "daal4py-2021.5.0     | 7.9 MB    | ########8  |  89% \n",
      "daal4py-2021.5.0     | 7.9 MB    | #########  |  91% \n",
      "daal4py-2021.5.0     | 7.9 MB    | #########1 |  91% \n",
      "daal4py-2021.5.0     | 7.9 MB    | #########1 |  92% \n",
      "daal4py-2021.5.0     | 7.9 MB    | #########3 |  93% \n",
      "daal4py-2021.5.0     | 7.9 MB    | #########4 |  94% \n",
      "daal4py-2021.5.0     | 7.9 MB    | #########4 |  95% \n",
      "daal4py-2021.5.0     | 7.9 MB    | #########6 |  96% \n",
      "daal4py-2021.5.0     | 7.9 MB    | #########7 |  97% \n",
      "daal4py-2021.5.0     | 7.9 MB    | #########9 |  99% \n",
      "daal4py-2021.5.0     | 7.9 MB    | ########## | 100% \n",
      "daal4py-2021.5.0     | 7.9 MB    | ########## | 100% \n",
      "\n",
      "curl-7.82.0          | 140 KB    |            |   0% \n",
      "curl-7.82.0          | 140 KB    | #1         |  11% \n",
      "curl-7.82.0          | 140 KB    | ###4       |  34% \n",
      "curl-7.82.0          | 140 KB    | ######8    |  69% \n",
      "curl-7.82.0          | 140 KB    | ########## | 100% \n",
      "curl-7.82.0          | 140 KB    | ########## | 100% \n",
      "\n",
      "anaconda-navigator-2 | 5.1 MB    |            |   0% \n",
      "anaconda-navigator-2 | 5.1 MB    |            |   0% \n",
      "anaconda-navigator-2 | 5.1 MB    |            |   1% \n",
      "anaconda-navigator-2 | 5.1 MB    | 1          |   2% \n",
      "anaconda-navigator-2 | 5.1 MB    | 2          |   2% \n",
      "anaconda-navigator-2 | 5.1 MB    | 3          |   3% \n",
      "anaconda-navigator-2 | 5.1 MB    | 4          |   4% \n",
      "anaconda-navigator-2 | 5.1 MB    | 5          |   5% \n",
      "anaconda-navigator-2 | 5.1 MB    | 6          |   6% \n",
      "anaconda-navigator-2 | 5.1 MB    | 6          |   7% \n",
      "anaconda-navigator-2 | 5.1 MB    | 7          |   7% \n",
      "anaconda-navigator-2 | 5.1 MB    | 8          |   8% \n",
      "anaconda-navigator-2 | 5.1 MB    | 9          |   9% \n",
      "anaconda-navigator-2 | 5.1 MB    | #          |  10% \n",
      "anaconda-navigator-2 | 5.1 MB    | #          |  11% \n",
      "anaconda-navigator-2 | 5.1 MB    | #1         |  12% \n",
      "anaconda-navigator-2 | 5.1 MB    | #2         |  13% \n",
      "anaconda-navigator-2 | 5.1 MB    | #3         |  14% \n",
      "anaconda-navigator-2 | 5.1 MB    | #4         |  15% \n",
      "anaconda-navigator-2 | 5.1 MB    | #5         |  16% \n",
      "anaconda-navigator-2 | 5.1 MB    | #6         |  16% \n",
      "anaconda-navigator-2 | 5.1 MB    | #7         |  18% \n",
      "anaconda-navigator-2 | 5.1 MB    | #8         |  19% \n",
      "anaconda-navigator-2 | 5.1 MB    | #9         |  20% \n",
      "anaconda-navigator-2 | 5.1 MB    | ##         |  20% \n",
      "anaconda-navigator-2 | 5.1 MB    | ##1        |  22% \n",
      "anaconda-navigator-2 | 5.1 MB    | ##2        |  23% \n",
      "anaconda-navigator-2 | 5.1 MB    | ##3        |  23% \n",
      "anaconda-navigator-2 | 5.1 MB    | ##5        |  26% \n",
      "anaconda-navigator-2 | 5.1 MB    | ##6        |  27% \n",
      "anaconda-navigator-2 | 5.1 MB    | ##7        |  27% \n",
      "anaconda-navigator-2 | 5.1 MB    | ##8        |  28% \n",
      "anaconda-navigator-2 | 5.1 MB    | ##9        |  29% \n",
      "anaconda-navigator-2 | 5.1 MB    | ###        |  30% \n",
      "anaconda-navigator-2 | 5.1 MB    | ###1       |  31% \n",
      "anaconda-navigator-2 | 5.1 MB    | ###2       |  32% \n",
      "anaconda-navigator-2 | 5.1 MB    | ###3       |  34% \n",
      "anaconda-navigator-2 | 5.1 MB    | ###4       |  35% \n",
      "anaconda-navigator-2 | 5.1 MB    | ###5       |  36% \n",
      "anaconda-navigator-2 | 5.1 MB    | ###6       |  37% \n",
      "anaconda-navigator-2 | 5.1 MB    | ###7       |  38% \n",
      "anaconda-navigator-2 | 5.1 MB    | ###9       |  39% \n",
      "anaconda-navigator-2 | 5.1 MB    | ####       |  41% \n",
      "anaconda-navigator-2 | 5.1 MB    | ####1      |  42% \n",
      "anaconda-navigator-2 | 5.1 MB    | ####3      |  44% \n",
      "anaconda-navigator-2 | 5.1 MB    | ####4      |  45% \n",
      "anaconda-navigator-2 | 5.1 MB    | ####5      |  45% \n",
      "anaconda-navigator-2 | 5.1 MB    | ####6      |  46% \n",
      "anaconda-navigator-2 | 5.1 MB    | ####7      |  47% \n",
      "anaconda-navigator-2 | 5.1 MB    | ####8      |  49% \n",
      "anaconda-navigator-2 | 5.1 MB    | #####      |  51% \n",
      "anaconda-navigator-2 | 5.1 MB    | #####1     |  52% \n",
      "anaconda-navigator-2 | 5.1 MB    | #####3     |  54% \n",
      "anaconda-navigator-2 | 5.1 MB    | #####4     |  55% \n",
      "anaconda-navigator-2 | 5.1 MB    | #####6     |  56% \n",
      "anaconda-navigator-2 | 5.1 MB    | #####7     |  57% \n",
      "anaconda-navigator-2 | 5.1 MB    | #####8     |  59% \n",
      "anaconda-navigator-2 | 5.1 MB    | #####9     |  60% \n",
      "anaconda-navigator-2 | 5.1 MB    | ######     |  61% \n",
      "anaconda-navigator-2 | 5.1 MB    | ######2    |  63% \n",
      "anaconda-navigator-2 | 5.1 MB    | ######4    |  64% \n",
      "anaconda-navigator-2 | 5.1 MB    | ######4    |  65% \n",
      "anaconda-navigator-2 | 5.1 MB    | ######5    |  66% \n",
      "anaconda-navigator-2 | 5.1 MB    | ######7    |  67% \n",
      "anaconda-navigator-2 | 5.1 MB    | ######8    |  69% \n",
      "anaconda-navigator-2 | 5.1 MB    | #######2   |  72% \n",
      "anaconda-navigator-2 | 5.1 MB    | #######3   |  74% \n",
      "anaconda-navigator-2 | 5.1 MB    | #######5   |  75% \n",
      "anaconda-navigator-2 | 5.1 MB    | #######6   |  76% \n",
      "anaconda-navigator-2 | 5.1 MB    | #######8   |  79% \n",
      "anaconda-navigator-2 | 5.1 MB    | #######9   |  80% \n",
      "anaconda-navigator-2 | 5.1 MB    | ########1  |  81% \n",
      "anaconda-navigator-2 | 5.1 MB    | ########4  |  84% \n",
      "anaconda-navigator-2 | 5.1 MB    | ########5  |  86% \n",
      "anaconda-navigator-2 | 5.1 MB    | ########7  |  87% \n",
      "anaconda-navigator-2 | 5.1 MB    | ########8  |  88% \n",
      "anaconda-navigator-2 | 5.1 MB    | #########1 |  91% \n",
      "anaconda-navigator-2 | 5.1 MB    | #########2 |  92% \n",
      "anaconda-navigator-2 | 5.1 MB    | #########3 |  94% \n",
      "anaconda-navigator-2 | 5.1 MB    | #########4 |  95% \n",
      "anaconda-navigator-2 | 5.1 MB    | #########5 |  95% \n",
      "anaconda-navigator-2 | 5.1 MB    | #########6 |  96% \n",
      "anaconda-navigator-2 | 5.1 MB    | #########7 |  97% \n",
      "anaconda-navigator-2 | 5.1 MB    | #########8 |  98% \n",
      "anaconda-navigator-2 | 5.1 MB    | ########## | 100% \n",
      "anaconda-navigator-2 | 5.1 MB    | ########## | 100% \n",
      "\n",
      "werkzeug-2.0.3       | 221 KB    |            |   0% \n",
      "werkzeug-2.0.3       | 221 KB    | 7          |   7% \n",
      "werkzeug-2.0.3       | 221 KB    | ##1        |  22% \n",
      "werkzeug-2.0.3       | 221 KB    | ###6       |  36% \n",
      "werkzeug-2.0.3       | 221 KB    | ########## | 100% \n",
      "werkzeug-2.0.3       | 221 KB    | ########## | 100% \n",
      "\n",
      "jupyter_core-4.10.0  | 96 KB     |            |   0% \n",
      "jupyter_core-4.10.0  | 96 KB     | #6         |  17% \n",
      "jupyter_core-4.10.0  | 96 KB     | ######6    |  67% \n",
      "jupyter_core-4.10.0  | 96 KB     | ########## | 100% \n",
      "jupyter_core-4.10.0  | 96 KB     | ########## | 100% \n",
      "\n",
      "asttokens-2.0.5      | 20 KB     |            |   0% \n",
      "asttokens-2.0.5      | 20 KB     | #######8   |  78% \n",
      "asttokens-2.0.5      | 20 KB     | ########## | 100% \n",
      "\n",
      "nbformat-5.3.0       | 146 KB    |            |   0% \n",
      "nbformat-5.3.0       | 146 KB    | #          |  11% \n",
      "nbformat-5.3.0       | 146 KB    | ##1        |  22% \n",
      "nbformat-5.3.0       | 146 KB    | ########7  |  88% \n",
      "nbformat-5.3.0       | 146 KB    | ########## | 100% \n",
      "\n",
      "_anaconda_depends-20 | 7 KB      |            |   0% \n",
      "_anaconda_depends-20 | 7 KB      | ########## | 100% \n",
      "_anaconda_depends-20 | 7 KB      | ########## | 100% \n",
      "\n",
      "fsspec-2022.2.0      | 98 KB     |            |   0% \n",
      "fsspec-2022.2.0      | 98 KB     | #6         |  16% \n",
      "fsspec-2022.2.0      | 98 KB     | ######5    |  65% \n",
      "fsspec-2022.2.0      | 98 KB     | ########## | 100% \n",
      "\n",
      "keyring-23.4.0       | 72 KB     |            |   0% \n",
      "keyring-23.4.0       | 72 KB     | ##2        |  22% \n",
      "keyring-23.4.0       | 72 KB     | ########## | 100% \n",
      "keyring-23.4.0       | 72 KB     | ########## | 100% \n",
      "\n",
      "rise-5.7.1           | 1.7 MB    |            |   0% \n",
      "rise-5.7.1           | 1.7 MB    |            |   1% \n",
      "rise-5.7.1           | 1.7 MB    | 3          |   4% \n",
      "rise-5.7.1           | 1.7 MB    | 6          |   7% \n",
      "rise-5.7.1           | 1.7 MB    | 9          |   9% \n",
      "rise-5.7.1           | 1.7 MB    | #3         |  13% \n",
      "rise-5.7.1           | 1.7 MB    | #5         |  16% \n",
      "rise-5.7.1           | 1.7 MB    | ##5        |  25% \n",
      "rise-5.7.1           | 1.7 MB    | ##9        |  30% \n",
      "rise-5.7.1           | 1.7 MB    | ###3       |  34% \n",
      "rise-5.7.1           | 1.7 MB    | ###9       |  39% \n",
      "rise-5.7.1           | 1.7 MB    | ####3      |  43% \n",
      "rise-5.7.1           | 1.7 MB    | ####5      |  46% \n",
      "rise-5.7.1           | 1.7 MB    | #####3     |  53% \n",
      "rise-5.7.1           | 1.7 MB    | #####7     |  57% \n",
      "rise-5.7.1           | 1.7 MB    | #####9     |  60% \n",
      "rise-5.7.1           | 1.7 MB    | ######4    |  65% \n",
      "rise-5.7.1           | 1.7 MB    | #######    |  70% \n",
      "rise-5.7.1           | 1.7 MB    | #######2   |  73% \n",
      "rise-5.7.1           | 1.7 MB    | #######6   |  77% \n",
      "rise-5.7.1           | 1.7 MB    | ########   |  80% \n",
      "rise-5.7.1           | 1.7 MB    | ########3  |  83% \n",
      "rise-5.7.1           | 1.7 MB    | ########9  |  90% \n",
      "rise-5.7.1           | 1.7 MB    | #########3 |  94% \n",
      "rise-5.7.1           | 1.7 MB    | #########7 |  97% \n",
      "rise-5.7.1           | 1.7 MB    | ########## | 100% \n",
      "rise-5.7.1           | 1.7 MB    | ########## | 100% \n",
      "\n",
      "filelock-3.6.0       | 12 KB     |            |   0% \n",
      "filelock-3.6.0       | 12 KB     | ########## | 100% \n",
      "filelock-3.6.0       | 12 KB     | ########## | 100% \n",
      "\n",
      "jedi-0.18.1          | 982 KB    |            |   0% \n",
      "jedi-0.18.1          | 982 KB    | 1          |   2% \n",
      "jedi-0.18.1          | 982 KB    | 4          |   5% \n",
      "jedi-0.18.1          | 982 KB    | ##4        |  24% \n",
      "jedi-0.18.1          | 982 KB    | ###2       |  33% \n",
      "jedi-0.18.1          | 982 KB    | ###9       |  39% \n",
      "jedi-0.18.1          | 982 KB    | ####8      |  49% \n",
      "jedi-0.18.1          | 982 KB    | #####5     |  55% \n",
      "jedi-0.18.1          | 982 KB    | ######     |  60% \n",
      "jedi-0.18.1          | 982 KB    | ######5    |  65% \n",
      "jedi-0.18.1          | 982 KB    | #######    |  70% \n",
      "jedi-0.18.1          | 982 KB    | #######4   |  75% \n",
      "jedi-0.18.1          | 982 KB    | #######9   |  80% \n",
      "jedi-0.18.1          | 982 KB    | ########4  |  85% \n",
      "jedi-0.18.1          | 982 KB    | ########7  |  88% \n",
      "jedi-0.18.1          | 982 KB    | ########## | 100% \n",
      "jedi-0.18.1          | 982 KB    | ########## | 100% \n",
      "\n",
      "sphinx-4.4.0         | 1.2 MB    |            |   0% \n",
      "sphinx-4.4.0         | 1.2 MB    | 1          |   1% \n",
      "sphinx-4.4.0         | 1.2 MB    | 3          |   4% \n",
      "sphinx-4.4.0         | 1.2 MB    | 9          |   9% \n",
      "sphinx-4.4.0         | 1.2 MB    | #5         |  16% \n",
      "sphinx-4.4.0         | 1.2 MB    | #9         |  20% \n",
      "sphinx-4.4.0         | 1.2 MB    | ##4        |  25% \n",
      "sphinx-4.4.0         | 1.2 MB    | ###2       |  33% \n",
      "sphinx-4.4.0         | 1.2 MB    | ###7       |  38% \n",
      "sphinx-4.4.0         | 1.2 MB    | ####3      |  43% \n",
      "sphinx-4.4.0         | 1.2 MB    | ####7      |  47% \n",
      "sphinx-4.4.0         | 1.2 MB    | #####2     |  52% \n",
      "sphinx-4.4.0         | 1.2 MB    | #####8     |  59% \n",
      "sphinx-4.4.0         | 1.2 MB    | ######2    |  63% \n",
      "sphinx-4.4.0         | 1.2 MB    | #######    |  71% \n",
      "sphinx-4.4.0         | 1.2 MB    | #######5   |  76% \n",
      "sphinx-4.4.0         | 1.2 MB    | #######9   |  80% \n",
      "sphinx-4.4.0         | 1.2 MB    | ########8  |  89% \n",
      "sphinx-4.4.0         | 1.2 MB    | #########4 |  94% \n",
      "sphinx-4.4.0         | 1.2 MB    | ########## | 100% \n",
      "sphinx-4.4.0         | 1.2 MB    | ########## | 100% \n",
      "\n",
      "snowballstemmer-2.2. | 61 KB     |            |   0% \n",
      "snowballstemmer-2.2. | 61 KB     | ##6        |  26% \n",
      "snowballstemmer-2.2. | 61 KB     | ########## | 100% \n",
      "snowballstemmer-2.2. | 61 KB     | ########## | 100% \n",
      "\n",
      "h5py-3.6.0           | 879 KB    |            |   0% \n",
      "h5py-3.6.0           | 879 KB    | 1          |   2% \n",
      "h5py-3.6.0           | 879 KB    | 3          |   4% \n",
      "h5py-3.6.0           | 879 KB    | #          |  11% \n",
      "h5py-3.6.0           | 879 KB    | ##1        |  22% \n",
      "h5py-3.6.0           | 879 KB    | ##5        |  25% \n",
      "h5py-3.6.0           | 879 KB    | ###6       |  36% \n",
      "h5py-3.6.0           | 879 KB    | ####7      |  47% \n",
      "h5py-3.6.0           | 879 KB    | #####4     |  55% \n",
      "h5py-3.6.0           | 879 KB    | ######     |  60% \n",
      "h5py-3.6.0           | 879 KB    | ######7    |  67% \n",
      "h5py-3.6.0           | 879 KB    | #######2   |  73% \n",
      "h5py-3.6.0           | 879 KB    | ########   |  80% \n",
      "h5py-3.6.0           | 879 KB    | ########9  |  89% \n",
      "h5py-3.6.0           | 879 KB    | #########8 |  98% \n",
      "h5py-3.6.0           | 879 KB    | ########## | 100% \n",
      "\n",
      "numba-0.55.1         | 3.4 MB    |            |   0% \n",
      "numba-0.55.1         | 3.4 MB    |            |   0% \n",
      "numba-0.55.1         | 3.4 MB    | 1          |   2% \n",
      "numba-0.55.1         | 3.4 MB    | 2          |   3% \n",
      "numba-0.55.1         | 3.4 MB    | 3          |   4% \n",
      "numba-0.55.1         | 3.4 MB    | 4          |   5% \n",
      "numba-0.55.1         | 3.4 MB    | 5          |   5% \n",
      "numba-0.55.1         | 3.4 MB    | 6          |   6% \n",
      "numba-0.55.1         | 3.4 MB    | 7          |   8% \n",
      "numba-0.55.1         | 3.4 MB    | 9          |   9% \n",
      "numba-0.55.1         | 3.4 MB    | #1         |  12% \n",
      "numba-0.55.1         | 3.4 MB    | #3         |  13% \n",
      "numba-0.55.1         | 3.4 MB    | #4         |  15% \n",
      "numba-0.55.1         | 3.4 MB    | #6         |  16% \n",
      "numba-0.55.1         | 3.4 MB    | #8         |  18% \n",
      "numba-0.55.1         | 3.4 MB    | ##1        |  22% \n",
      "numba-0.55.1         | 3.4 MB    | ##5        |  25% \n",
      "numba-0.55.1         | 3.4 MB    | ##6        |  27% \n",
      "numba-0.55.1         | 3.4 MB    | ##8        |  28% \n",
      "numba-0.55.1         | 3.4 MB    | ###        |  30% \n",
      "numba-0.55.1         | 3.4 MB    | ###1       |  31% \n",
      "numba-0.55.1         | 3.4 MB    | ###3       |  34% \n",
      "numba-0.55.1         | 3.4 MB    | ###5       |  35% \n",
      "numba-0.55.1         | 3.4 MB    | ###8       |  38% \n",
      "numba-0.55.1         | 3.4 MB    | ###9       |  40% \n",
      "numba-0.55.1         | 3.4 MB    | ####1      |  41% \n",
      "numba-0.55.1         | 3.4 MB    | ####2      |  42% \n",
      "numba-0.55.1         | 3.4 MB    | ####5      |  46% \n",
      "numba-0.55.1         | 3.4 MB    | ####7      |  47% \n",
      "numba-0.55.1         | 3.4 MB    | ####8      |  49% \n",
      "numba-0.55.1         | 3.4 MB    | #####1     |  52% \n",
      "numba-0.55.1         | 3.4 MB    | #####5     |  56% \n",
      "numba-0.55.1         | 3.4 MB    | ######1    |  61% \n",
      "numba-0.55.1         | 3.4 MB    | ######2    |  62% \n",
      "numba-0.55.1         | 3.4 MB    | ######4    |  65% \n",
      "numba-0.55.1         | 3.4 MB    | ######7    |  67% \n",
      "numba-0.55.1         | 3.4 MB    | #######    |  71% \n",
      "numba-0.55.1         | 3.4 MB    | #######2   |  72% \n",
      "numba-0.55.1         | 3.4 MB    | #######6   |  77% \n",
      "numba-0.55.1         | 3.4 MB    | #######7   |  78% \n",
      "numba-0.55.1         | 3.4 MB    | #######9   |  79% \n",
      "numba-0.55.1         | 3.4 MB    | ########   |  81% \n",
      "numba-0.55.1         | 3.4 MB    | ########3  |  83% \n",
      "numba-0.55.1         | 3.4 MB    | ########5  |  85% \n",
      "numba-0.55.1         | 3.4 MB    | ########6  |  87% \n",
      "numba-0.55.1         | 3.4 MB    | ########7  |  88% \n",
      "numba-0.55.1         | 3.4 MB    | ########9  |  89% \n",
      "numba-0.55.1         | 3.4 MB    | #########1 |  91% \n",
      "numba-0.55.1         | 3.4 MB    | #########2 |  93% \n",
      "numba-0.55.1         | 3.4 MB    | #########3 |  94% \n",
      "numba-0.55.1         | 3.4 MB    | #########5 |  96% \n",
      "numba-0.55.1         | 3.4 MB    | #########7 |  98% \n",
      "numba-0.55.1         | 3.4 MB    | ########## | 100% \n",
      "numba-0.55.1         | 3.4 MB    | ########## | 100% \n",
      "\n",
      "requests-2.27.1      | 54 KB     |            |   0% \n",
      "requests-2.27.1      | 54 KB     | ##9        |  30% \n",
      "requests-2.27.1      | 54 KB     | ########## | 100% \n",
      "requests-2.27.1      | 54 KB     | ########## | 100% \n",
      "\n",
      "setuptools-61.2.0    | 1.0 MB    |            |   0% \n",
      "setuptools-61.2.0    | 1.0 MB    | 1          |   2% \n",
      "setuptools-61.2.0    | 1.0 MB    | 4          |   5% \n",
      "setuptools-61.2.0    | 1.0 MB    | 7          |   8% \n",
      "setuptools-61.2.0    | 1.0 MB    | #4         |  14% \n",
      "setuptools-61.2.0    | 1.0 MB    | #8         |  19% \n",
      "setuptools-61.2.0    | 1.0 MB    | ##3        |  23% \n",
      "setuptools-61.2.0    | 1.0 MB    | ###8       |  39% \n",
      "setuptools-61.2.0    | 1.0 MB    | ####6      |  47% \n",
      "setuptools-61.2.0    | 1.0 MB    | #####2     |  53% \n",
      "setuptools-61.2.0    | 1.0 MB    | #####7     |  58% \n",
      "setuptools-61.2.0    | 1.0 MB    | ######3    |  64% \n",
      "setuptools-61.2.0    | 1.0 MB    | #######1   |  72% \n",
      "setuptools-61.2.0    | 1.0 MB    | ########8  |  89% \n",
      "setuptools-61.2.0    | 1.0 MB    | #########6 |  96% \n",
      "setuptools-61.2.0    | 1.0 MB    | ########## | 100% \n",
      "\n",
      "nbclassic-0.3.5      | 22 KB     |            |   0% \n",
      "nbclassic-0.3.5      | 22 KB     | #######3   |  73% \n",
      "nbclassic-0.3.5      | 22 KB     | ########## | 100% \n",
      "\n",
      "decorator-5.1.1      | 12 KB     |            |   0% \n",
      "decorator-5.1.1      | 12 KB     | ########## | 100% \n",
      "decorator-5.1.1      | 12 KB     | ########## | 100% \n",
      "\n",
      "qtawesome-1.0.3      | 761 KB    |            |   0% \n",
      "qtawesome-1.0.3      | 761 KB    | 2          |   2% \n",
      "qtawesome-1.0.3      | 761 KB    | 4          |   4% \n",
      "qtawesome-1.0.3      | 761 KB    | #8         |  19% \n",
      "qtawesome-1.0.3      | 761 KB    | ####6      |  46% \n",
      "qtawesome-1.0.3      | 761 KB    | #####2     |  53% \n",
      "qtawesome-1.0.3      | 761 KB    | #######5   |  76% \n",
      "qtawesome-1.0.3      | 761 KB    | ########8  |  88% \n",
      "qtawesome-1.0.3      | 761 KB    | #########4 |  95% \n",
      "qtawesome-1.0.3      | 761 KB    | ########## | 100% \n",
      "qtawesome-1.0.3      | 761 KB    | ########## | 100% \n",
      "\n",
      "python-fastjsonschem | 29 KB     |            |   0% \n",
      "python-fastjsonschem | 29 KB     | #####5     |  56% \n",
      "python-fastjsonschem | 29 KB     | ########## | 100% \n",
      "\n",
      "sympy-1.10.1         | 9.5 MB    |            |   0% \n",
      "sympy-1.10.1         | 9.5 MB    |            |   0% \n",
      "sympy-1.10.1         | 9.5 MB    |            |   1% \n",
      "sympy-1.10.1         | 9.5 MB    | 1          |   1% \n",
      "sympy-1.10.1         | 9.5 MB    | 1          |   2% \n"
     ]
    },
    {
     "name": "stdout",
     "output_type": "stream",
     "text": [
      "sympy-1.10.1         | 9.5 MB    | 2          |   2% \n",
      "sympy-1.10.1         | 9.5 MB    | 2          |   3% \n",
      "sympy-1.10.1         | 9.5 MB    | 3          |   4% \n",
      "sympy-1.10.1         | 9.5 MB    | 4          |   5% \n",
      "sympy-1.10.1         | 9.5 MB    | 5          |   5% \n",
      "sympy-1.10.1         | 9.5 MB    | 5          |   6% \n",
      "sympy-1.10.1         | 9.5 MB    | 6          |   6% \n",
      "sympy-1.10.1         | 9.5 MB    | 7          |   8% \n",
      "sympy-1.10.1         | 9.5 MB    | 8          |   8% \n",
      "sympy-1.10.1         | 9.5 MB    | 8          |   9% \n",
      "sympy-1.10.1         | 9.5 MB    | 9          |   9% \n",
      "sympy-1.10.1         | 9.5 MB    | 9          |  10% \n",
      "sympy-1.10.1         | 9.5 MB    | #          |  11% \n",
      "sympy-1.10.1         | 9.5 MB    | #1         |  11% \n",
      "sympy-1.10.1         | 9.5 MB    | #1         |  12% \n",
      "sympy-1.10.1         | 9.5 MB    | #2         |  12% \n",
      "sympy-1.10.1         | 9.5 MB    | #3         |  13% \n",
      "sympy-1.10.1         | 9.5 MB    | #3         |  14% \n",
      "sympy-1.10.1         | 9.5 MB    | #4         |  14% \n",
      "sympy-1.10.1         | 9.5 MB    | #4         |  15% \n",
      "sympy-1.10.1         | 9.5 MB    | #6         |  16% \n",
      "sympy-1.10.1         | 9.5 MB    | #6         |  17% \n",
      "sympy-1.10.1         | 9.5 MB    | #7         |  18% \n",
      "sympy-1.10.1         | 9.5 MB    | #8         |  18% \n",
      "sympy-1.10.1         | 9.5 MB    | #9         |  19% \n",
      "sympy-1.10.1         | 9.5 MB    | #9         |  20% \n",
      "sympy-1.10.1         | 9.5 MB    | ##         |  21% \n",
      "sympy-1.10.1         | 9.5 MB    | ##1        |  21% \n",
      "sympy-1.10.1         | 9.5 MB    | ##1        |  22% \n",
      "sympy-1.10.1         | 9.5 MB    | ##2        |  22% \n",
      "sympy-1.10.1         | 9.5 MB    | ##3        |  23% \n",
      "sympy-1.10.1         | 9.5 MB    | ##3        |  24% \n",
      "sympy-1.10.1         | 9.5 MB    | ##5        |  25% \n",
      "sympy-1.10.1         | 9.5 MB    | ##6        |  26% \n",
      "sympy-1.10.1         | 9.5 MB    | ##6        |  27% \n",
      "sympy-1.10.1         | 9.5 MB    | ##7        |  28% \n",
      "sympy-1.10.1         | 9.5 MB    | ##8        |  28% \n",
      "sympy-1.10.1         | 9.5 MB    | ##8        |  29% \n",
      "sympy-1.10.1         | 9.5 MB    | ##9        |  30% \n",
      "sympy-1.10.1         | 9.5 MB    | ###        |  31% \n",
      "sympy-1.10.1         | 9.5 MB    | ###1       |  31% \n",
      "sympy-1.10.1         | 9.5 MB    | ###1       |  32% \n",
      "sympy-1.10.1         | 9.5 MB    | ###2       |  33% \n",
      "sympy-1.10.1         | 9.5 MB    | ###3       |  33% \n",
      "sympy-1.10.1         | 9.5 MB    | ###3       |  34% \n",
      "sympy-1.10.1         | 9.5 MB    | ###4       |  34% \n",
      "sympy-1.10.1         | 9.5 MB    | ###5       |  35% \n",
      "sympy-1.10.1         | 9.5 MB    | ###5       |  36% \n",
      "sympy-1.10.1         | 9.5 MB    | ###6       |  36% \n",
      "sympy-1.10.1         | 9.5 MB    | ###7       |  38% \n",
      "sympy-1.10.1         | 9.5 MB    | ###8       |  38% \n",
      "sympy-1.10.1         | 9.5 MB    | ###8       |  39% \n",
      "sympy-1.10.1         | 9.5 MB    | ###9       |  40% \n",
      "sympy-1.10.1         | 9.5 MB    | ####       |  40% \n",
      "sympy-1.10.1         | 9.5 MB    | ####1      |  42% \n",
      "sympy-1.10.1         | 9.5 MB    | ####2      |  42% \n",
      "sympy-1.10.1         | 9.5 MB    | ####2      |  43% \n",
      "sympy-1.10.1         | 9.5 MB    | ####3      |  43% \n",
      "sympy-1.10.1         | 9.5 MB    | ####3      |  44% \n",
      "sympy-1.10.1         | 9.5 MB    | ####4      |  45% \n",
      "sympy-1.10.1         | 9.5 MB    | ####5      |  46% \n",
      "sympy-1.10.1         | 9.5 MB    | ####6      |  46% \n",
      "sympy-1.10.1         | 9.5 MB    | ####6      |  47% \n",
      "sympy-1.10.1         | 9.5 MB    | ####7      |  48% \n",
      "sympy-1.10.1         | 9.5 MB    | ####8      |  49% \n",
      "sympy-1.10.1         | 9.5 MB    | ####9      |  49% \n",
      "sympy-1.10.1         | 9.5 MB    | #####      |  51% \n",
      "sympy-1.10.1         | 9.5 MB    | #####2     |  52% \n",
      "sympy-1.10.1         | 9.5 MB    | #####3     |  53% \n",
      "sympy-1.10.1         | 9.5 MB    | #####3     |  54% \n",
      "sympy-1.10.1         | 9.5 MB    | #####4     |  54% \n",
      "sympy-1.10.1         | 9.5 MB    | #####5     |  55% \n",
      "sympy-1.10.1         | 9.5 MB    | #####5     |  56% \n",
      "sympy-1.10.1         | 9.5 MB    | #####6     |  57% \n",
      "sympy-1.10.1         | 9.5 MB    | #####7     |  57% \n",
      "sympy-1.10.1         | 9.5 MB    | #####7     |  58% \n",
      "sympy-1.10.1         | 9.5 MB    | #####8     |  58% \n",
      "sympy-1.10.1         | 9.5 MB    | #####9     |  59% \n",
      "sympy-1.10.1         | 9.5 MB    | #####9     |  60% \n",
      "sympy-1.10.1         | 9.5 MB    | ######     |  60% \n",
      "sympy-1.10.1         | 9.5 MB    | ######     |  61% \n",
      "sympy-1.10.1         | 9.5 MB    | ######1    |  61% \n",
      "sympy-1.10.1         | 9.5 MB    | ######1    |  62% \n",
      "sympy-1.10.1         | 9.5 MB    | ######2    |  62% \n",
      "sympy-1.10.1         | 9.5 MB    | ######2    |  63% \n",
      "sympy-1.10.1         | 9.5 MB    | ######3    |  63% \n",
      "sympy-1.10.1         | 9.5 MB    | ######4    |  64% \n",
      "sympy-1.10.1         | 9.5 MB    | ######5    |  65% \n",
      "sympy-1.10.1         | 9.5 MB    | ######5    |  66% \n",
      "sympy-1.10.1         | 9.5 MB    | ######6    |  67% \n",
      "sympy-1.10.1         | 9.5 MB    | ######7    |  68% \n",
      "sympy-1.10.1         | 9.5 MB    | ######8    |  68% \n",
      "sympy-1.10.1         | 9.5 MB    | #######    |  71% \n",
      "sympy-1.10.1         | 9.5 MB    | #######1   |  72% \n",
      "sympy-1.10.1         | 9.5 MB    | #######2   |  72% \n",
      "sympy-1.10.1         | 9.5 MB    | #######3   |  73% \n",
      "sympy-1.10.1         | 9.5 MB    | #######3   |  74% \n",
      "sympy-1.10.1         | 9.5 MB    | #######4   |  74% \n",
      "sympy-1.10.1         | 9.5 MB    | #######5   |  76% \n",
      "sympy-1.10.1         | 9.5 MB    | #######6   |  76% \n",
      "sympy-1.10.1         | 9.5 MB    | #######6   |  77% \n",
      "sympy-1.10.1         | 9.5 MB    | #######7   |  77% \n",
      "sympy-1.10.1         | 9.5 MB    | #######7   |  78% \n",
      "sympy-1.10.1         | 9.5 MB    | #######8   |  78% \n",
      "sympy-1.10.1         | 9.5 MB    | #######9   |  79% \n",
      "sympy-1.10.1         | 9.5 MB    | ########   |  80% \n",
      "sympy-1.10.1         | 9.5 MB    | ########   |  81% \n",
      "sympy-1.10.1         | 9.5 MB    | ########1  |  81% \n",
      "sympy-1.10.1         | 9.5 MB    | ########1  |  82% \n",
      "sympy-1.10.1         | 9.5 MB    | ########2  |  83% \n",
      "sympy-1.10.1         | 9.5 MB    | ########3  |  83% \n",
      "sympy-1.10.1         | 9.5 MB    | ########3  |  84% \n",
      "sympy-1.10.1         | 9.5 MB    | ########4  |  84% \n",
      "sympy-1.10.1         | 9.5 MB    | ########4  |  85% \n",
      "sympy-1.10.1         | 9.5 MB    | ########5  |  85% \n",
      "sympy-1.10.1         | 9.5 MB    | ########5  |  86% \n",
      "sympy-1.10.1         | 9.5 MB    | ########6  |  86% \n",
      "sympy-1.10.1         | 9.5 MB    | ########7  |  88% \n",
      "sympy-1.10.1         | 9.5 MB    | ########9  |  89% \n",
      "sympy-1.10.1         | 9.5 MB    | #########  |  90% \n",
      "sympy-1.10.1         | 9.5 MB    | #########1 |  91% \n",
      "sympy-1.10.1         | 9.5 MB    | #########2 |  92% \n",
      "sympy-1.10.1         | 9.5 MB    | #########2 |  93% \n",
      "sympy-1.10.1         | 9.5 MB    | #########4 |  95% \n",
      "sympy-1.10.1         | 9.5 MB    | #########5 |  95% \n",
      "sympy-1.10.1         | 9.5 MB    | #########6 |  96% \n",
      "sympy-1.10.1         | 9.5 MB    | #########6 |  97% \n",
      "sympy-1.10.1         | 9.5 MB    | #########7 |  97% \n",
      "sympy-1.10.1         | 9.5 MB    | #########7 |  98% \n",
      "sympy-1.10.1         | 9.5 MB    | #########8 |  98% \n",
      "sympy-1.10.1         | 9.5 MB    | #########8 |  99% \n",
      "sympy-1.10.1         | 9.5 MB    | #########9 |  99% \n",
      "sympy-1.10.1         | 9.5 MB    | #########9 | 100% \n",
      "sympy-1.10.1         | 9.5 MB    | ########## | 100% \n",
      "\n",
      "autopep8-1.6.0       | 42 KB     |            |   0% \n",
      "autopep8-1.6.0       | 42 KB     | ###7       |  38% \n",
      "autopep8-1.6.0       | 42 KB     | ########## | 100% \n",
      "\n",
      "anaconda-custom      | 4 KB      |            |   0% \n",
      "anaconda-custom      | 4 KB      | ########## | 100% \n",
      "anaconda-custom      | 4 KB      | ########## | 100% \n",
      "\n",
      "beautifulsoup4-4.11. | 190 KB    |            |   0% \n",
      "beautifulsoup4-4.11. | 190 KB    | 8          |   8% \n",
      "beautifulsoup4-4.11. | 190 KB    | ##5        |  25% \n",
      "beautifulsoup4-4.11. | 190 KB    | ###3       |  34% \n",
      "beautifulsoup4-4.11. | 190 KB    | ########4  |  84% \n",
      "beautifulsoup4-4.11. | 190 KB    | ########## | 100% \n",
      "\n",
      "pygments-2.11.2      | 759 KB    |            |   0% \n",
      "pygments-2.11.2      | 759 KB    | 2          |   2% \n",
      "pygments-2.11.2      | 759 KB    | 8          |   8% \n",
      "pygments-2.11.2      | 759 KB    | #4         |  15% \n",
      "pygments-2.11.2      | 759 KB    | ##5        |  25% \n",
      "pygments-2.11.2      | 759 KB    | ###1       |  32% \n",
      "pygments-2.11.2      | 759 KB    | ####6      |  46% \n",
      "pygments-2.11.2      | 759 KB    | #####4     |  55% \n",
      "pygments-2.11.2      | 759 KB    | ######3    |  63% \n",
      "pygments-2.11.2      | 759 KB    | ######9    |  70% \n",
      "pygments-2.11.2      | 759 KB    | ########8  |  89% \n",
      "pygments-2.11.2      | 759 KB    | #########7 |  97% \n",
      "pygments-2.11.2      | 759 KB    | ########## | 100% \n",
      "\n",
      "qtconsole-5.3.0      | 93 KB     |            |   0% \n",
      "qtconsole-5.3.0      | 93 KB     | #7         |  17% \n",
      "qtconsole-5.3.0      | 93 KB     | ###4       |  35% \n",
      "qtconsole-5.3.0      | 93 KB     | ########6  |  86% \n",
      "qtconsole-5.3.0      | 93 KB     | ########## | 100% \n",
      "\n",
      "markupsafe-2.0.1     | 24 KB     |            |   0% \n",
      "markupsafe-2.0.1     | 24 KB     | ######7    |  67% \n",
      "markupsafe-2.0.1     | 24 KB     | ########## | 100% \n",
      "\n",
      "conda-build-3.21.8   | 554 KB    |            |   0% \n",
      "conda-build-3.21.8   | 554 KB    | 2          |   3% \n",
      "conda-build-3.21.8   | 554 KB    | #4         |  14% \n",
      "conda-build-3.21.8   | 554 KB    | ##5        |  26% \n",
      "conda-build-3.21.8   | 554 KB    | ###4       |  35% \n",
      "conda-build-3.21.8   | 554 KB    | ####3      |  43% \n",
      "conda-build-3.21.8   | 554 KB    | #####1     |  52% \n",
      "conda-build-3.21.8   | 554 KB    | ######     |  61% \n",
      "conda-build-3.21.8   | 554 KB    | ######6    |  66% \n",
      "conda-build-3.21.8   | 554 KB    | #######5   |  75% \n",
      "conda-build-3.21.8   | 554 KB    | ########3  |  84% \n",
      "conda-build-3.21.8   | 554 KB    | #########5 |  95% \n",
      "conda-build-3.21.8   | 554 KB    | ########## | 100% \n",
      "\n",
      "executing-0.8.3      | 18 KB     |            |   0% \n",
      "executing-0.8.3      | 18 KB     | ########7  |  88% \n",
      "executing-0.8.3      | 18 KB     | ########## | 100% \n",
      "\n",
      "nbconvert-6.4.4      | 517 KB    |            |   0% \n",
      "nbconvert-6.4.4      | 517 KB    | 3          |   3% \n",
      "nbconvert-6.4.4      | 517 KB    | 9          |   9% \n",
      "nbconvert-6.4.4      | 517 KB    | #8         |  19% \n",
      "nbconvert-6.4.4      | 517 KB    | ##4        |  25% \n",
      "nbconvert-6.4.4      | 517 KB    | ####9      |  50% \n",
      "nbconvert-6.4.4      | 517 KB    | #######4   |  74% \n",
      "nbconvert-6.4.4      | 517 KB    | ########6  |  87% \n",
      "nbconvert-6.4.4      | 517 KB    | ########## | 100% \n",
      "nbconvert-6.4.4      | 517 KB    | ########## | 100% \n",
      "\n",
      "openssl-1.1.1n       | 4.8 MB    |            |   0% \n",
      "openssl-1.1.1n       | 4.8 MB    |            |   0% \n",
      "openssl-1.1.1n       | 4.8 MB    | 1          |   1% \n",
      "openssl-1.1.1n       | 4.8 MB    | 1          |   2% \n",
      "openssl-1.1.1n       | 4.8 MB    | 3          |   3% \n",
      "openssl-1.1.1n       | 4.8 MB    | 4          |   4% \n",
      "openssl-1.1.1n       | 4.8 MB    | 5          |   5% \n",
      "openssl-1.1.1n       | 4.8 MB    | 7          |   7% \n",
      "openssl-1.1.1n       | 4.8 MB    | 8          |   8% \n",
      "openssl-1.1.1n       | 4.8 MB    | 9          |   9% \n",
      "openssl-1.1.1n       | 4.8 MB    | #2         |  12% \n",
      "openssl-1.1.1n       | 4.8 MB    | #3         |  14% \n",
      "openssl-1.1.1n       | 4.8 MB    | #5         |  16% \n",
      "openssl-1.1.1n       | 4.8 MB    | #7         |  17% \n",
      "openssl-1.1.1n       | 4.8 MB    | #8         |  18% \n",
      "openssl-1.1.1n       | 4.8 MB    | #9         |  20% \n",
      "openssl-1.1.1n       | 4.8 MB    | ##         |  21% \n",
      "openssl-1.1.1n       | 4.8 MB    | ##2        |  23% \n",
      "openssl-1.1.1n       | 4.8 MB    | ##4        |  24% \n",
      "openssl-1.1.1n       | 4.8 MB    | ##6        |  27% \n",
      "openssl-1.1.1n       | 4.8 MB    | ##8        |  28% \n",
      "openssl-1.1.1n       | 4.8 MB    | ##9        |  29% \n",
      "openssl-1.1.1n       | 4.8 MB    | ###        |  31% \n",
      "openssl-1.1.1n       | 4.8 MB    | ###1       |  32% \n",
      "openssl-1.1.1n       | 4.8 MB    | ###3       |  34% \n",
      "openssl-1.1.1n       | 4.8 MB    | ###5       |  36% \n",
      "openssl-1.1.1n       | 4.8 MB    | ###6       |  36% \n",
      "openssl-1.1.1n       | 4.8 MB    | ###7       |  37% \n",
      "openssl-1.1.1n       | 4.8 MB    | ###8       |  38% \n",
      "openssl-1.1.1n       | 4.8 MB    | ###9       |  39% \n",
      "openssl-1.1.1n       | 4.8 MB    | ####       |  40% \n",
      "openssl-1.1.1n       | 4.8 MB    | ####1      |  42% \n",
      "openssl-1.1.1n       | 4.8 MB    | ####3      |  44% \n",
      "openssl-1.1.1n       | 4.8 MB    | ####4      |  45% \n",
      "openssl-1.1.1n       | 4.8 MB    | ####6      |  47% \n",
      "openssl-1.1.1n       | 4.8 MB    | ####9      |  49% \n",
      "openssl-1.1.1n       | 4.8 MB    | #####      |  50% \n",
      "openssl-1.1.1n       | 4.8 MB    | #####1     |  52% \n",
      "openssl-1.1.1n       | 4.8 MB    | #####2     |  53% \n",
      "openssl-1.1.1n       | 4.8 MB    | #####4     |  55% \n",
      "openssl-1.1.1n       | 4.8 MB    | #####6     |  56% \n",
      "openssl-1.1.1n       | 4.8 MB    | #####7     |  57% \n",
      "openssl-1.1.1n       | 4.8 MB    | #####8     |  58% \n",
      "openssl-1.1.1n       | 4.8 MB    | #####9     |  59% \n",
      "openssl-1.1.1n       | 4.8 MB    | ######     |  60% \n",
      "openssl-1.1.1n       | 4.8 MB    | ######2    |  63% \n",
      "openssl-1.1.1n       | 4.8 MB    | ######4    |  64% \n",
      "openssl-1.1.1n       | 4.8 MB    | ######5    |  65% \n",
      "openssl-1.1.1n       | 4.8 MB    | ######6    |  67% \n",
      "openssl-1.1.1n       | 4.8 MB    | ######7    |  67% \n",
      "openssl-1.1.1n       | 4.8 MB    | ######8    |  69% \n",
      "openssl-1.1.1n       | 4.8 MB    | #######    |  70% \n",
      "openssl-1.1.1n       | 4.8 MB    | #######1   |  71% \n",
      "openssl-1.1.1n       | 4.8 MB    | #######2   |  73% \n",
      "openssl-1.1.1n       | 4.8 MB    | #######4   |  75% \n",
      "openssl-1.1.1n       | 4.8 MB    | #######5   |  76% \n",
      "openssl-1.1.1n       | 4.8 MB    | #######6   |  77% \n",
      "openssl-1.1.1n       | 4.8 MB    | #######8   |  78% \n",
      "openssl-1.1.1n       | 4.8 MB    | ########   |  80% \n",
      "openssl-1.1.1n       | 4.8 MB    | ########1  |  82% \n",
      "openssl-1.1.1n       | 4.8 MB    | ########2  |  83% \n",
      "openssl-1.1.1n       | 4.8 MB    | ########5  |  86% \n",
      "openssl-1.1.1n       | 4.8 MB    | ########6  |  87% \n",
      "openssl-1.1.1n       | 4.8 MB    | ########8  |  88% \n",
      "openssl-1.1.1n       | 4.8 MB    | #########2 |  93% \n",
      "openssl-1.1.1n       | 4.8 MB    | #########4 |  95% \n",
      "openssl-1.1.1n       | 4.8 MB    | #########5 |  96% \n",
      "openssl-1.1.1n       | 4.8 MB    | #########7 |  97% \n",
      "openssl-1.1.1n       | 4.8 MB    | #########8 |  98% \n",
      "openssl-1.1.1n       | 4.8 MB    | ########## | 100% \n",
      "openssl-1.1.1n       | 4.8 MB    | ########## | 100% \n",
      "\n",
      "lxml-4.8.0           | 998 KB    |            |   0% \n",
      "lxml-4.8.0           | 998 KB    | 1          |   2% \n",
      "lxml-4.8.0           | 998 KB    | 6          |   6% \n",
      "lxml-4.8.0           | 998 KB    | 9          |  10% \n",
      "lxml-4.8.0           | 998 KB    | ##         |  21% \n",
      "lxml-4.8.0           | 998 KB    | ##5        |  26% \n",
      "lxml-4.8.0           | 998 KB    | ####1      |  42% \n",
      "lxml-4.8.0           | 998 KB    | ####9      |  50% \n",
      "lxml-4.8.0           | 998 KB    | #####6     |  56% \n",
      "lxml-4.8.0           | 998 KB    | ######2    |  63% \n",
      "lxml-4.8.0           | 998 KB    | ######7    |  67% \n",
      "lxml-4.8.0           | 998 KB    | #######2   |  72% \n",
      "lxml-4.8.0           | 998 KB    | #######6   |  77% \n",
      "lxml-4.8.0           | 998 KB    | #########7 |  98% \n",
      "lxml-4.8.0           | 998 KB    | ########## | 100% \n",
      "\n",
      "pywin32-302          | 5.6 MB    |            |   0% \n",
      "pywin32-302          | 5.6 MB    |            |   0% \n",
      "pywin32-302          | 5.6 MB    |            |   1% \n",
      "pywin32-302          | 5.6 MB    | 1          |   2% \n",
      "pywin32-302          | 5.6 MB    | 2          |   2% \n",
      "pywin32-302          | 5.6 MB    | 3          |   3% \n",
      "pywin32-302          | 5.6 MB    | 4          |   4% \n",
      "pywin32-302          | 5.6 MB    | 5          |   5% \n",
      "pywin32-302          | 5.6 MB    | 5          |   6% \n",
      "pywin32-302          | 5.6 MB    | 7          |   7% \n",
      "pywin32-302          | 5.6 MB    | 8          |   8% \n",
      "pywin32-302          | 5.6 MB    | #          |  10% \n",
      "pywin32-302          | 5.6 MB    | #1         |  11% \n",
      "pywin32-302          | 5.6 MB    | #3         |  13% \n",
      "pywin32-302          | 5.6 MB    | #4         |  14% \n",
      "pywin32-302          | 5.6 MB    | #5         |  15% \n",
      "pywin32-302          | 5.6 MB    | #7         |  18% \n",
      "pywin32-302          | 5.6 MB    | #8         |  19% \n",
      "pywin32-302          | 5.6 MB    | #9         |  20% \n",
      "pywin32-302          | 5.6 MB    | ##1        |  22% \n",
      "pywin32-302          | 5.6 MB    | ##3        |  24% \n",
      "pywin32-302          | 5.6 MB    | ##5        |  25% \n",
      "pywin32-302          | 5.6 MB    | ##6        |  26% \n",
      "pywin32-302          | 5.6 MB    | ##7        |  28% \n",
      "pywin32-302          | 5.6 MB    | ##9        |  29% \n",
      "pywin32-302          | 5.6 MB    | ###        |  31% \n",
      "pywin32-302          | 5.6 MB    | ###1       |  32% \n",
      "pywin32-302          | 5.6 MB    | ###2       |  33% \n",
      "pywin32-302          | 5.6 MB    | ###7       |  38% \n",
      "pywin32-302          | 5.6 MB    | ###9       |  40% \n",
      "pywin32-302          | 5.6 MB    | ####       |  41% \n",
      "pywin32-302          | 5.6 MB    | ####2      |  43% \n",
      "pywin32-302          | 5.6 MB    | ####3      |  44% \n",
      "pywin32-302          | 5.6 MB    | ####6      |  47% \n",
      "pywin32-302          | 5.6 MB    | ####7      |  48% \n",
      "pywin32-302          | 5.6 MB    | ####9      |  49% \n",
      "pywin32-302          | 5.6 MB    | #####1     |  51% \n",
      "pywin32-302          | 5.6 MB    | #####2     |  52% \n",
      "pywin32-302          | 5.6 MB    | #####3     |  53% \n",
      "pywin32-302          | 5.6 MB    | #####6     |  56% \n",
      "pywin32-302          | 5.6 MB    | #####7     |  57% \n",
      "pywin32-302          | 5.6 MB    | #####8     |  59% \n",
      "pywin32-302          | 5.6 MB    | #####9     |  60% \n"
     ]
    },
    {
     "name": "stdout",
     "output_type": "stream",
     "text": [
      "pywin32-302          | 5.6 MB    | ######     |  61% \n",
      "pywin32-302          | 5.6 MB    | ######1    |  61% \n",
      "pywin32-302          | 5.6 MB    | ######2    |  62% \n",
      "pywin32-302          | 5.6 MB    | ######3    |  63% \n",
      "pywin32-302          | 5.6 MB    | ######4    |  64% \n",
      "pywin32-302          | 5.6 MB    | ######5    |  65% \n",
      "pywin32-302          | 5.6 MB    | ######5    |  66% \n",
      "pywin32-302          | 5.6 MB    | ######6    |  67% \n",
      "pywin32-302          | 5.6 MB    | ######7    |  68% \n",
      "pywin32-302          | 5.6 MB    | ######8    |  69% \n",
      "pywin32-302          | 5.6 MB    | #######    |  71% \n",
      "pywin32-302          | 5.6 MB    | #######2   |  73% \n",
      "pywin32-302          | 5.6 MB    | #######3   |  73% \n",
      "pywin32-302          | 5.6 MB    | #######5   |  75% \n",
      "pywin32-302          | 5.6 MB    | #######6   |  77% \n",
      "pywin32-302          | 5.6 MB    | #######8   |  79% \n",
      "pywin32-302          | 5.6 MB    | #######9   |  79% \n",
      "pywin32-302          | 5.6 MB    | ########   |  80% \n",
      "pywin32-302          | 5.6 MB    | ########1  |  81% \n",
      "pywin32-302          | 5.6 MB    | ########2  |  82% \n",
      "pywin32-302          | 5.6 MB    | ########3  |  83% \n",
      "pywin32-302          | 5.6 MB    | ########5  |  85% \n",
      "pywin32-302          | 5.6 MB    | ########7  |  88% \n",
      "pywin32-302          | 5.6 MB    | ########9  |  89% \n",
      "pywin32-302          | 5.6 MB    | #########  |  90% \n",
      "pywin32-302          | 5.6 MB    | #########1 |  91% \n",
      "pywin32-302          | 5.6 MB    | #########2 |  93% \n",
      "pywin32-302          | 5.6 MB    | #########3 |  93% \n",
      "pywin32-302          | 5.6 MB    | #########4 |  94% \n",
      "pywin32-302          | 5.6 MB    | #########5 |  95% \n",
      "pywin32-302          | 5.6 MB    | #########5 |  96% \n",
      "pywin32-302          | 5.6 MB    | #########6 |  97% \n",
      "pywin32-302          | 5.6 MB    | #########8 |  98% \n",
      "pywin32-302          | 5.6 MB    | #########9 |  99% \n",
      "pywin32-302          | 5.6 MB    | ########## | 100% \n",
      "pywin32-302          | 5.6 MB    | ########## | 100% \n",
      "\n",
      "pycparser-2.21       | 94 KB     |            |   0% \n",
      "pycparser-2.21       | 94 KB     | #6         |  17% \n",
      "pycparser-2.21       | 94 KB     | ###3       |  34% \n",
      "pycparser-2.21       | 94 KB     | #####      |  51% \n",
      "pycparser-2.21       | 94 KB     | ########## | 100% \n",
      "\n",
      "nest-asyncio-1.5.5   | 16 KB     |            |   0% \n",
      "nest-asyncio-1.5.5   | 16 KB     | #########8 |  98% \n",
      "nest-asyncio-1.5.5   | 16 KB     | ########## | 100% \n",
      "\n",
      "jinja2-time-0.2.0    | 9 KB      |            |   0% \n",
      "jinja2-time-0.2.0    | 9 KB      | ########## | 100% \n",
      "jinja2-time-0.2.0    | 9 KB      | ########## | 100% \n",
      "\n",
      "numexpr-2.8.1        | 117 KB    |            |   0% \n",
      "numexpr-2.8.1        | 117 KB    | #3         |  14% \n",
      "numexpr-2.8.1        | 117 KB    | ####       |  41% \n",
      "numexpr-2.8.1        | 117 KB    | ########## | 100% \n",
      "numexpr-2.8.1        | 117 KB    | ########## | 100% \n",
      "\n",
      "pure_eval-0.2.2      | 14 KB     |            |   0% \n",
      "pure_eval-0.2.2      | 14 KB     | ########## | 100% \n",
      "pure_eval-0.2.2      | 14 KB     | ########## | 100% \n",
      "\n",
      "imagesize-1.3.0      | 9 KB      |            |   0% \n",
      "imagesize-1.3.0      | 9 KB      | ########## | 100% \n",
      "imagesize-1.3.0      | 9 KB      | ########## | 100% \n",
      "\n",
      "parso-0.8.3          | 70 KB     |            |   0% \n",
      "parso-0.8.3          | 70 KB     | ##2        |  23% \n",
      "parso-0.8.3          | 70 KB     | ####5      |  46% \n",
      "parso-0.8.3          | 70 KB     | ########## | 100% \n",
      "\n",
      "packaging-21.3       | 36 KB     |            |   0% \n",
      "packaging-21.3       | 36 KB     | ####3      |  44% \n",
      "packaging-21.3       | 36 KB     | ########## | 100% \n",
      "packaging-21.3       | 36 KB     | ########## | 100% \n",
      "\n",
      "py-lief-0.11.5       | 1.7 MB    |            |   0% \n",
      "py-lief-0.11.5       | 1.7 MB    |            |   1% \n",
      "py-lief-0.11.5       | 1.7 MB    | 3          |   4% \n",
      "py-lief-0.11.5       | 1.7 MB    | 5          |   5% \n",
      "py-lief-0.11.5       | 1.7 MB    | 7          |   7% \n",
      "py-lief-0.11.5       | 1.7 MB    | 9          |  10% \n",
      "py-lief-0.11.5       | 1.7 MB    | #2         |  13% \n",
      "py-lief-0.11.5       | 1.7 MB    | #4         |  14% \n",
      "py-lief-0.11.5       | 1.7 MB    | #6         |  16% \n",
      "py-lief-0.11.5       | 1.7 MB    | #7         |  18% \n",
      "py-lief-0.11.5       | 1.7 MB    | ##1        |  21% \n",
      "py-lief-0.11.5       | 1.7 MB    | ##5        |  25% \n",
      "py-lief-0.11.5       | 1.7 MB    | ###1       |  31% \n",
      "py-lief-0.11.5       | 1.7 MB    | ###4       |  35% \n",
      "py-lief-0.11.5       | 1.7 MB    | ###7       |  38% \n",
      "py-lief-0.11.5       | 1.7 MB    | ####3      |  44% \n",
      "py-lief-0.11.5       | 1.7 MB    | ####9      |  49% \n",
      "py-lief-0.11.5       | 1.7 MB    | #####2     |  53% \n",
      "py-lief-0.11.5       | 1.7 MB    | #####5     |  55% \n",
      "py-lief-0.11.5       | 1.7 MB    | #####8     |  58% \n",
      "py-lief-0.11.5       | 1.7 MB    | ######     |  61% \n",
      "py-lief-0.11.5       | 1.7 MB    | ######5    |  65% \n",
      "py-lief-0.11.5       | 1.7 MB    | ######7    |  68% \n",
      "py-lief-0.11.5       | 1.7 MB    | #######2   |  72% \n",
      "py-lief-0.11.5       | 1.7 MB    | #######5   |  75% \n",
      "py-lief-0.11.5       | 1.7 MB    | ########   |  80% \n",
      "py-lief-0.11.5       | 1.7 MB    | ########3  |  83% \n",
      "py-lief-0.11.5       | 1.7 MB    | ########5  |  86% \n",
      "py-lief-0.11.5       | 1.7 MB    | ########8  |  88% \n",
      "py-lief-0.11.5       | 1.7 MB    | #########2 |  92% \n",
      "py-lief-0.11.5       | 1.7 MB    | #########4 |  95% \n",
      "py-lief-0.11.5       | 1.7 MB    | #########7 |  97% \n",
      "py-lief-0.11.5       | 1.7 MB    | ########## | 100% \n",
      "py-lief-0.11.5       | 1.7 MB    | ########## | 100% \n",
      "\n",
      "distributed-2022.2.1 | 659 KB    |            |   0% \n",
      "distributed-2022.2.1 | 659 KB    | 2          |   2% \n",
      "distributed-2022.2.1 | 659 KB    | 7          |   7% \n",
      "distributed-2022.2.1 | 659 KB    | #4         |  15% \n",
      "distributed-2022.2.1 | 659 KB    | #9         |  19% \n",
      "distributed-2022.2.1 | 659 KB    | ##4        |  24% \n",
      "distributed-2022.2.1 | 659 KB    | ###1       |  32% \n",
      "distributed-2022.2.1 | 659 KB    | ####8      |  49% \n",
      "distributed-2022.2.1 | 659 KB    | #####8     |  58% \n",
      "distributed-2022.2.1 | 659 KB    | ######7    |  68% \n",
      "distributed-2022.2.1 | 659 KB    | #######7   |  78% \n",
      "distributed-2022.2.1 | 659 KB    | ########9  |  90% \n",
      "distributed-2022.2.1 | 659 KB    | #########9 |  99% \n",
      "distributed-2022.2.1 | 659 KB    | ########## | 100% \n",
      "\n",
      "navigator-updater-0. | 713 KB    |            |   0% \n",
      "navigator-updater-0. | 713 KB    | 2          |   2% \n",
      "navigator-updater-0. | 713 KB    | 8          |   9% \n",
      "navigator-updater-0. | 713 KB    | #1         |  11% \n",
      "navigator-updater-0. | 713 KB    | ##2        |  22% \n",
      "navigator-updater-0. | 713 KB    | ##6        |  27% \n",
      "navigator-updater-0. | 713 KB    | #####3     |  54% \n",
      "navigator-updater-0. | 713 KB    | ######     |  61% \n",
      "navigator-updater-0. | 713 KB    | ######9    |  70% \n",
      "navigator-updater-0. | 713 KB    | ########   |  81% \n",
      "navigator-updater-0. | 713 KB    | ########9  |  90% \n",
      "navigator-updater-0. | 713 KB    | #########8 |  99% \n",
      "navigator-updater-0. | 713 KB    | ########## | 100% \n",
      "\n",
      "cookiecutter-1.7.3   | 79 KB     |            |   0% \n",
      "cookiecutter-1.7.3   | 79 KB     | ##         |  20% \n",
      "cookiecutter-1.7.3   | 79 KB     | ######     |  61% \n",
      "cookiecutter-1.7.3   | 79 KB     | ########## | 100% \n",
      "cookiecutter-1.7.3   | 79 KB     | ########## | 100% \n",
      "\n",
      "notebook-6.4.11      | 4.5 MB    |            |   0% \n",
      "notebook-6.4.11      | 4.5 MB    |            |   0% \n",
      "notebook-6.4.11      | 4.5 MB    | 1          |   1% \n",
      "notebook-6.4.11      | 4.5 MB    | 1          |   2% \n",
      "notebook-6.4.11      | 4.5 MB    | 2          |   2% \n",
      "notebook-6.4.11      | 4.5 MB    | 4          |   5% \n",
      "notebook-6.4.11      | 4.5 MB    | 6          |   7% \n",
      "notebook-6.4.11      | 4.5 MB    | 7          |   8% \n",
      "notebook-6.4.11      | 4.5 MB    | 8          |   9% \n",
      "notebook-6.4.11      | 4.5 MB    | #          |  10% \n",
      "notebook-6.4.11      | 4.5 MB    | #1         |  11% \n",
      "notebook-6.4.11      | 4.5 MB    | #2         |  12% \n",
      "notebook-6.4.11      | 4.5 MB    | #3         |  13% \n",
      "notebook-6.4.11      | 4.5 MB    | #4         |  14% \n",
      "notebook-6.4.11      | 4.5 MB    | #5         |  15% \n",
      "notebook-6.4.11      | 4.5 MB    | #6         |  17% \n",
      "notebook-6.4.11      | 4.5 MB    | #7         |  18% \n",
      "notebook-6.4.11      | 4.5 MB    | #8         |  19% \n",
      "notebook-6.4.11      | 4.5 MB    | #9         |  20% \n",
      "notebook-6.4.11      | 4.5 MB    | ##         |  21% \n",
      "notebook-6.4.11      | 4.5 MB    | ##2        |  22% \n",
      "notebook-6.4.11      | 4.5 MB    | ##3        |  23% \n",
      "notebook-6.4.11      | 4.5 MB    | ##4        |  24% \n",
      "notebook-6.4.11      | 4.5 MB    | ##5        |  25% \n",
      "notebook-6.4.11      | 4.5 MB    | ##6        |  26% \n",
      "notebook-6.4.11      | 4.5 MB    | ##7        |  27% \n",
      "notebook-6.4.11      | 4.5 MB    | ##8        |  28% \n",
      "notebook-6.4.11      | 4.5 MB    | ##9        |  29% \n",
      "notebook-6.4.11      | 4.5 MB    | ###        |  31% \n",
      "notebook-6.4.11      | 4.5 MB    | ###3       |  33% \n",
      "notebook-6.4.11      | 4.5 MB    | ###4       |  34% \n",
      "notebook-6.4.11      | 4.5 MB    | ###5       |  35% \n",
      "notebook-6.4.11      | 4.5 MB    | ###7       |  37% \n",
      "notebook-6.4.11      | 4.5 MB    | ###8       |  38% \n",
      "notebook-6.4.11      | 4.5 MB    | ###9       |  39% \n",
      "notebook-6.4.11      | 4.5 MB    | ####1      |  41% \n",
      "notebook-6.4.11      | 4.5 MB    | ####2      |  42% \n",
      "notebook-6.4.11      | 4.5 MB    | ####3      |  43% \n",
      "notebook-6.4.11      | 4.5 MB    | ####5      |  45% \n",
      "notebook-6.4.11      | 4.5 MB    | ####6      |  46% \n",
      "notebook-6.4.11      | 4.5 MB    | ####7      |  48% \n",
      "notebook-6.4.11      | 4.5 MB    | ####8      |  49% \n",
      "notebook-6.4.11      | 4.5 MB    | ####9      |  50% \n",
      "notebook-6.4.11      | 4.5 MB    | #####      |  51% \n",
      "notebook-6.4.11      | 4.5 MB    | #####1     |  52% \n",
      "notebook-6.4.11      | 4.5 MB    | #####2     |  53% \n",
      "notebook-6.4.11      | 4.5 MB    | #####3     |  54% \n",
      "notebook-6.4.11      | 4.5 MB    | #####6     |  56% \n",
      "notebook-6.4.11      | 4.5 MB    | #####7     |  57% \n",
      "notebook-6.4.11      | 4.5 MB    | #####9     |  60% \n",
      "notebook-6.4.11      | 4.5 MB    | ######1    |  62% \n",
      "notebook-6.4.11      | 4.5 MB    | ######2    |  63% \n",
      "notebook-6.4.11      | 4.5 MB    | ######4    |  64% \n",
      "notebook-6.4.11      | 4.5 MB    | ######6    |  66% \n",
      "notebook-6.4.11      | 4.5 MB    | ######8    |  69% \n",
      "notebook-6.4.11      | 4.5 MB    | ######9    |  70% \n",
      "notebook-6.4.11      | 4.5 MB    | #######    |  71% \n",
      "notebook-6.4.11      | 4.5 MB    | #######3   |  73% \n",
      "notebook-6.4.11      | 4.5 MB    | #######4   |  75% \n",
      "notebook-6.4.11      | 4.5 MB    | #######7   |  77% \n",
      "notebook-6.4.11      | 4.5 MB    | ########   |  80% \n",
      "notebook-6.4.11      | 4.5 MB    | ########1  |  82% \n",
      "notebook-6.4.11      | 4.5 MB    | ########4  |  85% \n",
      "notebook-6.4.11      | 4.5 MB    | ########6  |  86% \n",
      "notebook-6.4.11      | 4.5 MB    | ########7  |  87% \n",
      "notebook-6.4.11      | 4.5 MB    | #########  |  91% \n",
      "notebook-6.4.11      | 4.5 MB    | #########1 |  92% \n",
      "notebook-6.4.11      | 4.5 MB    | #########2 |  93% \n",
      "notebook-6.4.11      | 4.5 MB    | #########3 |  94% \n",
      "notebook-6.4.11      | 4.5 MB    | #########5 |  95% \n",
      "notebook-6.4.11      | 4.5 MB    | #########6 |  96% \n",
      "notebook-6.4.11      | 4.5 MB    | #########8 |  98% \n",
      "notebook-6.4.11      | 4.5 MB    | ########## | 100% \n",
      "notebook-6.4.11      | 4.5 MB    | ########## | 100% \n",
      "\n",
      "numpy-base-1.21.5    | 4.4 MB    |            |   0% \n",
      "numpy-base-1.21.5    | 4.4 MB    |            |   0% \n",
      "numpy-base-1.21.5    | 4.4 MB    | 2          |   2% \n",
      "numpy-base-1.21.5    | 4.4 MB    | 3          |   4% \n",
      "numpy-base-1.21.5    | 4.4 MB    | 5          |   6% \n",
      "numpy-base-1.21.5    | 4.4 MB    | 7          |   7% \n",
      "numpy-base-1.21.5    | 4.4 MB    | 9          |   9% \n",
      "numpy-base-1.21.5    | 4.4 MB    | #          |  11% \n",
      "numpy-base-1.21.5    | 4.4 MB    | #1         |  12% \n",
      "numpy-base-1.21.5    | 4.4 MB    | #4         |  14% \n",
      "numpy-base-1.21.5    | 4.4 MB    | #5         |  16% \n",
      "numpy-base-1.21.5    | 4.4 MB    | #6         |  17% \n",
      "numpy-base-1.21.5    | 4.4 MB    | #7         |  18% \n",
      "numpy-base-1.21.5    | 4.4 MB    | #9         |  19% \n",
      "numpy-base-1.21.5    | 4.4 MB    | ##         |  20% \n",
      "numpy-base-1.21.5    | 4.4 MB    | ##1        |  22% \n",
      "numpy-base-1.21.5    | 4.4 MB    | ##3        |  24% \n",
      "numpy-base-1.21.5    | 4.4 MB    | ##5        |  25% \n",
      "numpy-base-1.21.5    | 4.4 MB    | ##6        |  26% \n",
      "numpy-base-1.21.5    | 4.4 MB    | ##8        |  29% \n",
      "numpy-base-1.21.5    | 4.4 MB    | ###        |  30% \n",
      "numpy-base-1.21.5    | 4.4 MB    | ###1       |  31% \n",
      "numpy-base-1.21.5    | 4.4 MB    | ###4       |  35% \n",
      "numpy-base-1.21.5    | 4.4 MB    | ###6       |  36% \n",
      "numpy-base-1.21.5    | 4.4 MB    | ###8       |  38% \n",
      "numpy-base-1.21.5    | 4.4 MB    | ###9       |  39% \n",
      "numpy-base-1.21.5    | 4.4 MB    | ####       |  41% \n",
      "numpy-base-1.21.5    | 4.4 MB    | ####3      |  43% \n",
      "numpy-base-1.21.5    | 4.4 MB    | ####5      |  46% \n",
      "numpy-base-1.21.5    | 4.4 MB    | ####6      |  47% \n",
      "numpy-base-1.21.5    | 4.4 MB    | #####1     |  51% \n",
      "numpy-base-1.21.5    | 4.4 MB    | #####2     |  53% \n",
      "numpy-base-1.21.5    | 4.4 MB    | #####4     |  54% \n",
      "numpy-base-1.21.5    | 4.4 MB    | #####6     |  56% \n",
      "numpy-base-1.21.5    | 4.4 MB    | #####8     |  59% \n",
      "numpy-base-1.21.5    | 4.4 MB    | #####9     |  60% \n",
      "numpy-base-1.21.5    | 4.4 MB    | ######1    |  62% \n",
      "numpy-base-1.21.5    | 4.4 MB    | ######4    |  65% \n",
      "numpy-base-1.21.5    | 4.4 MB    | ######6    |  66% \n",
      "numpy-base-1.21.5    | 4.4 MB    | ######7    |  68% \n",
      "numpy-base-1.21.5    | 4.4 MB    | ######9    |  69% \n",
      "numpy-base-1.21.5    | 4.4 MB    | #######    |  71% \n",
      "numpy-base-1.21.5    | 4.4 MB    | #######1   |  72% \n",
      "numpy-base-1.21.5    | 4.4 MB    | #######3   |  73% \n",
      "numpy-base-1.21.5    | 4.4 MB    | #######4   |  74% \n",
      "numpy-base-1.21.5    | 4.4 MB    | #######5   |  75% \n",
      "numpy-base-1.21.5    | 4.4 MB    | #######6   |  76% \n",
      "numpy-base-1.21.5    | 4.4 MB    | #######7   |  78% \n",
      "numpy-base-1.21.5    | 4.4 MB    | #######9   |  79% \n",
      "numpy-base-1.21.5    | 4.4 MB    | ########1  |  81% \n",
      "numpy-base-1.21.5    | 4.4 MB    | ########2  |  82% \n",
      "numpy-base-1.21.5    | 4.4 MB    | ########3  |  84% \n",
      "numpy-base-1.21.5    | 4.4 MB    | ########4  |  85% \n",
      "numpy-base-1.21.5    | 4.4 MB    | ########6  |  87% \n",
      "numpy-base-1.21.5    | 4.4 MB    | ########8  |  88% \n",
      "numpy-base-1.21.5    | 4.4 MB    | ########9  |  89% \n",
      "numpy-base-1.21.5    | 4.4 MB    | #########  |  90% \n",
      "numpy-base-1.21.5    | 4.4 MB    | #########2 |  93% \n",
      "numpy-base-1.21.5    | 4.4 MB    | #########3 |  94% \n",
      "numpy-base-1.21.5    | 4.4 MB    | #########4 |  95% \n",
      "numpy-base-1.21.5    | 4.4 MB    | #########5 |  96% \n",
      "numpy-base-1.21.5    | 4.4 MB    | #########7 |  97% \n",
      "numpy-base-1.21.5    | 4.4 MB    | #########8 |  98% \n",
      "numpy-base-1.21.5    | 4.4 MB    | #########9 |  99% \n",
      "numpy-base-1.21.5    | 4.4 MB    | ########## | 100% \n",
      "\n",
      "importlib_metadata-4 | 12 KB     |            |   0% \n",
      "importlib_metadata-4 | 12 KB     | ########## | 100% \n",
      "importlib_metadata-4 | 12 KB     | ########## | 100% \n",
      "\n",
      "libssh2-1.10.0       | 222 KB    |            |   0% \n",
      "libssh2-1.10.0       | 222 KB    | 7          |   7% \n",
      "libssh2-1.10.0       | 222 KB    | ##8        |  29% \n",
      "libssh2-1.10.0       | 222 KB    | #####      |  50% \n",
      "libssh2-1.10.0       | 222 KB    | ######4    |  65% \n",
      "libssh2-1.10.0       | 222 KB    | ########## | 100% \n",
      "libssh2-1.10.0       | 222 KB    | ########## | 100% \n",
      "\n",
      "websocket-client-0.5 | 69 KB     |            |   0% \n",
      "websocket-client-0.5 | 69 KB     | ##3        |  23% \n",
      "websocket-client-0.5 | 69 KB     | ######9    |  69% \n",
      "websocket-client-0.5 | 69 KB     | ########## | 100% \n",
      "websocket-client-0.5 | 69 KB     | ########## | 100% \n",
      "\n",
      "matplotlib-base-3.5. | 5.6 MB    |            |   0% \n",
      "matplotlib-base-3.5. | 5.6 MB    |            |   0% \n",
      "matplotlib-base-3.5. | 5.6 MB    |            |   1% \n",
      "matplotlib-base-3.5. | 5.6 MB    | 2          |   3% \n",
      "matplotlib-base-3.5. | 5.6 MB    | 3          |   4% \n",
      "matplotlib-base-3.5. | 5.6 MB    | 5          |   5% \n",
      "matplotlib-base-3.5. | 5.6 MB    | 6          |   6% \n",
      "matplotlib-base-3.5. | 5.6 MB    | 6          |   7% \n",
      "matplotlib-base-3.5. | 5.6 MB    | 7          |   8% \n",
      "matplotlib-base-3.5. | 5.6 MB    | 8          |   9% \n",
      "matplotlib-base-3.5. | 5.6 MB    | #          |  10% \n",
      "matplotlib-base-3.5. | 5.6 MB    | #1         |  11% \n",
      "matplotlib-base-3.5. | 5.6 MB    | #1         |  12% \n",
      "matplotlib-base-3.5. | 5.6 MB    | #2         |  13% \n",
      "matplotlib-base-3.5. | 5.6 MB    | #3         |  14% \n",
      "matplotlib-base-3.5. | 5.6 MB    | #4         |  15% \n",
      "matplotlib-base-3.5. | 5.6 MB    | #6         |  16% \n",
      "matplotlib-base-3.5. | 5.6 MB    | #6         |  17% \n",
      "matplotlib-base-3.5. | 5.6 MB    | #7         |  18% \n",
      "matplotlib-base-3.5. | 5.6 MB    | #9         |  19% \n",
      "matplotlib-base-3.5. | 5.6 MB    | ##         |  20% \n",
      "matplotlib-base-3.5. | 5.6 MB    | ##1        |  22% \n",
      "matplotlib-base-3.5. | 5.6 MB    | ##2        |  23% \n",
      "matplotlib-base-3.5. | 5.6 MB    | ##4        |  24% \n",
      "matplotlib-base-3.5. | 5.6 MB    | ##5        |  26% \n",
      "matplotlib-base-3.5. | 5.6 MB    | ##6        |  27% \n",
      "matplotlib-base-3.5. | 5.6 MB    | ##7        |  28% \n",
      "matplotlib-base-3.5. | 5.6 MB    | ##8        |  28% \n",
      "matplotlib-base-3.5. | 5.6 MB    | ##9        |  29% \n",
      "matplotlib-base-3.5. | 5.6 MB    | ###        |  30% \n",
      "matplotlib-base-3.5. | 5.6 MB    | ###3       |  33% \n",
      "matplotlib-base-3.5. | 5.6 MB    | ###4       |  35% \n",
      "matplotlib-base-3.5. | 5.6 MB    | ###5       |  36% \n",
      "matplotlib-base-3.5. | 5.6 MB    | ###8       |  38% \n",
      "matplotlib-base-3.5. | 5.6 MB    | ###9       |  40% \n",
      "matplotlib-base-3.5. | 5.6 MB    | ####1      |  41% \n",
      "matplotlib-base-3.5. | 5.6 MB    | ####4      |  44% \n",
      "matplotlib-base-3.5. | 5.6 MB    | ####5      |  45% \n",
      "matplotlib-base-3.5. | 5.6 MB    | ####6      |  46% \n",
      "matplotlib-base-3.5. | 5.6 MB    | ####7      |  47% \n",
      "matplotlib-base-3.5. | 5.6 MB    | ####8      |  48% \n",
      "matplotlib-base-3.5. | 5.6 MB    | ####9      |  50% \n",
      "matplotlib-base-3.5. | 5.6 MB    | #####      |  51% \n",
      "matplotlib-base-3.5. | 5.6 MB    | #####3     |  54% \n",
      "matplotlib-base-3.5. | 5.6 MB    | #####4     |  55% \n",
      "matplotlib-base-3.5. | 5.6 MB    | #####5     |  56% \n",
      "matplotlib-base-3.5. | 5.6 MB    | #####8     |  58% \n",
      "matplotlib-base-3.5. | 5.6 MB    | #####9     |  59% \n",
      "matplotlib-base-3.5. | 5.6 MB    | ######     |  60% \n",
      "matplotlib-base-3.5. | 5.6 MB    | ######2    |  63% \n",
      "matplotlib-base-3.5. | 5.6 MB    | ######4    |  64% \n",
      "matplotlib-base-3.5. | 5.6 MB    | ######4    |  65% \n",
      "matplotlib-base-3.5. | 5.6 MB    | ######5    |  66% \n",
      "matplotlib-base-3.5. | 5.6 MB    | ######6    |  67% \n",
      "matplotlib-base-3.5. | 5.6 MB    | ######7    |  68% \n",
      "matplotlib-base-3.5. | 5.6 MB    | ######8    |  69% \n",
      "matplotlib-base-3.5. | 5.6 MB    | ######9    |  70% \n",
      "matplotlib-base-3.5. | 5.6 MB    | #######    |  70% \n",
      "matplotlib-base-3.5. | 5.6 MB    | #######    |  71% \n",
      "matplotlib-base-3.5. | 5.6 MB    | #######3   |  73% \n",
      "matplotlib-base-3.5. | 5.6 MB    | #######4   |  75% \n",
      "matplotlib-base-3.5. | 5.6 MB    | #######5   |  76% \n",
      "matplotlib-base-3.5. | 5.6 MB    | #######7   |  78% \n",
      "matplotlib-base-3.5. | 5.6 MB    | #######8   |  79% \n",
      "matplotlib-base-3.5. | 5.6 MB    | #######9   |  80% \n",
      "matplotlib-base-3.5. | 5.6 MB    | ########   |  81% \n",
      "matplotlib-base-3.5. | 5.6 MB    | ########4  |  85% \n",
      "matplotlib-base-3.5. | 5.6 MB    | ########5  |  85% \n",
      "matplotlib-base-3.5. | 5.6 MB    | ########8  |  89% \n",
      "matplotlib-base-3.5. | 5.6 MB    | #########1 |  91% \n",
      "matplotlib-base-3.5. | 5.6 MB    | #########2 |  92% \n",
      "matplotlib-base-3.5. | 5.6 MB    | #########3 |  94% \n",
      "matplotlib-base-3.5. | 5.6 MB    | #########4 |  94% \n",
      "matplotlib-base-3.5. | 5.6 MB    | #########5 |  95% \n",
      "matplotlib-base-3.5. | 5.6 MB    | #########6 |  96% \n",
      "matplotlib-base-3.5. | 5.6 MB    | #########7 |  97% \n",
      "matplotlib-base-3.5. | 5.6 MB    | #########9 |  99% \n",
      "matplotlib-base-3.5. | 5.6 MB    | ########## | 100% \n",
      "matplotlib-base-3.5. | 5.6 MB    | ########## | 100% \n",
      "\n",
      "widgetsnbextension-3 | 646 KB    |            |   0% \n",
      "widgetsnbextension-3 | 646 KB    | 2          |   2% \n",
      "widgetsnbextension-3 | 646 KB    | 9          |  10% \n",
      "widgetsnbextension-3 | 646 KB    | #7         |  17% \n",
      "widgetsnbextension-3 | 646 KB    | ##4        |  25% \n",
      "widgetsnbextension-3 | 646 KB    | ###4       |  35% \n",
      "widgetsnbextension-3 | 646 KB    | ####2      |  42% \n",
      "widgetsnbextension-3 | 646 KB    | ####9      |  50% \n",
      "widgetsnbextension-3 | 646 KB    | #####6     |  57% \n",
      "widgetsnbextension-3 | 646 KB    | ######6    |  67% \n",
      "widgetsnbextension-3 | 646 KB    | ########9  |  89% \n",
      "widgetsnbextension-3 | 646 KB    | ########## | 100% \n",
      "\n",
      "sqlalchemy-1.4.32    | 1.9 MB    |            |   0% \n",
      "sqlalchemy-1.4.32    | 1.9 MB    |            |   1% \n",
      "sqlalchemy-1.4.32    | 1.9 MB    | 2          |   2% \n",
      "sqlalchemy-1.4.32    | 1.9 MB    | 7          |   7% \n",
      "sqlalchemy-1.4.32    | 1.9 MB    | #          |  11% \n",
      "sqlalchemy-1.4.32    | 1.9 MB    | #3         |  13% \n",
      "sqlalchemy-1.4.32    | 1.9 MB    | #5         |  16% \n",
      "sqlalchemy-1.4.32    | 1.9 MB    | #8         |  18% \n",
      "sqlalchemy-1.4.32    | 1.9 MB    | ##1        |  21% \n",
      "sqlalchemy-1.4.32    | 1.9 MB    | ##3        |  24% \n",
      "sqlalchemy-1.4.32    | 1.9 MB    | ##8        |  29% \n",
      "sqlalchemy-1.4.32    | 1.9 MB    | ###5       |  35% \n",
      "sqlalchemy-1.4.32    | 1.9 MB    | ###7       |  38% \n",
      "sqlalchemy-1.4.32    | 1.9 MB    | ####2      |  43% \n",
      "sqlalchemy-1.4.32    | 1.9 MB    | ####5      |  45% \n",
      "sqlalchemy-1.4.32    | 1.9 MB    | ####7      |  48% \n",
      "sqlalchemy-1.4.32    | 1.9 MB    | #####      |  50% \n",
      "sqlalchemy-1.4.32    | 1.9 MB    | #####2     |  53% \n",
      "sqlalchemy-1.4.32    | 1.9 MB    | #####6     |  57% \n",
      "sqlalchemy-1.4.32    | 1.9 MB    | #####9     |  59% \n",
      "sqlalchemy-1.4.32    | 1.9 MB    | ######1    |  62% \n",
      "sqlalchemy-1.4.32    | 1.9 MB    | ######7    |  68% \n",
      "sqlalchemy-1.4.32    | 1.9 MB    | #######    |  71% \n",
      "sqlalchemy-1.4.32    | 1.9 MB    | #######9   |  79% \n",
      "sqlalchemy-1.4.32    | 1.9 MB    | ########3  |  83% \n",
      "sqlalchemy-1.4.32    | 1.9 MB    | ########6  |  87% \n",
      "sqlalchemy-1.4.32    | 1.9 MB    | #########2 |  92% \n",
      "sqlalchemy-1.4.32    | 1.9 MB    | ########## | 100% \n",
      "sqlalchemy-1.4.32    | 1.9 MB    | ########## | 100% \n",
      "\n",
      "dask-core-2022.2.1   | 747 KB    |            |   0% \n",
      "dask-core-2022.2.1   | 747 KB    | 2          |   2% \n",
      "dask-core-2022.2.1   | 747 KB    | 4          |   4% \n",
      "dask-core-2022.2.1   | 747 KB    | 8          |   9% \n",
      "dask-core-2022.2.1   | 747 KB    | #9         |  19% \n",
      "dask-core-2022.2.1   | 747 KB    | ##5        |  26% \n",
      "dask-core-2022.2.1   | 747 KB    | ###2       |  32% \n",
      "dask-core-2022.2.1   | 747 KB    | ####9      |  49% \n",
      "dask-core-2022.2.1   | 747 KB    | #####3     |  54% \n",
      "dask-core-2022.2.1   | 747 KB    | ######2    |  62% \n",
      "dask-core-2022.2.1   | 747 KB    | #######    |  71% \n",
      "dask-core-2022.2.1   | 747 KB    | #######7   |  77% \n",
      "dask-core-2022.2.1   | 747 KB    | #########6 |  96% \n",
      "dask-core-2022.2.1   | 747 KB    | ########## | 100% \n",
      "\n",
      "xlsxwriter-3.0.3     | 113 KB    |            |   0% \n",
      "xlsxwriter-3.0.3     | 113 KB    | #4         |  14% \n",
      "xlsxwriter-3.0.3     | 113 KB    | #####6     |  57% \n",
      "xlsxwriter-3.0.3     | 113 KB    | ########## | 100% \n",
      "xlsxwriter-3.0.3     | 113 KB    | ########## | 100% \n",
      "\n",
      "ujson-5.1.0          | 50 KB     |            |   0% \n",
      "ujson-5.1.0          | 50 KB     | ###2       |  32% \n",
      "ujson-5.1.0          | 50 KB     | ######4    |  64% \n",
      "ujson-5.1.0          | 50 KB     | ########## | 100% \n",
      "\n",
      "paramiko-2.8.1       | 139 KB    |            |   0% \n",
      "paramiko-2.8.1       | 139 KB    | #1         |  11% \n",
      "paramiko-2.8.1       | 139 KB    | ##2        |  23% \n",
      "paramiko-2.8.1       | 139 KB    | #########1 |  92% \n",
      "paramiko-2.8.1       | 139 KB    | ########## | 100% \n",
      "\n",
      "jupyterlab-3.3.2     | 3.6 MB    |            |   0% \n",
      "jupyterlab-3.3.2     | 3.6 MB    |            |   0% \n",
      "jupyterlab-3.3.2     | 3.6 MB    | 1          |   1% \n",
      "jupyterlab-3.3.2     | 3.6 MB    | 2          |   2% \n",
      "jupyterlab-3.3.2     | 3.6 MB    | 5          |   5% \n",
      "jupyterlab-3.3.2     | 3.6 MB    | 6          |   6% \n",
      "jupyterlab-3.3.2     | 3.6 MB    | 7          |   8% \n",
      "jupyterlab-3.3.2     | 3.6 MB    | 8          |   9% \n",
      "jupyterlab-3.3.2     | 3.6 MB    | #          |  10% \n",
      "jupyterlab-3.3.2     | 3.6 MB    | #1         |  11% \n",
      "jupyterlab-3.3.2     | 3.6 MB    | #1         |  12% \n",
      "jupyterlab-3.3.2     | 3.6 MB    | #3         |  13% \n",
      "jupyterlab-3.3.2     | 3.6 MB    | #4         |  15% \n",
      "jupyterlab-3.3.2     | 3.6 MB    | #5         |  16% \n",
      "jupyterlab-3.3.2     | 3.6 MB    | #7         |  17% \n",
      "jupyterlab-3.3.2     | 3.6 MB    | #8         |  18% \n",
      "jupyterlab-3.3.2     | 3.6 MB    | #9         |  20% \n",
      "jupyterlab-3.3.2     | 3.6 MB    | ##3        |  24% \n",
      "jupyterlab-3.3.2     | 3.6 MB    | ##5        |  26% \n",
      "jupyterlab-3.3.2     | 3.6 MB    | ##7        |  27% \n",
      "jupyterlab-3.3.2     | 3.6 MB    | ###2       |  32% \n",
      "jupyterlab-3.3.2     | 3.6 MB    | ###4       |  34% \n",
      "jupyterlab-3.3.2     | 3.6 MB    | ###5       |  36% \n",
      "jupyterlab-3.3.2     | 3.6 MB    | ###7       |  38% \n",
      "jupyterlab-3.3.2     | 3.6 MB    | ###8       |  39% \n",
      "jupyterlab-3.3.2     | 3.6 MB    | ####3      |  44% \n",
      "jupyterlab-3.3.2     | 3.6 MB    | ####5      |  46% \n",
      "jupyterlab-3.3.2     | 3.6 MB    | ####7      |  47% \n",
      "jupyterlab-3.3.2     | 3.6 MB    | #####      |  51% \n",
      "jupyterlab-3.3.2     | 3.6 MB    | #####2     |  52% \n",
      "jupyterlab-3.3.2     | 3.6 MB    | #####3     |  54% \n",
      "jupyterlab-3.3.2     | 3.6 MB    | #####5     |  55% \n",
      "jupyterlab-3.3.2     | 3.6 MB    | #####9     |  59% \n",
      "jupyterlab-3.3.2     | 3.6 MB    | ######     |  61% \n",
      "jupyterlab-3.3.2     | 3.6 MB    | ######2    |  62% \n",
      "jupyterlab-3.3.2     | 3.6 MB    | ######4    |  64% \n",
      "jupyterlab-3.3.2     | 3.6 MB    | ######6    |  67% \n",
      "jupyterlab-3.3.2     | 3.6 MB    | ######8    |  68% \n",
      "jupyterlab-3.3.2     | 3.6 MB    | #######    |  70% \n",
      "jupyterlab-3.3.2     | 3.6 MB    | #######1   |  72% \n",
      "jupyterlab-3.3.2     | 3.6 MB    | #######5   |  75% \n",
      "jupyterlab-3.3.2     | 3.6 MB    | #######7   |  77% \n",
      "jupyterlab-3.3.2     | 3.6 MB    | #######8   |  79% \n",
      "jupyterlab-3.3.2     | 3.6 MB    | ########   |  81% \n",
      "jupyterlab-3.3.2     | 3.6 MB    | ########3  |  84% \n",
      "jupyterlab-3.3.2     | 3.6 MB    | ########5  |  86% \n",
      "jupyterlab-3.3.2     | 3.6 MB    | ########7  |  87% \n",
      "jupyterlab-3.3.2     | 3.6 MB    | ########8  |  89% \n",
      "jupyterlab-3.3.2     | 3.6 MB    | #########  |  90% \n",
      "jupyterlab-3.3.2     | 3.6 MB    | #########3 |  93% \n",
      "jupyterlab-3.3.2     | 3.6 MB    | #########5 |  96% \n",
      "jupyterlab-3.3.2     | 3.6 MB    | #########8 |  98% \n",
      "jupyterlab-3.3.2     | 3.6 MB    | ########## | 100% \n",
      "jupyterlab-3.3.2     | 3.6 MB    | ########## | 100% \n",
      "\n",
      "soupsieve-2.3.1      | 34 KB     |            |   0% \n",
      "soupsieve-2.3.1      | 34 KB     | ####6      |  47% \n",
      "soupsieve-2.3.1      | 34 KB     | ########## | 100% \n",
      "\n",
      "mypy_extensions-0.4. | 10 KB     |            |   0% \n",
      "mypy_extensions-0.4. | 10 KB     | ########## | 100% \n",
      "mypy_extensions-0.4. | 10 KB     | ########## | 100% \n",
      "\n",
      "cycler-0.11.0        | 12 KB     |            |   0% \n",
      "cycler-0.11.0        | 12 KB     | ########## | 100% \n",
      "cycler-0.11.0        | 12 KB     | ########## | 100% \n",
      "\n",
      "conda-env-2.6.0      | 3 KB      |            |   0% \n",
      "conda-env-2.6.0      | 3 KB      | ########## | 100% \n",
      "conda-env-2.6.0      | 3 KB      | ########## | 100% \n",
      "\n",
      "scikit-learn-1.0.2   | 5.1 MB    |            |   0% \n",
      "scikit-learn-1.0.2   | 5.1 MB    |            |   0% \n",
      "scikit-learn-1.0.2   | 5.1 MB    |            |   1% \n",
      "scikit-learn-1.0.2   | 5.1 MB    | 1          |   2% \n",
      "scikit-learn-1.0.2   | 5.1 MB    | 3          |   4% \n",
      "scikit-learn-1.0.2   | 5.1 MB    | 5          |   6% \n",
      "scikit-learn-1.0.2   | 5.1 MB    | 6          |   7% \n",
      "scikit-learn-1.0.2   | 5.1 MB    | 9          |   9% \n",
      "scikit-learn-1.0.2   | 5.1 MB    | #          |  10% \n",
      "scikit-learn-1.0.2   | 5.1 MB    | #3         |  13% \n",
      "scikit-learn-1.0.2   | 5.1 MB    | #5         |  15% \n",
      "scikit-learn-1.0.2   | 5.1 MB    | #6         |  16% \n",
      "scikit-learn-1.0.2   | 5.1 MB    | #8         |  19% \n",
      "scikit-learn-1.0.2   | 5.1 MB    | #9         |  20% \n",
      "scikit-learn-1.0.2   | 5.1 MB    | ##         |  21% \n",
      "scikit-learn-1.0.2   | 5.1 MB    | ##1        |  22% \n",
      "scikit-learn-1.0.2   | 5.1 MB    | ##2        |  23% \n",
      "scikit-learn-1.0.2   | 5.1 MB    | ##3        |  24% \n",
      "scikit-learn-1.0.2   | 5.1 MB    | ##7        |  28% \n",
      "scikit-learn-1.0.2   | 5.1 MB    | ##8        |  29% \n",
      "scikit-learn-1.0.2   | 5.1 MB    | ###        |  30% \n",
      "scikit-learn-1.0.2   | 5.1 MB    | ###1       |  31% \n",
      "scikit-learn-1.0.2   | 5.1 MB    | ###2       |  33% \n",
      "scikit-learn-1.0.2   | 5.1 MB    | ###4       |  35% \n",
      "scikit-learn-1.0.2   | 5.1 MB    | ###7       |  38% \n",
      "scikit-learn-1.0.2   | 5.1 MB    | ###8       |  39% \n",
      "scikit-learn-1.0.2   | 5.1 MB    | ####1      |  41% \n",
      "scikit-learn-1.0.2   | 5.1 MB    | ####2      |  42% \n",
      "scikit-learn-1.0.2   | 5.1 MB    | ####4      |  44% \n",
      "scikit-learn-1.0.2   | 5.1 MB    | ####9      |  49% \n",
      "scikit-learn-1.0.2   | 5.1 MB    | #####      |  51% \n",
      "scikit-learn-1.0.2   | 5.1 MB    | #####3     |  54% \n",
      "scikit-learn-1.0.2   | 5.1 MB    | #####5     |  55% \n",
      "scikit-learn-1.0.2   | 5.1 MB    | #####6     |  56% \n",
      "scikit-learn-1.0.2   | 5.1 MB    | #####8     |  58% \n",
      "scikit-learn-1.0.2   | 5.1 MB    | #####9     |  60% \n",
      "scikit-learn-1.0.2   | 5.1 MB    | ######     |  61% \n",
      "scikit-learn-1.0.2   | 5.1 MB    | ######2    |  62% \n",
      "scikit-learn-1.0.2   | 5.1 MB    | ######3    |  63% \n",
      "scikit-learn-1.0.2   | 5.1 MB    | ######5    |  66% \n",
      "scikit-learn-1.0.2   | 5.1 MB    | ######6    |  66% \n",
      "scikit-learn-1.0.2   | 5.1 MB    | ######7    |  67% \n",
      "scikit-learn-1.0.2   | 5.1 MB    | ######9    |  69% \n",
      "scikit-learn-1.0.2   | 5.1 MB    | #######    |  70% \n",
      "scikit-learn-1.0.2   | 5.1 MB    | #######1   |  71% \n",
      "scikit-learn-1.0.2   | 5.1 MB    | #######2   |  72% \n",
      "scikit-learn-1.0.2   | 5.1 MB    | #######3   |  73% \n",
      "scikit-learn-1.0.2   | 5.1 MB    | #######4   |  74% \n",
      "scikit-learn-1.0.2   | 5.1 MB    | #######5   |  75% \n",
      "scikit-learn-1.0.2   | 5.1 MB    | #######5   |  76% \n",
      "scikit-learn-1.0.2   | 5.1 MB    | #######6   |  77% \n",
      "scikit-learn-1.0.2   | 5.1 MB    | #######7   |  78% \n",
      "scikit-learn-1.0.2   | 5.1 MB    | #######8   |  79% \n",
      "scikit-learn-1.0.2   | 5.1 MB    | #######9   |  80% \n",
      "scikit-learn-1.0.2   | 5.1 MB    | ########   |  81% \n",
      "scikit-learn-1.0.2   | 5.1 MB    | ########1  |  82% \n",
      "scikit-learn-1.0.2   | 5.1 MB    | ########2  |  83% \n",
      "scikit-learn-1.0.2   | 5.1 MB    | ########3  |  84% \n",
      "scikit-learn-1.0.2   | 5.1 MB    | ########4  |  85% \n",
      "scikit-learn-1.0.2   | 5.1 MB    | ########5  |  86% \n",
      "scikit-learn-1.0.2   | 5.1 MB    | ########6  |  86% \n",
      "scikit-learn-1.0.2   | 5.1 MB    | ########7  |  87% \n",
      "scikit-learn-1.0.2   | 5.1 MB    | ########8  |  88% \n",
      "scikit-learn-1.0.2   | 5.1 MB    | ########9  |  89% \n",
      "scikit-learn-1.0.2   | 5.1 MB    | #########  |  90% \n",
      "scikit-learn-1.0.2   | 5.1 MB    | #########1 |  92% \n",
      "scikit-learn-1.0.2   | 5.1 MB    | #########2 |  93% \n",
      "scikit-learn-1.0.2   | 5.1 MB    | #########4 |  94% \n",
      "scikit-learn-1.0.2   | 5.1 MB    | #########5 |  95% \n",
      "scikit-learn-1.0.2   | 5.1 MB    | #########6 |  96% \n",
      "scikit-learn-1.0.2   | 5.1 MB    | #########7 |  97% \n",
      "scikit-learn-1.0.2   | 5.1 MB    | #########8 |  98% \n",
      "scikit-learn-1.0.2   | 5.1 MB    | #########9 | 100% \n",
      "scikit-learn-1.0.2   | 5.1 MB    | ########## | 100% \n",
      "\n",
      "bleach-4.1.0         | 123 KB    |            |   0% \n",
      "bleach-4.1.0         | 123 KB    | #3         |  13% \n",
      "bleach-4.1.0         | 123 KB    | #####2     |  52% \n",
      "bleach-4.1.0         | 123 KB    | #########1 |  91% \n",
      "bleach-4.1.0         | 123 KB    | ########## | 100% \n",
      "\n",
      "scikit-learn-intelex | 69 KB     |            |   0% \n",
      "scikit-learn-intelex | 69 KB     | ##3        |  23% \n",
      "scikit-learn-intelex | 69 KB     | ########## | 100% \n",
      "scikit-learn-intelex | 69 KB     | ########## | 100% \n",
      "\n",
      "dal-2021.5.0         | 23.2 MB   |            |   0% \n",
      "dal-2021.5.0         | 23.2 MB   |            |   0% \n",
      "dal-2021.5.0         | 23.2 MB   |            |   0% \n",
      "dal-2021.5.0         | 23.2 MB   |            |   1% \n",
      "dal-2021.5.0         | 23.2 MB   | 1          |   1% \n",
      "dal-2021.5.0         | 23.2 MB   | 1          |   2% \n",
      "dal-2021.5.0         | 23.2 MB   | 1          |   2% \n",
      "dal-2021.5.0         | 23.2 MB   | 2          |   2% \n",
      "dal-2021.5.0         | 23.2 MB   | 2          |   2% \n",
      "dal-2021.5.0         | 23.2 MB   | 2          |   3% \n",
      "dal-2021.5.0         | 23.2 MB   | 2          |   3% \n",
      "dal-2021.5.0         | 23.2 MB   | 3          |   3% \n",
      "dal-2021.5.0         | 23.2 MB   | 3          |   4% \n",
      "dal-2021.5.0         | 23.2 MB   | 3          |   4% \n",
      "dal-2021.5.0         | 23.2 MB   | 4          |   4% \n",
      "dal-2021.5.0         | 23.2 MB   | 4          |   4% \n",
      "dal-2021.5.0         | 23.2 MB   | 4          |   5% \n",
      "dal-2021.5.0         | 23.2 MB   | 4          |   5% \n",
      "dal-2021.5.0         | 23.2 MB   | 4          |   5% \n",
      "dal-2021.5.0         | 23.2 MB   | 5          |   5% \n",
      "dal-2021.5.0         | 23.2 MB   | 5          |   6% \n",
      "dal-2021.5.0         | 23.2 MB   | 6          |   6% \n",
      "dal-2021.5.0         | 23.2 MB   | 6          |   7% \n",
      "dal-2021.5.0         | 23.2 MB   | 7          |   7% \n",
      "dal-2021.5.0         | 23.2 MB   | 7          |   7% \n",
      "dal-2021.5.0         | 23.2 MB   | 8          |   8% \n",
      "dal-2021.5.0         | 23.2 MB   | 8          |   9% \n",
      "dal-2021.5.0         | 23.2 MB   | 8          |   9% \n",
      "dal-2021.5.0         | 23.2 MB   | 9          |   9% \n",
      "dal-2021.5.0         | 23.2 MB   | 9          |   9% \n",
      "dal-2021.5.0         | 23.2 MB   | 9          |  10% \n",
      "dal-2021.5.0         | 23.2 MB   | #          |  10% \n",
      "dal-2021.5.0         | 23.2 MB   | #          |  11% \n",
      "dal-2021.5.0         | 23.2 MB   | #          |  11% \n",
      "dal-2021.5.0         | 23.2 MB   | #1         |  11% \n",
      "dal-2021.5.0         | 23.2 MB   | #1         |  12% \n",
      "dal-2021.5.0         | 23.2 MB   | #1         |  12% \n",
      "dal-2021.5.0         | 23.2 MB   | #2         |  12% \n",
      "dal-2021.5.0         | 23.2 MB   | #2         |  12% \n",
      "dal-2021.5.0         | 23.2 MB   | #2         |  13% \n",
      "dal-2021.5.0         | 23.2 MB   | #3         |  13% \n",
      "dal-2021.5.0         | 23.2 MB   | #3         |  14% \n",
      "dal-2021.5.0         | 23.2 MB   | #4         |  14% \n",
      "dal-2021.5.0         | 23.2 MB   | #4         |  14% \n",
      "dal-2021.5.0         | 23.2 MB   | #4         |  15% \n",
      "dal-2021.5.0         | 23.2 MB   | #5         |  15% \n",
      "dal-2021.5.0         | 23.2 MB   | #5         |  16% \n",
      "dal-2021.5.0         | 23.2 MB   | #5         |  16% \n",
      "dal-2021.5.0         | 23.2 MB   | #6         |  16% \n",
      "dal-2021.5.0         | 23.2 MB   | #6         |  16% \n",
      "dal-2021.5.0         | 23.2 MB   | #6         |  17% \n",
      "dal-2021.5.0         | 23.2 MB   | #7         |  17% \n",
      "dal-2021.5.0         | 23.2 MB   | #7         |  17% \n",
      "dal-2021.5.0         | 23.2 MB   | #8         |  18% \n",
      "dal-2021.5.0         | 23.2 MB   | #8         |  19% \n",
      "dal-2021.5.0         | 23.2 MB   | #9         |  19% \n",
      "dal-2021.5.0         | 23.2 MB   | #9         |  19% \n",
      "dal-2021.5.0         | 23.2 MB   | #9         |  20% \n",
      "dal-2021.5.0         | 23.2 MB   | #9         |  20% \n",
      "dal-2021.5.0         | 23.2 MB   | ##         |  21% \n",
      "dal-2021.5.0         | 23.2 MB   | ##         |  21% \n",
      "dal-2021.5.0         | 23.2 MB   | ##1        |  21% \n",
      "dal-2021.5.0         | 23.2 MB   | ##1        |  21% \n",
      "dal-2021.5.0         | 23.2 MB   | ##2        |  22% \n",
      "dal-2021.5.0         | 23.2 MB   | ##2        |  22% \n",
      "dal-2021.5.0         | 23.2 MB   | ##2        |  23% \n",
      "dal-2021.5.0         | 23.2 MB   | ##3        |  23% \n",
      "dal-2021.5.0         | 23.2 MB   | ##3        |  23% \n",
      "dal-2021.5.0         | 23.2 MB   | ##3        |  24% \n",
      "dal-2021.5.0         | 23.2 MB   | ##4        |  24% \n",
      "dal-2021.5.0         | 23.2 MB   | ##5        |  25% \n",
      "dal-2021.5.0         | 23.2 MB   | ##5        |  25% \n",
      "dal-2021.5.0         | 23.2 MB   | ##5        |  26% \n",
      "dal-2021.5.0         | 23.2 MB   | ##6        |  26% \n",
      "dal-2021.5.0         | 23.2 MB   | ##6        |  26% \n",
      "dal-2021.5.0         | 23.2 MB   | ##6        |  27% \n",
      "dal-2021.5.0         | 23.2 MB   | ##6        |  27% \n",
      "dal-2021.5.0         | 23.2 MB   | ##7        |  27% \n",
      "dal-2021.5.0         | 23.2 MB   | ##7        |  27% \n",
      "dal-2021.5.0         | 23.2 MB   | ##7        |  28% \n",
      "dal-2021.5.0         | 23.2 MB   | ##8        |  28% \n",
      "dal-2021.5.0         | 23.2 MB   | ##8        |  28% \n",
      "dal-2021.5.0         | 23.2 MB   | ##8        |  29% \n",
      "dal-2021.5.0         | 23.2 MB   | ##8        |  29% \n",
      "dal-2021.5.0         | 23.2 MB   | ##8        |  29% \n",
      "dal-2021.5.0         | 23.2 MB   | ##9        |  29% \n",
      "dal-2021.5.0         | 23.2 MB   | ##9        |  29% \n",
      "dal-2021.5.0         | 23.2 MB   | ##9        |  29% \n",
      "dal-2021.5.0         | 23.2 MB   | ##9        |  30% \n",
      "dal-2021.5.0         | 23.2 MB   | ###        |  30% \n",
      "dal-2021.5.0         | 23.2 MB   | ###        |  31% \n",
      "dal-2021.5.0         | 23.2 MB   | ###        |  31% \n",
      "dal-2021.5.0         | 23.2 MB   | ###1       |  31% \n",
      "dal-2021.5.0         | 23.2 MB   | ###1       |  32% \n",
      "dal-2021.5.0         | 23.2 MB   | ###2       |  32% \n",
      "dal-2021.5.0         | 23.2 MB   | ###2       |  33% \n",
      "dal-2021.5.0         | 23.2 MB   | ###2       |  33% \n",
      "dal-2021.5.0         | 23.2 MB   | ###3       |  33% \n",
      "dal-2021.5.0         | 23.2 MB   | ###3       |  34% \n",
      "dal-2021.5.0         | 23.2 MB   | ###3       |  34% \n",
      "dal-2021.5.0         | 23.2 MB   | ###4       |  34% \n",
      "dal-2021.5.0         | 23.2 MB   | ###4       |  35% \n",
      "dal-2021.5.0         | 23.2 MB   | ###4       |  35% \n",
      "dal-2021.5.0         | 23.2 MB   | ###5       |  35% \n",
      "dal-2021.5.0         | 23.2 MB   | ###5       |  36% \n",
      "dal-2021.5.0         | 23.2 MB   | ###6       |  36% \n",
      "dal-2021.5.0         | 23.2 MB   | ###6       |  37% \n",
      "dal-2021.5.0         | 23.2 MB   | ###6       |  37% \n",
      "dal-2021.5.0         | 23.2 MB   | ###7       |  37% \n",
      "dal-2021.5.0         | 23.2 MB   | ###7       |  37% \n",
      "dal-2021.5.0         | 23.2 MB   | ###7       |  38% \n",
      "dal-2021.5.0         | 23.2 MB   | ###7       |  38% \n",
      "dal-2021.5.0         | 23.2 MB   | ###8       |  38% \n",
      "dal-2021.5.0         | 23.2 MB   | ###8       |  38% \n",
      "dal-2021.5.0         | 23.2 MB   | ###8       |  39% \n",
      "dal-2021.5.0         | 23.2 MB   | ###9       |  39% \n",
      "dal-2021.5.0         | 23.2 MB   | ###9       |  39% \n",
      "dal-2021.5.0         | 23.2 MB   | ###9       |  40% \n",
      "dal-2021.5.0         | 23.2 MB   | ###9       |  40% \n",
      "dal-2021.5.0         | 23.2 MB   | ####       |  40% \n",
      "dal-2021.5.0         | 23.2 MB   | ####       |  40% \n",
      "dal-2021.5.0         | 23.2 MB   | ####1      |  41% \n",
      "dal-2021.5.0         | 23.2 MB   | ####1      |  41% \n",
      "dal-2021.5.0         | 23.2 MB   | ####1      |  41% \n",
      "dal-2021.5.0         | 23.2 MB   | ####2      |  42% \n",
      "dal-2021.5.0         | 23.2 MB   | ####2      |  42% \n",
      "dal-2021.5.0         | 23.2 MB   | ####2      |  43% \n",
      "dal-2021.5.0         | 23.2 MB   | ####3      |  43% \n",
      "dal-2021.5.0         | 23.2 MB   | ####3      |  43% \n",
      "dal-2021.5.0         | 23.2 MB   | ####3      |  44% \n",
      "dal-2021.5.0         | 23.2 MB   | ####3      |  44% \n",
      "dal-2021.5.0         | 23.2 MB   | ####4      |  44% \n",
      "dal-2021.5.0         | 23.2 MB   | ####4      |  45% \n",
      "dal-2021.5.0         | 23.2 MB   | ####4      |  45% \n",
      "dal-2021.5.0         | 23.2 MB   | ####4      |  45% \n",
      "dal-2021.5.0         | 23.2 MB   | ####5      |  45% \n",
      "dal-2021.5.0         | 23.2 MB   | ####5      |  46% \n",
      "dal-2021.5.0         | 23.2 MB   | ####5      |  46% \n",
      "dal-2021.5.0         | 23.2 MB   | ####5      |  46% \n",
      "dal-2021.5.0         | 23.2 MB   | ####6      |  46% \n",
      "dal-2021.5.0         | 23.2 MB   | ####6      |  46% \n",
      "dal-2021.5.0         | 23.2 MB   | ####6      |  47% \n",
      "dal-2021.5.0         | 23.2 MB   | ####6      |  47% \n",
      "dal-2021.5.0         | 23.2 MB   | ####7      |  47% \n",
      "dal-2021.5.0         | 23.2 MB   | ####7      |  47% \n",
      "dal-2021.5.0         | 23.2 MB   | ####7      |  48% \n",
      "dal-2021.5.0         | 23.2 MB   | ####7      |  48% \n",
      "dal-2021.5.0         | 23.2 MB   | ####8      |  48% \n",
      "dal-2021.5.0         | 23.2 MB   | ####8      |  48% \n",
      "dal-2021.5.0         | 23.2 MB   | ####8      |  49% \n",
      "dal-2021.5.0         | 23.2 MB   | ####9      |  49% \n",
      "dal-2021.5.0         | 23.2 MB   | ####9      |  50% \n",
      "dal-2021.5.0         | 23.2 MB   | ####9      |  50% \n",
      "dal-2021.5.0         | 23.2 MB   | #####      |  50% \n",
      "dal-2021.5.0         | 23.2 MB   | #####      |  50% \n",
      "dal-2021.5.0         | 23.2 MB   | #####      |  50% \n",
      "dal-2021.5.0         | 23.2 MB   | #####      |  51% \n",
      "dal-2021.5.0         | 23.2 MB   | #####1     |  51% \n",
      "dal-2021.5.0         | 23.2 MB   | #####1     |  51% \n",
      "dal-2021.5.0         | 23.2 MB   | #####1     |  52% \n",
      "dal-2021.5.0         | 23.2 MB   | #####2     |  52% \n",
      "dal-2021.5.0         | 23.2 MB   | #####2     |  52% \n",
      "dal-2021.5.0         | 23.2 MB   | #####2     |  53% \n",
      "dal-2021.5.0         | 23.2 MB   | #####2     |  53% \n",
      "dal-2021.5.0         | 23.2 MB   | #####3     |  53% \n",
      "dal-2021.5.0         | 23.2 MB   | #####3     |  54% \n",
      "dal-2021.5.0         | 23.2 MB   | #####3     |  54% \n",
      "dal-2021.5.0         | 23.2 MB   | #####3     |  54% \n",
      "dal-2021.5.0         | 23.2 MB   | #####4     |  54% \n",
      "dal-2021.5.0         | 23.2 MB   | #####4     |  54% \n",
      "dal-2021.5.0         | 23.2 MB   | #####4     |  55% \n",
      "dal-2021.5.0         | 23.2 MB   | #####4     |  55% \n",
      "dal-2021.5.0         | 23.2 MB   | #####5     |  55% \n",
      "dal-2021.5.0         | 23.2 MB   | #####5     |  56% \n",
      "dal-2021.5.0         | 23.2 MB   | #####5     |  56% \n",
      "dal-2021.5.0         | 23.2 MB   | #####6     |  56% \n",
      "dal-2021.5.0         | 23.2 MB   | #####6     |  56% \n",
      "dal-2021.5.0         | 23.2 MB   | #####6     |  57% \n",
      "dal-2021.5.0         | 23.2 MB   | #####6     |  57% \n",
      "dal-2021.5.0         | 23.2 MB   | #####7     |  57% \n",
      "dal-2021.5.0         | 23.2 MB   | #####7     |  57% \n",
      "dal-2021.5.0         | 23.2 MB   | #####7     |  58% \n",
      "dal-2021.5.0         | 23.2 MB   | #####8     |  58% \n",
      "dal-2021.5.0         | 23.2 MB   | #####8     |  58% \n",
      "dal-2021.5.0         | 23.2 MB   | #####8     |  59% \n",
      "dal-2021.5.0         | 23.2 MB   | #####8     |  59% \n",
      "dal-2021.5.0         | 23.2 MB   | #####9     |  59% \n",
      "dal-2021.5.0         | 23.2 MB   | #####9     |  59% \n",
      "dal-2021.5.0         | 23.2 MB   | #####9     |  60% \n",
      "dal-2021.5.0         | 23.2 MB   | #####9     |  60% \n",
      "dal-2021.5.0         | 23.2 MB   | ######     |  60% \n",
      "dal-2021.5.0         | 23.2 MB   | ######     |  61% \n",
      "dal-2021.5.0         | 23.2 MB   | ######     |  61% \n",
      "dal-2021.5.0         | 23.2 MB   | ######1    |  61% \n",
      "dal-2021.5.0         | 23.2 MB   | ######1    |  62% \n",
      "dal-2021.5.0         | 23.2 MB   | ######1    |  62% \n",
      "dal-2021.5.0         | 23.2 MB   | ######2    |  62% \n",
      "dal-2021.5.0         | 23.2 MB   | ######2    |  62% \n",
      "dal-2021.5.0         | 23.2 MB   | ######2    |  63% \n",
      "dal-2021.5.0         | 23.2 MB   | ######2    |  63% \n",
      "dal-2021.5.0         | 23.2 MB   | ######3    |  63% \n",
      "dal-2021.5.0         | 23.2 MB   | ######3    |  64% \n",
      "dal-2021.5.0         | 23.2 MB   | ######3    |  64% \n",
      "dal-2021.5.0         | 23.2 MB   | ######4    |  64% \n",
      "dal-2021.5.0         | 23.2 MB   | ######4    |  65% \n",
      "dal-2021.5.0         | 23.2 MB   | ######5    |  65% \n",
      "dal-2021.5.0         | 23.2 MB   | ######5    |  65% \n",
      "dal-2021.5.0         | 23.2 MB   | ######5    |  66% \n",
      "dal-2021.5.0         | 23.2 MB   | ######6    |  66% \n",
      "dal-2021.5.0         | 23.2 MB   | ######6    |  66% \n",
      "dal-2021.5.0         | 23.2 MB   | ######6    |  66% \n",
      "dal-2021.5.0         | 23.2 MB   | ######6    |  67% \n",
      "dal-2021.5.0         | 23.2 MB   | ######6    |  67% \n",
      "dal-2021.5.0         | 23.2 MB   | ######7    |  67% \n",
      "dal-2021.5.0         | 23.2 MB   | ######7    |  67% \n",
      "dal-2021.5.0         | 23.2 MB   | ######8    |  68% \n",
      "dal-2021.5.0         | 23.2 MB   | ######8    |  68% \n",
      "dal-2021.5.0         | 23.2 MB   | ######9    |  69% \n",
      "dal-2021.5.0         | 23.2 MB   | ######9    |  69% \n",
      "dal-2021.5.0         | 23.2 MB   | ######9    |  70% \n",
      "dal-2021.5.0         | 23.2 MB   | #######    |  70% \n",
      "dal-2021.5.0         | 23.2 MB   | #######    |  71% \n",
      "dal-2021.5.0         | 23.2 MB   | #######    |  71% \n",
      "dal-2021.5.0         | 23.2 MB   | #######1   |  71% \n",
      "dal-2021.5.0         | 23.2 MB   | #######1   |  71% \n",
      "dal-2021.5.0         | 23.2 MB   | #######1   |  72% \n",
      "dal-2021.5.0         | 23.2 MB   | #######2   |  72% \n",
      "dal-2021.5.0         | 23.2 MB   | #######2   |  72% \n",
      "dal-2021.5.0         | 23.2 MB   | #######2   |  73% \n",
      "dal-2021.5.0         | 23.2 MB   | #######3   |  73% \n",
      "dal-2021.5.0         | 23.2 MB   | #######3   |  74% \n",
      "dal-2021.5.0         | 23.2 MB   | #######4   |  74% \n",
      "dal-2021.5.0         | 23.2 MB   | #######5   |  75% \n",
      "dal-2021.5.0         | 23.2 MB   | #######5   |  75% \n",
      "dal-2021.5.0         | 23.2 MB   | #######5   |  76% \n",
      "dal-2021.5.0         | 23.2 MB   | #######6   |  76% \n",
      "dal-2021.5.0         | 23.2 MB   | #######6   |  76% \n",
      "dal-2021.5.0         | 23.2 MB   | #######6   |  77% \n",
      "dal-2021.5.0         | 23.2 MB   | #######6   |  77% \n",
      "dal-2021.5.0         | 23.2 MB   | #######7   |  77% \n",
      "dal-2021.5.0         | 23.2 MB   | #######7   |  77% \n",
      "dal-2021.5.0         | 23.2 MB   | #######7   |  78% \n",
      "dal-2021.5.0         | 23.2 MB   | #######7   |  78% \n",
      "dal-2021.5.0         | 23.2 MB   | #######8   |  78% \n",
      "dal-2021.5.0         | 23.2 MB   | #######8   |  79% \n",
      "dal-2021.5.0         | 23.2 MB   | #######8   |  79% \n",
      "dal-2021.5.0         | 23.2 MB   | #######9   |  79% \n",
      "dal-2021.5.0         | 23.2 MB   | #######9   |  79% \n",
      "dal-2021.5.0         | 23.2 MB   | #######9   |  80% \n",
      "dal-2021.5.0         | 23.2 MB   | #######9   |  80% \n",
      "dal-2021.5.0         | 23.2 MB   | ########   |  80% \n",
      "dal-2021.5.0         | 23.2 MB   | ########   |  81% \n",
      "dal-2021.5.0         | 23.2 MB   | ########   |  81% \n",
      "dal-2021.5.0         | 23.2 MB   | ########1  |  81% \n",
      "dal-2021.5.0         | 23.2 MB   | ########1  |  81% \n",
      "dal-2021.5.0         | 23.2 MB   | ########1  |  81% \n",
      "dal-2021.5.0         | 23.2 MB   | ########1  |  82% \n",
      "dal-2021.5.0         | 23.2 MB   | ########1  |  82% \n",
      "dal-2021.5.0         | 23.2 MB   | ########2  |  82% \n",
      "dal-2021.5.0         | 23.2 MB   | ########2  |  83% \n",
      "dal-2021.5.0         | 23.2 MB   | ########2  |  83% \n",
      "dal-2021.5.0         | 23.2 MB   | ########3  |  84% \n",
      "dal-2021.5.0         | 23.2 MB   | ########3  |  84% \n",
      "dal-2021.5.0         | 23.2 MB   | ########3  |  84% \n",
      "dal-2021.5.0         | 23.2 MB   | ########4  |  84% \n",
      "dal-2021.5.0         | 23.2 MB   | ########4  |  85% \n",
      "dal-2021.5.0         | 23.2 MB   | ########4  |  85% \n",
      "dal-2021.5.0         | 23.2 MB   | ########5  |  85% \n",
      "dal-2021.5.0         | 23.2 MB   | ########5  |  86% \n",
      "dal-2021.5.0         | 23.2 MB   | ########5  |  86% \n",
      "dal-2021.5.0         | 23.2 MB   | ########6  |  86% \n",
      "dal-2021.5.0         | 23.2 MB   | ########6  |  87% \n",
      "dal-2021.5.0         | 23.2 MB   | ########6  |  87% \n",
      "dal-2021.5.0         | 23.2 MB   | ########7  |  87% \n",
      "dal-2021.5.0         | 23.2 MB   | ########7  |  88% \n",
      "dal-2021.5.0         | 23.2 MB   | ########7  |  88% \n",
      "dal-2021.5.0         | 23.2 MB   | ########8  |  88% \n",
      "dal-2021.5.0         | 23.2 MB   | ########8  |  88% \n",
      "dal-2021.5.0         | 23.2 MB   | ########8  |  88% \n",
      "dal-2021.5.0         | 23.2 MB   | ########8  |  89% \n",
      "dal-2021.5.0         | 23.2 MB   | ########8  |  89% \n",
      "dal-2021.5.0         | 23.2 MB   | ########9  |  89% \n",
      "dal-2021.5.0         | 23.2 MB   | ########9  |  89% \n",
      "dal-2021.5.0         | 23.2 MB   | ########9  |  90% \n",
      "dal-2021.5.0         | 23.2 MB   | ########9  |  90% \n",
      "dal-2021.5.0         | 23.2 MB   | #########  |  90% \n",
      "dal-2021.5.0         | 23.2 MB   | #########  |  90% \n",
      "dal-2021.5.0         | 23.2 MB   | #########  |  90% \n",
      "dal-2021.5.0         | 23.2 MB   | #########  |  91% \n",
      "dal-2021.5.0         | 23.2 MB   | #########1 |  91% \n",
      "dal-2021.5.0         | 23.2 MB   | #########1 |  91% \n",
      "dal-2021.5.0         | 23.2 MB   | #########1 |  92% \n",
      "dal-2021.5.0         | 23.2 MB   | #########1 |  92% \n",
      "dal-2021.5.0         | 23.2 MB   | #########2 |  92% \n",
      "dal-2021.5.0         | 23.2 MB   | #########2 |  93% \n",
      "dal-2021.5.0         | 23.2 MB   | #########3 |  93% \n",
      "dal-2021.5.0         | 23.2 MB   | #########3 |  93% \n",
      "dal-2021.5.0         | 23.2 MB   | #########3 |  93% \n",
      "dal-2021.5.0         | 23.2 MB   | #########4 |  94% \n",
      "dal-2021.5.0         | 23.2 MB   | #########5 |  95% \n",
      "dal-2021.5.0         | 23.2 MB   | #########5 |  96% \n",
      "dal-2021.5.0         | 23.2 MB   | #########6 |  96% \n",
      "dal-2021.5.0         | 23.2 MB   | #########6 |  96% \n",
      "dal-2021.5.0         | 23.2 MB   | #########6 |  97% \n",
      "dal-2021.5.0         | 23.2 MB   | #########6 |  97% \n",
      "dal-2021.5.0         | 23.2 MB   | #########7 |  97% \n",
      "dal-2021.5.0         | 23.2 MB   | #########7 |  98% \n",
      "dal-2021.5.0         | 23.2 MB   | #########7 |  98% \n",
      "dal-2021.5.0         | 23.2 MB   | #########7 |  98% \n",
      "dal-2021.5.0         | 23.2 MB   | #########8 |  98% \n",
      "dal-2021.5.0         | 23.2 MB   | #########8 |  98% \n",
      "dal-2021.5.0         | 23.2 MB   | #########8 |  99% \n",
      "dal-2021.5.0         | 23.2 MB   | #########9 |  99% \n",
      "dal-2021.5.0         | 23.2 MB   | #########9 |  99% \n",
      "dal-2021.5.0         | 23.2 MB   | #########9 | 100% \n",
      "dal-2021.5.0         | 23.2 MB   | ########## | 100% \n",
      "dal-2021.5.0         | 23.2 MB   | ########## | 100% \n",
      "\n",
      "entrypoints-0.4      | 17 KB     |            |   0% \n",
      "entrypoints-0.4      | 17 KB     | #########5 |  96% \n",
      "entrypoints-0.4      | 17 KB     | ########## | 100% \n",
      "\n",
      "tzdata-2022a         | 109 KB    |            |   0% \n",
      "tzdata-2022a         | 109 KB    | #4         |  15% \n",
      "tzdata-2022a         | 109 KB    | ####3      |  44% \n",
      "tzdata-2022a         | 109 KB    | #######3   |  73% \n",
      "tzdata-2022a         | 109 KB    | ########## | 100% \n",
      "tzdata-2022a         | 109 KB    | ########## | 100% \n",
      "\n",
      "sqlite-3.38.3        | 806 KB    |            |   0% \n",
      "sqlite-3.38.3        | 806 KB    | 1          |   2% \n",
      "sqlite-3.38.3        | 806 KB    | 5          |   6% \n",
      "sqlite-3.38.3        | 806 KB    | 7          |   8% \n",
      "sqlite-3.38.3        | 806 KB    | #9         |  20% \n",
      "sqlite-3.38.3        | 806 KB    | ###3       |  34% \n",
      "sqlite-3.38.3        | 806 KB    | ###9       |  40% \n",
      "sqlite-3.38.3        | 806 KB    | ####5      |  46% \n",
      "sqlite-3.38.3        | 806 KB    | #####5     |  56% \n",
      "sqlite-3.38.3        | 806 KB    | ######5    |  66% \n",
      "sqlite-3.38.3        | 806 KB    | #######1   |  71% \n",
      "sqlite-3.38.3        | 806 KB    | #######7   |  77% \n",
      "sqlite-3.38.3        | 806 KB    | ########3  |  83% \n",
      "sqlite-3.38.3        | 806 KB    | #########5 |  95% \n",
      "sqlite-3.38.3        | 806 KB    | ########## | 100% \n",
      "\n",
      "ipython-8.3.0        | 1010 KB   |            |   0% \n",
      "ipython-8.3.0        | 1010 KB   | 1          |   2% \n",
      "ipython-8.3.0        | 1010 KB   | 4          |   5% \n",
      "ipython-8.3.0        | 1010 KB   | 9          |  10% \n",
      "ipython-8.3.0        | 1010 KB   | #2         |  13% \n",
      "ipython-8.3.0        | 1010 KB   | ##2        |  22% \n",
      "ipython-8.3.0        | 1010 KB   | ##6        |  27% \n",
      "ipython-8.3.0        | 1010 KB   | ###1       |  32% \n",
      "ipython-8.3.0        | 1010 KB   | ####1      |  41% \n",
      "ipython-8.3.0        | 1010 KB   | ####9      |  49% \n",
      "ipython-8.3.0        | 1010 KB   | #####5     |  55% \n",
      "ipython-8.3.0        | 1010 KB   | ######3    |  63% \n",
      "ipython-8.3.0        | 1010 KB   | ######9    |  70% \n",
      "ipython-8.3.0        | 1010 KB   | #######9   |  79% \n",
      "ipython-8.3.0        | 1010 KB   | ########5  |  86% \n",
      "ipython-8.3.0        | 1010 KB   | #########5 |  95% \n",
      "ipython-8.3.0        | 1010 KB   | ########## | 100% \n",
      "ipython-8.3.0        | 1010 KB   | ########## | 100% \n",
      "\n",
      "libwebp-1.2.2        | 658 KB    |            |   0% \n",
      "libwebp-1.2.2        | 658 KB    | 2          |   2% \n",
      "libwebp-1.2.2        | 658 KB    | 7          |   7% \n",
      "libwebp-1.2.2        | 658 KB    | #2         |  12% \n",
      "libwebp-1.2.2        | 658 KB    | ##6        |  27% \n",
      "libwebp-1.2.2        | 658 KB    | ###1       |  32% \n",
      "libwebp-1.2.2        | 658 KB    | ####3      |  44% \n",
      "libwebp-1.2.2        | 658 KB    | #####5     |  56% \n",
      "libwebp-1.2.2        | 658 KB    | #######    |  71% \n",
      "libwebp-1.2.2        | 658 KB    | ########   |  80% \n",
      "libwebp-1.2.2        | 658 KB    | ########7  |  88% \n",
      "libwebp-1.2.2        | 658 KB    | ########## | 100% \n",
      "libwebp-1.2.2        | 658 KB    | ########## | 100% \n",
      "\n",
      "bottleneck-1.3.4     | 109 KB    |            |   0% \n",
      "bottleneck-1.3.4     | 109 KB    | #4         |  15% \n",
      "bottleneck-1.3.4     | 109 KB    | #####8     |  59% \n",
      "bottleneck-1.3.4     | 109 KB    | ########## | 100% \n",
      "bottleneck-1.3.4     | 109 KB    | ########## | 100% \n",
      "\n",
      "six-1.16.0           | 18 KB     |            |   0% \n",
      "six-1.16.0           | 18 KB     | ########6  |  87% \n",
      "six-1.16.0           | 18 KB     | ########## | 100% \n",
      "\n",
      "argon2-cffi-bindings | 36 KB     |            |   0% \n",
      "argon2-cffi-bindings | 36 KB     | ####4      |  45% \n",
      "argon2-cffi-bindings | 36 KB     | ########## | 100% \n",
      "\n",
      "nltk-3.7             | 1010 KB   |            |   0% \n",
      "nltk-3.7             | 1010 KB   | 1          |   2% \n",
      "nltk-3.7             | 1010 KB   | 4          |   5% \n",
      "nltk-3.7             | 1010 KB   | #7         |  17% \n",
      "nltk-3.7             | 1010 KB   | ##8        |  29% \n",
      "nltk-3.7             | 1010 KB   | ###4       |  35% \n",
      "nltk-3.7             | 1010 KB   | ####1      |  41% \n",
      "nltk-3.7             | 1010 KB   | ####5      |  46% \n",
      "nltk-3.7             | 1010 KB   | #####3     |  54% \n",
      "nltk-3.7             | 1010 KB   | #####8     |  59% \n",
      "nltk-3.7             | 1010 KB   | ######3    |  63% \n",
      "nltk-3.7             | 1010 KB   | #######4   |  74% \n",
      "nltk-3.7             | 1010 KB   | ########   |  81% \n",
      "nltk-3.7             | 1010 KB   | #########  |  90% \n",
      "nltk-3.7             | 1010 KB   | #########8 |  98% \n",
      "nltk-3.7             | 1010 KB   | ########## | 100% \n",
      "\n",
      "path-16.2.0          | 23 KB     |            |   0% \n",
      "path-16.2.0          | 23 KB     | ######8    |  68% \n",
      "path-16.2.0          | 23 KB     | ########## | 100% \n",
      "\n",
      "typing-extensions-4. | 8 KB      |            |   0% \n",
      "typing-extensions-4. | 8 KB      | ########## | 100% \n",
      "typing-extensions-4. | 8 KB      | ########## | 100% \n",
      "\n",
      "scikit-image-0.19.2  | 9.5 MB    |            |   0% \n",
      "scikit-image-0.19.2  | 9.5 MB    |            |   0% \n",
      "scikit-image-0.19.2  | 9.5 MB    |            |   1% \n",
      "scikit-image-0.19.2  | 9.5 MB    | 1          |   1% \n",
      "scikit-image-0.19.2  | 9.5 MB    | 1          |   1% \n",
      "scikit-image-0.19.2  | 9.5 MB    | 1          |   2% \n",
      "scikit-image-0.19.2  | 9.5 MB    | 2          |   2% \n",
      "scikit-image-0.19.2  | 9.5 MB    | 2          |   3% \n",
      "scikit-image-0.19.2  | 9.5 MB    | 3          |   3% \n",
      "scikit-image-0.19.2  | 9.5 MB    | 3          |   4% \n",
      "scikit-image-0.19.2  | 9.5 MB    | 4          |   5% \n",
      "scikit-image-0.19.2  | 9.5 MB    | 5          |   6% \n",
      "scikit-image-0.19.2  | 9.5 MB    | 6          |   6% \n",
      "scikit-image-0.19.2  | 9.5 MB    | 7          |   7% \n",
      "scikit-image-0.19.2  | 9.5 MB    | #          |  10% \n",
      "scikit-image-0.19.2  | 9.5 MB    | #1         |  11% \n",
      "scikit-image-0.19.2  | 9.5 MB    | #2         |  13% \n",
      "scikit-image-0.19.2  | 9.5 MB    | #3         |  13% \n",
      "scikit-image-0.19.2  | 9.5 MB    | #4         |  15% \n",
      "scikit-image-0.19.2  | 9.5 MB    | #5         |  16% \n",
      "scikit-image-0.19.2  | 9.5 MB    | #6         |  16% \n",
      "scikit-image-0.19.2  | 9.5 MB    | #6         |  17% \n",
      "scikit-image-0.19.2  | 9.5 MB    | #8         |  18% \n",
      "scikit-image-0.19.2  | 9.5 MB    | #8         |  19% \n",
      "scikit-image-0.19.2  | 9.5 MB    | #9         |  19% \n",
      "scikit-image-0.19.2  | 9.5 MB    | ##1        |  21% \n",
      "scikit-image-0.19.2  | 9.5 MB    | ##1        |  22% \n",
      "scikit-image-0.19.2  | 9.5 MB    | ##2        |  22% \n",
      "scikit-image-0.19.2  | 9.5 MB    | ##3        |  24% \n",
      "scikit-image-0.19.2  | 9.5 MB    | ##4        |  24% \n",
      "scikit-image-0.19.2  | 9.5 MB    | ##4        |  25% \n",
      "scikit-image-0.19.2  | 9.5 MB    | ##6        |  26% \n",
      "scikit-image-0.19.2  | 9.5 MB    | ##6        |  27% \n",
      "scikit-image-0.19.2  | 9.5 MB    | ##7        |  28% \n",
      "scikit-image-0.19.2  | 9.5 MB    | ##8        |  28% \n",
      "scikit-image-0.19.2  | 9.5 MB    | ##8        |  29% \n",
      "scikit-image-0.19.2  | 9.5 MB    | ##9        |  30% \n",
      "scikit-image-0.19.2  | 9.5 MB    | ###        |  30% \n",
      "scikit-image-0.19.2  | 9.5 MB    | ###1       |  31% \n",
      "scikit-image-0.19.2  | 9.5 MB    | ###2       |  33% \n",
      "scikit-image-0.19.2  | 9.5 MB    | ###3       |  33% \n",
      "scikit-image-0.19.2  | 9.5 MB    | ###3       |  34% \n",
      "scikit-image-0.19.2  | 9.5 MB    | ###4       |  35% \n",
      "scikit-image-0.19.2  | 9.5 MB    | ###5       |  35% \n",
      "scikit-image-0.19.2  | 9.5 MB    | ###5       |  36% \n",
      "scikit-image-0.19.2  | 9.5 MB    | ###6       |  36% \n",
      "scikit-image-0.19.2  | 9.5 MB    | ###7       |  38% \n",
      "scikit-image-0.19.2  | 9.5 MB    | ###8       |  39% \n",
      "scikit-image-0.19.2  | 9.5 MB    | ###8       |  39% \n",
      "scikit-image-0.19.2  | 9.5 MB    | ####       |  40% \n",
      "scikit-image-0.19.2  | 9.5 MB    | ####1      |  41% \n",
      "scikit-image-0.19.2  | 9.5 MB    | ####1      |  42% \n",
      "scikit-image-0.19.2  | 9.5 MB    | ####2      |  42% \n",
      "scikit-image-0.19.2  | 9.5 MB    | ####2      |  43% \n",
      "scikit-image-0.19.2  | 9.5 MB    | ####3      |  43% \n",
      "scikit-image-0.19.2  | 9.5 MB    | ####4      |  45% \n",
      "scikit-image-0.19.2  | 9.5 MB    | ####5      |  45% \n",
      "scikit-image-0.19.2  | 9.5 MB    | ####6      |  46% \n",
      "scikit-image-0.19.2  | 9.5 MB    | ####7      |  47% \n",
      "scikit-image-0.19.2  | 9.5 MB    | ####8      |  49% \n",
      "scikit-image-0.19.2  | 9.5 MB    | ####9      |  49% \n",
      "scikit-image-0.19.2  | 9.5 MB    | #####      |  50% \n",
      "scikit-image-0.19.2  | 9.5 MB    | #####      |  51% \n",
      "scikit-image-0.19.2  | 9.5 MB    | #####2     |  53% \n",
      "scikit-image-0.19.2  | 9.5 MB    | #####3     |  53% \n",
      "scikit-image-0.19.2  | 9.5 MB    | #####5     |  55% \n",
      "scikit-image-0.19.2  | 9.5 MB    | #####6     |  56% \n",
      "scikit-image-0.19.2  | 9.5 MB    | #####6     |  57% \n",
      "scikit-image-0.19.2  | 9.5 MB    | #####7     |  58% \n",
      "scikit-image-0.19.2  | 9.5 MB    | #####8     |  58% \n",
      "scikit-image-0.19.2  | 9.5 MB    | #####8     |  59% \n",
      "scikit-image-0.19.2  | 9.5 MB    | #####9     |  60% \n",
      "scikit-image-0.19.2  | 9.5 MB    | ######     |  61% \n",
      "scikit-image-0.19.2  | 9.5 MB    | ######1    |  61% \n",
      "scikit-image-0.19.2  | 9.5 MB    | ######1    |  62% \n",
      "scikit-image-0.19.2  | 9.5 MB    | ######4    |  64% \n",
      "scikit-image-0.19.2  | 9.5 MB    | ######4    |  65% \n",
      "scikit-image-0.19.2  | 9.5 MB    | ######6    |  67% \n",
      "scikit-image-0.19.2  | 9.5 MB    | ######7    |  67% \n",
      "scikit-image-0.19.2  | 9.5 MB    | ######9    |  69% \n",
      "scikit-image-0.19.2  | 9.5 MB    | ######9    |  70% \n",
      "scikit-image-0.19.2  | 9.5 MB    | #######1   |  71% \n",
      "scikit-image-0.19.2  | 9.5 MB    | #######2   |  72% \n",
      "scikit-image-0.19.2  | 9.5 MB    | #######2   |  73% \n",
      "scikit-image-0.19.2  | 9.5 MB    | #######3   |  73% \n",
      "scikit-image-0.19.2  | 9.5 MB    | #######4   |  75% \n",
      "scikit-image-0.19.2  | 9.5 MB    | #######5   |  76% \n",
      "scikit-image-0.19.2  | 9.5 MB    | #######6   |  77% \n",
      "scikit-image-0.19.2  | 9.5 MB    | #######7   |  77% \n",
      "scikit-image-0.19.2  | 9.5 MB    | #######7   |  78% \n",
      "scikit-image-0.19.2  | 9.5 MB    | #######8   |  78% \n",
      "scikit-image-0.19.2  | 9.5 MB    | #######8   |  79% \n",
      "scikit-image-0.19.2  | 9.5 MB    | #######9   |  80% \n",
      "scikit-image-0.19.2  | 9.5 MB    | ########   |  80% \n",
      "scikit-image-0.19.2  | 9.5 MB    | ########   |  81% \n",
      "scikit-image-0.19.2  | 9.5 MB    | ########1  |  81% \n",
      "scikit-image-0.19.2  | 9.5 MB    | ########1  |  82% \n",
      "scikit-image-0.19.2  | 9.5 MB    | ########2  |  83% \n",
      "scikit-image-0.19.2  | 9.5 MB    | ########2  |  83% \n",
      "scikit-image-0.19.2  | 9.5 MB    | ########5  |  85% \n",
      "scikit-image-0.19.2  | 9.5 MB    | ########6  |  86% \n",
      "scikit-image-0.19.2  | 9.5 MB    | ########6  |  87% \n",
      "scikit-image-0.19.2  | 9.5 MB    | ########7  |  87% \n",
      "scikit-image-0.19.2  | 9.5 MB    | ########7  |  88% \n",
      "scikit-image-0.19.2  | 9.5 MB    | ########9  |  90% \n",
      "scikit-image-0.19.2  | 9.5 MB    | #########  |  91% \n",
      "scikit-image-0.19.2  | 9.5 MB    | #########1 |  91% \n",
      "scikit-image-0.19.2  | 9.5 MB    | #########2 |  92% \n",
      "scikit-image-0.19.2  | 9.5 MB    | #########2 |  93% \n",
      "scikit-image-0.19.2  | 9.5 MB    | #########3 |  93% \n",
      "scikit-image-0.19.2  | 9.5 MB    | #########3 |  94% \n",
      "scikit-image-0.19.2  | 9.5 MB    | #########4 |  95% \n",
      "scikit-image-0.19.2  | 9.5 MB    | #########6 |  96% \n",
      "scikit-image-0.19.2  | 9.5 MB    | #########6 |  97% \n",
      "scikit-image-0.19.2  | 9.5 MB    | #########7 |  97% \n",
      "scikit-image-0.19.2  | 9.5 MB    | #########7 |  98% \n",
      "scikit-image-0.19.2  | 9.5 MB    | #########9 |  99% \n",
      "scikit-image-0.19.2  | 9.5 MB    | #########9 | 100% \n",
      "scikit-image-0.19.2  | 9.5 MB    | ########## | 100% \n",
      "\n",
      "locket-0.2.1         | 12 KB     |            |   0% \n",
      "locket-0.2.1         | 12 KB     | ########## | 100% \n",
      "locket-0.2.1         | 12 KB     | ########## | 100% \n",
      "\n",
      "bitarray-2.4.1       | 151 KB    |            |   0% \n",
      "bitarray-2.4.1       | 151 KB    | #          |  11% \n",
      "bitarray-2.4.1       | 151 KB    | ##1        |  21% \n",
      "bitarray-2.4.1       | 151 KB    | ######3    |  64% \n",
      "bitarray-2.4.1       | 151 KB    | ########## | 100% \n",
      "\n",
      "zlib-1.2.12          | 116 KB    |            |   0% \n",
      "zlib-1.2.12          | 116 KB    | #3         |  14% \n"
     ]
    },
    {
     "name": "stdout",
     "output_type": "stream",
     "text": [
      "zlib-1.2.12          | 116 KB    | ####1      |  41% \n",
      "zlib-1.2.12          | 116 KB    | ######8    |  69% \n",
      "zlib-1.2.12          | 116 KB    | ########## | 100% \n",
      "zlib-1.2.12          | 116 KB    | ########## | 100% \n",
      "\n",
      "numpy-1.21.5         | 25 KB     |            |   0% \n",
      "numpy-1.21.5         | 25 KB     | ######4    |  64% \n",
      "numpy-1.21.5         | 25 KB     | ########## | 100% \n",
      "\n",
      "libcurl-7.82.0       | 296 KB    |            |   0% \n",
      "libcurl-7.82.0       | 296 KB    | 5          |   5% \n",
      "libcurl-7.82.0       | 296 KB    | ##1        |  22% \n",
      "libcurl-7.82.0       | 296 KB    | ###2       |  32% \n",
      "libcurl-7.82.0       | 296 KB    | ####3      |  43% \n",
      "libcurl-7.82.0       | 296 KB    | #####4     |  54% \n",
      "libcurl-7.82.0       | 296 KB    | #########1 |  92% \n",
      "libcurl-7.82.0       | 296 KB    | ########## | 100% \n",
      "\n",
      "cython-0.29.28       | 1.8 MB    |            |   0% \n",
      "cython-0.29.28       | 1.8 MB    |            |   1% \n",
      "cython-0.29.28       | 1.8 MB    | 2          |   3% \n",
      "cython-0.29.28       | 1.8 MB    | 5          |   5% \n",
      "cython-0.29.28       | 1.8 MB    | 8          |   8% \n",
      "cython-0.29.28       | 1.8 MB    | #4         |  14% \n",
      "cython-0.29.28       | 1.8 MB    | ##         |  20% \n",
      "cython-0.29.28       | 1.8 MB    | ##4        |  24% \n",
      "cython-0.29.28       | 1.8 MB    | ###        |  30% \n",
      "cython-0.29.28       | 1.8 MB    | ###3       |  34% \n",
      "cython-0.29.28       | 1.8 MB    | ###6       |  36% \n",
      "cython-0.29.28       | 1.8 MB    | ####       |  40% \n",
      "cython-0.29.28       | 1.8 MB    | ####2      |  43% \n",
      "cython-0.29.28       | 1.8 MB    | ####7      |  47% \n",
      "cython-0.29.28       | 1.8 MB    | #####      |  51% \n",
      "cython-0.29.28       | 1.8 MB    | #####5     |  55% \n",
      "cython-0.29.28       | 1.8 MB    | ######2    |  62% \n",
      "cython-0.29.28       | 1.8 MB    | #######3   |  74% \n",
      "cython-0.29.28       | 1.8 MB    | ########2  |  83% \n",
      "cython-0.29.28       | 1.8 MB    | ########5  |  85% \n",
      "cython-0.29.28       | 1.8 MB    | #########7 |  98% \n",
      "cython-0.29.28       | 1.8 MB    | ########## | 100% \n",
      "\n",
      "bokeh-2.4.2          | 7.7 MB    |            |   0% \n",
      "bokeh-2.4.2          | 7.7 MB    |            |   0% \n",
      "bokeh-2.4.2          | 7.7 MB    |            |   1% \n",
      "bokeh-2.4.2          | 7.7 MB    | 1          |   1% \n",
      "bokeh-2.4.2          | 7.7 MB    | 2          |   2% \n",
      "bokeh-2.4.2          | 7.7 MB    | 2          |   3% \n",
      "bokeh-2.4.2          | 7.7 MB    | 4          |   4% \n",
      "bokeh-2.4.2          | 7.7 MB    | 4          |   5% \n",
      "bokeh-2.4.2          | 7.7 MB    | 5          |   6% \n",
      "bokeh-2.4.2          | 7.7 MB    | 6          |   7% \n",
      "bokeh-2.4.2          | 7.7 MB    | 7          |   7% \n",
      "bokeh-2.4.2          | 7.7 MB    | 7          |   8% \n",
      "bokeh-2.4.2          | 7.7 MB    | 9          |   9% \n",
      "bokeh-2.4.2          | 7.7 MB    | 9          |  10% \n",
      "bokeh-2.4.2          | 7.7 MB    | #          |  11% \n",
      "bokeh-2.4.2          | 7.7 MB    | #1         |  11% \n",
      "bokeh-2.4.2          | 7.7 MB    | #2         |  13% \n",
      "bokeh-2.4.2          | 7.7 MB    | #3         |  13% \n",
      "bokeh-2.4.2          | 7.7 MB    | #3         |  14% \n",
      "bokeh-2.4.2          | 7.7 MB    | #4         |  15% \n",
      "bokeh-2.4.2          | 7.7 MB    | #5         |  15% \n",
      "bokeh-2.4.2          | 7.7 MB    | #6         |  16% \n",
      "bokeh-2.4.2          | 7.7 MB    | #6         |  17% \n",
      "bokeh-2.4.2          | 7.7 MB    | #7         |  17% \n",
      "bokeh-2.4.2          | 7.7 MB    | #8         |  18% \n",
      "bokeh-2.4.2          | 7.7 MB    | #8         |  19% \n",
      "bokeh-2.4.2          | 7.7 MB    | #9         |  19% \n",
      "bokeh-2.4.2          | 7.7 MB    | ##         |  21% \n",
      "bokeh-2.4.2          | 7.7 MB    | ##1        |  21% \n",
      "bokeh-2.4.2          | 7.7 MB    | ##2        |  23% \n",
      "bokeh-2.4.2          | 7.7 MB    | ##3        |  23% \n",
      "bokeh-2.4.2          | 7.7 MB    | ##4        |  24% \n",
      "bokeh-2.4.2          | 7.7 MB    | ##4        |  25% \n",
      "bokeh-2.4.2          | 7.7 MB    | ##5        |  26% \n",
      "bokeh-2.4.2          | 7.7 MB    | ##6        |  27% \n",
      "bokeh-2.4.2          | 7.7 MB    | ##7        |  28% \n",
      "bokeh-2.4.2          | 7.7 MB    | ##9        |  30% \n",
      "bokeh-2.4.2          | 7.7 MB    | ###1       |  31% \n",
      "bokeh-2.4.2          | 7.7 MB    | ###2       |  32% \n",
      "bokeh-2.4.2          | 7.7 MB    | ###3       |  33% \n",
      "bokeh-2.4.2          | 7.7 MB    | ###4       |  34% \n",
      "bokeh-2.4.2          | 7.7 MB    | ###5       |  35% \n",
      "bokeh-2.4.2          | 7.7 MB    | ###7       |  37% \n",
      "bokeh-2.4.2          | 7.7 MB    | ###8       |  39% \n",
      "bokeh-2.4.2          | 7.7 MB    | ###9       |  39% \n",
      "bokeh-2.4.2          | 7.7 MB    | ####       |  40% \n",
      "bokeh-2.4.2          | 7.7 MB    | ####1      |  41% \n",
      "bokeh-2.4.2          | 7.7 MB    | ####2      |  43% \n",
      "bokeh-2.4.2          | 7.7 MB    | ####3      |  44% \n",
      "bokeh-2.4.2          | 7.7 MB    | ####4      |  44% \n",
      "bokeh-2.4.2          | 7.7 MB    | ####4      |  45% \n",
      "bokeh-2.4.2          | 7.7 MB    | ####5      |  45% \n",
      "bokeh-2.4.2          | 7.7 MB    | ####6      |  46% \n",
      "bokeh-2.4.2          | 7.7 MB    | ####6      |  47% \n",
      "bokeh-2.4.2          | 7.7 MB    | ####7      |  47% \n",
      "bokeh-2.4.2          | 7.7 MB    | ####8      |  48% \n",
      "bokeh-2.4.2          | 7.7 MB    | ####8      |  49% \n",
      "bokeh-2.4.2          | 7.7 MB    | ####9      |  49% \n",
      "bokeh-2.4.2          | 7.7 MB    | #####      |  50% \n",
      "bokeh-2.4.2          | 7.7 MB    | #####1     |  51% \n",
      "bokeh-2.4.2          | 7.7 MB    | #####2     |  52% \n",
      "bokeh-2.4.2          | 7.7 MB    | #####3     |  53% \n",
      "bokeh-2.4.2          | 7.7 MB    | #####3     |  54% \n",
      "bokeh-2.4.2          | 7.7 MB    | #####4     |  55% \n",
      "bokeh-2.4.2          | 7.7 MB    | #####5     |  55% \n",
      "bokeh-2.4.2          | 7.7 MB    | #####5     |  56% \n",
      "bokeh-2.4.2          | 7.7 MB    | #####6     |  56% \n",
      "bokeh-2.4.2          | 7.7 MB    | #####6     |  57% \n",
      "bokeh-2.4.2          | 7.7 MB    | #####7     |  58% \n",
      "bokeh-2.4.2          | 7.7 MB    | #####9     |  59% \n",
      "bokeh-2.4.2          | 7.7 MB    | ######     |  60% \n",
      "bokeh-2.4.2          | 7.7 MB    | ######1    |  61% \n",
      "bokeh-2.4.2          | 7.7 MB    | ######2    |  62% \n",
      "bokeh-2.4.2          | 7.7 MB    | ######2    |  63% \n",
      "bokeh-2.4.2          | 7.7 MB    | ######3    |  64% \n",
      "bokeh-2.4.2          | 7.7 MB    | ######4    |  64% \n",
      "bokeh-2.4.2          | 7.7 MB    | ######5    |  65% \n",
      "bokeh-2.4.2          | 7.7 MB    | ######5    |  66% \n",
      "bokeh-2.4.2          | 7.7 MB    | ######6    |  66% \n",
      "bokeh-2.4.2          | 7.7 MB    | ######6    |  67% \n",
      "bokeh-2.4.2          | 7.7 MB    | ######7    |  68% \n",
      "bokeh-2.4.2          | 7.7 MB    | ######8    |  68% \n",
      "bokeh-2.4.2          | 7.7 MB    | ######9    |  70% \n",
      "bokeh-2.4.2          | 7.7 MB    | #######1   |  72% \n",
      "bokeh-2.4.2          | 7.7 MB    | #######2   |  72% \n",
      "bokeh-2.4.2          | 7.7 MB    | #######2   |  73% \n",
      "bokeh-2.4.2          | 7.7 MB    | #######3   |  74% \n",
      "bokeh-2.4.2          | 7.7 MB    | #######4   |  75% \n",
      "bokeh-2.4.2          | 7.7 MB    | #######6   |  76% \n",
      "bokeh-2.4.2          | 7.7 MB    | #######6   |  77% \n",
      "bokeh-2.4.2          | 7.7 MB    | #######8   |  78% \n",
      "bokeh-2.4.2          | 7.7 MB    | #######8   |  79% \n",
      "bokeh-2.4.2          | 7.7 MB    | #######9   |  79% \n",
      "bokeh-2.4.2          | 7.7 MB    | ########   |  80% \n",
      "bokeh-2.4.2          | 7.7 MB    | ########1  |  81% \n",
      "bokeh-2.4.2          | 7.7 MB    | ########1  |  82% \n",
      "bokeh-2.4.2          | 7.7 MB    | ########2  |  83% \n",
      "bokeh-2.4.2          | 7.7 MB    | ########3  |  83% \n",
      "bokeh-2.4.2          | 7.7 MB    | ########4  |  85% \n",
      "bokeh-2.4.2          | 7.7 MB    | ########5  |  86% \n",
      "bokeh-2.4.2          | 7.7 MB    | ########6  |  86% \n",
      "bokeh-2.4.2          | 7.7 MB    | ########6  |  87% \n",
      "bokeh-2.4.2          | 7.7 MB    | ########7  |  88% \n",
      "bokeh-2.4.2          | 7.7 MB    | ########9  |  89% \n",
      "bokeh-2.4.2          | 7.7 MB    | #########  |  90% \n",
      "bokeh-2.4.2          | 7.7 MB    | #########  |  91% \n",
      "bokeh-2.4.2          | 7.7 MB    | #########1 |  91% \n",
      "bokeh-2.4.2          | 7.7 MB    | #########2 |  92% \n",
      "bokeh-2.4.2          | 7.7 MB    | #########2 |  93% \n",
      "bokeh-2.4.2          | 7.7 MB    | #########3 |  94% \n",
      "bokeh-2.4.2          | 7.7 MB    | #########4 |  94% \n",
      "bokeh-2.4.2          | 7.7 MB    | #########5 |  95% \n",
      "bokeh-2.4.2          | 7.7 MB    | #########6 |  97% \n",
      "bokeh-2.4.2          | 7.7 MB    | #########7 |  98% \n",
      "bokeh-2.4.2          | 7.7 MB    | #########8 |  99% \n",
      "bokeh-2.4.2          | 7.7 MB    | #########9 | 100% \n",
      "bokeh-2.4.2          | 7.7 MB    | ########## | 100% \n",
      "\n",
      "py-1.11.0            | 76 KB     |            |   0% \n",
      "py-1.11.0            | 76 KB     | ##         |  21% \n",
      "py-1.11.0            | 76 KB     | ########## | 100% \n",
      "py-1.11.0            | 76 KB     | ########## | 100% \n",
      "\n",
      "llvmlite-0.38.0      | 13.3 MB   |            |   0% \n",
      "llvmlite-0.38.0      | 13.3 MB   |            |   0% \n",
      "llvmlite-0.38.0      | 13.3 MB   |            |   0% \n",
      "llvmlite-0.38.0      | 13.3 MB   |            |   1% \n",
      "llvmlite-0.38.0      | 13.3 MB   | 1          |   1% \n",
      "llvmlite-0.38.0      | 13.3 MB   | 2          |   2% \n",
      "llvmlite-0.38.0      | 13.3 MB   | 2          |   3% \n",
      "llvmlite-0.38.0      | 13.3 MB   | 3          |   3% \n",
      "llvmlite-0.38.0      | 13.3 MB   | 3          |   4% \n",
      "llvmlite-0.38.0      | 13.3 MB   | 4          |   4% \n",
      "llvmlite-0.38.0      | 13.3 MB   | 5          |   5% \n",
      "llvmlite-0.38.0      | 13.3 MB   | 5          |   6% \n",
      "llvmlite-0.38.0      | 13.3 MB   | 6          |   6% \n",
      "llvmlite-0.38.0      | 13.3 MB   | 6          |   7% \n",
      "llvmlite-0.38.0      | 13.3 MB   | 7          |   7% \n",
      "llvmlite-0.38.0      | 13.3 MB   | 7          |   8% \n",
      "llvmlite-0.38.0      | 13.3 MB   | 8          |   8% \n",
      "llvmlite-0.38.0      | 13.3 MB   | 8          |   9% \n",
      "llvmlite-0.38.0      | 13.3 MB   | 9          |   9% \n",
      "llvmlite-0.38.0      | 13.3 MB   | 9          |  10% \n",
      "llvmlite-0.38.0      | 13.3 MB   | 9          |  10% \n",
      "llvmlite-0.38.0      | 13.3 MB   | #          |  11% \n",
      "llvmlite-0.38.0      | 13.3 MB   | #1         |  11% \n",
      "llvmlite-0.38.0      | 13.3 MB   | #1         |  12% \n",
      "llvmlite-0.38.0      | 13.3 MB   | #2         |  12% \n",
      "llvmlite-0.38.0      | 13.3 MB   | #2         |  13% \n",
      "llvmlite-0.38.0      | 13.3 MB   | #3         |  13% \n",
      "llvmlite-0.38.0      | 13.3 MB   | #3         |  14% \n",
      "llvmlite-0.38.0      | 13.3 MB   | #4         |  14% \n",
      "llvmlite-0.38.0      | 13.3 MB   | #5         |  15% \n",
      "llvmlite-0.38.0      | 13.3 MB   | #5         |  16% \n",
      "llvmlite-0.38.0      | 13.3 MB   | #6         |  17% \n",
      "llvmlite-0.38.0      | 13.3 MB   | #7         |  17% \n",
      "llvmlite-0.38.0      | 13.3 MB   | #7         |  17% \n",
      "llvmlite-0.38.0      | 13.3 MB   | #7         |  18% \n",
      "llvmlite-0.38.0      | 13.3 MB   | #8         |  18% \n",
      "llvmlite-0.38.0      | 13.3 MB   | #8         |  19% \n",
      "llvmlite-0.38.0      | 13.3 MB   | #9         |  19% \n",
      "llvmlite-0.38.0      | 13.3 MB   | #9         |  20% \n",
      "llvmlite-0.38.0      | 13.3 MB   | ##         |  21% \n",
      "llvmlite-0.38.0      | 13.3 MB   | ##1        |  21% \n",
      "llvmlite-0.38.0      | 13.3 MB   | ##1        |  22% \n",
      "llvmlite-0.38.0      | 13.3 MB   | ##2        |  23% \n",
      "llvmlite-0.38.0      | 13.3 MB   | ##3        |  24% \n",
      "llvmlite-0.38.0      | 13.3 MB   | ##4        |  24% \n",
      "llvmlite-0.38.0      | 13.3 MB   | ##4        |  25% \n",
      "llvmlite-0.38.0      | 13.3 MB   | ##6        |  26% \n",
      "llvmlite-0.38.0      | 13.3 MB   | ##6        |  27% \n",
      "llvmlite-0.38.0      | 13.3 MB   | ##7        |  28% \n",
      "llvmlite-0.38.0      | 13.3 MB   | ##8        |  29% \n",
      "llvmlite-0.38.0      | 13.3 MB   | ##9        |  29% \n",
      "llvmlite-0.38.0      | 13.3 MB   | ##9        |  30% \n",
      "llvmlite-0.38.0      | 13.3 MB   | ###        |  30% \n",
      "llvmlite-0.38.0      | 13.3 MB   | ###        |  31% \n",
      "llvmlite-0.38.0      | 13.3 MB   | ###1       |  31% \n",
      "llvmlite-0.38.0      | 13.3 MB   | ###2       |  32% \n",
      "llvmlite-0.38.0      | 13.3 MB   | ###3       |  33% \n",
      "llvmlite-0.38.0      | 13.3 MB   | ###4       |  34% \n",
      "llvmlite-0.38.0      | 13.3 MB   | ###4       |  35% \n",
      "llvmlite-0.38.0      | 13.3 MB   | ###5       |  35% \n",
      "llvmlite-0.38.0      | 13.3 MB   | ###5       |  36% \n",
      "llvmlite-0.38.0      | 13.3 MB   | ###6       |  36% \n",
      "llvmlite-0.38.0      | 13.3 MB   | ###6       |  37% \n",
      "llvmlite-0.38.0      | 13.3 MB   | ###7       |  37% \n",
      "llvmlite-0.38.0      | 13.3 MB   | ###7       |  38% \n",
      "llvmlite-0.38.0      | 13.3 MB   | ###8       |  39% \n",
      "llvmlite-0.38.0      | 13.3 MB   | ###9       |  40% \n",
      "llvmlite-0.38.0      | 13.3 MB   | ####       |  40% \n",
      "llvmlite-0.38.0      | 13.3 MB   | ####       |  41% \n",
      "llvmlite-0.38.0      | 13.3 MB   | ####1      |  41% \n",
      "llvmlite-0.38.0      | 13.3 MB   | ####1      |  42% \n",
      "llvmlite-0.38.0      | 13.3 MB   | ####2      |  42% \n",
      "llvmlite-0.38.0      | 13.3 MB   | ####2      |  43% \n",
      "llvmlite-0.38.0      | 13.3 MB   | ####3      |  43% \n",
      "llvmlite-0.38.0      | 13.3 MB   | ####3      |  44% \n",
      "llvmlite-0.38.0      | 13.3 MB   | ####4      |  44% \n",
      "llvmlite-0.38.0      | 13.3 MB   | ####4      |  45% \n",
      "llvmlite-0.38.0      | 13.3 MB   | ####4      |  45% \n",
      "llvmlite-0.38.0      | 13.3 MB   | ####5      |  45% \n",
      "llvmlite-0.38.0      | 13.3 MB   | ####5      |  46% \n",
      "llvmlite-0.38.0      | 13.3 MB   | ####6      |  46% \n",
      "llvmlite-0.38.0      | 13.3 MB   | ####6      |  47% \n",
      "llvmlite-0.38.0      | 13.3 MB   | ####7      |  47% \n",
      "llvmlite-0.38.0      | 13.3 MB   | ####7      |  48% \n",
      "llvmlite-0.38.0      | 13.3 MB   | ####9      |  49% \n",
      "llvmlite-0.38.0      | 13.3 MB   | ####9      |  50% \n",
      "llvmlite-0.38.0      | 13.3 MB   | #####1     |  51% \n",
      "llvmlite-0.38.0      | 13.3 MB   | #####1     |  52% \n",
      "llvmlite-0.38.0      | 13.3 MB   | #####2     |  52% \n",
      "llvmlite-0.38.0      | 13.3 MB   | #####3     |  53% \n",
      "llvmlite-0.38.0      | 13.3 MB   | #####3     |  54% \n",
      "llvmlite-0.38.0      | 13.3 MB   | #####4     |  55% \n",
      "llvmlite-0.38.0      | 13.3 MB   | #####5     |  55% \n",
      "llvmlite-0.38.0      | 13.3 MB   | #####5     |  56% \n",
      "llvmlite-0.38.0      | 13.3 MB   | #####6     |  56% \n",
      "llvmlite-0.38.0      | 13.3 MB   | #####6     |  57% \n",
      "llvmlite-0.38.0      | 13.3 MB   | #####7     |  57% \n",
      "llvmlite-0.38.0      | 13.3 MB   | #####8     |  58% \n",
      "llvmlite-0.38.0      | 13.3 MB   | #####8     |  59% \n",
      "llvmlite-0.38.0      | 13.3 MB   | #####8     |  59% \n",
      "llvmlite-0.38.0      | 13.3 MB   | #####9     |  59% \n",
      "llvmlite-0.38.0      | 13.3 MB   | #####9     |  60% \n",
      "llvmlite-0.38.0      | 13.3 MB   | ######     |  60% \n",
      "llvmlite-0.38.0      | 13.3 MB   | ######     |  61% \n",
      "llvmlite-0.38.0      | 13.3 MB   | ######1    |  61% \n",
      "llvmlite-0.38.0      | 13.3 MB   | ######1    |  62% \n",
      "llvmlite-0.38.0      | 13.3 MB   | ######2    |  62% \n",
      "llvmlite-0.38.0      | 13.3 MB   | ######2    |  63% \n",
      "llvmlite-0.38.0      | 13.3 MB   | ######3    |  64% \n",
      "llvmlite-0.38.0      | 13.3 MB   | ######4    |  64% \n",
      "llvmlite-0.38.0      | 13.3 MB   | ######6    |  66% \n",
      "llvmlite-0.38.0      | 13.3 MB   | ######6    |  67% \n",
      "llvmlite-0.38.0      | 13.3 MB   | ######7    |  67% \n",
      "llvmlite-0.38.0      | 13.3 MB   | ######7    |  68% \n",
      "llvmlite-0.38.0      | 13.3 MB   | ######8    |  69% \n",
      "llvmlite-0.38.0      | 13.3 MB   | ######9    |  69% \n",
      "llvmlite-0.38.0      | 13.3 MB   | #######1   |  71% \n",
      "llvmlite-0.38.0      | 13.3 MB   | #######1   |  72% \n",
      "llvmlite-0.38.0      | 13.3 MB   | #######2   |  73% \n",
      "llvmlite-0.38.0      | 13.3 MB   | #######3   |  73% \n",
      "llvmlite-0.38.0      | 13.3 MB   | #######3   |  74% \n",
      "llvmlite-0.38.0      | 13.3 MB   | #######4   |  74% \n",
      "llvmlite-0.38.0      | 13.3 MB   | #######4   |  75% \n",
      "llvmlite-0.38.0      | 13.3 MB   | #######5   |  75% \n",
      "llvmlite-0.38.0      | 13.3 MB   | #######6   |  77% \n",
      "llvmlite-0.38.0      | 13.3 MB   | #######7   |  77% \n",
      "llvmlite-0.38.0      | 13.3 MB   | #######7   |  78% \n",
      "llvmlite-0.38.0      | 13.3 MB   | #######7   |  78% \n",
      "llvmlite-0.38.0      | 13.3 MB   | #######9   |  79% \n",
      "llvmlite-0.38.0      | 13.3 MB   | #######9   |  79% \n",
      "llvmlite-0.38.0      | 13.3 MB   | ########   |  80% \n",
      "llvmlite-0.38.0      | 13.3 MB   | ########1  |  81% \n",
      "llvmlite-0.38.0      | 13.3 MB   | ########1  |  82% \n",
      "llvmlite-0.38.0      | 13.3 MB   | ########2  |  82% \n",
      "llvmlite-0.38.0      | 13.3 MB   | ########3  |  83% \n",
      "llvmlite-0.38.0      | 13.3 MB   | ########3  |  83% \n",
      "llvmlite-0.38.0      | 13.3 MB   | ########3  |  84% \n",
      "llvmlite-0.38.0      | 13.3 MB   | ########5  |  85% \n",
      "llvmlite-0.38.0      | 13.3 MB   | ########5  |  86% \n",
      "llvmlite-0.38.0      | 13.3 MB   | ########6  |  86% \n",
      "llvmlite-0.38.0      | 13.3 MB   | ########6  |  87% \n",
      "llvmlite-0.38.0      | 13.3 MB   | ########7  |  87% \n",
      "llvmlite-0.38.0      | 13.3 MB   | ########7  |  87% \n",
      "llvmlite-0.38.0      | 13.3 MB   | ########7  |  88% \n",
      "llvmlite-0.38.0      | 13.3 MB   | ########8  |  88% \n",
      "llvmlite-0.38.0      | 13.3 MB   | ########8  |  89% \n",
      "llvmlite-0.38.0      | 13.3 MB   | ########9  |  89% \n",
      "llvmlite-0.38.0      | 13.3 MB   | ########9  |  90% \n",
      "llvmlite-0.38.0      | 13.3 MB   | #########  |  91% \n",
      "llvmlite-0.38.0      | 13.3 MB   | #########1 |  91% \n",
      "llvmlite-0.38.0      | 13.3 MB   | #########1 |  92% \n",
      "llvmlite-0.38.0      | 13.3 MB   | #########1 |  92% \n",
      "llvmlite-0.38.0      | 13.3 MB   | #########2 |  92% \n",
      "llvmlite-0.38.0      | 13.3 MB   | #########2 |  93% \n",
      "llvmlite-0.38.0      | 13.3 MB   | #########3 |  93% \n",
      "llvmlite-0.38.0      | 13.3 MB   | #########3 |  94% \n",
      "llvmlite-0.38.0      | 13.3 MB   | #########4 |  94% \n",
      "llvmlite-0.38.0      | 13.3 MB   | #########4 |  95% \n",
      "llvmlite-0.38.0      | 13.3 MB   | #########5 |  95% \n",
      "llvmlite-0.38.0      | 13.3 MB   | #########5 |  95% \n",
      "llvmlite-0.38.0      | 13.3 MB   | #########5 |  96% \n",
      "llvmlite-0.38.0      | 13.3 MB   | #########6 |  96% \n",
      "llvmlite-0.38.0      | 13.3 MB   | #########6 |  97% \n",
      "llvmlite-0.38.0      | 13.3 MB   | #########6 |  97% \n",
      "llvmlite-0.38.0      | 13.3 MB   | #########7 |  97% \n",
      "llvmlite-0.38.0      | 13.3 MB   | #########7 |  98% \n",
      "llvmlite-0.38.0      | 13.3 MB   | #########8 |  98% \n",
      "llvmlite-0.38.0      | 13.3 MB   | #########9 |  99% \n",
      "llvmlite-0.38.0      | 13.3 MB   | #########9 | 100% \n",
      "llvmlite-0.38.0      | 13.3 MB   | ########## | 100% \n",
      "\n",
      "libiconv-1.16        | 651 KB    |            |   0% \n",
      "libiconv-1.16        | 651 KB    | 2          |   2% \n",
      "libiconv-1.16        | 651 KB    | 9          |  10% \n",
      "libiconv-1.16        | 651 KB    | ##7        |  27% \n",
      "libiconv-1.16        | 651 KB    | ###4       |  34% \n",
      "libiconv-1.16        | 651 KB    | ####6      |  47% \n",
      "libiconv-1.16        | 651 KB    | #####6     |  57% \n",
      "libiconv-1.16        | 651 KB    | ######8    |  69% \n",
      "libiconv-1.16        | 651 KB    | ########1  |  81% \n",
      "libiconv-1.16        | 651 KB    | ########8  |  88% \n",
      "libiconv-1.16        | 651 KB    | #########8 |  98% \n",
      "libiconv-1.16        | 651 KB    | ########## | 100% \n",
      "\n",
      "regex-2022.3.15      | 316 KB    |            |   0% \n",
      "regex-2022.3.15      | 316 KB    | 5          |   5% \n",
      "regex-2022.3.15      | 316 KB    | #5         |  15% \n",
      "regex-2022.3.15      | 316 KB    | ##5        |  25% \n",
      "regex-2022.3.15      | 316 KB    | ######     |  61% \n",
      "regex-2022.3.15      | 316 KB    | #######5   |  76% \n",
      "regex-2022.3.15      | 316 KB    | ########6  |  86% \n",
      "regex-2022.3.15      | 316 KB    | ########## | 100% \n",
      "\n",
      "certifi-2021.10.8    | 152 KB    |            |   0% \n",
      "certifi-2021.10.8    | 152 KB    | #          |  11% \n",
      "certifi-2021.10.8    | 152 KB    | ####2      |  42% \n",
      "certifi-2021.10.8    | 152 KB    | #######3   |  74% \n",
      "certifi-2021.10.8    | 152 KB    | ########## | 100% \n",
      "certifi-2021.10.8    | 152 KB    | ########## | 100% \n",
      "\n",
      "pandas-1.4.2         | 8.7 MB    |            |   0% \n",
      "pandas-1.4.2         | 8.7 MB    |            |   0% \n",
      "pandas-1.4.2         | 8.7 MB    |            |   1% \n",
      "pandas-1.4.2         | 8.7 MB    | 1          |   1% \n",
      "pandas-1.4.2         | 8.7 MB    | 1          |   1% \n",
      "pandas-1.4.2         | 8.7 MB    | 1          |   2% \n",
      "pandas-1.4.2         | 8.7 MB    | 2          |   2% \n",
      "pandas-1.4.2         | 8.7 MB    | 2          |   3% \n",
      "pandas-1.4.2         | 8.7 MB    | 3          |   4% \n",
      "pandas-1.4.2         | 8.7 MB    | 4          |   4% \n",
      "pandas-1.4.2         | 8.7 MB    | 5          |   5% \n",
      "pandas-1.4.2         | 8.7 MB    | 5          |   6% \n",
      "pandas-1.4.2         | 8.7 MB    | 6          |   6% \n",
      "pandas-1.4.2         | 8.7 MB    | 7          |   8% \n",
      "pandas-1.4.2         | 8.7 MB    | 8          |   8% \n",
      "pandas-1.4.2         | 8.7 MB    | 8          |   9% \n",
      "pandas-1.4.2         | 8.7 MB    | 9          |   9% \n",
      "pandas-1.4.2         | 8.7 MB    | 9          |  10% \n",
      "pandas-1.4.2         | 8.7 MB    | #          |  11% \n",
      "pandas-1.4.2         | 8.7 MB    | #1         |  11% \n",
      "pandas-1.4.2         | 8.7 MB    | #2         |  12% \n",
      "pandas-1.4.2         | 8.7 MB    | #2         |  13% \n",
      "pandas-1.4.2         | 8.7 MB    | #3         |  14% \n",
      "pandas-1.4.2         | 8.7 MB    | #5         |  15% \n",
      "pandas-1.4.2         | 8.7 MB    | #5         |  16% \n",
      "pandas-1.4.2         | 8.7 MB    | #6         |  16% \n",
      "pandas-1.4.2         | 8.7 MB    | #6         |  17% \n",
      "pandas-1.4.2         | 8.7 MB    | #8         |  18% \n",
      "pandas-1.4.2         | 8.7 MB    | #8         |  19% \n",
      "pandas-1.4.2         | 8.7 MB    | #9         |  19% \n",
      "pandas-1.4.2         | 8.7 MB    | ##         |  20% \n",
      "pandas-1.4.2         | 8.7 MB    | ##1        |  22% \n",
      "pandas-1.4.2         | 8.7 MB    | ##2        |  22% \n",
      "pandas-1.4.2         | 8.7 MB    | ##3        |  23% \n",
      "pandas-1.4.2         | 8.7 MB    | ##3        |  24% \n",
      "pandas-1.4.2         | 8.7 MB    | ##4        |  24% \n",
      "pandas-1.4.2         | 8.7 MB    | ##6        |  26% \n",
      "pandas-1.4.2         | 8.7 MB    | ##7        |  27% \n",
      "pandas-1.4.2         | 8.7 MB    | ##8        |  28% \n",
      "pandas-1.4.2         | 8.7 MB    | ##9        |  29% \n",
      "pandas-1.4.2         | 8.7 MB    | ###        |  30% \n",
      "pandas-1.4.2         | 8.7 MB    | ###        |  31% \n",
      "pandas-1.4.2         | 8.7 MB    | ###1       |  32% \n",
      "pandas-1.4.2         | 8.7 MB    | ###2       |  32% \n",
      "pandas-1.4.2         | 8.7 MB    | ###2       |  33% \n",
      "pandas-1.4.2         | 8.7 MB    | ###3       |  34% \n",
      "pandas-1.4.2         | 8.7 MB    | ###4       |  35% \n",
      "pandas-1.4.2         | 8.7 MB    | ###5       |  36% \n",
      "pandas-1.4.2         | 8.7 MB    | ###6       |  36% \n",
      "pandas-1.4.2         | 8.7 MB    | ###7       |  37% \n",
      "pandas-1.4.2         | 8.7 MB    | ###8       |  38% \n",
      "pandas-1.4.2         | 8.7 MB    | ###8       |  39% \n",
      "pandas-1.4.2         | 8.7 MB    | ###9       |  40% \n",
      "pandas-1.4.2         | 8.7 MB    | ####       |  41% \n",
      "pandas-1.4.2         | 8.7 MB    | ####1      |  41% \n",
      "pandas-1.4.2         | 8.7 MB    | ####2      |  42% \n",
      "pandas-1.4.2         | 8.7 MB    | ####3      |  43% \n",
      "pandas-1.4.2         | 8.7 MB    | ####3      |  44% \n",
      "pandas-1.4.2         | 8.7 MB    | ####4      |  44% \n",
      "pandas-1.4.2         | 8.7 MB    | ####4      |  45% \n",
      "pandas-1.4.2         | 8.7 MB    | ####6      |  46% \n",
      "pandas-1.4.2         | 8.7 MB    | ####7      |  47% \n",
      "pandas-1.4.2         | 8.7 MB    | ####9      |  49% \n",
      "pandas-1.4.2         | 8.7 MB    | #####      |  50% \n",
      "pandas-1.4.2         | 8.7 MB    | #####1     |  51% \n",
      "pandas-1.4.2         | 8.7 MB    | #####2     |  52% \n",
      "pandas-1.4.2         | 8.7 MB    | #####2     |  53% \n",
      "pandas-1.4.2         | 8.7 MB    | #####3     |  54% \n",
      "pandas-1.4.2         | 8.7 MB    | #####4     |  54% \n",
      "pandas-1.4.2         | 8.7 MB    | #####4     |  55% \n",
      "pandas-1.4.2         | 8.7 MB    | #####5     |  56% \n",
      "pandas-1.4.2         | 8.7 MB    | #####7     |  57% \n",
      "pandas-1.4.2         | 8.7 MB    | #####8     |  58% \n",
      "pandas-1.4.2         | 8.7 MB    | #####9     |  59% \n",
      "pandas-1.4.2         | 8.7 MB    | ######     |  61% \n",
      "pandas-1.4.2         | 8.7 MB    | ######1    |  61% \n",
      "pandas-1.4.2         | 8.7 MB    | ######1    |  62% \n",
      "pandas-1.4.2         | 8.7 MB    | ######2    |  62% \n",
      "pandas-1.4.2         | 8.7 MB    | ######3    |  63% \n",
      "pandas-1.4.2         | 8.7 MB    | ######3    |  64% \n",
      "pandas-1.4.2         | 8.7 MB    | ######5    |  65% \n",
      "pandas-1.4.2         | 8.7 MB    | ######6    |  66% \n",
      "pandas-1.4.2         | 8.7 MB    | ######6    |  67% \n",
      "pandas-1.4.2         | 8.7 MB    | ######7    |  68% \n",
      "pandas-1.4.2         | 8.7 MB    | ######8    |  68% \n",
      "pandas-1.4.2         | 8.7 MB    | ######8    |  69% \n",
      "pandas-1.4.2         | 8.7 MB    | ######9    |  70% \n",
      "pandas-1.4.2         | 8.7 MB    | #######    |  70% \n",
      "pandas-1.4.2         | 8.7 MB    | #######    |  71% \n",
      "pandas-1.4.2         | 8.7 MB    | #######1   |  71% \n",
      "pandas-1.4.2         | 8.7 MB    | #######2   |  73% \n",
      "pandas-1.4.2         | 8.7 MB    | #######3   |  73% \n",
      "pandas-1.4.2         | 8.7 MB    | #######3   |  74% \n",
      "pandas-1.4.2         | 8.7 MB    | #######5   |  75% \n",
      "pandas-1.4.2         | 8.7 MB    | #######5   |  76% \n",
      "pandas-1.4.2         | 8.7 MB    | #######8   |  79% \n",
      "pandas-1.4.2         | 8.7 MB    | #######9   |  80% \n",
      "pandas-1.4.2         | 8.7 MB    | ########   |  81% \n",
      "pandas-1.4.2         | 8.7 MB    | ########1  |  81% \n",
      "pandas-1.4.2         | 8.7 MB    | ########2  |  82% \n",
      "pandas-1.4.2         | 8.7 MB    | ########3  |  83% \n",
      "pandas-1.4.2         | 8.7 MB    | ########3  |  84% \n",
      "pandas-1.4.2         | 8.7 MB    | ########4  |  84% \n",
      "pandas-1.4.2         | 8.7 MB    | ########4  |  85% \n",
      "pandas-1.4.2         | 8.7 MB    | ########6  |  86% \n",
      "pandas-1.4.2         | 8.7 MB    | ########7  |  88% \n",
      "pandas-1.4.2         | 8.7 MB    | ########8  |  88% \n",
      "pandas-1.4.2         | 8.7 MB    | ########9  |  90% \n",
      "pandas-1.4.2         | 8.7 MB    | #########  |  90% \n",
      "pandas-1.4.2         | 8.7 MB    | #########1 |  92% \n",
      "pandas-1.4.2         | 8.7 MB    | #########2 |  92% \n",
      "pandas-1.4.2         | 8.7 MB    | #########3 |  94% \n",
      "pandas-1.4.2         | 8.7 MB    | #########4 |  94% \n",
      "pandas-1.4.2         | 8.7 MB    | #########4 |  95% \n",
      "pandas-1.4.2         | 8.7 MB    | #########5 |  96% \n",
      "pandas-1.4.2         | 8.7 MB    | #########6 |  96% \n",
      "pandas-1.4.2         | 8.7 MB    | #########7 |  97% \n",
      "pandas-1.4.2         | 8.7 MB    | #########8 |  99% \n",
      "pandas-1.4.2         | 8.7 MB    | #########9 |  99% \n",
      "pandas-1.4.2         | 8.7 MB    | ########## | 100% \n",
      "pandas-1.4.2         | 8.7 MB    | ########## | 100% \n",
      "\n",
      "arrow-1.2.2          | 92 KB     |            |   0% \n",
      "arrow-1.2.2          | 92 KB     | #7         |  17% \n",
      "arrow-1.2.2          | 92 KB     | #####2     |  52% \n",
      "arrow-1.2.2          | 92 KB     | ########## | 100% \n",
      "\n",
      "idna-3.3             | 49 KB     |            |   0% \n",
      "idna-3.3             | 49 KB     | ###2       |  33% \n",
      "idna-3.3             | 49 KB     | ########## | 100% \n",
      "\n",
      "importlib-metadata-4 | 41 KB     |            |   0% \n",
      "importlib-metadata-4 | 41 KB     | ###9       |  39% \n",
      "importlib-metadata-4 | 41 KB     | ########## | 100% \n",
      "\n",
      "snappy-1.1.9         | 2.2 MB    |            |   0% \n",
      "snappy-1.1.9         | 2.2 MB    |            |   1% \n",
      "snappy-1.1.9         | 2.2 MB    | 2          |   2% \n",
      "snappy-1.1.9         | 2.2 MB    | 5          |   6% \n",
      "snappy-1.1.9         | 2.2 MB    | 7          |   8% \n",
      "snappy-1.1.9         | 2.2 MB    | 9          |   9% \n",
      "snappy-1.1.9         | 2.2 MB    | #          |  10% \n",
      "snappy-1.1.9         | 2.2 MB    | #2         |  13% \n",
      "snappy-1.1.9         | 2.2 MB    | #9         |  19% \n",
      "snappy-1.1.9         | 2.2 MB    | ##2        |  22% \n",
      "snappy-1.1.9         | 2.2 MB    | ##6        |  26% \n",
      "snappy-1.1.9         | 2.2 MB    | ##8        |  29% \n",
      "snappy-1.1.9         | 2.2 MB    | ###1       |  31% \n",
      "snappy-1.1.9         | 2.2 MB    | ###6       |  37% \n",
      "snappy-1.1.9         | 2.2 MB    | ###9       |  40% \n",
      "snappy-1.1.9         | 2.2 MB    | ####4      |  45% \n",
      "snappy-1.1.9         | 2.2 MB    | ####7      |  47% \n",
      "snappy-1.1.9         | 2.2 MB    | #####      |  50% \n",
      "snappy-1.1.9         | 2.2 MB    | #####2     |  53% \n",
      "snappy-1.1.9         | 2.2 MB    | #####7     |  57% \n",
      "snappy-1.1.9         | 2.2 MB    | #####9     |  60% \n",
      "snappy-1.1.9         | 2.2 MB    | ######1    |  62% \n",
      "snappy-1.1.9         | 2.2 MB    | ######4    |  65% \n",
      "snappy-1.1.9         | 2.2 MB    | ######6    |  67% \n",
      "snappy-1.1.9         | 2.2 MB    | #######8   |  79% \n",
      "snappy-1.1.9         | 2.2 MB    | ########2  |  83% \n",
      "snappy-1.1.9         | 2.2 MB    | ########6  |  86% \n",
      "snappy-1.1.9         | 2.2 MB    | ########9  |  89% \n",
      "snappy-1.1.9         | 2.2 MB    | #########3 |  94% \n",
      "snappy-1.1.9         | 2.2 MB    | #########7 |  97% \n",
      "snappy-1.1.9         | 2.2 MB    | ########## | 100% \n",
      "snappy-1.1.9         | 2.2 MB    | ########## | 100% \n",
      "\n",
      "tomli-1.2.2          | 17 KB     |            |   0% \n",
      "tomli-1.2.2          | 17 KB     | #########2 |  93% \n",
      "tomli-1.2.2          | 17 KB     | ########## | 100% \n",
      "\n",
      "pluggy-1.0.0         | 29 KB     |            |   0% \n",
      "pluggy-1.0.0         | 29 KB     | #####5     |  55% \n",
      "pluggy-1.0.0         | 29 KB     | ########## | 100% \n",
      "\n",
      "cffi-1.15.0          | 224 KB    |            |   0% \n",
      "cffi-1.15.0          | 224 KB    | 7          |   7% \n",
      "cffi-1.15.0          | 224 KB    | ##8        |  29% \n",
      "cffi-1.15.0          | 224 KB    | ###5       |  36% \n",
      "cffi-1.15.0          | 224 KB    | ########5  |  86% \n",
      "cffi-1.15.0          | 224 KB    | ########## | 100% \n",
      "\n",
      "pytest-7.1.1         | 478 KB    |            |   0% \n",
      "pytest-7.1.1         | 478 KB    | 3          |   3% \n",
      "pytest-7.1.1         | 478 KB    | #3         |  13% \n",
      "pytest-7.1.1         | 478 KB    | #6         |  17% \n",
      "pytest-7.1.1         | 478 KB    | ####3      |  43% \n",
      "pytest-7.1.1         | 478 KB    | ######     |  60% \n",
      "pytest-7.1.1         | 478 KB    | #######    |  70% \n",
      "pytest-7.1.1         | 478 KB    | ########   |  80% \n",
      "pytest-7.1.1         | 478 KB    | ########## | 100% \n",
      "pytest-7.1.1         | 478 KB    | ########## | 100% \n",
      "\n",
      "tbb4py-2021.5.0      | 76 KB     |            |   0% \n",
      "tbb4py-2021.5.0      | 76 KB     | ##1        |  21% \n",
      "tbb4py-2021.5.0      | 76 KB     | ######3    |  63% \n",
      "tbb4py-2021.5.0      | 76 KB     | ########## | 100% \n",
      "tbb4py-2021.5.0      | 76 KB     | ########## | 100% \n",
      "\n",
      "jupyter_server-1.13. | 259 KB    |            |   0% \n",
      "jupyter_server-1.13. | 259 KB    | 6          |   6% \n",
      "jupyter_server-1.13. | 259 KB    | ##4        |  25% \n",
      "jupyter_server-1.13. | 259 KB    | ###7       |  37% \n",
      "jupyter_server-1.13. | 259 KB    | ######7    |  68% \n",
      "jupyter_server-1.13. | 259 KB    | ########6  |  86% \n",
      "jupyter_server-1.13. | 259 KB    | ########## | 100% \n",
      "jupyter_server-1.13. | 259 KB    | ########## | 100% \n",
      "\n",
      "statsmodels-0.13.2   | 8.3 MB    |            |   0% \n",
      "statsmodels-0.13.2   | 8.3 MB    |            |   0% \n",
      "statsmodels-0.13.2   | 8.3 MB    |            |   1% \n",
      "statsmodels-0.13.2   | 8.3 MB    | 1          |   1% \n",
      "statsmodels-0.13.2   | 8.3 MB    | 1          |   2% \n",
      "statsmodels-0.13.2   | 8.3 MB    | 2          |   3% \n",
      "statsmodels-0.13.2   | 8.3 MB    | 3          |   3% \n",
      "statsmodels-0.13.2   | 8.3 MB    | 4          |   5% \n",
      "statsmodels-0.13.2   | 8.3 MB    | 5          |   6% \n",
      "statsmodels-0.13.2   | 8.3 MB    | 6          |   6% \n",
      "statsmodels-0.13.2   | 8.3 MB    | 7          |   7% \n",
      "statsmodels-0.13.2   | 8.3 MB    | 7          |   8% \n",
      "statsmodels-0.13.2   | 8.3 MB    | 8          |   8% \n",
      "statsmodels-0.13.2   | 8.3 MB    | 9          |   9% \n",
      "statsmodels-0.13.2   | 8.3 MB    | 9          |  10% \n",
      "statsmodels-0.13.2   | 8.3 MB    | #1         |  11% \n",
      "statsmodels-0.13.2   | 8.3 MB    | #2         |  12% \n",
      "statsmodels-0.13.2   | 8.3 MB    | #3         |  13% \n",
      "statsmodels-0.13.2   | 8.3 MB    | #3         |  14% \n",
      "statsmodels-0.13.2   | 8.3 MB    | #4         |  15% \n",
      "statsmodels-0.13.2   | 8.3 MB    | #5         |  15% \n",
      "statsmodels-0.13.2   | 8.3 MB    | #6         |  16% \n",
      "statsmodels-0.13.2   | 8.3 MB    | #6         |  17% \n",
      "statsmodels-0.13.2   | 8.3 MB    | #7         |  18% \n",
      "statsmodels-0.13.2   | 8.3 MB    | #9         |  19% \n",
      "statsmodels-0.13.2   | 8.3 MB    | #9         |  20% \n",
      "statsmodels-0.13.2   | 8.3 MB    | ##         |  21% \n",
      "statsmodels-0.13.2   | 8.3 MB    | ##1        |  21% \n",
      "statsmodels-0.13.2   | 8.3 MB    | ##2        |  22% \n",
      "statsmodels-0.13.2   | 8.3 MB    | ##2        |  23% \n",
      "statsmodels-0.13.2   | 8.3 MB    | ##3        |  23% \n",
      "statsmodels-0.13.2   | 8.3 MB    | ##3        |  24% \n",
      "statsmodels-0.13.2   | 8.3 MB    | ##4        |  25% \n",
      "statsmodels-0.13.2   | 8.3 MB    | ##6        |  26% \n",
      "statsmodels-0.13.2   | 8.3 MB    | ##7        |  27% \n",
      "statsmodels-0.13.2   | 8.3 MB    | ##9        |  29% \n",
      "statsmodels-0.13.2   | 8.3 MB    | ###        |  30% \n",
      "statsmodels-0.13.2   | 8.3 MB    | ###1       |  31% \n",
      "statsmodels-0.13.2   | 8.3 MB    | ###1       |  32% \n",
      "statsmodels-0.13.2   | 8.3 MB    | ###2       |  33% \n",
      "statsmodels-0.13.2   | 8.3 MB    | ###5       |  35% \n",
      "statsmodels-0.13.2   | 8.3 MB    | ###6       |  36% \n",
      "statsmodels-0.13.2   | 8.3 MB    | ###7       |  37% \n",
      "statsmodels-0.13.2   | 8.3 MB    | ###7       |  38% \n",
      "statsmodels-0.13.2   | 8.3 MB    | ###8       |  38% \n",
      "statsmodels-0.13.2   | 8.3 MB    | ###9       |  40% \n",
      "statsmodels-0.13.2   | 8.3 MB    | ####1      |  41% \n",
      "statsmodels-0.13.2   | 8.3 MB    | ####1      |  42% \n",
      "statsmodels-0.13.2   | 8.3 MB    | ####2      |  42% \n",
      "statsmodels-0.13.2   | 8.3 MB    | ####2      |  43% \n",
      "statsmodels-0.13.2   | 8.3 MB    | ####3      |  44% \n",
      "statsmodels-0.13.2   | 8.3 MB    | ####4      |  44% \n",
      "statsmodels-0.13.2   | 8.3 MB    | ####5      |  45% \n",
      "statsmodels-0.13.2   | 8.3 MB    | ####5      |  46% \n",
      "statsmodels-0.13.2   | 8.3 MB    | ####6      |  47% \n",
      "statsmodels-0.13.2   | 8.3 MB    | ####7      |  47% \n",
      "statsmodels-0.13.2   | 8.3 MB    | ####8      |  49% \n",
      "statsmodels-0.13.2   | 8.3 MB    | ####9      |  49% \n",
      "statsmodels-0.13.2   | 8.3 MB    | #####      |  50% \n",
      "statsmodels-0.13.2   | 8.3 MB    | #####      |  51% \n",
      "statsmodels-0.13.2   | 8.3 MB    | #####1     |  52% \n",
      "statsmodels-0.13.2   | 8.3 MB    | #####2     |  52% \n",
      "statsmodels-0.13.2   | 8.3 MB    | #####2     |  53% \n",
      "statsmodels-0.13.2   | 8.3 MB    | #####3     |  53% \n",
      "statsmodels-0.13.2   | 8.3 MB    | #####5     |  55% \n",
      "statsmodels-0.13.2   | 8.3 MB    | #####5     |  56% \n",
      "statsmodels-0.13.2   | 8.3 MB    | #####6     |  56% \n",
      "statsmodels-0.13.2   | 8.3 MB    | #####7     |  57% \n",
      "statsmodels-0.13.2   | 8.3 MB    | #####8     |  58% \n",
      "statsmodels-0.13.2   | 8.3 MB    | #####9     |  59% \n",
      "statsmodels-0.13.2   | 8.3 MB    | #####9     |  60% \n",
      "statsmodels-0.13.2   | 8.3 MB    | ######     |  60% \n",
      "statsmodels-0.13.2   | 8.3 MB    | ######1    |  61% \n",
      "statsmodels-0.13.2   | 8.3 MB    | ######2    |  62% \n",
      "statsmodels-0.13.2   | 8.3 MB    | ######2    |  63% \n",
      "statsmodels-0.13.2   | 8.3 MB    | ######3    |  63% \n",
      "statsmodels-0.13.2   | 8.3 MB    | ######4    |  65% \n",
      "statsmodels-0.13.2   | 8.3 MB    | ######5    |  65% \n",
      "statsmodels-0.13.2   | 8.3 MB    | ######5    |  66% \n",
      "statsmodels-0.13.2   | 8.3 MB    | ######6    |  67% \n",
      "statsmodels-0.13.2   | 8.3 MB    | ######7    |  67% \n",
      "statsmodels-0.13.2   | 8.3 MB    | ######8    |  68% \n",
      "statsmodels-0.13.2   | 8.3 MB    | ######8    |  69% \n",
      "statsmodels-0.13.2   | 8.3 MB    | #######    |  71% \n",
      "statsmodels-0.13.2   | 8.3 MB    | #######1   |  72% \n",
      "statsmodels-0.13.2   | 8.3 MB    | #######2   |  73% \n",
      "statsmodels-0.13.2   | 8.3 MB    | #######4   |  74% \n",
      "statsmodels-0.13.2   | 8.3 MB    | #######4   |  75% \n",
      "statsmodels-0.13.2   | 8.3 MB    | #######5   |  76% \n",
      "statsmodels-0.13.2   | 8.3 MB    | #######6   |  77% \n",
      "statsmodels-0.13.2   | 8.3 MB    | #######8   |  78% \n",
      "statsmodels-0.13.2   | 8.3 MB    | #######9   |  79% \n",
      "statsmodels-0.13.2   | 8.3 MB    | ########   |  80% \n",
      "statsmodels-0.13.2   | 8.3 MB    | ########1  |  81% \n",
      "statsmodels-0.13.2   | 8.3 MB    | ########1  |  82% \n",
      "statsmodels-0.13.2   | 8.3 MB    | ########2  |  82% \n",
      "statsmodels-0.13.2   | 8.3 MB    | ########3  |  83% \n",
      "statsmodels-0.13.2   | 8.3 MB    | ########4  |  84% \n",
      "statsmodels-0.13.2   | 8.3 MB    | ########4  |  85% \n",
      "statsmodels-0.13.2   | 8.3 MB    | ########5  |  85% \n",
      "statsmodels-0.13.2   | 8.3 MB    | ########6  |  86% \n",
      "statsmodels-0.13.2   | 8.3 MB    | ########7  |  87% \n",
      "statsmodels-0.13.2   | 8.3 MB    | ########7  |  88% \n",
      "statsmodels-0.13.2   | 8.3 MB    | ########8  |  88% \n",
      "statsmodels-0.13.2   | 8.3 MB    | ########9  |  89% \n",
      "statsmodels-0.13.2   | 8.3 MB    | ########9  |  90% \n",
      "statsmodels-0.13.2   | 8.3 MB    | #########  |  90% \n",
      "statsmodels-0.13.2   | 8.3 MB    | #########1 |  92% \n",
      "statsmodels-0.13.2   | 8.3 MB    | #########2 |  92% \n",
      "statsmodels-0.13.2   | 8.3 MB    | #########3 |  93% \n",
      "statsmodels-0.13.2   | 8.3 MB    | #########4 |  94% \n",
      "statsmodels-0.13.2   | 8.3 MB    | #########5 |  96% \n",
      "statsmodels-0.13.2   | 8.3 MB    | #########6 |  96% \n",
      "statsmodels-0.13.2   | 8.3 MB    | #########6 |  97% \n",
      "statsmodels-0.13.2   | 8.3 MB    | #########7 |  97% \n",
      "statsmodels-0.13.2   | 8.3 MB    | #########7 |  98% \n",
      "statsmodels-0.13.2   | 8.3 MB    | #########8 |  99% \n",
      "statsmodels-0.13.2   | 8.3 MB    | ########## | 100% \n",
      "statsmodels-0.13.2   | 8.3 MB    | ########## | 100% \n",
      "\n",
      "kiwisolver-1.3.2     | 56 KB     |            |   0% \n",
      "kiwisolver-1.3.2     | 56 KB     | ##8        |  29% \n",
      "kiwisolver-1.3.2     | 56 KB     | #####7     |  57% \n",
      "kiwisolver-1.3.2     | 56 KB     | ########5  |  86% \n",
      "kiwisolver-1.3.2     | 56 KB     | ########## | 100% \n",
      "\n",
      "xz-5.2.5             | 246 KB    |            |   0% \n",
      "xz-5.2.5             | 246 KB    | 6          |   7% \n",
      "xz-5.2.5             | 246 KB    | #9         |  20% \n",
      "xz-5.2.5             | 246 KB    | ########## | 100% \n",
      "\n",
      "scipy-1.7.3          | 13.9 MB   |            |   0% \n",
      "scipy-1.7.3          | 13.9 MB   |            |   0% \n",
      "scipy-1.7.3          | 13.9 MB   |            |   0% \n",
      "scipy-1.7.3          | 13.9 MB   |            |   1% \n",
      "scipy-1.7.3          | 13.9 MB   | 1          |   1% \n",
      "scipy-1.7.3          | 13.9 MB   | 1          |   1% \n",
      "scipy-1.7.3          | 13.9 MB   | 2          |   2% \n",
      "scipy-1.7.3          | 13.9 MB   | 3          |   3% \n",
      "scipy-1.7.3          | 13.9 MB   | 4          |   4% \n",
      "scipy-1.7.3          | 13.9 MB   | 4          |   4% \n",
      "scipy-1.7.3          | 13.9 MB   | 4          |   5% \n",
      "scipy-1.7.3          | 13.9 MB   | 5          |   5% \n",
      "scipy-1.7.3          | 13.9 MB   | 5          |   6% \n",
      "scipy-1.7.3          | 13.9 MB   | 6          |   6% \n",
      "scipy-1.7.3          | 13.9 MB   | 7          |   7% \n",
      "scipy-1.7.3          | 13.9 MB   | 7          |   7% \n",
      "scipy-1.7.3          | 13.9 MB   | 7          |   8% \n",
      "scipy-1.7.3          | 13.9 MB   | 8          |   8% \n",
      "scipy-1.7.3          | 13.9 MB   | 8          |   9% \n",
      "scipy-1.7.3          | 13.9 MB   | 9          |   9% \n",
      "scipy-1.7.3          | 13.9 MB   | 9          |  10% \n",
      "scipy-1.7.3          | 13.9 MB   | #          |  10% \n",
      "scipy-1.7.3          | 13.9 MB   | #          |  11% \n",
      "scipy-1.7.3          | 13.9 MB   | #          |  11% \n",
      "scipy-1.7.3          | 13.9 MB   | #1         |  11% \n",
      "scipy-1.7.3          | 13.9 MB   | #2         |  12% \n",
      "scipy-1.7.3          | 13.9 MB   | #2         |  13% \n",
      "scipy-1.7.3          | 13.9 MB   | #3         |  14% \n",
      "scipy-1.7.3          | 13.9 MB   | #4         |  14% \n",
      "scipy-1.7.3          | 13.9 MB   | #4         |  14% \n",
      "scipy-1.7.3          | 13.9 MB   | #4         |  15% \n",
      "scipy-1.7.3          | 13.9 MB   | #5         |  15% \n",
      "scipy-1.7.3          | 13.9 MB   | #5         |  16% \n",
      "scipy-1.7.3          | 13.9 MB   | #6         |  16% \n",
      "scipy-1.7.3          | 13.9 MB   | #7         |  17% \n",
      "scipy-1.7.3          | 13.9 MB   | #7         |  18% \n",
      "scipy-1.7.3          | 13.9 MB   | #8         |  18% \n",
      "scipy-1.7.3          | 13.9 MB   | #9         |  19% \n",
      "scipy-1.7.3          | 13.9 MB   | #9         |  19% \n",
      "scipy-1.7.3          | 13.9 MB   | #9         |  20% \n",
      "scipy-1.7.3          | 13.9 MB   | ##         |  20% \n",
      "scipy-1.7.3          | 13.9 MB   | ##1        |  21% \n",
      "scipy-1.7.3          | 13.9 MB   | ##1        |  21% \n",
      "scipy-1.7.3          | 13.9 MB   | ##2        |  22% \n",
      "scipy-1.7.3          | 13.9 MB   | ##2        |  23% \n",
      "scipy-1.7.3          | 13.9 MB   | ##3        |  23% \n",
      "scipy-1.7.3          | 13.9 MB   | ##3        |  24% \n",
      "scipy-1.7.3          | 13.9 MB   | ##3        |  24% \n",
      "scipy-1.7.3          | 13.9 MB   | ##5        |  25% \n",
      "scipy-1.7.3          | 13.9 MB   | ##5        |  25% \n",
      "scipy-1.7.3          | 13.9 MB   | ##5        |  26% \n",
      "scipy-1.7.3          | 13.9 MB   | ##5        |  26% \n",
      "scipy-1.7.3          | 13.9 MB   | ##6        |  27% \n",
      "scipy-1.7.3          | 13.9 MB   | ##8        |  29% \n",
      "scipy-1.7.3          | 13.9 MB   | ##9        |  29% \n",
      "scipy-1.7.3          | 13.9 MB   | ###        |  30% \n",
      "scipy-1.7.3          | 13.9 MB   | ###1       |  31% \n",
      "scipy-1.7.3          | 13.9 MB   | ###1       |  31% \n",
      "scipy-1.7.3          | 13.9 MB   | ###1       |  32% \n",
      "scipy-1.7.3          | 13.9 MB   | ###3       |  33% \n",
      "scipy-1.7.3          | 13.9 MB   | ###4       |  34% \n",
      "scipy-1.7.3          | 13.9 MB   | ###4       |  35% \n",
      "scipy-1.7.3          | 13.9 MB   | ###5       |  36% \n",
      "scipy-1.7.3          | 13.9 MB   | ###6       |  37% \n",
      "scipy-1.7.3          | 13.9 MB   | ###7       |  37% \n",
      "scipy-1.7.3          | 13.9 MB   | ###7       |  38% \n",
      "scipy-1.7.3          | 13.9 MB   | ###8       |  38% \n",
      "scipy-1.7.3          | 13.9 MB   | ###8       |  39% \n",
      "scipy-1.7.3          | 13.9 MB   | ###9       |  39% \n",
      "scipy-1.7.3          | 13.9 MB   | ####       |  40% \n",
      "scipy-1.7.3          | 13.9 MB   | ####1      |  42% \n",
      "scipy-1.7.3          | 13.9 MB   | ####2      |  42% \n",
      "scipy-1.7.3          | 13.9 MB   | ####2      |  43% \n",
      "scipy-1.7.3          | 13.9 MB   | ####3      |  43% \n",
      "scipy-1.7.3          | 13.9 MB   | ####3      |  44% \n",
      "scipy-1.7.3          | 13.9 MB   | ####5      |  45% \n",
      "scipy-1.7.3          | 13.9 MB   | ####6      |  46% \n",
      "scipy-1.7.3          | 13.9 MB   | ####6      |  47% \n",
      "scipy-1.7.3          | 13.9 MB   | ####7      |  47% \n",
      "scipy-1.7.3          | 13.9 MB   | ####7      |  48% \n",
      "scipy-1.7.3          | 13.9 MB   | ####8      |  48% \n",
      "scipy-1.7.3          | 13.9 MB   | ####8      |  48% \n",
      "scipy-1.7.3          | 13.9 MB   | ####8      |  49% \n",
      "scipy-1.7.3          | 13.9 MB   | ####9      |  50% \n",
      "scipy-1.7.3          | 13.9 MB   | #####      |  50% \n",
      "scipy-1.7.3          | 13.9 MB   | #####1     |  51% \n",
      "scipy-1.7.3          | 13.9 MB   | #####1     |  52% \n",
      "scipy-1.7.3          | 13.9 MB   | #####2     |  53% \n",
      "scipy-1.7.3          | 13.9 MB   | #####3     |  53% \n",
      "scipy-1.7.3          | 13.9 MB   | #####4     |  54% \n",
      "scipy-1.7.3          | 13.9 MB   | #####4     |  55% \n",
      "scipy-1.7.3          | 13.9 MB   | #####5     |  55% \n",
      "scipy-1.7.3          | 13.9 MB   | #####5     |  56% \n",
      "scipy-1.7.3          | 13.9 MB   | #####5     |  56% \n",
      "scipy-1.7.3          | 13.9 MB   | #####6     |  56% \n",
      "scipy-1.7.3          | 13.9 MB   | #####6     |  57% \n",
      "scipy-1.7.3          | 13.9 MB   | #####8     |  58% \n",
      "scipy-1.7.3          | 13.9 MB   | #####9     |  59% \n",
      "scipy-1.7.3          | 13.9 MB   | ######     |  60% \n",
      "scipy-1.7.3          | 13.9 MB   | ######1    |  61% \n",
      "scipy-1.7.3          | 13.9 MB   | ######1    |  62% \n",
      "scipy-1.7.3          | 13.9 MB   | ######2    |  62% \n",
      "scipy-1.7.3          | 13.9 MB   | ######2    |  63% \n",
      "scipy-1.7.3          | 13.9 MB   | ######3    |  63% \n",
      "scipy-1.7.3          | 13.9 MB   | ######4    |  64% \n",
      "scipy-1.7.3          | 13.9 MB   | ######5    |  65% \n",
      "scipy-1.7.3          | 13.9 MB   | ######5    |  66% \n",
      "scipy-1.7.3          | 13.9 MB   | ######5    |  66% \n",
      "scipy-1.7.3          | 13.9 MB   | ######6    |  67% \n",
      "scipy-1.7.3          | 13.9 MB   | ######7    |  68% \n",
      "scipy-1.7.3          | 13.9 MB   | ######8    |  68% \n",
      "scipy-1.7.3          | 13.9 MB   | ######8    |  69% \n",
      "scipy-1.7.3          | 13.9 MB   | ######9    |  69% \n",
      "scipy-1.7.3          | 13.9 MB   | ######9    |  69% \n",
      "scipy-1.7.3          | 13.9 MB   | #######    |  70% \n",
      "scipy-1.7.3          | 13.9 MB   | #######    |  71% \n",
      "scipy-1.7.3          | 13.9 MB   | #######1   |  71% \n",
      "scipy-1.7.3          | 13.9 MB   | #######1   |  72% \n",
      "scipy-1.7.3          | 13.9 MB   | #######2   |  72% \n",
      "scipy-1.7.3          | 13.9 MB   | #######2   |  73% \n",
      "scipy-1.7.3          | 13.9 MB   | #######3   |  73% \n",
      "scipy-1.7.3          | 13.9 MB   | #######4   |  74% \n",
      "scipy-1.7.3          | 13.9 MB   | #######5   |  75% \n",
      "scipy-1.7.3          | 13.9 MB   | #######6   |  76% \n",
      "scipy-1.7.3          | 13.9 MB   | #######6   |  77% \n",
      "scipy-1.7.3          | 13.9 MB   | #######7   |  77% \n",
      "scipy-1.7.3          | 13.9 MB   | #######7   |  78% \n",
      "scipy-1.7.3          | 13.9 MB   | #######7   |  78% \n",
      "scipy-1.7.3          | 13.9 MB   | #######8   |  78% \n",
      "scipy-1.7.3          | 13.9 MB   | #######8   |  79% \n",
      "scipy-1.7.3          | 13.9 MB   | #######9   |  79% \n",
      "scipy-1.7.3          | 13.9 MB   | #######9   |  79% \n",
      "scipy-1.7.3          | 13.9 MB   | #######9   |  80% \n",
      "scipy-1.7.3          | 13.9 MB   | ########   |  80% \n",
      "scipy-1.7.3          | 13.9 MB   | ########   |  80% \n",
      "scipy-1.7.3          | 13.9 MB   | ########   |  81% \n",
      "scipy-1.7.3          | 13.9 MB   | ########1  |  81% \n",
      "scipy-1.7.3          | 13.9 MB   | ########1  |  81% \n",
      "scipy-1.7.3          | 13.9 MB   | ########1  |  82% \n",
      "scipy-1.7.3          | 13.9 MB   | ########2  |  82% \n",
      "scipy-1.7.3          | 13.9 MB   | ########2  |  83% \n",
      "scipy-1.7.3          | 13.9 MB   | ########3  |  83% \n",
      "scipy-1.7.3          | 13.9 MB   | ########3  |  84% \n",
      "scipy-1.7.3          | 13.9 MB   | ########4  |  84% \n",
      "scipy-1.7.3          | 13.9 MB   | ########4  |  84% \n",
      "scipy-1.7.3          | 13.9 MB   | ########4  |  85% \n",
      "scipy-1.7.3          | 13.9 MB   | ########4  |  85% \n",
      "scipy-1.7.3          | 13.9 MB   | ########6  |  87% \n",
      "scipy-1.7.3          | 13.9 MB   | ########7  |  87% \n",
      "scipy-1.7.3          | 13.9 MB   | ########7  |  88% \n",
      "scipy-1.7.3          | 13.9 MB   | ########7  |  88% \n",
      "scipy-1.7.3          | 13.9 MB   | ########9  |  89% \n",
      "scipy-1.7.3          | 13.9 MB   | #########  |  90% \n",
      "scipy-1.7.3          | 13.9 MB   | #########  |  91% \n",
      "scipy-1.7.3          | 13.9 MB   | #########  |  91% \n",
      "scipy-1.7.3          | 13.9 MB   | #########2 |  92% \n",
      "scipy-1.7.3          | 13.9 MB   | #########2 |  93% \n",
      "scipy-1.7.3          | 13.9 MB   | #########3 |  93% \n",
      "scipy-1.7.3          | 13.9 MB   | #########3 |  94% \n",
      "scipy-1.7.3          | 13.9 MB   | #########3 |  94% \n",
      "scipy-1.7.3          | 13.9 MB   | #########4 |  94% \n",
      "scipy-1.7.3          | 13.9 MB   | #########4 |  95% \n",
      "scipy-1.7.3          | 13.9 MB   | #########4 |  95% \n",
      "scipy-1.7.3          | 13.9 MB   | #########5 |  95% \n",
      "scipy-1.7.3          | 13.9 MB   | #########5 |  96% \n",
      "scipy-1.7.3          | 13.9 MB   | #########6 |  96% \n",
      "scipy-1.7.3          | 13.9 MB   | #########6 |  97% \n",
      "scipy-1.7.3          | 13.9 MB   | #########7 |  97% \n",
      "scipy-1.7.3          | 13.9 MB   | #########7 |  97% \n",
      "scipy-1.7.3          | 13.9 MB   | #########8 |  98% \n",
      "scipy-1.7.3          | 13.9 MB   | #########8 |  99% \n",
      "scipy-1.7.3          | 13.9 MB   | #########9 |  99% \n",
      "scipy-1.7.3          | 13.9 MB   | #########9 | 100% \n",
      "scipy-1.7.3          | 13.9 MB   | ########## | 100% \n",
      "\n",
      "wheel-0.37.1         | 33 KB     |            |   0% \n",
      "wheel-0.37.1         | 33 KB     | ####9      |  49% \n",
      "wheel-0.37.1         | 33 KB     | ########## | 100% \n",
      "\n",
      "pyzmq-22.3.0         | 632 KB    |            |   0% \n",
      "pyzmq-22.3.0         | 632 KB    | 2          |   3% \n",
      "pyzmq-22.3.0         | 632 KB    | #5         |  15% \n",
      "pyzmq-22.3.0         | 632 KB    | ###2       |  33% \n",
      "pyzmq-22.3.0         | 632 KB    | ######     |  61% \n",
      "pyzmq-22.3.0         | 632 KB    | #######    |  71% \n",
      "pyzmq-22.3.0         | 632 KB    | #######8   |  78% \n",
      "pyzmq-22.3.0         | 632 KB    | ########6  |  86% \n",
      "pyzmq-22.3.0         | 632 KB    | #########3 |  94% \n",
      "pyzmq-22.3.0         | 632 KB    | ########## | 100% \n",
      "pyzmq-22.3.0         | 632 KB    | ########## | 100% \n",
      "\n",
      "numpydoc-1.2         | 45 KB     |            |   0% \n",
      "numpydoc-1.2         | 45 KB     | ###5       |  36% \n",
      "numpydoc-1.2         | 45 KB     | #######1   |  72% \n",
      "numpydoc-1.2         | 45 KB     | ########## | 100% \n",
      "Preparing transaction: ...working... done\n",
      "Verifying transaction: ...working... done\n",
      "Executing transaction: ...working... \n",
      "\n",
      "    Windows 64-bit packages of scikit-learn can be accelerated using scikit-learn-intelex.\n",
      "    More details are available here: https://intel.github.io/scikit-learn-intelex\n",
      "\n",
      "    For example:\n",
      "\n",
      "        $ conda install scikit-learn-intelex\n",
      "        $ python -m sklearnex my_application.py\n",
      "\n",
      "\n",
      "done\n"
     ]
    }
   ],
   "source": [
    "conda update --all "
   ]
  },
  {
   "cell_type": "code",
   "execution_count": null,
   "id": "77abe2bf",
   "metadata": {
    "slideshow": {
     "slide_type": "slide"
    }
   },
   "outputs": [],
   "source": [
    "conda install -c conda-forge/label/broken tensorflow "
   ]
  },
  {
   "cell_type": "markdown",
   "id": "4fd48092",
   "metadata": {
    "slideshow": {
     "slide_type": "slide"
    }
   },
   "source": [
    "Esto aplica el Descenso de Gradiente Estocástico regular (vea el Capítulo 4) para entrenar un clasificador SVM lineal. "
   ]
  },
  {
   "cell_type": "markdown",
   "id": "df449dea",
   "metadata": {
    "slideshow": {
     "slide_type": "slide"
    }
   },
   "source": [
    "No converge tan rápido como la clase `LinearSVC`, pero puede ser útil para manejar tareas de clasificación en línea o grandes conjuntos de datos que no caben en la memoria (entrenamiento fuera del núcleo)."
   ]
  },
  {
   "cell_type": "markdown",
   "id": "765d1dca",
   "metadata": {
    "slideshow": {
     "slide_type": "slide"
    }
   },
   "source": [
    "### Sugerencia"
   ]
  },
  {
   "cell_type": "markdown",
   "id": "b144fb29",
   "metadata": {
    "slideshow": {
     "slide_type": "slide"
    }
   },
   "source": [
    "La clase `LinearSVC` regulariza el término de sesgo, por lo que primero debe centrar el conjunto de entrenamiento restando su media."
   ]
  },
  {
   "cell_type": "markdown",
   "id": "0396a56e",
   "metadata": {
    "slideshow": {
     "slide_type": "slide"
    }
   },
   "source": [
    "Esto es automático si escala los datos usando `StandardScaler`."
   ]
  },
  {
   "cell_type": "markdown",
   "id": "0f6dac4e",
   "metadata": {
    "slideshow": {
     "slide_type": "slide"
    }
   },
   "source": [
    "También asegúrese de establecer el hiperparámetro  `loss` en `hinge`, ya que no es el valor predeterminado."
   ]
  },
  {
   "cell_type": "markdown",
   "id": "1fd3a168",
   "metadata": {
    "slideshow": {
     "slide_type": "slide"
    }
   },
   "source": [
    "Finalmente, para un mejor rendimiento, debe establecer el hiperparámetro `dual` en `False`, a menos que haya más funciones que instancias de entrenamiento (hablaremos de la dualidad más adelante en este capítulo)."
   ]
  },
  {
   "cell_type": "markdown",
   "id": "cb4f233e",
   "metadata": {
    "slideshow": {
     "slide_type": "slide"
    }
   },
   "source": [
    "## Nonlinear SVM Classification"
   ]
  },
  {
   "cell_type": "markdown",
   "id": "86b6c149",
   "metadata": {
    "slideshow": {
     "slide_type": "slide"
    }
   },
   "source": [
    "Aunque los clasificadores SVM lineales son eficientes y funcionan sorprendentemente bien en muchos casos, muchos conjuntos de datos ni siquiera están cerca de ser separables linealmente."
   ]
  },
  {
   "cell_type": "markdown",
   "id": "0aa157ec",
   "metadata": {
    "slideshow": {
     "slide_type": "slide"
    }
   },
   "source": [
    "* Un enfoque para manejar conjuntos de datos no lineales es agregar más atributos,  \n",
    "* como atributos polinomiales (como hizo en el Capítulo 4); \n",
    "* en algunos casos, esto puede dar como resultado un conjunto de datos linealmente separable."
   ]
  },
  {
   "cell_type": "markdown",
   "id": "765e6300",
   "metadata": {
    "slideshow": {
     "slide_type": "slide"
    }
   },
   "source": [
    "Considere el diagrama de la izquierda en la Figura 5-5: representa un conjunto de datos simple con solo una característica, $x_{1}$."
   ]
  },
  {
   "cell_type": "markdown",
   "id": "3eccdb75",
   "metadata": {
    "slideshow": {
     "slide_type": "slide"
    }
   },
   "source": [
    "<img src = 'https://github.com/marco-canas/didactica_ciencia_datos/blob/main/referentes/geron/part_1/chap_5_svm/figure_5_5.jpg?raw=true'>"
   ]
  },
  {
   "cell_type": "markdown",
   "id": "521b972b",
   "metadata": {
    "slideshow": {
     "slide_type": "slide"
    }
   },
   "source": [
    "Este conjunto de datos no es linealmente separable, como puede ver."
   ]
  },
  {
   "cell_type": "markdown",
   "id": "0975c2bf",
   "metadata": {
    "slideshow": {
     "slide_type": "slide"
    }
   },
   "source": [
    "Pero si agrega una segunda característica $x_{2} = (x_{1})^{2}$ , el conjunto de datos 2D resultante es perfectamente separable linealmente."
   ]
  },
  {
   "cell_type": "markdown",
   "id": "841d484e",
   "metadata": {
    "slideshow": {
     "slide_type": "slide"
    }
   },
   "source": [
    "Para implementar esta idea usando Scikit-Learn, cree un Pipeline que contenga un transformador `PolynomialFeatures` (discutido en \"Regresión polinomial\"), seguido de un `StandardScaler` y un `LinearSVC`. "
   ]
  },
  {
   "cell_type": "markdown",
   "id": "d136ec09",
   "metadata": {
    "slideshow": {
     "slide_type": "slide"
    }
   },
   "source": [
    "Probemos esto en el conjunto de datos de las lunas: este es un conjunto de datos de juguete para la clasificación binaria en el que los puntos de datos tienen la forma de dos semicírculos intercalados (consulte la Figura 5-6)."
   ]
  },
  {
   "cell_type": "markdown",
   "id": "98077921",
   "metadata": {
    "slideshow": {
     "slide_type": "slide"
    }
   },
   "source": [
    "<img src = 'https://github.com/marco-canas/didactica_ciencia_datos/blob/main/referentes/geron/part_1/chap_5_svm/figure_5_6.jpg?raw=true'>"
   ]
  },
  {
   "cell_type": "markdown",
   "id": "066cd27c",
   "metadata": {
    "slideshow": {
     "slide_type": "slide"
    }
   },
   "source": [
    "Puedes generar este conjunto de datos usando la función `make_moons()`:"
   ]
  },
  {
   "cell_type": "code",
   "execution_count": null,
   "id": "e0c1d58f",
   "metadata": {
    "slideshow": {
     "slide_type": "slide"
    }
   },
   "outputs": [],
   "source": [
    "from sklearn.datasets import make_moons\n",
    "from sklearn.pipeline import Pipeline\n",
    "from sklearn.preprocessing import PolynomialFeatures\n",
    "X, y = make_moons(n_samples=100, noise=0.15)\n",
    "polynomial_svm_clf = Pipeline([\n",
    "                              (\"poly_features\", PolynomialFeatures(degree=3)),\n",
    "                              (\"scaler\", StandardScaler()),\n",
    "                              (\"svm_clf\", LinearSVC(C=10, loss=\"hinge\"))\n",
    "                              ])\n",
    "polynomial_svm_clf.fit(X, y)\n"
   ]
  },
  {
   "cell_type": "markdown",
   "id": "d5d3f6ef",
   "metadata": {
    "slideshow": {
     "slide_type": "slide"
    }
   },
   "source": [
    "## Polynomial Kernel"
   ]
  },
  {
   "cell_type": "markdown",
   "id": "66555c55",
   "metadata": {
    "slideshow": {
     "slide_type": "slide"
    }
   },
   "source": [
    "Agregar atributos polinomiales es simple de implementar y puede funcionar muy bien con todo tipo de algoritmos de aprendizaje automático (no solo SVM)."
   ]
  },
  {
   "cell_type": "markdown",
   "id": "a1d9de06",
   "metadata": {
    "slideshow": {
     "slide_type": "slide"
    }
   },
   "source": [
    "Dicho esto, en un grado polinomial bajo, este método no puede manejar conjuntos de datos muy complejos, y con un grado polinomial alto crea una gran cantidad de características, lo que hace que el modelo sea demasiado lento."
   ]
  },
  {
   "cell_type": "markdown",
   "id": "365e0d16",
   "metadata": {
    "slideshow": {
     "slide_type": "slide"
    }
   },
   "source": [
    "Afortunadamente, al usar SVM, puede aplicar una técnica matemática casi milagrosa llamada truco del kernel (explicado en un momento)."
   ]
  },
  {
   "cell_type": "markdown",
   "id": "cebbc9dc",
   "metadata": {
    "slideshow": {
     "slide_type": "slide"
    }
   },
   "source": [
    "El truco del kernel hace posible obtener el mismo resultado que si hubiera agregado muchos atributos polinomiales, incluso con polinomios de muy alto grado, sin tener que agregarlos."
   ]
  },
  {
   "cell_type": "markdown",
   "id": "9b9fc3a9",
   "metadata": {
    "slideshow": {
     "slide_type": "slide"
    }
   },
   "source": [
    "Por lo tanto, no hay una explosión combinatoria de la cantidad de atributos porque en realidad no agrega ningún atributo."
   ]
  },
  {
   "cell_type": "markdown",
   "id": "899ff6fe",
   "metadata": {
    "slideshow": {
     "slide_type": "slide"
    }
   },
   "source": [
    "Este truco lo implementa la clase `SVC`."
   ]
  },
  {
   "cell_type": "markdown",
   "id": "d864a474",
   "metadata": {
    "slideshow": {
     "slide_type": "slide"
    }
   },
   "source": [
    "Vamos a probarlo en el conjunto de datos de las lunas:"
   ]
  },
  {
   "cell_type": "code",
   "execution_count": 5,
   "id": "d8aaf3e3",
   "metadata": {
    "slideshow": {
     "slide_type": "slide"
    }
   },
   "outputs": [
    {
     "data": {
      "text/plain": [
       "Pipeline(steps=[('scaler', StandardScaler()),\n",
       "                ('svm_clf', SVC(C=5, coef0=1, kernel='poly'))])"
      ]
     },
     "execution_count": 5,
     "metadata": {},
     "output_type": "execute_result"
    }
   ],
   "source": [
    "from sklearn.datasets import load_iris \n",
    "iris = load_iris()\n",
    "X, y = iris.data[:,(2,3)], iris.target\n",
    "from sklearn.pipeline import Pipeline \n",
    "from sklearn.preprocessing import StandardScaler \n",
    "from sklearn.svm import SVC\n",
    "poly_kernel_svm_clf = Pipeline([\n",
    "(\"scaler\", StandardScaler()),\n",
    "(\"svm_clf\", SVC(kernel=\"poly\", degree=3, coef0=1, C=5))\n",
    "])\n",
    "poly_kernel_svm_clf.fit(X, y)\n"
   ]
  },
  {
   "cell_type": "markdown",
   "id": "b2d8c721",
   "metadata": {
    "slideshow": {
     "slide_type": "slide"
    }
   },
   "source": [
    "Este código entrena un clasificador `SVM` utilizando un kernel polinomial de tercer grado."
   ]
  },
  {
   "cell_type": "markdown",
   "id": "587f2a0c",
   "metadata": {
    "slideshow": {
     "slide_type": "slide"
    }
   },
   "source": [
    "Se representa a la izquierda en la Figura 5-7. "
   ]
  },
  {
   "cell_type": "markdown",
   "id": "c798f0c0",
   "metadata": {
    "slideshow": {
     "slide_type": "slide"
    }
   },
   "source": [
    "A la derecha hay otro clasificador `SVM` que utiliza un núcleo polinomial de décimo grado."
   ]
  },
  {
   "cell_type": "markdown",
   "id": "80f1fd3b",
   "metadata": {
    "slideshow": {
     "slide_type": "slide"
    }
   },
   "source": [
    "<img src = 'https://github.com/marco-canas/didactica_ciencia_datos/blob/main/referentes/geron/part_1/chap_5_svm/figure_5_7.jpg?raw=true'>"
   ]
  },
  {
   "cell_type": "markdown",
   "id": "8dc4d1f6",
   "metadata": {
    "slideshow": {
     "slide_type": "slide"
    }
   },
   "source": [
    "Obviamente, si su modelo se ajusta en exceso, es posible que desee reducir el grado del polinomio."
   ]
  },
  {
   "cell_type": "markdown",
   "id": "e6105471",
   "metadata": {
    "slideshow": {
     "slide_type": "slide"
    }
   },
   "source": [
    "Por el contrario, si no se ajusta bien, puede intentar aumentarlo."
   ]
  },
  {
   "cell_type": "markdown",
   "id": "ae375c1b",
   "metadata": {
    "slideshow": {
     "slide_type": "slide"
    }
   },
   "source": [
    "El hiperparámetro `coef0` controla cuánto influyen en el modelo los polinomios de alto grado frente a los polinomios de bajo grado."
   ]
  },
  {
   "cell_type": "markdown",
   "id": "2f5877bd",
   "metadata": {
    "slideshow": {
     "slide_type": "slide"
    }
   },
   "source": [
    "## Sugerencia"
   ]
  },
  {
   "cell_type": "markdown",
   "id": "ba7e79d7",
   "metadata": {
    "slideshow": {
     "slide_type": "slide"
    }
   },
   "source": [
    "Un enfoque común para encontrar los valores correctos de hiperparámetros es usar la búsqueda en cuadrícula (consulte el Capítulo 2)."
   ]
  },
  {
   "cell_type": "markdown",
   "id": "ff51a459",
   "metadata": {
    "slideshow": {
     "slide_type": "slide"
    }
   },
   "source": [
    "A menudo es más rápido hacer primero una búsqueda de cuadrícula muy gruesa y luego una búsqueda de cuadrícula más fina alrededor de los mejores valores encontrados."
   ]
  },
  {
   "cell_type": "markdown",
   "id": "e148ce6e",
   "metadata": {
    "slideshow": {
     "slide_type": "slide"
    }
   },
   "source": [
    "Tener una buena idea de lo que realmente hace cada hiperparámetro también puede ayudarlo a buscar en la parte correcta del espacio de hiperparámetros."
   ]
  },
  {
   "cell_type": "markdown",
   "id": "010d1d2f",
   "metadata": {
    "slideshow": {
     "slide_type": "slide"
    }
   },
   "source": [
    "## Similarity Features"
   ]
  },
  {
   "cell_type": "markdown",
   "id": "e173a30e",
   "metadata": {
    "slideshow": {
     "slide_type": "slide"
    }
   },
   "source": [
    "Otra técnica para abordar problemas no lineales es agregar atributos calculados usando una función de similitud, que mide cuánto se parece cada instancia a un punto de referencia particular."
   ]
  },
  {
   "cell_type": "markdown",
   "id": "dd595ce0",
   "metadata": {
    "slideshow": {
     "slide_type": "slide"
    }
   },
   "source": [
    "Por ejemplo, tomemos el conjunto de datos 1D discutido anteriormente y agreguemos dos puntos de referencia en $x = –2$ y $x = 1$ (vea el diagrama de la izquierda en la Figura 5-8)."
   ]
  },
  {
   "cell_type": "markdown",
   "id": "0ff21276",
   "metadata": {
    "slideshow": {
     "slide_type": "slide"
    }
   },
   "source": [
    "<img src = 'https://github.com/marco-canas/didactica_ciencia_datos/blob/main/referentes/geron/part_1/chap_5_svm/figure_5_8.jpg?raw=true'>"
   ]
  },
  {
   "cell_type": "markdown",
   "id": "5e32cd29",
   "metadata": {
    "slideshow": {
     "slide_type": "slide"
    }
   },
   "source": [
    "A continuación, definamos que la función de similitud es la función de base radial gaussiana (RBF) con $\\gamma = 0,3$ (consulte la ecuación 5-1)."
   ]
  },
  {
   "cell_type": "markdown",
   "id": "ebf69758",
   "metadata": {
    "slideshow": {
     "slide_type": "slide"
    }
   },
   "source": [
    "Equation 5-1. Gaussian RBF\n",
    "\n",
    "$$ \\phi_{\\gamma}(x,\\mathcal{l}) = exp\\left( -\\gamma \\Vert x - \\mathcal{l} \\Vert^{2} \\right) $$\n"
   ]
  },
  {
   "cell_type": "markdown",
   "id": "0bac349c",
   "metadata": {
    "slideshow": {
     "slide_type": "slide"
    }
   },
   "source": [
    "Esta es una función en forma de campana que varía de 0 (muy lejos del punto de referencia) a 1 (en el punto de referencia)."
   ]
  },
  {
   "cell_type": "markdown",
   "id": "5bdf9b09",
   "metadata": {
    "slideshow": {
     "slide_type": "slide"
    }
   },
   "source": [
    "Ahora estamos listos para calcular las nuevas características."
   ]
  },
  {
   "cell_type": "markdown",
   "id": "f14c2e09",
   "metadata": {
    "slideshow": {
     "slide_type": "slide"
    }
   },
   "source": [
    "Por ejemplo, veamos la instancia $x = -1$: se encuentra a una distancia de 1 del primer punto de referencia y de 2 del segundo punto de referencia."
   ]
  },
  {
   "cell_type": "markdown",
   "id": "43552a82",
   "metadata": {
    "slideshow": {
     "slide_type": "slide"
    }
   },
   "source": [
    "Por lo tanto, sus nuevos atributos son $x = exp(–0,3 × 1) \\approx 0,74$ y $x = exp(– 0,3 × 2) \\approx 0,30$."
   ]
  },
  {
   "cell_type": "markdown",
   "id": "aef1a170",
   "metadata": {
    "slideshow": {
     "slide_type": "slide"
    }
   },
   "source": [
    "El gráfico de la derecha en la Figura 5-8 muestra el conjunto de datos transformado (eliminando los atributos originales)."
   ]
  },
  {
   "cell_type": "markdown",
   "id": "071931d2",
   "metadata": {
    "slideshow": {
     "slide_type": "slide"
    }
   },
   "source": [
    "Como puede ver, ahora es linealmente separable."
   ]
  },
  {
   "cell_type": "markdown",
   "id": "d84dadc3",
   "metadata": {
    "slideshow": {
     "slide_type": "slide"
    }
   },
   "source": [
    "Quizás se pregunte cómo seleccionar los puntos de referencia."
   ]
  },
  {
   "cell_type": "markdown",
   "id": "ccf5414d",
   "metadata": {
    "slideshow": {
     "slide_type": "slide"
    }
   },
   "source": [
    "El enfoque más simple es crear un punto de referencia en la ubicación de todas y cada una de las instancias del conjunto de datos."
   ]
  },
  {
   "cell_type": "markdown",
   "id": "63d107eb",
   "metadata": {
    "slideshow": {
     "slide_type": "slide"
    }
   },
   "source": [
    "Hacer eso crea muchas dimensiones y, por lo tanto, aumenta las posibilidades de que el conjunto de entrenamiento transformado sea linealmente separable."
   ]
  },
  {
   "cell_type": "markdown",
   "id": "fc232a09",
   "metadata": {
    "slideshow": {
     "slide_type": "slide"
    }
   },
   "source": [
    "La desventaja es que un conjunto de entrenamiento con $m$ instancias y $n$ atributos se transforma en un conjunto de entrenamiento con $m$ instancias y $m$ atributos (suponiendo que descarte los atributos originales)."
   ]
  },
  {
   "cell_type": "markdown",
   "id": "3091a5e7",
   "metadata": {
    "slideshow": {
     "slide_type": "slide"
    }
   },
   "source": [
    "Si su conjunto de entrenamiento es muy grande, terminará con una cantidad igualmente grande de atributos."
   ]
  },
  {
   "cell_type": "markdown",
   "id": "84e42500",
   "metadata": {
    "slideshow": {
     "slide_type": "slide"
    }
   },
   "source": [
    "## Gaussian RBF Kernel"
   ]
  },
  {
   "cell_type": "markdown",
   "id": "61dcb813",
   "metadata": {
    "slideshow": {
     "slide_type": "slide"
    }
   },
   "source": [
    "Al igual que el método de características polinómicas, el método de características de similitud puede ser útil con cualquier algoritmo de aprendizaje automático, pero puede ser computacionalmente costoso calcular todas las características adicionales, especialmente en grandes conjuntos de entrenamiento."
   ]
  },
  {
   "cell_type": "markdown",
   "id": "6fb09a9d",
   "metadata": {
    "slideshow": {
     "slide_type": "slide"
    }
   },
   "source": [
    "Una vez más, el truco del kernel hace su magia SVM, haciendo posible obtener un resultado similar como si hubiera agregado muchas características de similitud. "
   ]
  },
  {
   "cell_type": "markdown",
   "id": "b5aa64c8",
   "metadata": {
    "slideshow": {
     "slide_type": "slide"
    }
   },
   "source": [
    "Probemos la clase SVC con el núcleo Gaussian RBF:"
   ]
  },
  {
   "cell_type": "code",
   "execution_count": 4,
   "id": "6c3b5e63",
   "metadata": {
    "slideshow": {
     "slide_type": "slide"
    }
   },
   "outputs": [
    {
     "data": {
      "text/plain": [
       "Pipeline(steps=[('scaler', StandardScaler()),\n",
       "                ('svm_clf', SVC(C=0.001, gamma=5))])"
      ]
     },
     "execution_count": 4,
     "metadata": {},
     "output_type": "execute_result"
    }
   ],
   "source": [
    "rbf_kernel_svm_clf = Pipeline([\n",
    "(\"scaler\", StandardScaler()),\n",
    "(\"svm_clf\", SVC(kernel=\"rbf\", gamma=5, C=0.001))\n",
    "])\n",
    "rbf_kernel_svm_clf.fit(X, y)"
   ]
  },
  {
   "cell_type": "markdown",
   "id": "8ad69250",
   "metadata": {
    "slideshow": {
     "slide_type": "slide"
    }
   },
   "source": [
    "Este modelo se representa en la parte inferior izquierda de la Figura 5-9. "
   ]
  },
  {
   "cell_type": "markdown",
   "id": "c603b6c3",
   "metadata": {
    "slideshow": {
     "slide_type": "slide"
    }
   },
   "source": [
    "Los otros gráficos muestran modelos entrenados con diferentes valores de hiperparámetros gamma ($\\gamma$) y `C`."
   ]
  },
  {
   "cell_type": "markdown",
   "id": "34481427",
   "metadata": {
    "slideshow": {
     "slide_type": "slide"
    }
   },
   "source": [
    "El aumento de gamma hace que la curva en forma de campana sea más estrecha (vea los gráficos de la derecha en la Figura 5-8)."
   ]
  },
  {
   "cell_type": "markdown",
   "id": "236e2954",
   "metadata": {
    "slideshow": {
     "slide_type": "slide"
    }
   },
   "source": [
    "Como resultado, el rango de influencia de cada instancia es más pequeño: el límite de decisión termina siendo más irregular, moviéndose alrededor de las instancias individuales."
   ]
  },
  {
   "cell_type": "markdown",
   "id": "8eb50f30",
   "metadata": {
    "slideshow": {
     "slide_type": "slide"
    }
   },
   "source": [
    "Por el contrario, un valor de gamma pequeño hace que la curva en forma de campana sea más ancha: las instancias tienen un mayor rango de influencia y el límite de decisión termina siendo más suave."
   ]
  },
  {
   "cell_type": "markdown",
   "id": "f79b3dc5",
   "metadata": {
    "slideshow": {
     "slide_type": "slide"
    }
   },
   "source": [
    "Entonces $\\gamma$ actúa como un hiperparámetro de regularización: si su modelo se sobreajusta, debe reducirlo; si es insuficiente, debe aumentarlo (similar al hiperparámetro `C`)."
   ]
  },
  {
   "cell_type": "markdown",
   "id": "e0367854",
   "metadata": {
    "slideshow": {
     "slide_type": "slide"
    }
   },
   "source": [
    "Existen otros núcleos, pero se usan mucho menos. "
   ]
  },
  {
   "cell_type": "markdown",
   "id": "49156405",
   "metadata": {
    "slideshow": {
     "slide_type": "slide"
    }
   },
   "source": [
    "Algunos núcleos están especializados para estructuras de datos específicas."
   ]
  },
  {
   "cell_type": "markdown",
   "id": "bd3738dd",
   "metadata": {
    "slideshow": {
     "slide_type": "slide"
    }
   },
   "source": [
    "Los núcleos de cadena se utilizan a veces al clasificar documentos de texto o secuencias de ADN (por ejemplo, utilizando el núcleo de subsecuencia de cadena o los núcleos basados en la distancia de Levenshtein)."
   ]
  },
  {
   "cell_type": "markdown",
   "id": "7ba052c5",
   "metadata": {
    "slideshow": {
     "slide_type": "slide"
    }
   },
   "source": [
    "<img src = 'https://github.com/marco-canas/didactica_ciencia_datos/blob/main/referentes/geron/part_1/chap_5_svm/figure_5_9.jpg?raw=true'>"
   ]
  },
  {
   "cell_type": "markdown",
   "id": "bf9a7cf9",
   "metadata": {
    "slideshow": {
     "slide_type": "slide"
    }
   },
   "source": [
    "## TIP"
   ]
  },
  {
   "cell_type": "markdown",
   "id": "75339f7b",
   "metadata": {
    "slideshow": {
     "slide_type": "slide"
    }
   },
   "source": [
    "Con tantos núcleos para elegir, ¿cómo puede decidir cuál usar?"
   ]
  },
  {
   "cell_type": "markdown",
   "id": "7187d188",
   "metadata": {
    "slideshow": {
     "slide_type": "slide"
    }
   },
   "source": [
    "Como regla general, siempre debe probar primero el kernel lineal (recuerde que LinearSVC es mucho más rápido que SVC(kernel=\"linear\")), especialmente si el conjunto de entrenamiento es muy grande o si tiene muchas funciones."
   ]
  },
  {
   "cell_type": "markdown",
   "id": "492c3920",
   "metadata": {
    "slideshow": {
     "slide_type": "slide"
    }
   },
   "source": [
    "Si el conjunto de entrenamiento no es demasiado grande, también debería probar el kernel Gaussian RBF; funciona bien en la mayoría de los casos. "
   ]
  },
  {
   "cell_type": "markdown",
   "id": "570fcee6",
   "metadata": {
    "slideshow": {
     "slide_type": "slide"
    }
   },
   "source": [
    "Luego, si tiene tiempo libre y poder de cómputo, puede experimentar con algunos otros núcleos, utilizando la validación cruzada y la búsqueda en cuadrícula."
   ]
  },
  {
   "cell_type": "markdown",
   "id": "a7aedab7",
   "metadata": {
    "slideshow": {
     "slide_type": "slide"
    }
   },
   "source": [
    "Le gustaría experimentar así, especialmente si hay núcleos especializados para la estructura de datos de su conjunto de entrenamiento."
   ]
  },
  {
   "cell_type": "markdown",
   "id": "30ac0c6a",
   "metadata": {
    "slideshow": {
     "slide_type": "slide"
    }
   },
   "source": [
    "## Complejidad computacional"
   ]
  },
  {
   "cell_type": "markdown",
   "id": "f59a6480",
   "metadata": {
    "slideshow": {
     "slide_type": "slide"
    }
   },
   "source": [
    "La clase LinearSVC se basa en la biblioteca liblinear, que implementa un algoritmo optimizado para SVM lineales. "
   ]
  },
  {
   "cell_type": "markdown",
   "id": "b10c622c",
   "metadata": {
    "slideshow": {
     "slide_type": "slide"
    }
   },
   "source": [
    "No es compatible con el truco del kernel, pero escala casi linealmente con la cantidad de instancias de capacitación y la cantidad de funciones."
   ]
  },
  {
   "cell_type": "markdown",
   "id": "239c55ab",
   "metadata": {
    "slideshow": {
     "slide_type": "slide"
    }
   },
   "source": [
    "Su complejidad de tiempo de entrenamiento es aproximadamente $O(m \\times n)$."
   ]
  },
  {
   "cell_type": "markdown",
   "id": "f4336c4b",
   "metadata": {
    "slideshow": {
     "slide_type": "slide"
    }
   },
   "source": [
    "El algoritmo tarda más si necesita una precisión muy alta. "
   ]
  },
  {
   "cell_type": "markdown",
   "id": "d25ee82c",
   "metadata": {
    "slideshow": {
     "slide_type": "slide"
    }
   },
   "source": [
    "Esto está controlado por el hiperparámetro de tolerancia $\\epsilon$ (llamado `tol` en Scikit-Learn). "
   ]
  },
  {
   "cell_type": "markdown",
   "id": "db75f3d0",
   "metadata": {
    "slideshow": {
     "slide_type": "slide"
    }
   },
   "source": [
    "En la mayoría de las tareas de clasificación, la tolerancia predeterminada está bien."
   ]
  },
  {
   "cell_type": "markdown",
   "id": "6ef63153",
   "metadata": {
    "slideshow": {
     "slide_type": "slide"
    }
   },
   "source": [
    "The SVC class is based on the libsvm library, which implements an algorithm that supports\n",
    "the kernel trick. "
   ]
  },
  {
   "cell_type": "markdown",
   "id": "048954ec",
   "metadata": {
    "slideshow": {
     "slide_type": "slide"
    }
   },
   "source": [
    "The training time complexity is usually between $O(m × n)$ and $O(m × n)$. "
   ]
  },
  {
   "cell_type": "markdown",
   "id": "f9477e44",
   "metadata": {
    "slideshow": {
     "slide_type": "slide"
    }
   },
   "source": [
    "Unfortunately, this means that it gets dreadfully slow when the number of training instances gets large (e.g., hundreds of thousands of instances). "
   ]
  },
  {
   "cell_type": "markdown",
   "id": "a81e1ab6",
   "metadata": {
    "slideshow": {
     "slide_type": "slide"
    }
   },
   "source": [
    "Este algoritmo es perfecto para conjuntos de entrenamiento complejos de tamaño pequeño o mediano."
   ]
  },
  {
   "cell_type": "markdown",
   "id": "85a49506",
   "metadata": {
    "slideshow": {
     "slide_type": "slide"
    }
   },
   "source": [
    "It scales well with the number of features, especially with sparse features (i.e., when each instance has few nonzero features). "
   ]
  },
  {
   "cell_type": "markdown",
   "id": "bc1c3740",
   "metadata": {
    "slideshow": {
     "slide_type": "slide"
    }
   },
   "source": [
    "In this case, the algorithm scales roughly with the average number of nonzero features per\n",
    "instance. "
   ]
  },
  {
   "cell_type": "markdown",
   "id": "c4864dcb",
   "metadata": {
    "slideshow": {
     "slide_type": "slide"
    }
   },
   "source": [
    "Table 5-1 compares Scikit-Learn’s SVM classification classes."
   ]
  },
  {
   "cell_type": "markdown",
   "id": "5311344b",
   "metadata": {
    "slideshow": {
     "slide_type": "slide"
    }
   },
   "source": [
    "<img src = 'https://github.com/marco-canas/didactica_ciencia_datos/blob/main/referentes/geron/part_1/chap_5_svm/table_5_1.jpg?raw=true'>"
   ]
  },
  {
   "cell_type": "markdown",
   "id": "cd2990bb",
   "metadata": {
    "slideshow": {
     "slide_type": "slide"
    }
   },
   "source": [
    "## SVM Regression"
   ]
  },
  {
   "cell_type": "markdown",
   "id": "986882f0",
   "metadata": {
    "slideshow": {
     "slide_type": "slide"
    }
   },
   "source": [
    "Como se mencionó anteriormente, el algoritmo SVM es versátil: no solo admite la clasificación lineal y no lineal, sino que también admite la regresión lineal y no lineal."
   ]
  },
  {
   "cell_type": "markdown",
   "id": "465d7954",
   "metadata": {
    "slideshow": {
     "slide_type": "slide"
    }
   },
   "source": [
    "Para usar SVM para la regresión en lugar de la clasificación, el truco es invertir el objetivo: en lugar de intentar encajar la calle más grande posible entre dos clases mientras limita las violaciones de margen, SVM Regression intenta encajar tantas instancias como sea posible en la calle mientras limita el margen. infracciones (es decir, instancias fuera de la calle)."
   ]
  },
  {
   "cell_type": "markdown",
   "id": "12ae8aac",
   "metadata": {
    "slideshow": {
     "slide_type": "slide"
    }
   },
   "source": [
    "El ancho de la calle está controlado por un hiperparámetro, $\\epsilon$."
   ]
  },
  {
   "cell_type": "markdown",
   "id": "8b4499de",
   "metadata": {
    "slideshow": {
     "slide_type": "slide"
    }
   },
   "source": [
    "La Figura 5-10 muestra dos modelos de regresión SVM lineal entrenados en algunos datos lineales aleatorios, uno con un margen grande ($\\epsilon = 1,5$) y el otro con un margen pequeño ($\\epsilon = 0,5$)."
   ]
  },
  {
   "cell_type": "markdown",
   "id": "483d94b1",
   "metadata": {
    "slideshow": {
     "slide_type": "slide"
    }
   },
   "source": [
    "<img src = 'https://github.com/marco-canas/didactica_ciencia_datos/blob/main/referentes/geron/part_1/chap_5_svm/figure_5_10.jpg?raw=true'>"
   ]
  },
  {
   "cell_type": "markdown",
   "id": "0ef25068",
   "metadata": {
    "slideshow": {
     "slide_type": "slide"
    }
   },
   "source": [
    "Agregar más instancias de entrenamiento dentro del margen no afecta las predicciones del modelo; por lo tanto, se dice que el modelo es $\\epsilon$-insensible."
   ]
  },
  {
   "cell_type": "markdown",
   "id": "15c9c17e",
   "metadata": {
    "slideshow": {
     "slide_type": "slide"
    }
   },
   "source": [
    "Puede utilizar la clase `LinearSVR` de Scikit-Learn para realizar una regresión SVM lineal."
   ]
  },
  {
   "cell_type": "markdown",
   "id": "b4febc2d",
   "metadata": {
    "slideshow": {
     "slide_type": "slide"
    }
   },
   "source": [
    "El siguiente código produce el modelo representado a la izquierda en la Figura 5-10 (primero se deben escalar y centrar los datos de entrenamiento):"
   ]
  },
  {
   "cell_type": "code",
   "execution_count": null,
   "id": "f7a9f33b",
   "metadata": {
    "slideshow": {
     "slide_type": "slide"
    }
   },
   "outputs": [],
   "source": [
    "from sklearn.svm import LinearSVR\n",
    "svm_reg = LinearSVR(epsilon=1.5)\n",
    "svm_reg.fit(X, y)"
   ]
  },
  {
   "cell_type": "markdown",
   "id": "6f751d00",
   "metadata": {
    "slideshow": {
     "slide_type": "slide"
    }
   },
   "source": [
    "Para abordar tareas de regresión no lineal, puede usar un modelo `SVM` kernelizado."
   ]
  },
  {
   "cell_type": "markdown",
   "id": "6864916a",
   "metadata": {
    "slideshow": {
     "slide_type": "slide"
    }
   },
   "source": [
    "La figura 5-11 muestra la regresión SVM en un conjunto de entrenamiento cuadrático aleatorio, utilizando un núcleo polinomial de segundo grado."
   ]
  },
  {
   "cell_type": "markdown",
   "id": "e6915a38",
   "metadata": {
    "slideshow": {
     "slide_type": "slide"
    }
   },
   "source": [
    "Hay poca regularización en el gráfico de la izquierda (es decir, un valor de `C` grande) y mucha más regularización en el gráfico de la derecha (es decir, un valor de `C` pequeño)."
   ]
  },
  {
   "cell_type": "markdown",
   "id": "d48f118a",
   "metadata": {
    "slideshow": {
     "slide_type": "slide"
    }
   },
   "source": [
    "\n",
    "<img src = 'https://github.com/marco-canas/didactica_ciencia_datos/blob/main/referentes/geron/part_1/chap_5_svm/figure_5_11.jpg?raw=true'>"
   ]
  },
  {
   "cell_type": "markdown",
   "id": "4e4f4224",
   "metadata": {
    "slideshow": {
     "slide_type": "slide"
    }
   },
   "source": [
    "El siguiente código usa la clase SVR de Scikit-Learn (que admite el truco del kernel) para producir el modelo representado a la izquierda en la Figura 5-11:"
   ]
  },
  {
   "cell_type": "code",
   "execution_count": null,
   "id": "2098e83c",
   "metadata": {
    "slideshow": {
     "slide_type": "slide"
    }
   },
   "outputs": [],
   "source": [
    "from sklearn.svm import SVR\n",
    "svm_poly_reg = SVR(kernel=\"poly\", degree=2, C=100, epsilon=0.1)\n",
    "svm_poly_reg.fit(X, y)"
   ]
  },
  {
   "cell_type": "markdown",
   "id": "f3f09d41",
   "metadata": {
    "slideshow": {
     "slide_type": "slide"
    }
   },
   "source": [
    "La clase `SVR` es el equivalente de regresión de la clase `SVC`, y la clase `LinearSVR` es el equivalente de regresión de la clase `LinearSVC`."
   ]
  },
  {
   "cell_type": "markdown",
   "id": "74b32196",
   "metadata": {
    "slideshow": {
     "slide_type": "slide"
    }
   },
   "source": [
    "La clase `LinearSVR` escala linealmente con el tamaño del conjunto de entrenamiento (al igual que la clase `LinearSVC`), mientras que la clase `SVR` se vuelve demasiado lenta cuando el conjunto de entrenamiento crece (al igual que la clase `SVC`)."
   ]
  },
  {
   "cell_type": "markdown",
   "id": "198c01be",
   "metadata": {
    "slideshow": {
     "slide_type": "slide"
    }
   },
   "source": [
    "## NOTE  "
   ]
  },
  {
   "cell_type": "markdown",
   "id": "1867c837",
   "metadata": {
    "slideshow": {
     "slide_type": "slide"
    }
   },
   "source": [
    "Las SVM también se pueden usar para la detección de valores atípicos; consulte la documentación de Scikit-Learn para obtener más detalles."
   ]
  },
  {
   "cell_type": "markdown",
   "id": "f57b461c",
   "metadata": {
    "slideshow": {
     "slide_type": "slide"
    }
   },
   "source": [
    "# Under the Hood"
   ]
  },
  {
   "cell_type": "markdown",
   "id": "930e1ac6",
   "metadata": {
    "slideshow": {
     "slide_type": "slide"
    }
   },
   "source": [
    "Esta sección explica cómo las SVM hacen predicciones y cómo funcionan sus algoritmos de entrenamiento, comenzando con clasificadores SVM lineales."
   ]
  },
  {
   "cell_type": "markdown",
   "id": "cb970c26",
   "metadata": {
    "slideshow": {
     "slide_type": "slide"
    }
   },
   "source": [
    "Si recién está comenzando con Machine Learning, puede omitirlo de manera segura e ir directamente a los ejercicios al final de este capítulo, y regresar más tarde cuando desee obtener una comprensión más profunda de SVM."
   ]
  },
  {
   "cell_type": "markdown",
   "id": "aa6c6b82",
   "metadata": {
    "slideshow": {
     "slide_type": "slide"
    }
   },
   "source": [
    "First, a word about notations. "
   ]
  },
  {
   "cell_type": "markdown",
   "id": "cb326d8a",
   "metadata": {
    "slideshow": {
     "slide_type": "slide"
    }
   },
   "source": [
    "In Chapter 4 we used the convention of putting all the model parameters in one vector $\\theta$, including the bias term $\\theta$ and the input feature weights $\\theta$ to $\\theta$, and adding a bias input $x = 1$ to all instances. "
   ]
  },
  {
   "cell_type": "markdown",
   "id": "22d45907",
   "metadata": {
    "slideshow": {
     "slide_type": "slide"
    }
   },
   "source": [
    "In this chapter we will use a convention that is more convenient (and more common) when dealing with SVMs: the bias term will be called $b$, and the feature weights vector will be called $w$. "
   ]
  },
  {
   "cell_type": "markdown",
   "id": "f9f9bba8",
   "metadata": {
    "slideshow": {
     "slide_type": "slide"
    }
   },
   "source": [
    "No bias feature will be added to the input feature vectors."
   ]
  },
  {
   "cell_type": "markdown",
   "id": "93a7f5f6",
   "metadata": {
    "slideshow": {
     "slide_type": "slide"
    }
   },
   "source": [
    "## Decision Function and Predictions"
   ]
  },
  {
   "cell_type": "markdown",
   "id": "5c0027a8",
   "metadata": {
    "slideshow": {
     "slide_type": "slide"
    }
   },
   "source": [
    "The linear `SVM` classifier model predicts the class of a new instance $x$ by simply computing the decision function $w^{T}x + b = w_{1} x_{1} + \\cdots + w_{n} x_{n} + b$. "
   ]
  },
  {
   "cell_type": "markdown",
   "id": "981ac569",
   "metadata": {
    "slideshow": {
     "slide_type": "slide"
    }
   },
   "source": [
    "If the result is positive, the predicted class $\\hat{y}$ is the positive class (1), and otherwise it is the negative class (0); see Equation 5-2."
   ]
  },
  {
   "cell_type": "markdown",
   "id": "ac748508",
   "metadata": {
    "slideshow": {
     "slide_type": "slide"
    }
   },
   "source": [
    "Equation 5-2. Linear SVM classifier prediction  \n",
    "\n",
    "$$ \\hat{y} = \\begin{cases} 0 & \\text{si}\\ w^{T}x + b < 0 \\\\ 1 & \\text{si}\\ w^{T}x + b \\geq 0 \\end{cases} $$\n"
   ]
  },
  {
   "cell_type": "markdown",
   "id": "5be440bc",
   "metadata": {
    "slideshow": {
     "slide_type": "slide"
    }
   },
   "source": [
    "Figure 5-12 shows the decision function that corresponds to the model in the left in Figure 5-4: it is a 2D plane because this dataset has two features (petal width and petal length). "
   ]
  },
  {
   "cell_type": "markdown",
   "id": "c077d012",
   "metadata": {
    "slideshow": {
     "slide_type": "slide"
    }
   },
   "source": [
    "The decision boundary is the set of points where the decision function is equal to 0: it is the intersection of two planes, which is a straight line (represented by the thick solid line)"
   ]
  },
  {
   "cell_type": "code",
   "execution_count": null,
   "id": "d4df6f8d",
   "metadata": {
    "slideshow": {
     "slide_type": "slide"
    }
   },
   "outputs": [],
   "source": []
  },
  {
   "cell_type": "code",
   "execution_count": null,
   "id": "235a9aa4",
   "metadata": {
    "slideshow": {
     "slide_type": "slide"
    }
   },
   "outputs": [],
   "source": []
  },
  {
   "cell_type": "code",
   "execution_count": null,
   "id": "d46d34ef",
   "metadata": {
    "slideshow": {
     "slide_type": "slide"
    }
   },
   "outputs": [],
   "source": []
  },
  {
   "cell_type": "code",
   "execution_count": null,
   "id": "fd2a49c6",
   "metadata": {
    "slideshow": {
     "slide_type": "slide"
    }
   },
   "outputs": [],
   "source": []
  },
  {
   "cell_type": "code",
   "execution_count": null,
   "id": "cf286b0f",
   "metadata": {},
   "outputs": [],
   "source": []
  },
  {
   "cell_type": "code",
   "execution_count": null,
   "id": "424a10f7",
   "metadata": {},
   "outputs": [],
   "source": []
  },
  {
   "cell_type": "markdown",
   "id": "9812da18",
   "metadata": {
    "slideshow": {
     "slide_type": "slide"
    }
   },
   "source": [
    "# Implementación en código de la propuesta de Gerón para la aplicación de las Máquinas de soporte vectorial para clasificación binaria"
   ]
  },
  {
   "cell_type": "markdown",
   "id": "0ab4551e",
   "metadata": {
    "slideshow": {
     "slide_type": "slide"
    }
   },
   "source": [
    "## [Chapter 5 – Support Vector Machines](https://github.com/ageron/handson-ml2/blob/master/05_support_vector_machines.ipynb)"
   ]
  },
  {
   "cell_type": "markdown",
   "id": "5834adbb",
   "metadata": {
    "slideshow": {
     "slide_type": "slide"
    }
   },
   "source": [
    "Este cuaderno contiene todo el código de muestra y las soluciones a los ejercicios del capítulo 5."
   ]
  },
  {
   "cell_type": "markdown",
   "id": "278cb967",
   "metadata": {
    "slideshow": {
     "slide_type": "slide"
    }
   },
   "source": [
    "## Setup"
   ]
  },
  {
   "cell_type": "markdown",
   "id": "fb23f27c",
   "metadata": {
    "slideshow": {
     "slide_type": "slide"
    }
   },
   "source": [
    "Primero, importemos algunos módulos comunes, asegurémonos de que MatplotLib trace figuras en línea y prepare una función para guardar las figuras."
   ]
  },
  {
   "cell_type": "markdown",
   "id": "334560ce",
   "metadata": {
    "slideshow": {
     "slide_type": "slide"
    }
   },
   "source": [
    "También verificamos que Python 3.5 o posterior esté instalado (aunque Python 2.x puede funcionar, está obsoleto, por lo que le recomendamos que use Python 3 en su lugar), así como Scikit-Learn $\\geq $ 0.20."
   ]
  },
  {
   "cell_type": "code",
   "execution_count": 4,
   "id": "22aa4e32",
   "metadata": {
    "slideshow": {
     "slide_type": "slide"
    }
   },
   "outputs": [],
   "source": [
    "# Python ≥3.5 is required\n",
    "import sys\n",
    "assert sys.version_info >= (3, 5)\n",
    "\n",
    "# Scikit-Learn ≥0.20 is required\n",
    "import sklearn\n",
    "assert sklearn.__version__ >= \"0.20\"\n",
    "\n",
    "# Common imports\n",
    "import numpy as np\n",
    "import os\n",
    "\n",
    "# to make this notebook's output stable across runs\n",
    "np.random.seed(42)\n",
    "\n",
    "# To plot pretty figures\n",
    "%matplotlib inline\n",
    "import matplotlib as mpl\n",
    "import matplotlib.pyplot as plt\n",
    "mpl.rc('axes', labelsize=14)\n",
    "mpl.rc('xtick', labelsize=12)\n",
    "mpl.rc('ytick', labelsize=12)\n",
    "\n",
    "# Where to save the figures\n",
    "PROJECT_ROOT_DIR = \".\"\n",
    "CHAPTER_ID = \"svm\"\n",
    "IMAGES_PATH = os.path.join(PROJECT_ROOT_DIR, \"images\", CHAPTER_ID)\n",
    "os.makedirs(IMAGES_PATH, exist_ok=True)\n",
    "\n",
    "def save_fig(fig_id, tight_layout=True, fig_extension=\"png\", resolution=300):\n",
    "    path = os.path.join(IMAGES_PATH, fig_id + \".\" + fig_extension)\n",
    "    print(\"Saving figure\", fig_id)\n",
    "    if tight_layout:\n",
    "        plt.tight_layout()\n",
    "    plt.savefig(path, format=fig_extension, dpi=resolution)"
   ]
  },
  {
   "cell_type": "markdown",
   "id": "e7af5646",
   "metadata": {
    "slideshow": {
     "slide_type": "slide"
    }
   },
   "source": [
    "## Linear SVM Classification"
   ]
  },
  {
   "cell_type": "markdown",
   "id": "8243521f",
   "metadata": {
    "slideshow": {
     "slide_type": "slide"
    }
   },
   "source": [
    "Las siguientes celdas de código generan las primeras cifras en el capítulo 5."
   ]
  },
  {
   "cell_type": "markdown",
   "id": "79a73ec7",
   "metadata": {
    "slideshow": {
     "slide_type": "slide"
    }
   },
   "source": [
    "El primer ejemplo de código real viene después."
   ]
  },
  {
   "cell_type": "markdown",
   "id": "ceb2ce82",
   "metadata": {
    "slideshow": {
     "slide_type": "slide"
    }
   },
   "source": [
    "Código para generar la Figura 5–1. Clasificación de gran margen"
   ]
  },
  {
   "cell_type": "code",
   "execution_count": 5,
   "id": "ce9bf941",
   "metadata": {
    "slideshow": {
     "slide_type": "slide"
    }
   },
   "outputs": [
    {
     "data": {
      "text/plain": [
       "SVC(C=inf, kernel='linear')"
      ]
     },
     "execution_count": 5,
     "metadata": {},
     "output_type": "execute_result"
    }
   ],
   "source": [
    "from sklearn.svm import SVC\n",
    "from sklearn import datasets\n",
    "\n",
    "iris = datasets.load_iris()\n",
    "X = iris[\"data\"][:, (2, 3)]  # petal length, petal width\n",
    "y = iris[\"target\"]\n",
    "\n",
    "setosa_or_versicolor = (y == 0) | (y == 1)\n",
    "X = X[setosa_or_versicolor]\n",
    "y = y[setosa_or_versicolor]\n",
    "\n",
    "# SVM Classifier model\n",
    "svm_clf = SVC(kernel=\"linear\", C=float(\"inf\"))\n",
    "svm_clf.fit(X, y)"
   ]
  },
  {
   "cell_type": "code",
   "execution_count": 6,
   "id": "7b30bd51",
   "metadata": {
    "slideshow": {
     "slide_type": "slide"
    }
   },
   "outputs": [
    {
     "name": "stdout",
     "output_type": "stream",
     "text": [
      "Saving figure large_margin_classification_plot\n"
     ]
    },
    {
     "data": {
      "image/png": "[encoded data removed]",
      "text/plain": [
       "<Figure size 720x194.4 with 2 Axes>"
      ]
     },
     "metadata": {
      "needs_background": "light"
     },
     "output_type": "display_data"
    }
   ],
   "source": [
    "# Bad models\n",
    "x0 = np.linspace(0, 5.5, 200)\n",
    "pred_1 = 5*x0 - 20\n",
    "pred_2 = x0 - 1.8\n",
    "pred_3 = 0.1 * x0 + 0.5\n",
    "\n",
    "def plot_svc_decision_boundary(svm_clf, xmin, xmax):\n",
    "    w = svm_clf.coef_[0]\n",
    "    b = svm_clf.intercept_[0]\n",
    "\n",
    "    # At the decision boundary, w0*x0 + w1*x1 + b = 0\n",
    "    # => x1 = -w0/w1 * x0 - b/w1\n",
    "    x0 = np.linspace(xmin, xmax, 200)\n",
    "    decision_boundary = -w[0]/w[1] * x0 - b/w[1]\n",
    "\n",
    "    margin = 1/w[1]\n",
    "    gutter_up = decision_boundary + margin\n",
    "    gutter_down = decision_boundary - margin\n",
    "\n",
    "    svs = svm_clf.support_vectors_\n",
    "    plt.scatter(svs[:, 0], svs[:, 1], s=180, facecolors='#FFAAAA')\n",
    "    plt.plot(x0, decision_boundary, \"k-\", linewidth=2)\n",
    "    plt.plot(x0, gutter_up, \"k--\", linewidth=2)\n",
    "    plt.plot(x0, gutter_down, \"k--\", linewidth=2)\n",
    "\n",
    "fig, axes = plt.subplots(ncols=2, figsize=(10,2.7), sharey=True)\n",
    "\n",
    "plt.sca(axes[0])\n",
    "plt.plot(x0, pred_1, \"g--\", linewidth=2)\n",
    "plt.plot(x0, pred_2, \"m-\", linewidth=2)\n",
    "plt.plot(x0, pred_3, \"r-\", linewidth=2)\n",
    "plt.plot(X[:, 0][y==1], X[:, 1][y==1], \"bs\", label=\"Iris versicolor\")\n",
    "plt.plot(X[:, 0][y==0], X[:, 1][y==0], \"yo\", label=\"Iris setosa\")\n",
    "plt.xlabel(\"Petal length\", fontsize=14)\n",
    "plt.ylabel(\"Petal width\", fontsize=14)\n",
    "plt.legend(loc=\"upper left\", fontsize=14)\n",
    "plt.axis([0, 5.5, 0, 2])\n",
    "\n",
    "plt.sca(axes[1])\n",
    "plot_svc_decision_boundary(svm_clf, 0, 5.5)\n",
    "plt.plot(X[:, 0][y==1], X[:, 1][y==1], \"bs\")\n",
    "plt.plot(X[:, 0][y==0], X[:, 1][y==0], \"yo\")\n",
    "plt.xlabel(\"Petal length\", fontsize=14)\n",
    "plt.axis([0, 5.5, 0, 2])\n",
    "\n",
    "save_fig(\"large_margin_classification_plot\")\n",
    "plt.show()"
   ]
  },
  {
   "cell_type": "markdown",
   "id": "2173fa24",
   "metadata": {
    "slideshow": {
     "slide_type": "slide"
    }
   },
   "source": [
    "Code to generate Figure 5–2. Sensitivity to feature scales"
   ]
  },
  {
   "cell_type": "code",
   "execution_count": 7,
   "id": "5dd60e38",
   "metadata": {
    "slideshow": {
     "slide_type": "slide"
    }
   },
   "outputs": [
    {
     "name": "stdout",
     "output_type": "stream",
     "text": [
      "Saving figure sensitivity_to_feature_scales_plot\n"
     ]
    },
    {
     "data": {
      "image/png": "[encoded data removed]",
      "text/plain": [
       "<Figure size 648x194.4 with 2 Axes>"
      ]
     },
     "metadata": {
      "needs_background": "light"
     },
     "output_type": "display_data"
    }
   ],
   "source": [
    "Xs = np.array([[1, 50], [5, 20], [3, 80], [5, 60]]).astype(np.float64)\n",
    "ys = np.array([0, 0, 1, 1])\n",
    "svm_clf = SVC(kernel=\"linear\", C=100)\n",
    "svm_clf.fit(Xs, ys)\n",
    "\n",
    "plt.figure(figsize=(9,2.7))\n",
    "plt.subplot(121)\n",
    "plt.plot(Xs[:, 0][ys==1], Xs[:, 1][ys==1], \"bo\")\n",
    "plt.plot(Xs[:, 0][ys==0], Xs[:, 1][ys==0], \"ms\")\n",
    "plot_svc_decision_boundary(svm_clf, 0, 6)\n",
    "plt.xlabel(\"$x_0$\", fontsize=20)\n",
    "plt.ylabel(\"$x_1$    \", fontsize=20, rotation=0)\n",
    "plt.title(\"Unscaled\", fontsize=16)\n",
    "plt.axis([0, 6, 0, 90])\n",
    "\n",
    "from sklearn.preprocessing import StandardScaler\n",
    "scaler = StandardScaler()\n",
    "X_scaled = scaler.fit_transform(Xs)\n",
    "svm_clf.fit(X_scaled, ys)\n",
    "\n",
    "plt.subplot(122)\n",
    "plt.plot(X_scaled[:, 0][ys==1], X_scaled[:, 1][ys==1], \"bo\")\n",
    "plt.plot(X_scaled[:, 0][ys==0], X_scaled[:, 1][ys==0], \"ms\")\n",
    "plot_svc_decision_boundary(svm_clf, -2, 2)\n",
    "plt.xlabel(\"$x'_0$\", fontsize=20)\n",
    "plt.ylabel(\"$x'_1$  \", fontsize=20, rotation=0)\n",
    "plt.title(\"Scaled\", fontsize=16)\n",
    "plt.axis([-2, 2, -2, 2])\n",
    "\n",
    "save_fig(\"sensitivity_to_feature_scales_plot\")"
   ]
  },
  {
   "cell_type": "code",
   "execution_count": null,
   "id": "4aec084c",
   "metadata": {
    "slideshow": {
     "slide_type": "slide"
    }
   },
   "outputs": [],
   "source": []
  },
  {
   "cell_type": "code",
   "execution_count": null,
   "id": "7845b389",
   "metadata": {
    "slideshow": {
     "slide_type": "slide"
    }
   },
   "outputs": [],
   "source": []
  },
  {
   "cell_type": "code",
   "execution_count": null,
   "id": "f4a2c583",
   "metadata": {
    "slideshow": {
     "slide_type": "slide"
    }
   },
   "outputs": [],
   "source": []
  },
  {
   "cell_type": "code",
   "execution_count": null,
   "id": "10a0157f",
   "metadata": {
    "slideshow": {
     "slide_type": "slide"
    }
   },
   "outputs": [],
   "source": []
  },
  {
   "cell_type": "code",
   "execution_count": null,
   "id": "853c1c0d",
   "metadata": {
    "slideshow": {
     "slide_type": "slide"
    }
   },
   "outputs": [],
   "source": []
  },
  {
   "cell_type": "markdown",
   "id": "dd659fad",
   "metadata": {
    "slideshow": {
     "slide_type": "slide"
    }
   },
   "source": [
    "## Referencias  \n",
    "\n",
    "* El modelo de Máquina de soporte vectorial: https://scikit-learn.org/stable/modules/generated/sklearn.svm.SVC.html  \n",
    "\n",
    "* Cuaderno de Geron sobre Maquinas de Soporte Vectorial: https://github.com/ageron/handson-ml2/blob/master/05_support_vector_machines.ipynb\n"
   ]
  },
  {
   "cell_type": "code",
   "execution_count": null,
   "id": "54cadefe",
   "metadata": {},
   "outputs": [],
   "source": []
  }
 ],
 "metadata": {
  "celltoolbar": "Slideshow",
  "kernelspec": {
   "display_name": "Python 3 (ipykernel)",
   "language": "python",
   "name": "python3"
  },
  "language_info": {
   "codemirror_mode": {
    "name": "ipython",
    "version": 3
   },
   "file_extension": ".py",
   "mimetype": "text/x-python",
   "name": "python",
   "nbconvert_exporter": "python",
   "pygments_lexer": "ipython3",
   "version": "3.9.7"
  },
  "rise": {
   "theme": "sky"
  }
 },
 "nbformat": 4,
 "nbformat_minor": 5
}
