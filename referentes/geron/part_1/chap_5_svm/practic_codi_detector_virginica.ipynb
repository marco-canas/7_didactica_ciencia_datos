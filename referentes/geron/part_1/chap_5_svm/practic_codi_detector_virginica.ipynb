{
 "cells": [
  {
   "cell_type": "markdown",
   "id": "6dfdcd1c",
   "metadata": {},
   "source": [
    "<table align=\"left\">\n",
    "  <td>\n",
    "    <a href=\"https://colab.research.google.com/github/marco-canas/intro-Machine-Learning/blob/main/classes/class_26_multiclase/class_26_multiclase.ipynb\" target=\"_parent\"><img src=\"https://colab.research.google.com/assets/colab-badge.svg\" alt=\"Open In Colab\"/></a>\n",
    "  </td>\n",
    "</table> "
   ]
  },
  {
   "cell_type": "markdown",
   "id": "672f4021",
   "metadata": {},
   "source": [
    "# Constitución de un detector de virgínica "
   ]
  },
  {
   "cell_type": "code",
   "execution_count": 1,
   "id": "e2ab2672",
   "metadata": {},
   "outputs": [],
   "source": [
    "import numpy as np \n",
    "import matplotlib.pyplot as plt \n",
    "\n",
    "from sklearn.datasets import load_iris\n",
    "\n",
    "from sklearn.model_selection import train_test_split \n",
    "\n",
    "from sklearn.preprocessing import StandardScaler \n",
    "\n",
    "from sklearn.svm import LinearSVC \n",
    "\n",
    "from sklearn.model_selection import cross_val_predict \n",
    "from sklearn.metrics import recall_score"
   ]
  },
  {
   "cell_type": "markdown",
   "id": "8f99a0bb",
   "metadata": {
    "slideshow": {
     "slide_type": "slide"
    }
   },
   "source": [
    "# Configuración de los predictores y las etiquetas para el modelo que quieres"
   ]
  },
  {
   "cell_type": "code",
   "execution_count": 3,
   "id": "3161b6b8",
   "metadata": {
    "slideshow": {
     "slide_type": "slide"
    }
   },
   "outputs": [],
   "source": [
    "def configurar_datos_para_detectores_con_dos_atributos(s = False, ver = False, vir = True,\\\n",
    "                                                       sepalo = False, petalo = True):\n",
    "    X, y = load_iris(return_X_y = True)\n",
    "    if sepalo: \n",
    "        X = X[:,(0,1)]\n",
    "    if petalo:\n",
    "        X = X[:,(2,3)]\n",
    "    if s:\n",
    "        y = (y==0)*1\n",
    "    if ver:\n",
    "        y = (y==1)*1 \n",
    "    if vir:\n",
    "        y = (y==2)*1    \n",
    "    return X, y    "
   ]
  },
  {
   "cell_type": "code",
   "execution_count": 5,
   "id": "f80e0d95",
   "metadata": {
    "slideshow": {
     "slide_type": "slide"
    }
   },
   "outputs": [],
   "source": [
    "X,y = configurar_datos_para_detectores_con_dos_atributos(s = False, ver = False, vir = True,\\\n",
    "                                                       sepalo = False, petalo = True)"
   ]
  },
  {
   "cell_type": "code",
   "execution_count": 6,
   "id": "02c7d568",
   "metadata": {
    "slideshow": {
     "slide_type": "slide"
    }
   },
   "outputs": [],
   "source": [
    "X_train, X_test, y_train, y_test = train_test_split(X,y, test_size = 0.2, random_state = 42, \\\n",
    "                                                   stratify = y)"
   ]
  },
  {
   "cell_type": "code",
   "execution_count": 7,
   "id": "4284341f",
   "metadata": {},
   "outputs": [],
   "source": [
    "escalador = StandardScaler() "
   ]
  },
  {
   "cell_type": "code",
   "execution_count": 8,
   "id": "50a6ac88",
   "metadata": {
    "slideshow": {
     "slide_type": "slide"
    }
   },
   "outputs": [],
   "source": [
    "X_train_escalado = escalador.fit_transform(X_train)\n",
    "X_test_escalado = escalador.transform(X_test)"
   ]
  },
  {
   "cell_type": "markdown",
   "id": "bdd80021",
   "metadata": {},
   "source": [
    "# Modelar o crear el modelo clasificador con una máquina de soporte vectorial\n"
   ]
  },
  {
   "cell_type": "code",
   "execution_count": 51,
   "id": "702b9e0f",
   "metadata": {
    "slideshow": {
     "slide_type": "slide"
    }
   },
   "outputs": [],
   "source": [
    "svm_clf = LinearSVC(C=1, loss=\"hinge\")"
   ]
  },
  {
   "cell_type": "code",
   "execution_count": 52,
   "id": "64477274",
   "metadata": {
    "slideshow": {
     "slide_type": "slide"
    }
   },
   "outputs": [
    {
     "data": {
      "text/plain": [
       "LinearSVC(C=1, loss='hinge')"
      ]
     },
     "execution_count": 52,
     "metadata": {},
     "output_type": "execute_result"
    }
   ],
   "source": [
    "svm_clf.fit(X_train_escalado, y_train)"
   ]
  },
  {
   "cell_type": "markdown",
   "id": "0bdd552e",
   "metadata": {
    "slideshow": {
     "slide_type": "slide"
    }
   },
   "source": [
    "# Visualizamos nuestro clasificador en en conjunto de entrenamiento \n"
   ]
  },
  {
   "cell_type": "code",
   "execution_count": 53,
   "id": "55a8d198",
   "metadata": {
    "slideshow": {
     "slide_type": "slide"
    }
   },
   "outputs": [
    {
     "data": {
      "image/png": "[encoded data removed]",
      "text/plain": [
       "<Figure size 864x432 with 1 Axes>"
      ]
     },
     "metadata": {
      "needs_background": "light"
     },
     "output_type": "display_data"
    }
   ],
   "source": [
    "fig, ax = plt.subplots(figsize = (12, 6))\n",
    "\n",
    "ax.set(xlabel ='longitud del pétalo', ylabel = 'ancho del pétalo' ,\\\n",
    "       title = 'Clasificación de virgínica' )\n",
    "\n",
    "c,d = X_train_escalado[:,0].min()-0.3, X_train_escalado[:,0].max()+0.3\n",
    "e,f = X_train_escalado[:,1].min()-0.3, X_train_escalado[:,1].max()+0.3\n",
    "\n",
    "ax.axis([c,d,e,f])\n",
    "\n",
    "#grafica de la clase positiva \n",
    "ax.plot(X_train_escalado[:,0][y_train == 1], X_train_escalado[:,1][y_train == 1], 'yo')\n",
    "#grafica para la clase negativa\n",
    "ax.plot(X_train_escalado[:,0][y_train == 0], X_train_escalado[:,1][y_train == 0], 'bs')\n",
    "\n",
    "# grafiquemos la frontera de decisión\n",
    "w = svm_clf.coef_[0]\n",
    "b = svm_clf.intercept_[0]\n",
    "m_ = -w[0]/w[1]\n",
    "b_ = -b/w[1]\n",
    "\n",
    "x0 = np.array([c,d])\n",
    "decision_boundary = m_*x0 + b_ \n",
    "\n",
    "ax.plot(x0, decision_boundary, 'k-')\n",
    "ax.grid(alpha = 0.4)\n",
    "\n",
    "plt.savefig('detector_virginica.png')\n",
    "\n",
    "plt.show() \n",
    "\n"
   ]
  },
  {
   "cell_type": "code",
   "execution_count": 54,
   "id": "f0db4c92",
   "metadata": {},
   "outputs": [
    {
     "data": {
      "text/plain": [
       "(array([1.43277536, 2.06539747]), -2.1248792920868436)"
      ]
     },
     "execution_count": 54,
     "metadata": {},
     "output_type": "execute_result"
    }
   ],
   "source": [
    "svm_clf.coef_[0], svm_clf.intercept_[0]"
   ]
  },
  {
   "cell_type": "code",
   "execution_count": 55,
   "id": "7917cee4",
   "metadata": {},
   "outputs": [
    {
     "data": {
      "text/plain": [
       "(-0.6937044222907661, 1.0287992110317696)"
      ]
     },
     "execution_count": 55,
     "metadata": {},
     "output_type": "execute_result"
    }
   ],
   "source": [
    "-w[0]/w[1], -b/w[1]"
   ]
  },
  {
   "cell_type": "code",
   "execution_count": 56,
   "id": "49f333f7",
   "metadata": {},
   "outputs": [],
   "source": [
    "y_train_predicciones = cross_val_predict(svm_clf, X_train_escalado, y_train, cv = 5)"
   ]
  },
  {
   "cell_type": "code",
   "execution_count": 57,
   "id": "ad6e9640",
   "metadata": {},
   "outputs": [
    {
     "data": {
      "text/plain": [
       "0.925"
      ]
     },
     "execution_count": 57,
     "metadata": {},
     "output_type": "execute_result"
    }
   ],
   "source": [
    "recall_score(y_train, y_train_predicciones) "
   ]
  },
  {
   "cell_type": "markdown",
   "id": "976556d4",
   "metadata": {},
   "source": [
    "## Verificación en el conjunto de testeo "
   ]
  },
  {
   "cell_type": "code",
   "execution_count": 58,
   "id": "fd07f4d1",
   "metadata": {},
   "outputs": [],
   "source": [
    "y_test_predicciones = svm_clf.predict(X_test_escalado)"
   ]
  },
  {
   "cell_type": "code",
   "execution_count": 59,
   "id": "6d0c2d61",
   "metadata": {},
   "outputs": [
    {
     "data": {
      "text/plain": [
       "0.9"
      ]
     },
     "execution_count": 59,
     "metadata": {},
     "output_type": "execute_result"
    }
   ],
   "source": [
    "recall_score(y_test, y_test_predicciones)"
   ]
  },
  {
   "cell_type": "code",
   "execution_count": null,
   "id": "ecb9f24b",
   "metadata": {},
   "outputs": [],
   "source": []
  },
  {
   "cell_type": "code",
   "execution_count": null,
   "id": "08e855d5",
   "metadata": {},
   "outputs": [],
   "source": []
  }
 ],
 "metadata": {
  "celltoolbar": "Slideshow",
  "kernelspec": {
   "display_name": "Python 3 (ipykernel)",
   "language": "python",
   "name": "python3"
  },
  "language_info": {
   "codemirror_mode": {
    "name": "ipython",
    "version": 3
   },
   "file_extension": ".py",
   "mimetype": "text/x-python",
   "name": "python",
   "nbconvert_exporter": "python",
   "pygments_lexer": "ipython3",
   "version": "3.9.12"
  }
 },
 "nbformat": 4,
 "nbformat_minor": 5
}
