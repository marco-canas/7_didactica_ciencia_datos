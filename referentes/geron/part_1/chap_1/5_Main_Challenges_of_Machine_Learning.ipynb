{
 "cells": [
  {
   "cell_type": "markdown",
   "id": "e722f722",
   "metadata": {},
   "source": [
    "\n",
    "<table align=\"left\">\n",
    "  <td>\n",
    "    <a href=\"https://colab.research.google.com/github/marco-canas/taca/blob/main/ref/geron/chap_2/5_prepare_for_algorithms/2_data_cleaning.ipynb\" target=\"_parent\"><img src=\"https://colab.research.google.com/assets/colab-badge.svg\" alt=\"Open In Colab\"/></a>\n",
    "  </td>\n",
    "  <td>\n",
    "    <a target=\"_blank\" href=\"https://kaggle.com/kernels/welcome?src=https://github.com/marco-canas/taca/blob/main/ref/geron/chap_2/5_prepare_for_algorithms/2_data_cleaning.ipynb\"><img src=\"https://kaggle.com/static/images/open-in-kaggle.svg\" /></a>\n",
    "  </td>\n",
    "</table>\n"
   ]
  },
  {
   "cell_type": "markdown",
   "id": "58c4515e",
   "metadata": {},
   "source": [
    "# Main Challenges of Machine Learning\n",
    "Página 51 de Geron"
   ]
  },
  {
   "cell_type": "markdown",
   "id": "ddfdde29",
   "metadata": {},
   "source": [
    "En resumen, dado que su tarea principal es seleccionar un algoritmo de aprendizaje y entrenarlo con algunos datos, las dos cosas que pueden salir mal son \"algoritmo incorrecto\" y \"datos incorrectos\".\n",
    "\n",
    "Comencemos con ejemplos de datos incorrectos."
   ]
  },
  {
   "cell_type": "markdown",
   "id": "eb67e408",
   "metadata": {},
   "source": [
    "### Cantidad insuficiente de datos de entrenamiento"
   ]
  },
  {
   "cell_type": "markdown",
   "id": "fe9bdff4",
   "metadata": {},
   "source": [
    "Para que un niño pequeño aprenda lo que es una manzana, todo lo que necesita es que usted señale una manzana y diga “manzana” (posiblemente repita este procedimiento varias veces)."
   ]
  },
  {
   "cell_type": "markdown",
   "id": "e699ccf9",
   "metadata": {},
   "source": [
    "Ahora el niño puede reconocer manzanas en todo tipo de colores y formas."
   ]
  },
  {
   "cell_type": "markdown",
   "id": "c3f29f3e",
   "metadata": {},
   "source": [
    "Genio."
   ]
  },
  {
   "cell_type": "markdown",
   "id": "6adddf25",
   "metadata": {},
   "source": [
    "El aprendizaje automático no ha llegado todavía; Se necesitan muchos datos para que la mayoría de los algoritmos de aprendizaje automático funcionen correctamente."
   ]
  },
  {
   "cell_type": "markdown",
   "id": "527805f5",
   "metadata": {},
   "source": [
    "Incluso para problemas muy simples, normalmente necesita miles de ejemplos, y para problemas complejos, como el reconocimiento de imágenes o de voz, es posible que necesite millones de ejemplos (a menos que pueda reutilizar partes de un modelo existente)."
   ]
  },
  {
   "cell_type": "code",
   "execution_count": null,
   "id": "f698a91f",
   "metadata": {},
   "outputs": [],
   "source": []
  },
  {
   "cell_type": "code",
   "execution_count": null,
   "id": "430679cc",
   "metadata": {},
   "outputs": [],
   "source": []
  }
 ],
 "metadata": {
  "kernelspec": {
   "display_name": "Python 3",
   "language": "python",
   "name": "python3"
  },
  "language_info": {
   "codemirror_mode": {
    "name": "ipython",
    "version": 3
   },
   "file_extension": ".py",
   "mimetype": "text/x-python",
   "name": "python",
   "nbconvert_exporter": "python",
   "pygments_lexer": "ipython3",
   "version": "3.8.8"
  },
  "latex_envs": {
   "LaTeX_envs_menu_present": true,
   "autoclose": false,
   "autocomplete": false,
   "bibliofile": "biblio.bib",
   "cite_by": "apalike",
   "current_citInitial": 1,
   "eqLabelWithNumbers": true,
   "eqNumInitial": 1,
   "hotkeys": {
    "equation": "Ctrl-E",
    "itemize": "Ctrl-I"
   },
   "labels_anchors": false,
   "latex_user_defs": false,
   "report_style_numbering": false,
   "user_envs_cfg": false
  }
 },
 "nbformat": 4,
 "nbformat_minor": 5
}
