{
 "cells": [
  {
   "cell_type": "markdown",
   "id": "0f11a37c",
   "metadata": {
    "slideshow": {
     "slide_type": "slide"
    }
   },
   "source": [
    "\n",
    "<table align=\"left\">\n",
    "  <td>\n",
    "    <a href=\"https://colab.research.google.com/github/marco-canas/introducci-n-al-Machine-Learning/blob/main/classes/class_1/class_1.ipynb\" target=\"_parent\"><img src=\"https://colab.research.google.com/assets/colab-badge.svg\" alt=\"Open In Colab\"/></a>\n",
    "  </td>\n",
    "  <td>\n",
    "    <a target=\"_blank\" href=\"https://kaggle.com/kernels/welcome?src=https://github.com/marco-canas/introducci-n-al-Machine-Learning/blob/main/classes/class_1/class_1.ipynb\"><img src=\"https://kaggle.com/static/images/open-in-kaggle.svg\" /></a>\n",
    "  </td>\n",
    "</table>\n",
    "\n"
   ]
  },
  {
   "cell_type": "markdown",
   "id": "e0ffb7d6",
   "metadata": {
    "slideshow": {
     "slide_type": "slide"
    }
   },
   "source": [
    "# Types of Machine Learning Systems"
   ]
  },
  {
   "cell_type": "markdown",
   "id": "b5bdecb4",
   "metadata": {
    "slideshow": {
     "slide_type": "slide"
    }
   },
   "source": [
    "## [Primer video de apoyo](https://www.youtube.com/watch?v=M-obz8JyBEk) "
   ]
  },
  {
   "cell_type": "markdown",
   "id": "1cef2d38",
   "metadata": {
    "slideshow": {
     "slide_type": "slide"
    }
   },
   "source": [
    "Hay tantos tipos diferentes de sistemas de aprendizaje automático que es útil clasificarlos en categorías amplias, según los siguientes criterios:"
   ]
  },
  {
   "cell_type": "markdown",
   "id": "d9b15c91",
   "metadata": {
    "slideshow": {
     "slide_type": "slide"
    }
   },
   "source": [
    "* Si están entrenados o no con supervisión humana.(aprendizaje supervisado, no supervisado, semisupervisado y por refuerzo)"
   ]
  },
  {
   "cell_type": "markdown",
   "id": "de5a830f",
   "metadata": {
    "slideshow": {
     "slide_type": "slide"
    }
   },
   "source": [
    "* Si pueden o no aprender gradualmente sobre la marcha (aprendizaje en línea o por lotes)"
   ]
  },
  {
   "cell_type": "markdown",
   "id": "8658fc46",
   "metadata": {
    "slideshow": {
     "slide_type": "slide"
    }
   },
   "source": [
    "* Ya sea que funcionen simplemente comparando nuevos puntos de datos con puntos de datos conocidos o, en su lugar, detectando patrones en los datos de entrenamiento y construyendo un modelo predictivo, al igual que lo hacen los científicos (aprendizaje basado en instancias versus aprendizaje basado en modelos)"
   ]
  },
  {
   "cell_type": "markdown",
   "id": "2f6b6cb7",
   "metadata": {
    "slideshow": {
     "slide_type": "slide"
    }
   },
   "source": [
    "Estos criterios no son exclusivos; puedes combinarlos como quieras."
   ]
  },
  {
   "cell_type": "markdown",
   "id": "b8d3bfc2",
   "metadata": {
    "slideshow": {
     "slide_type": "slide"
    }
   },
   "source": [
    "Por ejemplo, un filtro de spam de última generación puede aprender sobre la marcha utilizando un modelo de red neuronal profunda entrenado con ejemplos de spam y ham; esto lo convierte en un sistema de aprendizaje supervisado, basado en modelos y en línea."
   ]
  },
  {
   "cell_type": "markdown",
   "id": "3c61ddf9",
   "metadata": {
    "slideshow": {
     "slide_type": "slide"
    }
   },
   "source": [
    "Examinemos cada uno de estos criterios un poco más de cerca."
   ]
  },
  {
   "cell_type": "markdown",
   "id": "fdae09a5",
   "metadata": {
    "slideshow": {
     "slide_type": "slide"
    }
   },
   "source": [
    "## Aprendizaje supervisado/no supervisado"
   ]
  },
  {
   "cell_type": "markdown",
   "id": "5b23fefc",
   "metadata": {
    "slideshow": {
     "slide_type": "slide"
    }
   },
   "source": [
    "Los sistemas de aprendizaje automático se pueden clasificar según la cantidad y el tipo de supervisión que reciben durante el entrenamiento."
   ]
  },
  {
   "cell_type": "markdown",
   "id": "8d33e9b8",
   "metadata": {
    "slideshow": {
     "slide_type": "slide"
    }
   },
   "source": [
    "Hay cuatro categorías principales:\n",
    "\n",
    "* aprendizaje supervisado, \n",
    "* aprendizaje no supervisado, \n",
    "* aprendizaje semisupervisado y \n",
    "* aprendizaje reforzado."
   ]
  },
  {
   "cell_type": "markdown",
   "id": "73dc1977",
   "metadata": {
    "slideshow": {
     "slide_type": "slide"
    }
   },
   "source": [
    "### Aprendizaje supervisado"
   ]
  },
  {
   "cell_type": "markdown",
   "id": "0d6884eb",
   "metadata": {
    "slideshow": {
     "slide_type": "slide"
    }
   },
   "source": [
    "En el aprendizaje supervisado, el conjunto de entrenamiento que alimenta al algoritmo incluye las soluciones deseadas, llamadas etiquetas (Figura 1-5)."
   ]
  },
  {
   "cell_type": "markdown",
   "id": "519d62eb",
   "metadata": {
    "slideshow": {
     "slide_type": "slide"
    }
   },
   "source": [
    "<img src = 'https://github.com/marco-canas/taca/blob/main/ref/geron/part_1/chap_1/figure_1_5.JPG?raw=true'> "
   ]
  },
  {
   "cell_type": "markdown",
   "id": "a9cb0481",
   "metadata": {
    "slideshow": {
     "slide_type": "slide"
    }
   },
   "source": [
    "Una tarea típica de aprendizaje supervisado es la clasificación."
   ]
  },
  {
   "cell_type": "markdown",
   "id": "a5fda9be",
   "metadata": {
    "slideshow": {
     "slide_type": "slide"
    }
   },
   "source": [
    "El filtro de spam es un buen ejemplo de esto: \n",
    "\n",
    "* está entrenado con muchos correos electrónicos de ejemplo junto con su clase (spam o ham), y debe aprender a \n",
    "  clasificar nuevos correos electrónicos."
   ]
  },
  {
   "cell_type": "markdown",
   "id": "d46bdc68",
   "metadata": {
    "slideshow": {
     "slide_type": "slide"
    }
   },
   "source": [
    "Otra tarea típica es predecir un valor numérico objetivo, como el precio de un automóvil, dado un conjunto de características o atributos (kilometraje, edad, marca, etc.) llamadas predictores."
   ]
  },
  {
   "cell_type": "markdown",
   "id": "77809620",
   "metadata": {
    "slideshow": {
     "slide_type": "slide"
    }
   },
   "source": [
    "Este tipo de tarea se llama regresión (Figura 1-6)."
   ]
  },
  {
   "cell_type": "markdown",
   "id": "01e08b8a",
   "metadata": {
    "slideshow": {
     "slide_type": "slide"
    }
   },
   "source": [
    "Para entrenar el sistema, debe proporcionarle muchos ejemplos de automóviles, incluidos sus predictores y sus etiquetas (es decir, sus precios)."
   ]
  },
  {
   "cell_type": "markdown",
   "id": "818c064d",
   "metadata": {
    "slideshow": {
     "slide_type": "slide"
    }
   },
   "source": [
    "## NOTA"
   ]
  },
  {
   "cell_type": "markdown",
   "id": "f85b126a",
   "metadata": {
    "slideshow": {
     "slide_type": "slide"
    }
   },
   "source": [
    "En Machine Learning, un **atributo** es un tipo de datos (por ejemplo, \"kilometraje\"), mientras que una característica tiene varios significados, según el contexto, pero generalmente cuando hablamos de una **característica** queremos decir que nosreferimos tanto a su atributo como a su valor asociado (por ejemplo, \"kilometraje = 15.000\")."
   ]
  },
  {
   "cell_type": "markdown",
   "id": "5fee66b0",
   "metadata": {
    "slideshow": {
     "slide_type": "slide"
    }
   },
   "source": [
    "Mucha gente usa las palabras atributo (attribute) y característica (feature) indistintamente."
   ]
  },
  {
   "cell_type": "markdown",
   "id": "feeb5ada",
   "metadata": {
    "slideshow": {
     "slide_type": "slide"
    }
   },
   "source": [
    "Tenga en cuenta que algunos algoritmos de regresión también se pueden utilizar para la clasificación y viceversa."
   ]
  },
  {
   "cell_type": "markdown",
   "id": "49ac866b",
   "metadata": {
    "slideshow": {
     "slide_type": "slide"
    }
   },
   "source": [
    "Por ejemplo, la regresión logística se usa comúnmente para la clasificación, ya que puede generar un valor que corresponde a la probabilidad de pertenecer a una clase determinada (por ejemplo, 20% de probabilidad de ser spam)."
   ]
  },
  {
   "cell_type": "markdown",
   "id": "e024d943",
   "metadata": {
    "slideshow": {
     "slide_type": "slide"
    }
   },
   "source": [
    "<img src = 'https://github.com/marco-canas/taca/blob/main/ref/geron/part_1/chap_1/figure_1_6.JPG?raw=true'> "
   ]
  },
  {
   "cell_type": "markdown",
   "id": "3ac540bd",
   "metadata": {
    "slideshow": {
     "slide_type": "slide"
    }
   },
   "source": [
    "Estos son algunos de los algoritmos de aprendizaje supervisado más importantes (cubiertos en este libro):\n",
    "\n",
    "* k-Nearest Neighbors\n",
    "* Linear Regression\n",
    "* Logistic Regression\n",
    "* Support Vector Machines (SVMs)\n",
    "* Decision Trees and Random Forests\n",
    "* Neural networks\n",
    "\n"
   ]
  },
  {
   "cell_type": "markdown",
   "id": "8fe7a6c5",
   "metadata": {
    "slideshow": {
     "slide_type": "slide"
    }
   },
   "source": [
    "## Unsupervised learning\n"
   ]
  },
  {
   "cell_type": "markdown",
   "id": "3c6ca633",
   "metadata": {
    "slideshow": {
     "slide_type": "slide"
    }
   },
   "source": [
    "En el aprendizaje no supervisado, como puede adivinar, los datos de entrenamiento no están etiquetados (Figura 1-7).\n",
    "\n",
    "<img src = 'https://github.com/marco-canas/taca/blob/main/ref/geron/part_1/chap_1/figure_1_7.JPG?raw=true'>\n",
    "\n",
    "El sistema intenta aprender sin un maestro."
   ]
  },
  {
   "cell_type": "markdown",
   "id": "71beab97",
   "metadata": {
    "slideshow": {
     "slide_type": "slide"
    }
   },
   "source": [
    "Estos son algunos de los algoritmos de aprendizaje no supervisados más importantes:\n",
    "* Clustering\n",
    "  * K-medias\n",
    "  * DBSCAN\n",
    "  * Análisis jerárquico de conglomerados (HCA)\n",
    "* Detección de anomalías y detección de novedades"
   ]
  },
  {
   "cell_type": "code",
   "execution_count": null,
   "id": "cd8d0d77",
   "metadata": {},
   "outputs": [],
   "source": []
  },
  {
   "cell_type": "code",
   "execution_count": null,
   "id": "234d9092",
   "metadata": {},
   "outputs": [],
   "source": []
  }
 ],
 "metadata": {
  "celltoolbar": "Slideshow",
  "kernelspec": {
   "display_name": "Python 3",
   "language": "python",
   "name": "python3"
  },
  "language_info": {
   "codemirror_mode": {
    "name": "ipython",
    "version": 3
   },
   "file_extension": ".py",
   "mimetype": "text/x-python",
   "name": "python",
   "nbconvert_exporter": "python",
   "pygments_lexer": "ipython3",
   "version": "3.8.8"
  },
  "latex_envs": {
   "LaTeX_envs_menu_present": true,
   "autoclose": false,
   "autocomplete": false,
   "bibliofile": "biblio.bib",
   "cite_by": "apalike",
   "current_citInitial": 1,
   "eqLabelWithNumbers": true,
   "eqNumInitial": 1,
   "hotkeys": {
    "equation": "Ctrl-E",
    "itemize": "Ctrl-I"
   },
   "labels_anchors": false,
   "latex_user_defs": false,
   "report_style_numbering": false,
   "user_envs_cfg": false
  },
  "rise": {
   "enable_chalkboard": true,
   "theme": "sky",
   "transition": "sky"
  }
 },
 "nbformat": 4,
 "nbformat_minor": 5
}
