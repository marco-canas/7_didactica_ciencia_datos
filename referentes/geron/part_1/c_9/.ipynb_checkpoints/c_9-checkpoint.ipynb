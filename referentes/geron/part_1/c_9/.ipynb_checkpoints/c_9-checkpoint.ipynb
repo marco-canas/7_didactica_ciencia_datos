{
 "cells": [
  {
   "cell_type": "markdown",
   "id": "0c564726",
   "metadata": {
    "slideshow": {
     "slide_type": "slide"
    }
   },
   "source": [
    "<table align=\"left\">\n",
    "  <td>\n",
    "    <a href=\"https://colab.research.google.com/github/marco-canas/taca/blob/main/prop/unidad_didac/visualizacion/2_seaborn/visualizing_categorical.ipynb\" target=\"_parent\"><img src=\"https://colab.research.google.com/assets/colab-badge.svg\" alt=\"Open In Colab\"/></a>\n",
    "  </td>\n",
    "</table>"
   ]
  },
  {
   "cell_type": "markdown",
   "id": "9013851d",
   "metadata": {
    "slideshow": {
     "slide_type": "slide"
    }
   },
   "source": [
    "# Capítulo 9 Geron"
   ]
  },
  {
   "cell_type": "markdown",
   "id": "8a40fb84",
   "metadata": {
    "slideshow": {
     "slide_type": "slide"
    }
   },
   "source": [
    "# Chapter 9. Unsupervised\n",
    "## Learning Techniques"
   ]
  },
  {
   "cell_type": "markdown",
   "id": "73bafdcb",
   "metadata": {
    "slideshow": {
     "slide_type": "slide"
    }
   },
   "source": [
    "Aunque la mayoría de las aplicaciones de Machine Learning hoy en día se basan en el aprendizaje supervisado (y, como resultado, aquí es donde se destinan la mayoría de las inversiones), la gran mayoría de los datos disponibles no están etiquetados: tenemos las características de entrada $X$, pero no tenemos las etiquetas $y$."
   ]
  },
  {
   "cell_type": "markdown",
   "id": "c08e7b8f",
   "metadata": {
    "slideshow": {
     "slide_type": "slide"
    }
   },
   "source": [
    "El científico informático Yann LeCun dijo que \"si la inteligencia fuera un pastel, el aprendizaje no supervisado sería el pastel, el aprendizaje supervisado sería la guinda del pastel y el aprendizaje reforzado sería la guinda del pastel\"."
   ]
  },
  {
   "cell_type": "markdown",
   "id": "c8268c99",
   "metadata": {
    "slideshow": {
     "slide_type": "slide"
    }
   },
   "source": [
    "En otras palabras, existe un enorme potencial en el aprendizaje no supervisado en el que apenas hemos comenzado a hincarle el diente."
   ]
  },
  {
   "cell_type": "markdown",
   "id": "16f03cf2",
   "metadata": {
    "slideshow": {
     "slide_type": "slide"
    }
   },
   "source": [
    "Say you want to create a system that will take a few pictures of each item on a manufacturing production line and detect which items are defective."
   ]
  },
  {
   "cell_type": "markdown",
   "id": "d1c710f0",
   "metadata": {
    "slideshow": {
     "slide_type": "slide"
    }
   },
   "source": [
    "You can fairly easily create a system that will take pictures automatically, and this might give you thousands of pictures every day. "
   ]
  },
  {
   "cell_type": "markdown",
   "id": "c42d1494",
   "metadata": {
    "slideshow": {
     "slide_type": "slide"
    }
   },
   "source": [
    "You can then build a reasonably large dataset in just a few weeks. But wait, there are no labels!"
   ]
  },
  {
   "cell_type": "markdown",
   "id": "d30a0859",
   "metadata": {
    "slideshow": {
     "slide_type": "slide"
    }
   },
   "source": [
    "If you want to train a regular binary classifier that will predict whether an item is defective or not, you will need to label every single picture as “defective” or “normal.” "
   ]
  },
  {
   "cell_type": "markdown",
   "id": "98d129af",
   "metadata": {
    "slideshow": {
     "slide_type": "slide"
    }
   },
   "source": [
    "This will generally require human experts to sit down and manually go through all the pictures. "
   ]
  },
  {
   "cell_type": "markdown",
   "id": "cf6bebc8",
   "metadata": {
    "slideshow": {
     "slide_type": "slide"
    }
   },
   "source": [
    "This is a long, costly, and tedious task, so it will usually only be done on a small subset of the available pictures. "
   ]
  },
  {
   "cell_type": "markdown",
   "id": "73c6e287",
   "metadata": {
    "slideshow": {
     "slide_type": "slide"
    }
   },
   "source": [
    "As a result, the labeled dataset will be quite small, and the classifier’s performance will be disappointing. "
   ]
  },
  {
   "cell_type": "markdown",
   "id": "c79d0c79",
   "metadata": {
    "slideshow": {
     "slide_type": "slide"
    }
   },
   "source": [
    "Moreover, every time the company makes any change to its products, the whole process will need to be started over from scratch. "
   ]
  },
  {
   "cell_type": "markdown",
   "id": "216547db",
   "metadata": {
    "slideshow": {
     "slide_type": "slide"
    }
   },
   "source": [
    "Wouldn’t it be great if the algorithm could just exploit the unlabeled data without needing humans to label every picture?\n",
    "Enter unsupervised learning."
   ]
  },
  {
   "cell_type": "markdown",
   "id": "38a0c611",
   "metadata": {
    "slideshow": {
     "slide_type": "slide"
    }
   },
   "source": [
    "In Chapter 8 we looked at the most common unsupervised learning task:\n",
    "dimensionality reduction. In this chapter we will look at a few more unsupervised learning tasks and algorithms:"
   ]
  },
  {
   "cell_type": "markdown",
   "id": "b693b8a3",
   "metadata": {
    "slideshow": {
     "slide_type": "slide"
    }
   },
   "source": [
    "## Clustering\n",
    "The goal is to group similar instances together into clusters. Clustering is a great tool for data analysis, customer segmentation, recommender systems, search engines, image segmentation, semi-supervised learning, dimensionality reduction, and more."
   ]
  },
  {
   "cell_type": "markdown",
   "id": "6b29bf6c",
   "metadata": {
    "slideshow": {
     "slide_type": "slide"
    }
   },
   "source": [
    "## Anomaly detection\n",
    "The objective is to learn what “normal” data looks like, and then use that to detect abnormal instances, such as defective items on a production line or a new trend in a time series."
   ]
  },
  {
   "cell_type": "markdown",
   "id": "2c5c8ae8",
   "metadata": {
    "slideshow": {
     "slide_type": "slide"
    }
   },
   "source": [
    "## Density estimation"
   ]
  },
  {
   "cell_type": "markdown",
   "id": "c911843a",
   "metadata": {
    "slideshow": {
     "slide_type": "slide"
    }
   },
   "source": [
    "This is the task of estimating the probability density function (PDF) of the random process that generated the dataset. Density estimation is commonly used for anomaly detection: instances located in very low density regions are likely to be anomalies. It is also useful for data analysis and visualization."
   ]
  },
  {
   "cell_type": "markdown",
   "id": "048672f2",
   "metadata": {
    "slideshow": {
     "slide_type": "slide"
    }
   },
   "source": [
    "\n",
    "Ready for some cake? We will start with clustering, using K-Means and DBSCAN, and then we will discuss Gaussian mixture models and see how they can be used for density estimation, clustering, and anomaly detection."
   ]
  },
  {
   "cell_type": "markdown",
   "id": "84f81bc5",
   "metadata": {
    "slideshow": {
     "slide_type": "slide"
    }
   },
   "source": [
    "# Clustering"
   ]
  },
  {
   "cell_type": "markdown",
   "id": "6c8ceb61",
   "metadata": {
    "slideshow": {
     "slide_type": "slide"
    }
   },
   "source": [
    "As you enjoy a hike in the mountains, you stumble upon a plant you have never seen before. "
   ]
  },
  {
   "cell_type": "markdown",
   "id": "e04a7683",
   "metadata": {
    "slideshow": {
     "slide_type": "slide"
    }
   },
   "source": [
    "You look around and you notice a few more. "
   ]
  },
  {
   "cell_type": "markdown",
   "id": "6f81360c",
   "metadata": {
    "slideshow": {
     "slide_type": "slide"
    }
   },
   "source": [
    "They are not identical, yet they are sufficiently similar for you to know that they most likely belong to the same species (or at least the same genus). "
   ]
  },
  {
   "cell_type": "markdown",
   "id": "174f1701",
   "metadata": {
    "slideshow": {
     "slide_type": "slide"
    }
   },
   "source": [
    "You may need a botanist to tell you what species that is, but you certainly don’t need an expert to identify groups of similar-looking objects. "
   ]
  },
  {
   "cell_type": "markdown",
   "id": "7ddf874b",
   "metadata": {
    "slideshow": {
     "slide_type": "slide"
    }
   },
   "source": [
    "This is called clustering: it is the task of identifying similar instances and assigning them to clusters, or groups of similar instances"
   ]
  },
  {
   "cell_type": "markdown",
   "id": "f9b52e2d",
   "metadata": {
    "slideshow": {
     "slide_type": "slide"
    }
   },
   "source": [
    "Just like in classification, each instance gets assigned to a group. However,\n",
    "unlike classification, clustering is an unsupervised task. Consider Figure 9-\n",
    "1: on the left is the iris dataset (introduced in Chapter 4), where each\n",
    "instance’s species (i.e., its class) is represented with a different marker. It is\n",
    "a labeled dataset, for which classification algorithms such as Logistic\n",
    "Regression, SVMs, or Random Forest classifiers are well suited. On the\n",
    "right is the same dataset, but without the labels, so you cannot use a\n",
    "classification algorithm anymore. This is where clustering algorithms step\n",
    "in: many of them can easily detect the lower-left cluster. It is also quite easy\n",
    "to see with our own eyes, but it is not so obvious that the upper-right cluster\n",
    "is composed of two distinct sub-clusters. "
   ]
  },
  {
   "cell_type": "markdown",
   "id": "2c1152eb",
   "metadata": {
    "slideshow": {
     "slide_type": "slide"
    }
   },
   "source": [
    "That said, the dataset has two additional features (sepal length and width), not represented here, and clustering algorithms can make good use of all features, so in fact they identify the three clusters fairly well (e.g., using a Gaussian mixture model,\n",
    "only 5 instances out of 150 are assigned to the wrong cluster)."
   ]
  },
  {
   "cell_type": "markdown",
   "id": "577268df",
   "metadata": {
    "slideshow": {
     "slide_type": "slide"
    }
   },
   "source": [
    "<img src = ''>"
   ]
  },
  {
   "cell_type": "markdown",
   "id": "3ed46211",
   "metadata": {
    "slideshow": {
     "slide_type": "slide"
    }
   },
   "source": [
    "Clustering is used in a wide variety of applications, including these:\n",
    "For customer segmentation\n",
    "You can cluster your customers based on their purchases and their\n",
    "activity on your website. This is useful to understand who your\n",
    "customers are and what they need, so you can adapt your products and\n",
    "marketing campaigns to each segment. For example, customer\n",
    "segmentation can be useful in recommender systems to suggest content\n",
    "that other users in the same cluster enjoyed.\n"
   ]
  },
  {
   "cell_type": "code",
   "execution_count": null,
   "id": "7f766659",
   "metadata": {},
   "outputs": [],
   "source": []
  },
  {
   "cell_type": "code",
   "execution_count": null,
   "id": "1cb8e886",
   "metadata": {},
   "outputs": [],
   "source": []
  },
  {
   "cell_type": "code",
   "execution_count": null,
   "id": "3e6703fe",
   "metadata": {},
   "outputs": [],
   "source": []
  },
  {
   "cell_type": "code",
   "execution_count": null,
   "id": "394041b8",
   "metadata": {},
   "outputs": [],
   "source": []
  },
  {
   "cell_type": "code",
   "execution_count": null,
   "id": "2d903186",
   "metadata": {},
   "outputs": [],
   "source": []
  },
  {
   "cell_type": "code",
   "execution_count": null,
   "id": "a76f4d20",
   "metadata": {},
   "outputs": [],
   "source": []
  }
 ],
 "metadata": {
  "celltoolbar": "Slideshow",
  "kernelspec": {
   "display_name": "Python 3 (ipykernel)",
   "language": "python",
   "name": "python3"
  },
  "language_info": {
   "codemirror_mode": {
    "name": "ipython",
    "version": 3
   },
   "file_extension": ".py",
   "mimetype": "text/x-python",
   "name": "python",
   "nbconvert_exporter": "python",
   "pygments_lexer": "ipython3",
   "version": "3.9.12"
  }
 },
 "nbformat": 4,
 "nbformat_minor": 5
}
