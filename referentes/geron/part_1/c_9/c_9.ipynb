{
 "cells": [
  {
   "cell_type": "markdown",
   "id": "f4a30271",
   "metadata": {
    "slideshow": {
     "slide_type": "slide"
    }
   },
   "source": [
    "<table align=\"left\">\n",
    "  <td>\n",
    "    <a href=\"https://colab.research.google.com/github/marco-canas/taca/blob/main/prop/unidad_didac/visualizacion/2_seaborn/visualizing_categorical.ipynb\" target=\"_parent\"><img src=\"https://colab.research.google.com/assets/colab-badge.svg\" alt=\"Open In Colab\"/></a>\n",
    "  </td>\n",
    "</table>"
   ]
  },
  {
   "cell_type": "markdown",
   "id": "55906f93",
   "metadata": {
    "slideshow": {
     "slide_type": "slide"
    }
   },
   "source": [
    "# Capítulo 9 Geron"
   ]
  },
  {
   "cell_type": "markdown",
   "id": "d1e0ff20",
   "metadata": {
    "slideshow": {
     "slide_type": "slide"
    }
   },
   "source": [
    "# Chapter 9. Unsupervised\n",
    "## Learning Techniques"
   ]
  },
  {
   "cell_type": "markdown",
   "id": "0e83d0aa",
   "metadata": {
    "slideshow": {
     "slide_type": "slide"
    }
   },
   "source": [
    "Aunque la mayoría de las aplicaciones de Machine Learning hoy en día se basan en el aprendizaje supervisado (y, como resultado, aquí es donde se destinan la mayoría de las inversiones), la gran mayoría de los datos disponibles no están etiquetados: tenemos las características de entrada $X$, pero no tenemos las etiquetas $y$."
   ]
  },
  {
   "cell_type": "markdown",
   "id": "d819047a",
   "metadata": {
    "slideshow": {
     "slide_type": "slide"
    }
   },
   "source": [
    "El científico informático Yann LeCun dijo que \"si la inteligencia fuera un pastel, el aprendizaje no supervisado sería el pastel, el aprendizaje supervisado sería la guinda del pastel y el aprendizaje reforzado sería la guinda del pastel\"."
   ]
  },
  {
   "cell_type": "markdown",
   "id": "2fc016d2",
   "metadata": {
    "slideshow": {
     "slide_type": "slide"
    }
   },
   "source": [
    "En otras palabras, existe un enorme potencial en el aprendizaje no supervisado en el que apenas hemos comenzado a echarle el diente."
   ]
  },
  {
   "cell_type": "markdown",
   "id": "ec5ad147",
   "metadata": {
    "slideshow": {
     "slide_type": "slide"
    }
   },
   "source": [
    "Supongamos que desea crear un sistema que tome algunas fotografías de cada artículo en una línea de producción y detecte qué artículos son defectuosos."
   ]
  },
  {
   "cell_type": "markdown",
   "id": "591e5efc",
   "metadata": {
    "slideshow": {
     "slide_type": "slide"
    }
   },
   "source": [
    "Puede crear con bastante facilidad un sistema que tome fotografías automáticamente, y esto podría proporcionarle miles de fotografías todos los días."
   ]
  },
  {
   "cell_type": "markdown",
   "id": "91c22e80",
   "metadata": {
    "slideshow": {
     "slide_type": "slide"
    }
   },
   "source": [
    "You can then build a reasonably large dataset in just a few weeks. "
   ]
  },
  {
   "cell_type": "markdown",
   "id": "fcbeb082",
   "metadata": {
    "slideshow": {
     "slide_type": "slide"
    }
   },
   "source": [
    "But wait, there are no labels!"
   ]
  },
  {
   "cell_type": "markdown",
   "id": "592c88c2",
   "metadata": {
    "slideshow": {
     "slide_type": "slide"
    }
   },
   "source": [
    "If you want to train a regular binary classifier that will predict whether an item is defective or not, you will need to label every single picture as “defective” or “normal.” "
   ]
  },
  {
   "cell_type": "markdown",
   "id": "1942703a",
   "metadata": {
    "slideshow": {
     "slide_type": "slide"
    }
   },
   "source": [
    "This will generally require human experts to sit down and manually go through all the pictures. "
   ]
  },
  {
   "cell_type": "markdown",
   "id": "0af4390c",
   "metadata": {
    "slideshow": {
     "slide_type": "slide"
    }
   },
   "source": [
    "This is a long, costly, and tedious task, so it will usually only be done on a small subset of the available pictures. "
   ]
  },
  {
   "cell_type": "markdown",
   "id": "65a11a45",
   "metadata": {
    "slideshow": {
     "slide_type": "slide"
    }
   },
   "source": [
    "As a result, the labeled dataset will be quite small, and the classifier’s performance will be disappointing. "
   ]
  },
  {
   "cell_type": "markdown",
   "id": "de5ff40b",
   "metadata": {
    "slideshow": {
     "slide_type": "slide"
    }
   },
   "source": [
    "Moreover, every time the company makes any change to its products, the whole process will need to be started over from scratch. "
   ]
  },
  {
   "cell_type": "markdown",
   "id": "6c3b4485",
   "metadata": {
    "slideshow": {
     "slide_type": "slide"
    }
   },
   "source": [
    "Wouldn’t it be great if the algorithm could just exploit the unlabeled data without needing humans to label every picture?\n",
    "Enter unsupervised learning."
   ]
  },
  {
   "cell_type": "markdown",
   "id": "32d40d16",
   "metadata": {
    "slideshow": {
     "slide_type": "slide"
    }
   },
   "source": [
    "In Chapter 8 we looked at the most common unsupervised learning task: dimensionality reduction. "
   ]
  },
  {
   "cell_type": "markdown",
   "id": "62a11cba",
   "metadata": {
    "slideshow": {
     "slide_type": "slide"
    }
   },
   "source": [
    "In this chapter we will look at a few more unsupervised learning tasks and algorithms:"
   ]
  },
  {
   "cell_type": "markdown",
   "id": "87685ee1",
   "metadata": {
    "slideshow": {
     "slide_type": "slide"
    }
   },
   "source": [
    "## Clustering\n",
    "The goal is to group similar instances together into clusters. Clustering is a great tool for data analysis, customer segmentation, recommender systems, search engines, image segmentation, semi-supervised learning, dimensionality reduction, and more."
   ]
  },
  {
   "cell_type": "markdown",
   "id": "1aca981e",
   "metadata": {
    "slideshow": {
     "slide_type": "slide"
    }
   },
   "source": [
    "## Anomaly detection\n",
    "The objective is to learn what “normal” data looks like, and then use that to detect abnormal instances, such as defective items on a production line or a new trend in a time series."
   ]
  },
  {
   "cell_type": "markdown",
   "id": "9675b1dc",
   "metadata": {
    "slideshow": {
     "slide_type": "slide"
    }
   },
   "source": [
    "## Density estimation"
   ]
  },
  {
   "cell_type": "markdown",
   "id": "12697d07",
   "metadata": {
    "slideshow": {
     "slide_type": "slide"
    }
   },
   "source": [
    "This is the task of estimating the probability density function (PDF) of the random process that generated the dataset. Density estimation is commonly used for anomaly detection: instances located in very low density regions are likely to be anomalies. It is also useful for data analysis and visualization."
   ]
  },
  {
   "cell_type": "markdown",
   "id": "dcf42fbb",
   "metadata": {
    "slideshow": {
     "slide_type": "slide"
    }
   },
   "source": [
    "\n",
    "Ready for some cake? We will start with clustering, using K-Means and DBSCAN, and then we will discuss Gaussian mixture models and see how they can be used for density estimation, clustering, and anomaly detection."
   ]
  },
  {
   "cell_type": "markdown",
   "id": "cbc46a64",
   "metadata": {
    "slideshow": {
     "slide_type": "slide"
    }
   },
   "source": [
    "# Clustering"
   ]
  },
  {
   "cell_type": "markdown",
   "id": "d9369f9a",
   "metadata": {
    "slideshow": {
     "slide_type": "slide"
    }
   },
   "source": [
    "As you enjoy a hike in the mountains, you stumble upon a plant you have never seen before. "
   ]
  },
  {
   "cell_type": "markdown",
   "id": "d7827ee8",
   "metadata": {
    "slideshow": {
     "slide_type": "slide"
    }
   },
   "source": [
    "You look around and you notice a few more. "
   ]
  },
  {
   "cell_type": "markdown",
   "id": "bbbc3a69",
   "metadata": {
    "slideshow": {
     "slide_type": "slide"
    }
   },
   "source": [
    "They are not identical, yet they are sufficiently similar for you to know that they most likely belong to the same species (or at least the same genus). "
   ]
  },
  {
   "cell_type": "markdown",
   "id": "4e05f01b",
   "metadata": {
    "slideshow": {
     "slide_type": "slide"
    }
   },
   "source": [
    "You may need a botanist to tell you what species that is, but you certainly don’t need an expert to identify groups of similar-looking objects. "
   ]
  },
  {
   "cell_type": "markdown",
   "id": "8d8abbf7",
   "metadata": {
    "slideshow": {
     "slide_type": "slide"
    }
   },
   "source": [
    "This is called clustering: it is the task of identifying similar instances and assigning them to clusters, or groups of similar instances"
   ]
  },
  {
   "cell_type": "markdown",
   "id": "dc2ce21b",
   "metadata": {
    "slideshow": {
     "slide_type": "slide"
    }
   },
   "source": [
    "Just like in classification, each instance gets assigned to a group. "
   ]
  },
  {
   "cell_type": "markdown",
   "id": "d465542c",
   "metadata": {
    "slideshow": {
     "slide_type": "slide"
    }
   },
   "source": [
    "However, unlike classification, clustering is an unsupervised task. Consider Figure 9-1: on the left is the iris dataset (introduced in Chapter 4), where each instance’s species (i.e., its class) is represented with a different marker. "
   ]
  },
  {
   "cell_type": "markdown",
   "id": "a59fbac1",
   "metadata": {
    "slideshow": {
     "slide_type": "slide"
    }
   },
   "source": [
    "It is a labeled dataset, for which classification algorithms such as Logistic Regression, SVMs, or Random Forest classifiers are well suited. "
   ]
  },
  {
   "cell_type": "markdown",
   "id": "ee39d9e8",
   "metadata": {
    "slideshow": {
     "slide_type": "slide"
    }
   },
   "source": [
    "On the right is the same dataset, but without the labels, so you cannot use a classification algorithm anymore. "
   ]
  },
  {
   "cell_type": "markdown",
   "id": "93bf4340",
   "metadata": {
    "slideshow": {
     "slide_type": "slide"
    }
   },
   "source": [
    "This is where clustering algorithms step in: many of them can easily detect the lower-left cluster. "
   ]
  },
  {
   "cell_type": "markdown",
   "id": "5c44d115",
   "metadata": {
    "slideshow": {
     "slide_type": "slide"
    }
   },
   "source": [
    "It is also quite easy to see with our own eyes, but it is not so obvious that the upper-right cluster is composed of two distinct sub-clusters. "
   ]
  },
  {
   "cell_type": "markdown",
   "id": "df1f54e0",
   "metadata": {
    "slideshow": {
     "slide_type": "slide"
    }
   },
   "source": [
    "That said, the dataset has two additional features (sepal length and width), not represented here, and clustering algorithms can make good use of all features, so in fact they identify the three clusters fairly well (e.g., using a Gaussian mixture model,\n",
    "only 5 instances out of 150 are assigned to the wrong cluster)."
   ]
  },
  {
   "cell_type": "markdown",
   "id": "83939a26",
   "metadata": {
    "slideshow": {
     "slide_type": "slide"
    }
   },
   "source": [
    "<img src = 'https://github.com/marco-canas/didactica_ciencia_datos/blob/main/referentes/geron/part_1/c_9/figure_9_1.png?raw=true'>"
   ]
  },
  {
   "cell_type": "markdown",
   "id": "9ea19929",
   "metadata": {
    "slideshow": {
     "slide_type": "slide"
    }
   },
   "source": [
    "Clustering is used in a wide variety of applications, including these:"
   ]
  },
  {
   "cell_type": "markdown",
   "id": "cda0a19f",
   "metadata": {
    "slideshow": {
     "slide_type": "slide"
    }
   },
   "source": [
    "For customer segmentation"
   ]
  },
  {
   "cell_type": "markdown",
   "id": "73c12085",
   "metadata": {
    "slideshow": {
     "slide_type": "slide"
    }
   },
   "source": [
    "You can cluster your customers based on their purchases and their activity on your website. "
   ]
  },
  {
   "cell_type": "markdown",
   "id": "ba246bf0",
   "metadata": {
    "slideshow": {
     "slide_type": "slide"
    }
   },
   "source": [
    "This is useful to understand who your customers are and what they need, so you can adapt your products and marketing campaigns to each segment. "
   ]
  },
  {
   "cell_type": "markdown",
   "id": "87fdae5f",
   "metadata": {
    "slideshow": {
     "slide_type": "slide"
    }
   },
   "source": [
    "For example, customer segmentation can be useful in recommender systems to suggest content that other users in the same cluster enjoyed."
   ]
  },
  {
   "cell_type": "markdown",
   "id": "2435f2c4",
   "metadata": {
    "slideshow": {
     "slide_type": "slide"
    }
   },
   "source": [
    "## For data analysis  \n",
    "\n",
    "When you analyze a new dataset, it can be helpful to run a clustering algorithm, and then analyze each cluster separately."
   ]
  },
  {
   "cell_type": "markdown",
   "id": "cc8810df",
   "metadata": {
    "slideshow": {
     "slide_type": "slide"
    }
   },
   "source": [
    "As a dimensionality reduction technique Once a dataset has been clustered, it is usually possible to measure each instance’s affinity with each cluster (affinity is any measure of how well an instance fits into a cluster). "
   ]
  },
  {
   "cell_type": "markdown",
   "id": "853f278c",
   "metadata": {
    "slideshow": {
     "slide_type": "slide"
    }
   },
   "source": [
    "Each instance’s feature vector x can then be replaced with the vector of its cluster affinities. If there are k clusters, then this vector is k-dimensional. "
   ]
  },
  {
   "cell_type": "markdown",
   "id": "142c3d4d",
   "metadata": {
    "slideshow": {
     "slide_type": "slide"
    }
   },
   "source": [
    "This vector is typically much lower dimensional than the original feature vector, but it can preserve enough information for further processing."
   ]
  },
  {
   "cell_type": "markdown",
   "id": "4481bd6f",
   "metadata": {
    "slideshow": {
     "slide_type": "slide"
    }
   },
   "source": [
    "## For anomaly detection (also called outlier detection)  \n",
    "\n",
    "Any instance that has a low affinity to all the clusters is likely to be an anomaly. "
   ]
  },
  {
   "cell_type": "markdown",
   "id": "4bcf5c6f",
   "metadata": {
    "slideshow": {
     "slide_type": "slide"
    }
   },
   "source": [
    "For example, if you have clustered the users of your website based on their behavior, you can detect users with unusual behavior, such as an unusual number of requests per second. "
   ]
  },
  {
   "cell_type": "markdown",
   "id": "7912057e",
   "metadata": {
    "slideshow": {
     "slide_type": "slide"
    }
   },
   "source": [
    "Anomaly detection is particularly useful in detecting defects in manufacturing, or for fraud detection."
   ]
  },
  {
   "cell_type": "markdown",
   "id": "7b6302fa",
   "metadata": {
    "slideshow": {
     "slide_type": "slide"
    }
   },
   "source": [
    "## For semi-supervised learning  \n",
    "\n",
    "If you only have a few labels, you could perform clustering and propagate the labels to all the instances in the same cluster."
   ]
  },
  {
   "cell_type": "markdown",
   "id": "4d955f83",
   "metadata": {
    "slideshow": {
     "slide_type": "slide"
    }
   },
   "source": [
    "This technique can greatly increase the number of labels available for a subsequent supervised learning algorithm, and thus improve its performance."
   ]
  },
  {
   "cell_type": "markdown",
   "id": "09e38078",
   "metadata": {
    "slideshow": {
     "slide_type": "slide"
    }
   },
   "source": [
    "## For search engines  \n",
    "\n",
    "Some search engines let you search for images that are similar to a reference image. "
   ]
  },
  {
   "cell_type": "markdown",
   "id": "fd07daaf",
   "metadata": {
    "slideshow": {
     "slide_type": "slide"
    }
   },
   "source": [
    "To build such a system, you would first apply a clustering algorithm to all the images in your database; similar images\n",
    "would end up in the same cluster. "
   ]
  },
  {
   "cell_type": "markdown",
   "id": "003866d7",
   "metadata": {
    "slideshow": {
     "slide_type": "slide"
    }
   },
   "source": [
    "Then when a user provides a reference image, all you need to do is use the trained clustering model to find this image’s cluster, and you can then simply return all the images from this cluster."
   ]
  },
  {
   "cell_type": "markdown",
   "id": "02424623",
   "metadata": {
    "slideshow": {
     "slide_type": "slide"
    }
   },
   "source": [
    "## To segment an image  \n",
    "\n",
    "By clustering pixels according to their color, then replacing each pixel’s color with the mean color of its cluster, it is possible to considerably reduce the number of different colors in the image. "
   ]
  },
  {
   "cell_type": "markdown",
   "id": "d2abebf0",
   "metadata": {
    "slideshow": {
     "slide_type": "slide"
    }
   },
   "source": [
    "Image segmentation is used in many object detection and tracking systems, as it makes it easier to detect the contour of each object."
   ]
  },
  {
   "cell_type": "markdown",
   "id": "abe12cee",
   "metadata": {
    "slideshow": {
     "slide_type": "slide"
    }
   },
   "source": [
    "There is no universal definition of what a cluster is: it really depends on the context, and different algorithms will capture different kinds of clusters."
   ]
  },
  {
   "cell_type": "markdown",
   "id": "9f9a053e",
   "metadata": {
    "slideshow": {
     "slide_type": "slide"
    }
   },
   "source": [
    "Some algorithms look for instances centered around a particular point, called a centroid. Others look for continuous regions of densely packed instances: these clusters can take on any shape. "
   ]
  },
  {
   "cell_type": "markdown",
   "id": "efb910aa",
   "metadata": {
    "slideshow": {
     "slide_type": "slide"
    }
   },
   "source": [
    "Some algorithms are hierarchical, looking for clusters of clusters. And the list goes on."
   ]
  },
  {
   "cell_type": "markdown",
   "id": "cd27611e",
   "metadata": {
    "slideshow": {
     "slide_type": "slide"
    }
   },
   "source": [
    "In this section, we will look at two popular clustering algorithms, K-Means and DBSCAN, and explore some of their applications, such as nonlinear dimensionality reduction, semi-supervised learning, and anomaly detection."
   ]
  },
  {
   "cell_type": "code",
   "execution_count": null,
   "id": "7344dd6e",
   "metadata": {
    "slideshow": {
     "slide_type": "slide"
    }
   },
   "outputs": [],
   "source": []
  },
  {
   "cell_type": "code",
   "execution_count": null,
   "id": "6d2d82e3",
   "metadata": {},
   "outputs": [],
   "source": []
  },
  {
   "cell_type": "code",
   "execution_count": null,
   "id": "fe171ea3",
   "metadata": {},
   "outputs": [],
   "source": []
  },
  {
   "cell_type": "code",
   "execution_count": null,
   "id": "558fedeb",
   "metadata": {},
   "outputs": [],
   "source": []
  },
  {
   "cell_type": "code",
   "execution_count": null,
   "id": "718eae7f",
   "metadata": {},
   "outputs": [],
   "source": []
  }
 ],
 "metadata": {
  "celltoolbar": "Slideshow",
  "kernelspec": {
   "display_name": "Python 3 (ipykernel)",
   "language": "python",
   "name": "python3"
  },
  "language_info": {
   "codemirror_mode": {
    "name": "ipython",
    "version": 3
   },
   "file_extension": ".py",
   "mimetype": "text/x-python",
   "name": "python",
   "nbconvert_exporter": "python",
   "pygments_lexer": "ipython3",
   "version": "3.9.12"
  }
 },
 "nbformat": 4,
 "nbformat_minor": 5
}
