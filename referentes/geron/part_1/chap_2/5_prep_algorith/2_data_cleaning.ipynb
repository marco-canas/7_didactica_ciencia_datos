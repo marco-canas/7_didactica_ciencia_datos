{
 "cells": [
  {
   "cell_type": "markdown",
   "id": "c2805678",
   "metadata": {
    "slideshow": {
     "slide_type": "slide"
    }
   },
   "source": [
    "<table align=\"left\">\n",
    "  <td>\n",
    "    <a href=\"https://colab.research.google.com/github/marco-canas/taca/blob/main/ref/geron/chap_2/5_prepare_for_algorithms/2_data_cleaning.ipynb\" target=\"_parent\"><img src=\"https://colab.research.google.com/assets/colab-badge.svg\" alt=\"Open In Colab\"/></a>\n",
    "  </td>\n",
    "  <td>\n",
    "    <a target=\"_blank\" href=\"https://kaggle.com/kernels/welcome?src=https://github.com/marco-canas/taca/blob/main/ref/geron/chap_2/5_prepare_for_algorithms/2_data_cleaning.ipynb\"><img src=\"https://kaggle.com/static/images/open-in-kaggle.svg\" /></a>\n",
    "  </td>\n",
    "</table>"
   ]
  },
  {
   "cell_type": "markdown",
   "id": "663f8e70",
   "metadata": {
    "slideshow": {
     "slide_type": "slide"
    }
   },
   "source": [
    "# 2 Data Cleaning   \n",
    "Página 101  "
   ]
  },
  {
   "cell_type": "markdown",
   "id": "78ff3d1b",
   "metadata": {
    "slideshow": {
     "slide_type": "slide"
    }
   },
   "source": [
    "## [Video de apoyo]() "
   ]
  },
  {
   "cell_type": "markdown",
   "id": "ee0d8b92",
   "metadata": {
    "slideshow": {
     "slide_type": "slide"
    }
   },
   "source": [
    "La mayoría de los algoritmos de aprendizaje automático no pueden funcionar con los atributos que falten, así que creemos algunas funciones para solucionar el problema cuando falten datos. "
   ]
  },
  {
   "cell_type": "code",
   "execution_count": null,
   "id": "e329f0c5",
   "metadata": {
    "slideshow": {
     "slide_type": "slide"
    }
   },
   "outputs": [],
   "source": [
    "import numpy as np \n",
    "import pandas as pd "
   ]
  },
  {
   "cell_type": "code",
   "execution_count": null,
   "id": "f9a33867",
   "metadata": {
    "slideshow": {
     "slide_type": "slide"
    }
   },
   "outputs": [],
   "source": [
    "url = 'https://raw.githubusercontent.com/marco-canas/taca/main/datasets/housing/housing.csv'\n",
    "housing = pd.read_csv(url)"
   ]
  },
  {
   "cell_type": "code",
   "execution_count": null,
   "id": "6e126c3f",
   "metadata": {
    "slideshow": {
     "slide_type": "slide"
    }
   },
   "outputs": [],
   "source": [
    "housing.head(4) "
   ]
  },
  {
   "cell_type": "code",
   "execution_count": null,
   "id": "46ff898e",
   "metadata": {
    "slideshow": {
     "slide_type": "slide"
    }
   },
   "outputs": [],
   "source": [
    "housing['income_cat'] = pd.cut(housing['median_income'], \n",
    "                              bins = [0,1.5,3.0,4.5,6.0, np.inf], \n",
    "                              labels = [1,2,3,4,5])"
   ]
  },
  {
   "cell_type": "code",
   "execution_count": null,
   "id": "db57fb79",
   "metadata": {
    "scrolled": true,
    "slideshow": {
     "slide_type": "slide"
    }
   },
   "outputs": [],
   "source": [
    "housing.head() "
   ]
  },
  {
   "cell_type": "code",
   "execution_count": null,
   "id": "cdd045fe",
   "metadata": {
    "slideshow": {
     "slide_type": "slide"
    }
   },
   "outputs": [],
   "source": [
    "from sklearn.model_selection import StratifiedShuffleSplit "
   ]
  },
  {
   "cell_type": "code",
   "execution_count": null,
   "id": "e705e9ea",
   "metadata": {
    "slideshow": {
     "slide_type": "slide"
    }
   },
   "outputs": [],
   "source": [
    "barajado = StratifiedShuffleSplit(n_splits = 1, test_size = 0.2, random_state = 513) "
   ]
  },
  {
   "cell_type": "code",
   "execution_count": null,
   "id": "669a7a1e",
   "metadata": {
    "slideshow": {
     "slide_type": "slide"
    }
   },
   "outputs": [],
   "source": [
    "n = 0\n",
    "for train_indices, test_indices in barajado.split(housing, housing['income_cat']):\n",
    "    n+=1\n",
    "    strat_train_set = housing.loc[train_indices]\n",
    "    strat_test_set = housing.loc[test_indices] \n",
    "    \n",
    "n     "
   ]
  },
  {
   "cell_type": "code",
   "execution_count": null,
   "id": "9b92b001",
   "metadata": {
    "slideshow": {
     "slide_type": "slide"
    }
   },
   "outputs": [],
   "source": [
    "housing = strat_train_set.drop(['income_cat', 'median_house_value'], axis = 1).copy() "
   ]
  },
  {
   "cell_type": "code",
   "execution_count": null,
   "id": "fb1b3761",
   "metadata": {
    "scrolled": true,
    "slideshow": {
     "slide_type": "slide"
    }
   },
   "outputs": [],
   "source": [
    "housing_label = strat_train_set['median_house_value'] "
   ]
  },
  {
   "cell_type": "code",
   "execution_count": null,
   "id": "b1200aaa",
   "metadata": {
    "slideshow": {
     "slide_type": "slide"
    }
   },
   "outputs": [],
   "source": [
    "housing.info() "
   ]
  },
  {
   "cell_type": "markdown",
   "id": "b6579701",
   "metadata": {
    "slideshow": {
     "slide_type": "slide"
    }
   },
   "source": [
    "Vemos anteriormente que el atributo `total_bedrooms` tiene algunos valores faltantes, así que solucionemos esto. "
   ]
  },
  {
   "cell_type": "markdown",
   "id": "7a009c3f",
   "metadata": {
    "slideshow": {
     "slide_type": "slide"
    }
   },
   "source": [
    "Tienes tres opciones:  \n",
    "\n",
    "1. Deshazte de los distritos correspondientes.\n",
    "2. Deshazte de todo el atributo.\n",
    "3. Establezca los valores en algún valor (cero, la media, la mediana, etc.)."
   ]
  },
  {
   "cell_type": "markdown",
   "id": "ad460a67",
   "metadata": {
    "slideshow": {
     "slide_type": "slide"
    }
   },
   "source": [
    "Puede lograr esto fácilmente usando los métodos \n",
    "* `dropna()`, \n",
    "* `drop()` y \n",
    "* `fillna()`  \n",
    "\n",
    "de DataFrame:"
   ]
  },
  {
   "cell_type": "code",
   "execution_count": null,
   "id": "3e5cf2b4",
   "metadata": {
    "slideshow": {
     "slide_type": "slide"
    }
   },
   "outputs": [],
   "source": [
    "housing.dropna(subset=[\"total_bedrooms\"])     # option 1\n",
    "housing.drop(\"total_bedrooms\", axis=1)        # option 2\n",
    "median = housing[\"total_bedrooms\"].median()   # option 3\n",
    "housing[\"total_bedrooms\"].fillna(median, inplace=True)"
   ]
  },
  {
   "cell_type": "markdown",
   "id": "fe299272",
   "metadata": {
    "slideshow": {
     "slide_type": "slide"
    }
   },
   "source": [
    "Si elige la opción 3, debe calcular el valor de la mediana en el conjunto de entrenamiento y usarlo para completar los valores faltantes en el conjunto de entrenamiento."
   ]
  },
  {
   "cell_type": "markdown",
   "id": "d90c0e05",
   "metadata": {
    "slideshow": {
     "slide_type": "slide"
    }
   },
   "source": [
    "No olvide guardar el valor de la mediana que ha calculado. "
   ]
  },
  {
   "cell_type": "markdown",
   "id": "20a85251",
   "metadata": {
    "slideshow": {
     "slide_type": "slide"
    }
   },
   "source": [
    "Lo necesitará más adelante para reemplazar los valores faltantes en el conjunto de prueba cuando desee evaluar su sistema, y también una vez que el sistema entre en funcionamiento para reemplazar los valores faltantes en nuevos datos."
   ]
  },
  {
   "cell_type": "markdown",
   "id": "b1051e74",
   "metadata": {
    "slideshow": {
     "slide_type": "slide"
    }
   },
   "source": [
    "Scikit-Learn proporciona una clase útil para ocuparse de los valores faltantes: `SimpleImputer`."
   ]
  },
  {
   "cell_type": "markdown",
   "id": "b55867dd",
   "metadata": {
    "slideshow": {
     "slide_type": "slide"
    }
   },
   "source": [
    "A continuación se explica cómo utilizarlo."
   ]
  },
  {
   "cell_type": "markdown",
   "id": "a31cf422",
   "metadata": {
    "slideshow": {
     "slide_type": "slide"
    }
   },
   "source": [
    "Primero, debe crear una instancia de SimpleImputer, especificando que desea reemplazar los valores faltantes de cada atributo con la mediana de ese atributo:"
   ]
  },
  {
   "cell_type": "code",
   "execution_count": null,
   "id": "afa35d68",
   "metadata": {
    "slideshow": {
     "slide_type": "slide"
    }
   },
   "outputs": [],
   "source": [
    "from sklearn.impute import SimpleImputer\n",
    "imputer = SimpleImputer(strategy=\"median\")"
   ]
  },
  {
   "cell_type": "markdown",
   "id": "db9b9323",
   "metadata": {
    "slideshow": {
     "slide_type": "slide"
    }
   },
   "source": [
    "Dado que la mediana solo se puede calcular en atributos numéricos, debe crear una copia de los datos sin el atributo de texto `ocean_proximity`:"
   ]
  },
  {
   "cell_type": "code",
   "execution_count": null,
   "id": "991041c0",
   "metadata": {
    "slideshow": {
     "slide_type": "slide"
    }
   },
   "outputs": [],
   "source": [
    "housing_num = housing.drop(\"ocean_proximity\", axis=1)"
   ]
  },
  {
   "cell_type": "markdown",
   "id": "33279dd5",
   "metadata": {
    "slideshow": {
     "slide_type": "slide"
    }
   },
   "source": [
    "Ahora puede ajustar la instancia del imputador a los datos de entrenamiento usando el método `fit()`:"
   ]
  },
  {
   "cell_type": "code",
   "execution_count": null,
   "id": "867027b9",
   "metadata": {
    "slideshow": {
     "slide_type": "slide"
    }
   },
   "outputs": [],
   "source": [
    "imputer.fit(housing_num)\n"
   ]
  },
  {
   "cell_type": "markdown",
   "id": "da16c790",
   "metadata": {
    "slideshow": {
     "slide_type": "slide"
    }
   },
   "source": [
    "El imputador simplemente calculó la mediana de cada atributo y almacenó el resultado en su variable de instancia `statistics_`."
   ]
  },
  {
   "cell_type": "markdown",
   "id": "95e4b01c",
   "metadata": {
    "slideshow": {
     "slide_type": "slide"
    }
   },
   "source": [
    "Solo el atributo `total_bedrooms` tenía valores faltantes, pero no podemos estar seguros de que no faltarán valores en los datos nuevos después de que el sistema entre en funcionamiento, por lo que es más seguro aplicar el imputador a todos los atributos numéricos:"
   ]
  },
  {
   "cell_type": "code",
   "execution_count": null,
   "id": "df19cc02",
   "metadata": {
    "slideshow": {
     "slide_type": "slide"
    }
   },
   "outputs": [],
   "source": [
    "imputer.statistics_"
   ]
  },
  {
   "cell_type": "code",
   "execution_count": null,
   "id": "5e1632c1",
   "metadata": {
    "slideshow": {
     "slide_type": "slide"
    }
   },
   "outputs": [],
   "source": [
    "housing_num.median().values"
   ]
  },
  {
   "cell_type": "markdown",
   "id": "c0cab140",
   "metadata": {
    "slideshow": {
     "slide_type": "slide"
    }
   },
   "source": [
    "Ahora puede usar este imputador \"entrenado\" para transformar el conjunto de entrenamiento reemplazando los valores faltantes con las medianas aprendidas:"
   ]
  },
  {
   "cell_type": "code",
   "execution_count": null,
   "id": "25ca89a2",
   "metadata": {
    "slideshow": {
     "slide_type": "slide"
    }
   },
   "outputs": [],
   "source": [
    "X = imputer.transform(housing_num)"
   ]
  },
  {
   "cell_type": "markdown",
   "id": "6354dbcf",
   "metadata": {
    "slideshow": {
     "slide_type": "slide"
    }
   },
   "source": [
    "El resultado es una matriz NumPy simple que contiene las características transformadas."
   ]
  },
  {
   "cell_type": "markdown",
   "id": "61825c1e",
   "metadata": {
    "slideshow": {
     "slide_type": "slide"
    }
   },
   "source": [
    "Si desea volver a colocarlo en un `DataFrame` de pandas, es simple:"
   ]
  },
  {
   "cell_type": "code",
   "execution_count": null,
   "id": "9587b129",
   "metadata": {
    "slideshow": {
     "slide_type": "slide"
    }
   },
   "outputs": [],
   "source": [
    "housing_tr = pd.DataFrame(X, columns = housing_num.columns, index = housing_num.index)\n"
   ]
  },
  {
   "cell_type": "markdown",
   "id": "18e9bd7a",
   "metadata": {
    "slideshow": {
     "slide_type": "slide"
    }
   },
   "source": [
    "## DISEÑO SCIKIT-LEARN"
   ]
  },
  {
   "cell_type": "markdown",
   "id": "8a751f65",
   "metadata": {
    "slideshow": {
     "slide_type": "slide"
    }
   },
   "source": [
    "La API de Scikit-Learn está muy bien diseñada. Estos son los principales principios de diseño:"
   ]
  },
  {
   "cell_type": "markdown",
   "id": "776512e4",
   "metadata": {
    "slideshow": {
     "slide_type": "slide"
    }
   },
   "source": [
    "### Consistencia  "
   ]
  },
  {
   "cell_type": "markdown",
   "id": "35243b30",
   "metadata": {
    "slideshow": {
     "slide_type": "slide"
    }
   },
   "source": [
    "Todos los objetos comparten una interfaz simple y consistente:"
   ]
  },
  {
   "cell_type": "markdown",
   "id": "851e6f3e",
   "metadata": {
    "slideshow": {
     "slide_type": "slide"
    }
   },
   "source": [
    "#### Estimadores"
   ]
  },
  {
   "cell_type": "markdown",
   "id": "b7462ebd",
   "metadata": {
    "slideshow": {
     "slide_type": "slide"
    }
   },
   "source": [
    "Cualquier objeto que pueda estimar algunos parámetros basándose en un conjunto de datos se denomina estimador (por ejemplo, un imputador es un estimador)."
   ]
  },
  {
   "cell_type": "markdown",
   "id": "e13b56e2",
   "metadata": {
    "slideshow": {
     "slide_type": "slide"
    }
   },
   "source": [
    "La estimación en sí se realiza mediante el método `fit()` y solo toma un conjunto de datos como parámetro (o dos para los algoritmos de aprendizaje supervisado; el segundo conjunto de datos contiene las etiquetas).\n",
    " "
   ]
  },
  {
   "cell_type": "markdown",
   "id": "f284fff1",
   "metadata": {
    "slideshow": {
     "slide_type": "slide"
    }
   },
   "source": [
    "Cualquier otro parámetro necesario para guiar el proceso de estimación se considera un hiperparámetro (como la estrategia de un imputador) y debe establecerse como una variable de instancia (generalmente a través de un parámetro de constructor)."
   ]
  },
  {
   "cell_type": "markdown",
   "id": "ded357a6",
   "metadata": {
    "slideshow": {
     "slide_type": "slide"
    }
   },
   "source": [
    "### Transformadores"
   ]
  },
  {
   "cell_type": "markdown",
   "id": "34facc27",
   "metadata": {
    "slideshow": {
     "slide_type": "slide"
    }
   },
   "source": [
    "Algunos estimadores (como un imputador) también pueden transformar un conjunto de datos; estos se llaman transformadores. Una vez más, la API es simple: la transformación se realiza mediante el método `transform()` con el conjunto de datos a transformar como parámetro. Devuelve el conjunto de datos transformado."
   ]
  },
  {
   "cell_type": "markdown",
   "id": "a9d7d187",
   "metadata": {
    "slideshow": {
     "slide_type": "slide"
    }
   },
   "source": [
    "Esta transformación generalmente se basa en los aprendidos parámetros, como es el caso de un imputador."
   ]
  },
  {
   "cell_type": "markdown",
   "id": "985790c9",
   "metadata": {
    "slideshow": {
     "slide_type": "slide"
    }
   },
   "source": [
    "Todos los transformadores también tienen un método de conveniencia llamado fit_transform () que es equivalente a\n",
    "llamando a `fit()` y luego `transform()` (pero a veces `fit_transform()` está optimizado y se ejecuta mucho más rápido)."
   ]
  },
  {
   "cell_type": "markdown",
   "id": "acd29a85",
   "metadata": {
    "slideshow": {
     "slide_type": "slide"
    }
   },
   "source": [
    "### Predictores"
   ]
  },
  {
   "cell_type": "markdown",
   "id": "a6e1991d",
   "metadata": {
    "slideshow": {
     "slide_type": "slide"
    }
   },
   "source": [
    "Finalmente, algunos estimadores, dado un conjunto de datos, son capaces de hacer predicciones; se llaman predictores. Por ejemplo, el modelo LinearRegression del capítulo anterior fue un predictor:"
   ]
  },
  {
   "cell_type": "markdown",
   "id": "9e66e6a4",
   "metadata": {
    "slideshow": {
     "slide_type": "slide"
    }
   },
   "source": [
    "dado el PIB per cápita de un país, predijo la satisfacción con la vida."
   ]
  },
  {
   "cell_type": "markdown",
   "id": "6f2a78b6",
   "metadata": {
    "slideshow": {
     "slide_type": "slide"
    }
   },
   "source": [
    "Un predictor tiene un método predict () que toma un conjunto de datos de nuevos\n",
    "instancias y devuelve un conjunto de datos de predicciones correspondientes. También tiene un método score () que mide la calidad de las predicciones, dado un conjunto de pruebas (y las etiquetas correspondientes, en el caso de algoritmos de aprendizaje supervisado)."
   ]
  },
  {
   "cell_type": "markdown",
   "id": "a656c216",
   "metadata": {
    "slideshow": {
     "slide_type": "slide"
    }
   },
   "source": [
    "### Inspección"
   ]
  },
  {
   "cell_type": "markdown",
   "id": "10b30bc4",
   "metadata": {
    "slideshow": {
     "slide_type": "slide"
    }
   },
   "source": [
    "Todos los hiperparámetros del estimador son accesibles directamente a través de variables de instancia públicas (por ejemplo, imputer.strategy), y todos los parámetros aprendidos del estimador son accesibles a través de variables de instancia públicas con un sufijo de subrayado (por ejemplo, imputer.statistics_)."
   ]
  },
  {
   "cell_type": "markdown",
   "id": "b38732d6",
   "metadata": {
    "slideshow": {
     "slide_type": "slide"
    }
   },
   "source": [
    "### No proliferación de clases"
   ]
  },
  {
   "cell_type": "markdown",
   "id": "0072b9cb",
   "metadata": {
    "slideshow": {
     "slide_type": "slide"
    }
   },
   "source": [
    "Los conjuntos de datos se representan como matrices NumPy o matrices dispersas SciPy, en lugar de clases caseras. Los hiperparámetros son solo cadenas o números normales de Python."
   ]
  },
  {
   "cell_type": "markdown",
   "id": "baa33742",
   "metadata": {
    "slideshow": {
     "slide_type": "slide"
    }
   },
   "source": [
    "### Composición"
   ]
  },
  {
   "cell_type": "markdown",
   "id": "9d98899f",
   "metadata": {
    "slideshow": {
     "slide_type": "slide"
    }
   },
   "source": [
    "Los bloques de construcción existentes se reutilizan tanto como sea posible. Por ejemplo, es fácil crear un estimador Pipeline a partir de una secuencia arbitraria de transformadores seguida de un estimador final, como veremos."
   ]
  },
  {
   "cell_type": "markdown",
   "id": "400309ca",
   "metadata": {
    "slideshow": {
     "slide_type": "slide"
    }
   },
   "source": [
    "### Defaults sensibles"
   ]
  },
  {
   "cell_type": "markdown",
   "id": "1a65aa2a",
   "metadata": {
    "slideshow": {
     "slide_type": "slide"
    }
   },
   "source": [
    "Scikit-Learn proporciona valores predeterminados razonables para la mayoría de los parámetros, lo que facilita la creación rápida de un sistema de trabajo básico."
   ]
  },
  {
   "cell_type": "code",
   "execution_count": null,
   "id": "6b4dcbfc",
   "metadata": {
    "slideshow": {
     "slide_type": "slide"
    }
   },
   "outputs": [],
   "source": []
  }
 ],
 "metadata": {
  "celltoolbar": "Slideshow",
  "kernelspec": {
   "display_name": "Python 3",
   "language": "python",
   "name": "python3"
  },
  "language_info": {
   "codemirror_mode": {
    "name": "ipython",
    "version": 3
   },
   "file_extension": ".py",
   "mimetype": "text/x-python",
   "name": "python",
   "nbconvert_exporter": "python",
   "pygments_lexer": "ipython3",
   "version": "3.8.8"
  },
  "latex_envs": {
   "LaTeX_envs_menu_present": true,
   "autoclose": false,
   "autocomplete": false,
   "bibliofile": "biblio.bib",
   "cite_by": "apalike",
   "current_citInitial": 1,
   "eqLabelWithNumbers": true,
   "eqNumInitial": 1,
   "hotkeys": {
    "equation": "Ctrl-E",
    "itemize": "Ctrl-I"
   },
   "labels_anchors": false,
   "latex_user_defs": false,
   "report_style_numbering": false,
   "user_envs_cfg": false
  },
  "rise": {
   "enable_chalkboard": true,
   "theme": "sky",
   "transition": "zoom"
  }
 },
 "nbformat": 4,
 "nbformat_minor": 5
}
