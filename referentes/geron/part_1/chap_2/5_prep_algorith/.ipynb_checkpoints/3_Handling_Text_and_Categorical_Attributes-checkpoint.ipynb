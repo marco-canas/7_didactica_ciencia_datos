{
 "cells": [
  {
   "cell_type": "markdown",
   "id": "2f6da306",
   "metadata": {
    "slideshow": {
     "slide_type": "slide"
    }
   },
   "source": [
    "<table align=\"left\">\n",
    "  <td>\n",
    "    <a href=\"https://colab.research.google.com/github/marco-canas/taca/blob/main/ref/geron/chap_2/5_prepare_for_algorithms/2_data_cleaning.ipynb\" target=\"_parent\"><img src=\"https://colab.research.google.com/assets/colab-badge.svg\" alt=\"Open In Colab\"/></a>\n",
    "  </td>\n",
    "  <td>\n",
    "    <a target=\"_blank\" href=\"https://kaggle.com/kernels/welcome?src=https://github.com/marco-canas/taca/blob/main/ref/geron/chap_2/5_prepare_for_algorithms/2_data_cleaning.ipynb\"><img src=\"https://kaggle.com/static/images/open-in-kaggle.svg\" /></a>\n",
    "  </td>\n",
    "</table>"
   ]
  },
  {
   "cell_type": "markdown",
   "id": "f49de191",
   "metadata": {
    "slideshow": {
     "slide_type": "slide"
    }
   },
   "source": [
    "# Manejo de atributos de texto y categóricos  \n",
    "\n",
    "Gerón página 105"
   ]
  },
  {
   "cell_type": "markdown",
   "id": "14bb8ca4",
   "metadata": {
    "slideshow": {
     "slide_type": "slide"
    }
   },
   "source": [
    "### [Primer video de apoyo a la lectura](https://www.youtube.com/watch?v=OmEAPp14ZnE) "
   ]
  },
  {
   "cell_type": "markdown",
   "id": "7512a151",
   "metadata": {
    "slideshow": {
     "slide_type": "slide"
    }
   },
   "source": [
    "Hasta ahora solo nos hemos ocupado de los atributos numéricos, pero ahora veamos los atributos de texto. "
   ]
  },
  {
   "cell_type": "markdown",
   "id": "affcbf8b",
   "metadata": {
    "slideshow": {
     "slide_type": "slide"
    }
   },
   "source": [
    "En este conjunto de datos, solo hay uno: el atributo `ocean_proximity`."
   ]
  },
  {
   "cell_type": "markdown",
   "id": "81ee829b",
   "metadata": {
    "slideshow": {
     "slide_type": "slide"
    }
   },
   "source": [
    "Veamos su valor para las primeras 10 instancias:"
   ]
  },
  {
   "cell_type": "markdown",
   "id": "23607d98",
   "metadata": {
    "slideshow": {
     "slide_type": "slide"
    }
   },
   "source": [
    "Pero recordemos la parte de construcción del conjunto de entrenamiento y testeo:"
   ]
  },
  {
   "cell_type": "code",
   "execution_count": 1,
   "id": "c1e36f69",
   "metadata": {
    "slideshow": {
     "slide_type": "slide"
    }
   },
   "outputs": [],
   "source": [
    "import numpy as np \n",
    "import pandas as pd "
   ]
  },
  {
   "cell_type": "code",
   "execution_count": 2,
   "id": "71b38516",
   "metadata": {
    "slideshow": {
     "slide_type": "slide"
    }
   },
   "outputs": [],
   "source": [
    "url = 'https://raw.githubusercontent.com/marco-canas/taca/main/datasets/housing/housing.csv'\n",
    "housing = pd.read_csv(url)"
   ]
  },
  {
   "cell_type": "code",
   "execution_count": 3,
   "id": "62b0f5b0",
   "metadata": {
    "slideshow": {
     "slide_type": "slide"
    }
   },
   "outputs": [
    {
     "data": {
      "text/html": [
       "<div>\n",
       "<style scoped>\n",
       "    .dataframe tbody tr th:only-of-type {\n",
       "        vertical-align: middle;\n",
       "    }\n",
       "\n",
       "    .dataframe tbody tr th {\n",
       "        vertical-align: top;\n",
       "    }\n",
       "\n",
       "    .dataframe thead th {\n",
       "        text-align: right;\n",
       "    }\n",
       "</style>\n",
       "<table border=\"1\" class=\"dataframe\">\n",
       "  <thead>\n",
       "    <tr style=\"text-align: right;\">\n",
       "      <th></th>\n",
       "      <th>longitude</th>\n",
       "      <th>latitude</th>\n",
       "      <th>housing_median_age</th>\n",
       "      <th>total_rooms</th>\n",
       "      <th>total_bedrooms</th>\n",
       "      <th>population</th>\n",
       "      <th>households</th>\n",
       "      <th>median_income</th>\n",
       "      <th>median_house_value</th>\n",
       "      <th>ocean_proximity</th>\n",
       "    </tr>\n",
       "  </thead>\n",
       "  <tbody>\n",
       "    <tr>\n",
       "      <th>0</th>\n",
       "      <td>-122.23</td>\n",
       "      <td>37.88</td>\n",
       "      <td>41.0</td>\n",
       "      <td>880.0</td>\n",
       "      <td>129.0</td>\n",
       "      <td>322.0</td>\n",
       "      <td>126.0</td>\n",
       "      <td>8.3252</td>\n",
       "      <td>452600.0</td>\n",
       "      <td>NEAR BAY</td>\n",
       "    </tr>\n",
       "    <tr>\n",
       "      <th>1</th>\n",
       "      <td>-122.22</td>\n",
       "      <td>37.86</td>\n",
       "      <td>21.0</td>\n",
       "      <td>7099.0</td>\n",
       "      <td>1106.0</td>\n",
       "      <td>2401.0</td>\n",
       "      <td>1138.0</td>\n",
       "      <td>8.3014</td>\n",
       "      <td>358500.0</td>\n",
       "      <td>NEAR BAY</td>\n",
       "    </tr>\n",
       "    <tr>\n",
       "      <th>2</th>\n",
       "      <td>-122.24</td>\n",
       "      <td>37.85</td>\n",
       "      <td>52.0</td>\n",
       "      <td>1467.0</td>\n",
       "      <td>190.0</td>\n",
       "      <td>496.0</td>\n",
       "      <td>177.0</td>\n",
       "      <td>7.2574</td>\n",
       "      <td>352100.0</td>\n",
       "      <td>NEAR BAY</td>\n",
       "    </tr>\n",
       "    <tr>\n",
       "      <th>3</th>\n",
       "      <td>-122.25</td>\n",
       "      <td>37.85</td>\n",
       "      <td>52.0</td>\n",
       "      <td>1274.0</td>\n",
       "      <td>235.0</td>\n",
       "      <td>558.0</td>\n",
       "      <td>219.0</td>\n",
       "      <td>5.6431</td>\n",
       "      <td>341300.0</td>\n",
       "      <td>NEAR BAY</td>\n",
       "    </tr>\n",
       "    <tr>\n",
       "      <th>4</th>\n",
       "      <td>-122.25</td>\n",
       "      <td>37.85</td>\n",
       "      <td>52.0</td>\n",
       "      <td>1627.0</td>\n",
       "      <td>280.0</td>\n",
       "      <td>565.0</td>\n",
       "      <td>259.0</td>\n",
       "      <td>3.8462</td>\n",
       "      <td>342200.0</td>\n",
       "      <td>NEAR BAY</td>\n",
       "    </tr>\n",
       "  </tbody>\n",
       "</table>\n",
       "</div>"
      ],
      "text/plain": [
       "   longitude  latitude  housing_median_age  total_rooms  total_bedrooms  \\\n",
       "0    -122.23     37.88                41.0        880.0           129.0   \n",
       "1    -122.22     37.86                21.0       7099.0          1106.0   \n",
       "2    -122.24     37.85                52.0       1467.0           190.0   \n",
       "3    -122.25     37.85                52.0       1274.0           235.0   \n",
       "4    -122.25     37.85                52.0       1627.0           280.0   \n",
       "\n",
       "   population  households  median_income  median_house_value ocean_proximity  \n",
       "0       322.0       126.0         8.3252            452600.0        NEAR BAY  \n",
       "1      2401.0      1138.0         8.3014            358500.0        NEAR BAY  \n",
       "2       496.0       177.0         7.2574            352100.0        NEAR BAY  \n",
       "3       558.0       219.0         5.6431            341300.0        NEAR BAY  \n",
       "4       565.0       259.0         3.8462            342200.0        NEAR BAY  "
      ]
     },
     "execution_count": 3,
     "metadata": {},
     "output_type": "execute_result"
    }
   ],
   "source": [
    "housing.head() "
   ]
  },
  {
   "cell_type": "code",
   "execution_count": 4,
   "id": "1d92778f",
   "metadata": {
    "slideshow": {
     "slide_type": "slide"
    }
   },
   "outputs": [
    {
     "data": {
      "text/plain": [
       "20635    INLAND\n",
       "20636    INLAND\n",
       "20637    INLAND\n",
       "20638    INLAND\n",
       "20639    INLAND\n",
       "Name: ocean_proximity, dtype: object"
      ]
     },
     "execution_count": 4,
     "metadata": {},
     "output_type": "execute_result"
    }
   ],
   "source": [
    "housing['ocean_proximity'].tail()  "
   ]
  },
  {
   "cell_type": "code",
   "execution_count": null,
   "id": "d2490639",
   "metadata": {
    "slideshow": {
     "slide_type": "slide"
    }
   },
   "outputs": [],
   "source": [
    "housing['median_income'].head() "
   ]
  },
  {
   "cell_type": "code",
   "execution_count": null,
   "id": "1573ce3b",
   "metadata": {
    "slideshow": {
     "slide_type": "slide"
    }
   },
   "outputs": [],
   "source": [
    "housing['income_cat'] = pd.cut(housing['median_income'], \n",
    "                              bins = [0,1.5,3.0,4.5,6.0, np.inf], \n",
    "                              labels = [1,2,3,4,5])"
   ]
  },
  {
   "cell_type": "code",
   "execution_count": null,
   "id": "576472c6",
   "metadata": {
    "slideshow": {
     "slide_type": "slide"
    }
   },
   "outputs": [],
   "source": [
    "from sklearn.model_selection import StratifiedShuffleSplit "
   ]
  },
  {
   "cell_type": "code",
   "execution_count": null,
   "id": "df190dde",
   "metadata": {
    "slideshow": {
     "slide_type": "slide"
    }
   },
   "outputs": [],
   "source": [
    "barajado = StratifiedShuffleSplit(n_splits = 1, test_size = 0.2, random_state = 513) "
   ]
  },
  {
   "cell_type": "code",
   "execution_count": null,
   "id": "fe8adf7f",
   "metadata": {
    "slideshow": {
     "slide_type": "slide"
    }
   },
   "outputs": [],
   "source": [
    "for train_indices, test_indices in barajado.split(housing, housing['income_cat']):\n",
    "    strat_train_set = housing.loc[train_indices]\n",
    "    strat_test_set = housing.loc[test_indices] \n",
    "    \n",
    "     "
   ]
  },
  {
   "cell_type": "code",
   "execution_count": null,
   "id": "2cecb5c1",
   "metadata": {
    "slideshow": {
     "slide_type": "slide"
    }
   },
   "outputs": [],
   "source": [
    "housing = strat_train_set.drop(['income_cat', 'median_house_value'], axis = 1).copy() "
   ]
  },
  {
   "cell_type": "code",
   "execution_count": null,
   "id": "efd80342",
   "metadata": {
    "slideshow": {
     "slide_type": "slide"
    }
   },
   "outputs": [],
   "source": [
    "housing_label = strat_train_set['median_house_value'] "
   ]
  },
  {
   "cell_type": "code",
   "execution_count": null,
   "id": "cb54aad8",
   "metadata": {
    "slideshow": {
     "slide_type": "slide"
    }
   },
   "outputs": [],
   "source": [
    "housing.info() "
   ]
  },
  {
   "cell_type": "code",
   "execution_count": null,
   "id": "b3f53095",
   "metadata": {
    "slideshow": {
     "slide_type": "slide"
    }
   },
   "outputs": [],
   "source": [
    "from sklearn.impute import SimpleImputer\n",
    "imputer = SimpleImputer(strategy=\"median\")"
   ]
  },
  {
   "cell_type": "code",
   "execution_count": null,
   "id": "95d50945",
   "metadata": {
    "slideshow": {
     "slide_type": "slide"
    }
   },
   "outputs": [],
   "source": [
    "housing_num = housing.drop(\"ocean_proximity\", axis=1)"
   ]
  },
  {
   "cell_type": "code",
   "execution_count": null,
   "id": "6e9d9eb4",
   "metadata": {
    "slideshow": {
     "slide_type": "slide"
    }
   },
   "outputs": [],
   "source": [
    "imputer.fit(housing_num)"
   ]
  },
  {
   "cell_type": "code",
   "execution_count": null,
   "id": "dd19c35b",
   "metadata": {
    "slideshow": {
     "slide_type": "slide"
    }
   },
   "outputs": [],
   "source": [
    "X = imputer.transform(housing_num)   # ojo: devuelve una matriz de numpy"
   ]
  },
  {
   "cell_type": "markdown",
   "id": "a08a07bb",
   "metadata": {
    "slideshow": {
     "slide_type": "slide"
    }
   },
   "source": [
    "Transformemos esta matriz de `NumPy` es el nuevo dataframe `housing_imputado`"
   ]
  },
  {
   "cell_type": "code",
   "execution_count": null,
   "id": "ca01b190",
   "metadata": {
    "slideshow": {
     "slide_type": "slide"
    }
   },
   "outputs": [],
   "source": [
    "housing_imputado = pd.DataFrame(X, columns = housing_num.columns, index = housing_num.index)"
   ]
  },
  {
   "cell_type": "markdown",
   "id": "c9abdf9d",
   "metadata": {
    "slideshow": {
     "slide_type": "slide"
    }
   },
   "source": [
    "Ahora sí veamos las 10 primeras instancias del atributo `ocean_proximity`"
   ]
  },
  {
   "cell_type": "code",
   "execution_count": null,
   "id": "b5b857d8",
   "metadata": {
    "scrolled": true,
    "slideshow": {
     "slide_type": "slide"
    }
   },
   "outputs": [],
   "source": [
    "housing_cat = housing[[\"ocean_proximity\"]]\n",
    "housing_cat.head(10)\n"
   ]
  },
  {
   "cell_type": "code",
   "execution_count": null,
   "id": "928138c2",
   "metadata": {
    "slideshow": {
     "slide_type": "slide"
    }
   },
   "outputs": [],
   "source": [
    "housing_cat.value_counts() "
   ]
  },
  {
   "cell_type": "markdown",
   "id": "4db2dcc8",
   "metadata": {
    "slideshow": {
     "slide_type": "slide"
    }
   },
   "source": [
    "La mayoría de los algoritmos de aprendizaje automático prefieren trabajar con números, así que debemos convertir estos datos de texto en datos numéricos."
   ]
  },
  {
   "cell_type": "markdown",
   "id": "fa447497",
   "metadata": {
    "slideshow": {
     "slide_type": "slide"
    }
   },
   "source": [
    "Para esto, podemos usar la clase `OrdinalEncoder` de `Scikit-Learn`:"
   ]
  },
  {
   "cell_type": "code",
   "execution_count": null,
   "id": "82f1c258",
   "metadata": {
    "slideshow": {
     "slide_type": "slide"
    }
   },
   "outputs": [],
   "source": [
    "from sklearn.preprocessing import OrdinalEncoder\n",
    "ordinal_encoder = OrdinalEncoder()\n",
    "housing_cat_encoded = ordinal_encoder.fit_transform(housing_cat) \n",
    "# Ojo los objetos que devuelven son de numpy\n",
    "housing_cat_encoded = housing_cat_encoded.reshape(1,-1)"
   ]
  },
  {
   "cell_type": "code",
   "execution_count": null,
   "id": "5f121913",
   "metadata": {
    "slideshow": {
     "slide_type": "slide"
    }
   },
   "outputs": [],
   "source": [
    "housing_cat_encoded = housing_cat_encoded[0]  \n",
    "\n",
    "# .ravel() "
   ]
  },
  {
   "cell_type": "code",
   "execution_count": null,
   "id": "620d7e1c",
   "metadata": {
    "slideshow": {
     "slide_type": "slide"
    }
   },
   "outputs": [],
   "source": [
    "housing_cat_codificada = pd.DataFrame({'ocean_proximity':housing_cat_encoded}, \n",
    "                                      index = housing_imputado.index)  "
   ]
  },
  {
   "cell_type": "code",
   "execution_count": null,
   "id": "4eeb0f18",
   "metadata": {
    "slideshow": {
     "slide_type": "slide"
    }
   },
   "outputs": [],
   "source": [
    "housing_cat_codificada "
   ]
  },
  {
   "cell_type": "markdown",
   "id": "2f09dfae",
   "metadata": {
    "slideshow": {
     "slide_type": "slide"
    }
   },
   "source": [
    "Puede obtener la lista de categorías utilizando la variable de instancia `categories_`."
   ]
  },
  {
   "cell_type": "markdown",
   "id": "a79328f0",
   "metadata": {
    "slideshow": {
     "slide_type": "slide"
    }
   },
   "source": [
    "Es una lista que contiene una matriz 1D de categorías para cada atributo categórico (en este caso, una lista que contiene una única matriz, ya que solo hay un atributo categórico):"
   ]
  },
  {
   "cell_type": "code",
   "execution_count": null,
   "id": "55201f96",
   "metadata": {
    "slideshow": {
     "slide_type": "slide"
    }
   },
   "outputs": [],
   "source": [
    "ordinal_encoder.categories_"
   ]
  },
  {
   "cell_type": "markdown",
   "id": "b8df947e",
   "metadata": {
    "slideshow": {
     "slide_type": "slide"
    }
   },
   "source": [
    "Un problema con esta representación es que los algoritmos ML supondrán que dos valores cercanos son más similares que dos valores distantes."
   ]
  },
  {
   "cell_type": "markdown",
   "id": "7b668cef",
   "metadata": {
    "slideshow": {
     "slide_type": "slide"
    }
   },
   "source": [
    "* Esto puede estar bien en algunos casos (p. Ej., Para categorías ordenadas como \"malo\", \"promedio\", \"bueno\" y \"excelente\"), \n",
    "* pero obviamente no es el caso de la columna `ocean_proximity`\n",
    "(por ejemplo, las categorías 0 y 4 son claramente más similares que las categorías 0 y 1)."
   ]
  },
  {
   "cell_type": "markdown",
   "id": "1b4a3f00",
   "metadata": {
    "slideshow": {
     "slide_type": "slide"
    }
   },
   "source": [
    "Para solucionar este problema, una solución común es crear un **atributo binario** por categoría: \n",
    "\n",
    "* **un atributo** igual a 1 cuando la categoría es \"`<1H OCEAN`\" (y 0 en caso contrario), \n",
    "* **otro atributo** igual a 1 cuando la categoría es \"`INLAND`\" ( y 0 en caso contrario), \n",
    "* y así sucesivamente."
   ]
  },
  {
   "cell_type": "markdown",
   "id": "3e687597",
   "metadata": {
    "slideshow": {
     "slide_type": "slide"
    }
   },
   "source": [
    "Esto se llama codificación one-hot, porque solo un atributo será igual a 1 (hot), mientras que los otros serán 0 (frío)."
   ]
  },
  {
   "cell_type": "markdown",
   "id": "4c06f5de",
   "metadata": {
    "slideshow": {
     "slide_type": "slide"
    }
   },
   "source": [
    "Los nuevos atributos a veces se denominan **atributos ficticios**. "
   ]
  },
  {
   "cell_type": "markdown",
   "id": "8d9e5c30",
   "metadata": {
    "slideshow": {
     "slide_type": "slide"
    }
   },
   "source": [
    "Scikit-Learn proporciona una clase `OneHotEncoder` para convertir valores categóricos en vectores one-hot:"
   ]
  },
  {
   "cell_type": "code",
   "execution_count": null,
   "id": "7be9c165",
   "metadata": {
    "slideshow": {
     "slide_type": "slide"
    }
   },
   "outputs": [],
   "source": [
    "from sklearn.preprocessing import OneHotEncoder\n",
    "cat_encoder = OneHotEncoder()\n",
    "housing_cat_1hot = cat_encoder.fit_transform(housing_cat)\n",
    "housing_cat_1hot\n"
   ]
  },
  {
   "cell_type": "markdown",
   "id": "dfb1837f",
   "metadata": {
    "slideshow": {
     "slide_type": "slide"
    }
   },
   "source": [
    "Observe que la salida es una matriz dispersa `SciPy`, en lugar de una matriz `NumPy`."
   ]
  },
  {
   "cell_type": "markdown",
   "id": "0e84181f",
   "metadata": {
    "slideshow": {
     "slide_type": "slide"
    }
   },
   "source": [
    "Esto es muy útil cuando tiene atributos categóricos con miles de categorías."
   ]
  },
  {
   "cell_type": "markdown",
   "id": "3a3c582b",
   "metadata": {
    "slideshow": {
     "slide_type": "slide"
    }
   },
   "source": [
    "Después de la codificación one-hot, obtenemos una matriz con miles de columnas, y la matriz está llena de ceros excepto por un solo 1 por fila. "
   ]
  },
  {
   "cell_type": "markdown",
   "id": "bfa5930f",
   "metadata": {
    "slideshow": {
     "slide_type": "slide"
    }
   },
   "source": [
    "Usar toneladas de memoria principalmente para almacenar ceros sería un desperdicio, por lo que una matriz dispersa solo almacena la ubicación de los elementos distintos de cero."
   ]
  },
  {
   "cell_type": "markdown",
   "id": "73c67087",
   "metadata": {
    "slideshow": {
     "slide_type": "slide"
    }
   },
   "source": [
    "Puede usarlo principalmente como una matriz 2D normal, pero si realmente desea convertirlo en una matriz NumPy (densa), simplemente llame al método `toarray()`:"
   ]
  },
  {
   "cell_type": "code",
   "execution_count": null,
   "id": "0d3df340",
   "metadata": {
    "slideshow": {
     "slide_type": "slide"
    }
   },
   "outputs": [],
   "source": [
    "housing_cat_1hot.toarray()"
   ]
  },
  {
   "cell_type": "markdown",
   "id": "ecf8b604",
   "metadata": {
    "slideshow": {
     "slide_type": "slide"
    }
   },
   "source": [
    "Una vez más, puede obtener la lista de categorías utilizando la variable de instancia `categories_` del codificador:"
   ]
  },
  {
   "cell_type": "code",
   "execution_count": null,
   "id": "6fbf033e",
   "metadata": {
    "slideshow": {
     "slide_type": "slide"
    }
   },
   "outputs": [],
   "source": [
    "cat_encoder.categories_\n"
   ]
  },
  {
   "cell_type": "markdown",
   "id": "019203bf",
   "metadata": {
    "slideshow": {
     "slide_type": "slide"
    }
   },
   "source": [
    "## Finalmente adicionamos el atributo codifidado al dataframe imputado"
   ]
  },
  {
   "cell_type": "code",
   "execution_count": null,
   "id": "009c8228",
   "metadata": {
    "slideshow": {
     "slide_type": "slide"
    }
   },
   "outputs": [],
   "source": [
    "housing = pd.concat([housing_imputado, housing_cat_codificada ], axis = 1) \n",
    "# Ojo, axis debe ser en 1 para concatenar series, una al dado de la otra"
   ]
  },
  {
   "cell_type": "code",
   "execution_count": null,
   "id": "e11495c0",
   "metadata": {
    "slideshow": {
     "slide_type": "slide"
    }
   },
   "outputs": [],
   "source": [
    "housing.head() "
   ]
  },
  {
   "cell_type": "markdown",
   "id": "371ebafc",
   "metadata": {
    "slideshow": {
     "slide_type": "slide"
    }
   },
   "source": [
    "### Sugerencia"
   ]
  },
  {
   "cell_type": "markdown",
   "id": "24851da7",
   "metadata": {
    "slideshow": {
     "slide_type": "slide"
    }
   },
   "source": [
    "Si un atributo categórico tiene una gran cantidad de categorías posibles (p. Ej., Código de país, profesión, especie), la codificación one-hot dará como resultado una gran cantidad de características de entrada."
   ]
  },
  {
   "cell_type": "markdown",
   "id": "c7a7679c",
   "metadata": {
    "slideshow": {
     "slide_type": "slide"
    }
   },
   "source": [
    "Esto puede ralentizar el entrenamiento y degradar el rendimiento."
   ]
  },
  {
   "cell_type": "markdown",
   "id": "4dae9e5b",
   "metadata": {
    "slideshow": {
     "slide_type": "slide"
    }
   },
   "source": [
    "Si esto sucede, es posible que desee reemplazar la entrada categórica con características numéricas útiles relacionadas con las categorías: \n",
    "* por ejemplo, podría reemplazar la característica `ocean_proximity` con la distancia al océano \n",
    "* (de manera similar, un código de país podría reemplazarse con la población del país)."
   ]
  },
  {
   "cell_type": "markdown",
   "id": "4a195566",
   "metadata": {
    "slideshow": {
     "slide_type": "slide"
    }
   },
   "source": [
    "## Custom Transformers o Transformadores personalizados\n"
   ]
  },
  {
   "cell_type": "code",
   "execution_count": null,
   "id": "5b1f76f9",
   "metadata": {
    "slideshow": {
     "slide_type": "skip"
    }
   },
   "outputs": [],
   "source": []
  },
  {
   "cell_type": "markdown",
   "id": "90551ff1",
   "metadata": {
    "slideshow": {
     "slide_type": "slide"
    }
   },
   "source": [
    "## Referencias  \n",
    "\n",
    "* Geron, Aurelien. \n",
    "* Crear Dataframe a partir de arreglos de Numpy: https://pandas.pydata.org/pandas-docs/stable/reference/api/pandas.DataFrame.html\n",
    "\n",
    "* Concatenación de series de pandas: https://pandas.pydata.org/pandas-docs/stable/reference/api/pandas.concat.html  \n",
    "\n",
    "* Codificación de variables categóricas con Scikit-Learn: https://pandas.pydata.org/pandas-docs/stable/reference/api/pandas.concat.html"
   ]
  },
  {
   "cell_type": "code",
   "execution_count": null,
   "id": "a6bf5358",
   "metadata": {},
   "outputs": [],
   "source": []
  }
 ],
 "metadata": {
  "celltoolbar": "Slideshow",
  "kernelspec": {
   "display_name": "Python 3",
   "language": "python",
   "name": "python3"
  },
  "language_info": {
   "codemirror_mode": {
    "name": "ipython",
    "version": 3
   },
   "file_extension": ".py",
   "mimetype": "text/x-python",
   "name": "python",
   "nbconvert_exporter": "python",
   "pygments_lexer": "ipython3",
   "version": "3.8.8"
  },
  "latex_envs": {
   "LaTeX_envs_menu_present": true,
   "autoclose": false,
   "autocomplete": false,
   "bibliofile": "biblio.bib",
   "cite_by": "apalike",
   "current_citInitial": 1,
   "eqLabelWithNumbers": true,
   "eqNumInitial": 1,
   "hotkeys": {
    "equation": "Ctrl-E",
    "itemize": "Ctrl-I"
   },
   "labels_anchors": false,
   "latex_user_defs": false,
   "report_style_numbering": false,
   "user_envs_cfg": false
  },
  "rise": {
   "enable_chalkboard": true,
   "theme": "sky",
   "transition": "sky"
  }
 },
 "nbformat": 4,
 "nbformat_minor": 5
}
