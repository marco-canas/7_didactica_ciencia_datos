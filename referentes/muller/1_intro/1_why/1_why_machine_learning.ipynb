{
 "cells": [
  {
   "cell_type": "markdown",
   "metadata": {},
   "source": [
    "# Why machine learning "
   ]
  },
  {
   "cell_type": "markdown",
   "metadata": {
    "lang": "es"
   },
   "source": [
    "El aprendizaje automático consiste en extraer conocimiento de los datos."
   ]
  },
  {
   "cell_type": "markdown",
   "metadata": {
    "lang": "es"
   },
   "source": [
    "Es un campo de investigación en la intersección de la estadística, la inteligencia artificial y la informática y también se conoce como análisis predictivo o aprendizaje estadístico."
   ]
  },
  {
   "cell_type": "markdown",
   "metadata": {
    "lang": "es"
   },
   "source": [
    "La aplicación de métodos de aprendizaje automático se ha vuelto omnipresente en los últimos años en la vida cotidiana."
   ]
  },
  {
   "cell_type": "markdown",
   "metadata": {
    "lang": "es"
   },
   "source": [
    "Desde recomendaciones automáticas de qué películas ver, qué comida pedir o qué productos comprar, hasta radio en línea personalizada y reconocer a tus amigos en tus fotos, muchos sitios web y dispositivos modernos tienen algoritmos de aprendizaje automático en su núcleo."
   ]
  },
  {
   "cell_type": "markdown",
   "metadata": {
    "lang": "es"
   },
   "source": [
    "Cuando miras un sitio web complejo como Facebook, Amazon o Netflix, es muy probable que cada parte del sitio contenga múltiples modelos de aprendizaje automático."
   ]
  },
  {
   "cell_type": "markdown",
   "metadata": {
    "lang": "es"
   },
   "source": [
    "Fuera de las aplicaciones comerciales, el aprendizaje automático ha tenido una enorme influencia en la forma en que se realiza hoy **la investigación basada en datos**."
   ]
  },
  {
   "cell_type": "markdown",
   "metadata": {
    "lang": "es"
   },
   "source": [
    "Las herramientas presentadas en este libro se han aplicado a diversos problemas científicos, como la comprensión de estrellas, la búsqueda de planetas distantes, el descubrimiento de nuevas partículas, el análisis de secuencias de ADN y la provisión de tratamientos personalizados contra el cáncer."
   ]
  },
  {
   "cell_type": "markdown",
   "metadata": {
    "lang": "es"
   },
   "source": [
    "Sin embargo, no es necesario que su aplicación sea tan grande o que cambie el mundo como estos ejemplos para beneficiarse del aprendizaje automático."
   ]
  },
  {
   "cell_type": "markdown",
   "metadata": {
    "lang": "es"
   },
   "source": [
    "En este capítulo, explicaremos por qué el aprendizaje automático se ha vuelto tan popular y discutiremos qué tipos de problemas se pueden resolver mediante el aprendizaje automático."
   ]
  },
  {
   "cell_type": "markdown",
   "metadata": {
    "lang": "es"
   },
   "source": [
    "Luego, le mostraremos cómo construir su primer modelo de aprendizaje automático, introduciendo conceptos importantes en el camino."
   ]
  },
  {
   "cell_type": "code",
   "execution_count": null,
   "metadata": {},
   "outputs": [],
   "source": []
  },
  {
   "cell_type": "markdown",
   "metadata": {},
   "source": [
    "## Why Machine Learning?"
   ]
  },
  {
   "cell_type": "markdown",
   "metadata": {
    "lang": "es"
   },
   "source": [
    "En los primeros días de las aplicaciones \"inteligentes\", muchos sistemas usaban reglas codificadas a mano de decisiones \"si\" y \"si no\" para procesar datos o ajustarse a la entrada del usuario."
   ]
  },
  {
   "cell_type": "markdown",
   "metadata": {
    "lang": "es"
   },
   "source": [
    "Piense en un filtro de correo no deseado cuya función es mover los mensajes de correo electrónico entrantes adecuados a una carpeta de correo no deseado."
   ]
  },
  {
   "cell_type": "markdown",
   "metadata": {
    "lang": "es"
   },
   "source": [
    "Puede crear una lista negra de palabras que resulten en que un correo electrónico se marque como spam."
   ]
  },
  {
   "cell_type": "markdown",
   "metadata": {
    "lang": "es"
   },
   "source": [
    "Este sería un ejemplo del uso de un sistema de reglas diseñado por expertos para diseñar una aplicación \"inteligente\"."
   ]
  },
  {
   "cell_type": "markdown",
   "metadata": {
    "lang": "es"
   },
   "source": [
    "La elaboración manual de reglas de decisión es factible para algunas aplicaciones, particularmente aquellas en las que los humanos tienen un buen conocimiento del proceso a modelar."
   ]
  },
  {
   "cell_type": "markdown",
   "metadata": {
    "lang": "es"
   },
   "source": [
    "Sin embargo, el uso de reglas codificadas a mano para tomar decisiones tiene dos desventajas importantes:"
   ]
  },
  {
   "cell_type": "markdown",
   "metadata": {
    "lang": "es"
   },
   "source": [
    "* La lógica necesaria para tomar una decisión es específica de un solo dominio y tarea. Cambiar la tarea, aunque sea levemente, puede requerir una reescritura de todo el sistema."
   ]
  },
  {
   "cell_type": "markdown",
   "metadata": {
    "lang": "es"
   },
   "source": [
    "* El diseño de reglas requiere una comprensión profunda de cómo un experto humano debe tomar una decisión."
   ]
  },
  {
   "cell_type": "markdown",
   "metadata": {
    "lang": "es"
   },
   "source": [
    "Un ejemplo de dónde fallará este enfoque codificado a mano es en la detección de rostros en imágenes."
   ]
  },
  {
   "cell_type": "markdown",
   "metadata": {
    "lang": "es"
   },
   "source": [
    "Hoy en día, todos los teléfonos inteligentes pueden detectar un rostro en una imagen."
   ]
  },
  {
   "cell_type": "markdown",
   "metadata": {
    "lang": "es"
   },
   "source": [
    "Sin embargo, la detección de rostros fue un problema sin resolver hasta tan recientemente como 2001."
   ]
  },
  {
   "cell_type": "markdown",
   "metadata": {
    "lang": "es"
   },
   "source": [
    "El principal problema es que la forma en que los píxeles (que componen una imagen en una computadora) son \"percibidos\" por la computadora es muy diferente de cómo los humanos perciben un rostro."
   ]
  },
  {
   "cell_type": "markdown",
   "metadata": {
    "lang": "es"
   },
   "source": [
    "Esta diferencia en la representación hace que sea básicamente imposible para un ser humano encontrar un buen conjunto de reglas para describir lo que constituye un rostro en una imagen digital."
   ]
  },
  {
   "cell_type": "markdown",
   "metadata": {
    "lang": "es"
   },
   "source": [
    "Sin embargo, utilizando el aprendizaje automático, simplemente presentar un programa con una gran colección de imágenes de rostros es suficiente para que un algoritmo determine qué características se necesitan para identificar un rostro."
   ]
  },
  {
   "cell_type": "code",
   "execution_count": null,
   "metadata": {},
   "outputs": [],
   "source": []
  },
  {
   "cell_type": "markdown",
   "metadata": {
    "lang": "es"
   },
   "source": [
    "## Problemas que el aprendizaje automático puede resolver"
   ]
  },
  {
   "cell_type": "markdown",
   "metadata": {
    "lang": "es"
   },
   "source": [
    "Los tipos de algoritmos de aprendizaje automático más exitosos son aquellos que automatizan los procesos de toma de decisiones al generalizar a partir de ejemplos conocidos."
   ]
  },
  {
   "cell_type": "markdown",
   "metadata": {
    "lang": "es"
   },
   "source": [
    "En esta configuración, que se conoce como aprendizaje supervisado, el usuario proporciona al algoritmo pares de entradas y salidas deseadas, y el algoritmo encuentra una manera de producir la salida deseada dada una entrada."
   ]
  },
  {
   "cell_type": "markdown",
   "metadata": {
    "lang": "es"
   },
   "source": [
    "En particular, el algoritmo puede crear una salida para una entrada que nunca antes había visto sin la ayuda de un humano."
   ]
  },
  {
   "cell_type": "markdown",
   "metadata": {
    "lang": "es"
   },
   "source": [
    "Volviendo a nuestro ejemplo de clasificación de spam, utilizando el aprendizaje automático, el usuario proporciona al algoritmo una gran cantidad de correos electrónicos (que son la entrada), junto con información sobre si alguno de estos correos electrónicos es spam (que es la salida deseada)."
   ]
  },
  {
   "cell_type": "markdown",
   "metadata": {
    "lang": "es"
   },
   "source": [
    "Dado un nuevo correo electrónico, el algoritmo producirá una predicción sobre si el nuevo correo electrónico es o no un correo deseado."
   ]
  },
  {
   "cell_type": "markdown",
   "metadata": {
    "lang": "es"
   },
   "source": [
    "Los algoritmos de aprendizaje automático que aprenden de los pares de entrada / salida se denominan algoritmos de aprendizaje supervisado porque un \"profesor\" supervisa los algoritmos en forma de resultados deseados para cada ejemplo del que aprenden."
   ]
  },
  {
   "cell_type": "markdown",
   "metadata": {
    "lang": "es"
   },
   "source": [
    "Si bien la creación de un conjunto de datos de entradas y salidas suele ser un proceso manual laborioso, los algoritmos de aprendizaje supervisado se comprenden bien y su rendimiento es fácil de medir."
   ]
  },
  {
   "cell_type": "markdown",
   "metadata": {
    "lang": "es"
   },
   "source": [
    "Si su aplicación se puede formular como un problema de aprendizaje supervisado y puede crear un conjunto de datos que incluya el resultado deseado, es probable que el aprendizaje automático pueda resolver su problema."
   ]
  },
  {
   "cell_type": "markdown",
   "metadata": {
    "lang": "es"
   },
   "source": [
    "Entre los ejemplos de tareas de aprendizaje automático supervisadas se incluyen:"
   ]
  },
  {
   "cell_type": "markdown",
   "metadata": {
    "lang": "es"
   },
   "source": [
    "*Identificar el código postal a partir de dígitos escritos a mano en un sobre*\n",
    "Aquí, la entrada es un escaneo de la escritura a mano y la salida deseada son los dígitos reales en el código postal. Para crear un conjunto de datos para crear un modelo de aprendizaje automático, debe recopilar muchos sobres. Luego, puede leer los códigos postales usted mismo y almacenar los dígitos como los resultados deseados."
   ]
  },
  {
   "cell_type": "markdown",
   "metadata": {
    "lang": "es"
   },
   "source": [
    "*Determinar si un tumor es benigno según una imagen médica*  \n",
    "Aquí la entrada es la imagen y la salida es si el tumor es benigno."
   ]
  },
  {
   "cell_type": "markdown",
   "metadata": {
    "lang": "es"
   },
   "source": [
    "Para crear un conjunto de datos para construir un modelo, necesita una base de datos de imágenes médicas."
   ]
  },
  {
   "cell_type": "markdown",
   "metadata": {
    "lang": "es"
   },
   "source": [
    "También necesita una opinión de un experto, por lo que un médico debe examinar todas las imágenes y decidir qué tumores son benignos y cuáles no."
   ]
  },
  {
   "cell_type": "markdown",
   "metadata": {
    "lang": "es"
   },
   "source": [
    "Incluso podría ser necesario hacer un diagnóstico adicional más allá del contenido de la imagen para determinar si el tumor en la imagen es canceroso o no."
   ]
  },
  {
   "cell_type": "markdown",
   "metadata": {
    "lang": "es"
   },
   "source": [
    "*Detección de actividad fraudulenta en transacciones con tarjeta de crédito*  \n",
    "Aquí, la entrada es un registro de la transacción de la tarjeta de crédito y la salida es si es probable que sea fraudulenta o no."
   ]
  },
  {
   "cell_type": "markdown",
   "metadata": {
    "lang": "es"
   },
   "source": [
    "Suponiendo que usted es la entidad que distribuye las tarjetas de crédito, recopilar un conjunto de datos significa almacenar todas las transacciones y registrar si un usuario informa alguna transacción como fraudulenta."
   ]
  },
  {
   "cell_type": "markdown",
   "metadata": {
    "lang": "es"
   },
   "source": [
    "Algo interesante a tener en cuenta sobre estos ejemplos es que, aunque las entradas y salidas parecen bastante sencillas, el proceso de recopilación de datos para estas tres tareas es muy diferente."
   ]
  },
  {
   "cell_type": "markdown",
   "metadata": {
    "lang": "es"
   },
   "source": [
    "Si bien la lectura de sobres es laboriosa, es fácil y barata."
   ]
  },
  {
   "cell_type": "markdown",
   "metadata": {
    "lang": "es"
   },
   "source": [
    "La obtención de imágenes y diagnósticos médicos, por otro lado, requiere no solo una maquinaria costosa, sino también un conocimiento experto poco común y costoso, sin mencionar las preocupaciones éticas y las cuestiones de privacidad."
   ]
  },
  {
   "cell_type": "markdown",
   "metadata": {
    "lang": "es"
   },
   "source": [
    "En el ejemplo de detección de fraudes con tarjetas de crédito, la recopilación de datos es mucho más sencilla. Sus clientes le proporcionarán el resultado deseado, ya que informarán sobre el fraude."
   ]
  },
  {
   "cell_type": "markdown",
   "metadata": {
    "lang": "es"
   },
   "source": [
    "Todo lo que tiene que hacer para obtener los pares de entrada / salida de actividad fraudulenta y no fraudulenta es esperar."
   ]
  },
  {
   "cell_type": "markdown",
   "metadata": {
    "lang": "es"
   },
   "source": [
    "**Algoritmos no supervisados** son el otro tipo de algoritmo que cubriremos en este libro."
   ]
  },
  {
   "cell_type": "markdown",
   "metadata": {
    "lang": "es"
   },
   "source": [
    "En el aprendizaje no supervisado, solo se conocen los datos de entrada y no se proporcionan datos de salida conocidos al algoritmo."
   ]
  },
  {
   "cell_type": "markdown",
   "metadata": {
    "lang": "es"
   },
   "source": [
    "Si bien hay muchas aplicaciones exitosas de estos métodos, generalmente son más difíciles de comprender y evaluar."
   ]
  },
  {
   "cell_type": "markdown",
   "metadata": {
    "lang": "es"
   },
   "source": [
    "Algunos ejemplos de aprendizaje no supervisado incluyen:"
   ]
  },
  {
   "cell_type": "markdown",
   "metadata": {
    "lang": "es"
   },
   "source": [
    "*Identificación de temas en un conjunto de publicaciones de blog*  \n",
    "Si tiene una gran colección de datos de texto, es posible que desee resumirla y encontrar temas predominantes en ella."
   ]
  },
  {
   "cell_type": "markdown",
   "metadata": {
    "lang": "es"
   },
   "source": [
    "Es posible que no sepa de antemano cuáles son estos temas o cuántos temas podría haber. Por lo tanto, no hay salidas conocidas."
   ]
  },
  {
   "cell_type": "markdown",
   "metadata": {
    "lang": "es"
   },
   "source": [
    "*Segmentar a los clientes en grupos con preferencias similares*  \n",
    "Dado un conjunto de registros de clientes, es posible que desee identificar qué clientes son similares y si hay grupos de clientes con preferencias similares."
   ]
  },
  {
   "cell_type": "markdown",
   "metadata": {
    "lang": "es"
   },
   "source": [
    "Para un sitio de compras, estos pueden ser \"padres\", \"ratones de biblioteca\" o \"jugadores\". Debido a que no sabe de antemano cuáles podrían ser estos grupos, o incluso cuántos hay, no tiene resultados conocidos."
   ]
  },
  {
   "cell_type": "markdown",
   "metadata": {
    "lang": "es"
   },
   "source": [
    "*Detectar patrones de acceso anormales a un sitio web*  \n",
    "Para identificar abusos o errores, a menudo es útil encontrar patrones de acceso que sean diferentes\n",
    "de la norma."
   ]
  },
  {
   "cell_type": "markdown",
   "metadata": {
    "lang": "es"
   },
   "source": [
    "Cada patrón anormal puede ser muy diferente y es posible que no tenga ningún caso registrado de comportamiento anormal."
   ]
  },
  {
   "cell_type": "markdown",
   "metadata": {
    "lang": "es"
   },
   "source": [
    "Debido a que en este ejemplo solo observa el tráfico y no sabe qué constituye un comportamiento normal y anormal, este es un problema sin supervisión."
   ]
  },
  {
   "cell_type": "markdown",
   "metadata": {},
   "source": [
    "## La importancia de procesar los datos para que los entienda la máquina"
   ]
  },
  {
   "cell_type": "markdown",
   "metadata": {
    "lang": "es"
   },
   "source": [
    "Tanto para tareas de aprendizaje supervisadas como no supervisadas, es importante tener una representación de sus datos de entrada que una computadora pueda entender."
   ]
  },
  {
   "cell_type": "markdown",
   "metadata": {
    "lang": "es"
   },
   "source": [
    "A menudo, es útil pensar en sus datos como una tabla."
   ]
  },
  {
   "cell_type": "markdown",
   "metadata": {
    "lang": "es"
   },
   "source": [
    "Cada punto de datos sobre el que desea razonar (cada correo electrónico, cada cliente, cada transacción) es una fila, y cada propiedad que describe ese punto de datos (por ejemplo, la edad de un cliente o la cantidad o ubicación de una transacción) es un columna."
   ]
  },
  {
   "cell_type": "markdown",
   "metadata": {
    "lang": "es"
   },
   "source": [
    "Puede describir a los usuarios por su edad, su sexo, cuándo crearon una cuenta y con qué frecuencia han comprado en su tienda en línea."
   ]
  },
  {
   "cell_type": "markdown",
   "metadata": {
    "lang": "es"
   },
   "source": [
    "Puede describir la imagen de un tumor mediante los valores de escala de grises de cada píxel, o tal vez utilizando el tamaño, la forma y el color del tumor."
   ]
  },
  {
   "cell_type": "markdown",
   "metadata": {
    "lang": "es"
   },
   "source": [
    "Cada entidad o fila aquí se conoce como una muestra (o punto de datos) en el aprendizaje automático, mientras que las columnas son las propiedades que describen estas entidades y se denominan características o atributos."
   ]
  },
  {
   "cell_type": "markdown",
   "metadata": {
    "lang": "es"
   },
   "source": [
    "Más adelante en este libro entraremos en más detalles sobre el tema de la construcción de una buena representación de sus datos, lo que se denomina extracción de características o ingeniería de características."
   ]
  },
  {
   "cell_type": "markdown",
   "metadata": {
    "lang": "es"
   },
   "source": [
    "Sin embargo, debe tener en cuenta que ningún algoritmo de aprendizaje automático podrá hacer una predicción sobre datos para los que no tiene información."
   ]
  },
  {
   "cell_type": "markdown",
   "metadata": {
    "lang": "es"
   },
   "source": [
    "Por ejemplo, si la única característica que tiene para un paciente es su apellido, ningún algoritmo podrá predecir su género."
   ]
  },
  {
   "cell_type": "markdown",
   "metadata": {
    "lang": "es"
   },
   "source": [
    "Esta información simplemente no está contenida en sus datos."
   ]
  },
  {
   "cell_type": "markdown",
   "metadata": {
    "lang": "es"
   },
   "source": [
    "Si agrega otra característica que contiene el nombre del paciente, tendrá mucha mejor suerte, ya que a menudo es posible distinguir el género por el nombre de una persona."
   ]
  },
  {
   "cell_type": "markdown",
   "metadata": {
    "lang": "es"
   },
   "source": [
    "## Conozca su tarea y conozca sus datos"
   ]
  },
  {
   "cell_type": "markdown",
   "metadata": {
    "lang": "es"
   },
   "source": [
    "Posiblemente, la parte más importante del proceso de aprendizaje automático es comprender los datos con los que está trabajando y cómo se relacionan con la tarea que desea resolver."
   ]
  },
  {
   "cell_type": "markdown",
   "metadata": {
    "lang": "es"
   },
   "source": [
    "No será efectivo elegir al azar un algoritmo y arrojarle sus datos."
   ]
  },
  {
   "cell_type": "markdown",
   "metadata": {
    "lang": "es"
   },
   "source": [
    "Es necesario comprender qué está sucediendo en su conjunto de datos antes de comenzar a construir un modelo."
   ]
  },
  {
   "cell_type": "markdown",
   "metadata": {
    "lang": "es"
   },
   "source": [
    "Cada algoritmo es diferente en términos de qué tipo de datos y para qué configuración de problemas funciona mejor."
   ]
  },
  {
   "cell_type": "markdown",
   "metadata": {
    "lang": "es"
   },
   "source": [
    "Mientras crea una solución de aprendizaje automático, debe responder, o al menos tener en cuenta, las siguientes preguntas:"
   ]
  },
  {
   "cell_type": "markdown",
   "metadata": {
    "lang": "en"
   },
   "source": [
    "* What question(s) am I trying to answer? Do I think the data collected can answer\n",
    "that question?  \n",
    "* What is the best way to phrase my question(s) as a machine learning problem?  \n",
    "* Have I collected enough data to represent the problem I want to solve?  \n",
    "* What features of the data did I extract, and will these enable the right\n",
    "predictions?  \n",
    "* How will I measure success in my application?  \n",
    "* How will the machine learning solution interact with other parts of my research\n",
    "or business product?"
   ]
  },
  {
   "cell_type": "markdown",
   "metadata": {
    "lang": "es"
   },
   "source": [
    "* ¿Qué pregunta(s) estoy tratando de responder? \n",
    "* ¿Creo que los datos recopilados pueden responder esa pregunta?  \n",
    "* ¿Cuál es la mejor manera de expresar mis preguntas como un problema de aprendizaje automático?  \n",
    "* ¿He recopilado suficientes datos para representar el problema que quiero resolver?  \n",
    "* ¿Qué características de los datos extraje? ¿Permitirán estas las predicciones?\n",
    "*¿Cómo mediré el éxito de mi solicitud?  \n",
    "* ¿Cómo interactuará la solución de aprendizaje automático con otras partes de mi investigación o producto comercial?"
   ]
  },
  {
   "cell_type": "markdown",
   "metadata": {
    "lang": "es"
   },
   "source": [
    "En un contexto más amplio, los algoritmos y métodos en el aprendizaje automático son solo una parte de un proceso mayor para resolver un problema en particular, y es bueno tener en cuenta el panorama general en todo momento."
   ]
  },
  {
   "cell_type": "markdown",
   "metadata": {
    "lang": "es"
   },
   "source": [
    "Muchas personas pasan mucho tiempo creando soluciones complejas de aprendizaje automático, solo para descubrir que no resuelven el problema correcto."
   ]
  },
  {
   "cell_type": "markdown",
   "metadata": {
    "lang": "es"
   },
   "source": [
    "Al profundizar en los aspectos técnicos del aprendizaje automático (como lo haremos en este libro), es fácil perder de vista los objetivos finales."
   ]
  },
  {
   "cell_type": "markdown",
   "metadata": {
    "lang": "es"
   },
   "source": [
    "Si bien no discutiremos las preguntas enumeradas aquí en detalle, lo alentamos a que tenga en cuenta todas las suposiciones que pueda estar haciendo, explícita o implícitamente, cuando comience a construir modelos de aprendizaje automático."
   ]
  },
  {
   "cell_type": "code",
   "execution_count": null,
   "metadata": {},
   "outputs": [],
   "source": []
  },
  {
   "cell_type": "code",
   "execution_count": null,
   "metadata": {},
   "outputs": [],
   "source": []
  },
  {
   "cell_type": "code",
   "execution_count": null,
   "metadata": {},
   "outputs": [],
   "source": []
  },
  {
   "cell_type": "code",
   "execution_count": null,
   "metadata": {},
   "outputs": [],
   "source": []
  },
  {
   "cell_type": "code",
   "execution_count": null,
   "metadata": {},
   "outputs": [],
   "source": []
  }
 ],
 "metadata": {
  "hide_input": false,
  "kernelspec": {
   "display_name": "Python 3",
   "language": "python",
   "name": "python3"
  },
  "language_info": {
   "codemirror_mode": {
    "name": "ipython",
    "version": 3
   },
   "file_extension": ".py",
   "mimetype": "text/x-python",
   "name": "python",
   "nbconvert_exporter": "python",
   "pygments_lexer": "ipython3",
   "version": "3.7.4"
  },
  "nbTranslate": {
   "displayLangs": [
    "*"
   ],
   "hotkey": "alt-t",
   "langInMainMenu": true,
   "sourceLang": "en",
   "targetLang": "es",
   "useGoogleTranslate": true
  }
 },
 "nbformat": 4,
 "nbformat_minor": 2
}
