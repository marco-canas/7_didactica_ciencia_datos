{
 "cells": [
  {
   "cell_type": "markdown",
   "metadata": {},
   "source": [
    "# 2.11 Glosario "
   ]
  },
  {
   "cell_type": "markdown",
   "metadata": {},
   "source": [
    "**valor:** un número o cadena (o cualquier otra cosa que se especifique posteriormente) que puede almacenarse en una variable o calcularse en una expresión."
   ]
  },
  {
   "cell_type": "markdown",
   "metadata": {},
   "source": [
    "* **tipo**: un conjunto de valores. El tipo de un valor determina c¶omo puede usarse\n",
    "en las expresiones. Hasta ahora, los tipos que hemos visto son enteros (tipo\n",
    "int), n¶umeros de coma °otante (tipo float) y cadenas (tipo string).\n",
    "coma flotante: un formato para representar n¶umeros con decimales."
   ]
  },
  {
   "cell_type": "markdown",
   "metadata": {},
   "source": [
    "* **variable**: nombre que hace referencia a un valor."
   ]
  },
  {
   "cell_type": "markdown",
   "metadata": {},
   "source": [
    "sentencia: es una porci¶on de c¶odigo que representa una orden o acci¶on. Hasta\n",
    "ahora, las sentencias que hemos vistos son las asignaciones y las sentencias\n",
    "print.\n",
    "asignaci¶on: sentencia que asigna un valor a una variable.\n",
    "diagrama de estado: representaci¶on gr¶a¯ca de un conjunto de variables y de\n",
    "los valores a los que se re¯ere.\n",
    "palabra reservada: es una palabra clave que usa el compilador para analizar\n",
    "sint¶acticamente los programas. No pueden usarse palabras reservadas, por\n",
    "ejemplo if, def y while como nombres de variables.\n",
    "operador: un s¶³mbolo especial que representa un c¶alculo sencillo, como la su-\n",
    "ma, la multiplicaci¶on o la concatenaci¶on de cadenas.\n",
    "operando: uno de los valores sobre los que act¶ua un operador.\n",
    "expresi¶on: una combinaci¶on de variables, operadores y valores. Dicha combi-\n",
    "naci¶on representa un ¶unico valor como resultado.\n",
    "evaluar: simpli¯car una expresi¶on ejecutando las operaciones para entregar un\n",
    "valor ¶unico.\n",
    "divisi¶on de enteros: es una operaci¶on que divide un entero entre otro y de-\n",
    "vuelve un entero. La divisi¶on de enteros devuelve s¶olo el n¶umero entero\n",
    "de veces que el numerador es divisible por en denominador, y descarta el\n",
    "resto.\n",
    "reglas de precedencia: la serie de reglas que especi¯can el orden en el que\n",
    "las expresiones con m¶utiples operadores han de evaluarse.\n",
    "concatenar: unir dos operandos extremo con extremo.\n",
    "composici¶on: la capacidad de combinar expresiones sencillas y sentencias has-\n",
    "ta crear sentencias y expresiones compuestas, con el ¯n de representar\n",
    "c¶alculos complejos de forma concisa."
   ]
  },
  {
   "cell_type": "markdown",
   "metadata": {},
   "source": [
    "* **comentario**: un segmento de información en un programa, destinado a otros programadores (o cualquiera que lea el código fuente) y que no tiene efecto sobre la ejecución del programa."
   ]
  },
  {
   "cell_type": "code",
   "execution_count": null,
   "metadata": {},
   "outputs": [],
   "source": []
  },
  {
   "cell_type": "code",
   "execution_count": null,
   "metadata": {},
   "outputs": [],
   "source": []
  },
  {
   "cell_type": "markdown",
   "metadata": {},
   "source": [
    "# Video en YouTube de esta sección\n",
    "[Términos de python]()"
   ]
  },
  {
   "cell_type": "markdown",
   "metadata": {},
   "source": []
  },
  {
   "cell_type": "code",
   "execution_count": null,
   "metadata": {},
   "outputs": [],
   "source": []
  }
 ],
 "metadata": {
  "hide_input": false,
  "kernelspec": {
   "display_name": "Python 3",
   "language": "python",
   "name": "python3"
  },
  "language_info": {
   "codemirror_mode": {
    "name": "ipython",
    "version": 3
   },
   "file_extension": ".py",
   "mimetype": "text/x-python",
   "name": "python",
   "nbconvert_exporter": "python",
   "pygments_lexer": "ipython3",
   "version": "3.7.4"
  },
  "nbTranslate": {
   "displayLangs": [
    "*"
   ],
   "hotkey": "alt-t",
   "langInMainMenu": true,
   "sourceLang": "en",
   "targetLang": "fr",
   "useGoogleTranslate": true
  }
 },
 "nbformat": 4,
 "nbformat_minor": 2
}
