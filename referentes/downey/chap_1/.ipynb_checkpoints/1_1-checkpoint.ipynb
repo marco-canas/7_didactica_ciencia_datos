{
 "cells": [
  {
   "cell_type": "markdown",
   "id": "91d30c8c",
   "metadata": {},
   "source": [
    "# El Camino del Programa\n",
    "Página 27 de Downey"
   ]
  },
  {
   "cell_type": "markdown",
   "id": "39d9a567",
   "metadata": {},
   "source": [
    "El objetivo de este libro es enseñarle a pensar como lo hacen los científicos informáticos. "
   ]
  },
  {
   "cell_type": "markdown",
   "id": "1aeb209e",
   "metadata": {},
   "source": [
    "Esta manera de pensar combina las mejores características de la matemática, la ingeniería, y las ciencias naturales. "
   ]
  },
  {
   "cell_type": "markdown",
   "id": "cef0a9b7",
   "metadata": {},
   "source": [
    "Como los matemáticos, los científicos informáticos usan lenguajes formales para designar ideas (específicamente, computaciones). "
   ]
  },
  {
   "cell_type": "markdown",
   "id": "16e354ab",
   "metadata": {},
   "source": [
    "Como los ingenieros, ellos diseñan cosas, ensamblando sistemas a partir de componentes y evaluando ventajas y desventajas de cada una de las alternativas. "
   ]
  },
  {
   "cell_type": "markdown",
   "id": "2e006031",
   "metadata": {},
   "source": [
    "Como los cient´ıficos, ellos observan el comportamiento\n",
    "de sistemas complejos, forman hip´otesis, y prueban sus predicciones.\n",
    "La habilidad m´as importante del cient´ıfico inform´atico es la soluci´on de pro\u0002blemas. La soluci´on de problemas incluye poder formular problemas, pensar en\n",
    "la soluci´on de manera creativa, y expresar una soluci´on con claridad y precisi´on.\n",
    "Como se ver´a, el proceso de aprender a programar es la oportunidad perfecta\n",
    "para desarrollar la habilidad de resolver problemas. "
   ]
  },
  {
   "cell_type": "markdown",
   "id": "74ac8762",
   "metadata": {},
   "source": [
    "Por esa raz´on este cap´ıtulo\n",
    "se llama “El Camino del programa”.\n",
    "A cierto nivel, usted aprender´a a programar, lo cual es una habilidad muy util ´\n",
    "por s´ı misma. A otro nivel, usted utilizar´a la programaci´on para obtener algun´\n",
    "resultado. Ese resultado se ver´a m´as claramente durante el proceso"
   ]
  },
  {
   "cell_type": "code",
   "execution_count": null,
   "id": "ee352c98",
   "metadata": {},
   "outputs": [],
   "source": []
  },
  {
   "cell_type": "code",
   "execution_count": null,
   "id": "a5ffbe97",
   "metadata": {},
   "outputs": [],
   "source": []
  },
  {
   "cell_type": "code",
   "execution_count": null,
   "id": "c74e0b8c",
   "metadata": {},
   "outputs": [],
   "source": []
  },
  {
   "cell_type": "code",
   "execution_count": null,
   "id": "2732e737",
   "metadata": {},
   "outputs": [],
   "source": []
  },
  {
   "cell_type": "code",
   "execution_count": null,
   "id": "0aa4e18b",
   "metadata": {},
   "outputs": [],
   "source": []
  }
 ],
 "metadata": {
  "kernelspec": {
   "display_name": "Python 3",
   "language": "python",
   "name": "python3"
  },
  "language_info": {
   "codemirror_mode": {
    "name": "ipython",
    "version": 3
   },
   "file_extension": ".py",
   "mimetype": "text/x-python",
   "name": "python",
   "nbconvert_exporter": "python",
   "pygments_lexer": "ipython3",
   "version": "3.8.8"
  },
  "latex_envs": {
   "LaTeX_envs_menu_present": true,
   "autoclose": false,
   "autocomplete": false,
   "bibliofile": "biblio.bib",
   "cite_by": "apalike",
   "current_citInitial": 1,
   "eqLabelWithNumbers": true,
   "eqNumInitial": 1,
   "hotkeys": {
    "equation": "Ctrl-E",
    "itemize": "Ctrl-I"
   },
   "labels_anchors": false,
   "latex_user_defs": false,
   "report_style_numbering": false,
   "user_envs_cfg": false
  }
 },
 "nbformat": 4,
 "nbformat_minor": 5
}
