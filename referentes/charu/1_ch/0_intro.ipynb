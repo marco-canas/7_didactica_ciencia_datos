{
 "cells": [
  {
   "cell_type": "markdown",
   "metadata": {
    "slideshow": {
     "slide_type": "slide"
    }
   },
   "source": [
    "<table align=\"left\">\n",
    "  <td>\n",
    "    <a href=\"https://colab.research.google.com/github/marco-canas/innovaciones/blob/main/ref/charu/ch_1/0_intro.ipynb\" target=\"_parent\"><img src=\"https://colab.research.google.com/assets/colab-badge.svg\" alt=\"Open In Colab\"/></a>\n",
    "  </td>\n",
    "  <td>\n",
    "    <a target=\"_blank\" href=\"https://kaggle.com/kernels/welcome?src=https://github.com/marco-canas/innovaciones/blob/main/ref/charu/ch_1/0_intro.ipynb\"><img src=\"https://kaggle.com/static/images/open-in-kaggle.svg\" /></a>\n",
    "  </td>\n",
    "</table>"
   ]
  },
  {
   "cell_type": "markdown",
   "metadata": {
    "slideshow": {
     "slide_type": "slide"
    }
   },
   "source": [
    "# Chapter 1 de Charú"
   ]
  },
  {
   "cell_type": "markdown",
   "metadata": {
    "lang": "es",
    "slideshow": {
     "slide_type": "slide"
    }
   },
   "source": [
    "## Álgebra lineal y optimización: una introducción\n",
    "Página 1"
   ]
  },
  {
   "cell_type": "markdown",
   "metadata": {
    "slideshow": {
     "slide_type": "slide"
    }
   },
   "source": [
    "## Objetivo: \n",
    "* Presentar una lectura interactiva en la que se inserten líneas de código a la presentación de Charú"
   ]
  },
  {
   "cell_type": "markdown",
   "metadata": {
    "slideshow": {
     "slide_type": "slide"
    }
   },
   "source": [
    "## [Video de apoyo](): "
   ]
  },
  {
   "cell_type": "markdown",
   "metadata": {
    "lang": "es",
    "slideshow": {
     "slide_type": "slide"
    }
   },
   "source": [
    "\"No importa en qué campo de la ingeniería te encuentres, aprendes las mismas ciencias básicas y matemáticas. Y luego quizás aprendas un poco sobre cómo aplicarlas\" - Noam Chomsky"
   ]
  },
  {
   "cell_type": "markdown",
   "metadata": {
    "lang": "es",
    "slideshow": {
     "slide_type": "slide"
    }
   },
   "source": [
    "## 1.1 Introducción"
   ]
  },
  {
   "cell_type": "markdown",
   "metadata": {
    "lang": "es",
    "slideshow": {
     "slide_type": "slide"
    }
   },
   "source": [
    "El aprendizaje automático construye modelos matemáticos a partir de datos que contienen múltiples atributos (es decir, variables) para predecir algunas variables de otras."
   ]
  },
  {
   "cell_type": "markdown",
   "metadata": {
    "lang": "es",
    "slideshow": {
     "slide_type": "slide"
    }
   },
   "source": [
    "Por ejemplo, en una aplicación de predicción de cáncer, cada punto de datos podría contener las variables obtenidas de la ejecución de pruebas clínicas, mientras que la variable predicha podría ser un diagnóstico binario de cáncer."
   ]
  },
  {
   "cell_type": "markdown",
   "metadata": {
    "lang": "es",
    "slideshow": {
     "slide_type": "slide"
    }
   },
   "source": [
    "A veces, estos modelos se expresan como relaciones lineales y no lineales entre variables."
   ]
  },
  {
   "cell_type": "markdown",
   "metadata": {
    "lang": "es",
    "slideshow": {
     "slide_type": "slide"
    }
   },
   "source": [
    "Estas relaciones se descubren de una manera basada en datos optimizando (maximizando) el \"acuerdo\"\n",
    "entre los modelos y los datos observados. Este es un problema de optimización."
   ]
  },
  {
   "cell_type": "markdown",
   "metadata": {
    "lang": "es",
    "slideshow": {
     "slide_type": "slide"
    }
   },
   "source": [
    "El álgebra lineal es el estudio de operaciones lineales en espacios vectoriales."
   ]
  },
  {
   "cell_type": "markdown",
   "metadata": {
    "lang": "es",
    "slideshow": {
     "slide_type": "slide"
    }
   },
   "source": [
    "Un ejemplo de un espacio vectorial es el conjunto infinito de todas las coordenadas cartesianas posibles en dos dimensiones en relación con un punto fijo denominado origen, y cada vector (es decir, una coordenada bidimensional) puede verse como un miembro."
   ]
  },
  {
   "cell_type": "code",
   "execution_count": 45,
   "metadata": {
    "slideshow": {
     "slide_type": "slide"
    }
   },
   "outputs": [
    {
     "data": {
      "image/png": "[encoded data removed]",
      "text/plain": [
       "<Figure size 432x288 with 1 Axes>"
      ]
     },
     "metadata": {
      "needs_background": "light"
     },
     "output_type": "display_data"
    }
   ],
   "source": [
    "import numpy as np \n",
    "import matplotlib.pyplot as plt \n",
    "\n",
    "plt.scatter([1], [3], ) \n",
    "plt.grid(True) \n",
    "plt.axis([0,4,0,5]) \n",
    "plt.title('El punto de coordenadas $(1,3)$')\n",
    "plt.show() "
   ]
  },
  {
   "cell_type": "markdown",
   "metadata": {
    "lang": "es",
    "slideshow": {
     "slide_type": "slide"
    }
   },
   "source": [
    "Esta abstracción encaja muy bien con la forma en que los datos se representan en el aprendizaje automático como puntos con múltiples dimensiones, aunque con una dimensionalidad que generalmente es mayor que 2."
   ]
  },
  {
   "cell_type": "markdown",
   "metadata": {
    "lang": "es",
    "slideshow": {
     "slide_type": "slide"
    }
   },
   "source": [
    "Estas **dimensiones** también se conocen como **atributos** en el lenguaje del aprendizaje automático."
   ]
  },
  {
   "cell_type": "markdown",
   "metadata": {
    "lang": "es",
    "slideshow": {
     "slide_type": "slide"
    }
   },
   "source": [
    "Por ejemplo, cada paciente en una aplicación médica podría estar representado por un vector que contiene muchos atributos, como edad, nivel de azúcar en sangre, marcadores inflamatorios, etc."
   ]
  },
  {
   "cell_type": "markdown",
   "metadata": {
    "lang": "es",
    "slideshow": {
     "slide_type": "slide"
    }
   },
   "source": [
    "Es común aplicar funciones lineales a estos vectores de alta dimensión en muchos dominios de aplicación para extraer sus propiedades analíticas."
   ]
  },
  {
   "cell_type": "markdown",
   "metadata": {
    "lang": "es",
    "slideshow": {
     "slide_type": "slide"
    }
   },
   "source": [
    "El estudio de tales transformaciones lineales se encuentra en el corazón del álgebra lineal."
   ]
  },
  {
   "cell_type": "code",
   "execution_count": 46,
   "metadata": {
    "slideshow": {
     "slide_type": "slide"
    }
   },
   "outputs": [],
   "source": [
    "import numpy as np \n",
    "def tranfor_lineal(x):      # transformación que rota 90 grados cualquier vector x\n",
    "    A = np.array([[0,-1],[1,0]])\n",
    "    return np.matmul(A,x)"
   ]
  },
  {
   "cell_type": "code",
   "execution_count": 47,
   "metadata": {
    "slideshow": {
     "slide_type": "slide"
    }
   },
   "outputs": [
    {
     "data": {
      "text/plain": [
       "array([ 0, -1])"
      ]
     },
     "execution_count": 47,
     "metadata": {},
     "output_type": "execute_result"
    }
   ],
   "source": [
    "tranfor_lineal([-1,0])  "
   ]
  },
  {
   "cell_type": "markdown",
   "metadata": {
    "lang": "es",
    "slideshow": {
     "slide_type": "slide"
    }
   },
   "source": [
    "Si bien es fácil visualizar la geometría espacial de puntos/operaciones en 2 o 3 dimensiones, se vuelve más difícil hacerlo en dimensiones superiores."
   ]
  },
  {
   "cell_type": "code",
   "execution_count": 48,
   "metadata": {
    "slideshow": {
     "slide_type": "slide"
    }
   },
   "outputs": [],
   "source": [
    "import numpy as np \n",
    "punto_3d = np.array([1,2,3]) "
   ]
  },
  {
   "cell_type": "code",
   "execution_count": 49,
   "metadata": {
    "slideshow": {
     "slide_type": "slide"
    }
   },
   "outputs": [],
   "source": [
    "%matplotlib inline \n",
    "import matplotlib.pyplot as plt \n",
    "from mpl_toolkits.mplot3d import Axes3D \n"
   ]
  },
  {
   "cell_type": "code",
   "execution_count": 50,
   "metadata": {
    "scrolled": false,
    "slideshow": {
     "slide_type": "slide"
    }
   },
   "outputs": [
    {
     "data": {
      "image/png": "[encoded data removed]",
      "text/plain": [
       "<Figure size 432x288 with 1 Axes>"
      ]
     },
     "metadata": {
      "needs_background": "light"
     },
     "output_type": "display_data"
    }
   ],
   "source": [
    "subplot3d = plt.subplot(111, projection = '3d') \n",
    "\n",
    "x_cor, y_cor, z_cor = punto_3d \n",
    "subplot3d.scatter(x_cor,y_cor,z_cor, color = ['r']) \n",
    "subplot3d.set_zlim([0,4]) \n",
    "plt.show() "
   ]
  },
  {
   "cell_type": "markdown",
   "metadata": {
    "slideshow": {
     "slide_type": "slide"
    }
   },
   "source": [
    "## [Video de apoyo](https://www.youtube.com/watch?v=JDbxigegGx4&ab_channel=MARCOJULIOCA%C3%91ASCAMPILLO) "
   ]
  },
  {
   "cell_type": "markdown",
   "metadata": {
    "lang": "es",
    "slideshow": {
     "slide_type": "slide"
    }
   },
   "source": [
    "Por ejemplo, es sencillo visualizar una rotación bidimensional de un objeto, pero es difícil visualizar un objeto de $20$ dimensiones y su correspondiente rotación."
   ]
  },
  {
   "cell_type": "code",
   "execution_count": 51,
   "metadata": {
    "scrolled": true,
    "slideshow": {
     "slide_type": "slide"
    }
   },
   "outputs": [
    {
     "data": {
      "application/vnd.jupyter.widget-view+json": {
       "model_id": "c33c80f5f8e44a3388b67c760cc94fc3",
       "version_major": 2,
       "version_minor": 0
      },
      "text/plain": [
       "interactive(children=(FloatSlider(value=0.0, description='theta', max=1.5707963267948966, step=0.1570796326794…"
      ]
     },
     "metadata": {},
     "output_type": "display_data"
    },
    {
     "data": {
      "text/plain": [
       "<function __main__.rotar_2d(theta=0)>"
      ]
     },
     "execution_count": 51,
     "metadata": {},
     "output_type": "execute_result"
    }
   ],
   "source": [
    "# Rotemos 30 grados a un vector en el plano\n",
    "import numpy as np \n",
    "%matplotlib inline \n",
    "import matplotlib.pyplot as plt \n",
    "from ipywidgets import interact \n",
    "\n",
    "def trans_rot(v, theta):\n",
    "    A = np.array([[np.cos(theta), -np.sin(theta)],[np.sin(theta), np.cos(theta)]])\n",
    "    return np.matmul(A,v)\n",
    "    \n",
    "def rotar_2d(theta = 0):\n",
    "    fig = plt.figure()\n",
    "    ax = fig.add_subplot()\n",
    "    v=np.array([1,0])\n",
    "    vx,vy = trans_rot(v, theta) \n",
    "    ax.scatter([vx],[vy], color = ['r']) \n",
    "    ax.set_xlim([0,1.5])\n",
    "    ax.set_ylim([0,1.0])\n",
    "    ax.grid(True) \n",
    "    \n",
    "\n",
    "    \n",
    "interact(rotar_2d, theta = (0,np.pi/2, np.pi/20)) \n"
   ]
  },
  {
   "cell_type": "markdown",
   "metadata": {
    "lang": "es",
    "slideshow": {
     "slide_type": "slide"
    }
   },
   "source": [
    "Este es uno de los principales desafíos asociados con el álgebra lineal."
   ]
  },
  {
   "cell_type": "markdown",
   "metadata": {
    "lang": "es",
    "slideshow": {
     "slide_type": "slide"
    }
   },
   "source": [
    "Sin embargo, con algo de práctica, se pueden transferir intuiciones espaciales a dimensiones superiores."
   ]
  },
  {
   "cell_type": "markdown",
   "metadata": {
    "lang": "es",
    "slideshow": {
     "slide_type": "slide"
    }
   },
   "source": [
    "El álgebra lineal se puede ver como una forma generalizada de la geometría de las coordenadas cartesianas en $d$ dimensiones."
   ]
  },
  {
   "cell_type": "markdown",
   "metadata": {
    "lang": "es",
    "slideshow": {
     "slide_type": "slide"
    }
   },
   "source": [
    "Así como se puede utilizar la geometría analítica en dos dimensiones para encontrar la intersección de dos líneas en el plano, se puede generalizar este concepto a cualquier número de dimensiones."
   ]
  },
  {
   "cell_type": "markdown",
   "metadata": {
    "lang": "es",
    "slideshow": {
     "slide_type": "slide"
    }
   },
   "source": [
    "El método resultante se conoce como eliminación gaussiana para resolver sistemas\n",
    "de ecuaciones, y es una de las piedras angulares fundamentales del álgebra lineal."
   ]
  },
  {
   "cell_type": "markdown",
   "metadata": {
    "lang": "es",
    "slideshow": {
     "slide_type": "slide"
    }
   },
   "source": [
    "De hecho, el problema de la regresión lineal, fundamental para el álgebra lineal, la optimización y el aprendizaje automático, está estrechamente relacionado con la resolución de sistemas de ecuaciones."
   ]
  },
  {
   "cell_type": "markdown",
   "metadata": {
    "lang": "es",
    "slideshow": {
     "slide_type": "slide"
    }
   },
   "source": [
    "El libro de Charú presenta el álgebra lineal y la optimización con un enfoque específico en las aplicaciones de aprendizaje automático."
   ]
  },
  {
   "cell_type": "markdown",
   "metadata": {
    "lang": "es",
    "slideshow": {
     "slide_type": "slide"
    }
   },
   "source": [
    "Este capítulo está organizado de la siguiente forma."
   ]
  },
  {
   "cell_type": "markdown",
   "metadata": {
    "lang": "es",
    "slideshow": {
     "slide_type": "slide"
    }
   },
   "source": [
    "La siguiente sección presenta las definiciones de vectores y matrices y operaciones importantes."
   ]
  },
  {
   "cell_type": "markdown",
   "metadata": {
    "lang": "es",
    "slideshow": {
     "slide_type": "slide"
    }
   },
   "source": [
    "La sección 1.3 examina de cerca la naturaleza de la multiplicación de matrices con vectores y su interpretación como la composición de transformaciones más simples en vectores."
   ]
  },
  {
   "cell_type": "markdown",
   "metadata": {
    "lang": "es",
    "slideshow": {
     "slide_type": "slide"
    }
   },
   "source": [
    "En la Sección 1.4, presentaremos los problemas básicos del aprendizaje automático que se utilizan como ejemplos de aplicación a lo largo de este libro."
   ]
  },
  {
   "cell_type": "markdown",
   "metadata": {
    "lang": "es",
    "slideshow": {
     "slide_type": "slide"
    }
   },
   "source": [
    "La sección 1.5 presentará los conceptos básicos de la optimización y su relación con los diferentes tipos de problemas de aprendizaje automático."
   ]
  },
  {
   "cell_type": "markdown",
   "metadata": {
    "lang": "es",
    "slideshow": {
     "slide_type": "slide"
    }
   },
   "source": [
    "Se ofrece un resumen en la Sección 1.6."
   ]
  },
  {
   "cell_type": "markdown",
   "metadata": {
    "lang": "es",
    "slideshow": {
     "slide_type": "slide"
    }
   },
   "source": [
    "## 1.2 Escalares, vectores y matrices"
   ]
  },
  {
   "cell_type": "markdown",
   "metadata": {
    "lang": "es",
    "slideshow": {
     "slide_type": "slide"
    }
   },
   "source": [
    "Empezamos por introducir las nociones de escalares, vectores y matrices, que son los elementos fundamentales\n",
    "estructuras asociadas con el álgebra lineal."
   ]
  },
  {
   "cell_type": "markdown",
   "metadata": {
    "lang": "es",
    "slideshow": {
     "slide_type": "slide"
    }
   },
   "source": [
    "1. Escalares: Los escalares son valores numéricos individuales que normalmente se extraen de la\n",
    "   dominio real en la mayoría de las aplicaciones de aprendizaje automático.\n",
    "   Por ejemplo, el valor de un atributo como `Edad` en una aplicación de aprendizaje automático es \n",
    "   un escalar."
   ]
  },
  {
   "cell_type": "code",
   "execution_count": 52,
   "metadata": {
    "slideshow": {
     "slide_type": "slide"
    }
   },
   "outputs": [],
   "source": [
    "edad = 46"
   ]
  },
  {
   "cell_type": "markdown",
   "metadata": {
    "lang": "es",
    "slideshow": {
     "slide_type": "slide"
    }
   },
   "source": [
    "2. Vectores: los vectores son matrices de valores numéricos (es decir, matrices de escalares).\n",
    "   Cada uno de estos valores numéricos también se denomina coordenada.\n",
    "   Los valores numéricos individuales de las matrices se denominan entradas o componentes, y el número de componentes se conoce como dimensionalidad del vector."
   ]
  },
  {
   "cell_type": "markdown",
   "metadata": {
    "lang": "es",
    "slideshow": {
     "slide_type": "slide"
    }
   },
   "source": [
    "En el aprendizaje automático, un vector (asociado con un punto de datos) puede contener componentes  correspondientes a valores numéricos como Edad, Salario, etc. "
   ]
  },
  {
   "cell_type": "markdown",
   "metadata": {
    "lang": "es",
    "slideshow": {
     "slide_type": "slide"
    }
   },
   "source": [
    "Un vector tridimensional que representa a una persona de 25 años que gana 30 dólares por hora y que tiene 5 años de experiencia podría escribirse como la matriz de números $[25, 30, 5]$."
   ]
  },
  {
   "cell_type": "markdown",
   "metadata": {
    "lang": "es",
    "slideshow": {
     "slide_type": "slide"
    }
   },
   "source": [
    "3. *Matrices*: las matrices se pueden ver como arreglos rectangulares de valores numéricos \n",
    "   que contienen tanto filas como columnas.\n",
    "   Para acceder a un elemento en la matriz, se debe especificar su índice de fila y su\n",
    "   índice de columna."
   ]
  },
  {
   "cell_type": "markdown",
   "metadata": {
    "lang": "es",
    "slideshow": {
     "slide_type": "slide"
    }
   },
   "source": [
    "Por ejemplo, considere un conjunto de datos en una aplicación de aprendizaje automático que contiene $d$ propiedades de $n$ individuos."
   ]
  },
  {
   "cell_type": "markdown",
   "metadata": {
    "lang": "es",
    "slideshow": {
     "slide_type": "slide"
    }
   },
   "source": [
    "A cada individuo se le asigna una fila y cada propiedad se asigna en una columna."
   ]
  },
  {
   "cell_type": "markdown",
   "metadata": {
    "lang": "es",
    "slideshow": {
     "slide_type": "slide"
    }
   },
   "source": [
    "En tal caso, podemos definir una matriz de datos, en la que cada fila es un vector $d$-dimensional\n",
    "que contiene las propiedades de uno de los $n$ individuos."
   ]
  },
  {
   "cell_type": "markdown",
   "metadata": {
    "lang": "es",
    "slideshow": {
     "slide_type": "slide"
    }
   },
   "source": [
    "El tamaño de dicha matriz se indica mediante la notación $n \\times d$."
   ]
  },
  {
   "cell_type": "markdown",
   "metadata": {
    "lang": "es",
    "slideshow": {
     "slide_type": "slide"
    }
   },
   "source": [
    "Se accede a un elemento de la matriz con el par de índices $(i, j)$, donde el primer elemento $i$ es el índice de fila y el segundo elemento $j$ es el índice de columna."
   ]
  },
  {
   "cell_type": "markdown",
   "metadata": {
    "lang": "es",
    "slideshow": {
     "slide_type": "slide"
    }
   },
   "source": [
    "El índice de fila aumenta de arriba hacia abajo, mientras que el índice de columna aumenta de izquierda a derecha."
   ]
  },
  {
   "cell_type": "markdown",
   "metadata": {
    "lang": "es",
    "slideshow": {
     "slide_type": "slide"
    }
   },
   "source": [
    "El valor de la entrada $(i, j)$ - ésima de la matriz es, por lo tanto, igual a la propiedad $j$ - ésima del $i$ -ésimo individuo."
   ]
  },
  {
   "cell_type": "markdown",
   "metadata": {
    "lang": "es",
    "slideshow": {
     "slide_type": "slide"
    }
   },
   "source": [
    "Cuando definimos una matriz $A = [a_{ij}]$, se refiere al hecho de que el elemento $(i, j)$ - ésimo de $A$ se denota con $a_{ij}$. "
   ]
  },
  {
   "cell_type": "markdown",
   "metadata": {
    "lang": "es",
    "slideshow": {
     "slide_type": "slide"
    }
   },
   "source": [
    "Además, definir $A = [a_{ij} ]_{n \\times d}$ se refiere al hecho de que el tamaño de $A$ es $n \\times d$."
   ]
  },
  {
   "cell_type": "markdown",
   "metadata": {
    "lang": "es",
    "slideshow": {
     "slide_type": "slide"
    }
   },
   "source": [
    "Cuando una matriz tiene el mismo número de filas que de columnas, se denomina **matriz cuadrada**."
   ]
  },
  {
   "cell_type": "markdown",
   "metadata": {
    "lang": "es",
    "slideshow": {
     "slide_type": "slide"
    }
   },
   "source": [
    "De lo contrario, se denomina matriz rectangular."
   ]
  },
  {
   "cell_type": "markdown",
   "metadata": {
    "lang": "es",
    "slideshow": {
     "slide_type": "slide"
    }
   },
   "source": [
    "* Una matriz rectangular con más filas que columnas se denomina **alta**,   \n",
    "* mientras que una matriz con más columnas que filas se denomina **ancha** o **gruesa**."
   ]
  },
  {
   "cell_type": "markdown",
   "metadata": {
    "lang": "es",
    "slideshow": {
     "slide_type": "slide"
    }
   },
   "source": [
    "Es posible que escalares, vectores y matrices contengan números complejos."
   ]
  },
  {
   "cell_type": "markdown",
   "metadata": {
    "lang": "es",
    "slideshow": {
     "slide_type": "slide"
    }
   },
   "source": [
    "En este libro, ocasionalmente, se analizarán los vectores de valores complejos cuando sean relevantes para el aprendizaje automático."
   ]
  },
  {
   "cell_type": "markdown",
   "metadata": {
    "lang": "es",
    "slideshow": {
     "slide_type": "slide"
    }
   },
   "source": [
    "Los vectores son casos especiales de matrices y los escalares son casos especiales tanto de vectores como de matrices."
   ]
  },
  {
   "cell_type": "markdown",
   "metadata": {
    "lang": "es",
    "slideshow": {
     "slide_type": "slide"
    }
   },
   "source": [
    "Por ejemplo, un escalar a veces se ve como una \"matriz\" $1 \\times 1$."
   ]
  },
  {
   "cell_type": "markdown",
   "metadata": {
    "lang": "es",
    "slideshow": {
     "slide_type": "slide"
    }
   },
   "source": [
    "De manera similar, un vector bidimensional se puede ver como una matriz $1 \\times d$ cuando se trata como un vector de fila."
   ]
  },
  {
   "cell_type": "markdown",
   "metadata": {
    "lang": "es",
    "slideshow": {
     "slide_type": "slide"
    }
   },
   "source": [
    "También se puede tratar como una matriz $d \\times 1$ cuando es un vector de columna."
   ]
  },
  {
   "cell_type": "markdown",
   "metadata": {
    "lang": "es",
    "slideshow": {
     "slide_type": "slide"
    }
   },
   "source": [
    "La adición de la palabra \"fila\" o \"columna\" a la definición del vector es indicativa de si ese vector es naturalmente una fila de una matriz más grande o si es una columna de una matriz más grande."
   ]
  },
  {
   "cell_type": "markdown",
   "metadata": {
    "lang": "es",
    "slideshow": {
     "slide_type": "slide"
    }
   },
   "source": [
    "Por defecto, se supone que los vectores son vectores de columna en álgebra lineal, a menos que se especifique lo contrario. Siempre usamos una barra superior en una variable para indicar que es un vector, aunque no lo hacemos para\n",
    "matrices o escalares."
   ]
  },
  {
   "cell_type": "markdown",
   "metadata": {
    "lang": "es",
    "slideshow": {
     "slide_type": "slide"
    }
   },
   "source": [
    "Por ejemplo, el vector de fila $[y_{1},\\ldots, y_{d}]$ de $d$ valores se puede denotar mediante $\\overline{y}$ o $\\overline{Y}$."
   ]
  },
  {
   "cell_type": "markdown",
   "metadata": {
    "lang": "es",
    "slideshow": {
     "slide_type": "slide"
    }
   },
   "source": [
    "En este libro, los escalares siempre están representados por variables en minúsculas como $a$ o $\\delta$, mientras que las matrices siempre están representadas por variables en mayúsculas como $A$ o $\\Delta$."
   ]
  },
  {
   "cell_type": "markdown",
   "metadata": {
    "lang": "es",
    "slideshow": {
     "slide_type": "slide"
    }
   },
   "source": [
    "En las ciencias, un vector a menudo se visualiza geométricamente como una cantidad, como la velocidad,\n",
    "que tiene una magnitud y una dirección."
   ]
  },
  {
   "cell_type": "markdown",
   "metadata": {
    "lang": "es",
    "slideshow": {
     "slide_type": "slide"
    }
   },
   "source": [
    "Estos vectores se denominan vectores geométricos."
   ]
  },
  {
   "cell_type": "markdown",
   "metadata": {
    "lang": "es",
    "slideshow": {
     "slide_type": "slide"
    }
   },
   "source": [
    "Por ejemplo, imagine una situación en la que la dirección positiva del eje $X$ corresponde a la dirección este y la dirección positiva del eje $Y$ corresponde a la dirección norte."
   ]
  },
  {
   "cell_type": "markdown",
   "metadata": {
    "lang": "es",
    "slideshow": {
     "slide_type": "slide"
    }
   },
   "source": [
    "Entonces, una persona que se mueve simultáneamente a 4 $metros/segundo$ en la dirección este y a 3 $metros/segundo$ en la dirección norte se está moviendo realmente en la dirección noreste en línea recta a $\\sqrt{4^{2} + 3^{2}} = 5$ metros / segundo (basado en el Teorema de Pitágoras)."
   ]
  },
  {
   "cell_type": "code",
   "execution_count": 53,
   "metadata": {
    "slideshow": {
     "slide_type": "slide"
    }
   },
   "outputs": [
    {
     "data": {
      "image/png": "[encoded data removed]",
      "text/plain": [
       "<Figure size 432x288 with 1 Axes>"
      ]
     },
     "metadata": {
      "needs_background": "light"
     },
     "output_type": "display_data"
    }
   ],
   "source": [
    "import numpy as np \n",
    "import matplotlib.pyplot as plt \n",
    "plt.arrow(0,0, 3,4, head_width = 0.2, head_length = 0.3)  \n",
    "plt.axis([0,4,0,5]) \n",
    "plt.show() "
   ]
  },
  {
   "cell_type": "markdown",
   "metadata": {
    "lang": "es",
    "slideshow": {
     "slide_type": "slide"
    }
   },
   "source": [
    "Esta es también la longitud del vector."
   ]
  },
  {
   "cell_type": "markdown",
   "metadata": {
    "lang": "es",
    "slideshow": {
     "slide_type": "slide"
    }
   },
   "source": [
    "El vector de la velocidad de esta persona se puede escribir como una línea dirigida desde el origen hasta $[4, 3]$."
   ]
  },
  {
   "cell_type": "markdown",
   "metadata": {
    "lang": "es",
    "slideshow": {
     "slide_type": "slide"
    }
   },
   "source": [
    "Este vector se muestra en la Figura $1.1(a)$."
   ]
  },
  {
   "cell_type": "markdown",
   "metadata": {
    "lang": "es",
    "slideshow": {
     "slide_type": "slide"
    }
   },
   "source": [
    "En este caso, la cola del vector está en el origen y la cabeza del vector está en [4, 3]."
   ]
  },
  {
   "cell_type": "markdown",
   "metadata": {
    "lang": "es",
    "slideshow": {
     "slide_type": "slide"
    }
   },
   "source": [
    "Se permite que los vectores geométricos en las ciencias tengan colas arbitrarias."
   ]
  },
  {
   "cell_type": "markdown",
   "metadata": {
    "lang": "es",
    "slideshow": {
     "slide_type": "slide"
    }
   },
   "source": [
    "Por ejemplo, hemos mostrado otro ejemplo del mismo vector [4, 3] en la Figura 1.1 (a) en el que la cola se coloca en [1, 4] y la cabeza se coloca en [5, 7]."
   ]
  },
  {
   "cell_type": "markdown",
   "metadata": {
    "lang": "es",
    "slideshow": {
     "slide_type": "slide"
    }
   },
   "source": [
    "A diferencia de los vectores geométricos, solo los vectores que tienen colas en el origen se consideran en álgebra lineal (aunque los resultados matemáticos, los principios y la intuición siguen siendo los mismos)."
   ]
  },
  {
   "cell_type": "markdown",
   "metadata": {
    "lang": "es",
    "slideshow": {
     "slide_type": "slide"
    }
   },
   "source": [
    "Esto no conduce a ninguna pérdida de expresividad."
   ]
  },
  {
   "cell_type": "markdown",
   "metadata": {
    "lang": "es",
    "slideshow": {
     "slide_type": "slide"
    }
   },
   "source": [
    "Todos los vectores, operaciones y espacios en álgebra lineal usan el origen como un punto de referencia importante."
   ]
  },
  {
   "cell_type": "markdown",
   "metadata": {
    "lang": "es",
    "slideshow": {
     "slide_type": "slide"
    }
   },
   "source": [
    "## 1.2.1 Operaciones básicas con escalares y vectores"
   ]
  },
  {
   "cell_type": "markdown",
   "metadata": {
    "lang": "es",
    "slideshow": {
     "slide_type": "slide"
    }
   },
   "source": [
    "Se pueden sumar o restar vectores de la misma dimensionalidad."
   ]
  },
  {
   "cell_type": "markdown",
   "metadata": {
    "lang": "es",
    "slideshow": {
     "slide_type": "slide"
    }
   },
   "source": [
    "Por ejemplo, considere dos vectores $d$-dimensionales $\\overline{x} = [x_{1} \\ldots x_{d}]$ y $\\overline{y} = [y_{1} \\ldots y_{d}]$ en una aplicación minorista, donde la $i$ - ésima componente  define el volumen de ventas del $i$ - ésimo producto."
   ]
  },
  {
   "cell_type": "markdown",
   "metadata": {
    "lang": "es",
    "slideshow": {
     "slide_type": "slide"
    }
   },
   "source": [
    "En tal caso, el vector de ventas agregadas es $x + y$, y su $i$-ésimo componente es $x_{i} + y_{i}$:\n",
    "\n",
    "$$x + y = [x_{1} \\ldots x_{d}] + [y_{1} \\ldots y_{d}] = [x_{1} + y_{1} \\ldots  x_{d} + y_{d}]$$"
   ]
  },
  {
   "cell_type": "markdown",
   "metadata": {
    "lang": "es",
    "slideshow": {
     "slide_type": "slide"
    }
   },
   "source": [
    "La resta de vectores se define de la misma manera:\n",
    "\n",
    "$$ \\overline{x} − \\overline{y} = [x_{1} \\ldots x_{d}] − [y_{1} \\ldots y_{d}] = [x_{1} − y_{1} \\ldots x_{d} − y_{d}] $$"
   ]
  },
  {
   "cell_type": "markdown",
   "metadata": {
    "slideshow": {
     "slide_type": "slide"
    }
   },
   "source": [
    "<img src = 'https://github.com/marco-canas/innovaciones/blob/main/ref/charu/ch_1/figura_1_1.jpg?raw=true'>"
   ]
  },
  {
   "cell_type": "markdown",
   "metadata": {
    "lang": "es",
    "slideshow": {
     "slide_type": "slide"
    }
   },
   "source": [
    "La suma de vectores es conmutativa (como la suma escalar) porque $x+y = y+x$."
   ]
  },
  {
   "cell_type": "markdown",
   "metadata": {
    "lang": "es",
    "slideshow": {
     "slide_type": "slide"
    }
   },
   "source": [
    "Cuando se agregan dos vectores, $x$ y $y$, el origen, $x$, $y$ y $x+y$ representan los vértices de un paralelogramo."
   ]
  },
  {
   "cell_type": "markdown",
   "metadata": {
    "lang": "es",
    "slideshow": {
     "slide_type": "slide"
    }
   },
   "source": [
    "Por ejemplo, considere los vectores $A = [4, 3]$ y $B = [1, 4]$."
   ]
  },
  {
   "cell_type": "markdown",
   "metadata": {
    "lang": "es",
    "slideshow": {
     "slide_type": "slide"
    }
   },
   "source": [
    "La suma de estos dos vectores es $A + B = [5, 7]$."
   ]
  },
  {
   "cell_type": "markdown",
   "metadata": {
    "lang": "es",
    "slideshow": {
     "slide_type": "slide"
    }
   },
   "source": [
    "La suma de estos dos vectores se muestra en la Figura 1.1 (b)."
   ]
  },
  {
   "cell_type": "markdown",
   "metadata": {
    "lang": "es",
    "slideshow": {
     "slide_type": "slide"
    }
   },
   "source": [
    "Es fácil mostrar que los cuatro puntos $[0, 0], [4, 3], [1, 4]$ y $[5, 7]$ forman un paralelogramo en un espacio bidimensional, y la suma de los vectores es una de las diagonales del paralelogramo."
   ]
  },
  {
   "cell_type": "markdown",
   "metadata": {
    "lang": "es",
    "slideshow": {
     "slide_type": "slide"
    }
   },
   "source": [
    "Se puede mostrar que la otra diagonal es paralela a A - B o B - A, dependiendo de la\n",
    "dirección del vector."
   ]
  },
  {
   "cell_type": "markdown",
   "metadata": {
    "lang": "es",
    "slideshow": {
     "slide_type": "slide"
    }
   },
   "source": [
    "Tenga en cuenta que la suma y la resta de vectores siguen las mismas reglas\n",
    "en álgebra lineal como para los vectores geométricos, excepto que las colas de los vectores son siempre\n",
    "origen arraigado."
   ]
  },
  {
   "cell_type": "markdown",
   "metadata": {
    "lang": "es",
    "slideshow": {
     "slide_type": "slide"
    }
   },
   "source": [
    "Por ejemplo, el vector (A - B) ya no debería dibujarse como una diagonal del paralelogramo, sino como un vector con raíz de origen con la misma dirección que la diagonal."
   ]
  },
  {
   "cell_type": "markdown",
   "metadata": {
    "lang": "es",
    "slideshow": {
     "slide_type": "slide"
    }
   },
   "source": [
    "Sin embargo, la abstracción diagonal todavía ayuda en el cálculo de (A − B)."
   ]
  },
  {
   "cell_type": "markdown",
   "metadata": {
    "lang": "es",
    "slideshow": {
     "slide_type": "slide"
    }
   },
   "source": [
    "Una forma de visualizar la suma de vectores (en términos de la abstracción de la velocidad) es que si una plataforma se mueve en el suelo con velocidad [1, 4], y si la persona camina sobre la plataforma (en relación con ella)\n",
    "con velocidad [4, 3], entonces la velocidad total de la persona en relación con el suelo es [5, 7]."
   ]
  },
  {
   "cell_type": "markdown",
   "metadata": {
    "lang": "es",
    "slideshow": {
     "slide_type": "slide"
    }
   },
   "source": [
    "Es posible multiplicar un vector con un escalar multiplicando cada componente del\n",
    "vector con el escalar. Considere un vector $x = [x1, . . . xd]$, que se escala por un factor de a:"
   ]
  },
  {
   "cell_type": "markdown",
   "metadata": {
    "slideshow": {
     "slide_type": "slide"
    }
   },
   "source": [
    "$$ x' = ax = [ax_{1} \\ldots ax_{d}] $$ "
   ]
  },
  {
   "cell_type": "markdown",
   "metadata": {
    "lang": "es",
    "slideshow": {
     "slide_type": "slide"
    }
   },
   "source": [
    "Por ejemplo, si el vector x contiene la cantidad de unidades vendidas de cada producto, entonces se puede usar a = 10−6 para convertir las unidades vendidas en la cantidad de millones de unidades vendidas."
   ]
  },
  {
   "cell_type": "markdown",
   "metadata": {
    "lang": "es",
    "slideshow": {
     "slide_type": "slide"
    }
   },
   "source": [
    "La operación de multiplicación escalar simplemente escala la longitud del vector, pero no cambia su\n",
    "dirección (es decir, valores relativos de diferentes componentes)."
   ]
  },
  {
   "cell_type": "markdown",
   "metadata": {
    "lang": "es",
    "slideshow": {
     "slide_type": "slide"
    }
   },
   "source": [
    "La noción de \"longitud\" se define más formalmente en términos de la norma del vector, que se analiza a continuación."
   ]
  },
  {
   "cell_type": "markdown",
   "metadata": {
    "lang": "es",
    "slideshow": {
     "slide_type": "slide"
    }
   },
   "source": [
    "Los vectores se pueden multiplicar con la noción de producto escalar."
   ]
  },
  {
   "cell_type": "markdown",
   "metadata": {
    "lang": "es",
    "slideshow": {
     "slide_type": "slide"
    }
   },
   "source": [
    "El producto escalar entre dos vectores, $x = [x1, . . . , xd]$ y $y = [yi, . . . yd]$, es la suma de la multiplicación por elementos de sus componentes individuales."
   ]
  },
  {
   "cell_type": "markdown",
   "metadata": {
    "lang": "es",
    "slideshow": {
     "slide_type": "slide"
    }
   },
   "source": [
    "El producto escalar de xey se denota mediante $x \\cdot y$ (con un punto en el medio) y se define formalmente de la siguiente manera:"
   ]
  },
  {
   "cell_type": "markdown",
   "metadata": {
    "slideshow": {
     "slide_type": "slide"
    }
   },
   "source": [
    "$$ x \\cdot y = \\sum_{i = 1}^{d} x_{i}y_{i} $$"
   ]
  },
  {
   "cell_type": "markdown",
   "metadata": {
    "lang": "es",
    "slideshow": {
     "slide_type": "slide"
    }
   },
   "source": [
    "Considere un caso en el que tenemos $x = [1, 2, 3]$ y $y = [6, 5, 4]$."
   ]
  },
  {
   "cell_type": "markdown",
   "metadata": {
    "lang": "es",
    "slideshow": {
     "slide_type": "slide"
    }
   },
   "source": [
    "En tal caso, el producto escalar de estos dos vectores se puede calcular de la siguiente manera:"
   ]
  },
  {
   "cell_type": "markdown",
   "metadata": {
    "slideshow": {
     "slide_type": "slide"
    }
   },
   "source": [
    "$$ x \\cdot y = (1)(6) + (2)(5) + (3)(4) = 28 $$"
   ]
  },
  {
   "cell_type": "markdown",
   "metadata": {
    "lang": "es",
    "slideshow": {
     "slide_type": "slide"
    }
   },
   "source": [
    "El producto escalar es un caso especial de una operación más general, denominada producto interno, y conserva muchas reglas fundamentales de la geometría euclidiana."
   ]
  },
  {
   "cell_type": "markdown",
   "metadata": {
    "lang": "es",
    "slideshow": {
     "slide_type": "slide"
    }
   },
   "source": [
    "El espacio de vectores que incluye una operación de producto escalar se denomina espacio euclidiano."
   ]
  },
  {
   "cell_type": "markdown",
   "metadata": {
    "lang": "es",
    "slideshow": {
     "slide_type": "slide"
    }
   },
   "source": [
    "El producto escalar es una operación conmutativa:"
   ]
  },
  {
   "cell_type": "markdown",
   "metadata": {
    "slideshow": {
     "slide_type": "slide"
    }
   },
   "source": [
    "$$ x \\cdot y = \\sum_{i = 1}^{d} x_{i}y_{i} = \\sum_{i = 1}^{d} y_{i}x_{i} = y \\cdot x $$"
   ]
  },
  {
   "cell_type": "markdown",
   "metadata": {
    "lang": "es",
    "slideshow": {
     "slide_type": "slide"
    }
   },
   "source": [
    "El producto escalar también hereda la propiedad distributiva de la multiplicación escalar:"
   ]
  },
  {
   "cell_type": "markdown",
   "metadata": {
    "slideshow": {
     "slide_type": "slide"
    }
   },
   "source": [
    "$$ x \\cdot (y + z) = x \\cdot y + x \\cdot z $$"
   ]
  },
  {
   "cell_type": "markdown",
   "metadata": {
    "lang": "es",
    "slideshow": {
     "slide_type": "slide"
    }
   },
   "source": [
    "El producto escalar de un vector, $x = [x_{1}, \\ldots x_{d}]$, consigo mismo se conoce como su norma al cuadrado\n",
    "o norma euclidiana."
   ]
  },
  {
   "cell_type": "markdown",
   "metadata": {
    "lang": "es",
    "slideshow": {
     "slide_type": "slide"
    }
   },
   "source": [
    "La norma define la longitud del vector y se denota por $\\Vert \\cdot \\Vert$:"
   ]
  },
  {
   "cell_type": "markdown",
   "metadata": {
    "slideshow": {
     "slide_type": "slide"
    }
   },
   "source": [
    "$$ \\Vert x \\Vert^{2} = x \\cdot x = \\sum_{i = 1}^{d} x_{i}^{2} $$"
   ]
  },
  {
   "cell_type": "markdown",
   "metadata": {
    "lang": "es",
    "slideshow": {
     "slide_type": "slide"
    }
   },
   "source": [
    "La norma del vector es la distancia euclidiana de sus coordenadas desde el origen."
   ]
  },
  {
   "cell_type": "markdown",
   "metadata": {
    "lang": "es",
    "slideshow": {
     "slide_type": "slide"
    }
   },
   "source": [
    "En el caso de la Figura 1.1 (a), la norma del vector $[4, 3]$ es $\\sqrt{4^{2} + 3^{2}} = 5$."
   ]
  },
  {
   "cell_type": "markdown",
   "metadata": {
    "lang": "es",
    "slideshow": {
     "slide_type": "slide"
    }
   },
   "source": [
    "A menudo, los vectores se normalizan a la longitud unitaria dividiéndolos con su norma:"
   ]
  },
  {
   "cell_type": "markdown",
   "metadata": {
    "slideshow": {
     "slide_type": "slide"
    }
   },
   "source": [
    "$$ \\overline{x}' = \\frac{\\overline{x}}{\\Vert \\overline{x} \\Vert} = \\frac{\\overline{x}}{\\sqrt{\\overline{x} \\cdot \\overline{x}}}  $$"
   ]
  },
  {
   "cell_type": "markdown",
   "metadata": {
    "lang": "es",
    "slideshow": {
     "slide_type": "slide"
    }
   },
   "source": [
    "Escalar un vector según su norma no cambia los valores relativos de sus componentes, que definen la dirección del vector."
   ]
  },
  {
   "cell_type": "markdown",
   "metadata": {
    "lang": "es",
    "slideshow": {
     "slide_type": "slide"
    }
   },
   "source": [
    "Por ejemplo, la distancia euclidiana de [4, 3] desde el origen es 5."
   ]
  },
  {
   "cell_type": "markdown",
   "metadata": {
    "lang": "es",
    "slideshow": {
     "slide_type": "slide"
    }
   },
   "source": [
    "Dividir cada componente del vector por 5 da como resultado el vector [4/5, 3/5], que cambia la longitud del vector a 1, pero no su dirección."
   ]
  },
  {
   "cell_type": "markdown",
   "metadata": {
    "lang": "es",
    "slideshow": {
     "slide_type": "slide"
    }
   },
   "source": [
    "Este vector acortado se muestra en la Figura 1.1 (c) y se superpone con el vector [4, 3]. El vector resultante se refiere\n",
    "como vector unitario."
   ]
  },
  {
   "cell_type": "code",
   "execution_count": 54,
   "metadata": {
    "slideshow": {
     "slide_type": "slide"
    }
   },
   "outputs": [
    {
     "data": {
      "application/vnd.jupyter.widget-view+json": {
       "model_id": "b846b8bbd18c4450a2be11726da3b5e2",
       "version_major": 2,
       "version_minor": 0
      },
      "text/plain": [
       "interactive(children=(FloatSlider(value=0.0, description='t', max=1.0), Output()), _dom_classes=('widget-inter…"
      ]
     },
     "metadata": {},
     "output_type": "display_data"
    },
    {
     "data": {
      "text/plain": [
       "<function __main__.normalizar(t=0)>"
      ]
     },
     "execution_count": 54,
     "metadata": {},
     "output_type": "execute_result"
    }
   ],
   "source": [
    "import numpy as np \n",
    "import matplotlib.pyplot as plt \n",
    "from ipywidgets import interact \n",
    "\n",
    "def normalizar(t = 0):\n",
    "    fig = plt.figure()\n",
    "    ax = fig.add_subplot()\n",
    "    v = np.array([3,4])\n",
    "    alpha = (-4/5)*t+1\n",
    "    vx,vy = alpha*v \n",
    "    ax.arrow(0,0,vx,vy, head_width = 0.1, head_length = 0.1) \n",
    "    ax.set_xlim([0,4])\n",
    "    ax.set_ylim([0,5])\n",
    "    ax.grid(True)  \n",
    "\n",
    "interact(normalizar, t = (0, 1, 0.1))"
   ]
  },
  {
   "cell_type": "markdown",
   "metadata": {
    "slideshow": {
     "slide_type": "slide"
    }
   },
   "source": [
    "## Generalización de la norma euclidiana"
   ]
  },
  {
   "cell_type": "markdown",
   "metadata": {
    "lang": "es",
    "slideshow": {
     "slide_type": "slide"
    }
   },
   "source": [
    "Una generalización de la norma euclidiana es la norma $L_{p}$, que se denota por $\\Vert \\cdot \\Vert_{p}$:"
   ]
  },
  {
   "cell_type": "markdown",
   "metadata": {
    "slideshow": {
     "slide_type": "slide"
    }
   },
   "source": [
    "$$ \\Vert \\overline{x} \\Vert_{p} = \\left( \\sum_{i = 1}^{d} |x_{i}|^{p} \\right)^{1/p} $$"
   ]
  },
  {
   "cell_type": "markdown",
   "metadata": {
    "lang": "es",
    "slideshow": {
     "slide_type": "slide"
    }
   },
   "source": [
    "Aquí, $| \\cdot |$ indica el valor absoluto de un escalar y $p$ es un número entero positivo."
   ]
  },
  {
   "cell_type": "markdown",
   "metadata": {
    "lang": "es",
    "slideshow": {
     "slide_type": "slide"
    }
   },
   "source": [
    "Por ejemplo, cuando $p$ se establece en 1, la norma resultante se conoce como la norma de Manhattan o la norma $L_{1}$."
   ]
  },
  {
   "cell_type": "markdown",
   "metadata": {
    "lang": "es",
    "slideshow": {
     "slide_type": "slide"
    }
   },
   "source": [
    "Se puede demostrar que la distancia euclidiana (al cuadrado) entre $x = [x_{1}, \\ldots , x_{d}]$ y $y = [y_{1}, . . . , y_{d}]$ es el producto escalar de $x − y$ consigo mismo:"
   ]
  },
  {
   "cell_type": "markdown",
   "metadata": {
    "slideshow": {
     "slide_type": "slide"
    }
   },
   "source": [
    "$$ \\Vert x - y \\Vert^{2} = (x-y)(x-y) = \\sum_{i = 1}^{d}(x_{i} - y_{i})^{2} = \\mathbf{Euclidean}(x,y)^{2} $$ "
   ]
  },
  {
   "cell_type": "markdown",
   "metadata": {
    "lang": "es",
    "slideshow": {
     "slide_type": "slide"
    }
   },
   "source": [
    "Los productos escalares satisfacen la desigualdad de Cauchy-Schwarz, según la cual el producto escalar entre un par de vectores está acotado arriba por el producto de sus longitudes:"
   ]
  },
  {
   "cell_type": "markdown",
   "metadata": {
    "slideshow": {
     "slide_type": "slide"
    }
   },
   "source": [
    "$$ \\left| \\sum_{i = 1}^{d} x_{i}y_{i} \\right| = |x \\cdot y| \\leq  \\Vert x \\Vert \\Vert y \\Vert $$"
   ]
  },
  {
   "cell_type": "markdown",
   "metadata": {
    "lang": "es",
    "slideshow": {
     "slide_type": "slide"
    }
   },
   "source": [
    "La desigualdad de Cauchy-Schwarz se puede probar mostrando primero que $|x \\cdot y| \\leq 1$ cuando $x$ y $y$ son vectores unitarios (es decir, el resultado es válido cuando los argumentos son vectores unitarios)."
   ]
  },
  {
   "cell_type": "markdown",
   "metadata": {
    "lang": "es",
    "slideshow": {
     "slide_type": "slide"
    }
   },
   "source": [
    "Esto se debe a que tanto $ \\Vert x − y \\Vert^{2} = 2 - 2x \\cdot y$ como $\\Vert x + y \\Vert^{2} = 2 + 2x\\cdot y$ no son negativos."
   ]
  },
  {
   "cell_type": "markdown",
   "metadata": {
    "lang": "es",
    "slideshow": {
     "slide_type": "slide"
    }
   },
   "source": [
    "Esto es posible solo cuando $|x · y| ≤ 1$."
   ]
  },
  {
   "cell_type": "markdown",
   "metadata": {
    "lang": "es",
    "slideshow": {
     "slide_type": "slide"
    }
   },
   "source": [
    "Luego, se puede generalizar este resultado a vectores de longitud arbitrarios observando que el producto escalar se escala linealmente con las normas de los argumentos subyacentes."
   ]
  },
  {
   "cell_type": "markdown",
   "metadata": {
    "lang": "es",
    "slideshow": {
     "slide_type": "slide"
    }
   },
   "source": [
    "Por lo tanto, se pueden escalar ambos lados de la desigualdad con las normas de los vectores."
   ]
  },
  {
   "cell_type": "markdown",
   "metadata": {
    "lang": "es",
    "slideshow": {
     "slide_type": "slide"
    }
   },
   "source": [
    "### Problema 1.2.1 (Desigualdad del triángulo)\n",
    "*Considere el triángulo formado por el origen, $x$ y $y$.*\n",
    "*Use la desigualdad de Cauchy-Schwarz para mostrar que la longitud del lado $ \\Vert x−y\\Vert $ no es mayor que la suma $\\Vert x \\Vert  + \\Vert y \\Vert $ de los otros dos lados.*"
   ]
  },
  {
   "cell_type": "markdown",
   "metadata": {
    "lang": "es",
    "slideshow": {
     "slide_type": "slide"
    }
   },
   "source": [
    "Una pista para resolver el problema anterior es que ambos lados de la desigualdad del triángulo no son negativos."
   ]
  },
  {
   "cell_type": "markdown",
   "metadata": {
    "lang": "es",
    "slideshow": {
     "slide_type": "slide"
    }
   },
   "source": [
    "Por lo tanto, la desigualdad es verdadera si y solo si se cumple después de elevar ambos lados al cuadrado."
   ]
  },
  {
   "cell_type": "markdown",
   "metadata": {
    "slideshow": {
     "slide_type": "slide"
    }
   },
   "source": [
    "## Grafica de la situación"
   ]
  },
  {
   "cell_type": "code",
   "execution_count": 55,
   "metadata": {
    "slideshow": {
     "slide_type": "slide"
    }
   },
   "outputs": [
    {
     "data": {
      "image/png": "[encoded data removed]",
      "text/plain": [
       "<Figure size 432x288 with 1 Axes>"
      ]
     },
     "metadata": {
      "needs_background": "light"
     },
     "output_type": "display_data"
    }
   ],
   "source": [
    "import numpy as np \n",
    "import matplotlib.pyplot as plt \n",
    "\n",
    "fig = plt.figure()\n",
    "ax = fig.add_subplot()\n",
    "\n",
    "punto_x = [3,1]\n",
    "punto_y = [1,2]\n",
    "origen = [0,0] \n",
    "\n",
    "ax.arrow(origen[0], origen[1], punto_x[0], punto_x[1], head_width = 0.1, head_length = 0.2) \n",
    "ax.arrow(origen[0], origen[1], punto_y[0], punto_y[1], head_width = 0.1, head_length = 0.2) \n",
    "ax.arrow(punto_y[0], punto_y[1], punto_x[0]-punto_y[0], punto_x[1]-punto_y[1], \n",
    "         head_width = 0.1, head_length = 0.2) \n",
    "# los segundos parámetros de arrow() son los que determinan la dirección del vector\n",
    "ax.grid(True, alpha = 0.6)  \n",
    "ax.axis([0,5,0,5]) \n",
    "ax.annotate('x', xy=(3, 1),  xycoords='data',\n",
    "            xytext=(3.5, 1))\n",
    "\n",
    "plt.show() \n"
   ]
  },
  {
   "cell_type": "markdown",
   "metadata": {
    "slideshow": {
     "slide_type": "slide"
    }
   },
   "source": [
    "## Demostración:"
   ]
  },
  {
   "cell_type": "markdown",
   "metadata": {
    "slideshow": {
     "slide_type": "slide"
    }
   },
   "source": [
    "\\begin{align*}\n",
    "\\Vert x - y \\Vert^{2} & = (x-y) \\cdot (x-y) \\\\\n",
    "                      & = (x-y) \\cdot x - (x-y) \\cdot y \\\\\n",
    "                      & = x^{2}-y\\cdot x - (x \\cdot y - y^{2}) \\\\\n",
    "                      & = \n",
    "\\end{align*}"
   ]
  },
  {
   "cell_type": "markdown",
   "metadata": {
    "lang": "es",
    "slideshow": {
     "slide_type": "slide"
    }
   },
   "source": [
    "La desigualdad de Cauchy-Schwarz muestra que el producto escalar entre un par de vectores no es mayor que el producto de las longitudes de los vectores."
   ]
  },
  {
   "cell_type": "markdown",
   "metadata": {
    "lang": "es",
    "slideshow": {
     "slide_type": "slide"
    }
   },
   "source": [
    "De hecho, la relación entre estas dos cantidades es el coseno del ángulo entre los dos vectores (que siempre es menor que 1)."
   ]
  },
  {
   "cell_type": "markdown",
   "metadata": {
    "lang": "es",
    "slideshow": {
     "slide_type": "slide"
    }
   },
   "source": [
    "Por ejemplo, a menudo se representan las coordenadas de un vector bidimensional en forma polar como $[a, \\theta]$, donde $a$ es la longitud del vector y $\\theta$ es el ángulo en sentido antihorario que forma el vector con el eje $X$."
   ]
  },
  {
   "cell_type": "markdown",
   "metadata": {
    "lang": "es",
    "slideshow": {
     "slide_type": "slide"
    }
   },
   "source": [
    "Las coordenadas cartesianas son $[a\\cos(\\theta), a\\sin(\\theta)]$, y el producto escalar de este vector de coordenadas cartesianas con $[1, 0]$ (el eje $X$) es $a\\cos(\\theta)$."
   ]
  },
  {
   "cell_type": "markdown",
   "metadata": {
    "lang": "es",
    "slideshow": {
     "slide_type": "slide"
    }
   },
   "source": [
    "Como otro ejemplo, considere dos vectores con longitudes 2 y 1, respectivamente, que forman ángulos (en sentido antihorario) de $60^{o}$ y $−15^{o}$ con respecto al eje $X$ en una configuración de dimensiones $2$."
   ]
  },
  {
   "cell_type": "markdown",
   "metadata": {
    "lang": "es"
   },
   "source": [
    "Estos vectores se muestran en la Figura 1.2."
   ]
  },
  {
   "cell_type": "markdown",
   "metadata": {
    "slideshow": {
     "slide_type": "slide"
    }
   },
   "source": [
    "<img src = 'https://github.com/marco-canas/innovaciones/blob/main/ref/charu/ch_1/figura_1_2.JPG?raw=true'>"
   ]
  },
  {
   "cell_type": "markdown",
   "metadata": {
    "lang": "es",
    "slideshow": {
     "slide_type": "slide"
    }
   },
   "source": [
    "Las coordenadas de estos vectores son $[2\\cos(60), 2\\sin(60)] = [1, \\sqrt{3}]$ y $[\\cos(−15), \\sin(−15)] = [0.966,−0.259]$."
   ]
  },
  {
   "cell_type": "markdown",
   "metadata": {
    "lang": "es",
    "slideshow": {
     "slide_type": "slide"
    }
   },
   "source": [
    "La función coseno entre dos vectores $\\overline{x} = [x_{1}, \\ldots, x_{d}]$ y $\\overline{y} = [y_{i},\\ldots, y_{d}]$ se define algebraicamente por el producto escalar entre los dos vectores después de escalarlos a la norma unitaria:"
   ]
  },
  {
   "cell_type": "markdown",
   "metadata": {
    "slideshow": {
     "slide_type": "slide"
    }
   },
   "source": [
    "$$ \\cos(x,y) = \\frac{x\\cdot y}{\\sqrt{x\\cdot x}\\sqrt{y \\cdot y}} = \\frac{x \\cdot y}{\\Vert x \\Vert \\Vert y \\Vert} $$"
   ]
  },
  {
   "cell_type": "markdown",
   "metadata": {
    "lang": "es",
    "slideshow": {
     "slide_type": "slide"
    }
   },
   "source": [
    "La función coseno calculada algebraicamente sobre $x$ y $y$ tiene la interpretación trigonométrica normal de ser igual a $cos(\\theta)$, donde $\\theta$ es el ángulo entre los vectores $x$ y $y$."
   ]
  },
  {
   "cell_type": "markdown",
   "metadata": {
    "slideshow": {
     "slide_type": "slide"
    }
   },
   "source": [
    "For example, the two vectors $A$ and $B$ in Figure 1.2 are at an angle of $75^{o}$ to each other, and have norms of $1$ and $2$, respectively. "
   ]
  },
  {
   "cell_type": "markdown",
   "metadata": {
    "slideshow": {
     "slide_type": "slide"
    }
   },
   "source": [
    "Then, the algebraically computed cosine function over the pair $[A,B]$ is equal to the expected trigonometric value of cos(75):"
   ]
  },
  {
   "cell_type": "markdown",
   "metadata": {
    "slideshow": {
     "slide_type": "slide"
    }
   },
   "source": [
    "$$ \\cos(A,B) = \\frac{0.966 \\times 1 + 0.259 \\times \\sqrt{3}}{1 \\times 2} \\approx 0.259 \\approx \\cos(75) $$"
   ]
  },
  {
   "cell_type": "markdown",
   "metadata": {
    "lang": "es",
    "slideshow": {
     "slide_type": "slide"
    }
   },
   "source": [
    "Para comprender por qué el producto escalar algebraico entre dos vectores produce el valor del coseno trigonométrico, se puede utilizar la ley del coseno de la geometría euclidiana."
   ]
  },
  {
   "cell_type": "markdown",
   "metadata": {
    "lang": "es",
    "slideshow": {
     "slide_type": "slide"
    }
   },
   "source": [
    "Considere el triángulo creado por el origen, $\\overline{x} = [x_{1}, \\ldots , x_{d}]$ y $\\overline{y} = [y_{1}, \\ldots, y_{d}]$."
   ]
  },
  {
   "cell_type": "markdown",
   "metadata": {
    "lang": "es",
    "slideshow": {
     "slide_type": "slide"
    }
   },
   "source": [
    "Queremos encontrar el ángulo $\\theta$ entre $x$ y $y$."
   ]
  },
  {
   "cell_type": "markdown",
   "metadata": {
    "lang": "es",
    "slideshow": {
     "slide_type": "slide"
    }
   },
   "source": [
    "Las longitudes de los lados euclidianos de este triángulo son $a = \\Vert x \\Vert$, $b = \\Vert y \\Vert$ y $c = \\Vert x − y \\Vert$."
   ]
  },
  {
   "cell_type": "markdown",
   "metadata": {
    "lang": "es",
    "slideshow": {
     "slide_type": "slide"
    }
   },
   "source": [
    "La ley del coseno proporciona una fórmula para el ángulo $\\theta$ en términos de longitudes de los lados de la siguiente manera:"
   ]
  },
  {
   "cell_type": "markdown",
   "metadata": {
    "slideshow": {
     "slide_type": "slide"
    }
   },
   "source": [
    "$$ \\cos(\\theta) = \\frac{a^{2} + b^{2} - c^{2}}{ 2ab} = \\frac{\\Vert x \\Vert^{2} + \\Vert y \\Vert^{2} - \\Vert x-y \\Vert^{2} }{2\\Vert x \\Vert \\Vert y\\Vert} = \\frac{x \\cdot y}{\\sqrt{x \\cdot x} \\sqrt{y \\cdot y}} $$"
   ]
  },
  {
   "cell_type": "markdown",
   "metadata": {
    "lang": "es",
    "slideshow": {
     "slide_type": "slide"
    }
   },
   "source": [
    "La segunda relación se obtiene expandiendo $\\Vert x−y \\Vert^{2}$ como $(x−y) \\cdot (x−y)$ y luego usando la propiedad distributiva de los productos escalares."
   ]
  },
  {
   "cell_type": "markdown",
   "metadata": {
    "lang": "es",
    "slideshow": {
     "slide_type": "slide"
    }
   },
   "source": [
    "Casi todas las maravillosas propiedades geométricas de los espacios euclidianos se pueden rastrear algebraicamente a esta relación simple entre el producto escalar y el coseno trigonométrico."
   ]
  },
  {
   "cell_type": "markdown",
   "metadata": {
    "lang": "es",
    "slideshow": {
     "slide_type": "slide"
    }
   },
   "source": [
    "El álgebra simple de la operación del producto escalar esconde una gran cantidad de geometría euclidiana compleja."
   ]
  },
  {
   "cell_type": "markdown",
   "metadata": {
    "lang": "es",
    "slideshow": {
     "slide_type": "slide"
    }
   },
   "source": [
    "Los ejercicios al final de este capítulo muestran que muchas identidades geométricas y trigonométricas básicas se pueden probar muy fácilmente con la manipulación algebraica de productos punto."
   ]
  },
  {
   "cell_type": "markdown",
   "metadata": {
    "lang": "es",
    "slideshow": {
     "slide_type": "slide"
    }
   },
   "source": [
    "Un par de vectores es ortogonal si su producto escalar es $0$ y el ángulo entre ellos es $90^{o}$ (para vectores distintos de cero)."
   ]
  },
  {
   "cell_type": "markdown",
   "metadata": {
    "lang": "es",
    "slideshow": {
     "slide_type": "slide"
    }
   },
   "source": [
    "El vector $0$ se considera ortogonal a cada vector."
   ]
  },
  {
   "cell_type": "markdown",
   "metadata": {
    "lang": "es",
    "slideshow": {
     "slide_type": "slide"
    }
   },
   "source": [
    "Un conjunto de vectores es ortonormal si cada par del conjunto es mutuamente ortogonal y la norma de cada uno\n",
    "vector es 1."
   ]
  },
  {
   "cell_type": "markdown",
   "metadata": {
    "lang": "es",
    "slideshow": {
     "slide_type": "slide"
    }
   },
   "source": [
    "Las direcciones ortonormales son útiles porque se emplean para transformaciones de puntos en diferentes sistemas de coordenadas ortogonales con el uso de proyecciones unidimensionales."
   ]
  },
  {
   "cell_type": "markdown",
   "metadata": {
    "lang": "es",
    "slideshow": {
     "slide_type": "slide"
    }
   },
   "source": [
    "En otras palabras, se puede calcular un nuevo conjunto de coordenadas de un punto de datos con respecto al conjunto modificado de direcciones."
   ]
  },
  {
   "cell_type": "markdown",
   "metadata": {
    "lang": "es",
    "slideshow": {
     "slide_type": "slide"
    }
   },
   "source": [
    "Este enfoque se conoce como transformación de coordenadas en geometría analítica y también se usa con frecuencia en álgebra lineal."
   ]
  },
  {
   "cell_type": "markdown",
   "metadata": {
    "lang": "es",
    "slideshow": {
     "slide_type": "slide"
    }
   },
   "source": [
    "La operación de proyección unidimensional de un vector $x$ en un vector unitario se define como el producto escalar entre los dos vectores."
   ]
  },
  {
   "cell_type": "markdown",
   "metadata": {
    "lang": "es",
    "slideshow": {
     "slide_type": "slide"
    }
   },
   "source": [
    "Tiene una interpretación geométrica natural como la distancia (positiva o negativa) de $x$ desde el origen en la dirección del vector unitario y, por lo tanto, se considera una coordenada en esa dirección."
   ]
  },
  {
   "cell_type": "markdown",
   "metadata": {
    "lang": "es",
    "slideshow": {
     "slide_type": "slide"
    }
   },
   "source": [
    "Considere el punto $[10, 15]$ en un sistema de coordenadas bidimensional."
   ]
  },
  {
   "cell_type": "markdown",
   "metadata": {
    "lang": "es",
    "slideshow": {
     "slide_type": "slide"
    }
   },
   "source": [
    "Ahora imagina que te dieron las direcciones ortonormales $[3/5, 4/5]$ y $[−4/5, 3/5]$."
   ]
  },
  {
   "cell_type": "markdown",
   "metadata": {
    "lang": "es",
    "slideshow": {
     "slide_type": "slide"
    }
   },
   "source": [
    "Se puede representar el punto $[10, 15]$ en un nuevo sistema de coordenadas definido por las direcciones $[3/5, 4/5]$ y $[−4/5, 3/5]$ calculando el producto escalar de $[10, 15]$ con cada uno de estos vectores."
   ]
  },
  {
   "cell_type": "markdown",
   "metadata": {
    "lang": "es",
    "slideshow": {
     "slide_type": "slide"
    }
   },
   "source": [
    "Por lo tanto, las nuevas coordenadas $[x', y']$ se definen de la siguiente manera:"
   ]
  },
  {
   "cell_type": "markdown",
   "metadata": {
    "slideshow": {
     "slide_type": "slide"
    }
   },
   "source": [
    "$$ x' = 10\\ast (3/5) + 15\\ast(4/5) = 18, \\qquad y' = 10\\ast(-4/5) + 15\\ast(3/5) = 1 $$"
   ]
  },
  {
   "cell_type": "markdown",
   "metadata": {
    "lang": "es",
    "slideshow": {
     "slide_type": "slide"
    }
   },
   "source": [
    "Uno puede expresar el vector original usando los nuevos ejes y coordenadas de la siguiente manera:"
   ]
  },
  {
   "cell_type": "markdown",
   "metadata": {
    "slideshow": {
     "slide_type": "slide"
    }
   },
   "source": [
    "$$ [10,15] = x'[3/5,4/5] + y'[-4/5,3/5] $$"
   ]
  },
  {
   "cell_type": "markdown",
   "metadata": {
    "lang": "es",
    "slideshow": {
     "slide_type": "slide"
    }
   },
   "source": [
    "Este tipo de transformaciones de vectores en nuevas representaciones se encuentran en el corazón del álgebra lineal."
   ]
  },
  {
   "cell_type": "markdown",
   "metadata": {
    "lang": "es",
    "slideshow": {
     "slide_type": "slide"
    }
   },
   "source": [
    "En muchos casos, las representaciones transformadas de conjuntos de datos (por ejemplo, reemplazar cada $[x, y]$ en un conjunto de datos bidimensionales con $[x', y']$) tienen propiedades útiles, que son explotadas por aplicaciones de aprendizaje automático."
   ]
  },
  {
   "cell_type": "markdown",
   "metadata": {
    "lang": "es",
    "slideshow": {
     "slide_type": "slide"
    }
   },
   "source": [
    "## 1.2.2 Operaciones básicas con vectores y matrices"
   ]
  },
  {
   "cell_type": "markdown",
   "metadata": {
    "lang": "es",
    "slideshow": {
     "slide_type": "slide"
    }
   },
   "source": [
    "La transposición de una matriz se obtiene volteando sus filas y columnas."
   ]
  },
  {
   "cell_type": "markdown",
   "metadata": {
    "lang": "es",
    "slideshow": {
     "slide_type": "slide"
    }
   },
   "source": [
    "En otras palabras, la entrada $(i, j)$ - ésima de la transposición es la misma que la entrada $(j, i)$ - ésima de la matriz original."
   ]
  },
  {
   "cell_type": "markdown",
   "metadata": {
    "lang": "es",
    "slideshow": {
     "slide_type": "slide"
    }
   },
   "source": [
    "Por lo tanto, la transposición de una matriz $n \\times d$ es una matriz $d \\times n$."
   ]
  },
  {
   "cell_type": "markdown",
   "metadata": {
    "lang": "es",
    "slideshow": {
     "slide_type": "slide"
    }
   },
   "source": [
    "La transposición de una matriz $A$ se denota por $A^{T}$."
   ]
  },
  {
   "cell_type": "markdown",
   "metadata": {
    "lang": "es",
    "slideshow": {
     "slide_type": "slide"
    }
   },
   "source": [
    "A continuación se muestra un ejemplo de una operación de transposición:"
   ]
  },
  {
   "cell_type": "markdown",
   "metadata": {
    "slideshow": {
     "slide_type": "slide"
    }
   },
   "source": [
    "$$ \\begin{bmatrix} a_{11} & a_{12} \\\\ a_{21} & a_{22} \\\\ a_{31} & a_{32} \\end{bmatrix}^{T} = \\begin{bmatrix} a_{11} & a_{21} & a_{31} \\\\ a_{12} & a_{22} & a_{32} \\end{bmatrix} $$"
   ]
  },
  {
   "cell_type": "markdown",
   "metadata": {
    "lang": "es",
    "slideshow": {
     "slide_type": "slide"
    }
   },
   "source": [
    "Es fácil ver que la transposición de la transposición $(A^{T})^{T}$ de una matriz $A$ es la matriz original $A$."
   ]
  },
  {
   "cell_type": "markdown",
   "metadata": {
    "lang": "es",
    "slideshow": {
     "slide_type": "slide"
    }
   },
   "source": [
    "Al igual que las matrices, los vectores fila se pueden transponer a vectores columna y viceversa."
   ]
  },
  {
   "cell_type": "markdown",
   "metadata": {
    "slideshow": {
     "slide_type": "slide"
    }
   },
   "source": [
    "Like vectors, matrices can be added only if they have exactly the same sizes. "
   ]
  },
  {
   "cell_type": "markdown",
   "metadata": {
    "slideshow": {
     "slide_type": "slide"
    }
   },
   "source": [
    "For example, one can add the matrices $A$ and $B$ only if $A$ and $B$ have exactly the same number of rows and columns. "
   ]
  },
  {
   "cell_type": "markdown",
   "metadata": {
    "lang": "es",
    "slideshow": {
     "slide_type": "slide"
    }
   },
   "source": [
    "La entrada $(i, j)$ ésima de $A + B$ es la suma de las entradas $(i, j)$ ésima de A y B, respectivamente."
   ]
  },
  {
   "cell_type": "markdown",
   "metadata": {
    "lang": "es",
    "slideshow": {
     "slide_type": "slide"
    }
   },
   "source": [
    "El operador de suma de matrices es conmutativo, porque hereda la propiedad conmutativa de la suma escalar de sus entradas individuales."
   ]
  },
  {
   "cell_type": "markdown",
   "metadata": {
    "lang": "es",
    "slideshow": {
     "slide_type": "slide"
    }
   },
   "source": [
    "Por tanto, tenemos:"
   ]
  },
  {
   "cell_type": "markdown",
   "metadata": {
    "slideshow": {
     "slide_type": "slide"
    }
   },
   "source": [
    "$$ A + B = B+ A $$"
   ]
  },
  {
   "cell_type": "markdown",
   "metadata": {
    "lang": "es",
    "slideshow": {
     "slide_type": "slide"
    }
   },
   "source": [
    "Una matriz cero o una matriz nula es la matriz análoga del valor escalar de 0, y contiene solo ceros."
   ]
  },
  {
   "cell_type": "markdown",
   "metadata": {
    "lang": "es",
    "slideshow": {
     "slide_type": "slide"
    }
   },
   "source": [
    "A menudo se escribe simplemente como \"0\" aunque sea una matriz."
   ]
  },
  {
   "cell_type": "markdown",
   "metadata": {
    "lang": "es",
    "slideshow": {
     "slide_type": "slide"
    }
   },
   "source": [
    "Se puede agregar a una matriz del mismo tamaño sin afectar sus valores:"
   ]
  },
  {
   "cell_type": "markdown",
   "metadata": {
    "slideshow": {
     "slide_type": "slide"
    }
   },
   "source": [
    "$$ A + 0 = A $$"
   ]
  },
  {
   "cell_type": "markdown",
   "metadata": {
    "lang": "es",
    "slideshow": {
     "slide_type": "slide"
    }
   },
   "source": [
    "Tenga en cuenta que las matrices, los vectores y los escalares tienen su propia definición de un elemento cero, que se requiere para obedecer la identidad aditiva anterior."
   ]
  },
  {
   "cell_type": "markdown",
   "metadata": {
    "lang": "es",
    "slideshow": {
     "slide_type": "slide"
    }
   },
   "source": [
    "Para los vectores, el elemento cero es el vector de ceros y se escribe como \"0\" con una barra superior en la parte superior."
   ]
  },
  {
   "cell_type": "markdown",
   "metadata": {
    "lang": "es",
    "slideshow": {
     "slide_type": "slide"
    }
   },
   "source": [
    "Es fácil demostrar que la transpuesta de la suma de dos matrices $A = [aij]$ y $B = [bij]$ viene dada por la suma de sus transposiciones."
   ]
  },
  {
   "cell_type": "markdown",
   "metadata": {
    "lang": "es",
    "slideshow": {
     "slide_type": "slide"
    }
   },
   "source": [
    "En otras palabras, tenemos la siguiente relación:"
   ]
  },
  {
   "cell_type": "markdown",
   "metadata": {
    "slideshow": {
     "slide_type": "slide"
    }
   },
   "source": [
    "$$ (A + B)^{T} = A^{T} + B^{T} $$"
   ]
  },
  {
   "cell_type": "markdown",
   "metadata": {
    "lang": "es",
    "slideshow": {
     "slide_type": "slide"
    }
   },
   "source": [
    "El resultado se puede probar demostrando que el elemento $(i, j)$ - ésimo de ambos lados de la ecuación anterior es $(a_{ji} + b_{ji})$."
   ]
  },
  {
   "cell_type": "markdown",
   "metadata": {
    "slideshow": {
     "slide_type": "slide"
    }
   },
   "source": [
    "An $n \\times d$ matrix $A$ can either be multiplied with a d-dimensional column vector $\\overline{x}$ as $A\\overline{x}$, or it can be multiplied with an n-dimensional row vector $y$ as $yA$. "
   ]
  },
  {
   "cell_type": "markdown",
   "metadata": {
    "lang": "es",
    "slideshow": {
     "slide_type": "slide"
    }
   },
   "source": [
    "Cuando se multiplica una matriz $A$ de $n \\times d$ con el vector de columna $d$-dimensional $x$ para crear $Ax$, se realiza una multiplicación de elementos entre los $d$ elementos de cada fila de la matriz $A$ y los $d$ elementos del vector de columna $x$, y luego estos elementos -se agregan productos para crear un escalar."
   ]
  },
  {
   "cell_type": "markdown",
   "metadata": {
    "lang": "es",
    "slideshow": {
     "slide_type": "slide"
    }
   },
   "source": [
    "Tenga en cuenta que esta operación es la misma que el producto escalar, excepto que es necesario transponer las filas de $A$ a vectores de columna para expresarlo rigurosamente como un producto escalar."
   ]
  },
  {
   "cell_type": "markdown",
   "metadata": {
    "lang": "es",
    "slideshow": {
     "slide_type": "slide"
    }
   },
   "source": [
    "Esto se debe a que los productos escalares se definen entre dos vectores del mismo tipo (es decir, vectores de fila o vectores de columna)."
   ]
  },
  {
   "cell_type": "markdown",
   "metadata": {
    "lang": "en",
    "slideshow": {
     "slide_type": "slide"
    }
   },
   "source": [
    "At the end of the process, $n$ scalars are computed and arranged into an $n$-dimensional column vector in which the ith element is the product between the ith row of A and $x$. "
   ]
  },
  {
   "cell_type": "markdown",
   "metadata": {
    "lang": "es",
    "slideshow": {
     "slide_type": "slide"
    }
   },
   "source": [
    "Al final del proceso, los $n$ escalares se calculan y organizan en un vector de columna $n$ dimensional en el que el i-ésimo elemento es el producto entre la i-ésima fila de $A$ y $x$."
   ]
  },
  {
   "cell_type": "markdown",
   "metadata": {
    "lang": "es",
    "slideshow": {
     "slide_type": "slide"
    }
   },
   "source": [
    "A continuación se muestra un ejemplo de una multiplicación de una matriz $3 \\times 2$ $A = [a_{ij}]$ con un vector de columna bidimensional $x = [x_{1}, x_{2}]^{T}$:"
   ]
  },
  {
   "cell_type": "markdown",
   "metadata": {
    "slideshow": {
     "slide_type": "slide"
    }
   },
   "source": [
    "$$ \\begin{bmatrix}a_{11} & a_{12} \\\\ a_{21} & a_{22} \\\\ a_{31} & a_{32} \\end{bmatrix} \\begin{bmatrix}x_{1} \\\\ x_{2} \\end{bmatrix}  = \\begin{bmatrix} a_{11}x_{1} + a_{12}x_{2} \\\\ a_{21}x_{1} + a_{22}x_{2} \\\\ a_{31}x_{1} + a_{32}x_{2} \\end{bmatrix}  $$"
   ]
  },
  {
   "cell_type": "markdown",
   "metadata": {
    "lang": "es",
    "slideshow": {
     "slide_type": "slide"
    }
   },
   "source": [
    "También se puede post-multiplicar un vector de fila $n$-dimensional con una matriz $n \\times d$ $A = [a_{ij}]$ para crear un vector de fila $d$-dimensional."
   ]
  },
  {
   "cell_type": "markdown",
   "metadata": {
    "lang": "es",
    "slideshow": {
     "slide_type": "slide"
    }
   },
   "source": [
    "A continuación se muestra un ejemplo de la multiplicación de un vector de fila tridimensional $v = [v_{1}, v_{2}, v_{3}]$ con la matriz $3 \\times 2$ $A$:"
   ]
  },
  {
   "cell_type": "markdown",
   "metadata": {
    "slideshow": {
     "slide_type": "slide"
    }
   },
   "source": [
    "$$ \\begin{bmatrix} v_{1} & v_{2} & v_{3} \\end{bmatrix} \\begin{bmatrix} a_{11} & a_{12} \\\\ a_{21} & a_{22} \\\\ a_{31} & a_{32} \\end{bmatrix} = \\begin{bmatrix} v_{1}a_{11} + v_{2}a_{21} + v_{3}a_{31} & v_{1}a_{12} + v_{2}a_{22} + v_{3}a_{32} \\end{bmatrix} $$"
   ]
  },
  {
   "cell_type": "markdown",
   "metadata": {
    "lang": "es",
    "slideshow": {
     "slide_type": "slide"
    }
   },
   "source": [
    "Está claro que la operación de multiplicación entre matrices y vectores no es conmutativa."
   ]
  },
  {
   "cell_type": "markdown",
   "metadata": {
    "lang": "es",
    "slideshow": {
     "slide_type": "slide"
    }
   },
   "source": [
    "La multiplicación de una matriz $n \\times d$ $A$ con un vector de columna $d$-dimensional $x$ para crear un vector de columna $n$-dimensional $Ax$ a menudo se interpreta como una transformación lineal del espacio $d$-dimensional al espacio $n$-dimensional."
   ]
  },
  {
   "cell_type": "markdown",
   "metadata": {
    "lang": "es",
    "slideshow": {
     "slide_type": "slide"
    }
   },
   "source": [
    "La definición matemática precisa de una transformación lineal se da en el Capítulo 2."
   ]
  },
  {
   "cell_type": "markdown",
   "metadata": {
    "lang": "es",
    "slideshow": {
     "slide_type": "slide"
    }
   },
   "source": [
    "Por ahora, le pedimos al lector que observe que el resultado de la multiplicación es una suma ponderada de las columnas de la matriz $A$, donde los pesos son proporcionados por los componentes escalares del vector $x$."
   ]
  },
  {
   "cell_type": "markdown",
   "metadata": {
    "lang": "es",
    "slideshow": {
     "slide_type": "slide"
    }
   },
   "source": [
    "Por ejemplo, se puede reescribir la multiplicación matricial vectorial de la Ecuación 1.7 de la siguiente manera:"
   ]
  },
  {
   "cell_type": "markdown",
   "metadata": {
    "slideshow": {
     "slide_type": "slide"
    }
   },
   "source": [
    "$$ \\begin{bmatrix} a_{11} & a_{12} \\\\ a_{21} & a_{22} \\\\ a_{31} & a_{32} \\end{bmatrix} \\begin{bmatrix}x_{1} \\\\ x_{2} \\end{bmatrix} = x_{1}\\begin{bmatrix} a_{11} \\\\ a_{21} \\\\ a_{31} \\end{bmatrix} + x_{2}\\begin{bmatrix} a_{12} \\\\ a_{22} \\\\ a_{32} \\end{bmatrix}$$"
   ]
  },
  {
   "cell_type": "markdown",
   "metadata": {
    "lang": "es",
    "slideshow": {
     "slide_type": "slide"
    }
   },
   "source": [
    "Aquí, un vector bidimensional se asigna a un vector tridimensional como una combinación ponderada de las columnas de la matriz."
   ]
  },
  {
   "cell_type": "markdown",
   "metadata": {
    "lang": "es",
    "slideshow": {
     "slide_type": "slide"
    }
   },
   "source": [
    "Por lo tanto, la matriz $n \\times d$ $A$ se representa ocasionalmente en términos de su conjunto ordenado de columnas $n$-dimensionales $\\overline{a}_{1} . . . \\overline{a}_{d}$ como $A = [\\overline{a}_{1} . . . \\overline{a}_{d}]$."
   ]
  },
  {
   "cell_type": "markdown",
   "metadata": {
    "lang": "es",
    "slideshow": {
     "slide_type": "slide"
    }
   },
   "source": [
    "Esto da como resultado la siguiente forma de multiplicación matriz-vector utilizando las columnas de $A$ y un vector de columna $\\overline{x} = [x_{1} . . . x_{d}]^{T}$ de coeficientes:"
   ]
  },
  {
   "cell_type": "markdown",
   "metadata": {
    "slideshow": {
     "slide_type": "slide"
    }
   },
   "source": [
    "$$ A\\overline{x} = \\sum_{i = 1}^{d} x_{i}\\overline{a}_{i} = \\overline{b} $$"
   ]
  },
  {
   "cell_type": "markdown",
   "metadata": {
    "lang": "es"
   },
   "source": [
    "Cada $x_{i}$ corresponde al \"peso\" de la i-ésima dirección ai, que también se conoce como la i-ésima coordenada de b usando las direcciones (posiblemente no ortogonales) contenidas en las columnas de A."
   ]
  },
  {
   "cell_type": "markdown",
   "metadata": {
    "slideshow": {
     "slide_type": "slide"
    }
   },
   "source": [
    "This notion is a generalization of the (orthogonal) Cartesian coordinates defined by d-dimensional vectors $\\overline{e}_{1} . . . \\overline{e}_{d}$, where each $ei$ is an axis direction with a single 1 in the ith position and remaining 0s. "
   ]
  },
  {
   "cell_type": "markdown",
   "metadata": {
    "slideshow": {
     "slide_type": "slide"
    }
   },
   "source": [
    "For the case of the Cartesian system defined by $\\overline{e}_{1} . . . \\overline{e}_{d}$, the coordinates of $b = [b_{1} . . . b_{d}]^{T}$ are simply $b_{1} . . . b_{d}$, since we have $\\overline{b} = \\sum_{i = 1}^{d}b_{i}\\overline{e}_{i}$."
   ]
  },
  {
   "cell_type": "markdown",
   "metadata": {
    "slideshow": {
     "slide_type": "slide"
    }
   },
   "source": [
    "The dot product between two vectors can be viewed as a special case of matrix-vector multiplication. "
   ]
  },
  {
   "cell_type": "markdown",
   "metadata": {
    "slideshow": {
     "slide_type": "slide"
    }
   },
   "source": [
    "In such a case, a $1 \\times d$ matrix (row vector) is multiplied with a $d\\times 1$ matrix (column vector), and the result is the same as one would obtain by performing a dot product between the two vectors. "
   ]
  },
  {
   "cell_type": "markdown",
   "metadata": {
    "slideshow": {
     "slide_type": "slide"
    }
   },
   "source": [
    "However, a subtle difference is that the dot product is defined between two vectors of the same type (typically column vectors) rather than between the matrix representation of a row vector and the matrix representation of a column vector. "
   ]
  },
  {
   "cell_type": "markdown",
   "metadata": {
    "slideshow": {
     "slide_type": "slide"
    }
   },
   "source": [
    "In order to implement a dot product as a matrix-matrix multiplication, we would first need to convert one of the column vectors into the matrix representation of a row vector, and then perform the matrix multiplication by ordering the “wide” matrix (row vector) before the “tall” matrix (column vector). "
   ]
  },
  {
   "cell_type": "markdown",
   "metadata": {
    "slideshow": {
     "slide_type": "slide"
    }
   },
   "source": [
    "The resulting $1 \\times 1$ matrix contains the dot product."
   ]
  },
  {
   "cell_type": "markdown",
   "metadata": {
    "slideshow": {
     "slide_type": "slide"
    }
   },
   "source": [
    "For example, consider the dot product in matrix form, which is obtained by matrix-centric multiplication of a row vector with a column vector:"
   ]
  },
  {
   "cell_type": "markdown",
   "metadata": {
    "slideshow": {
     "slide_type": "slide"
    }
   },
   "source": [
    "$$ \\overline{v} \\cdot \\overline{x} = \\begin{bmatrix} v_{1} & v_{2} & v_{3} \\end{bmatrix} \\begin{bmatrix} x_{1} \\\\ x_{2} \\\\ x_{3} \\end{bmatrix} = \\begin{bmatrix}v_{1}x_{1} + v_{2}x_{2} + v_{3}x_{3} \\end{bmatrix}   $$"
   ]
  },
  {
   "cell_type": "markdown",
   "metadata": {
    "slideshow": {
     "slide_type": "slide"
    }
   },
   "source": [
    "The result of the matrix multiplication is a $1 \\times 1$ matrix containing the dot product, which is a scalar. "
   ]
  },
  {
   "cell_type": "markdown",
   "metadata": {
    "slideshow": {
     "slide_type": "slide"
    }
   },
   "source": [
    "It is clear that we always obtain the same $1 \\times 1$ matrix, irrespective of the order of the arguments in the dot product, as long as we transpose the first vector in order to place the “wide” matrix before the “tall” matrix:"
   ]
  },
  {
   "cell_type": "markdown",
   "metadata": {
    "slideshow": {
     "slide_type": "slide"
    }
   },
   "source": [
    "$$ \\overline{x} \\cdot \\overline{v} = \\overline{v} \\cdot \\overline{x}, \\qquad \\quad \\overline{x}^{T}\\overline{v} = \\overline{v}^{T}\\overline{x} $$"
   ]
  },
  {
   "cell_type": "markdown",
   "metadata": {
    "slideshow": {
     "slide_type": "slide"
    }
   },
   "source": [
    "Therefore, dot products are commutative."
   ]
  },
  {
   "cell_type": "markdown",
   "metadata": {
    "slideshow": {
     "slide_type": "slide"
    }
   },
   "source": [
    "However, if we order the “tall” matrix before the “wide” matrix, what we obtain is the outer product between the two vectors. "
   ]
  },
  {
   "cell_type": "markdown",
   "metadata": {
    "slideshow": {
     "slide_type": "slide"
    }
   },
   "source": [
    "The outer product between two 3-dimensional vectors is a $3 \\times 3$ matrix! "
   ]
  },
  {
   "cell_type": "markdown",
   "metadata": {
    "slideshow": {
     "slide_type": "slide"
    }
   },
   "source": [
    "In vector form, the outer product is defined between two column vectors $x$ and $v$ and is denoted by $x \\otimes v$. "
   ]
  },
  {
   "cell_type": "markdown",
   "metadata": {
    "slideshow": {
     "slide_type": "slide"
    }
   },
   "source": [
    "However, it is easiest to understand the outer product by using the matrix representation of the vectors for multiplication, wherein the first of the vectors is converted into a column vector representation (if needed), and the second of the two vectors is converted into a row vector representation (if needed). "
   ]
  },
  {
   "cell_type": "markdown",
   "metadata": {
    "slideshow": {
     "slide_type": "slide"
    }
   },
   "source": [
    "In other words, the “tall” matrix is always ordered before the “wide” matrix:"
   ]
  },
  {
   "cell_type": "markdown",
   "metadata": {
    "slideshow": {
     "slide_type": "slide"
    }
   },
   "source": [
    "$$  \\overline{x} \\otimes \\overline{v} = \\overline{x}\\overline{v}^{T} = \\begin{bmatrix} x_{1} \\\\ x_{2} \\\\ x_{3} \\end{bmatrix} \\begin{bmatrix} v_{1} & v_{2} & v_{3} \\end{bmatrix}  = \\begin{bmatrix} v_{1}x_{1} &  v_{2}x_{1} & v_{3}x_{1} \\\\ v_{1}x_{2} & v_{2}x_{2} & v_{3}x_{2} \\\\ v_{1}x_{3} & v_{2}x_{3} & v_{3}x_{3} \\end{bmatrix} $$ "
   ]
  },
  {
   "cell_type": "code",
   "execution_count": 56,
   "metadata": {
    "slideshow": {
     "slide_type": "slide"
    }
   },
   "outputs": [
    {
     "name": "stdout",
     "output_type": "stream",
     "text": [
      "Matrix([[x1], [x2], [x3]]) Matrix([[v1, v2, v3]])\n"
     ]
    },
    {
     "data": {
      "text/latex": [
       "$\\displaystyle \\left[\\begin{matrix}v_{1} & v_{2} & v_{3}\\end{matrix}\\right]$"
      ],
      "text/plain": [
       "Matrix([[v1, v2, v3]])"
      ]
     },
     "execution_count": 56,
     "metadata": {},
     "output_type": "execute_result"
    }
   ],
   "source": [
    "from sympy import * \n",
    "x1,x2,x3,v1,v2,v3 = symbols('x1 x2 x3 v1 v2 v3')\n",
    "x = Matrix([[x1],[x2],[x3]])\n",
    "v = Matrix([[v1,v2,v3]])  \n",
    "print(x,v)  \n",
    "v "
   ]
  },
  {
   "cell_type": "code",
   "execution_count": 57,
   "metadata": {
    "slideshow": {
     "slide_type": "slide"
    }
   },
   "outputs": [
    {
     "data": {
      "text/latex": [
       "$\\displaystyle \\left[\\begin{matrix}v_{1} x_{1} & v_{2} x_{1} & v_{3} x_{1}\\\\v_{1} x_{2} & v_{2} x_{2} & v_{3} x_{2}\\\\v_{1} x_{3} & v_{2} x_{3} & v_{3} x_{3}\\end{matrix}\\right]$"
      ],
      "text/plain": [
       "Matrix([\n",
       "[v1*x1, v2*x1, v3*x1],\n",
       "[v1*x2, v2*x2, v3*x2],\n",
       "[v1*x3, v2*x3, v3*x3]])"
      ]
     },
     "execution_count": 57,
     "metadata": {},
     "output_type": "execute_result"
    }
   ],
   "source": [
    "x*v "
   ]
  },
  {
   "cell_type": "markdown",
   "metadata": {
    "slideshow": {
     "slide_type": "slide"
    }
   },
   "source": [
    "Unlike dot products, outer products can be performed between two vectors of different lengths. "
   ]
  },
  {
   "cell_type": "markdown",
   "metadata": {
    "slideshow": {
     "slide_type": "slide"
    }
   },
   "source": [
    "Conventionally, outer products are defined between two column vectors, and the second vector is transposed into a matrix containing a single row before matrix multiplication."
   ]
  },
  {
   "cell_type": "markdown",
   "metadata": {
    "slideshow": {
     "slide_type": "slide"
    }
   },
   "source": [
    "In other words, the jth component of the second vector (in d dimensions) becomes the $(1, j)$th element of the second matrix (of size $1 \\times d$) in the multiplication. "
   ]
  },
  {
   "cell_type": "markdown",
   "metadata": {
    "slideshow": {
     "slide_type": "slide"
    }
   },
   "source": [
    "The first matrix is simply a $d \\times  1$ matrix derived from the column vector. "
   ]
  },
  {
   "cell_type": "markdown",
   "metadata": {
    "slideshow": {
     "slide_type": "slide"
    }
   },
   "source": [
    "Unlike dot products, the outer product is not commutative; the order of the operands matters not only to the values in\n",
    "the final matrix, but also to the size of the final matrix:"
   ]
  },
  {
   "cell_type": "markdown",
   "metadata": {
    "slideshow": {
     "slide_type": "slide"
    }
   },
   "source": [
    "$$ \\overline{x} \\otimes \\overline{v} \\neq \\overline{v} \\otimes \\overline{x}, \\qquad \\quad  \\overline{x}\\overline{v}^{T} \\neq \\overline{v}\\overline{x}^{T} $$"
   ]
  },
  {
   "cell_type": "markdown",
   "metadata": {
    "slideshow": {
     "slide_type": "slide"
    }
   },
   "source": [
    "The multiplication between vectors, or the multiplication of a matrix with a vector, are both special cases of multiplying two matrices. "
   ]
  },
  {
   "cell_type": "markdown",
   "metadata": {
    "slideshow": {
     "slide_type": "slide"
    }
   },
   "source": [
    "However, in order to multiply two matrices, certain constraints on their sizes need to be respected. "
   ]
  },
  {
   "cell_type": "markdown",
   "metadata": {
    "slideshow": {
     "slide_type": "slide"
    }
   },
   "source": [
    "For example, an $n\\times k$ matrix U can be multiplied with a k×d matrix V only because the number of columns k in U is the same as the number of rows $k$ in $V$. "
   ]
  },
  {
   "cell_type": "markdown",
   "metadata": {
    "slideshow": {
     "slide_type": "slide"
    }
   },
   "source": [
    "The resulting matrix is of size $n \\times d$, in which the $(i, j)$th entry is the dot product between the vectors corresponding to the ith row of U and the $j$th column of V . "
   ]
  },
  {
   "cell_type": "markdown",
   "metadata": {
    "slideshow": {
     "slide_type": "slide"
    }
   },
   "source": [
    "Note that the dot product operations within the multiplication require the underlying vectors to be of the same sizes. "
   ]
  },
  {
   "cell_type": "markdown",
   "metadata": {
    "slideshow": {
     "slide_type": "slide"
    }
   },
   "source": [
    "The outer product between two vectors is a special case of matrix multiplication that uses $k = 1$ with arbitrary values of n and d; similarly, the inner product is a special case of matrix multiplication that uses $n = d = 1$, but some arbitrary value of $k$. "
   ]
  },
  {
   "cell_type": "markdown",
   "metadata": {
    "slideshow": {
     "slide_type": "slide"
    }
   },
   "source": [
    "Consider the case in which the $(i, j)$th entries of U and V are $u_{ij}$ and $v_{ij}$ , respectively. "
   ]
  },
  {
   "cell_type": "markdown",
   "metadata": {
    "lang": "es",
    "slideshow": {
     "slide_type": "slide"
    }
   },
   "source": [
    "Entonces, la entrada $(i, j)$ -ésima de $UV$ viene dada por lo siguiente:"
   ]
  },
  {
   "cell_type": "markdown",
   "metadata": {
    "slideshow": {
     "slide_type": "slide"
    }
   },
   "source": [
    "$$ (UV)_{ij} = \\sum_{r = 1}^{k} u_{ir}v_{rj} $$"
   ]
  },
  {
   "cell_type": "markdown",
   "metadata": {
    "slideshow": {
     "slide_type": "slide"
    }
   },
   "source": [
    "An example of a matrix multiplication is shown below:"
   ]
  },
  {
   "cell_type": "markdown",
   "metadata": {
    "slideshow": {
     "slide_type": "slide"
    }
   },
   "source": [
    "$$ \\begin{bmatrix} u_{11} & u_{12} \\\\  u_{21} & u_{22} \\\\  u_{31} & u_{32}  \\end{bmatrix} \\begin{bmatrix}v_{11} & v_{12} & v_{13} \\\\ v_{21} & v_{22} & v_{23} \\end{bmatrix}  = \\begin{bmatrix}u_{11}v_{11} + u_{12}v_{21} & u_{11}v_{12} + u_{12}v_{22} & u_{11}v_{13} + u_{12}v_{23} \\\\ \n",
    "u_{21}v_{11} + u_{22}v_{21} & u_{21}v_{12} + u_{22}v_{22} & u_{21}v_{13} + u_{22}v_{23} \\\\ u_{31}v_{11} + u_{32}v_{21} & u_{31}v_{12} + u_{32}v_{22} & u_{31}v_{13} + u_{32}v_{23} \\end{bmatrix}  $$"
   ]
  },
  {
   "cell_type": "markdown",
   "metadata": {
    "lang": "es",
    "slideshow": {
     "slide_type": "slide"
    }
   },
   "source": [
    "Tenga en cuenta que las dos multiplicaciones anteriores de matriz a vector y de vector a matriz pueden verse como casos especiales de esta operación más general."
   ]
  },
  {
   "cell_type": "markdown",
   "metadata": {
    "slideshow": {
     "slide_type": "slide"
    }
   },
   "source": [
    "This is because a d-dimensional row vector can be treated as an $1\\times d$ matrix and a n-dimensional column vector can be treated as a $n \\times 1$ matrix. "
   ]
  },
  {
   "cell_type": "markdown",
   "metadata": {
    "slideshow": {
     "slide_type": "slide"
    }
   },
   "source": [
    "For example, if we multiply this type of special $n \\times 1$ matrix with a $1 \\times d$ matrix, we will obtain an $n \\times d$ matrix with some special properties."
   ]
  },
  {
   "cell_type": "markdown",
   "metadata": {
    "lang": "es",
    "slideshow": {
     "slide_type": "slide"
    }
   },
   "source": [
    "**Problema 1.2.2 (Propiedades del producto externo)**\n",
    "\n",
    "Demuestre que si una matriz $n \\times 1$ se multiplica por una matriz $1 \\times d$ (que también es un producto externo entre dos vectores), obtenemos una matriz $n \\times d$ con las siguientes propiedades:\n",
    "\n",
    "(i) Cada fila es un múltiplo de cada otra fila, y  \n",
    "(ii) cada columna es un múltiplo de todas las demás columnas."
   ]
  },
  {
   "cell_type": "markdown",
   "metadata": {
    "slideshow": {
     "slide_type": "slide"
    }
   },
   "source": [
    "It is also possible to show that matrix products can be broken up into the sum of simpler matrices, each of which is an outer product of two vectors. "
   ]
  },
  {
   "cell_type": "markdown",
   "metadata": {
    "slideshow": {
     "slide_type": "slide"
    }
   },
   "source": [
    "We have already seen that each entry in a matrix product is itself an inner product of two vectors extracted from the matrix."
   ]
  },
  {
   "cell_type": "markdown",
   "metadata": {
    "slideshow": {
     "slide_type": "slide"
    }
   },
   "source": [
    "What about outer products? "
   ]
  },
  {
   "cell_type": "markdown",
   "metadata": {
    "slideshow": {
     "slide_type": "slide"
    }
   },
   "source": [
    "It can be shown that the entire matrix is the sum of as many outer products as the common dimension k of the two multiplied matrices:"
   ]
  },
  {
   "cell_type": "markdown",
   "metadata": {
    "lang": "es"
   },
   "source": [
    "## Lema 1.2.1 (Multiplicación de matrices como suma de productos externos)\n",
    "El producto de una matriz $n \\times  k$ $U$ con una matriz $k \\times  d$ $V$ da como resultado una matriz $n \\times d$, que se puede expresar como la suma de matrices de productos externos $k$; cada una de estas k matrices es el producto de una matriz $n \\times 1$ con una matriz $1 \\times d$.\n",
    "Cada matriz $n \\times 1$ corresponde a la i-ésima columna Ui de U y cada matriz 1 × d corresponde a la i-ésima fila Vi de V. Por lo tanto, tenemos lo siguiente:\n",
    "$$ UV = \\sum_{r = 1}^{k} \\underbrace{U_{r}V_{r}}_{n \\times d} $$"
   ]
  },
  {
   "cell_type": "markdown",
   "metadata": {
    "lang": "es",
    "slideshow": {
     "slide_type": "slide"
    }
   },
   "source": [
    "**Prueba:**\n",
    "\n",
    "Deje que $u_{ij}$ y $v_{ij}$ sean las $(i, j)$ - ésima entrada de $U$ y $V$, respectivamente. Se puede demostrar que el ª término en la suma en el lado derecho de la ecuación en el enunciado del lema contribuye $u_{ir}v_{rj}$ a la entrada $(i, j)$ - ésima en la matriz de suma. Por lo tanto, la suma total de los términos del lado derecho es $\\sum_{r = 1}^{k} u_{ir}v_{rj} $."
   ]
  },
  {
   "cell_type": "markdown",
   "metadata": {
    "lang": "es",
    "slideshow": {
     "slide_type": "slide"
    }
   },
   "source": [
    "Esta suma es exactamente la misma que la definición del término $(i, j)$ - ésimo de la multiplicación de matrices $UV$ (cf. Ecuación 1.10)."
   ]
  },
  {
   "cell_type": "markdown",
   "metadata": {
    "slideshow": {
     "slide_type": "slide"
    }
   },
   "source": [
    "In general, matrix multiplication is not commutative (except for special cases). In other\n",
    "words, we have $AB \\neq BA$ in the general case. This is different from scalar multiplication,\n",
    "which is commutative. A concrete example of non-commutativity is as follows:"
   ]
  },
  {
   "cell_type": "markdown",
   "metadata": {
    "slideshow": {
     "slide_type": "slide"
    }
   },
   "source": [
    "$$ \\begin{bmatrix} 1 & 1 \\\\ 0 & 0 \\end{bmatrix} \\begin{bmatrix} 1 & 0 \\\\ 1 & 0 \\end{bmatrix} = \\begin{bmatrix} 2 & 0 \\\\ 0 & 0 \\end{bmatrix} \\neq \\begin{bmatrix} 1 & 0 \\\\ 1 & 0 \\end{bmatrix} \\begin{bmatrix} 1 & 1 \\\\ 0 & 0  \\end{bmatrix} = \\begin{bmatrix} 1 & 1 \\\\ 1 & 1 \\end{bmatrix} $$"
   ]
  },
  {
   "cell_type": "markdown",
   "metadata": {
    "slideshow": {
     "slide_type": "slide"
    }
   },
   "source": [
    "In fact, if the matrices $A$ and $B$ are not square, it might be possible that one of the products, $AB$, is possible to compute based on the sizes of $A$ and $B$, whereas $BA$ might not be computable. "
   ]
  },
  {
   "cell_type": "markdown",
   "metadata": {
    "slideshow": {
     "slide_type": "slide"
    }
   },
   "source": [
    "For example, it is possible to compute $AB$ for the $4 \\times 2$ matrix A and the $2 \\times  5$ matrix B.  "
   ]
  },
  {
   "cell_type": "markdown",
   "metadata": {
    "slideshow": {
     "slide_type": "slide"
    }
   },
   "source": [
    " \n",
    "However, it is not possible to compute $BA$ because of mismatching dimensions."
   ]
  },
  {
   "cell_type": "markdown",
   "metadata": {
    "slideshow": {
     "slide_type": "slide"
    }
   },
   "source": [
    "Although matrix multiplication is not commutative, it is associative and distributive:\n",
    "\n",
    "\\begin{align*}\n",
    "A(BC) & = (AB)C \\qquad \\text{Asociatividad} \\\\\n",
    "A(B+C) & = AB + AC, \\qquad (B+C)A = BA + CA \\qquad \\text{Distibutividad}\n",
    "\\end{align*}\n"
   ]
  },
  {
   "cell_type": "markdown",
   "metadata": {
    "slideshow": {
     "slide_type": "slide"
    }
   },
   "source": [
    "The basic idea for proving each of the above results is to define variables for the dimensions and entries of each of $A = [aij ]$, $B = [bij ]$, and $C = [cij ]$. "
   ]
  },
  {
   "cell_type": "markdown",
   "metadata": {
    "slideshow": {
     "slide_type": "slide"
    }
   },
   "source": [
    "Then, an algebraic expression can be computed for the (i, j)th entry on both sides of the equation, and the two are shown to be equal. "
   ]
  },
  {
   "cell_type": "markdown",
   "metadata": {
    "slideshow": {
     "slide_type": "slide"
    }
   },
   "source": [
    "For example, in the case of associativity, this type of expansion yields the following:"
   ]
  },
  {
   "cell_type": "markdown",
   "metadata": {
    "slideshow": {
     "slide_type": "slide"
    }
   },
   "source": [
    "$$ [A(BC)]_{ij} = [(AB)C]_{ij} =  \\sum_{k} \\sum_{m} a_{ik}b_{km}c_{mj} $$"
   ]
  },
  {
   "cell_type": "markdown",
   "metadata": {
    "slideshow": {
     "slide_type": "slide"
    }
   },
   "source": [
    "These properties also hold for matrix-vector multiplication, because all vectors are special cases of matrices. "
   ]
  },
  {
   "cell_type": "markdown",
   "metadata": {
    "slideshow": {
     "slide_type": "slide"
    }
   },
   "source": [
    "The associativity property is very useful in ensuring efficient matrix multiplication by carefully selecting from the different choices allowed by associativity."
   ]
  },
  {
   "cell_type": "markdown",
   "metadata": {
    "slideshow": {
     "slide_type": "slide"
    }
   },
   "source": [
    "**Problem 1.2.3**   \n",
    "Express the matrix ABC as the weighted sum of outer products of vectors extracted from $A$ and $C$. The weights are extracted from matrix $B$."
   ]
  },
  {
   "cell_type": "markdown",
   "metadata": {
    "slideshow": {
     "slide_type": "slide"
    }
   },
   "source": [
    "**Problem 1.2.4**   \n",
    "Let A be an $1000000 \\times 2$ matrix. Suppose you have to compute the $2 \\times 1000000$ matrix $A^{T}AA^{T}$ on a computer with limited memory. Would you prefer to compute $(A^{T}A)A^{T}$ or would you prefer to compute $A^{T}(AA^{T})$?"
   ]
  },
  {
   "cell_type": "markdown",
   "metadata": {
    "slideshow": {
     "slide_type": "slide"
    }
   },
   "source": [
    "**Problem 1.2.5**  \n",
    "Let $D$ be an $n \\times d$ matrix for which each column sums to $0$. Let $A$ be an arbitrary $d \\times d$ matrix. Show that the sum of each column of $DA$ is also zero."
   ]
  },
  {
   "cell_type": "markdown",
   "metadata": {
    "slideshow": {
     "slide_type": "slide"
    }
   },
   "source": [
    "The key point in showing the above result is to use the fact that the sum of the rows of $D$ can be expressed as $\\overline{e}^{T}D$, where $\\overline{e}$ is a column vector of 1s."
   ]
  },
  {
   "cell_type": "markdown",
   "metadata": {
    "slideshow": {
     "slide_type": "slide"
    }
   },
   "source": [
    "The transpose of the product of two matrices is given by the product of their transposes, but the order of multiplication is reversed:"
   ]
  },
  {
   "cell_type": "markdown",
   "metadata": {
    "slideshow": {
     "slide_type": "slide"
    }
   },
   "source": [
    "$$ (AB)^{T} = B^{T}A^{T} $$"
   ]
  },
  {
   "cell_type": "markdown",
   "metadata": {
    "slideshow": {
     "slide_type": "slide"
    }
   },
   "source": [
    "This result can be easily shown by working out the algebraic expression for the (i, j)th entry in terms of the entries of $A = [a_{ij}]$ and $B = [b_{ij} ]$. "
   ]
  },
  {
   "cell_type": "markdown",
   "metadata": {
    "slideshow": {
     "slide_type": "slide"
    }
   },
   "source": [
    "The result for transposes can be easily extended to any number of matrices, as shown below:"
   ]
  },
  {
   "cell_type": "markdown",
   "metadata": {
    "lang": "en",
    "slideshow": {
     "slide_type": "slide"
    }
   },
   "source": [
    "**Problem 1.2.6**  \n",
    "\n",
    "Show the following result for matrices $A_{1} \\ldots A_{n}$:\n",
    "\n",
    "$$ (A_{1}A_{2}A_{3} \\ldots A_{n})^{T} = A_{n}^{T}A_{n-1}^{T}\\ldots A_{2}^{T}A_{1}^{T} $$\n",
    "\n",
    "The multiplication between a matrix and a vector also satisfies the same type of transposition\n",
    "rule as shown above.\n"
   ]
  },
  {
   "cell_type": "markdown",
   "metadata": {
    "lang": "es",
    "slideshow": {
     "slide_type": "slide"
    }
   },
   "source": [
    "**Problema 1.2.6**\n",
    "\n",
    "Muestre el siguiente resultado para las matrices $A_{1} \\ldots A_{n}$:\n",
    "\n",
    "$$ (A_{1}A_{2}A_{3} \\ldots A_{n})^{T} = A_{n}^{T}A_{n-1}^{T}\\ldots A_{2}^{T}A_{1}^{T} $$\n",
    "\n",
    "La multiplicación entre una matriz y un vector también satisface el mismo tipo de regla de transposición como se muestra arriba."
   ]
  },
  {
   "cell_type": "markdown",
   "metadata": {
    "slideshow": {
     "slide_type": "slide"
    }
   },
   "source": [
    "## 1.2.3 Special Classes of Matrices"
   ]
  },
  {
   "cell_type": "markdown",
   "metadata": {
    "slideshow": {
     "slide_type": "slide"
    }
   },
   "source": [
    "A symmetric matrix is a square matrix that is its own transpose. In other words, if A is a symmetric matrix, then we have A = AT. An example of a 3×3 symmetric matrix is shown below:"
   ]
  },
  {
   "cell_type": "markdown",
   "metadata": {
    "slideshow": {
     "slide_type": "slide"
    }
   },
   "source": [
    "$$\\begin{bmatrix} 2 & 1 & 3 \\\\ 1 & 4 & 5 \\\\ 3 & 5 & 6  \\end{bmatrix} $$"
   ]
  },
  {
   "cell_type": "markdown",
   "metadata": {
    "lang": "es",
    "slideshow": {
     "slide_type": "slide"
    }
   },
   "source": [
    "Tenga en cuenta que la entrada $(i, j)$  - ésima siempre es igual a la entrada $(j, i)$ ésima para cada $i, j \\in \\{1, 2, 3\\}$."
   ]
  },
  {
   "cell_type": "markdown",
   "metadata": {
    "lang": "es",
    "slideshow": {
     "slide_type": "slide"
    }
   },
   "source": [
    "**Problema 1.2.7** (Página 13 del Charú)\n",
    "\n",
    "Si $A$ y $B$ son matrices simétricas, entonces muestre que $AB$ es simétrico si y solo si $AB = BA$."
   ]
  },
  {
   "cell_type": "markdown",
   "metadata": {
    "lang": "es",
    "slideshow": {
     "slide_type": "slide"
    }
   },
   "source": [
    "La diagonal de una matriz se define como el conjunto de entradas para las que los índices de fila y columna son iguales."
   ]
  },
  {
   "cell_type": "markdown",
   "metadata": {
    "slideshow": {
     "slide_type": "slide"
    }
   },
   "source": [
    "Although the notion of diagonal is generally used for square matrices, the definition is sometimes also used for rectangular matrices; in such a case, the diagonal starts at the upper-left corner so that the row and column indices are the same. "
   ]
  },
  {
   "cell_type": "markdown",
   "metadata": {
    "slideshow": {
     "slide_type": "slide"
    }
   },
   "source": [
    "A square matrix that has values of 1 in all entries along the diagonal and 0s for all non-diagonal entries is referred to as an identity matrix, and is denoted by I. "
   ]
  },
  {
   "cell_type": "markdown",
   "metadata": {
    "slideshow": {
     "slide_type": "slide"
    }
   },
   "source": [
    "In the event that the non-diagonal entries are 0, but the diagonal entries are different from 1, the resulting matrix is referred to as a diagonal matrix. "
   ]
  },
  {
   "cell_type": "markdown",
   "metadata": {
    "slideshow": {
     "slide_type": "slide"
    }
   },
   "source": [
    "Therefore, the identity matrix is a special case of a diagonal matrix."
   ]
  },
  {
   "cell_type": "markdown",
   "metadata": {
    "slideshow": {
     "slide_type": "slide"
    }
   },
   "source": [
    "Multiplying an n×d matrix A with the identity matrix of the appropriate size in any order results in the same matrix A. "
   ]
  },
  {
   "cell_type": "markdown",
   "metadata": {
    "lang": "es",
    "slideshow": {
     "slide_type": "slide"
    }
   },
   "source": [
    "Se puede ver la matriz de identidad como el análogo del valor de $1$ en la multiplicación escalar:\n",
    "\n",
    "$$AI = IA = A$$"
   ]
  },
  {
   "cell_type": "markdown",
   "metadata": {
    "slideshow": {
     "slide_type": "slide"
    }
   },
   "source": [
    "Since $A$ is an $n \\times  d$ matrix, the size of the identity matrix $I$ in the product $AI$ is $d \\times d$, whereas the size of the identity matrix in the product $IA$ is $n \\times n$. "
   ]
  },
  {
   "cell_type": "markdown",
   "metadata": {
    "slideshow": {
     "slide_type": "slide"
    }
   },
   "source": [
    "This is somewhat confusing, because the same notation $I$ in Equation 1.13 refers to identity matrices of two different sizes. "
   ]
  },
  {
   "cell_type": "markdown",
   "metadata": {
    "slideshow": {
     "slide_type": "slide"
    }
   },
   "source": [
    "In such cases, ambiguity is avoided by subscripting the identity matrix to indicate its size. For example, an identity matrix of size $d \\times d$ is denoted by Id. "
   ]
  },
  {
   "cell_type": "markdown",
   "metadata": {
    "slideshow": {
     "slide_type": "slide"
    }
   },
   "source": [
    "Therefore, a more unambiguous form of Equation 1.13 is as follows:\n",
    "\n",
    "$$ AI_{d} = I{n}A = A $$\n"
   ]
  },
  {
   "cell_type": "markdown",
   "metadata": {
    "slideshow": {
     "slide_type": "slide"
    }
   },
   "source": [
    "Although diagonal matrices are assumed to be square by default, it is also possible to create\n",
    "a relaxed definition (Instead of referring to such matrices as rectangular diagonal matrices, some authors use a quotation around the word diagonal, while referring to such matrices. This is because the word “diagonal” was originally reserved for square matrices.) of a diagonal matrix, which is not square. "
   ]
  },
  {
   "cell_type": "markdown",
   "metadata": {
    "slideshow": {
     "slide_type": "slide"
    }
   },
   "source": [
    "In this case, the diagonal is aligned with the *upper-left* corner of the matrix. "
   ]
  },
  {
   "cell_type": "markdown",
   "metadata": {
    "slideshow": {
     "slide_type": "slide"
    }
   },
   "source": [
    "Such matrices are referred to as *rectangular diagonal* matrices."
   ]
  },
  {
   "cell_type": "markdown",
   "metadata": {
    "slideshow": {
     "slide_type": "slide"
    }
   },
   "source": [
    "Definition 1.2.1 (Rectangular Diagonal Matrix) A rectangular diagonal matrix is an $n \\times d$ matrix in which each entry (i, j) has a non-zero value if and only if i = j. "
   ]
  },
  {
   "cell_type": "markdown",
   "metadata": {
    "slideshow": {
     "slide_type": "slide"
    }
   },
   "source": [
    "Therefore, the diagonal of non-zero entries starts at the upper-left corner of the matrix, although it might not meet the lower-right corner."
   ]
  },
  {
   "cell_type": "markdown",
   "metadata": {
    "slideshow": {
     "slide_type": "slide"
    }
   },
   "source": [
    "A block diagonal matrix contains square blocks $B_{1} . . . B_{r}$ of (possibly) non-zero entries along the diagonal. "
   ]
  },
  {
   "cell_type": "markdown",
   "metadata": {
    "slideshow": {
     "slide_type": "slide"
    }
   },
   "source": [
    "All other entries are zero. "
   ]
  },
  {
   "cell_type": "markdown",
   "metadata": {
    "slideshow": {
     "slide_type": "slide"
    }
   },
   "source": [
    "Although each block is square, they need not be of the same size. "
   ]
  },
  {
   "cell_type": "markdown",
   "metadata": {
    "slideshow": {
     "slide_type": "slide"
    }
   },
   "source": [
    "Examples of different types of diagonal and block diagonal matrices are shown in the top row of Figure 1.3."
   ]
  },
  {
   "cell_type": "markdown",
   "metadata": {
    "slideshow": {
     "slide_type": "slide"
    }
   },
   "source": [
    "A generalization of the notion of a diagonal matrix is that of a triangular matrix:"
   ]
  },
  {
   "cell_type": "markdown",
   "metadata": {
    "slideshow": {
     "slide_type": "slide"
    }
   },
   "source": [
    "**Definition 1.2.2** (**Upper and Lower Triangular Matrix**)  \n",
    "A square matrix is an upper triangular matrix if all entries (i, j) below its main diagonal (i.e., satisfying i > j) are zeros. A matrix is lower triangular if all entries (i, j) above its main diagonal (i.e., satisfying i < j) are zeros."
   ]
  },
  {
   "cell_type": "markdown",
   "metadata": {
    "slideshow": {
     "slide_type": "slide"
    }
   },
   "source": [
    "**Definition 1.2.3 (Strictly Triangular Matrix)** A matrix is said to be strictly triangular\n",
    "if it is triangular and all its diagonal elements are zeros."
   ]
  },
  {
   "cell_type": "markdown",
   "metadata": {
    "slideshow": {
     "slide_type": "slide"
    }
   },
   "source": [
    "We make an important observation about operations on pairs of upper-triangular matrices."
   ]
  },
  {
   "cell_type": "markdown",
   "metadata": {
    "lang": "es",
    "slideshow": {
     "slide_type": "slide"
    }
   },
   "source": [
    "**Lema 1.2.2 (Suma o producto de matrices triangulares superiores)** La suma de matrices triangulares superiores es triangular superior. El producto de las matrices triangulares superiores es triangular superior."
   ]
  },
  {
   "cell_type": "markdown",
   "metadata": {
    "slideshow": {
     "slide_type": "slide"
    }
   },
   "source": [
    "**Proof Sketch:**   \n",
    "This result is easy to show by proving that the scalar expressions for the (i, j)th entry in the sum and the product are both 0, when i > j.\n",
    "The above lemma naturally applies to lower-triangular matrices as well.\n",
    "Although the notion of a triangular matrix is generally meant for square matrices, it is\n",
    "sometimes used for rectangular matrices. Examples of different types of triangular matrices\n",
    "are shown in the bottom row of Figure 1.3. The portion of the matrix occupied by nonzero\n",
    "entries is shaded. Note that the number of non-zero entries in rectangular triangular\n",
    "matrices heavily depends on the shape of the matrix. Finally, a matrix A is said to be\n",
    "sparse, when most of the entries in it have 0 values. It is often computationally efficient to\n",
    "work with such matrices."
   ]
  },
  {
   "cell_type": "markdown",
   "metadata": {
    "slideshow": {
     "slide_type": "slide"
    }
   },
   "source": [
    "## 1.2.4 Matrix Powers, Polynomials, and the Inverse \n",
    "Square matrices can be multiplied with themselves without violating the size constraints of\n",
    "matrix multiplication. Multiplying a square matrix with itself many times is analogous to\n",
    "raising a scalar to a particular power. The nth power of a matrix is defined as follows:\n",
    "\n",
    "$$ A^{n} = \\underbrace{AA\\ldots A}_{n \\ \\text{veces}} $$\n"
   ]
  },
  {
   "cell_type": "markdown",
   "metadata": {
    "slideshow": {
     "slide_type": "slide"
    }
   },
   "source": [
    "The zeroth power of a matrix is defined to be the identity matrix of the same size. "
   ]
  },
  {
   "cell_type": "markdown",
   "metadata": {
    "slideshow": {
     "slide_type": "slide"
    }
   },
   "source": [
    "When a matrix satisfies $A^{k} = 0$ for some integer $k$, it is referred to as nilpotent. "
   ]
  },
  {
   "cell_type": "markdown",
   "metadata": {
    "slideshow": {
     "slide_type": "slide"
    }
   },
   "source": [
    "For example, all strictly triangular matrices of size $d \\times d$ satisfy $A^{d} = 0$. "
   ]
  },
  {
   "cell_type": "markdown",
   "metadata": {
    "slideshow": {
     "slide_type": "slide"
    }
   },
   "source": [
    "Like scalars, one can raise a square matrix to a fractional power, although it is not guaranteed to exist. "
   ]
  },
  {
   "cell_type": "markdown",
   "metadata": {
    "slideshow": {
     "slide_type": "slide"
    }
   },
   "source": [
    "For example, if $A = V^{2}$, then we have $V = A^{1/2}$. "
   ]
  },
  {
   "cell_type": "markdown",
   "metadata": {
    "slideshow": {
     "slide_type": "slide"
    }
   },
   "source": [
    "Unlike scalars, it is not guaranteed that $A^{1/2}$ exists for an arbitrary matrix $A$, even after allowing for complex-valued entries in the result (see Exercise 14). "
   ]
  },
  {
   "cell_type": "markdown",
   "metadata": {
    "slideshow": {
     "slide_type": "slide"
    }
   },
   "source": [
    "In general, one can compute a polynomial function $f(A)$ of a square matrix in much the same way as one computes polynomials of scalars. "
   ]
  },
  {
   "cell_type": "markdown",
   "metadata": {
    "slideshow": {
     "slide_type": "slide"
    }
   },
   "source": [
    "Instead of the constant term used in a scalar polynomial, multiples of the identity matrix are used; the identity matrix is the matrix analog of the scalar value of 1. "
   ]
  },
  {
   "cell_type": "markdown",
   "metadata": {
    "slideshow": {
     "slide_type": "slide"
    }
   },
   "source": [
    "For example, the matrix analog of the scalar polynomial $f(x) = 3x^{2} + 5x + 2$, when applied to the $d \\times d$ matrix $A$, is as follows:\n",
    "\n",
    "$$ f(A) = 3A^{2} + 5A + 2I $$"
   ]
  },
  {
   "cell_type": "markdown",
   "metadata": {
    "slideshow": {
     "slide_type": "slide"
    }
   },
   "source": [
    "All polynomials of the same matrix A always commute with respect to the multiplication operator."
   ]
  },
  {
   "cell_type": "markdown",
   "metadata": {
    "slideshow": {
     "slide_type": "slide"
    }
   },
   "source": [
    "**Observation 1.2.1 (Commutativity of Matrix Polynomials)** Two polynomials $f(A)$ and $g(A)$ of the same matrix $A$ will always commute:"
   ]
  },
  {
   "cell_type": "markdown",
   "metadata": {
    "slideshow": {
     "slide_type": "slide"
    }
   },
   "source": [
    "$$ f(Ag(A) = g(A)f(A) $$"
   ]
  },
  {
   "cell_type": "markdown",
   "metadata": {
    "slideshow": {
     "slide_type": "slide"
    }
   },
   "source": [
    "The above result can be shown by expanding the polynomial on both sides, and showing\n",
    "that the same polynomial is reached with the distributive property of matrix multiplication.\n",
    "Can we raise a matrix to a negative power? "
   ]
  },
  {
   "cell_type": "markdown",
   "metadata": {
    "slideshow": {
     "slide_type": "slide"
    }
   },
   "source": [
    "The inverse of a square matrix A is another square matrix denoted by $A^{−1}$ so that the multiplication of the two matrices (in any order) will result in the identity matrix:\n",
    "\n",
    "$$ AA^{-1} = A^{-1}A = I $$\n"
   ]
  },
  {
   "cell_type": "markdown",
   "metadata": {
    "lang": "es",
    "slideshow": {
     "slide_type": "slide"
    }
   },
   "source": [
    "Existe una fórmula simple para invertir matrices $2 \\times 2$:\n",
    "\n",
    "$$ \\begin{bmatrix} a & b \\\\ c & d \\end{bmatrix}^{-1} = \\frac{1}{ad - bc}\\begin{bmatrix} d & -b \\\\ -c & a \\end{bmatrix} $$"
   ]
  },
  {
   "cell_type": "markdown",
   "metadata": {
    "slideshow": {
     "slide_type": "slide"
    }
   },
   "source": [
    "An example of two matrices that are inverses of each other is shown below:\n",
    "\n",
    "$$ \\begin{bmatrix} 8 & 3 \\\\ 5 & 2 \\end{bmatrix} \n",
    "\\begin{bmatrix} 2 & -3 \\\\ -5 & 8 \\end{bmatrix}  = \n",
    "\\begin{bmatrix} 2 & -3 \\\\ -5 & 8 \\end{bmatrix} \n",
    "\\begin{bmatrix} 8 & 3 \\\\ 5 & 2 \\end{bmatrix} = \n",
    "\\begin{bmatrix} 1 & 0 \\\\ 0 & 1 \\end{bmatrix}  $$\n"
   ]
  },
  {
   "cell_type": "markdown",
   "metadata": {
    "slideshow": {
     "slide_type": "slide"
    }
   },
   "source": [
    "The inverse of a 1×1 matrix containing the element a is simply the 1×1 matrix containing\n",
    "the element 1/a. Therefore, a matrix inverse naturally generalizes a scalar inverse. Not all\n",
    "matrices have inverses, just as an inverse does not exist for the scalar a = 0. A matrix\n",
    "for which an inverse exists is referred to as invertible or nonsingular. Otherwise, it is said\n",
    "to be singular. For example, if the rows in Equation 1.17 are proportional, we would have\n",
    "ad−bc = 0, and therefore, the matrix would not be invertible. An example of a matrix that\n",
    "is not invertible is as follows:\n",
    "\n",
    "$$ A = \\begin{bmatrix} 1 & 1 \\\\ 2 & 2 \\end{bmatrix} $$\n"
   ]
  },
  {
   "cell_type": "markdown",
   "metadata": {
    "slideshow": {
     "slide_type": "slide"
    }
   },
   "source": [
    "Note that multiplying A with any 2 ×2 matrix B will always result in a 2 ×2 matrix AB\n",
    "in which the second row is twice the first. This is not the case for the identity matrix,\n",
    "and, therefore, an inverse of A does not exist. The fact that the rows in the non-invertible\n",
    "matrix A are related by a proportionality factor is not a coincidence. As you will learn\n",
    "in Chapter 2, matrices that are invertible always have the property that a non-zero linear\n",
    "combination of the rows does not sum to zero. In other words, each vector direction in the\n",
    "rows of an invertible matrix must contribute new, non-redundant “information” that cannot\n",
    "be conveyed using sums, multiples, or linear combinations of other directions. The second\n",
    "row of A is twice its first row, and therefore the matrix A is not invertible."
   ]
  },
  {
   "cell_type": "markdown",
   "metadata": {
    "slideshow": {
     "slide_type": "slide"
    }
   },
   "source": [
    "When the inverse of a matrix $A$ does exist, it is unique. "
   ]
  },
  {
   "cell_type": "markdown",
   "metadata": {
    "slideshow": {
     "slide_type": "slide"
    }
   },
   "source": [
    "Furthermore, the product of a matrix with its inverse is always commutative and leads to the identity matrix. "
   ]
  },
  {
   "cell_type": "markdown",
   "metadata": {
    "slideshow": {
     "slide_type": "slide"
    }
   },
   "source": [
    "A natural consequence of these facts is that the inverse of the inverse $(A^{−1})^{−1}$ is the original matrix $A$. "
   ]
  },
  {
   "cell_type": "markdown",
   "metadata": {
    "slideshow": {
     "slide_type": "slide"
    }
   },
   "source": [
    "We summarize these properties of inverses in the following two lemmas."
   ]
  },
  {
   "cell_type": "markdown",
   "metadata": {
    "slideshow": {
     "slide_type": "slide"
    }
   },
   "source": [
    "**Lemma 1.2.3 (Commutativity of Multiplication with Inverse)**  \n",
    "If the product $AB$ of $d \\times d$ matrices $A$ and $B$ is the identity matrix $I$, then $BA$ must also be equal to $I$.  "
   ]
  },
  {
   "cell_type": "markdown",
   "metadata": {
    "slideshow": {
     "slide_type": "slide"
    }
   },
   "source": [
    "**Proof:**  \n",
    "We present a restricted proof by making the assumption that a matrix $C$ always exists so that $CA = I$. "
   ]
  },
  {
   "cell_type": "markdown",
   "metadata": {
    "slideshow": {
     "slide_type": "slide"
    }
   },
   "source": [
    "Then, we have:\n",
    "\n",
    "$$ C = CI = C(AB) = (CA)B = IB = B $$"
   ]
  },
  {
   "cell_type": "markdown",
   "metadata": {
    "slideshow": {
     "slide_type": "slide"
    }
   },
   "source": [
    "The commutativity of the product of a matrix and its inverse can be viewed as an extension\n",
    "of the statement in Observation 1.2.1 that the product of a matrix A with any polynomial\n",
    "of A is always commutative. A fractional or negative power of a matrix A (like A−1) also\n",
    "commutes with A."
   ]
  },
  {
   "cell_type": "markdown",
   "metadata": {
    "slideshow": {
     "slide_type": "slide"
    }
   },
   "source": [
    "Lemma 1.2.4 When the inverse of a matrix exists, it is always unique. In other words, if\n",
    "B1 and B2 satisfy AB1 = AB2 = I, we must have B1 = B2."
   ]
  },
  {
   "cell_type": "markdown",
   "metadata": {
    "slideshow": {
     "slide_type": "slide"
    }
   },
   "source": [
    "**Proof:**  \n",
    "\n",
    "Since $AB_{1} = AB_{2}$, it follows that $AB_{1} − AB_{2} = 0$. "
   ]
  },
  {
   "cell_type": "markdown",
   "metadata": {
    "slideshow": {
     "slide_type": "slide"
    }
   },
   "source": [
    "Therefore, we have $A(B_{1} − B_{2}) = 0. "
   ]
  },
  {
   "cell_type": "markdown",
   "metadata": {
    "slideshow": {
     "slide_type": "slide"
    }
   },
   "source": [
    "One can pre-multiply the relationship with $B_{1}$ to obtain the following:\n",
    "\n",
    "$$ \\underbrace{B_{1}A}_{I}(B_{1} - B_{2}) = 0 $$\n"
   ]
  },
  {
   "cell_type": "markdown",
   "metadata": {
    "slideshow": {
     "slide_type": "slide"
    }
   },
   "source": [
    "This proves that $B_{1} = B_{2}$."
   ]
  },
  {
   "cell_type": "markdown",
   "metadata": {
    "slideshow": {
     "slide_type": "slide"
    }
   },
   "source": [
    "The negative power $A^{−r}$ for $r > 0$ represents ($A^{−1})^{r}$. "
   ]
  },
  {
   "cell_type": "markdown",
   "metadata": {
    "slideshow": {
     "slide_type": "slide"
    }
   },
   "source": [
    "Any polynomial or negative power of a diagonal matrix is another diagonal matrix in which the polynomial function or negative power is applied to each diagonal entry. "
   ]
  },
  {
   "cell_type": "markdown",
   "metadata": {
    "slideshow": {
     "slide_type": "slide"
    }
   },
   "source": [
    "All diagonal entries of a diagonal matrix need to be non-zero for it to be invertible or have negative powers. "
   ]
  },
  {
   "cell_type": "markdown",
   "metadata": {
    "slideshow": {
     "slide_type": "slide"
    }
   },
   "source": [
    "The polynomials and inverses of triangular matrices are also triangular matrices of the same type (i.e., lower or upper triangular). "
   ]
  },
  {
   "cell_type": "markdown",
   "metadata": {
    "slideshow": {
     "slide_type": "slide"
    }
   },
   "source": [
    "A similar result holds for block diagonal matrices."
   ]
  },
  {
   "cell_type": "markdown",
   "metadata": {
    "slideshow": {
     "slide_type": "slide"
    }
   },
   "source": [
    "**Problem 1.2.8 (Inverse of Triangular Matrix Is Triangular)**  \n",
    "\n",
    "Consider the system of $d$ equations contained in the rows of $R\\overline{x} = \\overline{e}_{k}$ for the $d \\times d$ upper-triangular matrix $R$, where $\\overline{e}_{k}$ is a $d$-dimensional column vector with a single value of $1$ in the kth entry and 0 in all other entries. Discuss why solving for $\\overline{x} = [x_{1} . . . x_{d}]^{T}$ is simple in this case by solving for the variables in the order $x_{d}, x_{d−1}, . . . x_{1}$. Furthermore, discuss why the solution for $R\\overline{x} = \\overline{e}_{k}$ must satisfy $x_{i} = 0$ for $i > k$. Why is the solution $\\overline{x}$ equal to the kth column of the inverse of $R$? Discuss why the inverse of $R$ is also upper-triangular."
   ]
  },
  {
   "cell_type": "markdown",
   "metadata": {
    "slideshow": {
     "slide_type": "slide"
    }
   },
   "source": [
    "**Problem 1.2.9 (Block Diagonal Polynomial and Inverse)**  \n",
    "\n",
    "Suppose that you have a block diagonal matrix $B$, which has blocks $B_{1} . . . B_{r}$ along the diagonal. Show how you can express the polynomial function $f(B)$ and the inverse of $B$ in terms of functions on block matrices."
   ]
  },
  {
   "cell_type": "markdown",
   "metadata": {
    "slideshow": {
     "slide_type": "slide"
    }
   },
   "source": [
    "The inverse of the product of two square (and invertible) matrices can be computed as a product of their inverses, but with the order of multiplication reversed:\n",
    "\n",
    "$$ (AB)^{-1} = B^{-1}A^{-1} $$\n"
   ]
  },
  {
   "cell_type": "markdown",
   "metadata": {
    "slideshow": {
     "slide_type": "slide"
    }
   },
   "source": [
    "Both matrices must be invertible for the product to be invertible. "
   ]
  },
  {
   "cell_type": "markdown",
   "metadata": {
    "slideshow": {
     "slide_type": "slide"
    }
   },
   "source": [
    "We can use the associativity property of matrix multiplication to show the above result:\n",
    "\n",
    "$$ (AB)(B^{-1}A^{-1}) = A((BB^{-1})A^{-1}) = A((I)A^{-1}) = AA^{-1} = I $$"
   ]
  },
  {
   "cell_type": "markdown",
   "metadata": {
    "slideshow": {
     "slide_type": "slide"
    }
   },
   "source": [
    "One can extend the above results to show that $(A_{1}A_{2} . . . A_{k})^{−1} = A_{k}^{−1}A_{k-1}^{−1} . . . A_{1}^{−1}$. "
   ]
  },
  {
   "cell_type": "markdown",
   "metadata": {
    "slideshow": {
     "slide_type": "slide"
    }
   },
   "source": [
    "Note that the individual matrices $A_{i}$ must be invertible for their product to be invertible. "
   ]
  },
  {
   "cell_type": "markdown",
   "metadata": {
    "slideshow": {
     "slide_type": "slide"
    }
   },
   "source": [
    "Even if one of the matrices $A_{i}$ is not invertible, the product will not be invertible (see Exercise 52)."
   ]
  },
  {
   "cell_type": "code",
   "execution_count": null,
   "metadata": {
    "slideshow": {
     "slide_type": "slide"
    }
   },
   "outputs": [],
   "source": []
  },
  {
   "cell_type": "code",
   "execution_count": null,
   "metadata": {
    "slideshow": {
     "slide_type": "slide"
    }
   },
   "outputs": [],
   "source": []
  },
  {
   "cell_type": "code",
   "execution_count": null,
   "metadata": {},
   "outputs": [],
   "source": []
  },
  {
   "cell_type": "code",
   "execution_count": null,
   "metadata": {},
   "outputs": [],
   "source": []
  },
  {
   "cell_type": "code",
   "execution_count": null,
   "metadata": {},
   "outputs": [],
   "source": []
  }
 ],
 "metadata": {
  "celltoolbar": "Slideshow",
  "hide_input": false,
  "kernelspec": {
   "display_name": "Python 3",
   "language": "python",
   "name": "python3"
  },
  "language_info": {
   "codemirror_mode": {
    "name": "ipython",
    "version": 3
   },
   "file_extension": ".py",
   "mimetype": "text/x-python",
   "name": "python",
   "nbconvert_exporter": "python",
   "pygments_lexer": "ipython3",
   "version": "3.7.4"
  },
  "nbTranslate": {
   "displayLangs": [
    "*"
   ],
   "hotkey": "alt-t",
   "langInMainMenu": true,
   "sourceLang": "en",
   "targetLang": "es",
   "useGoogleTranslate": true
  },
  "rise": {
   "enable_chalkboard": true,
   "theme": "sky",
   "transition": "sky"
  }
 },
 "nbformat": 4,
 "nbformat_minor": 2
}
