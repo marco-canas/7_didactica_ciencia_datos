{
 "cells": [
  {
   "cell_type": "markdown",
   "id": "894eb6d7",
   "metadata": {},
   "source": [
    "\n",
    "<table align=\"left\">\n",
    "  <td>\n",
    "    <a href=\"https://colab.research.google.com/github/marco-canas/Ecuaciones_Diferenciales/blob/main/asesoria_EDO/ejer_sec_3.1/Ejer_22_sec_3.1_Boyce_DiPrima.ipynb\" target=\"_parent\"><img src=\"https://colab.research.google.com/assets/colab-badge.svg\" alt=\"Open In Colab\"/></a>\n",
    "  </td>\n",
    "  <td>\n",
    "    <a target=\"_blank\" href=\"https://kaggle.com/kernels/welcome?src=https://github.com/marco-canas/Ecuaciones_Diferenciales/blob/main/asesoria_EDO/ejer_sec_3.1/Ejer_22_sec_3.1_Boyce_DiPrima.ipynb\"><img src=\"https://kaggle.com/static/images/open-in-kaggle.svg\" /></a>\n",
    "  </td>\n",
    "</table>\n"
   ]
  },
  {
   "cell_type": "markdown",
   "id": "1b26f653",
   "metadata": {},
   "source": [
    "# Chapter 2"
   ]
  },
  {
   "cell_type": "markdown",
   "id": "dc817be9",
   "metadata": {},
   "source": [
    "## Linear transformations and linear system"
   ]
  },
  {
   "cell_type": "markdown",
   "id": "2865c3fb",
   "metadata": {},
   "source": [
    "Página 60 del Charu"
   ]
  },
  {
   "cell_type": "markdown",
   "id": "f654c8ed",
   "metadata": {},
   "source": [
    "## 2.1 Introduction"
   ]
  },
  {
   "cell_type": "markdown",
   "id": "0c0aaf7d",
   "metadata": {},
   "source": [
    "\"No se puede criticar la geometría. Nunca está mal. ”  \n",
    "- Paul Rand"
   ]
  },
  {
   "cell_type": "markdown",
   "id": "a61f45ac",
   "metadata": {},
   "source": [
    "Los algoritmos de aprendizaje automático funcionan con matrices de datos, que pueden verse como colecciones de vectores de fila o como colecciones de vectores de columna."
   ]
  },
  {
   "cell_type": "markdown",
   "id": "caeb1b3f",
   "metadata": {},
   "source": [
    "Por ejemplo, uno puede ver las filas de un $n \\times d$ matriz de datos $D$ como un conjunto de $n$ puntos en un espacio de dimensionalidad $d$, y se pueden ver las columnas como características. "
   ]
  },
  {
   "cell_type": "markdown",
   "id": "d9407976",
   "metadata": {},
   "source": [
    "Estas colecciones de vectores de fila y de columna definen espacios vectoriales."
   ]
  },
  {
   "cell_type": "markdown",
   "id": "ffebcef0",
   "metadata": {},
   "source": [
    "En este capítulo, presentaremos las propiedades básicas de los espacios vectoriales y sus conexiones para resolver sistemas lineales de ecuaciones."
   ]
  },
  {
   "cell_type": "markdown",
   "id": "d88b2fbe",
   "metadata": {},
   "source": [
    "Este problema también es un caso especial del problema de la regresión lineal, que es uno de los bloques de construcción fundamentales del aprendizaje automático."
   ]
  },
  {
   "cell_type": "code",
   "execution_count": null,
   "id": "53af6b35",
   "metadata": {},
   "outputs": [],
   "source": []
  },
  {
   "cell_type": "code",
   "execution_count": null,
   "id": "996b4d0c",
   "metadata": {},
   "outputs": [],
   "source": []
  },
  {
   "cell_type": "code",
   "execution_count": null,
   "id": "58c9827a",
   "metadata": {},
   "outputs": [],
   "source": []
  },
  {
   "cell_type": "code",
   "execution_count": null,
   "id": "40edc699",
   "metadata": {},
   "outputs": [],
   "source": []
  },
  {
   "cell_type": "code",
   "execution_count": null,
   "id": "4f50d47c",
   "metadata": {},
   "outputs": [],
   "source": []
  }
 ],
 "metadata": {
  "kernelspec": {
   "display_name": "Python 3",
   "language": "python",
   "name": "python3"
  },
  "language_info": {
   "codemirror_mode": {
    "name": "ipython",
    "version": 3
   },
   "file_extension": ".py",
   "mimetype": "text/x-python",
   "name": "python",
   "nbconvert_exporter": "python",
   "pygments_lexer": "ipython3",
   "version": "3.8.8"
  },
  "latex_envs": {
   "LaTeX_envs_menu_present": true,
   "autoclose": false,
   "autocomplete": false,
   "bibliofile": "biblio.bib",
   "cite_by": "apalike",
   "current_citInitial": 1,
   "eqLabelWithNumbers": true,
   "eqNumInitial": 1,
   "hotkeys": {
    "equation": "Ctrl-E",
    "itemize": "Ctrl-I"
   },
   "labels_anchors": false,
   "latex_user_defs": false,
   "report_style_numbering": false,
   "user_envs_cfg": false
  }
 },
 "nbformat": 4,
 "nbformat_minor": 5
}
