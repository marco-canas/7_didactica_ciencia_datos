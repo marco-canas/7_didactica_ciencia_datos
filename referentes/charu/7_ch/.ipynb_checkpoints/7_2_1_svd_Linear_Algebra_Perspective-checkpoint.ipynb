{
 "cells": [
  {
   "cell_type": "markdown",
   "id": "086984d1",
   "metadata": {
    "slideshow": {
     "slide_type": "slide"
    }
   },
   "source": [
    "<table align=\"left\">\n",
    "  <td>\n",
    "    <a href=\"https://colab.research.google.com/github/marco-canas/taca/blob/main/ref/charu/7_ch/7_2_SVD_A_Linear_Algebra_Perspective.ipynb\" target=\"_parent\"><img src=\"https://colab.research.google.com/assets/colab-badge.svg\" alt=\"Open In Colab\"/></a>\n",
    "  </td>\n",
    "  <td>\n",
    "    <a target=\"_blank\" href=\"https://kaggle.com/kernels/welcome?src=https://github.com/marco-canas/taca/blob/main/ref/charu/7_ch/7_2_SVD_A_Linear_Algebra_Perspective.ipynb\"><img src=\"https://kaggle.com/static/images/open-in-kaggle.svg\" /></a>\n",
    "  </td>\n",
    "</table>"
   ]
  },
  {
   "cell_type": "markdown",
   "id": "dc65f8c4",
   "metadata": {
    "slideshow": {
     "slide_type": "slide"
    }
   },
   "source": [
    "# 7.2 SVD: A Linear Algebra Perspective\n",
    "Página 314 del Charú  "
   ]
  },
  {
   "cell_type": "markdown",
   "id": "a95ff640",
   "metadata": {
    "slideshow": {
     "slide_type": "slide"
    }
   },
   "source": [
    "### [Primer video de apoyo para la lectura interactiva de este cuaderno](https://www.youtube.com/watch?v=IuWjeQS1-HI)"
   ]
  },
  {
   "cell_type": "markdown",
   "id": "5a55b90c",
   "metadata": {
    "slideshow": {
     "slide_type": "slide"
    }
   },
   "source": [
    "### [Segundo video de apoyo para la lectura interactiva de este cuaderno](https://www.youtube.com/watch?v=cSHz5VLgdas)"
   ]
  },
  {
   "cell_type": "markdown",
   "id": "a4543b43",
   "metadata": {
    "slideshow": {
     "slide_type": "slide"
    }
   },
   "source": [
    "### [Tercer video de apoyo a la lectura de este cuaderno](https://www.youtube.com/watch?v=J9vcTWInSyU)"
   ]
  },
  {
   "cell_type": "markdown",
   "id": "e0d2e3c4",
   "metadata": {
    "slideshow": {
     "slide_type": "slide"
    }
   },
   "source": [
    "La descomposición de valores singulares (SVD) es una generalización del concepto de diagonalización. "
   ]
  },
  {
   "cell_type": "markdown",
   "id": "3faae133",
   "metadata": {
    "slideshow": {
     "slide_type": "slide"
    }
   },
   "source": [
    "* Mientras que la diagonalización con valores propios\n",
    "  * no negativos y \n",
    "  * los vectores propios ortogonales \n",
    "  solo están asegurados para matrices cuadradas, simétricas \n",
    "  y semidefinidas positivas,"
   ]
  },
  {
   "cell_type": "markdown",
   "id": "6972afcb",
   "metadata": {
    "slideshow": {
     "slide_type": "slide"
    }
   },
   "source": [
    "### Matriz semidefinida positiva"
   ]
  },
  {
   "cell_type": "markdown",
   "id": "55b36e76",
   "metadata": {
    "slideshow": {
     "slide_type": "slide"
    }
   },
   "source": [
    "Sea $B$ una matriz cuadrada de orden $d \\times d$. \n",
    "Decimos que ella es semidefida positiva si para cada vector $x \\in \\mathbf{R}^{d}$ se cumple que:\n",
    "\n",
    "$$ x^{T}Bx \\geq 0 $$\n"
   ]
  },
  {
   "cell_type": "markdown",
   "id": "64f12559",
   "metadata": {
    "slideshow": {
     "slide_type": "slide"
    }
   },
   "source": [
    "#### Ejemplo"
   ]
  },
  {
   "cell_type": "code",
   "execution_count": null,
   "id": "7ca90ad8",
   "metadata": {
    "slideshow": {
     "slide_type": "slide"
    }
   },
   "outputs": [],
   "source": [
    "from sympy import *\n",
    "A = Matrix([[1,2], [2,-1]]) \n",
    "B = (A.T)*(A)\n",
    "a,b = symbols('a, b', real = True)\n",
    "x = Matrix([[a], [b]])\n",
    "((x.T)*B*x)[0,0]  \n",
    "# la indexación debe ser doble pues para sympy, el resultado es una matriz de orden 1x1"
   ]
  },
  {
   "cell_type": "code",
   "execution_count": null,
   "id": "61b14cab",
   "metadata": {
    "slideshow": {
     "slide_type": "slide"
    }
   },
   "outputs": [],
   "source": [
    "def forma_cuadratica(B,x):\n",
    "    return (x.T)*B*x"
   ]
  },
  {
   "cell_type": "code",
   "execution_count": null,
   "id": "2fc9f660",
   "metadata": {
    "slideshow": {
     "slide_type": "slide"
    }
   },
   "outputs": [],
   "source": [
    "forma_cuadratica(B, Matrix([[1],[-2]]))  "
   ]
  },
  {
   "cell_type": "markdown",
   "id": "74a0df07",
   "metadata": {
    "slideshow": {
     "slide_type": "slide"
    }
   },
   "source": [
    "   \n",
    "* la descomposición de valores singulares está asegurada para cualquier matriz, independientemente de su tamaño u otras propiedades."
   ]
  },
  {
   "cell_type": "markdown",
   "id": "1c415779",
   "metadata": {
    "slideshow": {
     "slide_type": "slide"
    }
   },
   "source": [
    "* estudiaremos la descomposición de valores singulares de **matrices cuadradas** para mostrar:  \n",
    "* cómo la descomposición de valores singulares es una generalización natural de la diagonalización."
   ]
  },
  {
   "cell_type": "markdown",
   "id": "22af4e6f",
   "metadata": {
    "slideshow": {
     "slide_type": "slide"
    }
   },
   "source": [
    " \n",
    "Luego, generalizaremos estas ideas a matrices rectangulares."
   ]
  },
  {
   "cell_type": "markdown",
   "id": "5b143da7",
   "metadata": {
    "slideshow": {
     "slide_type": "slide"
    }
   },
   "source": [
    "## 7.2.1 Singular Value Decomposition of a Square Matrix"
   ]
  },
  {
   "cell_type": "markdown",
   "id": "42e0db6c",
   "metadata": {
    "slideshow": {
     "slide_type": "slide"
    }
   },
   "source": [
    "En esta sección, discutiremos la existencia de una descomposición en valores singulares de una matriz cuadrada $B$ de orden $m \\times m$."
   ]
  },
  {
   "cell_type": "markdown",
   "id": "a6c7dc11",
   "metadata": {
    "slideshow": {
     "slide_type": "slide"
    }
   },
   "source": [
    "Observemos que las matrices $B^{T}B$ y $BB^{T}$ son semidefinidas positivas y simétricas. \n",
    " "
   ]
  },
  {
   "cell_type": "markdown",
   "id": "395b7c6f",
   "metadata": {
    "slideshow": {
     "slide_type": "slide"
    }
   },
   "source": [
    "Por lo tanto, estas matrices son diagonalizables con \n",
    "* autovectores ortonormales y \n",
    "* autovalores no negativos."
   ]
  },
  {
   "cell_type": "markdown",
   "id": "f9c02745",
   "metadata": {
    "slideshow": {
     "slide_type": "slide"
    }
   },
   "source": [
    "A continuación, mostramos que estas matrices comparten valores propios y sus vectores propios también están relacionados."
   ]
  },
  {
   "cell_type": "markdown",
   "id": "1dbe892c",
   "metadata": {
    "slideshow": {
     "slide_type": "slide"
    }
   },
   "source": [
    "### Lema 7.2.1"
   ]
  },
  {
   "cell_type": "markdown",
   "id": "12b93fd1",
   "metadata": {
    "slideshow": {
     "slide_type": "slide"
    }
   },
   "source": [
    "Sea $B$ una matriz cuadrada, $m \\times m$.   \n",
    "\n",
    "Entonces, los siguientes resultados son verdaderos:"
   ]
  },
  {
   "cell_type": "markdown",
   "id": "83351247",
   "metadata": {
    "slideshow": {
     "slide_type": "slide"
    }
   },
   "source": [
    "1. Si $\\overline{p}$ es un **vector propio unitario** de $B^{T}B$ con un valor propio $\\lambda$ distinto de cero, entonces $B\\overline{p}$ es un vector propio de $BB^{T}$ con el mismo valor propio $\\lambda$. Además, la norma de $B\\overline{p}$ es $\\sqrt{\\lambda}$."
   ]
  },
  {
   "cell_type": "markdown",
   "id": "4c39440a",
   "metadata": {
    "slideshow": {
     "slide_type": "slide"
    }
   },
   "source": [
    "2. Si $\\overline{q}$ es un vector propio unitario de $BB^{T}$ con un valor propio $\\lambda$ distinto de cero, entonces $B^{T}\\overline{q}$ es un vector propio de $B^{T}B$ con el mismo valor propio $\\lambda$. Además, la norma de $B^{T}\\overline{q}$ es $\\sqrt{\\lambda}$."
   ]
  },
  {
   "cell_type": "markdown",
   "id": "08ed092c",
   "metadata": {
    "slideshow": {
     "slide_type": "slide"
    }
   },
   "source": [
    "## Verificación del Lema con Sympy"
   ]
  },
  {
   "cell_type": "code",
   "execution_count": null,
   "id": "0a5cbb4b",
   "metadata": {
    "slideshow": {
     "slide_type": "slide"
    }
   },
   "outputs": [],
   "source": [
    "from sympy import *\n"
   ]
  },
  {
   "cell_type": "code",
   "execution_count": null,
   "id": "854b71d1",
   "metadata": {
    "slideshow": {
     "slide_type": "slide"
    }
   },
   "outputs": [],
   "source": [
    "B = Matrix([[14, 8 , -6],[21, 11, 14], [16, -6, 2]])\n",
    "B "
   ]
  },
  {
   "cell_type": "code",
   "execution_count": null,
   "id": "68095678",
   "metadata": {
    "slideshow": {
     "slide_type": "slide"
    }
   },
   "outputs": [],
   "source": [
    "C = B.T*B\n",
    "C "
   ]
  },
  {
   "cell_type": "code",
   "execution_count": null,
   "id": "68789737",
   "metadata": {
    "slideshow": {
     "slide_type": "slide"
    }
   },
   "outputs": [],
   "source": [
    "D = B*B.T\n",
    "D "
   ]
  },
  {
   "cell_type": "code",
   "execution_count": null,
   "id": "dae1fda1",
   "metadata": {
    "slideshow": {
     "slide_type": "slide"
    }
   },
   "outputs": [],
   "source": [
    "lv1c,lv2c,lv3c = C.eigenvects()\n",
    "l1c = lv1c[0]\n",
    "v1c = lv1c[2][0]\n",
    "v1c = (1/v1c.norm())*v1c \n",
    "v1c "
   ]
  },
  {
   "cell_type": "code",
   "execution_count": null,
   "id": "9c104188",
   "metadata": {
    "slideshow": {
     "slide_type": "subslide"
    }
   },
   "outputs": [],
   "source": [
    "lv1d,lv2d,lv3d = D.eigenvects()\n",
    "l1d = lv1d[0]\n",
    "v1d = lv1d[2][0]\n",
    "v1d = (1/v1d.norm())*v1d\n",
    "\n",
    "\n",
    "v2d = lv2d[2][0]\n",
    "v2d = (1/v2d.norm())*v2d\n",
    "\n",
    "\n",
    "v3d = lv3d[2][0]\n",
    "v3d = (1/v3d.norm())*v3d\n",
    "\n",
    "display(v1d, v2d, v3d) "
   ]
  },
  {
   "cell_type": "code",
   "execution_count": null,
   "id": "cc0c9336",
   "metadata": {
    "slideshow": {
     "slide_type": "slide"
    }
   },
   "outputs": [],
   "source": [
    " \n",
    "p = v1c\n",
    "lambda_ = l1c \n",
    "display(p,lambda_)  "
   ]
  },
  {
   "cell_type": "code",
   "execution_count": null,
   "id": "bbfd07c1",
   "metadata": {
    "scrolled": true,
    "slideshow": {
     "slide_type": "slide"
    }
   },
   "outputs": [],
   "source": [
    "display(B*p, 2*sqrt(33)*v1d)  "
   ]
  },
  {
   "cell_type": "code",
   "execution_count": null,
   "id": "11dccb56",
   "metadata": {
    "slideshow": {
     "slide_type": "slide"
    }
   },
   "outputs": [],
   "source": [
    "-sqrt(66)/(-sqrt(2)/2)"
   ]
  },
  {
   "cell_type": "markdown",
   "id": "3458a45c",
   "metadata": {
    "slideshow": {
     "slide_type": "slide"
    }
   },
   "source": [
    "## Conclusión 1\n",
    "\n",
    "Efectivamente $B\\overline{p}$ es un vector propio de $BB^{T}$ siempre que $\\overline{p}$ sea un eigenvector unitario de $B^{T}B$"
   ]
  },
  {
   "cell_type": "code",
   "execution_count": null,
   "id": "51517d64",
   "metadata": {
    "slideshow": {
     "slide_type": "slide"
    }
   },
   "outputs": [],
   "source": [
    "(B*p).norm()**2 == lambda_  \n"
   ]
  },
  {
   "cell_type": "markdown",
   "id": "16eb23da",
   "metadata": {
    "slideshow": {
     "slide_type": "slide"
    }
   },
   "source": [
    "## Conclusión 2\n",
    "\n",
    "Efectivamente $\\Vert Bp \\Vert$ es la raíz de lambda. "
   ]
  },
  {
   "cell_type": "markdown",
   "id": "169cf7f3",
   "metadata": {
    "slideshow": {
     "slide_type": "slide"
    }
   },
   "source": [
    "### Observación:  \n",
    "\n",
    "es muy rápido verificar resultados científicos si te vales de sympy. \n"
   ]
  },
  {
   "cell_type": "markdown",
   "id": "b3802ce9",
   "metadata": {
    "slideshow": {
     "slide_type": "slide"
    }
   },
   "source": [
    "### Prueba:"
   ]
  },
  {
   "cell_type": "markdown",
   "id": "4cb50453",
   "metadata": {
    "slideshow": {
     "slide_type": "slide"
    }
   },
   "source": [
    "Solo mostramos la primera parte del resultado anterior, porque la prueba de la segunda parte es exactamente idéntica al trabajar con $B^{T}$ en lugar de $B$ a lo largo de la prueba."
   ]
  },
  {
   "cell_type": "markdown",
   "id": "6e870fb0",
   "metadata": {
    "slideshow": {
     "slide_type": "slide"
    }
   },
   "source": [
    "Si $\\overline{p}$ es un vector propio de $B^{T}B$ con valor propio $\\lambda$, tenemos lo siguiente:\n",
    "\n",
    "\\begin{align*}\n",
    "B^{T}B\\overline{p} & = \\lambda \\overline{p} \\\\\n",
    "BB^{T}[B\\overline{p}] & = \\lambda[B\\overline{p}] \\ \\ \\ \\  \\text{premultiplicando con $B$}\n",
    "\\end{align*}\n",
    "\n",
    "En otras palabras, $B\\overline{p}$ es un eigenvector de $BB^{T}$ con eigenvalor $\\lambda$. "
   ]
  },
  {
   "cell_type": "markdown",
   "id": "80d85fd1",
   "metadata": {
    "slideshow": {
     "slide_type": "slide"
    }
   },
   "source": [
    "El cuadrado de la norma de $B\\overline{p}$ se puede calcular como sigue:\n",
    "\n",
    "\\begin{align*}\n",
    "\\Vert B\\overline{p} \\Vert^{2} & = [B\\overline{p}]^{T}[B\\overline{p}] \\ \\ \\ \\ \\ \\ \\ \\text{definición del cuadrado de la norma} \\\\\n",
    "                              & = [\\overline{p}^{T}B^{T}][B\\overline{p}] \\ \\ \\ \\text{Transpuesta de un producto} \\\\\n",
    "                              & = \\overline{p}^{T}[B^{T}B \\overline{p}] \\ \\ \\ \\text{Asociatividad del producto matricial} \\\\\n",
    "                              & = \\overline{p}^{T} \\lambda \\overline{p} \\ \\ \\ \\text{hipótesis, $p$ valor propio de $B^{T}B$} \\\\\n",
    "                              & = \\lambda\\left[\\overline{p}^{T}\\overline{p} \\right] \\ \\ \\ \\text{homogeneidad del producto matricial} \\\\\n",
    "                              & = \\lambda \\Vert \\overline{p} \\Vert^{2} \\ \\ \\ \\text{definición de norma de un vector} \\\\\n",
    "                              & = \\lambda \\ \\ \\ \\ \\text{pues $p$ es unitario}\n",
    "\\end{align*}\n"
   ]
  },
  {
   "cell_type": "markdown",
   "id": "9ab670c3",
   "metadata": {
    "slideshow": {
     "slide_type": "slide"
    }
   },
   "source": [
    "Como el cuadrado de la norma de $B\\overline{p}$ es $\\lambda$, entonces la norma de $B\\overline{p}$ es $\\sqrt{\\lambda}$. "
   ]
  },
  {
   "cell_type": "markdown",
   "id": "e5e8b5e2",
   "metadata": {
    "slideshow": {
     "slide_type": "slide"
    }
   },
   "source": [
    "El emparejamiento de los autovectores/autovalores de $B^{T}B$ y $BB^{T}$ también se puede expresar como el siguiente corolario:"
   ]
  },
  {
   "cell_type": "markdown",
   "id": "97defdb4",
   "metadata": {
    "slideshow": {
     "slide_type": "slide"
    }
   },
   "source": [
    "## Corollary 7.2.1 (Eigenvector Pairing)   "
   ]
  },
  {
   "cell_type": "markdown",
   "id": "291d8263",
   "metadata": {
    "slideshow": {
     "slide_type": "slide"
    }
   },
   "source": [
    "1. Sea $B$ una matriz cuadrada de orden $m \\times m$. Entonces, \n",
    "   las matrices $B^{T}B$ y $BB^{T}$ tienen el mismo conjunto de $m$\n",
    "   eigenvalores $\\lambda_{1}, \\ldots, \\lambda_{m}$.  "
   ]
  },
  {
   "cell_type": "markdown",
   "id": "80050007",
   "metadata": {
    "slideshow": {
     "slide_type": "slide"
    }
   },
   "source": [
    "### Verificación con sympy del emparejamiento entre los eigenvectores de $B^{T}B$ y $BB^{T}$"
   ]
  },
  {
   "cell_type": "code",
   "execution_count": 1,
   "id": "a2d60288",
   "metadata": {
    "slideshow": {
     "slide_type": "slide"
    }
   },
   "outputs": [],
   "source": [
    "from sympy import * "
   ]
  },
  {
   "cell_type": "code",
   "execution_count": 2,
   "id": "0155a3c8",
   "metadata": {
    "slideshow": {
     "slide_type": "slide"
    }
   },
   "outputs": [
    {
     "data": {
      "text/latex": [
       "$\\displaystyle \\left[\\begin{matrix}14 & 8 & -6\\\\21 & 11 & 14\\\\16 & -6 & 2\\end{matrix}\\right]$"
      ],
      "text/plain": [
       "Matrix([\n",
       "[14,  8, -6],\n",
       "[21, 11, 14],\n",
       "[16, -6,  2]])"
      ]
     },
     "execution_count": 2,
     "metadata": {},
     "output_type": "execute_result"
    }
   ],
   "source": [
    "B = Matrix([[14, 8, -6],[21, 11, 14],[16, -6,2]]) \n",
    "B "
   ]
  },
  {
   "cell_type": "code",
   "execution_count": 3,
   "id": "f4ed54cf",
   "metadata": {
    "slideshow": {
     "slide_type": "slide"
    }
   },
   "outputs": [
    {
     "data": {
      "text/latex": [
       "$\\displaystyle \\left[\\begin{matrix}132\\\\162\\\\1056\\end{matrix}\\right]$"
      ],
      "text/plain": [
       "Matrix([\n",
       "[ 132],\n",
       "[ 162],\n",
       "[1056]])"
      ]
     },
     "execution_count": 3,
     "metadata": {},
     "output_type": "execute_result"
    }
   ],
   "source": [
    "C = B.T*B\n",
    "lv1,lv2,lv3 = C.eigenvects()                # calcula una lista con tres tuplas de tres componentes\n",
    "                                # (eigenvalor, multiplicidad, lista de eigenvectores asociados)\n",
    "l1c,l2c,l3c = lv1[0], lv2[0], lv3[0]  \n",
    "Lc = Matrix([l1c,l2c,l3c])\n",
    "Lc "
   ]
  },
  {
   "cell_type": "code",
   "execution_count": 4,
   "id": "0925f52c",
   "metadata": {
    "slideshow": {
     "slide_type": "slide"
    }
   },
   "outputs": [
    {
     "data": {
      "text/plain": [
       "True"
      ]
     },
     "execution_count": 4,
     "metadata": {},
     "output_type": "execute_result"
    }
   ],
   "source": [
    "D = B*B.T\n",
    "lv1,lv2,lv3 = D.eigenvects()\n",
    "l1d,l2d,l3d = lv1[0], lv2[0], lv3[0]\n",
    "Ld = Matrix([l1d,l2d,l3d])\n",
    "Lc == Ld "
   ]
  },
  {
   "cell_type": "markdown",
   "id": "118b608b",
   "metadata": {
    "slideshow": {
     "slide_type": "slide"
    }
   },
   "source": [
    "## Conclusión de la verificación"
   ]
  },
  {
   "cell_type": "markdown",
   "id": "8baf7b7e",
   "metadata": {
    "slideshow": {
     "slide_type": "slide"
    }
   },
   "source": [
    "Podemos ver que que para este ejemplo se verifica que las matrices $B^{T}B$ y $BB^{T}$ tiene el mismo conjunto de eigenvalores. "
   ]
  },
  {
   "cell_type": "markdown",
   "id": "69d45ff8",
   "metadata": {
    "slideshow": {
     "slide_type": "slide"
    }
   },
   "source": [
    "## Corolario 7.2.1 (emparejamiento de eigenvectores) segunda parte."
   ]
  },
  {
   "cell_type": "markdown",
   "id": "20b64b4e",
   "metadata": {
    "slideshow": {
     "slide_type": "slide"
    }
   },
   "source": [
    "2. Sean $\\overline{p}_{1}\\ldots ... \\overline{p}_{m}$  los eigenvectores ortonormales de la matriz simétrica $B^{T}B$ de orden $m \\times m$  y sean $\\lambda_{1}, \\ldots, \\lambda_{m}$ los eigenvalores correspondientes. **Entonces es posible hallar** $m$ eigenvectores ortonormales $\\overline{q}_{1},\\ldots, \\overline{q}_{m}$ de $BB^{T}$, de tal manera que se cumpla que:  \n",
    "   \n",
    "   $$ \\overline{q}_{i} \\sqrt{\\lambda_{i}} =  B\\overline{p}_{i}$$\n",
    "   \n",
    "   la relación anterior es válida salvo por el signo. "
   ]
  },
  {
   "cell_type": "code",
   "execution_count": 5,
   "id": "7c13cf35",
   "metadata": {
    "slideshow": {
     "slide_type": "slide"
    }
   },
   "outputs": [],
   "source": [
    "from sympy import * \n",
    "B = Matrix([[14, 8, -6],[21, 11, 14],[16, -6,2]]) \n",
    "C = (B.T)*B\n",
    "D = B*(B.T)\n",
    "lvc1, lvc2, lvc3 = C.eigenvects()\n",
    "lc1,lc2,lc3 = lvc1[0], lvc2[0], lvc3[0]\n",
    "\n",
    "p1, p2,p3 = lvc1[2][0], lvc2[2][0], lvc3[2][0]\n",
    "p1, p2, p3 = (1/p1.norm())*p1, (1/p2.norm())*p2, (1/p3.norm())*p3 \n",
    "\n",
    "q1,q2,q3 = (B*p1)/sqrt(lc1),(B*p2)/sqrt(lc2),(B*p3)/sqrt(lc3) "
   ]
  },
  {
   "cell_type": "code",
   "execution_count": 7,
   "id": "4e8e8a0a",
   "metadata": {
    "slideshow": {
     "slide_type": "slide"
    }
   },
   "outputs": [
    {
     "data": {
      "text/latex": [
       "$\\displaystyle \\left[\\begin{matrix}0\\end{matrix}\\right]$"
      ],
      "text/plain": [
       "Matrix([[0]])"
      ]
     },
     "execution_count": 7,
     "metadata": {},
     "output_type": "execute_result"
    }
   ],
   "source": [
    "q1.T*q2"
   ]
  },
  {
   "cell_type": "code",
   "execution_count": 8,
   "id": "3c9667db",
   "metadata": {
    "slideshow": {
     "slide_type": "slide"
    }
   },
   "outputs": [
    {
     "data": {
      "text/latex": [
       "$\\displaystyle \\left[\\begin{matrix}0\\end{matrix}\\right]$"
      ],
      "text/plain": [
       "Matrix([[0]])"
      ]
     },
     "execution_count": 8,
     "metadata": {},
     "output_type": "execute_result"
    }
   ],
   "source": [
    "q1.T*q3"
   ]
  },
  {
   "cell_type": "code",
   "execution_count": 9,
   "id": "2a5c6afe",
   "metadata": {
    "slideshow": {
     "slide_type": "slide"
    }
   },
   "outputs": [
    {
     "data": {
      "text/latex": [
       "$\\displaystyle \\left[\\begin{matrix}0\\end{matrix}\\right]$"
      ],
      "text/plain": [
       "Matrix([[0]])"
      ]
     },
     "execution_count": 9,
     "metadata": {},
     "output_type": "execute_result"
    }
   ],
   "source": [
    "q2.T*q3"
   ]
  },
  {
   "cell_type": "code",
   "execution_count": 10,
   "id": "ca761197",
   "metadata": {
    "slideshow": {
     "slide_type": "slide"
    }
   },
   "outputs": [
    {
     "data": {
      "text/latex": [
       "$\\displaystyle 1$"
      ],
      "text/plain": [
       "1"
      ]
     },
     "execution_count": 10,
     "metadata": {},
     "output_type": "execute_result"
    }
   ],
   "source": [
    "q1.norm() "
   ]
  },
  {
   "cell_type": "code",
   "execution_count": 11,
   "id": "7f273f96",
   "metadata": {
    "slideshow": {
     "slide_type": "slide"
    }
   },
   "outputs": [
    {
     "data": {
      "text/latex": [
       "$\\displaystyle 1$"
      ],
      "text/plain": [
       "1"
      ]
     },
     "execution_count": 11,
     "metadata": {},
     "output_type": "execute_result"
    }
   ],
   "source": [
    "q2.norm() "
   ]
  },
  {
   "cell_type": "code",
   "execution_count": 12,
   "id": "3d1cd1f3",
   "metadata": {
    "slideshow": {
     "slide_type": "slide"
    }
   },
   "outputs": [
    {
     "data": {
      "text/latex": [
       "$\\displaystyle 1$"
      ],
      "text/plain": [
       "1"
      ]
     },
     "execution_count": 12,
     "metadata": {},
     "output_type": "execute_result"
    }
   ],
   "source": [
    "q3.norm() "
   ]
  },
  {
   "cell_type": "code",
   "execution_count": 14,
   "id": "040c05b5",
   "metadata": {
    "slideshow": {
     "slide_type": "slide"
    }
   },
   "outputs": [
    {
     "data": {
      "text/plain": [
       "True"
      ]
     },
     "execution_count": 14,
     "metadata": {},
     "output_type": "execute_result"
    }
   ],
   "source": [
    "D*q1 == lc1*q1 "
   ]
  },
  {
   "cell_type": "code",
   "execution_count": 15,
   "id": "d7b2ad63",
   "metadata": {
    "slideshow": {
     "slide_type": "slide"
    }
   },
   "outputs": [
    {
     "data": {
      "text/plain": [
       "True"
      ]
     },
     "execution_count": 15,
     "metadata": {},
     "output_type": "execute_result"
    }
   ],
   "source": [
    "D*q2 == lc2*q2 "
   ]
  },
  {
   "cell_type": "code",
   "execution_count": 16,
   "id": "c6c8a592",
   "metadata": {
    "slideshow": {
     "slide_type": "slide"
    }
   },
   "outputs": [
    {
     "data": {
      "text/plain": [
       "True"
      ]
     },
     "execution_count": 16,
     "metadata": {},
     "output_type": "execute_result"
    }
   ],
   "source": [
    "D*q3 == lc3*q3"
   ]
  },
  {
   "cell_type": "markdown",
   "id": "b33a3bbf",
   "metadata": {
    "slideshow": {
     "slide_type": "slide"
    }
   },
   "source": [
    "### Demostración del corolario de emparejamiento de los eigenvectores"
   ]
  },
  {
   "cell_type": "markdown",
   "id": "c14a8d76",
   "metadata": {
    "slideshow": {
     "slide_type": "slide"
    }
   },
   "source": [
    "Esta prueba funciona definiendo cada **$\\overline{q}_{i}$ como una función de $\\overline{p}_{i}$**. "
   ]
  },
  {
   "cell_type": "markdown",
   "id": "754a279f",
   "metadata": {
    "slideshow": {
     "slide_type": "slide"
    }
   },
   "source": [
    "Sea $r \\leq m$ el número de valores propios distintos de cero."
   ]
  },
  {
   "cell_type": "markdown",
   "id": "6a3af3ea",
   "metadata": {
    "slideshow": {
     "slide_type": "slide"
    }
   },
   "source": [
    "En el caso de que $\\overline{p}_{i}$ esté asociado con un autovalor distinto de cero, definimos \n",
    "\n",
    "$$ \\overline{q}_{i} = \\frac{B\\overline{p}_{i}}{\\sqrt{\\lambda}_{i}}, $$\n",
    "\n",
    "y el Lema 7.2.1 asegura que cada $\\overline{q}_{i}$ es un autovector unitario de $BB^{T}$."
   ]
  },
  {
   "cell_type": "markdown",
   "id": "aedc9f56",
   "metadata": {
    "slideshow": {
     "slide_type": "slide"
    }
   },
   "source": [
    "Los vectores propios extraídos $\\overline{q}_{1}, \\ldots, \\overline{q}_{r}$ para valores propios distintos de cero son ortogonales entre sí:  \n",
    "\n",
    "\\begin{align*}\n",
    "\\overline{q}_{i}^{T}\\overline{q}_{j} & = \\frac{Bp_{i}}{\\sqrt{\\lambda_{i}}} \\cdot \\frac{Bp_{j}}{\\sqrt{\\lambda_j}} \\ \\ \\ \\text{de la definición de las funcines $q_{i}(p_{i})$} \\\\\n",
    "& = (B\\overline{p}_{i})^{T}(B\\overline{p}_{j})/\\lambda \\ \\ \\ \\text{haciendo}\\ \\lambda = \\sqrt{\\lambda_{i}}\\sqrt{\\lambda_{j}}\\\\\n",
    "& = \\overline{p}_{i}^{T}[B^{T}B \\overline{p}_{j}]/\\lambda \\ \\ \\ \\text{asociatividad} \\\\\n",
    "& = \\overline{p}_{i}^{T}\\lambda_{j}\\overline{p}_{j}/\\lambda \\ \\ \\ \\text{\\overline{p}_{j} vector propio de $B^{T}B$} \\\\\n",
    "& = (\\lambda_{j}/\\lambda)\\overline{p}_{i}^{T}\\overline{p}_{j} \\ \\ \\ \\text{homogeneidad del producto matricial} \\\\\n",
    "& = 0 \n",
    "\\end{align*} \n",
    "\n"
   ]
  },
  {
   "cell_type": "markdown",
   "id": "b622fba7",
   "metadata": {
    "slideshow": {
     "slide_type": "slide"
    }
   },
   "source": [
    "A continuación, nos centramos en los $(m-r)$ vectores propios cero (es decir, vectores asociados a valores propios nulos) restantes de $B^{T}B$ y $BB^{T}$. "
   ]
  },
  {
   "cell_type": "markdown",
   "id": "33fd9878",
   "metadata": {
    "slideshow": {
     "slide_type": "slide"
    }
   },
   "source": [
    "Cualquier vector propio cero $\\overline{q}_{i}$ de $BB^{T}$ y cualquier vector propio cero de $B^{T}B$ satisface trivialmente $q_{i}\\sqrt{λ_{i}} = Bp_{i}$ porque ambos lados se evalúan a cero."
   ]
  },
  {
   "cell_type": "markdown",
   "id": "94d2630c",
   "metadata": {
    "slideshow": {
     "slide_type": "slide"
    }
   },
   "source": [
    "El punto clave es que $B^{T}B\\overline{p}_{i} = 0$ implica que $Bp_{i} = 0$, y cómo sabemos que $Bp$ es eigen vector de $BB^{T}$, entonces, esta implicación permite emparejar los eigenvectores asociados a valores propios nulos de $B^{T}B$ con los eigenvectores asociados a eigenvalores nulos de $BB^{T}$. \n",
    "\n",
    "En la siguiente línea probaremos esta implicación. "
   ]
  },
  {
   "cell_type": "markdown",
   "id": "013f4b0e",
   "metadata": {
    "slideshow": {
     "slide_type": "slide"
    }
   },
   "source": [
    "(Probemos la anterior implicación).  \n",
    "\n",
    "Supongamos que $B^{T}B\\overline{p}_{i} = 0$. \n",
    "Entonces premultiplicando por $\\overline{p}_{i}^{T}$ obtenemos \n",
    "\n",
    "$$(\\overline{p_{i}}^{T}B^{T})B\\overline{p}_{i} = 0$$\n",
    "\n",
    "$$(Bp)^{T}Bp = 0$$\n",
    "\n",
    "$$ \\Vert Bp \\Vert = 0$$\n",
    "\n",
    "$$ Bp = 0 $$\n",
    "\n",
    "Para ver esto multiplique a izquierda por $\\overline{p}_{i}^{T}$. "
   ]
  },
  {
   "cell_type": "markdown",
   "id": "4cedf30a",
   "metadata": {
    "slideshow": {
     "slide_type": "slide"
    }
   },
   "source": [
    "Por lo tanto, podemos emparejar los autovectores cero de $B^{T}B$ y $BB^{T}$ arbitrariamente."
   ]
  },
  {
   "cell_type": "markdown",
   "id": "cbd10a56",
   "metadata": {
    "slideshow": {
     "slide_type": "slide"
    }
   },
   "source": [
    "El corolario 7.2.1 proporciona una forma de emparejar los vectores propios de $B^{T}B$ y $BB^{T}$ de tal manera que la condición $\\overline{q}_{i}\\sqrt{λ_{i}} = B\\overline{p}_{i}$ siempre se satisface para cualquier par de autovectores ($\\overline{p}_{i}, \\overline{q}_{i})$."
   ]
  },
  {
   "cell_type": "markdown",
   "id": "721e23b7",
   "metadata": {
    "slideshow": {
     "slide_type": "slide"
    }
   },
   "source": [
    "Esta observación se puede utilizar para escribir estas relaciones pareadas en forma de matriz."
   ]
  },
  {
   "cell_type": "markdown",
   "id": "94303adb",
   "metadata": {
    "slideshow": {
     "slide_type": "slide"
    }
   },
   "source": [
    "Esta forma de expresar el emparejamiento se denomina descomposición de valores singulares."
   ]
  },
  {
   "cell_type": "markdown",
   "id": "6331e6d8",
   "metadata": {
    "slideshow": {
     "slide_type": "slide"
    }
   },
   "source": [
    "## Theorem 7.2.1 (Existence of SVD)   \n",
    "\n",
    "Sea $P$ la matriz de orden $m \\times m$ cuyas columnas son los $m$ eigenvectores ortonormales de la matriz $B^{T}B$ de orden $m \\times m$, y sea $\\Sigma$ una matrix diagonal de orden $m \\times m$ cuyas entradas de la diagonal principal contienen las  raíces cuadradas de los correspondientes eigenvalores.  \n",
    "\n",
    "Por convención, las columnas de $P$ y $\\Sigma$ son ordenadas, es decir, los valores singulares son ordenados de manera decreciente.   "
   ]
  },
  {
   "cell_type": "markdown",
   "id": "c57925ee",
   "metadata": {
    "slideshow": {
     "slide_type": "slide"
    }
   },
   "source": [
    "Entonces, es posible hallar una matriz ortogonal $Q$ de orden $m \\times m$ que contiene los eigenvectores ortonormales de $BB^{T}$, tal que ella satisface que:\n",
    "\n",
    "$$ B = Q \\Sigma P^{T} $$"
   ]
  },
  {
   "cell_type": "markdown",
   "id": "48f40802",
   "metadata": {
    "slideshow": {
     "slide_type": "slide"
    }
   },
   "source": [
    "### Prueba: \n",
    "\n",
    "El corolario 7.2.1 asegura que para cualquier conjunto ordenado $\\overline{p}_{1} \\ldots, \\overline{p}_{m}$ de autovectores de $B^{T}B$, existe un conjunto ordenado $\\overline{q}_{1}, \\ldots, \\overline{q}_{m}$ de autovectores de $BB^{T}$, de modo que se satisface lo siguiente para cada $i \\in \\{1, \\ldots, m\\}$:\n",
    "\n",
    "$$ \\overline{q}_{i}\\sqrt{\\lambda} = B\\overline{p}_{i} $$\n"
   ]
  },
  {
   "cell_type": "markdown",
   "id": "dedd88a9",
   "metadata": {
    "slideshow": {
     "slide_type": "slide"
    }
   },
   "source": [
    "Se pueden escribir las $m$ relaciones centradas en vectores como una relación centrada en una única matriz:\n",
    "\n",
    "$$ [\\overline{q}_{1} \\cdots \\overline{q}_{m}]\\Sigma = B[p_{1} \\cdots p_{m}] $$"
   ]
  },
  {
   "cell_type": "markdown",
   "id": "a6c4e621",
   "metadata": {
    "slideshow": {
     "slide_type": "slide"
    }
   },
   "source": [
    "Aquí, $\\Sigma$ es una matriz diagonal de $m \\times m$ cuya $(i,i)$ ésima entrada es $\\sqrt{\\lambda_{i}}$. "
   ]
  },
  {
   "cell_type": "markdown",
   "id": "1d74191b",
   "metadata": {
    "slideshow": {
     "slide_type": "slide"
    }
   },
   "source": [
    "Se puede escribir la relación anterior de la siguiente forma:  \n",
    "\n",
    "$$ Q\\Sigma = BP $$\n"
   ]
  },
  {
   "cell_type": "markdown",
   "id": "eaac6f49",
   "metadata": {
    "slideshow": {
     "slide_type": "slide"
    }
   },
   "source": [
    "Aquí, \n",
    "* $P$ es una matriz ortogonal de orden $m \\times m$ con columnas que contienen a los vectores $\\overline{p}_{1},\\ldots, \\overline{p}_{m}$, y \n",
    "* $Q$ es una matriz ortogonal de orden $m \\times m$ con columnas que contienen a los vectores $\\overline{q}_{1} \\ldots, \\overline{q}_{m}$."
   ]
  },
  {
   "cell_type": "markdown",
   "id": "4f53ddf6",
   "metadata": {
    "slideshow": {
     "slide_type": "slide"
    }
   },
   "source": [
    "Después de la multiplicación de ambos lados con $P^{T}$ y el establecimiento de $PP^{T} = I$, se obtiene \n",
    "\n",
    "$$ Q\\Sigma P^{T} = B. \\nonumber $$"
   ]
  },
  {
   "cell_type": "markdown",
   "id": "5c2df1df",
   "metadata": {
    "slideshow": {
     "slide_type": "slide"
    }
   },
   "source": [
    "Por lo tanto, una descomposición en valores singulares de una matriz cuadrada $B$ siempre existe. $\\square$ "
   ]
  },
  {
   "cell_type": "markdown",
   "id": "58e0dd57",
   "metadata": {
    "slideshow": {
     "slide_type": "slide"
    }
   },
   "source": [
    "Considere la siguiente matriz $B$ y su matriz de dispersión derivada $B^{T}B$:\n",
    "\n",
    "$$ B = \\begin{bmatrix}14&8&-6\\\\21&11&14\\\\16&-6&2\\end{bmatrix}, \\ \\ \\ B^{T}B = \\begin{bmatrix}893&247&242\\\\247&221&94\\\\242&94&236\\end{bmatrix}  $$\n"
   ]
  },
  {
   "cell_type": "markdown",
   "id": "517cd17c",
   "metadata": {
    "slideshow": {
     "slide_type": "slide"
    }
   },
   "source": [
    "Al realizar la descomposición en valores propios de $B^{T}B$ obtenemos vectores propios proporcionales a $[3, 1, 1]^{T}$, $[1, −1, −2]^{T}$ y $[1, −7, 4]^{T}$ (aunque los vectores deben estar normalizados para crear $P$)."
   ]
  },
  {
   "cell_type": "markdown",
   "id": "069d5085",
   "metadata": {
    "slideshow": {
     "slide_type": "slide"
    }
   },
   "source": [
    "Los valores propios correspondientes son $1052$, $162$ y $232$, y las raíces cuadradas de estos valores propios son los valores singulares, que se pueden utilizar para crear la matriz diagonal $\\Sigma$."
   ]
  },
  {
   "cell_type": "markdown",
   "id": "689fc9f3",
   "metadata": {
    "slideshow": {
     "slide_type": "slide"
    }
   },
   "source": [
    "Como tenemos $B = Q\\Sigma P^{T}$, la matriz $Q$ se puede obtener como $BP\\Sigma^{-1}$, que es la siguiente:\n",
    "\n",
    "$$ Q = \\underbrace{\\begin{bmatrix}14&8&-6\\\\21&11&14\\\\16&-6&2\\end{bmatrix}}_{B} \\underbrace{\\begin{bmatrix}3/\\sqrt{11}&1/\\sqrt{6}&1/\\sqrt{66}\\\\1/\\sqrt{11}&-1/\\sqrt{6}&-7/\\sqrt{66}\\\\1/\\sqrt{11}&-2/\\sqrt{6}&4/\\sqrt{66}\\end{bmatrix}}_{P} \\underbrace{\\begin{bmatrix} 4\\sqrt{66}&0&0\\\\0&9\\sqrt{2}&0\\\\0&0&2\\sqrt{33}\\end{bmatrix}^{-1}}_{\\Sigma^{-1}} \\nonumber $$\n"
   ]
  },
  {
   "cell_type": "markdown",
   "id": "c81e20ac",
   "metadata": {
    "slideshow": {
     "slide_type": "slide"
    }
   },
   "source": [
    "Al realizar esta multiplicación, obtenemos una matriz $Q$ cuyas columnas son proporcionales a $[1, 2, 1]^{T}$, $[1, −1, 1]^{T}$, y $[−1, 0, 1]^{T}$, aunque la matriz $Q$ es obtenida en términos de columnas normalizadas."
   ]
  },
  {
   "cell_type": "markdown",
   "id": "e418b1ee",
   "metadata": {
    "slideshow": {
     "slide_type": "slide"
    }
   },
   "source": [
    "Por lo tanto, la SVD de la matriz $B$ se puede expresar como $Q\\Sigma P^{T}$ de la siguiente manera:  \n",
    "\n",
    "$$ \\underbrace{\\begin{bmatrix}1/\\sqrt{6}&1/\\sqrt{3}&-1/\\sqrt{2}\\\\2/\\sqrt{6}&-1/\\sqrt{3}&0\\\\ 1/\\sqrt{6}&1/\\sqrt{3}&1/\\sqrt{2}\\end{bmatrix}}_{Q} \\underbrace{\\begin{bmatrix}4\\sqrt{66}&0&0\\\\0&9\\sqrt{2}&0\\\\0&0&3\\sqrt{33} \\end{bmatrix}}_{\\Sigma} \\underbrace{\\begin{bmatrix}3/\\sqrt{11}&1/\\sqrt{6}&1/\\sqrt{66}\\\\1/\\sqrt{11}&-1/\\sqrt{6}&-7/\\sqrt{66}\\\\1/\\sqrt{11}&-2\\sqrt{6}&4/\\sqrt{66} \\end{bmatrix}^{T}}_{P^{T}} $$\n"
   ]
  },
  {
   "cell_type": "markdown",
   "id": "66347753",
   "metadata": {
    "slideshow": {
     "slide_type": "slide"
    }
   },
   "source": [
    "## Ejemplo anterior visto con Sympy: "
   ]
  },
  {
   "cell_type": "markdown",
   "id": "67d64292",
   "metadata": {
    "slideshow": {
     "slide_type": "slide"
    }
   },
   "source": [
    "Considere la siguiente matriz $B$ y su matriz de dispersión derivada $B^{T}B$:"
   ]
  },
  {
   "cell_type": "code",
   "execution_count": 37,
   "id": "26c0d480",
   "metadata": {
    "slideshow": {
     "slide_type": "slide"
    }
   },
   "outputs": [],
   "source": [
    "from sympy import *"
   ]
  },
  {
   "cell_type": "code",
   "execution_count": 38,
   "id": "ff654d42",
   "metadata": {
    "slideshow": {
     "slide_type": "slide"
    }
   },
   "outputs": [
    {
     "data": {
      "text/latex": [
       "$\\displaystyle \\left[\\begin{matrix}14 & 8 & -6\\\\21 & 11 & 14\\\\16 & -6 & 2\\end{matrix}\\right]$"
      ],
      "text/plain": [
       "Matrix([\n",
       "[14,  8, -6],\n",
       "[21, 11, 14],\n",
       "[16, -6,  2]])"
      ]
     },
     "execution_count": 38,
     "metadata": {},
     "output_type": "execute_result"
    }
   ],
   "source": [
    "B = Matrix([[14,8,-6],[21, 11, 14],[16,-6,2]])\n",
    "B "
   ]
  },
  {
   "cell_type": "code",
   "execution_count": 39,
   "id": "e92b56c9",
   "metadata": {
    "scrolled": true,
    "slideshow": {
     "slide_type": "slide"
    }
   },
   "outputs": [
    {
     "data": {
      "text/latex": [
       "$\\displaystyle \\left[\\begin{matrix}893 & 247 & 242\\\\247 & 221 & 94\\\\242 & 94 & 236\\end{matrix}\\right]$"
      ],
      "text/plain": [
       "Matrix([\n",
       "[893, 247, 242],\n",
       "[247, 221,  94],\n",
       "[242,  94, 236]])"
      ]
     },
     "execution_count": 39,
     "metadata": {},
     "output_type": "execute_result"
    }
   ],
   "source": [
    "C = B.T*B \n",
    "C   "
   ]
  },
  {
   "cell_type": "markdown",
   "id": "42373f73",
   "metadata": {
    "slideshow": {
     "slide_type": "slide"
    }
   },
   "source": [
    "Al realizar la descomposición propia de $B^{T}B$ obtenemos vectores propios proporcionales a $[3, 1, 1]^{T}$, $[1, −1, −2]^{T}$ y $[1, −7, 4]^{T}$ (aunque los vectores deben ser unitarios para crear $P$)."
   ]
  },
  {
   "cell_type": "code",
   "execution_count": 40,
   "id": "9e0478e5",
   "metadata": {
    "slideshow": {
     "slide_type": "slide"
    }
   },
   "outputs": [],
   "source": [
    "p1,p2,p3 = C.eigenvects()[0][2][0], C.eigenvects()[1][2][0], C.eigenvects()[2][2][0]    "
   ]
  },
  {
   "cell_type": "markdown",
   "id": "c15cf66a",
   "metadata": {},
   "source": [
    "Normalicemos los $p_{i}$. "
   ]
  },
  {
   "cell_type": "code",
   "execution_count": 41,
   "id": "d311ba27",
   "metadata": {
    "slideshow": {
     "slide_type": "slide"
    }
   },
   "outputs": [],
   "source": [
    "p1 = (1/p1.norm())*p1\n",
    "p2 = (1/p2.norm())*p2\n",
    "p3 = (1/p3.norm())*p3"
   ]
  },
  {
   "cell_type": "markdown",
   "id": "d22e073c",
   "metadata": {
    "slideshow": {
     "slide_type": "slide"
    }
   },
   "source": [
    "Construyamos la matriz $P$"
   ]
  },
  {
   "cell_type": "code",
   "execution_count": 42,
   "id": "2e825594",
   "metadata": {
    "slideshow": {
     "slide_type": "slide"
    }
   },
   "outputs": [
    {
     "data": {
      "text/latex": [
       "$\\displaystyle \\left[\\begin{matrix}\\frac{\\sqrt{66}}{66} & - \\frac{\\sqrt{6}}{6} & \\frac{3 \\sqrt{11}}{11}\\\\- \\frac{7 \\sqrt{66}}{66} & \\frac{\\sqrt{6}}{6} & \\frac{\\sqrt{11}}{11}\\\\\\frac{2 \\sqrt{66}}{33} & \\frac{\\sqrt{6}}{3} & \\frac{\\sqrt{11}}{11}\\end{matrix}\\right]$"
      ],
      "text/plain": [
       "Matrix([\n",
       "[   sqrt(66)/66, -sqrt(6)/6, 3*sqrt(11)/11],\n",
       "[-7*sqrt(66)/66,  sqrt(6)/6,   sqrt(11)/11],\n",
       "[ 2*sqrt(66)/33,  sqrt(6)/3,   sqrt(11)/11]])"
      ]
     },
     "execution_count": 42,
     "metadata": {},
     "output_type": "execute_result"
    }
   ],
   "source": [
    "P = Matrix([p1.T,p2.T,p3.T]).T\n",
    "P "
   ]
  },
  {
   "cell_type": "markdown",
   "id": "fb4648f7",
   "metadata": {
    "slideshow": {
     "slide_type": "slide"
    }
   },
   "source": [
    "Comprobemos que es una matriz ortonormal"
   ]
  },
  {
   "cell_type": "code",
   "execution_count": 43,
   "id": "1c5e3a0f",
   "metadata": {
    "slideshow": {
     "slide_type": "slide"
    }
   },
   "outputs": [
    {
     "data": {
      "text/latex": [
       "$\\displaystyle \\left[\\begin{matrix}1 & 0 & 0\\\\0 & 1 & 0\\\\0 & 0 & 1\\end{matrix}\\right]$"
      ],
      "text/plain": [
       "Matrix([\n",
       "[1, 0, 0],\n",
       "[0, 1, 0],\n",
       "[0, 0, 1]])"
      ]
     },
     "execution_count": 43,
     "metadata": {},
     "output_type": "execute_result"
    }
   ],
   "source": [
    "P.T*P "
   ]
  },
  {
   "cell_type": "markdown",
   "id": "3d230c47",
   "metadata": {
    "slideshow": {
     "slide_type": "slide"
    }
   },
   "source": [
    "Los valores propios correspondientes son 132, 162 y 1056, y las raíces cuadradas de estos valores propios son los valores singulares, que se pueden utilizar para crear la matriz diagonal $\\Sigma$."
   ]
  },
  {
   "cell_type": "code",
   "execution_count": 44,
   "id": "a49e44cd",
   "metadata": {
    "slideshow": {
     "slide_type": "slide"
    }
   },
   "outputs": [],
   "source": [
    "l1,l2,l3 = C.eigenvects()[0][0], C.eigenvects()[1][0], C.eigenvects()[2][0]"
   ]
  },
  {
   "cell_type": "code",
   "execution_count": 13,
   "id": "6f900fcc",
   "metadata": {
    "slideshow": {
     "slide_type": "slide"
    }
   },
   "outputs": [
    {
     "data": {
      "text/latex": [
       "$\\displaystyle 132$"
      ],
      "text/plain": [
       "132"
      ]
     },
     "execution_count": 13,
     "metadata": {},
     "output_type": "execute_result"
    }
   ],
   "source": [
    "l1 "
   ]
  },
  {
   "cell_type": "code",
   "execution_count": 14,
   "id": "ce51d604",
   "metadata": {
    "slideshow": {
     "slide_type": "slide"
    }
   },
   "outputs": [
    {
     "data": {
      "text/latex": [
       "$\\displaystyle 162$"
      ],
      "text/plain": [
       "162"
      ]
     },
     "execution_count": 14,
     "metadata": {},
     "output_type": "execute_result"
    }
   ],
   "source": [
    "l2"
   ]
  },
  {
   "cell_type": "code",
   "execution_count": 15,
   "id": "68ce05c4",
   "metadata": {
    "slideshow": {
     "slide_type": "slide"
    }
   },
   "outputs": [
    {
     "data": {
      "text/latex": [
       "$\\displaystyle 1056$"
      ],
      "text/plain": [
       "1056"
      ]
     },
     "execution_count": 15,
     "metadata": {},
     "output_type": "execute_result"
    }
   ],
   "source": [
    "l3 "
   ]
  },
  {
   "cell_type": "markdown",
   "id": "6e281d1b",
   "metadata": {
    "slideshow": {
     "slide_type": "slide"
    }
   },
   "source": [
    "Como tenemos $B = Q\\Sigma P^{T}$, la matriz $Q$ se puede obtener como $BP\\Sigma^{− 1}$, que es la siguiente:"
   ]
  },
  {
   "cell_type": "code",
   "execution_count": 45,
   "id": "26af88cb",
   "metadata": {
    "slideshow": {
     "slide_type": "slide"
    }
   },
   "outputs": [],
   "source": [
    "s1,s2,s3 = sqrt(l1), sqrt(l2), sqrt(l3)"
   ]
  },
  {
   "cell_type": "code",
   "execution_count": 17,
   "id": "c31eaaa3",
   "metadata": {
    "slideshow": {
     "slide_type": "slide"
    }
   },
   "outputs": [
    {
     "data": {
      "text/latex": [
       "$\\displaystyle 2 \\sqrt{33}$"
      ],
      "text/plain": [
       "2*sqrt(33)"
      ]
     },
     "execution_count": 17,
     "metadata": {},
     "output_type": "execute_result"
    }
   ],
   "source": [
    "s1 "
   ]
  },
  {
   "cell_type": "code",
   "execution_count": 18,
   "id": "25e6b26d",
   "metadata": {
    "slideshow": {
     "slide_type": "slide"
    }
   },
   "outputs": [
    {
     "data": {
      "text/latex": [
       "$\\displaystyle 9 \\sqrt{2}$"
      ],
      "text/plain": [
       "9*sqrt(2)"
      ]
     },
     "execution_count": 18,
     "metadata": {},
     "output_type": "execute_result"
    }
   ],
   "source": [
    "s2  "
   ]
  },
  {
   "cell_type": "code",
   "execution_count": 19,
   "id": "5e5a7feb",
   "metadata": {
    "slideshow": {
     "slide_type": "slide"
    }
   },
   "outputs": [
    {
     "data": {
      "text/latex": [
       "$\\displaystyle 4 \\sqrt{66}$"
      ],
      "text/plain": [
       "4*sqrt(66)"
      ]
     },
     "execution_count": 19,
     "metadata": {},
     "output_type": "execute_result"
    }
   ],
   "source": [
    "s3 "
   ]
  },
  {
   "cell_type": "code",
   "execution_count": 46,
   "id": "d7ad2808",
   "metadata": {
    "slideshow": {
     "slide_type": "slide"
    }
   },
   "outputs": [
    {
     "data": {
      "text/latex": [
       "$\\displaystyle \\left[\\begin{matrix}2 \\sqrt{33} & 0 & 0\\\\0 & 9 \\sqrt{2} & 0\\\\0 & 0 & 4 \\sqrt{66}\\end{matrix}\\right]$"
      ],
      "text/plain": [
       "Matrix([\n",
       "[2*sqrt(33),         0,          0],\n",
       "[         0, 9*sqrt(2),          0],\n",
       "[         0,         0, 4*sqrt(66)]])"
      ]
     },
     "execution_count": 46,
     "metadata": {},
     "output_type": "execute_result"
    }
   ],
   "source": [
    "Sigma = diag(s1,s2,s3) \n",
    "Sigma "
   ]
  },
  {
   "cell_type": "code",
   "execution_count": 47,
   "id": "ab222f1e",
   "metadata": {
    "slideshow": {
     "slide_type": "slide"
    }
   },
   "outputs": [
    {
     "data": {
      "text/latex": [
       "$\\displaystyle \\left[\\begin{matrix}- \\frac{\\sqrt{2}}{2} & - \\frac{\\sqrt{3}}{3} & \\frac{\\sqrt{6}}{6}\\\\0 & \\frac{\\sqrt{3}}{3} & \\frac{\\sqrt{6}}{3}\\\\\\frac{\\sqrt{2}}{2} & - \\frac{\\sqrt{3}}{3} & \\frac{\\sqrt{6}}{6}\\end{matrix}\\right]$"
      ],
      "text/plain": [
       "Matrix([\n",
       "[-sqrt(2)/2, -sqrt(3)/3, sqrt(6)/6],\n",
       "[         0,  sqrt(3)/3, sqrt(6)/3],\n",
       "[ sqrt(2)/2, -sqrt(3)/3, sqrt(6)/6]])"
      ]
     },
     "execution_count": 47,
     "metadata": {},
     "output_type": "execute_result"
    }
   ],
   "source": [
    "Q = B*P*(Sigma.inv())\n",
    "Q "
   ]
  },
  {
   "cell_type": "code",
   "execution_count": 48,
   "id": "a704e191",
   "metadata": {},
   "outputs": [
    {
     "data": {
      "text/plain": [
       "True"
      ]
     },
     "execution_count": 48,
     "metadata": {},
     "output_type": "execute_result"
    }
   ],
   "source": [
    "B==Q*Sigma*P.T"
   ]
  },
  {
   "cell_type": "markdown",
   "id": "45e75667",
   "metadata": {
    "slideshow": {
     "slide_type": "slide"
    }
   },
   "source": [
    "Al realizar esta multiplicación obtenemos una matriz $Q$ cuyas columnas son proporcionales a $[1, 2, 1]^{T}, [1, −1, 1]^{T}$ y $[−1, 0, 1]^{T}$, aunque la matriz $Q$ se obtiene en términos de columnas normalizadas. "
   ]
  },
  {
   "cell_type": "markdown",
   "id": "07e9a081",
   "metadata": {
    "slideshow": {
     "slide_type": "slide"
    }
   },
   "source": [
    "Por lo tanto, el SVD de la matriz $B$ se puede expresar como $QΣP^{T}$ de la siguiente manera:"
   ]
  },
  {
   "cell_type": "markdown",
   "id": "3c3b698d",
   "metadata": {
    "slideshow": {
     "slide_type": "slide"
    }
   },
   "source": [
    "$$ \\underbrace{\\begin{bmatrix} \\frac{1}{\\sqrt{6}} & \\frac{1}{\\sqrt{3}} & -\\frac{1}{\\sqrt{2}} \\\\\n",
    "\\frac{2}{\\sqrt{6}} & -\\frac{1}{\\sqrt{3}}  & 0 \\\\\n",
    "\\frac{1}{\\sqrt{6}} & \\frac{1}{\\sqrt{3}} & \\frac{1}{\\sqrt{2}} \\end{bmatrix}}_{Q} \\underbrace{\\begin{bmatrix} 4\\sqrt{66} & 0 & 0 \n",
    "\\\\ 0 &9\\sqrt{2} & 0 \n",
    "\\\\ 0 & 0& 2\\sqrt{33} \\end{bmatrix}}_{\\Sigma}\n",
    "\\underbrace{\\begin{bmatrix} \\frac{3}{\\sqrt{11}} & \\frac{1}{\\sqrt{6}} & \\frac{1}{\\sqrt{66}} \\\\\n",
    "\\frac{1}{\\sqrt{11}} & -\\frac{1}{\\sqrt{6}} & -\\frac{7}{\\sqrt{66}} \\\\\n",
    "\\frac{1}{\\sqrt{11}} & -\\frac{2}{\\sqrt{6}}  & \\frac{4}{\\sqrt{66}}  \\end{bmatrix}^{T}}_{P^{T}} $$"
   ]
  },
  {
   "cell_type": "markdown",
   "id": "e7383f48",
   "metadata": {
    "slideshow": {
     "slide_type": "slide"
    }
   },
   "source": [
    "Un punto importante es que derivamos $Q$ de $P$, en lugar de diagonalizar independientemente $BB^{T}$ y $B^{T}B$, y hacer esto último podría conducir a resultados incorrectos debido a la dependencia del signo entre $Q$ y $P$."
   ]
  },
  {
   "cell_type": "markdown",
   "id": "efc7696a",
   "metadata": {
    "slideshow": {
     "slide_type": "slide"
    }
   },
   "source": [
    "Por ejemplo, uno podría usar $−Q$ y $−P$ como la descomposición matrices sin cambiar el producto de las matrices."
   ]
  },
  {
   "cell_type": "markdown",
   "id": "7ac8409c",
   "metadata": {
    "slideshow": {
     "slide_type": "slide"
    }
   },
   "source": [
    " \n",
    "Sin embargo, no podemos usar $−Q$ y $P$ para crear una SVD. "
   ]
  },
  {
   "cell_type": "markdown",
   "id": "03a2bb47",
   "metadata": {
    "slideshow": {
     "slide_type": "slide"
    }
   },
   "source": [
    "Los signos de pares coincidentes de vectores singulares también son interdependientes."
   ]
  },
  {
   "cell_type": "markdown",
   "id": "44c978d1",
   "metadata": {
    "slideshow": {
     "slide_type": "slide"
    }
   },
   "source": [
    "SVD también descompone matrices no diagonalizables, como las siguientes"
   ]
  },
  {
   "cell_type": "markdown",
   "id": "8b284ff1",
   "metadata": {
    "slideshow": {
     "slide_type": "slide"
    }
   },
   "source": [
    "$$ \\begin{bmatrix} 0 & -7 \\\\ 0 & 0 \\end{bmatrix} = \\underbrace{\\begin{bmatrix} -1 & 0 \\\\ 0 & 1 \\end{bmatrix}}_{Q} \\underbrace{\\begin{bmatrix} 7 & 0 \\\\ 0 & 0 \\end{bmatrix}}_{\\Sigma} \\underbrace{\\begin{bmatrix} 0 & 1 \\\\ 1 & 0 \\end{bmatrix}}_{P^{T}} $$"
   ]
  },
  {
   "cell_type": "code",
   "execution_count": 61,
   "id": "51d275b8",
   "metadata": {
    "slideshow": {
     "slide_type": "slide"
    }
   },
   "outputs": [
    {
     "ename": "MatrixError",
     "evalue": "Matrix is not diagonalizable",
     "output_type": "error",
     "traceback": [
      "\u001b[1;31m---------------------------------------------------------------------------\u001b[0m",
      "\u001b[1;31mMatrixError\u001b[0m                               Traceback (most recent call last)",
      "\u001b[1;32m<ipython-input-61-fda8919481cb>\u001b[0m in \u001b[0;36m<module>\u001b[1;34m\u001b[0m\n\u001b[0;32m      1\u001b[0m \u001b[0mE\u001b[0m\u001b[1;33m=\u001b[0m\u001b[0mMatrix\u001b[0m\u001b[1;33m(\u001b[0m\u001b[1;33m[\u001b[0m\u001b[1;33m[\u001b[0m\u001b[1;36m0\u001b[0m\u001b[1;33m,\u001b[0m\u001b[1;33m-\u001b[0m\u001b[1;36m7\u001b[0m\u001b[1;33m]\u001b[0m\u001b[1;33m,\u001b[0m \u001b[1;33m[\u001b[0m\u001b[1;36m0\u001b[0m\u001b[1;33m,\u001b[0m\u001b[1;36m0\u001b[0m\u001b[1;33m]\u001b[0m\u001b[1;33m]\u001b[0m\u001b[1;33m)\u001b[0m\u001b[1;33m\u001b[0m\u001b[1;33m\u001b[0m\u001b[0m\n\u001b[1;32m----> 2\u001b[1;33m \u001b[0mE\u001b[0m\u001b[1;33m.\u001b[0m\u001b[0mdiagonalize\u001b[0m\u001b[1;33m(\u001b[0m\u001b[1;33m)\u001b[0m\u001b[1;33m\u001b[0m\u001b[1;33m\u001b[0m\u001b[0m\n\u001b[0m\u001b[0;32m      3\u001b[0m \u001b[0mE\u001b[0m\u001b[1;33m.\u001b[0m\u001b[0msingular_value_decomposition\u001b[0m\u001b[1;33m(\u001b[0m\u001b[1;33m)\u001b[0m\u001b[1;33m\u001b[0m\u001b[1;33m\u001b[0m\u001b[0m\n",
      "\u001b[1;32m~\\anaconda3\\lib\\site-packages\\sympy\\matrices\\matrices.py\u001b[0m in \u001b[0;36mdiagonalize\u001b[1;34m(self, reals_only, sort, normalize)\u001b[0m\n\u001b[0;32m    382\u001b[0m \u001b[1;33m\u001b[0m\u001b[0m\n\u001b[0;32m    383\u001b[0m     \u001b[1;32mdef\u001b[0m \u001b[0mdiagonalize\u001b[0m\u001b[1;33m(\u001b[0m\u001b[0mself\u001b[0m\u001b[1;33m,\u001b[0m \u001b[0mreals_only\u001b[0m\u001b[1;33m=\u001b[0m\u001b[1;32mFalse\u001b[0m\u001b[1;33m,\u001b[0m \u001b[0msort\u001b[0m\u001b[1;33m=\u001b[0m\u001b[1;32mFalse\u001b[0m\u001b[1;33m,\u001b[0m \u001b[0mnormalize\u001b[0m\u001b[1;33m=\u001b[0m\u001b[1;32mFalse\u001b[0m\u001b[1;33m)\u001b[0m\u001b[1;33m:\u001b[0m\u001b[1;33m\u001b[0m\u001b[1;33m\u001b[0m\u001b[0m\n\u001b[1;32m--> 384\u001b[1;33m         return _diagonalize(self, reals_only=reals_only, sort=sort,\n\u001b[0m\u001b[0;32m    385\u001b[0m                 normalize=normalize)\n\u001b[0;32m    386\u001b[0m \u001b[1;33m\u001b[0m\u001b[0m\n",
      "\u001b[1;32m~\\anaconda3\\lib\\site-packages\\sympy\\matrices\\eigen.py\u001b[0m in \u001b[0;36m_diagonalize\u001b[1;34m(M, reals_only, sort, normalize)\u001b[0m\n\u001b[0;32m    702\u001b[0m \u001b[1;33m\u001b[0m\u001b[0m\n\u001b[0;32m    703\u001b[0m     \u001b[1;32mif\u001b[0m \u001b[1;32mnot\u001b[0m \u001b[0mis_diagonalizable\u001b[0m\u001b[1;33m:\u001b[0m\u001b[1;33m\u001b[0m\u001b[1;33m\u001b[0m\u001b[0m\n\u001b[1;32m--> 704\u001b[1;33m         \u001b[1;32mraise\u001b[0m \u001b[0mMatrixError\u001b[0m\u001b[1;33m(\u001b[0m\u001b[1;34m\"Matrix is not diagonalizable\"\u001b[0m\u001b[1;33m)\u001b[0m\u001b[1;33m\u001b[0m\u001b[1;33m\u001b[0m\u001b[0m\n\u001b[0m\u001b[0;32m    705\u001b[0m \u001b[1;33m\u001b[0m\u001b[0m\n\u001b[0;32m    706\u001b[0m     \u001b[1;32mif\u001b[0m \u001b[0msort\u001b[0m\u001b[1;33m:\u001b[0m\u001b[1;33m\u001b[0m\u001b[1;33m\u001b[0m\u001b[0m\n",
      "\u001b[1;31mMatrixError\u001b[0m: Matrix is not diagonalizable"
     ]
    }
   ],
   "source": [
    "E=Matrix([[0,-7], [0,0]])\n",
    "#E.diagonalize() \n",
    "#E.singular_value_decomposition() "
   ]
  },
  {
   "cell_type": "code",
   "execution_count": 53,
   "id": "e247984a",
   "metadata": {
    "slideshow": {
     "slide_type": "slide"
    }
   },
   "outputs": [
    {
     "data": {
      "text/latex": [
       "$\\displaystyle \\left[\\begin{matrix}-1\\\\0\\end{matrix}\\right]$"
      ],
      "text/plain": [
       "Matrix([\n",
       "[-1],\n",
       "[ 0]])"
      ]
     },
     "execution_count": 53,
     "metadata": {},
     "output_type": "execute_result"
    }
   ],
   "source": [
    "X "
   ]
  },
  {
   "cell_type": "markdown",
   "id": "99f5afc5",
   "metadata": {
    "slideshow": {
     "slide_type": "slide"
    }
   },
   "source": [
    "De hecho, SVD tiene la propiedad clara de relacionar matrices arbitrarias (cuadradas) con semidefinidas positivas con el uso de descomposición polar, que separa explícitamente la matriz de rotorreflexión de la matriz de escala (semidefinida positiva):"
   ]
  },
  {
   "cell_type": "markdown",
   "id": "6dbb1d22",
   "metadata": {
    "slideshow": {
     "slide_type": "slide"
    }
   },
   "source": [
    "## Lema 7.2.2 (Descomposición polar)   "
   ]
  },
  {
   "cell_type": "markdown",
   "id": "16b93076",
   "metadata": {
    "slideshow": {
     "slide_type": "slide"
    }
   },
   "source": [
    "Cualquier matriz cuadrada se puede expresar en la forma $US$, donde $U$ es una matriz ortogonal y $S$ es una matriz semidefinida positiva simétrica."
   ]
  },
  {
   "cell_type": "markdown",
   "id": "04e166f8",
   "metadata": {
    "slideshow": {
     "slide_type": "slide"
    }
   },
   "source": [
    "### Prueba:"
   ]
  },
  {
   "cell_type": "markdown",
   "id": "3afcf051",
   "metadata": {
    "slideshow": {
     "slide_type": "slide"
    }
   },
   "source": [
    "Uno puede escribir la SVD de una matriz cuadrada como $Q\\Sigma P^{T} = (QP^{T}) (P \\Sigma P^{T})$."
   ]
  },
  {
   "cell_type": "markdown",
   "id": "41904bd7",
   "metadata": {
    "slideshow": {
     "slide_type": "slide"
    }
   },
   "source": [
    "La matriz $QP^{T}$ se puede establecer en $U$, y es ortogonal debido a que el producto de matrices ortogonales es cerrado (cf. Capítulo 2)."
   ]
  },
  {
   "cell_type": "markdown",
   "id": "0af87f2f",
   "metadata": {
    "slideshow": {
     "slide_type": "slide"
    }
   },
   "source": [
    "Además, $S$ se puede establecer en $P \\Sigma P^{T}$, que es semidefinida positiva debido a la no negatividad de $\\Sigma$."
   ]
  },
  {
   "cell_type": "markdown",
   "id": "f691b5ee",
   "metadata": {
    "slideshow": {
     "slide_type": "slide"
    }
   },
   "source": [
    "La descomposición polar es geométricamente reveladora, porque nos dice que cada multiplicación de matrices causa un escalado anisotrópico a lo largo de direcciones ortogonales con factores de escala no negativos, seguido de rotorreflexión."
   ]
  },
  {
   "cell_type": "markdown",
   "id": "c3dc8250",
   "metadata": {
    "slideshow": {
     "slide_type": "slide"
    }
   },
   "source": [
    "Cuando falta el componente de rotorreflexión, la matriz resultante es semidefinida positiva."
   ]
  },
  {
   "cell_type": "markdown",
   "id": "2d193f18",
   "metadata": {
    "slideshow": {
     "slide_type": "slide"
    }
   },
   "source": [
    "La matriz $U$ es también la matriz ortogonal más cercana a $B$, al igual que $[\\cos(\\theta), \\sin(\\theta)]^{T}$ es el vector unitario más cercano a las coordenadas polares $r[\\cos (\\theta), \\sin (\\theta)]^{T}$."
   ]
  },
  {
   "cell_type": "markdown",
   "id": "7d13de1d",
   "metadata": {
    "slideshow": {
     "slide_type": "slide"
    }
   },
   "source": [
    "## Verificación del Lema de descomposición polar"
   ]
  },
  {
   "cell_type": "code",
   "execution_count": 29,
   "id": "b79cf229",
   "metadata": {
    "slideshow": {
     "slide_type": "slide"
    }
   },
   "outputs": [
    {
     "data": {
      "text/latex": [
       "$\\displaystyle \\left[\\begin{matrix}1 & 2\\\\2 & 1\\end{matrix}\\right]$"
      ],
      "text/plain": [
       "Matrix([\n",
       "[1, 2],\n",
       "[2, 1]])"
      ]
     },
     "execution_count": 29,
     "metadata": {},
     "output_type": "execute_result"
    }
   ],
   "source": [
    "from sympy import *\n",
    "B = Matrix([[1,2],[2,1]])\n",
    "B "
   ]
  },
  {
   "cell_type": "code",
   "execution_count": 30,
   "id": "395cab93",
   "metadata": {
    "slideshow": {
     "slide_type": "slide"
    }
   },
   "outputs": [],
   "source": [
    "def svd(B):\n",
    "    return B.singular_value_decomposition() "
   ]
  },
  {
   "cell_type": "code",
   "execution_count": 32,
   "id": "b2112575",
   "metadata": {
    "slideshow": {
     "slide_type": "slide"
    }
   },
   "outputs": [],
   "source": [
    "Q,Sigma,P = svd(B) "
   ]
  },
  {
   "cell_type": "code",
   "execution_count": 33,
   "id": "a0f18bff",
   "metadata": {
    "slideshow": {
     "slide_type": "slide"
    }
   },
   "outputs": [],
   "source": [
    "U = Q*(P.T)"
   ]
  },
  {
   "cell_type": "code",
   "execution_count": 34,
   "id": "03026726",
   "metadata": {
    "slideshow": {
     "slide_type": "slide"
    }
   },
   "outputs": [],
   "source": [
    "S = P*Sigma*P.T "
   ]
  },
  {
   "cell_type": "code",
   "execution_count": 36,
   "id": "b20e99f8",
   "metadata": {
    "slideshow": {
     "slide_type": "slide"
    }
   },
   "outputs": [
    {
     "data": {
      "text/plain": [
       "True"
      ]
     },
     "execution_count": 36,
     "metadata": {},
     "output_type": "execute_result"
    }
   ],
   "source": [
    "B==U*S"
   ]
  },
  {
   "cell_type": "markdown",
   "id": "61bc0539",
   "metadata": {
    "slideshow": {
     "slide_type": "slide"
    }
   },
   "source": [
    "## Problem 7.2.1 "
   ]
  },
  {
   "cell_type": "markdown",
   "id": "4e38d40f",
   "metadata": {
    "slideshow": {
     "slide_type": "slide"
    }
   },
   "source": [
    "Sea $B$ una matriz cuadrada y simétrica, que es semidefinida negativa.\n",
    "\n",
    "Muestre que la descomposición en valores singulares de $B$ es de la forma $B = Q\\Sigma P^{T}$, donde $Q = −P$.  "
   ]
  },
  {
   "cell_type": "markdown",
   "id": "989b0f12",
   "metadata": {
    "slideshow": {
     "slide_type": "slide"
    }
   },
   "source": [
    "El punto importante del ejercicio anterior es enfatizar el hecho de que **los valores singulares deben ser no negativos**. Proporcionamos otro ejercicio para enfatizar este hecho:"
   ]
  },
  {
   "cell_type": "markdown",
   "id": "fe4b5d62",
   "metadata": {
    "slideshow": {
     "slide_type": "slide"
    }
   },
   "source": [
    "## Demostración: "
   ]
  },
  {
   "cell_type": "markdown",
   "id": "756ba68e",
   "metadata": {
    "slideshow": {
     "slide_type": "slide"
    }
   },
   "source": [
    "Como $B$ es simétrica entonces existe una descomposición en valores propios para ella, es decir, \n",
    "\n",
    "$$ B = V \\Delta V^{T} $$\n",
    "\n",
    "donde $V$ es una matriz   \n",
    "\n",
    "y $\\Delta$ es una matriz diagonal. \n"
   ]
  },
  {
   "cell_type": "markdown",
   "id": "ec770ca3",
   "metadata": {
    "slideshow": {
     "slide_type": "slide"
    }
   },
   "source": [
    "Por otro lado, la simetría de $B$ implica que $B^{T}B = BB^{T} = BB = B^{2}$. De donde se infiere que los vectores $\\overline{p}_{i}$ y $\\overline{q}_{i}$ son proporcionales porque son autovectores ortonormales que provienen de la misma matriz $B^{2}$.   \n",
    "\n",
    "Como estos vectores son uitarios, entonces respectivemente son iguales o solo pueden diferir en el signo. \n",
    "\n",
    "Veamos que el que $B$ sea definida seminegativa, implica que $q_{i} = -p_{i}$. "
   ]
  },
  {
   "cell_type": "markdown",
   "id": "6effea55",
   "metadata": {
    "slideshow": {
     "slide_type": "slide"
    }
   },
   "source": [
    "## Verificación con sympy del resultado presentado por el problema 7.2.1"
   ]
  },
  {
   "cell_type": "code",
   "execution_count": null,
   "id": "dfdb90e0",
   "metadata": {
    "slideshow": {
     "slide_type": "slide"
    }
   },
   "outputs": [],
   "source": [
    "from sympy import *\n",
    "a,b = symbols('a,b', real = True) \n",
    "B = Matrix([[-9,2],[2,-1]])  \n",
    "B "
   ]
  },
  {
   "cell_type": "code",
   "execution_count": null,
   "id": "17a07f2c",
   "metadata": {
    "scrolled": true,
    "slideshow": {
     "slide_type": "slide"
    }
   },
   "outputs": [],
   "source": [
    "A = Matrix([[a],[b]])  \n",
    "A "
   ]
  },
  {
   "cell_type": "code",
   "execution_count": null,
   "id": "6df7dd89",
   "metadata": {
    "slideshow": {
     "slide_type": "slide"
    }
   },
   "outputs": [],
   "source": [
    "A.T "
   ]
  },
  {
   "cell_type": "code",
   "execution_count": null,
   "id": "d978debc",
   "metadata": {
    "slideshow": {
     "slide_type": "slide"
    }
   },
   "outputs": [],
   "source": [
    "r = (A.T)*B*A \n",
    "r = r[0].simplify()\n",
    "r "
   ]
  },
  {
   "cell_type": "markdown",
   "id": "1e52eb22",
   "metadata": {
    "slideshow": {
     "slide_type": "slide"
    }
   },
   "source": [
    "Consideremos $b$ fijo y calculemos el discriminante $\\Delta$ de la forma cuadrática $r$. "
   ]
  },
  {
   "cell_type": "code",
   "execution_count": null,
   "id": "f13d91cb",
   "metadata": {
    "slideshow": {
     "slide_type": "slide"
    }
   },
   "outputs": [],
   "source": [
    "16*b**2 -4*(-9)*(-b**2)"
   ]
  },
  {
   "cell_type": "markdown",
   "id": "54526a54",
   "metadata": {
    "slideshow": {
     "slide_type": "slide"
    }
   },
   "source": [
    "Grafiquemos la forma cuadrática obtenida $F(x,y)$ en el espacio utilizando matplotlib:\n",
    "\n",
    "$$ F(x,y) = -9x^{2} + 4xy - y^{2} $$\n"
   ]
  },
  {
   "cell_type": "code",
   "execution_count": null,
   "id": "e56de751",
   "metadata": {
    "slideshow": {
     "slide_type": "slide"
    }
   },
   "outputs": [],
   "source": [
    "from mpl_toolkits import mplot3d\n",
    "import numpy as np\n",
    "import matplotlib.pyplot as plt\n",
    "fig = plt.figure()\n",
    "ax = plt.axes(projection='3d')\n",
    "x = np.arange(-5,5,0.25)\n",
    "y = np.arange(-5,5,0.25)\n",
    "X,Y = np.meshgrid(x,y)\n",
    "Z = -9*X**2 + 4*X*Y -Y**2                     # F(x,y) = -9x^{2} + 4xy - y^{2}\n",
    "\n",
    "ax.plot_surface(X, Y, Z)\n",
    "ax.set_title('3D line plot')\n",
    "plt.show()"
   ]
  },
  {
   "cell_type": "markdown",
   "id": "157e5eb8",
   "metadata": {
    "slideshow": {
     "slide_type": "slide"
    }
   },
   "source": [
    "## Problem 7.2.2 "
   ]
  },
  {
   "cell_type": "markdown",
   "id": "f6a790c1",
   "metadata": {
    "slideshow": {
     "slide_type": "slide"
    }
   },
   "source": [
    "Suppose that somebody gave you an $m \\times m$ matrix $B$ and a decomposition of the form $B = Q\\Sigma P^{T}$ , where $Q$ and $P$ are both orthogonal matrices of size $m \\times m$, and $\\Sigma$ is an $m \\times m$ diagonal matrix.   \n",
    "\n",
    "However, you are told that some of the entries of $\\Sigma$ are negative.  \n",
    "\n",
    "Discuss how you would adjust the decomposition in order to convert it into a standard form of singular value decomposition."
   ]
  },
  {
   "cell_type": "markdown",
   "id": "d12fd8fb",
   "metadata": {
    "slideshow": {
     "slide_type": "slide"
    }
   },
   "source": [
    "## Problem 7.2.3 "
   ]
  },
  {
   "cell_type": "markdown",
   "id": "43215f33",
   "metadata": {
    "slideshow": {
     "slide_type": "slide"
    }
   },
   "source": [
    "Suponga que la descomposición en valores propios de una matriz $A$ de orden $3 \\times 3$ puede ser escrita como sigue:"
   ]
  },
  {
   "cell_type": "markdown",
   "id": "2147b78b",
   "metadata": {
    "slideshow": {
     "slide_type": "slide"
    }
   },
   "source": [
    "$$ A = V\\Delta V^{T} = \\begin{bmatrix} v_{11} & v_{12} & v_{13} \\\\ v_{21} & v_{22} & v_{23} \\\\ v_{31} & v_{32} & v_{33} \\end{bmatrix} \\begin{bmatrix} 5 & 0 & 0 \\\\ 0 & -2 & 0 \\\\ 0 & 0 & -3 \\end{bmatrix} \\begin{bmatrix} v_{11} & v_{21} & v_{31}\\\\ v_{12} & v_{22} & v_{32} \\\\ v_{13} & v_{23} & v_{33} \\end{bmatrix} $$  \n",
    "\n",
    "¿Cuál es la descomposición en valores singulares de esta matriz?"
   ]
  },
  {
   "cell_type": "markdown",
   "id": "98e68c44",
   "metadata": {
    "slideshow": {
     "slide_type": "slide"
    }
   },
   "source": [
    "El número de valores singulares distintos de cero da como resultado el rango de la matriz original."
   ]
  },
  {
   "cell_type": "markdown",
   "id": "257d4c34",
   "metadata": {
    "slideshow": {
     "slide_type": "slide"
    }
   },
   "source": [
    "## Lema 7.2.3 \n",
    "\n",
    "Sea $B$ una matriz de orden $m \\times m$ con rango $k \\leq m$. Sea $B = Q\\Sigma P^{T}$ la descomposición en valores singulares de $B$, donde $Q$, $\\Sigma$ y $P^{T}$ son matrices de orden $m \\times  m$.   \n",
    "Entonces, exactamente $m - k$ valores singulares deben ser ceros."
   ]
  },
  {
   "cell_type": "markdown",
   "id": "634fa626",
   "metadata": {
    "slideshow": {
     "slide_type": "slide"
    }
   },
   "source": [
    "### Prueba:   \n",
    "\n",
    "Como se discutió en el Corolario 2.6.3, la multiplicación con una matriz no singular (u ortogonal) no cambia el rango de una matriz.\n",
    "\n",
    "Por tanto, el rango de $B = Q\\Sigma P^{T}$ es el mismo que el de $\\Sigma$.\n",
    " \n",
    "Dado que el rango de $\\Sigma$ es igual al número de valores singulares distintos de cero, el resultado sigue"
   ]
  },
  {
   "cell_type": "code",
   "execution_count": null,
   "id": "03464c4e",
   "metadata": {
    "slideshow": {
     "slide_type": "slide"
    }
   },
   "outputs": [],
   "source": []
  },
  {
   "cell_type": "markdown",
   "id": "55780113",
   "metadata": {
    "slideshow": {
     "slide_type": "slide"
    }
   },
   "source": [
    "## Verificación del Lema 7.2.3"
   ]
  },
  {
   "cell_type": "code",
   "execution_count": null,
   "id": "c1599df7",
   "metadata": {
    "slideshow": {
     "slide_type": "slide"
    }
   },
   "outputs": [],
   "source": []
  },
  {
   "cell_type": "markdown",
   "id": "28424477",
   "metadata": {
    "slideshow": {
     "slide_type": "slide"
    }
   },
   "source": [
    "## Funciones de Python asociadas a la descomposición en valores singulares (SVD)"
   ]
  },
  {
   "cell_type": "markdown",
   "id": "d5a2490a",
   "metadata": {
    "slideshow": {
     "slide_type": "slide"
    }
   },
   "source": [
    "*  `np.linalg.svd(A)`: función de numpy que calcula la descomposición en valores singulares de una matriz $A$\n",
    "*  `.eigenvects()`: el método de sympy para hallar eigenvalores y eigenvectores de una matriz $A$ dada. \n",
    "*  `.singular_value_decomposition()` Método de sympy para determinar la descomposición en valores singulares de una matriz de Sympy dada"
   ]
  },
  {
   "cell_type": "code",
   "execution_count": null,
   "id": "52686f8d",
   "metadata": {
    "slideshow": {
     "slide_type": "slide"
    }
   },
   "outputs": [],
   "source": [
    "B.singular_value_decomposition() "
   ]
  },
  {
   "cell_type": "markdown",
   "id": "d052cfaf",
   "metadata": {
    "slideshow": {
     "slide_type": "slide"
    }
   },
   "source": [
    "## Elementos didácticos para la enseñanza de la ciencia de datos"
   ]
  },
  {
   "cell_type": "markdown",
   "id": "aeba0dc1",
   "metadata": {
    "slideshow": {
     "slide_type": "slide"
    }
   },
   "source": [
    "* Uso de la librería sympy por sus elegantes presentaciones de resultados\n",
    "* Uso de la función display() de sympy por su ayuda a la buena presentación de resultados matemáticos. "
   ]
  },
  {
   "cell_type": "markdown",
   "id": "7b5d099f",
   "metadata": {
    "slideshow": {
     "slide_type": "slide"
    }
   },
   "source": [
    "## Referentes  \n",
    "\n",
    "* Charú. Linear Algebra and Optimizacion for Machine Learning. \n",
    "\n",
    "* https://es.wikipedia.org/wiki/Matriz_definida_positiva \n",
    "\n",
    "* https://docs.sympy.org/latest/tutorial/matrices.html#:~:text=To%20make%20a%20matrix%20in%20SymPy%2C%20use%20the,%5B%201%20%E2%88%92%201%203%204%200%202%5D\n",
    "\n",
    "* https://github.com/sympy/sympy/issues/20029 \n",
    "\n",
    "* https://www.geeksforgeeks.org/python-sympy-matrix-diagonalize-method/ \n",
    "\n",
    "* Sobre el método de diagonalización de Sympy: https://es.acervolima.com/2021/02/09/python-sympy-metodo-matrix-diagonalize/\n"
   ]
  },
  {
   "cell_type": "code",
   "execution_count": null,
   "id": "b75cad08",
   "metadata": {},
   "outputs": [],
   "source": []
  }
 ],
 "metadata": {
  "celltoolbar": "Slideshow",
  "kernelspec": {
   "display_name": "Python 3",
   "language": "python",
   "name": "python3"
  },
  "language_info": {
   "codemirror_mode": {
    "name": "ipython",
    "version": 3
   },
   "file_extension": ".py",
   "mimetype": "text/x-python",
   "name": "python",
   "nbconvert_exporter": "python",
   "pygments_lexer": "ipython3",
   "version": "3.8.8"
  },
  "latex_envs": {
   "LaTeX_envs_menu_present": true,
   "autoclose": false,
   "autocomplete": false,
   "bibliofile": "biblio.bib",
   "cite_by": "apalike",
   "current_citInitial": 1,
   "eqLabelWithNumbers": true,
   "eqNumInitial": 1,
   "hotkeys": {
    "equation": "Ctrl-E",
    "itemize": "Ctrl-I"
   },
   "labels_anchors": false,
   "latex_user_defs": false,
   "report_style_numbering": false,
   "user_envs_cfg": false
  },
  "rise": {
   "enable_chalkboard": true,
   "theme": "sky",
   "transition": "zoom"
  }
 },
 "nbformat": 4,
 "nbformat_minor": 5
}
