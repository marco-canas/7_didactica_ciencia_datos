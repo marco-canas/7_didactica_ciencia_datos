{
 "cells": [
  {
   "cell_type": "markdown",
   "id": "800dd2a7",
   "metadata": {
    "slideshow": {
     "slide_type": "slide"
    }
   },
   "source": [
    "<table align=\"left\">\n",
    "  <td>\n",
    "    <a href=\"https://colab.research.google.com/github/marco-canas/taca/blob/main/ref/charu/7_ch/7_2_SVD_A_Linear_Algebra_Perspective.ipynb\" target=\"_parent\"><img src=\"https://colab.research.google.com/assets/colab-badge.svg\" alt=\"Open In Colab\"/></a>\n",
    "  </td>\n",
    "  <td>\n",
    "    <a target=\"_blank\" href=\"https://kaggle.com/kernels/welcome?src=https://github.com/marco-canas/taca/blob/main/ref/charu/7_ch/7_2_SVD_A_Linear_Algebra_Perspective.ipynb\"><img src=\"https://kaggle.com/static/images/open-in-kaggle.svg\" /></a>\n",
    "  </td>\n",
    "</table>"
   ]
  },
  {
   "cell_type": "markdown",
   "id": "0590a6ae",
   "metadata": {
    "slideshow": {
     "slide_type": "slide"
    }
   },
   "source": [
    "# 7.2.3  Several Definitions of Rectangular Singular Value Decomposition"
   ]
  },
  {
   "cell_type": "markdown",
   "id": "1adb74cf",
   "metadata": {
    "slideshow": {
     "slide_type": "slide"
    }
   },
   "source": [
    "Comenzamos con un resumen formal de la SVD rectangular derivado en la sección anterior:"
   ]
  },
  {
   "cell_type": "markdown",
   "id": "52adde31",
   "metadata": {
    "slideshow": {
     "slide_type": "slide"
    }
   },
   "source": [
    "### Definición 7.2.1 (Descomposición de valores singulares)   \n",
    "\n",
    "Considere una matriz $D$ de $n \\times d$ con entradas de valor real.\n",
    "\n",
    "Dicha matriz siempre se puede factorizar en tres matrices de la siguiente manera:  \n",
    "\n",
    "$$ D = Q\\Sigma P^{T} $$"
   ]
  },
  {
   "cell_type": "markdown",
   "id": "c3971ef4",
   "metadata": {
    "slideshow": {
     "slide_type": "slide"
    }
   },
   "source": [
    "Aquí,   \n",
    "* $Q$ es una matriz $n \\times n$ con columnas ortonormales que contienen los vectores singulares de la izquierda,   \n",
    "* $\\Sigma$ es una matriz \"diagonal\" rectangular de orden $n \\times d$ cuyas entradas de la diagonal principal contienen los valores singulares no negativos en orden decreciente, y   \n",
    "* $P$ es una matriz $d \\times d$ también ortogonal que contiene los vectores singulares derechos."
   ]
  },
  {
   "cell_type": "markdown",
   "id": "d8f92575",
   "metadata": {
    "slideshow": {
     "slide_type": "slide"
    }
   },
   "source": [
    "A continuación, presentamos una serie de propiedades importantes de los vectores singulares de la derecha y de los vectores singulares de la izquierda."
   ]
  },
  {
   "cell_type": "markdown",
   "id": "8223a869",
   "metadata": {
    "slideshow": {
     "slide_type": "slide"
    }
   },
   "source": [
    "Estas propiedades se derivan directamente de la discusión en la sección anterior:"
   ]
  },
  {
   "cell_type": "markdown",
   "id": "2794fb58",
   "metadata": {
    "slideshow": {
     "slide_type": "slide"
    }
   },
   "source": [
    "1. Las $n$ columnas de $Q$, a las que se hace referencia como los vectores singulares de la izquierda, corresponden a los $n$ vectores propios de la matriz de orden $n \\times n$ $DD^{T}$. Tenga en cuenta que estos vectores propios son ortonormales porque \n",
    "   el $DD^{T}$ es una matriz simétrica."
   ]
  },
  {
   "cell_type": "markdown",
   "id": "710e6fd1",
   "metadata": {
    "slideshow": {
     "slide_type": "slide"
    }
   },
   "source": [
    "2. Las $d$ columnas de $P$, que corresponden a los vectores singulares derechos, corresponden a los $d$ autovectores de la\n",
    "   matriz $D^{T}D$ de orden $d \\times d$. Tenga en cuenta que es posible encontrar $d$ autovectores de la matriz $D^{T}D$ \n",
    "   pues ésta es simétrica."
   ]
  },
  {
   "cell_type": "markdown",
   "id": "a807e566",
   "metadata": {
    "slideshow": {
     "slide_type": "slide"
    }
   },
   "source": [
    "3. Las entradas diagonales de la matriz diagonal rectangular $n \\times d$ $\\Sigma$ contienen los valores singulares, que son las raíces \n",
    "   cuadradas de los $\\min\\{n, d\\}$ valores propios  más grandes de $D^{T}D$ o $DD^{T}$."
   ]
  },
  {
   "cell_type": "markdown",
   "id": "5c7b60a7",
   "metadata": {
    "slideshow": {
     "slide_type": "slide"
    }
   },
   "source": [
    "4. Por convención, las columnas de $Q$, $P$ y $\\Sigma$ están ordenadas de acuerdo a un orden decreciente de los valores singulares."
   ]
  },
  {
   "cell_type": "markdown",
   "id": "bf43cefd",
   "metadata": {
    "slideshow": {
     "slide_type": "slide"
    }
   },
   "source": [
    "La forma anterior de descomposición se conoce como **descomposición en valores singulares**."
   ]
  },
  {
   "cell_type": "markdown",
   "id": "510ba1f2",
   "metadata": {
    "slideshow": {
     "slide_type": "slide"
    }
   },
   "source": [
    "Tenga en cuenta que $Q$ o $P$ serán más grandes que la matriz original $D$ cuando $n \\neq d$, y la matriz $n \\times d$ $\\Sigma$ es del mismo tamaño que la matriz original. "
   ]
  },
  {
   "cell_type": "markdown",
   "id": "04d0dabc",
   "metadata": {
    "slideshow": {
     "slide_type": "slide"
    }
   },
   "source": [
    "De hecho, la mayor de $Q$ y $P$ contendrá $|n - d|$ vectores propios no emparejados que no están representados en las $\\min\\{n,d\\}$ entradas diagonales de $\\Sigma$."
   ]
  },
  {
   "cell_type": "markdown",
   "id": "6e1abc89",
   "metadata": {
    "slideshow": {
     "slide_type": "slide"
    }
   },
   "source": [
    "Esto parecería un desperdicio."
   ]
  },
  {
   "cell_type": "markdown",
   "id": "d1b3df76",
   "metadata": {
    "slideshow": {
     "slide_type": "slide"
    }
   },
   "source": [
    "Una forma más económica de descomposición es la descomposición *económica* en valor singular, que puede derivarse de la *descomposición espectral* de la matriz."
   ]
  },
  {
   "cell_type": "markdown",
   "id": "6d66aeea",
   "metadata": {
    "slideshow": {
     "slide_type": "slide"
    }
   },
   "source": [
    "* Sea $\\sigma_{rr}$ la $(r,r)$ entrada de $\\Sigma$,\n",
    "* $q_{r}$ la $r$ -ésima columna de $Q$ y \n",
    "* $p_{r}$ la $r$ - ésima columna de $P$."
   ]
  },
  {
   "cell_type": "markdown",
   "id": "3dfac2ad",
   "metadata": {
    "slideshow": {
     "slide_type": "slide"
    }
   },
   "source": [
    "Entonces, el producto de la matriz $Q\\Sigma P^{T}$ se puede descomponer en la suma de las matrices de rango 1:  \n",
    "\n",
    "$$ D =  Q\\Sigma P^{T} = \\sum_{r = 1}^{\\min\\{ n,d \\}}\\sigma_{rr}q_{r}p_{r}^{T} $$\n"
   ]
  },
  {
   "cell_type": "markdown",
   "id": "99066df1",
   "metadata": {
    "slideshow": {
     "slide_type": "slide"
    }
   },
   "source": [
    "El lado derecho del resultado anterior se obtiene simplemente aplicando una de las formas fundamentales de caracterizar la multiplicación de matrices (cf. Lema 1.2.1 del Capítulo 1) al producto de las matrices $(Q\\Sigma)$ y $P^{T}$."
   ]
  },
  {
   "cell_type": "markdown",
   "id": "4ea48f75",
   "metadata": {
    "slideshow": {
     "slide_type": "slide"
    }
   },
   "source": [
    "La forma anterior de descomposición también se conoce como **descomposición espectral de la matriz $D$**."
   ]
  },
  {
   "cell_type": "markdown",
   "id": "1fc51f61",
   "metadata": {
    "slideshow": {
     "slide_type": "slide"
    }
   },
   "source": [
    "Cada uno de los $\\min \\{n, d\\}$ términos (es decir, la matriz $n \\times d$ $\\sigma_{rr}q_{r}p^{T}_{r}$ en la suma anterior se denomina **componente latente** de la matriz original $D$ de tamaño $n \\times d$."
   ]
  },
  {
   "cell_type": "markdown",
   "id": "92691cca",
   "metadata": {
    "slideshow": {
     "slide_type": "slide"
    }
   },
   "source": [
    "Este término se conoce como un componente latente, porque representa las piezas independientes, ocultas (o latentes) de la matriz $D$."
   ]
  },
  {
   "cell_type": "markdown",
   "id": "f938bb49",
   "metadata": {
    "slideshow": {
     "slide_type": "slide"
    }
   },
   "source": [
    "Tenga en cuenta que cada $q_{r} p_{r}^{T}$ es una matriz de rango $1$ de tamaño $n \\times d$, porque se obtiene del producto de un vector columna $n$-dimensional con un vector fila $d$-dimensional."
   ]
  },
  {
   "cell_type": "markdown",
   "id": "e9efa343",
   "metadata": {
    "slideshow": {
     "slide_type": "slide"
    }
   },
   "source": [
    "La forma anterior de la descomposición espectral proporciona la información necesaria para proponer una forma de SVD, conocida como **descomposición en valores singulares económica**."
   ]
  },
  {
   "cell_type": "markdown",
   "id": "d31f333f",
   "metadata": {
    "slideshow": {
     "slide_type": "slide"
    }
   },
   "source": [
    "La idea es que cada término de la Ecuación 7.1 se puede usar para crear una de las $p = \\min \\{n, d\\}$ columnas  de cada una de las matrices descompuestas:"
   ]
  },
  {
   "cell_type": "markdown",
   "id": "2b6f5b01",
   "metadata": {
    "slideshow": {
     "slide_type": "slide"
    }
   },
   "source": [
    "# Verificación de los hechos teóricos en este cuaderno"
   ]
  },
  {
   "cell_type": "code",
   "execution_count": null,
   "id": "3feb4dbb",
   "metadata": {
    "slideshow": {
     "slide_type": "slide"
    }
   },
   "outputs": [],
   "source": []
  },
  {
   "cell_type": "markdown",
   "id": "25ef5e88",
   "metadata": {
    "slideshow": {
     "slide_type": "slide"
    }
   },
   "source": [
    "## Referentes  \n",
    "\n",
    "* Charu C. Aggarwal. Linear Algebra and Optimization for Machine Learning. \n",
    "ISBN 978-3-030-40343-0 ISBN 978-3-030-40344-7 (eBook)\n",
    "https://doi.org/10.1007/978-3-030-40344-7"
   ]
  },
  {
   "cell_type": "code",
   "execution_count": null,
   "id": "48c098c1",
   "metadata": {},
   "outputs": [],
   "source": []
  }
 ],
 "metadata": {
  "celltoolbar": "Slideshow",
  "kernelspec": {
   "display_name": "Python 3",
   "language": "python",
   "name": "python3"
  },
  "language_info": {
   "codemirror_mode": {
    "name": "ipython",
    "version": 3
   },
   "file_extension": ".py",
   "mimetype": "text/x-python",
   "name": "python",
   "nbconvert_exporter": "python",
   "pygments_lexer": "ipython3",
   "version": "3.8.8"
  },
  "latex_envs": {
   "LaTeX_envs_menu_present": true,
   "autoclose": false,
   "autocomplete": false,
   "bibliofile": "biblio.bib",
   "cite_by": "apalike",
   "current_citInitial": 1,
   "eqLabelWithNumbers": true,
   "eqNumInitial": 1,
   "hotkeys": {
    "equation": "Ctrl-E",
    "itemize": "Ctrl-I"
   },
   "labels_anchors": false,
   "latex_user_defs": false,
   "report_style_numbering": false,
   "user_envs_cfg": false
  },
  "rise": {
   "enable_chalkboard": true,
   "theme": "sky",
   "transition": "sky"
  }
 },
 "nbformat": 4,
 "nbformat_minor": 5
}
