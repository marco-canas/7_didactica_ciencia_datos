{
 "cells": [
  {
   "cell_type": "markdown",
   "id": "e9d99701",
   "metadata": {
    "slideshow": {
     "slide_type": "slide"
    }
   },
   "source": [
    "<table align=\"left\">\n",
    "  <td>\n",
    "    <a href=\"https://colab.research.google.com/github/marco-canas/taca/blob/main/ref/charu/7_ch/7_1_introduction.ipynb\" target=\"_parent\"><img src=\"https://colab.research.google.com/assets/colab-badge.svg\" alt=\"Open In Colab\"/></a>\n",
    "  </td>\n",
    "  <td>\n",
    "    <a target=\"_blank\" href=\"https://kaggle.com/kernels/welcome?src=https://github.com/marco-canas/taca/blob/main/ref/charu/7_ch/7_1_introduction.ipynb\"><img src=\"https://kaggle.com/static/images/open-in-kaggle.svg\" /></a>\n",
    "  </td>\n",
    "</table>\n"
   ]
  },
  {
   "cell_type": "markdown",
   "id": "f5ffbcbd",
   "metadata": {
    "slideshow": {
     "slide_type": "slide"
    }
   },
   "source": [
    "# 7.2.7  Two-Way Versus Three-Way Decompositions"
   ]
  },
  {
   "cell_type": "markdown",
   "id": "f5e429b7",
   "metadata": {
    "slideshow": {
     "slide_type": "slide"
    }
   },
   "source": [
    "La descomposición de valores singulares se define inherentemente como una factorización de tres vías $Q\\Sigma P^{T}$, en la que el factor $Q$ más a la izquierda proporciona una base para el espacio de la columna, el factor $P^{T}$ más a la derecha proporciona una base para el espacio de la fila y la matriz diagonal $\\Sigma$ proporciona una cuantificación de la importancia relativa de los diferentes vectores base."
   ]
  },
  {
   "cell_type": "markdown",
   "id": "47209b40",
   "metadata": {
    "slideshow": {
     "slide_type": "slide"
    }
   },
   "source": [
    "Aunque esta división del trabajo es elegante, las descomposiciones bidireccionales suelen ser más populares en la literatura sobre factorización matricial."
   ]
  },
  {
   "cell_type": "markdown",
   "id": "ac0d87bc",
   "metadata": {
    "slideshow": {
     "slide_type": "slide"
    }
   },
   "source": [
    "En la descomposición bidireccional, una matriz $D$ de orden $n \\times d$ se factoriza en una matriz $U$ de orden $n \\times k$ y una matriz $V$ de orden $d \\times k$, donde $k$ es el rango de la descomposición:  \n",
    "\n",
    "$$ D \\approx UV^{T}  $$\n"
   ]
  },
  {
   "cell_type": "markdown",
   "id": "6c153c2d",
   "metadata": {
    "slideshow": {
     "slide_type": "slide"
    }
   },
   "source": [
    "Si la matriz $D$ original tiene un rango mayor que $k$, la descomposición anterior es solo aproximada (como la SVD truncada)."
   ]
  },
  {
   "cell_type": "markdown",
   "id": "072310be",
   "metadata": {
    "slideshow": {
     "slide_type": "slide"
    }
   },
   "source": [
    "Se puede convertir cualquier factorización de tres vías como SVD en una factorización de dos vías de la siguiente manera  \n",
    "\n",
    "$$ D \\approx  \\underbrace{Q\\Sigma}_{U}\\underbrace{P^{T}}_{V^{T}}  $$\n"
   ]
  },
  {
   "cell_type": "markdown",
   "id": "4f05e8e6",
   "metadata": {
    "slideshow": {
     "slide_type": "slide"
    }
   },
   "source": [
    "En el caso de SVD, es natural absorber la matriz diagonal dentro de Q, porque U = QΣ proporciona las coordenadas del punto de datos en el espacio base k-dimensional correspondiente a\n",
    "las columnas de V = P."
   ]
  },
  {
   "cell_type": "markdown",
   "id": "d238357c",
   "metadata": {
    "slideshow": {
     "slide_type": "slide"
    }
   },
   "source": [
    "Al convertir una descomposición de tres vías en una descomposición de dos vías, la preferencia general es mantener la normalización del factor derecho y absorber la matriz diagonal en el factor izquierdo."
   ]
  },
  {
   "cell_type": "markdown",
   "id": "7f57077a",
   "metadata": {
    "slideshow": {
     "slide_type": "slide"
    }
   },
   "source": [
    "Sin embargo, la realidad es que la descomposición de 2 vías tiene un nivel mucho más bajo de singularidad en comparación con la descomposición de 3 vías."
   ]
  },
  {
   "cell_type": "markdown",
   "id": "7e09f529",
   "metadata": {
    "slideshow": {
     "slide_type": "slide"
    }
   },
   "source": [
    "Por ejemplo, se podría absorber Σ en V T en lugar de U.\n",
    "\n",
    "Además, se pueden escalar U y V de muchas formas sin afectar al producto UV T.\n",
    "\n",
    "Por ejemplo, si multiplicamos cada entrada de U por 2, podemos dividir cada entrada de V por 2 para obtener el mismo producto UV T.\n",
    "\n",
    "Además, podemos aplicar este truco solo a una columna particular (digamos, ª) de cada U y V para obtener el mismo resultado.\n",
    "\n",
    "En este sentido, las factorizaciones bidireccionales a menudo se definen de manera ambigua, a menos que se tenga cuidado de tener reglas claras de normalización para uno de los factores.\n",
    "\n",
    "Sin embargo, las factorizaciones bidireccionales son extremadamente útiles en otras formas de reducción de dimensionalidad (como la factorización de matrices no negativas) debido a la simplicidad de trabajar con solo dos matrices en las formulaciones de optimización.\n",
    "\n",
    "Muchas formas de factorización utilizan modelos de optimización en dos\n",
    "factores, que son relativamente simples desde la perspectiva de los algoritmos de optimización como el descenso de gradientes.\n",
    "\n",
    "La buena noticia es que las factorizaciones de dos vías siempre se pueden convertir a una factorización de tres vías estandarizada como SVD mediante el procedimiento que se describe a continuación."
   ]
  },
  {
   "cell_type": "code",
   "execution_count": null,
   "id": "595d4024",
   "metadata": {
    "slideshow": {
     "slide_type": "slide"
    }
   },
   "outputs": [],
   "source": []
  },
  {
   "cell_type": "code",
   "execution_count": null,
   "id": "2f5f12af",
   "metadata": {},
   "outputs": [],
   "source": []
  },
  {
   "cell_type": "code",
   "execution_count": null,
   "id": "7116a6a9",
   "metadata": {},
   "outputs": [],
   "source": []
  },
  {
   "cell_type": "code",
   "execution_count": null,
   "id": "d9a3bf13",
   "metadata": {},
   "outputs": [],
   "source": []
  },
  {
   "cell_type": "code",
   "execution_count": null,
   "id": "fc3c8457",
   "metadata": {},
   "outputs": [],
   "source": []
  }
 ],
 "metadata": {
  "celltoolbar": "Slideshow",
  "kernelspec": {
   "display_name": "Python 3",
   "language": "python",
   "name": "python3"
  },
  "language_info": {
   "codemirror_mode": {
    "name": "ipython",
    "version": 3
   },
   "file_extension": ".py",
   "mimetype": "text/x-python",
   "name": "python",
   "nbconvert_exporter": "python",
   "pygments_lexer": "ipython3",
   "version": "3.8.8"
  },
  "latex_envs": {
   "LaTeX_envs_menu_present": true,
   "autoclose": false,
   "autocomplete": false,
   "bibliofile": "biblio.bib",
   "cite_by": "apalike",
   "current_citInitial": 1,
   "eqLabelWithNumbers": true,
   "eqNumInitial": 1,
   "hotkeys": {
    "equation": "Ctrl-E",
    "itemize": "Ctrl-I"
   },
   "labels_anchors": false,
   "latex_user_defs": false,
   "report_style_numbering": false,
   "user_envs_cfg": false
  },
  "rise": {
   "enable_chalkboard": true,
   "theme": "sky",
   "transition": "zoom"
  }
 },
 "nbformat": 4,
 "nbformat_minor": 5
}
