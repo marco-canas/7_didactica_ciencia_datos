{
 "cells": [
  {
   "cell_type": "markdown",
   "id": "8e95071a",
   "metadata": {
    "slideshow": {
     "slide_type": "slide"
    }
   },
   "source": [
    "<table align=\"left\">\n",
    "  <td>\n",
    "    <a href=\"https://colab.research.google.com/github/marco-canas/taca/blob/main/ref/charu/7_ch/7_1_introduction.ipynb\" target=\"_parent\"><img src=\"https://colab.research.google.com/assets/colab-badge.svg\" alt=\"Open In Colab\"/></a>\n",
    "  </td>\n",
    "  <td>\n",
    "    <a target=\"_blank\" href=\"https://kaggle.com/kernels/welcome?src=https://github.com/marco-canas/taca/blob/main/ref/charu/7_ch/7_1_introduction.ipynb\"><img src=\"https://kaggle.com/static/images/open-in-kaggle.svg\" /></a>\n",
    "  </td>\n",
    "</table>\n"
   ]
  },
  {
   "cell_type": "markdown",
   "id": "ee0c8416",
   "metadata": {
    "slideshow": {
     "slide_type": "slide"
    }
   },
   "source": [
    "# 7.2.6 Is Singular Value Decomposition Unique?"
   ]
  },
  {
   "cell_type": "markdown",
   "id": "bbd7e22a",
   "metadata": {
    "slideshow": {
     "slide_type": "slide"
    }
   },
   "source": [
    "Dada una matriz de datos, la SVD es una forma de descomposición relativamente restringida en comparación con otros tipos de descomposición como el método $QR$."
   ]
  },
  {
   "cell_type": "markdown",
   "id": "79b58484",
   "metadata": {
    "slideshow": {
     "slide_type": "slide"
    }
   },
   "source": [
    "Por ejemplo, la descomposición $QR$ varía drásticamente según el orden en el que se procesan los diferentes vectores que están ortogonalizados."
   ]
  },
  {
   "cell_type": "markdown",
   "id": "0c9d2bcc",
   "metadata": {
    "slideshow": {
     "slide_type": "slide"
    }
   },
   "source": [
    "Sin embargo, la SVD es mucho más especializada y, a veces, puede ser casi única (independientemente del algoritmo numérico utilizado)."
   ]
  },
  {
   "cell_type": "markdown",
   "id": "1bdcff23",
   "metadata": {
    "slideshow": {
     "slide_type": "slide"
    }
   },
   "source": [
    "En la Sección 3.3.3, aprendió que la diagonalización de una matriz cuadrada es única (después de imponer convenciones de signo y normalización) si no hay valores propios repetidos."
   ]
  },
  {
   "cell_type": "markdown",
   "id": "0a189534",
   "metadata": {
    "slideshow": {
     "slide_type": "slide"
    }
   },
   "source": [
    "La descomposición de valores singulares puede verse como una generalización de la diagonalización de matrices semidefinitas positivas (con vectores propios ortonormales) a matrices que no son simétricas o incluso cuadradas (con vectores singulares ortonormales)."
   ]
  },
  {
   "cell_type": "markdown",
   "id": "ef685764",
   "metadata": {
    "slideshow": {
     "slide_type": "slide"
    }
   },
   "source": [
    "Curiosamente, la condición para la unicidad de la descomposición de valores singulares también es similar a la de la diagonalización: los valores singulares distintos de cero deben ser distintos."
   ]
  },
  {
   "cell_type": "markdown",
   "id": "aa7ec2bc",
   "metadata": {
    "slideshow": {
     "slide_type": "slide"
    }
   },
   "source": [
    "Primero consideramos la descomposición del valor singular de una matriz cuadrada $B$."
   ]
  },
  {
   "cell_type": "markdown",
   "id": "1781d1da",
   "metadata": {
    "slideshow": {
     "slide_type": "slide"
    }
   },
   "source": [
    "La descomposición de valores singulares es casi única, si y solo si todos los valores propios de $B^{T}B$ y $BB^{T}$ son distintos."
   ]
  },
  {
   "cell_type": "markdown",
   "id": "8f089a68",
   "metadata": {
    "slideshow": {
     "slide_type": "slide"
    }
   },
   "source": [
    "En tales casos, la descomposición de valores singulares es única hasta la multiplicación de cualquier columna de $Q$ con $−1$ y la multiplicación de cualquier columna de $P$ por $−1$."
   ]
  },
  {
   "cell_type": "markdown",
   "id": "a87f9339",
   "metadata": {
    "slideshow": {
     "slide_type": "slide"
    }
   },
   "source": [
    "Tenga en cuenta que si multiplicamos la $i$-ésima columna de $Q$ por $-1$ y también multiplicamos la i-ésima columna de $P$ por $-1$, el producto $Q\\Sigma P^{T}$ permanece sin cambios."
   ]
  },
  {
   "cell_type": "markdown",
   "id": "e94a9e2b",
   "metadata": {
    "slideshow": {
     "slide_type": "slide"
    }
   },
   "source": [
    "A lo largo de este capítulo, la definición de la palabra\n",
    "La “unicidad” está ligeramente relajada para permitir este tipo de reflexión."
   ]
  },
  {
   "cell_type": "markdown",
   "id": "e9ba5c1c",
   "metadata": {
    "slideshow": {
     "slide_type": "slide"
    }
   },
   "source": [
    "## Lema 7.2.8 (Condición de unicidad) \n",
    "\n",
    "Considere una matriz cuadrada B de tamaño m × m,\n",
    "que es tal que todos los valores propios de BT B (y BBT) son distintos.\n",
    "\n",
    "Entonces, la descomposición del valor singular de B es única hasta la multiplicación de los vectores singulares por -1."
   ]
  },
  {
   "cell_type": "markdown",
   "id": "ee3e8003",
   "metadata": {
    "slideshow": {
     "slide_type": "slide"
    }
   },
   "source": [
    "Tenga en cuenta que si los valores singulares no son distintos, entonces se puede elegir cualquier base ortonormal del espacio propio de los valores propios vinculados de $B^{T}B$ como los correspondientes vectores singulares derechos en $P^{T}$."
   ]
  },
  {
   "cell_type": "markdown",
   "id": "08cdc3c6",
   "metadata": {
    "slideshow": {
     "slide_type": "slide"
    }
   },
   "source": [
    "Los correspondientes vectores singulares izquierdos se obtienen pre-multiplicando cada uno de estos vectores singulares derechos con B y escalando el resultado a la norma unitaria (cf. Lema 7.2.1)."
   ]
  },
  {
   "cell_type": "markdown",
   "id": "0ee51f24",
   "metadata": {
    "slideshow": {
     "slide_type": "slide"
    }
   },
   "source": [
    "De hecho, hay un número infinito de posibles sistemas de base (ortonormales) para elegir en el subespacio correspondiente a los autovectores vinculados (simplemente seleccionando cualquier base de la vectores propios vinculados)."
   ]
  },
  {
   "cell_type": "markdown",
   "id": "e7ef401d",
   "metadata": {
    "slideshow": {
     "slide_type": "slide"
    }
   },
   "source": [
    "Por lo tanto, los vínculos en los valores singulares siempre aseguran que la descomposición del valor singular no sea única de una manera muy fundamental."
   ]
  },
  {
   "cell_type": "markdown",
   "id": "2e24c0df",
   "metadata": {
    "slideshow": {
     "slide_type": "slide"
    }
   },
   "source": [
    "La discusión anterior se refiere solo a la descomposición de valores singulares de matrices cuadradas."
   ]
  },
  {
   "cell_type": "markdown",
   "id": "18ee6f5b",
   "metadata": {
    "slideshow": {
     "slide_type": "slide"
    }
   },
   "source": [
    "¿Qué pasa con la descomposición de valores singulares de matrices rectangulares? "
   ]
  },
  {
   "cell_type": "markdown",
   "id": "8fcba710",
   "metadata": {
    "slideshow": {
     "slide_type": "slide"
    }
   },
   "source": [
    "Se puede generalizar el resultado de unicidad del Lema 7.2.8 a la descomposición de valores singulares rectangulares, siempre que usemos la variante compacta de descomposición de valores singulares en la que solo se incluyen valores singulares distintos de cero."
   ]
  },
  {
   "cell_type": "markdown",
   "id": "3d8c35fe",
   "metadata": {
    "slideshow": {
     "slide_type": "slide"
    }
   },
   "source": [
    "## Lema 7.2.9 (Unicidad de la SVD compacta) \n",
    "\n",
    "Considere una matriz D de n × d, que es tal que todos los valores singulares distintos de cero son distintos.\n",
    "\n",
    "Entonces, la descomposición compacta del valor singular de D es única hasta la multiplicación de los vectores singulares por -1.\n",
    "\n",
    "Además, la SVD truncada también será única, siempre que los valores singulares retenidos en la descomposición sean distintos."
   ]
  },
  {
   "cell_type": "markdown",
   "id": "ff157128",
   "metadata": {
    "slideshow": {
     "slide_type": "slide"
    }
   },
   "source": [
    "Es muy probable que la descomposición de valores singulares truncados sea única en aplicaciones reales, porque la mayoría de los vínculos (exactos o aproximados) en valores singulares a menudo ocurren en los valores singulares de orden inferior en o cerca de cero."
   ]
  },
  {
   "cell_type": "markdown",
   "id": "a071207a",
   "metadata": {
    "slideshow": {
     "slide_type": "slide"
    }
   },
   "source": [
    "El proceso de truncamiento a menudo elimina la mayoría de estos valores singulares."
   ]
  },
  {
   "cell_type": "markdown",
   "id": "40646999",
   "metadata": {
    "slideshow": {
     "slide_type": "slide"
    }
   },
   "source": [
    "# 7.2.7 Two-Way Versus Three-Way Decompositions"
   ]
  }
 ],
 "metadata": {
  "celltoolbar": "Slideshow",
  "kernelspec": {
   "display_name": "Python 3",
   "language": "python",
   "name": "python3"
  },
  "language_info": {
   "codemirror_mode": {
    "name": "ipython",
    "version": 3
   },
   "file_extension": ".py",
   "mimetype": "text/x-python",
   "name": "python",
   "nbconvert_exporter": "python",
   "pygments_lexer": "ipython3",
   "version": "3.8.8"
  },
  "latex_envs": {
   "LaTeX_envs_menu_present": true,
   "autoclose": false,
   "autocomplete": false,
   "bibliofile": "biblio.bib",
   "cite_by": "apalike",
   "current_citInitial": 1,
   "eqLabelWithNumbers": true,
   "eqNumInitial": 1,
   "hotkeys": {
    "equation": "Ctrl-E",
    "itemize": "Ctrl-I"
   },
   "labels_anchors": false,
   "latex_user_defs": false,
   "report_style_numbering": false,
   "user_envs_cfg": false
  },
  "rise": {
   "enable_chalkboard": true,
   "theme": "sky",
   "transition": "zoom"
  }
 },
 "nbformat": 4,
 "nbformat_minor": 5
}
