{
 "cells": [
  {
   "cell_type": "markdown",
   "id": "1399ffa6",
   "metadata": {
    "slideshow": {
     "slide_type": "slide"
    }
   },
   "source": [
    "# 7.2.5 Two Interpretations of SVD  \n",
    "\n",
    "Página 327 de Charú"
   ]
  },
  {
   "cell_type": "markdown",
   "id": "32493205",
   "metadata": {
    "slideshow": {
     "slide_type": "slide"
    }
   },
   "source": [
    "En esta sección, discutiremos dos interpretaciones de la SVD, que corresponden a las interpretaciones centradas en datos y centradas en la transformación de la SVD."
   ]
  },
  {
   "cell_type": "markdown",
   "id": "e7e99cdd",
   "metadata": {
    "slideshow": {
     "slide_type": "slide"
    }
   },
   "source": [
    "En la interpretación centrada en datos, la SVD se considera una forma de proporcionar una base ortogonal tanto para el espacio de filas como para el espacio de columnas de la matriz de datos $D$."
   ]
  },
  {
   "cell_type": "markdown",
   "id": "dbae5f10",
   "metadata": {
    "slideshow": {
     "slide_type": "slide"
    }
   },
   "source": [
    "Tenga en cuenta que la descomposición $QR$ (véase la sección 2.7.2 del capítulo 2) puede proporcionar una base ortonormal para el espacio de filas o el espacio de columnas (dependiendo de si se realiza en la matriz o su transposición), pero no ambos simultáneamente."
   ]
  },
  {
   "cell_type": "markdown",
   "id": "28a156d7",
   "metadata": {
    "slideshow": {
     "slide_type": "slide"
    }
   },
   "source": [
    "Considere la SVD compacta de la matriz de datos $D$ de orden $n \\times d$ de rango $k$:\n",
    "\n",
    "$$ D = Q \\Sigma P^{T} $$"
   ]
  },
  {
   "cell_type": "markdown",
   "id": "7f27ce5b",
   "metadata": {
    "slideshow": {
     "slide_type": "slide"
    }
   },
   "source": [
    "La matriz $P$  de orden $d \\times k$ contiene los vectores fila base $d$-dimensionales (transpuestas) de $D$ en sus columnas; hay $k$ de ellos porque la matriz de datos original tiene rango $k$. "
   ]
  },
  {
   "cell_type": "markdown",
   "id": "41c7b029",
   "metadata": {
    "slideshow": {
     "slide_type": "slide"
    }
   },
   "source": [
    "La matriz $Q$ de orden $n \\times k$ contiene los vectores base $n$-dimensionales de las columnas de $D$ en sus columnas."
   ]
  },
  {
   "cell_type": "markdown",
   "id": "4178deca",
   "metadata": {
    "slideshow": {
     "slide_type": "slide"
    }
   },
   "source": [
    "En otras palabras, SVD encuentra simultáneamente los conjuntos básicos de las filas (transpuestas) y las columnas de la matriz de datos."
   ]
  },
  {
   "cell_type": "markdown",
   "id": "3fb05b26",
   "metadata": {
    "slideshow": {
     "slide_type": "slide"
    }
   },
   "source": [
    "El cuadrado de la $i$-ésima entrada diagonal de la matriz $\\Sigma$ proporciona una cuantificación de la energía del conjunto de datos unidimensionales $Dp_{i}$ obtenido al proyectarlo a lo largo del $i$-ésimo vector singular derecho."
   ]
  },
  {
   "cell_type": "markdown",
   "id": "2ee699ef",
   "metadata": {
    "slideshow": {
     "slide_type": "slide"
    }
   },
   "source": [
    "Las direcciones con mayor dispersión obviamente retienen más información sobre el conjunto de datos."
   ]
  },
  {
   "cell_type": "markdown",
   "id": "77ab1e31",
   "metadata": {
    "slideshow": {
     "slide_type": "slide"
    }
   },
   "source": [
    "Por ejemplo, cuando el valor singular σii es pequeño, cada el valor en $Dp_{i}$ tiende a ser cercano a cero."
   ]
  },
  {
   "cell_type": "markdown",
   "id": "05dbb9e0",
   "metadata": {
    "slideshow": {
     "slide_type": "slide"
    }
   },
   "source": [
    "Cuando se usa SVD truncado en lugar de SVD compacto, nos estamos restringiendo a encontrar conjuntos de bases aproximados en lugar de conjuntos de bases exactos."
   ]
  },
  {
   "cell_type": "markdown",
   "id": "002c51df",
   "metadata": {
    "slideshow": {
     "slide_type": "slide"
    }
   },
   "source": [
    "En otras palabras, podemos usar estos conjuntos de bases para representar todas las filas en la matriz de datos aproximadamente, pero no exactamente."
   ]
  },
  {
   "cell_type": "markdown",
   "id": "d9376cbb",
   "metadata": {
    "slideshow": {
     "slide_type": "slide"
    }
   },
   "source": [
    "Esta capacidad de la SVD truncada para encontrar simultáneamente bases aproximadas para el espacio de filas y el espacio de columnas se muestra en la Figura 7.4."
   ]
  },
  {
   "cell_type": "markdown",
   "id": "3b18271b",
   "metadata": {
    "slideshow": {
     "slide_type": "slide"
    }
   },
   "source": [
    "Tenga en cuenta que cada una de las k piezas $\\sigma_{ii}q_{i}p^{T}_{i}$ representa una porción de $D$ correspondiente a un componente latente (u oculto) de la matriz. "
   ]
  },
  {
   "cell_type": "markdown",
   "id": "7b576316",
   "metadata": {
    "slideshow": {
     "slide_type": "slide"
    }
   },
   "source": [
    "La SVD truncada, por lo tanto, representa una matriz en términos de sus componentes ocultos dominantes."
   ]
  },
  {
   "cell_type": "markdown",
   "id": "25963489",
   "metadata": {
    "slideshow": {
     "slide_type": "slide"
    }
   },
   "source": [
    "La SVD también se puede interpretar desde un punto de vista centrado en la transformación, especialmente cuando se realiza en matrices cuadradas. "
   ]
  },
  {
   "cell_type": "markdown",
   "id": "2fd7446e",
   "metadata": {
    "slideshow": {
     "slide_type": "slide"
    }
   },
   "source": [
    "Considere una matriz $A$ cuadrada $d \\times d$, que se usa para transformar las filas $d$-dimensionales de la matriz de datos $n \\times d$ $D$ en las filas $d$-dimensionales de la matriz $n \\times d$ $DA$."
   ]
  },
  {
   "cell_type": "markdown",
   "id": "ac69d89b",
   "metadata": {
    "slideshow": {
     "slide_type": "slide"
    }
   },
   "source": [
    "Se puede reemplazar A con su SVD QΣP T, que corresponde a una secuencia de rotación / reflexión, escala anisotrópica y otra rotación/reflexión."
   ]
  },
  {
   "cell_type": "markdown",
   "id": "f73ee1cc",
   "metadata": {
    "slideshow": {
     "slide_type": "slide"
    }
   },
   "source": [
    "Esto parece muy similar a lo que ocurre en la diagonalización de matrices semidefinidas positivas."
   ]
  },
  {
   "cell_type": "markdown",
   "id": "ff1631aa",
   "metadata": {
    "slideshow": {
     "slide_type": "slide"
    }
   },
   "source": [
    "La única diferencia es que las dos rotaciones/reflexiones se cancelan entre sí en matrices semidefinidas positivas, mientras que no se cancelan entre sí en SVD."
   ]
  },
  {
   "cell_type": "markdown",
   "id": "dbe32647",
   "metadata": {
    "slideshow": {
     "slide_type": "slide"
    }
   },
   "source": [
    "SVD implica que cualquier transformación lineal se puede expresar como una combinación de rotación/reflexión y escala."
   ]
  },
  {
   "cell_type": "markdown",
   "id": "495d3712",
   "metadata": {
    "slideshow": {
     "slide_type": "slide"
    }
   },
   "source": [
    "Otra forma de ver este punto es que si tenemos un $n \\times d$ matriz de datos $D$, cuyo diagrama de dispersión es un elipsoide centrado en el origen en dimensiones d, y lo multiplicamos con una matriz d × d arbitraria A para crear la matriz DA, el diagrama de dispersión resultante seguirá siendo una elipsoide orientado!"
   ]
  },
  {
   "cell_type": "markdown",
   "id": "bea3d2b8",
   "metadata": {
    "slideshow": {
     "slide_type": "slide"
    }
   },
   "source": [
    "Tanto los vectores singulares izquierdo como derecho afectarán la orientación final, y los valores singulares afectarán la escala."
   ]
  },
  {
   "cell_type": "markdown",
   "id": "ef9dd053",
   "metadata": {
    "slideshow": {
     "slide_type": "slide"
    }
   },
   "source": [
    "En la Figura 7.5 se ilustra un ejemplo de una transformación de un diagrama de dispersión bidimensional."
   ]
  },
  {
   "cell_type": "markdown",
   "id": "804e6f1f",
   "metadata": {
    "slideshow": {
     "slide_type": "slide"
    }
   },
   "source": [
    "Ambas interpretaciones mencionadas tienen sus raíces en el álgebra lineal."
   ]
  },
  {
   "cell_type": "markdown",
   "id": "6b0beea5",
   "metadata": {
    "slideshow": {
     "slide_type": "slide"
    }
   },
   "source": [
    "La SVD también se puede interpretar desde un punto de vista centrado en la optimización, en el que intenta encontrar una factorización aproximada que preserve la energía máxima del conjunto de datos."
   ]
  },
  {
   "cell_type": "markdown",
   "id": "bb1c2536",
   "metadata": {
    "slideshow": {
     "slide_type": "slide"
    }
   },
   "source": [
    "En la Sección 7.3, exploraremos esta interpretación centrada en la optimización, que es una puerta de entrada a formas más generales de factorización matricial (cf. Capítulo 8)."
   ]
  },
  {
   "cell_type": "code",
   "execution_count": null,
   "id": "62f57f4f",
   "metadata": {
    "slideshow": {
     "slide_type": "slide"
    }
   },
   "outputs": [],
   "source": []
  },
  {
   "cell_type": "code",
   "execution_count": null,
   "id": "99ffa2b8",
   "metadata": {},
   "outputs": [],
   "source": []
  },
  {
   "cell_type": "code",
   "execution_count": null,
   "id": "963d7db8",
   "metadata": {},
   "outputs": [],
   "source": []
  },
  {
   "cell_type": "code",
   "execution_count": null,
   "id": "dce1d090",
   "metadata": {},
   "outputs": [],
   "source": []
  },
  {
   "cell_type": "code",
   "execution_count": null,
   "id": "709d4d05",
   "metadata": {},
   "outputs": [],
   "source": []
  },
  {
   "cell_type": "code",
   "execution_count": null,
   "id": "7eb00f90",
   "metadata": {},
   "outputs": [],
   "source": []
  },
  {
   "cell_type": "code",
   "execution_count": null,
   "id": "79a55a76",
   "metadata": {},
   "outputs": [],
   "source": []
  }
 ],
 "metadata": {
  "celltoolbar": "Slideshow",
  "kernelspec": {
   "display_name": "Python 3",
   "language": "python",
   "name": "python3"
  },
  "language_info": {
   "codemirror_mode": {
    "name": "ipython",
    "version": 3
   },
   "file_extension": ".py",
   "mimetype": "text/x-python",
   "name": "python",
   "nbconvert_exporter": "python",
   "pygments_lexer": "ipython3",
   "version": "3.8.8"
  },
  "latex_envs": {
   "LaTeX_envs_menu_present": true,
   "autoclose": false,
   "autocomplete": false,
   "bibliofile": "biblio.bib",
   "cite_by": "apalike",
   "current_citInitial": 1,
   "eqLabelWithNumbers": true,
   "eqNumInitial": 1,
   "hotkeys": {
    "equation": "Ctrl-E",
    "itemize": "Ctrl-I"
   },
   "labels_anchors": false,
   "latex_user_defs": false,
   "report_style_numbering": false,
   "user_envs_cfg": false
  },
  "rise": {
   "enable_chalkboard": true,
   "theme": "sky",
   "transition": "zoom"
  }
 },
 "nbformat": 4,
 "nbformat_minor": 5
}
