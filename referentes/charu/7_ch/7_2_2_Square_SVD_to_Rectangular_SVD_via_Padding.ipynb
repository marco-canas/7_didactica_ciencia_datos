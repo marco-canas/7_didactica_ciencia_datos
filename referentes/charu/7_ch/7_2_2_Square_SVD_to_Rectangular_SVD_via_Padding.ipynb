{
 "cells": [
  {
   "cell_type": "markdown",
   "id": "26197b8f",
   "metadata": {
    "slideshow": {
     "slide_type": "slide"
    }
   },
   "source": [
    "<table align=\"left\">\n",
    "  <td>\n",
    "    <a href=\"https://colab.research.google.com/github/marco-canas/taca/blob/main/ref/charu/7_ch/7_2_SVD_A_Linear_Algebra_Perspective.ipynb\" target=\"_parent\"><img src=\"https://colab.research.google.com/assets/colab-badge.svg\" alt=\"Open In Colab\"/></a>\n",
    "  </td>\n",
    "  <td>\n",
    "    <a target=\"_blank\" href=\"https://kaggle.com/kernels/welcome?src=https://github.com/marco-canas/taca/blob/main/ref/charu/7_ch/7_2_SVD_A_Linear_Algebra_Perspective.ipynb\"><img src=\"https://kaggle.com/static/images/open-in-kaggle.svg\" /></a>\n",
    "  </td>\n",
    "</table>"
   ]
  },
  {
   "cell_type": "markdown",
   "id": "15a34343",
   "metadata": {
    "slideshow": {
     "slide_type": "slide"
    }
   },
   "source": [
    "# 7.2.2 Square SVD to Rectangular SVD via Padding"
   ]
  },
  {
   "cell_type": "markdown",
   "id": "536aa32b",
   "metadata": {
    "slideshow": {
     "slide_type": "slide"
    }
   },
   "source": [
    "## De la SVD cuadrada a la SVD rectangular mediante relleno"
   ]
  },
  {
   "cell_type": "markdown",
   "id": "7aa58014",
   "metadata": {
    "slideshow": {
     "slide_type": "slide"
    }
   },
   "source": [
    "### [Primer video de apoyo](https://www.youtube.com/watch?v=zCOyP6Ku-Oo)  "
   ]
  },
  {
   "cell_type": "markdown",
   "id": "8e5cac05",
   "metadata": {
    "slideshow": {
     "slide_type": "slide"
    }
   },
   "source": [
    "Considere el caso especial en el que la matriz $B$ de orden $m \\times m$ se obtiene rellenando una matriz $D$ de orden $n \\times d$ con filas o columnas adicionales de valores cero, de modo que tenemos una matriz cuadrada $B$ con $m = \\max \\{n, d\\}$ filas y columnas."
   ]
  },
  {
   "cell_type": "markdown",
   "id": "25dc7d13",
   "metadata": {
    "slideshow": {
     "slide_type": "slide"
    }
   },
   "source": [
    "Este tipo de relleno conduce a una forma natural de realizar SVD de matrices rectangulares porque porciones de las matrices factorizadas (innecesariamente grandes) de la matriz rellenada se pueden extraer para crear una descomposición de la matriz original (sin el relleno)."
   ]
  },
  {
   "cell_type": "markdown",
   "id": "e3a3a087",
   "metadata": {
    "slideshow": {
     "slide_type": "slide"
    }
   },
   "source": [
    "Por ejemplo, mientras se trabaja con una matriz de orden $n \\times d$ denotada por $D$, se puede factorizar a ésta en una secuencia de una matriz ortogonal $n \\times n$, una matriz diagonal rectangular $n \\times d$ y una matriz ortogonal $d \\times d$."
   ]
  },
  {
   "cell_type": "markdown",
   "id": "96a96b27",
   "metadata": {
    "slideshow": {
     "slide_type": "slide"
    }
   },
   "source": [
    "Estas tres matrices (más pequeñas) se pueden extraer directamente como porciones de los tres factores (más grandes) de la matriz $B$ de orden $m \\times m$. "
   ]
  },
  {
   "cell_type": "markdown",
   "id": "9f16f901",
   "metadata": {
    "slideshow": {
     "slide_type": "slide"
    }
   },
   "source": [
    "Considere una situación en la que una matriz $D$ de orden $n \\times d$ se rellena con ceros (en filas o columnas) para obtener la matriz cuadrada $B$."
   ]
  },
  {
   "cell_type": "markdown",
   "id": "a0c579db",
   "metadata": {
    "slideshow": {
     "slide_type": "slide"
    }
   },
   "source": [
    "En tales casos, se puede demostrar que la descomposición en valores singulares tiene uno de los siguientes dos tipos de estructuras diagonales de bloques de matrices factores:"
   ]
  },
  {
   "cell_type": "markdown",
   "id": "21299de9",
   "metadata": {
    "slideshow": {
     "slide_type": "slide"
    }
   },
   "source": [
    "## Lemma 7.2.4 (Block Diagonal Structure of Padded SVD)"
   ]
  },
  {
   "cell_type": "markdown",
   "id": "f24ef416",
   "metadata": {
    "slideshow": {
     "slide_type": "slide"
    }
   },
   "source": [
    "Sea $B$ una matriz $m \\times m$ obtenida rellenando la matriz $D$ de orden $n \\times d$ con filas de ceros o columnas de ceros, donde $m = \\max \\{n, d\\}$."
   ]
  },
  {
   "cell_type": "markdown",
   "id": "8dc10486",
   "metadata": {
    "slideshow": {
     "slide_type": "slide"
    }
   },
   "source": [
    "Entonces, dependiendo de si $n$ o $d$ es mayor, existe una descomposición en valores singulares $B = Q\\Sigma P^{T}$ con uno de los siguientes dos tipos de formas:"
   ]
  },
  {
   "cell_type": "markdown",
   "id": "0a124458",
   "metadata": {
    "slideshow": {
     "slide_type": "slide"
    }
   },
   "source": [
    "$$ B = \\begin{bmatrix} D & 0 \\end{bmatrix}_{m \\times m} = Q \\underbrace{\\begin{bmatrix} \\Sigma_{1} & 0 \\\\ 0 & 0  \\end{bmatrix}}_{\\Sigma}  \\underbrace{\\begin{bmatrix} P_{1} & 0 \\\\ 0 & P_{2}\\end{bmatrix}^{T}}_{P^{T}}, \\ \\ \\ \\text{cuando} \\ d < n  \\nonumber $$"
   ]
  },
  {
   "cell_type": "markdown",
   "id": "13e09f2d",
   "metadata": {
    "slideshow": {
     "slide_type": "slide"
    }
   },
   "source": [
    "$$ B = \\begin{bmatrix} D \\\\ 0 \\end{bmatrix}_{m \\times m} = \\underbrace{\\begin{bmatrix} Q_{1} & 0 \\\\ 0 & Q_{2} \\end{bmatrix}}_{Q} \\underbrace{\\begin{bmatrix} \\Sigma_{1} & 0 \\\\ 0 & 0 \\end{bmatrix}}_{\\Sigma}P^{T}, \\ \\ \\ \\text{cuando}\\ \\ n < d  \\nonumber $$"
   ]
  },
  {
   "cell_type": "markdown",
   "id": "bc879c63",
   "metadata": {
    "slideshow": {
     "slide_type": "slide"
    }
   },
   "source": [
    "Las matrices, $Q$, $P$, y $\\Sigma$ son todas de tamaño $m \\times m$, como en el caso de la SVD cuadrada."
   ]
  },
  {
   "cell_type": "markdown",
   "id": "7210b278",
   "metadata": {
    "slideshow": {
     "slide_type": "slide"
    }
   },
   "source": [
    "La matriz $P_{1}$ es de tamaño $d \\times d$, y $Q_{1}$ es de tamaño $n \\times n$. "
   ]
  },
  {
   "cell_type": "markdown",
   "id": "ac9a728c",
   "metadata": {
    "slideshow": {
     "slide_type": "slide"
    }
   },
   "source": [
    "Las matrices $P_{2}$ y $Q_{2}$ son de tamaños $(m − d) \\times (m − d)$ and $(m − n) \\times (m − n)$, respectivamente. "
   ]
  },
  {
   "cell_type": "markdown",
   "id": "334edde7",
   "metadata": {
    "slideshow": {
     "slide_type": "slide"
    }
   },
   "source": [
    "La matriz $\\Sigma_{1}$ es de tamaño $\\min\\{n, d\\} \\times \\min\\{n, d\\}$."
   ]
  },
  {
   "cell_type": "markdown",
   "id": "29f6ef20",
   "metadata": {
    "slideshow": {
     "slide_type": "slide"
    }
   },
   "source": [
    "### Proof Sketch (Boceto de prueba): "
   ]
  },
  {
   "cell_type": "markdown",
   "id": "793bc5c9",
   "metadata": {
    "slideshow": {
     "slide_type": "slide"
    }
   },
   "source": [
    "Considere el primer caso anterior donde $B = [D\\ 0]$ y $d<n$."
   ]
  },
  {
   "cell_type": "markdown",
   "id": "34f65e44",
   "metadata": {
    "slideshow": {
     "slide_type": "slide"
    }
   },
   "source": [
    "En tal caso, $B^{T}B$ solo tendrá un único bloque distinto de cero de tamaño $d \\times d$ en la esquina superior izquierda.\n",
    "\n",
    "$$ B^{T}B = \\begin{bmatrix} F & 0 \\\\ 0 & 0 \\end{bmatrix} $$"
   ]
  },
  {
   "cell_type": "markdown",
   "id": "a0616f40",
   "metadata": {
    "slideshow": {
     "slide_type": "slide"
    }
   },
   "source": [
    "Como resultado, tendrá como máximo $d$ valores propios distintos de cero, cuyas raíces cuadradas se pueden usar para crear la matriz diagonal $\\Sigma_{1}$ de orden $d \\times d$."
   ]
  },
  {
   "cell_type": "markdown",
   "id": "715f7da9",
   "metadata": {
    "slideshow": {
     "slide_type": "slide"
    }
   },
   "source": [
    "Los vectores propios de su bloque superior izquierdo estarán contenidos en la matriz $P_{1}$ de orden $d \\times d$. "
   ]
  },
  {
   "cell_type": "markdown",
   "id": "b5cf0e6c",
   "metadata": {
    "slideshow": {
     "slide_type": "slide"
    }
   },
   "source": [
    "Deje que la matriz $P_{2}$ de orden $(n - d) \\times (n - d)$ se cree apilando cualquier conjunto de $(n-d)$ vectores columna ortonormales en $\\mathbb{R}^{(n − d)}$."
   ]
  },
  {
   "cell_type": "markdown",
   "id": "bbf0bfd1",
   "metadata": {
    "slideshow": {
     "slide_type": "slide"
    }
   },
   "source": [
    "Queda por mostrar que si las matrices $P$ y $\\Sigma$ se construyen usando $P_{1}$, $P_{2}$ y $\\Sigma_{1}$ usando la estructura de bloques que se muestra en el lado derecho de la primera relación anterior, entonces   \n",
    "\n",
    "(i) $P$ contendrá tanto los vectores propios asociados a valores propios distintos de cero como los vectores propios asociados a los valores propios nulos de $B^{T}B$, y   \n",
    "(ii) la matriz $\\Sigma_{2}$ contiene los autovalores de $B^{T}B$."
   ]
  },
  {
   "cell_type": "markdown",
   "id": "5ae776f1",
   "metadata": {
    "slideshow": {
     "slide_type": "slide"
    }
   },
   "source": [
    "Esto se puede lograr mostrando que la $i$-ésima columna de $P$ es un vector propio derecho de $B^{T}B$ con el valor propio correspondiente contenido en la $i$-ésima entrada diagonal de $\\Sigma_{2}$."
   ]
  },
  {
   "cell_type": "markdown",
   "id": "36bd041c",
   "metadata": {
    "slideshow": {
     "slide_type": "slide"
    }
   },
   "source": [
    "El resultado es válido porque para $i \\leq d$, los autovectores y autovalores se heredan de autovectores de la parte superior izquierda de $B^{T}B$ con tamaño $d \\times d$."
   ]
  },
  {
   "cell_type": "markdown",
   "id": "f98151de",
   "metadata": {
    "slideshow": {
     "slide_type": "slide"
    }
   },
   "source": [
    "Estos autovectores están contenidos en $P_{1}$ y el relleno simplemente agrega $(n - d)$ valores cero tanto a la $i$-ésima columna de $B^{T}B$ como a la $i$-ésima columna de $P$."
   ]
  },
  {
   "cell_type": "markdown",
   "id": "d9099b4f",
   "metadata": {
    "slideshow": {
     "slide_type": "slide"
    }
   },
   "source": [
    "Para $i > d$, se puede demostrar que cualquier vector $n$-dimensional con valores cero en las primeras $d$ componentes es un vector propio de $B^{T}B$ (con valor propio $0$) debido a la estructura de bloques de $B^{T}B$."
   ]
  },
  {
   "cell_type": "markdown",
   "id": "ad688a3b",
   "metadata": {
    "slideshow": {
     "slide_type": "slide"
    }
   },
   "source": [
    "Además, se puede demostrar que la matriz $P$ es ortogonal porque sus dos bloques son matrices ortogonales."
   ]
  },
  {
   "cell_type": "markdown",
   "id": "825f05ce",
   "metadata": {
    "slideshow": {
     "slide_type": "slide"
    }
   },
   "source": [
    "La matriz $Q$ se puede extraer de $B$, $\\Sigma$ y $P$ usando los métodos discutidos en la demostración del Teorema 7.2.1."
   ]
  },
  {
   "cell_type": "markdown",
   "id": "24d23dfb",
   "metadata": {
    "slideshow": {
     "slide_type": "slide"
    }
   },
   "source": [
    "Por tanto, se puede crear una SVD respetando la estructura diagonal de bloques en el primer caso del enunciado del lema (cuando $n > d$)."
   ]
  },
  {
   "cell_type": "markdown",
   "id": "e912d301",
   "metadata": {
    "slideshow": {
     "slide_type": "slide"
    }
   },
   "source": [
    "El segundo caso para $n < d$ se puede probar usando un argumento similar."
   ]
  },
  {
   "cell_type": "markdown",
   "id": "65c383a0",
   "metadata": {
    "slideshow": {
     "slide_type": "slide"
    }
   },
   "source": [
    "En lugar de utilizar la descomposición de valores singulares en la matriz rellenada $B$, se puede descomponer directamente la matriz $D$ extrayendo porciones de la estructura de bloques de la SVD rellenada:\n",
    "\n",
    "$$ D = Q \\begin{bmatrix} \\Sigma_{1} \\\\ 0 \\end{bmatrix} P_{1}^{T}, \\ \\ \\ \\text{When} \\  d < n $$\n",
    "\n",
    "$$ D = Q_{1}\\begin{bmatrix} \\Sigma_{1} & 0 \\end{bmatrix}P^{T}, \\ \\ \\ \\ \\text{When}\\ n < d $$"
   ]
  },
  {
   "cell_type": "markdown",
   "id": "f8499537",
   "metadata": {
    "slideshow": {
     "slide_type": "slide"
    }
   },
   "source": [
    "Tanto $Q$ como $P$ son cuadradas, y solo la matriz diagonal $\\Sigma$ de orden $n \\times d$ es rectangular en ambas relaciones."
   ]
  },
  {
   "cell_type": "markdown",
   "id": "0ff65065",
   "metadata": {
    "slideshow": {
     "slide_type": "slide"
    }
   },
   "source": [
    "La submatriz cuadrada $\\Sigma_{1}$ es de tamaño $\\min \\{n, d\\} \\times \\min \\{n, d\\}$, y la matriz $\\Sigma$ de orden $n \\times d$ se obtiene rellenando con $(n - d)$ filas o columnas de ceros."
   ]
  },
  {
   "cell_type": "markdown",
   "id": "ac4da6b5",
   "metadata": {
    "slideshow": {
     "slide_type": "slide"
    }
   },
   "source": [
    "A diferencia de la SVD de $B$, los vectores singulares de la derecha y los vectores singulares de la izquierda de $D$ ya no tienen la misma dimensionalidad."
   ]
  },
  {
   "cell_type": "markdown",
   "id": "7af0f64f",
   "metadata": {
    "slideshow": {
     "slide_type": "slide"
    }
   },
   "source": [
    "La matriz de vectores singulares izquierda es siempre de tamaño $n \\times n$, mientras que la matriz de vectores singulares derecha es siempre de tamaño $d \\times d$."
   ]
  },
  {
   "cell_type": "markdown",
   "id": "30272323",
   "metadata": {
    "slideshow": {
     "slide_type": "slide"
    }
   },
   "source": [
    "Esta es la forma estándar de descomposición de valores singulares de una matriz rectangular $D_{n \\times d}$."
   ]
  },
  {
   "cell_type": "markdown",
   "id": "3b4a689e",
   "metadata": {
    "slideshow": {
     "slide_type": "slide"
    }
   },
   "source": [
    "Sin embargo, otras variaciones de la descomposición de valores singulares son incluso más económicas y se analizarán en la siguiente sección."
   ]
  },
  {
   "cell_type": "markdown",
   "id": "649179a1",
   "metadata": {
    "slideshow": {
     "slide_type": "slide"
    }
   },
   "source": [
    "## Ejemplo de verificación de la descomposición en valores singulares vía relleno. "
   ]
  },
  {
   "cell_type": "code",
   "execution_count": 6,
   "id": "c609384a",
   "metadata": {
    "slideshow": {
     "slide_type": "slide"
    }
   },
   "outputs": [
    {
     "data": {
      "text/latex": [
       "$\\displaystyle \\left[\\begin{matrix}1 & -1\\\\2 & -2\\\\-1 & 1\\end{matrix}\\right]$"
      ],
      "text/plain": [
       "Matrix([\n",
       "[ 1, -1],\n",
       "[ 2, -2],\n",
       "[-1,  1]])"
      ]
     },
     "execution_count": 6,
     "metadata": {},
     "output_type": "execute_result"
    }
   ],
   "source": [
    "from sympy import *\n",
    "D = Matrix([[1,-1],[2,-2],[-1,1]])\n",
    "D "
   ]
  },
  {
   "cell_type": "code",
   "execution_count": 7,
   "id": "f9a8d109",
   "metadata": {
    "slideshow": {
     "slide_type": "slide"
    }
   },
   "outputs": [],
   "source": [
    "Q,Sigma, P = D.singular_value_decomposition() "
   ]
  },
  {
   "cell_type": "code",
   "execution_count": 25,
   "id": "2ed283b4",
   "metadata": {
    "slideshow": {
     "slide_type": "slide"
    }
   },
   "outputs": [
    {
     "data": {
      "text/latex": [
       "$\\displaystyle \\left[\\begin{matrix}- \\frac{\\sqrt{6}}{6}\\\\- \\frac{\\sqrt{6}}{3}\\\\\\frac{\\sqrt{6}}{6}\\end{matrix}\\right]$"
      ],
      "text/plain": [
       "Matrix([\n",
       "[-sqrt(6)/6],\n",
       "[-sqrt(6)/3],\n",
       "[ sqrt(6)/6]])"
      ]
     },
     "metadata": {},
     "output_type": "display_data"
    },
    {
     "data": {
      "text/latex": [
       "$\\displaystyle \\left[\\begin{matrix}2 \\sqrt{3}\\end{matrix}\\right]$"
      ],
      "text/plain": [
       "Matrix([[2*sqrt(3)]])"
      ]
     },
     "metadata": {},
     "output_type": "display_data"
    },
    {
     "data": {
      "text/latex": [
       "$\\displaystyle \\left[\\begin{matrix}- \\frac{\\sqrt{2}}{2}\\\\\\frac{\\sqrt{2}}{2}\\end{matrix}\\right]$"
      ],
      "text/plain": [
       "Matrix([\n",
       "[-sqrt(2)/2],\n",
       "[ sqrt(2)/2]])"
      ]
     },
     "metadata": {},
     "output_type": "display_data"
    }
   ],
   "source": [
    "display(Q,Sigma, P)"
   ]
  },
  {
   "cell_type": "code",
   "execution_count": 27,
   "id": "4fcf7cb2",
   "metadata": {
    "slideshow": {
     "slide_type": "slide"
    }
   },
   "outputs": [
    {
     "data": {
      "text/latex": [
       "$\\displaystyle \\left[\\begin{matrix}1 & 2 & -1\\\\-1 & -2 & 1\\end{matrix}\\right]$"
      ],
      "text/plain": [
       "Matrix([\n",
       "[ 1,  2, -1],\n",
       "[-1, -2,  1]])"
      ]
     },
     "execution_count": 27,
     "metadata": {},
     "output_type": "execute_result"
    }
   ],
   "source": [
    "D.T"
   ]
  },
  {
   "cell_type": "markdown",
   "id": "dd8005e1",
   "metadata": {
    "slideshow": {
     "slide_type": "slide"
    }
   },
   "source": [
    "## 7.2.3 Several Definitions of Rectangular Singular Value Decomposition"
   ]
  },
  {
   "cell_type": "markdown",
   "id": "5e040abf",
   "metadata": {
    "slideshow": {
     "slide_type": "slide"
    }
   },
   "source": [
    "## Lectura adicional para esta subsection: [Singular Value Decompositions](https://hluebbering.github.io/posts/2021/04/27/linear-algebra-using-sympy/) "
   ]
  },
  {
   "cell_type": "markdown",
   "id": "ed518e15",
   "metadata": {
    "slideshow": {
     "slide_type": "slide"
    }
   },
   "source": [
    "### Theorem (The Singular Value Decomposition). \n",
    "\n",
    "Sea $D$ una matriz de orden $n \\times d$ con rango $r$.  \n",
    "\n",
    "Sea $E$ una matriz diagonal donde las entradas son los valores singulares no nulos de $D$  en orden decreciente.\n",
    "\n",
    "$$ \\sigma_{1} \\geq \\sigma_{2} \\geq \\cdots \\geq \\sigma_{r} > 0. $$ \n",
    "\n",
    "Sea $\\Sigma$ la matriz de orden $m \\times n$ que tiene en la esquina superior izquierda a $E$ y que sus demás entradas son cero. \n",
    "\n",
    "Entonces existe una matriz ortonormal $U$ de orden  $m \\times m$  y una matriz ortonormal $V$ de orden $n \\times n$ tal que \n",
    "\n",
    "$$ D = Q \\Sigma P^{T}. $$"
   ]
  },
  {
   "cell_type": "markdown",
   "id": "dec1cd4a",
   "metadata": {
    "slideshow": {
     "slide_type": "slide"
    }
   },
   "source": [
    "## Definición (SVD)  \n",
    "\n"
   ]
  },
  {
   "cell_type": "markdown",
   "id": "4c706776",
   "metadata": {
    "slideshow": {
     "slide_type": "slide"
    }
   },
   "source": [
    "La factorización $B = U \\Sigma V^{\\ast}$ es llamada la descomposición en valores singulares (o SVD) de $A$.  \n",
    "Las columnas de $U$ se les llaman vectores singulares izquierdos de $A$, y las columnas de $V$ son llamadas vectores singulares derechos de $A$. "
   ]
  },
  {
   "cell_type": "markdown",
   "id": "7781fc8f",
   "metadata": {
    "slideshow": {
     "slide_type": "slide"
    }
   },
   "source": [
    "## Ejercicio"
   ]
  },
  {
   "cell_type": "markdown",
   "id": "c51fb578",
   "metadata": {
    "slideshow": {
     "slide_type": "slide"
    }
   },
   "source": [
    "Calcule la descomposición en valores singulares de la siguiente matriz:\n",
    "\n",
    "$$ A = \\begin{bmatrix} 1 & -1 \\\\ 2 & -2 \\\\ -1 & 1 \\end{bmatrix} $$\n"
   ]
  },
  {
   "cell_type": "markdown",
   "id": "37f3d621",
   "metadata": {
    "slideshow": {
     "slide_type": "slide"
    }
   },
   "source": [
    "### Paso 1: Hallar una diagonalización ortogonal de $A^{\\ast}A$:"
   ]
  },
  {
   "cell_type": "markdown",
   "id": "8931b554",
   "metadata": {
    "slideshow": {
     "slide_type": "slide"
    }
   },
   "source": [
    "Aquí, encontramos los valores propios de $A^{\\ast}A$ y los vectores propios normalizados correspondientes. "
   ]
  },
  {
   "cell_type": "markdown",
   "id": "b222b3ac",
   "metadata": {
    "slideshow": {
     "slide_type": "slide"
    }
   },
   "source": [
    "Primero debemos calcular la matriz $B^{T}B$, donde $B^{T}$ es la transpuesta conjugada de $B$.\n",
    "."
   ]
  },
  {
   "cell_type": "code",
   "execution_count": 4,
   "id": "f7d33516",
   "metadata": {
    "slideshow": {
     "slide_type": "slide"
    }
   },
   "outputs": [
    {
     "data": {
      "text/latex": [
       "$\\displaystyle \\left[\\begin{matrix}6 & -6\\\\-6 & 6\\end{matrix}\\right]$"
      ],
      "text/plain": [
       "Matrix([\n",
       "[ 6, -6],\n",
       "[-6,  6]])"
      ]
     },
     "execution_count": 4,
     "metadata": {},
     "output_type": "execute_result"
    }
   ],
   "source": [
    "from sympy import *\n",
    "B = Matrix([[1,-1],[2,-2],[-1,1]])\n",
    "C = B.H*B\n",
    "C "
   ]
  },
  {
   "cell_type": "markdown",
   "id": "17560bc0",
   "metadata": {
    "slideshow": {
     "slide_type": "slide"
    }
   },
   "source": [
    "$$ B^{T}B = \\begin{bmatrix}1&2&-1\\\\-1&-2&1\\end{bmatrix} \\begin{bmatrix}1&-1\\\\2&-2\\\\-1&1 \\end{bmatrix} = \\begin{bmatrix} 6&-6\\\\-6&6 \\end{bmatrix}  $$"
   ]
  },
  {
   "cell_type": "markdown",
   "id": "a1247c95",
   "metadata": {
    "slideshow": {
     "slide_type": "slide"
    }
   },
   "source": [
    "Para obtener los valores propios, calculamos el polinomio característico."
   ]
  },
  {
   "cell_type": "code",
   "execution_count": 10,
   "id": "4ebc4b4e",
   "metadata": {
    "slideshow": {
     "slide_type": "slide"
    }
   },
   "outputs": [
    {
     "data": {
      "text/latex": [
       "$\\displaystyle \\operatorname{PurePoly}{\\left( \\lambda^{2} - 12 \\lambda, \\lambda, domain=\\mathbb{Z} \\right)}$"
      ],
      "text/plain": [
       "PurePoly(lambda**2 - 12*lambda, lambda, domain='ZZ')"
      ]
     },
     "execution_count": 10,
     "metadata": {},
     "output_type": "execute_result"
    }
   ],
   "source": [
    "p = C.charpoly()\n",
    "p "
   ]
  },
  {
   "cell_type": "code",
   "execution_count": 11,
   "id": "8b8bad8a",
   "metadata": {
    "slideshow": {
     "slide_type": "slide"
    }
   },
   "outputs": [
    {
     "data": {
      "text/latex": [
       "$\\displaystyle \\lambda \\left(\\lambda - 12\\right)$"
      ],
      "text/plain": [
       "lambda*(lambda - 12)"
      ]
     },
     "execution_count": 11,
     "metadata": {},
     "output_type": "execute_result"
    }
   ],
   "source": [
    "factor(p.as_expr())"
   ]
  },
  {
   "cell_type": "markdown",
   "id": "9e5f8d03",
   "metadata": {
    "slideshow": {
     "slide_type": "slide"
    }
   },
   "source": [
    "$$ c(\\lambda) = det\\left( \\right) = \\lambda^{2} - 12\\lambda = \\lambda(\\lambda - 12) $$"
   ]
  },
  {
   "cell_type": "code",
   "execution_count": null,
   "id": "0031c694",
   "metadata": {
    "slideshow": {
     "slide_type": "slide"
    }
   },
   "outputs": [],
   "source": []
  },
  {
   "cell_type": "code",
   "execution_count": null,
   "id": "8f32f2cd",
   "metadata": {
    "slideshow": {
     "slide_type": "slide"
    }
   },
   "outputs": [],
   "source": []
  },
  {
   "cell_type": "code",
   "execution_count": null,
   "id": "e83a6041",
   "metadata": {
    "slideshow": {
     "slide_type": "slide"
    }
   },
   "outputs": [],
   "source": []
  },
  {
   "cell_type": "code",
   "execution_count": null,
   "id": "b3e7f536",
   "metadata": {
    "slideshow": {
     "slide_type": "slide"
    }
   },
   "outputs": [],
   "source": []
  },
  {
   "cell_type": "code",
   "execution_count": null,
   "id": "53158596",
   "metadata": {
    "slideshow": {
     "slide_type": "slide"
    }
   },
   "outputs": [],
   "source": []
  },
  {
   "cell_type": "code",
   "execution_count": null,
   "id": "b83bf7ad",
   "metadata": {
    "slideshow": {
     "slide_type": "slide"
    }
   },
   "outputs": [],
   "source": []
  },
  {
   "cell_type": "markdown",
   "id": "b35a35da",
   "metadata": {
    "slideshow": {
     "slide_type": "slide"
    }
   },
   "source": [
    "## Referentes\n",
    "\n",
    "* Ejemplo de Descomposición en valores singulares para una matriz no cuadrada: https://hluebbering.github.io/posts/2021/04/27/linear-algebra-using-sympy/ \n",
    "\n",
    "* Calcular la transpuesta conjugada de una matriz compleja: https://www.geeksforgeeks.org/python-numpy-numpy-matrix-h/ "
   ]
  },
  {
   "cell_type": "code",
   "execution_count": null,
   "id": "6958f137",
   "metadata": {},
   "outputs": [],
   "source": []
  }
 ],
 "metadata": {
  "celltoolbar": "Slideshow",
  "kernelspec": {
   "display_name": "Python 3",
   "language": "python",
   "name": "python3"
  },
  "language_info": {
   "codemirror_mode": {
    "name": "ipython",
    "version": 3
   },
   "file_extension": ".py",
   "mimetype": "text/x-python",
   "name": "python",
   "nbconvert_exporter": "python",
   "pygments_lexer": "ipython3",
   "version": "3.8.8"
  },
  "latex_envs": {
   "LaTeX_envs_menu_present": true,
   "autoclose": false,
   "autocomplete": false,
   "bibliofile": "biblio.bib",
   "cite_by": "apalike",
   "current_citInitial": 1,
   "eqLabelWithNumbers": true,
   "eqNumInitial": 1,
   "hotkeys": {
    "equation": "Ctrl-E",
    "itemize": "Ctrl-I"
   },
   "labels_anchors": false,
   "latex_user_defs": false,
   "report_style_numbering": false,
   "user_envs_cfg": false
  },
  "rise": {
   "enable_chalkboard": true,
   "theme": "sky",
   "transition": "zoom"
  }
 },
 "nbformat": 4,
 "nbformat_minor": 5
}
