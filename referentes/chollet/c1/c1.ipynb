{
 "cells": [
  {
   "cell_type": "markdown",
   "id": "8ccc9d9a",
   "metadata": {
    "slideshow": {
     "slide_type": "slide"
    }
   },
   "source": [
    "<table align=\"left\">\n",
    "  <td>\n",
    "    <a href=\"https://colab.research.google.com/github/marco-canas/didactica_ciencia_datos/blob/main/referentes/chollet/c1/c1.ipynb\" target=\"_parent\"><img src=\"https://colab.research.google.com/assets/colab-badge.svg\" alt=\"Open In Colab\"/></a>\n",
    "  </td>\n",
    "</table>"
   ]
  },
  {
   "cell_type": "markdown",
   "id": "4513782f",
   "metadata": {
    "slideshow": {
     "slide_type": "slide"
    }
   },
   "source": [
    "# Capítulo 1 Francois Chollet "
   ]
  },
  {
   "cell_type": "markdown",
   "id": "f1b7eef3",
   "metadata": {
    "slideshow": {
     "slide_type": "slide"
    }
   },
   "source": [
    "Este capítulo cubre\n",
    "\n",
    "* Definiciones de alto nivel de conceptos fundamentales\n",
    "* Cronología del desarrollo del aprendizaje automático\n",
    "* Factores clave detrás de la creciente popularidad y potencial futuro del aprendizaje profundo"
   ]
  },
  {
   "cell_type": "markdown",
   "id": "d91a8ff7",
   "metadata": {
    "slideshow": {
     "slide_type": "slide"
    }
   },
   "source": [
    "En los últimos años, la inteligencia artificial (IA) ha sido un tema de intensa publicidad mediática."
   ]
  },
  {
   "cell_type": "markdown",
   "id": "8a90cffd",
   "metadata": {
    "slideshow": {
     "slide_type": "slide"
    }
   },
   "source": [
    "El aprendizaje automático, el aprendizaje profundo y la IA aparecen en innumerables artículos, a menudo fuera de las publicaciones de mentalidad tecnológica."
   ]
  },
  {
   "cell_type": "markdown",
   "id": "1d8b2c2b",
   "metadata": {
    "slideshow": {
     "slide_type": "slide"
    }
   },
   "source": [
    "Se nos promete un futuro de chatbots inteligentes, autos autónomos y asistentes virtuales, un futuro que a veces se pinta con una luz sombría y otras como utópico, donde los trabajos humanos serán escasos y la mayor parte de la actividad económica estará a cargo de robots o IA. agentes"
   ]
  },
  {
   "cell_type": "markdown",
   "id": "b8678ec6",
   "metadata": {
    "slideshow": {
     "slide_type": "slide"
    }
   },
   "source": [
    "Para un practicante futuro o actual del aprendizaje automático, es importante poder reconocer la señal en medio del ruido, de modo que pueda distinguir los desarrollos que cambian el mundo a partir de comunicados de prensa exagerados."
   ]
  },
  {
   "cell_type": "markdown",
   "id": "a72b5628",
   "metadata": {
    "slideshow": {
     "slide_type": "slide"
    }
   },
   "source": [
    "Nuestro futuro está en juego, y es un futuro en el que usted tiene un papel activo que desempeñar: después de leer este libro, será uno de los que desarrollen esos sistemas de IA."
   ]
  },
  {
   "cell_type": "markdown",
   "id": "0de33a58",
   "metadata": {
    "slideshow": {
     "slide_type": "slide"
    }
   },
   "source": [
    "Entonces, abordemos estas preguntas: ¿Qué ha logrado el aprendizaje profundo hasta ahora?"
   ]
  },
  {
   "cell_type": "markdown",
   "id": "dd8be1fa",
   "metadata": {
    "slideshow": {
     "slide_type": "slide"
    }
   },
   "source": [
    "¿Qué tan importante es?"
   ]
  },
  {
   "cell_type": "markdown",
   "id": "69f85b5f",
   "metadata": {
    "slideshow": {
     "slide_type": "slide"
    }
   },
   "source": [
    "¿Hacia dónde nos dirigimos ahora? ¿Deberías creer el bombo?\n",
    " "
   ]
  },
  {
   "cell_type": "markdown",
   "id": "8af45014",
   "metadata": {
    "slideshow": {
     "slide_type": "slide"
    }
   },
   "source": [
    "Este capítulo proporciona un contexto esencial en torno a la inteligencia artificial, el aprendizaje automático y el aprendizaje profundo."
   ]
  },
  {
   "cell_type": "markdown",
   "id": "820a7649",
   "metadata": {
    "slideshow": {
     "slide_type": "slide"
    }
   },
   "source": [
    "## 1.1 Artificial intelligence, machine learning, and deep learning"
   ]
  },
  {
   "cell_type": "markdown",
   "id": "4d30dac8",
   "metadata": {
    "slideshow": {
     "slide_type": "slide"
    }
   },
   "source": [
    "Primero, debemos definir claramente de qué estamos hablando cuando mencionamos la IA."
   ]
  },
  {
   "cell_type": "markdown",
   "id": "53fba7c6",
   "metadata": {
    "slideshow": {
     "slide_type": "slide"
    }
   },
   "source": [
    "¿Qué son la inteligencia artificial, el aprendizaje automático y el aprendizaje profundo (consulte la figura 1.1)?"
   ]
  },
  {
   "cell_type": "markdown",
   "id": "b7d12c1d",
   "metadata": {
    "slideshow": {
     "slide_type": "slide"
    }
   },
   "source": [
    "¿Cómo se relacionan entre sí?"
   ]
  },
  {
   "cell_type": "markdown",
   "id": "6fc9d91b",
   "metadata": {
    "slideshow": {
     "slide_type": "slide"
    }
   },
   "source": [
    "<img src = 'https://github.com/marco-canas/didactica_ciencia_datos/blob/main/referentes/chollet/c1/figure_1_1.png?raw=true'>"
   ]
  },
  {
   "cell_type": "markdown",
   "id": "92e18b0d",
   "metadata": {
    "slideshow": {
     "slide_type": "slide"
    }
   },
   "source": [
    "### 1.1.1 Artificial intelligence"
   ]
  },
  {
   "cell_type": "markdown",
   "id": "e3be6127",
   "metadata": {
    "slideshow": {
     "slide_type": "slide"
    }
   },
   "source": [
    "La inteligencia artificial nació en la década de 1950, cuando un puñado de pioneros del incipiente campo de la informática comenzó a preguntarse si se podía hacer que las computadoras \"pensaran\", una pregunta cuyas ramificaciones todavía estamos explorando en la actualidad."
   ]
  },
  {
   "cell_type": "markdown",
   "id": "49e56981",
   "metadata": {
    "slideshow": {
     "slide_type": "slide"
    }
   },
   "source": [
    "While many of the underlying ideas had been brewing in the years and even decades prior, “artificial intelligence” finally crystallized as a field of research in 1956, when John McCarthy, then a young Assistant Professor of Mathematics at Dartmouth\n",
    "College, organized a summer workshop under the following proposal:"
   ]
  },
  {
   "cell_type": "markdown",
   "id": "f7f7b30f",
   "metadata": {
    "slideshow": {
     "slide_type": "slide"
    }
   },
   "source": [
    "The study is to proceed on the basis of the conjecture that every aspect of learning or any other feature of intelligence can in principle be so precisely described that a machine can be made to simulate it. "
   ]
  },
  {
   "cell_type": "markdown",
   "id": "26a3f87b",
   "metadata": {
    "slideshow": {
     "slide_type": "slide"
    }
   },
   "source": [
    "An attempt will be made to find how to make machines use language, form abstractions and concepts, solve kinds of problems now reserved for humans, and improve themselves."
   ]
  },
  {
   "cell_type": "markdown",
   "id": "c1dd761b",
   "metadata": {
    "slideshow": {
     "slide_type": "slide"
    }
   },
   "source": [
    "Creemos que se puede lograr un avance significativo en uno o más de estos problemas si un grupo cuidadosamente seleccionado de científicos trabaja juntos durante un verano."
   ]
  },
  {
   "cell_type": "markdown",
   "id": "4f1605bc",
   "metadata": {
    "slideshow": {
     "slide_type": "slide"
    }
   },
   "source": [
    "Al final del verano, el taller concluyó sin haber resuelto por completo el enigma que se propuso investigar."
   ]
  },
  {
   "cell_type": "markdown",
   "id": "e60239a6",
   "metadata": {
    "slideshow": {
     "slide_type": "slide"
    }
   },
   "source": [
    "Sin embargo, contó con la asistencia de muchas personas que se convertirían en pioneros en el campo, y puso en marcha una revolución intelectual que continúa hasta el día de hoy."
   ]
  },
  {
   "cell_type": "markdown",
   "id": "66a751ae",
   "metadata": {
    "slideshow": {
     "slide_type": "slide"
    }
   },
   "source": [
    "De manera concisa, la IA se puede describir como el esfuerzo por automatizar las tareas intelectuales que normalmente realizan los humanos."
   ]
  },
  {
   "cell_type": "markdown",
   "id": "3d1839df",
   "metadata": {
    "slideshow": {
     "slide_type": "slide"
    }
   },
   "source": [
    "Como tal, la IA es un campo general que abarca el aprendizaje automático y el aprendizaje profundo, pero que también incluye muchos más enfoques que pueden no implicar ningún aprendizaje."
   ]
  },
  {
   "cell_type": "markdown",
   "id": "f0edfd64",
   "metadata": {
    "slideshow": {
     "slide_type": "slide"
    }
   },
   "source": [
    "¡Considere que hasta la década de 1980, la mayoría de los libros de texto de IA no mencionaban el \"aprendizaje\" en absoluto! Los primeros programas de ajedrez, por ejemplo, solo involucraban reglas codificadas creadas por programadores y no calificaban como aprendizaje automático."
   ]
  },
  {
   "cell_type": "markdown",
   "id": "721122f5",
   "metadata": {
    "slideshow": {
     "slide_type": "slide"
    }
   },
   "source": [
    "De hecho, durante bastante tiempo, la mayoría de los expertos creyeron que la inteligencia artificial a nivel humano podría lograrse haciendo que los programadores crearan a mano un conjunto suficientemente grande de reglas explícitas para manipular el conocimiento almacenado en bases de datos explícitas."
   ]
  },
  {
   "cell_type": "markdown",
   "id": "039dc5a3",
   "metadata": {
    "slideshow": {
     "slide_type": "slide"
    }
   },
   "source": [
    "Este enfoque se conoce como IA simbólica."
   ]
  },
  {
   "cell_type": "markdown",
   "id": "0c96c7f5",
   "metadata": {
    "slideshow": {
     "slide_type": "slide"
    }
   },
   "source": [
    "It was the dominant paradigm in AI from the 1950s to the late 1980s, and it reached its peak popularity during the expert systems boom of the 1980s."
   ]
  },
  {
   "cell_type": "markdown",
   "id": "5e96915a",
   "metadata": {
    "slideshow": {
     "slide_type": "slide"
    }
   },
   "source": [
    "Although symbolic AI proved suitable to solve well-defined, logical problems, such as playing chess, it turned out to be intractable to figure out explicit rules for solving more complex, fuzzy problems, such as image classification, speech recognition, or natural language translation. A new approach arose to take symbolic AI’s place:\n",
    "machine learning. "
   ]
  },
  {
   "cell_type": "markdown",
   "id": "b09b87c1",
   "metadata": {
    "slideshow": {
     "slide_type": "slide"
    }
   },
   "source": [
    "### 1.1.2 Machine learning"
   ]
  },
  {
   "cell_type": "markdown",
   "id": "27e1a9a6",
   "metadata": {
    "slideshow": {
     "slide_type": "slide"
    }
   },
   "source": [
    "In Victorian England, Lady Ada Lovelace was a friend and collaborator of Charles\n",
    "Babbage, the inventor of the Analytical Engine: the first-known general-purpose\n",
    "mechanical computer. Although visionary and far ahead of its time, the Analytical\n",
    "Engine wasn’t meant as a general-purpose computer when it was designed in the\n",
    "1830s and 1840s, because the concept of general-purpose computation was yet to be\n",
    "invented. It was merely meant as a way to use mechanical operations to automate cer\u0002tain computations from the field of mathematical analysis—hence the name Analyti\u0002cal Engine. As such, it was the intellectual descendant of earlier attempts at encoding\n",
    "mathematical operations in gear form, such as the Pascaline, or Leibniz’s step reck\u0002oner, a refined version of the Pascaline. Designed by Blaise Pascal in 1642 (at age 19!),\n",
    "the Pascaline was the world’s first mechanical calculator—it could add, subtract, mul\u0002tiply, or even divide digits.\n",
    " In 1843, Ada Lovelace remarked on the invention of the Analytical Engine,\n",
    "The Analytical Engine has no pretensions whatever to originate anything. It can do\n",
    "whatever we know how to order it to perform. . . . Its province is to assist us in making\n",
    "available what we’re already acquainted with."
   ]
  },
  {
   "cell_type": "markdown",
   "id": "1bc7d01e",
   "metadata": {
    "slideshow": {
     "slide_type": "slide"
    }
   },
   "source": [
    "Even with 178 years of historical perspective, Lady Lovelace’s observation remains\n",
    "arresting. Could a general-purpose computer “originate” anything, or would it always be\n",
    "bound to dully execute processes we humans fully understand? Could it ever be capable\n",
    "of any original thought? Could it learn from experience? Could it show creativity?"
   ]
  },
  {
   "cell_type": "markdown",
   "id": "bcc3b42b",
   "metadata": {
    "slideshow": {
     "slide_type": "slide"
    }
   },
   "source": [
    "Her remark was later quoted by AI pioneer Alan Turing as “Lady Lovelace’s objection” in his landmark 1950 paper “Computing Machinery and Intelligence,”1 which introduced the Turing test as well as key concepts that would come to shape AI.2\n",
    " "
   ]
  },
  {
   "cell_type": "markdown",
   "id": "985d05df",
   "metadata": {
    "slideshow": {
     "slide_type": "slide"
    }
   },
   "source": [
    "Turing was of the opinion—highly provocative at the time—that computers could in principle be made to emulate all aspects of human intelligence."
   ]
  },
  {
   "cell_type": "markdown",
   "id": "b6d42805",
   "metadata": {
    "slideshow": {
     "slide_type": "slide"
    }
   },
   "source": [
    "The usual way to make a computer do useful work is to have a human programmer write down rules—a computer program—to be followed to turn input data into appropriate answers, just like Lady Lovelace writing down step-by-step instructions for the Analytical Engine to perform. "
   ]
  },
  {
   "cell_type": "markdown",
   "id": "b5209477",
   "metadata": {
    "slideshow": {
     "slide_type": "slide"
    }
   },
   "source": [
    "Machine learning turns this around: the machine looks at the input data and the corresponding answers, and figures out what the rules should be (see figure 1.2). "
   ]
  },
  {
   "cell_type": "markdown",
   "id": "ea172159",
   "metadata": {
    "slideshow": {
     "slide_type": "slide"
    }
   },
   "source": [
    "A machine learning system is trained rather than explicitly programmed. "
   ]
  },
  {
   "cell_type": "markdown",
   "id": "8348a9b1",
   "metadata": {
    "slideshow": {
     "slide_type": "slide"
    }
   },
   "source": [
    "It’s presented with many examples relevant to a task, and it finds statistical structure in these examples that eventually allows the system to come up with rules for automating the task. "
   ]
  },
  {
   "cell_type": "markdown",
   "id": "34bb9e2f",
   "metadata": {
    "slideshow": {
     "slide_type": "slide"
    }
   },
   "source": [
    "For instance, if you wished to automate the task of tagging your vacation pictures, you could present a machine learning system with many examples of pictures already tagged by humans, and the system would learn statistical rules for associating specific pictures to specific tags."
   ]
  },
  {
   "cell_type": "markdown",
   "id": "c87f54cb",
   "metadata": {
    "slideshow": {
     "slide_type": "slide"
    }
   },
   "source": [
    "<img src = ''>"
   ]
  },
  {
   "cell_type": "code",
   "execution_count": null,
   "id": "6c944b41",
   "metadata": {
    "slideshow": {
     "slide_type": "slide"
    }
   },
   "outputs": [],
   "source": []
  },
  {
   "cell_type": "code",
   "execution_count": null,
   "id": "2532a59f",
   "metadata": {},
   "outputs": [],
   "source": []
  },
  {
   "cell_type": "code",
   "execution_count": null,
   "id": "b6962bb3",
   "metadata": {},
   "outputs": [],
   "source": []
  },
  {
   "cell_type": "code",
   "execution_count": null,
   "id": "a4b9ee7e",
   "metadata": {},
   "outputs": [],
   "source": []
  },
  {
   "cell_type": "code",
   "execution_count": null,
   "id": "f6d32bb1",
   "metadata": {},
   "outputs": [],
   "source": []
  }
 ],
 "metadata": {
  "celltoolbar": "Slideshow",
  "kernelspec": {
   "display_name": "Python 3 (ipykernel)",
   "language": "python",
   "name": "python3"
  },
  "language_info": {
   "codemirror_mode": {
    "name": "ipython",
    "version": 3
   },
   "file_extension": ".py",
   "mimetype": "text/x-python",
   "name": "python",
   "nbconvert_exporter": "python",
   "pygments_lexer": "ipython3",
   "version": "3.9.12"
  }
 },
 "nbformat": 4,
 "nbformat_minor": 5
}
