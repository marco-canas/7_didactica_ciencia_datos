{
 "cells": [
  {
   "cell_type": "markdown",
   "id": "8ccc9d9a",
   "metadata": {
    "slideshow": {
     "slide_type": "slide"
    }
   },
   "source": []
  },
  {
   "cell_type": "markdown",
   "id": "4513782f",
   "metadata": {
    "slideshow": {
     "slide_type": "slide"
    }
   },
   "source": [
    "# Capítulo 1 Francois Chollet "
   ]
  },
  {
   "cell_type": "markdown",
   "id": "f1b7eef3",
   "metadata": {
    "slideshow": {
     "slide_type": "slide"
    }
   },
   "source": [
    "Este capítulo cubre\n",
    "\n",
    "* Definiciones de alto nivel de conceptos fundamentales\n",
    "* Cronología del desarrollo del aprendizaje automático\n",
    "* Factores clave detrás de la creciente popularidad y potencial futuro del aprendizaje profundo"
   ]
  },
  {
   "cell_type": "markdown",
   "id": "d91a8ff7",
   "metadata": {
    "slideshow": {
     "slide_type": "slide"
    }
   },
   "source": [
    "In the past few years, artificial intelligence (AI) has been a subject of intense media hype. "
   ]
  },
  {
   "cell_type": "markdown",
   "id": "8a90cffd",
   "metadata": {
    "slideshow": {
     "slide_type": "slide"
    }
   },
   "source": [
    "Machine learning, deep learning, and AI come up in countless articles, often outside of technology-minded publications. "
   ]
  },
  {
   "cell_type": "markdown",
   "id": "1d8b2c2b",
   "metadata": {
    "slideshow": {
     "slide_type": "slide"
    }
   },
   "source": [
    "We’re promised a future of intelligent chatbots, self-driving cars, and virtual assistants—a future sometimes painted in a\n",
    "grim light and other times as utopian, where human jobs will be scarce and most economic activity will be handled by robots or AI agents. "
   ]
  },
  {
   "cell_type": "markdown",
   "id": "b8678ec6",
   "metadata": {
    "slideshow": {
     "slide_type": "slide"
    }
   },
   "source": [
    "For a future or current practitioner of machine learning, it’s important to be able to recognize the signal amid the noise, so that you can tell world-changing developments from overhyped press releases. "
   ]
  },
  {
   "cell_type": "markdown",
   "id": "a72b5628",
   "metadata": {
    "slideshow": {
     "slide_type": "slide"
    }
   },
   "source": [
    "Our future is at stake, and it’s a future in which you have an active role to play: after reading this book, you’ll be one of those who develop those AI systems. "
   ]
  },
  {
   "cell_type": "markdown",
   "id": "0de33a58",
   "metadata": {
    "slideshow": {
     "slide_type": "slide"
    }
   },
   "source": [
    "So let’s tackle these questions: What has deep learning achieved so far?"
   ]
  },
  {
   "cell_type": "markdown",
   "id": "dd8be1fa",
   "metadata": {
    "slideshow": {
     "slide_type": "slide"
    }
   },
   "source": [
    "How significant is it? "
   ]
  },
  {
   "cell_type": "markdown",
   "id": "69f85b5f",
   "metadata": {
    "slideshow": {
     "slide_type": "slide"
    }
   },
   "source": [
    "Where are we headed next? Should you believe the hype?\n",
    " "
   ]
  },
  {
   "cell_type": "markdown",
   "id": "8af45014",
   "metadata": {
    "slideshow": {
     "slide_type": "slide"
    }
   },
   "source": [
    "This chapter provides essential context around artificial intelligence, machine learning, and deep learning."
   ]
  },
  {
   "cell_type": "code",
   "execution_count": null,
   "id": "bb6e145e",
   "metadata": {
    "slideshow": {
     "slide_type": "slide"
    }
   },
   "outputs": [],
   "source": []
  },
  {
   "cell_type": "code",
   "execution_count": null,
   "id": "2094b419",
   "metadata": {
    "slideshow": {
     "slide_type": "slide"
    }
   },
   "outputs": [],
   "source": []
  },
  {
   "cell_type": "code",
   "execution_count": null,
   "id": "c900e130",
   "metadata": {},
   "outputs": [],
   "source": []
  },
  {
   "cell_type": "code",
   "execution_count": null,
   "id": "0ac2663e",
   "metadata": {},
   "outputs": [],
   "source": []
  },
  {
   "cell_type": "code",
   "execution_count": null,
   "id": "062c4a6c",
   "metadata": {},
   "outputs": [],
   "source": []
  },
  {
   "cell_type": "code",
   "execution_count": null,
   "id": "6c944b41",
   "metadata": {},
   "outputs": [],
   "source": []
  },
  {
   "cell_type": "code",
   "execution_count": null,
   "id": "2532a59f",
   "metadata": {},
   "outputs": [],
   "source": []
  },
  {
   "cell_type": "code",
   "execution_count": null,
   "id": "b6962bb3",
   "metadata": {},
   "outputs": [],
   "source": []
  },
  {
   "cell_type": "code",
   "execution_count": null,
   "id": "a4b9ee7e",
   "metadata": {},
   "outputs": [],
   "source": []
  },
  {
   "cell_type": "code",
   "execution_count": null,
   "id": "f6d32bb1",
   "metadata": {},
   "outputs": [],
   "source": []
  }
 ],
 "metadata": {
  "celltoolbar": "Slideshow",
  "kernelspec": {
   "display_name": "Python 3 (ipykernel)",
   "language": "python",
   "name": "python3"
  },
  "language_info": {
   "codemirror_mode": {
    "name": "ipython",
    "version": 3
   },
   "file_extension": ".py",
   "mimetype": "text/x-python",
   "name": "python",
   "nbconvert_exporter": "python",
   "pygments_lexer": "ipython3",
   "version": "3.9.12"
  }
 },
 "nbformat": 4,
 "nbformat_minor": 5
}
