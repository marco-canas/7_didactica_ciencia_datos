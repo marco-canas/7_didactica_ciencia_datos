{
 "cells": [
  {
   "cell_type": "markdown",
   "id": "8ccc9d9a",
   "metadata": {
    "slideshow": {
     "slide_type": "slide"
    }
   },
   "source": [
    "<table align=\"left\">\n",
    "  <td>\n",
    "    <a href=\"https://colab.research.google.com/github/marco-canas/didactica_ciencia_datos/blob/main/referentes/chollet/c1/c1.ipynb\" target=\"_parent\"><img src=\"https://colab.research.google.com/assets/colab-badge.svg\" alt=\"Open In Colab\"/></a>\n",
    "  </td>\n",
    "</table>"
   ]
  },
  {
   "cell_type": "markdown",
   "id": "4513782f",
   "metadata": {
    "slideshow": {
     "slide_type": "slide"
    }
   },
   "source": [
    "# Capítulo 1 Francois Chollet "
   ]
  },
  {
   "cell_type": "markdown",
   "id": "f1b7eef3",
   "metadata": {
    "slideshow": {
     "slide_type": "slide"
    }
   },
   "source": [
    "Este capítulo cubre\n",
    "\n",
    "* Definiciones de alto nivel de conceptos fundamentales\n",
    "* Cronología del desarrollo del aprendizaje automático\n",
    "* Factores clave detrás de la creciente popularidad y potencial futuro del aprendizaje profundo"
   ]
  },
  {
   "cell_type": "markdown",
   "id": "d91a8ff7",
   "metadata": {
    "slideshow": {
     "slide_type": "slide"
    }
   },
   "source": [
    "En los últimos años, la inteligencia artificial (IA) ha sido un tema de intensa publicidad mediática."
   ]
  },
  {
   "cell_type": "markdown",
   "id": "8a90cffd",
   "metadata": {
    "slideshow": {
     "slide_type": "slide"
    }
   },
   "source": [
    "El aprendizaje automático, el aprendizaje profundo y la IA aparecen en innumerables artículos, a menudo fuera de las publicaciones de mentalidad tecnológica."
   ]
  },
  {
   "cell_type": "markdown",
   "id": "1d8b2c2b",
   "metadata": {
    "slideshow": {
     "slide_type": "slide"
    }
   },
   "source": [
    "Se nos promete un futuro de chatbots inteligentes, autos autónomos y asistentes virtuales, un futuro que a veces se pinta con una luz sombría y otras como utópico, donde los trabajos humanos serán escasos y la mayor parte de la actividad económica estará a cargo de robots o IA. agentes"
   ]
  },
  {
   "cell_type": "markdown",
   "id": "b8678ec6",
   "metadata": {
    "slideshow": {
     "slide_type": "slide"
    }
   },
   "source": [
    "Para un practicante futuro o actual del aprendizaje automático, es importante poder reconocer la señal en medio del ruido, de modo que pueda distinguir los desarrollos que cambian el mundo a partir de comunicados de prensa exagerados."
   ]
  },
  {
   "cell_type": "markdown",
   "id": "a72b5628",
   "metadata": {
    "slideshow": {
     "slide_type": "slide"
    }
   },
   "source": [
    "Nuestro futuro está en juego, y es un futuro en el que usted tiene un papel activo que desempeñar: después de leer este libro, será uno de los que desarrollen esos sistemas de IA."
   ]
  },
  {
   "cell_type": "markdown",
   "id": "0de33a58",
   "metadata": {
    "slideshow": {
     "slide_type": "slide"
    }
   },
   "source": [
    "Entonces, abordemos estas preguntas: ¿Qué ha logrado el aprendizaje profundo hasta ahora?"
   ]
  },
  {
   "cell_type": "markdown",
   "id": "dd8be1fa",
   "metadata": {
    "slideshow": {
     "slide_type": "slide"
    }
   },
   "source": [
    "How significant is it? "
   ]
  },
  {
   "cell_type": "markdown",
   "id": "69f85b5f",
   "metadata": {
    "slideshow": {
     "slide_type": "slide"
    }
   },
   "source": [
    "Where are we headed next? Should you believe the hype?\n",
    " "
   ]
  },
  {
   "cell_type": "markdown",
   "id": "8af45014",
   "metadata": {
    "slideshow": {
     "slide_type": "slide"
    }
   },
   "source": [
    "This chapter provides essential context around artificial intelligence, machine learning, and deep learning."
   ]
  },
  {
   "cell_type": "markdown",
   "id": "442c3fe4",
   "metadata": {
    "slideshow": {
     "slide_type": "slide"
    }
   },
   "source": [
    "## 1.1 Artificial intelligence, machine learning, and deep learning"
   ]
  },
  {
   "cell_type": "markdown",
   "id": "75356d41",
   "metadata": {
    "slideshow": {
     "slide_type": "slide"
    }
   },
   "source": [
    "First, we need to define clearly what we’re talking about when we mention AI. "
   ]
  },
  {
   "cell_type": "markdown",
   "id": "a22e5550",
   "metadata": {
    "slideshow": {
     "slide_type": "slide"
    }
   },
   "source": [
    "What are artificial intelligence, machine learning, and deep learning (see figure 1.1)? "
   ]
  },
  {
   "cell_type": "markdown",
   "id": "938ad372",
   "metadata": {
    "slideshow": {
     "slide_type": "slide"
    }
   },
   "source": [
    "How do they relate to each other? "
   ]
  },
  {
   "cell_type": "markdown",
   "id": "da084f42",
   "metadata": {
    "slideshow": {
     "slide_type": "slide"
    }
   },
   "source": [
    "<img src = ''>"
   ]
  },
  {
   "cell_type": "code",
   "execution_count": null,
   "id": "c900e130",
   "metadata": {},
   "outputs": [],
   "source": []
  },
  {
   "cell_type": "code",
   "execution_count": null,
   "id": "0ac2663e",
   "metadata": {},
   "outputs": [],
   "source": []
  },
  {
   "cell_type": "code",
   "execution_count": null,
   "id": "062c4a6c",
   "metadata": {},
   "outputs": [],
   "source": []
  },
  {
   "cell_type": "code",
   "execution_count": null,
   "id": "6c944b41",
   "metadata": {},
   "outputs": [],
   "source": []
  },
  {
   "cell_type": "code",
   "execution_count": null,
   "id": "2532a59f",
   "metadata": {},
   "outputs": [],
   "source": []
  },
  {
   "cell_type": "code",
   "execution_count": null,
   "id": "b6962bb3",
   "metadata": {},
   "outputs": [],
   "source": []
  },
  {
   "cell_type": "code",
   "execution_count": null,
   "id": "a4b9ee7e",
   "metadata": {},
   "outputs": [],
   "source": []
  },
  {
   "cell_type": "code",
   "execution_count": null,
   "id": "f6d32bb1",
   "metadata": {},
   "outputs": [],
   "source": []
  }
 ],
 "metadata": {
  "celltoolbar": "Slideshow",
  "kernelspec": {
   "display_name": "Python 3 (ipykernel)",
   "language": "python",
   "name": "python3"
  },
  "language_info": {
   "codemirror_mode": {
    "name": "ipython",
    "version": 3
   },
   "file_extension": ".py",
   "mimetype": "text/x-python",
   "name": "python",
   "nbconvert_exporter": "python",
   "pygments_lexer": "ipython3",
   "version": "3.9.12"
  }
 },
 "nbformat": 4,
 "nbformat_minor": 5
}
