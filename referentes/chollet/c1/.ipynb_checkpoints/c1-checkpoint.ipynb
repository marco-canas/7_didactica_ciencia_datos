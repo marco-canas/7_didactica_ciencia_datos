{
 "cells": [
  {
   "cell_type": "markdown",
   "id": "6eee99be",
   "metadata": {
    "slideshow": {
     "slide_type": "slide"
    }
   },
   "source": []
  },
  {
   "cell_type": "markdown",
   "id": "86adf375",
   "metadata": {
    "slideshow": {
     "slide_type": "slide"
    }
   },
   "source": [
    "# Capítulo 1 Francois Chollet "
   ]
  },
  {
   "cell_type": "markdown",
   "id": "a547cad9",
   "metadata": {
    "slideshow": {
     "slide_type": "slide"
    }
   },
   "source": [
    "Este capítulo cubre\n",
    "\n",
    "* Definiciones de alto nivel de conceptos fundamentales\n",
    "* Cronología del desarrollo del aprendizaje automático\n",
    "* Factores clave detrás de la creciente popularidad y potencial futuro del aprendizaje profundo"
   ]
  },
  {
   "cell_type": "markdown",
   "id": "6ebfe8dd",
   "metadata": {
    "slideshow": {
     "slide_type": "slide"
    }
   },
   "source": [
    "In the past few years, artificial intelligence (AI) has been a subject of intense media hype. "
   ]
  },
  {
   "cell_type": "markdown",
   "id": "8dc3ad81",
   "metadata": {
    "slideshow": {
     "slide_type": "slide"
    }
   },
   "source": [
    "Machine learning, deep learning, and AI come up in countless articles, often outside of technology-minded publications. "
   ]
  },
  {
   "cell_type": "markdown",
   "id": "31bbb7a0",
   "metadata": {
    "slideshow": {
     "slide_type": "slide"
    }
   },
   "source": [
    "We’re promised a future of intelligent chatbots, self-driving cars, and virtual assistants—a future sometimes painted in a\n",
    "grim light and other times as utopian, where human jobs will be scarce and most economic activity will be handled by robots or AI agents. "
   ]
  },
  {
   "cell_type": "markdown",
   "id": "caa7b1ed",
   "metadata": {
    "slideshow": {
     "slide_type": "slide"
    }
   },
   "source": [
    "For a future or current practitioner of machine learning, it’s important to be able to recognize the signal amid the noise, so that you can tell world-changing developments from overhyped press releases. "
   ]
  },
  {
   "cell_type": "markdown",
   "id": "8cf8df9c",
   "metadata": {
    "slideshow": {
     "slide_type": "slide"
    }
   },
   "source": [
    "Our future is at stake, and it’s a future in which you have an active role to play: after reading this book, you’ll be one of those who develop those AI systems. "
   ]
  },
  {
   "cell_type": "markdown",
   "id": "bb5b50c2",
   "metadata": {
    "slideshow": {
     "slide_type": "slide"
    }
   },
   "source": [
    "So let’s tackle these questions: What has deep learning achieved so far?"
   ]
  },
  {
   "cell_type": "markdown",
   "id": "9a74c635",
   "metadata": {
    "slideshow": {
     "slide_type": "slide"
    }
   },
   "source": [
    "How significant is it? "
   ]
  },
  {
   "cell_type": "markdown",
   "id": "2830906c",
   "metadata": {
    "slideshow": {
     "slide_type": "slide"
    }
   },
   "source": [
    "Where are we headed next? Should you believe the hype?\n",
    " "
   ]
  },
  {
   "cell_type": "markdown",
   "id": "95752d7e",
   "metadata": {
    "slideshow": {
     "slide_type": "slide"
    }
   },
   "source": [
    "This chapter provides essential context around artificial intelligence, machine learning, and deep learning."
   ]
  },
  {
   "cell_type": "code",
   "execution_count": null,
   "id": "6d21582a",
   "metadata": {
    "slideshow": {
     "slide_type": "slide"
    }
   },
   "outputs": [],
   "source": []
  },
  {
   "cell_type": "code",
   "execution_count": null,
   "id": "beda9a41",
   "metadata": {
    "slideshow": {
     "slide_type": "slide"
    }
   },
   "outputs": [],
   "source": []
  },
  {
   "cell_type": "code",
   "execution_count": null,
   "id": "e93e7e56",
   "metadata": {},
   "outputs": [],
   "source": []
  },
  {
   "cell_type": "code",
   "execution_count": null,
   "id": "b3da9e89",
   "metadata": {},
   "outputs": [],
   "source": []
  },
  {
   "cell_type": "code",
   "execution_count": null,
   "id": "0da966cb",
   "metadata": {},
   "outputs": [],
   "source": []
  },
  {
   "cell_type": "code",
   "execution_count": null,
   "id": "43fedde2",
   "metadata": {},
   "outputs": [],
   "source": []
  },
  {
   "cell_type": "code",
   "execution_count": null,
   "id": "050e5c54",
   "metadata": {},
   "outputs": [],
   "source": []
  },
  {
   "cell_type": "code",
   "execution_count": null,
   "id": "e2c269f7",
   "metadata": {},
   "outputs": [],
   "source": []
  },
  {
   "cell_type": "code",
   "execution_count": null,
   "id": "90661c2c",
   "metadata": {},
   "outputs": [],
   "source": []
  },
  {
   "cell_type": "code",
   "execution_count": null,
   "id": "4d692b2a",
   "metadata": {},
   "outputs": [],
   "source": []
  }
 ],
 "metadata": {
  "celltoolbar": "Slideshow",
  "kernelspec": {
   "display_name": "Python 3 (ipykernel)",
   "language": "python",
   "name": "python3"
  },
  "language_info": {
   "codemirror_mode": {
    "name": "ipython",
    "version": 3
   },
   "file_extension": ".py",
   "mimetype": "text/x-python",
   "name": "python",
   "nbconvert_exporter": "python",
   "pygments_lexer": "ipython3",
   "version": "3.9.12"
  }
 },
 "nbformat": 4,
 "nbformat_minor": 5
}
